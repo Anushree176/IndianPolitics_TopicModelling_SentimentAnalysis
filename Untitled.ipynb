{
 "cells": [
  {
   "cell_type": "markdown",
   "metadata": {},
   "source": [
    "# Implementation of  *Latent Dirichlet Allocation* algorithm with Gensim and Mallet\n",
    "---"
   ]
  },
  {
   "cell_type": "code",
   "execution_count": 1,
   "metadata": {},
   "outputs": [],
   "source": [
    "import pandas as pd\n",
    "from pprint import pprint\n",
    "import gensim\n",
    "import gensim.corpora as corpora\n",
    "from gensim.utils import simple_preprocess\n",
    "from gensim.models import CoherenceModel\n",
    "import gensim.test.utils \n",
    "import spacy\n",
    "import en_core_web_sm\n",
    "import nltk \n",
    "#nltk.download('stopwords') - if needed\n",
    "# from nltk.corpus import stopwords\n",
    "\n",
    "from gensim.parsing.preprocessing import STOPWORDS\n",
    "import tqdm\n",
    "import pyLDAvis\n",
    "import pyLDAvis.gensim_models as gensimvis\n",
    "%matplotlib inline\n",
    "import matplotlib.pyplot as plt\n",
    "\n",
    "import os\n",
    "from gensim.models.wrappers import LdaMallet\n",
    "os.environ.update({'MALLET_HOME':r'C:/new_mallet/mallet-2.0.8/'}) \n",
    "#You should update this path as per the path of Mallet directory on your system.\n",
    "mallet_path = 'C:\\\\new_mallet\\\\mallet-2.0.8\\\\bin\\\\mallet' \n",
    "#You should update this path as per the path of Mallet directory on your system.\n",
    "\n",
    "import warnings\n",
    "warnings.filterwarnings('ignore')"
   ]
  },
  {
   "cell_type": "code",
   "execution_count": 2,
   "metadata": {},
   "outputs": [
    {
     "data": {
      "text/html": [
       "<div>\n",
       "<style scoped>\n",
       "    .dataframe tbody tr th:only-of-type {\n",
       "        vertical-align: middle;\n",
       "    }\n",
       "\n",
       "    .dataframe tbody tr th {\n",
       "        vertical-align: top;\n",
       "    }\n",
       "\n",
       "    .dataframe thead th {\n",
       "        text-align: right;\n",
       "    }\n",
       "</style>\n",
       "<table border=\"1\" class=\"dataframe\">\n",
       "  <thead>\n",
       "    <tr style=\"text-align: right;\">\n",
       "      <th></th>\n",
       "      <th>Speech_date</th>\n",
       "      <th>Speech</th>\n",
       "    </tr>\n",
       "  </thead>\n",
       "  <tbody>\n",
       "    <tr>\n",
       "      <th>0</th>\n",
       "      <td>03 Oct, 2014</td>\n",
       "      <td>My Dear Countrymen,Today is the holy festival ...</td>\n",
       "    </tr>\n",
       "    <tr>\n",
       "      <th>1</th>\n",
       "      <td>02 Nov, 2014</td>\n",
       "      <td>My dear fellow countrymen, I am with you again...</td>\n",
       "    </tr>\n",
       "    <tr>\n",
       "      <th>2</th>\n",
       "      <td>14 Dec, 2014</td>\n",
       "      <td>My Dear Fellow Countrymen,Today I have this gr...</td>\n",
       "    </tr>\n",
       "    <tr>\n",
       "      <th>3</th>\n",
       "      <td>27 Jan, 2015</td>\n",
       "      <td>Today, Shri Barack Obama, President of the Uni...</td>\n",
       "    </tr>\n",
       "    <tr>\n",
       "      <th>4</th>\n",
       "      <td>22 Feb, 2015</td>\n",
       "      <td>Hello, my young friends. Today probably the en...</td>\n",
       "    </tr>\n",
       "    <tr>\n",
       "      <th>...</th>\n",
       "      <td>...</td>\n",
       "      <td>...</td>\n",
       "    </tr>\n",
       "    <tr>\n",
       "      <th>68</th>\n",
       "      <td>29 Nov, 2020</td>\n",
       "      <td>My dear countrymen,Namaskar! I want to share a...</td>\n",
       "    </tr>\n",
       "    <tr>\n",
       "      <th>69</th>\n",
       "      <td>27 Dec, 2020</td>\n",
       "      <td>My dear countrymen,Namaskar. Today is the 27th...</td>\n",
       "    </tr>\n",
       "    <tr>\n",
       "      <th>70</th>\n",
       "      <td>31 Jan, 2021</td>\n",
       "      <td>My dear countrymen,Namaskar. When I express Ma...</td>\n",
       "    </tr>\n",
       "    <tr>\n",
       "      <th>71</th>\n",
       "      <td>28 Feb, 2021</td>\n",
       "      <td>My dear countrymen,Namaskar. Yesterday was the...</td>\n",
       "    </tr>\n",
       "    <tr>\n",
       "      <th>72</th>\n",
       "      <td>28 Mar, 2021</td>\n",
       "      <td>My dear countrymen, Namaskar. This time when I...</td>\n",
       "    </tr>\n",
       "  </tbody>\n",
       "</table>\n",
       "<p>73 rows × 2 columns</p>\n",
       "</div>"
      ],
      "text/plain": [
       "     Speech_date                                             Speech\n",
       "0   03 Oct, 2014  My Dear Countrymen,Today is the holy festival ...\n",
       "1   02 Nov, 2014  My dear fellow countrymen, I am with you again...\n",
       "2   14 Dec, 2014  My Dear Fellow Countrymen,Today I have this gr...\n",
       "3   27 Jan, 2015  Today, Shri Barack Obama, President of the Uni...\n",
       "4   22 Feb, 2015  Hello, my young friends. Today probably the en...\n",
       "..           ...                                                ...\n",
       "68  29 Nov, 2020  My dear countrymen,Namaskar! I want to share a...\n",
       "69  27 Dec, 2020  My dear countrymen,Namaskar. Today is the 27th...\n",
       "70  31 Jan, 2021  My dear countrymen,Namaskar. When I express Ma...\n",
       "71  28 Feb, 2021  My dear countrymen,Namaskar. Yesterday was the...\n",
       "72  28 Mar, 2021  My dear countrymen, Namaskar. This time when I...\n",
       "\n",
       "[73 rows x 2 columns]"
      ]
     },
     "execution_count": 2,
     "metadata": {},
     "output_type": "execute_result"
    }
   ],
   "source": [
    "df = pd.read_csv('Datasets/mann_ki_baat.csv')\n",
    "df = df.drop(['Unnamed: 0'], axis=1)\n",
    "df"
   ]
  },
  {
   "cell_type": "code",
   "execution_count": 3,
   "metadata": {},
   "outputs": [],
   "source": [
    "def remove_stopwords(texts):\n",
    "    return[[word for word in simple_preprocess(str(doc)) if word not in all_stopwords_gensim]\n",
    "            for doc in texts]\n",
    "\n",
    "def make_bigrams(texts):\n",
    "    return [bigram_mod[doc] for doc in texts]#Turn words into lemmas\n",
    "\n",
    "def lemmatization(texts, allowed_postags=['NOUN', 'ADJ']):\n",
    "    \"\"\"https://spacy.io/api/annotation\"\"\"\n",
    "    texts_out = []\n",
    "    for sent in texts:\n",
    "        doc = nlp(\" \".join(sent))\n",
    "        texts_out.append([token.lemma_ for token in doc if token.pos_ in allowed_postags])\n",
    "    return texts_out"
   ]
  },
  {
   "cell_type": "code",
   "execution_count": 77,
   "metadata": {},
   "outputs": [],
   "source": [
    "bigram = gensim.models.Phrases(df['Speech'], min_count = 5, threshold = 100)\n",
    "bigram_mod = gensim.models.phrases.Phraser(bigram)\n",
    "\n",
    "all_stopwords_gensim = STOPWORDS.union(set(['time', 'new', 'mr.', 'mrs.', 'ki', 'th', 'today', 'way', 'am', 'address', 'own',\n",
    "                                            'true', 'mann', 'baat', 'people', 'countryman', 'hindi', 'year', 'new', 'day',\n",
    "                                            'life', 'friend', 'friends', 'month', 'world', 'many', 'dr.', 'pm', 'modi', 'ji', \n",
    "                                            'pe', 'cook', 'brinjal', 'st', 'nd', 'rd', 'sir', 'dear', 'morning', 'sunday',\n",
    "                                            'version', 'speech', 'sundays', 'authoritative', 'rendering', 'english', 'original',\n",
    "                                            'bag', 'suggestion', 'next', 'step', 'numerous', 'dear', 'fellow','government', \n",
    "                                            'india', 'country', 'bharat', 'indian', 'message', 'event', 'nation', 'national',\n",
    "                                            'january', 'december', 'march', 'june', 'rt', 'ak', 'usman', 'usman-', 'kaniga-', \n",
    "                                            'decision', 'scheme', 'self', 'thing', 'region', 'reliant', 'countrymen','greetings',\n",
    "                                            'like', 'share', 'ii', 'prime', 'minister', 'thing', 'lot', 'thought', 'issue',\n",
    "                                            'great', 'good', 'big', 'day', 'year', 'entire', 'place']))"
   ]
  },
  {
   "cell_type": "code",
   "execution_count": 78,
   "metadata": {},
   "outputs": [],
   "source": [
    "data_words_nostops = remove_stopwords(df['Speech'])\n",
    "\n",
    "data_words_bigram = make_bigrams(data_words_nostops)\n",
    "\n",
    "nlp = en_core_web_sm.load(disable = ['parser', 'ner'])\n",
    "data_lemma = lemmatization(data_words_bigram, allowed_postags=['NOUN', 'ADJ'])"
   ]
  },
  {
   "cell_type": "code",
   "execution_count": 79,
   "metadata": {},
   "outputs": [],
   "source": [
    "id2word = corpora.Dictionary(data_lemma)\n",
    "#corpus\n",
    "texts = data_lemma\n",
    "#term document matrix\n",
    "corpus = [id2word.doc2bow(text) for text in texts]"
   ]
  },
  {
   "cell_type": "code",
   "execution_count": 119,
   "metadata": {},
   "outputs": [],
   "source": [
    "# coherence = []\n",
    "# for k in range(2,25):\n",
    "#     print('Round: '+str(k))\n",
    "#     Lda = gensim.models.ldamodel.LdaModel\n",
    "#     sample_ldamodel = Lda(corpus, num_topics=k, id2word = id2word, passes=10, iterations=20, chunksize = 2)\n",
    "    \n",
    "#     cm = gensim.models.coherencemodel.CoherenceModel(model=sample_ldamodel, texts=data_lemma, dictionary=id2word, coherence='c_v')\n",
    "#     pp = sample_ldamodel.log_perplexity(corpus, total_docs=73)\n",
    "#     coherence.append((k,cm.get_coherence(),pp))\n",
    "    \n",
    "\n",
    "# # model_list, coherence_values = compute_coherence_values(dictionary=id2word, corpus=corpus, texts=data_lemma, start=2, limit=16, step=1)\n",
    "\n",
    "# x = [x[0] for x in coherence]\n",
    "# y1 = [x[1] for x in coherence]\n",
    "# y2 = [x[2] for x in coherence]\n",
    "\n",
    "# # plt.figure(figsize=(12, 10))\n",
    "# # plt.plot(x, y1)\n",
    "# # plt.plot(x, y2)\n",
    "# # plt.scatter(x, y1)\n",
    "# # plt.scatter(x, y2)\n",
    "# # plt.title('Gensim LDA - Number of Topics vs. Coherence')\n",
    "# # plt.xlabel(\"Num Topics\")\n",
    "# # plt.ylabel(\"Coherence score\")\n",
    "# # plt.savefig('Images/gensim_topics.png')\n",
    "# # plt.show()"
   ]
  },
  {
   "cell_type": "code",
   "execution_count": 120,
   "metadata": {
    "scrolled": true
   },
   "outputs": [],
   "source": [
    "# # fig, (ax1, ax2) = plt.subplots(2)\n",
    "# # fig.suptitle('Axes values are scaled individually by default')\n",
    "# # # fig.set_title('Gensim LDA - Number of Topics vs. Coherence')\n",
    "# # ax1.plot(x, y1)\n",
    "# # # ax1.xlabel(\"Num Topics\")\n",
    "# # # ax1.ylabel(\"Coherence score\")\n",
    "# # ax2.plot(x, y2)\n",
    "# # # ax2.xlabel(\"Num Topics\")\n",
    "# # # ax2.ylabel(\"Perplexity\")\n",
    "# import plotly\n",
    "# from plotly.subplots import make_subplots\n",
    "# import plotly.graph_objects as go\n",
    "\n",
    "# fig = make_subplots( rows=2, cols=1, subplot_titles=(\"Coherence score\", \"Perplexity\"), shared_xaxes=True,\n",
    "#                     vertical_spacing=0.02)\n",
    "\n",
    "# fig.add_trace(go.Scatter(name=\"Coherence score\", x=x, y=y1, mode='lines+markers'), row=1, col=1)\n",
    "\n",
    "# fig.add_trace(go.Scatter(name=\"Perplexity\", x=x, y=y2, mode='lines+markers'), row=2, col=1)\n",
    "\n",
    "# fig.update_layout(height=600, width=1000, title_text=\"Gensim LDA - Number of Topics vs. Coherence and Perplexity\", xaxis1 = dict(\n",
    "#         tickmode = 'linear', tick0 = 1, dtick = 1), xaxis2 = dict(tickmode = 'linear', tick0 = 1, dtick = 1))\n",
    "# fig.write_html(\"Images/Gensim_optimal.html\")\n",
    "# fig.show()"
   ]
  },
  {
   "cell_type": "code",
   "execution_count": null,
   "metadata": {},
   "outputs": [],
   "source": []
  },
  {
   "cell_type": "code",
   "execution_count": null,
   "metadata": {},
   "outputs": [],
   "source": []
  },
  {
   "cell_type": "code",
   "execution_count": null,
   "metadata": {},
   "outputs": [],
   "source": []
  },
  {
   "cell_type": "code",
   "execution_count": 67,
   "metadata": {},
   "outputs": [
    {
     "name": "stdout",
     "output_type": "stream",
     "text": [
      "Round: 2\n",
      "Round: 3\n",
      "Round: 4\n",
      "Round: 5\n",
      "Round: 6\n",
      "Round: 7\n",
      "Round: 8\n",
      "Round: 9\n",
      "Round: 10\n",
      "Round: 11\n",
      "Round: 12\n",
      "Round: 13\n",
      "Round: 14\n",
      "Round: 15\n",
      "Round: 16\n",
      "Round: 17\n",
      "Round: 18\n",
      "Round: 19\n",
      "Round: 20\n",
      "Round: 21\n",
      "Round: 22\n",
      "Round: 23\n",
      "Round: 24\n"
     ]
    },
    {
     "data": {
      "application/vnd.plotly.v1+json": {
       "config": {
        "plotlyServerURL": "https://plot.ly"
       },
       "data": [
        {
         "mode": "lines+markers",
         "name": "Coherence score",
         "type": "scatter",
         "x": [
          2,
          3,
          4,
          5,
          6,
          7,
          8,
          9,
          10,
          11,
          12,
          13,
          14,
          15,
          16,
          17,
          18,
          19,
          20,
          21,
          22,
          23,
          24
         ],
         "xaxis": "x",
         "y": [
          0.26701084308574785,
          0.31540123415905563,
          0.34685057442909933,
          0.3688618403809188,
          0.39497812196958854,
          0.388108646466011,
          0.4412595614319843,
          0.5342643030587102,
          0.5718118990094633,
          0.5494261455731952,
          0.6412889634820389,
          0.3931529314730079,
          0.3704189263027455,
          0.35680373833931234,
          0.36328623701335744,
          0.34874941217407035,
          0.3513716864601166,
          0.3447411573642003,
          0.35387788945571824,
          0.36068779389710626,
          0.363614531364101,
          0.369067619744818,
          0.35323572516322166
         ],
         "yaxis": "y"
        },
        {
         "mode": "lines+markers",
         "name": "Perplexity",
         "type": "scatter",
         "x": [
          2,
          3,
          4,
          5,
          6,
          7,
          8,
          9,
          10,
          11,
          12,
          13,
          14,
          15,
          16,
          17,
          18,
          19,
          20,
          21,
          22,
          23,
          24
         ],
         "xaxis": "x2",
         "y": [
          -8.338086523286828,
          -8.409400296283875,
          -8.47023807451796,
          -8.513045787217294,
          -8.565768708353993,
          -8.61098310636515,
          -8.737211254586393,
          -8.931922739551219,
          -9.21391486856982,
          -9.709215480171975,
          -10.596265560569531,
          -11.64693195597526,
          -13.094205566631189,
          -15.07280820450564,
          -17.33421147387934,
          -18.922834681203998,
          -19.933981507614956,
          -20.61813115275269,
          -21.365171811977305,
          -22.043728132372753,
          -22.73871832801332,
          -23.439566835646428,
          -23.891239038045303
         ],
         "yaxis": "y2"
        }
       ],
       "layout": {
        "annotations": [
         {
          "font": {
           "size": 16
          },
          "showarrow": false,
          "text": "Coherence score",
          "x": 0.5,
          "xanchor": "center",
          "xref": "paper",
          "y": 1,
          "yanchor": "bottom",
          "yref": "paper"
         },
         {
          "font": {
           "size": 16
          },
          "showarrow": false,
          "text": "Perplexity",
          "x": 0.5,
          "xanchor": "center",
          "xref": "paper",
          "y": 0.49,
          "yanchor": "bottom",
          "yref": "paper"
         }
        ],
        "height": 600,
        "template": {
         "data": {
          "bar": [
           {
            "error_x": {
             "color": "#2a3f5f"
            },
            "error_y": {
             "color": "#2a3f5f"
            },
            "marker": {
             "line": {
              "color": "#E5ECF6",
              "width": 0.5
             }
            },
            "type": "bar"
           }
          ],
          "barpolar": [
           {
            "marker": {
             "line": {
              "color": "#E5ECF6",
              "width": 0.5
             }
            },
            "type": "barpolar"
           }
          ],
          "carpet": [
           {
            "aaxis": {
             "endlinecolor": "#2a3f5f",
             "gridcolor": "white",
             "linecolor": "white",
             "minorgridcolor": "white",
             "startlinecolor": "#2a3f5f"
            },
            "baxis": {
             "endlinecolor": "#2a3f5f",
             "gridcolor": "white",
             "linecolor": "white",
             "minorgridcolor": "white",
             "startlinecolor": "#2a3f5f"
            },
            "type": "carpet"
           }
          ],
          "choropleth": [
           {
            "colorbar": {
             "outlinewidth": 0,
             "ticks": ""
            },
            "type": "choropleth"
           }
          ],
          "contour": [
           {
            "colorbar": {
             "outlinewidth": 0,
             "ticks": ""
            },
            "colorscale": [
             [
              0,
              "#0d0887"
             ],
             [
              0.1111111111111111,
              "#46039f"
             ],
             [
              0.2222222222222222,
              "#7201a8"
             ],
             [
              0.3333333333333333,
              "#9c179e"
             ],
             [
              0.4444444444444444,
              "#bd3786"
             ],
             [
              0.5555555555555556,
              "#d8576b"
             ],
             [
              0.6666666666666666,
              "#ed7953"
             ],
             [
              0.7777777777777778,
              "#fb9f3a"
             ],
             [
              0.8888888888888888,
              "#fdca26"
             ],
             [
              1,
              "#f0f921"
             ]
            ],
            "type": "contour"
           }
          ],
          "contourcarpet": [
           {
            "colorbar": {
             "outlinewidth": 0,
             "ticks": ""
            },
            "type": "contourcarpet"
           }
          ],
          "heatmap": [
           {
            "colorbar": {
             "outlinewidth": 0,
             "ticks": ""
            },
            "colorscale": [
             [
              0,
              "#0d0887"
             ],
             [
              0.1111111111111111,
              "#46039f"
             ],
             [
              0.2222222222222222,
              "#7201a8"
             ],
             [
              0.3333333333333333,
              "#9c179e"
             ],
             [
              0.4444444444444444,
              "#bd3786"
             ],
             [
              0.5555555555555556,
              "#d8576b"
             ],
             [
              0.6666666666666666,
              "#ed7953"
             ],
             [
              0.7777777777777778,
              "#fb9f3a"
             ],
             [
              0.8888888888888888,
              "#fdca26"
             ],
             [
              1,
              "#f0f921"
             ]
            ],
            "type": "heatmap"
           }
          ],
          "heatmapgl": [
           {
            "colorbar": {
             "outlinewidth": 0,
             "ticks": ""
            },
            "colorscale": [
             [
              0,
              "#0d0887"
             ],
             [
              0.1111111111111111,
              "#46039f"
             ],
             [
              0.2222222222222222,
              "#7201a8"
             ],
             [
              0.3333333333333333,
              "#9c179e"
             ],
             [
              0.4444444444444444,
              "#bd3786"
             ],
             [
              0.5555555555555556,
              "#d8576b"
             ],
             [
              0.6666666666666666,
              "#ed7953"
             ],
             [
              0.7777777777777778,
              "#fb9f3a"
             ],
             [
              0.8888888888888888,
              "#fdca26"
             ],
             [
              1,
              "#f0f921"
             ]
            ],
            "type": "heatmapgl"
           }
          ],
          "histogram": [
           {
            "marker": {
             "colorbar": {
              "outlinewidth": 0,
              "ticks": ""
             }
            },
            "type": "histogram"
           }
          ],
          "histogram2d": [
           {
            "colorbar": {
             "outlinewidth": 0,
             "ticks": ""
            },
            "colorscale": [
             [
              0,
              "#0d0887"
             ],
             [
              0.1111111111111111,
              "#46039f"
             ],
             [
              0.2222222222222222,
              "#7201a8"
             ],
             [
              0.3333333333333333,
              "#9c179e"
             ],
             [
              0.4444444444444444,
              "#bd3786"
             ],
             [
              0.5555555555555556,
              "#d8576b"
             ],
             [
              0.6666666666666666,
              "#ed7953"
             ],
             [
              0.7777777777777778,
              "#fb9f3a"
             ],
             [
              0.8888888888888888,
              "#fdca26"
             ],
             [
              1,
              "#f0f921"
             ]
            ],
            "type": "histogram2d"
           }
          ],
          "histogram2dcontour": [
           {
            "colorbar": {
             "outlinewidth": 0,
             "ticks": ""
            },
            "colorscale": [
             [
              0,
              "#0d0887"
             ],
             [
              0.1111111111111111,
              "#46039f"
             ],
             [
              0.2222222222222222,
              "#7201a8"
             ],
             [
              0.3333333333333333,
              "#9c179e"
             ],
             [
              0.4444444444444444,
              "#bd3786"
             ],
             [
              0.5555555555555556,
              "#d8576b"
             ],
             [
              0.6666666666666666,
              "#ed7953"
             ],
             [
              0.7777777777777778,
              "#fb9f3a"
             ],
             [
              0.8888888888888888,
              "#fdca26"
             ],
             [
              1,
              "#f0f921"
             ]
            ],
            "type": "histogram2dcontour"
           }
          ],
          "mesh3d": [
           {
            "colorbar": {
             "outlinewidth": 0,
             "ticks": ""
            },
            "type": "mesh3d"
           }
          ],
          "parcoords": [
           {
            "line": {
             "colorbar": {
              "outlinewidth": 0,
              "ticks": ""
             }
            },
            "type": "parcoords"
           }
          ],
          "pie": [
           {
            "automargin": true,
            "type": "pie"
           }
          ],
          "scatter": [
           {
            "marker": {
             "colorbar": {
              "outlinewidth": 0,
              "ticks": ""
             }
            },
            "type": "scatter"
           }
          ],
          "scatter3d": [
           {
            "line": {
             "colorbar": {
              "outlinewidth": 0,
              "ticks": ""
             }
            },
            "marker": {
             "colorbar": {
              "outlinewidth": 0,
              "ticks": ""
             }
            },
            "type": "scatter3d"
           }
          ],
          "scattercarpet": [
           {
            "marker": {
             "colorbar": {
              "outlinewidth": 0,
              "ticks": ""
             }
            },
            "type": "scattercarpet"
           }
          ],
          "scattergeo": [
           {
            "marker": {
             "colorbar": {
              "outlinewidth": 0,
              "ticks": ""
             }
            },
            "type": "scattergeo"
           }
          ],
          "scattergl": [
           {
            "marker": {
             "colorbar": {
              "outlinewidth": 0,
              "ticks": ""
             }
            },
            "type": "scattergl"
           }
          ],
          "scattermapbox": [
           {
            "marker": {
             "colorbar": {
              "outlinewidth": 0,
              "ticks": ""
             }
            },
            "type": "scattermapbox"
           }
          ],
          "scatterpolar": [
           {
            "marker": {
             "colorbar": {
              "outlinewidth": 0,
              "ticks": ""
             }
            },
            "type": "scatterpolar"
           }
          ],
          "scatterpolargl": [
           {
            "marker": {
             "colorbar": {
              "outlinewidth": 0,
              "ticks": ""
             }
            },
            "type": "scatterpolargl"
           }
          ],
          "scatterternary": [
           {
            "marker": {
             "colorbar": {
              "outlinewidth": 0,
              "ticks": ""
             }
            },
            "type": "scatterternary"
           }
          ],
          "surface": [
           {
            "colorbar": {
             "outlinewidth": 0,
             "ticks": ""
            },
            "colorscale": [
             [
              0,
              "#0d0887"
             ],
             [
              0.1111111111111111,
              "#46039f"
             ],
             [
              0.2222222222222222,
              "#7201a8"
             ],
             [
              0.3333333333333333,
              "#9c179e"
             ],
             [
              0.4444444444444444,
              "#bd3786"
             ],
             [
              0.5555555555555556,
              "#d8576b"
             ],
             [
              0.6666666666666666,
              "#ed7953"
             ],
             [
              0.7777777777777778,
              "#fb9f3a"
             ],
             [
              0.8888888888888888,
              "#fdca26"
             ],
             [
              1,
              "#f0f921"
             ]
            ],
            "type": "surface"
           }
          ],
          "table": [
           {
            "cells": {
             "fill": {
              "color": "#EBF0F8"
             },
             "line": {
              "color": "white"
             }
            },
            "header": {
             "fill": {
              "color": "#C8D4E3"
             },
             "line": {
              "color": "white"
             }
            },
            "type": "table"
           }
          ]
         },
         "layout": {
          "annotationdefaults": {
           "arrowcolor": "#2a3f5f",
           "arrowhead": 0,
           "arrowwidth": 1
          },
          "autotypenumbers": "strict",
          "coloraxis": {
           "colorbar": {
            "outlinewidth": 0,
            "ticks": ""
           }
          },
          "colorscale": {
           "diverging": [
            [
             0,
             "#8e0152"
            ],
            [
             0.1,
             "#c51b7d"
            ],
            [
             0.2,
             "#de77ae"
            ],
            [
             0.3,
             "#f1b6da"
            ],
            [
             0.4,
             "#fde0ef"
            ],
            [
             0.5,
             "#f7f7f7"
            ],
            [
             0.6,
             "#e6f5d0"
            ],
            [
             0.7,
             "#b8e186"
            ],
            [
             0.8,
             "#7fbc41"
            ],
            [
             0.9,
             "#4d9221"
            ],
            [
             1,
             "#276419"
            ]
           ],
           "sequential": [
            [
             0,
             "#0d0887"
            ],
            [
             0.1111111111111111,
             "#46039f"
            ],
            [
             0.2222222222222222,
             "#7201a8"
            ],
            [
             0.3333333333333333,
             "#9c179e"
            ],
            [
             0.4444444444444444,
             "#bd3786"
            ],
            [
             0.5555555555555556,
             "#d8576b"
            ],
            [
             0.6666666666666666,
             "#ed7953"
            ],
            [
             0.7777777777777778,
             "#fb9f3a"
            ],
            [
             0.8888888888888888,
             "#fdca26"
            ],
            [
             1,
             "#f0f921"
            ]
           ],
           "sequentialminus": [
            [
             0,
             "#0d0887"
            ],
            [
             0.1111111111111111,
             "#46039f"
            ],
            [
             0.2222222222222222,
             "#7201a8"
            ],
            [
             0.3333333333333333,
             "#9c179e"
            ],
            [
             0.4444444444444444,
             "#bd3786"
            ],
            [
             0.5555555555555556,
             "#d8576b"
            ],
            [
             0.6666666666666666,
             "#ed7953"
            ],
            [
             0.7777777777777778,
             "#fb9f3a"
            ],
            [
             0.8888888888888888,
             "#fdca26"
            ],
            [
             1,
             "#f0f921"
            ]
           ]
          },
          "colorway": [
           "#636efa",
           "#EF553B",
           "#00cc96",
           "#ab63fa",
           "#FFA15A",
           "#19d3f3",
           "#FF6692",
           "#B6E880",
           "#FF97FF",
           "#FECB52"
          ],
          "font": {
           "color": "#2a3f5f"
          },
          "geo": {
           "bgcolor": "white",
           "lakecolor": "white",
           "landcolor": "#E5ECF6",
           "showlakes": true,
           "showland": true,
           "subunitcolor": "white"
          },
          "hoverlabel": {
           "align": "left"
          },
          "hovermode": "closest",
          "mapbox": {
           "style": "light"
          },
          "paper_bgcolor": "white",
          "plot_bgcolor": "#E5ECF6",
          "polar": {
           "angularaxis": {
            "gridcolor": "white",
            "linecolor": "white",
            "ticks": ""
           },
           "bgcolor": "#E5ECF6",
           "radialaxis": {
            "gridcolor": "white",
            "linecolor": "white",
            "ticks": ""
           }
          },
          "scene": {
           "xaxis": {
            "backgroundcolor": "#E5ECF6",
            "gridcolor": "white",
            "gridwidth": 2,
            "linecolor": "white",
            "showbackground": true,
            "ticks": "",
            "zerolinecolor": "white"
           },
           "yaxis": {
            "backgroundcolor": "#E5ECF6",
            "gridcolor": "white",
            "gridwidth": 2,
            "linecolor": "white",
            "showbackground": true,
            "ticks": "",
            "zerolinecolor": "white"
           },
           "zaxis": {
            "backgroundcolor": "#E5ECF6",
            "gridcolor": "white",
            "gridwidth": 2,
            "linecolor": "white",
            "showbackground": true,
            "ticks": "",
            "zerolinecolor": "white"
           }
          },
          "shapedefaults": {
           "line": {
            "color": "#2a3f5f"
           }
          },
          "ternary": {
           "aaxis": {
            "gridcolor": "white",
            "linecolor": "white",
            "ticks": ""
           },
           "baxis": {
            "gridcolor": "white",
            "linecolor": "white",
            "ticks": ""
           },
           "bgcolor": "#E5ECF6",
           "caxis": {
            "gridcolor": "white",
            "linecolor": "white",
            "ticks": ""
           }
          },
          "title": {
           "x": 0.05
          },
          "xaxis": {
           "automargin": true,
           "gridcolor": "white",
           "linecolor": "white",
           "ticks": "",
           "title": {
            "standoff": 15
           },
           "zerolinecolor": "white",
           "zerolinewidth": 2
          },
          "yaxis": {
           "automargin": true,
           "gridcolor": "white",
           "linecolor": "white",
           "ticks": "",
           "title": {
            "standoff": 15
           },
           "zerolinecolor": "white",
           "zerolinewidth": 2
          }
         }
        },
        "title": {
         "text": "Gensim LDA - Number of Topics vs. Coherence and Perplexity"
        },
        "width": 1000,
        "xaxis": {
         "anchor": "y",
         "domain": [
          0,
          1
         ],
         "dtick": 1,
         "matches": "x2",
         "showticklabels": false,
         "tick0": 1,
         "tickmode": "linear"
        },
        "xaxis2": {
         "anchor": "y2",
         "domain": [
          0,
          1
         ],
         "dtick": 1,
         "tick0": 1,
         "tickmode": "linear"
        },
        "yaxis": {
         "anchor": "x",
         "domain": [
          0.51,
          1
         ]
        },
        "yaxis2": {
         "anchor": "x2",
         "domain": [
          0,
          0.49
         ]
        }
       }
      },
      "text/html": [
       "<div>                            <div id=\"e4345473-d154-41cc-ae62-b248bc0e6d0b\" class=\"plotly-graph-div\" style=\"height:600px; width:1000px;\"></div>            <script type=\"text/javascript\">                require([\"plotly\"], function(Plotly) {                    window.PLOTLYENV=window.PLOTLYENV || {};                                    if (document.getElementById(\"e4345473-d154-41cc-ae62-b248bc0e6d0b\")) {                    Plotly.newPlot(                        \"e4345473-d154-41cc-ae62-b248bc0e6d0b\",                        [{\"mode\": \"lines+markers\", \"name\": \"Coherence score\", \"type\": \"scatter\", \"x\": [2, 3, 4, 5, 6, 7, 8, 9, 10, 11, 12, 13, 14, 15, 16, 17, 18, 19, 20, 21, 22, 23, 24], \"xaxis\": \"x\", \"y\": [0.26701084308574785, 0.31540123415905563, 0.34685057442909933, 0.3688618403809188, 0.39497812196958854, 0.388108646466011, 0.4412595614319843, 0.5342643030587102, 0.5718118990094633, 0.5494261455731952, 0.6412889634820389, 0.3931529314730079, 0.3704189263027455, 0.35680373833931234, 0.36328623701335744, 0.34874941217407035, 0.3513716864601166, 0.3447411573642003, 0.35387788945571824, 0.36068779389710626, 0.363614531364101, 0.369067619744818, 0.35323572516322166], \"yaxis\": \"y\"}, {\"mode\": \"lines+markers\", \"name\": \"Perplexity\", \"type\": \"scatter\", \"x\": [2, 3, 4, 5, 6, 7, 8, 9, 10, 11, 12, 13, 14, 15, 16, 17, 18, 19, 20, 21, 22, 23, 24], \"xaxis\": \"x2\", \"y\": [-8.338086523286828, -8.409400296283875, -8.47023807451796, -8.513045787217294, -8.565768708353993, -8.61098310636515, -8.737211254586393, -8.931922739551219, -9.21391486856982, -9.709215480171975, -10.596265560569531, -11.64693195597526, -13.094205566631189, -15.07280820450564, -17.33421147387934, -18.922834681203998, -19.933981507614956, -20.61813115275269, -21.365171811977305, -22.043728132372753, -22.73871832801332, -23.439566835646428, -23.891239038045303], \"yaxis\": \"y2\"}],                        {\"annotations\": [{\"font\": {\"size\": 16}, \"showarrow\": false, \"text\": \"Coherence score\", \"x\": 0.5, \"xanchor\": \"center\", \"xref\": \"paper\", \"y\": 1.0, \"yanchor\": \"bottom\", \"yref\": \"paper\"}, {\"font\": {\"size\": 16}, \"showarrow\": false, \"text\": \"Perplexity\", \"x\": 0.5, \"xanchor\": \"center\", \"xref\": \"paper\", \"y\": 0.49, \"yanchor\": \"bottom\", \"yref\": \"paper\"}], \"height\": 600, \"template\": {\"data\": {\"bar\": [{\"error_x\": {\"color\": \"#2a3f5f\"}, \"error_y\": {\"color\": \"#2a3f5f\"}, \"marker\": {\"line\": {\"color\": \"#E5ECF6\", \"width\": 0.5}}, \"type\": \"bar\"}], \"barpolar\": [{\"marker\": {\"line\": {\"color\": \"#E5ECF6\", \"width\": 0.5}}, \"type\": \"barpolar\"}], \"carpet\": [{\"aaxis\": {\"endlinecolor\": \"#2a3f5f\", \"gridcolor\": \"white\", \"linecolor\": \"white\", \"minorgridcolor\": \"white\", \"startlinecolor\": \"#2a3f5f\"}, \"baxis\": {\"endlinecolor\": \"#2a3f5f\", \"gridcolor\": \"white\", \"linecolor\": \"white\", \"minorgridcolor\": \"white\", \"startlinecolor\": \"#2a3f5f\"}, \"type\": \"carpet\"}], \"choropleth\": [{\"colorbar\": {\"outlinewidth\": 0, \"ticks\": \"\"}, \"type\": \"choropleth\"}], \"contour\": [{\"colorbar\": {\"outlinewidth\": 0, \"ticks\": \"\"}, \"colorscale\": [[0.0, \"#0d0887\"], [0.1111111111111111, \"#46039f\"], [0.2222222222222222, \"#7201a8\"], [0.3333333333333333, \"#9c179e\"], [0.4444444444444444, \"#bd3786\"], [0.5555555555555556, \"#d8576b\"], [0.6666666666666666, \"#ed7953\"], [0.7777777777777778, \"#fb9f3a\"], [0.8888888888888888, \"#fdca26\"], [1.0, \"#f0f921\"]], \"type\": \"contour\"}], \"contourcarpet\": [{\"colorbar\": {\"outlinewidth\": 0, \"ticks\": \"\"}, \"type\": \"contourcarpet\"}], \"heatmap\": [{\"colorbar\": {\"outlinewidth\": 0, \"ticks\": \"\"}, \"colorscale\": [[0.0, \"#0d0887\"], [0.1111111111111111, \"#46039f\"], [0.2222222222222222, \"#7201a8\"], [0.3333333333333333, \"#9c179e\"], [0.4444444444444444, \"#bd3786\"], [0.5555555555555556, \"#d8576b\"], [0.6666666666666666, \"#ed7953\"], [0.7777777777777778, \"#fb9f3a\"], [0.8888888888888888, \"#fdca26\"], [1.0, \"#f0f921\"]], \"type\": \"heatmap\"}], \"heatmapgl\": [{\"colorbar\": {\"outlinewidth\": 0, \"ticks\": \"\"}, \"colorscale\": [[0.0, \"#0d0887\"], [0.1111111111111111, \"#46039f\"], [0.2222222222222222, \"#7201a8\"], [0.3333333333333333, \"#9c179e\"], [0.4444444444444444, \"#bd3786\"], [0.5555555555555556, \"#d8576b\"], [0.6666666666666666, \"#ed7953\"], [0.7777777777777778, \"#fb9f3a\"], [0.8888888888888888, \"#fdca26\"], [1.0, \"#f0f921\"]], \"type\": \"heatmapgl\"}], \"histogram\": [{\"marker\": {\"colorbar\": {\"outlinewidth\": 0, \"ticks\": \"\"}}, \"type\": \"histogram\"}], \"histogram2d\": [{\"colorbar\": {\"outlinewidth\": 0, \"ticks\": \"\"}, \"colorscale\": [[0.0, \"#0d0887\"], [0.1111111111111111, \"#46039f\"], [0.2222222222222222, \"#7201a8\"], [0.3333333333333333, \"#9c179e\"], [0.4444444444444444, \"#bd3786\"], [0.5555555555555556, \"#d8576b\"], [0.6666666666666666, \"#ed7953\"], [0.7777777777777778, \"#fb9f3a\"], [0.8888888888888888, \"#fdca26\"], [1.0, \"#f0f921\"]], \"type\": \"histogram2d\"}], \"histogram2dcontour\": [{\"colorbar\": {\"outlinewidth\": 0, \"ticks\": \"\"}, \"colorscale\": [[0.0, \"#0d0887\"], [0.1111111111111111, \"#46039f\"], [0.2222222222222222, \"#7201a8\"], [0.3333333333333333, \"#9c179e\"], [0.4444444444444444, \"#bd3786\"], [0.5555555555555556, \"#d8576b\"], [0.6666666666666666, \"#ed7953\"], [0.7777777777777778, \"#fb9f3a\"], [0.8888888888888888, \"#fdca26\"], [1.0, \"#f0f921\"]], \"type\": \"histogram2dcontour\"}], \"mesh3d\": [{\"colorbar\": {\"outlinewidth\": 0, \"ticks\": \"\"}, \"type\": \"mesh3d\"}], \"parcoords\": [{\"line\": {\"colorbar\": {\"outlinewidth\": 0, \"ticks\": \"\"}}, \"type\": \"parcoords\"}], \"pie\": [{\"automargin\": true, \"type\": \"pie\"}], \"scatter\": [{\"marker\": {\"colorbar\": {\"outlinewidth\": 0, \"ticks\": \"\"}}, \"type\": \"scatter\"}], \"scatter3d\": [{\"line\": {\"colorbar\": {\"outlinewidth\": 0, \"ticks\": \"\"}}, \"marker\": {\"colorbar\": {\"outlinewidth\": 0, \"ticks\": \"\"}}, \"type\": \"scatter3d\"}], \"scattercarpet\": [{\"marker\": {\"colorbar\": {\"outlinewidth\": 0, \"ticks\": \"\"}}, \"type\": \"scattercarpet\"}], \"scattergeo\": [{\"marker\": {\"colorbar\": {\"outlinewidth\": 0, \"ticks\": \"\"}}, \"type\": \"scattergeo\"}], \"scattergl\": [{\"marker\": {\"colorbar\": {\"outlinewidth\": 0, \"ticks\": \"\"}}, \"type\": \"scattergl\"}], \"scattermapbox\": [{\"marker\": {\"colorbar\": {\"outlinewidth\": 0, \"ticks\": \"\"}}, \"type\": \"scattermapbox\"}], \"scatterpolar\": [{\"marker\": {\"colorbar\": {\"outlinewidth\": 0, \"ticks\": \"\"}}, \"type\": \"scatterpolar\"}], \"scatterpolargl\": [{\"marker\": {\"colorbar\": {\"outlinewidth\": 0, \"ticks\": \"\"}}, \"type\": \"scatterpolargl\"}], \"scatterternary\": [{\"marker\": {\"colorbar\": {\"outlinewidth\": 0, \"ticks\": \"\"}}, \"type\": \"scatterternary\"}], \"surface\": [{\"colorbar\": {\"outlinewidth\": 0, \"ticks\": \"\"}, \"colorscale\": [[0.0, \"#0d0887\"], [0.1111111111111111, \"#46039f\"], [0.2222222222222222, \"#7201a8\"], [0.3333333333333333, \"#9c179e\"], [0.4444444444444444, \"#bd3786\"], [0.5555555555555556, \"#d8576b\"], [0.6666666666666666, \"#ed7953\"], [0.7777777777777778, \"#fb9f3a\"], [0.8888888888888888, \"#fdca26\"], [1.0, \"#f0f921\"]], \"type\": \"surface\"}], \"table\": [{\"cells\": {\"fill\": {\"color\": \"#EBF0F8\"}, \"line\": {\"color\": \"white\"}}, \"header\": {\"fill\": {\"color\": \"#C8D4E3\"}, \"line\": {\"color\": \"white\"}}, \"type\": \"table\"}]}, \"layout\": {\"annotationdefaults\": {\"arrowcolor\": \"#2a3f5f\", \"arrowhead\": 0, \"arrowwidth\": 1}, \"autotypenumbers\": \"strict\", \"coloraxis\": {\"colorbar\": {\"outlinewidth\": 0, \"ticks\": \"\"}}, \"colorscale\": {\"diverging\": [[0, \"#8e0152\"], [0.1, \"#c51b7d\"], [0.2, \"#de77ae\"], [0.3, \"#f1b6da\"], [0.4, \"#fde0ef\"], [0.5, \"#f7f7f7\"], [0.6, \"#e6f5d0\"], [0.7, \"#b8e186\"], [0.8, \"#7fbc41\"], [0.9, \"#4d9221\"], [1, \"#276419\"]], \"sequential\": [[0.0, \"#0d0887\"], [0.1111111111111111, \"#46039f\"], [0.2222222222222222, \"#7201a8\"], [0.3333333333333333, \"#9c179e\"], [0.4444444444444444, \"#bd3786\"], [0.5555555555555556, \"#d8576b\"], [0.6666666666666666, \"#ed7953\"], [0.7777777777777778, \"#fb9f3a\"], [0.8888888888888888, \"#fdca26\"], [1.0, \"#f0f921\"]], \"sequentialminus\": [[0.0, \"#0d0887\"], [0.1111111111111111, \"#46039f\"], [0.2222222222222222, \"#7201a8\"], [0.3333333333333333, \"#9c179e\"], [0.4444444444444444, \"#bd3786\"], [0.5555555555555556, \"#d8576b\"], [0.6666666666666666, \"#ed7953\"], [0.7777777777777778, \"#fb9f3a\"], [0.8888888888888888, \"#fdca26\"], [1.0, \"#f0f921\"]]}, \"colorway\": [\"#636efa\", \"#EF553B\", \"#00cc96\", \"#ab63fa\", \"#FFA15A\", \"#19d3f3\", \"#FF6692\", \"#B6E880\", \"#FF97FF\", \"#FECB52\"], \"font\": {\"color\": \"#2a3f5f\"}, \"geo\": {\"bgcolor\": \"white\", \"lakecolor\": \"white\", \"landcolor\": \"#E5ECF6\", \"showlakes\": true, \"showland\": true, \"subunitcolor\": \"white\"}, \"hoverlabel\": {\"align\": \"left\"}, \"hovermode\": \"closest\", \"mapbox\": {\"style\": \"light\"}, \"paper_bgcolor\": \"white\", \"plot_bgcolor\": \"#E5ECF6\", \"polar\": {\"angularaxis\": {\"gridcolor\": \"white\", \"linecolor\": \"white\", \"ticks\": \"\"}, \"bgcolor\": \"#E5ECF6\", \"radialaxis\": {\"gridcolor\": \"white\", \"linecolor\": \"white\", \"ticks\": \"\"}}, \"scene\": {\"xaxis\": {\"backgroundcolor\": \"#E5ECF6\", \"gridcolor\": \"white\", \"gridwidth\": 2, \"linecolor\": \"white\", \"showbackground\": true, \"ticks\": \"\", \"zerolinecolor\": \"white\"}, \"yaxis\": {\"backgroundcolor\": \"#E5ECF6\", \"gridcolor\": \"white\", \"gridwidth\": 2, \"linecolor\": \"white\", \"showbackground\": true, \"ticks\": \"\", \"zerolinecolor\": \"white\"}, \"zaxis\": {\"backgroundcolor\": \"#E5ECF6\", \"gridcolor\": \"white\", \"gridwidth\": 2, \"linecolor\": \"white\", \"showbackground\": true, \"ticks\": \"\", \"zerolinecolor\": \"white\"}}, \"shapedefaults\": {\"line\": {\"color\": \"#2a3f5f\"}}, \"ternary\": {\"aaxis\": {\"gridcolor\": \"white\", \"linecolor\": \"white\", \"ticks\": \"\"}, \"baxis\": {\"gridcolor\": \"white\", \"linecolor\": \"white\", \"ticks\": \"\"}, \"bgcolor\": \"#E5ECF6\", \"caxis\": {\"gridcolor\": \"white\", \"linecolor\": \"white\", \"ticks\": \"\"}}, \"title\": {\"x\": 0.05}, \"xaxis\": {\"automargin\": true, \"gridcolor\": \"white\", \"linecolor\": \"white\", \"ticks\": \"\", \"title\": {\"standoff\": 15}, \"zerolinecolor\": \"white\", \"zerolinewidth\": 2}, \"yaxis\": {\"automargin\": true, \"gridcolor\": \"white\", \"linecolor\": \"white\", \"ticks\": \"\", \"title\": {\"standoff\": 15}, \"zerolinecolor\": \"white\", \"zerolinewidth\": 2}}}, \"title\": {\"text\": \"Gensim LDA - Number of Topics vs. Coherence and Perplexity\"}, \"width\": 1000, \"xaxis\": {\"anchor\": \"y\", \"domain\": [0.0, 1.0], \"dtick\": 1, \"matches\": \"x2\", \"showticklabels\": false, \"tick0\": 1, \"tickmode\": \"linear\"}, \"xaxis2\": {\"anchor\": \"y2\", \"domain\": [0.0, 1.0], \"dtick\": 1, \"tick0\": 1, \"tickmode\": \"linear\"}, \"yaxis\": {\"anchor\": \"x\", \"domain\": [0.51, 1.0]}, \"yaxis2\": {\"anchor\": \"x2\", \"domain\": [0.0, 0.49]}},                        {\"responsive\": true}                    ).then(function(){\n",
       "                            \n",
       "var gd = document.getElementById('e4345473-d154-41cc-ae62-b248bc0e6d0b');\n",
       "var x = new MutationObserver(function (mutations, observer) {{\n",
       "        var display = window.getComputedStyle(gd).display;\n",
       "        if (!display || display === 'none') {{\n",
       "            console.log([gd, 'removed!']);\n",
       "            Plotly.purge(gd);\n",
       "            observer.disconnect();\n",
       "        }}\n",
       "}});\n",
       "\n",
       "// Listen for the removal of the full notebook cells\n",
       "var notebookContainer = gd.closest('#notebook-container');\n",
       "if (notebookContainer) {{\n",
       "    x.observe(notebookContainer, {childList: true});\n",
       "}}\n",
       "\n",
       "// Listen for the clearing of the current output cell\n",
       "var outputEl = gd.closest('.output');\n",
       "if (outputEl) {{\n",
       "    x.observe(outputEl, {childList: true});\n",
       "}}\n",
       "\n",
       "                        })                };                });            </script>        </div>"
      ]
     },
     "metadata": {},
     "output_type": "display_data"
    }
   ],
   "source": [
    "coherence = []\n",
    "for k in range(2,25):\n",
    "    print('Round: '+str(k))\n",
    "    Lda = gensim.models.ldamodel.LdaModel\n",
    "    sample_ldamodel = Lda(corpus, num_topics=k, id2word = id2word, passes=5, iterations=8, chunksize = 2)\n",
    "    \n",
    "    cm = gensim.models.coherencemodel.CoherenceModel(model=sample_ldamodel, texts=data_lemma, dictionary=id2word, coherence='c_v')\n",
    "    pp = sample_ldamodel.log_perplexity(corpus, total_docs=73)\n",
    "    coherence.append((k,cm.get_coherence(),pp))\n",
    "    \n",
    "\n",
    "# model_list, coherence_values = compute_coherence_values(dictionary=id2word, corpus=corpus, texts=data_lemma, start=2, limit=16, step=1)\n",
    "\n",
    "x = [x[0] for x in coherence]\n",
    "y1 = [x[1] for x in coherence]\n",
    "y2 = [x[2] for x in coherence]\n",
    "\n",
    "fig = make_subplots( rows=2, cols=1, subplot_titles=(\"Coherence score\", \"Perplexity\"), shared_xaxes=True,\n",
    "                    vertical_spacing=0.02)\n",
    "\n",
    "fig.add_trace(go.Scatter(name=\"Coherence score\", x=x, y=y1, mode='lines+markers'), row=1, col=1)\n",
    "\n",
    "fig.add_trace(go.Scatter(name=\"Perplexity\", x=x, y=y2, mode='lines+markers'), row=2, col=1)\n",
    "\n",
    "fig.update_layout(height=600, width=1000, title_text=\"Gensim LDA - Number of Topics vs. Coherence and Perplexity\", xaxis1 = dict(\n",
    "        tickmode = 'linear', tick0 = 1, dtick = 1), xaxis2 = dict(tickmode = 'linear', tick0 = 1, dtick = 1))\n",
    "fig.write_html(\"Images/Gensim_optimal_new.html\")\n",
    "fig.show()"
   ]
  },
  {
   "cell_type": "code",
   "execution_count": null,
   "metadata": {},
   "outputs": [],
   "source": []
  },
  {
   "cell_type": "code",
   "execution_count": 70,
   "metadata": {},
   "outputs": [
    {
     "name": "stdout",
     "output_type": "stream",
     "text": [
      "Round: 2\n",
      "Round: 3\n",
      "Round: 4\n",
      "Round: 5\n",
      "Round: 6\n",
      "Round: 7\n",
      "Round: 8\n",
      "Round: 9\n",
      "Round: 10\n",
      "Round: 11\n",
      "Round: 12\n",
      "Round: 13\n",
      "Round: 14\n",
      "Round: 15\n",
      "Round: 16\n",
      "Round: 17\n",
      "Round: 18\n",
      "Round: 19\n",
      "Round: 20\n",
      "Round: 21\n",
      "Round: 22\n",
      "Round: 23\n",
      "Round: 24\n"
     ]
    },
    {
     "data": {
      "application/vnd.plotly.v1+json": {
       "config": {
        "plotlyServerURL": "https://plot.ly"
       },
       "data": [
        {
         "mode": "lines+markers",
         "name": "Coherence score",
         "type": "scatter",
         "x": [
          2,
          3,
          4,
          5,
          6,
          7,
          8,
          9,
          10,
          11,
          12,
          13,
          14,
          15,
          16,
          17,
          18,
          19,
          20,
          21,
          22,
          23,
          24
         ],
         "xaxis": "x",
         "y": [
          0.28583767282536265,
          0.2752829759157804,
          0.30657297646201365,
          0.3783465305220931,
          0.4087541925428786,
          0.510806688484608,
          0.49553888068396307,
          0.5682895147486904,
          0.5487917724989237,
          0.58985472376526,
          0.6003649505746873,
          0.39027616430873047,
          0.3552314998529709,
          0.36293001524451324,
          0.34678335531203275,
          0.3387750825673422,
          0.3570557815077254,
          0.3544543148211376,
          0.3558733119123013,
          0.3508123498740411,
          0.36324176194342067,
          0.35388138403918235,
          0.35642502782653634
         ],
         "yaxis": "y"
        },
        {
         "mode": "lines+markers",
         "name": "Perplexity",
         "type": "scatter",
         "x": [
          2,
          3,
          4,
          5,
          6,
          7,
          8,
          9,
          10,
          11,
          12,
          13,
          14,
          15,
          16,
          17,
          18,
          19,
          20,
          21,
          22,
          23,
          24
         ],
         "xaxis": "x2",
         "y": [
          -8.337072579204658,
          -8.398022682331808,
          -8.473104957902217,
          -8.511264517316269,
          -8.539222655960112,
          -8.608289112806899,
          -8.708939611456284,
          -8.936890961143089,
          -9.228390430155516,
          -9.741876559861463,
          -10.5774932093851,
          -11.642955991586238,
          -13.116239719252498,
          -15.07842578850146,
          -17.188267542484677,
          -19.227148575851285,
          -20.052551941820063,
          -20.681343305450703,
          -21.247356116980978,
          -21.9354417147979,
          -23.16665169133949,
          -23.267796796477498,
          -23.803751976884453
         ],
         "yaxis": "y2"
        }
       ],
       "layout": {
        "annotations": [
         {
          "font": {
           "size": 16
          },
          "showarrow": false,
          "text": "Coherence score",
          "x": 0.5,
          "xanchor": "center",
          "xref": "paper",
          "y": 1,
          "yanchor": "bottom",
          "yref": "paper"
         },
         {
          "font": {
           "size": 16
          },
          "showarrow": false,
          "text": "Perplexity",
          "x": 0.5,
          "xanchor": "center",
          "xref": "paper",
          "y": 0.49,
          "yanchor": "bottom",
          "yref": "paper"
         }
        ],
        "height": 600,
        "template": {
         "data": {
          "bar": [
           {
            "error_x": {
             "color": "#2a3f5f"
            },
            "error_y": {
             "color": "#2a3f5f"
            },
            "marker": {
             "line": {
              "color": "#E5ECF6",
              "width": 0.5
             }
            },
            "type": "bar"
           }
          ],
          "barpolar": [
           {
            "marker": {
             "line": {
              "color": "#E5ECF6",
              "width": 0.5
             }
            },
            "type": "barpolar"
           }
          ],
          "carpet": [
           {
            "aaxis": {
             "endlinecolor": "#2a3f5f",
             "gridcolor": "white",
             "linecolor": "white",
             "minorgridcolor": "white",
             "startlinecolor": "#2a3f5f"
            },
            "baxis": {
             "endlinecolor": "#2a3f5f",
             "gridcolor": "white",
             "linecolor": "white",
             "minorgridcolor": "white",
             "startlinecolor": "#2a3f5f"
            },
            "type": "carpet"
           }
          ],
          "choropleth": [
           {
            "colorbar": {
             "outlinewidth": 0,
             "ticks": ""
            },
            "type": "choropleth"
           }
          ],
          "contour": [
           {
            "colorbar": {
             "outlinewidth": 0,
             "ticks": ""
            },
            "colorscale": [
             [
              0,
              "#0d0887"
             ],
             [
              0.1111111111111111,
              "#46039f"
             ],
             [
              0.2222222222222222,
              "#7201a8"
             ],
             [
              0.3333333333333333,
              "#9c179e"
             ],
             [
              0.4444444444444444,
              "#bd3786"
             ],
             [
              0.5555555555555556,
              "#d8576b"
             ],
             [
              0.6666666666666666,
              "#ed7953"
             ],
             [
              0.7777777777777778,
              "#fb9f3a"
             ],
             [
              0.8888888888888888,
              "#fdca26"
             ],
             [
              1,
              "#f0f921"
             ]
            ],
            "type": "contour"
           }
          ],
          "contourcarpet": [
           {
            "colorbar": {
             "outlinewidth": 0,
             "ticks": ""
            },
            "type": "contourcarpet"
           }
          ],
          "heatmap": [
           {
            "colorbar": {
             "outlinewidth": 0,
             "ticks": ""
            },
            "colorscale": [
             [
              0,
              "#0d0887"
             ],
             [
              0.1111111111111111,
              "#46039f"
             ],
             [
              0.2222222222222222,
              "#7201a8"
             ],
             [
              0.3333333333333333,
              "#9c179e"
             ],
             [
              0.4444444444444444,
              "#bd3786"
             ],
             [
              0.5555555555555556,
              "#d8576b"
             ],
             [
              0.6666666666666666,
              "#ed7953"
             ],
             [
              0.7777777777777778,
              "#fb9f3a"
             ],
             [
              0.8888888888888888,
              "#fdca26"
             ],
             [
              1,
              "#f0f921"
             ]
            ],
            "type": "heatmap"
           }
          ],
          "heatmapgl": [
           {
            "colorbar": {
             "outlinewidth": 0,
             "ticks": ""
            },
            "colorscale": [
             [
              0,
              "#0d0887"
             ],
             [
              0.1111111111111111,
              "#46039f"
             ],
             [
              0.2222222222222222,
              "#7201a8"
             ],
             [
              0.3333333333333333,
              "#9c179e"
             ],
             [
              0.4444444444444444,
              "#bd3786"
             ],
             [
              0.5555555555555556,
              "#d8576b"
             ],
             [
              0.6666666666666666,
              "#ed7953"
             ],
             [
              0.7777777777777778,
              "#fb9f3a"
             ],
             [
              0.8888888888888888,
              "#fdca26"
             ],
             [
              1,
              "#f0f921"
             ]
            ],
            "type": "heatmapgl"
           }
          ],
          "histogram": [
           {
            "marker": {
             "colorbar": {
              "outlinewidth": 0,
              "ticks": ""
             }
            },
            "type": "histogram"
           }
          ],
          "histogram2d": [
           {
            "colorbar": {
             "outlinewidth": 0,
             "ticks": ""
            },
            "colorscale": [
             [
              0,
              "#0d0887"
             ],
             [
              0.1111111111111111,
              "#46039f"
             ],
             [
              0.2222222222222222,
              "#7201a8"
             ],
             [
              0.3333333333333333,
              "#9c179e"
             ],
             [
              0.4444444444444444,
              "#bd3786"
             ],
             [
              0.5555555555555556,
              "#d8576b"
             ],
             [
              0.6666666666666666,
              "#ed7953"
             ],
             [
              0.7777777777777778,
              "#fb9f3a"
             ],
             [
              0.8888888888888888,
              "#fdca26"
             ],
             [
              1,
              "#f0f921"
             ]
            ],
            "type": "histogram2d"
           }
          ],
          "histogram2dcontour": [
           {
            "colorbar": {
             "outlinewidth": 0,
             "ticks": ""
            },
            "colorscale": [
             [
              0,
              "#0d0887"
             ],
             [
              0.1111111111111111,
              "#46039f"
             ],
             [
              0.2222222222222222,
              "#7201a8"
             ],
             [
              0.3333333333333333,
              "#9c179e"
             ],
             [
              0.4444444444444444,
              "#bd3786"
             ],
             [
              0.5555555555555556,
              "#d8576b"
             ],
             [
              0.6666666666666666,
              "#ed7953"
             ],
             [
              0.7777777777777778,
              "#fb9f3a"
             ],
             [
              0.8888888888888888,
              "#fdca26"
             ],
             [
              1,
              "#f0f921"
             ]
            ],
            "type": "histogram2dcontour"
           }
          ],
          "mesh3d": [
           {
            "colorbar": {
             "outlinewidth": 0,
             "ticks": ""
            },
            "type": "mesh3d"
           }
          ],
          "parcoords": [
           {
            "line": {
             "colorbar": {
              "outlinewidth": 0,
              "ticks": ""
             }
            },
            "type": "parcoords"
           }
          ],
          "pie": [
           {
            "automargin": true,
            "type": "pie"
           }
          ],
          "scatter": [
           {
            "marker": {
             "colorbar": {
              "outlinewidth": 0,
              "ticks": ""
             }
            },
            "type": "scatter"
           }
          ],
          "scatter3d": [
           {
            "line": {
             "colorbar": {
              "outlinewidth": 0,
              "ticks": ""
             }
            },
            "marker": {
             "colorbar": {
              "outlinewidth": 0,
              "ticks": ""
             }
            },
            "type": "scatter3d"
           }
          ],
          "scattercarpet": [
           {
            "marker": {
             "colorbar": {
              "outlinewidth": 0,
              "ticks": ""
             }
            },
            "type": "scattercarpet"
           }
          ],
          "scattergeo": [
           {
            "marker": {
             "colorbar": {
              "outlinewidth": 0,
              "ticks": ""
             }
            },
            "type": "scattergeo"
           }
          ],
          "scattergl": [
           {
            "marker": {
             "colorbar": {
              "outlinewidth": 0,
              "ticks": ""
             }
            },
            "type": "scattergl"
           }
          ],
          "scattermapbox": [
           {
            "marker": {
             "colorbar": {
              "outlinewidth": 0,
              "ticks": ""
             }
            },
            "type": "scattermapbox"
           }
          ],
          "scatterpolar": [
           {
            "marker": {
             "colorbar": {
              "outlinewidth": 0,
              "ticks": ""
             }
            },
            "type": "scatterpolar"
           }
          ],
          "scatterpolargl": [
           {
            "marker": {
             "colorbar": {
              "outlinewidth": 0,
              "ticks": ""
             }
            },
            "type": "scatterpolargl"
           }
          ],
          "scatterternary": [
           {
            "marker": {
             "colorbar": {
              "outlinewidth": 0,
              "ticks": ""
             }
            },
            "type": "scatterternary"
           }
          ],
          "surface": [
           {
            "colorbar": {
             "outlinewidth": 0,
             "ticks": ""
            },
            "colorscale": [
             [
              0,
              "#0d0887"
             ],
             [
              0.1111111111111111,
              "#46039f"
             ],
             [
              0.2222222222222222,
              "#7201a8"
             ],
             [
              0.3333333333333333,
              "#9c179e"
             ],
             [
              0.4444444444444444,
              "#bd3786"
             ],
             [
              0.5555555555555556,
              "#d8576b"
             ],
             [
              0.6666666666666666,
              "#ed7953"
             ],
             [
              0.7777777777777778,
              "#fb9f3a"
             ],
             [
              0.8888888888888888,
              "#fdca26"
             ],
             [
              1,
              "#f0f921"
             ]
            ],
            "type": "surface"
           }
          ],
          "table": [
           {
            "cells": {
             "fill": {
              "color": "#EBF0F8"
             },
             "line": {
              "color": "white"
             }
            },
            "header": {
             "fill": {
              "color": "#C8D4E3"
             },
             "line": {
              "color": "white"
             }
            },
            "type": "table"
           }
          ]
         },
         "layout": {
          "annotationdefaults": {
           "arrowcolor": "#2a3f5f",
           "arrowhead": 0,
           "arrowwidth": 1
          },
          "autotypenumbers": "strict",
          "coloraxis": {
           "colorbar": {
            "outlinewidth": 0,
            "ticks": ""
           }
          },
          "colorscale": {
           "diverging": [
            [
             0,
             "#8e0152"
            ],
            [
             0.1,
             "#c51b7d"
            ],
            [
             0.2,
             "#de77ae"
            ],
            [
             0.3,
             "#f1b6da"
            ],
            [
             0.4,
             "#fde0ef"
            ],
            [
             0.5,
             "#f7f7f7"
            ],
            [
             0.6,
             "#e6f5d0"
            ],
            [
             0.7,
             "#b8e186"
            ],
            [
             0.8,
             "#7fbc41"
            ],
            [
             0.9,
             "#4d9221"
            ],
            [
             1,
             "#276419"
            ]
           ],
           "sequential": [
            [
             0,
             "#0d0887"
            ],
            [
             0.1111111111111111,
             "#46039f"
            ],
            [
             0.2222222222222222,
             "#7201a8"
            ],
            [
             0.3333333333333333,
             "#9c179e"
            ],
            [
             0.4444444444444444,
             "#bd3786"
            ],
            [
             0.5555555555555556,
             "#d8576b"
            ],
            [
             0.6666666666666666,
             "#ed7953"
            ],
            [
             0.7777777777777778,
             "#fb9f3a"
            ],
            [
             0.8888888888888888,
             "#fdca26"
            ],
            [
             1,
             "#f0f921"
            ]
           ],
           "sequentialminus": [
            [
             0,
             "#0d0887"
            ],
            [
             0.1111111111111111,
             "#46039f"
            ],
            [
             0.2222222222222222,
             "#7201a8"
            ],
            [
             0.3333333333333333,
             "#9c179e"
            ],
            [
             0.4444444444444444,
             "#bd3786"
            ],
            [
             0.5555555555555556,
             "#d8576b"
            ],
            [
             0.6666666666666666,
             "#ed7953"
            ],
            [
             0.7777777777777778,
             "#fb9f3a"
            ],
            [
             0.8888888888888888,
             "#fdca26"
            ],
            [
             1,
             "#f0f921"
            ]
           ]
          },
          "colorway": [
           "#636efa",
           "#EF553B",
           "#00cc96",
           "#ab63fa",
           "#FFA15A",
           "#19d3f3",
           "#FF6692",
           "#B6E880",
           "#FF97FF",
           "#FECB52"
          ],
          "font": {
           "color": "#2a3f5f"
          },
          "geo": {
           "bgcolor": "white",
           "lakecolor": "white",
           "landcolor": "#E5ECF6",
           "showlakes": true,
           "showland": true,
           "subunitcolor": "white"
          },
          "hoverlabel": {
           "align": "left"
          },
          "hovermode": "closest",
          "mapbox": {
           "style": "light"
          },
          "paper_bgcolor": "white",
          "plot_bgcolor": "#E5ECF6",
          "polar": {
           "angularaxis": {
            "gridcolor": "white",
            "linecolor": "white",
            "ticks": ""
           },
           "bgcolor": "#E5ECF6",
           "radialaxis": {
            "gridcolor": "white",
            "linecolor": "white",
            "ticks": ""
           }
          },
          "scene": {
           "xaxis": {
            "backgroundcolor": "#E5ECF6",
            "gridcolor": "white",
            "gridwidth": 2,
            "linecolor": "white",
            "showbackground": true,
            "ticks": "",
            "zerolinecolor": "white"
           },
           "yaxis": {
            "backgroundcolor": "#E5ECF6",
            "gridcolor": "white",
            "gridwidth": 2,
            "linecolor": "white",
            "showbackground": true,
            "ticks": "",
            "zerolinecolor": "white"
           },
           "zaxis": {
            "backgroundcolor": "#E5ECF6",
            "gridcolor": "white",
            "gridwidth": 2,
            "linecolor": "white",
            "showbackground": true,
            "ticks": "",
            "zerolinecolor": "white"
           }
          },
          "shapedefaults": {
           "line": {
            "color": "#2a3f5f"
           }
          },
          "ternary": {
           "aaxis": {
            "gridcolor": "white",
            "linecolor": "white",
            "ticks": ""
           },
           "baxis": {
            "gridcolor": "white",
            "linecolor": "white",
            "ticks": ""
           },
           "bgcolor": "#E5ECF6",
           "caxis": {
            "gridcolor": "white",
            "linecolor": "white",
            "ticks": ""
           }
          },
          "title": {
           "x": 0.05
          },
          "xaxis": {
           "automargin": true,
           "gridcolor": "white",
           "linecolor": "white",
           "ticks": "",
           "title": {
            "standoff": 15
           },
           "zerolinecolor": "white",
           "zerolinewidth": 2
          },
          "yaxis": {
           "automargin": true,
           "gridcolor": "white",
           "linecolor": "white",
           "ticks": "",
           "title": {
            "standoff": 15
           },
           "zerolinecolor": "white",
           "zerolinewidth": 2
          }
         }
        },
        "title": {
         "text": "Gensim LDA - Number of Topics vs. Coherence and Perplexity"
        },
        "width": 1000,
        "xaxis": {
         "anchor": "y",
         "domain": [
          0,
          1
         ],
         "dtick": 1,
         "matches": "x2",
         "showticklabels": false,
         "tick0": 1,
         "tickmode": "linear"
        },
        "xaxis2": {
         "anchor": "y2",
         "domain": [
          0,
          1
         ],
         "dtick": 1,
         "tick0": 1,
         "tickmode": "linear"
        },
        "yaxis": {
         "anchor": "x",
         "domain": [
          0.51,
          1
         ]
        },
        "yaxis2": {
         "anchor": "x2",
         "domain": [
          0,
          0.49
         ]
        }
       }
      },
      "text/html": [
       "<div>                            <div id=\"de45d9a4-c011-4532-a52e-b725f3c5827e\" class=\"plotly-graph-div\" style=\"height:600px; width:1000px;\"></div>            <script type=\"text/javascript\">                require([\"plotly\"], function(Plotly) {                    window.PLOTLYENV=window.PLOTLYENV || {};                                    if (document.getElementById(\"de45d9a4-c011-4532-a52e-b725f3c5827e\")) {                    Plotly.newPlot(                        \"de45d9a4-c011-4532-a52e-b725f3c5827e\",                        [{\"mode\": \"lines+markers\", \"name\": \"Coherence score\", \"type\": \"scatter\", \"x\": [2, 3, 4, 5, 6, 7, 8, 9, 10, 11, 12, 13, 14, 15, 16, 17, 18, 19, 20, 21, 22, 23, 24], \"xaxis\": \"x\", \"y\": [0.28583767282536265, 0.2752829759157804, 0.30657297646201365, 0.3783465305220931, 0.4087541925428786, 0.510806688484608, 0.49553888068396307, 0.5682895147486904, 0.5487917724989237, 0.58985472376526, 0.6003649505746873, 0.39027616430873047, 0.3552314998529709, 0.36293001524451324, 0.34678335531203275, 0.3387750825673422, 0.3570557815077254, 0.3544543148211376, 0.3558733119123013, 0.3508123498740411, 0.36324176194342067, 0.35388138403918235, 0.35642502782653634], \"yaxis\": \"y\"}, {\"mode\": \"lines+markers\", \"name\": \"Perplexity\", \"type\": \"scatter\", \"x\": [2, 3, 4, 5, 6, 7, 8, 9, 10, 11, 12, 13, 14, 15, 16, 17, 18, 19, 20, 21, 22, 23, 24], \"xaxis\": \"x2\", \"y\": [-8.337072579204658, -8.398022682331808, -8.473104957902217, -8.511264517316269, -8.539222655960112, -8.608289112806899, -8.708939611456284, -8.936890961143089, -9.228390430155516, -9.741876559861463, -10.5774932093851, -11.642955991586238, -13.116239719252498, -15.07842578850146, -17.188267542484677, -19.227148575851285, -20.052551941820063, -20.681343305450703, -21.247356116980978, -21.9354417147979, -23.16665169133949, -23.267796796477498, -23.803751976884453], \"yaxis\": \"y2\"}],                        {\"annotations\": [{\"font\": {\"size\": 16}, \"showarrow\": false, \"text\": \"Coherence score\", \"x\": 0.5, \"xanchor\": \"center\", \"xref\": \"paper\", \"y\": 1.0, \"yanchor\": \"bottom\", \"yref\": \"paper\"}, {\"font\": {\"size\": 16}, \"showarrow\": false, \"text\": \"Perplexity\", \"x\": 0.5, \"xanchor\": \"center\", \"xref\": \"paper\", \"y\": 0.49, \"yanchor\": \"bottom\", \"yref\": \"paper\"}], \"height\": 600, \"template\": {\"data\": {\"bar\": [{\"error_x\": {\"color\": \"#2a3f5f\"}, \"error_y\": {\"color\": \"#2a3f5f\"}, \"marker\": {\"line\": {\"color\": \"#E5ECF6\", \"width\": 0.5}}, \"type\": \"bar\"}], \"barpolar\": [{\"marker\": {\"line\": {\"color\": \"#E5ECF6\", \"width\": 0.5}}, \"type\": \"barpolar\"}], \"carpet\": [{\"aaxis\": {\"endlinecolor\": \"#2a3f5f\", \"gridcolor\": \"white\", \"linecolor\": \"white\", \"minorgridcolor\": \"white\", \"startlinecolor\": \"#2a3f5f\"}, \"baxis\": {\"endlinecolor\": \"#2a3f5f\", \"gridcolor\": \"white\", \"linecolor\": \"white\", \"minorgridcolor\": \"white\", \"startlinecolor\": \"#2a3f5f\"}, \"type\": \"carpet\"}], \"choropleth\": [{\"colorbar\": {\"outlinewidth\": 0, \"ticks\": \"\"}, \"type\": \"choropleth\"}], \"contour\": [{\"colorbar\": {\"outlinewidth\": 0, \"ticks\": \"\"}, \"colorscale\": [[0.0, \"#0d0887\"], [0.1111111111111111, \"#46039f\"], [0.2222222222222222, \"#7201a8\"], [0.3333333333333333, \"#9c179e\"], [0.4444444444444444, \"#bd3786\"], [0.5555555555555556, \"#d8576b\"], [0.6666666666666666, \"#ed7953\"], [0.7777777777777778, \"#fb9f3a\"], [0.8888888888888888, \"#fdca26\"], [1.0, \"#f0f921\"]], \"type\": \"contour\"}], \"contourcarpet\": [{\"colorbar\": {\"outlinewidth\": 0, \"ticks\": \"\"}, \"type\": \"contourcarpet\"}], \"heatmap\": [{\"colorbar\": {\"outlinewidth\": 0, \"ticks\": \"\"}, \"colorscale\": [[0.0, \"#0d0887\"], [0.1111111111111111, \"#46039f\"], [0.2222222222222222, \"#7201a8\"], [0.3333333333333333, \"#9c179e\"], [0.4444444444444444, \"#bd3786\"], [0.5555555555555556, \"#d8576b\"], [0.6666666666666666, \"#ed7953\"], [0.7777777777777778, \"#fb9f3a\"], [0.8888888888888888, \"#fdca26\"], [1.0, \"#f0f921\"]], \"type\": \"heatmap\"}], \"heatmapgl\": [{\"colorbar\": {\"outlinewidth\": 0, \"ticks\": \"\"}, \"colorscale\": [[0.0, \"#0d0887\"], [0.1111111111111111, \"#46039f\"], [0.2222222222222222, \"#7201a8\"], [0.3333333333333333, \"#9c179e\"], [0.4444444444444444, \"#bd3786\"], [0.5555555555555556, \"#d8576b\"], [0.6666666666666666, \"#ed7953\"], [0.7777777777777778, \"#fb9f3a\"], [0.8888888888888888, \"#fdca26\"], [1.0, \"#f0f921\"]], \"type\": \"heatmapgl\"}], \"histogram\": [{\"marker\": {\"colorbar\": {\"outlinewidth\": 0, \"ticks\": \"\"}}, \"type\": \"histogram\"}], \"histogram2d\": [{\"colorbar\": {\"outlinewidth\": 0, \"ticks\": \"\"}, \"colorscale\": [[0.0, \"#0d0887\"], [0.1111111111111111, \"#46039f\"], [0.2222222222222222, \"#7201a8\"], [0.3333333333333333, \"#9c179e\"], [0.4444444444444444, \"#bd3786\"], [0.5555555555555556, \"#d8576b\"], [0.6666666666666666, \"#ed7953\"], [0.7777777777777778, \"#fb9f3a\"], [0.8888888888888888, \"#fdca26\"], [1.0, \"#f0f921\"]], \"type\": \"histogram2d\"}], \"histogram2dcontour\": [{\"colorbar\": {\"outlinewidth\": 0, \"ticks\": \"\"}, \"colorscale\": [[0.0, \"#0d0887\"], [0.1111111111111111, \"#46039f\"], [0.2222222222222222, \"#7201a8\"], [0.3333333333333333, \"#9c179e\"], [0.4444444444444444, \"#bd3786\"], [0.5555555555555556, \"#d8576b\"], [0.6666666666666666, \"#ed7953\"], [0.7777777777777778, \"#fb9f3a\"], [0.8888888888888888, \"#fdca26\"], [1.0, \"#f0f921\"]], \"type\": \"histogram2dcontour\"}], \"mesh3d\": [{\"colorbar\": {\"outlinewidth\": 0, \"ticks\": \"\"}, \"type\": \"mesh3d\"}], \"parcoords\": [{\"line\": {\"colorbar\": {\"outlinewidth\": 0, \"ticks\": \"\"}}, \"type\": \"parcoords\"}], \"pie\": [{\"automargin\": true, \"type\": \"pie\"}], \"scatter\": [{\"marker\": {\"colorbar\": {\"outlinewidth\": 0, \"ticks\": \"\"}}, \"type\": \"scatter\"}], \"scatter3d\": [{\"line\": {\"colorbar\": {\"outlinewidth\": 0, \"ticks\": \"\"}}, \"marker\": {\"colorbar\": {\"outlinewidth\": 0, \"ticks\": \"\"}}, \"type\": \"scatter3d\"}], \"scattercarpet\": [{\"marker\": {\"colorbar\": {\"outlinewidth\": 0, \"ticks\": \"\"}}, \"type\": \"scattercarpet\"}], \"scattergeo\": [{\"marker\": {\"colorbar\": {\"outlinewidth\": 0, \"ticks\": \"\"}}, \"type\": \"scattergeo\"}], \"scattergl\": [{\"marker\": {\"colorbar\": {\"outlinewidth\": 0, \"ticks\": \"\"}}, \"type\": \"scattergl\"}], \"scattermapbox\": [{\"marker\": {\"colorbar\": {\"outlinewidth\": 0, \"ticks\": \"\"}}, \"type\": \"scattermapbox\"}], \"scatterpolar\": [{\"marker\": {\"colorbar\": {\"outlinewidth\": 0, \"ticks\": \"\"}}, \"type\": \"scatterpolar\"}], \"scatterpolargl\": [{\"marker\": {\"colorbar\": {\"outlinewidth\": 0, \"ticks\": \"\"}}, \"type\": \"scatterpolargl\"}], \"scatterternary\": [{\"marker\": {\"colorbar\": {\"outlinewidth\": 0, \"ticks\": \"\"}}, \"type\": \"scatterternary\"}], \"surface\": [{\"colorbar\": {\"outlinewidth\": 0, \"ticks\": \"\"}, \"colorscale\": [[0.0, \"#0d0887\"], [0.1111111111111111, \"#46039f\"], [0.2222222222222222, \"#7201a8\"], [0.3333333333333333, \"#9c179e\"], [0.4444444444444444, \"#bd3786\"], [0.5555555555555556, \"#d8576b\"], [0.6666666666666666, \"#ed7953\"], [0.7777777777777778, \"#fb9f3a\"], [0.8888888888888888, \"#fdca26\"], [1.0, \"#f0f921\"]], \"type\": \"surface\"}], \"table\": [{\"cells\": {\"fill\": {\"color\": \"#EBF0F8\"}, \"line\": {\"color\": \"white\"}}, \"header\": {\"fill\": {\"color\": \"#C8D4E3\"}, \"line\": {\"color\": \"white\"}}, \"type\": \"table\"}]}, \"layout\": {\"annotationdefaults\": {\"arrowcolor\": \"#2a3f5f\", \"arrowhead\": 0, \"arrowwidth\": 1}, \"autotypenumbers\": \"strict\", \"coloraxis\": {\"colorbar\": {\"outlinewidth\": 0, \"ticks\": \"\"}}, \"colorscale\": {\"diverging\": [[0, \"#8e0152\"], [0.1, \"#c51b7d\"], [0.2, \"#de77ae\"], [0.3, \"#f1b6da\"], [0.4, \"#fde0ef\"], [0.5, \"#f7f7f7\"], [0.6, \"#e6f5d0\"], [0.7, \"#b8e186\"], [0.8, \"#7fbc41\"], [0.9, \"#4d9221\"], [1, \"#276419\"]], \"sequential\": [[0.0, \"#0d0887\"], [0.1111111111111111, \"#46039f\"], [0.2222222222222222, \"#7201a8\"], [0.3333333333333333, \"#9c179e\"], [0.4444444444444444, \"#bd3786\"], [0.5555555555555556, \"#d8576b\"], [0.6666666666666666, \"#ed7953\"], [0.7777777777777778, \"#fb9f3a\"], [0.8888888888888888, \"#fdca26\"], [1.0, \"#f0f921\"]], \"sequentialminus\": [[0.0, \"#0d0887\"], [0.1111111111111111, \"#46039f\"], [0.2222222222222222, \"#7201a8\"], [0.3333333333333333, \"#9c179e\"], [0.4444444444444444, \"#bd3786\"], [0.5555555555555556, \"#d8576b\"], [0.6666666666666666, \"#ed7953\"], [0.7777777777777778, \"#fb9f3a\"], [0.8888888888888888, \"#fdca26\"], [1.0, \"#f0f921\"]]}, \"colorway\": [\"#636efa\", \"#EF553B\", \"#00cc96\", \"#ab63fa\", \"#FFA15A\", \"#19d3f3\", \"#FF6692\", \"#B6E880\", \"#FF97FF\", \"#FECB52\"], \"font\": {\"color\": \"#2a3f5f\"}, \"geo\": {\"bgcolor\": \"white\", \"lakecolor\": \"white\", \"landcolor\": \"#E5ECF6\", \"showlakes\": true, \"showland\": true, \"subunitcolor\": \"white\"}, \"hoverlabel\": {\"align\": \"left\"}, \"hovermode\": \"closest\", \"mapbox\": {\"style\": \"light\"}, \"paper_bgcolor\": \"white\", \"plot_bgcolor\": \"#E5ECF6\", \"polar\": {\"angularaxis\": {\"gridcolor\": \"white\", \"linecolor\": \"white\", \"ticks\": \"\"}, \"bgcolor\": \"#E5ECF6\", \"radialaxis\": {\"gridcolor\": \"white\", \"linecolor\": \"white\", \"ticks\": \"\"}}, \"scene\": {\"xaxis\": {\"backgroundcolor\": \"#E5ECF6\", \"gridcolor\": \"white\", \"gridwidth\": 2, \"linecolor\": \"white\", \"showbackground\": true, \"ticks\": \"\", \"zerolinecolor\": \"white\"}, \"yaxis\": {\"backgroundcolor\": \"#E5ECF6\", \"gridcolor\": \"white\", \"gridwidth\": 2, \"linecolor\": \"white\", \"showbackground\": true, \"ticks\": \"\", \"zerolinecolor\": \"white\"}, \"zaxis\": {\"backgroundcolor\": \"#E5ECF6\", \"gridcolor\": \"white\", \"gridwidth\": 2, \"linecolor\": \"white\", \"showbackground\": true, \"ticks\": \"\", \"zerolinecolor\": \"white\"}}, \"shapedefaults\": {\"line\": {\"color\": \"#2a3f5f\"}}, \"ternary\": {\"aaxis\": {\"gridcolor\": \"white\", \"linecolor\": \"white\", \"ticks\": \"\"}, \"baxis\": {\"gridcolor\": \"white\", \"linecolor\": \"white\", \"ticks\": \"\"}, \"bgcolor\": \"#E5ECF6\", \"caxis\": {\"gridcolor\": \"white\", \"linecolor\": \"white\", \"ticks\": \"\"}}, \"title\": {\"x\": 0.05}, \"xaxis\": {\"automargin\": true, \"gridcolor\": \"white\", \"linecolor\": \"white\", \"ticks\": \"\", \"title\": {\"standoff\": 15}, \"zerolinecolor\": \"white\", \"zerolinewidth\": 2}, \"yaxis\": {\"automargin\": true, \"gridcolor\": \"white\", \"linecolor\": \"white\", \"ticks\": \"\", \"title\": {\"standoff\": 15}, \"zerolinecolor\": \"white\", \"zerolinewidth\": 2}}}, \"title\": {\"text\": \"Gensim LDA - Number of Topics vs. Coherence and Perplexity\"}, \"width\": 1000, \"xaxis\": {\"anchor\": \"y\", \"domain\": [0.0, 1.0], \"dtick\": 1, \"matches\": \"x2\", \"showticklabels\": false, \"tick0\": 1, \"tickmode\": \"linear\"}, \"xaxis2\": {\"anchor\": \"y2\", \"domain\": [0.0, 1.0], \"dtick\": 1, \"tick0\": 1, \"tickmode\": \"linear\"}, \"yaxis\": {\"anchor\": \"x\", \"domain\": [0.51, 1.0]}, \"yaxis2\": {\"anchor\": \"x2\", \"domain\": [0.0, 0.49]}},                        {\"responsive\": true}                    ).then(function(){\n",
       "                            \n",
       "var gd = document.getElementById('de45d9a4-c011-4532-a52e-b725f3c5827e');\n",
       "var x = new MutationObserver(function (mutations, observer) {{\n",
       "        var display = window.getComputedStyle(gd).display;\n",
       "        if (!display || display === 'none') {{\n",
       "            console.log([gd, 'removed!']);\n",
       "            Plotly.purge(gd);\n",
       "            observer.disconnect();\n",
       "        }}\n",
       "}});\n",
       "\n",
       "// Listen for the removal of the full notebook cells\n",
       "var notebookContainer = gd.closest('#notebook-container');\n",
       "if (notebookContainer) {{\n",
       "    x.observe(notebookContainer, {childList: true});\n",
       "}}\n",
       "\n",
       "// Listen for the clearing of the current output cell\n",
       "var outputEl = gd.closest('.output');\n",
       "if (outputEl) {{\n",
       "    x.observe(outputEl, {childList: true});\n",
       "}}\n",
       "\n",
       "                        })                };                });            </script>        </div>"
      ]
     },
     "metadata": {},
     "output_type": "display_data"
    }
   ],
   "source": [
    "coherence = []\n",
    "for k in range(2,25):\n",
    "    print('Round: '+str(k))\n",
    "    Lda = gensim.models.ldamodel.LdaModel\n",
    "    sample_ldamodel = Lda(corpus, num_topics=k, id2word = id2word, passes=5, iterations=10, chunksize = 2)\n",
    "    \n",
    "    cm = gensim.models.coherencemodel.CoherenceModel(model=sample_ldamodel, texts=data_lemma, dictionary=id2word, coherence='c_v')\n",
    "    pp = sample_ldamodel.log_perplexity(corpus, total_docs=73)\n",
    "    coherence.append((k,cm.get_coherence(),pp))\n",
    "    \n",
    "\n",
    "# model_list, coherence_values = compute_coherence_values(dictionary=id2word, corpus=corpus, texts=data_lemma, start=2, limit=16, step=1)\n",
    "\n",
    "x = [x[0] for x in coherence]\n",
    "y1 = [x[1] for x in coherence]\n",
    "y2 = [x[2] for x in coherence]\n",
    "\n",
    "fig = make_subplots( rows=2, cols=1, subplot_titles=(\"Coherence score\", \"Perplexity\"), shared_xaxes=True,\n",
    "                    vertical_spacing=0.02)\n",
    "\n",
    "fig.add_trace(go.Scatter(name=\"Coherence score\", x=x, y=y1, mode='lines+markers'), row=1, col=1)\n",
    "\n",
    "fig.add_trace(go.Scatter(name=\"Perplexity\", x=x, y=y2, mode='lines+markers'), row=2, col=1)\n",
    "\n",
    "fig.update_layout(height=600, width=1000, title_text=\"Gensim LDA - Number of Topics vs. Coherence and Perplexity\", xaxis1 = dict(\n",
    "        tickmode = 'linear', tick0 = 1, dtick = 1), xaxis2 = dict(tickmode = 'linear', tick0 = 1, dtick = 1))\n",
    "fig.write_html(\"Images/Gensim_optimal_new.html\")\n",
    "fig.show()"
   ]
  },
  {
   "cell_type": "code",
   "execution_count": null,
   "metadata": {},
   "outputs": [],
   "source": []
  },
  {
   "cell_type": "code",
   "execution_count": null,
   "metadata": {},
   "outputs": [],
   "source": []
  },
  {
   "cell_type": "code",
   "execution_count": null,
   "metadata": {},
   "outputs": [],
   "source": []
  },
  {
   "cell_type": "code",
   "execution_count": null,
   "metadata": {},
   "outputs": [],
   "source": []
  },
  {
   "cell_type": "code",
   "execution_count": null,
   "metadata": {},
   "outputs": [],
   "source": []
  },
  {
   "cell_type": "code",
   "execution_count": null,
   "metadata": {},
   "outputs": [],
   "source": []
  },
  {
   "cell_type": "code",
   "execution_count": null,
   "metadata": {},
   "outputs": [],
   "source": []
  },
  {
   "cell_type": "code",
   "execution_count": 114,
   "metadata": {},
   "outputs": [
    {
     "name": "stdout",
     "output_type": "stream",
     "text": [
      "Round: 2\n",
      "Round: 3\n",
      "Round: 4\n",
      "Round: 5\n",
      "Round: 6\n",
      "Round: 7\n",
      "Round: 8\n",
      "Round: 9\n",
      "Round: 10\n",
      "Round: 11\n",
      "Round: 12\n",
      "Round: 13\n",
      "Round: 14\n",
      "Round: 15\n",
      "Round: 16\n",
      "Round: 17\n",
      "Round: 18\n",
      "Round: 19\n",
      "Round: 20\n",
      "Round: 21\n",
      "Round: 22\n",
      "Round: 23\n",
      "Round: 24\n"
     ]
    },
    {
     "data": {
      "application/vnd.plotly.v1+json": {
       "config": {
        "plotlyServerURL": "https://plot.ly"
       },
       "data": [
        {
         "mode": "lines+markers",
         "name": "Coherence score",
         "type": "scatter",
         "x": [
          2,
          3,
          4,
          5,
          6,
          7,
          8,
          9,
          10,
          11,
          12,
          13,
          14,
          15,
          16,
          17,
          18,
          19,
          20,
          21,
          22,
          23,
          24
         ],
         "xaxis": "x",
         "y": [
          0.33571810579476796,
          0.33170575701061755,
          0.33687466418202355,
          0.32553532687658415,
          0.32622774511513325,
          0.33847588546640783,
          0.33055284263776,
          0.32599811572421733,
          0.3337511684212264,
          0.33414190601144983,
          0.34315522895689954,
          0.33067729529931744,
          0.3308970306579521,
          0.3337597748707107,
          0.3320060629526298,
          0.33067154507764024,
          0.3216385444279529,
          0.33544447442916586,
          0.33437578271282525,
          0.34063265153052613,
          0.3240699073524274,
          0.3312253529406254,
          0.332279173779887
         ],
         "yaxis": "y"
        }
       ],
       "layout": {
        "annotations": [
         {
          "font": {
           "size": 16
          },
          "showarrow": false,
          "text": "C",
          "x": 0.5,
          "xanchor": "center",
          "xref": "paper",
          "y": 1,
          "yanchor": "bottom",
          "yref": "paper"
         }
        ],
        "height": 600,
        "template": {
         "data": {
          "bar": [
           {
            "error_x": {
             "color": "#2a3f5f"
            },
            "error_y": {
             "color": "#2a3f5f"
            },
            "marker": {
             "line": {
              "color": "#E5ECF6",
              "width": 0.5
             }
            },
            "type": "bar"
           }
          ],
          "barpolar": [
           {
            "marker": {
             "line": {
              "color": "#E5ECF6",
              "width": 0.5
             }
            },
            "type": "barpolar"
           }
          ],
          "carpet": [
           {
            "aaxis": {
             "endlinecolor": "#2a3f5f",
             "gridcolor": "white",
             "linecolor": "white",
             "minorgridcolor": "white",
             "startlinecolor": "#2a3f5f"
            },
            "baxis": {
             "endlinecolor": "#2a3f5f",
             "gridcolor": "white",
             "linecolor": "white",
             "minorgridcolor": "white",
             "startlinecolor": "#2a3f5f"
            },
            "type": "carpet"
           }
          ],
          "choropleth": [
           {
            "colorbar": {
             "outlinewidth": 0,
             "ticks": ""
            },
            "type": "choropleth"
           }
          ],
          "contour": [
           {
            "colorbar": {
             "outlinewidth": 0,
             "ticks": ""
            },
            "colorscale": [
             [
              0,
              "#0d0887"
             ],
             [
              0.1111111111111111,
              "#46039f"
             ],
             [
              0.2222222222222222,
              "#7201a8"
             ],
             [
              0.3333333333333333,
              "#9c179e"
             ],
             [
              0.4444444444444444,
              "#bd3786"
             ],
             [
              0.5555555555555556,
              "#d8576b"
             ],
             [
              0.6666666666666666,
              "#ed7953"
             ],
             [
              0.7777777777777778,
              "#fb9f3a"
             ],
             [
              0.8888888888888888,
              "#fdca26"
             ],
             [
              1,
              "#f0f921"
             ]
            ],
            "type": "contour"
           }
          ],
          "contourcarpet": [
           {
            "colorbar": {
             "outlinewidth": 0,
             "ticks": ""
            },
            "type": "contourcarpet"
           }
          ],
          "heatmap": [
           {
            "colorbar": {
             "outlinewidth": 0,
             "ticks": ""
            },
            "colorscale": [
             [
              0,
              "#0d0887"
             ],
             [
              0.1111111111111111,
              "#46039f"
             ],
             [
              0.2222222222222222,
              "#7201a8"
             ],
             [
              0.3333333333333333,
              "#9c179e"
             ],
             [
              0.4444444444444444,
              "#bd3786"
             ],
             [
              0.5555555555555556,
              "#d8576b"
             ],
             [
              0.6666666666666666,
              "#ed7953"
             ],
             [
              0.7777777777777778,
              "#fb9f3a"
             ],
             [
              0.8888888888888888,
              "#fdca26"
             ],
             [
              1,
              "#f0f921"
             ]
            ],
            "type": "heatmap"
           }
          ],
          "heatmapgl": [
           {
            "colorbar": {
             "outlinewidth": 0,
             "ticks": ""
            },
            "colorscale": [
             [
              0,
              "#0d0887"
             ],
             [
              0.1111111111111111,
              "#46039f"
             ],
             [
              0.2222222222222222,
              "#7201a8"
             ],
             [
              0.3333333333333333,
              "#9c179e"
             ],
             [
              0.4444444444444444,
              "#bd3786"
             ],
             [
              0.5555555555555556,
              "#d8576b"
             ],
             [
              0.6666666666666666,
              "#ed7953"
             ],
             [
              0.7777777777777778,
              "#fb9f3a"
             ],
             [
              0.8888888888888888,
              "#fdca26"
             ],
             [
              1,
              "#f0f921"
             ]
            ],
            "type": "heatmapgl"
           }
          ],
          "histogram": [
           {
            "marker": {
             "colorbar": {
              "outlinewidth": 0,
              "ticks": ""
             }
            },
            "type": "histogram"
           }
          ],
          "histogram2d": [
           {
            "colorbar": {
             "outlinewidth": 0,
             "ticks": ""
            },
            "colorscale": [
             [
              0,
              "#0d0887"
             ],
             [
              0.1111111111111111,
              "#46039f"
             ],
             [
              0.2222222222222222,
              "#7201a8"
             ],
             [
              0.3333333333333333,
              "#9c179e"
             ],
             [
              0.4444444444444444,
              "#bd3786"
             ],
             [
              0.5555555555555556,
              "#d8576b"
             ],
             [
              0.6666666666666666,
              "#ed7953"
             ],
             [
              0.7777777777777778,
              "#fb9f3a"
             ],
             [
              0.8888888888888888,
              "#fdca26"
             ],
             [
              1,
              "#f0f921"
             ]
            ],
            "type": "histogram2d"
           }
          ],
          "histogram2dcontour": [
           {
            "colorbar": {
             "outlinewidth": 0,
             "ticks": ""
            },
            "colorscale": [
             [
              0,
              "#0d0887"
             ],
             [
              0.1111111111111111,
              "#46039f"
             ],
             [
              0.2222222222222222,
              "#7201a8"
             ],
             [
              0.3333333333333333,
              "#9c179e"
             ],
             [
              0.4444444444444444,
              "#bd3786"
             ],
             [
              0.5555555555555556,
              "#d8576b"
             ],
             [
              0.6666666666666666,
              "#ed7953"
             ],
             [
              0.7777777777777778,
              "#fb9f3a"
             ],
             [
              0.8888888888888888,
              "#fdca26"
             ],
             [
              1,
              "#f0f921"
             ]
            ],
            "type": "histogram2dcontour"
           }
          ],
          "mesh3d": [
           {
            "colorbar": {
             "outlinewidth": 0,
             "ticks": ""
            },
            "type": "mesh3d"
           }
          ],
          "parcoords": [
           {
            "line": {
             "colorbar": {
              "outlinewidth": 0,
              "ticks": ""
             }
            },
            "type": "parcoords"
           }
          ],
          "pie": [
           {
            "automargin": true,
            "type": "pie"
           }
          ],
          "scatter": [
           {
            "marker": {
             "colorbar": {
              "outlinewidth": 0,
              "ticks": ""
             }
            },
            "type": "scatter"
           }
          ],
          "scatter3d": [
           {
            "line": {
             "colorbar": {
              "outlinewidth": 0,
              "ticks": ""
             }
            },
            "marker": {
             "colorbar": {
              "outlinewidth": 0,
              "ticks": ""
             }
            },
            "type": "scatter3d"
           }
          ],
          "scattercarpet": [
           {
            "marker": {
             "colorbar": {
              "outlinewidth": 0,
              "ticks": ""
             }
            },
            "type": "scattercarpet"
           }
          ],
          "scattergeo": [
           {
            "marker": {
             "colorbar": {
              "outlinewidth": 0,
              "ticks": ""
             }
            },
            "type": "scattergeo"
           }
          ],
          "scattergl": [
           {
            "marker": {
             "colorbar": {
              "outlinewidth": 0,
              "ticks": ""
             }
            },
            "type": "scattergl"
           }
          ],
          "scattermapbox": [
           {
            "marker": {
             "colorbar": {
              "outlinewidth": 0,
              "ticks": ""
             }
            },
            "type": "scattermapbox"
           }
          ],
          "scatterpolar": [
           {
            "marker": {
             "colorbar": {
              "outlinewidth": 0,
              "ticks": ""
             }
            },
            "type": "scatterpolar"
           }
          ],
          "scatterpolargl": [
           {
            "marker": {
             "colorbar": {
              "outlinewidth": 0,
              "ticks": ""
             }
            },
            "type": "scatterpolargl"
           }
          ],
          "scatterternary": [
           {
            "marker": {
             "colorbar": {
              "outlinewidth": 0,
              "ticks": ""
             }
            },
            "type": "scatterternary"
           }
          ],
          "surface": [
           {
            "colorbar": {
             "outlinewidth": 0,
             "ticks": ""
            },
            "colorscale": [
             [
              0,
              "#0d0887"
             ],
             [
              0.1111111111111111,
              "#46039f"
             ],
             [
              0.2222222222222222,
              "#7201a8"
             ],
             [
              0.3333333333333333,
              "#9c179e"
             ],
             [
              0.4444444444444444,
              "#bd3786"
             ],
             [
              0.5555555555555556,
              "#d8576b"
             ],
             [
              0.6666666666666666,
              "#ed7953"
             ],
             [
              0.7777777777777778,
              "#fb9f3a"
             ],
             [
              0.8888888888888888,
              "#fdca26"
             ],
             [
              1,
              "#f0f921"
             ]
            ],
            "type": "surface"
           }
          ],
          "table": [
           {
            "cells": {
             "fill": {
              "color": "#EBF0F8"
             },
             "line": {
              "color": "white"
             }
            },
            "header": {
             "fill": {
              "color": "#C8D4E3"
             },
             "line": {
              "color": "white"
             }
            },
            "type": "table"
           }
          ]
         },
         "layout": {
          "annotationdefaults": {
           "arrowcolor": "#2a3f5f",
           "arrowhead": 0,
           "arrowwidth": 1
          },
          "autotypenumbers": "strict",
          "coloraxis": {
           "colorbar": {
            "outlinewidth": 0,
            "ticks": ""
           }
          },
          "colorscale": {
           "diverging": [
            [
             0,
             "#8e0152"
            ],
            [
             0.1,
             "#c51b7d"
            ],
            [
             0.2,
             "#de77ae"
            ],
            [
             0.3,
             "#f1b6da"
            ],
            [
             0.4,
             "#fde0ef"
            ],
            [
             0.5,
             "#f7f7f7"
            ],
            [
             0.6,
             "#e6f5d0"
            ],
            [
             0.7,
             "#b8e186"
            ],
            [
             0.8,
             "#7fbc41"
            ],
            [
             0.9,
             "#4d9221"
            ],
            [
             1,
             "#276419"
            ]
           ],
           "sequential": [
            [
             0,
             "#0d0887"
            ],
            [
             0.1111111111111111,
             "#46039f"
            ],
            [
             0.2222222222222222,
             "#7201a8"
            ],
            [
             0.3333333333333333,
             "#9c179e"
            ],
            [
             0.4444444444444444,
             "#bd3786"
            ],
            [
             0.5555555555555556,
             "#d8576b"
            ],
            [
             0.6666666666666666,
             "#ed7953"
            ],
            [
             0.7777777777777778,
             "#fb9f3a"
            ],
            [
             0.8888888888888888,
             "#fdca26"
            ],
            [
             1,
             "#f0f921"
            ]
           ],
           "sequentialminus": [
            [
             0,
             "#0d0887"
            ],
            [
             0.1111111111111111,
             "#46039f"
            ],
            [
             0.2222222222222222,
             "#7201a8"
            ],
            [
             0.3333333333333333,
             "#9c179e"
            ],
            [
             0.4444444444444444,
             "#bd3786"
            ],
            [
             0.5555555555555556,
             "#d8576b"
            ],
            [
             0.6666666666666666,
             "#ed7953"
            ],
            [
             0.7777777777777778,
             "#fb9f3a"
            ],
            [
             0.8888888888888888,
             "#fdca26"
            ],
            [
             1,
             "#f0f921"
            ]
           ]
          },
          "colorway": [
           "#636efa",
           "#EF553B",
           "#00cc96",
           "#ab63fa",
           "#FFA15A",
           "#19d3f3",
           "#FF6692",
           "#B6E880",
           "#FF97FF",
           "#FECB52"
          ],
          "font": {
           "color": "#2a3f5f"
          },
          "geo": {
           "bgcolor": "white",
           "lakecolor": "white",
           "landcolor": "#E5ECF6",
           "showlakes": true,
           "showland": true,
           "subunitcolor": "white"
          },
          "hoverlabel": {
           "align": "left"
          },
          "hovermode": "closest",
          "mapbox": {
           "style": "light"
          },
          "paper_bgcolor": "white",
          "plot_bgcolor": "#E5ECF6",
          "polar": {
           "angularaxis": {
            "gridcolor": "white",
            "linecolor": "white",
            "ticks": ""
           },
           "bgcolor": "#E5ECF6",
           "radialaxis": {
            "gridcolor": "white",
            "linecolor": "white",
            "ticks": ""
           }
          },
          "scene": {
           "xaxis": {
            "backgroundcolor": "#E5ECF6",
            "gridcolor": "white",
            "gridwidth": 2,
            "linecolor": "white",
            "showbackground": true,
            "ticks": "",
            "zerolinecolor": "white"
           },
           "yaxis": {
            "backgroundcolor": "#E5ECF6",
            "gridcolor": "white",
            "gridwidth": 2,
            "linecolor": "white",
            "showbackground": true,
            "ticks": "",
            "zerolinecolor": "white"
           },
           "zaxis": {
            "backgroundcolor": "#E5ECF6",
            "gridcolor": "white",
            "gridwidth": 2,
            "linecolor": "white",
            "showbackground": true,
            "ticks": "",
            "zerolinecolor": "white"
           }
          },
          "shapedefaults": {
           "line": {
            "color": "#2a3f5f"
           }
          },
          "ternary": {
           "aaxis": {
            "gridcolor": "white",
            "linecolor": "white",
            "ticks": ""
           },
           "baxis": {
            "gridcolor": "white",
            "linecolor": "white",
            "ticks": ""
           },
           "bgcolor": "#E5ECF6",
           "caxis": {
            "gridcolor": "white",
            "linecolor": "white",
            "ticks": ""
           }
          },
          "title": {
           "x": 0.05
          },
          "xaxis": {
           "automargin": true,
           "gridcolor": "white",
           "linecolor": "white",
           "ticks": "",
           "title": {
            "standoff": 15
           },
           "zerolinecolor": "white",
           "zerolinewidth": 2
          },
          "yaxis": {
           "automargin": true,
           "gridcolor": "white",
           "linecolor": "white",
           "ticks": "",
           "title": {
            "standoff": 15
           },
           "zerolinecolor": "white",
           "zerolinewidth": 2
          }
         }
        },
        "title": {
         "text": "Mallet LDA - Number of Topics vs. Coherence and Perplexity"
        },
        "width": 1000,
        "xaxis": {
         "anchor": "y",
         "domain": [
          0,
          1
         ],
         "dtick": 1,
         "tick0": 1,
         "tickmode": "linear"
        },
        "xaxis2": {
         "dtick": 1,
         "tick0": 1,
         "tickmode": "linear"
        },
        "yaxis": {
         "anchor": "x",
         "domain": [
          0,
          1
         ]
        }
       }
      },
      "text/html": [
       "<div>                            <div id=\"1520d629-72ce-454f-b35b-f26e493bc841\" class=\"plotly-graph-div\" style=\"height:600px; width:1000px;\"></div>            <script type=\"text/javascript\">                require([\"plotly\"], function(Plotly) {                    window.PLOTLYENV=window.PLOTLYENV || {};                                    if (document.getElementById(\"1520d629-72ce-454f-b35b-f26e493bc841\")) {                    Plotly.newPlot(                        \"1520d629-72ce-454f-b35b-f26e493bc841\",                        [{\"mode\": \"lines+markers\", \"name\": \"Coherence score\", \"type\": \"scatter\", \"x\": [2, 3, 4, 5, 6, 7, 8, 9, 10, 11, 12, 13, 14, 15, 16, 17, 18, 19, 20, 21, 22, 23, 24], \"xaxis\": \"x\", \"y\": [0.33571810579476796, 0.33170575701061755, 0.33687466418202355, 0.32553532687658415, 0.32622774511513325, 0.33847588546640783, 0.33055284263776, 0.32599811572421733, 0.3337511684212264, 0.33414190601144983, 0.34315522895689954, 0.33067729529931744, 0.3308970306579521, 0.3337597748707107, 0.3320060629526298, 0.33067154507764024, 0.3216385444279529, 0.33544447442916586, 0.33437578271282525, 0.34063265153052613, 0.3240699073524274, 0.3312253529406254, 0.332279173779887], \"yaxis\": \"y\"}],                        {\"annotations\": [{\"font\": {\"size\": 16}, \"showarrow\": false, \"text\": \"C\", \"x\": 0.5, \"xanchor\": \"center\", \"xref\": \"paper\", \"y\": 1.0, \"yanchor\": \"bottom\", \"yref\": \"paper\"}], \"height\": 600, \"template\": {\"data\": {\"bar\": [{\"error_x\": {\"color\": \"#2a3f5f\"}, \"error_y\": {\"color\": \"#2a3f5f\"}, \"marker\": {\"line\": {\"color\": \"#E5ECF6\", \"width\": 0.5}}, \"type\": \"bar\"}], \"barpolar\": [{\"marker\": {\"line\": {\"color\": \"#E5ECF6\", \"width\": 0.5}}, \"type\": \"barpolar\"}], \"carpet\": [{\"aaxis\": {\"endlinecolor\": \"#2a3f5f\", \"gridcolor\": \"white\", \"linecolor\": \"white\", \"minorgridcolor\": \"white\", \"startlinecolor\": \"#2a3f5f\"}, \"baxis\": {\"endlinecolor\": \"#2a3f5f\", \"gridcolor\": \"white\", \"linecolor\": \"white\", \"minorgridcolor\": \"white\", \"startlinecolor\": \"#2a3f5f\"}, \"type\": \"carpet\"}], \"choropleth\": [{\"colorbar\": {\"outlinewidth\": 0, \"ticks\": \"\"}, \"type\": \"choropleth\"}], \"contour\": [{\"colorbar\": {\"outlinewidth\": 0, \"ticks\": \"\"}, \"colorscale\": [[0.0, \"#0d0887\"], [0.1111111111111111, \"#46039f\"], [0.2222222222222222, \"#7201a8\"], [0.3333333333333333, \"#9c179e\"], [0.4444444444444444, \"#bd3786\"], [0.5555555555555556, \"#d8576b\"], [0.6666666666666666, \"#ed7953\"], [0.7777777777777778, \"#fb9f3a\"], [0.8888888888888888, \"#fdca26\"], [1.0, \"#f0f921\"]], \"type\": \"contour\"}], \"contourcarpet\": [{\"colorbar\": {\"outlinewidth\": 0, \"ticks\": \"\"}, \"type\": \"contourcarpet\"}], \"heatmap\": [{\"colorbar\": {\"outlinewidth\": 0, \"ticks\": \"\"}, \"colorscale\": [[0.0, \"#0d0887\"], [0.1111111111111111, \"#46039f\"], [0.2222222222222222, \"#7201a8\"], [0.3333333333333333, \"#9c179e\"], [0.4444444444444444, \"#bd3786\"], [0.5555555555555556, \"#d8576b\"], [0.6666666666666666, \"#ed7953\"], [0.7777777777777778, \"#fb9f3a\"], [0.8888888888888888, \"#fdca26\"], [1.0, \"#f0f921\"]], \"type\": \"heatmap\"}], \"heatmapgl\": [{\"colorbar\": {\"outlinewidth\": 0, \"ticks\": \"\"}, \"colorscale\": [[0.0, \"#0d0887\"], [0.1111111111111111, \"#46039f\"], [0.2222222222222222, \"#7201a8\"], [0.3333333333333333, \"#9c179e\"], [0.4444444444444444, \"#bd3786\"], [0.5555555555555556, \"#d8576b\"], [0.6666666666666666, \"#ed7953\"], [0.7777777777777778, \"#fb9f3a\"], [0.8888888888888888, \"#fdca26\"], [1.0, \"#f0f921\"]], \"type\": \"heatmapgl\"}], \"histogram\": [{\"marker\": {\"colorbar\": {\"outlinewidth\": 0, \"ticks\": \"\"}}, \"type\": \"histogram\"}], \"histogram2d\": [{\"colorbar\": {\"outlinewidth\": 0, \"ticks\": \"\"}, \"colorscale\": [[0.0, \"#0d0887\"], [0.1111111111111111, \"#46039f\"], [0.2222222222222222, \"#7201a8\"], [0.3333333333333333, \"#9c179e\"], [0.4444444444444444, \"#bd3786\"], [0.5555555555555556, \"#d8576b\"], [0.6666666666666666, \"#ed7953\"], [0.7777777777777778, \"#fb9f3a\"], [0.8888888888888888, \"#fdca26\"], [1.0, \"#f0f921\"]], \"type\": \"histogram2d\"}], \"histogram2dcontour\": [{\"colorbar\": {\"outlinewidth\": 0, \"ticks\": \"\"}, \"colorscale\": [[0.0, \"#0d0887\"], [0.1111111111111111, \"#46039f\"], [0.2222222222222222, \"#7201a8\"], [0.3333333333333333, \"#9c179e\"], [0.4444444444444444, \"#bd3786\"], [0.5555555555555556, \"#d8576b\"], [0.6666666666666666, \"#ed7953\"], [0.7777777777777778, \"#fb9f3a\"], [0.8888888888888888, \"#fdca26\"], [1.0, \"#f0f921\"]], \"type\": \"histogram2dcontour\"}], \"mesh3d\": [{\"colorbar\": {\"outlinewidth\": 0, \"ticks\": \"\"}, \"type\": \"mesh3d\"}], \"parcoords\": [{\"line\": {\"colorbar\": {\"outlinewidth\": 0, \"ticks\": \"\"}}, \"type\": \"parcoords\"}], \"pie\": [{\"automargin\": true, \"type\": \"pie\"}], \"scatter\": [{\"marker\": {\"colorbar\": {\"outlinewidth\": 0, \"ticks\": \"\"}}, \"type\": \"scatter\"}], \"scatter3d\": [{\"line\": {\"colorbar\": {\"outlinewidth\": 0, \"ticks\": \"\"}}, \"marker\": {\"colorbar\": {\"outlinewidth\": 0, \"ticks\": \"\"}}, \"type\": \"scatter3d\"}], \"scattercarpet\": [{\"marker\": {\"colorbar\": {\"outlinewidth\": 0, \"ticks\": \"\"}}, \"type\": \"scattercarpet\"}], \"scattergeo\": [{\"marker\": {\"colorbar\": {\"outlinewidth\": 0, \"ticks\": \"\"}}, \"type\": \"scattergeo\"}], \"scattergl\": [{\"marker\": {\"colorbar\": {\"outlinewidth\": 0, \"ticks\": \"\"}}, \"type\": \"scattergl\"}], \"scattermapbox\": [{\"marker\": {\"colorbar\": {\"outlinewidth\": 0, \"ticks\": \"\"}}, \"type\": \"scattermapbox\"}], \"scatterpolar\": [{\"marker\": {\"colorbar\": {\"outlinewidth\": 0, \"ticks\": \"\"}}, \"type\": \"scatterpolar\"}], \"scatterpolargl\": [{\"marker\": {\"colorbar\": {\"outlinewidth\": 0, \"ticks\": \"\"}}, \"type\": \"scatterpolargl\"}], \"scatterternary\": [{\"marker\": {\"colorbar\": {\"outlinewidth\": 0, \"ticks\": \"\"}}, \"type\": \"scatterternary\"}], \"surface\": [{\"colorbar\": {\"outlinewidth\": 0, \"ticks\": \"\"}, \"colorscale\": [[0.0, \"#0d0887\"], [0.1111111111111111, \"#46039f\"], [0.2222222222222222, \"#7201a8\"], [0.3333333333333333, \"#9c179e\"], [0.4444444444444444, \"#bd3786\"], [0.5555555555555556, \"#d8576b\"], [0.6666666666666666, \"#ed7953\"], [0.7777777777777778, \"#fb9f3a\"], [0.8888888888888888, \"#fdca26\"], [1.0, \"#f0f921\"]], \"type\": \"surface\"}], \"table\": [{\"cells\": {\"fill\": {\"color\": \"#EBF0F8\"}, \"line\": {\"color\": \"white\"}}, \"header\": {\"fill\": {\"color\": \"#C8D4E3\"}, \"line\": {\"color\": \"white\"}}, \"type\": \"table\"}]}, \"layout\": {\"annotationdefaults\": {\"arrowcolor\": \"#2a3f5f\", \"arrowhead\": 0, \"arrowwidth\": 1}, \"autotypenumbers\": \"strict\", \"coloraxis\": {\"colorbar\": {\"outlinewidth\": 0, \"ticks\": \"\"}}, \"colorscale\": {\"diverging\": [[0, \"#8e0152\"], [0.1, \"#c51b7d\"], [0.2, \"#de77ae\"], [0.3, \"#f1b6da\"], [0.4, \"#fde0ef\"], [0.5, \"#f7f7f7\"], [0.6, \"#e6f5d0\"], [0.7, \"#b8e186\"], [0.8, \"#7fbc41\"], [0.9, \"#4d9221\"], [1, \"#276419\"]], \"sequential\": [[0.0, \"#0d0887\"], [0.1111111111111111, \"#46039f\"], [0.2222222222222222, \"#7201a8\"], [0.3333333333333333, \"#9c179e\"], [0.4444444444444444, \"#bd3786\"], [0.5555555555555556, \"#d8576b\"], [0.6666666666666666, \"#ed7953\"], [0.7777777777777778, \"#fb9f3a\"], [0.8888888888888888, \"#fdca26\"], [1.0, \"#f0f921\"]], \"sequentialminus\": [[0.0, \"#0d0887\"], [0.1111111111111111, \"#46039f\"], [0.2222222222222222, \"#7201a8\"], [0.3333333333333333, \"#9c179e\"], [0.4444444444444444, \"#bd3786\"], [0.5555555555555556, \"#d8576b\"], [0.6666666666666666, \"#ed7953\"], [0.7777777777777778, \"#fb9f3a\"], [0.8888888888888888, \"#fdca26\"], [1.0, \"#f0f921\"]]}, \"colorway\": [\"#636efa\", \"#EF553B\", \"#00cc96\", \"#ab63fa\", \"#FFA15A\", \"#19d3f3\", \"#FF6692\", \"#B6E880\", \"#FF97FF\", \"#FECB52\"], \"font\": {\"color\": \"#2a3f5f\"}, \"geo\": {\"bgcolor\": \"white\", \"lakecolor\": \"white\", \"landcolor\": \"#E5ECF6\", \"showlakes\": true, \"showland\": true, \"subunitcolor\": \"white\"}, \"hoverlabel\": {\"align\": \"left\"}, \"hovermode\": \"closest\", \"mapbox\": {\"style\": \"light\"}, \"paper_bgcolor\": \"white\", \"plot_bgcolor\": \"#E5ECF6\", \"polar\": {\"angularaxis\": {\"gridcolor\": \"white\", \"linecolor\": \"white\", \"ticks\": \"\"}, \"bgcolor\": \"#E5ECF6\", \"radialaxis\": {\"gridcolor\": \"white\", \"linecolor\": \"white\", \"ticks\": \"\"}}, \"scene\": {\"xaxis\": {\"backgroundcolor\": \"#E5ECF6\", \"gridcolor\": \"white\", \"gridwidth\": 2, \"linecolor\": \"white\", \"showbackground\": true, \"ticks\": \"\", \"zerolinecolor\": \"white\"}, \"yaxis\": {\"backgroundcolor\": \"#E5ECF6\", \"gridcolor\": \"white\", \"gridwidth\": 2, \"linecolor\": \"white\", \"showbackground\": true, \"ticks\": \"\", \"zerolinecolor\": \"white\"}, \"zaxis\": {\"backgroundcolor\": \"#E5ECF6\", \"gridcolor\": \"white\", \"gridwidth\": 2, \"linecolor\": \"white\", \"showbackground\": true, \"ticks\": \"\", \"zerolinecolor\": \"white\"}}, \"shapedefaults\": {\"line\": {\"color\": \"#2a3f5f\"}}, \"ternary\": {\"aaxis\": {\"gridcolor\": \"white\", \"linecolor\": \"white\", \"ticks\": \"\"}, \"baxis\": {\"gridcolor\": \"white\", \"linecolor\": \"white\", \"ticks\": \"\"}, \"bgcolor\": \"#E5ECF6\", \"caxis\": {\"gridcolor\": \"white\", \"linecolor\": \"white\", \"ticks\": \"\"}}, \"title\": {\"x\": 0.05}, \"xaxis\": {\"automargin\": true, \"gridcolor\": \"white\", \"linecolor\": \"white\", \"ticks\": \"\", \"title\": {\"standoff\": 15}, \"zerolinecolor\": \"white\", \"zerolinewidth\": 2}, \"yaxis\": {\"automargin\": true, \"gridcolor\": \"white\", \"linecolor\": \"white\", \"ticks\": \"\", \"title\": {\"standoff\": 15}, \"zerolinecolor\": \"white\", \"zerolinewidth\": 2}}}, \"title\": {\"text\": \"Mallet LDA - Number of Topics vs. Coherence and Perplexity\"}, \"width\": 1000, \"xaxis\": {\"anchor\": \"y\", \"domain\": [0.0, 1.0], \"dtick\": 1, \"tick0\": 1, \"tickmode\": \"linear\"}, \"xaxis2\": {\"dtick\": 1, \"tick0\": 1, \"tickmode\": \"linear\"}, \"yaxis\": {\"anchor\": \"x\", \"domain\": [0.0, 1.0]}},                        {\"responsive\": true}                    ).then(function(){\n",
       "                            \n",
       "var gd = document.getElementById('1520d629-72ce-454f-b35b-f26e493bc841');\n",
       "var x = new MutationObserver(function (mutations, observer) {{\n",
       "        var display = window.getComputedStyle(gd).display;\n",
       "        if (!display || display === 'none') {{\n",
       "            console.log([gd, 'removed!']);\n",
       "            Plotly.purge(gd);\n",
       "            observer.disconnect();\n",
       "        }}\n",
       "}});\n",
       "\n",
       "// Listen for the removal of the full notebook cells\n",
       "var notebookContainer = gd.closest('#notebook-container');\n",
       "if (notebookContainer) {{\n",
       "    x.observe(notebookContainer, {childList: true});\n",
       "}}\n",
       "\n",
       "// Listen for the clearing of the current output cell\n",
       "var outputEl = gd.closest('.output');\n",
       "if (outputEl) {{\n",
       "    x.observe(outputEl, {childList: true});\n",
       "}}\n",
       "\n",
       "                        })                };                });            </script>        </div>"
      ]
     },
     "metadata": {},
     "output_type": "display_data"
    }
   ],
   "source": [
    "mallet_coherence = []\n",
    "for k in range(2,25):\n",
    "    print('Round: '+str(k))\n",
    "    sample_ldamodel_mallet = gensim.models.wrappers.LdaMallet(\n",
    "       mallet_path, corpus=corpus, id2word=id2word)\n",
    "    \n",
    "    cm = gensim.models.coherencemodel.CoherenceModel(model=sample_ldamodel_mallet, texts=data_lemma, dictionary=id2word, coherence='c_v')\n",
    "#     pp = sample_ldamodel_mallet.log_perplexity(corpus, total_docs=73)\n",
    "    mallet_coherence.append((k,cm.get_coherence(), pp))\n",
    "    \n",
    "    \n",
    "x_val = [x[0] for x in mallet_coherence]\n",
    "y_val1 = [x[1] for x in mallet_coherence]\n",
    "# y_val2 = [x[2] for x in mallet_coherence]\n",
    "\n",
    "fig = make_subplots( rows=1, cols=1, subplot_titles=(\"Coherence score\"), shared_xaxes=True,\n",
    "                    vertical_spacing=0.02)\n",
    "\n",
    "fig.add_trace(go.Scatter(name=\"Coherence score\", x=x_val, y=y_val1, mode='lines+markers'), row=1, col=1)\n",
    "\n",
    "# fig.add_trace(go.Scatter(name=\"Perplexity\", x=x_val, y=y_val2, mode='lines+markers'), row=2, col=1)\n",
    "\n",
    "fig.update_layout(height=600, width=1000, title_text=\"Mallet LDA - Number of Topics vs. Coherence and Perplexity\", xaxis1 = dict(\n",
    "        tickmode = 'linear', tick0 = 1, dtick = 1), xaxis2 = dict(tickmode = 'linear', tick0 = 1, dtick = 1))\n",
    "fig.write_html(\"Images/Gensim_optimal.html\")\n",
    "fig.show()"
   ]
  },
  {
   "cell_type": "code",
   "execution_count": null,
   "metadata": {},
   "outputs": [],
   "source": []
  },
  {
   "cell_type": "code",
   "execution_count": null,
   "metadata": {},
   "outputs": [],
   "source": []
  },
  {
   "cell_type": "code",
   "execution_count": null,
   "metadata": {},
   "outputs": [],
   "source": []
  },
  {
   "cell_type": "code",
   "execution_count": null,
   "metadata": {},
   "outputs": [],
   "source": []
  },
  {
   "cell_type": "code",
   "execution_count": null,
   "metadata": {},
   "outputs": [],
   "source": []
  },
  {
   "cell_type": "code",
   "execution_count": null,
   "metadata": {},
   "outputs": [],
   "source": []
  },
  {
   "cell_type": "code",
   "execution_count": null,
   "metadata": {},
   "outputs": [],
   "source": []
  },
  {
   "cell_type": "markdown",
   "metadata": {},
   "source": [
    "# Gensim LDA Model\n",
    "---"
   ]
  },
  {
   "cell_type": "code",
   "execution_count": 110,
   "metadata": {},
   "outputs": [
    {
     "data": {
      "text/plain": [
       "[(0,\n",
       "  '0.016*\"water\" + 0.008*\"yoga\" + 0.008*\"story\" + 0.007*\"farmer\" + 0.005*\"village\" + 0.005*\"family\" + 0.004*\"year\" + 0.004*\"youth\" + 0.003*\"opportunity\" + 0.003*\"river\"'),\n",
       " (1,\n",
       "  '0.005*\"year\" + 0.005*\"young\" + 0.005*\"day\" + 0.005*\"festival\" + 0.004*\"farmer\" + 0.004*\"poor\" + 0.004*\"work\" + 0.004*\"woman\" + 0.004*\"technology\" + 0.003*\"village\"'),\n",
       " (2,\n",
       "  '0.006*\"festival\" + 0.005*\"woman\" + 0.005*\"society\" + 0.005*\"day\" + 0.004*\"child\" + 0.004*\"young\" + 0.004*\"cleanliness\" + 0.004*\"game\" + 0.004*\"effort\" + 0.004*\"water\"'),\n",
       " (3,\n",
       "  '0.010*\"exam\" + 0.006*\"student\" + 0.005*\"thing\" + 0.005*\"family\" + 0.005*\"young\" + 0.004*\"mind\" + 0.004*\"child\" + 0.004*\"day\" + 0.004*\"experience\" + 0.003*\"opportunity\"'),\n",
       " (4,\n",
       "  '0.007*\"yoga\" + 0.007*\"corona\" + 0.005*\"family\" + 0.005*\"service\" + 0.005*\"ayushman\" + 0.004*\"treatment\" + 0.004*\"water\" + 0.004*\"child\" + 0.004*\"day\" + 0.003*\"heart\"'),\n",
       " (5,\n",
       "  '0.006*\"village\" + 0.006*\"family\" + 0.005*\"water\" + 0.005*\"poor\" + 0.004*\"day\" + 0.004*\"money\" + 0.004*\"state\" + 0.004*\"doctor\" + 0.004*\"social\" + 0.003*\"student\"'),\n",
       " (6,\n",
       "  '0.012*\"farmer\" + 0.007*\"village\" + 0.005*\"year\" + 0.005*\"child\" + 0.005*\"brother\" + 0.004*\"toy\" + 0.004*\"land\" + 0.004*\"effort\" + 0.004*\"family\" + 0.004*\"right\"')]"
      ]
     },
     "execution_count": 110,
     "metadata": {},
     "output_type": "execute_result"
    }
   ],
   "source": [
    "lda_model1 = gensim.models.LdaMulticore(corpus = corpus,\n",
    "                                       id2word = id2word,\n",
    "                                       num_topics = 7,\n",
    "                                       chunksize = 5,\n",
    "                                       passes = 10,\n",
    "                                       iterations = 10,\n",
    "                                       minimum_probability = 0)\n",
    "lda_model1.print_topics()"
   ]
  },
  {
   "cell_type": "code",
   "execution_count": 111,
   "metadata": {},
   "outputs": [
    {
     "data": {
      "text/html": [
       "\n",
       "<link rel=\"stylesheet\" type=\"text/css\" href=\"https://cdn.jsdelivr.net/gh/bmabey/pyLDAvis@3.3.1/pyLDAvis/js/ldavis.v1.0.0.css\">\n",
       "\n",
       "\n",
       "<div id=\"ldavis_el2848028417137825607335467773\"></div>\n",
       "<script type=\"text/javascript\">\n",
       "\n",
       "var ldavis_el2848028417137825607335467773_data = {\"mdsDat\": {\"x\": [0.021049339926022176, 0.02299852987814669, 0.049472979838256465, 0.02101831517182215, 0.006018507574546822, 0.00929949636236154, -0.1298571687511558], \"y\": [-0.00021934945619014, -0.036135789854277234, 0.02681386743845599, 0.06430291296579649, 0.03388120978159786, -0.09742427760685396, 0.008781426731471016], \"topics\": [1, 2, 3, 4, 5, 6, 7], \"cluster\": [1, 1, 1, 1, 1, 1, 1], \"Freq\": [28.06883680340598, 14.995078402900264, 14.101662303593827, 13.070817948706443, 12.855766224785198, 11.20760606035536, 5.700232256252936]}, \"tinfo\": {\"Term\": [\"water\", \"exam\", \"yoga\", \"farmer\", \"story\", \"corona\", \"toy\", \"village\", \"treatment\", \"ayushman\", \"doctor\", \"family\", \"money\", \"service\", \"river\", \"law\", \"vegetable\", \"conservation\", \"student\", \"innovation\", \"poor\", \"land\", \"cigarette\", \"kritika\", \"ncc\", \"medical\", \"bank\", \"teacher\", \"addiction\", \"drug\", \"savarkar\", \"nivedita\", \"barack\", \"buddha\", \"agreement\", \"aurobindo\", \"critical\", \"stump\", \"morna\", \"ramzan\", \"stubble\", \"peacekeeping\", \"ramazan\", \"rabindra\", \"lakshadweep\", \"prophet\", \"peacekeeper\", \"charter\", \"jona\", \"haj\", \"akshaya\", \"bru\", \"white\", \"shailesh\", \"lakshmi\", \"biography\", \"indoor\", \"female\", \"narasimha\", \"virendra\", \"obama\", \"gurudwara\", \"artificial\", \"nanak\", \"calendar\", \"dev\", \"game\", \"guru\", \"award\", \"devotee\", \"sahib\", \"prakash\", \"woman\", \"kumbh\", \"rao\", \"lord\", \"peace\", \"nature\", \"festival\", \"cleanliness\", \"society\", \"country\", \"holy\", \"path\", \"sardar\", \"culture\", \"singh\", \"earth\", \"unity\", \"campaign\", \"child\", \"day\", \"resolve\", \"young\", \"effort\", \"opportunity\", \"heart\", \"work\", \"sport\", \"daughter\", \"social\", \"state\", \"year\", \"water\", \"special\", \"strength\", \"family\", \"important\", \"service\", \"yoga\", \"village\", \"farmer\", \"youth\", \"kritika\", \"vinayak\", \"kaniga\", \"saffron\", \"manya\", \"kashmiri\", \"sirmodi\", \"tilakji\", \"anudeep\", \"exit\", \"relaxed\", \"leopard\", \"vip\", \"pandharpur\", \"malnutrition\", \"chandrika\", \"suriname\", \"singhji\", \"sahibzade\", \"santokhi\", \"korwa\", \"minusha\", \"apricot\", \"venkatji\", \"finish\", \"ramanujacharya\", \"abhinav\", \"chandrakant\", \"vitthal\", \"chandrasekhar\", \"swamiji\", \"calm\", \"exam\", \"sleep\", \"netaji\", \"bose\", \"score\", \"unfair\", \"kargil\", \"tilak\", \"kulkarni\", \"examination\", \"student\", \"parent\", \"mind\", \"tiger\", \"thing\", \"mark\", \"pressure\", \"question\", \"resolution\", \"result\", \"success\", \"experience\", \"family\", \"teacher\", \"young\", \"expectation\", \"time\", \"gandhi\", \"child\", \"number\", \"sense\", \"able\", \"strength\", \"youth\", \"day\", \"opportunity\", \"mother\", \"talk\", \"man\", \"year\", \"important\", \"social\", \"right\", \"society\", \"festival\", \"medium\", \"work\", \"effort\", \"compensation\", \"dog\", \"bee\", \"drawback\", \"tata\", \"honey\", \"sheep\", \"dashami\", \"cub\", \"nutrition\", \"karbi\", \"morarji\", \"acquisition\", \"nhrc\", \"jamsetji\", \"janata\", \"sikari\", \"consent\", \"tissau\", \"corridor\", \"toy\", \"barna\", \"vida\", \"hound\", \"ownership\", \"breed\", \"lioness\", \"fabulous\", \"tsunami\", \"pawan\", \"vijay\", \"betterment\", \"memorial\", \"private\", \"khaadi\", \"law\", \"farmer\", \"land\", \"industry\", \"mahotsav\", \"radio\", \"constitution\", \"amrit\", \"right\", \"subsidy\", \"brother\", \"village\", \"house\", \"soldier\", \"force\", \"app\", \"programme\", \"air\", \"movement\", \"child\", \"year\", \"education\", \"effort\", \"poor\", \"sister\", \"suggestion\", \"light\", \"news\", \"family\", \"man\", \"cleanliness\", \"work\", \"citizen\", \"festival\", \"youth\", \"student\", \"birth\", \"opportunity\", \"power\", \"young\", \"important\", \"day\", \"pencil\", \"pon\", \"gst\", \"eclipse\", \"valmiki\", \"mariyappan\", \"antibiotic\", \"himayat\", \"kabir\", \"oaxaca\", \"mallakhambh\", \"paralympic\", \"priyanka\", \"maghar\", \"astronomy\", \"sonal\", \"maharishi\", \"strawberry\", \"manzoor\", \"jhansi\", \"quit\", \"mukherjee\", \"telescope\", \"thirukkural\", \"chilean\", \"ajivika\", \"kalamji\", \"chile\", \"dayal\", \"logistic\", \"divyaang\", \"library\", \"brown\", \"incubation\", \"sankalp\", \"tax\", \"pulwama\", \"technology\", \"payment\", \"digital\", \"khadi\", \"vegetable\", \"local\", \"year\", \"young\", \"day\", \"prasad\", \"poor\", \"festival\", \"generation\", \"movement\", \"rupee\", \"work\", \"citizen\", \"woman\", \"farmer\", \"field\", \"unity\", \"freedom\", \"initiative\", \"programme\", \"village\", \"sister\", \"opportunity\", \"spirit\", \"family\", \"youth\", \"time\", \"effort\", \"different\", \"cleanliness\", \"yoga\", \"campaign\", \"amma\", \"bhagirathi\", \"nitesh\", \"kapoor\", \"ashok\", \"salman\", \"hunar\", \"kamya\", \"yespm\", \"purnia\", \"yuvika\", \"adarsh\", \"ajrak\", \"agra\", \"transplant\", \"criminal\", \"kannur\", \"bill\", \"harivansh\", \"nurse\", \"haat\", \"print\", \"navaraatri\", \"sufi\", \"chhathh\", \"scared\", \"saris\", \"mulberry\", \"cocoon\", \"expanse\", \"chulha\", \"virus\", \"tie\", \"atalji\", \"gupta\", \"quarantine\", \"african\", \"coin\", \"bank\", \"gold\", \"money\", \"doctor\", \"patient\", \"diwali\", \"banking\", \"donation\", \"jawan\", \"hospital\", \"olympic\", \"organ\", \"poor\", \"village\", \"teacher\", \"family\", \"home\", \"mobile\", \"water\", \"state\", \"social\", \"student\", \"day\", \"letter\", \"sport\", \"campaign\", \"effort\", \"opportunity\", \"service\", \"wish\", \"year\", \"young\", \"work\", \"festival\", \"school\", \"old\", \"small\", \"society\", \"house\", \"important\", \"thing\", \"tarannum\", \"commentary\", \"vinole\", \"hari\", \"akhil\", \"rama\", \"tenali\", \"cadet\", \"lavanya\", \"storyteller\", \"diver\", \"chia\", \"nayak\", \"crown\", \"rajmata\", \"gourd\", \"storytelling\", \"potato\", \"magh\", \"kingdom\", \"deshmukh\", \"ismail\", \"brahmaputra\", \"kiso\", \"coal\", \"ncc\", \"tank\", \"kaziranga\", \"pramod\", \"drum\", \"ravida\", \"khan\", \"king\", \"aparna\", \"verdict\", \"water\", \"story\", \"bhagat\", \"sant\", \"yoga\", \"river\", \"conservation\", \"vegetable\", \"language\", \"farming\", \"farmer\", \"bird\", \"election\", \"organization\", \"village\", \"family\", \"youth\", \"year\", \"citizen\", \"pride\", \"opportunity\", \"work\", \"rain\", \"day\", \"child\", \"different\", \"importance\", \"number\", \"thing\", \"young\", \"effort\", \"campaign\", \"society\", \"social\", \"experience\", \"festival\", \"medium\", \"cigarette\", \"jeeva\", \"amurtha\", \"valli\", \"payer\", \"laxmi\", \"ripudaman\", \"addiction\", \"medvedev\", \"ordeal\", \"respiratory\", \"kelansang\", \"laborer\", \"pranayama\", \"ayushman\", \"workforce\", \"portability\", \"devastation\", \"laaw\", \"harm\", \"paucity\", \"distress\", \"nadal\", \"mariamthresia\", \"aleena\", \"assurance\", \"lata\", \"orphanage\", \"daniil\", \"taayang\", \"honest\", \"menace\", \"tobacco\", \"drug\", \"trap\", \"surgery\", \"blog\", \"labourer\", \"eastern\", \"treatment\", \"beneficiary\", \"corona\", \"attack\", \"medical\", \"yoga\", \"underprivileged\", \"train\", \"service\", \"daily\", \"video\", \"concern\", \"innovation\", \"family\", \"crisis\", \"fight\", \"heart\", \"child\", \"person\", \"crore\", \"water\", \"day\", \"free\", \"mother\", \"home\", \"hand\", \"sister\", \"joy\", \"year\", \"daughter\", \"medium\", \"young\", \"opportunity\", \"small\"], \"Freq\": [333.0, 152.0, 217.0, 332.0, 162.0, 135.0, 59.0, 300.0, 47.0, 24.0, 83.0, 319.0, 87.0, 172.0, 65.0, 69.0, 53.0, 53.0, 193.0, 58.0, 191.0, 105.0, 15.0, 23.0, 25.0, 32.0, 71.0, 127.0, 15.0, 21.0, 14.508591385347705, 11.682767336601097, 26.083632346485782, 24.145964701747026, 7.820073655285562, 8.89001107996888, 8.243461061267093, 9.158335190326495, 7.772470877821419, 9.318961565586308, 8.519575973581503, 6.866205668977521, 7.117882255742007, 6.8269777078740335, 6.810591060651071, 6.78776095386998, 5.908448196549118, 8.468919884138128, 6.69012159051453, 5.89979507055251, 5.678240676601083, 5.877395814483006, 9.855508922406626, 5.629826007044584, 5.829433164603693, 5.404131835085426, 5.486100560348444, 6.641492740835507, 6.581171773363255, 5.6016824898983275, 11.008457332600361, 13.150364402664433, 6.5924274368951785, 30.172395637591524, 7.238460683789716, 27.952047588119722, 88.08834945682528, 59.74893221245621, 31.191626540884016, 14.325905702701231, 18.703951625340142, 17.47537210461353, 116.26644424053634, 24.285869150152678, 13.614929805051032, 31.010083982379847, 42.606956373216086, 55.918001941404235, 122.90814991626111, 89.2993437933061, 99.89866977302208, 53.47554163347582, 25.48997983711424, 46.62992153830935, 40.840602940897725, 42.65072383220713, 34.533361940692444, 23.758657307161194, 52.78276855577359, 73.36053724467504, 93.60501177733127, 98.63338326594808, 49.29517898299312, 90.97960179730305, 81.34390705535233, 78.59681288013222, 62.917791877323054, 75.05341693310164, 51.24389433730763, 53.00627796595968, 64.38226091741093, 63.64993425010498, 78.9294844197422, 79.17240950708171, 49.34160127931685, 49.721407388681264, 70.30710572304918, 53.853071456421794, 53.549901983456174, 56.285888677903564, 59.563143408499684, 59.42864327248794, 50.55061320443104, 22.401091564226423, 17.079337235492453, 14.999870072920364, 15.00109543565058, 8.376702692211776, 7.565640955149695, 6.4972749974949275, 6.551547523543718, 5.4335510491406165, 5.381900213927752, 5.642212626847276, 8.932213767941128, 5.605053269221278, 4.717588968507419, 4.692381221528025, 4.382584976160934, 4.377336605227149, 4.377394813283009, 4.375516189857315, 4.370652657327129, 4.371232076946031, 4.370809320151757, 4.36648429529264, 4.360135625794373, 4.839787634804948, 4.829856675240335, 4.21094006318905, 5.454115788967167, 3.80821083154091, 3.805780728363127, 8.612664180734162, 7.802483879946531, 115.09332666529947, 22.120019165030122, 12.111267028391504, 7.785135218360602, 10.28341898875064, 7.689655380172589, 10.586877208378251, 14.327435976459157, 7.500875013407954, 24.823485999708637, 64.69229225282285, 34.79578326250589, 45.099282367440864, 11.403449086316755, 58.208460322674384, 20.712512451653275, 11.735376034521757, 35.102493815677484, 14.316136296038183, 25.74109508839119, 26.790447301444974, 40.401888268142194, 55.99596879326723, 32.73740537749802, 51.46222248530022, 16.004365495041245, 34.21395283223895, 28.71240945197465, 43.5840821026693, 30.883829377167103, 22.232671377549174, 27.409437754572835, 28.634912244255244, 33.81175445806025, 40.500268530599335, 36.46488695744072, 27.495476578717845, 24.95261874223765, 28.478241436807668, 36.162170474753495, 29.22247966050773, 29.91556131854354, 25.797432503644426, 27.67916124596378, 28.125360918962972, 26.086711240864577, 26.80546298415204, 26.31609754739704, 7.3434563949063705, 16.138529573083943, 9.364589219604122, 6.512381450650861, 5.7024348888969545, 12.168929844426637, 5.746734237291263, 4.935845522218213, 4.930092193533288, 16.827039703838203, 5.261890628223755, 3.839816857745743, 8.87141825141901, 3.834682560076284, 3.8298710719105946, 4.057565005634745, 4.273173914961457, 8.197535269904378, 4.23980004171025, 6.372278998015579, 48.35113317046611, 3.3434224865215323, 3.3321332250868756, 3.3180850684746486, 3.3381899696813524, 7.587397781387135, 3.3357714008023307, 3.301201693507604, 3.2938971900850857, 3.3004306417374556, 10.149184600115246, 6.89168011518145, 17.11326037691546, 5.882219137703043, 5.75037898180476, 38.66923534625209, 133.07811282844642, 48.209717583822275, 17.23120596095573, 9.860873172461249, 22.865793298878128, 20.55123664485039, 8.025930113060092, 41.3297486971497, 13.105657961986802, 48.37121242208046, 78.77456759560187, 37.53969486376953, 32.981917451248734, 31.355830889587192, 30.72845687500818, 37.184646950409764, 19.31630136178616, 35.31984150951062, 53.83701293031842, 54.640708498735755, 26.349470884389437, 46.89565768754519, 39.723270936042745, 34.2408494919595, 27.606949031133613, 23.179694261303855, 24.9685593920409, 44.550238943517485, 31.1648477785195, 33.83281577679487, 35.5672061781709, 31.541661560590835, 36.99828076596576, 32.577812502912934, 31.627453816616057, 27.324177915428038, 33.35617878608096, 27.749638338997748, 31.78727204737404, 29.01979364036285, 30.38709458316871, 11.329541322411576, 9.328681048065087, 19.07776748154661, 10.58860583850668, 7.2517873352638444, 7.018487344462783, 7.056788778827829, 7.952312405260521, 6.324957800781433, 6.245573885614978, 6.23260803942709, 7.650635551723171, 6.186425040599353, 5.444437676328411, 6.218385039637441, 5.513520818163843, 5.2338569097510295, 6.131354986374677, 5.210350804790456, 5.144907493747571, 9.309862595187827, 10.534915869878033, 4.515632531919249, 4.205829699600415, 4.203257405607147, 4.069760218246875, 5.306610615377577, 4.183905474264195, 6.613520941817034, 4.293651562477203, 5.915895791175707, 14.900720394839983, 6.4256756357644615, 5.388890390824099, 5.982958093388386, 16.291721424169825, 7.663757962243382, 34.94787275613004, 14.195414314028497, 16.596469837960182, 28.189902082104933, 19.923829536059152, 26.613709802089332, 53.72116088259072, 50.02367266525934, 49.711457872420894, 12.147376567410076, 37.86058631677045, 46.802659579824336, 27.30562441367617, 30.236033223076404, 20.815279010644076, 37.836930026024426, 31.80751001734961, 36.032835745465505, 44.06486201072615, 26.558784714839028, 25.41583957469769, 22.842508777628947, 20.8994758293597, 26.771568399558976, 34.368482669787035, 24.80354546437948, 29.551188360895768, 23.025264583145244, 30.45010189505719, 26.158040330354908, 24.41795418779258, 26.33253881701094, 23.40058060058861, 24.422581533614554, 24.844792627663775, 23.36389583792177, 8.633486172476102, 8.493886554809595, 10.764108006286113, 7.670770603151496, 14.25887722156344, 5.8138146878575565, 5.802552431911956, 5.759399746865522, 5.496832400319947, 4.847569932338016, 4.841507921984757, 5.097985882459983, 3.9191681134042042, 4.38857126460949, 4.859885583064166, 4.00346364960067, 4.140394990342, 5.015923748516162, 4.088683971740104, 8.7383939126595, 6.808900331659524, 6.464656962846594, 3.2519212251123224, 3.3782225178746135, 4.7015427244296015, 5.952530297993013, 2.9695469769242324, 2.9679700215543234, 2.9661951625629475, 2.9631476178905762, 3.3234864825342023, 15.789235699019123, 3.3179075395221065, 10.79921280083534, 12.740446572175124, 14.310199847179112, 6.55890984580734, 6.386347013126508, 33.81126225966771, 29.558403546061577, 38.36411092508232, 36.33889415698285, 17.89030487590235, 15.1899744079758, 8.970922112972495, 12.791703039807828, 17.3082435197761, 17.322426422538808, 11.976615017186557, 11.83725664802691, 45.09901640442817, 56.50711648282883, 32.99894716905675, 54.161980240878904, 31.945648203516416, 18.928011089249804, 51.0648741140248, 37.661421893560814, 36.04346454337973, 34.01117115241233, 40.2496864416122, 25.85397169817121, 25.655876446683845, 30.152632267779737, 33.10324408855256, 33.35062247473235, 27.560902410206623, 21.265917860578043, 31.42507156732086, 28.534280251010596, 26.660562982600474, 27.847786237457957, 23.332280331464737, 21.519202557720135, 22.798857640024398, 24.059495724189695, 21.007974728911027, 22.2726667005155, 22.093830266001397, 11.676641884558713, 11.326559868666502, 10.832400547884435, 10.01425076129574, 9.180812786163111, 7.641692751521958, 6.776995731067075, 11.644407811991282, 4.8838120292438765, 4.8741905339754465, 4.244804729308812, 3.941007669428721, 3.9315129625068073, 3.9290525227705753, 3.928192350851068, 3.925486786978236, 3.921424836402274, 3.9181872586832736, 7.072826753716885, 3.789056559615561, 5.8153349608696345, 7.825828212982346, 3.4155256605465394, 3.4122540239971997, 4.23957060803907, 20.149420811687712, 6.426342919010936, 2.9842896559086336, 2.982216542140781, 2.9814463650868404, 15.016009265816928, 13.851271849607869, 16.92531945089868, 11.219600225126388, 5.219388961085346, 139.56208846114137, 69.24516408564651, 11.864224000207553, 11.521054186641924, 69.81657281131075, 27.664397809236206, 22.89252795694596, 22.162312600991005, 27.00292460871674, 14.481092712326278, 59.256135752751206, 16.816748849544, 16.45279668575203, 18.05833193676318, 43.21246368121372, 42.45328887249589, 31.012904890046084, 35.7287014773685, 27.412877573461866, 19.49886433640796, 27.699944289507542, 26.165733698527205, 15.651263630695091, 26.9748084227605, 25.134792295328484, 21.02623929527882, 16.846340752411855, 20.260915003150316, 21.348395059129967, 23.137317968961653, 22.016345901133445, 20.689093668404954, 20.61807628366099, 20.07289236014848, 19.63678022486629, 19.121864408736393, 18.539513102953933, 13.389121192059502, 6.397334086534041, 4.865742361434976, 4.844252402854885, 4.812479228509897, 4.233762584459899, 4.182086289497752, 12.4965874263391, 3.5251164066525495, 3.2806260228604454, 3.279398278109841, 3.2724247890794267, 3.271811548910484, 3.2677191507026517, 19.583814932755505, 3.2237350369606657, 3.1991768544755104, 2.6760040910139704, 2.5073655733802567, 2.7202820542719612, 2.380672936184745, 4.866540964508593, 2.1782563913980533, 2.169981063031674, 2.1676153468335477, 2.2608710954277944, 2.1644191643612745, 2.1634620039326364, 2.159950476928128, 2.1530596804895668, 4.8091512942322545, 6.587224094508955, 3.5297337890215057, 11.489996552611384, 4.035773507251699, 3.403740624942404, 3.2564074616317398, 7.56110562271419, 9.668837624506063, 18.06248973317344, 10.127277261499135, 28.86410864387056, 6.468387506422047, 10.160376551904301, 30.46517883637426, 8.670019348647465, 7.3030334232546394, 20.36389891191758, 8.696834002071784, 10.567168469662684, 10.98403219337927, 11.242826119619092, 21.998695543535305, 10.675701611381186, 9.373279634034965, 15.093659794692599, 17.343006526830067, 13.79674661068256, 13.271679504084712, 17.68426241604312, 16.915249634652714, 11.92548355839048, 12.097783562377233, 11.849409408476008, 11.482888530067617, 11.899294030614668, 10.6449015290651, 13.059570730038203, 11.227418491984734, 11.287295009197724, 11.65777602824349, 11.276073093429893, 10.729656630946359], \"Total\": [333.0, 152.0, 217.0, 332.0, 162.0, 135.0, 59.0, 300.0, 47.0, 24.0, 83.0, 319.0, 87.0, 172.0, 65.0, 69.0, 53.0, 53.0, 193.0, 58.0, 191.0, 105.0, 15.0, 23.0, 25.0, 32.0, 71.0, 127.0, 15.0, 21.0, 15.472462170974424, 12.5693998677024, 28.17283279303583, 26.61301695989174, 8.662216272441055, 9.854444751327236, 9.156449641120224, 10.193809242606298, 8.656137941658926, 10.411979140945991, 9.534367681395999, 7.689418107518677, 8.003359119328481, 7.68316841310687, 7.686583749753321, 7.67774403433301, 6.7143973454753985, 9.624577041902025, 7.607427469086024, 6.711644907242453, 6.481992226392856, 6.710671829829813, 11.264914038057777, 6.461058188570816, 6.708302110894649, 6.238779124066527, 6.3359319155410425, 7.673073036282059, 7.60822694417553, 6.48238812311948, 12.856732491599194, 15.778712345668733, 7.6799776700295315, 39.48808814966866, 8.50030006007007, 38.05953971601721, 137.35059605346868, 91.41740380972684, 45.217593152263476, 18.495148048520036, 25.19231599526316, 23.599892724929823, 219.43772428967856, 35.10624247963879, 17.82826106073625, 48.94253000826562, 73.51757475495455, 106.27373296094903, 289.179230546432, 193.72366259690799, 227.60659560520122, 104.09856320979961, 40.062836098442375, 88.82539005211471, 78.14747814549493, 83.18452083325603, 63.602148385054505, 37.85434964238921, 115.73825016017936, 187.37416079655935, 274.8428595222043, 303.3719487511624, 113.49487790488752, 287.5821432434524, 243.73258809613318, 250.29570684221943, 176.1482161449333, 235.38492412316802, 127.12501638394208, 135.20392883066154, 192.4720496509784, 195.06196299936028, 303.66686805054974, 333.17788837394323, 124.06175558466228, 130.79056375083582, 319.9173800118012, 172.39708338655242, 172.89566542315504, 217.53658178012117, 300.84006564269055, 332.2619742007027, 199.35205318639132, 23.39948303816957, 18.03015517005077, 15.888625786742436, 15.893196258465569, 9.243013545988235, 8.376900617579624, 7.302559204599803, 7.380322803259009, 6.227821090864645, 6.208621251863708, 6.538891738246378, 10.397694324820321, 6.537891292901184, 5.517030136938695, 5.5171477877431325, 5.155094427573204, 5.154729522658506, 5.155240777581444, 5.154982881568221, 5.153445022547025, 5.154543806414835, 5.154170222040122, 5.15265966956145, 5.153420801429537, 5.729864481131987, 5.728592612849254, 5.009309198995933, 6.524047216630457, 4.585936029142484, 4.586080619412836, 10.393920817727134, 9.467121528199952, 152.67949950254007, 29.75856954862337, 15.562901856400169, 10.082319362573084, 14.010289368476581, 10.067562914628516, 14.760539943045067, 21.52129143240049, 9.945780391380422, 51.47118012078678, 193.32277763882365, 83.96485647336587, 120.87783833905108, 18.77690099507657, 186.39553865168793, 46.698456863162015, 20.21983802756274, 110.33566337595464, 28.38949419988326, 75.05484148082775, 83.10683356168053, 176.1924082336913, 319.9173800118012, 127.44699387973436, 287.5821432434524, 37.03789592990237, 167.9708117340472, 118.64862549248296, 274.8428595222043, 143.43303561667193, 73.90589218258916, 118.8430203573998, 130.79056375083582, 199.35205318639132, 303.3719487511624, 250.29570684221943, 128.75734270380028, 101.54573653576588, 149.46824364897657, 303.66686805054974, 172.39708338655242, 192.4720496509784, 119.1686816120241, 227.60659560520122, 289.179230546432, 143.42897915507535, 235.38492412316802, 243.73258809613318, 8.243125134914, 18.212708424079096, 10.617623122652423, 7.420923140955844, 6.505452031989268, 13.888624491185785, 6.601844883960433, 5.781356223580009, 5.782760119605116, 19.997596191446082, 6.283000849119687, 4.623988701387929, 10.69277688615597, 4.623312742075773, 4.623071670785587, 4.910226288965629, 5.1946915995676815, 10.030683125880904, 5.1974118486457375, 7.8178088399761805, 59.40082077453659, 4.115507562535949, 4.116074154226898, 4.115587995749945, 4.141550992122425, 9.417000119951968, 4.141802713486675, 4.112796103068834, 4.112629204465412, 4.142081227364354, 13.622094499782838, 9.214283919541812, 25.318977184863336, 7.815361556955971, 7.639293774482649, 69.42758833949661, 332.2619742007027, 105.5269309255609, 32.99765242511021, 15.907712401752708, 49.26075412037812, 43.2667841043765, 12.371519398433291, 119.1686816120241, 24.33661040438727, 149.59478887349064, 300.84006564269055, 109.12052271711153, 100.82677412972987, 98.83769168778873, 99.85090321461108, 140.53155417144055, 49.4449654845805, 135.2531077073802, 274.8428595222043, 303.66686805054974, 86.8587065595557, 243.73258809613318, 191.83521681614812, 146.07411542076917, 100.74575328054512, 75.11069039209595, 89.48772663605841, 319.9173800118012, 149.46824364897657, 193.72366259690799, 235.38492412316802, 169.2746179682775, 289.179230546432, 199.35205318639132, 193.32277763882365, 115.12531918698494, 250.29570684221943, 122.481457869269, 287.5821432434524, 172.39708338655242, 303.3719487511624, 12.257698011058208, 10.194950189386184, 20.872605772640416, 11.649692841651543, 8.113452817229643, 7.865916761211526, 7.926527293791867, 8.957671399380006, 7.154032321374346, 7.078808547095949, 7.075666536395725, 8.710692031339047, 7.09324485065823, 6.25865621413472, 7.162836132062167, 6.356438398899244, 6.043190895349903, 7.0949018320210655, 6.040949723169145, 6.056046847097629, 11.011226841709313, 12.46512020910864, 5.357526778320783, 5.007034583528483, 5.012354877972634, 4.873196330710247, 6.359393396607528, 5.014119711620175, 7.930502004231622, 5.152688118991807, 7.15890808930356, 19.661729751930235, 8.034081504877488, 6.63413298827262, 7.511021178230882, 26.293077357444915, 11.035490083258466, 110.36870040245215, 28.25545134653431, 36.625355556667074, 87.80086436232044, 53.02455018765186, 89.86997969328684, 303.66686805054974, 287.5821432434524, 303.3719487511624, 24.781927634818405, 191.83521681614812, 289.179230546432, 111.16189585443608, 135.2531077073802, 71.89978037912142, 235.38492412316802, 169.2746179682775, 219.43772428967856, 332.2619742007027, 121.0020152895227, 115.73825016017936, 94.71714158406178, 78.80994818935775, 140.53155417144055, 300.84006564269055, 146.07411542076917, 250.29570684221943, 124.45212197839909, 319.9173800118012, 199.35205318639132, 167.9708117340472, 243.73258809613318, 146.864595495497, 193.72366259690799, 217.53658178012117, 187.37416079655935, 9.479261940544772, 9.356422202060793, 11.897386216618996, 8.59514837812958, 16.049345633419563, 6.609471862517537, 6.608147870764851, 6.600036658160667, 6.382613667476998, 5.648095749769995, 5.646901688571467, 5.985504083673287, 4.6941501137812836, 5.276446356804462, 5.85131204628885, 4.837230676135985, 5.026957542973839, 6.095790519300188, 5.012378396482021, 10.770311644859612, 8.405760952468762, 7.981510363981108, 4.029003023310375, 4.1983259898442755, 5.877195196275664, 7.486014121694629, 3.73483104185049, 3.73414245892932, 3.733636055653247, 3.7325954195692117, 4.200807112863431, 20.989997599211023, 4.1942733845586, 14.734410382264109, 17.85092194366319, 22.38496594456622, 9.345403366298, 9.095974232150567, 71.97482227367186, 61.84294801453594, 87.98947549240847, 83.52481844348591, 33.997958406376256, 27.47708990660595, 14.023770067237221, 22.764053510078213, 36.81341646181644, 37.099318851878735, 22.05864852441278, 22.59733691746006, 191.83521681614812, 300.84006564269055, 127.44699387973436, 319.9173800118012, 132.12444702760234, 54.54361842327447, 333.17788837394323, 195.06196299936028, 192.4720496509784, 193.32277763882365, 303.3719487511624, 117.06330580916489, 127.12501638394208, 187.37416079655935, 243.73258809613318, 250.29570684221943, 172.89566542315504, 89.41158401529262, 303.66686805054974, 287.5821432434524, 235.38492412316802, 289.179230546432, 145.7444490092993, 107.20339127871017, 148.87772647873845, 227.60659560520122, 109.12052271711153, 172.39708338655242, 186.39553865168793, 12.564877549363237, 12.192965691528196, 11.729209635223754, 10.894144232864724, 10.059231619504484, 8.569719933717582, 7.6036218309152765, 13.276891910676113, 5.677229388917607, 5.677636817454753, 5.039812571995223, 4.715547550279041, 4.715490475576505, 4.714480135177567, 4.714092476220089, 4.714028407684791, 4.712347048769325, 4.71384172679085, 8.532688513864873, 4.585205307394589, 7.055930292088951, 9.51148646005493, 4.204974078570178, 4.204553208552667, 5.26118466153104, 25.057160010511055, 8.075372090064826, 3.7516786348191338, 3.75179140043163, 3.751715905777852, 19.330767691573016, 18.679560370555365, 23.172214115811347, 15.321267253129552, 6.819877044068523, 333.17788837394323, 162.63225079956842, 18.646218959216647, 19.205094233591694, 217.53658178012117, 65.18723572146206, 53.70174074400438, 53.02455018765186, 88.16798655290917, 34.50493921303959, 332.2619742007027, 43.86390387071239, 46.22343308587955, 56.70156029610135, 300.84006564269055, 319.9173800118012, 199.35205318639132, 303.66686805054974, 169.2746179682775, 88.80811363737291, 250.29570684221943, 235.38492412316802, 46.79184289209079, 303.3719487511624, 274.8428595222043, 146.864595495497, 63.40373872027809, 143.43303561667193, 186.39553865168793, 287.5821432434524, 243.73258809613318, 187.37416079655935, 227.60659560520122, 192.4720496509784, 176.1924082336913, 289.179230546432, 143.42897915507535, 15.103492939325927, 7.422853320375952, 5.770493319181393, 5.776304553841932, 5.784877404500936, 5.117033336674259, 5.132308769186014, 15.383172190382668, 4.414309350628127, 4.132036741692567, 4.132238802519124, 4.134830424464151, 4.135425327213712, 4.135870120903915, 24.849781430330655, 4.147349441887933, 4.154388991791258, 3.5173035599195352, 3.334585083816764, 3.6201729081550926, 3.204889918948382, 6.578509170400761, 2.9850528050755956, 2.9877837294281533, 2.988986890598474, 3.1223052879597546, 2.989499667473111, 2.9899866573738474, 2.9899086323127584, 2.9921790689937566, 6.6855168436008166, 9.562895301168108, 5.229630804332921, 21.24938364944805, 6.354376429076836, 5.165825022774898, 4.9234422381322, 14.364843671670886, 20.3592205386388, 47.64968074248762, 22.46062510306604, 135.09425385023115, 14.403007309973994, 32.41781265412632, 217.53658178012117, 24.784245040979343, 19.53508566345308, 172.89566542315504, 31.600540058628702, 49.64988096266205, 54.0871797203942, 58.748555984933475, 319.9173800118012, 61.144704891097675, 46.35636188703704, 176.1482161449333, 274.8428595222043, 146.2632415983741, 132.51074889620205, 333.17788837394323, 303.3719487511624, 112.50326880810036, 128.75734270380028, 132.12444702760234, 115.63524216387363, 146.07411542076917, 89.49592382145578, 303.66686805054974, 135.20392883066154, 143.42897915507535, 287.5821432434524, 250.29570684221943, 148.87772647873845], \"Category\": [\"Default\", \"Default\", \"Default\", \"Default\", \"Default\", \"Default\", \"Default\", \"Default\", \"Default\", \"Default\", \"Default\", \"Default\", \"Default\", \"Default\", \"Default\", \"Default\", \"Default\", \"Default\", \"Default\", \"Default\", \"Default\", \"Default\", \"Default\", \"Default\", \"Default\", \"Default\", \"Default\", \"Default\", \"Default\", \"Default\", \"Topic1\", \"Topic1\", \"Topic1\", \"Topic1\", \"Topic1\", \"Topic1\", \"Topic1\", \"Topic1\", \"Topic1\", \"Topic1\", \"Topic1\", \"Topic1\", \"Topic1\", \"Topic1\", \"Topic1\", \"Topic1\", \"Topic1\", \"Topic1\", \"Topic1\", \"Topic1\", \"Topic1\", \"Topic1\", \"Topic1\", \"Topic1\", \"Topic1\", \"Topic1\", \"Topic1\", \"Topic1\", \"Topic1\", \"Topic1\", \"Topic1\", \"Topic1\", \"Topic1\", \"Topic1\", \"Topic1\", \"Topic1\", \"Topic1\", \"Topic1\", \"Topic1\", \"Topic1\", \"Topic1\", \"Topic1\", \"Topic1\", \"Topic1\", \"Topic1\", \"Topic1\", \"Topic1\", \"Topic1\", \"Topic1\", \"Topic1\", \"Topic1\", \"Topic1\", \"Topic1\", \"Topic1\", \"Topic1\", \"Topic1\", \"Topic1\", \"Topic1\", \"Topic1\", \"Topic1\", \"Topic1\", \"Topic1\", \"Topic1\", \"Topic1\", \"Topic1\", \"Topic1\", \"Topic1\", \"Topic1\", \"Topic1\", \"Topic1\", \"Topic1\", \"Topic1\", \"Topic1\", \"Topic1\", \"Topic1\", \"Topic1\", \"Topic1\", \"Topic1\", \"Topic1\", \"Topic1\", \"Topic1\", \"Topic1\", \"Topic1\", \"Topic2\", \"Topic2\", \"Topic2\", \"Topic2\", \"Topic2\", \"Topic2\", \"Topic2\", \"Topic2\", \"Topic2\", \"Topic2\", \"Topic2\", \"Topic2\", \"Topic2\", \"Topic2\", \"Topic2\", \"Topic2\", \"Topic2\", \"Topic2\", \"Topic2\", \"Topic2\", \"Topic2\", \"Topic2\", \"Topic2\", \"Topic2\", \"Topic2\", \"Topic2\", \"Topic2\", \"Topic2\", \"Topic2\", \"Topic2\", \"Topic2\", \"Topic2\", \"Topic2\", \"Topic2\", \"Topic2\", \"Topic2\", \"Topic2\", \"Topic2\", \"Topic2\", \"Topic2\", \"Topic2\", \"Topic2\", \"Topic2\", \"Topic2\", \"Topic2\", \"Topic2\", \"Topic2\", \"Topic2\", \"Topic2\", \"Topic2\", \"Topic2\", \"Topic2\", \"Topic2\", \"Topic2\", \"Topic2\", \"Topic2\", \"Topic2\", \"Topic2\", \"Topic2\", \"Topic2\", \"Topic2\", \"Topic2\", \"Topic2\", \"Topic2\", \"Topic2\", \"Topic2\", \"Topic2\", \"Topic2\", \"Topic2\", \"Topic2\", \"Topic2\", \"Topic2\", \"Topic2\", \"Topic2\", \"Topic2\", \"Topic2\", \"Topic2\", \"Topic2\", \"Topic2\", \"Topic2\", \"Topic3\", \"Topic3\", \"Topic3\", \"Topic3\", \"Topic3\", \"Topic3\", \"Topic3\", \"Topic3\", \"Topic3\", \"Topic3\", \"Topic3\", \"Topic3\", \"Topic3\", \"Topic3\", \"Topic3\", \"Topic3\", \"Topic3\", \"Topic3\", \"Topic3\", \"Topic3\", \"Topic3\", \"Topic3\", \"Topic3\", \"Topic3\", \"Topic3\", \"Topic3\", \"Topic3\", \"Topic3\", \"Topic3\", \"Topic3\", \"Topic3\", \"Topic3\", \"Topic3\", \"Topic3\", \"Topic3\", \"Topic3\", \"Topic3\", \"Topic3\", \"Topic3\", \"Topic3\", \"Topic3\", \"Topic3\", \"Topic3\", \"Topic3\", \"Topic3\", \"Topic3\", \"Topic3\", \"Topic3\", \"Topic3\", \"Topic3\", \"Topic3\", \"Topic3\", \"Topic3\", \"Topic3\", \"Topic3\", \"Topic3\", \"Topic3\", \"Topic3\", \"Topic3\", \"Topic3\", \"Topic3\", \"Topic3\", \"Topic3\", \"Topic3\", \"Topic3\", \"Topic3\", \"Topic3\", \"Topic3\", \"Topic3\", \"Topic3\", \"Topic3\", \"Topic3\", \"Topic3\", \"Topic3\", \"Topic3\", \"Topic3\", \"Topic3\", \"Topic4\", \"Topic4\", \"Topic4\", \"Topic4\", \"Topic4\", \"Topic4\", \"Topic4\", \"Topic4\", \"Topic4\", \"Topic4\", \"Topic4\", \"Topic4\", \"Topic4\", \"Topic4\", \"Topic4\", \"Topic4\", \"Topic4\", \"Topic4\", \"Topic4\", \"Topic4\", \"Topic4\", \"Topic4\", \"Topic4\", \"Topic4\", \"Topic4\", \"Topic4\", \"Topic4\", \"Topic4\", \"Topic4\", \"Topic4\", \"Topic4\", \"Topic4\", \"Topic4\", \"Topic4\", \"Topic4\", \"Topic4\", \"Topic4\", \"Topic4\", \"Topic4\", \"Topic4\", \"Topic4\", \"Topic4\", \"Topic4\", \"Topic4\", \"Topic4\", \"Topic4\", \"Topic4\", \"Topic4\", \"Topic4\", \"Topic4\", \"Topic4\", \"Topic4\", \"Topic4\", \"Topic4\", \"Topic4\", \"Topic4\", \"Topic4\", \"Topic4\", \"Topic4\", \"Topic4\", \"Topic4\", \"Topic4\", \"Topic4\", \"Topic4\", \"Topic4\", \"Topic4\", \"Topic4\", \"Topic4\", \"Topic4\", \"Topic4\", \"Topic4\", \"Topic4\", \"Topic4\", \"Topic5\", \"Topic5\", \"Topic5\", \"Topic5\", \"Topic5\", \"Topic5\", \"Topic5\", \"Topic5\", \"Topic5\", \"Topic5\", \"Topic5\", \"Topic5\", \"Topic5\", \"Topic5\", \"Topic5\", \"Topic5\", \"Topic5\", \"Topic5\", \"Topic5\", \"Topic5\", \"Topic5\", \"Topic5\", \"Topic5\", \"Topic5\", \"Topic5\", \"Topic5\", \"Topic5\", \"Topic5\", \"Topic5\", \"Topic5\", \"Topic5\", \"Topic5\", \"Topic5\", \"Topic5\", \"Topic5\", \"Topic5\", \"Topic5\", \"Topic5\", \"Topic5\", \"Topic5\", \"Topic5\", \"Topic5\", \"Topic5\", \"Topic5\", \"Topic5\", \"Topic5\", \"Topic5\", \"Topic5\", \"Topic5\", \"Topic5\", \"Topic5\", \"Topic5\", \"Topic5\", \"Topic5\", \"Topic5\", \"Topic5\", \"Topic5\", \"Topic5\", \"Topic5\", \"Topic5\", \"Topic5\", \"Topic5\", \"Topic5\", \"Topic5\", \"Topic5\", \"Topic5\", \"Topic5\", \"Topic5\", \"Topic5\", \"Topic5\", \"Topic5\", \"Topic5\", \"Topic5\", \"Topic5\", \"Topic5\", \"Topic5\", \"Topic5\", \"Topic5\", \"Topic5\", \"Topic6\", \"Topic6\", \"Topic6\", \"Topic6\", \"Topic6\", \"Topic6\", \"Topic6\", \"Topic6\", \"Topic6\", \"Topic6\", \"Topic6\", \"Topic6\", \"Topic6\", \"Topic6\", \"Topic6\", \"Topic6\", \"Topic6\", \"Topic6\", \"Topic6\", \"Topic6\", \"Topic6\", \"Topic6\", \"Topic6\", \"Topic6\", \"Topic6\", \"Topic6\", \"Topic6\", \"Topic6\", \"Topic6\", \"Topic6\", \"Topic6\", \"Topic6\", \"Topic6\", \"Topic6\", \"Topic6\", \"Topic6\", \"Topic6\", \"Topic6\", \"Topic6\", \"Topic6\", \"Topic6\", \"Topic6\", \"Topic6\", \"Topic6\", \"Topic6\", \"Topic6\", \"Topic6\", \"Topic6\", \"Topic6\", \"Topic6\", \"Topic6\", \"Topic6\", \"Topic6\", \"Topic6\", \"Topic6\", \"Topic6\", \"Topic6\", \"Topic6\", \"Topic6\", \"Topic6\", \"Topic6\", \"Topic6\", \"Topic6\", \"Topic6\", \"Topic6\", \"Topic6\", \"Topic6\", \"Topic6\", \"Topic6\", \"Topic6\", \"Topic6\", \"Topic6\", \"Topic7\", \"Topic7\", \"Topic7\", \"Topic7\", \"Topic7\", \"Topic7\", \"Topic7\", \"Topic7\", \"Topic7\", \"Topic7\", \"Topic7\", \"Topic7\", \"Topic7\", \"Topic7\", \"Topic7\", \"Topic7\", \"Topic7\", \"Topic7\", \"Topic7\", \"Topic7\", \"Topic7\", \"Topic7\", \"Topic7\", \"Topic7\", \"Topic7\", \"Topic7\", \"Topic7\", \"Topic7\", \"Topic7\", \"Topic7\", \"Topic7\", \"Topic7\", \"Topic7\", \"Topic7\", \"Topic7\", \"Topic7\", \"Topic7\", \"Topic7\", \"Topic7\", \"Topic7\", \"Topic7\", \"Topic7\", \"Topic7\", \"Topic7\", \"Topic7\", \"Topic7\", \"Topic7\", \"Topic7\", \"Topic7\", \"Topic7\", \"Topic7\", \"Topic7\", \"Topic7\", \"Topic7\", \"Topic7\", \"Topic7\", \"Topic7\", \"Topic7\", \"Topic7\", \"Topic7\", \"Topic7\", \"Topic7\", \"Topic7\", \"Topic7\", \"Topic7\", \"Topic7\", \"Topic7\", \"Topic7\", \"Topic7\", \"Topic7\", \"Topic7\", \"Topic7\", \"Topic7\"], \"logprob\": [30.0, 29.0, 28.0, 27.0, 26.0, 25.0, 24.0, 23.0, 22.0, 21.0, 20.0, 19.0, 18.0, 17.0, 16.0, 15.0, 14.0, 13.0, 12.0, 11.0, 10.0, 9.0, 8.0, 7.0, 6.0, 5.0, 4.0, 3.0, 2.0, 1.0, -7.2961, -7.5127, -6.7095, -6.7867, -7.9141, -7.7859, -7.8614, -7.7562, -7.9202, -7.7388, -7.8284, -8.0442, -8.0082, -8.0499, -8.0523, -8.0557, -8.1944, -7.8344, -8.0702, -8.1959, -8.2342, -8.1997, -7.6828, -8.2427, -8.2079, -8.2837, -8.2686, -8.0775, -8.0866, -8.2477, -7.5722, -7.3944, -8.0849, -6.5639, -7.9914, -6.6403, -5.4925, -5.8807, -6.5307, -7.3087, -7.0421, -7.11, -5.2149, -6.7809, -7.3596, -6.5365, -6.2188, -5.9469, -5.1594, -5.4788, -5.3667, -5.9916, -6.7325, -6.1286, -6.2611, -6.2178, -6.4289, -6.8029, -6.0046, -5.6754, -5.4317, -5.3794, -6.073, -5.4602, -5.5721, -5.6065, -5.829, -5.6526, -6.0342, -6.0004, -5.806, -5.8174, -5.6023, -5.5992, -6.072, -6.0644, -5.7179, -5.9846, -5.9902, -5.9404, -5.8838, -5.886, -6.0478, -6.2348, -6.506, -6.6358, -6.6358, -7.2184, -7.3203, -7.4725, -7.4642, -7.6513, -7.6608, -7.6136, -7.1542, -7.6202, -7.7926, -7.7979, -7.8662, -7.8674, -7.8674, -7.8679, -7.869, -7.8688, -7.8689, -7.8699, -7.8714, -7.767, -7.7691, -7.9062, -7.6475, -8.0067, -8.0074, -7.1906, -7.2894, -4.5981, -6.2474, -6.8497, -7.2917, -7.0133, -7.304, -6.9843, -6.6817, -7.3289, -6.1321, -5.1742, -5.7944, -5.535, -6.91, -5.2798, -6.3131, -6.8813, -5.7856, -6.6825, -6.0958, -6.0558, -5.645, -5.3186, -5.8554, -5.403, -6.571, -5.8112, -5.9865, -5.5692, -5.9136, -6.2423, -6.033, -5.9893, -5.8231, -5.6426, -5.7475, -6.0299, -6.1269, -5.9947, -5.7559, -5.9689, -5.9455, -6.0936, -6.0232, -6.0072, -6.0825, -6.0553, -6.0737, -7.2886, -6.5012, -7.0455, -7.4087, -7.5416, -6.7836, -7.5338, -7.6859, -7.6871, -6.4595, -7.622, -7.937, -7.0996, -7.9384, -7.9396, -7.8819, -7.8301, -7.1786, -7.8379, -7.4305, -5.404, -8.0755, -8.0788, -8.0831, -8.077, -7.256, -8.0777, -8.0882, -8.0904, -8.0884, -6.9651, -7.3521, -6.4426, -7.5105, -7.5332, -5.6274, -4.3915, -5.4069, -6.4357, -6.9939, -6.1528, -6.2595, -7.1998, -5.5609, -6.7094, -5.4035, -4.9159, -5.6571, -5.7865, -5.837, -5.8573, -5.6666, -6.3215, -5.718, -5.2965, -5.2817, -6.011, -5.4345, -5.6005, -5.749, -5.9644, -6.1392, -6.0648, -5.4858, -5.8432, -5.761, -5.711, -5.8311, -5.6716, -5.7988, -5.8284, -5.9747, -5.7752, -5.9592, -5.8234, -5.9145, -5.8684, -6.7791, -6.9734, -6.258, -6.8468, -7.2253, -7.258, -7.2525, -7.1331, -7.362, -7.3747, -7.3767, -7.1717, -7.3842, -7.5119, -7.379, -7.4993, -7.5514, -7.3931, -7.5559, -7.5685, -6.9755, -6.8518, -7.699, -7.7701, -7.7707, -7.803, -7.5376, -7.7753, -7.3174, -7.7494, -7.4289, -6.5051, -7.3462, -7.5222, -7.4176, -6.4159, -7.17, -5.6527, -6.5536, -6.3973, -5.8676, -6.2146, -5.9251, -5.2227, -5.294, -5.3003, -6.7094, -5.5726, -5.3606, -5.8994, -5.7975, -6.1709, -5.5733, -5.7468, -5.6221, -5.4209, -5.9272, -5.9712, -6.0779, -6.1668, -5.9192, -5.6694, -5.9956, -5.8204, -6.0699, -5.7904, -5.9424, -6.0112, -5.9357, -6.0538, -6.011, -5.9939, -6.0553, -7.0343, -7.0506, -6.8137, -7.1525, -6.5326, -7.4297, -7.4317, -7.4391, -7.4858, -7.6115, -7.6127, -7.5611, -7.8241, -7.7109, -7.6089, -7.8028, -7.7692, -7.5773, -7.7817, -7.0222, -7.2717, -7.3236, -8.0107, -7.9726, -7.6421, -7.4061, -8.1015, -8.1021, -8.1027, -8.1037, -7.9889, -6.4306, -7.9906, -6.8105, -6.6452, -6.529, -7.3091, -7.3358, -5.6692, -5.8036, -5.5428, -5.5971, -6.3057, -6.4693, -6.996, -6.6412, -6.3388, -6.3379, -6.707, -6.7187, -5.3811, -5.1556, -5.6935, -5.198, -5.7259, -6.2493, -5.2569, -5.5613, -5.6052, -5.6633, -5.4948, -5.9375, -5.9452, -5.7837, -5.6903, -5.6829, -5.8736, -6.1328, -5.7423, -5.8388, -5.9068, -5.8632, -6.0401, -6.121, -6.0632, -6.0094, -6.145, -6.0866, -6.0947, -6.5952, -6.6256, -6.6702, -6.7487, -6.8356, -7.0191, -7.1392, -6.5979, -7.4668, -7.4688, -7.6071, -7.6813, -7.6837, -7.6844, -7.6846, -7.6853, -7.6863, -7.6871, -7.0965, -7.7206, -7.2923, -6.9953, -7.8244, -7.8254, -7.6083, -6.0496, -7.1923, -7.9594, -7.9601, -7.9603, -6.3436, -6.4244, -6.2239, -6.6351, -7.4004, -4.1142, -4.8151, -6.5792, -6.6086, -4.8069, -5.7326, -5.9219, -5.9544, -5.7568, -6.3799, -4.9709, -6.2304, -6.2523, -6.1591, -5.2866, -5.3043, -5.6183, -5.4768, -5.7417, -6.0824, -5.7313, -5.7883, -6.3022, -5.7578, -5.8285, -6.007, -6.2286, -6.0441, -5.9918, -5.9113, -5.961, -6.0231, -6.0266, -6.0534, -6.0753, -6.1019, -6.1328, -5.7822, -6.5208, -6.7944, -6.7989, -6.8055, -6.9336, -6.9459, -5.8512, -7.1167, -7.1886, -7.189, -7.1911, -7.1913, -7.1926, -5.402, -7.2061, -7.2138, -7.3923, -7.4574, -7.3759, -7.5093, -6.7943, -7.5981, -7.6019, -7.603, -7.5609, -7.6045, -7.605, -7.6066, -7.6098, -6.8061, -6.4915, -7.1154, -5.9352, -6.9815, -7.1518, -7.196, -6.3536, -6.1078, -5.4828, -6.0614, -5.0141, -6.5097, -6.0582, -4.9601, -6.2168, -6.3884, -5.3629, -6.2137, -6.0189, -5.9802, -5.9569, -5.2857, -6.0087, -6.1388, -5.6624, -5.5235, -5.7522, -5.791, -5.504, -5.5484, -5.898, -5.8836, -5.9044, -5.9358, -5.9002, -6.0116, -5.8071, -5.9583, -5.953, -5.9207, -5.954, -6.0037], \"loglift\": [30.0, 29.0, 28.0, 27.0, 26.0, 25.0, 24.0, 23.0, 22.0, 21.0, 20.0, 19.0, 18.0, 17.0, 16.0, 15.0, 14.0, 13.0, 12.0, 11.0, 10.0, 9.0, 8.0, 7.0, 6.0, 5.0, 4.0, 3.0, 2.0, 1.0, 1.2062, 1.1974, 1.1935, 1.1732, 1.1682, 1.1675, 1.1655, 1.1634, 1.1628, 1.1596, 1.158, 1.1573, 1.1533, 1.1524, 1.1495, 1.1473, 1.1426, 1.1426, 1.142, 1.1416, 1.1381, 1.1379, 1.1368, 1.1328, 1.1301, 1.1269, 1.1265, 1.1261, 1.1255, 1.1245, 1.1153, 1.0883, 1.1178, 1.0014, 1.1098, 0.9618, 0.8263, 0.8452, 0.8992, 1.0151, 0.9727, 0.9701, 0.6353, 0.902, 1.0009, 0.8142, 0.725, 0.6284, 0.4149, 0.4961, 0.447, 0.6044, 0.8183, 0.6261, 0.6216, 0.6025, 0.6598, 0.8047, 0.4854, 0.3328, 0.1934, 0.147, 0.4366, 0.1196, 0.1731, 0.1122, 0.241, 0.1275, 0.3619, 0.3341, 0.1754, 0.1506, -0.0769, -0.1665, 0.3485, 0.3033, -0.2447, 0.107, 0.0984, -0.0814, -0.349, -0.4506, -0.1016, 1.8538, 1.8433, 1.8399, 1.8397, 1.799, 1.7956, 1.7806, 1.7783, 1.761, 1.7546, 1.75, 1.7455, 1.7435, 1.7409, 1.7355, 1.7351, 1.734, 1.7339, 1.7335, 1.7327, 1.7326, 1.7326, 1.7319, 1.7303, 1.7286, 1.7268, 1.7238, 1.7183, 1.7116, 1.7109, 1.7095, 1.7041, 1.6149, 1.6008, 1.6467, 1.6389, 1.5882, 1.628, 1.5651, 1.4906, 1.6153, 1.1682, 0.8027, 1.0165, 0.9115, 1.3987, 0.7336, 1.0845, 1.3534, 0.7522, 1.2128, 0.8273, 0.7654, 0.4247, 0.1547, 0.5383, 0.1768, 1.0584, 0.3063, 0.4786, 0.0559, 0.3618, 0.6962, 0.4305, 0.3785, 0.1232, -0.1162, -0.0288, 0.3535, 0.4939, 0.2395, -0.2305, 0.1226, 0.0359, 0.3672, -0.2095, -0.4329, 0.193, -0.2752, -0.3284, 1.8433, 1.838, 1.8333, 1.8283, 1.8271, 1.8267, 1.8202, 1.8008, 1.7994, 1.7863, 1.7815, 1.773, 1.7721, 1.7719, 1.7706, 1.7681, 1.7636, 1.7571, 1.7552, 1.7544, 1.7531, 1.7511, 1.7476, 1.7435, 1.7432, 1.7428, 1.7425, 1.7391, 1.7369, 1.7317, 1.6646, 1.6684, 1.5672, 1.6747, 1.6748, 1.3736, 1.0439, 1.1755, 1.3092, 1.4806, 1.1914, 1.2144, 1.5262, 0.8999, 1.3399, 0.8299, 0.6189, 0.8918, 0.8414, 0.8108, 0.7804, 0.6293, 1.019, 0.6162, 0.3286, 0.2437, 0.766, 0.3107, 0.3842, 0.5082, 0.6643, 0.7832, 0.6824, -0.0126, 0.3911, 0.2139, 0.0691, 0.2787, -0.0973, 0.1474, 0.1485, 0.5206, -0.0565, 0.4741, -0.2436, 0.1771, -0.3421, 1.956, 1.946, 1.9449, 1.9393, 1.9225, 1.9208, 1.9186, 1.9157, 1.9116, 1.9096, 1.9079, 1.905, 1.898, 1.8954, 1.8934, 1.8925, 1.891, 1.8888, 1.8869, 1.8717, 1.8669, 1.8665, 1.8638, 1.8604, 1.8587, 1.8546, 1.8538, 1.8538, 1.8532, 1.8524, 1.8441, 1.7575, 1.8114, 1.8269, 1.8073, 1.5561, 1.6702, 0.8848, 1.3464, 1.2432, 0.8987, 1.0559, 0.8179, 0.3027, 0.2858, 0.2261, 1.3218, 0.4121, 0.2137, 0.6309, 0.5367, 0.7952, 0.2069, 0.363, 0.2282, 0.0145, 0.5183, 0.5188, 0.6125, 0.7075, 0.3767, -0.1347, 0.2617, -0.1017, 0.3475, -0.3172, 0.0039, 0.1063, -0.1905, 0.198, -0.0361, -0.1349, -0.0471, 1.9579, 1.9547, 1.9513, 1.9376, 1.9331, 1.9231, 1.9214, 1.9151, 1.902, 1.8985, 1.8975, 1.8909, 1.8709, 1.8671, 1.8657, 1.8622, 1.8574, 1.8564, 1.8477, 1.8423, 1.8407, 1.8406, 1.8371, 1.834, 1.8282, 1.8222, 1.8221, 1.8217, 1.8213, 1.8205, 1.8171, 1.7667, 1.817, 1.7407, 1.7141, 1.604, 1.6973, 1.6977, 1.2959, 1.3131, 1.2213, 1.2191, 1.4093, 1.4587, 1.6046, 1.475, 1.2967, 1.2898, 1.4406, 1.4048, 0.6036, 0.3792, 0.7002, 0.2753, 0.6317, 0.993, 0.1758, 0.4067, 0.3762, 0.3137, 0.0315, 0.5411, 0.451, 0.2245, 0.0549, 0.0358, 0.2151, 0.6152, -0.2169, -0.259, -0.1267, -0.2889, 0.2194, 0.4456, 0.175, -0.1957, 0.4038, 0.0049, -0.0812, 2.1153, 2.1149, 2.109, 2.1044, 2.0972, 2.074, 2.0735, 2.0574, 2.038, 2.036, 2.0169, 2.0091, 2.0067, 2.0063, 2.0062, 2.0055, 2.0048, 2.0037, 2.0009, 1.9979, 1.9952, 1.9935, 1.9806, 1.9798, 1.9727, 1.9706, 1.9602, 1.9597, 1.959, 1.9588, 1.936, 1.8895, 1.8744, 1.877, 1.9211, 1.3184, 1.3347, 1.7365, 1.6776, 1.0521, 1.3315, 1.3359, 1.3162, 1.0053, 1.3203, 0.4645, 1.2299, 1.1556, 1.0444, 0.2481, 0.1689, 0.3279, 0.0486, 0.3681, 0.6725, -0.0126, -0.0082, 1.0934, -0.2315, -0.2034, 0.2448, 0.8632, 0.2314, 0.0217, -0.3315, -0.2157, -0.0149, -0.2129, -0.072, -0.0056, -0.5276, 0.1426, 2.7442, 2.716, 2.6941, 2.6887, 2.6806, 2.6752, 2.6599, 2.6568, 2.6397, 2.6339, 2.6335, 2.6307, 2.6304, 2.6291, 2.6265, 2.6127, 2.6034, 2.5913, 2.5795, 2.5789, 2.5674, 2.5632, 2.5496, 2.5448, 2.5434, 2.5418, 2.5417, 2.5411, 2.5395, 2.5356, 2.5352, 2.4919, 2.4715, 2.2498, 2.4107, 2.4475, 2.4513, 2.2229, 2.12, 1.8946, 2.0681, 1.3213, 2.0642, 1.7045, 0.8989, 1.8143, 1.8807, 0.7257, 1.5744, 1.3174, 1.2705, 1.2111, 0.1876, 1.1194, 1.2662, 0.4076, 0.1017, 0.5037, 0.5636, -0.0713, -0.0221, 0.6204, 0.4998, 0.4532, 0.5551, 0.357, 0.7356, -0.2817, 0.3762, 0.3225, -0.3409, -0.2353, 0.2345]}, \"token.table\": {\"Topic\": [2, 1, 2, 3, 4, 5, 6, 7, 2, 3, 5, 5, 7, 1, 5, 5, 1, 1, 2, 3, 4, 5, 6, 7, 4, 5, 6, 1, 7, 5, 1, 2, 3, 4, 7, 4, 2, 4, 6, 1, 2, 3, 4, 5, 6, 7, 2, 1, 2, 5, 7, 4, 1, 4, 5, 2, 3, 4, 6, 7, 1, 1, 2, 3, 4, 5, 6, 1, 3, 4, 6, 7, 1, 2, 3, 4, 5, 6, 7, 1, 3, 4, 5, 1, 3, 3, 3, 1, 3, 4, 5, 7, 1, 3, 1, 2, 6, 5, 5, 1, 1, 2, 3, 4, 5, 6, 7, 1, 2, 3, 4, 5, 6, 7, 4, 7, 1, 2, 3, 6, 3, 6, 1, 2, 3, 4, 5, 6, 7, 1, 4, 1, 1, 2, 5, 6, 1, 4, 2, 5, 1, 2, 3, 4, 5, 6, 7, 2, 2, 2, 1, 5, 6, 1, 2, 3, 4, 5, 6, 7, 4, 4, 5, 5, 7, 1, 2, 3, 4, 5, 6, 7, 1, 2, 3, 4, 5, 6, 7, 6, 5, 4, 5, 6, 3, 1, 2, 3, 4, 5, 6, 7, 1, 3, 1, 2, 5, 6, 7, 1, 2, 3, 4, 6, 1, 2, 3, 4, 5, 6, 7, 1, 3, 1, 2, 3, 4, 5, 6, 7, 5, 1, 2, 3, 4, 5, 6, 7, 1, 1, 2, 3, 4, 5, 6, 7, 6, 3, 1, 2, 3, 4, 5, 6, 7, 1, 2, 4, 5, 6, 7, 7, 3, 1, 2, 3, 4, 5, 6, 7, 1, 2, 3, 4, 5, 6, 7, 4, 6, 1, 3, 4, 5, 7, 1, 4, 1, 2, 3, 4, 5, 6, 7, 1, 2, 3, 4, 5, 6, 2, 7, 6, 3, 4, 1, 2, 4, 5, 7, 1, 2, 4, 5, 6, 7, 2, 3, 1, 4, 5, 6, 3, 1, 3, 4, 5, 7, 6, 1, 2, 3, 4, 5, 6, 7, 1, 4, 5, 6, 7, 4, 1, 2, 3, 4, 5, 6, 7, 1, 2, 3, 4, 5, 6, 7, 1, 2, 3, 5, 6, 1, 2, 3, 4, 5, 6, 7, 1, 2, 3, 4, 5, 6, 2, 5, 1, 2, 3, 4, 5, 6, 1, 2, 3, 4, 5, 6, 7, 3, 1, 2, 3, 4, 5, 6, 7, 1, 2, 3, 4, 5, 6, 7, 1, 2, 3, 4, 5, 6, 1, 1, 2, 3, 4, 5, 6, 7, 1, 2, 3, 4, 5, 6, 7, 1, 2, 3, 4, 5, 7, 2, 1, 2, 3, 4, 5, 6, 7, 1, 2, 3, 4, 5, 6, 7, 1, 2, 3, 4, 5, 6, 7, 1, 2, 3, 4, 5, 6, 7, 1, 2, 3, 4, 5, 6, 7, 1, 2, 3, 4, 5, 6, 7, 1, 2, 3, 4, 5, 6, 7, 6, 4, 5, 1, 2, 5, 6, 1, 2, 3, 4, 5, 6, 1, 2, 3, 5, 6, 1, 1, 2, 3, 4, 5, 6, 7, 6, 5, 7, 1, 2, 3, 4, 5, 6, 7, 4, 1, 2, 3, 4, 5, 6, 7, 1, 2, 3, 4, 5, 6, 7, 4, 7, 1, 3, 1, 2, 3, 4, 5, 6, 3, 1, 2, 3, 4, 5, 6, 7, 5, 1, 2, 3, 4, 5, 6, 7, 1, 2, 3, 4, 5, 6, 7, 1, 4, 1, 1, 2, 3, 4, 6, 7, 1, 2, 3, 4, 5, 6, 7, 1, 2, 3, 4, 5, 6, 7, 5, 6, 3, 3, 1, 2, 3, 4, 5, 7, 4, 1, 1, 2, 3, 4, 5, 6, 7, 4, 4, 5, 2, 5, 5, 3, 2, 3, 4, 2, 6, 7, 3, 4, 1, 2, 3, 4, 5, 6, 7, 1, 2, 4, 6, 1, 2, 3, 5, 6, 6, 6, 2, 2, 1, 2, 1, 2, 3, 5, 6, 7, 7, 1, 2, 3, 5, 7, 1, 1, 1, 2, 3, 4, 5, 6, 7, 1, 2, 3, 4, 5, 6, 7, 7, 6, 1, 2, 3, 4, 5, 6, 7, 7, 1, 2, 1, 2, 3, 4, 5, 6, 7, 1, 4, 6, 1, 2, 3, 4, 5, 6, 7, 3, 1, 2, 3, 4, 5, 6, 7, 4, 1, 2, 5, 6, 7, 1, 6, 4, 4, 1, 2, 3, 4, 4, 2, 1, 2, 3, 4, 5, 6, 7, 2, 4, 7, 4, 1, 2, 3, 4, 5, 6, 1, 4, 5, 6, 7, 1, 2, 3, 4, 5, 6, 7, 7, 2, 3, 4, 5, 6, 4, 5, 7, 1, 2, 3, 4, 5, 6, 7, 2, 1, 2, 3, 4, 5, 6, 7, 1, 2, 3, 4, 5, 6, 7, 3, 1, 1, 2, 3, 4, 5, 6, 7, 1, 2, 3, 4, 5, 6, 7, 2, 4, 5, 7, 1, 3, 4, 5, 1, 1, 2, 3, 4, 5, 6, 7, 5, 6, 1, 3, 5, 6, 2, 4, 5, 6, 1, 2, 3, 4, 5, 6, 7, 3, 5, 1, 1, 2, 3, 4, 5, 6, 7, 2, 5, 1, 3, 6, 4, 1, 3, 1, 2, 3, 4, 5, 6, 7, 1, 3, 4, 5, 7, 1, 2, 3, 4, 5, 6, 7, 7, 1, 2, 3, 5, 1, 2, 3, 4, 5, 6, 7, 7, 3, 2, 4, 1, 2, 3, 4, 5, 6, 7, 1, 2, 3, 4, 5, 6, 7, 1, 2, 4, 5, 6, 7, 7, 3, 7, 1, 3, 4, 5, 1, 2, 3, 4, 5, 6, 7, 1, 1, 4, 1, 2, 3, 4, 5, 6, 7, 4, 1, 2, 3, 4, 5, 6, 7, 7, 6, 1, 2, 3, 4, 5, 6, 7, 1, 3, 4, 5, 6, 7, 1, 2, 3, 4, 5, 6, 1, 2, 3, 4, 5, 6, 7, 1, 2, 3, 4, 5, 6, 7, 2, 5, 3, 6, 4, 1, 2, 3, 4, 5, 6, 7, 1, 2, 3, 4, 5, 1, 2, 4, 5, 7, 1, 2, 3, 4, 5, 6, 7, 4, 7, 1, 1, 2, 3, 4, 5, 6, 7, 1, 2, 3, 4, 5, 6, 7, 6, 6, 2, 1, 1, 1, 2, 5, 2, 6, 2, 1, 2, 4, 6, 7, 1, 2, 3, 4, 5, 6, 7, 7, 1, 2, 3, 4, 5, 6, 7, 1, 2, 3, 4, 5, 6, 7, 7, 1, 2, 3, 4, 5, 6, 7, 1, 2, 3, 4, 5, 6, 2, 1, 3, 4, 2, 5, 4, 1, 2, 4, 6, 2, 1, 2, 3, 4, 5, 6, 7, 5, 1, 2, 5, 1, 2, 3, 4, 5, 6, 7, 1, 2, 5, 1, 2, 3, 4, 5, 6, 7, 1, 2, 3, 4, 5, 6, 7, 1, 3, 3, 1, 2, 3, 4, 5, 6, 7, 2, 2, 1, 2, 3, 4, 5, 6, 7, 1, 2, 6, 1, 2, 3, 4, 5, 6, 7, 1, 2, 3, 4, 5, 6, 7, 1, 2, 3, 4, 5, 6, 7, 1, 2, 3, 4, 5, 6, 7, 4, 1, 2, 3, 4, 5, 6, 7, 1, 2, 3, 4, 5, 6, 7, 1, 2, 3, 4, 5, 6, 7, 1, 2, 3, 4, 5, 6, 7, 1, 2, 3, 4, 5, 6, 7, 6, 6, 4, 1, 2, 3, 4, 5, 6, 7, 1, 1, 2, 3, 4, 5, 6, 7, 1, 1, 2, 3, 4, 5, 6, 1, 2, 3, 4, 5, 6, 7, 5, 1, 2, 3, 4, 5, 6, 7, 5, 7, 2, 2, 4, 7, 1, 2, 3, 4, 5, 6, 7, 5, 6, 6, 3, 1, 2, 3, 4, 5, 6, 7, 1, 2, 3, 4, 5, 6, 7, 1, 2, 3, 4, 5, 6, 7, 4, 6, 1, 2, 3, 4, 5, 6, 7, 4, 5, 1, 2, 3, 6, 7, 2, 4, 5, 2, 1, 2, 3, 4, 5, 6, 7, 3, 3, 7, 1, 2, 3, 4, 1, 2, 3, 4, 5, 6, 7, 5, 1, 4, 7, 1, 2, 3, 4, 5, 6, 7, 3, 1, 3, 4, 5, 6, 7, 2, 5, 1, 2, 3, 4, 5, 6, 7, 7, 4, 1, 2, 3, 4, 5, 6, 2, 1, 6, 3, 1, 2, 3, 4, 5, 6, 7, 2, 3, 4, 1, 2, 3, 4, 5, 6, 7, 2, 6, 2, 1, 1, 2, 4, 5, 7, 2, 1, 2, 3, 4, 5, 6, 7, 1, 6, 1, 2, 3, 4, 5, 6, 7, 1, 2, 3, 4, 5, 6, 7, 1, 2, 3, 4, 5, 6, 7, 7, 1, 2, 3, 4, 5, 6, 7, 5, 1, 2, 3, 4, 5, 6, 7, 1, 2, 3, 4, 5, 6, 7, 1, 2, 3, 4, 5, 6, 7, 5], \"Freq\": [0.7985132961650203, 0.2692627627921736, 0.22719045610589647, 0.058901229360787975, 0.11780245872157595, 0.1598747654078531, 0.07573015203529883, 0.09255907470980967, 0.09352107601671822, 0.841689684150464, 0.8353515309827529, 0.13001219613535694, 0.7800731768121417, 0.21400895409314594, 0.7490313393260107, 0.7580859786135479, 0.9235511730932066, 0.2629185777074528, 0.06067351793248911, 0.384265613572431, 0.08089802390998548, 0.04044901195499274, 0.10112252988748185, 0.06067351793248911, 0.8208165090317667, 0.8521244321217235, 0.8947005437820248, 0.925641344580711, 0.6691230417539727, 0.949441006741794, 0.1616616306848516, 0.0808308153424258, 0.6466465227394064, 0.0808308153424258, 0.8664770451045776, 0.8831105653900249, 0.8028490104403144, 0.19580625743521407, 0.7179562772624516, 0.0901343874742541, 0.15022397912375685, 0.31046289018909745, 0.14020904718217306, 0.13019411524058927, 0.14020904718217306, 0.04005972776633516, 0.7762981171897281, 0.9114609834501098, 0.062307836272009705, 0.8723097078081359, 0.6405523533244515, 0.837657024309533, 0.06786834179694802, 0.13573668359389604, 0.7465517597664282, 0.0694299446274325, 0.20828983388229752, 0.138859889254865, 0.138859889254865, 0.41657966776459504, 0.9132934657518724, 0.6855738627133944, 0.04423057178796092, 0.15480700125786323, 0.02211528589398046, 0.02211528589398046, 0.06634585768194139, 0.040241802641347975, 0.040241802641347975, 0.040241802641347975, 0.08048360528269595, 0.8048360528269595, 0.1806187162306527, 0.0416812422070737, 0.0694687370117895, 0.1667249688282948, 0.4723874116801686, 0.0694687370117895, 0.0138937474023579, 0.07130750113596285, 0.07130750113596285, 0.1426150022719257, 0.6417675102236657, 0.9228748912472535, 0.03549518812489437, 0.7289501852236713, 0.8476473402788929, 0.08904471673528737, 0.31165650857350574, 0.08904471673528737, 0.044522358367643684, 0.44522358367643683, 0.10852715292169181, 0.7596900704518427, 0.21452070303094015, 0.10726035151547007, 0.6435621090928204, 0.8550276833636221, 0.8202381601154517, 0.8014388553542712, 0.27357346111667713, 0.11398894213194881, 0.02279778842638976, 0.02279778842638976, 0.09119115370555904, 0.38756240324862595, 0.06839336527916928, 0.2953303429698004, 0.12160661181109426, 0.23452703706425324, 0.13897898492696487, 0.06080330590554713, 0.13029279836902957, 0.017372373115870608, 0.2031099283048294, 0.6093297849144883, 0.09918352752365031, 0.7934682201892025, 0.09918352752365031, 0.713440783211699, 0.8495274395346195, 0.10619092994182744, 0.24733481880368285, 0.04679307382772378, 0.3208667919615345, 0.14706394631570333, 0.14037922148317136, 0.05347779866025575, 0.04010834899519181, 0.12446973551275281, 0.7468184130765169, 0.8940982590340979, 0.9018143277844147, 0.037575596991017285, 0.0753188326550951, 0.9038259918611412, 0.823500341227048, 0.11764290588957829, 0.8450298199056809, 0.10562872748821012, 0.3895948069342358, 0.09606447294268829, 0.06937989712527487, 0.1227490487601017, 0.16010745490448047, 0.11207521843313634, 0.04269532130786146, 0.7663954343025743, 0.8722044665041513, 0.7759314705478688, 0.8312053574064411, 0.850745948197954, 0.8482578019520345, 0.3420136152105702, 0.16009147946026692, 0.19647590661032757, 0.07276885430012132, 0.0764072970151274, 0.09096106787515167, 0.06185352615510313, 0.7977472078957424, 0.798028092060771, 0.7141484765662295, 0.06620984986831994, 0.8607280482881594, 0.22448728850252844, 0.12405876469876573, 0.18904192716002396, 0.18904192716002396, 0.07679828290875973, 0.1595041260412702, 0.03544536134250449, 0.45941728959144984, 0.07226788825034043, 0.17550772860796962, 0.12388780842915502, 0.10840183237551064, 0.04645792816093313, 0.005161992017881459, 0.7602850417411453, 0.8035062751918683, 0.21987749183928137, 0.6596324755178441, 0.9021595137959684, 0.8491924950103322, 0.1663980271577452, 0.18488669684193912, 0.11093201810516348, 0.09244334842096956, 0.18488669684193912, 0.05546600905258174, 0.20337536652613306, 0.09969410731556522, 0.7975528585245217, 0.44691288713354266, 0.037242740594461886, 0.037242740594461886, 0.4282915168363117, 0.037242740594461886, 0.20801176205489322, 0.09244967202439698, 0.48536077812808415, 0.023112418006099245, 0.18489934404879396, 0.25907837678130907, 0.14064254739556778, 0.0740223933660883, 0.08142463270269713, 0.1480447867321766, 0.08142463270269713, 0.21466494076165607, 0.12791307903136792, 0.7674784741882076, 0.5091328675995664, 0.14409420781119806, 0.06724396364522575, 0.05763768312447922, 0.05763768312447922, 0.07685024416597229, 0.07685024416597229, 0.826919423076848, 0.31073827298439205, 0.09812787567928169, 0.0654185837861878, 0.08177322973273475, 0.14719181351892255, 0.1308371675723756, 0.17990110541201643, 0.873701086507724, 0.21130361297658112, 0.07546557606306468, 0.20375705537027464, 0.13583803691351642, 0.1433845945198229, 0.13583803691351642, 0.09810524888198409, 0.8484498577379929, 0.8646390126141758, 0.5169230954181224, 0.1322361406883569, 0.03606440200591552, 0.06010733667652586, 0.09617173868244139, 0.15627907535896723, 0.012021467335305173, 0.1582251439603078, 0.1582251439603078, 0.12658011516824624, 0.2215152015444309, 0.06329005758412312, 0.28480525912855403, 0.6689167616647058, 0.8648489742954868, 0.39200044302248604, 0.14052846070617425, 0.09615105206211923, 0.14052846070617425, 0.10354728683612839, 0.044377408644055025, 0.08135858251410089, 0.32633208313272133, 0.13514763038829875, 0.09888851004021858, 0.1648141834003643, 0.13185134672029145, 0.08899965903619672, 0.056036822356123867, 0.8826679567403025, 0.8503485368509307, 0.7356894016302647, 0.07882386446038551, 0.13137310743397584, 0.02627462148679517, 0.8529260977601348, 0.7569552816377842, 0.16220470320809663, 0.25193274032565904, 0.14298885261726593, 0.1702248245443642, 0.15660683858081506, 0.09532590174484395, 0.14298885261726593, 0.040853957890647406, 0.1638209352184103, 0.054606978406136764, 0.19112442442147867, 0.46415931645216246, 0.054606978406136764, 0.08191046760920515, 0.15201012480143433, 0.7600506240071717, 0.7936803091104697, 0.13968610680924148, 0.8381166408554489, 0.29115164768874113, 0.03639395596109264, 0.07278791192218528, 0.5459093394163895, 0.03639395596109264, 0.08380742551073368, 0.14366987230411488, 0.22747729781484854, 0.43100961691234463, 0.023944978717352478, 0.08380742551073368, 0.054906715504098, 0.878507448065568, 0.30750235220194533, 0.04392890745742076, 0.5710757969464698, 0.04392890745742076, 0.9432788707064244, 0.0941203769951205, 0.0941203769951205, 0.0941203769951205, 0.14118056549268077, 0.5176620734731628, 0.7996341075239285, 0.6340090432599813, 0.02641704346916589, 0.02641704346916589, 0.13208521734582945, 0.05283408693833178, 0.07925113040749766, 0.07925113040749766, 0.14735338193849032, 0.14735338193849032, 0.09823558795899355, 0.09823558795899355, 0.49117793979496777, 0.9442309037257468, 0.333875568134506, 0.08059065437729454, 0.2993367162585226, 0.05756475312663896, 0.11512950625327792, 0.03453885187598338, 0.06907770375196676, 0.33233143188900094, 0.10667428677918547, 0.19283428763929683, 0.10667428677918547, 0.13539428706588927, 0.09026285804392617, 0.03282285747051861, 0.02163404864675624, 0.23797453511431862, 0.2596085837610749, 0.12980429188053744, 0.3461447783480998, 0.039298006736655434, 0.7532117957858959, 0.013099335578885145, 0.013099335578885145, 0.058947010104983155, 0.10479468463108116, 0.02619867115777029, 0.09714174006243033, 0.48570870031215163, 0.05828504403745819, 0.019428348012486066, 0.11657008807491638, 0.2137118281373467, 0.8053317793381416, 0.803730290261739, 0.13499686940810462, 0.4319899821059348, 0.18899561717134647, 0.1079974955264837, 0.13499686940810462, 0.026999373881620926, 0.26107821818854016, 0.22702453755525231, 0.1362147225331514, 0.09648542846098224, 0.11918788221650746, 0.11351226877762616, 0.05108052094993177, 0.7294307631155111, 0.21880649309336625, 0.175045194474693, 0.14066131698859258, 0.09377421132572838, 0.1687935803863111, 0.13128389585601974, 0.06876775497220082, 0.17757072605714752, 0.03611607987603001, 0.4002865519593326, 0.13242562621211001, 0.045145099845037506, 0.17757072605714752, 0.027087059907022506, 0.115925432451954, 0.0289813581129885, 0.3187949392428735, 0.057962716225977, 0.0289813581129885, 0.405739013581839, 0.9122811638701419, 0.4253417500543855, 0.09682576424002272, 0.12794833131717287, 0.16252896140289527, 0.09682576424002272, 0.06570319716287255, 0.02420644106000568, 0.3140443562785052, 0.057850276156566745, 0.14049352780880495, 0.22313677946104316, 0.07437892648701439, 0.14049352780880495, 0.04958595099134293, 0.32358018164912455, 0.08628804843976655, 0.10786006054970819, 0.19414810898947474, 0.08628804843976655, 0.19414810898947474, 0.8726209871916909, 0.29341033268569255, 0.05058798839408492, 0.3136455280433265, 0.11129357446698682, 0.10117597678816984, 0.10117597678816984, 0.02023519535763397, 0.2933248104665201, 0.17777261240395156, 0.04444315310098789, 0.1333294593029637, 0.11555219806256853, 0.1244408286827661, 0.10666356744237095, 0.2533860249435412, 0.1372507635110848, 0.2639437759828554, 0.24282827390422698, 0.05278875519657108, 0.03167325311794265, 0.010557751039314216, 0.6406961638939144, 0.06552574403460489, 0.13105148806920977, 0.021841914678201627, 0.08736765871280651, 0.03640319113033604, 0.014561276452134418, 0.33712990634294554, 0.2444191820986355, 0.14328021019575185, 0.16856495317147277, 0.04214123829286819, 0.050569485951441825, 0.016856495317147276, 0.27887253776774173, 0.13493832472632664, 0.19790954293194574, 0.24288898450738797, 0.0629712182056191, 0.0629712182056191, 0.017991776630176887, 0.16169992409885667, 0.097019954459314, 0.048509977229657, 0.12935993927908532, 0.48509977229657, 0.06467996963954266, 0.016169992409885665, 0.848531161475229, 0.9102840444054663, 0.04790968654765612, 0.056019515583338536, 0.1680585467500156, 0.7282537025834009, 0.056019515583338536, 0.656330167993854, 0.1203271974655399, 0.043755344532923596, 0.10938836133230899, 0.043755344532923596, 0.021877672266461798, 0.8238948600624251, 0.06337652769710962, 0.06337652769710962, 0.832762201968652, 0.11896602885266457, 0.8939686295866865, 0.30267589140687234, 0.19025341745574834, 0.09512670872787417, 0.13836612178599877, 0.12107035656274893, 0.06053517828137447, 0.09512670872787417, 0.9179243257889564, 0.7980243476445099, 0.8286896996665432, 0.35765335226650335, 0.13057185876396155, 0.14192593343908863, 0.09083259740101672, 0.10218667207614382, 0.09083259740101672, 0.08515556006345318, 0.8930892464478782, 0.6240197258768704, 0.07488236710522445, 0.1747255232455237, 0.02496078903507482, 0.02496078903507482, 0.04992157807014964, 0.02496078903507482, 0.2573331488978493, 0.09839208634329533, 0.11352933039611, 0.14380381850173934, 0.24219590484503467, 0.05298035418485133, 0.090823464316888, 0.14957706687362116, 0.7478853343681058, 0.07200137066378572, 0.8640164479654285, 0.18868270945749493, 0.1617280366778528, 0.05390934555928427, 0.10781869111856854, 0.4582294372539163, 0.026954672779642135, 0.7289359389467599, 0.23826865334400438, 0.054985073848616395, 0.34823880104123717, 0.054985073848616395, 0.19244775847015738, 0.08247761077292459, 0.027492536924308197, 0.9079699966377324, 0.28389493054047854, 0.12617552468465715, 0.15771940585582142, 0.09463164351349286, 0.06308776234232857, 0.2681229899548964, 0.015771940585582143, 0.3132303571454283, 0.16821630291143372, 0.16821630291143372, 0.09860955687911632, 0.12761236772591522, 0.08700843254039675, 0.029002810846798916, 0.15073559751782692, 0.7536779875891345, 0.7891498940725338, 0.030305186172548154, 0.030305186172548154, 0.5151881649333186, 0.18183111703528892, 0.09091555851764446, 0.12122074469019262, 0.27915257534670995, 0.07613252054910272, 0.11419878082365408, 0.2664638219218595, 0.15226504109820543, 0.07613252054910272, 0.025377506849700908, 0.06808677988657, 0.1191518648014975, 0.20426033965971, 0.27234711954628, 0.0170216949716425, 0.13617355977314, 0.1872386446880675, 0.10513603780015525, 0.841088302401242, 0.8652256086093276, 0.8146264071350214, 0.16298405789702544, 0.10865603859801697, 0.21731207719603393, 0.02716400964950424, 0.4617881640415721, 0.8083145040101792, 0.825621090166477, 0.9201533670147496, 0.3016897177782639, 0.14525801226360854, 0.0893895460083745, 0.15643170551465538, 0.0893895460083745, 0.1005632392594213, 0.12291062576151493, 0.8386878518948812, 0.7862385117843618, 0.9090858597855291, 0.9440715768204504, 0.7957099231106072, 0.9307576376873331, 0.7957980780315431, 0.7452301909309914, 0.06774819917554467, 0.13549639835108934, 0.9550071518350515, 0.7996420514692161, 0.7255436600858381, 0.7854129160527452, 0.13090215267545754, 0.3302928759371678, 0.136672914180897, 0.17084114272612125, 0.318903466422093, 0.011389409515074752, 0.011389409515074752, 0.022778819030149503, 0.053534450498969044, 0.053534450498969044, 0.10706890099793809, 0.7494823069855666, 0.0863102675473432, 0.0431551337736716, 0.0863102675473432, 0.0431551337736716, 0.7336372741524172, 0.8723709696377554, 0.7135121976569514, 0.7760143574727207, 0.9401917112490599, 0.20109030375668796, 0.8043612150267518, 0.6836390996250801, 0.02848496248437834, 0.02848496248437834, 0.02848496248437834, 0.2278796998750267, 0.8996621542390522, 0.7254392868027635, 0.06961440185890183, 0.2088432055767055, 0.13922880371780366, 0.06961440185890183, 0.5569152148712146, 0.9106776466495463, 0.8944141007387953, 0.2179538417186063, 0.04738126993882745, 0.45486019141274353, 0.07581003190212393, 0.07581003190212393, 0.1042387938654204, 0.02842876196329647, 0.20415573388645197, 0.15878779302279597, 0.12476183737505397, 0.05670992607956999, 0.147445807806882, 0.30623360082967793, 0.011341985215913997, 0.669008269765258, 0.8807112866991755, 0.129631465174774, 0.014403496130530444, 0.5617363490906874, 0.17284195356636534, 0.1008244729137131, 0.028806992261060888, 0.014403496130530444, 0.7817029393440968, 0.09617516814404722, 0.865576513296425, 0.1708477294550672, 0.10250863767304032, 0.213559661818834, 0.11105102414579368, 0.22210204829158736, 0.11959341061854704, 0.05125431883652016, 0.05086022504717968, 0.7629033757076952, 0.15258067514153903, 0.31952841698983464, 0.1464505244536742, 0.30621473294859153, 0.03994105212372933, 0.09319578828870177, 0.01331368404124311, 0.07988210424745866, 0.7243222836836966, 0.30043402804971214, 0.11127186224063414, 0.10014467601657072, 0.30043402804971214, 0.03338155867219024, 0.06676311734438048, 0.0890174897925073, 0.776293831030987, 0.6333959440749097, 0.18388914505400603, 0.08172850891289157, 0.08172850891289157, 0.020432127228222893, 0.11719635591702281, 0.8203744914191596, 0.7988935370356122, 0.8273774710389151, 0.06286258983974467, 0.06286258983974467, 0.6286258983974466, 0.2514503593589787, 0.847976649144964, 0.9062653734068851, 0.27430575886265013, 0.18733076215010253, 0.2074019152376135, 0.09366538107505126, 0.10035576543755492, 0.10704614980005858, 0.020071153087510982, 0.86551858440933, 0.8276844253186315, 0.6693924932721921, 0.8899153414028557, 0.1713118706136687, 0.4496936603608803, 0.14989788678696012, 0.06424195148012576, 0.14989788678696012, 0.042827967653417176, 0.30847238543489897, 0.18508343126093937, 0.061694477086979796, 0.09254171563046969, 0.30847238543489897, 0.250995302428227, 0.18127438508705282, 0.18127438508705282, 0.06972091734117415, 0.11155346774587865, 0.1324697429482309, 0.07669300907529157, 0.9061440153556132, 0.0789921324782297, 0.6714331260649525, 0.11848819871734456, 0.0789921324782297, 0.03949606623911485, 0.10457084057773276, 0.10457084057773276, 0.7319958840441293, 0.19027474610761272, 0.37227667716706836, 0.12409222572235612, 0.1323650407705132, 0.0661825203852566, 0.08272815048157076, 0.0330912601926283, 0.7760706045165736, 0.14667160396139572, 0.09166975247587232, 0.09166975247587232, 0.23834135643726806, 0.34834505940831484, 0.07333580198069786, 0.018333950495174466, 0.13637994695212532, 0.022729991158687558, 0.17047493369015668, 0.1591099381108129, 0.43186983201506357, 0.011364995579343779, 0.06818997347606266, 0.8650540168489959, 0.9241996897367859, 0.20193023134852728, 0.209696778708086, 0.10873166303382238, 0.0931985683147049, 0.15533094719117482, 0.12426475775293987, 0.0931985683147049, 0.2957418182696394, 0.0517548181971869, 0.2587740909859345, 0.22180636370222956, 0.04436127274044591, 0.0961160909376328, 0.022180636370222957, 0.08022385530379962, 0.8824624083417958, 0.803397308216297, 0.6700048979365879, 0.7597227773168787, 0.050648185154458576, 0.15194455546337574, 0.025324092577229288, 0.9200566769842272, 0.526941121194807, 0.11291595454174436, 0.08468696590630827, 0.05645797727087218, 0.03763865151391479, 0.08468696590630827, 0.10350629166326566, 0.7446010793844208, 0.8482680689776961, 0.03990875261125031, 0.03990875261125031, 0.07981750522250063, 0.7981750522250063, 0.7710644268482011, 0.06425536890401676, 0.06425536890401676, 0.06425536890401676, 0.2793679193759565, 0.12292188452542085, 0.2793679193759565, 0.12292188452542085, 0.12292188452542085, 0.044698867100153035, 0.022349433550076517, 0.8651804935445665, 0.9245728263099107, 0.95469951837832, 0.2858476767484266, 0.21612873120002987, 0.10457841832259511, 0.09760652376775543, 0.11852220743227446, 0.13943789109679347, 0.03485947277419837, 0.09284782399748608, 0.8356304159773746, 0.050006010243758565, 0.8501021741438956, 0.050006010243758565, 0.8476002649430989, 0.855582863467649, 0.07778026031524082, 0.28916995656793537, 0.13059288361132565, 0.12126482049623095, 0.06529644180566282, 0.20521738853208316, 0.13059288361132565, 0.05596837869056814, 0.04533369299090461, 0.18133477196361844, 0.13600107897271382, 0.5440043158908553, 0.09066738598180922, 0.315626668138578, 0.14382987408846593, 0.13184405124776044, 0.11985822840705494, 0.13184405124776044, 0.1118676798465846, 0.04394801708258681, 0.7260342023897731, 0.3097710153000985, 0.044253002185728356, 0.044253002185728356, 0.5310360262287402, 0.3174515816849159, 0.08818099491247663, 0.08818099491247663, 0.08818099491247663, 0.035272397964990654, 0.3174515816849159, 0.07054479592998131, 0.6688993059777169, 0.7243663076239433, 0.9062846995384393, 0.9184115304751744, 0.13100719112750775, 0.4168410626784338, 0.09527795718364201, 0.05954872323977626, 0.11909744647955252, 0.11909744647955252, 0.07145846788773151, 0.5291279888827355, 0.05629021158326974, 0.04503216926661579, 0.10132238084988553, 0.09006433853323158, 0.12383846548319342, 0.06754825389992368, 0.1176541235855447, 0.08824059268915851, 0.05882706179277235, 0.5294435561349511, 0.05882706179277235, 0.14706765448193085, 0.6240463949090203, 0.7242735801945943, 0.8643225517812598, 0.10617420204005931, 0.10617420204005931, 0.4954796095202768, 0.2831312054401582, 0.5848941582108176, 0.08161313835499781, 0.1360218972583297, 0.08161313835499781, 0.027204379451665938, 0.06801094862916485, 0.013602189725832969, 0.8936021643168308, 0.9103419663388355, 0.8973952523611217, 0.3076644514933288, 0.17092469527407156, 0.11622879278636866, 0.1435767440302201, 0.09571782935348008, 0.06836987810962862, 0.09571782935348008, 0.8827899923797343, 0.21372509532122957, 0.05212807202956819, 0.20851228811827277, 0.19808667371235913, 0.23457632413305685, 0.06776649363843865, 0.026064036014784096, 0.7221278522371789, 0.8485647656064116, 0.27759303809308034, 0.06531600896307772, 0.22860603137077204, 0.15512552128730958, 0.13879651904654017, 0.12246751680577073, 0.024493503361154145, 0.7203422574053481, 0.04237307396502048, 0.1694922958600819, 0.04237307396502048, 0.7996180170504311, 0.7253612691648874, 0.040351986122137175, 0.20175993061068587, 0.1614079444885487, 0.48422383346564607, 0.040351986122137175, 0.08070397224427435, 0.04945638034473108, 0.593476564136773, 0.04945638034473108, 0.04945638034473108, 0.04945638034473108, 0.14836914103419324, 0.04945638034473108, 0.30402627523705955, 0.07882162691331174, 0.06756139449712435, 0.19142395107518564, 0.1126023241618739, 0.21394441590756044, 0.033780697248562176, 0.125289569817862, 0.7517374189071719, 0.7677188005025526, 0.1279531334170921, 0.84587521315343, 0.32021278256912, 0.035579198063235555, 0.2632860656679431, 0.192127669541472, 0.064042556513824, 0.10673759418970667, 0.028463358450588443, 0.9117261488137267, 0.09061672770809363, 0.09061672770809363, 0.7249338216647491, 0.8852541142213485, 0.17869135963420887, 0.04467283990855222, 0.04467283990855222, 0.625419758719731, 0.08934567981710444, 0.3534668556540282, 0.3172138448177176, 0.12688553792708704, 0.027189758127232937, 0.06344276896354352, 0.0996957797998541, 0.009063252709077645, 0.8173476152456502, 0.09081640169396114, 0.9110824628103376, 0.12180081501265383, 0.18270122251898074, 0.466903124215173, 0.020300135835442306, 0.12180081501265383, 0.060900407506326915, 0.020300135835442306, 0.3205686947315222, 0.12822747789260888, 0.04274249263086963, 0.10685623157717407, 0.021371246315434814, 0.341939941046957, 0.04274249263086963, 0.8485196292134108, 0.9335194220903278, 0.8728147274402062, 0.8746327505277974, 0.8643889771740645, 0.785270080593146, 0.1682721601271027, 0.056090720042367564, 0.206924011700981, 0.7759650438786787, 0.9175866859678427, 0.1761214893367336, 0.4931401701428541, 0.10567289360204016, 0.07044859573469345, 0.10567289360204016, 0.4317375453812429, 0.14097552502244667, 0.0969206734529321, 0.18503037659196125, 0.04405485156951459, 0.0528658218834175, 0.0528658218834175, 0.7259987003101368, 0.199853862909452, 0.3464133623763835, 0.0799415451637808, 0.0399707725818904, 0.199853862909452, 0.09326513602441093, 0.0399707725818904, 0.209786662584656, 0.21817812908804224, 0.34405012663883583, 0.0419573325169312, 0.09230613153724863, 0.0839146650338624, 0.00839146650338624, 0.7793763352695559, 0.4141915161944902, 0.015340426525721857, 0.030680853051443715, 0.030680853051443715, 0.06136170610288743, 0.429531942720212, 0.030680853051443715, 0.27816496649282796, 0.08344948994784838, 0.11126598659713119, 0.29207321481746934, 0.19471547654497956, 0.04172474497392419, 0.9438000862796995, 0.7541982247115555, 0.07938928681174269, 0.11908393021761403, 0.7759482605271314, 0.9077881145127699, 0.7988261326422218, 0.052069518005847464, 0.15620855401754238, 0.20827807202338985, 0.6248342160701695, 0.7761798141824457, 0.5246490478383221, 0.12796318239959076, 0.06398159119979538, 0.08957422767971353, 0.14075950063954984, 0.025592636479918152, 0.025592636479918152, 0.8032491875492165, 0.9694643188812742, 0.1335824356919096, 0.8014946141514576, 0.3430662391595424, 0.1166425213142444, 0.1303651708806261, 0.1166425213142444, 0.1578104700133895, 0.1166425213142444, 0.013722649566381695, 0.07137611320505764, 0.7137611320505765, 0.14275222641011528, 0.3517987434041844, 0.29767585980354067, 0.027061441800321877, 0.14883792990177033, 0.0676536045008047, 0.08118432540096562, 0.013530720900160938, 0.3123270896805725, 0.15037970984620158, 0.09254135990535481, 0.10989286488760884, 0.16194737983437094, 0.06362218493493144, 0.11567669988169352, 0.9286404525211679, 0.9088368638556398, 0.7700168380222788, 0.5502958766126278, 0.12578191465431493, 0.06289095732715747, 0.015722739331789366, 0.015722739331789366, 0.22011835064505114, 0.015722739331789366, 0.7759094429487696, 0.8216297645653684, 0.23960439465391836, 0.05476671877803849, 0.23275855480666355, 0.17114599618137027, 0.1300709570978414, 0.08899591801431253, 0.08215007816705773, 0.0336037657443874, 0.7392828463765228, 0.20162259446632438, 0.2753937809888257, 0.08060305785038802, 0.18807380165090537, 0.12090458677558204, 0.1544891942132437, 0.1141876652880497, 0.07388613636285568, 0.33251581263905694, 0.15586678717455796, 0.06234671486982318, 0.09871563187722003, 0.18704014460946955, 0.1039111914497053, 0.05715115529733791, 0.43935457904504954, 0.12301928213261386, 0.10544509897081189, 0.0966580073899109, 0.10544509897081189, 0.0922644615994604, 0.03954191211405446, 0.19836001074741103, 0.12893400698581717, 0.3272940177332282, 0.06942600376159386, 0.14877000806055826, 0.06942600376159386, 0.049590002686852756, 0.9439248244801729, 0.3949645865406233, 0.12090752649202754, 0.14508903179043306, 0.13702853002429788, 0.048363010596811015, 0.08866551942748686, 0.048363010596811015, 0.3374791794011343, 0.12052827835754798, 0.06428174845735891, 0.1848100268149069, 0.12052827835754798, 0.09642262268603838, 0.07231696701452879, 0.4011798892986582, 0.11012781274865129, 0.039331361695946886, 0.07866272339189377, 0.2045230808189238, 0.1337266297662194, 0.03146508935675751, 0.3281008712098826, 0.0974049461404339, 0.14354413115432366, 0.10765809836574275, 0.1948098922808678, 0.0922783700277795, 0.04101260890123533, 0.2582513603145155, 0.03689305147350222, 0.13527452206950813, 0.049190735298002955, 0.04304189338575259, 0.4242700919452755, 0.05533957721025332, 0.8806480866526202, 0.8488339162211406, 0.8456776629269908, 0.38229057636950875, 0.22172853429431508, 0.10704136138346244, 0.11468717291085262, 0.09939554985607227, 0.05352068069173122, 0.022937434582170523, 0.9439535269403667, 0.17587167128087042, 0.3362252539193111, 0.16552627885258392, 0.07241774699800546, 0.17587167128087042, 0.05172696214143248, 0.031036177284859485, 0.8828887990549575, 0.16436142640796444, 0.04109035660199111, 0.5341746358258844, 0.04109035660199111, 0.20545178300995556, 0.08218071320398222, 0.1323597534471817, 0.3248830311885369, 0.15642516316485108, 0.12032704858834699, 0.2045559826001899, 0.0481308194353388, 0.0120327048588347, 0.7145705234078967, 0.13896367384354574, 0.21837148746842902, 0.2779273476870915, 0.10918574373421451, 0.13896367384354574, 0.0992597670311041, 0.01985195340622082, 0.19357992103705352, 0.5807397631111606, 0.7759863989792883, 0.865890760361599, 0.09621008448462211, 0.66840919406357, 0.2363467026658165, 0.24619448194355886, 0.13786890988839295, 0.11817335133290825, 0.18710780627710474, 0.06893445494419648, 0.01969555855548471, 0.12383330314033521, 0.7429998188420113, 0.955043131368052, 0.9223033188925522, 0.038032824625484504, 0.07606564925096901, 0.038032824625484504, 0.6085251940077521, 0.038032824625484504, 0.038032824625484504, 0.19016412312742254, 0.11769598908040768, 0.2589311759768969, 0.16477438471257075, 0.023539197816081537, 0.2589311759768969, 0.13338878762446205, 0.031385597088108716, 0.16308971596443733, 0.15402917618863524, 0.19027133529184354, 0.3171188921530726, 0.12684755686122903, 0.02718161932740622, 0.009060539775802073, 0.9332664505257325, 0.920613906854095, 0.219962346183701, 0.3111662458208453, 0.15021818763764946, 0.06974415854605154, 0.11802857600101029, 0.11266364072823709, 0.016094805818319586, 0.798876047942369, 0.7152609582018736, 0.10651384914499008, 0.5858261702974454, 0.05325692457249504, 0.05325692457249504, 0.15977077371748513, 0.6505185826777514, 0.13939683914523243, 0.13939683914523243, 0.9484679988399605, 0.2500434424672529, 0.20241612009253807, 0.16074221301466257, 0.14288196712414453, 0.11906830593678709, 0.07144098356207226, 0.047627322374714835, 0.7696138225109598, 0.19121808735933463, 0.7648723494373385, 0.0336695684322487, 0.11784348951287045, 0.8080696423739688, 0.01683478421612435, 0.15356984103798962, 0.20475978805065284, 0.05118994701266321, 0.05118994701266321, 0.05118994701266321, 0.10237989402532642, 0.35832962908864247, 0.8545092041657925, 0.15737185405386506, 0.15737185405386506, 0.6294874162154602, 0.23085149425128612, 0.020986499477389647, 0.020986499477389647, 0.12591899686433788, 0.10493249738694824, 0.10493249738694824, 0.37775699059301365, 0.7294603648543514, 0.2420892784944363, 0.12104463924721814, 0.04034821308240605, 0.12104463924721814, 0.12104463924721814, 0.36313391774165443, 0.7946312397388373, 0.09932890496735466, 0.45792985401670655, 0.0432009296242176, 0.06048130147390464, 0.216004648121088, 0.10368223109812225, 0.05184111554906112, 0.06048130147390464, 0.8656053283538181, 0.8627646154710944, 0.09429594371484888, 0.03771837748593956, 0.03771837748593956, 0.3771837748593955, 0.03771837748593956, 0.4149021523453351, 0.776183462233555, 0.14663020953870917, 0.7331510476935458, 0.7288498427364886, 0.2215513871679224, 0.10070517598541927, 0.06042310559125156, 0.24169242236500624, 0.04028207039416771, 0.10070517598541927, 0.2215513871679224, 0.14682029992024234, 0.7341014996012117, 0.07341014996012117, 0.1994415201041152, 0.059832456031234556, 0.26259800147041834, 0.11301686139233194, 0.18946944409890942, 0.14293308940794922, 0.03656427868575445, 0.942864874964475, 0.9378296016609782, 0.9177270974992771, 0.9255848131957666, 0.04764173960827839, 0.04764173960827839, 0.04764173960827839, 0.7622678337324542, 0.09528347921655678, 0.8722319662945566, 0.23711057293014026, 0.03601679588812257, 0.07203359177624515, 0.030013996573435477, 0.15307138252452093, 0.4201959520280967, 0.054025193832183856, 0.8877120558768272, 0.08877120558768271, 0.3467112269781271, 0.16776349692490022, 0.08947386502661345, 0.0559211656416334, 0.2348688956948603, 0.06710539876996008, 0.03355269938498004, 0.528623783241887, 0.05012811737638584, 0.113927539491786, 0.16405565686817183, 0.07291362527474303, 0.05012811737638584, 0.018228406318685757, 0.31862703305822315, 0.11470573190096033, 0.1529409758679471, 0.16143769674949973, 0.11470573190096033, 0.11045737146018401, 0.02973852308543416, 0.7233535640137324, 0.2601535047506378, 0.11855096419016407, 0.18111952862386177, 0.1778264462852461, 0.10208555249708573, 0.11855096419016407, 0.04281007040200369, 0.7833781363703413, 0.2574279670193722, 0.11492319956221975, 0.03677542385991032, 0.11492319956221975, 0.013790783947466368, 0.32178495877421526, 0.1379078394746637, 0.3164313297538924, 0.17734063535657707, 0.11127255551785227, 0.17386336799664417, 0.10084075343805363, 0.07997714927845632, 0.0417272083191946, 0.2558288173351078, 0.17055254489007188, 0.16553629356977564, 0.130422534327702, 0.0802600211247397, 0.15550379092918318, 0.045146261882666086, 0.8854413049406005], \"Term\": [\"abhinav\", \"able\", \"able\", \"able\", \"able\", \"able\", \"able\", \"able\", \"acquisition\", \"acquisition\", \"adarsh\", \"addiction\", \"addiction\", \"african\", \"african\", \"agra\", \"agreement\", \"air\", \"air\", \"air\", \"air\", \"air\", \"air\", \"air\", \"ajivika\", \"ajrak\", \"akhil\", \"akshaya\", \"aleena\", \"amma\", \"amrit\", \"amrit\", \"amrit\", \"amrit\", \"amurtha\", \"antibiotic\", \"anudeep\", \"aparna\", \"aparna\", \"app\", \"app\", \"app\", \"app\", \"app\", \"app\", \"app\", \"apricot\", \"artificial\", \"ashok\", \"ashok\", \"assurance\", \"astronomy\", \"atalji\", \"atalji\", \"atalji\", \"attack\", \"attack\", \"attack\", \"attack\", \"attack\", \"aurobindo\", \"award\", \"award\", \"award\", \"award\", \"award\", \"award\", \"ayushman\", \"ayushman\", \"ayushman\", \"ayushman\", \"ayushman\", \"bank\", \"bank\", \"bank\", \"bank\", \"bank\", \"bank\", \"bank\", \"banking\", \"banking\", \"banking\", \"banking\", \"barack\", \"barack\", \"barna\", \"bee\", \"beneficiary\", \"beneficiary\", \"beneficiary\", \"beneficiary\", \"beneficiary\", \"betterment\", \"betterment\", \"bhagat\", \"bhagat\", \"bhagat\", \"bhagirathi\", \"bill\", \"biography\", \"bird\", \"bird\", \"bird\", \"bird\", \"bird\", \"bird\", \"bird\", \"birth\", \"birth\", \"birth\", \"birth\", \"birth\", \"birth\", \"birth\", \"blog\", \"blog\", \"bose\", \"bose\", \"bose\", \"brahmaputra\", \"breed\", \"breed\", \"brother\", \"brother\", \"brother\", \"brother\", \"brother\", \"brother\", \"brother\", \"brown\", \"brown\", \"bru\", \"buddha\", \"buddha\", \"cadet\", \"cadet\", \"calendar\", \"calendar\", \"calm\", \"calm\", \"campaign\", \"campaign\", \"campaign\", \"campaign\", \"campaign\", \"campaign\", \"campaign\", \"chandrakant\", \"chandrasekhar\", \"chandrika\", \"charter\", \"chhathh\", \"chia\", \"child\", \"child\", \"child\", \"child\", \"child\", \"child\", \"child\", \"chile\", \"chilean\", \"chulha\", \"cigarette\", \"cigarette\", \"citizen\", \"citizen\", \"citizen\", \"citizen\", \"citizen\", \"citizen\", \"citizen\", \"cleanliness\", \"cleanliness\", \"cleanliness\", \"cleanliness\", \"cleanliness\", \"cleanliness\", \"cleanliness\", \"coal\", \"cocoon\", \"coin\", \"coin\", \"commentary\", \"compensation\", \"concern\", \"concern\", \"concern\", \"concern\", \"concern\", \"concern\", \"concern\", \"consent\", \"consent\", \"conservation\", \"conservation\", \"conservation\", \"conservation\", \"conservation\", \"constitution\", \"constitution\", \"constitution\", \"constitution\", \"constitution\", \"corona\", \"corona\", \"corona\", \"corona\", \"corona\", \"corona\", \"corona\", \"corridor\", \"corridor\", \"country\", \"country\", \"country\", \"country\", \"country\", \"country\", \"country\", \"criminal\", \"crisis\", \"crisis\", \"crisis\", \"crisis\", \"crisis\", \"crisis\", \"crisis\", \"critical\", \"crore\", \"crore\", \"crore\", \"crore\", \"crore\", \"crore\", \"crore\", \"crown\", \"cub\", \"culture\", \"culture\", \"culture\", \"culture\", \"culture\", \"culture\", \"culture\", \"daily\", \"daily\", \"daily\", \"daily\", \"daily\", \"daily\", \"daniil\", \"dashami\", \"daughter\", \"daughter\", \"daughter\", \"daughter\", \"daughter\", \"daughter\", \"daughter\", \"day\", \"day\", \"day\", \"day\", \"day\", \"day\", \"day\", \"dayal\", \"deshmukh\", \"dev\", \"dev\", \"dev\", \"dev\", \"devastation\", \"devotee\", \"devotee\", \"different\", \"different\", \"different\", \"different\", \"different\", \"different\", \"different\", \"digital\", \"digital\", \"digital\", \"digital\", \"digital\", \"digital\", \"distress\", \"distress\", \"diver\", \"divyaang\", \"divyaang\", \"diwali\", \"diwali\", \"diwali\", \"diwali\", \"diwali\", \"doctor\", \"doctor\", \"doctor\", \"doctor\", \"doctor\", \"doctor\", \"dog\", \"dog\", \"donation\", \"donation\", \"donation\", \"donation\", \"drawback\", \"drug\", \"drug\", \"drug\", \"drug\", \"drug\", \"drum\", \"earth\", \"earth\", \"earth\", \"earth\", \"earth\", \"earth\", \"earth\", \"eastern\", \"eastern\", \"eastern\", \"eastern\", \"eastern\", \"eclipse\", \"education\", \"education\", \"education\", \"education\", \"education\", \"education\", \"education\", \"effort\", \"effort\", \"effort\", \"effort\", \"effort\", \"effort\", \"effort\", \"election\", \"election\", \"election\", \"election\", \"election\", \"exam\", \"exam\", \"exam\", \"exam\", \"exam\", \"exam\", \"exam\", \"examination\", \"examination\", \"examination\", \"examination\", \"examination\", \"examination\", \"exit\", \"expanse\", \"expectation\", \"expectation\", \"expectation\", \"expectation\", \"expectation\", \"expectation\", \"experience\", \"experience\", \"experience\", \"experience\", \"experience\", \"experience\", \"experience\", \"fabulous\", \"family\", \"family\", \"family\", \"family\", \"family\", \"family\", \"family\", \"farmer\", \"farmer\", \"farmer\", \"farmer\", \"farmer\", \"farmer\", \"farmer\", \"farming\", \"farming\", \"farming\", \"farming\", \"farming\", \"farming\", \"female\", \"festival\", \"festival\", \"festival\", \"festival\", \"festival\", \"festival\", \"festival\", \"field\", \"field\", \"field\", \"field\", \"field\", \"field\", \"field\", \"fight\", \"fight\", \"fight\", \"fight\", \"fight\", \"fight\", \"finish\", \"force\", \"force\", \"force\", \"force\", \"force\", \"force\", \"force\", \"free\", \"free\", \"free\", \"free\", \"free\", \"free\", \"free\", \"freedom\", \"freedom\", \"freedom\", \"freedom\", \"freedom\", \"freedom\", \"freedom\", \"game\", \"game\", \"game\", \"game\", \"game\", \"game\", \"game\", \"gandhi\", \"gandhi\", \"gandhi\", \"gandhi\", \"gandhi\", \"gandhi\", \"gandhi\", \"generation\", \"generation\", \"generation\", \"generation\", \"generation\", \"generation\", \"generation\", \"gold\", \"gold\", \"gold\", \"gold\", \"gold\", \"gold\", \"gold\", \"gourd\", \"gst\", \"gst\", \"gupta\", \"gupta\", \"gupta\", \"gupta\", \"guru\", \"guru\", \"guru\", \"guru\", \"guru\", \"guru\", \"gurudwara\", \"gurudwara\", \"gurudwara\", \"haat\", \"haat\", \"haj\", \"hand\", \"hand\", \"hand\", \"hand\", \"hand\", \"hand\", \"hand\", \"hari\", \"harivansh\", \"harm\", \"heart\", \"heart\", \"heart\", \"heart\", \"heart\", \"heart\", \"heart\", \"himayat\", \"holy\", \"holy\", \"holy\", \"holy\", \"holy\", \"holy\", \"holy\", \"home\", \"home\", \"home\", \"home\", \"home\", \"home\", \"home\", \"honest\", \"honest\", \"honey\", \"honey\", \"hospital\", \"hospital\", \"hospital\", \"hospital\", \"hospital\", \"hospital\", \"hound\", \"house\", \"house\", \"house\", \"house\", \"house\", \"house\", \"house\", \"hunar\", \"importance\", \"importance\", \"importance\", \"importance\", \"importance\", \"importance\", \"importance\", \"important\", \"important\", \"important\", \"important\", \"important\", \"important\", \"important\", \"incubation\", \"incubation\", \"indoor\", \"industry\", \"industry\", \"industry\", \"industry\", \"industry\", \"industry\", \"initiative\", \"initiative\", \"initiative\", \"initiative\", \"initiative\", \"initiative\", \"initiative\", \"innovation\", \"innovation\", \"innovation\", \"innovation\", \"innovation\", \"innovation\", \"innovation\", \"ismail\", \"ismail\", \"jamsetji\", \"janata\", \"jawan\", \"jawan\", \"jawan\", \"jawan\", \"jawan\", \"jeeva\", \"jhansi\", \"jona\", \"joy\", \"joy\", \"joy\", \"joy\", \"joy\", \"joy\", \"joy\", \"kabir\", \"kalamji\", \"kamya\", \"kaniga\", \"kannur\", \"kapoor\", \"karbi\", \"kargil\", \"kargil\", \"kargil\", \"kashmiri\", \"kaziranga\", \"kelansang\", \"khaadi\", \"khaadi\", \"khadi\", \"khadi\", \"khadi\", \"khadi\", \"khadi\", \"khadi\", \"khadi\", \"khan\", \"khan\", \"khan\", \"khan\", \"king\", \"king\", \"king\", \"king\", \"king\", \"kingdom\", \"kiso\", \"korwa\", \"kritika\", \"kulkarni\", \"kulkarni\", \"kumbh\", \"kumbh\", \"kumbh\", \"kumbh\", \"kumbh\", \"laaw\", \"laborer\", \"labourer\", \"labourer\", \"labourer\", \"labourer\", \"labourer\", \"lakshadweep\", \"lakshmi\", \"land\", \"land\", \"land\", \"land\", \"land\", \"land\", \"land\", \"language\", \"language\", \"language\", \"language\", \"language\", \"language\", \"language\", \"lata\", \"lavanya\", \"law\", \"law\", \"law\", \"law\", \"law\", \"law\", \"law\", \"laxmi\", \"leopard\", \"leopard\", \"letter\", \"letter\", \"letter\", \"letter\", \"letter\", \"letter\", \"letter\", \"library\", \"library\", \"library\", \"light\", \"light\", \"light\", \"light\", \"light\", \"light\", \"light\", \"lioness\", \"local\", \"local\", \"local\", \"local\", \"local\", \"local\", \"local\", \"logistic\", \"lord\", \"lord\", \"lord\", \"lord\", \"lord\", \"magh\", \"magh\", \"maghar\", \"maharishi\", \"mahotsav\", \"mahotsav\", \"mahotsav\", \"mahotsav\", \"mallakhambh\", \"malnutrition\", \"man\", \"man\", \"man\", \"man\", \"man\", \"man\", \"man\", \"manya\", \"manzoor\", \"mariamthresia\", \"mariyappan\", \"mark\", \"mark\", \"mark\", \"mark\", \"mark\", \"mark\", \"medical\", \"medical\", \"medical\", \"medical\", \"medical\", \"medium\", \"medium\", \"medium\", \"medium\", \"medium\", \"medium\", \"medium\", \"medvedev\", \"memorial\", \"memorial\", \"memorial\", \"memorial\", \"memorial\", \"menace\", \"menace\", \"menace\", \"mind\", \"mind\", \"mind\", \"mind\", \"mind\", \"mind\", \"mind\", \"minusha\", \"mobile\", \"mobile\", \"mobile\", \"mobile\", \"mobile\", \"mobile\", \"mobile\", \"money\", \"money\", \"money\", \"money\", \"money\", \"money\", \"money\", \"morarji\", \"morna\", \"mother\", \"mother\", \"mother\", \"mother\", \"mother\", \"mother\", \"mother\", \"movement\", \"movement\", \"movement\", \"movement\", \"movement\", \"movement\", \"movement\", \"mukherjee\", \"mukherjee\", \"mulberry\", \"nadal\", \"nanak\", \"nanak\", \"nanak\", \"nanak\", \"narasimha\", \"nature\", \"nature\", \"nature\", \"nature\", \"nature\", \"nature\", \"nature\", \"navaraatri\", \"nayak\", \"ncc\", \"ncc\", \"ncc\", \"ncc\", \"netaji\", \"netaji\", \"netaji\", \"netaji\", \"news\", \"news\", \"news\", \"news\", \"news\", \"news\", \"news\", \"nhrc\", \"nitesh\", \"nivedita\", \"number\", \"number\", \"number\", \"number\", \"number\", \"number\", \"number\", \"nurse\", \"nurse\", \"nutrition\", \"nutrition\", \"nutrition\", \"oaxaca\", \"obama\", \"obama\", \"old\", \"old\", \"old\", \"old\", \"old\", \"old\", \"old\", \"olympic\", \"olympic\", \"olympic\", \"olympic\", \"olympic\", \"opportunity\", \"opportunity\", \"opportunity\", \"opportunity\", \"opportunity\", \"opportunity\", \"opportunity\", \"ordeal\", \"organ\", \"organ\", \"organ\", \"organ\", \"organization\", \"organization\", \"organization\", \"organization\", \"organization\", \"organization\", \"organization\", \"orphanage\", \"ownership\", \"pandharpur\", \"paralympic\", \"parent\", \"parent\", \"parent\", \"parent\", \"parent\", \"parent\", \"parent\", \"path\", \"path\", \"path\", \"path\", \"path\", \"path\", \"path\", \"patient\", \"patient\", \"patient\", \"patient\", \"patient\", \"patient\", \"paucity\", \"pawan\", \"payer\", \"payment\", \"payment\", \"payment\", \"payment\", \"peace\", \"peace\", \"peace\", \"peace\", \"peace\", \"peace\", \"peace\", \"peacekeeper\", \"peacekeeping\", \"pencil\", \"person\", \"person\", \"person\", \"person\", \"person\", \"person\", \"person\", \"pon\", \"poor\", \"poor\", \"poor\", \"poor\", \"poor\", \"poor\", \"poor\", \"portability\", \"potato\", \"power\", \"power\", \"power\", \"power\", \"power\", \"power\", \"power\", \"prakash\", \"prakash\", \"prakash\", \"prakash\", \"pramod\", \"pranayama\", \"prasad\", \"prasad\", \"prasad\", \"prasad\", \"prasad\", \"prasad\", \"pressure\", \"pressure\", \"pressure\", \"pressure\", \"pressure\", \"pressure\", \"pressure\", \"pride\", \"pride\", \"pride\", \"pride\", \"pride\", \"pride\", \"pride\", \"print\", \"print\", \"private\", \"private\", \"priyanka\", \"programme\", \"programme\", \"programme\", \"programme\", \"programme\", \"programme\", \"programme\", \"prophet\", \"pulwama\", \"pulwama\", \"pulwama\", \"purnia\", \"quarantine\", \"quarantine\", \"quarantine\", \"quarantine\", \"quarantine\", \"question\", \"question\", \"question\", \"question\", \"question\", \"question\", \"question\", \"quit\", \"quit\", \"rabindra\", \"radio\", \"radio\", \"radio\", \"radio\", \"radio\", \"radio\", \"radio\", \"rain\", \"rain\", \"rain\", \"rain\", \"rain\", \"rain\", \"rain\", \"rajmata\", \"rama\", \"ramanujacharya\", \"ramazan\", \"ramzan\", \"rao\", \"rao\", \"rao\", \"ravida\", \"ravida\", \"relaxed\", \"resolution\", \"resolution\", \"resolution\", \"resolution\", \"resolution\", \"resolve\", \"resolve\", \"resolve\", \"resolve\", \"resolve\", \"resolve\", \"resolve\", \"respiratory\", \"result\", \"result\", \"result\", \"result\", \"result\", \"result\", \"result\", \"right\", \"right\", \"right\", \"right\", \"right\", \"right\", \"right\", \"ripudaman\", \"river\", \"river\", \"river\", \"river\", \"river\", \"river\", \"river\", \"rupee\", \"rupee\", \"rupee\", \"rupee\", \"rupee\", \"rupee\", \"saffron\", \"sahib\", \"sahib\", \"sahib\", \"sahibzade\", \"salman\", \"sankalp\", \"sant\", \"sant\", \"sant\", \"sant\", \"santokhi\", \"sardar\", \"sardar\", \"sardar\", \"sardar\", \"sardar\", \"sardar\", \"sardar\", \"saris\", \"savarkar\", \"scared\", \"scared\", \"school\", \"school\", \"school\", \"school\", \"school\", \"school\", \"school\", \"score\", \"score\", \"score\", \"sense\", \"sense\", \"sense\", \"sense\", \"sense\", \"sense\", \"sense\", \"service\", \"service\", \"service\", \"service\", \"service\", \"service\", \"service\", \"shailesh\", \"sheep\", \"sikari\", \"singh\", \"singh\", \"singh\", \"singh\", \"singh\", \"singh\", \"singh\", \"singhji\", \"sirmodi\", \"sister\", \"sister\", \"sister\", \"sister\", \"sister\", \"sister\", \"sister\", \"sleep\", \"sleep\", \"sleep\", \"small\", \"small\", \"small\", \"small\", \"small\", \"small\", \"small\", \"social\", \"social\", \"social\", \"social\", \"social\", \"social\", \"social\", \"society\", \"society\", \"society\", \"society\", \"society\", \"society\", \"society\", \"soldier\", \"soldier\", \"soldier\", \"soldier\", \"soldier\", \"soldier\", \"soldier\", \"sonal\", \"special\", \"special\", \"special\", \"special\", \"special\", \"special\", \"special\", \"spirit\", \"spirit\", \"spirit\", \"spirit\", \"spirit\", \"spirit\", \"spirit\", \"sport\", \"sport\", \"sport\", \"sport\", \"sport\", \"sport\", \"sport\", \"state\", \"state\", \"state\", \"state\", \"state\", \"state\", \"state\", \"story\", \"story\", \"story\", \"story\", \"story\", \"story\", \"story\", \"storyteller\", \"storytelling\", \"strawberry\", \"strength\", \"strength\", \"strength\", \"strength\", \"strength\", \"strength\", \"strength\", \"stubble\", \"student\", \"student\", \"student\", \"student\", \"student\", \"student\", \"student\", \"stump\", \"subsidy\", \"subsidy\", \"subsidy\", \"subsidy\", \"subsidy\", \"subsidy\", \"success\", \"success\", \"success\", \"success\", \"success\", \"success\", \"success\", \"sufi\", \"suggestion\", \"suggestion\", \"suggestion\", \"suggestion\", \"suggestion\", \"suggestion\", \"suggestion\", \"surgery\", \"surgery\", \"suriname\", \"swamiji\", \"swamiji\", \"taayang\", \"talk\", \"talk\", \"talk\", \"talk\", \"talk\", \"talk\", \"talk\", \"tank\", \"tank\", \"tarannum\", \"tata\", \"tax\", \"tax\", \"tax\", \"tax\", \"tax\", \"tax\", \"tax\", \"teacher\", \"teacher\", \"teacher\", \"teacher\", \"teacher\", \"teacher\", \"teacher\", \"technology\", \"technology\", \"technology\", \"technology\", \"technology\", \"technology\", \"technology\", \"telescope\", \"tenali\", \"thing\", \"thing\", \"thing\", \"thing\", \"thing\", \"thing\", \"thing\", \"thirukkural\", \"tie\", \"tiger\", \"tiger\", \"tiger\", \"tiger\", \"tiger\", \"tilak\", \"tilak\", \"tilak\", \"tilakji\", \"time\", \"time\", \"time\", \"time\", \"time\", \"time\", \"time\", \"tissau\", \"tobacco\", \"tobacco\", \"toy\", \"toy\", \"toy\", \"toy\", \"train\", \"train\", \"train\", \"train\", \"train\", \"train\", \"train\", \"transplant\", \"trap\", \"trap\", \"trap\", \"treatment\", \"treatment\", \"treatment\", \"treatment\", \"treatment\", \"treatment\", \"treatment\", \"tsunami\", \"underprivileged\", \"underprivileged\", \"underprivileged\", \"underprivileged\", \"underprivileged\", \"underprivileged\", \"unfair\", \"unfair\", \"unity\", \"unity\", \"unity\", \"unity\", \"unity\", \"unity\", \"unity\", \"valli\", \"valmiki\", \"vegetable\", \"vegetable\", \"vegetable\", \"vegetable\", \"vegetable\", \"vegetable\", \"venkatji\", \"verdict\", \"verdict\", \"vida\", \"video\", \"video\", \"video\", \"video\", \"video\", \"video\", \"video\", \"vijay\", \"vijay\", \"vijay\", \"village\", \"village\", \"village\", \"village\", \"village\", \"village\", \"village\", \"vinayak\", \"vinole\", \"vip\", \"virendra\", \"virus\", \"virus\", \"virus\", \"virus\", \"virus\", \"vitthal\", \"water\", \"water\", \"water\", \"water\", \"water\", \"water\", \"water\", \"white\", \"white\", \"wish\", \"wish\", \"wish\", \"wish\", \"wish\", \"wish\", \"wish\", \"woman\", \"woman\", \"woman\", \"woman\", \"woman\", \"woman\", \"woman\", \"work\", \"work\", \"work\", \"work\", \"work\", \"work\", \"work\", \"workforce\", \"year\", \"year\", \"year\", \"year\", \"year\", \"year\", \"year\", \"yespm\", \"yoga\", \"yoga\", \"yoga\", \"yoga\", \"yoga\", \"yoga\", \"yoga\", \"young\", \"young\", \"young\", \"young\", \"young\", \"young\", \"young\", \"youth\", \"youth\", \"youth\", \"youth\", \"youth\", \"youth\", \"youth\", \"yuvika\"]}, \"R\": 30, \"lambda.step\": 0.01, \"plot.opts\": {\"xlab\": \"PC1\", \"ylab\": \"PC2\"}, \"topic.order\": [3, 4, 7, 2, 6, 1, 5]};\n",
       "\n",
       "function LDAvis_load_lib(url, callback){\n",
       "  var s = document.createElement('script');\n",
       "  s.src = url;\n",
       "  s.async = true;\n",
       "  s.onreadystatechange = s.onload = callback;\n",
       "  s.onerror = function(){console.warn(\"failed to load library \" + url);};\n",
       "  document.getElementsByTagName(\"head\")[0].appendChild(s);\n",
       "}\n",
       "\n",
       "if(typeof(LDAvis) !== \"undefined\"){\n",
       "   // already loaded: just create the visualization\n",
       "   !function(LDAvis){\n",
       "       new LDAvis(\"#\" + \"ldavis_el2848028417137825607335467773\", ldavis_el2848028417137825607335467773_data);\n",
       "   }(LDAvis);\n",
       "}else if(typeof define === \"function\" && define.amd){\n",
       "   // require.js is available: use it to load d3/LDAvis\n",
       "   require.config({paths: {d3: \"https://d3js.org/d3.v5\"}});\n",
       "   require([\"d3\"], function(d3){\n",
       "      window.d3 = d3;\n",
       "      LDAvis_load_lib(\"https://cdn.jsdelivr.net/gh/bmabey/pyLDAvis@3.3.1/pyLDAvis/js/ldavis.v3.0.0.js\", function(){\n",
       "        new LDAvis(\"#\" + \"ldavis_el2848028417137825607335467773\", ldavis_el2848028417137825607335467773_data);\n",
       "      });\n",
       "    });\n",
       "}else{\n",
       "    // require.js not available: dynamically load d3 & LDAvis\n",
       "    LDAvis_load_lib(\"https://d3js.org/d3.v5.js\", function(){\n",
       "         LDAvis_load_lib(\"https://cdn.jsdelivr.net/gh/bmabey/pyLDAvis@3.3.1/pyLDAvis/js/ldavis.v3.0.0.js\", function(){\n",
       "                 new LDAvis(\"#\" + \"ldavis_el2848028417137825607335467773\", ldavis_el2848028417137825607335467773_data);\n",
       "            })\n",
       "         });\n",
       "}\n",
       "</script>"
      ],
      "text/plain": [
       "PreparedData(topic_coordinates=              x         y  topics  cluster       Freq\n",
       "topic                                                \n",
       "2      0.021049 -0.000219       1        1  28.068837\n",
       "3      0.022999 -0.036136       2        1  14.995078\n",
       "6      0.049473  0.026814       3        1  14.101662\n",
       "1      0.021018  0.064303       4        1  13.070818\n",
       "5      0.006019  0.033881       5        1  12.855766\n",
       "0      0.009299 -0.097424       6        1  11.207606\n",
       "4     -0.129857  0.008781       7        1   5.700232, topic_info=            Term        Freq       Total Category  logprob  loglift\n",
       "247        water  333.000000  333.000000  Default  30.0000  30.0000\n",
       "625         exam  152.000000  152.000000  Default  29.0000  29.0000\n",
       "835         yoga  217.000000  217.000000  Default  28.0000  28.0000\n",
       "74        farmer  332.000000  332.000000  Default  27.0000  27.0000\n",
       "213        story  162.000000  162.000000  Default  26.0000  26.0000\n",
       "..           ...         ...         ...      ...      ...      ...\n",
       "595     daughter   11.227418  135.203929   Topic7  -5.9583   0.3762\n",
       "135       medium   11.287295  143.428979   Topic7  -5.9530   0.3225\n",
       "525        young   11.657776  287.582143   Topic7  -5.9207  -0.3409\n",
       "426  opportunity   11.276073  250.295707   Topic7  -5.9540  -0.2353\n",
       "202        small   10.729657  148.877726   Topic7  -6.0037   0.2345\n",
       "\n",
       "[567 rows x 6 columns], token_table=      Topic      Freq     Term\n",
       "term                          \n",
       "7073      2  0.798513  abhinav\n",
       "255       1  0.269263     able\n",
       "255       2  0.227190     able\n",
       "255       3  0.058901     able\n",
       "255       4  0.117802     able\n",
       "...     ...       ...      ...\n",
       "253       4  0.130423    youth\n",
       "253       5  0.080260    youth\n",
       "253       6  0.155504    youth\n",
       "253       7  0.045146    youth\n",
       "8207      5  0.885441   yuvika\n",
       "\n",
       "[1440 rows x 3 columns], R=30, lambda_step=0.01, plot_opts={'xlab': 'PC1', 'ylab': 'PC2'}, topic_order=[3, 4, 7, 2, 6, 1, 5])"
      ]
     },
     "execution_count": 111,
     "metadata": {},
     "output_type": "execute_result"
    }
   ],
   "source": [
    "pyLDAvis.enable_notebook()\n",
    "LDAvis1 = gensimvis.prepare(lda_model1, corpus, id2word)\n",
    "pyLDAvis.save_html(LDAvis1, 'HTML/gensim_lda1_viz.html')\n",
    "LDAvis1"
   ]
  },
  {
   "cell_type": "code",
   "execution_count": 112,
   "metadata": {},
   "outputs": [
    {
     "name": "stdout",
     "output_type": "stream",
     "text": [
      "\n",
      "Perplexity for k = 5 :  -8.19122197069738\n",
      "\n",
      "Coherence Score for k = 5 :  0.252073241089343\n"
     ]
    }
   ],
   "source": [
    "print('\\nPerplexity for k = 5 : ', lda_model1.log_perplexity(corpus,total_docs=74))  # a measure of how good the model is. lower the better.\n",
    "\n",
    "# Compute Coherence Score\n",
    "from gensim.models.coherencemodel import CoherenceModel\n",
    "coherence_model_lda1 = CoherenceModel(model=lda_model1, texts=data_lemma, dictionary=id2word , coherence='c_v')\n",
    "coherence_lda1 = coherence_model_lda1.get_coherence()\n",
    "print('\\nCoherence Score for k = 5 : ', coherence_lda1)"
   ]
  },
  {
   "cell_type": "code",
   "execution_count": 83,
   "metadata": {},
   "outputs": [
    {
     "data": {
      "text/plain": [
       "[(0,\n",
       "  '0.005*\"farmer\" + 0.003*\"law\" + 0.003*\"land\" + 0.003*\"village\" + 0.002*\"water\" + 0.002*\"sister\" + 0.002*\"yoga\" + 0.002*\"brother\" + 0.001*\"state\" + 0.001*\"compensation\"'),\n",
       " (1,\n",
       "  '0.003*\"suggestion\" + 0.003*\"brother\" + 0.003*\"strength\" + 0.003*\"thought\" + 0.003*\"khaadi\" + 0.003*\"sheep\" + 0.003*\"vijay\" + 0.002*\"lion\" + 0.002*\"dashami\" + 0.002*\"cub\"'),\n",
       " (2,\n",
       "  '0.012*\"yoga\" + 0.006*\"question\" + 0.006*\"barack\" + 0.005*\"gold\" + 0.005*\"water\" + 0.005*\"village\" + 0.004*\"work\" + 0.004*\"thing\" + 0.004*\"child\" + 0.004*\"state\"'),\n",
       " (3,\n",
       "  '0.019*\"farmer\" + 0.008*\"village\" + 0.008*\"land\" + 0.007*\"brother\" + 0.006*\"law\" + 0.006*\"sister\" + 0.006*\"opportunity\" + 0.005*\"work\" + 0.004*\"state\" + 0.004*\"year\"'),\n",
       " (4,\n",
       "  '0.005*\"child\" + 0.005*\"drug\" + 0.004*\"day\" + 0.004*\"kid\" + 0.004*\"family\" + 0.004*\"concern\" + 0.003*\"addiction\" + 0.003*\"thing\" + 0.003*\"khadi\" + 0.003*\"tree\"'),\n",
       " (5,\n",
       "  '0.023*\"exam\" + 0.009*\"water\" + 0.008*\"student\" + 0.008*\"thing\" + 0.008*\"question\" + 0.008*\"teacher\" + 0.007*\"child\" + 0.006*\"parent\" + 0.005*\"family\" + 0.005*\"mind\"'),\n",
       " (6,\n",
       "  '0.009*\"house\" + 0.008*\"light\" + 0.007*\"farmer\" + 0.006*\"effort\" + 0.005*\"year\" + 0.005*\"water\" + 0.005*\"work\" + 0.005*\"festival\" + 0.005*\"story\" + 0.005*\"woman\"'),\n",
       " (7,\n",
       "  '0.001*\"farmer\" + 0.001*\"water\" + 0.001*\"village\" + 0.001*\"day\" + 0.000*\"opportunity\" + 0.000*\"brother\" + 0.000*\"poor\" + 0.000*\"year\" + 0.000*\"child\" + 0.000*\"festival\"'),\n",
       " (8,\n",
       "  '0.006*\"family\" + 0.006*\"festival\" + 0.006*\"young\" + 0.005*\"day\" + 0.005*\"cleanliness\" + 0.005*\"year\" + 0.005*\"poor\" + 0.004*\"social\" + 0.004*\"unity\" + 0.004*\"society\"')]"
      ]
     },
     "execution_count": 83,
     "metadata": {},
     "output_type": "execute_result"
    }
   ],
   "source": [
    "lda_model2 = gensim.models.LdaMulticore(corpus = corpus,\n",
    "                                       id2word = id2word,\n",
    "                                       num_topics = 9,\n",
    "                                       chunksize = 2,\n",
    "                                       passes = 5,\n",
    "                                       iterations=10,\n",
    "                                       per_word_topics=True,\n",
    "                                       minimum_probability = 0)\n",
    "lda_model2.print_topics()"
   ]
  },
  {
   "cell_type": "code",
   "execution_count": 84,
   "metadata": {},
   "outputs": [
    {
     "data": {
      "text/html": [
       "\n",
       "<link rel=\"stylesheet\" type=\"text/css\" href=\"https://cdn.jsdelivr.net/gh/bmabey/pyLDAvis@3.3.1/pyLDAvis/js/ldavis.v1.0.0.css\">\n",
       "\n",
       "\n",
       "<div id=\"ldavis_el2848028416884208646016622152\"></div>\n",
       "<script type=\"text/javascript\">\n",
       "\n",
       "var ldavis_el2848028416884208646016622152_data = {\"mdsDat\": {\"x\": [-0.1295877366608345, -0.17450995230708038, -0.00941748691377023, 0.008033183937803327, 0.013668888634495249, 0.03755365606906225, 0.07961041075100457, 0.06525848330735695, 0.10939055318196295], \"y\": [-0.055988053584957134, 0.08602581530035226, -0.031447823898605495, -0.07655608389060342, -0.02075950307194434, 0.009323305325542946, 0.030460966815419967, 0.019559004819962953, 0.03938237218483226], \"topics\": [1, 2, 3, 4, 5, 6, 7, 8, 9], \"cluster\": [1, 1, 1, 1, 1, 1, 1, 1, 1], \"Freq\": [42.28060635675281, 40.59050775443592, 5.6049541631564965, 4.933429699655063, 3.836872242150861, 2.3010880220406147, 0.43050686339381333, 0.01128913017323002, 0.010745768241192112]}, \"tinfo\": {\"Term\": [\"farmer\", \"village\", \"water\", \"child\", \"yoga\", \"exam\", \"family\", \"brother\", \"poor\", \"land\", \"work\", \"day\", \"sister\", \"year\", \"opportunity\", \"house\", \"thing\", \"state\", \"student\", \"law\", \"cleanliness\", \"strength\", \"teacher\", \"important\", \"question\", \"young\", \"small\", \"experience\", \"light\", \"right\", \"dev\", \"nanak\", \"deepawali\", \"gst\", \"pencil\", \"tilak\", \"pooja\", \"pon\", \"nivedita\", \"vallabhbhai\", \"atalji\", \"manya\", \"cigarette\", \"mukherjee\", \"brown\", \"valmiki\", \"sardar\", \"satyagraha\", \"depression\", \"mariyappan\", \"mallakhambh\", \"oaxaca\", \"hockey\", \"gurbachan\", \"tilakji\", \"lakshadweep\", \"grit\", \"ekta\", \"purchase\", \"durga\", \"british\", \"ganesh\", \"unity\", \"organisation\", \"patel\", \"section\", \"utsav\", \"sikh\", \"darkness\", \"lokmanya\", \"gandhi\", \"cleanliness\", \"poor\", \"jayanti\", \"operation\", \"idol\", \"october\", \"force\", \"khadi\", \"peace\", \"soldier\", \"movement\", \"common\", \"security\", \"social\", \"young\", \"role\", \"family\", \"incident\", \"team\", \"mahatma\", \"person\", \"festival\", \"day\", \"indian\", \"spirit\", \"daughter\", \"service\", \"power\", \"year\", \"society\", \"man\", \"youth\", \"crore\", \"state\", \"citizen\", \"campaign\", \"effort\", \"child\", \"village\", \"woman\", \"opportunity\", \"heart\", \"farmer\", \"honey\", \"bee\", \"mahotsav\", \"amrit\", \"vaccine\", \"karbi\", \"sikari\", \"tissau\", \"tsunami\", \"banaskantha\", \"color\", \"vaccination\", \"theatre\", \"easter\", \"chaitra\", \"ton\", \"janata\", \"christian\", \"batra\", \"bhi\", \"curfew\", \"fabulous\", \"bhagwan\", \"karma\", \"yamuna\", \"automobile\", \"bijayji\", \"goraiya\", \"jinjhuwada\", \"kochi\", \"light\", \"prasad\", \"toy\", \"museum\", \"modernization\", \"house\", \"corona\", \"holi\", \"gita\", \"farming\", \"listener\", \"novel\", \"elderly\", \"income\", \"duty\", \"fighter\", \"programme\", \"story\", \"waste\", \"revolution\", \"tourism\", \"sea\", \"corner\", \"similar\", \"old\", \"water\", \"effort\", \"farmer\", \"woman\", \"work\", \"time\", \"year\", \"village\", \"festival\", \"experience\", \"special\", \"society\", \"opportunity\", \"child\", \"day\", \"thank\", \"student\", \"stump\", \"drawback\", \"harivansh\", \"noor\", \"lantern\", \"acquisition\", \"supporter\", \"saarc\", \"compensation\", \"fasal\", \"consent\", \"beema\", \"jehan\", \"jamuna\", \"disabled\", \"asha\", \"chai\", \"lopn\", \"burning\", \"introduction\", \"lakhwind\", \"ownership\", \"biswal\", \"moonlight\", \"purse\", \"donor\", \"harda\", \"mudra\", \"aashish\", \"arrear\", \"malaria\", \"ppp\", \"charkha\", \"betterment\", \"procedure\", \"yojana\", \"law\", \"land\", \"farmer\", \"enterprise\", \"failure\", \"road\", \"railway\", \"brother\", \"crop\", \"ordinance\", \"sister\", \"issue\", \"village\", \"money\", \"job\", \"cashless\", \"opportunity\", \"bank\", \"help\", \"state\", \"suggestion\", \"truth\", \"problem\", \"work\", \"right\", \"change\", \"small\", \"news\", \"poor\", \"khadi\", \"important\", \"year\", \"day\", \"water\", \"field\", \"family\", \"relaxed\", \"anand\", \"chess\", \"scout\", \"tendulkar\", \"unfair\", \"carry\", \"score\", \"sachin\", \"anuspardha\", \"richa\", \"discharge\", \"murari\", \"hivrebazaar\", \"disappointed\", \"enrolment\", \"nervous\", \"panchayati\", \"mallamma\", \"edison\", \"compete\", \"lecture\", \"yash\", \"inventor\", \"panchami\", \"alva\", \"finish\", \"trivial\", \"undisciplined\", \"cheating\", \"exam\", \"sleep\", \"tense\", \"vasant\", \"ganga\", \"answer\", \"pressure\", \"discovery\", \"subsidy\", \"cylinder\", \"question\", \"parent\", \"examination\", \"paper\", \"teacher\", \"failure\", \"test\", \"thing\", \"stress\", \"student\", \"water\", \"education\", \"mind\", \"mark\", \"competition\", \"result\", \"science\", \"child\", \"positive\", \"confidence\", \"faith\", \"success\", \"family\", \"able\", \"news\", \"important\", \"right\", \"yoga\", \"village\", \"experience\", \"barack\", \"obama\", \"undisclosed\", \"transplant\", \"yeswecan\", \"kannur\", \"fence\", \"tie\", \"sufi\", \"tower\", \"african\", \"benjamin\", \"omprakash\", \"franklin\", \"tyakten\", \"bhunjhita\", \"transfer\", \"parliamentarian\", \"tain\", \"dilip\", \"ruwala\", \"enjoyable\", \"conclave\", \"excited\", \"bhawana\", \"bodh\", \"pauri\", \"taxpayer\", \"taxable\", \"headquarter\", \"chandrakant\", \"adarsh\", \"organ\", \"american\", \"obesity\", \"beti\", \"kulkarni\", \"bachao\", \"hon\", \"padhao\", \"donation\", \"yoga\", \"biography\", \"gold\", \"white\", \"question\", \"diabete\", \"scheme\", \"job\", \"clean\", \"issue\", \"thing\", \"program\", \"water\", \"girl\", \"village\", \"information\", \"work\", \"child\", \"daughter\", \"state\", \"country\", \"small\", \"book\", \"democracy\", \"school\", \"city\", \"house\", \"opportunity\", \"citizen\", \"poor\", \"cleanliness\", \"antibiotic\", \"sonal\", \"van\", \"fraud\", \"aligarh\", \"varma\", \"pawan\", \"bacteria\", \"anushasan\", \"mhatre\", \"ambaji\", \"shilpi\", \"laaw\", \"flutter\", \"incubation\", \"trap\", \"random\", \"monthly\", \"offspring\", \"notemay\", \"tablet\", \"furniture\", \"vertical\", \"prescription\", \"sm\", \"complication\", \"metropolitan\", \"email\", \"kalamji\", \"alwar\", \"sapling\", \"drug\", \"pregnant\", \"menace\", \"addiction\", \"kid\", \"nelson\", \"residence\", \"rio\", \"mandela\", \"concern\", \"station\", \"child\", \"tree\", \"day\", \"research\", \"khadi\", \"plant\", \"family\", \"aware\", \"thing\", \"hour\", \"suggestion\", \"technology\", \"opportunity\", \"mother\", \"cleanliness\", \"problem\", \"gandhi\", \"letter\", \"society\", \"young\", \"mahatma\", \"lakh\", \"year\", \"joy\", \"experience\", \"sheep\", \"dashami\", \"cub\", \"lioness\", \"flock\", \"pal\", \"khaadi\", \"nominate\", \"venkatadari\", \"contented\", \"athen\", \"pillow\", \"saying\", \"hopeless\", \"nominating\", \"verify\", \"lion\", \"gautam\", \"traveller\", \"continued\", \"passer\", \"curtain\", \"vijay\", \"curriculum\", \"confirm\", \"emphasize\", \"bath\", \"intend\", \"vow\", \"esteem\", \"dirt\", \"route\", \"vivekananda\", \"suggestion\", \"olympic\", \"thought\", \"brother\", \"strength\", \"product\", \"sharing\", \"trust\", \"successful\", \"swami\", \"destination\", \"child\", \"occasion\", \"heartfelt\", \"poor\", \"medium\", \"crore\", \"family\", \"incident\", \"talk\", \"inner\", \"mother\", \"responsibility\", \"proclaim\", \"initiation\", \"unhappy\", \"liability\", \"barren\", \"ultra\", \"invest\", \"timeline\", \"shake\", \"plug\", \"tapism\", \"modification\", \"lastly\", \"compensation\", \"clause\", \"unavailability\", \"dispensation\", \"exclusion\", \"fix\", \"headline\", \"enactment\", \"ppp\", \"slog\", \"beg\", \"sia\", \"timeframe\", \"corridor\", \"ownership\", \"consent\", \"betterment\", \"drawback\", \"law\", \"land\", \"farmer\", \"private\", \"village\", \"sister\", \"road\", \"water\", \"brother\", \"issue\", \"yoga\", \"state\", \"proper\", \"project\", \"child\", \"right\", \"year\", \"exam\", \"work\", \"thing\", \"poor\", \"family\", \"opportunity\", \"different\", \"villager\", \"important\", \"time\", \"development\", \"student\", \"proclaim\", \"agility\", \"ale\", \"ashvaasan\", \"attoo\", \"bachpan\", \"bahal\", \"bajaj\", \"breakthrough\", \"brilliance\", \"champal\", \"changaa\", \"chhavi\", \"chheen\", \"chomal\", \"chowkabara\", \"climbing\", \"column\", \"conquering\", \"consort\", \"crescendo\", \"crooked\", \"d\", \"daayaam\", \"daulat\", \"dikori\", \"duo\", \"exuberant\", \"famesnuff\", \"fasting\", \"initiation\", \"liability\", \"farmer\", \"water\", \"timeline\", \"village\", \"law\", \"land\", \"brother\", \"collecting\", \"exam\", \"poor\", \"day\", \"opportunity\", \"saying\", \"cleanliness\", \"sister\", \"compensation\", \"acquisition\", \"child\", \"faith\", \"year\", \"framer\", \"letter\", \"effort\", \"youth\", \"family\", \"festival\", \"suggestion\", \"sufi\", \"state\", \"news\", \"important\", \"lakh\", \"citizen\", \"school\", \"development\", \"bank\", \"work\", \"small\", \"student\", \"yoga\", \"young\"], \"Freq\": [376.0, 316.0, 253.0, 264.0, 200.0, 125.0, 326.0, 142.0, 196.0, 93.0, 277.0, 292.0, 148.0, 354.0, 241.0, 314.0, 171.0, 184.0, 193.0, 63.0, 197.0, 129.0, 122.0, 168.0, 98.0, 282.0, 149.0, 195.0, 261.0, 122.0, 46.02500344125696, 47.71691972152706, 20.07278663274614, 25.9751136966088, 16.53259985731423, 26.088080681337956, 17.11906180805674, 13.540376861102999, 13.148452176171062, 12.930995513648016, 17.144027612970646, 11.123946732362278, 24.279468489203552, 15.532238248877285, 10.455506531900582, 10.541948052302914, 89.56843963699312, 11.432301620958237, 13.893282862802845, 9.992689089889668, 9.040895444385542, 9.040895444385542, 31.86034734347819, 8.651494537854182, 8.6525102390834, 9.03619677110911, 9.391416470807549, 11.710191099831304, 10.32020349871802, 9.508574747128002, 38.03147790882827, 42.46389303293139, 129.7862167863589, 20.028579713872286, 63.41247672576528, 21.287595314375977, 12.917971466584175, 12.079667193237347, 26.09329517702997, 15.032954037802977, 107.33634977230902, 156.07500303173876, 152.8655897249427, 23.74774373748416, 29.875143816300593, 25.258649491397986, 85.87362805855008, 89.84612841405358, 75.88386977783983, 62.39571008879513, 83.21667368886173, 103.17383169321434, 60.81758235768336, 48.963971993425126, 133.20751118429507, 182.0410307509619, 74.57657695067392, 201.75826193051003, 55.585323617397734, 64.15977022996671, 47.93478060125213, 98.01435455790765, 198.1050987917596, 157.99834913484042, 51.22874376697376, 82.94876115336486, 96.14265822220716, 109.85692444675466, 78.06692777788963, 153.63756017350534, 123.45910527397417, 98.20955676570485, 101.74674801969066, 77.95195377503441, 91.59194157173887, 89.16118377201131, 91.19792827495333, 116.2530248625754, 106.09077556609631, 113.08733829087724, 100.2276566329711, 91.18366531623316, 84.85145185122894, 86.15688396626302, 116.45601596206129, 87.2200082961952, 90.9628373079122, 79.60778712601495, 75.67411578471841, 48.09604140319437, 38.292399983572665, 38.292399983572665, 28.52450683651949, 30.400585256641158, 24.63141154931255, 31.071000422733487, 22.440614355598914, 22.171749602392058, 21.172281779489676, 22.340084493988826, 20.790710566893743, 21.301519023796097, 20.059455629644834, 20.05109479801398, 19.734659920061862, 19.704205820440713, 22.138513360864884, 23.99313237315867, 21.25235344421023, 18.868101048486214, 18.868101048486214, 18.868101048486214, 18.868101048486214, 18.868101048486214, 244.4429278803933, 51.74102905677422, 92.0337656611697, 39.44273372808454, 19.942276134336947, 284.19051233181415, 128.60841180757308, 25.786284957089855, 24.902539831565278, 72.72118457970765, 59.99415848219107, 32.98190153552745, 37.92610804222114, 72.57662124494028, 100.38010494376428, 38.79135237425543, 140.79343704553608, 145.4325299209852, 78.17524155010369, 44.156369999224125, 57.920553388959, 52.3554592443175, 88.30581075440011, 85.38146808330524, 95.20176994105933, 156.56592352586222, 189.51045972511133, 202.2581655104265, 144.97806659045145, 154.67278490352845, 124.55140424399343, 168.82633490541343, 143.2076951568459, 147.7671665523489, 104.2490361130185, 90.98943782586417, 114.59839511769155, 108.35447635537123, 100.47454290500669, 97.52984467915083, 83.69883586149845, 86.48923955850269, 6.784864996943808, 4.356676188539238, 3.64541950663514, 3.1818059737836895, 3.155340307019206, 6.624288632478787, 3.2375732252855873, 3.4325864114873204, 3.8022533545363224, 2.889878740954522, 5.370806423395639, 2.8711462656813285, 2.539506980971151, 2.530519570255357, 2.4654192766494694, 3.5145545114598686, 2.1553906566501597, 2.1553906566501597, 2.0589461962648894, 2.146672788686024, 1.9488270413629718, 2.087941312882915, 1.8211877319311331, 1.8938191842924048, 1.4591852270792942, 1.44879539835672, 1.4639683676428459, 8.907431115253704, 1.4015214787444679, 1.4015214787444679, 2.1913499970846577, 1.5182072570385956, 2.751844505358773, 3.9180853735704715, 3.4603585151680494, 11.474749238846552, 24.580200297296525, 32.26806882139987, 80.82006467823433, 4.68749316893232, 8.146275207121116, 14.61867500710667, 10.72864197216261, 29.19038591957209, 12.594704345098295, 4.194064826030334, 24.012984874783886, 11.075006397288307, 33.67659977929365, 15.518231669299901, 10.089727183086291, 6.522626754393645, 23.87880430483868, 12.314719049714808, 11.002535203509549, 18.20038992443948, 12.808476612730443, 7.2351635157124425, 12.86108618581601, 19.7991046780159, 14.113771702116582, 12.77513884907706, 14.67248508979095, 11.610019915270785, 15.358263516615834, 11.845952376655465, 13.792813919235707, 16.291243480014636, 15.51543379564524, 13.562007743246024, 11.346615974916404, 10.884765908111778, 4.890708993709024, 4.1472242189308925, 3.6854372701231406, 2.865426097580293, 2.7636215107515016, 6.814739498053065, 2.386096505344116, 8.87560975612036, 2.7520632783777277, 2.107451400925516, 2.107451400925516, 2.0366848592748035, 2.077068854818815, 2.0210828870536934, 2.01096434512784, 1.9901030598231892, 2.268876199953561, 4.554624223751649, 2.0990542280134807, 2.2487190016314216, 1.8698635191439346, 1.8644928040479294, 1.72599602746344, 1.6003023843271804, 2.306044419919692, 1.5910434325859133, 3.3733844749685966, 1.6893559274503087, 1.4642322674935755, 1.4060610474819866, 86.67091627614116, 16.743611290268, 2.8074992397433927, 4.599519015910382, 10.382317378549114, 10.548048554781976, 10.178823327599895, 7.26674320529468, 9.065055334817966, 4.0273407707354885, 28.609043577423424, 21.91811526924688, 14.67931667878809, 11.890673488124987, 28.31429792753343, 7.49202915325189, 10.51077943829768, 29.136456160473678, 7.808020414446314, 29.540021222146294, 33.0431448310142, 16.729661744754367, 19.92012608503642, 12.308392952450069, 11.866249964795047, 14.260626331698191, 14.217514409467817, 25.553413754640264, 13.992236340631333, 12.710110798041741, 11.576960168277775, 13.253898820330885, 20.233634547744796, 13.901278020073079, 11.819944372297716, 13.628059878917878, 11.353424260579242, 11.641062943575822, 11.835399705327566, 10.700731031637364, 17.06015225615166, 7.584916079484507, 3.225285548984888, 3.2236027809461048, 2.7547673666125303, 2.6918365059155374, 2.2230138578780285, 2.1685780310179315, 2.087831548834878, 1.8155290070057535, 4.935721385471429, 1.6974550666466055, 1.6874365881458309, 1.6773438949105923, 1.6703644757426555, 1.6749218732209459, 1.636794393824714, 1.6633443746445882, 1.6630509200523504, 1.9068720255754514, 1.6538447184159368, 1.4665617933890862, 1.3777913536939734, 2.6853760792370047, 1.3660907029148988, 1.6087225002964887, 1.3593100975310302, 1.3530614211499126, 1.3364936625499855, 1.41735248813842, 3.7518448773933257, 2.6746726463979673, 8.29841517488154, 3.2469174419082862, 1.825937283079744, 8.819427122106088, 4.547889481415037, 4.672270652899925, 3.1307860211585448, 4.1381237189789655, 6.812769641263834, 35.615642898763475, 2.7608090587800973, 15.323045414358539, 5.889716051375004, 17.333611083969803, 4.141820497885124, 8.303457691610339, 8.362011074494932, 8.636237922684408, 7.22200058100338, 12.450764973327361, 6.789323232126252, 14.377175219271383, 6.202506645851609, 14.099443256834018, 8.418307376235052, 12.870370996771126, 12.297922110741032, 10.253908745436778, 10.628518171114385, 8.85907481203786, 9.56761922282303, 8.08800346616323, 6.922553659609547, 8.00296359350453, 7.425280866521928, 8.903824935181305, 7.807558240268632, 7.100536933712781, 7.057184634879927, 6.819167087548442, 4.268393718378548, 3.3255330705665496, 2.4084722227479167, 1.9660882902141816, 1.9428428470262364, 1.514176715005731, 1.661797549798619, 1.859060923819038, 1.5045962946766154, 1.4932315404572452, 1.4843453963903654, 1.4751526927564376, 1.6202055935136626, 1.4593252152493295, 2.8417765612049295, 2.8419574548289086, 1.0325074240616492, 1.3104887589697918, 1.0247732007921624, 1.0218371502733907, 1.0159825056747298, 1.0132513386228463, 1.0016428067657437, 0.9546604859057477, 0.9861338327049193, 1.8078371987326962, 0.9118126868656042, 1.493835982414119, 2.755701004846736, 0.8670889841943996, 3.114672968176264, 8.703433339905793, 2.323723968251448, 3.6804767819760906, 5.731443790598392, 7.426754742603405, 2.4661393133863543, 2.092102341216479, 3.1271466656446667, 2.809599954712986, 6.423251651125601, 3.643344996867924, 9.409358661520656, 4.884501884816886, 7.572814706340626, 3.090020188927271, 5.176019922445403, 2.876406256739886, 7.191891117989244, 4.429064823545163, 5.648322149535605, 4.021164401631295, 3.962801911801804, 4.104973275130102, 4.707904790660579, 4.143641226859961, 4.363074176177175, 3.7551544066725926, 3.8983217057771546, 3.862051513324961, 4.109087686315686, 4.055488048021393, 3.357973871583808, 3.4039478023661145, 3.59175723867599, 3.2795405604165433, 3.2948822180836306, 0.9202269046743249, 0.7956011872280039, 0.7941283631198861, 0.5392534353588064, 0.4097590101567718, 0.2831599077971867, 0.922907155777038, 0.282231781852401, 0.1546755710984209, 0.1544278594862744, 0.15454753265217339, 0.15465475339161752, 0.15390803752763163, 0.154025915405054, 0.1537911336897019, 0.15339467096797924, 0.7970065543265533, 0.2815192815129456, 0.4103153967940156, 0.15535967150208124, 0.16903781206553822, 0.16182126805749006, 0.8540751844213693, 0.15440480721828206, 0.15472090213245557, 0.15524971963229503, 0.15316000384550862, 0.15497456302503254, 0.4065564447002436, 0.15735822865164517, 0.28563295587135873, 0.4140846240494941, 0.4157928601338122, 1.1243969652234285, 0.5385714167258264, 0.9244427767842104, 1.089854469004433, 1.0327506206973736, 0.6446412616635598, 0.41510178866319475, 0.5299179734780065, 0.5352711417390175, 0.4021534424148908, 0.4089127035293674, 0.7776641926746972, 0.6479885197317783, 0.4067202361255149, 0.6040963139170514, 0.5488160967259669, 0.5232492789375313, 0.583011529304567, 0.4345761231168961, 0.431336123985749, 0.4142948255917674, 0.4175558716154808, 0.41532604693226366, 0.0038071411096571007, 0.003782913906555764, 0.004823167890289226, 0.003193154583952916, 0.00396918483610485, 0.0026695683875089613, 0.0026570039174306187, 0.0026477744471032154, 0.00383174969169076, 0.002583235015070702, 0.004863944635254191, 0.002468450724198543, 0.0024722975680319956, 0.011106854322954683, 0.004432632858634817, 0.0023048339035598186, 0.0022664170502942715, 0.003253132994400837, 0.0020099996922099484, 0.0019353646114344668, 0.0028000135046631243, 0.003273912011095023, 0.0017154764937517039, 0.0029794499133980958, 0.0016212856635731713, 0.0015678246259303126, 0.008292461104693578, 0.0035238003521718196, 0.008405443423932776, 0.007818584133775914, 0.004773575607613489, 0.02767250074462384, 0.026591716422274335, 0.04093804296162918, 0.004407356174833962, 0.0224987827618776, 0.015273633762488891, 0.009201996019498771, 0.016374822734163033, 0.013346051985733744, 0.008508707717166988, 0.014085827950910049, 0.012195442514671832, 0.00605408730054048, 0.006221745285466684, 0.01106988736070565, 0.0089820753481317, 0.010971417974757142, 0.008707694867045885, 0.010143292312019095, 0.008916817731740747, 0.008488698720313178, 0.009110593287174793, 0.008476200108842322, 0.007917497251482844, 0.006066240342131752, 0.007279292287130792, 0.006676857811922952, 0.006253703487765403, 0.00627720524453257, 0.0008437799364245078, 0.000802743184842087, 0.000802743184842087, 0.000802743184842087, 0.000802743184842087, 0.000802743184842087, 0.000802743184842087, 0.000802743184842087, 0.000802743184842087, 0.000802743184842087, 0.000802743184842087, 0.000802743184842087, 0.000802743184842087, 0.000802743184842087, 0.000802743184842087, 0.000802743184842087, 0.000802743184842087, 0.000802743184842087, 0.000802743184842087, 0.000802743184842087, 0.000802743184842087, 0.000802743184842087, 0.000802743184842087, 0.000802743184842087, 0.000802743184842087, 0.000802743184842087, 0.000802743184842087, 0.000802743184842087, 0.000802743184842087, 0.000802743184842087, 0.0008275707857303451, 0.0008502133980390867, 0.007341165472483881, 0.006156930861513322, 0.0008742208609880563, 0.005409588611227241, 0.003223379627365993, 0.0035136656722139343, 0.003894626091354323, 0.0009293695508374573, 0.0035100886003386453, 0.003844809519706442, 0.0042281628371313665, 0.003982183429002995, 0.0008254458639271711, 0.003556140987335726, 0.0032138559446327907, 0.0013022991969149913, 0.00148132083463706, 0.003636065792265091, 0.002384300154550514, 0.0037790993267103647, 0.0009072873234143561, 0.0028546961899013974, 0.003577637027378984, 0.0031780616282177676, 0.003550804817010405, 0.0036189441390450023, 0.002558666378745811, 0.0011118592702225821, 0.002982932321666726, 0.0024720312568021767, 0.0028799561762352325, 0.0025835364077538663, 0.002812252576689342, 0.002570049032862726, 0.002427976090118486, 0.002236476056331698, 0.0029045797407721047, 0.002561192282035105, 0.0026567606684381297, 0.0026595857138080187, 0.0026059217697913077], \"Total\": [376.0, 316.0, 253.0, 264.0, 200.0, 125.0, 326.0, 142.0, 196.0, 93.0, 277.0, 292.0, 148.0, 354.0, 241.0, 314.0, 171.0, 184.0, 193.0, 63.0, 197.0, 129.0, 122.0, 168.0, 98.0, 282.0, 149.0, 195.0, 261.0, 122.0, 47.341689455908856, 49.16260556113843, 20.707002562580996, 26.95547408095956, 17.157727261538867, 27.147750484907718, 17.8495624776804, 14.14369584097213, 13.735819850658823, 13.542420537461389, 17.980127177502883, 11.704300158884227, 25.565116983108606, 16.36368802811051, 11.01669498647513, 11.124648655303712, 94.6019183805833, 12.089823375018954, 14.70671010978329, 10.594525179181126, 9.614023165451433, 9.614023165451433, 33.92704442466303, 9.213754220998922, 9.219397242812391, 9.62950400927128, 10.012815789941827, 12.485452072137319, 11.033241337774188, 10.169399256886653, 41.032248653632884, 45.97996160725036, 142.36339975448007, 21.575581723039946, 70.18455726629641, 23.179750358827068, 13.865596959731725, 12.952385256413523, 28.671526694470174, 16.265628838184007, 129.5184475217255, 197.33545431566571, 196.24133164797615, 26.64163388740201, 34.27871843924331, 28.590378434433546, 108.74000170374191, 118.25152956430165, 98.07877426502252, 78.93820939639909, 109.2528296530063, 139.86578151368022, 77.12018905394237, 60.36618448159318, 194.1676785153554, 282.1726573367119, 101.18049331155625, 326.8596297535499, 71.78588001889466, 85.48335091323865, 60.2604213075158, 147.80316706500489, 358.8579614390607, 292.8782954953882, 66.2521977608852, 126.9954623920941, 155.7466674632724, 190.55543841536868, 118.67145920354088, 354.99518286021475, 254.57647804820985, 189.4187886805868, 201.93151682035483, 128.5538155934525, 184.31461598539343, 175.00170664469144, 186.32245754699767, 326.5396456517996, 264.5637050356193, 316.98591735441914, 252.48118036516766, 241.88896830828, 179.9289978152331, 376.56473192863706, 117.1969570632701, 87.92406127429896, 91.80780956512054, 80.39709881215151, 76.4573482219357, 48.758867630385254, 38.94494558807562, 38.94494558807562, 29.166167667217355, 31.215857201265997, 25.298011023398097, 31.93952076035295, 23.097431983864375, 22.825102283655788, 21.803443222174902, 23.01443514840624, 21.42373715091738, 21.950471897034443, 20.68004029085088, 20.677371722076334, 20.37347506489525, 20.345034225545675, 22.8623512222655, 24.782297185956903, 21.95461454264903, 19.498887500269696, 19.498887500269696, 19.498887500269696, 19.498887500269696, 19.498887500269696, 261.7294182692999, 54.18705982023219, 97.90465083779429, 41.26400646657297, 20.627652965596965, 314.86851791362466, 139.76752752897798, 26.83588861583251, 25.913206258219603, 79.69026148256486, 65.1150007099891, 34.814830464269754, 40.4722304970416, 81.30609118755179, 121.11759332143669, 42.47894475816098, 180.59966304701717, 192.23793054896356, 96.31558121255011, 49.98572381425423, 68.65361725501201, 61.06515830249871, 113.5712827177752, 109.16588734204456, 133.75444460643908, 253.49957230974437, 326.5396456517996, 376.56473192863706, 252.48118036516766, 277.43917438312985, 213.0281875771246, 354.99518286021475, 316.98591735441914, 358.8579614390607, 195.1968766077821, 153.3114935978044, 254.57647804820985, 241.88896830828, 264.5637050356193, 292.8782954953882, 145.27474145230747, 193.9364763283118, 7.521257173637429, 5.148802796612005, 4.313893080763025, 3.8103214798886333, 3.799436367092429, 8.00136395980209, 3.934743066648989, 4.175869615712708, 4.649022392893844, 3.5829533981440806, 6.67905742682537, 3.5707537816718404, 3.165518730458869, 3.168677379910757, 3.148700373459769, 4.48961765599155, 2.7729596804158123, 2.7729596804158123, 2.6715408626793513, 2.7929094270437718, 2.552921795002076, 2.773750183548346, 2.5091380601240076, 2.664804443047156, 2.0536213636752834, 2.0443799892010177, 2.0775217072427528, 12.682077227391968, 2.0002167584593886, 2.0002167584593886, 3.1312105404088992, 2.1784723767630187, 4.200835800845826, 6.2914126335903005, 5.604087613889046, 23.809845552444827, 63.086786488635624, 93.16051808718818, 376.56473192863706, 8.516644771168712, 18.04892968153616, 41.61258554079632, 29.797242357175502, 142.0638845224885, 43.67507888384574, 7.9654701080226085, 148.0724356317366, 42.90015722129098, 316.98591735441914, 82.73132313293834, 38.648538121532994, 17.801504062943806, 241.88896830828, 68.56131754678654, 58.966668528481804, 184.31461598539343, 86.38721902146658, 23.87288211799862, 91.5739432656816, 277.43917438312985, 122.38242895652782, 103.78622965550727, 149.0731120613453, 84.49666573704403, 196.24133164797615, 98.07877426502252, 168.24923313026963, 354.99518286021475, 292.8782954953882, 253.49957230974437, 135.92776006779624, 326.8596297535499, 5.551027908328929, 4.9013337597808615, 4.375620657942978, 3.494299203922343, 3.4092848742113695, 8.468830819221543, 3.008759659472195, 11.279185010905056, 3.5160223988221277, 2.6971664410867775, 2.6971664410867775, 2.6491525610761735, 2.7123953491855883, 2.6404589601091306, 2.65323186871334, 2.6307041723108466, 3.0250325502591244, 6.073298912919258, 2.801287542379993, 3.0104971096793927, 2.5320393642834267, 2.5290736113037955, 2.3502329018563453, 2.2097491998861103, 3.2003294700825955, 2.2118776239345324, 4.700442082940655, 2.3722795841650535, 2.066058681740476, 1.9904487271329967, 125.76490350461692, 24.615057400762254, 4.008930296049423, 6.859995843761638, 18.24508211760959, 18.755970902445593, 18.76224794611834, 13.913631542088948, 19.280487478661446, 6.643092588473277, 98.02680061635219, 74.94348190413325, 43.30511944296831, 32.960777323348374, 122.87655886704621, 18.04892968153616, 32.15425953615612, 171.2686515834724, 21.309293899809482, 193.9364763283118, 253.49957230974437, 82.08592714218295, 113.65041352567471, 52.56906303485261, 49.53072377776315, 72.38249247067789, 72.73369729522696, 264.5637050356193, 74.3992463652967, 62.789571033614074, 55.388939029664314, 91.0376422170659, 326.8596297535499, 112.62188679857994, 84.49666573704403, 168.24923313026963, 122.38242895652782, 200.61780770247154, 316.98591735441914, 195.1968766077821, 18.796357547609254, 8.864288278496831, 3.964775837817381, 4.019648854658152, 3.456631680438643, 3.461347123340026, 2.8893664813288353, 2.8954772330420213, 2.8757728821211743, 2.504829422343743, 6.8154817434047175, 2.3486052781172884, 2.3463430266837486, 2.343999768605193, 2.347465782381101, 2.354128488034257, 2.30348268837892, 2.350025427308491, 2.3539261326759195, 2.7098951826229256, 2.3525026593002987, 2.114563945721549, 1.9882097714606854, 3.9018251390348575, 1.986711603861333, 2.3463674471417657, 1.9903471388663994, 2.0005443513438212, 1.9793219815116714, 2.117394101370154, 5.712865589095859, 4.143396747512537, 15.805577554658706, 5.525092623066865, 2.8143321731047557, 19.034455206317944, 9.02299823900084, 9.642344689994827, 5.698531738461917, 8.461905470282659, 17.34987476170884, 200.61780770247154, 4.907252167406838, 61.88487956146557, 16.557951172321776, 98.02680061635219, 9.863727581971352, 31.817993821044926, 38.648538121532994, 61.43228879113454, 42.90015722129098, 171.2686515834724, 41.467648336854744, 253.49957230974437, 34.743083651883886, 316.98591735441914, 82.30406219478414, 277.43917438312985, 264.5637050356193, 155.7466674632724, 184.31461598539343, 107.48502829549373, 149.0731120613453, 96.66513225197453, 56.320625741564214, 125.9177086588664, 101.30968145406379, 314.86851791362466, 241.88896830828, 175.00170664469144, 196.24133164797615, 197.33545431566571, 5.165071504140196, 4.193492151793244, 3.196517692567529, 2.7016065232208897, 2.717244954834068, 2.1880325680346915, 2.404166038492531, 2.6957327745302306, 2.188355898967521, 2.1940749058533986, 2.1851061983137514, 2.1861174078487, 2.4036119362618504, 2.1839182968550284, 4.466318853244714, 4.554621983762854, 1.6850246038880514, 2.139874203048722, 1.6828967066674392, 1.685024707725722, 1.6854971817281872, 1.6948256239248787, 1.67856417337092, 1.6188922829982113, 1.6994222201941778, 3.117567021276545, 1.5957656499977129, 2.6399282452849038, 4.9008824078309035, 1.545069491484461, 5.5830731833038705, 16.434697651831584, 4.452892159168536, 8.49778745885933, 14.984444338144119, 21.773544814130087, 5.8664930318771225, 4.842546636692516, 10.832279032544703, 10.490817516123492, 48.7851639716276, 24.228160121559434, 264.5637050356193, 59.285654639571426, 292.8782954953882, 19.840276305215244, 98.07877426502252, 16.887392571449606, 326.8596297535499, 69.22050279052314, 171.2686515834724, 65.05085508162576, 86.38721902146658, 110.12908739821651, 241.88896830828, 140.16135191944895, 197.33545431566571, 91.5739432656816, 129.5184475217255, 122.59959161747767, 254.57647804820985, 282.1726573367119, 60.2604213075158, 114.68502991840478, 354.99518286021475, 90.80951163288704, 195.1968766077821, 1.765304460297981, 1.6119094691692697, 1.6097527171144153, 1.2997306720723953, 1.1529779222814396, 0.9963397518370649, 3.2528756187267214, 1.0007837981332046, 0.8447803367511351, 0.8441921085411389, 0.8449352261454801, 0.8456138736941727, 0.8452039867801966, 0.8466646506828918, 0.8458443422369901, 0.8471472839454139, 4.436346952699682, 2.0934204330784603, 3.068543715574306, 1.2944741316080042, 1.4201681776040647, 1.3812806735477694, 7.643113038083274, 1.401821513675406, 1.5280617139948633, 1.561169448520148, 1.6158833809880926, 1.8322278294238068, 4.893200422753196, 2.072851480718083, 4.674699682777272, 7.866607398056937, 8.0769501592615, 86.38721902146658, 19.52600127781045, 62.82033913289067, 142.0638845224885, 129.5472160001554, 47.767808070133476, 15.389343599821657, 33.3610353714202, 45.70597170910561, 19.91188081194616, 24.642561996106448, 264.5637050356193, 149.7036281252433, 31.989417247256085, 196.24133164797615, 135.51143259369567, 128.5538155934525, 326.8596297535499, 71.78588001889466, 99.08900258267487, 40.23273004978494, 140.16135191944895, 52.83899907359912, 0.7837180090011776, 0.7898936966593314, 1.2565620616455053, 0.8943937307429195, 1.4108665949117816, 0.987035700251691, 0.9884151543516905, 0.9861274368358822, 1.4369875567897532, 1.0049552266832635, 1.8949579651281736, 1.0183542257239473, 1.020376329877612, 4.649022392893844, 1.9707243055122619, 1.0456392437518591, 1.0594152924596312, 1.53206978246871, 1.1041277223993493, 1.1166674749533632, 1.619713481104593, 2.1784723767630187, 1.1511772560867877, 1.9995001239082708, 1.168494440358839, 1.1798721549910074, 6.409422310306107, 2.773750183548346, 6.67905742682537, 6.2914126335903005, 5.148802796612005, 63.086786488635624, 93.16051808718818, 376.56473192863706, 5.698952290179802, 316.98591735441914, 148.0724356317366, 41.61258554079632, 253.49957230974437, 142.0638845224885, 42.90015722129098, 200.61780770247154, 184.31461598539343, 17.298936924732327, 26.05987843287715, 264.5637050356193, 122.38242895652782, 354.99518286021475, 125.76490350461692, 277.43917438312985, 171.2686515834724, 196.24133164797615, 326.8596297535499, 241.88896830828, 162.11743237174306, 25.95680046758868, 168.24923313026963, 213.0281875771246, 98.09587388170752, 193.9364763283118, 0.7837180090011776, 0.7650658180276921, 0.7650658180276921, 0.7650658180276921, 0.7650658180276921, 0.7650658180276921, 0.7650658180276921, 0.7650658180276921, 0.7650658180276921, 0.7650658180276921, 0.7650658180276921, 0.7650658180276921, 0.7650658180276921, 0.7650658180276921, 0.7650658180276921, 0.7650658180276921, 0.7650658180276921, 0.7650658180276921, 0.7650658180276921, 0.7650658180276921, 0.7650658180276921, 0.7650658180276921, 0.7650658180276921, 0.7650658180276921, 0.7650658180276921, 0.7650658180276921, 0.7650658180276921, 0.7650658180276921, 0.7650658180276921, 0.7650658180276921, 0.7898936966593314, 0.8943937307429195, 376.56473192863706, 253.49957230974437, 0.9861274368358822, 316.98591735441914, 63.086786488635624, 93.16051808718818, 142.0638845224885, 1.241423501581846, 125.76490350461692, 196.24133164797615, 292.8782954953882, 241.88896830828, 0.8452039867801966, 197.33545431566571, 148.0724356317366, 4.649022392893844, 8.00136395980209, 264.5637050356193, 55.388939029664314, 354.99518286021475, 1.2304091625946156, 122.59959161747767, 326.5396456517996, 201.93151682035483, 326.8596297535499, 358.8579614390607, 86.38721902146658, 2.8757728821211743, 184.31461598539343, 84.49666573704403, 168.24923313026963, 114.68502991840478, 175.00170664469144, 125.9177086588664, 98.09587388170752, 68.56131754678654, 277.43917438312985, 149.0731120613453, 193.9364763283118, 200.61780770247154, 282.1726573367119], \"Category\": [\"Default\", \"Default\", \"Default\", \"Default\", \"Default\", \"Default\", \"Default\", \"Default\", \"Default\", \"Default\", \"Default\", \"Default\", \"Default\", \"Default\", \"Default\", \"Default\", \"Default\", \"Default\", \"Default\", \"Default\", \"Default\", \"Default\", \"Default\", \"Default\", \"Default\", \"Default\", \"Default\", \"Default\", \"Default\", \"Default\", \"Topic1\", \"Topic1\", \"Topic1\", \"Topic1\", \"Topic1\", \"Topic1\", \"Topic1\", \"Topic1\", \"Topic1\", \"Topic1\", \"Topic1\", \"Topic1\", \"Topic1\", \"Topic1\", \"Topic1\", \"Topic1\", \"Topic1\", \"Topic1\", \"Topic1\", \"Topic1\", \"Topic1\", \"Topic1\", \"Topic1\", \"Topic1\", \"Topic1\", \"Topic1\", \"Topic1\", \"Topic1\", \"Topic1\", \"Topic1\", \"Topic1\", \"Topic1\", \"Topic1\", \"Topic1\", \"Topic1\", \"Topic1\", \"Topic1\", \"Topic1\", \"Topic1\", \"Topic1\", \"Topic1\", \"Topic1\", \"Topic1\", \"Topic1\", \"Topic1\", \"Topic1\", \"Topic1\", \"Topic1\", \"Topic1\", \"Topic1\", \"Topic1\", \"Topic1\", \"Topic1\", \"Topic1\", \"Topic1\", \"Topic1\", \"Topic1\", \"Topic1\", \"Topic1\", \"Topic1\", \"Topic1\", \"Topic1\", \"Topic1\", \"Topic1\", \"Topic1\", \"Topic1\", \"Topic1\", \"Topic1\", \"Topic1\", \"Topic1\", \"Topic1\", \"Topic1\", \"Topic1\", \"Topic1\", \"Topic1\", \"Topic1\", \"Topic1\", \"Topic1\", \"Topic1\", \"Topic1\", \"Topic1\", \"Topic1\", \"Topic1\", \"Topic1\", \"Topic2\", \"Topic2\", \"Topic2\", \"Topic2\", \"Topic2\", \"Topic2\", \"Topic2\", \"Topic2\", \"Topic2\", \"Topic2\", \"Topic2\", \"Topic2\", \"Topic2\", \"Topic2\", \"Topic2\", \"Topic2\", \"Topic2\", \"Topic2\", \"Topic2\", \"Topic2\", \"Topic2\", \"Topic2\", \"Topic2\", \"Topic2\", \"Topic2\", \"Topic2\", \"Topic2\", \"Topic2\", \"Topic2\", \"Topic2\", \"Topic2\", \"Topic2\", \"Topic2\", \"Topic2\", \"Topic2\", \"Topic2\", \"Topic2\", \"Topic2\", \"Topic2\", \"Topic2\", \"Topic2\", \"Topic2\", \"Topic2\", \"Topic2\", \"Topic2\", \"Topic2\", \"Topic2\", \"Topic2\", \"Topic2\", \"Topic2\", \"Topic2\", \"Topic2\", \"Topic2\", \"Topic2\", \"Topic2\", \"Topic2\", \"Topic2\", \"Topic2\", \"Topic2\", \"Topic2\", \"Topic2\", \"Topic2\", \"Topic2\", \"Topic2\", \"Topic2\", \"Topic2\", \"Topic2\", \"Topic2\", \"Topic2\", \"Topic2\", \"Topic2\", \"Topic2\", \"Topic3\", \"Topic3\", \"Topic3\", \"Topic3\", \"Topic3\", \"Topic3\", \"Topic3\", \"Topic3\", \"Topic3\", \"Topic3\", \"Topic3\", \"Topic3\", \"Topic3\", \"Topic3\", \"Topic3\", \"Topic3\", \"Topic3\", \"Topic3\", \"Topic3\", \"Topic3\", \"Topic3\", \"Topic3\", \"Topic3\", \"Topic3\", \"Topic3\", \"Topic3\", \"Topic3\", \"Topic3\", \"Topic3\", \"Topic3\", \"Topic3\", \"Topic3\", \"Topic3\", \"Topic3\", \"Topic3\", \"Topic3\", \"Topic3\", \"Topic3\", \"Topic3\", \"Topic3\", \"Topic3\", \"Topic3\", \"Topic3\", \"Topic3\", \"Topic3\", \"Topic3\", \"Topic3\", \"Topic3\", \"Topic3\", \"Topic3\", \"Topic3\", \"Topic3\", \"Topic3\", \"Topic3\", \"Topic3\", \"Topic3\", \"Topic3\", \"Topic3\", \"Topic3\", \"Topic3\", \"Topic3\", \"Topic3\", \"Topic3\", \"Topic3\", \"Topic3\", \"Topic3\", \"Topic3\", \"Topic3\", \"Topic3\", \"Topic3\", \"Topic3\", \"Topic3\", \"Topic4\", \"Topic4\", \"Topic4\", \"Topic4\", \"Topic4\", \"Topic4\", \"Topic4\", \"Topic4\", \"Topic4\", \"Topic4\", \"Topic4\", \"Topic4\", \"Topic4\", \"Topic4\", \"Topic4\", \"Topic4\", \"Topic4\", \"Topic4\", \"Topic4\", \"Topic4\", \"Topic4\", \"Topic4\", \"Topic4\", \"Topic4\", \"Topic4\", \"Topic4\", \"Topic4\", \"Topic4\", \"Topic4\", \"Topic4\", \"Topic4\", \"Topic4\", \"Topic4\", \"Topic4\", \"Topic4\", \"Topic4\", \"Topic4\", \"Topic4\", \"Topic4\", \"Topic4\", \"Topic4\", \"Topic4\", \"Topic4\", \"Topic4\", \"Topic4\", \"Topic4\", \"Topic4\", \"Topic4\", \"Topic4\", \"Topic4\", \"Topic4\", \"Topic4\", \"Topic4\", \"Topic4\", \"Topic4\", \"Topic4\", \"Topic4\", \"Topic4\", \"Topic4\", \"Topic4\", \"Topic4\", \"Topic4\", \"Topic4\", \"Topic4\", \"Topic4\", \"Topic4\", \"Topic4\", \"Topic4\", \"Topic4\", \"Topic4\", \"Topic5\", \"Topic5\", \"Topic5\", \"Topic5\", \"Topic5\", \"Topic5\", \"Topic5\", \"Topic5\", \"Topic5\", \"Topic5\", \"Topic5\", \"Topic5\", \"Topic5\", \"Topic5\", \"Topic5\", \"Topic5\", \"Topic5\", \"Topic5\", \"Topic5\", \"Topic5\", \"Topic5\", \"Topic5\", \"Topic5\", \"Topic5\", \"Topic5\", \"Topic5\", \"Topic5\", \"Topic5\", \"Topic5\", \"Topic5\", \"Topic5\", \"Topic5\", \"Topic5\", \"Topic5\", \"Topic5\", \"Topic5\", \"Topic5\", \"Topic5\", \"Topic5\", \"Topic5\", \"Topic5\", \"Topic5\", \"Topic5\", \"Topic5\", \"Topic5\", \"Topic5\", \"Topic5\", \"Topic5\", \"Topic5\", \"Topic5\", \"Topic5\", \"Topic5\", \"Topic5\", \"Topic5\", \"Topic5\", \"Topic5\", \"Topic5\", \"Topic5\", \"Topic5\", \"Topic5\", \"Topic5\", \"Topic5\", \"Topic5\", \"Topic5\", \"Topic5\", \"Topic5\", \"Topic5\", \"Topic5\", \"Topic5\", \"Topic5\", \"Topic5\", \"Topic5\", \"Topic6\", \"Topic6\", \"Topic6\", \"Topic6\", \"Topic6\", \"Topic6\", \"Topic6\", \"Topic6\", \"Topic6\", \"Topic6\", \"Topic6\", \"Topic6\", \"Topic6\", \"Topic6\", \"Topic6\", \"Topic6\", \"Topic6\", \"Topic6\", \"Topic6\", \"Topic6\", \"Topic6\", \"Topic6\", \"Topic6\", \"Topic6\", \"Topic6\", \"Topic6\", \"Topic6\", \"Topic6\", \"Topic6\", \"Topic6\", \"Topic6\", \"Topic6\", \"Topic6\", \"Topic6\", \"Topic6\", \"Topic6\", \"Topic6\", \"Topic6\", \"Topic6\", \"Topic6\", \"Topic6\", \"Topic6\", \"Topic6\", \"Topic6\", \"Topic6\", \"Topic6\", \"Topic6\", \"Topic6\", \"Topic6\", \"Topic6\", \"Topic6\", \"Topic6\", \"Topic6\", \"Topic6\", \"Topic6\", \"Topic6\", \"Topic6\", \"Topic6\", \"Topic6\", \"Topic6\", \"Topic6\", \"Topic6\", \"Topic6\", \"Topic6\", \"Topic6\", \"Topic6\", \"Topic6\", \"Topic7\", \"Topic7\", \"Topic7\", \"Topic7\", \"Topic7\", \"Topic7\", \"Topic7\", \"Topic7\", \"Topic7\", \"Topic7\", \"Topic7\", \"Topic7\", \"Topic7\", \"Topic7\", \"Topic7\", \"Topic7\", \"Topic7\", \"Topic7\", \"Topic7\", \"Topic7\", \"Topic7\", \"Topic7\", \"Topic7\", \"Topic7\", \"Topic7\", \"Topic7\", \"Topic7\", \"Topic7\", \"Topic7\", \"Topic7\", \"Topic7\", \"Topic7\", \"Topic7\", \"Topic7\", \"Topic7\", \"Topic7\", \"Topic7\", \"Topic7\", \"Topic7\", \"Topic7\", \"Topic7\", \"Topic7\", \"Topic7\", \"Topic7\", \"Topic7\", \"Topic7\", \"Topic7\", \"Topic7\", \"Topic7\", \"Topic7\", \"Topic7\", \"Topic7\", \"Topic7\", \"Topic7\", \"Topic7\", \"Topic7\", \"Topic8\", \"Topic8\", \"Topic8\", \"Topic8\", \"Topic8\", \"Topic8\", \"Topic8\", \"Topic8\", \"Topic8\", \"Topic8\", \"Topic8\", \"Topic8\", \"Topic8\", \"Topic8\", \"Topic8\", \"Topic8\", \"Topic8\", \"Topic8\", \"Topic8\", \"Topic8\", \"Topic8\", \"Topic8\", \"Topic8\", \"Topic8\", \"Topic8\", \"Topic8\", \"Topic8\", \"Topic8\", \"Topic8\", \"Topic8\", \"Topic8\", \"Topic8\", \"Topic8\", \"Topic8\", \"Topic8\", \"Topic8\", \"Topic8\", \"Topic8\", \"Topic8\", \"Topic8\", \"Topic8\", \"Topic8\", \"Topic8\", \"Topic8\", \"Topic8\", \"Topic8\", \"Topic8\", \"Topic8\", \"Topic8\", \"Topic8\", \"Topic8\", \"Topic8\", \"Topic8\", \"Topic8\", \"Topic8\", \"Topic8\", \"Topic8\", \"Topic8\", \"Topic8\", \"Topic8\", \"Topic9\", \"Topic9\", \"Topic9\", \"Topic9\", \"Topic9\", \"Topic9\", \"Topic9\", \"Topic9\", \"Topic9\", \"Topic9\", \"Topic9\", \"Topic9\", \"Topic9\", \"Topic9\", \"Topic9\", \"Topic9\", \"Topic9\", \"Topic9\", \"Topic9\", \"Topic9\", \"Topic9\", \"Topic9\", \"Topic9\", \"Topic9\", \"Topic9\", \"Topic9\", \"Topic9\", \"Topic9\", \"Topic9\", \"Topic9\", \"Topic9\", \"Topic9\", \"Topic9\", \"Topic9\", \"Topic9\", \"Topic9\", \"Topic9\", \"Topic9\", \"Topic9\", \"Topic9\", \"Topic9\", \"Topic9\", \"Topic9\", \"Topic9\", \"Topic9\", \"Topic9\", \"Topic9\", \"Topic9\", \"Topic9\", \"Topic9\", \"Topic9\", \"Topic9\", \"Topic9\", \"Topic9\", \"Topic9\", \"Topic9\", \"Topic9\", \"Topic9\", \"Topic9\", \"Topic9\", \"Topic9\", \"Topic9\", \"Topic9\", \"Topic9\", \"Topic9\", \"Topic9\", \"Topic9\", \"Topic9\", \"Topic9\", \"Topic9\", \"Topic9\", \"Topic9\", \"Topic9\"], \"logprob\": [30.0, 29.0, 28.0, 27.0, 26.0, 25.0, 24.0, 23.0, 22.0, 21.0, 20.0, 19.0, 18.0, 17.0, 16.0, 15.0, 14.0, 13.0, 12.0, 11.0, 10.0, 9.0, 8.0, 7.0, 6.0, 5.0, 4.0, 3.0, 2.0, 1.0, -6.5513, -6.5152, -7.3811, -7.1233, -7.5752, -7.119, -7.5403, -7.7748, -7.8042, -7.8209, -7.5388, -7.9714, -7.1909, -7.6376, -8.0334, -8.0251, -5.8855, -7.944, -7.7491, -8.0786, -8.1787, -8.1787, -6.9191, -8.2228, -8.2226, -8.1792, -8.1407, -7.92, -8.0464, -8.1283, -6.7421, -6.6318, -5.5146, -7.3833, -6.2308, -7.3224, -7.8219, -7.889, -7.1188, -7.6702, -5.7045, -5.3301, -5.3509, -7.213, -6.9835, -7.1513, -5.9276, -5.8824, -6.0513, -6.247, -5.959, -5.7441, -6.2726, -6.4894, -5.4886, -5.1763, -6.0687, -5.0734, -6.3626, -6.2191, -6.5106, -5.7954, -5.0917, -5.3179, -6.4442, -5.9623, -5.8147, -5.6813, -6.0229, -5.3459, -5.5646, -5.7934, -5.758, -6.0244, -5.8631, -5.89, -5.8675, -5.6247, -5.7162, -5.6523, -5.773, -5.8676, -5.9396, -5.9243, -5.5822, -5.8713, -5.8292, -5.9626, -6.0133, -6.4665, -6.6944, -6.6944, -6.9889, -6.9252, -7.1357, -6.9034, -7.2288, -7.2409, -7.287, -7.2333, -7.3052, -7.2809, -7.341, -7.3414, -7.3573, -7.3589, -7.2424, -7.1619, -7.2832, -7.4022, -7.4022, -7.4022, -7.4022, -7.4022, -4.8407, -6.3934, -5.8175, -6.6648, -7.3468, -4.69, -5.4829, -7.0898, -7.1247, -6.0531, -6.2454, -6.8437, -6.7041, -6.055, -5.7307, -6.6815, -5.3924, -5.36, -5.9807, -6.552, -6.2806, -6.3816, -5.8589, -5.8926, -5.7837, -5.2862, -5.0952, -5.0301, -5.3631, -5.2984, -5.515, -5.2108, -5.3754, -5.3441, -5.6929, -5.8289, -5.5983, -5.6543, -5.7298, -5.7595, -5.9125, -5.8797, -6.4451, -6.8881, -7.0663, -7.2024, -7.2107, -6.4691, -7.185, -7.1265, -7.0242, -7.2986, -6.6788, -7.3051, -7.4278, -7.4314, -7.4574, -7.1029, -7.5918, -7.5918, -7.6376, -7.5959, -7.6926, -7.6236, -7.7603, -7.7212, -7.9819, -7.9891, -7.9787, -6.1729, -8.0222, -8.0222, -7.5753, -7.9423, -7.3475, -6.9942, -7.1184, -5.9197, -5.1579, -4.8857, -3.9676, -6.8149, -6.2622, -5.6775, -5.9869, -4.986, -5.8265, -6.9261, -5.1812, -5.9551, -4.843, -5.6178, -6.0483, -6.4845, -5.1868, -5.849, -5.9617, -5.4584, -5.8097, -6.3809, -5.8056, -5.3742, -5.7127, -5.8123, -5.6738, -5.9079, -5.6282, -5.8878, -5.7357, -5.5692, -5.618, -5.7525, -5.9309, -5.9724, -6.6449, -6.8098, -6.9278, -7.1795, -7.2156, -6.3131, -7.3625, -6.0489, -7.2198, -7.4867, -7.4867, -7.5209, -7.5012, -7.5286, -7.5336, -7.544, -7.4129, -6.716, -7.4907, -7.4218, -7.6063, -7.6092, -7.6864, -7.762, -7.3967, -7.7678, -7.0163, -7.7078, -7.8509, -7.8914, -3.7701, -5.4142, -7.1999, -6.7062, -5.8921, -5.8763, -5.9119, -6.2489, -6.0278, -6.8391, -4.8785, -5.1449, -5.5458, -5.7564, -4.8888, -6.2184, -5.8798, -4.8602, -6.177, -4.8464, -4.7344, -5.415, -5.2405, -5.7219, -5.7585, -5.5747, -5.5777, -4.9914, -5.5937, -5.6898, -5.7832, -5.6479, -5.2248, -5.6002, -5.7624, -5.6201, -5.8027, -5.7777, -5.7611, -5.8619, -5.1441, -5.9547, -6.8098, -6.8103, -6.9675, -6.9906, -7.182, -7.2067, -7.2447, -7.3844, -6.3843, -7.4517, -7.4576, -7.4636, -7.4678, -7.465, -7.4881, -7.472, -7.4722, -7.3353, -7.4777, -7.5979, -7.6603, -6.993, -7.6689, -7.5054, -7.6738, -7.6784, -7.6908, -7.632, -6.6586, -6.997, -5.8647, -6.8031, -7.3787, -5.8039, -6.4662, -6.4392, -6.8395, -6.5606, -6.062, -4.408, -6.9653, -5.2515, -6.2076, -5.1282, -6.5597, -5.8641, -5.8571, -5.8248, -6.0037, -5.459, -6.0655, -5.3152, -6.1559, -5.3347, -5.8504, -5.4259, -5.4714, -5.6532, -5.6173, -5.7994, -5.7224, -5.8904, -6.046, -5.901, -5.9759, -5.7943, -5.9257, -6.0206, -6.0268, -6.0611, -6.0183, -6.2679, -6.5905, -6.7935, -6.8054, -7.0547, -6.9616, -6.8495, -7.061, -7.0686, -7.0746, -7.0808, -6.987, -7.0916, -6.4251, -6.425, -7.4375, -7.1991, -7.4451, -7.4479, -7.4537, -7.4564, -7.4679, -7.5159, -7.4835, -6.8774, -7.5619, -7.0682, -6.4559, -7.6122, -6.3334, -5.3058, -6.6264, -6.1665, -5.7236, -5.4644, -6.5669, -6.7314, -6.3294, -6.4365, -5.6096, -6.1766, -5.2278, -5.8835, -5.445, -6.3414, -5.8255, -6.413, -5.4966, -5.9814, -5.7382, -6.078, -6.0926, -6.0573, -5.9203, -6.048, -5.9964, -6.1464, -6.109, -6.1183, -6.0563, -6.0695, -6.2582, -6.2446, -6.1909, -6.2818, -6.2772, -5.8765, -6.022, -6.0239, -6.4109, -6.6856, -7.0551, -5.8736, -7.0584, -7.6598, -7.6614, -7.6606, -7.6599, -7.6648, -7.664, -7.6655, -7.6681, -6.0203, -7.0609, -6.6842, -7.6554, -7.571, -7.6146, -5.9511, -7.6615, -7.6595, -7.6561, -7.6696, -7.6579, -6.6934, -7.6426, -7.0464, -6.675, -6.6709, -5.6761, -6.4122, -5.8719, -5.7073, -5.7611, -6.2324, -6.6726, -6.4284, -6.4183, -6.7043, -6.6876, -6.0448, -6.2272, -6.693, -6.2974, -6.3934, -6.4411, -6.3329, -6.6267, -6.6342, -6.6745, -6.6667, -6.6721, -7.7231, -7.7295, -7.4866, -7.899, -7.6814, -8.0781, -8.0828, -8.0863, -7.7167, -8.111, -7.4781, -8.1564, -8.1548, -6.6524, -7.571, -8.225, -8.2418, -7.8804, -8.3619, -8.3997, -8.0304, -7.874, -8.5203, -7.9683, -8.5768, -8.6103, -6.9447, -7.8005, -6.9311, -7.0035, -7.4969, -5.7396, -5.7794, -5.3479, -7.5767, -5.9465, -6.3339, -6.8406, -6.2643, -6.4688, -6.9189, -6.4148, -6.5589, -7.2593, -7.2319, -6.6558, -6.8648, -6.6647, -6.8958, -6.7432, -6.8721, -6.9213, -6.8506, -6.9227, -6.9909, -7.2573, -7.075, -7.1613, -7.2268, -7.2231, -9.1805, -9.2304, -9.2304, -9.2304, -9.2304, -9.2304, -9.2304, -9.2304, -9.2304, -9.2304, -9.2304, -9.2304, -9.2304, -9.2304, -9.2304, -9.2304, -9.2304, -9.2304, -9.2304, -9.2304, -9.2304, -9.2304, -9.2304, -9.2304, -9.2304, -9.2304, -9.2304, -9.2304, -9.2304, -9.2304, -9.1999, -9.1729, -7.0172, -7.1931, -9.1451, -7.3225, -7.8402, -7.754, -7.6511, -9.0839, -7.755, -7.6639, -7.5689, -7.6288, -9.2025, -7.742, -7.8432, -8.7465, -8.6177, -7.7198, -8.1418, -7.6812, -9.108, -7.9617, -7.736, -7.8544, -7.7435, -7.7245, -8.0712, -8.9046, -7.9178, -8.1056, -7.9529, -8.0615, -7.9767, -8.0667, -8.1236, -8.2058, -7.9444, -8.0702, -8.0336, -8.0325, -8.0529], \"loglift\": [30.0, 29.0, 28.0, 27.0, 26.0, 25.0, 24.0, 23.0, 22.0, 21.0, 20.0, 19.0, 18.0, 17.0, 16.0, 15.0, 14.0, 13.0, 12.0, 11.0, 10.0, 9.0, 8.0, 7.0, 6.0, 5.0, 4.0, 3.0, 2.0, 1.0, 0.8326, 0.831, 0.8297, 0.8238, 0.8237, 0.821, 0.8191, 0.8172, 0.8171, 0.8146, 0.8132, 0.81, 0.8092, 0.8087, 0.8086, 0.807, 0.8062, 0.8049, 0.8039, 0.8024, 0.7994, 0.7994, 0.798, 0.7979, 0.7974, 0.7972, 0.7968, 0.7967, 0.794, 0.7937, 0.7849, 0.7813, 0.7683, 0.7864, 0.7594, 0.7757, 0.7901, 0.7911, 0.7666, 0.782, 0.673, 0.6263, 0.6111, 0.7459, 0.7233, 0.7369, 0.6248, 0.5861, 0.6043, 0.6257, 0.5886, 0.5566, 0.6234, 0.6515, 0.484, 0.4226, 0.5558, 0.3784, 0.6051, 0.5739, 0.632, 0.4501, 0.2667, 0.2437, 0.6037, 0.4349, 0.3784, 0.3101, 0.442, 0.0233, 0.1372, 0.204, 0.1754, 0.3606, 0.1615, 0.1865, 0.1464, -0.1719, -0.0529, -0.1699, -0.0631, -0.1148, 0.1092, -0.6141, 0.8953, 0.8936, 0.8924, 0.8918, 0.8913, 0.8879, 0.8847, 0.8847, 0.8794, 0.8752, 0.8749, 0.8741, 0.8728, 0.8726, 0.8723, 0.8719, 0.8716, 0.8716, 0.8712, 0.8709, 0.8698, 0.8696, 0.8695, 0.8693, 0.8691, 0.8688, 0.8688, 0.8688, 0.8688, 0.8688, 0.8333, 0.8554, 0.8398, 0.8565, 0.8678, 0.7991, 0.8184, 0.8617, 0.8619, 0.8101, 0.8197, 0.8476, 0.8367, 0.7881, 0.7138, 0.8108, 0.6526, 0.6226, 0.693, 0.7776, 0.7316, 0.7478, 0.65, 0.6559, 0.5616, 0.4198, 0.3575, 0.2801, 0.3469, 0.3173, 0.3649, 0.1584, 0.1071, 0.0143, 0.2744, 0.3799, 0.1035, 0.0986, -0.0665, -0.198, 0.3502, 0.0941, 2.7785, 2.7145, 2.7131, 2.7013, 2.6958, 2.6927, 2.6865, 2.6855, 2.6805, 2.6665, 2.6635, 2.6635, 2.6612, 2.6566, 2.6369, 2.6367, 2.6296, 2.6296, 2.6211, 2.6184, 2.6115, 2.5975, 2.5611, 2.54, 2.5398, 2.5372, 2.5315, 2.5282, 2.5258, 2.5258, 2.5246, 2.5204, 2.4585, 2.4079, 2.3994, 2.1516, 1.9389, 1.8213, 1.3427, 2.2844, 2.086, 1.8354, 1.86, 1.2991, 1.638, 2.2401, 1.0624, 1.5273, 0.6395, 1.2079, 1.5385, 1.8775, 0.566, 1.1646, 1.2027, 0.5663, 0.9728, 1.6877, 0.9186, 0.2416, 0.7215, 0.7867, 0.5631, 0.8967, 0.3338, 0.7677, 0.3802, -0.2, -0.0564, -0.0466, 0.3983, -0.5206, 2.8825, 2.8421, 2.8375, 2.8107, 2.7992, 2.7918, 2.7773, 2.7695, 2.7642, 2.7624, 2.7624, 2.7462, 2.7423, 2.7418, 2.732, 2.7301, 2.7215, 2.7214, 2.7205, 2.7174, 2.706, 2.7043, 2.7004, 2.6864, 2.6814, 2.6797, 2.6774, 2.6696, 2.6648, 2.6616, 2.6368, 2.6238, 2.6529, 2.6094, 2.4453, 2.4336, 2.3976, 2.3596, 2.2545, 2.5087, 1.7776, 1.7797, 1.9273, 1.9896, 1.5413, 2.1299, 1.891, 1.2379, 2.0051, 1.1274, 0.9716, 1.4186, 1.2677, 1.5573, 1.5802, 1.3847, 1.3768, 0.6718, 1.3382, 1.4117, 1.4438, 1.0822, 0.227, 0.9171, 1.0422, 0.4958, 0.6315, 0.1623, -0.2786, 0.1054, 3.1636, 3.1046, 3.0541, 3.0398, 3.0336, 3.0091, 2.9983, 2.9714, 2.9403, 2.9387, 2.9378, 2.9358, 2.9309, 2.9259, 2.9202, 2.9201, 2.9188, 2.9149, 2.9131, 2.9091, 2.9081, 2.8946, 2.8938, 2.8869, 2.886, 2.8831, 2.8792, 2.8695, 2.8678, 2.8591, 2.84, 2.8228, 2.6162, 2.7289, 2.8279, 2.4912, 2.5754, 2.536, 2.6616, 2.5452, 2.3257, 1.5319, 2.6853, 1.8646, 2.2269, 1.5279, 2.3928, 1.9172, 1.7297, 1.2985, 1.4788, 0.6391, 1.451, 0.3908, 1.5375, 0.1478, 0.9805, 0.1898, 0.1919, 0.5399, 0.4074, 0.7646, 0.5145, 0.7796, 1.1642, 0.5047, 0.6472, -0.3052, -0.1729, 0.0559, -0.0648, -0.1047, 3.5811, 3.5399, 3.4887, 3.454, 3.4363, 3.4037, 3.4025, 3.4002, 3.3972, 3.387, 3.3851, 3.3784, 3.3774, 3.3686, 3.3197, 3.3001, 3.282, 3.2814, 3.2757, 3.2716, 3.2656, 3.2574, 3.2555, 3.2436, 3.2275, 3.2269, 3.2121, 3.2024, 3.196, 3.1941, 3.1882, 3.1361, 3.1214, 2.935, 2.8107, 2.6962, 2.9052, 2.9325, 2.5294, 2.4543, 1.7443, 1.8772, 0.4354, 1.2755, 0.1166, 1.9123, 0.8301, 2.0018, -0.0448, 1.0227, 0.3599, 0.9882, 0.6899, 0.4823, -0.1674, 0.2506, -0.0399, 0.5778, 0.2685, 0.3141, -0.3546, -0.4707, 0.8845, 0.2545, -0.8217, 0.4507, -0.3099, 4.7965, 4.7419, 4.7414, 4.5682, 4.4134, 4.1899, 4.1882, 4.1822, 3.7502, 3.7493, 3.7492, 3.7491, 3.7447, 3.7438, 3.7432, 3.7391, 3.7312, 3.4416, 3.4359, 3.3278, 3.3196, 3.3037, 3.2564, 3.242, 3.1578, 3.1398, 3.0918, 2.9779, 2.9601, 2.8698, 2.6527, 2.5037, 2.4814, 1.1064, 1.8574, 1.2291, 0.5777, 0.6161, 1.1425, 1.8351, 1.3055, 1.0008, 1.5457, 1.3492, -0.3816, 0.0054, 1.0829, -0.3354, -0.0611, -0.0561, -0.8811, 0.3409, 0.0111, 0.8721, -0.3682, 0.602, 3.7619, 3.7477, 3.5264, 3.4539, 3.2157, 3.1763, 3.1702, 3.169, 3.1621, 3.1254, 3.124, 3.0667, 3.0663, 3.0522, 2.9919, 2.9717, 2.9418, 2.9343, 2.7804, 2.7313, 2.7287, 2.5887, 2.5802, 2.5802, 2.5088, 2.4656, 2.4389, 2.4207, 2.4112, 2.3986, 2.1057, 1.3573, 0.9276, -0.0377, 1.9243, -0.4641, -0.0902, 0.6723, -0.5583, -0.1837, 0.5635, -0.4749, -0.5343, 1.1314, 0.749, -0.9925, -0.4306, -1.2955, -0.4889, -1.1275, -0.774, -0.9593, -1.3988, -1.1699, -0.8379, 0.7276, -0.9591, -1.2814, -0.5714, -1.2493, 2.3045, 2.2787, 2.2787, 2.2787, 2.2787, 2.2787, 2.2787, 2.2787, 2.2787, 2.2787, 2.2787, 2.2787, 2.2787, 2.2787, 2.2787, 2.2787, 2.2787, 2.2787, 2.2787, 2.2787, 2.2787, 2.2787, 2.2787, 2.2787, 2.2787, 2.2787, 2.2787, 2.2787, 2.2787, 2.2787, 2.2773, 2.18, -1.7069, -1.4871, 2.1102, -1.84, -0.7434, -1.047, -1.366, 1.9412, -1.3481, -1.702, -2.0073, -1.876, 2.207, -1.7856, -1.5996, 0.9581, 0.544, -2.0565, -0.9148, -2.312, 1.926, -1.5293, -2.2832, -1.921, -2.2917, -2.3661, -1.2887, 1.2804, -1.8931, -1.301, -1.837, -1.5624, -1.9002, -1.661, -1.4682, -1.1922, -2.3287, -1.8333, -2.0598, -2.0926, -2.4541]}, \"token.table\": {\"Topic\": [3, 1, 2, 3, 4, 5, 6, 3, 2, 5, 1, 3, 6, 1, 5, 6, 4, 6, 6, 1, 5, 2, 4, 1, 2, 3, 4, 5, 6, 6, 4, 3, 3, 1, 2, 1, 2, 3, 4, 5, 6, 1, 2, 3, 4, 5, 6, 2, 1, 2, 3, 4, 5, 6, 1, 5, 3, 2, 2, 2, 3, 1, 5, 1, 2, 3, 4, 5, 1, 3, 5, 2, 5, 2, 5, 2, 1, 5, 3, 5, 1, 2, 3, 4, 5, 6, 1, 2, 1, 2, 3, 4, 5, 6, 7, 1, 3, 1, 2, 3, 4, 5, 6, 4, 1, 2, 3, 3, 2, 1, 5, 1, 2, 3, 4, 5, 6, 2, 3, 4, 4, 1, 2, 3, 4, 5, 6, 7, 2, 1, 2, 1, 2, 3, 4, 5, 6, 1, 2, 3, 4, 5, 6, 3, 1, 2, 3, 4, 5, 6, 1, 2, 3, 4, 5, 6, 2, 1, 2, 3, 4, 5, 6, 3, 4, 1, 2, 3, 4, 5, 2, 6, 1, 2, 3, 4, 5, 6, 5, 1, 2, 3, 4, 5, 6, 4, 3, 2, 1, 2, 3, 4, 5, 6, 1, 2, 1, 3, 1, 2, 3, 5, 6, 1, 2, 3, 4, 1, 2, 3, 4, 5, 6, 7, 7, 2, 2, 2, 1, 4, 1, 2, 3, 7, 1, 2, 3, 4, 5, 6, 1, 2, 3, 4, 5, 6, 1, 1, 2, 3, 4, 5, 6, 1, 1, 2, 1, 2, 1, 2, 3, 4, 5, 1, 2, 5, 1, 2, 3, 4, 5, 6, 5, 1, 3, 4, 4, 1, 2, 4, 1, 2, 3, 4, 5, 3, 3, 1, 3, 6, 1, 1, 2, 3, 4, 5, 6, 2, 4, 1, 2, 3, 4, 5, 6, 1, 2, 3, 4, 5, 6, 1, 1, 2, 2, 6, 3, 3, 5, 4, 1, 2, 3, 2, 1, 2, 3, 4, 5, 6, 1, 2, 3, 4, 5, 5, 3, 1, 2, 3, 4, 5, 6, 2, 1, 2, 3, 4, 1, 2, 3, 4, 5, 6, 1, 2, 3, 4, 5, 6, 7, 1, 2, 3, 4, 5, 6, 1, 2, 3, 3, 5, 1, 2, 3, 4, 5, 6, 1, 2, 3, 4, 5, 6, 1, 2, 1, 4, 3, 6, 1, 2, 3, 4, 5, 6, 5, 5, 6, 6, 1, 2, 3, 4, 5, 6, 1, 4, 1, 2, 4, 1, 1, 2, 3, 4, 5, 6, 2, 1, 2, 3, 5, 6, 2, 1, 1, 1, 3, 3, 3, 5, 1, 2, 3, 4, 5, 6, 1, 2, 3, 5, 1, 2, 3, 4, 5, 6, 4, 1, 2, 2, 2, 5, 2, 1, 2, 3, 4, 5, 6, 1, 2, 3, 4, 5, 6, 1, 2, 4, 1, 2, 3, 4, 5, 6, 1, 2, 3, 4, 5, 6, 1, 2, 3, 5, 2, 6, 1, 2, 3, 4, 5, 6, 1, 2, 3, 4, 5, 6, 1, 2, 3, 4, 6, 1, 3, 4, 1, 2, 3, 4, 5, 6, 3, 2, 1, 2, 3, 2, 1, 2, 3, 4, 5, 6, 1, 2, 3, 4, 5, 6, 1, 6, 5, 2, 2, 1, 7, 1, 2, 3, 6, 1, 2, 3, 4, 5, 6, 2, 1, 4, 5, 6, 1, 2, 3, 4, 5, 6, 3, 1, 1, 2, 3, 4, 5, 6, 3, 1, 2, 3, 4, 5, 4, 1, 2, 3, 4, 5, 6, 1, 2, 3, 4, 2, 7, 7, 1, 2, 1, 2, 3, 1, 2, 5, 6, 2, 3, 1, 4, 1, 2, 3, 4, 5, 6, 1, 2, 6, 1, 1, 1, 2, 3, 4, 1, 2, 3, 4, 5, 6, 7, 1, 3, 4, 6, 6, 6, 1, 2, 3, 4, 5, 6, 2, 1, 2, 3, 4, 5, 6, 6, 3, 1, 2, 3, 4, 5, 6, 1, 2, 3, 4, 5, 6, 1, 2, 3, 1, 4, 2, 3, 1, 2, 1, 2, 6, 4, 1, 2, 3, 4, 5, 6, 1, 3, 6, 1, 2, 1, 1, 5, 5, 1, 2, 3, 4, 5, 6, 7, 1, 2, 3, 5, 6, 6, 1, 2, 3, 4, 5, 6, 1, 2, 4, 7, 5, 1, 2, 3, 1, 2, 3, 4, 5, 6, 1, 2, 3, 5, 1, 3, 4, 5, 1, 2, 3, 2, 3, 4, 5, 4, 1, 4, 1, 2, 3, 4, 5, 6, 1, 2, 3, 4, 5, 6, 5, 3, 1, 2, 3, 6, 5, 6, 1, 2, 4, 5, 1, 1, 2, 3, 4, 5, 6, 1, 2, 3, 5, 6, 1, 1, 1, 2, 3, 4, 5, 6, 7, 1, 2, 3, 4, 5, 6, 1, 2, 3, 4, 5, 6, 3, 1, 2, 2, 6, 6, 1, 2, 4, 5, 6, 2, 3, 4, 1, 2, 3, 4, 5, 6, 1, 3, 5, 1, 2, 3, 7, 1, 2, 3, 4, 5, 6, 1, 2, 3, 4, 5, 6, 1, 2, 3, 4, 5, 1, 2, 3, 4, 1, 3, 1, 2, 3, 4, 5, 6, 1, 2, 3, 4, 6, 6, 4, 1, 2, 3, 6, 2, 6, 1, 2, 3, 4, 5, 1, 2, 3, 4, 5, 1, 2, 4, 1, 2, 3, 4, 5, 6, 1, 2, 4, 6, 1, 2, 3, 5, 1, 2, 3, 4, 5, 6, 1, 2, 3, 4, 5, 3, 4, 2, 6, 1, 2, 3, 1, 1, 2, 3, 4, 5, 1, 2, 3, 4, 5, 6, 1, 2, 3, 4, 5, 6, 2, 3, 4, 4, 1, 2, 3, 5, 1, 2, 1, 2, 3, 4, 5, 6, 1, 2, 3, 4, 5, 6, 4, 1, 2, 3, 6, 7, 6, 3, 2, 1, 1, 2, 3, 4, 5, 1, 2, 3, 4, 5, 6, 1, 2, 3, 4, 3, 6, 1, 2, 3, 4, 5, 6, 1, 2, 3, 4, 5, 6, 1, 2, 3, 4, 5, 6, 1, 2, 3, 4, 5, 6, 6, 1, 2, 3, 4, 5, 6, 1, 2, 3, 4, 5, 6, 1, 2, 3, 4, 5, 6, 1, 2, 3, 5, 6, 1, 2, 3, 4, 6, 1, 2, 3, 4, 5, 6, 7, 1, 2, 3, 4, 1, 2, 3, 4, 5, 6, 3, 1, 2, 4, 5, 6, 1, 2, 3, 4, 5, 1, 2, 3, 4, 5, 7, 5, 1, 2, 3, 4, 5, 6, 7, 3, 1, 2, 5, 6, 5, 1, 2, 3, 4, 5, 6, 3, 5, 5, 1, 2, 3, 4, 5, 1, 2, 3, 4, 5, 6, 1, 2, 3, 4, 5, 6, 4, 2, 4, 1, 2, 3, 4, 1, 2, 3, 4, 5, 6, 2, 1, 2, 3, 4, 5, 6, 1, 2, 3, 4, 5, 6, 7, 5, 1, 1, 1, 2, 3, 4, 5, 6, 3, 2, 2, 1, 2, 5, 1, 2, 5, 5, 2, 6, 2, 1, 2, 3, 4, 5, 6, 4, 1, 2, 3, 4, 5, 7, 1, 2, 3, 2, 5, 4, 5, 3, 4, 3, 1, 2, 3, 5, 1, 2, 2, 1, 1, 6, 6, 2, 4, 6, 1, 2, 3, 4, 7, 1, 2, 3, 4, 5, 6, 1, 2, 3, 4, 5, 1, 2, 5, 6, 1, 2, 1, 2, 3, 4, 5, 1, 2, 3, 4, 5, 6, 2, 5, 1, 2, 3, 4, 5, 6, 1, 2, 3, 4, 5, 6, 2, 4, 1, 2, 3, 4, 5, 6, 5, 1, 2, 3, 4, 5, 6, 1, 2, 3, 5, 1, 2, 3, 4, 5, 6, 1, 2, 3, 4, 5, 6], \"Freq\": [0.49994581625754514, 0.5238768562412678, 0.2486195249958559, 0.03551707499940799, 0.12430976249792795, 0.05327561249911198, 0.008879268749851997, 0.8748508423272802, 0.24134787492902865, 0.724043624787086, 0.5338869977070388, 0.06673587471337986, 0.40041524828027913, 0.1467247712852714, 0.7336238564263571, 0.7360396406080116, 0.9042091562201167, 0.647220080074992, 0.45764366087639174, 0.36198488178282184, 0.5429773226742327, 0.9950607818190139, 0.8161043903647239, 0.10663270967962633, 0.1599490645194395, 0.05331635483981317, 0.5864799032379449, 0.10663270967962633, 0.7744326476010444, 0.9139281233658618, 0.7415189398523488, 0.49994581625754514, 0.890944464872607, 0.9454883067384953, 0.9744145659457343, 0.505630537037818, 0.2455919751326545, 0.13001928095258178, 0.028893173545018174, 0.014446586772509087, 0.05778634709003635, 0.1037092151494676, 0.2074184302989352, 0.2074184302989352, 0.1037092151494676, 0.518546075747338, 0.7419133004934171, 0.9610500139904316, 0.5834193599430733, 0.10209838799003781, 0.17502580798292197, 0.02917096799715366, 0.08751290399146099, 0.01458548399857683, 0.05320179707515683, 0.9044305502776661, 0.708784234885459, 0.6188565411128323, 0.9671161041619567, 0.9894902344033433, 0.8401587405434011, 0.5001250002652543, 0.8515692349985943, 0.1050726158601144, 0.2101452317202288, 0.1576089237901716, 0.1050726158601144, 0.4728267713705148, 0.15894681500636737, 0.6357872600254695, 0.15894681500636737, 0.9622807289643219, 0.5033443193548676, 0.9672409176958824, 0.8495713000228119, 0.9744145659457343, 0.4075600624894867, 0.61134009373423, 0.7970864703639126, 0.8523814129949279, 0.39310968820635733, 0.4344896553859739, 0.04137996717961656, 0.04137996717961656, 0.08275993435923312, 0.01034499179490414, 0.9261008413350893, 0.04874214954395207, 0.4856969822550319, 0.25340712117653835, 0.20413351428110035, 0.014078173398696577, 0.028156346797393154, 0.0070390866993482884, 0.0070390866993482884, 0.9077132490530693, 0.7486316335038772, 0.48840059968104654, 0.4239961249978316, 0.032202237341607466, 0.02146815822773831, 0.032202237341607466, 0.005367039556934577, 0.664725742949786, 0.5055752574713445, 0.05617502860792717, 0.3932252002554902, 0.7212510207505415, 0.9631506265323373, 0.17504350214517544, 0.7001740085807018, 0.5684761860589398, 0.21197417107282499, 0.12525746472485114, 0.03854075837687727, 0.028905568782657952, 0.019270379188438633, 0.23804786652186047, 0.7141435995655815, 0.5023992762880058, 0.9141560278400457, 0.4006596444728833, 0.3779807966725314, 0.03779807966725314, 0.09827500713485818, 0.04535769560070377, 0.034018271700527826, 0.0037798079667253144, 0.9566992499526694, 0.9387791972889187, 0.03911579988703828, 0.5085664689013463, 0.33713956927167904, 0.039999609913589036, 0.057142299876555766, 0.039999609913589036, 0.01714268996296673, 0.6317263965440373, 0.25663884859601516, 0.029612174838001746, 0.009870724946000583, 0.06909507462200408, 0.009870724946000583, 0.5074276484046631, 0.5208987102661558, 0.24417127043726053, 0.032556169391634734, 0.032556169391634734, 0.1465027622623563, 0.016278084695817367, 0.7905320437272064, 0.10641777511712394, 0.030405078604892555, 0.010135026201630853, 0.03547259170570798, 0.020270052403261705, 0.9882199820720109, 0.790973164722574, 0.11670095872956009, 0.025933546384346685, 0.025933546384346685, 0.03890031957652003, 0.012966773192173342, 0.8603959417605963, 0.7898771354867956, 0.40378977883983624, 0.30284233412987716, 0.020189488941991813, 0.24227386730390174, 0.020189488941991813, 0.32076295174258407, 0.6415259034851681, 0.4714548056736328, 0.12298821017573029, 0.14348624520501868, 0.08199214011715353, 0.020498035029288382, 0.12298821017573029, 0.5029650363630023, 0.47778635060175284, 0.25481938698760154, 0.03185242337345019, 0.20704075192742624, 0.015926211686725096, 0.015926211686725096, 0.6544238304261064, 0.7486086255102848, 0.7725144717707054, 0.1408806840701097, 0.7748437623856035, 0.04402521377190929, 0.017610085508763713, 0.008805042754381856, 0.008805042754381856, 0.07870211482219554, 0.9229611647330204, 0.6240812051919488, 0.3120406025959744, 0.5489136574239851, 0.2977158819926699, 0.046518106561354675, 0.08373259181043842, 0.01860724262454187, 0.2518598770995834, 0.38923799188117436, 0.2976525820267804, 0.04579270492719699, 0.6067497852158088, 0.22558645860587764, 0.03111537360081071, 0.0700095906018241, 0.04667306040121606, 0.015557686800405354, 0.007778843400202677, 0.6212134257443988, 0.9816685634774811, 0.7133575781542412, 0.7239658232758273, 0.15053229902818818, 0.6021291961127527, 0.9068230051737906, 0.034877807891299635, 0.034877807891299635, 0.6203822355577887, 0.6163855802734166, 0.27608937449746784, 0.00642068312784809, 0.01926204938354427, 0.0642068312784809, 0.01926204938354427, 0.5394732297685334, 0.334609977957698, 0.05463020048288946, 0.030729487771625322, 0.017071937650902955, 0.02731510024144473, 0.9658568370557601, 0.44388711366092265, 0.3551096909287381, 0.017755484546436905, 0.03551096909287381, 0.12428839182505834, 0.017755484546436905, 0.9519464173491006, 0.6898633349359543, 0.24348117703621916, 0.9716594512927464, 0.021123031549842314, 0.5402877603589319, 0.28543504320849233, 0.09174697817415825, 0.05097054343008792, 0.03058232605805275, 0.30414465272574204, 0.20276310181716137, 0.40552620363432273, 0.43795413584637577, 0.43795413584637577, 0.06168368110512335, 0.02467347244204934, 0.02467347244204934, 0.006168368110512335, 0.7380359258265431, 0.8556699406246289, 0.6351826985056741, 0.7537976697716515, 0.7549584079776568, 0.07187196218147539, 0.35935981090737695, 0.5031037352703277, 0.23054921461611913, 0.05763730365402978, 0.23054921461611913, 0.11527460730805957, 0.40346112557820846, 0.4891458560944039, 0.7768796277519241, 0.30423437692160826, 0.060846875384321646, 0.5476218784588949, 0.983342255269215, 0.14035946004048577, 0.8256438825910928, 0.008256438825910928, 0.008256438825910928, 0.016512877651821856, 0.008256438825910928, 0.963851102465963, 0.6643421093378804, 0.28019419163239956, 0.40201775321170374, 0.04872942463172167, 0.20710005468481707, 0.04872942463172167, 0.012182356157930417, 0.35524017234861205, 0.5818589029847956, 0.02449932223093876, 0.018374491673204072, 0.015312076394336726, 0.00612483055773469, 0.9611185827046936, 0.04941659936795908, 0.9389153879912224, 0.3787981744526844, 0.3787981744526844, 0.6405454583728323, 0.6173931449394567, 0.4729107398351918, 0.7602527190441077, 0.23483426322659062, 0.11741713161329531, 0.5870856580664765, 0.48242723094351997, 0.0874647830473323, 0.1749295660946646, 0.039756719566969224, 0.6917669204652644, 0.007951343913393845, 0.007951343913393845, 0.20782762213259243, 0.34637937022098736, 0.09236783205892997, 0.34637937022098736, 0.023091958014732492, 0.7688709496453934, 0.6527117833945161, 0.30738196759449543, 0.5327954104971254, 0.05123032793241591, 0.0563533607256575, 0.030738196759449544, 0.015369098379724772, 0.9830408628601646, 0.05540494742039957, 0.05540494742039957, 0.4432395793631966, 0.387834631942797, 0.43329950745484525, 0.18054146143951885, 0.09027073071975943, 0.21664975372742262, 0.07221658457580754, 0.018054146143951885, 0.6180022909293104, 0.2478127998280898, 0.03365359010011096, 0.06118834563656538, 0.018356503690969615, 0.021415920972797882, 0.003059417281828269, 0.22838038910212627, 0.5364283557980175, 0.21510245950316542, 0.007966757759376497, 0.007966757759376497, 0.002655585919792166, 0.02509716950091289, 0.9160466867833205, 0.05019433900182578, 0.8372980797221526, 0.6921932585997845, 0.5517503337699344, 0.41241944140378933, 0.008359853541968703, 0.016719707083937406, 0.005573235694645802, 0.002786617847322901, 0.38991299476696567, 0.478195182261373, 0.08092533853654005, 0.02207054687360183, 0.014713697915734554, 0.007356848957867277, 0.07062322327165732, 0.9181019025315451, 0.21274594652049994, 0.6382378395614998, 0.9056923213801097, 0.4578925875753041, 0.7610895210540232, 0.20295720561440617, 0.01691310046786718, 0.00845655023393359, 0.00845655023393359, 0.00845655023393359, 0.8127377708170328, 0.853242405049429, 0.7403002557217602, 0.5900312019617683, 0.8261371414450575, 0.10037180223164249, 0.0077209078639725, 0.0077209078639725, 0.03088363145589, 0.03088363145589, 0.9134413890719131, 0.04349720900342443, 0.3288557410333048, 0.054809290172217466, 0.5480929017221746, 0.4776871306875796, 0.3453924850262772, 0.1726962425131386, 0.1726962425131386, 0.05756541417104619, 0.1726962425131386, 0.05756541417104619, 0.9647590402700578, 0.42013493739090446, 0.3070216850164302, 0.016159036053496327, 0.2423855408024449, 0.016159036053496327, 0.9744145659457343, 0.8988480552134764, 0.9645536161564127, 0.9768005293095665, 0.4813427443447419, 0.927236703625602, 0.8955217398462907, 0.472278636911714, 0.47240856689084365, 0.4279465841246466, 0.03334648707464779, 0.016673243537323894, 0.03334648707464779, 0.011115495691549262, 0.500165410214605, 0.37512405766095375, 0.06252067627682563, 0.06252067627682563, 0.35613339746091777, 0.3052571978236438, 0.1865460653366712, 0.08479366606212327, 0.05087619963727397, 0.016958733212424654, 0.7574440770392961, 0.9432003448180656, 0.02947501077556455, 0.9688518376343478, 0.3509675986361738, 0.5264513979542607, 0.9897867906022175, 0.2613339975111536, 0.41505987840006753, 0.12298070471113112, 0.12298070471113112, 0.01537258808889139, 0.06149035235556556, 0.06034264754665666, 0.9019637843816047, 0.006351857636490175, 0.0031759288182450873, 0.028583359364205783, 0.0031759288182450873, 0.8744200450977807, 0.06995360360782246, 0.03497680180391123, 0.39227519063280636, 0.39821875412724284, 0.08320988892211044, 0.08320988892211044, 0.035661380966618764, 0.01188712698887292, 0.7800977014596787, 0.12537284487744838, 0.04179094829248279, 0.027860632194988525, 0.013930316097494263, 0.013930316097494263, 0.0737952090964449, 0.8978417106734129, 0.01229920151607415, 0.0245984030321483, 0.22389803165833422, 0.6716940949750027, 0.7697857840741703, 0.12075071122732083, 0.030187677806830206, 0.030187677806830206, 0.030187677806830206, 0.015093838903415103, 0.2794515773178639, 0.5346030174776527, 0.048600274316150244, 0.012150068579037561, 0.09720054863230049, 0.012150068579037561, 0.3976861619930146, 0.29826462149476096, 0.07456615537369024, 0.22369846612107072, 0.024855385124563412, 0.5457836541618718, 0.716099126106267, 0.9050800878683786, 0.3030291924792343, 0.0932397515320721, 0.2564093167131983, 0.13985962729810816, 0.16316956518112619, 0.023309937883018026, 0.9467672597468704, 0.9802211375199198, 0.9008456501366775, 0.07507047084472313, 0.9477119724908797, 0.9744145659457343, 0.3363645982965928, 0.1293709993448434, 0.2587419986896868, 0.02587419986896868, 0.20699359895174943, 0.02587419986896868, 0.46250661681556193, 0.4404824922052971, 0.011012062305132428, 0.04404824922052971, 0.011012062305132428, 0.03303618691539728, 0.2040448875904764, 0.6121346627714291, 0.8667145747304161, 0.9844363155408402, 0.968433225536485, 0.6148406008782049, 0.30742030043910246, 0.7748873348950855, 0.040783543941846606, 0.12235063182553982, 0.05097942992730826, 0.41334564843843846, 0.09185458854187521, 0.045927294270937606, 0.045927294270937606, 0.045927294270937606, 0.32149105989656324, 0.9744145659457343, 0.3324837177771858, 0.11082790592572861, 0.5541395296286431, 0.8320810734158873, 0.392379023068802, 0.4359766922986689, 0.0784758046137604, 0.008719533845973378, 0.06103673692181365, 0.026158601537920136, 0.7834160858023359, 0.9346275770106961, 0.4508347620039268, 0.16101241500140243, 0.34349315200299185, 0.010734161000093495, 0.02146832200018699, 0.010734161000093495, 0.7895907998311317, 0.5389401155521643, 0.03170235973836261, 0.39627949672953255, 0.015851179869181303, 0.015851179869181303, 0.7908033957813327, 0.5954342835640669, 0.24469902064276722, 0.07340970619283017, 0.02446990206427672, 0.02446990206427672, 0.0326265360857023, 0.04202813758093416, 0.9322605063407214, 0.003820739780084924, 0.015282959120339695, 0.6762320512768706, 0.22541068375895687, 0.7693901678918752, 0.07678722176889978, 0.9214466612267974, 0.9221899841208162, 0.061479332274721084, 0.7212510207505415, 0.7965427217153117, 0.09956784021441396, 0.033189280071471323, 0.04978392010720698, 0.9912010800720875, 0.6387306040873328, 0.9361325477498367, 0.7139574105629966, 0.5173721185877473, 0.42762389393477074, 0.0158379219975841, 0.010558614665056067, 0.021117229330112133, 0.010558614665056067, 0.38128582389812243, 0.2859643679235918, 0.2859643679235918, 0.9398255214473782, 0.9438837353136502, 0.05706778524873153, 0.6848134229847784, 0.01902259508291051, 0.22827114099492612, 0.5534588378596271, 0.33207530271577623, 0.05165615820023186, 0.007379451171461694, 0.03689725585730847, 0.014758902342923388, 0.007379451171461694, 0.35303307061091105, 0.11767769020363701, 0.11767769020363701, 0.47071076081454805, 0.6266584319579966, 0.45577295348129604, 0.5103369024424821, 0.21997280277693193, 0.06159238477754094, 0.17597824222154554, 0.02639673633323183, 0.008798912111077277, 0.9695722549412785, 0.6043660140628548, 0.12087320281257097, 0.19339712450011354, 0.024174640562514192, 0.03626196084377129, 0.03626196084377129, 0.4673171902232756, 0.7505241164012155, 0.4922897721452805, 0.37100098770368967, 0.021403903136751327, 0.04994244065241976, 0.028538537515668438, 0.028538537515668438, 0.7364202944086479, 0.19304221309741254, 0.014299423192400929, 0.007149711596200464, 0.028598846384801858, 0.021449134788601394, 0.23655430780064263, 0.07885143593354754, 0.7096629234019278, 0.9777746906757362, 0.7373556368176605, 0.9451336246661605, 0.024234195504260526, 0.9763518318879049, 0.02034066316433135, 0.3409191810392474, 0.1704595905196237, 0.3409191810392474, 0.6611499105451543, 0.34320880885701227, 0.30770444932007995, 0.1420174381477292, 0.1420174381477292, 0.047339146049243074, 0.023669573024621537, 0.9464305837832075, 0.7873351410988247, 0.5934631079384587, 0.028723391343993297, 0.9478719143517789, 0.9361325477498367, 0.11281221555325768, 0.9024977244260615, 0.7106481669481151, 0.38075229514353065, 0.5343891861663588, 0.01335972965415897, 0.05343891861663588, 0.006679864827079485, 0.006679864827079485, 0.006679864827079485, 0.7908773096611107, 0.15633621237487072, 0.009196247786757102, 0.009196247786757102, 0.027588743360271305, 0.5942135343411853, 0.24672077325803754, 0.7102567715004111, 0.00747638706842538, 0.00747638706842538, 0.02242916120527614, 0.00747638706842538, 0.7169926807241247, 0.10242752581773211, 0.15364128872659816, 0.051213762908866055, 0.8523902844788813, 0.8751785762694995, 0.05834523841796663, 0.05834523841796663, 0.37620566426172575, 0.44648584329963054, 0.09921907628880679, 0.024804769072201697, 0.03307302542960226, 0.020670640893501412, 0.12554186839428683, 0.12554186839428683, 0.5021674735771473, 0.12554186839428683, 0.06326880473312721, 0.37961282839876326, 0.06326880473312721, 0.5061504378650177, 0.9269738474139296, 0.046348692370696484, 0.721045468284199, 0.11817669241424371, 0.23635338482848742, 0.11817669241424371, 0.47270676965697483, 0.6249356569992098, 0.1646551593027601, 0.8232757965138003, 0.2730518128170686, 0.24271272250406098, 0.030339090313007622, 0.3640690837560915, 0.060678180626015245, 0.030339090313007622, 0.36027149144922377, 0.2668677714438695, 0.04003016571658042, 0.2935545485882564, 0.013343388572193474, 0.02668677714438695, 0.8510546212645117, 0.7041419571075579, 0.8976333605833469, 0.05699259432275218, 0.02849629716137609, 0.014248148580688045, 0.5024249189865188, 0.8318892988165024, 0.7854244538111887, 0.13934949986972703, 0.05067254540717347, 0.012668136351793367, 0.9908072171136307, 0.6630439790028241, 0.2435671759602211, 0.027063019551135676, 0.033828774438919594, 0.020297264663351758, 0.013531509775567838, 0.17764731809882248, 0.47372618159686, 0.0592157726996075, 0.118431545399215, 0.17764731809882248, 0.9898402905020154, 0.9524042968144055, 0.7796522715941216, 0.0815322636961173, 0.07643649721510996, 0.010191532962014662, 0.035670365367051315, 0.015287299443021993, 0.005095766481007331, 0.5510808509899681, 0.1881739491185257, 0.053763985462435916, 0.1881739491185257, 0.013440996365608979, 0.013440996365608979, 0.6572768256453079, 0.20223902327547932, 0.05898638178868147, 0.008426625969811639, 0.05055975581886983, 0.025279877909434915, 0.9180745284325295, 0.03690918102283244, 0.9596387065936434, 0.2245731457791972, 0.4491462915583944, 0.617706323331152, 0.3197911048415348, 0.05329851747358912, 0.5329851747358912, 0.05329851747358912, 0.05329851747358912, 0.17547084956706138, 0.5264125487011841, 0.17547084956706138, 0.3276041080044092, 0.3822047926718108, 0.141961780135244, 0.07644095853436216, 0.021840273866960615, 0.04368054773392123, 0.1784411788141253, 0.5353235364423758, 0.1784411788141253, 0.27214981229436336, 0.6699072302630482, 0.04186920189144051, 0.020934600945720257, 0.2652670320400989, 0.4340733251565254, 0.04823036946183616, 0.02411518473091808, 0.16880629311642656, 0.07234555419275424, 0.15503904895276854, 0.780732353655013, 0.02214843556468122, 0.016611326673510916, 0.02214843556468122, 0.005537108891170305, 0.6523437952248002, 0.11511949327496476, 0.19186582212494127, 0.038373164424988254, 0.038373164424988254, 0.2890351020848853, 0.17342106125093118, 0.2890351020848853, 0.23122808166790823, 0.9063519680081039, 0.486944681082953, 0.17342196106688165, 0.28563617116898155, 0.06120775096478176, 0.2958374629964452, 0.17342196106688165, 0.010201291827463627, 0.26848122064804136, 0.20136091548603102, 0.36916167839105685, 0.06712030516201034, 0.10068045774301551, 0.5934631445099287, 0.9007340771063049, 0.6048302864031012, 0.20161009546770042, 0.050402523866925106, 0.1512075716007753, 0.4130058314453343, 0.4130058314453343, 0.3406574748875903, 0.5299116276029183, 0.056776245814598385, 0.018925415271532794, 0.056776245814598385, 0.30394090130168133, 0.4420958564388092, 0.027630991027425576, 0.19341693719197903, 0.013815495513712788, 0.10002856052619909, 0.8802513326305519, 0.7415189398523488, 0.5229508888300772, 0.23696212150112872, 0.11439550693157939, 0.08988218401766952, 0.03268443055187983, 0.008171107637969957, 0.27695002972013033, 0.18463335314675355, 0.18463335314675355, 0.27695002972013033, 0.33643667698260715, 0.26434310334347705, 0.3604678681956505, 0.024031191213043368, 0.7412495980728129, 0.1778999035374751, 0.029649983922912515, 0.029649983922912515, 0.009883327974304171, 0.009883327974304171, 0.12711960180534768, 0.5084784072213907, 0.12711960180534768, 0.12711960180534768, 0.8501584438569166, 0.7184132351047989, 0.8532368852385593, 0.3582256464022327, 0.5373384696033491, 0.9513549147907362, 0.03171183049302454, 0.010570610164341512, 0.9098561375784164, 0.502860113996796, 0.09428627137439924, 0.09428627137439924, 0.03142875712479975, 0.251430056998398, 0.4447349034258082, 0.38120134579354986, 0.03176677881612915, 0.0714752523362906, 0.0635335576322583, 0.007941694704032288, 0.15123664008651816, 0.6049465603460726, 0.027497570924821486, 0.1924829964737504, 0.013748785462410743, 0.013748785462410743, 0.08865888794564233, 0.08865888794564233, 0.797929991510781, 0.8585412481657286, 0.08187975171097536, 0.8515494177941437, 0.03275190068439014, 0.01637595034219507, 0.9059631650434493, 0.04314110309730711, 0.8117127232870093, 0.04969669734410261, 0.06626226312547015, 0.016565565781367537, 0.033131131562735075, 0.016565565781367537, 0.5772598300775039, 0.39883406441718455, 0.010495633274136437, 0.005247816637068218, 0.010495633274136437, 0.005247816637068218, 0.6959002499882543, 0.45486020599872246, 0.25992011771355567, 0.12996005885677783, 0.06498002942838892, 0.5664745218120626, 0.45743197341997904, 0.8558021035109973, 0.9757363741608372, 0.92647028037234, 0.1740470440227189, 0.7786315127332161, 0.009160370738037837, 0.009160370738037837, 0.018320741476075673, 0.5402761132326068, 0.23637079953926546, 0.16208283396978204, 0.020260354246222755, 0.03376725707703793, 0.006753451415407585, 0.0406255400391239, 0.2437532402347434, 0.0406255400391239, 0.6906341806651063, 0.8686759529972938, 0.588435285897191, 0.5165250723974529, 0.28844906640377244, 0.10062176735015317, 0.02683247129337418, 0.06708117823343544, 0.006708117823343545, 0.6849749712050142, 0.23175844890395214, 0.036051314273948115, 0.015450563260263476, 0.025750938767105793, 0.005150187753421159, 0.4831553996779983, 0.4517306582355269, 0.015712370721235717, 0.007856185360617858, 0.023568556081853577, 0.015712370721235717, 0.7597057235369838, 0.14644929610351495, 0.0640715670452878, 0.009153081006469685, 0.009153081006469685, 0.01830616201293937, 0.7153942087901902, 0.3457014132224136, 0.5935628038347102, 0.006522668174007804, 0.006522668174007804, 0.03913600904404683, 0.006522668174007804, 0.6535666584979263, 0.30709758652312197, 0.007874297090336461, 0.02362289127100938, 0.007874297090336461, 0.007874297090336461, 0.49914652458864583, 0.3038283193148279, 0.09765910263690897, 0.02712752851025249, 0.05968056272255548, 0.016276517106151495, 0.2889199990787187, 0.24764571349604458, 0.24764571349604458, 0.0412742855826741, 0.1650971423306964, 0.20807548170006898, 0.7542736211627501, 0.015605661127505175, 0.01040377408500345, 0.005201887042501725, 0.5635011098958115, 0.2778909583047838, 0.04631515971746396, 0.061753546289951944, 0.038595966431219965, 0.007719193286243993, 0.007719193286243993, 0.2815672836561536, 0.2815672836561536, 0.04692788060935893, 0.37542304487487144, 0.3300049645722936, 0.44344417114401957, 0.03609429300009461, 0.15468982714326263, 0.030937965428652528, 0.005156327571442088, 0.9306954726312943, 0.25932954265465114, 0.051865908530930226, 0.466793176778372, 0.10373181706186045, 0.10373181706186045, 0.3624874194491587, 0.395440821217264, 0.07689127079224578, 0.14279807432845645, 0.010984467256035111, 0.5469744776265081, 0.1750318328404826, 0.04375795821012065, 0.15315285373542228, 0.06563693731518097, 0.021878979105060325, 0.6954652129985999, 0.5209103905615695, 0.16206101039693274, 0.15048522394000896, 0.08103050519846637, 0.0347273593707713, 0.04630314582769507, 0.011575786456923767, 0.7624386012464442, 0.40177018311602136, 0.5022127288950267, 0.05022127288950267, 0.5932967499682629, 0.8496443334551115, 0.4642291152504025, 0.3229419932176713, 0.08073549830441783, 0.0706435610163656, 0.040367749152208914, 0.010091937288052228, 0.5277161912836208, 0.5052235105459032, 0.4998639491937643, 0.4964331729537012, 0.2278709646344858, 0.03255299494778369, 0.2278709646344858, 0.016276497473891843, 0.7486838000180505, 0.16377458125394853, 0.03509455312584612, 0.023396368750564077, 0.011698184375282038, 0.011698184375282038, 0.3450496222001327, 0.5084941800844061, 0.04540126607896482, 0.04540126607896482, 0.01816050643158593, 0.03632101286317186, 0.8799499339854829, 0.24944309981778537, 0.7483292994533561, 0.31100078634233264, 0.27990070770809933, 0.062200157268466526, 0.3421008649765659, 0.3785929986876353, 0.5782147616320248, 0.013767018134095829, 0.013767018134095829, 0.013767018134095829, 0.006883509067047914, 0.9524868398949706, 0.4028758290677088, 0.26274510591372313, 0.058387801314160694, 0.169324623811066, 0.07006536157699284, 0.03503268078849642, 0.25469458173655296, 0.5253075748316405, 0.04775523407560368, 0.06367364543413824, 0.06367364543413824, 0.03183682271706912, 0.01591841135853456, 0.6907324213006425, 0.9577220777262636, 0.9762026478484331, 0.34267765608985956, 0.5867768083730472, 0.01877685786793751, 0.03755371573587502, 0.009388428933968756, 0.004694214466984378, 0.8475494533622769, 0.9757363741608372, 0.9559217881358044, 0.13109287405162853, 0.8448207438882727, 0.7984575644790297, 0.05107009684640887, 0.9396897819739233, 0.8682505017684781, 0.7463338486702547, 0.219557189063106, 0.6586715671893181, 0.6517749738578131, 0.11807240794685779, 0.742169421380249, 0.016867486849551114, 0.016867486849551114, 0.016867486849551114, 0.08433743424775557, 0.8430709488670658, 0.6894270439730922, 0.08992526660518595, 0.11990035547358126, 0.05995017773679063, 0.029975088868395314, 0.029975088868395314, 0.46077385820569633, 0.20944266282077106, 0.29321972794907947, 0.9943027253661396, 0.8519825997085859, 0.48401335781885263, 0.7566632068791832, 0.11808005394679974, 0.8265603776275982, 0.7958222124663468, 0.913156051514631, 0.07024277319343315, 0.007024277319343315, 0.007024277319343315, 0.9375723265110345, 0.9705843814187973, 0.9940182568115213, 0.9599465593347266, 0.988795272626944, 0.625680879117408, 0.9140631767635964, 0.29154536614169607, 0.7288634153542402, 0.5957472558179194, 0.13083674086950023, 0.26167348173900046, 0.3925102226085007, 0.13083674086950023, 0.13083674086950023, 0.3564827136268508, 0.4511241420233599, 0.10726028551604361, 0.037856571358603625, 0.0441659999183709, 0.0031547142798836357, 0.34672994505767285, 0.30820439560682034, 0.26967884615596777, 0.07705109890170508, 0.03852554945085254, 0.2476182173424314, 0.3714273260136471, 0.2476182173424314, 0.1238091086712157, 0.20436522390336556, 0.6130956717100967, 0.13497296944418039, 0.8098378166650823, 0.010382536111090798, 0.031147608333272396, 0.010382536111090798, 0.13806729408298343, 0.6193304334579542, 0.05522691763319337, 0.13017773442109867, 0.05522691763319337, 0.003944779830942384, 0.6039394545815531, 0.36236367274893183, 0.3960691242625227, 0.5743002301806579, 0.007921382485250454, 0.007921382485250454, 0.007921382485250454, 0.003960691242625227, 0.28114270514763656, 0.5586810166395342, 0.0720878731147786, 0.032439542901650374, 0.04685711752460609, 0.010813180967216791, 0.9565187290902059, 0.8509794916156131, 0.4338087034286323, 0.47606279791843414, 0.045071034122455306, 0.01690163779592074, 0.01690163779592074, 0.011267758530613826, 0.8678969231744422, 0.29907614227837476, 0.40873739444711216, 0.04486142134175621, 0.05981522845567495, 0.17944568536702485, 0.009969204742612491, 0.2099971622657835, 0.2099971622657835, 0.4619937569847237, 0.0839988649063134, 0.6449951661433392, 0.26225078183850054, 0.03189536535873655, 0.02835143587443249, 0.017719647421520306, 0.014175717937216245, 0.5051217442730482, 0.40607826500382305, 0.024760869817306283, 0.019808695853845027, 0.02971304378076754, 0.01485652189038377], \"Term\": [\"aashish\", \"able\", \"able\", \"able\", \"able\", \"able\", \"able\", \"acquisition\", \"adarsh\", \"adarsh\", \"addiction\", \"addiction\", \"addiction\", \"african\", \"african\", \"aligarh\", \"alva\", \"alwar\", \"ambaji\", \"american\", \"american\", \"amrit\", \"anand\", \"answer\", \"answer\", \"answer\", \"answer\", \"answer\", \"antibiotic\", \"anushasan\", \"anuspardha\", \"arrear\", \"asha\", \"atalji\", \"automobile\", \"aware\", \"aware\", \"aware\", \"aware\", \"aware\", \"aware\", \"bachao\", \"bachao\", \"bachao\", \"bachao\", \"bachao\", \"bacteria\", \"banaskantha\", \"bank\", \"bank\", \"bank\", \"bank\", \"bank\", \"bank\", \"barack\", \"barack\", \"barren\", \"bath\", \"batra\", \"bee\", \"beema\", \"beg\", \"benjamin\", \"beti\", \"beti\", \"beti\", \"beti\", \"beti\", \"betterment\", \"betterment\", \"betterment\", \"bhagwan\", \"bhawana\", \"bhi\", \"bhunjhita\", \"bijayji\", \"biography\", \"biography\", \"biswal\", \"bodh\", \"book\", \"book\", \"book\", \"book\", \"book\", \"book\", \"british\", \"british\", \"brother\", \"brother\", \"brother\", \"brother\", \"brother\", \"brother\", \"brother\", \"brown\", \"burning\", \"campaign\", \"campaign\", \"campaign\", \"campaign\", \"campaign\", \"campaign\", \"carry\", \"cashless\", \"cashless\", \"cashless\", \"chai\", \"chaitra\", \"chandrakant\", \"chandrakant\", \"change\", \"change\", \"change\", \"change\", \"change\", \"change\", \"charkha\", \"charkha\", \"cheating\", \"chess\", \"child\", \"child\", \"child\", \"child\", \"child\", \"child\", \"child\", \"christian\", \"cigarette\", \"cigarette\", \"citizen\", \"citizen\", \"citizen\", \"citizen\", \"citizen\", \"citizen\", \"city\", \"city\", \"city\", \"city\", \"city\", \"city\", \"clause\", \"clean\", \"clean\", \"clean\", \"clean\", \"clean\", \"clean\", \"cleanliness\", \"cleanliness\", \"cleanliness\", \"cleanliness\", \"cleanliness\", \"cleanliness\", \"color\", \"common\", \"common\", \"common\", \"common\", \"common\", \"common\", \"compensation\", \"compete\", \"competition\", \"competition\", \"competition\", \"competition\", \"competition\", \"complication\", \"complication\", \"concern\", \"concern\", \"concern\", \"concern\", \"concern\", \"concern\", \"conclave\", \"confidence\", \"confidence\", \"confidence\", \"confidence\", \"confidence\", \"confidence\", \"confirm\", \"consent\", \"continued\", \"corner\", \"corner\", \"corner\", \"corner\", \"corner\", \"corner\", \"corona\", \"corona\", \"corridor\", \"corridor\", \"country\", \"country\", \"country\", \"country\", \"country\", \"crop\", \"crop\", \"crop\", \"crop\", \"crore\", \"crore\", \"crore\", \"crore\", \"crore\", \"crore\", \"crore\", \"cub\", \"curfew\", \"curriculum\", \"curtain\", \"cylinder\", \"cylinder\", \"darkness\", \"darkness\", \"darkness\", \"dashami\", \"daughter\", \"daughter\", \"daughter\", \"daughter\", \"daughter\", \"daughter\", \"day\", \"day\", \"day\", \"day\", \"day\", \"day\", \"deepawali\", \"democracy\", \"democracy\", \"democracy\", \"democracy\", \"democracy\", \"democracy\", \"depression\", \"destination\", \"destination\", \"dev\", \"dev\", \"development\", \"development\", \"development\", \"development\", \"development\", \"diabete\", \"diabete\", \"diabete\", \"different\", \"different\", \"different\", \"different\", \"different\", \"different\", \"dilip\", \"dirt\", \"disabled\", \"disappointed\", \"discharge\", \"discovery\", \"discovery\", \"discovery\", \"donation\", \"donation\", \"donation\", \"donation\", \"donation\", \"donor\", \"drawback\", \"drug\", \"drug\", \"drug\", \"durga\", \"duty\", \"duty\", \"duty\", \"duty\", \"duty\", \"duty\", \"easter\", \"edison\", \"education\", \"education\", \"education\", \"education\", \"education\", \"education\", \"effort\", \"effort\", \"effort\", \"effort\", \"effort\", \"effort\", \"ekta\", \"elderly\", \"elderly\", \"email\", \"email\", \"emphasize\", \"enactment\", \"enjoyable\", \"enrolment\", \"enterprise\", \"enterprise\", \"enterprise\", \"esteem\", \"exam\", \"exam\", \"exam\", \"exam\", \"exam\", \"exam\", \"examination\", \"examination\", \"examination\", \"examination\", \"examination\", \"excited\", \"exclusion\", \"experience\", \"experience\", \"experience\", \"experience\", \"experience\", \"experience\", \"fabulous\", \"failure\", \"failure\", \"failure\", \"failure\", \"faith\", \"faith\", \"faith\", \"faith\", \"faith\", \"faith\", \"family\", \"family\", \"family\", \"family\", \"family\", \"family\", \"family\", \"farmer\", \"farmer\", \"farmer\", \"farmer\", \"farmer\", \"farmer\", \"farming\", \"farming\", \"farming\", \"fasal\", \"fence\", \"festival\", \"festival\", \"festival\", \"festival\", \"festival\", \"festival\", \"field\", \"field\", \"field\", \"field\", \"field\", \"field\", \"fighter\", \"fighter\", \"finish\", \"finish\", \"fix\", \"flutter\", \"force\", \"force\", \"force\", \"force\", \"force\", \"force\", \"framer\", \"franklin\", \"fraud\", \"furniture\", \"gandhi\", \"gandhi\", \"gandhi\", \"gandhi\", \"gandhi\", \"gandhi\", \"ganesh\", \"ganesh\", \"ganga\", \"ganga\", \"ganga\", \"gautam\", \"girl\", \"girl\", \"girl\", \"girl\", \"girl\", \"girl\", \"gita\", \"gold\", \"gold\", \"gold\", \"gold\", \"gold\", \"goraiya\", \"grit\", \"gst\", \"gurbachan\", \"harda\", \"harivansh\", \"headline\", \"headquarter\", \"heart\", \"heart\", \"heart\", \"heart\", \"heart\", \"heart\", \"heartfelt\", \"heartfelt\", \"heartfelt\", \"heartfelt\", \"help\", \"help\", \"help\", \"help\", \"help\", \"help\", \"hivrebazaar\", \"hockey\", \"hockey\", \"holi\", \"hon\", \"hon\", \"honey\", \"hour\", \"hour\", \"hour\", \"hour\", \"hour\", \"hour\", \"house\", \"house\", \"house\", \"house\", \"house\", \"house\", \"idol\", \"idol\", \"idol\", \"important\", \"important\", \"important\", \"important\", \"important\", \"important\", \"incident\", \"incident\", \"incident\", \"incident\", \"incident\", \"incident\", \"income\", \"income\", \"income\", \"income\", \"incubation\", \"incubation\", \"indian\", \"indian\", \"indian\", \"indian\", \"indian\", \"indian\", \"information\", \"information\", \"information\", \"information\", \"information\", \"information\", \"inner\", \"inner\", \"inner\", \"inner\", \"inner\", \"intend\", \"introduction\", \"inventor\", \"issue\", \"issue\", \"issue\", \"issue\", \"issue\", \"issue\", \"jamuna\", \"janata\", \"jayanti\", \"jayanti\", \"jehan\", \"jinjhuwada\", \"job\", \"job\", \"job\", \"job\", \"job\", \"job\", \"joy\", \"joy\", \"joy\", \"joy\", \"joy\", \"joy\", \"kalamji\", \"kalamji\", \"kannur\", \"karbi\", \"karma\", \"khaadi\", \"khaadi\", \"khadi\", \"khadi\", \"khadi\", \"khadi\", \"kid\", \"kid\", \"kid\", \"kid\", \"kid\", \"kid\", \"kochi\", \"kulkarni\", \"kulkarni\", \"kulkarni\", \"laaw\", \"lakh\", \"lakh\", \"lakh\", \"lakh\", \"lakh\", \"lakh\", \"lakhwind\", \"lakshadweep\", \"land\", \"land\", \"land\", \"land\", \"land\", \"land\", \"lantern\", \"law\", \"law\", \"law\", \"law\", \"law\", \"lecture\", \"letter\", \"letter\", \"letter\", \"letter\", \"letter\", \"letter\", \"light\", \"light\", \"light\", \"light\", \"lion\", \"lion\", \"lioness\", \"listener\", \"listener\", \"lokmanya\", \"lokmanya\", \"lopn\", \"mahatma\", \"mahatma\", \"mahatma\", \"mahatma\", \"mahotsav\", \"malaria\", \"mallakhambh\", \"mallamma\", \"man\", \"man\", \"man\", \"man\", \"man\", \"man\", \"mandela\", \"mandela\", \"mandela\", \"manya\", \"mariyappan\", \"mark\", \"mark\", \"mark\", \"mark\", \"medium\", \"medium\", \"medium\", \"medium\", \"medium\", \"medium\", \"medium\", \"menace\", \"menace\", \"menace\", \"menace\", \"metropolitan\", \"mhatre\", \"mind\", \"mind\", \"mind\", \"mind\", \"mind\", \"mind\", \"modernization\", \"money\", \"money\", \"money\", \"money\", \"money\", \"money\", \"monthly\", \"moonlight\", \"mother\", \"mother\", \"mother\", \"mother\", \"mother\", \"mother\", \"movement\", \"movement\", \"movement\", \"movement\", \"movement\", \"movement\", \"mudra\", \"mudra\", \"mudra\", \"mukherjee\", \"murari\", \"museum\", \"museum\", \"nanak\", \"nanak\", \"nelson\", \"nelson\", \"nelson\", \"nervous\", \"news\", \"news\", \"news\", \"news\", \"news\", \"news\", \"nivedita\", \"noor\", \"notemay\", \"novel\", \"novel\", \"oaxaca\", \"obama\", \"obama\", \"obesity\", \"occasion\", \"occasion\", \"occasion\", \"occasion\", \"occasion\", \"occasion\", \"occasion\", \"october\", \"october\", \"october\", \"october\", \"october\", \"offspring\", \"old\", \"old\", \"old\", \"old\", \"old\", \"old\", \"olympic\", \"olympic\", \"olympic\", \"olympic\", \"omprakash\", \"operation\", \"operation\", \"operation\", \"opportunity\", \"opportunity\", \"opportunity\", \"opportunity\", \"opportunity\", \"opportunity\", \"ordinance\", \"ordinance\", \"ordinance\", \"ordinance\", \"organ\", \"organ\", \"organ\", \"organ\", \"organisation\", \"organisation\", \"ownership\", \"padhao\", \"padhao\", \"padhao\", \"padhao\", \"panchami\", \"panchayati\", \"panchayati\", \"paper\", \"paper\", \"paper\", \"paper\", \"paper\", \"paper\", \"parent\", \"parent\", \"parent\", \"parent\", \"parent\", \"parent\", \"parliamentarian\", \"passer\", \"patel\", \"patel\", \"patel\", \"patel\", \"pauri\", \"pawan\", \"peace\", \"peace\", \"peace\", \"peace\", \"pencil\", \"person\", \"person\", \"person\", \"person\", \"person\", \"person\", \"plant\", \"plant\", \"plant\", \"plant\", \"plant\", \"pon\", \"pooja\", \"poor\", \"poor\", \"poor\", \"poor\", \"poor\", \"poor\", \"poor\", \"positive\", \"positive\", \"positive\", \"positive\", \"positive\", \"positive\", \"power\", \"power\", \"power\", \"power\", \"power\", \"power\", \"ppp\", \"prasad\", \"prasad\", \"pregnant\", \"pregnant\", \"prescription\", \"pressure\", \"pressure\", \"pressure\", \"pressure\", \"pressure\", \"private\", \"private\", \"private\", \"problem\", \"problem\", \"problem\", \"problem\", \"problem\", \"problem\", \"procedure\", \"procedure\", \"procedure\", \"product\", \"product\", \"product\", \"product\", \"program\", \"program\", \"program\", \"program\", \"program\", \"program\", \"programme\", \"programme\", \"programme\", \"programme\", \"programme\", \"programme\", \"project\", \"project\", \"project\", \"project\", \"project\", \"proper\", \"proper\", \"proper\", \"proper\", \"purchase\", \"purse\", \"question\", \"question\", \"question\", \"question\", \"question\", \"question\", \"railway\", \"railway\", \"railway\", \"railway\", \"railway\", \"random\", \"relaxed\", \"research\", \"research\", \"research\", \"research\", \"residence\", \"residence\", \"responsibility\", \"responsibility\", \"responsibility\", \"responsibility\", \"responsibility\", \"result\", \"result\", \"result\", \"result\", \"result\", \"revolution\", \"revolution\", \"richa\", \"right\", \"right\", \"right\", \"right\", \"right\", \"right\", \"rio\", \"rio\", \"rio\", \"rio\", \"road\", \"road\", \"road\", \"road\", \"role\", \"role\", \"role\", \"role\", \"role\", \"role\", \"route\", \"route\", \"route\", \"route\", \"ruwala\", \"saarc\", \"sachin\", \"sapling\", \"sapling\", \"sardar\", \"sardar\", \"sardar\", \"satyagraha\", \"scheme\", \"scheme\", \"scheme\", \"scheme\", \"scheme\", \"school\", \"school\", \"school\", \"school\", \"school\", \"school\", \"science\", \"science\", \"science\", \"science\", \"science\", \"science\", \"score\", \"score\", \"score\", \"scout\", \"sea\", \"sea\", \"sea\", \"sea\", \"section\", \"section\", \"security\", \"security\", \"security\", \"security\", \"security\", \"security\", \"service\", \"service\", \"service\", \"service\", \"service\", \"service\", \"shake\", \"sharing\", \"sharing\", \"sharing\", \"sharing\", \"sheep\", \"shilpi\", \"sia\", \"sikari\", \"sikh\", \"similar\", \"similar\", \"similar\", \"similar\", \"similar\", \"sister\", \"sister\", \"sister\", \"sister\", \"sister\", \"sister\", \"sleep\", \"sleep\", \"sleep\", \"sleep\", \"slog\", \"sm\", \"small\", \"small\", \"small\", \"small\", \"small\", \"small\", \"social\", \"social\", \"social\", \"social\", \"social\", \"social\", \"society\", \"society\", \"society\", \"society\", \"society\", \"society\", \"soldier\", \"soldier\", \"soldier\", \"soldier\", \"soldier\", \"soldier\", \"sonal\", \"special\", \"special\", \"special\", \"special\", \"special\", \"special\", \"spirit\", \"spirit\", \"spirit\", \"spirit\", \"spirit\", \"spirit\", \"state\", \"state\", \"state\", \"state\", \"state\", \"state\", \"station\", \"station\", \"station\", \"station\", \"station\", \"story\", \"story\", \"story\", \"story\", \"story\", \"strength\", \"strength\", \"strength\", \"strength\", \"strength\", \"strength\", \"strength\", \"stress\", \"stress\", \"stress\", \"stress\", \"student\", \"student\", \"student\", \"student\", \"student\", \"student\", \"stump\", \"subsidy\", \"subsidy\", \"subsidy\", \"subsidy\", \"subsidy\", \"success\", \"success\", \"success\", \"success\", \"success\", \"successful\", \"successful\", \"successful\", \"successful\", \"successful\", \"successful\", \"sufi\", \"suggestion\", \"suggestion\", \"suggestion\", \"suggestion\", \"suggestion\", \"suggestion\", \"suggestion\", \"supporter\", \"swami\", \"swami\", \"swami\", \"tablet\", \"tain\", \"talk\", \"talk\", \"talk\", \"talk\", \"talk\", \"talk\", \"tapism\", \"taxable\", \"taxpayer\", \"teacher\", \"teacher\", \"teacher\", \"teacher\", \"teacher\", \"team\", \"team\", \"team\", \"team\", \"team\", \"team\", \"technology\", \"technology\", \"technology\", \"technology\", \"technology\", \"technology\", \"tendulkar\", \"tense\", \"tense\", \"test\", \"test\", \"test\", \"test\", \"thank\", \"thank\", \"thank\", \"thank\", \"thank\", \"thank\", \"theatre\", \"thing\", \"thing\", \"thing\", \"thing\", \"thing\", \"thing\", \"thought\", \"thought\", \"thought\", \"thought\", \"thought\", \"thought\", \"thought\", \"tie\", \"tilak\", \"tilakji\", \"time\", \"time\", \"time\", \"time\", \"time\", \"time\", \"timeframe\", \"tissau\", \"ton\", \"tourism\", \"tourism\", \"tower\", \"toy\", \"toy\", \"transfer\", \"transplant\", \"trap\", \"trap\", \"traveller\", \"tree\", \"tree\", \"tree\", \"tree\", \"tree\", \"tree\", \"trivial\", \"trust\", \"trust\", \"trust\", \"trust\", \"trust\", \"trust\", \"truth\", \"truth\", \"truth\", \"tsunami\", \"tyakten\", \"undisciplined\", \"undisclosed\", \"unfair\", \"unfair\", \"unhappy\", \"unity\", \"unity\", \"unity\", \"unity\", \"utsav\", \"vaccination\", \"vaccine\", \"vallabhbhai\", \"valmiki\", \"van\", \"varma\", \"vasant\", \"vasant\", \"vertical\", \"vijay\", \"vijay\", \"vijay\", \"vijay\", \"vijay\", \"village\", \"village\", \"village\", \"village\", \"village\", \"village\", \"villager\", \"villager\", \"villager\", \"villager\", \"villager\", \"vivekananda\", \"vivekananda\", \"vivekananda\", \"vivekananda\", \"vow\", \"vow\", \"waste\", \"waste\", \"waste\", \"waste\", \"waste\", \"water\", \"water\", \"water\", \"water\", \"water\", \"water\", \"white\", \"white\", \"woman\", \"woman\", \"woman\", \"woman\", \"woman\", \"woman\", \"work\", \"work\", \"work\", \"work\", \"work\", \"work\", \"yamuna\", \"yash\", \"year\", \"year\", \"year\", \"year\", \"year\", \"year\", \"yeswecan\", \"yoga\", \"yoga\", \"yoga\", \"yoga\", \"yoga\", \"yoga\", \"yojana\", \"yojana\", \"yojana\", \"yojana\", \"young\", \"young\", \"young\", \"young\", \"young\", \"young\", \"youth\", \"youth\", \"youth\", \"youth\", \"youth\", \"youth\"]}, \"R\": 30, \"lambda.step\": 0.01, \"plot.opts\": {\"xlab\": \"PC1\", \"ylab\": \"PC2\"}, \"topic.order\": [9, 7, 4, 6, 3, 5, 2, 1, 8]};\n",
       "\n",
       "function LDAvis_load_lib(url, callback){\n",
       "  var s = document.createElement('script');\n",
       "  s.src = url;\n",
       "  s.async = true;\n",
       "  s.onreadystatechange = s.onload = callback;\n",
       "  s.onerror = function(){console.warn(\"failed to load library \" + url);};\n",
       "  document.getElementsByTagName(\"head\")[0].appendChild(s);\n",
       "}\n",
       "\n",
       "if(typeof(LDAvis) !== \"undefined\"){\n",
       "   // already loaded: just create the visualization\n",
       "   !function(LDAvis){\n",
       "       new LDAvis(\"#\" + \"ldavis_el2848028416884208646016622152\", ldavis_el2848028416884208646016622152_data);\n",
       "   }(LDAvis);\n",
       "}else if(typeof define === \"function\" && define.amd){\n",
       "   // require.js is available: use it to load d3/LDAvis\n",
       "   require.config({paths: {d3: \"https://d3js.org/d3.v5\"}});\n",
       "   require([\"d3\"], function(d3){\n",
       "      window.d3 = d3;\n",
       "      LDAvis_load_lib(\"https://cdn.jsdelivr.net/gh/bmabey/pyLDAvis@3.3.1/pyLDAvis/js/ldavis.v3.0.0.js\", function(){\n",
       "        new LDAvis(\"#\" + \"ldavis_el2848028416884208646016622152\", ldavis_el2848028416884208646016622152_data);\n",
       "      });\n",
       "    });\n",
       "}else{\n",
       "    // require.js not available: dynamically load d3 & LDAvis\n",
       "    LDAvis_load_lib(\"https://d3js.org/d3.v5.js\", function(){\n",
       "         LDAvis_load_lib(\"https://cdn.jsdelivr.net/gh/bmabey/pyLDAvis@3.3.1/pyLDAvis/js/ldavis.v3.0.0.js\", function(){\n",
       "                 new LDAvis(\"#\" + \"ldavis_el2848028416884208646016622152\", ldavis_el2848028416884208646016622152_data);\n",
       "            })\n",
       "         });\n",
       "}\n",
       "</script>"
      ],
      "text/plain": [
       "PreparedData(topic_coordinates=              x         y  topics  cluster       Freq\n",
       "topic                                                \n",
       "8     -0.129588 -0.055988       1        1  42.280606\n",
       "6     -0.174510  0.086026       2        1  40.590508\n",
       "3     -0.009417 -0.031448       3        1   5.604954\n",
       "5      0.008033 -0.076556       4        1   4.933430\n",
       "2      0.013669 -0.020760       5        1   3.836872\n",
       "4      0.037554  0.009323       6        1   2.301088\n",
       "1      0.079610  0.030461       7        1   0.430507\n",
       "0      0.065258  0.019559       8        1   0.011289\n",
       "7      0.109391  0.039382       9        1   0.010746, topic_info=        Term        Freq       Total Category  logprob  loglift\n",
       "74    farmer  376.000000  376.000000  Default  30.0000  30.0000\n",
       "242  village  316.000000  316.000000  Default  29.0000  29.0000\n",
       "247    water  253.000000  253.000000  Default  28.0000  28.0000\n",
       "27     child  264.000000  264.000000  Default  27.0000  27.0000\n",
       "835     yoga  200.000000  200.000000  Default  26.0000  26.0000\n",
       "..       ...         ...         ...      ...      ...      ...\n",
       "521     work    0.002905  277.439174   Topic9  -7.9444  -2.3287\n",
       "202    small    0.002561  149.073112   Topic9  -8.0702  -1.8333\n",
       "216  student    0.002657  193.936476   Topic9  -8.0336  -2.0598\n",
       "835     yoga    0.002660  200.617808   Topic9  -8.0325  -2.0926\n",
       "525    young    0.002606  282.172657   Topic9  -8.0529  -2.4541\n",
       "\n",
       "[656 rows x 6 columns], token_table=      Topic      Freq     Term\n",
       "term                          \n",
       "4334      3  0.499946  aashish\n",
       "255       1  0.523877     able\n",
       "255       2  0.248620     able\n",
       "255       3  0.035517     able\n",
       "255       4  0.124310     able\n",
       "...     ...       ...      ...\n",
       "253       2  0.406078    youth\n",
       "253       3  0.024761    youth\n",
       "253       4  0.019809    youth\n",
       "253       5  0.029713    youth\n",
       "253       6  0.014857    youth\n",
       "\n",
       "[1254 rows x 3 columns], R=30, lambda_step=0.01, plot_opts={'xlab': 'PC1', 'ylab': 'PC2'}, topic_order=[9, 7, 4, 6, 3, 5, 2, 1, 8])"
      ]
     },
     "execution_count": 84,
     "metadata": {},
     "output_type": "execute_result"
    }
   ],
   "source": [
    "pyLDAvis.enable_notebook()\n",
    "LDAvis2 = gensimvis.prepare(lda_model2, corpus, id2word)\n",
    "pyLDAvis.save_html(LDAvis2, 'HTML/gensim_lda2_viz.html')\n",
    "LDAvis2"
   ]
  },
  {
   "cell_type": "code",
   "execution_count": 85,
   "metadata": {},
   "outputs": [
    {
     "name": "stdout",
     "output_type": "stream",
     "text": [
      "\n",
      "Perplexity for k = 10 :  -8.340231178770352\n",
      "\n",
      "Coherence Score for k = 10 :  0.29624089791383784\n"
     ]
    }
   ],
   "source": [
    "print('\\nPerplexity for k = 10 : ', lda_model2.log_perplexity(corpus,total_docs=74))  # a measure of how good the model is. lower the better.\n",
    "\n",
    "# Compute Coherence Score\n",
    "from gensim.models.coherencemodel import CoherenceModel\n",
    "coherence_model_lda2 = CoherenceModel(model=lda_model2, texts=data_lemma, dictionary=id2word , coherence='c_v')\n",
    "coherence_lda2 = coherence_model_lda2.get_coherence()\n",
    "print('\\nCoherence Score for k = 10 : ', coherence_lda2)"
   ]
  },
  {
   "cell_type": "markdown",
   "metadata": {},
   "source": [
    "### Finding optimal no of topics"
   ]
  },
  {
   "cell_type": "code",
   "execution_count": null,
   "metadata": {},
   "outputs": [],
   "source": [
    "# def compute_coherence_values(dictionary, corpus, texts, limit, start=2, step=3):\n",
    "#     coherence_values = []\n",
    "#     model_list = []\n",
    "#     for num_topics in range(start, limit, step):\n",
    "#         model = gensim.models.ldamodel.LdaModel(corpus=corpus, num_topics=num_topics, id2word=dictionary)\n",
    "#         model_list.append(model)\n",
    "#         coherencemodel = CoherenceModel(model=model, texts=texts, dictionary=dictionary, coherence='c_v')\n",
    "#         coherence_values.append(coherencemodel.get_coherence())\n",
    "\n",
    "#     return model_list, coherence_values\n",
    "\n",
    "coherence = []\n",
    "for k in range(2,16):\n",
    "    print('Round: '+str(k))\n",
    "    Lda = gensim.models.ldamodel.LdaModel\n",
    "    sample_ldamodel = Lda(corpus, num_topics=k, id2word = id2word, passes=50,\\\n",
    "                   iterations=100, chunksize = 5)\n",
    "    \n",
    "    cm = gensim.models.coherencemodel.CoherenceModel(model=sample_ldamodel, texts=data_lemma,\\\n",
    "                                                     dictionary=id2word, coherence='c_v')\n",
    "    coherence.append((k,cm.get_coherence()))"
   ]
  },
  {
   "cell_type": "code",
   "execution_count": null,
   "metadata": {},
   "outputs": [],
   "source": [
    "# model_list, coherence_values = compute_coherence_values(dictionary=id2word, corpus=corpus, texts=data_lemma, start=2, limit=16, step=1)\n",
    "\n",
    "# limit = 16\n",
    "# start = 2\n",
    "# step = 1\n",
    "# x = range(start, limit, step)\n",
    "\n",
    "x = [x[0] for x in coherence]\n",
    "y = [x[1] for x in coherence]\n",
    "\n",
    "plt.figure(figsize=(12, 6))\n",
    "plt.plot(x, y)\n",
    "plt.scatter(x, y)\n",
    "plt.title('Gensim LDA - Number of Topics vs. Coherence')\n",
    "plt.xlabel(\"Num Topics\")\n",
    "plt.ylabel(\"Coherence score\")\n",
    "plt.savefig('Images/gensim_topics.png')\n",
    "plt.show()"
   ]
  },
  {
   "cell_type": "markdown",
   "metadata": {},
   "source": [
    "### Optimal topics model"
   ]
  },
  {
   "cell_type": "code",
   "execution_count": null,
   "metadata": {},
   "outputs": [],
   "source": [
    "optimal_lda_model = gensim.models.LdaMulticore(corpus = corpus,\n",
    "                                       id2word = id2word,\n",
    "                                       num_topics = 9,\n",
    "                                       chunksize = 5,\n",
    "                                       passes = 50,\n",
    "                                       iterations=100,\n",
    "                                       per_word_topics=True,\n",
    "                                       minimum_probability = 0)\n",
    "optimal_lda_model.print_topics()"
   ]
  },
  {
   "cell_type": "code",
   "execution_count": null,
   "metadata": {},
   "outputs": [],
   "source": [
    "pyLDAvis.enable_notebook()\n",
    "optimal_LDAvis = gensimvis.prepare(optimal_lda_model, corpus, id2word)\n",
    "pyLDAvis.save_html(optimal_LDAvis, 'HTML/gensim_lda2_viz.html')\n",
    "optimal_LDAvis"
   ]
  },
  {
   "cell_type": "code",
   "execution_count": null,
   "metadata": {},
   "outputs": [],
   "source": [
    "print('\\nPerplexity: ', optimal_lda_model.log_perplexity(corpus, total_docs=74))  # a measure of how good the model is. lower the better.\n",
    "\n",
    "# Compute Coherence Score\n",
    "from gensim.models.coherencemodel import CoherenceModel\n",
    "optimal_coherence_model_lda = CoherenceModel(model=optimal_lda_model, texts=data_lemma, dictionary=id2word , coherence='c_v')\n",
    "optimal_coherence_lda = optimal_coherence_model_lda.get_coherence()\n",
    "print('\\nCoherence Score: ', optimal_coherence_lda)"
   ]
  },
  {
   "cell_type": "markdown",
   "metadata": {},
   "source": [
    "# Mallet LDA Model\n",
    "---"
   ]
  },
  {
   "cell_type": "code",
   "execution_count": 117,
   "metadata": {},
   "outputs": [
    {
     "name": "stdout",
     "output_type": "stream",
     "text": [
      "[(0,\n",
      "  [('yoga', 0.015349194167306216),\n",
      "   ('cleanliness', 0.012279355333844973),\n",
      "   ('programme', 0.00990023023791251),\n",
      "   ('youth', 0.009363008442056791),\n",
      "   ('year', 0.008825786646201074),\n",
      "   ('letter', 0.008058326937835763),\n",
      "   ('experience', 0.00782808902532617),\n",
      "   ('man', 0.00782808902532617),\n",
      "   ('power', 0.007674597083653108),\n",
      "   ('city', 0.007674597083653108)]),\n",
      " (1,\n",
      "  [('farmer', 0.03706369197553076),\n",
      "   ('village', 0.018591819599376273),\n",
      "   ('land', 0.014513614009835672),\n",
      "   ('story', 0.012714405661508936),\n",
      "   ('year', 0.012114669545400024),\n",
      "   ('effort', 0.011275038982847548),\n",
      "   ('sister', 0.0109151973131822),\n",
      "   ('field', 0.010555355643516853),\n",
      "   ('brother', 0.00995561952740794),\n",
      "   ('work', 0.00947583063452081)]),\n",
      " (2,\n",
      "  [('woman', 0.01578728707935189),\n",
      "   ('game', 0.013502285002077275),\n",
      "   ('young', 0.009347735770668882),\n",
      "   ('youth', 0.008724553385957623),\n",
      "   ('society', 0.008309098462816784),\n",
      "   ('school', 0.008101371001246365),\n",
      "   ('fit', 0.006439551308683008),\n",
      "   ('mission', 0.006439551308683008),\n",
      "   ('fact', 0.006024096385542169),\n",
      "   ('story', 0.005608641462401329)]),\n",
      " (3,\n",
      "  [('child', 0.021564885496183205),\n",
      "   ('exam', 0.017366412213740457),\n",
      "   ('family', 0.016507633587786258),\n",
      "   ('student', 0.014980916030534351),\n",
      "   ('thing', 0.013931297709923664),\n",
      "   ('mind', 0.012881679389312978),\n",
      "   ('question', 0.012022900763358779),\n",
      "   ('parent', 0.00935114503816794),\n",
      "   ('success', 0.00849236641221374),\n",
      "   ('teacher', 0.008396946564885497)]),\n",
      " (4,\n",
      "  [('festival', 0.01893050724051452),\n",
      "   ('gandhi', 0.010840546881320282),\n",
      "   ('unity', 0.009707952431033088),\n",
      "   ('movement', 0.009060755602297549),\n",
      "   ('force', 0.00873715718792978),\n",
      "   ('daughter', 0.008656257584337837),\n",
      "   ('birth', 0.008575357980745895),\n",
      "   ('young', 0.008575357980745895),\n",
      "   ('october', 0.008170859962786183),\n",
      "   ('soldier', 0.00808996035919424)]),\n",
      " (5,\n",
      "  [('water', 0.03623525039487132),\n",
      "   ('village', 0.01579485273622596),\n",
      "   ('crore', 0.011985505899842052),\n",
      "   ('poor', 0.011520951407600111),\n",
      "   ('small', 0.01114930781380656),\n",
      "   ('state', 0.010313109727771068),\n",
      "   ('money', 0.00975564433708074),\n",
      "   ('work', 0.008454891758803307),\n",
      "   ('brother', 0.008176159063458144),\n",
      "   ('day', 0.007804515469664592)]),\n",
      " (6,\n",
      "  [('corona', 0.014529167577015513),\n",
      "   ('family', 0.012781297793314397),\n",
      "   ('service', 0.011688879178501201),\n",
      "   ('day', 0.010814944286650644),\n",
      "   ('doctor', 0.00928555822591217),\n",
      "   ('local', 0.00917631636443085),\n",
      "   ('home', 0.008520865195542932),\n",
      "   ('health', 0.007865414026655014),\n",
      "   ('crisis', 0.006991479134804457),\n",
      "   ('time', 0.006882237273323138)])]\n"
     ]
    }
   ],
   "source": [
    "lda_mallet = gensim.models.wrappers.LdaMallet(\n",
    "    mallet_path, corpus = corpus, num_topics = 7, id2word = id2word)\n",
    "pprint(lda_mallet.show_topics(formatted=False))"
   ]
  },
  {
   "cell_type": "code",
   "execution_count": 118,
   "metadata": {},
   "outputs": [
    {
     "data": {
      "text/html": [
       "\n",
       "<link rel=\"stylesheet\" type=\"text/css\" href=\"https://cdn.jsdelivr.net/gh/bmabey/pyLDAvis@3.3.1/pyLDAvis/js/ldavis.v1.0.0.css\">\n",
       "\n",
       "\n",
       "<div id=\"ldavis_el2848028416805674242414186645\"></div>\n",
       "<script type=\"text/javascript\">\n",
       "\n",
       "var ldavis_el2848028416805674242414186645_data = {\"mdsDat\": {\"x\": [-0.024889987067248993, -0.10629529226887306, 0.25254418463232287, -0.049955262284254655, -0.12147930927331932, -0.21460912318520975, 0.26468478944658286], \"y\": [-0.024287238721820793, 0.012700192076241878, -0.037805357906947216, -0.21166602134527512, 0.3621954288419861, -0.1470659823436435, 0.04592897939945898], \"topics\": [1, 2, 3, 4, 5, 6, 7], \"cluster\": [1, 1, 1, 1, 1, 1, 1], \"Freq\": [17.50118011434677, 16.628305645042, 14.59259592600635, 14.24439925817656, 13.112302420242447, 12.541556326406134, 11.379660309779743]}, \"tinfo\": {\"Term\": [\"water\", \"farmer\", \"village\", \"child\", \"exam\", \"family\", \"festival\", \"thing\", \"corona\", \"yoga\", \"poor\", \"land\", \"student\", \"cleanliness\", \"mind\", \"game\", \"service\", \"question\", \"gandhi\", \"woman\", \"brother\", \"crore\", \"story\", \"state\", \"youth\", \"field\", \"money\", \"sister\", \"programme\", \"unity\", \"adult\", \"access\", \"climb\", \"dirty\", \"excitement\", \"hrd\", \"indifferent\", \"penny\", \"scholarship\", \"bullet\", \"divinity\", \"intensity\", \"motherland\", \"regional\", \"restriction\", \"rid\", \"spell\", \"trigger\", \"boundary\", \"diplomat\", \"excited\", \"incredible\", \"oneness\", \"politic\", \"religion\", \"reminder\", \"roti\", \"husband\", \"assembly\", \"clothing\", \"waste\", \"habit\", \"common\", \"gold\", \"episode\", \"view\", \"discussion\", \"radio\", \"department\", \"constitution\", \"plan\", \"feeling\", \"connect\", \"travel\", \"talent\", \"satellite\", \"congratulate\", \"kid\", \"channel\", \"station\", \"meeting\", \"narendra\", \"chief\", \"connected\", \"mass\", \"narendramodiapp\", \"effective\", \"drug\", \"comment\", \"subsidy\", \"public\", \"democracy\", \"city\", \"programme\", \"yoga\", \"participation\", \"nation\", \"cleanliness\", \"letter\", \"idea\", \"clean\", \"organization\", \"power\", \"request\", \"girl\", \"country\", \"man\", \"youth\", \"medium\", \"experience\", \"state\", \"information\", \"generation\", \"year\", \"citizen\", \"campaign\", \"effort\", \"social\", \"society\", \"person\", \"day\", \"thing\", \"special\", \"adapt\", \"awakened\", \"clothe\", \"contented\", \"corporation\", \"council\", \"ego\", \"esteem\", \"evil\", \"fabric\", \"gandhi\", \"ganesh\", \"holy\", \"inspiring\", \"lamp\", \"mahatma\", \"municipal\", \"nominating\", \"october\", \"odd\", \"olympic\", \"outcome\", \"registration\", \"reply\", \"soul\", \"article\", \"concrete\", \"environ\", \"event\", \"fetch\", \"force\", \"sardar\", \"sense\", \"brave\", \"patel\", \"august\", \"million\", \"personality\", \"army\", \"pradhan\", \"jawan\", \"transformation\", \"british\", \"festivity\", \"hockey\", \"armed\", \"flood\", \"fort\", \"pleasant\", \"homage\", \"saint\", \"unity\", \"bapu\", \"soldier\", \"freedom\", \"birth\", \"festival\", \"nanak\", \"movement\", \"daughter\", \"peace\", \"community\", \"khadi\", \"poor\", \"resolve\", \"tradition\", \"young\", \"service\", \"society\", \"nature\", \"anniversary\", \"day\", \"man\", \"occasion\", \"home\", \"family\", \"social\", \"cleanliness\", \"water\", \"black\", \"businessman\", \"estimate\", \"facility\", \"madhya\", \"cartoon\", \"card\", \"kisan\", \"low\", \"procedure\", \"storage\", \"working\", \"note\", \"summer\", \"australia\", \"dhan\", \"massive\", \"bihari\", \"chhattisgarh\", \"compliment\", \"mainstream\", \"sum\", \"privileged\", \"business\", \"climate\", \"credit\", \"mudra\", \"objective\", \"organic\", \"money\", \"rupee\", \"bank\", \"mobile\", \"rain\", \"ministry\", \"scheme\", \"digital\", \"difficulty\", \"ambedkar\", \"yojana\", \"april\", \"payment\", \"central\", \"sportsperson\", \"party\", \"drop\", \"corruption\", \"trader\", \"plant\", \"ready\", \"baba\", \"welfare\", \"economy\", \"crore\", \"season\", \"small\", \"solution\", \"village\", \"poor\", \"account\", \"state\", \"education\", \"technology\", \"brother\", \"benefit\", \"lakh\", \"importance\", \"task\", \"work\", \"campaign\", \"day\", \"aware\", \"young\", \"opportunity\", \"sister\", \"farmer\", \"citizen\", \"advice\", \"athen\", \"bag\", \"confirm\", \"curtain\", \"emphasize\", \"guidance\", \"hopeless\", \"khaadi\", \"lioness\", \"listen\", \"mail\", \"moral\", \"nominate\", \"pal\", \"prey\", \"sheep\", \"sheet\", \"stake\", \"telling\", \"understand\", \"unite\", \"vivekananda\", \"vow\", \"ashamed\", \"chair\", \"chocolate\", \"democratic\", \"expectation\", \"faith\", \"exam\", \"question\", \"parent\", \"examination\", \"mark\", \"test\", \"support\", \"mr\", \"goal\", \"thinking\", \"conversation\", \"sleep\", \"barack\", \"tomorrow\", \"stress\", \"wrong\", \"failure\", \"target\", \"answer\", \"grateful\", \"policy\", \"boy\", \"pressure\", \"focus\", \"play\", \"response\", \"measure\", \"mind\", \"success\", \"thought\", \"god\", \"body\", \"child\", \"student\", \"topic\", \"thing\", \"result\", \"confidence\", \"reason\", \"future\", \"family\", \"teacher\", \"problem\", \"talk\", \"word\", \"important\", \"hand\", \"matter\", \"strength\", \"experience\", \"mother\", \"science\", \"heart\", \"opportunity\", \"young\", \"craft\", \"meter\", \"participant\", \"plastic\", \"regular\", \"winner\", \"carpet\", \"double\", \"garbage\", \"obvious\", \"prestigious\", \"tour\", \"awe\", \"bleak\", \"contagious\", \"fulfillment\", \"honour\", \"kinship\", \"mandela\", \"nelson\", \"spiritual\", \"weapon\", \"wisdom\", \"considerable\", \"hum\", \"jhunjunu\", \"republic\", \"sanskrit\", \"confuse\", \"dip\", \"fit\", \"space\", \"temple\", \"award\", \"statue\", \"kumbh\", \"south\", \"stone\", \"memory\", \"kashmir\", \"endeavour\", \"management\", \"ncc\", \"camp\", \"memorial\", \"voter\", \"painting\", \"jai\", \"compassion\", \"padma\", \"solar\", \"site\", \"khan\", \"beauty\", \"emphasis\", \"game\", \"buddha\", \"woman\", \"century\", \"decade\", \"river\", \"dedicated\", \"mission\", \"school\", \"singh\", \"source\", \"youth\", \"language\", \"culture\", \"society\", \"young\", \"high\", \"fact\", \"interesting\", \"path\", \"place\", \"visit\", \"age\", \"story\", \"area\", \"good\", \"sport\", \"year\", \"meet\", \"product\", \"video\", \"facilitate\", \"careless\", \"continuous\", \"medical\", \"police\", \"alert\", \"decision\", \"hut\", \"namaste\", \"notion\", \"virus\", \"multiple\", \"ongoing\", \"feature\", \"ayush\", \"patient\", \"heavy\", \"kargil\", \"selfless\", \"treatment\", \"pace\", \"scared\", \"essential\", \"perfect\", \"underprivileged\", \"narrated\", \"artisan\", \"corona\", \"doctor\", \"crisis\", \"fight\", \"battle\", \"shriman\", \"medicine\", \"mask\", \"daily\", \"basis\", \"border\", \"percent\", \"ayushman\", \"distance\", \"childhood\", \"bengal\", \"eastern\", \"extent\", \"train\", \"calamity\", \"deed\", \"perseverance\", \"hospital\", \"pandemic\", \"local\", \"son\", \"beneficiary\", \"innovation\", \"service\", \"health\", \"home\", \"challenge\", \"situation\", \"family\", \"day\", \"hand\", \"time\", \"face\", \"sector\", \"social\", \"heart\", \"namaskar\", \"person\", \"spirit\", \"free\", \"yoga\", \"medium\", \"market\", \"sahib\", \"library\", \"company\", \"recommendation\", \"road\", \"specific\", \"addressmann\", \"assure\", \"fund\", \"industrialist\", \"influence\", \"interact\", \"mustering\", \"siachin\", \"threat\", \"grim\", \"legal\", \"passion\", \"toll\", \"workable\", \"dr\", \"king\", \"millet\", \"thoreau\", \"land\", \"abuse\", \"acquisition\", \"act\", \"agency\", \"vegetable\", \"toy\", \"safety\", \"farming\", \"disaster\", \"agricultural\", \"cost\", \"price\", \"project\", \"farm\", \"listener\", \"prasad\", \"construction\", \"bhagat\", \"nutrition\", \"engineer\", \"alumnus\", \"vaccine\", \"produce\", \"colour\", \"agriculture\", \"farmer\", \"period\", \"law\", \"field\", \"story\", \"website\", \"village\", \"sister\", \"light\", \"brother\", \"effort\", \"year\", \"important\", \"work\", \"house\", \"opportunity\", \"guru\", \"district\", \"time\", \"child\", \"development\", \"area\", \"festival\", \"life\", \"student\"], \"Freq\": [403.0, 387.0, 351.0, 321.0, 188.0, 372.0, 327.0, 222.0, 138.0, 269.0, 229.0, 125.0, 223.0, 228.0, 142.0, 146.0, 194.0, 130.0, 137.0, 243.0, 177.0, 160.0, 183.0, 230.0, 229.0, 140.0, 108.0, 174.0, 160.0, 129.0, 3.071074313726139, 6.142148627452278, 3.071074313726139, 6.142148627452278, 12.284297254904557, 6.142148627452278, 3.071074313726139, 3.071074313726139, 3.071074313726139, 6.142148627452278, 3.071074313726139, 6.142148627452278, 6.142148627452278, 12.284297254904557, 6.142148627452278, 6.142148627452278, 3.071074313726139, 3.071074313726139, 6.142148627452278, 3.071074313726139, 6.142148627452278, 12.284297254904557, 3.071074313726139, 12.284297254904557, 12.284297254904557, 3.071074313726139, 3.071074313726139, 12.284297254904557, 12.284297254904557, 3.071074313726139, 94.1796122876016, 82.91900647060577, 82.91900647060577, 72.68209209151864, 68.58732633988377, 66.53994346406635, 59.374103398705365, 56.30302908497922, 55.279337647070506, 48.11349758170952, 40.94765751634852, 40.94765751634852, 39.92396607843981, 38.9002746405311, 38.9002746405311, 37.876583202622385, 36.85289176471367, 34.80550888889625, 34.80550888889625, 34.80550888889625, 33.78181745098753, 32.758126013078815, 30.710743137261392, 30.710743137261392, 30.710743137261392, 30.710743137261392, 29.687051699352683, 29.687051699352683, 29.687051699352683, 28.663360261443966, 80.87162359478833, 73.70578352942734, 102.3691437908713, 132.05619549022398, 204.7382875817426, 51.18457189543565, 36.85289176471367, 163.79063006539408, 107.48760098041487, 77.8005492810622, 67.56363490197506, 57.32672052288793, 102.3691437908713, 58.35041196079665, 45.042423267983374, 81.89531503269704, 104.41652666668872, 124.89035542486299, 95.20330372551031, 104.41652666668872, 101.3454523529626, 62.445177712431494, 73.70578352942734, 117.72451535950199, 90.08484653596675, 91.10853797387547, 88.03746366014933, 79.84793215687962, 80.87162359478833, 72.68209209151864, 76.77685784315348, 71.65840065360992, 68.58732633988377, 4.1011016682874235, 3.075826251215567, 17.42968209022155, 1.0252754170718559, 17.42968209022155, 6.151652502431134, 6.151652502431134, 3.075826251215567, 16.404406673149694, 16.404406673149694, 137.38690588762867, 47.16266918530537, 43.06156751701794, 44.086842934089795, 25.631885426796394, 68.69345294381434, 16.404406673149694, 1.0252754170718559, 103.55281712425744, 10.252754170718557, 26.657160843868247, 5.1263770853592785, 5.1263770853592785, 7.17692791950299, 23.581334592652684, 7.17692791950299, 5.1263770853592785, 1.0252754170718559, 45.112118351161655, 1.0252754170718559, 110.72974504376043, 87.14841045110774, 83.04730878282032, 64.59235127552691, 64.59235127552691, 61.51652502431135, 55.364872521880216, 53.314321687736495, 53.314321687736495, 47.16266918530537, 42.03629209994608, 42.03629209994608, 36.90991501458681, 34.8593641804431, 32.80881334629939, 30.758262512155675, 28.70771167801196, 28.70771167801196, 27.682436260940108, 26.657160843868247, 25.631885426796394, 123.0330500486227, 51.26377085359279, 102.52754170718558, 91.24951211939516, 108.67919420961671, 239.91444759481425, 38.960465848730514, 114.83084671204784, 109.70446962668858, 60.49124960723949, 56.39014793895206, 65.61762669259878, 101.50226629011372, 73.81983002917362, 65.61762669259878, 108.67919420961671, 83.04730878282032, 90.22423670232331, 65.61762669259878, 65.61762669259878, 83.04730878282032, 68.69345294381434, 63.567075858455055, 63.567075858455055, 70.74400377795804, 64.59235127552691, 64.59235127552691, 403.00457449376097, 23.766936444503852, 7.233415439631607, 7.233415439631607, 59.93401364266188, 29.96700682133094, 7.233415439631607, 39.267112386571576, 14.466830879263213, 19.633556193285788, 7.233415439631607, 7.233415439631607, 14.466830879263213, 28.933661758526426, 35.13373213535352, 7.233415439631607, 23.766936444503852, 17.56686606767676, 7.233415439631607, 7.233415439631607, 7.233415439631607, 7.233415439631607, 7.233415439631607, 7.233415439631607, 47.533872889007704, 17.56686606767676, 14.466830879263213, 17.56686606767676, 14.466830879263213, 14.466830879263213, 108.5012315944741, 86.80098527557928, 86.80098527557928, 65.10073895668447, 55.800633391443824, 53.733943265834796, 44.433837700594154, 43.40049263778964, 41.33380251218061, 41.33380251218061, 36.16707719815804, 34.100387072549005, 33.06704200974449, 31.00035188413546, 31.00035188413546, 26.866971632917398, 26.866971632917398, 26.866971632917398, 26.866971632917398, 25.833626570112884, 24.80028150730837, 24.80028150730837, 35.13373213535352, 34.100387072549005, 133.3015131017825, 70.26746427070704, 124.00140753654183, 47.533872889007704, 175.66866067676762, 128.1347877877599, 50.633908077421246, 114.7013019713012, 66.13408401948898, 77.50087971033865, 90.93436552679735, 57.86732351705285, 71.30080933351155, 51.66725314022577, 53.733943265834796, 94.0344007152109, 78.53422477314315, 86.80098527557928, 52.70059820303028, 76.46753464753412, 69.23411920790252, 59.93401364266188, 66.13408401948898, 53.733943265834796, 11.395193198924646, 1.035926654447695, 7.251486581133865, 2.07185330889539, 2.07185330889539, 2.07185330889539, 8.28741323558156, 1.035926654447695, 8.28741323558156, 4.14370661779078, 21.754459743401597, 8.28741323558156, 8.28741323558156, 2.07185330889539, 2.07185330889539, 8.28741323558156, 7.251486581133865, 11.395193198924646, 4.14370661779078, 4.14370661779078, 22.790386397849293, 8.28741323558156, 14.50297316226773, 8.28741323558156, 2.07185330889539, 4.14370661779078, 1.035926654447695, 14.50297316226773, 43.508919486803194, 73.55079246578634, 188.5386511094805, 130.52675846040958, 101.52081213587412, 62.15559926686171, 52.832259376832454, 43.508919486803194, 42.4729928323555, 39.36521286901241, 39.36521286901241, 38.32928621456472, 37.293359560117025, 35.22150625122163, 33.14965294232624, 31.077799633430853, 30.041872978983157, 27.97001967008777, 27.97001967008777, 26.934093015640073, 26.934093015640073, 26.934093015640073, 25.898166361192377, 24.862239706744685, 24.862239706744685, 24.862239706744685, 24.862239706744685, 23.82631305229699, 23.82631305229699, 139.85009835043886, 92.19747224584486, 62.15559926686171, 32.11372628787855, 46.61669945014628, 234.11942390517908, 162.64048474828815, 62.15559926686171, 151.2452915493635, 69.40708584799557, 63.1915259213094, 54.90411268572784, 69.40708584799557, 179.21531121945122, 91.16154559139717, 75.62264577468174, 73.55079246578634, 65.26337923020479, 87.01783897360639, 69.40708584799557, 63.1915259213094, 71.47893915689096, 80.80227904692022, 67.33523253910018, 55.94003934017554, 66.29930588465248, 59.04781930351862, 55.94003934017554, 5.189900505095545, 8.303840808152872, 12.455761212229307, 31.13940303057327, 8.303840808152872, 14.531721414267524, 3.1139403030573267, 6.227880606114653, 37.36728363668792, 2.075960202038218, 3.1139403030573267, 7.265860707133762, 7.265860707133762, 1.037980101019109, 1.037980101019109, 5.189900505095545, 33.21536323261149, 3.1139403030573267, 14.531721414267524, 8.303840808152872, 14.531721414267524, 10.37980101019109, 13.493741313248416, 1.037980101019109, 3.1139403030573267, 1.037980101019109, 29.06344282853505, 31.13940303057327, 1.037980101019109, 3.1139403030573267, 64.35476626318476, 52.93698515197456, 48.78506474789812, 47.74708464687901, 43.595164242802575, 38.40526373770703, 36.329303535668814, 36.329303535668814, 35.291323434649705, 35.291323434649705, 34.253343333630596, 30.10142292955416, 30.10142292955416, 28.02546272751594, 28.02546272751594, 28.02546272751594, 25.949502525477723, 25.949502525477723, 24.911522424458614, 24.911522424458614, 23.873542323439505, 23.873542323439505, 21.797582121401287, 20.75960202038218, 20.75960202038218, 134.93741313248415, 26.98748262649683, 157.77297535490456, 48.78506474789812, 31.13940303057327, 55.01294535401278, 34.253343333630596, 64.35476626318476, 80.9624478794905, 47.74708464687901, 46.7091045458599, 87.19032848560515, 55.01294535401278, 49.82304484891723, 83.03840808152871, 93.4182090917198, 47.74708464687901, 60.20284585910832, 44.633144343821684, 49.82304484891723, 50.861024949936336, 46.7091045458599, 45.6711244448408, 56.05092545503188, 48.78506474789812, 50.861024949936336, 46.7091045458599, 48.78506474789812, 21.928350880970903, 51.166152055598765, 56.38718797963946, 5.221035924040691, 5.221035924040691, 10.442071848081381, 36.547251468284834, 28.19359398981973, 10.442071848081381, 17.75152214173835, 5.221035924040691, 19.839936511354622, 7.309450293656967, 19.839936511354622, 7.309450293656967, 14.618900587313934, 10.442071848081381, 7.309450293656967, 35.5030442834767, 17.75152214173835, 14.618900587313934, 14.618900587313934, 56.38718797963946, 17.75152214173835, 7.309450293656967, 20.884143696162763, 14.618900587313934, 29.23780117462787, 5.221035924040691, 14.618900587313934, 138.87955557948237, 88.75761070869176, 66.82925982772085, 52.21035924040691, 42.81249457713367, 42.81249457713367, 40.72408020751739, 37.59145865309298, 35.5030442834767, 32.37042272905229, 31.326215544244146, 31.326215544244146, 30.28200835943601, 25.060972435395318, 25.060972435395318, 25.060972435395318, 24.016765250587177, 24.016765250587177, 22.97255806577904, 22.97255806577904, 22.97255806577904, 21.928350880970903, 37.59145865309298, 34.45883709866856, 87.71340352388361, 63.69663827329643, 26.105179620203455, 52.21035924040691, 111.73016877447078, 75.18291730618596, 81.44816041503478, 49.0777376859825, 50.121944870790635, 122.17224062255217, 103.37651129600567, 61.60822390368015, 65.7850526429127, 39.679873022709245, 40.72408020751739, 57.4313951644476, 53.254566425215046, 41.768287392325526, 46.98932331636622, 44.900908946749944, 43.85670176194181, 44.900908946749944, 42.81249457713367, 40.57235866215273, 23.92728844178238, 19.76602088668979, 26.007922219328677, 5.201584443865735, 58.25774577129623, 7.282218221412029, 1.040316888773147, 10.40316888773147, 11.443485776504618, 5.201584443865735, 8.322535110185177, 11.443485776504618, 1.040316888773147, 2.080633777546294, 4.161267555092588, 1.040316888773147, 7.282218221412029, 20.80633777546294, 7.282218221412029, 1.040316888773147, 36.411091107060145, 24.967605330555525, 3.1209506663194406, 1.040316888773147, 125.87834354155078, 1.040316888773147, 12.483802665277763, 24.967605330555525, 5.201584443865735, 57.21742888252308, 57.21742888252308, 50.9755275498842, 38.49172488460644, 36.411091107060145, 34.330457329513855, 34.330457329513855, 30.169189774421266, 29.128872885648114, 28.08855599687497, 27.04823910810182, 26.007922219328677, 21.846654664236087, 20.80633777546294, 18.725703997916646, 17.685387109143498, 17.685387109143498, 17.685387109143498, 16.645070220370354, 16.645070220370354, 34.330457329513855, 321.4579186309024, 55.13679510497679, 62.41901332638882, 91.54788621203694, 110.27359020995358, 32.24982355196756, 161.2491177598378, 94.66883687835639, 55.13679510497679, 86.3463017681712, 97.78978754467582, 105.07200576608784, 76.98344976921288, 82.18503421307861, 53.0561613274305, 78.02376665798603, 45.77394310601847, 42.65299243969903, 52.01584443865735, 56.17711199374994, 44.73362621724532, 43.693309328472175, 47.85457688356476, 41.61267555092588, 41.61267555092588], \"Total\": [403.0, 387.0, 351.0, 321.0, 188.0, 372.0, 327.0, 222.0, 138.0, 269.0, 229.0, 125.0, 223.0, 228.0, 142.0, 146.0, 194.0, 130.0, 137.0, 243.0, 177.0, 160.0, 183.0, 230.0, 229.0, 140.0, 108.0, 174.0, 160.0, 129.0, 3.071074313726139, 6.142148627452278, 3.071074313726139, 6.142148627452278, 12.284297254904557, 6.142148627452278, 3.071074313726139, 3.071074313726139, 3.071074313726139, 6.142148627452278, 3.071074313726139, 6.142148627452278, 6.142148627452278, 12.284297254904557, 6.142148627452278, 6.142148627452278, 3.071074313726139, 3.071074313726139, 6.142148627452278, 3.071074313726139, 6.142148627452278, 12.284297254904557, 3.071074313726139, 12.284297254904557, 12.284297254904557, 3.071074313726139, 3.071074313726139, 12.284297254904557, 12.284297254904557, 3.071074313726139, 94.1796122876016, 82.91900647060577, 82.91900647060577, 72.68209209151864, 68.58732633988377, 66.53994346406635, 59.374103398705365, 56.30302908497922, 55.279337647070506, 48.11349758170952, 40.94765751634852, 40.94765751634852, 39.92396607843981, 38.9002746405311, 38.9002746405311, 37.876583202622385, 36.85289176471367, 34.80550888889625, 34.80550888889625, 34.80550888889625, 33.78181745098753, 32.758126013078815, 30.710743137261392, 30.710743137261392, 30.710743137261392, 30.710743137261392, 29.687051699352683, 29.687051699352683, 29.687051699352683, 28.663360261443966, 82.9600379644046, 75.75633436357104, 107.590179714912, 160.0816582177399, 269.32180296299873, 55.34583945052824, 37.87816718178552, 228.382981340921, 138.48795286455032, 95.4859363902057, 80.08245023156775, 65.68037800135303, 140.9153328199676, 68.79248380887803, 49.18612988577415, 118.8620253504927, 173.10997961050305, 229.63948033241223, 163.92718677627994, 207.14715659457985, 230.4006101632698, 91.53453848915053, 129.19220989676722, 352.96763041426607, 202.67488683255505, 219.88125818353956, 274.5698358828828, 220.56466756621427, 260.3452008774711, 169.9099108444058, 350.00166319755874, 222.9036922029734, 139.33810447148696, 4.1011016682874235, 3.075826251215567, 17.42968209022155, 1.0252754170718559, 17.42968209022155, 6.151652502431134, 6.151652502431134, 3.075826251215567, 16.404406673149694, 16.404406673149694, 137.38690588762867, 47.16266918530537, 43.06156751701794, 44.086842934089795, 25.631885426796394, 68.69345294381434, 16.404406673149694, 1.0252754170718559, 103.55281712425744, 10.252754170718557, 26.657160843868247, 5.1263770853592785, 5.1263770853592785, 7.17692791950299, 23.581334592652684, 7.17692791950299, 5.1263770853592785, 1.0252754170718559, 45.112118351161655, 1.0252754170718559, 110.72974504376043, 87.14841045110774, 83.04730878282032, 64.59235127552691, 64.59235127552691, 61.51652502431135, 55.364872521880216, 53.314321687736495, 53.314321687736495, 47.16266918530537, 42.03629209994608, 42.03629209994608, 36.90991501458681, 34.8593641804431, 32.80881334629939, 30.758262512155675, 28.70771167801196, 28.70771167801196, 27.682436260940108, 26.657160843868247, 25.631885426796394, 129.29829315747153, 53.33562416248818, 113.92273490611022, 105.81394856221922, 130.1863680305955, 327.2122683171051, 41.04109962627681, 157.0375081551278, 158.4592666286138, 81.2405843947646, 73.0253090338035, 100.42313558149502, 229.63705407787364, 127.9878348796272, 104.10935157720522, 334.50497728904617, 194.7774775572911, 260.3452008774711, 117.47921823571545, 125.29098820686394, 350.00166319755874, 173.10997961050305, 138.07430139318143, 147.0870895823852, 372.13155561996143, 220.56466756621427, 228.382981340921, 403.00457449376097, 23.766936444503852, 7.233415439631607, 7.233415439631607, 59.93401364266188, 29.96700682133094, 7.233415439631607, 39.267112386571576, 14.466830879263213, 19.633556193285788, 7.233415439631607, 7.233415439631607, 14.466830879263213, 28.933661758526426, 35.13373213535352, 7.233415439631607, 23.766936444503852, 17.56686606767676, 7.233415439631607, 7.233415439631607, 7.233415439631607, 7.233415439631607, 7.233415439631607, 7.233415439631607, 47.533872889007704, 17.56686606767676, 14.466830879263213, 17.56686606767676, 14.466830879263213, 14.466830879263213, 108.5012315944741, 86.80098527557928, 86.80098527557928, 65.10073895668447, 55.800633391443824, 53.733943265834796, 44.433837700594154, 43.40049263778964, 41.33380251218061, 41.33380251218061, 36.16707719815804, 34.100387072549005, 33.06704200974449, 31.00035188413546, 31.00035188413546, 26.866971632917398, 26.866971632917398, 26.866971632917398, 26.866971632917398, 25.833626570112884, 24.80028150730837, 24.80028150730837, 36.15900755242537, 35.14070396132215, 160.4508999067941, 79.49494302435374, 175.87099495769564, 57.90379087501031, 351.2494585673274, 229.63705407787364, 64.20860147992704, 230.4006101632698, 100.36106626806513, 129.43309641392284, 177.28066729496857, 86.57503519506481, 131.73185507185448, 74.50281536264617, 81.4163795267749, 273.9717654077155, 219.88125818353956, 350.00166319755874, 92.6245642814701, 334.50497728904617, 291.6824094538189, 174.08308344538352, 387.59200265039135, 202.67488683255505, 11.395193198924646, 1.035926654447695, 7.251486581133865, 2.07185330889539, 2.07185330889539, 2.07185330889539, 8.28741323558156, 1.035926654447695, 8.28741323558156, 4.14370661779078, 21.754459743401597, 8.28741323558156, 8.28741323558156, 2.07185330889539, 2.07185330889539, 8.28741323558156, 7.251486581133865, 11.395193198924646, 4.14370661779078, 4.14370661779078, 22.790386397849293, 8.28741323558156, 14.50297316226773, 8.28741323558156, 2.07185330889539, 4.14370661779078, 1.035926654447695, 14.50297316226773, 43.508919486803194, 73.55079246578634, 188.5386511094805, 130.52675846040958, 101.52081213587412, 62.15559926686171, 52.832259376832454, 43.508919486803194, 42.4729928323555, 39.36521286901241, 39.36521286901241, 38.32928621456472, 37.293359560117025, 35.22150625122163, 33.14965294232624, 31.077799633430853, 30.041872978983157, 27.97001967008777, 27.97001967008777, 26.934093015640073, 26.934093015640073, 26.934093015640073, 25.898166361192377, 24.862239706744685, 24.862239706744685, 24.862239706744685, 24.862239706744685, 23.82631305229699, 23.82631305229699, 142.98271990486327, 98.349124748276, 68.29774789431399, 33.1390017049504, 50.787301105589805, 321.1873207852387, 223.97478221857708, 74.43989652176626, 222.9036922029734, 88.00729697847686, 79.89884087823961, 67.30425343938202, 93.4005093223728, 372.13155561996143, 148.5769689474211, 116.01373696165005, 116.82846552264766, 108.25841962237075, 199.06239406657886, 132.05328985269483, 110.2813320651102, 150.6823448916116, 207.14715659457985, 151.955580305937, 95.38328317890168, 204.0584157639663, 291.6824094538189, 334.50497728904617, 5.189900505095545, 8.303840808152872, 12.455761212229307, 31.13940303057327, 8.303840808152872, 14.531721414267524, 3.1139403030573267, 6.227880606114653, 37.36728363668792, 2.075960202038218, 3.1139403030573267, 7.265860707133762, 7.265860707133762, 1.037980101019109, 1.037980101019109, 5.189900505095545, 33.21536323261149, 3.1139403030573267, 14.531721414267524, 8.303840808152872, 14.531721414267524, 10.37980101019109, 13.493741313248416, 1.037980101019109, 3.1139403030573267, 1.037980101019109, 29.06344282853505, 31.13940303057327, 1.037980101019109, 3.1139403030573267, 64.35476626318476, 52.93698515197456, 48.78506474789812, 47.74708464687901, 43.595164242802575, 38.40526373770703, 36.329303535668814, 36.329303535668814, 35.291323434649705, 35.291323434649705, 34.253343333630596, 30.10142292955416, 30.10142292955416, 28.02546272751594, 28.02546272751594, 28.02546272751594, 25.949502525477723, 25.949502525477723, 24.911522424458614, 24.911522424458614, 23.873542323439505, 23.873542323439505, 21.797582121401287, 20.75960202038218, 20.75960202038218, 146.3326063314088, 28.023409280944527, 243.7429880215792, 63.28803791016585, 34.27202458499769, 75.67984661010308, 40.518586442479425, 113.77779707168298, 166.38154023785603, 70.63405619988825, 70.47604099036376, 229.63948033241223, 101.07906005990486, 88.31476973352366, 260.3452008774711, 334.50497728904617, 83.74757800522971, 143.58926649979713, 72.75282270897658, 101.21731469313336, 117.83575378506916, 93.99906438860987, 87.64247339909804, 183.03183062191567, 119.62776088138187, 152.41266917214307, 146.50781476833427, 352.96763041426607, 21.928350880970903, 51.166152055598765, 56.38718797963946, 5.221035924040691, 5.221035924040691, 10.442071848081381, 36.547251468284834, 28.19359398981973, 10.442071848081381, 17.75152214173835, 5.221035924040691, 19.839936511354622, 7.309450293656967, 19.839936511354622, 7.309450293656967, 14.618900587313934, 10.442071848081381, 7.309450293656967, 35.5030442834767, 17.75152214173835, 14.618900587313934, 14.618900587313934, 56.38718797963946, 17.75152214173835, 7.309450293656967, 20.884143696162763, 14.618900587313934, 29.23780117462787, 5.221035924040691, 14.618900587313934, 138.87955557948237, 88.75761070869176, 66.82925982772085, 52.21035924040691, 42.81249457713367, 42.81249457713367, 40.72408020751739, 37.59145865309298, 35.5030442834767, 32.37042272905229, 31.326215544244146, 31.326215544244146, 30.28200835943601, 25.060972435395318, 25.060972435395318, 25.060972435395318, 24.016765250587177, 24.016765250587177, 22.97255806577904, 22.97255806577904, 22.97255806577904, 21.928350880970903, 38.61673407016483, 35.49476375311625, 97.04131931841181, 79.30139160489364, 27.145496508976603, 68.74388024527916, 194.7774775572911, 118.7225684332673, 147.0870895823852, 69.7962707749364, 72.94616999008218, 372.13155561996143, 350.00166319755874, 132.05328985269483, 188.9283454050583, 55.21877283942467, 60.35763640080317, 220.56466756621427, 204.0584157639663, 83.9846932900333, 169.9099108444058, 139.74713935919806, 132.42507119396734, 269.32180296299873, 163.92718677627994, 40.57235866215273, 23.92728844178238, 19.76602088668979, 26.007922219328677, 5.201584443865735, 58.25774577129623, 7.282218221412029, 1.040316888773147, 10.40316888773147, 11.443485776504618, 5.201584443865735, 8.322535110185177, 11.443485776504618, 1.040316888773147, 2.080633777546294, 4.161267555092588, 1.040316888773147, 7.282218221412029, 20.80633777546294, 7.282218221412029, 1.040316888773147, 36.411091107060145, 24.967605330555525, 3.1209506663194406, 1.040316888773147, 125.87834354155078, 1.040316888773147, 12.483802665277763, 24.967605330555525, 5.201584443865735, 57.21742888252308, 57.21742888252308, 50.9755275498842, 38.49172488460644, 36.411091107060145, 34.330457329513855, 34.330457329513855, 30.169189774421266, 29.128872885648114, 28.08855599687497, 27.04823910810182, 26.007922219328677, 21.846654664236087, 20.80633777546294, 18.725703997916646, 17.685387109143498, 17.685387109143498, 17.685387109143498, 16.645070220370354, 16.645070220370354, 35.354148767422565, 387.59200265039135, 70.79990287709886, 83.08591458247912, 140.11510416384917, 183.03183062191567, 38.47770415808221, 351.2494585673274, 174.08308344538352, 83.22274220011076, 177.28066729496857, 274.5698358828828, 352.96763041426607, 199.06239406657886, 273.9717654077155, 120.90701668599752, 291.6824094538189, 95.24125680441261, 96.41110564769025, 188.9283454050583, 321.1873207852387, 124.06107827987253, 119.62776088138187, 327.2122683171051, 108.11899469458945, 223.97478221857708], \"Category\": [\"Default\", \"Default\", \"Default\", \"Default\", \"Default\", \"Default\", \"Default\", \"Default\", \"Default\", \"Default\", \"Default\", \"Default\", \"Default\", \"Default\", \"Default\", \"Default\", \"Default\", \"Default\", \"Default\", \"Default\", \"Default\", \"Default\", \"Default\", \"Default\", \"Default\", \"Default\", \"Default\", \"Default\", \"Default\", \"Default\", \"Topic1\", \"Topic1\", \"Topic1\", \"Topic1\", \"Topic1\", \"Topic1\", \"Topic1\", \"Topic1\", \"Topic1\", \"Topic1\", \"Topic1\", \"Topic1\", \"Topic1\", \"Topic1\", \"Topic1\", \"Topic1\", \"Topic1\", \"Topic1\", \"Topic1\", \"Topic1\", \"Topic1\", \"Topic1\", \"Topic1\", \"Topic1\", \"Topic1\", \"Topic1\", \"Topic1\", \"Topic1\", \"Topic1\", \"Topic1\", \"Topic1\", \"Topic1\", \"Topic1\", \"Topic1\", \"Topic1\", \"Topic1\", \"Topic1\", \"Topic1\", \"Topic1\", \"Topic1\", \"Topic1\", \"Topic1\", \"Topic1\", \"Topic1\", \"Topic1\", \"Topic1\", \"Topic1\", \"Topic1\", \"Topic1\", \"Topic1\", \"Topic1\", \"Topic1\", \"Topic1\", \"Topic1\", \"Topic1\", \"Topic1\", \"Topic1\", \"Topic1\", \"Topic1\", \"Topic1\", \"Topic1\", \"Topic1\", \"Topic1\", \"Topic1\", \"Topic1\", \"Topic1\", \"Topic1\", \"Topic1\", \"Topic1\", \"Topic1\", \"Topic1\", \"Topic1\", \"Topic1\", \"Topic1\", \"Topic1\", \"Topic1\", \"Topic1\", \"Topic1\", \"Topic1\", \"Topic1\", \"Topic1\", \"Topic1\", \"Topic1\", \"Topic1\", \"Topic1\", \"Topic1\", \"Topic1\", \"Topic1\", \"Topic1\", \"Topic1\", \"Topic1\", \"Topic1\", \"Topic1\", \"Topic2\", \"Topic2\", \"Topic2\", \"Topic2\", \"Topic2\", \"Topic2\", \"Topic2\", \"Topic2\", \"Topic2\", \"Topic2\", \"Topic2\", \"Topic2\", \"Topic2\", \"Topic2\", \"Topic2\", \"Topic2\", \"Topic2\", \"Topic2\", \"Topic2\", \"Topic2\", \"Topic2\", \"Topic2\", \"Topic2\", \"Topic2\", \"Topic2\", \"Topic2\", \"Topic2\", \"Topic2\", \"Topic2\", \"Topic2\", \"Topic2\", \"Topic2\", \"Topic2\", \"Topic2\", \"Topic2\", \"Topic2\", \"Topic2\", \"Topic2\", \"Topic2\", \"Topic2\", \"Topic2\", \"Topic2\", \"Topic2\", \"Topic2\", \"Topic2\", \"Topic2\", \"Topic2\", \"Topic2\", \"Topic2\", \"Topic2\", \"Topic2\", \"Topic2\", \"Topic2\", \"Topic2\", \"Topic2\", \"Topic2\", \"Topic2\", \"Topic2\", \"Topic2\", \"Topic2\", \"Topic2\", \"Topic2\", \"Topic2\", \"Topic2\", \"Topic2\", \"Topic2\", \"Topic2\", \"Topic2\", \"Topic2\", \"Topic2\", \"Topic2\", \"Topic2\", \"Topic2\", \"Topic2\", \"Topic2\", \"Topic2\", \"Topic2\", \"Topic2\", \"Topic3\", \"Topic3\", \"Topic3\", \"Topic3\", \"Topic3\", \"Topic3\", \"Topic3\", \"Topic3\", \"Topic3\", \"Topic3\", \"Topic3\", \"Topic3\", \"Topic3\", \"Topic3\", \"Topic3\", \"Topic3\", \"Topic3\", \"Topic3\", \"Topic3\", \"Topic3\", \"Topic3\", \"Topic3\", \"Topic3\", \"Topic3\", \"Topic3\", \"Topic3\", \"Topic3\", \"Topic3\", \"Topic3\", \"Topic3\", \"Topic3\", \"Topic3\", \"Topic3\", \"Topic3\", \"Topic3\", \"Topic3\", \"Topic3\", \"Topic3\", \"Topic3\", \"Topic3\", \"Topic3\", \"Topic3\", \"Topic3\", \"Topic3\", \"Topic3\", \"Topic3\", \"Topic3\", \"Topic3\", \"Topic3\", \"Topic3\", \"Topic3\", \"Topic3\", \"Topic3\", \"Topic3\", \"Topic3\", \"Topic3\", \"Topic3\", \"Topic3\", \"Topic3\", \"Topic3\", \"Topic3\", \"Topic3\", \"Topic3\", \"Topic3\", \"Topic3\", \"Topic3\", \"Topic3\", \"Topic3\", \"Topic3\", \"Topic3\", \"Topic3\", \"Topic3\", \"Topic3\", \"Topic3\", \"Topic3\", \"Topic3\", \"Topic3\", \"Topic3\", \"Topic4\", \"Topic4\", \"Topic4\", \"Topic4\", \"Topic4\", \"Topic4\", \"Topic4\", \"Topic4\", \"Topic4\", \"Topic4\", \"Topic4\", \"Topic4\", \"Topic4\", \"Topic4\", \"Topic4\", \"Topic4\", \"Topic4\", \"Topic4\", \"Topic4\", \"Topic4\", \"Topic4\", \"Topic4\", \"Topic4\", \"Topic4\", \"Topic4\", \"Topic4\", \"Topic4\", \"Topic4\", \"Topic4\", \"Topic4\", \"Topic4\", \"Topic4\", \"Topic4\", \"Topic4\", \"Topic4\", \"Topic4\", \"Topic4\", \"Topic4\", \"Topic4\", \"Topic4\", \"Topic4\", \"Topic4\", \"Topic4\", \"Topic4\", \"Topic4\", \"Topic4\", \"Topic4\", \"Topic4\", \"Topic4\", \"Topic4\", \"Topic4\", \"Topic4\", \"Topic4\", \"Topic4\", \"Topic4\", \"Topic4\", \"Topic4\", \"Topic4\", \"Topic4\", \"Topic4\", \"Topic4\", \"Topic4\", \"Topic4\", \"Topic4\", \"Topic4\", \"Topic4\", \"Topic4\", \"Topic4\", \"Topic4\", \"Topic4\", \"Topic4\", \"Topic4\", \"Topic4\", \"Topic4\", \"Topic4\", \"Topic4\", \"Topic4\", \"Topic4\", \"Topic4\", \"Topic4\", \"Topic4\", \"Topic4\", \"Topic4\", \"Topic4\", \"Topic4\", \"Topic5\", \"Topic5\", \"Topic5\", \"Topic5\", \"Topic5\", \"Topic5\", \"Topic5\", \"Topic5\", \"Topic5\", \"Topic5\", \"Topic5\", \"Topic5\", \"Topic5\", \"Topic5\", \"Topic5\", \"Topic5\", \"Topic5\", \"Topic5\", \"Topic5\", \"Topic5\", \"Topic5\", \"Topic5\", \"Topic5\", \"Topic5\", \"Topic5\", \"Topic5\", \"Topic5\", \"Topic5\", \"Topic5\", \"Topic5\", \"Topic5\", \"Topic5\", \"Topic5\", \"Topic5\", \"Topic5\", \"Topic5\", \"Topic5\", \"Topic5\", \"Topic5\", \"Topic5\", \"Topic5\", \"Topic5\", \"Topic5\", \"Topic5\", \"Topic5\", \"Topic5\", \"Topic5\", \"Topic5\", \"Topic5\", \"Topic5\", \"Topic5\", \"Topic5\", \"Topic5\", \"Topic5\", \"Topic5\", \"Topic5\", \"Topic5\", \"Topic5\", \"Topic5\", \"Topic5\", \"Topic5\", \"Topic5\", \"Topic5\", \"Topic5\", \"Topic5\", \"Topic5\", \"Topic5\", \"Topic5\", \"Topic5\", \"Topic5\", \"Topic5\", \"Topic5\", \"Topic5\", \"Topic5\", \"Topic5\", \"Topic5\", \"Topic5\", \"Topic5\", \"Topic5\", \"Topic5\", \"Topic5\", \"Topic5\", \"Topic5\", \"Topic6\", \"Topic6\", \"Topic6\", \"Topic6\", \"Topic6\", \"Topic6\", \"Topic6\", \"Topic6\", \"Topic6\", \"Topic6\", \"Topic6\", \"Topic6\", \"Topic6\", \"Topic6\", \"Topic6\", \"Topic6\", \"Topic6\", \"Topic6\", \"Topic6\", \"Topic6\", \"Topic6\", \"Topic6\", \"Topic6\", \"Topic6\", \"Topic6\", \"Topic6\", \"Topic6\", \"Topic6\", \"Topic6\", \"Topic6\", \"Topic6\", \"Topic6\", \"Topic6\", \"Topic6\", \"Topic6\", \"Topic6\", \"Topic6\", \"Topic6\", \"Topic6\", \"Topic6\", \"Topic6\", \"Topic6\", \"Topic6\", \"Topic6\", \"Topic6\", \"Topic6\", \"Topic6\", \"Topic6\", \"Topic6\", \"Topic6\", \"Topic6\", \"Topic6\", \"Topic6\", \"Topic6\", \"Topic6\", \"Topic6\", \"Topic6\", \"Topic6\", \"Topic6\", \"Topic6\", \"Topic6\", \"Topic6\", \"Topic6\", \"Topic6\", \"Topic6\", \"Topic6\", \"Topic6\", \"Topic6\", \"Topic6\", \"Topic6\", \"Topic6\", \"Topic6\", \"Topic6\", \"Topic6\", \"Topic6\", \"Topic6\", \"Topic6\", \"Topic7\", \"Topic7\", \"Topic7\", \"Topic7\", \"Topic7\", \"Topic7\", \"Topic7\", \"Topic7\", \"Topic7\", \"Topic7\", \"Topic7\", \"Topic7\", \"Topic7\", \"Topic7\", \"Topic7\", \"Topic7\", \"Topic7\", \"Topic7\", \"Topic7\", \"Topic7\", \"Topic7\", \"Topic7\", \"Topic7\", \"Topic7\", \"Topic7\", \"Topic7\", \"Topic7\", \"Topic7\", \"Topic7\", \"Topic7\", \"Topic7\", \"Topic7\", \"Topic7\", \"Topic7\", \"Topic7\", \"Topic7\", \"Topic7\", \"Topic7\", \"Topic7\", \"Topic7\", \"Topic7\", \"Topic7\", \"Topic7\", \"Topic7\", \"Topic7\", \"Topic7\", \"Topic7\", \"Topic7\", \"Topic7\", \"Topic7\", \"Topic7\", \"Topic7\", \"Topic7\", \"Topic7\", \"Topic7\", \"Topic7\", \"Topic7\", \"Topic7\", \"Topic7\", \"Topic7\", \"Topic7\", \"Topic7\", \"Topic7\", \"Topic7\", \"Topic7\", \"Topic7\", \"Topic7\", \"Topic7\", \"Topic7\", \"Topic7\", \"Topic7\", \"Topic7\", \"Topic7\", \"Topic7\", \"Topic7\", \"Topic7\"], \"logprob\": [30.0, 29.0, 28.0, 27.0, 26.0, 25.0, 24.0, 23.0, 22.0, 21.0, 20.0, 19.0, 18.0, 17.0, 16.0, 15.0, 14.0, 13.0, 12.0, 11.0, 10.0, 9.0, 8.0, 7.0, 6.0, 5.0, 4.0, 3.0, 2.0, 1.0, -8.3764, -7.6833, -8.3764, -7.6833, -6.9901, -7.6833, -8.3764, -8.3764, -8.3764, -7.6833, -8.3764, -7.6833, -7.6833, -6.9901, -7.6833, -7.6833, -8.3764, -8.3764, -7.6833, -8.3764, -7.6833, -6.9901, -8.3764, -6.9901, -6.9901, -8.3764, -8.3764, -6.9901, -6.9901, -8.3764, -4.9532, -5.0806, -5.0806, -5.2123, -5.2703, -5.3006, -5.4146, -5.4677, -5.486, -5.6249, -5.7861, -5.7861, -5.8114, -5.8374, -5.8374, -5.8641, -5.8915, -5.9486, -5.9486, -5.9486, -5.9785, -6.0093, -6.0738, -6.0738, -6.0738, -6.0738, -6.1077, -6.1077, -6.1077, -6.1428, -5.1056, -5.1983, -4.8698, -4.6152, -4.1767, -5.563, -5.8915, -4.3998, -4.821, -5.1443, -5.2854, -5.4497, -4.8698, -5.432, -5.6908, -5.093, -4.85, -4.671, -4.9424, -4.85, -4.8799, -5.3641, -5.1983, -4.7301, -4.9977, -4.9864, -5.0207, -5.1183, -5.1056, -5.2123, -5.1575, -5.2265, -5.2703, -8.036, -8.3237, -6.5891, -9.4223, -6.5891, -7.6305, -7.6305, -8.3237, -6.6497, -6.6497, -4.5245, -5.5937, -5.6846, -5.6611, -6.2034, -5.2176, -6.6497, -9.4223, -4.8072, -7.1197, -6.1642, -7.8129, -7.8129, -7.4764, -6.2868, -7.4764, -7.8129, -9.4223, -5.6381, -9.4223, -4.7402, -4.9797, -5.0279, -5.2792, -5.2792, -5.328, -5.4333, -5.4711, -5.4711, -5.5937, -5.7087, -5.7087, -5.8388, -5.8959, -5.9566, -6.0211, -6.0901, -6.0901, -6.1265, -6.1642, -6.2034, -4.6348, -5.5103, -4.8171, -4.9337, -4.7589, -3.967, -5.7847, -4.7038, -4.7495, -5.3448, -5.415, -5.2634, -4.8272, -5.1456, -5.2634, -4.7589, -5.0279, -4.945, -5.2634, -5.2634, -5.0279, -5.2176, -5.2952, -5.2952, -5.1882, -5.2792, -5.2792, -3.3177, -6.1484, -7.338, -7.338, -5.2234, -5.9166, -7.338, -5.6463, -6.6448, -6.3394, -7.338, -7.338, -6.6448, -5.9517, -5.7575, -7.338, -6.1484, -6.4507, -7.338, -7.338, -7.338, -7.338, -7.338, -7.338, -5.4552, -6.4507, -6.6448, -6.4507, -6.6448, -6.6448, -4.6299, -4.8531, -4.8531, -5.1407, -5.2949, -5.3326, -5.5227, -5.5462, -5.595, -5.595, -5.7285, -5.7874, -5.8181, -5.8827, -5.8827, -6.0258, -6.0258, -6.0258, -6.0258, -6.065, -6.1058, -6.1058, -5.7575, -5.7874, -4.4241, -5.0644, -4.4964, -5.4552, -4.1481, -4.4636, -5.392, -4.5743, -5.125, -4.9664, -4.8065, -5.2585, -5.0498, -5.3718, -5.3326, -4.773, -4.9531, -4.8531, -5.352, -4.9798, -5.0792, -5.2234, -5.125, -5.3326, -6.8593, -9.2572, -7.3113, -8.5641, -8.5641, -8.5641, -7.1778, -9.2572, -7.1778, -7.8709, -6.2127, -7.1778, -7.1778, -8.5641, -8.5641, -7.1778, -7.3113, -6.8593, -7.8709, -7.8709, -6.1662, -7.1778, -6.6182, -7.1778, -8.5641, -7.8709, -9.2572, -6.6182, -5.5196, -4.9945, -4.0532, -4.4209, -4.6723, -5.1629, -5.3254, -5.5196, -5.5437, -5.6196, -5.6196, -5.6463, -5.6737, -5.7309, -5.7915, -5.856, -5.8899, -5.9614, -5.9614, -5.9991, -5.9991, -5.9991, -6.0383, -6.0792, -6.0792, -6.0792, -6.0792, -6.1217, -6.1217, -4.3519, -4.7686, -5.1629, -5.8232, -5.4506, -3.8367, -4.201, -5.1629, -4.2736, -5.0525, -5.1464, -5.2869, -5.0525, -4.1039, -4.7799, -4.9668, -4.9945, -5.1141, -4.8264, -5.0525, -5.1464, -5.0231, -4.9005, -5.0828, -5.2682, -5.0983, -5.2142, -5.2682, -7.563, -7.093, -6.6875, -5.7712, -7.093, -6.5334, -8.0738, -7.3807, -5.5889, -8.4793, -8.0738, -7.2265, -7.2265, -9.1724, -9.1724, -7.563, -5.7067, -8.0738, -6.5334, -7.093, -6.5334, -6.8698, -6.6075, -9.1724, -8.0738, -9.1724, -5.8402, -5.7712, -9.1724, -8.0738, -5.0453, -5.2406, -5.3223, -5.3438, -5.4348, -5.5615, -5.6171, -5.6171, -5.6461, -5.6461, -5.6759, -5.8051, -5.8051, -5.8766, -5.8766, -5.8766, -5.9536, -5.9536, -5.9944, -5.9944, -6.0369, -6.0369, -6.1279, -6.1767, -6.1767, -4.3049, -5.9143, -4.1486, -5.3223, -5.7712, -5.2021, -5.6759, -5.0453, -4.8157, -5.3438, -5.3658, -4.7416, -5.2021, -5.3012, -4.7904, -4.6726, -5.3438, -5.112, -5.4112, -5.3012, -5.2806, -5.3658, -5.3882, -5.1834, -5.3223, -5.2806, -5.3658, -5.3223, -6.0774, -5.2301, -5.133, -7.5125, -7.5125, -6.8194, -5.5666, -5.8261, -6.8194, -6.2887, -7.5125, -6.1775, -7.176, -6.1775, -7.176, -6.4829, -6.8194, -7.176, -5.5956, -6.2887, -6.4829, -6.4829, -5.133, -6.2887, -7.176, -6.1262, -6.4829, -5.7897, -7.5125, -6.4829, -4.2316, -4.6793, -4.9631, -5.2099, -5.4084, -5.4084, -5.4584, -5.5384, -5.5956, -5.688, -5.7207, -5.7207, -5.7547, -5.9439, -5.9439, -5.9439, -5.9865, -5.9865, -6.0309, -6.0309, -6.0309, -6.0774, -5.5384, -5.6254, -4.6911, -5.0111, -5.9031, -5.2099, -4.4491, -4.8453, -4.7652, -5.2718, -5.2507, -4.3598, -4.5268, -5.0444, -4.9788, -5.4844, -5.4584, -5.1146, -5.1901, -5.4331, -5.3153, -5.3607, -5.3843, -5.3607, -5.4084, -5.3649, -5.893, -6.084, -5.8096, -7.419, -5.0031, -7.0825, -9.0285, -6.7259, -6.6306, -7.419, -6.949, -6.6306, -9.0285, -8.3353, -7.6422, -9.0285, -7.0825, -6.0327, -7.0825, -9.0285, -5.4731, -5.8504, -7.9298, -9.0285, -4.2327, -9.0285, -6.5436, -5.8504, -7.419, -5.0211, -5.0211, -5.1366, -5.4175, -5.4731, -5.532, -5.532, -5.6612, -5.6963, -5.7326, -5.7704, -5.8096, -5.9839, -6.0327, -6.1381, -6.1952, -6.1952, -6.1952, -6.2559, -6.2559, -5.532, -3.2951, -5.0582, -4.9341, -4.5511, -4.365, -5.5945, -3.985, -4.5176, -5.0582, -4.6096, -4.4852, -4.4133, -4.7244, -4.659, -5.0966, -4.711, -5.2443, -5.3149, -5.1164, -5.0395, -5.2673, -5.2908, -5.1998, -5.3396, -5.3396], \"loglift\": [30.0, 29.0, 28.0, 27.0, 26.0, 25.0, 24.0, 23.0, 22.0, 21.0, 20.0, 19.0, 18.0, 17.0, 16.0, 15.0, 14.0, 13.0, 12.0, 11.0, 10.0, 9.0, 8.0, 7.0, 6.0, 5.0, 4.0, 3.0, 2.0, 1.0, 1.7429, 1.7429, 1.7429, 1.7429, 1.7429, 1.7429, 1.7429, 1.7429, 1.7429, 1.7429, 1.7429, 1.7429, 1.7429, 1.7429, 1.7429, 1.7429, 1.7429, 1.7429, 1.7429, 1.7429, 1.7429, 1.7429, 1.7429, 1.7429, 1.7429, 1.7429, 1.7429, 1.7429, 1.7429, 1.7429, 1.7429, 1.7429, 1.7429, 1.7429, 1.7429, 1.7429, 1.7429, 1.7429, 1.7429, 1.7429, 1.7429, 1.7429, 1.7429, 1.7429, 1.7429, 1.7429, 1.7429, 1.7429, 1.7429, 1.7429, 1.7429, 1.7429, 1.7429, 1.7429, 1.7429, 1.7429, 1.7429, 1.7429, 1.7429, 1.7429, 1.7174, 1.7155, 1.6932, 1.5504, 1.4687, 1.6647, 1.7155, 1.4105, 1.4895, 1.5381, 1.5729, 1.6069, 1.4233, 1.5783, 1.6549, 1.3704, 1.2374, 1.1338, 1.1995, 1.0579, 0.9216, 1.3605, 1.1817, 0.6449, 0.9321, 0.8619, 0.6055, 0.7268, 0.5738, 0.8937, 0.2259, 0.6081, 1.0341, 1.7941, 1.7941, 1.7941, 1.7941, 1.7941, 1.7941, 1.7941, 1.7941, 1.7941, 1.7941, 1.7941, 1.7941, 1.7941, 1.7941, 1.7941, 1.7941, 1.7941, 1.7941, 1.7941, 1.7941, 1.7941, 1.7941, 1.7941, 1.7941, 1.7941, 1.7941, 1.7941, 1.7941, 1.7941, 1.7941, 1.7941, 1.7941, 1.7941, 1.7941, 1.7941, 1.7941, 1.7941, 1.7941, 1.7941, 1.7941, 1.7941, 1.7941, 1.7941, 1.7941, 1.7941, 1.7941, 1.7941, 1.7941, 1.7941, 1.7941, 1.7941, 1.7444, 1.7544, 1.6887, 1.646, 1.6135, 1.4837, 1.742, 1.481, 1.4264, 1.4991, 1.5356, 1.3685, 0.9776, 1.2438, 1.3325, 0.6698, 0.9416, 0.7344, 1.2116, 1.1473, 0.3555, 0.8698, 1.0184, 0.9551, 0.1339, 0.566, 0.5311, 1.9247, 1.9247, 1.9247, 1.9247, 1.9247, 1.9247, 1.9247, 1.9247, 1.9247, 1.9247, 1.9247, 1.9247, 1.9247, 1.9247, 1.9247, 1.9247, 1.9247, 1.9247, 1.9247, 1.9247, 1.9247, 1.9247, 1.9247, 1.9247, 1.9247, 1.9247, 1.9247, 1.9247, 1.9247, 1.9247, 1.9247, 1.9247, 1.9247, 1.9247, 1.9247, 1.9247, 1.9247, 1.9247, 1.9247, 1.9247, 1.9247, 1.9247, 1.9247, 1.9247, 1.9247, 1.9247, 1.9247, 1.9247, 1.9247, 1.9247, 1.9247, 1.9247, 1.8959, 1.8946, 1.7393, 1.8013, 1.5752, 1.7273, 1.2318, 1.3412, 1.6871, 1.2272, 1.5076, 1.4118, 1.2571, 1.5218, 1.3108, 1.5586, 1.5091, 0.8553, 0.8951, 0.5303, 1.3607, 0.4489, 0.4865, 0.8584, 0.1564, 0.5971, 1.9488, 1.9488, 1.9488, 1.9488, 1.9488, 1.9488, 1.9488, 1.9488, 1.9488, 1.9488, 1.9488, 1.9488, 1.9488, 1.9488, 1.9488, 1.9488, 1.9488, 1.9488, 1.9488, 1.9488, 1.9488, 1.9488, 1.9488, 1.9488, 1.9488, 1.9488, 1.9488, 1.9488, 1.9488, 1.9488, 1.9488, 1.9488, 1.9488, 1.9488, 1.9488, 1.9488, 1.9488, 1.9488, 1.9488, 1.9488, 1.9488, 1.9488, 1.9488, 1.9488, 1.9488, 1.9488, 1.9488, 1.9488, 1.9488, 1.9488, 1.9488, 1.9488, 1.9488, 1.9488, 1.9488, 1.9488, 1.9488, 1.9267, 1.8842, 1.8546, 1.9174, 1.8631, 1.6326, 1.6288, 1.7685, 1.561, 1.7114, 1.7142, 1.7452, 1.6519, 1.2181, 1.4603, 1.5209, 1.4861, 1.4427, 1.1213, 1.3056, 1.3919, 1.203, 1.0074, 1.1349, 1.4152, 0.8246, 0.3515, 0.1604, 2.0316, 2.0316, 2.0316, 2.0316, 2.0316, 2.0316, 2.0316, 2.0316, 2.0316, 2.0316, 2.0316, 2.0316, 2.0316, 2.0316, 2.0316, 2.0316, 2.0316, 2.0316, 2.0316, 2.0316, 2.0316, 2.0316, 2.0316, 2.0316, 2.0316, 2.0316, 2.0316, 2.0316, 2.0316, 2.0316, 2.0316, 2.0316, 2.0316, 2.0316, 2.0316, 2.0316, 2.0316, 2.0316, 2.0316, 2.0316, 2.0316, 2.0316, 2.0316, 2.0316, 2.0316, 2.0316, 2.0316, 2.0316, 2.0316, 2.0316, 2.0316, 2.0316, 2.0316, 2.0316, 2.0316, 1.9505, 1.994, 1.5967, 1.7713, 1.9358, 1.7127, 1.8636, 1.4618, 1.3113, 1.64, 1.6203, 1.0632, 1.4233, 1.4592, 0.8889, 0.7561, 1.4697, 1.1624, 1.543, 1.3228, 1.1914, 1.3323, 1.3798, 0.8482, 1.1347, 0.9341, 0.8885, 0.0527, 2.0761, 2.0761, 2.0761, 2.0761, 2.0761, 2.0761, 2.0761, 2.0761, 2.0761, 2.0761, 2.0761, 2.0761, 2.0761, 2.0761, 2.0761, 2.0761, 2.0761, 2.0761, 2.0761, 2.0761, 2.0761, 2.0761, 2.0761, 2.0761, 2.0761, 2.0761, 2.0761, 2.0761, 2.0761, 2.0761, 2.0761, 2.0761, 2.0761, 2.0761, 2.0761, 2.0761, 2.0761, 2.0761, 2.0761, 2.0761, 2.0761, 2.0761, 2.0761, 2.0761, 2.0761, 2.0761, 2.0761, 2.0761, 2.0761, 2.0761, 2.0761, 2.0761, 2.0492, 2.0465, 1.9751, 1.857, 2.037, 1.801, 1.5204, 1.6193, 1.4851, 1.7239, 1.7009, 0.9623, 0.8566, 1.3137, 1.0211, 1.7457, 1.6827, 0.7305, 0.7328, 1.3776, 0.7908, 0.9407, 0.971, 0.2847, 0.7335, 2.1733, 2.1733, 2.1733, 2.1733, 2.1733, 2.1733, 2.1733, 2.1733, 2.1733, 2.1733, 2.1733, 2.1733, 2.1733, 2.1733, 2.1733, 2.1733, 2.1733, 2.1733, 2.1733, 2.1733, 2.1733, 2.1733, 2.1733, 2.1733, 2.1733, 2.1733, 2.1733, 2.1733, 2.1733, 2.1733, 2.1733, 2.1733, 2.1733, 2.1733, 2.1733, 2.1733, 2.1733, 2.1733, 2.1733, 2.1733, 2.1733, 2.1733, 2.1733, 2.1733, 2.1733, 2.1733, 2.1733, 2.1733, 2.1733, 2.1733, 2.144, 1.9863, 1.9233, 1.8873, 1.7477, 1.6666, 1.9968, 1.3948, 1.5642, 1.7616, 1.454, 1.141, 0.9616, 1.2233, 0.9693, 1.3497, 0.8547, 1.4406, 1.3578, 0.8835, 0.4298, 1.1533, 1.1662, 0.2509, 1.2185, 0.4902]}, \"token.table\": {\"Topic\": [7, 1, 3, 6, 7, 7, 2, 7, 1, 4, 1, 5, 7, 7, 1, 7, 6, 7, 3, 1, 2, 7, 4, 3, 5, 6, 7, 2, 2, 2, 6, 4, 1, 7, 4, 2, 3, 2, 5, 1, 3, 5, 6, 6, 3, 4, 3, 2, 4, 4, 6, 6, 5, 6, 7, 2, 3, 6, 7, 3, 1, 2, 3, 3, 5, 4, 5, 6, 6, 1, 4, 2, 2, 3, 7, 4, 5, 1, 3, 3, 6, 5, 1, 2, 3, 3, 6, 5, 3, 3, 4, 5, 4, 4, 6, 1, 3, 1, 2, 4, 6, 7, 6, 4, 1, 2, 3, 4, 1, 6, 1, 6, 7, 1, 2, 3, 1, 2, 1, 7, 1, 1, 1, 2, 6, 7, 7, 5, 3, 2, 4, 6, 4, 5, 1, 1, 1, 5, 1, 7, 5, 2, 6, 4, 6, 2, 3, 7, 2, 1, 2, 6, 5, 3, 6, 3, 6, 5, 7, 4, 6, 2, 4, 6, 1, 2, 3, 6, 5, 6, 6, 5, 6, 6, 1, 2, 4, 1, 1, 3, 6, 7, 3, 3, 3, 5, 1, 1, 7, 1, 6, 1, 3, 6, 7, 1, 6, 5, 7, 3, 1, 6, 3, 7, 3, 4, 6, 1, 1, 2, 3, 6, 7, 2, 5, 4, 5, 7, 2, 1, 6, 2, 3, 2, 2, 4, 4, 1, 1, 4, 1, 4, 6, 6, 2, 4, 6, 6, 3, 1, 2, 5, 6, 4, 4, 2, 4, 6, 7, 3, 7, 7, 6, 1, 2, 5, 7, 2, 2, 3, 7, 6, 5, 2, 4, 2, 2, 1, 2, 4, 5, 6, 2, 7, 5, 7, 4, 6, 7, 4, 5, 2, 2, 5, 1, 2, 4, 7, 1, 4, 4, 2, 4, 1, 3, 4, 5, 6, 4, 7, 4, 2, 5, 7, 1, 4, 5, 6, 4, 6, 7, 2, 4, 5, 6, 6, 1, 4, 5, 2, 2, 2, 2, 4, 6, 5, 4, 2, 6, 1, 6, 7, 1, 5, 1, 6, 1, 7, 3, 5, 2, 3, 4, 7, 1, 1, 7, 7, 1, 4, 7, 3, 6, 2, 1, 7, 5, 6, 7, 5, 2, 5, 6, 5, 4, 1, 2, 5, 1, 7, 5, 3, 5, 1, 3, 7, 2, 7, 1, 5, 3, 7, 7, 1, 3, 7, 4, 6, 7, 4, 6, 7, 4, 4, 7, 3, 5, 6, 3, 3, 2, 4, 3, 1, 2, 5, 5, 4, 7, 6, 1, 3, 1, 4, 4, 6, 6, 1, 2, 5, 6, 6, 1, 5, 5, 5, 7, 2, 4, 6, 3, 2, 3, 5, 3, 3, 4, 2, 3, 4, 5, 6, 1, 1, 2, 3, 6, 4, 3, 6, 2, 7, 2, 3, 4, 6, 6, 2, 7, 1, 1, 6, 1, 2, 1, 2, 6, 5, 5, 4, 2, 3, 6, 7, 3, 5, 2, 3, 4, 6, 2, 2, 2, 1, 6, 1, 3, 4, 6, 7, 3, 1, 6, 2, 6, 5, 5, 4, 4, 6, 4, 5, 1, 7, 3, 7, 2, 1, 3, 5, 7, 6, 3, 2, 4, 5, 1, 6, 6, 6, 7, 6, 1, 2, 6, 2, 1, 4, 5, 6, 1, 3, 5, 4, 2, 6, 4, 1, 2, 3, 1, 6, 7, 2, 7, 4, 5, 4, 7, 3, 3, 4, 7, 3, 7, 6, 1, 5, 7, 1, 6, 4, 1, 3, 3, 3, 4, 7, 1, 2, 5, 1, 1, 2, 5, 1, 6, 2, 5, 6, 4, 1, 3, 4, 1, 3, 5, 7, 1, 3, 7, 7, 2, 5, 2, 1, 6, 3, 1, 1, 4, 5, 4, 5, 2, 3, 3, 6, 6, 2, 2, 6, 4, 4, 6, 7, 5, 7, 2, 3, 7, 5, 3, 6, 7, 4, 2, 3, 6, 1, 2, 5, 6, 7, 1, 2, 3, 5, 6, 5, 2, 4, 1, 3, 7, 6, 7, 2, 3, 5, 5, 5, 1, 5, 6, 7, 1, 2, 5, 6, 5, 2, 3, 5, 3, 4, 1, 2, 3, 1, 5, 5, 3, 5, 6, 7, 1, 2, 3, 4, 6, 4, 4, 5, 7, 1, 2, 4, 3, 3, 4, 1, 1, 4, 7, 4, 2, 3, 2, 4, 3, 4, 5, 7, 4, 5, 4, 1, 4, 4, 7, 1, 4, 7, 2, 4, 6, 7, 7, 4, 1, 4, 5, 7, 3, 2, 7, 6, 2, 1, 6, 1, 6, 4, 4, 2, 6, 7, 7, 6, 1, 1, 3, 7, 6, 1, 4, 5, 7, 4, 5, 4, 1, 3, 5, 5, 7, 2, 3, 5, 5, 2, 5, 6, 7, 1, 4, 1, 3, 4, 7, 7, 3, 4, 1, 2, 4, 5, 6, 7, 1, 4, 6, 3, 2, 3, 4, 5, 1, 2, 3, 5], \"Freq\": [0.9612455692988959, 0.9768568564399522, 0.7942861053583868, 0.21803932303955717, 0.9612455692988962, 1.0012974680196836, 0.9753476805831925, 0.9612455692988959, 0.9768568564399522, 0.9653193068317666, 0.4792197021727623, 0.5248596738082634, 0.961245569298896, 0.990374222914014, 0.028285223513045236, 0.961697599443538, 0.9576643548796682, 1.0177894263164782, 0.9919242244387692, 0.32723822029646865, 0.5267737204772422, 0.15164698013738792, 1.0024469724791423, 0.9970561309953629, 0.4096039216899366, 0.225700120114863, 0.36780760315014716, 1.0078592699359656, 0.9941043667482541, 0.9753476805831927, 1.0260689516567874, 0.9653193068317666, 0.9768568564399522, 0.961245569298896, 0.9653193068317666, 1.0078592699359656, 0.9677309506719699, 0.9753476805831927, 1.0052969800144127, 0.43185088437713876, 0.5722024217997088, 0.9634096058471455, 0.9576643548796681, 0.9906872636686221, 1.008053073616635, 0.9653193068317666, 1.002292770338826, 0.9562089279133089, 0.037498389329933685, 0.9954855351702593, 0.9885567534241734, 1.004379689264042, 1.0115800861395028, 0.957801600401827, 0.036838523092377964, 0.33496954329454476, 0.6699390865890895, 0.9975670363329875, 1.0093078477638409, 0.9677309506719699, 0.1536259156972544, 0.8372612405500365, 0.00768129578486272, 1.009806209396838, 0.9634096058471454, 0.9254281872998964, 0.019689961431912692, 0.05906988429573807, 0.9895865000423236, 0.9768568564399522, 1.0055409446164234, 1.006311099014405, 1.0024406717105034, 0.513310342230321, 0.4851064772726111, 0.03568445188002104, 0.9634802007605681, 0.9768568564399522, 1.009806209396838, 0.9677309506719699, 1.0011945528287438, 0.9990914431007435, 0.4138597384413744, 0.22739546068207386, 0.3592848278776767, 0.9931975546370219, 0.9576643548796682, 0.9634096058471455, 0.9677309506719699, 0.9999886490277022, 0.23701161381068153, 0.7742379384482263, 0.9653193068317666, 0.3008756738267029, 0.7020432389289734, 1.0055879404528918, 0.9677309506719699, 1.0094187516546174, 0.07472275039165557, 0.7285468163186419, 0.021794135530899542, 0.17435308424719634, 0.9975670363329875, 0.9653193068317666, 0.44406093624394505, 0.088812187248789, 0.26643656174636704, 0.19736041610842, 0.9480419148873566, 0.04647264288663513, 0.8491248682248116, 0.11238417373563683, 0.03746139124521228, 0.7180920357423102, 0.284609648312501, 1.0246563007114975, 0.9768568564399522, 0.9753476805831925, 0.9768568564399522, 1.021323417380077, 1.0105415756275367, 1.0009767788211856, 0.027387764960695993, 0.7668574188994879, 0.08216329488208798, 0.10955105984278397, 0.9996953920708518, 1.0035516727574432, 0.9677309506719699, 0.9753476805831928, 0.7884970458583712, 0.21276904412051287, 0.9653193068317666, 0.9634096058471454, 1.0039917691188398, 1.0019044681435407, 1.0094187516546174, 0.9634096058471454, 0.9976410448748447, 1.0070191678369387, 0.9634096058471454, 0.9753476805831925, 0.9576643548796682, 0.9921337320215378, 1.0008672581073224, 0.9753476805831925, 1.004951371851661, 0.990374222914014, 0.9753476805831927, 0.6898755069855462, 0.28604594192083627, 0.025239347816544373, 0.9634096058471455, 0.9677309506719699, 1.0025548715146524, 0.8289140171682408, 0.1682757779213722, 0.5661567159249509, 0.4302791041029626, 0.9653193068317666, 1.013997552225531, 0.6941847096756457, 0.2524308035184166, 0.05048616070368332, 0.2199989545665024, 0.23714173024700907, 0.24857024736734687, 0.294284315848698, 0.9045278291954193, 0.08753495121245994, 1.013997552225531, 0.8391210796128519, 0.14808019051991506, 1.0011945528287438, 0.9768160064986512, 0.026400432608071654, 1.0342706858911785, 0.9949467982258773, 0.29017964779240984, 0.2740585562483871, 0.07254491194810246, 0.3627245597405123, 1.009806209396838, 0.9919242244387692, 0.9907721637832073, 0.9634096058471455, 0.9768568564399522, 0.9768568564399522, 0.9887097284217217, 0.9936992160337443, 0.9975670363329875, 0.20744498121497423, 0.12446698872898454, 0.21781723027572295, 0.44600670961219463, 0.9768568564399522, 1.0027309127563582, 0.9634096058471455, 0.9887097284217217, 1.004951371851661, 1.0105415756275367, 0.9993019355266102, 0.9675389553215076, 0.0284570280976914, 0.657625536019252, 0.2889566749175501, 0.04982011636509485, 1.0105415756275367, 0.320501338819812, 0.12383006272583647, 0.14932448740468515, 0.05098884935769737, 0.35692194550388157, 0.9753476805831927, 1.0115800861395028, 0.9653193068317666, 0.9926038363273619, 1.0177894263164782, 0.9753476805831925, 1.0060167626023389, 1.0055475726236516, 0.9753476805831927, 0.9677309506719699, 0.9975146733237197, 0.9753476805831925, 1.0024469724791423, 0.9974966170594921, 0.9768568564399522, 0.9768568564399522, 1.0112868928713745, 0.5020585448032224, 0.3910263666255867, 0.10620469216991243, 0.9993019355266102, 0.9753476805831925, 0.2897565298404539, 0.7243913246011348, 0.9576643548796682, 1.001100983453762, 0.09053601509983594, 0.3482154426916767, 0.41785853123001204, 0.13928617707667068, 1.0010718737514617, 1.0061074465570525, 0.19079274231854876, 0.4810126883805666, 0.3278410501811683, 0.996847257050707, 0.1702821512020002, 0.8281904626642737, 0.9872251792799472, 0.9576643548796682, 1.001278277850951, 0.7334688312096332, 0.11918868507156541, 0.14669376624192665, 1.0040343770709335, 0.9753476805831925, 0.349712475984744, 0.6566030161346214, 0.9959709290748548, 0.9944873350680211, 1.0101815263183067, 1.0055409446164234, 1.0024406717105034, 1.0101815263183067, 0.0755144015392121, 0.3020576061568484, 0.22654320461763633, 0.06041152123136968, 0.33226336677253326, 0.860000040037174, 0.14175824835777592, 0.9634096058471455, 0.9612455692988959, 0.7387540014567352, 0.19271843516262657, 0.06423947838754218, 0.07517121628441167, 0.9225558362177796, 0.9971838226858014, 0.9965508910306533, 0.9901709837873439, 0.5727899542792146, 0.34057781065250603, 0.07740404787556955, 0.007740404787556955, 0.9148920662085902, 0.08132373921854134, 0.9907224464852342, 0.030175924094014487, 0.9656295710084636, 1.0043739509875564, 0.33461785215766976, 0.20339516503701494, 0.33461785215766976, 0.1312226871206548, 1.0024469724791423, 0.9612455692988959, 0.9653193068317666, 0.3044898920176409, 0.22049268042656753, 0.4829839666486717, 1.0009767788211856, 0.522516327135578, 0.007572700393269247, 0.46950742438269333, 0.30322794120003577, 0.6317248775000746, 0.058960988566673624, 0.24012731754557057, 0.32343679506138073, 0.1715195125325504, 0.2597295475492906, 1.013997552225531, 0.2507535202831613, 0.1791096573451152, 0.5731509035043686, 1.0058272956014174, 0.998570244406602, 1.0128610529133155, 0.4351163666485688, 0.013597386457767775, 0.5506941515395949, 0.9935161560298688, 0.9653193068317666, 0.02589550939711903, 0.9840293570905232, 0.43835338471417296, 0.12406227869269046, 0.43835338471417296, 0.9768568564399522, 0.9634096058471455, 0.9768568564399522, 0.9576643548796682, 0.8168742219927658, 0.1885094358444844, 0.697960201193571, 0.30871316591254105, 0.04521195498628355, 0.13061231440481913, 0.43704889820074094, 0.38681339266042586, 0.9768568564399522, 0.9768568564399522, 0.961245569298896, 0.9612455692988959, 0.6773399530205615, 0.09832354156750087, 0.2184967590388908, 0.24729474011859318, 0.7564309697745203, 0.9980301847828018, 0.9768568564399522, 0.9612455692988959, 0.6185327018857742, 0.10996136922413764, 0.2749034230603441, 1.0019459900810312, 0.999136648402295, 0.9634096058471454, 1.0260689516567874, 0.9917451824897086, 0.9653193068317666, 0.3485252655907854, 0.6572190722569096, 1.0092862537446285, 1.0055879404528918, 1.0012974680196836, 0.9634096058471455, 0.9677309506719699, 0.9894477033024738, 0.4402883415584128, 0.5389736594939191, 0.015182356605462511, 1.0143615878065204, 1.000966460592239, 0.45508931298666544, 0.5441285263971, 0.25275042232523504, 0.7462155325792653, 0.9612455692988962, 0.7726303825478057, 0.2238461855979624, 1.011837441367259, 0.36996274440944005, 0.24047578386613602, 0.38846088162991205, 0.15620730171016523, 0.18023919428095986, 0.6608770456968528, 0.9653193068317666, 1.0112868928713745, 0.998216552733469, 0.030914666258363668, 0.061829332516727335, 0.9068302102453343, 1.0186641586020737, 1.001100983453762, 1.0044625367200044, 0.9653193068317666, 0.9677309506719699, 0.60077414504929, 0.39859053854231746, 0.9966306267384263, 1.0322245776933703, 1.0031749659232083, 1.0105402138783266, 1.0108679301507606, 1.0094187516546174, 1.0246563007114975, 0.4261827375484652, 0.571266222671347, 1.007289711476626, 1.0123880323013634, 1.0067753474375998, 0.5795255922353594, 0.01830080817585345, 0.14030619601487648, 0.2623115838538995, 1.0032674193977476, 1.006458579362375, 0.9990914431007435, 0.9917451824897086, 0.9634096058471454, 0.9612455692988962, 0.9934096746680665, 0.9791392980435126, 0.0209815563866467, 1.004951371851661, 0.20214840322061606, 0.23730464725898406, 0.5624999046138881, 0.9984525681536197, 1.0045968916499497, 0.9653193068317666, 0.31588178534384903, 0.06580870527996854, 0.44091832537578923, 0.0065808705279968545, 0.16452176319992137, 0.9768568564399522, 0.12735810848605172, 0.7323091237947975, 0.12099020306174915, 0.01910371627290776, 0.9907224464852342, 1.0246563007114975, 0.9576643548796681, 0.9753476805831925, 0.9612455692988959, 0.22623170075034116, 0.2619524956056582, 0.01190693161843901, 0.5000911279744383, 1.0080677419785982, 0.9502669361965637, 0.04873163775366993, 1.007383633203701, 1.0094187516546174, 0.9576643548796682, 0.9768160064986512, 0.026400432608071654, 0.1447064447253169, 0.5618014912865245, 0.2894128894506338, 0.9966306267384263, 0.9634096058471454, 0.9653193068317666, 0.9753476805831925, 1.002292770338826, 0.9576643548796681, 1.0146481009266124, 0.9677309506719699, 0.9634096058471454, 0.46351855018808397, 0.2534867071341084, 0.27521413917417487, 0.007242477346688812, 1.004318403768832, 0.9753476805831928, 1.0128610529133155, 0.9768568564399522, 1.0260689516567874, 0.21941672835136433, 0.23655866025381467, 0.202274796448914, 0.07199611399029142, 0.2674141376782253, 0.9677309506719699, 0.8678390979848774, 0.12180197866454419, 0.9753476805831928, 1.013997552225531, 1.0035516727574432, 1.0019459900810312, 0.9653193068317666, 0.028173169624553573, 0.9578877672348215, 1.0047200948657162, 0.9634096058471455, 0.9214784797976939, 0.07227282194491717, 1.004951371851661, 1.0093078477638409, 1.006311099014405, 0.2963919769157363, 0.2074743838410154, 0.49398662819289385, 0.009879732563857878, 1.013997552225531, 0.9979725428804689, 0.7385471245313517, 0.06154559371094598, 0.19694589987502714, 0.9768568564399522, 0.9895865000423236, 1.0260689516567874, 0.22598901057497645, 0.7768372238514816, 1.0032674193977476, 0.42963944620540356, 0.2942735932913723, 0.27661717769388994, 0.9941043667482541, 0.37340109929839643, 0.0169727772408362, 0.43280581964132314, 0.1782141610287801, 1.001278277850951, 1.0064401886988485, 0.9955232593753837, 1.0055409446164234, 1.0114716687529404, 0.9931334050603966, 1.0039320791050372, 0.9768568564399522, 0.4441791870636441, 0.5574013327857495, 0.7238389035373067, 0.1064468975790157, 0.1703150361264251, 0.9965508910306533, 0.9996953920708518, 1.0055409446164234, 0.9634096058471455, 0.9653193068317666, 0.9943919682402372, 0.9677309506719699, 0.2327310601926841, 0.6550948360979256, 0.12067536454435472, 0.9677309506719699, 1.021323417380077, 0.9967526958951649, 0.8245791645939612, 0.1749107318835675, 0.9955757682024281, 0.9763737094087928, 0.024107992824908463, 1.0036256285314398, 0.9946178901934059, 1.0035728377338946, 1.008053073616635, 0.17829482368165442, 0.817184608540916, 0.961245569298896, 0.9768568564399522, 0.9753476805831928, 0.9634096058471454, 0.9768568564399522, 0.9768568564399522, 0.9753476805831927, 0.9978170917702579, 0.8431153636077143, 0.14536471786339902, 0.5781799502241532, 0.17189133655312663, 0.2500237622590933, 1.007289711476626, 0.9768568564399522, 0.2158911891663558, 0.7840258974988711, 0.9768568564399522, 0.2774847061753498, 0.7267456590306781, 0.9955757682024281, 0.9768568564399522, 1.002292770338826, 1.000480082331504, 1.0030388549205873, 1.0143615878065204, 0.9955232593753837, 0.9982970377733854, 1.0032583931004915, 0.9576643548796681, 0.9902363216178297, 0.9768568564399522, 0.2824832606598644, 0.2283907213845712, 0.4868328534776386, 0.5871049740966238, 0.4088766783887201, 0.11321474873241681, 0.8805591568076864, 0.3313582372111222, 0.6792843862828004, 1.0260689516567874, 0.9994303393630245, 0.4261272968564176, 0.5750151475652864, 0.9653193068317666, 0.9653193068317666, 1.004379689264042, 0.9612455692988959, 0.6795588782861933, 0.3256219625121343, 0.10914328735428806, 0.34466301269775174, 0.5457164367714403, 1.0052969800144127, 0.12337865032836744, 0.685436946268708, 0.19192234495523824, 0.993711051150348, 0.10234774645091281, 0.7050622533285105, 0.18763753516000684, 0.36270541824648195, 0.2946981523252666, 0.06800726592121537, 0.2584276105006184, 0.018135270912324097, 0.31112538171242055, 0.34569486856935616, 0.019205270476075342, 0.3188074899028507, 0.0038410540952150685, 1.0052969800144127, 0.9041215529533044, 0.09655667070375096, 0.0345400529011503, 0.8289612696276072, 0.1381602116046012, 0.8070476281030433, 0.20176190702576083, 1.017754101478114, 0.34054126285671377, 0.6668933064277311, 0.9909355945856353, 1.0011903747038962, 0.4951983541165483, 0.30860187285524027, 0.20095005674294714, 0.9612455692988962, 0.9768568564399522, 0.37210064004488974, 0.3076986061909665, 0.3220101692696161, 1.0322245776933703, 0.37540659579810703, 0.3003252766384856, 0.3208020000456551, 0.9999886490277022, 0.9653193068317666, 0.4383668946381172, 0.060763727969640004, 0.4991306226077572, 1.0055879404528918, 1.0092862537446285, 0.9909355945856353, 0.9677309506719699, 0.3059577113429948, 0.09288001951483772, 0.600988361566597, 0.15263898379431443, 0.2654591022509816, 0.00663647755627454, 0.47118990649549236, 0.10618364090039265, 0.9986061794811378, 0.727760502255688, 0.08929576714793719, 0.1875211110106681, 1.0117446013128077, 0.06100715197371572, 0.9354429969303077, 0.9677309506719699, 0.9961936256917338, 0.9888636801691266, 1.002563615819951, 0.22254850205971247, 0.6334072750930277, 0.15407203988749324, 1.0024469724791423, 0.3439111412561868, 0.6632572009940746, 0.38363953985473576, 0.6124771601189641, 0.6026279379932203, 0.07725999205041287, 0.13906798569074316, 0.18542398092099086, 0.9653193068317666, 1.0044057592874496, 1.0112868928713745, 0.3230094543900048, 0.6774226057345933, 0.9914090178272197, 0.9612455692988959, 0.08785062736306595, 0.9077898160850149, 0.9612455692988959, 0.17996240811353495, 0.19584144412355275, 0.3493387922203914, 0.2752366241736417, 0.9612455692988962, 0.9974966170594921, 0.16120387803724573, 0.8328867031924363, 0.9634096058471455, 0.9961999536370378, 1.004951371851661, 0.633948814396907, 0.36500083253155247, 1.0011945528287438, 0.999136648402295, 1.002563615819951, 0.9931334050603966, 0.9768568564399522, 0.9918666532682276, 1.0091974571423015, 0.9653193068317666, 0.9512886597056553, 0.046404324863690505, 1.0177894263164782, 0.9961999536370378, 0.9931334050603966, 1.0069139904842583, 0.039857712684036734, 0.5010683880278903, 0.45836369586642245, 1.0080677419785982, 0.32979051655067704, 0.17021446015518815, 0.5000049767058652, 0.01063840375969926, 1.0342706858911785, 0.9990914431007435, 0.9653193068317666, 0.9980928750582121, 0.9999886490277022, 0.9634096058471455, 0.1559344594820298, 0.8316504505708255, 0.027655626293120558, 0.9679469202592196, 1.0322245776933703, 0.9634096058471455, 0.1353885101182005, 0.6482237757174448, 0.11487509949423073, 0.10256705311984886, 0.3971977436027007, 0.600415193818036, 0.20075061354643922, 0.3431010486066416, 0.15330046852637177, 0.2993009147419639, 0.9612455692988959, 0.9677309506719699, 1.0010718737514617, 0.3343082759784727, 0.16715413798923634, 0.0028331209828684123, 0.1388229281605522, 0.05949554064023666, 0.2974777032011833, 0.7611712001948996, 0.07426060489706338, 0.16708636101839258, 0.9953804064054546, 0.3258546431308045, 0.22720140254991872, 0.16741155977362432, 0.27802276890976896, 0.5443314878567812, 0.00435465190285425, 0.07402908234852225, 0.37885471554831973], \"Term\": [\"abuse\", \"access\", \"account\", \"account\", \"acquisition\", \"act\", \"adapt\", \"addressmann\", \"adult\", \"advice\", \"age\", \"age\", \"agency\", \"agricultural\", \"agriculture\", \"agriculture\", \"alert\", \"alumnus\", \"ambedkar\", \"anniversary\", \"anniversary\", \"anniversary\", \"answer\", \"april\", \"area\", \"area\", \"area\", \"armed\", \"army\", \"article\", \"artisan\", \"ashamed\", \"assembly\", \"assure\", \"athen\", \"august\", \"australia\", \"awakened\", \"award\", \"aware\", \"aware\", \"awe\", \"ayush\", \"ayushman\", \"baba\", \"bag\", \"bank\", \"bapu\", \"bapu\", \"barack\", \"basis\", \"battle\", \"beauty\", \"beneficiary\", \"beneficiary\", \"benefit\", \"benefit\", \"bengal\", \"bhagat\", \"bihari\", \"birth\", \"birth\", \"birth\", \"black\", \"bleak\", \"body\", \"body\", \"body\", \"border\", \"boundary\", \"boy\", \"brave\", \"british\", \"brother\", \"brother\", \"buddha\", \"buddha\", \"bullet\", \"business\", \"businessman\", \"calamity\", \"camp\", \"campaign\", \"campaign\", \"campaign\", \"card\", \"careless\", \"carpet\", \"cartoon\", \"central\", \"century\", \"century\", \"chair\", \"challenge\", \"challenge\", \"channel\", \"chhattisgarh\", \"chief\", \"child\", \"child\", \"child\", \"child\", \"childhood\", \"chocolate\", \"citizen\", \"citizen\", \"citizen\", \"citizen\", \"city\", \"city\", \"clean\", \"clean\", \"clean\", \"cleanliness\", \"cleanliness\", \"climate\", \"climb\", \"clothe\", \"clothing\", \"colour\", \"comment\", \"common\", \"community\", \"community\", \"community\", \"community\", \"company\", \"compassion\", \"compliment\", \"concrete\", \"confidence\", \"confidence\", \"confirm\", \"confuse\", \"congratulate\", \"connect\", \"connected\", \"considerable\", \"constitution\", \"construction\", \"contagious\", \"contented\", \"continuous\", \"conversation\", \"corona\", \"corporation\", \"corruption\", \"cost\", \"council\", \"country\", \"country\", \"country\", \"craft\", \"credit\", \"crisis\", \"crore\", \"crore\", \"culture\", \"culture\", \"curtain\", \"daily\", \"daughter\", \"daughter\", \"daughter\", \"day\", \"day\", \"day\", \"day\", \"decade\", \"decade\", \"decision\", \"dedicated\", \"dedicated\", \"deed\", \"democracy\", \"democracy\", \"democratic\", \"department\", \"development\", \"development\", \"development\", \"development\", \"dhan\", \"difficulty\", \"digital\", \"dip\", \"diplomat\", \"dirty\", \"disaster\", \"discussion\", \"distance\", \"district\", \"district\", \"district\", \"district\", \"divinity\", \"doctor\", \"double\", \"dr\", \"drop\", \"drug\", \"eastern\", \"economy\", \"economy\", \"education\", \"education\", \"education\", \"effective\", \"effort\", \"effort\", \"effort\", \"effort\", \"effort\", \"ego\", \"emphasis\", \"emphasize\", \"endeavour\", \"engineer\", \"environ\", \"episode\", \"essential\", \"esteem\", \"estimate\", \"event\", \"evil\", \"exam\", \"examination\", \"excited\", \"excitement\", \"expectation\", \"experience\", \"experience\", \"experience\", \"extent\", \"fabric\", \"face\", \"face\", \"facilitate\", \"facility\", \"fact\", \"fact\", \"fact\", \"fact\", \"failure\", \"faith\", \"family\", \"family\", \"family\", \"farm\", \"farmer\", \"farmer\", \"farming\", \"feature\", \"feeling\", \"festival\", \"festival\", \"festival\", \"festivity\", \"fetch\", \"field\", \"field\", \"fight\", \"fit\", \"flood\", \"focus\", \"force\", \"fort\", \"free\", \"free\", \"free\", \"free\", \"free\", \"freedom\", \"freedom\", \"fulfillment\", \"fund\", \"future\", \"future\", \"future\", \"game\", \"game\", \"gandhi\", \"ganesh\", \"garbage\", \"generation\", \"generation\", \"generation\", \"generation\", \"girl\", \"girl\", \"goal\", \"god\", \"god\", \"gold\", \"good\", \"good\", \"good\", \"good\", \"grateful\", \"grim\", \"guidance\", \"guru\", \"guru\", \"guru\", \"habit\", \"hand\", \"hand\", \"hand\", \"health\", \"health\", \"health\", \"heart\", \"heart\", \"heart\", \"heart\", \"heavy\", \"high\", \"high\", \"high\", \"hockey\", \"holy\", \"homage\", \"home\", \"home\", \"home\", \"honour\", \"hopeless\", \"hospital\", \"hospital\", \"house\", \"house\", \"house\", \"hrd\", \"hum\", \"husband\", \"hut\", \"idea\", \"idea\", \"importance\", \"importance\", \"important\", \"important\", \"important\", \"important\", \"incredible\", \"indifferent\", \"industrialist\", \"influence\", \"information\", \"information\", \"information\", \"innovation\", \"innovation\", \"inspiring\", \"intensity\", \"interact\", \"interesting\", \"interesting\", \"interesting\", \"jai\", \"jawan\", \"jhunjunu\", \"kargil\", \"kashmir\", \"khaadi\", \"khadi\", \"khadi\", \"khan\", \"kid\", \"king\", \"kinship\", \"kisan\", \"kumbh\", \"lakh\", \"lakh\", \"lakh\", \"lamp\", \"land\", \"language\", \"language\", \"law\", \"law\", \"legal\", \"letter\", \"letter\", \"library\", \"life\", \"life\", \"life\", \"light\", \"light\", \"light\", \"lioness\", \"listen\", \"listener\", \"local\", \"local\", \"local\", \"low\", \"madhya\", \"mahatma\", \"mail\", \"mainstream\", \"man\", \"man\", \"management\", \"mandela\", \"mark\", \"market\", \"mask\", \"mass\", \"massive\", \"matter\", \"matter\", \"measure\", \"medical\", \"medicine\", \"medium\", \"medium\", \"medium\", \"medium\", \"meet\", \"meeting\", \"memorial\", \"memory\", \"meter\", \"millet\", \"million\", \"mind\", \"mind\", \"ministry\", \"mission\", \"mission\", \"mission\", \"mobile\", \"money\", \"moral\", \"mother\", \"mother\", \"mother\", \"mother\", \"mother\", \"motherland\", \"movement\", \"movement\", \"movement\", \"movement\", \"mr\", \"mudra\", \"multiple\", \"municipal\", \"mustering\", \"namaskar\", \"namaskar\", \"namaskar\", \"namaskar\", \"namaste\", \"nanak\", \"nanak\", \"narendra\", \"narendramodiapp\", \"narrated\", \"nation\", \"nation\", \"nature\", \"nature\", \"nature\", \"ncc\", \"nelson\", \"nominate\", \"nominating\", \"note\", \"notion\", \"nutrition\", \"objective\", \"obvious\", \"occasion\", \"occasion\", \"occasion\", \"occasion\", \"october\", \"odd\", \"olympic\", \"oneness\", \"ongoing\", \"opportunity\", \"opportunity\", \"opportunity\", \"opportunity\", \"opportunity\", \"organic\", \"organization\", \"organization\", \"outcome\", \"pace\", \"padma\", \"painting\", \"pal\", \"pandemic\", \"pandemic\", \"parent\", \"participant\", \"participation\", \"participation\", \"party\", \"passion\", \"patel\", \"path\", \"path\", \"path\", \"path\", \"patient\", \"payment\", \"peace\", \"peace\", \"peace\", \"penny\", \"percent\", \"perfect\", \"period\", \"period\", \"perseverance\", \"person\", \"person\", \"person\", \"personality\", \"place\", \"place\", \"place\", \"place\", \"plan\", \"plant\", \"plastic\", \"play\", \"pleasant\", \"police\", \"policy\", \"politic\", \"poor\", \"poor\", \"power\", \"power\", \"power\", \"pradhan\", \"prasad\", \"pressure\", \"prestigious\", \"prey\", \"price\", \"privileged\", \"problem\", \"problem\", \"problem\", \"procedure\", \"produce\", \"product\", \"programme\", \"programme\", \"project\", \"public\", \"public\", \"question\", \"radio\", \"rain\", \"ready\", \"reason\", \"reason\", \"recommendation\", \"regional\", \"registration\", \"regular\", \"religion\", \"reminder\", \"reply\", \"republic\", \"request\", \"request\", \"resolve\", \"resolve\", \"resolve\", \"response\", \"restriction\", \"result\", \"result\", \"rid\", \"river\", \"river\", \"road\", \"roti\", \"rupee\", \"safety\", \"sahib\", \"saint\", \"sanskrit\", \"sardar\", \"satellite\", \"scared\", \"scheme\", \"scholarship\", \"school\", \"school\", \"school\", \"science\", \"science\", \"season\", \"season\", \"sector\", \"sector\", \"selfless\", \"sense\", \"service\", \"service\", \"sheep\", \"sheet\", \"shriman\", \"siachin\", \"singh\", \"singh\", \"sister\", \"sister\", \"sister\", \"site\", \"situation\", \"situation\", \"situation\", \"sleep\", \"small\", \"small\", \"small\", \"social\", \"social\", \"social\", \"social\", \"social\", \"society\", \"society\", \"society\", \"society\", \"society\", \"solar\", \"soldier\", \"soldier\", \"solution\", \"solution\", \"solution\", \"son\", \"son\", \"soul\", \"source\", \"source\", \"south\", \"space\", \"special\", \"special\", \"special\", \"specific\", \"spell\", \"spirit\", \"spirit\", \"spirit\", \"spiritual\", \"sport\", \"sport\", \"sport\", \"sportsperson\", \"stake\", \"state\", \"state\", \"state\", \"station\", \"statue\", \"stone\", \"storage\", \"story\", \"story\", \"story\", \"strength\", \"strength\", \"strength\", \"strength\", \"strength\", \"stress\", \"student\", \"student\", \"student\", \"subsidy\", \"success\", \"success\", \"sum\", \"summer\", \"support\", \"talent\", \"talk\", \"talk\", \"talk\", \"target\", \"task\", \"task\", \"teacher\", \"teacher\", \"technology\", \"technology\", \"technology\", \"technology\", \"telling\", \"temple\", \"test\", \"thing\", \"thing\", \"thinking\", \"thoreau\", \"thought\", \"thought\", \"threat\", \"time\", \"time\", \"time\", \"time\", \"toll\", \"tomorrow\", \"topic\", \"topic\", \"tour\", \"toy\", \"trader\", \"tradition\", \"tradition\", \"train\", \"transformation\", \"travel\", \"treatment\", \"trigger\", \"underprivileged\", \"understand\", \"unite\", \"unity\", \"unity\", \"vaccine\", \"vegetable\", \"video\", \"view\", \"village\", \"village\", \"village\", \"virus\", \"visit\", \"visit\", \"visit\", \"visit\", \"vivekananda\", \"voter\", \"vow\", \"waste\", \"water\", \"weapon\", \"website\", \"website\", \"welfare\", \"welfare\", \"winner\", \"wisdom\", \"woman\", \"woman\", \"woman\", \"woman\", \"word\", \"word\", \"work\", \"work\", \"work\", \"work\", \"workable\", \"working\", \"wrong\", \"year\", \"year\", \"year\", \"year\", \"year\", \"year\", \"yoga\", \"yoga\", \"yoga\", \"yojana\", \"young\", \"young\", \"young\", \"young\", \"youth\", \"youth\", \"youth\", \"youth\"]}, \"R\": 30, \"lambda.step\": 0.01, \"plot.opts\": {\"xlab\": \"PC1\", \"ylab\": \"PC2\"}, \"topic.order\": [1, 5, 6, 4, 3, 7, 2]};\n",
       "\n",
       "function LDAvis_load_lib(url, callback){\n",
       "  var s = document.createElement('script');\n",
       "  s.src = url;\n",
       "  s.async = true;\n",
       "  s.onreadystatechange = s.onload = callback;\n",
       "  s.onerror = function(){console.warn(\"failed to load library \" + url);};\n",
       "  document.getElementsByTagName(\"head\")[0].appendChild(s);\n",
       "}\n",
       "\n",
       "if(typeof(LDAvis) !== \"undefined\"){\n",
       "   // already loaded: just create the visualization\n",
       "   !function(LDAvis){\n",
       "       new LDAvis(\"#\" + \"ldavis_el2848028416805674242414186645\", ldavis_el2848028416805674242414186645_data);\n",
       "   }(LDAvis);\n",
       "}else if(typeof define === \"function\" && define.amd){\n",
       "   // require.js is available: use it to load d3/LDAvis\n",
       "   require.config({paths: {d3: \"https://d3js.org/d3.v5\"}});\n",
       "   require([\"d3\"], function(d3){\n",
       "      window.d3 = d3;\n",
       "      LDAvis_load_lib(\"https://cdn.jsdelivr.net/gh/bmabey/pyLDAvis@3.3.1/pyLDAvis/js/ldavis.v3.0.0.js\", function(){\n",
       "        new LDAvis(\"#\" + \"ldavis_el2848028416805674242414186645\", ldavis_el2848028416805674242414186645_data);\n",
       "      });\n",
       "    });\n",
       "}else{\n",
       "    // require.js not available: dynamically load d3 & LDAvis\n",
       "    LDAvis_load_lib(\"https://d3js.org/d3.v5.js\", function(){\n",
       "         LDAvis_load_lib(\"https://cdn.jsdelivr.net/gh/bmabey/pyLDAvis@3.3.1/pyLDAvis/js/ldavis.v3.0.0.js\", function(){\n",
       "                 new LDAvis(\"#\" + \"ldavis_el2848028416805674242414186645\", ldavis_el2848028416805674242414186645_data);\n",
       "            })\n",
       "         });\n",
       "}\n",
       "</script>"
      ],
      "text/plain": [
       "PreparedData(topic_coordinates=              x         y  topics  cluster       Freq\n",
       "topic                                                \n",
       "0     -0.024890 -0.024287       1        1  17.501180\n",
       "4     -0.106295  0.012700       2        1  16.628306\n",
       "5      0.252544 -0.037805       3        1  14.592596\n",
       "3     -0.049955 -0.211666       4        1  14.244399\n",
       "2     -0.121479  0.362195       5        1  13.112302\n",
       "6     -0.214609 -0.147066       6        1  12.541556\n",
       "1      0.264685  0.045929       7        1  11.379660, topic_info=            Term        Freq       Total Category  logprob  loglift\n",
       "247        water  403.000000  403.000000  Default  30.0000  30.0000\n",
       "74        farmer  387.000000  387.000000  Default  29.0000  29.0000\n",
       "242      village  351.000000  351.000000  Default  28.0000  28.0000\n",
       "27         child  321.000000  321.000000  Default  27.0000  27.0000\n",
       "625         exam  188.000000  188.000000  Default  26.0000  26.0000\n",
       "..           ...         ...         ...      ...      ...      ...\n",
       "52   development   44.733626  124.061078   Topic7  -5.2673   1.1533\n",
       "263         area   43.693309  119.627761   Topic7  -5.2908   1.1662\n",
       "75      festival   47.854577  327.212268   Topic7  -5.1998   0.2509\n",
       "397         life   41.612676  108.118995   Topic7  -5.3396   1.2185\n",
       "216      student   41.612676  223.974782   Topic7  -5.3396   0.4902\n",
       "\n",
       "[600 rows x 6 columns], token_table=      Topic      Freq         Term\n",
       "term                              \n",
       "1299      7  0.961246        abuse\n",
       "256       1  0.976857       access\n",
       "1672      3  0.794286      account\n",
       "1672      6  0.218039      account\n",
       "1300      7  0.961246  acquisition\n",
       "...     ...       ...          ...\n",
       "525       5  0.278023        young\n",
       "253       1  0.544331        youth\n",
       "253       2  0.004355        youth\n",
       "253       3  0.074029        youth\n",
       "253       5  0.378855        youth\n",
       "\n",
       "[792 rows x 3 columns], R=30, lambda_step=0.01, plot_opts={'xlab': 'PC1', 'ylab': 'PC2'}, topic_order=[1, 5, 6, 4, 3, 7, 2])"
      ]
     },
     "execution_count": 118,
     "metadata": {},
     "output_type": "execute_result"
    }
   ],
   "source": [
    "mallet_lda_model = gensim.models.wrappers.ldamallet.malletmodel2ldamodel(lda_mallet)\n",
    "\n",
    "pyLDAvis.enable_notebook()\n",
    "mallet_LDAvis = gensimvis.prepare(mallet_lda_model, corpus, id2word)\n",
    "pyLDAvis.save_html(mallet_LDAvis, 'HTML/mallet_lda1_viz.html')\n",
    "mallet_LDAvis"
   ]
  },
  {
   "cell_type": "markdown",
   "metadata": {},
   "source": [
    "### Performance"
   ]
  },
  {
   "cell_type": "code",
   "execution_count": null,
   "metadata": {},
   "outputs": [],
   "source": [
    "mallet_coherence = []\n",
    "for k in range(2,16):\n",
    "    print('Round: '+str(k))\n",
    "    sample_ldamodel_mallet = gensim.models.wrappers.LdaMallet(\n",
    "       mallet_path, corpus=corpus, id2word=id2word)\n",
    "    \n",
    "    cm = gensim.models.coherencemodel.CoherenceModel(model=sample_ldamodel_mallet, texts=data_lemma,\\\n",
    "                                                     dictionary=id2word, coherence='c_v')\n",
    "    mallet_coherence.append((k,cm.get_coherence()))"
   ]
  },
  {
   "cell_type": "code",
   "execution_count": null,
   "metadata": {},
   "outputs": [],
   "source": [
    "x = [x[0] for x in mallet_coherence]\n",
    "y = [x[1] for x in mallet_coherence]\n",
    "\n",
    "plt.figure(figsize=(12, 6))\n",
    "plt.plot(x, y)\n",
    "plt.scatter(x, y)\n",
    "plt.title('Number of Topics vs. Coherence')\n",
    "plt.xlabel('Number of Topics')\n",
    "plt.ylabel('Coherence')\n",
    "plt.xticks(x)\n",
    "plt.savefig('Images/mallet_topics.png')\n",
    "plt.show()"
   ]
  },
  {
   "cell_type": "markdown",
   "metadata": {},
   "source": [
    "### Optimal topics model"
   ]
  },
  {
   "cell_type": "code",
   "execution_count": null,
   "metadata": {},
   "outputs": [],
   "source": [
    "optimal_lda_mallet = gensim.models.wrappers.LdaMallet(\n",
    "    mallet_path, corpus=corpus, num_topics=5, id2word=id2word)\n",
    "pprint(optimal_lda_mallet.show_topics(formatted=False))"
   ]
  },
  {
   "cell_type": "code",
   "execution_count": null,
   "metadata": {},
   "outputs": [],
   "source": [
    "optimal_mallet_lda_model = gensim.models.wrappers.ldamallet.malletmodel2ldamodel(optimal_lda_mallet)\n",
    "\n",
    "pyLDAvis.enable_notebook()\n",
    "optimal_mallet_LDAvis = gensimvis.prepare(optimal_mallet_lda_model, corpus, id2word)\n",
    "pyLDAvis.save_html(optimal_mallet_LDAvis, 'HTML/mallet_lda2_viz.html')\n",
    "optimal_mallet_LDAvis"
   ]
  },
  {
   "cell_type": "code",
   "execution_count": null,
   "metadata": {},
   "outputs": [],
   "source": [
    "print(optimal_mallet_LDAvis.topic_order)"
   ]
  },
  {
   "cell_type": "code",
   "execution_count": null,
   "metadata": {},
   "outputs": [],
   "source": []
  }
 ],
 "metadata": {
  "kernelspec": {
   "display_name": "Python 3",
   "language": "python",
   "name": "python3"
  },
  "language_info": {
   "codemirror_mode": {
    "name": "ipython",
    "version": 3
   },
   "file_extension": ".py",
   "mimetype": "text/x-python",
   "name": "python",
   "nbconvert_exporter": "python",
   "pygments_lexer": "ipython3",
   "version": "3.8.5"
  }
 },
 "nbformat": 4,
 "nbformat_minor": 4
}
