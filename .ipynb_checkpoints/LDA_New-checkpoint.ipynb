{
 "cells": [
  {
   "cell_type": "markdown",
   "metadata": {},
   "source": [
    "# Implementation of  *Latent Dirichlet Allocation* algorithm with Gensim and Mallet\n",
    "---\n",
    "\n",
    "\n",
    "### Topic modelling\n",
    "Topic Modeling is a process to automatically identify topics present in a text object and to derive hidden patterns exhibited by a text corpus. Topic Models are very useful for multiple purposes, including:\n",
    "\n",
    "- Document clustering\n",
    "- Organizing large blocks of textual data\n",
    "- Information retrieval from unstructured text\n",
    "- Feature selection\n",
    "\n",
    "Topic Modelling is different from rule-based text mining approaches that use regular expressions or dictionary based keyword searching techniques. It is an unsupervised approach used for finding and observing the bunch of words (called “topics”) in large clusters of texts.\n",
    "\n",
    "### LDA - Latent Dirichlet Allocation\n",
    "There are many approaches for obtaining topics from a text such as – Term Frequency and Inverse Document Frequency. NonNegative Matrix Factorization techniques. Latent Dirichlet Allocation is the most popular topic modeling technique."
   ]
  },
  {
   "cell_type": "code",
   "execution_count": 1,
   "metadata": {},
   "outputs": [],
   "source": [
    "import pandas as pd\n",
    "from pprint import pprint\n",
    "import gensim\n",
    "import gensim.corpora as corpora\n",
    "from gensim.utils import simple_preprocess\n",
    "from gensim.models import CoherenceModel\n",
    "import gensim.test.utils \n",
    "import spacy\n",
    "import en_core_web_sm\n",
    "import nltk \n",
    "#nltk.download('stopwords') - if needed\n",
    "# from nltk.corpus import stopwords\n",
    "from gensim.models.coherencemodel import CoherenceModel\n",
    "\n",
    "\n",
    "from gensim.parsing.preprocessing import STOPWORDS\n",
    "import tqdm\n",
    "import pyLDAvis\n",
    "import pyLDAvis.gensim_models as gensimvis\n",
    "%matplotlib inline\n",
    "import matplotlib.pyplot as plt\n",
    "\n",
    "import os\n",
    "from gensim.models.wrappers import LdaMallet\n",
    "os.environ.update({'MALLET_HOME':r'C:/new_mallet/mallet-2.0.8/'}) \n",
    "#You should update this path as per the path of Mallet directory on your system.\n",
    "mallet_path = 'C:\\\\new_mallet\\\\mallet-2.0.8\\\\bin\\\\mallet' \n",
    "#You should update this path as per the path of Mallet directory on your system.\n",
    "\n",
    "import warnings\n",
    "warnings.filterwarnings('ignore')"
   ]
  },
  {
   "cell_type": "code",
   "execution_count": 2,
   "metadata": {},
   "outputs": [
    {
     "data": {
      "text/html": [
       "<div>\n",
       "<style scoped>\n",
       "    .dataframe tbody tr th:only-of-type {\n",
       "        vertical-align: middle;\n",
       "    }\n",
       "\n",
       "    .dataframe tbody tr th {\n",
       "        vertical-align: top;\n",
       "    }\n",
       "\n",
       "    .dataframe thead th {\n",
       "        text-align: right;\n",
       "    }\n",
       "</style>\n",
       "<table border=\"1\" class=\"dataframe\">\n",
       "  <thead>\n",
       "    <tr style=\"text-align: right;\">\n",
       "      <th></th>\n",
       "      <th>Speech_date</th>\n",
       "      <th>Speech</th>\n",
       "    </tr>\n",
       "  </thead>\n",
       "  <tbody>\n",
       "    <tr>\n",
       "      <th>0</th>\n",
       "      <td>03 Oct, 2014</td>\n",
       "      <td>My Dear Countrymen,Today is the holy festival ...</td>\n",
       "    </tr>\n",
       "    <tr>\n",
       "      <th>1</th>\n",
       "      <td>02 Nov, 2014</td>\n",
       "      <td>My dear fellow countrymen, I am with you again...</td>\n",
       "    </tr>\n",
       "    <tr>\n",
       "      <th>2</th>\n",
       "      <td>14 Dec, 2014</td>\n",
       "      <td>My Dear Fellow Countrymen,Today I have this gr...</td>\n",
       "    </tr>\n",
       "    <tr>\n",
       "      <th>3</th>\n",
       "      <td>27 Jan, 2015</td>\n",
       "      <td>Today, Shri Barack Obama, President of the Uni...</td>\n",
       "    </tr>\n",
       "    <tr>\n",
       "      <th>4</th>\n",
       "      <td>22 Feb, 2015</td>\n",
       "      <td>Hello, my young friends. Today probably the en...</td>\n",
       "    </tr>\n",
       "    <tr>\n",
       "      <th>...</th>\n",
       "      <td>...</td>\n",
       "      <td>...</td>\n",
       "    </tr>\n",
       "    <tr>\n",
       "      <th>68</th>\n",
       "      <td>29 Nov, 2020</td>\n",
       "      <td>My dear countrymen,Namaskar! I want to share a...</td>\n",
       "    </tr>\n",
       "    <tr>\n",
       "      <th>69</th>\n",
       "      <td>27 Dec, 2020</td>\n",
       "      <td>My dear countrymen,Namaskar. Today is the 27th...</td>\n",
       "    </tr>\n",
       "    <tr>\n",
       "      <th>70</th>\n",
       "      <td>31 Jan, 2021</td>\n",
       "      <td>My dear countrymen,Namaskar. When I express Ma...</td>\n",
       "    </tr>\n",
       "    <tr>\n",
       "      <th>71</th>\n",
       "      <td>28 Feb, 2021</td>\n",
       "      <td>My dear countrymen,Namaskar. Yesterday was the...</td>\n",
       "    </tr>\n",
       "    <tr>\n",
       "      <th>72</th>\n",
       "      <td>28 Mar, 2021</td>\n",
       "      <td>My dear countrymen, Namaskar. This time when I...</td>\n",
       "    </tr>\n",
       "  </tbody>\n",
       "</table>\n",
       "<p>73 rows × 2 columns</p>\n",
       "</div>"
      ],
      "text/plain": [
       "     Speech_date                                             Speech\n",
       "0   03 Oct, 2014  My Dear Countrymen,Today is the holy festival ...\n",
       "1   02 Nov, 2014  My dear fellow countrymen, I am with you again...\n",
       "2   14 Dec, 2014  My Dear Fellow Countrymen,Today I have this gr...\n",
       "3   27 Jan, 2015  Today, Shri Barack Obama, President of the Uni...\n",
       "4   22 Feb, 2015  Hello, my young friends. Today probably the en...\n",
       "..           ...                                                ...\n",
       "68  29 Nov, 2020  My dear countrymen,Namaskar! I want to share a...\n",
       "69  27 Dec, 2020  My dear countrymen,Namaskar. Today is the 27th...\n",
       "70  31 Jan, 2021  My dear countrymen,Namaskar. When I express Ma...\n",
       "71  28 Feb, 2021  My dear countrymen,Namaskar. Yesterday was the...\n",
       "72  28 Mar, 2021  My dear countrymen, Namaskar. This time when I...\n",
       "\n",
       "[73 rows x 2 columns]"
      ]
     },
     "execution_count": 2,
     "metadata": {},
     "output_type": "execute_result"
    }
   ],
   "source": [
    "df = pd.read_csv('Datasets/mann_ki_baat.csv')\n",
    "df = df.drop(['Unnamed: 0'], axis=1)\n",
    "df"
   ]
  },
  {
   "cell_type": "code",
   "execution_count": 3,
   "metadata": {},
   "outputs": [],
   "source": [
    "def remove_stopwords(texts):\n",
    "    return[[word for word in simple_preprocess(str(doc)) if word not in all_stopwords_gensim]\n",
    "            for doc in texts]\n",
    "\n",
    "def make_bigrams(texts):\n",
    "    return [bigram_mod[doc] for doc in texts]#Turn words into lemmas\n",
    "\n",
    "def lemmatization(texts, allowed_postags=['NOUN', 'ADJ']):\n",
    "    \"\"\"https://spacy.io/api/annotation\"\"\"\n",
    "    texts_out = []\n",
    "    for sent in texts:\n",
    "        doc = nlp(\" \".join(sent))\n",
    "        texts_out.append([token.lemma_ for token in doc if token.pos_ in allowed_postags])\n",
    "    return texts_out\n",
    "\n",
    "bigram = gensim.models.Phrases(df['Speech'], min_count = 5, threshold = 100)\n",
    "bigram_mod = gensim.models.phrases.Phraser(bigram)\n",
    "all_stopwords_gensim = STOPWORDS.union(set(['time', 'new', 'mr.', 'mrs.', 'ki', 'th', 'today', 'way', 'am', 'address', 'own',\n",
    "                                            'true', 'mann', 'baat', 'people', 'countryman', 'hindi', 'year', 'new', 'day',\n",
    "                                            'life', 'friend', 'friends', 'month', 'world', 'many', 'dr.', 'pm', 'modi', 'ji', \n",
    "                                            'pe', 'cook', 'brinjal', 'st', 'nd', 'rd', 'sir', 'dear', 'morning', 'sunday',\n",
    "                                            'version', 'speech', 'sundays', 'authoritative', 'rendering', 'english', 'original',\n",
    "                                            'bag', 'suggestion', 'next', 'step', 'numerous', 'dear', 'fellow','government', \n",
    "                                            'india', 'country', 'bharat', 'indian', 'message', 'event', 'nation', 'national',\n",
    "                                            'january', 'december', 'march', 'june', 'rt', 'ak', 'usman', 'usman-', 'kaniga-', \n",
    "                                            'decision', 'scheme', 'self', 'thing', 'region', 'reliant', 'countrymen','greetings',\n",
    "                                            'like', 'share', 'ii', 'prime', 'minister', 'thing', 'lot', 'thought', 'issue',\n",
    "                                            'great', 'good', 'big', 'day', 'year', 'entire', 'place']))"
   ]
  },
  {
   "cell_type": "code",
   "execution_count": 4,
   "metadata": {},
   "outputs": [],
   "source": [
    "data_words_nostops = remove_stopwords(df['Speech'])\n",
    "data_words_bigram = make_bigrams(data_words_nostops)\n",
    "nlp = en_core_web_sm.load(disable = ['parser', 'ner'])\n",
    "data_lemma = lemmatization(data_words_bigram, allowed_postags=['NOUN', 'ADJ'])\n",
    "\n",
    "id2word = corpora.Dictionary(data_lemma)\n",
    "#corpus\n",
    "texts = data_lemma\n",
    "#term document matrix\n",
    "corpus = [id2word.doc2bow(text) for text in texts]"
   ]
  },
  {
   "cell_type": "markdown",
   "metadata": {},
   "source": [
    "## Gensim - LDA"
   ]
  },
  {
   "cell_type": "code",
   "execution_count": 8,
   "metadata": {},
   "outputs": [
    {
     "data": {
      "application/vnd.plotly.v1+json": {
       "config": {
        "plotlyServerURL": "https://plot.ly"
       },
       "data": [
        {
         "mode": "lines+markers",
         "name": "Coherence score",
         "type": "scatter",
         "x": [
          2,
          3,
          4,
          5,
          6,
          7,
          8,
          9,
          10,
          11,
          12,
          13,
          14,
          15,
          16,
          17,
          18,
          19,
          20,
          21,
          22,
          23,
          24
         ],
         "xaxis": "x",
         "y": [
          0.26608857475756653,
          0.3345229203633367,
          0.31791046979784154,
          0.38725839446407806,
          0.4210683802572306,
          0.3801593984808114,
          0.4810679079670511,
          0.5427504537169949,
          0.5345967630756189,
          0.5957620548720519,
          0.625770940426583,
          0.3884248848907518,
          0.370180917105469,
          0.3560682868472949,
          0.35414625403475736,
          0.35252843506704035,
          0.35609576250445013,
          0.35208714089582943,
          0.3492999710057048,
          0.34949453320752766,
          0.35375465084037944,
          0.35834091167641263,
          0.3488933139858538
         ],
         "yaxis": "y"
        },
        {
         "mode": "lines+markers",
         "name": "Perplexity",
         "type": "scatter",
         "x": [
          2,
          3,
          4,
          5,
          6,
          7,
          8,
          9,
          10,
          11,
          12,
          13,
          14,
          15,
          16,
          17,
          18,
          19,
          20,
          21,
          22,
          23,
          24
         ],
         "xaxis": "x2",
         "y": [
          -8.375630873065687,
          -8.437459394243465,
          -8.504044034238426,
          -8.53673342586352,
          -8.60414325881257,
          -8.656856040117109,
          -8.782301858569587,
          -8.981644068889683,
          -9.24824386150649,
          -9.824106596472838,
          -10.601635743197281,
          -11.702136732998406,
          -13.181616028749493,
          -15.42605321767311,
          -17.326071109935146,
          -19.547898310034377,
          -20.281349295497854,
          -20.984329721807395,
          -21.517004128958053,
          -22.461696200988545,
          -22.973655129662713,
          -23.845202298329912,
          -24.354923374538746
         ],
         "yaxis": "y2"
        }
       ],
       "layout": {
        "annotations": [
         {
          "font": {
           "size": 16
          },
          "showarrow": false,
          "text": "Coherence score",
          "x": 0.5,
          "xanchor": "center",
          "xref": "paper",
          "y": 1,
          "yanchor": "bottom",
          "yref": "paper"
         },
         {
          "font": {
           "size": 16
          },
          "showarrow": false,
          "text": "Perplexity",
          "x": 0.5,
          "xanchor": "center",
          "xref": "paper",
          "y": 0.49,
          "yanchor": "bottom",
          "yref": "paper"
         }
        ],
        "height": 600,
        "template": {
         "data": {
          "bar": [
           {
            "error_x": {
             "color": "#2a3f5f"
            },
            "error_y": {
             "color": "#2a3f5f"
            },
            "marker": {
             "line": {
              "color": "#E5ECF6",
              "width": 0.5
             }
            },
            "type": "bar"
           }
          ],
          "barpolar": [
           {
            "marker": {
             "line": {
              "color": "#E5ECF6",
              "width": 0.5
             }
            },
            "type": "barpolar"
           }
          ],
          "carpet": [
           {
            "aaxis": {
             "endlinecolor": "#2a3f5f",
             "gridcolor": "white",
             "linecolor": "white",
             "minorgridcolor": "white",
             "startlinecolor": "#2a3f5f"
            },
            "baxis": {
             "endlinecolor": "#2a3f5f",
             "gridcolor": "white",
             "linecolor": "white",
             "minorgridcolor": "white",
             "startlinecolor": "#2a3f5f"
            },
            "type": "carpet"
           }
          ],
          "choropleth": [
           {
            "colorbar": {
             "outlinewidth": 0,
             "ticks": ""
            },
            "type": "choropleth"
           }
          ],
          "contour": [
           {
            "colorbar": {
             "outlinewidth": 0,
             "ticks": ""
            },
            "colorscale": [
             [
              0,
              "#0d0887"
             ],
             [
              0.1111111111111111,
              "#46039f"
             ],
             [
              0.2222222222222222,
              "#7201a8"
             ],
             [
              0.3333333333333333,
              "#9c179e"
             ],
             [
              0.4444444444444444,
              "#bd3786"
             ],
             [
              0.5555555555555556,
              "#d8576b"
             ],
             [
              0.6666666666666666,
              "#ed7953"
             ],
             [
              0.7777777777777778,
              "#fb9f3a"
             ],
             [
              0.8888888888888888,
              "#fdca26"
             ],
             [
              1,
              "#f0f921"
             ]
            ],
            "type": "contour"
           }
          ],
          "contourcarpet": [
           {
            "colorbar": {
             "outlinewidth": 0,
             "ticks": ""
            },
            "type": "contourcarpet"
           }
          ],
          "heatmap": [
           {
            "colorbar": {
             "outlinewidth": 0,
             "ticks": ""
            },
            "colorscale": [
             [
              0,
              "#0d0887"
             ],
             [
              0.1111111111111111,
              "#46039f"
             ],
             [
              0.2222222222222222,
              "#7201a8"
             ],
             [
              0.3333333333333333,
              "#9c179e"
             ],
             [
              0.4444444444444444,
              "#bd3786"
             ],
             [
              0.5555555555555556,
              "#d8576b"
             ],
             [
              0.6666666666666666,
              "#ed7953"
             ],
             [
              0.7777777777777778,
              "#fb9f3a"
             ],
             [
              0.8888888888888888,
              "#fdca26"
             ],
             [
              1,
              "#f0f921"
             ]
            ],
            "type": "heatmap"
           }
          ],
          "heatmapgl": [
           {
            "colorbar": {
             "outlinewidth": 0,
             "ticks": ""
            },
            "colorscale": [
             [
              0,
              "#0d0887"
             ],
             [
              0.1111111111111111,
              "#46039f"
             ],
             [
              0.2222222222222222,
              "#7201a8"
             ],
             [
              0.3333333333333333,
              "#9c179e"
             ],
             [
              0.4444444444444444,
              "#bd3786"
             ],
             [
              0.5555555555555556,
              "#d8576b"
             ],
             [
              0.6666666666666666,
              "#ed7953"
             ],
             [
              0.7777777777777778,
              "#fb9f3a"
             ],
             [
              0.8888888888888888,
              "#fdca26"
             ],
             [
              1,
              "#f0f921"
             ]
            ],
            "type": "heatmapgl"
           }
          ],
          "histogram": [
           {
            "marker": {
             "colorbar": {
              "outlinewidth": 0,
              "ticks": ""
             }
            },
            "type": "histogram"
           }
          ],
          "histogram2d": [
           {
            "colorbar": {
             "outlinewidth": 0,
             "ticks": ""
            },
            "colorscale": [
             [
              0,
              "#0d0887"
             ],
             [
              0.1111111111111111,
              "#46039f"
             ],
             [
              0.2222222222222222,
              "#7201a8"
             ],
             [
              0.3333333333333333,
              "#9c179e"
             ],
             [
              0.4444444444444444,
              "#bd3786"
             ],
             [
              0.5555555555555556,
              "#d8576b"
             ],
             [
              0.6666666666666666,
              "#ed7953"
             ],
             [
              0.7777777777777778,
              "#fb9f3a"
             ],
             [
              0.8888888888888888,
              "#fdca26"
             ],
             [
              1,
              "#f0f921"
             ]
            ],
            "type": "histogram2d"
           }
          ],
          "histogram2dcontour": [
           {
            "colorbar": {
             "outlinewidth": 0,
             "ticks": ""
            },
            "colorscale": [
             [
              0,
              "#0d0887"
             ],
             [
              0.1111111111111111,
              "#46039f"
             ],
             [
              0.2222222222222222,
              "#7201a8"
             ],
             [
              0.3333333333333333,
              "#9c179e"
             ],
             [
              0.4444444444444444,
              "#bd3786"
             ],
             [
              0.5555555555555556,
              "#d8576b"
             ],
             [
              0.6666666666666666,
              "#ed7953"
             ],
             [
              0.7777777777777778,
              "#fb9f3a"
             ],
             [
              0.8888888888888888,
              "#fdca26"
             ],
             [
              1,
              "#f0f921"
             ]
            ],
            "type": "histogram2dcontour"
           }
          ],
          "mesh3d": [
           {
            "colorbar": {
             "outlinewidth": 0,
             "ticks": ""
            },
            "type": "mesh3d"
           }
          ],
          "parcoords": [
           {
            "line": {
             "colorbar": {
              "outlinewidth": 0,
              "ticks": ""
             }
            },
            "type": "parcoords"
           }
          ],
          "pie": [
           {
            "automargin": true,
            "type": "pie"
           }
          ],
          "scatter": [
           {
            "marker": {
             "colorbar": {
              "outlinewidth": 0,
              "ticks": ""
             }
            },
            "type": "scatter"
           }
          ],
          "scatter3d": [
           {
            "line": {
             "colorbar": {
              "outlinewidth": 0,
              "ticks": ""
             }
            },
            "marker": {
             "colorbar": {
              "outlinewidth": 0,
              "ticks": ""
             }
            },
            "type": "scatter3d"
           }
          ],
          "scattercarpet": [
           {
            "marker": {
             "colorbar": {
              "outlinewidth": 0,
              "ticks": ""
             }
            },
            "type": "scattercarpet"
           }
          ],
          "scattergeo": [
           {
            "marker": {
             "colorbar": {
              "outlinewidth": 0,
              "ticks": ""
             }
            },
            "type": "scattergeo"
           }
          ],
          "scattergl": [
           {
            "marker": {
             "colorbar": {
              "outlinewidth": 0,
              "ticks": ""
             }
            },
            "type": "scattergl"
           }
          ],
          "scattermapbox": [
           {
            "marker": {
             "colorbar": {
              "outlinewidth": 0,
              "ticks": ""
             }
            },
            "type": "scattermapbox"
           }
          ],
          "scatterpolar": [
           {
            "marker": {
             "colorbar": {
              "outlinewidth": 0,
              "ticks": ""
             }
            },
            "type": "scatterpolar"
           }
          ],
          "scatterpolargl": [
           {
            "marker": {
             "colorbar": {
              "outlinewidth": 0,
              "ticks": ""
             }
            },
            "type": "scatterpolargl"
           }
          ],
          "scatterternary": [
           {
            "marker": {
             "colorbar": {
              "outlinewidth": 0,
              "ticks": ""
             }
            },
            "type": "scatterternary"
           }
          ],
          "surface": [
           {
            "colorbar": {
             "outlinewidth": 0,
             "ticks": ""
            },
            "colorscale": [
             [
              0,
              "#0d0887"
             ],
             [
              0.1111111111111111,
              "#46039f"
             ],
             [
              0.2222222222222222,
              "#7201a8"
             ],
             [
              0.3333333333333333,
              "#9c179e"
             ],
             [
              0.4444444444444444,
              "#bd3786"
             ],
             [
              0.5555555555555556,
              "#d8576b"
             ],
             [
              0.6666666666666666,
              "#ed7953"
             ],
             [
              0.7777777777777778,
              "#fb9f3a"
             ],
             [
              0.8888888888888888,
              "#fdca26"
             ],
             [
              1,
              "#f0f921"
             ]
            ],
            "type": "surface"
           }
          ],
          "table": [
           {
            "cells": {
             "fill": {
              "color": "#EBF0F8"
             },
             "line": {
              "color": "white"
             }
            },
            "header": {
             "fill": {
              "color": "#C8D4E3"
             },
             "line": {
              "color": "white"
             }
            },
            "type": "table"
           }
          ]
         },
         "layout": {
          "annotationdefaults": {
           "arrowcolor": "#2a3f5f",
           "arrowhead": 0,
           "arrowwidth": 1
          },
          "autotypenumbers": "strict",
          "coloraxis": {
           "colorbar": {
            "outlinewidth": 0,
            "ticks": ""
           }
          },
          "colorscale": {
           "diverging": [
            [
             0,
             "#8e0152"
            ],
            [
             0.1,
             "#c51b7d"
            ],
            [
             0.2,
             "#de77ae"
            ],
            [
             0.3,
             "#f1b6da"
            ],
            [
             0.4,
             "#fde0ef"
            ],
            [
             0.5,
             "#f7f7f7"
            ],
            [
             0.6,
             "#e6f5d0"
            ],
            [
             0.7,
             "#b8e186"
            ],
            [
             0.8,
             "#7fbc41"
            ],
            [
             0.9,
             "#4d9221"
            ],
            [
             1,
             "#276419"
            ]
           ],
           "sequential": [
            [
             0,
             "#0d0887"
            ],
            [
             0.1111111111111111,
             "#46039f"
            ],
            [
             0.2222222222222222,
             "#7201a8"
            ],
            [
             0.3333333333333333,
             "#9c179e"
            ],
            [
             0.4444444444444444,
             "#bd3786"
            ],
            [
             0.5555555555555556,
             "#d8576b"
            ],
            [
             0.6666666666666666,
             "#ed7953"
            ],
            [
             0.7777777777777778,
             "#fb9f3a"
            ],
            [
             0.8888888888888888,
             "#fdca26"
            ],
            [
             1,
             "#f0f921"
            ]
           ],
           "sequentialminus": [
            [
             0,
             "#0d0887"
            ],
            [
             0.1111111111111111,
             "#46039f"
            ],
            [
             0.2222222222222222,
             "#7201a8"
            ],
            [
             0.3333333333333333,
             "#9c179e"
            ],
            [
             0.4444444444444444,
             "#bd3786"
            ],
            [
             0.5555555555555556,
             "#d8576b"
            ],
            [
             0.6666666666666666,
             "#ed7953"
            ],
            [
             0.7777777777777778,
             "#fb9f3a"
            ],
            [
             0.8888888888888888,
             "#fdca26"
            ],
            [
             1,
             "#f0f921"
            ]
           ]
          },
          "colorway": [
           "#636efa",
           "#EF553B",
           "#00cc96",
           "#ab63fa",
           "#FFA15A",
           "#19d3f3",
           "#FF6692",
           "#B6E880",
           "#FF97FF",
           "#FECB52"
          ],
          "font": {
           "color": "#2a3f5f"
          },
          "geo": {
           "bgcolor": "white",
           "lakecolor": "white",
           "landcolor": "#E5ECF6",
           "showlakes": true,
           "showland": true,
           "subunitcolor": "white"
          },
          "hoverlabel": {
           "align": "left"
          },
          "hovermode": "closest",
          "mapbox": {
           "style": "light"
          },
          "paper_bgcolor": "white",
          "plot_bgcolor": "#E5ECF6",
          "polar": {
           "angularaxis": {
            "gridcolor": "white",
            "linecolor": "white",
            "ticks": ""
           },
           "bgcolor": "#E5ECF6",
           "radialaxis": {
            "gridcolor": "white",
            "linecolor": "white",
            "ticks": ""
           }
          },
          "scene": {
           "xaxis": {
            "backgroundcolor": "#E5ECF6",
            "gridcolor": "white",
            "gridwidth": 2,
            "linecolor": "white",
            "showbackground": true,
            "ticks": "",
            "zerolinecolor": "white"
           },
           "yaxis": {
            "backgroundcolor": "#E5ECF6",
            "gridcolor": "white",
            "gridwidth": 2,
            "linecolor": "white",
            "showbackground": true,
            "ticks": "",
            "zerolinecolor": "white"
           },
           "zaxis": {
            "backgroundcolor": "#E5ECF6",
            "gridcolor": "white",
            "gridwidth": 2,
            "linecolor": "white",
            "showbackground": true,
            "ticks": "",
            "zerolinecolor": "white"
           }
          },
          "shapedefaults": {
           "line": {
            "color": "#2a3f5f"
           }
          },
          "ternary": {
           "aaxis": {
            "gridcolor": "white",
            "linecolor": "white",
            "ticks": ""
           },
           "baxis": {
            "gridcolor": "white",
            "linecolor": "white",
            "ticks": ""
           },
           "bgcolor": "#E5ECF6",
           "caxis": {
            "gridcolor": "white",
            "linecolor": "white",
            "ticks": ""
           }
          },
          "title": {
           "x": 0.05
          },
          "xaxis": {
           "automargin": true,
           "gridcolor": "white",
           "linecolor": "white",
           "ticks": "",
           "title": {
            "standoff": 15
           },
           "zerolinecolor": "white",
           "zerolinewidth": 2
          },
          "yaxis": {
           "automargin": true,
           "gridcolor": "white",
           "linecolor": "white",
           "ticks": "",
           "title": {
            "standoff": 15
           },
           "zerolinecolor": "white",
           "zerolinewidth": 2
          }
         }
        },
        "title": {
         "text": "Gensim LDA - Number of Topics vs. Coherence and Perplexity"
        },
        "width": 1000,
        "xaxis": {
         "anchor": "y",
         "domain": [
          0,
          1
         ],
         "dtick": 1,
         "matches": "x2",
         "showticklabels": false,
         "tick0": 1,
         "tickmode": "linear"
        },
        "xaxis2": {
         "anchor": "y2",
         "domain": [
          0,
          1
         ],
         "dtick": 1,
         "tick0": 1,
         "tickmode": "linear"
        },
        "yaxis": {
         "anchor": "x",
         "domain": [
          0.51,
          1
         ]
        },
        "yaxis2": {
         "anchor": "x2",
         "domain": [
          0,
          0.49
         ]
        }
       }
      },
      "text/html": [
       "<div>                            <div id=\"3124572d-1cf8-4395-b9fc-c30fb6d367f2\" class=\"plotly-graph-div\" style=\"height:600px; width:1000px;\"></div>            <script type=\"text/javascript\">                require([\"plotly\"], function(Plotly) {                    window.PLOTLYENV=window.PLOTLYENV || {};                                    if (document.getElementById(\"3124572d-1cf8-4395-b9fc-c30fb6d367f2\")) {                    Plotly.newPlot(                        \"3124572d-1cf8-4395-b9fc-c30fb6d367f2\",                        [{\"mode\": \"lines+markers\", \"name\": \"Coherence score\", \"type\": \"scatter\", \"x\": [2, 3, 4, 5, 6, 7, 8, 9, 10, 11, 12, 13, 14, 15, 16, 17, 18, 19, 20, 21, 22, 23, 24], \"xaxis\": \"x\", \"y\": [0.26608857475756653, 0.3345229203633367, 0.31791046979784154, 0.38725839446407806, 0.4210683802572306, 0.3801593984808114, 0.4810679079670511, 0.5427504537169949, 0.5345967630756189, 0.5957620548720519, 0.625770940426583, 0.3884248848907518, 0.370180917105469, 0.3560682868472949, 0.35414625403475736, 0.35252843506704035, 0.35609576250445013, 0.35208714089582943, 0.3492999710057048, 0.34949453320752766, 0.35375465084037944, 0.35834091167641263, 0.3488933139858538], \"yaxis\": \"y\"}, {\"mode\": \"lines+markers\", \"name\": \"Perplexity\", \"type\": \"scatter\", \"x\": [2, 3, 4, 5, 6, 7, 8, 9, 10, 11, 12, 13, 14, 15, 16, 17, 18, 19, 20, 21, 22, 23, 24], \"xaxis\": \"x2\", \"y\": [-8.375630873065687, -8.437459394243465, -8.504044034238426, -8.53673342586352, -8.60414325881257, -8.656856040117109, -8.782301858569587, -8.981644068889683, -9.24824386150649, -9.824106596472838, -10.601635743197281, -11.702136732998406, -13.181616028749493, -15.42605321767311, -17.326071109935146, -19.547898310034377, -20.281349295497854, -20.984329721807395, -21.517004128958053, -22.461696200988545, -22.973655129662713, -23.845202298329912, -24.354923374538746], \"yaxis\": \"y2\"}],                        {\"annotations\": [{\"font\": {\"size\": 16}, \"showarrow\": false, \"text\": \"Coherence score\", \"x\": 0.5, \"xanchor\": \"center\", \"xref\": \"paper\", \"y\": 1.0, \"yanchor\": \"bottom\", \"yref\": \"paper\"}, {\"font\": {\"size\": 16}, \"showarrow\": false, \"text\": \"Perplexity\", \"x\": 0.5, \"xanchor\": \"center\", \"xref\": \"paper\", \"y\": 0.49, \"yanchor\": \"bottom\", \"yref\": \"paper\"}], \"height\": 600, \"template\": {\"data\": {\"bar\": [{\"error_x\": {\"color\": \"#2a3f5f\"}, \"error_y\": {\"color\": \"#2a3f5f\"}, \"marker\": {\"line\": {\"color\": \"#E5ECF6\", \"width\": 0.5}}, \"type\": \"bar\"}], \"barpolar\": [{\"marker\": {\"line\": {\"color\": \"#E5ECF6\", \"width\": 0.5}}, \"type\": \"barpolar\"}], \"carpet\": [{\"aaxis\": {\"endlinecolor\": \"#2a3f5f\", \"gridcolor\": \"white\", \"linecolor\": \"white\", \"minorgridcolor\": \"white\", \"startlinecolor\": \"#2a3f5f\"}, \"baxis\": {\"endlinecolor\": \"#2a3f5f\", \"gridcolor\": \"white\", \"linecolor\": \"white\", \"minorgridcolor\": \"white\", \"startlinecolor\": \"#2a3f5f\"}, \"type\": \"carpet\"}], \"choropleth\": [{\"colorbar\": {\"outlinewidth\": 0, \"ticks\": \"\"}, \"type\": \"choropleth\"}], \"contour\": [{\"colorbar\": {\"outlinewidth\": 0, \"ticks\": \"\"}, \"colorscale\": [[0.0, \"#0d0887\"], [0.1111111111111111, \"#46039f\"], [0.2222222222222222, \"#7201a8\"], [0.3333333333333333, \"#9c179e\"], [0.4444444444444444, \"#bd3786\"], [0.5555555555555556, \"#d8576b\"], [0.6666666666666666, \"#ed7953\"], [0.7777777777777778, \"#fb9f3a\"], [0.8888888888888888, \"#fdca26\"], [1.0, \"#f0f921\"]], \"type\": \"contour\"}], \"contourcarpet\": [{\"colorbar\": {\"outlinewidth\": 0, \"ticks\": \"\"}, \"type\": \"contourcarpet\"}], \"heatmap\": [{\"colorbar\": {\"outlinewidth\": 0, \"ticks\": \"\"}, \"colorscale\": [[0.0, \"#0d0887\"], [0.1111111111111111, \"#46039f\"], [0.2222222222222222, \"#7201a8\"], [0.3333333333333333, \"#9c179e\"], [0.4444444444444444, \"#bd3786\"], [0.5555555555555556, \"#d8576b\"], [0.6666666666666666, \"#ed7953\"], [0.7777777777777778, \"#fb9f3a\"], [0.8888888888888888, \"#fdca26\"], [1.0, \"#f0f921\"]], \"type\": \"heatmap\"}], \"heatmapgl\": [{\"colorbar\": {\"outlinewidth\": 0, \"ticks\": \"\"}, \"colorscale\": [[0.0, \"#0d0887\"], [0.1111111111111111, \"#46039f\"], [0.2222222222222222, \"#7201a8\"], [0.3333333333333333, \"#9c179e\"], [0.4444444444444444, \"#bd3786\"], [0.5555555555555556, \"#d8576b\"], [0.6666666666666666, \"#ed7953\"], [0.7777777777777778, \"#fb9f3a\"], [0.8888888888888888, \"#fdca26\"], [1.0, \"#f0f921\"]], \"type\": \"heatmapgl\"}], \"histogram\": [{\"marker\": {\"colorbar\": {\"outlinewidth\": 0, \"ticks\": \"\"}}, \"type\": \"histogram\"}], \"histogram2d\": [{\"colorbar\": {\"outlinewidth\": 0, \"ticks\": \"\"}, \"colorscale\": [[0.0, \"#0d0887\"], [0.1111111111111111, \"#46039f\"], [0.2222222222222222, \"#7201a8\"], [0.3333333333333333, \"#9c179e\"], [0.4444444444444444, \"#bd3786\"], [0.5555555555555556, \"#d8576b\"], [0.6666666666666666, \"#ed7953\"], [0.7777777777777778, \"#fb9f3a\"], [0.8888888888888888, \"#fdca26\"], [1.0, \"#f0f921\"]], \"type\": \"histogram2d\"}], \"histogram2dcontour\": [{\"colorbar\": {\"outlinewidth\": 0, \"ticks\": \"\"}, \"colorscale\": [[0.0, \"#0d0887\"], [0.1111111111111111, \"#46039f\"], [0.2222222222222222, \"#7201a8\"], [0.3333333333333333, \"#9c179e\"], [0.4444444444444444, \"#bd3786\"], [0.5555555555555556, \"#d8576b\"], [0.6666666666666666, \"#ed7953\"], [0.7777777777777778, \"#fb9f3a\"], [0.8888888888888888, \"#fdca26\"], [1.0, \"#f0f921\"]], \"type\": \"histogram2dcontour\"}], \"mesh3d\": [{\"colorbar\": {\"outlinewidth\": 0, \"ticks\": \"\"}, \"type\": \"mesh3d\"}], \"parcoords\": [{\"line\": {\"colorbar\": {\"outlinewidth\": 0, \"ticks\": \"\"}}, \"type\": \"parcoords\"}], \"pie\": [{\"automargin\": true, \"type\": \"pie\"}], \"scatter\": [{\"marker\": {\"colorbar\": {\"outlinewidth\": 0, \"ticks\": \"\"}}, \"type\": \"scatter\"}], \"scatter3d\": [{\"line\": {\"colorbar\": {\"outlinewidth\": 0, \"ticks\": \"\"}}, \"marker\": {\"colorbar\": {\"outlinewidth\": 0, \"ticks\": \"\"}}, \"type\": \"scatter3d\"}], \"scattercarpet\": [{\"marker\": {\"colorbar\": {\"outlinewidth\": 0, \"ticks\": \"\"}}, \"type\": \"scattercarpet\"}], \"scattergeo\": [{\"marker\": {\"colorbar\": {\"outlinewidth\": 0, \"ticks\": \"\"}}, \"type\": \"scattergeo\"}], \"scattergl\": [{\"marker\": {\"colorbar\": {\"outlinewidth\": 0, \"ticks\": \"\"}}, \"type\": \"scattergl\"}], \"scattermapbox\": [{\"marker\": {\"colorbar\": {\"outlinewidth\": 0, \"ticks\": \"\"}}, \"type\": \"scattermapbox\"}], \"scatterpolar\": [{\"marker\": {\"colorbar\": {\"outlinewidth\": 0, \"ticks\": \"\"}}, \"type\": \"scatterpolar\"}], \"scatterpolargl\": [{\"marker\": {\"colorbar\": {\"outlinewidth\": 0, \"ticks\": \"\"}}, \"type\": \"scatterpolargl\"}], \"scatterternary\": [{\"marker\": {\"colorbar\": {\"outlinewidth\": 0, \"ticks\": \"\"}}, \"type\": \"scatterternary\"}], \"surface\": [{\"colorbar\": {\"outlinewidth\": 0, \"ticks\": \"\"}, \"colorscale\": [[0.0, \"#0d0887\"], [0.1111111111111111, \"#46039f\"], [0.2222222222222222, \"#7201a8\"], [0.3333333333333333, \"#9c179e\"], [0.4444444444444444, \"#bd3786\"], [0.5555555555555556, \"#d8576b\"], [0.6666666666666666, \"#ed7953\"], [0.7777777777777778, \"#fb9f3a\"], [0.8888888888888888, \"#fdca26\"], [1.0, \"#f0f921\"]], \"type\": \"surface\"}], \"table\": [{\"cells\": {\"fill\": {\"color\": \"#EBF0F8\"}, \"line\": {\"color\": \"white\"}}, \"header\": {\"fill\": {\"color\": \"#C8D4E3\"}, \"line\": {\"color\": \"white\"}}, \"type\": \"table\"}]}, \"layout\": {\"annotationdefaults\": {\"arrowcolor\": \"#2a3f5f\", \"arrowhead\": 0, \"arrowwidth\": 1}, \"autotypenumbers\": \"strict\", \"coloraxis\": {\"colorbar\": {\"outlinewidth\": 0, \"ticks\": \"\"}}, \"colorscale\": {\"diverging\": [[0, \"#8e0152\"], [0.1, \"#c51b7d\"], [0.2, \"#de77ae\"], [0.3, \"#f1b6da\"], [0.4, \"#fde0ef\"], [0.5, \"#f7f7f7\"], [0.6, \"#e6f5d0\"], [0.7, \"#b8e186\"], [0.8, \"#7fbc41\"], [0.9, \"#4d9221\"], [1, \"#276419\"]], \"sequential\": [[0.0, \"#0d0887\"], [0.1111111111111111, \"#46039f\"], [0.2222222222222222, \"#7201a8\"], [0.3333333333333333, \"#9c179e\"], [0.4444444444444444, \"#bd3786\"], [0.5555555555555556, \"#d8576b\"], [0.6666666666666666, \"#ed7953\"], [0.7777777777777778, \"#fb9f3a\"], [0.8888888888888888, \"#fdca26\"], [1.0, \"#f0f921\"]], \"sequentialminus\": [[0.0, \"#0d0887\"], [0.1111111111111111, \"#46039f\"], [0.2222222222222222, \"#7201a8\"], [0.3333333333333333, \"#9c179e\"], [0.4444444444444444, \"#bd3786\"], [0.5555555555555556, \"#d8576b\"], [0.6666666666666666, \"#ed7953\"], [0.7777777777777778, \"#fb9f3a\"], [0.8888888888888888, \"#fdca26\"], [1.0, \"#f0f921\"]]}, \"colorway\": [\"#636efa\", \"#EF553B\", \"#00cc96\", \"#ab63fa\", \"#FFA15A\", \"#19d3f3\", \"#FF6692\", \"#B6E880\", \"#FF97FF\", \"#FECB52\"], \"font\": {\"color\": \"#2a3f5f\"}, \"geo\": {\"bgcolor\": \"white\", \"lakecolor\": \"white\", \"landcolor\": \"#E5ECF6\", \"showlakes\": true, \"showland\": true, \"subunitcolor\": \"white\"}, \"hoverlabel\": {\"align\": \"left\"}, \"hovermode\": \"closest\", \"mapbox\": {\"style\": \"light\"}, \"paper_bgcolor\": \"white\", \"plot_bgcolor\": \"#E5ECF6\", \"polar\": {\"angularaxis\": {\"gridcolor\": \"white\", \"linecolor\": \"white\", \"ticks\": \"\"}, \"bgcolor\": \"#E5ECF6\", \"radialaxis\": {\"gridcolor\": \"white\", \"linecolor\": \"white\", \"ticks\": \"\"}}, \"scene\": {\"xaxis\": {\"backgroundcolor\": \"#E5ECF6\", \"gridcolor\": \"white\", \"gridwidth\": 2, \"linecolor\": \"white\", \"showbackground\": true, \"ticks\": \"\", \"zerolinecolor\": \"white\"}, \"yaxis\": {\"backgroundcolor\": \"#E5ECF6\", \"gridcolor\": \"white\", \"gridwidth\": 2, \"linecolor\": \"white\", \"showbackground\": true, \"ticks\": \"\", \"zerolinecolor\": \"white\"}, \"zaxis\": {\"backgroundcolor\": \"#E5ECF6\", \"gridcolor\": \"white\", \"gridwidth\": 2, \"linecolor\": \"white\", \"showbackground\": true, \"ticks\": \"\", \"zerolinecolor\": \"white\"}}, \"shapedefaults\": {\"line\": {\"color\": \"#2a3f5f\"}}, \"ternary\": {\"aaxis\": {\"gridcolor\": \"white\", \"linecolor\": \"white\", \"ticks\": \"\"}, \"baxis\": {\"gridcolor\": \"white\", \"linecolor\": \"white\", \"ticks\": \"\"}, \"bgcolor\": \"#E5ECF6\", \"caxis\": {\"gridcolor\": \"white\", \"linecolor\": \"white\", \"ticks\": \"\"}}, \"title\": {\"x\": 0.05}, \"xaxis\": {\"automargin\": true, \"gridcolor\": \"white\", \"linecolor\": \"white\", \"ticks\": \"\", \"title\": {\"standoff\": 15}, \"zerolinecolor\": \"white\", \"zerolinewidth\": 2}, \"yaxis\": {\"automargin\": true, \"gridcolor\": \"white\", \"linecolor\": \"white\", \"ticks\": \"\", \"title\": {\"standoff\": 15}, \"zerolinecolor\": \"white\", \"zerolinewidth\": 2}}}, \"title\": {\"text\": \"Gensim LDA - Number of Topics vs. Coherence and Perplexity\"}, \"width\": 1000, \"xaxis\": {\"anchor\": \"y\", \"domain\": [0.0, 1.0], \"dtick\": 1, \"matches\": \"x2\", \"showticklabels\": false, \"tick0\": 1, \"tickmode\": \"linear\"}, \"xaxis2\": {\"anchor\": \"y2\", \"domain\": [0.0, 1.0], \"dtick\": 1, \"tick0\": 1, \"tickmode\": \"linear\"}, \"yaxis\": {\"anchor\": \"x\", \"domain\": [0.51, 1.0]}, \"yaxis2\": {\"anchor\": \"x2\", \"domain\": [0.0, 0.49]}},                        {\"responsive\": true}                    ).then(function(){\n",
       "                            \n",
       "var gd = document.getElementById('3124572d-1cf8-4395-b9fc-c30fb6d367f2');\n",
       "var x = new MutationObserver(function (mutations, observer) {{\n",
       "        var display = window.getComputedStyle(gd).display;\n",
       "        if (!display || display === 'none') {{\n",
       "            console.log([gd, 'removed!']);\n",
       "            Plotly.purge(gd);\n",
       "            observer.disconnect();\n",
       "        }}\n",
       "}});\n",
       "\n",
       "// Listen for the removal of the full notebook cells\n",
       "var notebookContainer = gd.closest('#notebook-container');\n",
       "if (notebookContainer) {{\n",
       "    x.observe(notebookContainer, {childList: true});\n",
       "}}\n",
       "\n",
       "// Listen for the clearing of the current output cell\n",
       "var outputEl = gd.closest('.output');\n",
       "if (outputEl) {{\n",
       "    x.observe(outputEl, {childList: true});\n",
       "}}\n",
       "\n",
       "                        })                };                });            </script>        </div>"
      ]
     },
     "metadata": {},
     "output_type": "display_data"
    }
   ],
   "source": [
    "coherence = []\n",
    "for k in range(2,25):\n",
    "#     print('Round: '+str(k))\n",
    "    Lda = gensim.models.ldamodel.LdaModel\n",
    "    sample_ldamodel = Lda(corpus, num_topics=k, id2word = id2word, passes=5, iterations=8, chunksize = 2, random_state=50)\n",
    "    \n",
    "    cm = gensim.models.coherencemodel.CoherenceModel(model=sample_ldamodel, texts=data_lemma, dictionary=id2word, coherence='c_v')\n",
    "    pp = sample_ldamodel.log_perplexity(corpus, total_docs=73)\n",
    "    coherence.append((k,cm.get_coherence(),pp))\n",
    "    \n",
    "    \n",
    "x = [x[0] for x in coherence]\n",
    "y1 = [x[1] for x in coherence]\n",
    "y2 = [x[2] for x in coherence]\n",
    "\n",
    "import plotly\n",
    "from plotly.subplots import make_subplots\n",
    "import plotly.graph_objects as go\n",
    "\n",
    "fig = make_subplots(rows=2, cols=1, subplot_titles=(\"Coherence score\", \"Perplexity\"), shared_xaxes=True,\n",
    "                    vertical_spacing=0.02)\n",
    "fig.add_trace(go.Scatter(name=\"Coherence score\", x=x, y=y1, mode='lines+markers'), row=1, col=1)\n",
    "fig.add_trace(go.Scatter(name=\"Perplexity\", x=x, y=y2, mode='lines+markers'), row=2, col=1)\n",
    "fig.update_layout(height=600, width=1000, title_text=\"Gensim LDA - Number of Topics vs. Coherence and Perplexity\", xaxis1 = dict(\n",
    "        tickmode = 'linear', tick0 = 1, dtick = 1), xaxis2 = dict(tickmode = 'linear', tick0 = 1, dtick = 1))\n",
    "fig.write_html(\"Images/Gensim_topics1.html\")\n",
    "fig.show()"
   ]
  },
  {
   "cell_type": "code",
   "execution_count": 9,
   "metadata": {
    "scrolled": true
   },
   "outputs": [
    {
     "data": {
      "application/vnd.plotly.v1+json": {
       "config": {
        "plotlyServerURL": "https://plot.ly"
       },
       "data": [
        {
         "mode": "lines+markers",
         "name": "Coherence score",
         "type": "scatter",
         "x": [
          2,
          3,
          4,
          5,
          6,
          7,
          8,
          9,
          10,
          11,
          12,
          13,
          14,
          15,
          16,
          17,
          18,
          19,
          20,
          21,
          22,
          23,
          24
         ],
         "xaxis": "x",
         "y": [
          0.25271218466394596,
          0.3472398046689318,
          0.38660635149570954,
          0.4170022442310798,
          0.5078825203250581,
          0.44933927992676626,
          0.4946620674964386,
          0.5555473711147421,
          0.5679533196818298,
          0.5783905455689756,
          0.5861739649009423,
          0.3900245886148373,
          0.3537486175553184,
          0.3507998480959909,
          0.3530938324190054,
          0.3562994774702162,
          0.34632873303562367,
          0.3589768679945542,
          0.3393533473616476,
          0.3585036883331305,
          0.3524046016813167,
          0.3550853128427236,
          0.3487797486719559
         ],
         "yaxis": "y"
        },
        {
         "mode": "lines+markers",
         "name": "Perplexity",
         "type": "scatter",
         "x": [
          2,
          3,
          4,
          5,
          6,
          7,
          8,
          9,
          10,
          11,
          12,
          13,
          14,
          15,
          16,
          17,
          18,
          19,
          20,
          21,
          22,
          23,
          24
         ],
         "xaxis": "x2",
         "y": [
          -8.373636248693069,
          -8.433649287004718,
          -8.502260450721476,
          -8.525533654096808,
          -8.570404776911728,
          -8.648531024104665,
          -8.767730623762068,
          -8.981932896116172,
          -9.266473718676522,
          -9.828838390319792,
          -10.512867281641379,
          -11.697157302163788,
          -13.182223285650348,
          -15.349659325196985,
          -17.2991249183674,
          -19.541239606232388,
          -20.22885889494996,
          -20.97821316932273,
          -21.5847606852696,
          -22.513741041416633,
          -23.038243862499506,
          -23.84744141875002,
          -24.355823949565913
         ],
         "yaxis": "y2"
        }
       ],
       "layout": {
        "annotations": [
         {
          "font": {
           "size": 16
          },
          "showarrow": false,
          "text": "Coherence score",
          "x": 0.5,
          "xanchor": "center",
          "xref": "paper",
          "y": 1,
          "yanchor": "bottom",
          "yref": "paper"
         },
         {
          "font": {
           "size": 16
          },
          "showarrow": false,
          "text": "Perplexity",
          "x": 0.5,
          "xanchor": "center",
          "xref": "paper",
          "y": 0.49,
          "yanchor": "bottom",
          "yref": "paper"
         }
        ],
        "height": 600,
        "template": {
         "data": {
          "bar": [
           {
            "error_x": {
             "color": "#2a3f5f"
            },
            "error_y": {
             "color": "#2a3f5f"
            },
            "marker": {
             "line": {
              "color": "#E5ECF6",
              "width": 0.5
             }
            },
            "type": "bar"
           }
          ],
          "barpolar": [
           {
            "marker": {
             "line": {
              "color": "#E5ECF6",
              "width": 0.5
             }
            },
            "type": "barpolar"
           }
          ],
          "carpet": [
           {
            "aaxis": {
             "endlinecolor": "#2a3f5f",
             "gridcolor": "white",
             "linecolor": "white",
             "minorgridcolor": "white",
             "startlinecolor": "#2a3f5f"
            },
            "baxis": {
             "endlinecolor": "#2a3f5f",
             "gridcolor": "white",
             "linecolor": "white",
             "minorgridcolor": "white",
             "startlinecolor": "#2a3f5f"
            },
            "type": "carpet"
           }
          ],
          "choropleth": [
           {
            "colorbar": {
             "outlinewidth": 0,
             "ticks": ""
            },
            "type": "choropleth"
           }
          ],
          "contour": [
           {
            "colorbar": {
             "outlinewidth": 0,
             "ticks": ""
            },
            "colorscale": [
             [
              0,
              "#0d0887"
             ],
             [
              0.1111111111111111,
              "#46039f"
             ],
             [
              0.2222222222222222,
              "#7201a8"
             ],
             [
              0.3333333333333333,
              "#9c179e"
             ],
             [
              0.4444444444444444,
              "#bd3786"
             ],
             [
              0.5555555555555556,
              "#d8576b"
             ],
             [
              0.6666666666666666,
              "#ed7953"
             ],
             [
              0.7777777777777778,
              "#fb9f3a"
             ],
             [
              0.8888888888888888,
              "#fdca26"
             ],
             [
              1,
              "#f0f921"
             ]
            ],
            "type": "contour"
           }
          ],
          "contourcarpet": [
           {
            "colorbar": {
             "outlinewidth": 0,
             "ticks": ""
            },
            "type": "contourcarpet"
           }
          ],
          "heatmap": [
           {
            "colorbar": {
             "outlinewidth": 0,
             "ticks": ""
            },
            "colorscale": [
             [
              0,
              "#0d0887"
             ],
             [
              0.1111111111111111,
              "#46039f"
             ],
             [
              0.2222222222222222,
              "#7201a8"
             ],
             [
              0.3333333333333333,
              "#9c179e"
             ],
             [
              0.4444444444444444,
              "#bd3786"
             ],
             [
              0.5555555555555556,
              "#d8576b"
             ],
             [
              0.6666666666666666,
              "#ed7953"
             ],
             [
              0.7777777777777778,
              "#fb9f3a"
             ],
             [
              0.8888888888888888,
              "#fdca26"
             ],
             [
              1,
              "#f0f921"
             ]
            ],
            "type": "heatmap"
           }
          ],
          "heatmapgl": [
           {
            "colorbar": {
             "outlinewidth": 0,
             "ticks": ""
            },
            "colorscale": [
             [
              0,
              "#0d0887"
             ],
             [
              0.1111111111111111,
              "#46039f"
             ],
             [
              0.2222222222222222,
              "#7201a8"
             ],
             [
              0.3333333333333333,
              "#9c179e"
             ],
             [
              0.4444444444444444,
              "#bd3786"
             ],
             [
              0.5555555555555556,
              "#d8576b"
             ],
             [
              0.6666666666666666,
              "#ed7953"
             ],
             [
              0.7777777777777778,
              "#fb9f3a"
             ],
             [
              0.8888888888888888,
              "#fdca26"
             ],
             [
              1,
              "#f0f921"
             ]
            ],
            "type": "heatmapgl"
           }
          ],
          "histogram": [
           {
            "marker": {
             "colorbar": {
              "outlinewidth": 0,
              "ticks": ""
             }
            },
            "type": "histogram"
           }
          ],
          "histogram2d": [
           {
            "colorbar": {
             "outlinewidth": 0,
             "ticks": ""
            },
            "colorscale": [
             [
              0,
              "#0d0887"
             ],
             [
              0.1111111111111111,
              "#46039f"
             ],
             [
              0.2222222222222222,
              "#7201a8"
             ],
             [
              0.3333333333333333,
              "#9c179e"
             ],
             [
              0.4444444444444444,
              "#bd3786"
             ],
             [
              0.5555555555555556,
              "#d8576b"
             ],
             [
              0.6666666666666666,
              "#ed7953"
             ],
             [
              0.7777777777777778,
              "#fb9f3a"
             ],
             [
              0.8888888888888888,
              "#fdca26"
             ],
             [
              1,
              "#f0f921"
             ]
            ],
            "type": "histogram2d"
           }
          ],
          "histogram2dcontour": [
           {
            "colorbar": {
             "outlinewidth": 0,
             "ticks": ""
            },
            "colorscale": [
             [
              0,
              "#0d0887"
             ],
             [
              0.1111111111111111,
              "#46039f"
             ],
             [
              0.2222222222222222,
              "#7201a8"
             ],
             [
              0.3333333333333333,
              "#9c179e"
             ],
             [
              0.4444444444444444,
              "#bd3786"
             ],
             [
              0.5555555555555556,
              "#d8576b"
             ],
             [
              0.6666666666666666,
              "#ed7953"
             ],
             [
              0.7777777777777778,
              "#fb9f3a"
             ],
             [
              0.8888888888888888,
              "#fdca26"
             ],
             [
              1,
              "#f0f921"
             ]
            ],
            "type": "histogram2dcontour"
           }
          ],
          "mesh3d": [
           {
            "colorbar": {
             "outlinewidth": 0,
             "ticks": ""
            },
            "type": "mesh3d"
           }
          ],
          "parcoords": [
           {
            "line": {
             "colorbar": {
              "outlinewidth": 0,
              "ticks": ""
             }
            },
            "type": "parcoords"
           }
          ],
          "pie": [
           {
            "automargin": true,
            "type": "pie"
           }
          ],
          "scatter": [
           {
            "marker": {
             "colorbar": {
              "outlinewidth": 0,
              "ticks": ""
             }
            },
            "type": "scatter"
           }
          ],
          "scatter3d": [
           {
            "line": {
             "colorbar": {
              "outlinewidth": 0,
              "ticks": ""
             }
            },
            "marker": {
             "colorbar": {
              "outlinewidth": 0,
              "ticks": ""
             }
            },
            "type": "scatter3d"
           }
          ],
          "scattercarpet": [
           {
            "marker": {
             "colorbar": {
              "outlinewidth": 0,
              "ticks": ""
             }
            },
            "type": "scattercarpet"
           }
          ],
          "scattergeo": [
           {
            "marker": {
             "colorbar": {
              "outlinewidth": 0,
              "ticks": ""
             }
            },
            "type": "scattergeo"
           }
          ],
          "scattergl": [
           {
            "marker": {
             "colorbar": {
              "outlinewidth": 0,
              "ticks": ""
             }
            },
            "type": "scattergl"
           }
          ],
          "scattermapbox": [
           {
            "marker": {
             "colorbar": {
              "outlinewidth": 0,
              "ticks": ""
             }
            },
            "type": "scattermapbox"
           }
          ],
          "scatterpolar": [
           {
            "marker": {
             "colorbar": {
              "outlinewidth": 0,
              "ticks": ""
             }
            },
            "type": "scatterpolar"
           }
          ],
          "scatterpolargl": [
           {
            "marker": {
             "colorbar": {
              "outlinewidth": 0,
              "ticks": ""
             }
            },
            "type": "scatterpolargl"
           }
          ],
          "scatterternary": [
           {
            "marker": {
             "colorbar": {
              "outlinewidth": 0,
              "ticks": ""
             }
            },
            "type": "scatterternary"
           }
          ],
          "surface": [
           {
            "colorbar": {
             "outlinewidth": 0,
             "ticks": ""
            },
            "colorscale": [
             [
              0,
              "#0d0887"
             ],
             [
              0.1111111111111111,
              "#46039f"
             ],
             [
              0.2222222222222222,
              "#7201a8"
             ],
             [
              0.3333333333333333,
              "#9c179e"
             ],
             [
              0.4444444444444444,
              "#bd3786"
             ],
             [
              0.5555555555555556,
              "#d8576b"
             ],
             [
              0.6666666666666666,
              "#ed7953"
             ],
             [
              0.7777777777777778,
              "#fb9f3a"
             ],
             [
              0.8888888888888888,
              "#fdca26"
             ],
             [
              1,
              "#f0f921"
             ]
            ],
            "type": "surface"
           }
          ],
          "table": [
           {
            "cells": {
             "fill": {
              "color": "#EBF0F8"
             },
             "line": {
              "color": "white"
             }
            },
            "header": {
             "fill": {
              "color": "#C8D4E3"
             },
             "line": {
              "color": "white"
             }
            },
            "type": "table"
           }
          ]
         },
         "layout": {
          "annotationdefaults": {
           "arrowcolor": "#2a3f5f",
           "arrowhead": 0,
           "arrowwidth": 1
          },
          "autotypenumbers": "strict",
          "coloraxis": {
           "colorbar": {
            "outlinewidth": 0,
            "ticks": ""
           }
          },
          "colorscale": {
           "diverging": [
            [
             0,
             "#8e0152"
            ],
            [
             0.1,
             "#c51b7d"
            ],
            [
             0.2,
             "#de77ae"
            ],
            [
             0.3,
             "#f1b6da"
            ],
            [
             0.4,
             "#fde0ef"
            ],
            [
             0.5,
             "#f7f7f7"
            ],
            [
             0.6,
             "#e6f5d0"
            ],
            [
             0.7,
             "#b8e186"
            ],
            [
             0.8,
             "#7fbc41"
            ],
            [
             0.9,
             "#4d9221"
            ],
            [
             1,
             "#276419"
            ]
           ],
           "sequential": [
            [
             0,
             "#0d0887"
            ],
            [
             0.1111111111111111,
             "#46039f"
            ],
            [
             0.2222222222222222,
             "#7201a8"
            ],
            [
             0.3333333333333333,
             "#9c179e"
            ],
            [
             0.4444444444444444,
             "#bd3786"
            ],
            [
             0.5555555555555556,
             "#d8576b"
            ],
            [
             0.6666666666666666,
             "#ed7953"
            ],
            [
             0.7777777777777778,
             "#fb9f3a"
            ],
            [
             0.8888888888888888,
             "#fdca26"
            ],
            [
             1,
             "#f0f921"
            ]
           ],
           "sequentialminus": [
            [
             0,
             "#0d0887"
            ],
            [
             0.1111111111111111,
             "#46039f"
            ],
            [
             0.2222222222222222,
             "#7201a8"
            ],
            [
             0.3333333333333333,
             "#9c179e"
            ],
            [
             0.4444444444444444,
             "#bd3786"
            ],
            [
             0.5555555555555556,
             "#d8576b"
            ],
            [
             0.6666666666666666,
             "#ed7953"
            ],
            [
             0.7777777777777778,
             "#fb9f3a"
            ],
            [
             0.8888888888888888,
             "#fdca26"
            ],
            [
             1,
             "#f0f921"
            ]
           ]
          },
          "colorway": [
           "#636efa",
           "#EF553B",
           "#00cc96",
           "#ab63fa",
           "#FFA15A",
           "#19d3f3",
           "#FF6692",
           "#B6E880",
           "#FF97FF",
           "#FECB52"
          ],
          "font": {
           "color": "#2a3f5f"
          },
          "geo": {
           "bgcolor": "white",
           "lakecolor": "white",
           "landcolor": "#E5ECF6",
           "showlakes": true,
           "showland": true,
           "subunitcolor": "white"
          },
          "hoverlabel": {
           "align": "left"
          },
          "hovermode": "closest",
          "mapbox": {
           "style": "light"
          },
          "paper_bgcolor": "white",
          "plot_bgcolor": "#E5ECF6",
          "polar": {
           "angularaxis": {
            "gridcolor": "white",
            "linecolor": "white",
            "ticks": ""
           },
           "bgcolor": "#E5ECF6",
           "radialaxis": {
            "gridcolor": "white",
            "linecolor": "white",
            "ticks": ""
           }
          },
          "scene": {
           "xaxis": {
            "backgroundcolor": "#E5ECF6",
            "gridcolor": "white",
            "gridwidth": 2,
            "linecolor": "white",
            "showbackground": true,
            "ticks": "",
            "zerolinecolor": "white"
           },
           "yaxis": {
            "backgroundcolor": "#E5ECF6",
            "gridcolor": "white",
            "gridwidth": 2,
            "linecolor": "white",
            "showbackground": true,
            "ticks": "",
            "zerolinecolor": "white"
           },
           "zaxis": {
            "backgroundcolor": "#E5ECF6",
            "gridcolor": "white",
            "gridwidth": 2,
            "linecolor": "white",
            "showbackground": true,
            "ticks": "",
            "zerolinecolor": "white"
           }
          },
          "shapedefaults": {
           "line": {
            "color": "#2a3f5f"
           }
          },
          "ternary": {
           "aaxis": {
            "gridcolor": "white",
            "linecolor": "white",
            "ticks": ""
           },
           "baxis": {
            "gridcolor": "white",
            "linecolor": "white",
            "ticks": ""
           },
           "bgcolor": "#E5ECF6",
           "caxis": {
            "gridcolor": "white",
            "linecolor": "white",
            "ticks": ""
           }
          },
          "title": {
           "x": 0.05
          },
          "xaxis": {
           "automargin": true,
           "gridcolor": "white",
           "linecolor": "white",
           "ticks": "",
           "title": {
            "standoff": 15
           },
           "zerolinecolor": "white",
           "zerolinewidth": 2
          },
          "yaxis": {
           "automargin": true,
           "gridcolor": "white",
           "linecolor": "white",
           "ticks": "",
           "title": {
            "standoff": 15
           },
           "zerolinecolor": "white",
           "zerolinewidth": 2
          }
         }
        },
        "title": {
         "text": "Gensim LDA - Number of Topics vs. Coherence and Perplexity"
        },
        "width": 1000,
        "xaxis": {
         "anchor": "y",
         "domain": [
          0,
          1
         ],
         "dtick": 1,
         "matches": "x2",
         "showticklabels": false,
         "tick0": 1,
         "tickmode": "linear"
        },
        "xaxis2": {
         "anchor": "y2",
         "domain": [
          0,
          1
         ],
         "dtick": 1,
         "tick0": 1,
         "tickmode": "linear"
        },
        "yaxis": {
         "anchor": "x",
         "domain": [
          0.51,
          1
         ]
        },
        "yaxis2": {
         "anchor": "x2",
         "domain": [
          0,
          0.49
         ]
        }
       }
      },
      "text/html": [
       "<div>                            <div id=\"3fcfca63-c7cb-444e-b661-8bc2fd64f475\" class=\"plotly-graph-div\" style=\"height:600px; width:1000px;\"></div>            <script type=\"text/javascript\">                require([\"plotly\"], function(Plotly) {                    window.PLOTLYENV=window.PLOTLYENV || {};                                    if (document.getElementById(\"3fcfca63-c7cb-444e-b661-8bc2fd64f475\")) {                    Plotly.newPlot(                        \"3fcfca63-c7cb-444e-b661-8bc2fd64f475\",                        [{\"mode\": \"lines+markers\", \"name\": \"Coherence score\", \"type\": \"scatter\", \"x\": [2, 3, 4, 5, 6, 7, 8, 9, 10, 11, 12, 13, 14, 15, 16, 17, 18, 19, 20, 21, 22, 23, 24], \"xaxis\": \"x\", \"y\": [0.25271218466394596, 0.3472398046689318, 0.38660635149570954, 0.4170022442310798, 0.5078825203250581, 0.44933927992676626, 0.4946620674964386, 0.5555473711147421, 0.5679533196818298, 0.5783905455689756, 0.5861739649009423, 0.3900245886148373, 0.3537486175553184, 0.3507998480959909, 0.3530938324190054, 0.3562994774702162, 0.34632873303562367, 0.3589768679945542, 0.3393533473616476, 0.3585036883331305, 0.3524046016813167, 0.3550853128427236, 0.3487797486719559], \"yaxis\": \"y\"}, {\"mode\": \"lines+markers\", \"name\": \"Perplexity\", \"type\": \"scatter\", \"x\": [2, 3, 4, 5, 6, 7, 8, 9, 10, 11, 12, 13, 14, 15, 16, 17, 18, 19, 20, 21, 22, 23, 24], \"xaxis\": \"x2\", \"y\": [-8.373636248693069, -8.433649287004718, -8.502260450721476, -8.525533654096808, -8.570404776911728, -8.648531024104665, -8.767730623762068, -8.981932896116172, -9.266473718676522, -9.828838390319792, -10.512867281641379, -11.697157302163788, -13.182223285650348, -15.349659325196985, -17.2991249183674, -19.541239606232388, -20.22885889494996, -20.97821316932273, -21.5847606852696, -22.513741041416633, -23.038243862499506, -23.84744141875002, -24.355823949565913], \"yaxis\": \"y2\"}],                        {\"annotations\": [{\"font\": {\"size\": 16}, \"showarrow\": false, \"text\": \"Coherence score\", \"x\": 0.5, \"xanchor\": \"center\", \"xref\": \"paper\", \"y\": 1.0, \"yanchor\": \"bottom\", \"yref\": \"paper\"}, {\"font\": {\"size\": 16}, \"showarrow\": false, \"text\": \"Perplexity\", \"x\": 0.5, \"xanchor\": \"center\", \"xref\": \"paper\", \"y\": 0.49, \"yanchor\": \"bottom\", \"yref\": \"paper\"}], \"height\": 600, \"template\": {\"data\": {\"bar\": [{\"error_x\": {\"color\": \"#2a3f5f\"}, \"error_y\": {\"color\": \"#2a3f5f\"}, \"marker\": {\"line\": {\"color\": \"#E5ECF6\", \"width\": 0.5}}, \"type\": \"bar\"}], \"barpolar\": [{\"marker\": {\"line\": {\"color\": \"#E5ECF6\", \"width\": 0.5}}, \"type\": \"barpolar\"}], \"carpet\": [{\"aaxis\": {\"endlinecolor\": \"#2a3f5f\", \"gridcolor\": \"white\", \"linecolor\": \"white\", \"minorgridcolor\": \"white\", \"startlinecolor\": \"#2a3f5f\"}, \"baxis\": {\"endlinecolor\": \"#2a3f5f\", \"gridcolor\": \"white\", \"linecolor\": \"white\", \"minorgridcolor\": \"white\", \"startlinecolor\": \"#2a3f5f\"}, \"type\": \"carpet\"}], \"choropleth\": [{\"colorbar\": {\"outlinewidth\": 0, \"ticks\": \"\"}, \"type\": \"choropleth\"}], \"contour\": [{\"colorbar\": {\"outlinewidth\": 0, \"ticks\": \"\"}, \"colorscale\": [[0.0, \"#0d0887\"], [0.1111111111111111, \"#46039f\"], [0.2222222222222222, \"#7201a8\"], [0.3333333333333333, \"#9c179e\"], [0.4444444444444444, \"#bd3786\"], [0.5555555555555556, \"#d8576b\"], [0.6666666666666666, \"#ed7953\"], [0.7777777777777778, \"#fb9f3a\"], [0.8888888888888888, \"#fdca26\"], [1.0, \"#f0f921\"]], \"type\": \"contour\"}], \"contourcarpet\": [{\"colorbar\": {\"outlinewidth\": 0, \"ticks\": \"\"}, \"type\": \"contourcarpet\"}], \"heatmap\": [{\"colorbar\": {\"outlinewidth\": 0, \"ticks\": \"\"}, \"colorscale\": [[0.0, \"#0d0887\"], [0.1111111111111111, \"#46039f\"], [0.2222222222222222, \"#7201a8\"], [0.3333333333333333, \"#9c179e\"], [0.4444444444444444, \"#bd3786\"], [0.5555555555555556, \"#d8576b\"], [0.6666666666666666, \"#ed7953\"], [0.7777777777777778, \"#fb9f3a\"], [0.8888888888888888, \"#fdca26\"], [1.0, \"#f0f921\"]], \"type\": \"heatmap\"}], \"heatmapgl\": [{\"colorbar\": {\"outlinewidth\": 0, \"ticks\": \"\"}, \"colorscale\": [[0.0, \"#0d0887\"], [0.1111111111111111, \"#46039f\"], [0.2222222222222222, \"#7201a8\"], [0.3333333333333333, \"#9c179e\"], [0.4444444444444444, \"#bd3786\"], [0.5555555555555556, \"#d8576b\"], [0.6666666666666666, \"#ed7953\"], [0.7777777777777778, \"#fb9f3a\"], [0.8888888888888888, \"#fdca26\"], [1.0, \"#f0f921\"]], \"type\": \"heatmapgl\"}], \"histogram\": [{\"marker\": {\"colorbar\": {\"outlinewidth\": 0, \"ticks\": \"\"}}, \"type\": \"histogram\"}], \"histogram2d\": [{\"colorbar\": {\"outlinewidth\": 0, \"ticks\": \"\"}, \"colorscale\": [[0.0, \"#0d0887\"], [0.1111111111111111, \"#46039f\"], [0.2222222222222222, \"#7201a8\"], [0.3333333333333333, \"#9c179e\"], [0.4444444444444444, \"#bd3786\"], [0.5555555555555556, \"#d8576b\"], [0.6666666666666666, \"#ed7953\"], [0.7777777777777778, \"#fb9f3a\"], [0.8888888888888888, \"#fdca26\"], [1.0, \"#f0f921\"]], \"type\": \"histogram2d\"}], \"histogram2dcontour\": [{\"colorbar\": {\"outlinewidth\": 0, \"ticks\": \"\"}, \"colorscale\": [[0.0, \"#0d0887\"], [0.1111111111111111, \"#46039f\"], [0.2222222222222222, \"#7201a8\"], [0.3333333333333333, \"#9c179e\"], [0.4444444444444444, \"#bd3786\"], [0.5555555555555556, \"#d8576b\"], [0.6666666666666666, \"#ed7953\"], [0.7777777777777778, \"#fb9f3a\"], [0.8888888888888888, \"#fdca26\"], [1.0, \"#f0f921\"]], \"type\": \"histogram2dcontour\"}], \"mesh3d\": [{\"colorbar\": {\"outlinewidth\": 0, \"ticks\": \"\"}, \"type\": \"mesh3d\"}], \"parcoords\": [{\"line\": {\"colorbar\": {\"outlinewidth\": 0, \"ticks\": \"\"}}, \"type\": \"parcoords\"}], \"pie\": [{\"automargin\": true, \"type\": \"pie\"}], \"scatter\": [{\"marker\": {\"colorbar\": {\"outlinewidth\": 0, \"ticks\": \"\"}}, \"type\": \"scatter\"}], \"scatter3d\": [{\"line\": {\"colorbar\": {\"outlinewidth\": 0, \"ticks\": \"\"}}, \"marker\": {\"colorbar\": {\"outlinewidth\": 0, \"ticks\": \"\"}}, \"type\": \"scatter3d\"}], \"scattercarpet\": [{\"marker\": {\"colorbar\": {\"outlinewidth\": 0, \"ticks\": \"\"}}, \"type\": \"scattercarpet\"}], \"scattergeo\": [{\"marker\": {\"colorbar\": {\"outlinewidth\": 0, \"ticks\": \"\"}}, \"type\": \"scattergeo\"}], \"scattergl\": [{\"marker\": {\"colorbar\": {\"outlinewidth\": 0, \"ticks\": \"\"}}, \"type\": \"scattergl\"}], \"scattermapbox\": [{\"marker\": {\"colorbar\": {\"outlinewidth\": 0, \"ticks\": \"\"}}, \"type\": \"scattermapbox\"}], \"scatterpolar\": [{\"marker\": {\"colorbar\": {\"outlinewidth\": 0, \"ticks\": \"\"}}, \"type\": \"scatterpolar\"}], \"scatterpolargl\": [{\"marker\": {\"colorbar\": {\"outlinewidth\": 0, \"ticks\": \"\"}}, \"type\": \"scatterpolargl\"}], \"scatterternary\": [{\"marker\": {\"colorbar\": {\"outlinewidth\": 0, \"ticks\": \"\"}}, \"type\": \"scatterternary\"}], \"surface\": [{\"colorbar\": {\"outlinewidth\": 0, \"ticks\": \"\"}, \"colorscale\": [[0.0, \"#0d0887\"], [0.1111111111111111, \"#46039f\"], [0.2222222222222222, \"#7201a8\"], [0.3333333333333333, \"#9c179e\"], [0.4444444444444444, \"#bd3786\"], [0.5555555555555556, \"#d8576b\"], [0.6666666666666666, \"#ed7953\"], [0.7777777777777778, \"#fb9f3a\"], [0.8888888888888888, \"#fdca26\"], [1.0, \"#f0f921\"]], \"type\": \"surface\"}], \"table\": [{\"cells\": {\"fill\": {\"color\": \"#EBF0F8\"}, \"line\": {\"color\": \"white\"}}, \"header\": {\"fill\": {\"color\": \"#C8D4E3\"}, \"line\": {\"color\": \"white\"}}, \"type\": \"table\"}]}, \"layout\": {\"annotationdefaults\": {\"arrowcolor\": \"#2a3f5f\", \"arrowhead\": 0, \"arrowwidth\": 1}, \"autotypenumbers\": \"strict\", \"coloraxis\": {\"colorbar\": {\"outlinewidth\": 0, \"ticks\": \"\"}}, \"colorscale\": {\"diverging\": [[0, \"#8e0152\"], [0.1, \"#c51b7d\"], [0.2, \"#de77ae\"], [0.3, \"#f1b6da\"], [0.4, \"#fde0ef\"], [0.5, \"#f7f7f7\"], [0.6, \"#e6f5d0\"], [0.7, \"#b8e186\"], [0.8, \"#7fbc41\"], [0.9, \"#4d9221\"], [1, \"#276419\"]], \"sequential\": [[0.0, \"#0d0887\"], [0.1111111111111111, \"#46039f\"], [0.2222222222222222, \"#7201a8\"], [0.3333333333333333, \"#9c179e\"], [0.4444444444444444, \"#bd3786\"], [0.5555555555555556, \"#d8576b\"], [0.6666666666666666, \"#ed7953\"], [0.7777777777777778, \"#fb9f3a\"], [0.8888888888888888, \"#fdca26\"], [1.0, \"#f0f921\"]], \"sequentialminus\": [[0.0, \"#0d0887\"], [0.1111111111111111, \"#46039f\"], [0.2222222222222222, \"#7201a8\"], [0.3333333333333333, \"#9c179e\"], [0.4444444444444444, \"#bd3786\"], [0.5555555555555556, \"#d8576b\"], [0.6666666666666666, \"#ed7953\"], [0.7777777777777778, \"#fb9f3a\"], [0.8888888888888888, \"#fdca26\"], [1.0, \"#f0f921\"]]}, \"colorway\": [\"#636efa\", \"#EF553B\", \"#00cc96\", \"#ab63fa\", \"#FFA15A\", \"#19d3f3\", \"#FF6692\", \"#B6E880\", \"#FF97FF\", \"#FECB52\"], \"font\": {\"color\": \"#2a3f5f\"}, \"geo\": {\"bgcolor\": \"white\", \"lakecolor\": \"white\", \"landcolor\": \"#E5ECF6\", \"showlakes\": true, \"showland\": true, \"subunitcolor\": \"white\"}, \"hoverlabel\": {\"align\": \"left\"}, \"hovermode\": \"closest\", \"mapbox\": {\"style\": \"light\"}, \"paper_bgcolor\": \"white\", \"plot_bgcolor\": \"#E5ECF6\", \"polar\": {\"angularaxis\": {\"gridcolor\": \"white\", \"linecolor\": \"white\", \"ticks\": \"\"}, \"bgcolor\": \"#E5ECF6\", \"radialaxis\": {\"gridcolor\": \"white\", \"linecolor\": \"white\", \"ticks\": \"\"}}, \"scene\": {\"xaxis\": {\"backgroundcolor\": \"#E5ECF6\", \"gridcolor\": \"white\", \"gridwidth\": 2, \"linecolor\": \"white\", \"showbackground\": true, \"ticks\": \"\", \"zerolinecolor\": \"white\"}, \"yaxis\": {\"backgroundcolor\": \"#E5ECF6\", \"gridcolor\": \"white\", \"gridwidth\": 2, \"linecolor\": \"white\", \"showbackground\": true, \"ticks\": \"\", \"zerolinecolor\": \"white\"}, \"zaxis\": {\"backgroundcolor\": \"#E5ECF6\", \"gridcolor\": \"white\", \"gridwidth\": 2, \"linecolor\": \"white\", \"showbackground\": true, \"ticks\": \"\", \"zerolinecolor\": \"white\"}}, \"shapedefaults\": {\"line\": {\"color\": \"#2a3f5f\"}}, \"ternary\": {\"aaxis\": {\"gridcolor\": \"white\", \"linecolor\": \"white\", \"ticks\": \"\"}, \"baxis\": {\"gridcolor\": \"white\", \"linecolor\": \"white\", \"ticks\": \"\"}, \"bgcolor\": \"#E5ECF6\", \"caxis\": {\"gridcolor\": \"white\", \"linecolor\": \"white\", \"ticks\": \"\"}}, \"title\": {\"x\": 0.05}, \"xaxis\": {\"automargin\": true, \"gridcolor\": \"white\", \"linecolor\": \"white\", \"ticks\": \"\", \"title\": {\"standoff\": 15}, \"zerolinecolor\": \"white\", \"zerolinewidth\": 2}, \"yaxis\": {\"automargin\": true, \"gridcolor\": \"white\", \"linecolor\": \"white\", \"ticks\": \"\", \"title\": {\"standoff\": 15}, \"zerolinecolor\": \"white\", \"zerolinewidth\": 2}}}, \"title\": {\"text\": \"Gensim LDA - Number of Topics vs. Coherence and Perplexity\"}, \"width\": 1000, \"xaxis\": {\"anchor\": \"y\", \"domain\": [0.0, 1.0], \"dtick\": 1, \"matches\": \"x2\", \"showticklabels\": false, \"tick0\": 1, \"tickmode\": \"linear\"}, \"xaxis2\": {\"anchor\": \"y2\", \"domain\": [0.0, 1.0], \"dtick\": 1, \"tick0\": 1, \"tickmode\": \"linear\"}, \"yaxis\": {\"anchor\": \"x\", \"domain\": [0.51, 1.0]}, \"yaxis2\": {\"anchor\": \"x2\", \"domain\": [0.0, 0.49]}},                        {\"responsive\": true}                    ).then(function(){\n",
       "                            \n",
       "var gd = document.getElementById('3fcfca63-c7cb-444e-b661-8bc2fd64f475');\n",
       "var x = new MutationObserver(function (mutations, observer) {{\n",
       "        var display = window.getComputedStyle(gd).display;\n",
       "        if (!display || display === 'none') {{\n",
       "            console.log([gd, 'removed!']);\n",
       "            Plotly.purge(gd);\n",
       "            observer.disconnect();\n",
       "        }}\n",
       "}});\n",
       "\n",
       "// Listen for the removal of the full notebook cells\n",
       "var notebookContainer = gd.closest('#notebook-container');\n",
       "if (notebookContainer) {{\n",
       "    x.observe(notebookContainer, {childList: true});\n",
       "}}\n",
       "\n",
       "// Listen for the clearing of the current output cell\n",
       "var outputEl = gd.closest('.output');\n",
       "if (outputEl) {{\n",
       "    x.observe(outputEl, {childList: true});\n",
       "}}\n",
       "\n",
       "                        })                };                });            </script>        </div>"
      ]
     },
     "metadata": {},
     "output_type": "display_data"
    }
   ],
   "source": [
    "coherence = []\n",
    "for k in range(2,25):\n",
    "#     print('Round: '+str(k))\n",
    "    Lda = gensim.models.ldamodel.LdaModel\n",
    "    sample_ldamodel = Lda(corpus, num_topics=k, id2word = id2word, passes=5, iterations=10, chunksize = 2, random_state=50)\n",
    "    \n",
    "    cm = gensim.models.coherencemodel.CoherenceModel(model=sample_ldamodel, texts=data_lemma, dictionary=id2word, coherence='c_v')\n",
    "    pp = sample_ldamodel.log_perplexity(corpus, total_docs=73)\n",
    "    coherence.append((k,cm.get_coherence(),pp))\n",
    "    \n",
    "x = [x[0] for x in coherence]\n",
    "y1 = [x[1] for x in coherence]\n",
    "y2 = [x[2] for x in coherence]\n",
    "\n",
    "fig = make_subplots( rows=2, cols=1, subplot_titles=(\"Coherence score\", \"Perplexity\"), shared_xaxes=True,\n",
    "                    vertical_spacing=0.02)\n",
    "fig.add_trace(go.Scatter(name=\"Coherence score\", x=x, y=y1, mode='lines+markers'), row=1, col=1)\n",
    "fig.add_trace(go.Scatter(name=\"Perplexity\", x=x, y=y2, mode='lines+markers'), row=2, col=1)\n",
    "fig.update_layout(height=600, width=1000, title_text=\"Gensim LDA - Number of Topics vs. Coherence and Perplexity\", xaxis1 = dict(\n",
    "        tickmode = 'linear', tick0 = 1, dtick = 1), xaxis2 = dict(tickmode = 'linear', tick0 = 1, dtick = 1))\n",
    "fig.write_html(\"Images/Gensim_topics2.html\")\n",
    "fig.show()"
   ]
  },
  {
   "cell_type": "code",
   "execution_count": 11,
   "metadata": {},
   "outputs": [
    {
     "data": {
      "text/plain": [
       "[(0,\n",
       "  '0.005*\"young\" + 0.005*\"game\" + 0.004*\"water\" + 0.004*\"year\" + 0.004*\"youth\" + 0.004*\"sport\" + 0.004*\"society\" + 0.003*\"teacher\" + 0.003*\"social\" + 0.003*\"festival\"'),\n",
       " (1,\n",
       "  '0.007*\"farmer\" + 0.007*\"exam\" + 0.006*\"child\" + 0.006*\"family\" + 0.005*\"day\" + 0.004*\"water\" + 0.004*\"thing\" + 0.004*\"important\" + 0.003*\"student\" + 0.003*\"young\"'),\n",
       " (2,\n",
       "  '0.008*\"woman\" + 0.007*\"festival\" + 0.006*\"society\" + 0.005*\"farmer\" + 0.004*\"effort\" + 0.004*\"light\" + 0.004*\"village\" + 0.004*\"day\" + 0.004*\"year\" + 0.004*\"guru\"'),\n",
       " (3,\n",
       "  '0.010*\"water\" + 0.005*\"yoga\" + 0.005*\"village\" + 0.005*\"year\" + 0.004*\"farmer\" + 0.004*\"corona\" + 0.004*\"work\" + 0.004*\"family\" + 0.004*\"small\" + 0.003*\"youth\"'),\n",
       " (4,\n",
       "  '0.005*\"day\" + 0.005*\"corona\" + 0.004*\"village\" + 0.004*\"question\" + 0.004*\"effort\" + 0.004*\"young\" + 0.004*\"family\" + 0.003*\"barack\" + 0.003*\"work\" + 0.003*\"time\"'),\n",
       " (5,\n",
       "  '0.005*\"family\" + 0.005*\"festival\" + 0.005*\"year\" + 0.005*\"story\" + 0.004*\"yoga\" + 0.004*\"village\" + 0.004*\"young\" + 0.004*\"farmer\" + 0.004*\"opportunity\" + 0.004*\"day\"')]"
      ]
     },
     "execution_count": 11,
     "metadata": {},
     "output_type": "execute_result"
    }
   ],
   "source": [
    "lda_model1 = gensim.models.LdaMulticore(corpus = corpus,\n",
    "                                       id2word = id2word,\n",
    "                                       num_topics = 6,\n",
    "                                        random_state=50,\n",
    "                                       chunksize = 5,\n",
    "                                       passes = 10,\n",
    "                                       iterations = 10,\n",
    "                                       minimum_probability = 0)\n",
    "lda_model1.print_topics()"
   ]
  },
  {
   "cell_type": "code",
   "execution_count": 12,
   "metadata": {},
   "outputs": [
    {
     "data": {
      "text/html": [
       "\n",
       "<link rel=\"stylesheet\" type=\"text/css\" href=\"https://cdn.jsdelivr.net/gh/bmabey/pyLDAvis@3.3.1/pyLDAvis/js/ldavis.v1.0.0.css\">\n",
       "\n",
       "\n",
       "<div id=\"ldavis_el1108416228391480965815307190\"></div>\n",
       "<script type=\"text/javascript\">\n",
       "\n",
       "var ldavis_el1108416228391480965815307190_data = {\"mdsDat\": {\"x\": [-0.01598298636959904, -0.005256030472467897, 0.06305643663308177, -0.06729094416455796, -0.04806941520389794, 0.0735429395774411], \"y\": [-0.02071702246163284, -0.04396671506674523, -0.048390929660296164, -0.022856342053561046, 0.07438094217192324, 0.0615500670703121], \"topics\": [1, 2, 3, 4, 5, 6], \"cluster\": [1, 1, 1, 1, 1, 1], \"Freq\": [28.694352057813283, 21.241808320675403, 16.89882321137353, 13.598805177797708, 11.473486543624634, 8.092724688715446]}, \"tinfo\": {\"Term\": [\"corona\", \"woman\", \"exam\", \"water\", \"game\", \"light\", \"society\", \"barack\", \"question\", \"festival\", \"kritika\", \"toy\", \"election\", \"doctor\", \"sardar\", \"guru\", \"voter\", \"ayushman\", \"kumbh\", \"local\", \"sport\", \"law\", \"house\", \"vinayak\", \"buddha\", \"day\", \"yoga\", \"stone\", \"effort\", \"vegetable\", \"tarannum\", \"vinole\", \"cadet\", \"hari\", \"akhil\", \"amma\", \"bhagirathi\", \"ismail\", \"bhagat\", \"haat\", \"tenali\", \"kamya\", \"hunar\", \"salman\", \"print\", \"deshmukh\", \"nanaji\", \"dearth\", \"ncc\", \"diver\", \"yuvika\", \"purnia\", \"lavanya\", \"storyteller\", \"middleman\", \"chandrakant\", \"adarsh\", \"sukhdev\", \"bru\", \"transplant\", \"king\", \"khan\", \"camp\", \"official\", \"habit\", \"constitution\", \"story\", \"mantri\", \"pension\", \"reading\", \"vegetable\", \"gold\", \"fit\", \"officer\", \"letter\", \"yoga\", \"cleanliness\", \"mission\", \"medium\", \"state\", \"festival\", \"public\", \"language\", \"year\", \"family\", \"experience\", \"opportunity\", \"effort\", \"school\", \"number\", \"village\", \"young\", \"poor\", \"suggestion\", \"sport\", \"day\", \"farmer\", \"society\", \"campaign\", \"man\", \"work\", \"water\", \"youth\", \"student\", \"child\", \"thing\", \"social\", \"citizen\", \"buddha\", \"nitesh\", \"nivedita\", \"kapoor\", \"lakshadweep\", \"compensation\", \"prophet\", \"dog\", \"rabindra\", \"antibiotic\", \"lakshmi\", \"buddhist\", \"drawback\", \"peacekeeping\", \"rumour\", \"tata\", \"acquisition\", \"peacekeeper\", \"ego\", \"yespm\", \"biscuit\", \"divyaang\", \"sheep\", \"sonal\", \"anand\", \"nutrition\", \"internship\", \"dashami\", \"cub\", \"agra\", \"nurse\", \"toy\", \"exam\", \"gupta\", \"consent\", \"law\", \"test\", \"virus\", \"security\", \"proper\", \"doctor\", \"memorial\", \"land\", \"force\", \"quarantine\", \"patient\", \"research\", \"child\", \"farmer\", \"soldier\", \"home\", \"hospital\", \"family\", \"sleep\", \"peace\", \"brother\", \"mind\", \"important\", \"right\", \"thing\", \"day\", \"sister\", \"student\", \"app\", \"confidence\", \"question\", \"experience\", \"teacher\", \"water\", \"poor\", \"movement\", \"young\", \"village\", \"opportunity\", \"service\", \"year\", \"cleanliness\", \"effort\", \"festival\", \"eclipse\", \"himayat\", \"jeeva\", \"stump\", \"ayushman\", \"honest\", \"astronomy\", \"amurtha\", \"payer\", \"valli\", \"kabir\", \"panchayati\", \"paralympic\", \"clip\", \"maghar\", \"telescope\", \"blog\", \"mariyappan\", \"mallakhambh\", \"laborer\", \"gst\", \"chia\", \"respiratory\", \"pranayama\", \"kelansang\", \"bettiah\", \"ordeal\", \"portability\", \"workforce\", \"maalam\", \"missile\", \"magh\", \"distress\", \"pencil\", \"pit\", \"commentary\", \"tax\", \"mukherjee\", \"maharishi\", \"library\", \"pon\", \"medical\", \"eastern\", \"treatment\", \"water\", \"beneficiary\", \"crop\", \"corona\", \"ganga\", \"crisis\", \"yoga\", \"beti\", \"small\", \"local\", \"education\", \"product\", \"village\", \"programme\", \"innovation\", \"crore\", \"work\", \"year\", \"person\", \"youth\", \"farmer\", \"field\", \"service\", \"family\", \"development\", \"spirit\", \"day\", \"heart\", \"young\", \"woman\", \"movement\", \"poor\", \"social\", \"child\", \"opportunity\", \"citizen\", \"campaign\", \"time\", \"savarkar\", \"polling\", \"voter\", \"haj\", \"shivakumar\", \"coal\", \"netaji\", \"cigarette\", \"vote\", \"kamrup\", \"ripudaman\", \"medvedev\", \"abhi\", \"mine\", \"ever\", \"harmonious\", \"dhyan\", \"device\", \"bride\", \"kallarmajra\", \"anjum\", \"reformer\", \"poonkavanam\", \"laxmi\", \"gurbachan\", \"orphanage\", \"commonman\", \"magic\", \"congregation\", \"ramanujacharya\", \"fifa\", \"atalji\", \"sabha\", \"election\", \"contest\", \"kranti\", \"holiday\", \"swamiji\", \"chand\", \"game\", \"hockey\", \"commission\", \"olympic\", \"medal\", \"sport\", \"summer\", \"teacher\", \"player\", \"young\", \"subhash\", \"daughter\", \"youth\", \"democracy\", \"social\", \"citizen\", \"society\", \"water\", \"place\", \"student\", \"year\", \"good\", \"opportunity\", \"festival\", \"heart\", \"child\", \"cleanliness\", \"team\", \"state\", \"day\", \"family\", \"spirit\", \"man\", \"occasion\", \"campaign\", \"number\", \"service\", \"woman\", \"honey\", \"bee\", \"manya\", \"aurobindo\", \"artificial\", \"mishap\", \"morna\", \"dung\", \"tilakji\", \"jona\", \"karbi\", \"integration\", \"virendra\", \"malnutrition\", \"mahakumbh\", \"calendar\", \"sikari\", \"tissau\", \"pandharpur\", \"jitendra\", \"gobar\", \"campus\", \"rajani\", \"com\", \"poshan\", \"chhathh\", \"canada\", \"zealand\", \"amrit\", \"wari\", \"intelligence\", \"mahotsav\", \"female\", \"sahib\", \"kumbh\", \"light\", \"deepawali\", \"woman\", \"gurudwara\", \"cave\", \"safety\", \"guru\", \"disaster\", \"festival\", \"society\", \"sardar\", \"house\", \"tiger\", \"heritage\", \"gandhi\", \"farmer\", \"effort\", \"man\", \"waste\", \"duty\", \"time\", \"nature\", \"campaign\", \"service\", \"village\", \"work\", \"inspiration\", \"day\", \"year\", \"anniversary\", \"birth\", \"opportunity\", \"young\", \"student\", \"important\", \"child\", \"kritika\", \"saffron\", \"vinayak\", \"kaniga\", \"barack\", \"kashmiri\", \"priyanka\", \"strawberry\", \"sirmodi\", \"jhansi\", \"anudeep\", \"biography\", \"chile\", \"chilean\", \"rajappan\", \"sahibzade\", \"minusha\", \"singhji\", \"venkatji\", \"narasimha\", \"korwa\", \"obama\", \"santokhi\", \"harivansh\", \"suriname\", \"yeswecan\", \"chandrika\", \"apricot\", \"leopard\", \"bhagyashree\", \"white\", \"kargil\", \"stone\", \"corona\", \"question\", \"wage\", \"president\", \"day\", \"bank\", \"panchayat\", \"local\", \"message\", \"cashless\", \"martyrdom\", \"village\", \"effort\", \"money\", \"time\", \"area\", \"young\", \"family\", \"work\", \"book\", \"thing\", \"height\", \"youth\", \"game\", \"soldier\", \"child\", \"opportunity\", \"society\", \"year\", \"example\", \"farmer\", \"water\", \"state\"], \"Freq\": [130.0, 209.0, 159.0, 346.0, 132.0, 70.0, 223.0, 22.0, 105.0, 285.0, 19.0, 56.0, 48.0, 82.0, 76.0, 85.0, 25.0, 29.0, 33.0, 88.0, 127.0, 68.0, 103.0, 14.0, 26.0, 301.0, 232.0, 31.0, 238.0, 54.0, 15.332881874920247, 14.243834447307938, 15.83728624591648, 13.134015750605977, 12.076530671820587, 9.903832629447937, 9.674204257442915, 9.888906899836112, 18.716163519412216, 8.693683751137781, 7.725940815065374, 6.664899657331529, 6.658879719136704, 6.6476220910068795, 7.724550080771053, 7.090999004394947, 9.209909045389914, 6.258504182830726, 27.20752884653877, 5.584143806676715, 5.577513472972392, 5.573215881230854, 5.569883210857825, 5.562676852194069, 7.2972662227137075, 5.933569457952097, 5.3979871790963445, 6.112872343252717, 6.381598488940711, 5.157506305908104, 22.07566965414213, 18.694636098221117, 21.810323915702256, 21.02108952332895, 48.67915263206112, 32.15962751612559, 104.22923791083875, 17.923113995981627, 10.669842077351905, 14.839681030262067, 33.91919091021791, 37.22607573279736, 36.88343444620993, 25.749471555522028, 60.38132181853372, 96.92219135715638, 83.8504448594026, 51.13862772382289, 67.03301109129836, 83.19778630315669, 109.022315502122, 38.85366130657107, 45.41859421903676, 108.81874000706671, 109.55598066807408, 72.26194799288034, 90.40600352258373, 84.90843149362229, 60.97850376100707, 60.614898984846285, 95.69489284734681, 92.93690825528186, 70.47657868060541, 47.79354830923718, 54.147089608966, 89.29951622327147, 91.7593070149005, 73.07889777843988, 65.71906315179007, 57.38154167974052, 71.55731607300187, 84.37341187340094, 64.31059874556799, 62.05293224799147, 70.93629369861634, 59.66396006529762, 60.10728414987726, 55.60335708541266, 25.17365630571156, 10.755931801245916, 11.461690288712676, 7.584453834565768, 7.575892475472888, 7.564166193483646, 6.833734312021362, 15.969988903579269, 6.828947584061837, 7.495123567768794, 6.523177960847136, 6.76730532741208, 6.711980194667565, 6.733689860061316, 6.675309118416563, 5.953735440088354, 9.620668257030935, 5.807988314128692, 5.742806074492429, 5.458131225443289, 5.712325845633907, 6.569325900908544, 5.8498070429988305, 5.837023430805713, 5.207754113858643, 17.336494898247256, 4.917257823334955, 5.05115097724956, 5.034239348159761, 4.406604086982316, 8.661412497279857, 41.65606210501196, 109.33351432511466, 13.904697900507516, 8.52847913909845, 46.84459438925068, 27.75587906101672, 15.283201106249965, 35.79148306592503, 15.442597875113405, 47.04381726246011, 17.78373803559045, 52.96596708302226, 47.930308537636975, 14.820320413289023, 21.0374276662511, 15.109448394137107, 99.70153395420911, 109.91845728781503, 44.2167085391514, 52.5579280910816, 20.873075957804794, 97.2207847428909, 18.418275627497206, 33.51253503034548, 53.595152058567145, 46.78605485960294, 57.46422671512424, 44.263091598540676, 57.653592481441926, 77.45847280110111, 48.999814059011975, 55.626119409218425, 38.05473134999248, 30.276352601581088, 37.158262345583324, 48.18294072157266, 40.06822730850485, 64.15390402749668, 48.170324378640856, 41.09444448741529, 55.28370650943277, 54.75506025473557, 50.90373216003176, 43.45091876293464, 50.41760528037812, 43.701756689554664, 45.54922353519746, 45.662989249575986, 11.842629412022061, 8.930040797621103, 8.018961348769949, 8.524036208953934, 26.36571886812775, 6.916041766742502, 6.966636217009288, 6.054560802606555, 6.048669724470078, 6.047696999364189, 6.281377431700162, 6.196926899905851, 7.513431425665522, 5.060699261054081, 5.3983829369274865, 5.025945048754413, 4.82305220942311, 6.450092571723265, 5.758224878382564, 4.085031240017771, 17.500124576096376, 4.068848392899676, 4.077407624139706, 4.077962770914975, 4.073825971582183, 4.067754967414559, 4.071477187183916, 4.071116210583927, 4.067350883536275, 4.054279257373433, 6.0926305268760075, 7.182036164580709, 6.262636636172592, 9.358281994662674, 9.129565271710973, 10.126540658139989, 20.406712657358575, 9.800169081783164, 4.82888968459614, 13.983353345404797, 7.5334789339942985, 22.149264781963414, 15.419606891502667, 28.560177710712587, 131.5578236563654, 15.729853347009724, 26.659807966037793, 53.632891142440286, 12.66804007990968, 28.79731422223018, 69.8770990346904, 14.657657634184247, 46.6476048426108, 33.07482470768071, 31.402946028726888, 21.22722333966462, 67.31743533038461, 41.56362990035244, 24.68364887889303, 38.698349837074446, 52.28896963799277, 61.136514350332895, 37.69194257815434, 44.446542714682856, 54.981982521516095, 32.35631709119919, 38.69536906249177, 49.46487464324436, 29.082706895301442, 29.902299954848633, 41.32007602705727, 33.37284518937132, 38.34523000711221, 34.47532395262246, 30.106372059375747, 32.6778599026951, 32.66091087056103, 33.750270027374356, 32.44513157894061, 30.93429269539787, 31.00556139633526, 30.23797895485834, 13.729170844080377, 7.398589301697032, 22.225504132275255, 5.5120884202145, 4.7270610719218915, 4.818260614697898, 13.151033190845583, 16.407037252041697, 11.784793213664749, 4.276869734964843, 5.24351339837385, 4.462376373899401, 3.268499430184516, 3.26476475551656, 2.8665656643488817, 2.8738259732563227, 5.219000467090694, 2.879616362960392, 2.8797566281829585, 2.8730504423160665, 2.8328796891554977, 2.7426209791304283, 2.816807707814463, 5.0509398053870465, 5.772432739124058, 2.8511639396197683, 2.8166942890538498, 2.7256039419994975, 2.8265403043867585, 4.3651647318739775, 11.482150936541846, 10.299134140801309, 12.284839637052272, 27.675475872441822, 5.250690151439032, 5.562999568030365, 11.687928765770883, 6.623071633848812, 6.085949944857666, 50.931027470119595, 14.76670153451824, 12.27315267837888, 11.748195151463493, 27.373058019675028, 37.7043391396148, 13.691041628610845, 36.11560775158777, 20.03134340009525, 52.23329202681926, 6.9827744068031645, 30.70247297696928, 38.21661548382759, 19.745763406949266, 35.865051230402614, 32.90538867220258, 36.98252042858667, 46.45729926585276, 24.014578901682377, 32.07041423555931, 38.53353645896215, 26.20977005536838, 34.77270790744205, 35.6942160321029, 28.601163599089528, 32.79371462997077, 27.28845486375298, 20.179469508038576, 27.185487521272076, 31.00373733680899, 30.56668417569903, 22.83561742992504, 23.60965462097249, 22.004055208760647, 23.60103962149613, 22.608951243422226, 22.71689694554451, 22.913265843972894, 11.124697632690614, 8.378943073071465, 7.427346249449171, 7.341358066460546, 5.889278907483342, 5.529869741864615, 6.522495899227685, 5.061035785484238, 5.805652505835757, 5.553659089824998, 4.716467666969111, 5.710939475009467, 4.644314737995745, 4.281403620733408, 4.273809272110927, 6.289007345426733, 3.800276439771539, 3.800276439771539, 4.181835195033804, 3.755833721187442, 3.4241614886994514, 3.7442925509015077, 3.4651903134356266, 3.461566200688169, 3.4603311010278173, 4.254864629927271, 3.476350748281239, 3.4720888527707805, 8.715382388134781, 3.388950841036283, 7.047907752845548, 10.268382907036694, 5.251585729292208, 15.117475285401778, 19.22275618869153, 33.95914176656935, 10.82010622640478, 69.99152849096576, 8.767322235462881, 8.4634078052942, 19.501145056211406, 30.674024046268432, 14.43333340150046, 58.800557441429014, 49.013673543214026, 24.495066549251366, 29.329400848262544, 9.768313374411868, 15.18410093343067, 26.14702876037044, 45.17511104998997, 36.49990541289203, 28.53240348259988, 20.17686902204847, 17.409199269403793, 26.637837463314476, 21.544165320928343, 28.163853612385807, 27.068897170366995, 33.18701640164991, 29.399195558927065, 20.843946017751577, 31.951094189865387, 31.510705446515757, 20.936242803744694, 20.325036188885964, 25.67223741415913, 26.68288640637641, 22.493841670197245, 20.504997819018005, 21.397877399071696, 17.615480498864194, 11.953557075054514, 13.464524140218723, 11.74339205854533, 20.291633360379553, 6.029903740937845, 5.213303893265153, 5.213303893265153, 5.137390486437161, 4.365175092558682, 4.346223757257198, 4.201239543902636, 3.5168520609501135, 3.5168520609501135, 3.5168520609501135, 3.5126917140120315, 3.507499537845433, 3.505184204966274, 3.503821357453592, 4.945882048167314, 3.502752907981057, 8.571944652330085, 3.4736082200504708, 3.384862289870055, 3.4615346692064284, 3.3785862262849142, 3.445301848490304, 3.442263086280783, 6.896371026391495, 2.668271251545416, 6.603201559528769, 7.83198451299175, 12.896648989918512, 27.90536409119807, 23.834670690912773, 6.801245993311887, 11.923440873591442, 30.516720662121003, 14.10258521937806, 8.744274494372332, 15.302667954146676, 10.175206221124485, 6.967932009511309, 6.179832046256881, 25.42038613651439, 22.705638409979713, 14.234617714076139, 18.480555497001145, 15.154131936144337, 22.630647330670183, 22.250883911496118, 19.491399171563053, 13.838543207389911, 17.08096567282068, 10.731944508979122, 17.123821410938127, 14.854371543402314, 13.460395387216657, 17.672665523052814, 16.887857791540032, 15.565252336814094, 16.25452287799106, 12.656543692726345, 13.139591997000101, 12.985601716771031, 12.464038968406], \"Total\": [130.0, 209.0, 159.0, 346.0, 132.0, 70.0, 223.0, 22.0, 105.0, 285.0, 19.0, 56.0, 48.0, 82.0, 76.0, 85.0, 25.0, 29.0, 33.0, 88.0, 127.0, 68.0, 103.0, 14.0, 26.0, 301.0, 232.0, 31.0, 238.0, 54.0, 16.171936458930528, 15.07731363843085, 16.77037834145991, 13.98134257401935, 12.890805776956801, 10.699417517739615, 10.459398351511153, 10.70147550853512, 20.338333792525212, 9.488611119665787, 8.514355561393542, 7.4209970620192856, 7.419964426191779, 7.418831584116466, 8.62142472224086, 7.919342596497438, 10.29423736778966, 7.070907726144785, 30.776189164321785, 6.329977256588708, 6.327489154599057, 6.326675348504158, 6.328181480046769, 6.3270909350336915, 8.345463004061461, 6.800226483967966, 6.209222422170342, 7.044602438333613, 7.367061569905277, 5.966938457311298, 25.574163457666327, 22.738504648401776, 27.640031937230127, 27.35290061600942, 72.41276314897976, 45.76096496901491, 174.8348832132028, 24.016962052440928, 13.236770179854245, 19.620235268154072, 54.130634642984134, 62.71526790581827, 63.22293724255844, 40.31710208357759, 119.40781917686891, 232.2729595885939, 192.7778018762265, 101.36030820463657, 146.6888525057439, 196.70131985941964, 285.97947464952153, 73.2931957941535, 90.97497430569594, 306.67162442124675, 326.0296067618086, 180.59748018865653, 251.08767037469732, 238.66234370703637, 145.8941054002799, 145.1471431420923, 298.9757691164989, 288.1126705356927, 191.4229531289238, 103.07053126838272, 127.50914314704882, 301.5496172402252, 332.9099678111711, 223.10811456599535, 185.86193647499593, 149.57947423008054, 230.609087382093, 346.4928950302637, 200.97134789660066, 193.63247634756837, 276.25235523229503, 186.38893993556414, 193.43829156690688, 171.99674166672008, 26.37608514385877, 11.581577268578808, 12.362110425455354, 8.366853580821351, 8.36662567209757, 8.376590660686087, 7.616197132890498, 17.799345097928, 7.6166007607044195, 8.371123166093781, 7.294238973173469, 7.59159609376732, 7.539357218795657, 7.566837682186193, 7.5348849688357085, 6.720869086454198, 10.868696718643422, 6.6107732638289445, 6.537758888409698, 6.222657359769291, 6.5190758229389605, 7.5229791726810085, 6.699716881758594, 6.701195756497183, 6.001426561466893, 19.983638956156014, 5.684885581757292, 5.866572239741231, 5.866016850335308, 5.150525386690196, 10.307718698409612, 56.45922095283943, 159.42899456086022, 17.44235518153984, 10.285612970640877, 68.52652050757239, 38.66289191649221, 20.322746600396723, 56.103087497511716, 20.90480748985049, 82.03315758860128, 26.493960469459786, 108.01116641530488, 99.1997369092249, 21.426584807044748, 34.21697172464452, 22.158434580590512, 276.25235523229503, 332.9099678111711, 100.62584681266046, 132.09097622566526, 36.115046053149484, 326.0296067618086, 30.543443049768594, 74.06760027680278, 149.45177596266652, 122.07737360172679, 172.20959647831705, 119.64925271146875, 186.38893993556414, 301.5496172402252, 148.139817910337, 193.63247634756837, 100.08991430417085, 69.21635804615589, 105.30639824743979, 180.59748018865653, 128.83508027982583, 346.4928950302637, 191.4229531289238, 135.896642133438, 288.1126705356927, 298.9757691164989, 251.08767037469732, 173.05689374277793, 306.67162442124675, 192.7778018762265, 238.66234370703637, 285.97947464952153, 12.785341777638347, 9.806404723956401, 8.809941938772946, 9.375353752032456, 29.20153640224568, 7.716159666732284, 7.822246436333664, 6.823321675562007, 6.823131755211986, 6.822957172532001, 7.118674699237739, 7.059210282095489, 8.594037297982991, 5.8207416548179856, 6.226509714618984, 5.829442245353033, 5.605495029759087, 7.57492403505528, 6.805153465855432, 4.836784420409146, 20.735002361780293, 4.824386022101662, 4.8352331927273875, 4.836118570866276, 4.834723435685393, 4.830651707142334, 4.835577009712932, 4.835174222332932, 4.8353802056589315, 4.836566279964241, 7.300372499043769, 8.731905595473048, 7.609698347590779, 11.692745524785964, 11.389467834473603, 12.723654603012596, 27.193201023301636, 12.425253917430917, 5.815050011754621, 19.295574412406747, 9.714761167177079, 34.62719639304804, 22.74976416344839, 51.037420871219226, 346.4928950302637, 24.667548481166307, 51.48421393741868, 130.96166147346975, 19.533970855234923, 61.011797715736854, 232.2729595885939, 24.87604756138534, 148.54814953561717, 88.94057457927937, 83.25008128169404, 46.7252092621678, 298.9757691164989, 141.10187944589435, 61.49468447842461, 135.72907746376808, 230.609087382093, 306.67162442124675, 147.0803035190669, 200.97134789660066, 332.9099678111711, 120.89157958397351, 173.05689374277793, 326.0296067618086, 107.06783680072546, 125.1861250171838, 301.5496172402252, 177.65500277559318, 288.1126705356927, 209.02449868105236, 135.896642133438, 191.4229531289238, 193.43829156690688, 276.25235523229503, 251.08767037469732, 171.99674166672008, 185.86193647499593, 163.7110545529911, 14.684834867363596, 8.32880660220289, 25.0796611480784, 6.359355486213886, 5.527111895651136, 5.6488276218797955, 15.471353879047303, 19.435329784106187, 14.352901017695093, 5.239965470743267, 6.469597031591958, 5.530442300674126, 4.054238990011326, 4.053728917246011, 3.6257930024420806, 3.6387402107238915, 6.60964620364463, 3.660233236282891, 3.6627055301679503, 3.6617459639337313, 3.6109300470120194, 3.513903278333083, 3.610799691783734, 6.478593763939268, 7.408498565295424, 3.6626631780453707, 3.627909255536562, 3.51381272787211, 3.6519562054545665, 5.673257958899997, 15.784025346499075, 14.435969484019141, 18.983007127949723, 48.44197384261908, 7.437462831983497, 7.969711487503744, 20.03122753419219, 10.10768781376246, 9.324113025905712, 132.7616452349963, 29.16679045909056, 23.12116259391524, 22.446123106446944, 72.37847639799831, 127.50914314704882, 30.144106012155703, 128.83508027982583, 57.286517069104185, 288.1126705356927, 11.478534123269963, 135.64034430040834, 200.97134789660066, 66.63997313675591, 193.43829156690688, 171.99674166672008, 223.10811456599535, 346.4928950302637, 103.8150748462719, 193.63247634756837, 306.67162442124675, 131.95473964488122, 251.08767037469732, 285.97947464952153, 177.65500277559318, 276.25235523229503, 192.7778018762265, 81.0077826677142, 196.70131985941964, 301.5496172402252, 326.0296067618086, 125.1861250171838, 149.57947423008054, 119.18285877188528, 185.86193647499593, 145.1471431420923, 173.05689374277793, 209.02449868105236, 12.027397279488302, 9.235799834052775, 8.440321283345542, 8.34675306083484, 6.704582846653181, 6.387929804285803, 7.558287914154007, 5.870589141346681, 6.756666757067078, 6.472775297771419, 5.513539895085621, 6.742040695233226, 5.536912346211385, 5.120496520562095, 5.120864970658071, 7.560396427177773, 4.582906540038079, 4.582906540038079, 5.07404072965478, 4.602139416550664, 4.200997698250869, 4.601227695879997, 4.2675782294954985, 4.267209235810629, 4.268035342106313, 5.251065291276923, 4.295078223018449, 4.295976966011183, 10.796475032028244, 4.228642194438741, 9.065831736995067, 14.30200946653954, 6.813137320515198, 22.352749694613735, 33.10970037735006, 70.50040413697535, 17.368060277166176, 209.02449868105236, 14.07673035800396, 13.697559690268097, 43.9905920614441, 85.50881342812191, 31.41206278627432, 285.97947464952153, 223.10811456599535, 76.50023268146768, 103.5884050768419, 18.592559122831247, 41.15126590559596, 116.65830887061057, 332.9099678111711, 238.66234370703637, 149.57947423008054, 79.03275274114739, 62.12818323434498, 163.7110545529911, 103.44269304599932, 185.86193647499593, 173.05689374277793, 298.9757691164989, 230.609087382093, 102.81035568433745, 301.5496172402252, 306.67162442124675, 109.25119513728984, 114.04776916168416, 251.08767037469732, 288.1126705356927, 193.63247634756837, 172.20959647831705, 276.25235523229503, 19.01358186626758, 12.907984814653696, 14.68797910230715, 12.974262901656004, 22.66136208132185, 6.889699169003652, 6.000549659868207, 6.000549659868207, 6.043888269568612, 5.14402401058337, 5.165921749857906, 5.0879288297820695, 4.287487714709125, 4.287487714709125, 4.287487714709125, 4.303622902990277, 4.3035710784721, 4.304020079931342, 4.304443706977554, 6.07640704628309, 4.303682565732663, 10.571795549165692, 4.31499124249515, 4.2203331311227394, 4.317211968346615, 4.222324678645791, 4.3220991628502174, 4.323244620823994, 8.810212541536194, 3.4309199451482546, 9.298358427384008, 13.1175432062649, 31.98575085112396, 130.96166147346975, 105.30639824743979, 13.312996780782546, 47.602170414817465, 301.5496172402252, 68.59011802372278, 26.80274243330571, 88.94057457927937, 38.37173016745622, 17.54044514942163, 14.118459886632952, 298.9757691164989, 238.66234370703637, 86.86808879813181, 163.7110545529911, 103.95917470563506, 288.1126705356927, 326.0296067618086, 230.609087382093, 96.23351108585152, 186.38893993556414, 50.000816654770304, 200.97134789660066, 132.7616452349963, 100.62584681266046, 276.25235523229503, 251.08767037469732, 223.10811456599535, 306.67162442124675, 120.14212145052062, 332.9099678111711, 346.4928950302637, 196.70131985941964], \"Category\": [\"Default\", \"Default\", \"Default\", \"Default\", \"Default\", \"Default\", \"Default\", \"Default\", \"Default\", \"Default\", \"Default\", \"Default\", \"Default\", \"Default\", \"Default\", \"Default\", \"Default\", \"Default\", \"Default\", \"Default\", \"Default\", \"Default\", \"Default\", \"Default\", \"Default\", \"Default\", \"Default\", \"Default\", \"Default\", \"Default\", \"Topic1\", \"Topic1\", \"Topic1\", \"Topic1\", \"Topic1\", \"Topic1\", \"Topic1\", \"Topic1\", \"Topic1\", \"Topic1\", \"Topic1\", \"Topic1\", \"Topic1\", \"Topic1\", \"Topic1\", \"Topic1\", \"Topic1\", \"Topic1\", \"Topic1\", \"Topic1\", \"Topic1\", \"Topic1\", \"Topic1\", \"Topic1\", \"Topic1\", \"Topic1\", \"Topic1\", \"Topic1\", \"Topic1\", \"Topic1\", \"Topic1\", \"Topic1\", \"Topic1\", \"Topic1\", \"Topic1\", \"Topic1\", \"Topic1\", \"Topic1\", \"Topic1\", \"Topic1\", \"Topic1\", \"Topic1\", \"Topic1\", \"Topic1\", \"Topic1\", \"Topic1\", \"Topic1\", \"Topic1\", \"Topic1\", \"Topic1\", \"Topic1\", \"Topic1\", \"Topic1\", \"Topic1\", \"Topic1\", \"Topic1\", \"Topic1\", \"Topic1\", \"Topic1\", \"Topic1\", \"Topic1\", \"Topic1\", \"Topic1\", \"Topic1\", \"Topic1\", \"Topic1\", \"Topic1\", \"Topic1\", \"Topic1\", \"Topic1\", \"Topic1\", \"Topic1\", \"Topic1\", \"Topic1\", \"Topic1\", \"Topic1\", \"Topic1\", \"Topic1\", \"Topic2\", \"Topic2\", \"Topic2\", \"Topic2\", \"Topic2\", \"Topic2\", \"Topic2\", \"Topic2\", \"Topic2\", \"Topic2\", \"Topic2\", \"Topic2\", \"Topic2\", \"Topic2\", \"Topic2\", \"Topic2\", \"Topic2\", \"Topic2\", \"Topic2\", \"Topic2\", \"Topic2\", \"Topic2\", \"Topic2\", \"Topic2\", \"Topic2\", \"Topic2\", \"Topic2\", \"Topic2\", \"Topic2\", \"Topic2\", \"Topic2\", \"Topic2\", \"Topic2\", \"Topic2\", \"Topic2\", \"Topic2\", \"Topic2\", \"Topic2\", \"Topic2\", \"Topic2\", \"Topic2\", \"Topic2\", \"Topic2\", \"Topic2\", \"Topic2\", \"Topic2\", \"Topic2\", \"Topic2\", \"Topic2\", \"Topic2\", \"Topic2\", \"Topic2\", \"Topic2\", \"Topic2\", \"Topic2\", \"Topic2\", \"Topic2\", \"Topic2\", \"Topic2\", \"Topic2\", \"Topic2\", \"Topic2\", \"Topic2\", \"Topic2\", \"Topic2\", \"Topic2\", \"Topic2\", \"Topic2\", \"Topic2\", \"Topic2\", \"Topic2\", \"Topic2\", \"Topic2\", \"Topic2\", \"Topic2\", \"Topic2\", \"Topic2\", \"Topic2\", \"Topic2\", \"Topic3\", \"Topic3\", \"Topic3\", \"Topic3\", \"Topic3\", \"Topic3\", \"Topic3\", \"Topic3\", \"Topic3\", \"Topic3\", \"Topic3\", \"Topic3\", \"Topic3\", \"Topic3\", \"Topic3\", \"Topic3\", \"Topic3\", \"Topic3\", \"Topic3\", \"Topic3\", \"Topic3\", \"Topic3\", \"Topic3\", \"Topic3\", \"Topic3\", \"Topic3\", \"Topic3\", \"Topic3\", \"Topic3\", \"Topic3\", \"Topic3\", \"Topic3\", \"Topic3\", \"Topic3\", \"Topic3\", \"Topic3\", \"Topic3\", \"Topic3\", \"Topic3\", \"Topic3\", \"Topic3\", \"Topic3\", \"Topic3\", \"Topic3\", \"Topic3\", \"Topic3\", \"Topic3\", \"Topic3\", \"Topic3\", \"Topic3\", \"Topic3\", \"Topic3\", \"Topic3\", \"Topic3\", \"Topic3\", \"Topic3\", \"Topic3\", \"Topic3\", \"Topic3\", \"Topic3\", \"Topic3\", \"Topic3\", \"Topic3\", \"Topic3\", \"Topic3\", \"Topic3\", \"Topic3\", \"Topic3\", \"Topic3\", \"Topic3\", \"Topic3\", \"Topic3\", \"Topic3\", \"Topic3\", \"Topic3\", \"Topic3\", \"Topic3\", \"Topic3\", \"Topic3\", \"Topic3\", \"Topic3\", \"Topic3\", \"Topic4\", \"Topic4\", \"Topic4\", \"Topic4\", \"Topic4\", \"Topic4\", \"Topic4\", \"Topic4\", \"Topic4\", \"Topic4\", \"Topic4\", \"Topic4\", \"Topic4\", \"Topic4\", \"Topic4\", \"Topic4\", \"Topic4\", \"Topic4\", \"Topic4\", \"Topic4\", \"Topic4\", \"Topic4\", \"Topic4\", \"Topic4\", \"Topic4\", \"Topic4\", \"Topic4\", \"Topic4\", \"Topic4\", \"Topic4\", \"Topic4\", \"Topic4\", \"Topic4\", \"Topic4\", \"Topic4\", \"Topic4\", \"Topic4\", \"Topic4\", \"Topic4\", \"Topic4\", \"Topic4\", \"Topic4\", \"Topic4\", \"Topic4\", \"Topic4\", \"Topic4\", \"Topic4\", \"Topic4\", \"Topic4\", \"Topic4\", \"Topic4\", \"Topic4\", \"Topic4\", \"Topic4\", \"Topic4\", \"Topic4\", \"Topic4\", \"Topic4\", \"Topic4\", \"Topic4\", \"Topic4\", \"Topic4\", \"Topic4\", \"Topic4\", \"Topic4\", \"Topic4\", \"Topic4\", \"Topic4\", \"Topic4\", \"Topic4\", \"Topic4\", \"Topic4\", \"Topic4\", \"Topic4\", \"Topic4\", \"Topic4\", \"Topic4\", \"Topic5\", \"Topic5\", \"Topic5\", \"Topic5\", \"Topic5\", \"Topic5\", \"Topic5\", \"Topic5\", \"Topic5\", \"Topic5\", \"Topic5\", \"Topic5\", \"Topic5\", \"Topic5\", \"Topic5\", \"Topic5\", \"Topic5\", \"Topic5\", \"Topic5\", \"Topic5\", \"Topic5\", \"Topic5\", \"Topic5\", \"Topic5\", \"Topic5\", \"Topic5\", \"Topic5\", \"Topic5\", \"Topic5\", \"Topic5\", \"Topic5\", \"Topic5\", \"Topic5\", \"Topic5\", \"Topic5\", \"Topic5\", \"Topic5\", \"Topic5\", \"Topic5\", \"Topic5\", \"Topic5\", \"Topic5\", \"Topic5\", \"Topic5\", \"Topic5\", \"Topic5\", \"Topic5\", \"Topic5\", \"Topic5\", \"Topic5\", \"Topic5\", \"Topic5\", \"Topic5\", \"Topic5\", \"Topic5\", \"Topic5\", \"Topic5\", \"Topic5\", \"Topic5\", \"Topic5\", \"Topic5\", \"Topic5\", \"Topic5\", \"Topic5\", \"Topic5\", \"Topic5\", \"Topic5\", \"Topic5\", \"Topic5\", \"Topic5\", \"Topic5\", \"Topic6\", \"Topic6\", \"Topic6\", \"Topic6\", \"Topic6\", \"Topic6\", \"Topic6\", \"Topic6\", \"Topic6\", \"Topic6\", \"Topic6\", \"Topic6\", \"Topic6\", \"Topic6\", \"Topic6\", \"Topic6\", \"Topic6\", \"Topic6\", \"Topic6\", \"Topic6\", \"Topic6\", \"Topic6\", \"Topic6\", \"Topic6\", \"Topic6\", \"Topic6\", \"Topic6\", \"Topic6\", \"Topic6\", \"Topic6\", \"Topic6\", \"Topic6\", \"Topic6\", \"Topic6\", \"Topic6\", \"Topic6\", \"Topic6\", \"Topic6\", \"Topic6\", \"Topic6\", \"Topic6\", \"Topic6\", \"Topic6\", \"Topic6\", \"Topic6\", \"Topic6\", \"Topic6\", \"Topic6\", \"Topic6\", \"Topic6\", \"Topic6\", \"Topic6\", \"Topic6\", \"Topic6\", \"Topic6\", \"Topic6\", \"Topic6\", \"Topic6\", \"Topic6\", \"Topic6\", \"Topic6\", \"Topic6\", \"Topic6\", \"Topic6\", \"Topic6\", \"Topic6\"], \"logprob\": [30.0, 29.0, 28.0, 27.0, 26.0, 25.0, 24.0, 23.0, 22.0, 21.0, 20.0, 19.0, 18.0, 17.0, 16.0, 15.0, 14.0, 13.0, 12.0, 11.0, 10.0, 9.0, 8.0, 7.0, 6.0, 5.0, 4.0, 3.0, 2.0, 1.0, -7.2629, -7.3365, -7.2305, -7.4177, -7.5016, -7.6999, -7.7234, -7.7014, -7.0635, -7.8303, -7.9483, -8.096, -8.0969, -8.0986, -7.9485, -8.034, -7.7726, -8.1589, -6.6894, -8.2729, -8.2741, -8.2749, -8.2755, -8.2768, -8.0054, -8.2122, -8.3068, -8.1825, -8.1394, -8.3524, -6.8984, -7.0646, -6.9105, -6.9473, -6.1076, -6.5221, -5.3463, -7.1068, -7.6254, -7.2956, -6.4689, -6.3758, -6.3851, -6.7444, -5.8922, -5.4189, -5.5638, -6.0583, -5.7877, -5.5716, -5.3013, -6.3331, -6.1769, -5.3032, -5.2964, -5.7126, -5.4885, -5.5513, -5.8823, -5.8883, -5.4317, -5.4609, -5.7376, -6.126, -6.0012, -5.5009, -5.4737, -5.7013, -5.8075, -5.9431, -5.7224, -5.5576, -5.8291, -5.8649, -5.7311, -5.9041, -5.8967, -5.9746, -6.4663, -7.3167, -7.2531, -7.666, -7.6672, -7.6687, -7.7703, -6.9214, -7.771, -7.6779, -7.8168, -7.78, -7.7882, -7.785, -7.7937, -7.9081, -7.4282, -7.9329, -7.9442, -7.995, -7.9495, -7.8097, -7.9257, -7.9279, -8.042, -6.8393, -8.0994, -8.0725, -8.0759, -8.209, -7.5333, -5.9627, -4.9977, -7.0599, -7.5487, -5.8453, -6.3687, -6.9654, -6.1144, -6.955, -5.841, -6.8138, -5.7225, -5.8224, -6.9961, -6.6458, -6.9768, -5.0899, -4.9924, -5.903, -5.7302, -6.6537, -5.1151, -6.7788, -6.1802, -5.7107, -5.8465, -5.641, -5.902, -5.6377, -5.3424, -5.8003, -5.6735, -6.0531, -6.2818, -6.0769, -5.8171, -6.0015, -5.5308, -5.8174, -5.9763, -5.6796, -5.6893, -5.7622, -5.9205, -5.7718, -5.9147, -5.8733, -5.8708, -6.9917, -7.274, -7.3816, -7.3205, -6.1913, -7.5296, -7.5223, -7.6626, -7.6636, -7.6637, -7.6258, -7.6393, -7.4467, -7.8419, -7.7773, -7.8488, -7.89, -7.5993, -7.7128, -8.0561, -6.6012, -8.06, -8.0579, -8.0578, -8.0588, -8.0603, -8.0594, -8.0595, -8.0604, -8.0636, -7.6563, -7.4918, -7.6288, -7.2271, -7.2519, -7.1482, -6.4475, -7.181, -7.8888, -6.8255, -7.444, -6.3656, -6.7278, -6.1114, -4.584, -6.7078, -6.1802, -5.4812, -6.9243, -6.1031, -5.2167, -6.7784, -5.6208, -5.9646, -6.0165, -6.4081, -5.254, -5.7362, -6.2573, -5.8076, -5.5066, -5.3503, -5.834, -5.6691, -5.4564, -5.9866, -5.8077, -5.5621, -6.0933, -6.0655, -5.7421, -5.9557, -5.8168, -5.9232, -6.0587, -5.9767, -5.9772, -5.9444, -5.9839, -6.0315, -6.0292, -6.0543, -6.6266, -7.2448, -6.1449, -7.5392, -7.6928, -7.6737, -6.6696, -6.4484, -6.7793, -7.7929, -7.5891, -7.7505, -8.0618, -8.063, -8.193, -8.1905, -7.5938, -8.1885, -8.1884, -8.1908, -8.2048, -8.2372, -8.2105, -7.6266, -7.493, -8.1984, -8.2106, -8.2434, -8.2071, -7.7725, -6.8053, -6.9141, -6.7378, -5.9256, -7.5878, -7.53, -6.7876, -7.3556, -7.4402, -5.3157, -6.5538, -6.7387, -6.7824, -5.9366, -5.6164, -6.6294, -5.6594, -6.2488, -5.2904, -7.3027, -5.8218, -5.6029, -6.2632, -5.6664, -5.7525, -5.6357, -5.4076, -6.0675, -5.7782, -5.5946, -5.98, -5.6973, -5.6711, -5.8927, -5.7559, -5.9397, -6.2415, -5.9435, -5.812, -5.8262, -6.1178, -6.0845, -6.1549, -6.0848, -6.1278, -6.123, -6.1144, -6.667, -6.9505, -7.071, -7.0827, -7.3031, -7.366, -7.2009, -7.4546, -7.3174, -7.3617, -7.5251, -7.3338, -7.5406, -7.6219, -7.6237, -7.2374, -7.7411, -7.7411, -7.6454, -7.7529, -7.8453, -7.756, -7.8334, -7.8345, -7.8348, -7.6281, -7.8302, -7.8314, -6.9111, -7.8557, -7.1235, -6.7471, -7.4177, -6.3603, -6.1201, -5.551, -6.6948, -4.8278, -6.9052, -6.9404, -6.1057, -5.6528, -6.4067, -5.002, -5.1841, -5.8777, -5.6976, -6.7971, -6.3559, -5.8125, -5.2656, -5.4789, -5.7252, -6.0717, -6.2192, -5.7939, -6.0061, -5.7382, -5.7778, -5.574, -5.6952, -6.0391, -5.612, -5.6259, -6.0347, -6.0643, -5.8308, -5.7922, -5.963, -6.0555, -6.0129, -5.8583, -6.2461, -6.1271, -6.2638, -5.7169, -6.9304, -7.0759, -7.0759, -7.0906, -7.2535, -7.2578, -7.2917, -7.4696, -7.4696, -7.4696, -7.4707, -7.4722, -7.4729, -7.4733, -7.1286, -7.4736, -6.5786, -7.4819, -7.5078, -7.4854, -7.5097, -7.4901, -7.491, -6.7961, -7.7457, -6.8396, -6.6689, -6.1702, -5.3983, -5.556, -6.81, -6.2486, -5.3088, -6.0808, -6.5587, -5.9991, -6.4072, -6.7858, -6.9058, -5.4916, -5.6045, -6.0714, -5.8104, -6.0088, -5.6078, -5.6247, -5.7571, -6.0997, -5.8892, -6.3539, -5.8867, -6.0288, -6.1274, -5.8551, -5.9005, -5.9821, -5.9388, -6.1889, -6.1515, -6.1633, -6.2043], \"loglift\": [30.0, 29.0, 28.0, 27.0, 26.0, 25.0, 24.0, 23.0, 22.0, 21.0, 20.0, 19.0, 18.0, 17.0, 16.0, 15.0, 14.0, 13.0, 12.0, 11.0, 10.0, 9.0, 8.0, 7.0, 6.0, 5.0, 4.0, 3.0, 2.0, 1.0, 1.1952, 1.1916, 1.1912, 1.186, 1.1832, 1.1712, 1.1704, 1.1695, 1.1653, 1.161, 1.1513, 1.141, 1.1402, 1.1387, 1.1386, 1.138, 1.1372, 1.1264, 1.1252, 1.1231, 1.1223, 1.1217, 1.1208, 1.1197, 1.1143, 1.1121, 1.1085, 1.1066, 1.1049, 1.1027, 1.1014, 1.0526, 1.0116, 0.9852, 0.8513, 0.8958, 0.7312, 0.9558, 1.0329, 0.9692, 0.7811, 0.7269, 0.7096, 0.8001, 0.5666, 0.3745, 0.416, 0.5643, 0.4653, 0.388, 0.2841, 0.6138, 0.5538, 0.2124, 0.1579, 0.3325, 0.227, 0.215, 0.3761, 0.3753, 0.1093, 0.117, 0.2493, 0.4799, 0.392, 0.0315, -0.0402, 0.1324, 0.2089, 0.2904, 0.0782, -0.1641, 0.109, 0.1105, -0.1111, 0.1094, 0.0796, 0.1192, 1.5025, 1.4752, 1.4736, 1.451, 1.4499, 1.4472, 1.4408, 1.4407, 1.44, 1.4387, 1.4375, 1.4343, 1.433, 1.4325, 1.4281, 1.428, 1.4272, 1.4197, 1.4196, 1.4181, 1.4171, 1.4136, 1.4135, 1.4111, 1.4074, 1.4071, 1.4041, 1.3995, 1.3963, 1.3932, 1.3752, 1.2451, 1.172, 1.3225, 1.3619, 1.1688, 1.2178, 1.2642, 1.0997, 1.2463, 0.9932, 1.1506, 0.8366, 0.8218, 1.1806, 1.0628, 1.1663, 0.5301, 0.4411, 0.7269, 0.6276, 1.0009, 0.3392, 1.0434, 0.7561, 0.5237, 0.5901, 0.4516, 0.5548, 0.3758, 0.19, 0.4429, 0.3019, 0.5822, 0.7223, 0.5075, 0.2279, 0.3812, -0.1374, 0.1695, 0.3532, -0.1017, -0.1483, -0.0467, 0.1672, -0.2562, 0.065, -0.1071, -0.2854, 1.7013, 1.6843, 1.6839, 1.6827, 1.6758, 1.6685, 1.6621, 1.6584, 1.6574, 1.6573, 1.6528, 1.6476, 1.6435, 1.638, 1.6352, 1.6296, 1.6276, 1.6172, 1.6109, 1.609, 1.6083, 1.6076, 1.6075, 1.6074, 1.6067, 1.606, 1.6059, 1.6059, 1.605, 1.6015, 1.5971, 1.5825, 1.5831, 1.5552, 1.5568, 1.5496, 1.4908, 1.5406, 1.5921, 1.4559, 1.5236, 1.3311, 1.389, 1.1974, 0.8095, 1.328, 1.1198, 0.8852, 1.3449, 1.0271, 0.5768, 1.249, 0.6196, 0.7887, 0.803, 0.9889, 0.287, 0.5557, 0.8651, 0.5231, 0.294, 0.1653, 0.4164, 0.2691, -0.0229, 0.4598, 0.28, -0.1078, 0.4746, 0.3461, -0.2097, 0.1058, -0.2388, -0.0243, 0.2708, 0.0101, -0.0009, -0.3244, -0.2683, 0.0623, -0.0129, 0.0889, 1.9279, 1.8768, 1.8744, 1.8522, 1.8388, 1.8362, 1.8327, 1.8258, 1.798, 1.7921, 1.7851, 1.7806, 1.7798, 1.7787, 1.7602, 1.7592, 1.759, 1.7553, 1.7547, 1.7526, 1.7525, 1.7474, 1.7469, 1.7463, 1.7457, 1.7447, 1.7421, 1.7412, 1.739, 1.7331, 1.677, 1.6575, 1.56, 1.4354, 1.647, 1.6357, 1.4565, 1.5725, 1.5686, 1.0371, 1.3145, 1.3619, 1.3478, 1.0228, 0.7768, 1.2059, 0.7234, 0.9444, 0.2876, 1.4982, 0.5095, 0.3353, 0.7788, 0.31, 0.3413, 0.198, -0.0141, 0.5312, 0.1972, -0.0791, 0.3789, 0.0182, -0.0857, 0.1688, -0.1359, 0.0401, 0.6053, 0.0162, -0.2796, -0.3719, 0.2937, 0.149, 0.3058, -0.0685, 0.1358, -0.0353, -0.2155, 2.0871, 2.0678, 2.0373, 2.0368, 2.0355, 2.0209, 2.0177, 2.0167, 2.0134, 2.012, 2.009, 1.9992, 1.9893, 1.9862, 1.9843, 1.981, 1.9779, 1.9779, 1.9717, 1.9619, 1.9607, 1.959, 1.9569, 1.9559, 1.9553, 1.9548, 1.9536, 1.9522, 1.951, 1.9438, 1.9133, 1.8338, 1.9048, 1.774, 1.6214, 1.4347, 1.6919, 1.0711, 1.6916, 1.6837, 1.3516, 1.1399, 1.3875, 0.5834, 0.6496, 1.0263, 0.9033, 1.5215, 1.1681, 0.6696, 0.1678, 0.2874, 0.5083, 0.7998, 0.8929, 0.3494, 0.5962, 0.2782, 0.3099, -0.0331, 0.1054, 0.5693, -0.0796, -0.1103, 0.513, 0.4404, -0.1153, -0.2142, 0.0124, 0.0371, -0.3929, 2.4378, 2.4374, 2.4272, 2.4145, 2.4038, 2.3809, 2.3736, 2.3736, 2.3517, 2.35, 2.3414, 2.3227, 2.3161, 2.3161, 2.3161, 2.3111, 2.3097, 2.3089, 2.3084, 2.3083, 2.3083, 2.3045, 2.2973, 2.2936, 2.2933, 2.2913, 2.2875, 2.2863, 2.2693, 2.2628, 2.1719, 1.9985, 1.6059, 0.9681, 1.0285, 1.8426, 1.1298, 0.2235, 0.9324, 1.3941, 0.7543, 1.1868, 1.591, 1.688, 0.0494, 0.1618, 0.7055, 0.3328, 0.5885, -0.0298, -0.1704, 0.0435, 0.5749, 0.1243, 0.9754, 0.0515, 0.3239, 0.5025, -0.2351, -0.185, -0.1484, -0.4232, 0.2637, -0.718, -0.7698, -0.2446]}, \"token.table\": {\"Topic\": [4, 2, 1, 2, 1, 1, 5, 6, 3, 2, 4, 1, 2, 3, 4, 5, 6, 2, 6, 1, 2, 3, 4, 5, 6, 6, 1, 2, 3, 4, 5, 6, 5, 3, 2, 4, 5, 1, 2, 3, 5, 1, 2, 3, 4, 5, 6, 2, 6, 5, 1, 2, 3, 5, 1, 3, 4, 5, 6, 3, 1, 5, 1, 6, 6, 1, 2, 3, 4, 5, 6, 2, 3, 1, 2, 3, 4, 5, 6, 4, 1, 2, 3, 4, 5, 6, 1, 2, 2, 1, 5, 1, 3, 5, 1, 2, 3, 4, 5, 6, 5, 5, 1, 2, 3, 6, 1, 5, 1, 2, 4, 1, 6, 5, 3, 1, 2, 3, 4, 5, 6, 6, 6, 1, 4, 1, 2, 3, 4, 5, 6, 1, 2, 3, 4, 5, 6, 3, 4, 5, 1, 3, 1, 2, 3, 4, 4, 2, 1, 2, 3, 4, 5, 6, 4, 1, 2, 1, 2, 3, 4, 5, 1, 2, 4, 1, 2, 3, 4, 5, 6, 1, 2, 3, 5, 6, 1, 2, 3, 4, 5, 6, 1, 2, 3, 4, 5, 6, 2, 2, 1, 2, 3, 4, 5, 6, 1, 2, 3, 4, 5, 6, 1, 1, 2, 4, 5, 1, 2, 3, 4, 6, 1, 1, 2, 3, 4, 5, 6, 4, 1, 4, 1, 2, 3, 4, 5, 6, 3, 4, 1, 2, 1, 2, 3, 4, 5, 6, 2, 6, 2, 5, 1, 2, 3, 4, 5, 6, 1, 2, 3, 4, 6, 3, 1, 2, 3, 4, 5, 6, 1, 2, 3, 4, 5, 6, 2, 1, 2, 3, 4, 6, 4, 1, 2, 3, 4, 5, 6, 1, 2, 3, 4, 5, 6, 1, 2, 3, 4, 5, 6, 1, 2, 3, 4, 5, 6, 1, 2, 3, 4, 5, 6, 2, 5, 1, 2, 3, 4, 5, 6, 1, 2, 3, 4, 5, 6, 1, 2, 4, 1, 2, 4, 5, 1, 2, 3, 4, 5, 6, 1, 2, 3, 4, 5, 6, 1, 2, 3, 4, 5, 6, 1, 3, 4, 6, 5, 1, 2, 3, 4, 5, 6, 1, 2, 3, 4, 5, 6, 1, 3, 4, 1, 2, 3, 5, 2, 4, 1, 2, 3, 4, 5, 6, 1, 2, 5, 6, 1, 1, 2, 3, 4, 5, 6, 4, 1, 6, 4, 1, 2, 3, 4, 5, 6, 1, 2, 3, 4, 5, 6, 1, 2, 3, 4, 5, 6, 3, 1, 2, 3, 4, 1, 2, 3, 4, 5, 6, 1, 2, 3, 4, 5, 6, 3, 5, 1, 2, 3, 5, 6, 1, 2, 3, 4, 5, 6, 1, 1, 2, 3, 4, 5, 6, 1, 2, 3, 4, 5, 6, 1, 2, 3, 4, 5, 6, 5, 3, 5, 2, 1, 3, 6, 5, 5, 3, 4, 4, 1, 1, 6, 2, 5, 1, 2, 3, 6, 6, 3, 1, 3, 4, 5, 1, 2, 5, 6, 1, 4, 1, 6, 1, 3, 5, 3, 2, 2, 1, 2, 3, 4, 5, 6, 1, 2, 3, 4, 5, 6, 1, 1, 2, 3, 4, 5, 6, 1, 4, 2, 6, 1, 2, 3, 4, 5, 6, 3, 4, 5, 1, 2, 3, 4, 5, 6, 1, 2, 3, 4, 5, 6, 3, 3, 4, 3, 4, 5, 3, 2, 5, 6, 3, 5, 1, 2, 3, 4, 5, 6, 1, 2, 3, 4, 5, 6, 5, 3, 2, 3, 5, 6, 1, 2, 3, 4, 5, 1, 2, 3, 4, 5, 1, 2, 3, 4, 5, 6, 4, 1, 2, 3, 5, 1, 2, 3, 4, 5, 6, 1, 1, 2, 3, 4, 5, 6, 4, 6, 5, 2, 3, 1, 2, 3, 4, 5, 6, 1, 2, 3, 4, 5, 6, 5, 1, 2, 3, 4, 5, 6, 3, 4, 1, 6, 1, 2, 3, 4, 5, 6, 1, 2, 3, 5, 1, 4, 6, 2, 2, 1, 2, 3, 4, 5, 6, 2, 6, 1, 2, 5, 2, 6, 1, 2, 3, 4, 5, 6, 1, 2, 3, 4, 5, 6, 1, 2, 3, 4, 1, 2, 3, 4, 1, 2, 3, 4, 5, 6, 3, 4, 1, 3, 4, 5, 6, 3, 5, 3, 1, 2, 3, 5, 6, 3, 1, 2, 3, 4, 5, 6, 2, 2, 3, 5, 1, 3, 4, 1, 2, 3, 4, 5, 6, 2, 3, 1, 2, 3, 4, 5, 6, 1, 2, 3, 4, 5, 6, 4, 3, 5, 4, 1, 2, 3, 4, 5, 6, 3, 5, 3, 1, 2, 3, 4, 5, 6, 1, 6, 1, 2, 3, 5, 6, 1, 2, 3, 4, 5, 6, 1, 2, 3, 4, 5, 6, 2, 1, 2, 3, 4, 5, 6, 1, 2, 3, 5, 6, 1, 2, 3, 4, 5, 6, 2, 5, 6, 1, 4, 1, 2, 4, 5, 4, 1, 2, 3, 6, 3, 1, 2, 3, 4, 5, 6, 1, 4, 2, 1, 2, 3, 4, 1, 2, 4, 5, 6, 6, 1, 2, 4, 5, 6, 1, 6, 1, 2, 3, 4, 5, 4, 1, 2, 3, 4, 5, 6, 1, 2, 3, 4, 5, 6, 1, 2, 3, 4, 5, 6, 2, 4, 5, 6, 6, 1, 2, 3, 4, 5, 6, 1, 2, 3, 4, 6, 1, 2, 3, 4, 5, 6, 1, 2, 3, 4, 5, 6, 1, 2, 3, 4, 5, 6, 1, 2, 3, 4, 5, 6, 2, 1, 2, 3, 4, 5, 6, 1, 2, 3, 4, 5, 6, 1, 2, 3, 4, 5, 6, 1, 2, 3, 4, 5, 6, 1, 2, 3, 4, 5, 6, 1, 6, 1, 2, 3, 4, 5, 6, 3, 1, 2, 4, 5, 6, 1, 2, 3, 4, 5, 6, 1, 1, 2, 3, 4, 6, 3, 4, 6, 1, 2, 1, 3, 6, 1, 2, 3, 4, 5, 6, 1, 2, 3, 4, 5, 6, 3, 1, 1, 2, 3, 4, 6, 1, 2, 3, 4, 5, 6, 2, 3, 4, 5, 6, 5, 1, 2, 3, 4, 5, 6, 5, 1, 2, 3, 5, 6, 1, 1, 2, 3, 4, 5, 6, 3, 1, 2, 3, 5, 6, 6, 1, 2, 3, 4, 5, 6, 1, 6, 1, 5, 2, 3, 6, 1, 4, 1, 2, 4, 3, 6, 5, 1, 2, 3, 4, 5, 6, 1, 2, 3, 4, 5, 6, 3, 5, 6, 1, 2, 3, 4, 5, 6, 1, 2, 3, 4, 5, 6, 3, 1, 2, 3, 4, 5, 6, 2, 6, 1, 2, 3, 4, 5, 6, 1, 2, 3, 4, 5, 6, 1, 2, 3, 4, 5, 6, 1, 5], \"Freq\": [0.7399662445631058, 0.9200735156080564, 0.8052538079723555, 0.7766198008336503, 0.930896036107442, 0.9346303182785435, 0.8336054104048851, 0.09262282337832058, 0.8793371154534945, 0.8331352468933453, 0.8308108883146177, 0.31120941017875464, 0.21052401276798108, 0.11899183330364149, 0.1372982691965094, 0.19221757687511318, 0.027459653839301882, 0.8362079808301771, 0.7743051857318636, 0.18982931629114455, 0.3796586325822891, 0.20981134958494924, 0.07992813317521875, 0.05994609988141406, 0.06993711652831641, 0.6939232597548948, 0.15390657000985913, 0.22124069438917252, 0.2404790156404049, 0.12504908813301055, 0.12504908813301055, 0.14428740938424295, 0.8949102632082625, 0.8948835934758588, 0.20781423813073657, 0.6927141271024552, 0.8386494663231191, 0.034244773501818114, 0.034244773501818114, 0.8903641110472711, 0.034244773501818114, 0.36448399157664996, 0.10205551764146199, 0.18953167561985798, 0.07289679831533, 0.05831743865226399, 0.20411103528292399, 0.0441279741443357, 0.8825594828867139, 0.8661946061784135, 0.20269545649489668, 0.12161727389693801, 0.6486254607836694, 0.04053909129897934, 0.24119587266401984, 0.6029896816600496, 0.040199312110669974, 0.040199312110669974, 0.08039862422133995, 0.8280456225162791, 0.9341964879631841, 0.049168236208588637, 0.9560779371745813, 0.87440104927029, 0.7861745189095601, 0.2718159261497844, 0.21920639205627773, 0.15782860228051998, 0.14029209091601774, 0.1753651136450222, 0.035073022729004436, 0.9203758574010651, 0.8919818808964121, 0.3117417172198622, 0.09352251516595866, 0.23900198320189436, 0.1454794680359357, 0.07273973401796785, 0.1454794680359357, 0.8190666640521433, 0.25426261919759663, 0.3613205641229005, 0.14720467427229278, 0.10705794492530384, 0.06022009402048341, 0.06691121557831489, 0.8144359787232165, 0.9478283021777715, 0.9220722379773314, 0.954063150766529, 0.7936091788033058, 0.7959469818979041, 0.0723588165361731, 0.0723588165361731, 0.3551022939485999, 0.14526912025169994, 0.16679047140009995, 0.12912810689039994, 0.15064945803879995, 0.059183715658099975, 0.869333200698078, 0.6984738913303637, 0.22804438347631642, 0.2850554793453955, 0.057011095869079105, 0.3990776710835537, 0.2920228194254147, 0.5840456388508294, 0.10724880717572205, 0.2144976143514441, 0.6434928430543323, 0.8823235540971234, 0.6941071657462028, 0.7617501931740985, 0.8291210491190063, 0.2570113834515457, 0.3619878640162616, 0.12307587376552893, 0.11945599512536632, 0.07601745144341493, 0.06515781552292708, 0.93294727965684, 0.93294727965684, 0.10290538016162498, 0.8232430412929999, 0.3255875632139113, 0.18605003612223503, 0.1802359724934152, 0.1918640997510549, 0.06976876354583814, 0.04651250903055876, 0.4357348158473786, 0.22824204639624596, 0.10893370396184465, 0.14005761937951455, 0.05187319236278317, 0.03631123465394822, 0.8589970654102754, 0.885139419130676, 0.7030355987289897, 0.15718754260481554, 0.7859377130240778, 0.043250420299503815, 0.3027529420965267, 0.12975126089851144, 0.5190050435940458, 0.8269225575093125, 0.9550424897263342, 0.21671177772741923, 0.43342355545483846, 0.13002706663645153, 0.07223725924247307, 0.08668471109096769, 0.05778980739397846, 0.8214775400425657, 0.09722317987798951, 0.8750086189019056, 0.699285953031529, 0.13111611619341168, 0.02185268603223528, 0.04370537206447056, 0.1092634301611764, 0.1344544534326513, 0.1344544534326513, 0.6722722671632565, 0.08399404738942155, 0.20616720722858017, 0.41233441445716035, 0.007635822489947414, 0.07635822489947414, 0.21380302971852758, 0.19668327191258658, 0.16390272659382216, 0.4753179071220842, 0.032780545318764426, 0.1147319086156755, 0.19423429504343678, 0.11654057702606208, 0.5244325966172793, 0.019423429504343677, 0.11654057702606208, 0.038846859008687354, 0.30943995778068706, 0.1915580691023301, 0.28733710365349513, 0.11051427063595967, 0.03683809021198656, 0.0663085623815758, 0.8523671389921416, 0.8522864452480594, 0.28752507376142505, 0.1400763179863353, 0.17693850693010774, 0.22854557145138915, 0.08846925346505387, 0.08846925346505387, 0.2951421421606363, 0.2553476960266179, 0.13596435762456277, 0.10280231917954746, 0.106118523024049, 0.10280231917954746, 0.8485473481452617, 0.0575769535596731, 0.2303078142386924, 0.0575769535596731, 0.6333464891564041, 0.5102042873010549, 0.1050420591502172, 0.06002403380012412, 0.30012016900062055, 0.01500600845003103, 0.8839117533690177, 0.30821580958453065, 0.14009809526569575, 0.27085631751367845, 0.17745758733654796, 0.0747189841417044, 0.02801961905313915, 0.8196199002461976, 0.15129402833219566, 0.7564701416609783, 0.12733961558703566, 0.09550471169027674, 0.031834903896758915, 0.15917451948379457, 0.4456886545546248, 0.09550471169027674, 0.7884675220929871, 0.13141125368216452, 0.9478707042359049, 0.9304824377847332, 0.03657057814408521, 0.5729390575906683, 0.24380385429390142, 0.01219019271469507, 0.04876077085878028, 0.09752154171756056, 0.8989094773977128, 0.05618184233735705, 0.9284611137072751, 0.8517032753637784, 0.28972358538321863, 0.2092448116656579, 0.06438301897404858, 0.12876603794809716, 0.27362783063970647, 0.03219150948702429, 0.21978249814270182, 0.04395649962854036, 0.6593474944281055, 0.04395649962854036, 0.04395649962854036, 0.9385748311388973, 0.15615600369219804, 0.14414400340818279, 0.37237200880447224, 0.09609600227212187, 0.1081080025561371, 0.1081080025561371, 0.35615170235795346, 0.19274092127606893, 0.11313054074899698, 0.09218044061029383, 0.15084072099866264, 0.09637046063803446, 0.917745683560914, 0.2064325461321734, 0.18578929151895607, 0.02064325461321734, 0.5780111291700856, 0.02064325461321734, 0.8274052043178995, 0.1630820044472826, 0.6836899417213002, 0.043906693505037626, 0.07526861743720735, 0.012544769572867893, 0.018817154359301837, 0.27467469028829106, 0.18311646019219405, 0.19143993565547557, 0.13317560741250475, 0.1248521319492232, 0.10820518102266011, 0.398676658859177, 0.26578443923945133, 0.11628069216725996, 0.08859481307981712, 0.0719832856273514, 0.055371758174885696, 0.3373926714587121, 0.29751899210450067, 0.1502930991043354, 0.09508338922927341, 0.05214250377089187, 0.06747853429174241, 0.2763509924466517, 0.33041966488186614, 0.16520983244093307, 0.05406867243521446, 0.13517168108803615, 0.039049596758766, 0.14677525976012204, 0.7338762988006102, 0.3811462348253613, 0.16085070460519835, 0.08741886119847737, 0.12588316012580741, 0.2063085124284066, 0.04196105337526913, 0.2729718654811487, 0.18198124365409912, 0.26469999076959877, 0.12407812067324941, 0.09926249653859953, 0.05790312298084972, 0.19006558429440215, 0.06335519476480071, 0.6969071424128079, 0.585230639602323, 0.14235339882218667, 0.17398748744933926, 0.09490226588145778, 0.18145209413681543, 0.4838722510315078, 0.11088739086138721, 0.10080671896489746, 0.07056470327542823, 0.06048403137893848, 0.19583969416753155, 0.24856576567417465, 0.01506459185904089, 0.3841470924055427, 0.03766147964760222, 0.11298443894280667, 0.36002579161835385, 0.23144515175465605, 0.08572042657579854, 0.04286021328789927, 0.2228731090970762, 0.05143225594547912, 0.1023857368694711, 0.6655072896515621, 0.15357860530420664, 0.05119286843473555, 0.7141160780090603, 0.5899679812508208, 0.09567048344607905, 0.06378032229738603, 0.14350572516911858, 0.09567048344607905, 0.015945080574346508, 0.2803991739862851, 0.1970372573957679, 0.17430218923471777, 0.1970372573957679, 0.05304849237578367, 0.09094027264420057, 0.09645525788251134, 0.8680973209426022, 0.04822762894125567, 0.05733170719160407, 0.802643900682457, 0.05733170719160407, 0.05733170719160407, 0.13498011657644476, 0.8098806994586686, 0.10525230837830928, 0.2455887195493883, 0.10525230837830928, 0.11694700930923252, 0.36253572885862084, 0.07016820558553952, 0.14207844784515672, 0.14207844784515672, 0.6393530153032052, 0.07103922392257836, 0.948505517456279, 0.6766762911558688, 0.1657166427320495, 0.05523888091068317, 0.08285832136602475, 0.013809720227670793, 0.013809720227670793, 0.9434918386001673, 0.9298105622672519, 0.7108443591517873, 0.824461166850705, 0.28707325548507745, 0.20826883241074245, 0.18575328296093246, 0.16323773351112247, 0.08443331043678748, 0.06754664834942999, 0.2399960801211263, 0.17999706009084473, 0.2199964067776991, 0.059999020030281576, 0.09999836671713595, 0.2199964067776991, 0.21870530108713213, 0.19440471207745078, 0.024300589009681347, 0.09720235603872539, 0.3645088351452202, 0.09720235603872539, 0.9177675461439596, 0.10285670630122332, 0.3085701189036699, 0.034285568767074434, 0.5142835315061166, 0.1497661586080617, 0.1497661586080617, 0.049922052869353896, 0.5990646344322468, 0.09984410573870779, 0.049922052869353896, 0.18169295651959005, 0.4012386123140947, 0.14384025724467545, 0.09084647825979503, 0.11355809782474378, 0.08327593840481211, 0.9071870337494493, 0.9145785862382346, 0.22151432364855989, 0.5814750995774697, 0.05537858091213997, 0.08306787136820995, 0.08306787136820995, 0.2123789818337332, 0.15445744133362413, 0.12549667108356963, 0.1351502611669211, 0.27995411241719376, 0.09653590083351508, 0.9434007493743037, 0.2787301113387354, 0.33099200721474825, 0.15097881030848165, 0.07548940515424082, 0.12194442371069672, 0.03484126391734192, 0.1951388173104652, 0.3089697940749032, 0.40653920273013583, 0.016261568109205433, 0.03252313621841087, 0.06504627243682173, 0.34043263217045794, 0.12644640623474152, 0.10699311296785821, 0.11671975960129986, 0.20425957930227476, 0.10699311296785821, 0.8899382651668262, 0.1103042753285709, 0.7721299272999963, 0.8795251774362745, 0.9344505803918677, 0.9080650083278806, 0.7776013470719338, 0.8691609788297174, 0.9269594144672076, 0.8428535160684438, 0.8192813017474231, 0.7633638088520871, 0.9432694746405504, 0.07707566954515484, 0.9249080345418581, 0.9561539380033781, 0.9068584058776188, 0.2287013622007518, 0.07623378740025061, 0.07623378740025061, 0.6098702992020049, 0.8708653096195613, 0.827348255429825, 0.8355870490953967, 0.04397826574186298, 0.08795653148372597, 0.04397826574186298, 0.860243191782881, 0.07820392652571645, 0.039101963262858225, 0.9294365787684521, 0.1254750566024841, 0.7528503396149046, 0.0525939829240761, 0.9466916926333697, 0.21141840367690595, 0.1812157745802051, 0.5738499528373161, 0.8269957170556793, 0.9561799838469821, 0.9596614569037822, 0.24997415448866198, 0.4906900069592253, 0.07406641614478873, 0.1110996242171831, 0.06480811412669014, 0.009258302018098592, 0.4946415246987605, 0.07694423717536275, 0.0989283049397521, 0.13190440658633615, 0.12091237270414146, 0.07694423717536275, 0.9481396857720421, 0.05837156140968792, 0.6858658465638331, 0.04377867105726594, 0.02918578070484396, 0.11674312281937584, 0.05837156140968792, 0.15435448438921046, 0.7717724219460522, 0.11350463967644928, 0.7945324777351449, 0.5024796568064522, 0.15911855798870989, 0.050247965680645226, 0.15911855798870989, 0.03349864378709682, 0.09212127041451625, 0.7255549744607874, 0.10365071063725534, 0.155476065955883, 0.09929021096672991, 0.18439610608106982, 0.17021179022867983, 0.028368631704779972, 0.48226673898125955, 0.028368631704779972, 0.17989539729966558, 0.1686519349684365, 0.3710342569305603, 0.0674607739873746, 0.044973849324916396, 0.1686519349684365, 0.8270330164956561, 0.8016577737199846, 0.11452253910285494, 0.8030180998932182, 0.853773445637422, 0.7811180382453959, 0.8598378328463095, 0.2097607337639295, 0.6992024458797651, 0.06992024458797651, 0.8816847452603008, 0.7811742443213117, 0.3810683270107207, 0.14039359416184446, 0.11365195717863599, 0.16044982189925083, 0.1938768681282614, 0.013370818491604236, 0.7494703102206299, 0.124911718370105, 0.04163723945670166, 0.04163723945670166, 0.04163723945670166, 0.04163723945670166, 0.829352315511071, 0.792087151268206, 0.28331702126994124, 0.07082925531748531, 0.14165851063497062, 0.42497553190491183, 0.16579514514803836, 0.1934276693393781, 0.09671383466968905, 0.3730390765830863, 0.16579514514803836, 0.17327420712595132, 0.11551613808396755, 0.6353387594618215, 0.028879034520991886, 0.028879034520991886, 0.45674909071482767, 0.1431601627613639, 0.17724591579978388, 0.07498865668452394, 0.08862295789989194, 0.05453720486147196, 0.7232694570400681, 0.15097780509678402, 0.6794001229355281, 0.11323335382258802, 0.037744451274196004, 0.23454767248501782, 0.26060852498335313, 0.026060852498335313, 0.07818255749500594, 0.13030426249167656, 0.26060852498335313, 0.8387791062752697, 0.3030864681010522, 0.38500172974998526, 0.14744747096807945, 0.05734068315425312, 0.06553220931914643, 0.049149156989359816, 0.7400593530655017, 0.9294606565253067, 0.9392714359469742, 0.13697931169005195, 0.8218758701403117, 0.5031555339890639, 0.16771851132968796, 0.12825533219329077, 0.07892635827279433, 0.06906056348869503, 0.059194768704595745, 0.379886336358648, 0.2417458504100487, 0.12662877878621598, 0.046046828649533085, 0.023023414324766543, 0.1611639002733658, 0.9261356645188746, 0.2796242747682279, 0.3016998754078248, 0.22075600639596937, 0.058868268372258496, 0.10301946965145237, 0.029434134186129248, 0.8048125266857831, 0.16096250533715661, 0.874275546448998, 0.8228546840124011, 0.1643422024254567, 0.14500782566952058, 0.241679709449201, 0.18367657918139277, 0.21267814431529689, 0.05800313026780824, 0.8773016001376985, 0.0324926518569518, 0.0324926518569518, 0.0324926518569518, 0.0646355844367499, 0.8402625976777487, 0.0646355844367499, 0.9497842776426795, 0.8898157047157115, 0.42026318038022864, 0.15845988768434852, 0.11023296534563375, 0.15845988768434852, 0.10334340501153164, 0.04822692233871476, 0.8731320928838132, 0.09701467698709036, 0.050040936097474245, 0.8506959136570621, 0.050040936097474245, 0.09459131094139617, 0.8513217984725655, 0.3691806057800269, 0.18459030289001346, 0.10907608807137159, 0.18459030289001346, 0.12585702469773644, 0.03356187325272972, 0.6448876198021835, 0.12401684996195834, 0.12401684996195834, 0.07441010997717501, 0.02480336999239167, 0.02480336999239167, 0.7677430739359641, 0.03655919399695067, 0.10967758199085202, 0.07311838799390134, 0.17820449353461515, 0.22275561691826892, 0.04455112338365379, 0.5346134806038454, 0.3584405393769168, 0.20311630564691951, 0.12744552511179263, 0.1393935430910232, 0.10354948915333152, 0.06770543521563983, 0.8272022122624542, 0.8190761350873084, 0.37309614957810316, 0.14923845983124126, 0.07461922991562063, 0.07461922991562063, 0.33578653462029284, 0.8499534310825108, 0.7883263483917966, 0.93087797069226, 0.05845052613348348, 0.6137305244015765, 0.2338021045339339, 0.08767578920022522, 0.02922526306674174, 0.8793615916059043, 0.2295200591954945, 0.459040118390989, 0.08100707971605689, 0.16201415943211378, 0.040503539858028445, 0.040503539858028445, 0.9076094067284368, 0.9250892240597893, 0.7697080194657486, 0.17104622654794413, 0.8310184320297026, 0.07554713018451842, 0.07554713018451842, 0.3263523316959805, 0.16317616584799025, 0.2583622625926512, 0.09518609674466097, 0.08158808292399512, 0.07478907601366219, 0.08780041478085598, 0.790203733027704, 0.3178729105466234, 0.12522266173048802, 0.14448768661210154, 0.23118029857936248, 0.14448768661210154, 0.038530049763227076, 0.27929783164683153, 0.1571050303013427, 0.12219280134548878, 0.34912228955853936, 0.052368343433780905, 0.03491222895585394, 0.8404565424953638, 0.8234891071773661, 0.20587227679434153, 0.8308408818208359, 0.36568237432245043, 0.25075362810682317, 0.17239311932344092, 0.07313647486449008, 0.08358454270227439, 0.05224033918892149, 0.827271121177932, 0.7028995215675682, 0.8271095800042584, 0.2310819003449463, 0.16805956388723367, 0.12604467291542526, 0.16805956388723367, 0.04201489097180842, 0.2520893458308505, 0.9279208782467522, 0.8332569986779874, 0.12841033983036745, 0.19261550974555117, 0.44943618940628605, 0.04280344661012248, 0.1498120631354287, 0.34726681311703644, 0.09213201164329538, 0.29765726838603124, 0.10630616728072544, 0.1204803229181555, 0.035435389093575145, 0.09567177315414273, 0.7175382986560704, 0.047835886577071364, 0.047835886577071364, 0.047835886577071364, 0.047835886577071364, 0.9190938571916089, 0.5321094213101699, 0.0818629878938723, 0.1637259757877446, 0.13643831315645383, 0.06821915657822691, 0.013643831315645382, 0.9483654003865719, 0.7000649023202344, 0.1400129804640469, 0.04667099348801563, 0.09334198697603126, 0.18042588405080057, 0.3513556689410327, 0.11395318992682142, 0.06647269412397916, 0.06647269412397916, 0.22790637985364284, 0.9190451514951936, 0.7029748111623139, 0.93294727965684, 0.1762655615599564, 0.7050622462398256, 0.7645168263780582, 0.05096778842520388, 0.15290336527561163, 0.05096778842520388, 0.8537514445824852, 0.22564770908409326, 0.6769431272522798, 0.04512954181681865, 0.04512954181681865, 0.8272610317980835, 0.3092372009144478, 0.3677415362225866, 0.041788810934384836, 0.12536643280315451, 0.11700867061627755, 0.03343104874750787, 0.1545691323766934, 0.772845661883467, 0.9290121918187214, 0.0526786927518794, 0.1053573855037588, 0.2107147710075176, 0.6321443130225528, 0.2500534656281891, 0.1363927994335577, 0.06819639971677885, 0.45464266477852566, 0.09092853295570513, 0.9296571209455629, 0.04473722533747007, 0.22368612668735036, 0.04473722533747007, 0.6710583800620511, 0.9294494638971943, 0.9435448049510688, 0.695250541983776, 0.11764670099075747, 0.3790838143035518, 0.05228742266255887, 0.11764670099075747, 0.3137245359753532, 0.9533644829138929, 0.418111477723095, 0.14394001692106548, 0.15079430344111622, 0.09596001128071033, 0.1096685843208118, 0.08225143824060885, 0.10694598582058629, 0.6416759149235177, 0.08912165485048858, 0.07129732388039087, 0.07129732388039087, 0.035648661940195434, 0.17913184115090303, 0.24847319901576873, 0.22535941306081347, 0.13290426924099258, 0.1560180551959478, 0.05778446488738807, 0.8955602312593653, 0.904631585970626, 0.8728085473824139, 0.9293636938756588, 0.827282004066048, 0.24301366444090902, 0.3307685988223484, 0.1620091096272727, 0.12825721178825752, 0.07425417524583332, 0.06750379567803029, 0.19644150760028534, 0.589324522800856, 0.06548050253342845, 0.06548050253342845, 0.06548050253342845, 0.2760047844969586, 0.18849107233938636, 0.3163957285696843, 0.0807818881454513, 0.06731824012120942, 0.07405006413333036, 0.3101764367022806, 0.19644507657811108, 0.17059704018625435, 0.1861058620213684, 0.08788332373231285, 0.0465264655053421, 0.3271956295359513, 0.09860690205193054, 0.11653542969773609, 0.16583888072370134, 0.219624463661118, 0.0717141105832222, 0.1888182867705266, 0.43726340094227206, 0.08944024110182838, 0.0993780456686982, 0.03975121826747928, 0.12919145936930765, 0.8953625916960664, 0.2156788541565115, 0.19171453702801022, 0.23964317128501278, 0.1837264313185098, 0.11183347993300596, 0.06390484567600341, 0.423499042242994, 0.047055449138110446, 0.11763862284527613, 0.29801784454136615, 0.05489802399446219, 0.047055449138110446, 0.42195954790399587, 0.18810244906563672, 0.14234779929291427, 0.13726394931816735, 0.04575464977272244, 0.06100619969696326, 0.03126392138344505, 0.21884744968411532, 0.03126392138344505, 0.21884744968411532, 0.09379176415033515, 0.4064309779847856, 0.5948469669704126, 0.12011332986902563, 0.09723460037016361, 0.0915149179954481, 0.051477141372439555, 0.040037776623008545, 0.9483031082700963, 0.8332569986779874, 0.32019422139037573, 0.2892076838364684, 0.061973075107814656, 0.1652615336208391, 0.11361730436432688, 0.051644229256512214, 0.9599637771586929, 0.08711913814611057, 0.08711913814611057, 0.6098339670227739, 0.08711913814611057, 0.17423827629222113, 0.4657005199188702, 0.2037439774645057, 0.09702094164976462, 0.1843397891345528, 0.019404188329952925, 0.029106282494929386, 0.8517159133566788, 0.19904388597825665, 0.13269592398550442, 0.19904388597825665, 0.46443573394926546, 0.6948929128325672, 0.09893459497615434, 0.6925421648330804, 0.19786918995230868, 0.9275327069267975, 0.892741686055588, 0.14709559189344543, 0.7354779594672272, 0.07354779594672271, 0.2406176945958271, 0.3104744446397769, 0.10866605562392193, 0.27942700017579924, 0.02328558334798327, 0.04657116669596654, 0.2715788443468672, 0.1728229009480064, 0.185167393872864, 0.246889858497152, 0.037033478774572796, 0.07406695754914559, 0.8577149904839992, 0.9395896074946913, 0.07759378182262427, 0.7242086303444932, 0.07759378182262427, 0.07759378182262427, 0.02586459394087476, 0.32190751243470983, 0.3111772620202195, 0.1180327545593936, 0.10730250414490328, 0.05365125207245164, 0.09120712852316779, 0.053784957379644546, 0.053784957379644546, 0.32270974427786725, 0.5378495737964455, 0.053784957379644546, 0.8880118282767684, 0.2321162740277866, 0.22600795102705534, 0.18324969002193678, 0.08551652201023716, 0.1649247210197431, 0.10994981401316206, 0.8728085473824139, 0.017711898661076163, 0.7438997437651989, 0.017711898661076163, 0.12398329062753315, 0.08855949330538082, 0.8379506569023673, 0.07837386630670556, 0.17634119919008753, 0.5682105307236154, 0.05878039973002917, 0.11756079946005835, 0.01959346657667639, 0.8793840923045687, 0.6281101306911564, 0.018473827373269306, 0.14779061898615445, 0.018473827373269306, 0.16626444635942375, 0.9292722294209477, 0.32109625567211986, 0.18396139647881865, 0.22409842843783365, 0.07692931125477871, 0.11037683788729119, 0.0836188165812812, 0.0680828855375293, 0.8850775119878809, 0.9285473749325699, 0.9030303691589473, 0.7380892108209027, 0.09841189477612036, 0.09841189477612036, 0.13934465217409941, 0.8360679130445964, 0.0398729470105548, 0.0797458940211096, 0.8772048342322055, 0.3755728392586674, 0.5258019749621344, 0.7094475867325502, 0.1518357843273293, 0.25305964054554886, 0.1518357843273293, 0.0885708741909421, 0.25305964054554886, 0.0885708741909421, 0.24242921342633358, 0.1847079721343494, 0.3809601925270956, 0.13275885497156364, 0.020202434452194468, 0.037518806839789726, 0.10754586498353981, 0.10754586498353981, 0.7528210548847787, 0.16266035902270068, 0.18179687184890075, 0.16266035902270068, 0.11003494875065045, 0.33488897445850135, 0.047841282065500194, 0.3122166642145554, 0.1604446746658132, 0.22548981304384558, 0.09106319372924533, 0.12575393419752925, 0.08239050861217434, 0.8272358800904072, 0.3554290365328247, 0.16304084244624986, 0.19890982778442481, 0.12717185710807488, 0.10434613916559991, 0.05217306958279996, 0.8035152364849764, 0.710509074579783, 0.41761210677217087, 0.15499006024534176, 0.3013695615881645, 0.07749503012267088, 0.017221117805037975, 0.03444223561007595, 0.3227903855359209, 0.19089753983307148, 0.1318928457028494, 0.18048494675126758, 0.0937133377362351, 0.0798298802938299, 0.31845335501719313, 0.11444417445930379, 0.21893668157432028, 0.1890816795414584, 0.06966167141001099, 0.08458917242644193, 0.9482434269585392, 0.6983277665907743], \"Term\": [\"abhi\", \"acquisition\", \"adarsh\", \"agra\", \"akhil\", \"amma\", \"amrit\", \"amrit\", \"amurtha\", \"anand\", \"anjum\", \"anniversary\", \"anniversary\", \"anniversary\", \"anniversary\", \"anniversary\", \"anniversary\", \"antibiotic\", \"anudeep\", \"app\", \"app\", \"app\", \"app\", \"app\", \"app\", \"apricot\", \"area\", \"area\", \"area\", \"area\", \"area\", \"area\", \"artificial\", \"astronomy\", \"atalji\", \"atalji\", \"aurobindo\", \"ayushman\", \"ayushman\", \"ayushman\", \"ayushman\", \"bank\", \"bank\", \"bank\", \"bank\", \"bank\", \"bank\", \"barack\", \"barack\", \"bee\", \"beneficiary\", \"beneficiary\", \"beneficiary\", \"beneficiary\", \"beti\", \"beti\", \"beti\", \"beti\", \"beti\", \"bettiah\", \"bhagat\", \"bhagat\", \"bhagirathi\", \"bhagyashree\", \"biography\", \"birth\", \"birth\", \"birth\", \"birth\", \"birth\", \"birth\", \"biscuit\", \"blog\", \"book\", \"book\", \"book\", \"book\", \"book\", \"book\", \"bride\", \"brother\", \"brother\", \"brother\", \"brother\", \"brother\", \"brother\", \"bru\", \"buddha\", \"buddhist\", \"cadet\", \"calendar\", \"camp\", \"camp\", \"camp\", \"campaign\", \"campaign\", \"campaign\", \"campaign\", \"campaign\", \"campaign\", \"campus\", \"canada\", \"cashless\", \"cashless\", \"cashless\", \"cashless\", \"cave\", \"cave\", \"chand\", \"chand\", \"chand\", \"chandrakant\", \"chandrika\", \"chhathh\", \"chia\", \"child\", \"child\", \"child\", \"child\", \"child\", \"child\", \"chile\", \"chilean\", \"cigarette\", \"cigarette\", \"citizen\", \"citizen\", \"citizen\", \"citizen\", \"citizen\", \"citizen\", \"cleanliness\", \"cleanliness\", \"cleanliness\", \"cleanliness\", \"cleanliness\", \"cleanliness\", \"clip\", \"coal\", \"com\", \"commentary\", \"commentary\", \"commission\", \"commission\", \"commission\", \"commission\", \"commonman\", \"compensation\", \"confidence\", \"confidence\", \"confidence\", \"confidence\", \"confidence\", \"confidence\", \"congregation\", \"consent\", \"consent\", \"constitution\", \"constitution\", \"constitution\", \"constitution\", \"constitution\", \"contest\", \"contest\", \"contest\", \"corona\", \"corona\", \"corona\", \"corona\", \"corona\", \"corona\", \"crisis\", \"crisis\", \"crisis\", \"crisis\", \"crisis\", \"crop\", \"crop\", \"crop\", \"crop\", \"crop\", \"crop\", \"crore\", \"crore\", \"crore\", \"crore\", \"crore\", \"crore\", \"cub\", \"dashami\", \"daughter\", \"daughter\", \"daughter\", \"daughter\", \"daughter\", \"daughter\", \"day\", \"day\", \"day\", \"day\", \"day\", \"day\", \"dearth\", \"deepawali\", \"deepawali\", \"deepawali\", \"deepawali\", \"democracy\", \"democracy\", \"democracy\", \"democracy\", \"democracy\", \"deshmukh\", \"development\", \"development\", \"development\", \"development\", \"development\", \"development\", \"device\", \"dhyan\", \"dhyan\", \"disaster\", \"disaster\", \"disaster\", \"disaster\", \"disaster\", \"disaster\", \"distress\", \"distress\", \"diver\", \"divyaang\", \"doctor\", \"doctor\", \"doctor\", \"doctor\", \"doctor\", \"doctor\", \"dog\", \"dog\", \"drawback\", \"dung\", \"duty\", \"duty\", \"duty\", \"duty\", \"duty\", \"duty\", \"eastern\", \"eastern\", \"eastern\", \"eastern\", \"eastern\", \"eclipse\", \"education\", \"education\", \"education\", \"education\", \"education\", \"education\", \"effort\", \"effort\", \"effort\", \"effort\", \"effort\", \"effort\", \"ego\", \"election\", \"election\", \"election\", \"election\", \"election\", \"ever\", \"exam\", \"exam\", \"exam\", \"exam\", \"exam\", \"exam\", \"example\", \"example\", \"example\", \"example\", \"example\", \"example\", \"experience\", \"experience\", \"experience\", \"experience\", \"experience\", \"experience\", \"family\", \"family\", \"family\", \"family\", \"family\", \"family\", \"farmer\", \"farmer\", \"farmer\", \"farmer\", \"farmer\", \"farmer\", \"female\", \"female\", \"festival\", \"festival\", \"festival\", \"festival\", \"festival\", \"festival\", \"field\", \"field\", \"field\", \"field\", \"field\", \"field\", \"fifa\", \"fifa\", \"fifa\", \"fit\", \"fit\", \"fit\", \"fit\", \"force\", \"force\", \"force\", \"force\", \"force\", \"force\", \"game\", \"game\", \"game\", \"game\", \"game\", \"game\", \"gandhi\", \"gandhi\", \"gandhi\", \"gandhi\", \"gandhi\", \"gandhi\", \"ganga\", \"ganga\", \"ganga\", \"ganga\", \"gobar\", \"gold\", \"gold\", \"gold\", \"gold\", \"gold\", \"gold\", \"good\", \"good\", \"good\", \"good\", \"good\", \"good\", \"gst\", \"gst\", \"gst\", \"gupta\", \"gupta\", \"gupta\", \"gupta\", \"gurbachan\", \"gurbachan\", \"guru\", \"guru\", \"guru\", \"guru\", \"guru\", \"guru\", \"gurudwara\", \"gurudwara\", \"gurudwara\", \"gurudwara\", \"haat\", \"habit\", \"habit\", \"habit\", \"habit\", \"habit\", \"habit\", \"haj\", \"hari\", \"harivansh\", \"harmonious\", \"heart\", \"heart\", \"heart\", \"heart\", \"heart\", \"heart\", \"height\", \"height\", \"height\", \"height\", \"height\", \"height\", \"heritage\", \"heritage\", \"heritage\", \"heritage\", \"heritage\", \"heritage\", \"himayat\", \"hockey\", \"hockey\", \"hockey\", \"hockey\", \"holiday\", \"holiday\", \"holiday\", \"holiday\", \"holiday\", \"holiday\", \"home\", \"home\", \"home\", \"home\", \"home\", \"home\", \"honest\", \"honey\", \"hospital\", \"hospital\", \"hospital\", \"hospital\", \"hospital\", \"house\", \"house\", \"house\", \"house\", \"house\", \"house\", \"hunar\", \"important\", \"important\", \"important\", \"important\", \"important\", \"important\", \"innovation\", \"innovation\", \"innovation\", \"innovation\", \"innovation\", \"innovation\", \"inspiration\", \"inspiration\", \"inspiration\", \"inspiration\", \"inspiration\", \"inspiration\", \"integration\", \"intelligence\", \"intelligence\", \"internship\", \"ismail\", \"jeeva\", \"jhansi\", \"jitendra\", \"jona\", \"kabir\", \"kallarmajra\", \"kamrup\", \"kamya\", \"kaniga\", \"kaniga\", \"kapoor\", \"karbi\", \"kargil\", \"kargil\", \"kargil\", \"kargil\", \"kashmiri\", \"kelansang\", \"khan\", \"khan\", \"khan\", \"khan\", \"king\", \"king\", \"king\", \"korwa\", \"kranti\", \"kranti\", \"kritika\", \"kritika\", \"kumbh\", \"kumbh\", \"kumbh\", \"laborer\", \"lakshadweep\", \"lakshmi\", \"land\", \"land\", \"land\", \"land\", \"land\", \"land\", \"language\", \"language\", \"language\", \"language\", \"language\", \"language\", \"lavanya\", \"law\", \"law\", \"law\", \"law\", \"law\", \"law\", \"laxmi\", \"laxmi\", \"leopard\", \"leopard\", \"letter\", \"letter\", \"letter\", \"letter\", \"letter\", \"letter\", \"library\", \"library\", \"library\", \"light\", \"light\", \"light\", \"light\", \"light\", \"light\", \"local\", \"local\", \"local\", \"local\", \"local\", \"local\", \"maalam\", \"magh\", \"magh\", \"maghar\", \"magic\", \"mahakumbh\", \"maharishi\", \"mahotsav\", \"mahotsav\", \"mahotsav\", \"mallakhambh\", \"malnutrition\", \"man\", \"man\", \"man\", \"man\", \"man\", \"man\", \"mantri\", \"mantri\", \"mantri\", \"mantri\", \"mantri\", \"mantri\", \"manya\", \"mariyappan\", \"martyrdom\", \"martyrdom\", \"martyrdom\", \"martyrdom\", \"medal\", \"medal\", \"medal\", \"medal\", \"medal\", \"medical\", \"medical\", \"medical\", \"medical\", \"medical\", \"medium\", \"medium\", \"medium\", \"medium\", \"medium\", \"medium\", \"medvedev\", \"memorial\", \"memorial\", \"memorial\", \"memorial\", \"message\", \"message\", \"message\", \"message\", \"message\", \"message\", \"middleman\", \"mind\", \"mind\", \"mind\", \"mind\", \"mind\", \"mind\", \"mine\", \"minusha\", \"mishap\", \"missile\", \"missile\", \"mission\", \"mission\", \"mission\", \"mission\", \"mission\", \"mission\", \"money\", \"money\", \"money\", \"money\", \"money\", \"money\", \"morna\", \"movement\", \"movement\", \"movement\", \"movement\", \"movement\", \"movement\", \"mukherjee\", \"mukherjee\", \"nanaji\", \"narasimha\", \"nature\", \"nature\", \"nature\", \"nature\", \"nature\", \"nature\", \"ncc\", \"ncc\", \"ncc\", \"ncc\", \"netaji\", \"netaji\", \"netaji\", \"nitesh\", \"nivedita\", \"number\", \"number\", \"number\", \"number\", \"number\", \"number\", \"nurse\", \"nurse\", \"nutrition\", \"nutrition\", \"nutrition\", \"obama\", \"obama\", \"occasion\", \"occasion\", \"occasion\", \"occasion\", \"occasion\", \"occasion\", \"officer\", \"officer\", \"officer\", \"officer\", \"officer\", \"officer\", \"official\", \"official\", \"official\", \"official\", \"olympic\", \"olympic\", \"olympic\", \"olympic\", \"opportunity\", \"opportunity\", \"opportunity\", \"opportunity\", \"opportunity\", \"opportunity\", \"ordeal\", \"orphanage\", \"panchayat\", \"panchayat\", \"panchayat\", \"panchayat\", \"panchayat\", \"panchayati\", \"pandharpur\", \"paralympic\", \"patient\", \"patient\", \"patient\", \"patient\", \"patient\", \"payer\", \"peace\", \"peace\", \"peace\", \"peace\", \"peace\", \"peace\", \"peacekeeper\", \"peacekeeping\", \"pencil\", \"pencil\", \"pension\", \"pension\", \"pension\", \"person\", \"person\", \"person\", \"person\", \"person\", \"person\", \"pit\", \"pit\", \"place\", \"place\", \"place\", \"place\", \"place\", \"place\", \"player\", \"player\", \"player\", \"player\", \"player\", \"player\", \"polling\", \"pon\", \"pon\", \"poonkavanam\", \"poor\", \"poor\", \"poor\", \"poor\", \"poor\", \"poor\", \"portability\", \"poshan\", \"pranayama\", \"president\", \"president\", \"president\", \"president\", \"president\", \"president\", \"print\", \"priyanka\", \"product\", \"product\", \"product\", \"product\", \"product\", \"programme\", \"programme\", \"programme\", \"programme\", \"programme\", \"programme\", \"proper\", \"proper\", \"proper\", \"proper\", \"proper\", \"proper\", \"prophet\", \"public\", \"public\", \"public\", \"public\", \"public\", \"public\", \"purnia\", \"quarantine\", \"quarantine\", \"quarantine\", \"quarantine\", \"question\", \"question\", \"question\", \"question\", \"question\", \"question\", \"rabindra\", \"rajani\", \"rajappan\", \"ramanujacharya\", \"ramanujacharya\", \"reading\", \"reading\", \"reading\", \"reading\", \"reformer\", \"research\", \"research\", \"research\", \"research\", \"respiratory\", \"right\", \"right\", \"right\", \"right\", \"right\", \"right\", \"ripudaman\", \"ripudaman\", \"rumour\", \"sabha\", \"sabha\", \"sabha\", \"sabha\", \"safety\", \"safety\", \"safety\", \"safety\", \"safety\", \"saffron\", \"sahib\", \"sahib\", \"sahib\", \"sahib\", \"sahibzade\", \"salman\", \"santokhi\", \"sardar\", \"sardar\", \"sardar\", \"sardar\", \"sardar\", \"savarkar\", \"school\", \"school\", \"school\", \"school\", \"school\", \"school\", \"security\", \"security\", \"security\", \"security\", \"security\", \"security\", \"service\", \"service\", \"service\", \"service\", \"service\", \"service\", \"sheep\", \"shivakumar\", \"sikari\", \"singhji\", \"sirmodi\", \"sister\", \"sister\", \"sister\", \"sister\", \"sister\", \"sister\", \"sleep\", \"sleep\", \"sleep\", \"sleep\", \"sleep\", \"small\", \"small\", \"small\", \"small\", \"small\", \"small\", \"social\", \"social\", \"social\", \"social\", \"social\", \"social\", \"society\", \"society\", \"society\", \"society\", \"society\", \"society\", \"soldier\", \"soldier\", \"soldier\", \"soldier\", \"soldier\", \"soldier\", \"sonal\", \"spirit\", \"spirit\", \"spirit\", \"spirit\", \"spirit\", \"spirit\", \"sport\", \"sport\", \"sport\", \"sport\", \"sport\", \"sport\", \"state\", \"state\", \"state\", \"state\", \"state\", \"state\", \"stone\", \"stone\", \"stone\", \"stone\", \"stone\", \"stone\", \"story\", \"story\", \"story\", \"story\", \"story\", \"story\", \"storyteller\", \"strawberry\", \"student\", \"student\", \"student\", \"student\", \"student\", \"student\", \"stump\", \"subhash\", \"subhash\", \"subhash\", \"subhash\", \"subhash\", \"suggestion\", \"suggestion\", \"suggestion\", \"suggestion\", \"suggestion\", \"suggestion\", \"sukhdev\", \"summer\", \"summer\", \"summer\", \"summer\", \"suriname\", \"swamiji\", \"swamiji\", \"swamiji\", \"tarannum\", \"tata\", \"tax\", \"tax\", \"tax\", \"teacher\", \"teacher\", \"teacher\", \"teacher\", \"teacher\", \"teacher\", \"team\", \"team\", \"team\", \"team\", \"team\", \"team\", \"telescope\", \"tenali\", \"test\", \"test\", \"test\", \"test\", \"test\", \"thing\", \"thing\", \"thing\", \"thing\", \"thing\", \"thing\", \"tiger\", \"tiger\", \"tiger\", \"tiger\", \"tiger\", \"tilakji\", \"time\", \"time\", \"time\", \"time\", \"time\", \"time\", \"tissau\", \"toy\", \"toy\", \"toy\", \"toy\", \"toy\", \"transplant\", \"treatment\", \"treatment\", \"treatment\", \"treatment\", \"treatment\", \"treatment\", \"valli\", \"vegetable\", \"vegetable\", \"vegetable\", \"vegetable\", \"vegetable\", \"venkatji\", \"village\", \"village\", \"village\", \"village\", \"village\", \"village\", \"vinayak\", \"vinayak\", \"vinole\", \"virendra\", \"virus\", \"virus\", \"virus\", \"vote\", \"vote\", \"voter\", \"voter\", \"voter\", \"wage\", \"wage\", \"wari\", \"waste\", \"waste\", \"waste\", \"waste\", \"waste\", \"waste\", \"water\", \"water\", \"water\", \"water\", \"water\", \"water\", \"white\", \"white\", \"white\", \"woman\", \"woman\", \"woman\", \"woman\", \"woman\", \"woman\", \"work\", \"work\", \"work\", \"work\", \"work\", \"work\", \"workforce\", \"year\", \"year\", \"year\", \"year\", \"year\", \"year\", \"yespm\", \"yeswecan\", \"yoga\", \"yoga\", \"yoga\", \"yoga\", \"yoga\", \"yoga\", \"young\", \"young\", \"young\", \"young\", \"young\", \"young\", \"youth\", \"youth\", \"youth\", \"youth\", \"youth\", \"youth\", \"yuvika\", \"zealand\"]}, \"R\": 30, \"lambda.step\": 0.01, \"plot.opts\": {\"xlab\": \"PC1\", \"ylab\": \"PC2\"}, \"topic.order\": [6, 2, 4, 1, 3, 5]};\n",
       "\n",
       "function LDAvis_load_lib(url, callback){\n",
       "  var s = document.createElement('script');\n",
       "  s.src = url;\n",
       "  s.async = true;\n",
       "  s.onreadystatechange = s.onload = callback;\n",
       "  s.onerror = function(){console.warn(\"failed to load library \" + url);};\n",
       "  document.getElementsByTagName(\"head\")[0].appendChild(s);\n",
       "}\n",
       "\n",
       "if(typeof(LDAvis) !== \"undefined\"){\n",
       "   // already loaded: just create the visualization\n",
       "   !function(LDAvis){\n",
       "       new LDAvis(\"#\" + \"ldavis_el1108416228391480965815307190\", ldavis_el1108416228391480965815307190_data);\n",
       "   }(LDAvis);\n",
       "}else if(typeof define === \"function\" && define.amd){\n",
       "   // require.js is available: use it to load d3/LDAvis\n",
       "   require.config({paths: {d3: \"https://d3js.org/d3.v5\"}});\n",
       "   require([\"d3\"], function(d3){\n",
       "      window.d3 = d3;\n",
       "      LDAvis_load_lib(\"https://cdn.jsdelivr.net/gh/bmabey/pyLDAvis@3.3.1/pyLDAvis/js/ldavis.v3.0.0.js\", function(){\n",
       "        new LDAvis(\"#\" + \"ldavis_el1108416228391480965815307190\", ldavis_el1108416228391480965815307190_data);\n",
       "      });\n",
       "    });\n",
       "}else{\n",
       "    // require.js not available: dynamically load d3 & LDAvis\n",
       "    LDAvis_load_lib(\"https://d3js.org/d3.v5.js\", function(){\n",
       "         LDAvis_load_lib(\"https://cdn.jsdelivr.net/gh/bmabey/pyLDAvis@3.3.1/pyLDAvis/js/ldavis.v3.0.0.js\", function(){\n",
       "                 new LDAvis(\"#\" + \"ldavis_el1108416228391480965815307190\", ldavis_el1108416228391480965815307190_data);\n",
       "            })\n",
       "         });\n",
       "}\n",
       "</script>"
      ],
      "text/plain": [
       "PreparedData(topic_coordinates=              x         y  topics  cluster       Freq\n",
       "topic                                                \n",
       "5     -0.015983 -0.020717       1        1  28.694352\n",
       "1     -0.005256 -0.043967       2        1  21.241808\n",
       "3      0.063056 -0.048391       3        1  16.898823\n",
       "0     -0.067291 -0.022856       4        1  13.598805\n",
       "2     -0.048069  0.074381       5        1  11.473487\n",
       "4      0.073543  0.061550       6        1   8.092725, topic_info=         Term        Freq       Total Category  logprob  loglift\n",
       "8234   corona  130.000000  130.000000  Default  30.0000  30.0000\n",
       "1110    woman  209.000000  209.000000  Default  29.0000  29.0000\n",
       "625      exam  159.000000  159.000000  Default  28.0000  28.0000\n",
       "247     water  346.000000  346.000000  Default  27.0000  27.0000\n",
       "1580     game  132.000000  132.000000  Default  26.0000  26.0000\n",
       "...       ...         ...         ...      ...      ...      ...\n",
       "524      year   16.254523  306.671624   Topic6  -5.9388  -0.4232\n",
       "334   example   12.656544  120.142121   Topic6  -6.1889   0.2637\n",
       "74     farmer   13.139592  332.909968   Topic6  -6.1515  -0.7180\n",
       "247     water   12.985602  346.492895   Topic6  -6.1633  -0.7698\n",
       "482     state   12.464039  196.701320   Topic6  -6.2043  -0.2446\n",
       "\n",
       "[483 rows x 6 columns], token_table=      Topic      Freq         Term\n",
       "term                              \n",
       "3045      4  0.739966         abhi\n",
       "1300      2  0.920074  acquisition\n",
       "2284      1  0.805254       adarsh\n",
       "8212      2  0.776620         agra\n",
       "7802      1  0.930896        akhil\n",
       "...     ...       ...          ...\n",
       "253       4  0.189082        youth\n",
       "253       5  0.069662        youth\n",
       "253       6  0.084589        youth\n",
       "8207      1  0.948243       yuvika\n",
       "4332      5  0.698328      zealand\n",
       "\n",
       "[1096 rows x 3 columns], R=30, lambda_step=0.01, plot_opts={'xlab': 'PC1', 'ylab': 'PC2'}, topic_order=[6, 2, 4, 1, 3, 5])"
      ]
     },
     "execution_count": 12,
     "metadata": {},
     "output_type": "execute_result"
    }
   ],
   "source": [
    "pyLDAvis.enable_notebook()\n",
    "LDAvis1 = gensimvis.prepare(lda_model1, corpus, id2word)\n",
    "pyLDAvis.save_html(LDAvis1, 'HTML/gensim_lda1_viz.html')\n",
    "LDAvis1"
   ]
  },
  {
   "cell_type": "code",
   "execution_count": 13,
   "metadata": {},
   "outputs": [
    {
     "name": "stdout",
     "output_type": "stream",
     "text": [
      "\n",
      "Perplexity for k = 7 :  -8.180821366147304\n",
      "\n",
      "Coherence Score for k = 7 :  0.24035389470860435\n"
     ]
    }
   ],
   "source": [
    "print('\\nPerplexity for k = 7 : ', lda_model1.log_perplexity(corpus,total_docs=74))  # a measure of how good the model is. lower the better.\n",
    "\n",
    "# Compute Coherence Score\n",
    "coherence_model_lda1 = CoherenceModel(model=lda_model1, texts=data_lemma, dictionary=id2word , coherence='c_v')\n",
    "coherence_lda1 = coherence_model_lda1.get_coherence()\n",
    "print('\\nCoherence Score for k = 7 : ', coherence_lda1)"
   ]
  },
  {
   "cell_type": "code",
   "execution_count": 14,
   "metadata": {},
   "outputs": [
    {
     "data": {
      "text/plain": [
       "[(0,\n",
       "  '0.011*\"cleanliness\" + 0.008*\"khadi\" + 0.005*\"child\" + 0.005*\"october\" + 0.005*\"year\" + 0.005*\"family\" + 0.004*\"day\" + 0.004*\"opportunity\" + 0.004*\"young\" + 0.004*\"power\"'),\n",
       " (1,\n",
       "  '0.008*\"farmer\" + 0.006*\"festival\" + 0.005*\"year\" + 0.005*\"student\" + 0.005*\"child\" + 0.004*\"effort\" + 0.004*\"village\" + 0.004*\"young\" + 0.004*\"house\" + 0.004*\"time\"'),\n",
       " (2,\n",
       "  '0.001*\"exam\" + 0.001*\"child\" + 0.001*\"opportunity\" + 0.001*\"farmer\" + 0.001*\"student\" + 0.001*\"thing\" + 0.001*\"year\" + 0.001*\"work\" + 0.001*\"festival\" + 0.001*\"village\"'),\n",
       " (3,\n",
       "  '0.005*\"work\" + 0.004*\"lakh\" + 0.004*\"farmer\" + 0.003*\"opportunity\" + 0.003*\"effort\" + 0.003*\"tree\" + 0.003*\"day\" + 0.003*\"family\" + 0.003*\"year\" + 0.003*\"technology\"'),\n",
       " (4,\n",
       "  '0.008*\"farmer\" + 0.008*\"brother\" + 0.006*\"barack\" + 0.006*\"question\" + 0.006*\"law\" + 0.005*\"village\" + 0.005*\"land\" + 0.005*\"sister\" + 0.005*\"child\" + 0.004*\"work\"'),\n",
       " (5,\n",
       "  '0.008*\"village\" + 0.008*\"water\" + 0.007*\"yoga\" + 0.006*\"poor\" + 0.005*\"farmer\" + 0.005*\"year\" + 0.004*\"state\" + 0.004*\"cleanliness\" + 0.004*\"effort\" + 0.004*\"crore\"'),\n",
       " (6,\n",
       "  '0.006*\"water\" + 0.005*\"family\" + 0.005*\"day\" + 0.005*\"story\" + 0.004*\"year\" + 0.004*\"corona\" + 0.004*\"young\" + 0.004*\"festival\" + 0.004*\"society\" + 0.004*\"service\"'),\n",
       " (7,\n",
       "  '0.029*\"exam\" + 0.006*\"failure\" + 0.006*\"child\" + 0.006*\"thing\" + 0.005*\"student\" + 0.004*\"question\" + 0.004*\"competition\" + 0.003*\"opportunity\" + 0.003*\"score\" + 0.003*\"parent\"'),\n",
       " (8,\n",
       "  '0.001*\"exam\" + 0.001*\"child\" + 0.001*\"farmer\" + 0.001*\"poor\" + 0.001*\"village\" + 0.001*\"brother\" + 0.001*\"experience\" + 0.001*\"water\" + 0.001*\"young\" + 0.001*\"family\"')]"
      ]
     },
     "execution_count": 14,
     "metadata": {},
     "output_type": "execute_result"
    }
   ],
   "source": [
    "lda_model2 = gensim.models.LdaMulticore(corpus = corpus,\n",
    "                                       id2word = id2word,\n",
    "                                       num_topics = 9,\n",
    "                                       random_state=50,\n",
    "                                       chunksize = 2,\n",
    "                                       passes = 5,\n",
    "                                       iterations=10,\n",
    "                                       per_word_topics=True,\n",
    "                                       minimum_probability = 0)\n",
    "lda_model2.print_topics()"
   ]
  },
  {
   "cell_type": "code",
   "execution_count": 15,
   "metadata": {},
   "outputs": [
    {
     "data": {
      "text/html": [
       "\n",
       "<link rel=\"stylesheet\" type=\"text/css\" href=\"https://cdn.jsdelivr.net/gh/bmabey/pyLDAvis@3.3.1/pyLDAvis/js/ldavis.v1.0.0.css\">\n",
       "\n",
       "\n",
       "<div id=\"ldavis_el1108416228532165121538443938\"></div>\n",
       "<script type=\"text/javascript\">\n",
       "\n",
       "var ldavis_el1108416228532165121538443938_data = {\"mdsDat\": {\"x\": [-0.10075020755344065, -0.12344236958142597, -0.10050609708912912, -0.006917949942072132, 0.020018686077375045, -0.0016803793257038223, 0.07598111192117692, 0.11246768797260635, 0.12482951752061335], \"y\": [-0.08268268354362075, -0.029354657245714573, 0.0963869843783275, 0.00941236849691983, 0.04029806856792326, -0.0068400696864236235, -0.0045896939317878775, -0.012469128144541835, -0.010161188891081873], \"topics\": [1, 2, 3, 4, 5, 6, 7, 8, 9], \"cluster\": [1, 1, 1, 1, 1, 1, 1, 1, 1], \"Freq\": [46.933646272671695, 24.70668669444509, 16.37780914246181, 4.641545704288832, 3.220345622213911, 2.7371824743241384, 1.3613813776721786, 0.010701390129955789, 0.010701321792394997]}, \"tinfo\": {\"Term\": [\"exam\", \"child\", \"farmer\", \"family\", \"village\", \"work\", \"cleanliness\", \"opportunity\", \"student\", \"thing\", \"brother\", \"poor\", \"water\", \"year\", \"young\", \"day\", \"khadi\", \"question\", \"yoga\", \"important\", \"sister\", \"state\", \"experience\", \"society\", \"effort\", \"teacher\", \"strength\", \"land\", \"mind\", \"citizen\", \"kritika\", \"ravida\", \"vinayak\", \"aparna\", \"kaniga\", \"sant\", \"namo\", \"vicinity\", \"bamboo\", \"lake\", \"commentary\", \"rice\", \"ismail\", \"kargil\", \"tiger\", \"beacon\", \"khelo\", \"football\", \"ayushman\", \"swamiji\", \"magh\", \"gurudev\", \"bottle\", \"savarkar\", \"tenali\", \"driver\", \"karnataka\", \"lifestyle\", \"bravery\", \"sanskar\", \"vegetable\", \"treatment\", \"tagore\", \"plastic\", \"saffron\", \"attack\", \"medical\", \"deed\", \"fruit\", \"padma\", \"story\", \"corona\", \"order\", \"mask\", \"video\", \"battle\", \"collective\", \"human\", \"sport\", \"art\", \"soldier\", \"service\", \"heart\", \"spirit\", \"father\", \"water\", \"day\", \"family\", \"game\", \"society\", \"brave\", \"youth\", \"medium\", \"social\", \"woman\", \"young\", \"year\", \"festival\", \"opportunity\", \"yoga\", \"person\", \"effort\", \"home\", \"child\", \"village\", \"example\", \"farmer\", \"work\", \"campaign\", \"time\", \"state\", \"alumnus\", \"sahib\", \"cigarette\", \"aurobindo\", \"hue\", \"jona\", \"brown\", \"honey\", \"pencil\", \"eclipse\", \"virendra\", \"bee\", \"pon\", \"kutch\", \"valmiki\", \"narasimha\", \"salon\", \"himayat\", \"imparted\", \"raman\", \"mallakhambh\", \"oaxaca\", \"restoration\", \"rock\", \"prosperity\", \"jitendra\", \"lakshadweep\", \"reddy\", \"maharishi\", \"manzoor\", \"manufacturing\", \"stubble\", \"nanak\", \"deepawali\", \"coast\", \"dev\", \"buddha\", \"guard\", \"gurudwara\", \"light\", \"library\", \"sabha\", \"guru\", \"elder\", \"vocal\", \"toy\", \"house\", \"unity\", \"sardar\", \"farmer\", \"student\", \"waste\", \"festival\", \"science\", \"time\", \"knowledge\", \"child\", \"mind\", \"duty\", \"year\", \"effort\", \"exam\", \"woman\", \"important\", \"young\", \"village\", \"teacher\", \"question\", \"programme\", \"local\", \"experience\", \"work\", \"family\", \"opportunity\", \"thing\", \"campaign\", \"day\", \"different\", \"cadet\", \"tarannum\", \"vinole\", \"hari\", \"akhil\", \"junior\", \"diver\", \"bread\", \"combat\", \"brahmaputra\", \"kiso\", \"ncc\", \"seep\", \"swaraj\", \"quarter\", \"panchayati\", \"tripathi\", \"divas\", \"african\", \"maoist\", \"dhaarchulaa\", \"pushkaram\", \"rang\", \"ranglo\", \"scuba\", \"transplant\", \"essay\", \"rajpath\", \"literacy\", \"waterfall\", \"exchange\", \"scheme\", \"divyaang\", \"ganga\", \"coin\", \"verdict\", \"sort\", \"dhyan\", \"donation\", \"beti\", \"subsidy\", \"bachao\", \"gold\", \"padhao\", \"corruption\", \"river\", \"bank\", \"jan\", \"organ\", \"ganesh\", \"poor\", \"yoga\", \"village\", \"newspaper\", \"water\", \"crore\", \"benefit\", \"letter\", \"clean\", \"money\", \"cleanliness\", \"news\", \"state\", \"school\", \"education\", \"thing\", \"man\", \"land\", \"farmer\", \"year\", \"language\", \"citizen\", \"effort\", \"small\", \"right\", \"work\", \"opportunity\", \"campaign\", \"festival\", \"experience\", \"young\", \"sister\", \"day\", \"youth\", \"student\", \"family\", \"deen\", \"dayal\", \"bilal\", \"dar\", \"grief\", \"fasal\", \"laaw\", \"monthly\", \"beema\", \"pawan\", \"agenda\", \"paralympic\", \"premium\", \"male\", \"dayalji\", \"incredibleindia\", \"mahadik\", \"processing\", \"metropolitan\", \"sewak\", \"addiction\", \"devendra\", \"leg\", \"swachchhata\", \"tadan\", \"sponsor\", \"haji\", \"lijiyedass\", \"window\", \"varun\", \"haj\", \"drug\", \"distressed\", \"upadhyay\", \"menace\", \"trap\", \"saarc\", \"kid\", \"ambition\", \"charkha\", \"khadi\", \"pandit\", \"cleanliness\", \"varsh\", \"residence\", \"october\", \"tremendous\", \"constructive\", \"concern\", \"pleasure\", \"habit\", \"voter\", \"department\", \"power\", \"radio\", \"hour\", \"child\", \"girl\", \"thing\", \"year\", \"family\", \"suggestion\", \"opportunity\", \"day\", \"young\", \"mahatma\", \"poor\", \"experience\", \"work\", \"citizen\", \"man\", \"history\", \"gandhi\", \"letter\", \"society\", \"country\", \"effort\", \"farmer\", \"sheep\", \"cub\", \"dashami\", \"barack\", \"lioness\", \"yeswecan\", \"harivansh\", \"obama\", \"flock\", \"chai\", \"lopn\", \"fence\", \"benjamin\", \"franklin\", \"biswal\", \"omprakash\", \"tann\", \"nominate\", \"pal\", \"arrear\", \"aashish\", \"pesa\", \"ambulance\", \"dakshaa\", \"passer\", \"chicago\", \"khaadi\", \"ru\", \"presidency\", \"harda\", \"vijay\", \"american\", \"drawback\", \"white\", \"biography\", \"bachchan\", \"consent\", \"disabled\", \"law\", \"cashless\", \"road\", \"compensation\", \"question\", \"brother\", \"lion\", \"issue\", \"accident\", \"land\", \"farmer\", \"suggestion\", \"virus\", \"sister\", \"money\", \"thought\", \"village\", \"poor\", \"difficulty\", \"child\", \"work\", \"state\", \"job\", \"family\", \"strength\", \"safety\", \"health\", \"problem\", \"home\", \"society\", \"heart\", \"thing\", \"small\", \"day\", \"rajguru\", \"stump\", \"sonal\", \"antibiotic\", \"van\", \"satyagraha\", \"lantern\", \"noor\", \"malaria\", \"jamuna\", \"jehan\", \"bacteria\", \"varma\", \"preparedness\", \"illiterate\", \"flutter\", \"burning\", \"lakhwind\", \"fraud\", \"anushasan\", \"cut\", \"ambaji\", \"pregnancy\", \"mhatre\", \"informed\", \"exertion\", \"actual\", \"vertical\", \"skin\", \"mosquito\", \"asha\", \"aligarh\", \"depression\", \"shilpi\", \"complication\", \"sukhdev\", \"enterprise\", \"mudra\", \"kalamji\", \"sapling\", \"organ\", \"tree\", \"rio\", \"work\", \"lakh\", \"pregnant\", \"crop\", \"plant\", \"technology\", \"soil\", \"opportunity\", \"gandhi\", \"farmer\", \"small\", \"effort\", \"poor\", \"house\", \"light\", \"day\", \"family\", \"year\", \"talk\", \"change\", \"society\", \"crore\", \"child\", \"water\", \"woman\", \"village\", \"social\", \"young\", \"state\", \"thing\", \"nervous\", \"xii\", \"compete\", \"lecture\", \"drag\", \"nervousness\", \"irritated\", \"batsman\", \"husbandry\", \"disappointed\", \"suraksha\", \"failure\", \"finish\", \"joyful\", \"psychological\", \"sarcastic\", \"bhavahah\", \"regulate\", \"confused\", \"seeking\", \"deepo\", \"penchant\", \"score\", \"unwanted\", \"excuse\", \"bubka\", \"neighbor\", \"whim\", \"motivator\", \"uppa\", \"pass\", \"relative\", \"exam\", \"comparison\", \"external\", \"classroom\", \"burden\", \"bother\", \"test\", \"competition\", \"ball\", \"mastery\", \"resolution\", \"paper\", \"everyday\", \"thing\", \"question\", \"sleep\", \"student\", \"child\", \"faith\", \"parent\", \"hour\", \"result\", \"success\", \"examination\", \"mark\", \"teacher\", \"mind\", \"challenge\", \"important\", \"opportunity\", \"successful\", \"confidence\", \"family\", \"future\", \"strength\", \"topic\", \"work\", \"yoga\", \"bothered\", \"batsman\", \"envious\", \"futile\", \"confuse\", \"nervous\", \"tenth\", \"oneself\", \"aarambhishura\", \"lessening\", \"twice\", \"sadden\", \"immaterial\", \"fare\", \"vinita\", \"kamath\", \"advisor\", \"crack\", \"mama\", \"unwanted\", \"drown\", \"uppa\", \"soon\", \"irritated\", \"bachcha\", \"ballistic\", \"banambwa\", \"belonging\", \"blossomsthe\", \"bole\", \"defeating\", \"excuse\", \"motivator\", \"sergei\", \"nervousness\", \"whim\", \"undue\", \"exam\", \"bother\", \"finish\", \"mastery\", \"child\", \"opportunity\", \"resolution\", \"student\", \"thing\", \"farmer\", \"faith\", \"work\", \"light\", \"happy\", \"year\", \"festival\", \"important\", \"land\", \"teacher\", \"poor\", \"village\", \"young\", \"challenge\", \"successful\", \"family\", \"experience\", \"water\", \"sister\", \"news\", \"brother\", \"small\", \"society\", \"house\", \"citizen\", \"day\", \"state\", \"effort\", \"youth\", \"bachcha\", \"ballistic\", \"banambwa\", \"belonging\", \"blossomsthe\", \"bole\", \"cadre\", \"cartosat\", \"competency\", \"consecutive\", \"convergence\", \"conversion\", \"cuddalore\", \"dastak\", \"decomposed\", \"deriving\", \"exultation\", \"ghar\", \"graahak\", \"har\", \"ias\", \"infer\", \"inflorescence\", \"jalan\", \"kathua\", \"kazakhstan\", \"kindle\", \"locate\", \"mitigate\", \"multifarious\", \"exam\", \"poor\", \"brother\", \"child\", \"experience\", \"thing\", \"farmer\", \"village\", \"question\", \"mind\", \"important\", \"opportunity\", \"student\", \"young\", \"work\", \"issue\", \"failure\", \"sister\", \"family\", \"water\", \"lakh\", \"effort\", \"year\", \"youth\", \"citizen\", \"state\", \"defeating\", \"problem\", \"yoga\", \"day\", \"drug\", \"kid\", \"free\", \"letter\", \"festival\", \"mother\"], \"Freq\": [114.0, 279.0, 366.0, 334.0, 332.0, 240.0, 177.0, 257.0, 199.0, 179.0, 143.0, 182.0, 372.0, 326.0, 291.0, 317.0, 91.0, 97.0, 240.0, 174.0, 148.0, 192.0, 179.0, 227.0, 269.0, 134.0, 122.0, 102.0, 117.0, 169.0, 34.646449505055664, 28.465153329593598, 26.39095552796458, 24.81918722362149, 23.083824923315817, 25.538673909365, 25.8106663656026, 14.387450644785204, 14.131657263112816, 18.27289341677028, 19.58203266311738, 16.577629031371664, 14.484460822497955, 18.650190268398077, 20.746485856448775, 13.026992813501234, 17.352776611821415, 19.60161313833734, 37.15474294431049, 11.795093794610239, 12.895759488090393, 15.498146022350275, 14.320924085475028, 12.676994942159364, 11.72238639303183, 13.166495370870399, 29.683092618995843, 12.553846579028308, 16.50032738068938, 10.47603729991428, 71.88315601880826, 53.63560644980249, 15.31140379869119, 30.140695654030555, 22.436880108761525, 18.340111247642877, 33.78489402037466, 24.7497290066008, 40.55749389604574, 23.461727678632368, 163.52673440670426, 143.64639724296873, 51.60380108495339, 44.01761622317559, 51.32518116671822, 39.185357323214696, 54.70341696370657, 69.1658299712211, 95.94033086273768, 42.17120489422452, 77.61312265687894, 128.2329736298805, 122.43037350631717, 93.20431966153248, 39.01883166954159, 216.5162809528381, 189.2141857805915, 193.90352220287815, 96.46038362057887, 134.45948146409694, 51.768756802608216, 121.86058251027367, 94.56153559576015, 109.70008298419526, 118.97592293742841, 142.82601614126037, 148.1557365446881, 136.63526287110997, 120.94115801795886, 113.00337828095853, 84.89887506762655, 118.08023487828113, 79.72892168084896, 113.9668192817963, 124.50209772175293, 77.16203048381922, 117.27275473621364, 95.44135772326386, 85.61703959239976, 80.106572496831, 80.30256880621054, 22.81744073853921, 30.79277089501897, 18.942315302787975, 12.49108921971694, 12.76902130781867, 9.306143352132578, 10.46041042891237, 18.76639285137612, 16.733794830827236, 11.202866264026927, 7.729384865424494, 14.111434279818775, 13.663655291688823, 7.20379431888294, 10.608184542766388, 7.582411983405481, 8.03874584769442, 8.411179449271541, 9.320552372246098, 9.680194762449055, 9.0903593429101, 9.0903593429101, 8.566064358651687, 6.0727256987213325, 11.475013260986168, 6.167438206900197, 6.585167712988295, 9.089339991875141, 7.579511217261374, 7.579511217261374, 10.956529673703404, 10.838925062255035, 33.990543048421706, 12.579085519867082, 13.00750451086748, 31.504898296652534, 18.530232234180083, 12.35068841168246, 16.92309379840107, 64.0482588160552, 23.141171282172916, 14.668517292958661, 69.91322762093526, 17.09864029561401, 15.964208913113419, 54.27455010495065, 71.88357398338682, 68.41553131579028, 44.847131381567465, 148.30272957137345, 89.5986147537643, 44.232995400608544, 106.54241233893886, 42.78443400750135, 71.82939711999332, 35.07906527167577, 87.74555294845766, 49.873163323912266, 35.51739936962482, 92.11723167524707, 80.91404206868755, 47.29986972820594, 68.14805798852251, 58.2534476682135, 76.82780793751988, 80.76921968852939, 49.72016859825232, 42.001782859317956, 51.93960927920371, 45.122991885307826, 54.62494818695054, 61.97624479274484, 66.46154279725886, 60.24640389426628, 51.91365419048561, 51.741478128146326, 57.71106961581018, 45.254187843888985, 19.52258281127535, 18.4121031163534, 17.110207956152887, 15.807953866524754, 14.505691057963157, 8.144166838918869, 6.6854543945823135, 5.720286624512275, 5.910519584439722, 5.358147539510764, 5.358147539510764, 32.693050585870125, 4.6444846710007095, 6.716610050161953, 4.521318110570716, 6.320772650609231, 4.7277003517187985, 4.985100705456329, 8.236029521900328, 4.263165022244088, 3.9954247399955074, 3.9954247399955074, 3.9954247399955074, 3.9954247399955074, 3.9954247399955074, 4.919488551402967, 7.099828973258248, 3.7251675922868546, 4.392297512897133, 3.6906282639452197, 7.529327995183849, 31.30190406326076, 6.023701512897342, 16.96212268388149, 7.22714574601732, 8.129241477983307, 7.1600361151414385, 5.662172026660553, 15.756403172416185, 19.467743626095103, 17.43260359940117, 10.140243137380908, 41.10302283038626, 9.011181942090635, 15.645492526126056, 45.76556840876968, 38.09985595002373, 15.558354051926752, 12.879008360433948, 22.403970894784305, 69.80244441326566, 84.85284647995368, 105.75908189052569, 16.442559985579262, 103.3499708228301, 47.986754490883655, 31.07363947885027, 43.95342818382929, 31.367627383715792, 32.28999754229778, 52.16391413698993, 33.62636881857232, 54.1915834908604, 46.60582074567232, 34.38906624230865, 47.57564515279016, 43.18437465759736, 35.06649830938497, 63.517360537059794, 57.87777418096111, 34.83720779713683, 42.46122340974462, 51.34169546080293, 40.837301707812486, 36.09752962942326, 46.91080322563651, 45.66670151590512, 41.33580963495364, 47.02749743112473, 40.535757393944436, 46.14483329553985, 38.00461322716922, 42.3166838370821, 39.15276888674664, 38.02554448010621, 37.976805642039935, 6.852530685007188, 5.9364251826717105, 4.033646951728797, 2.339433689482703, 3.09588532103901, 2.4379207863207215, 2.4338605453880384, 2.1247826836114045, 2.4009410475856696, 2.4038432200020017, 1.884471729287658, 4.971282150329494, 2.4793839222475427, 2.151458413001114, 1.4267036562358255, 1.4267036562358255, 1.4267036562358255, 1.4407090988343092, 1.3084886233598403, 2.1623144816800868, 11.165645267980214, 1.274354430291121, 1.2892626062423223, 1.269994376456623, 1.2895124846464106, 1.276369518929281, 1.2778048526051744, 1.2770999010465456, 1.2648387682634974, 1.2561348249576831, 3.646123538389381, 12.900744896964953, 1.7553948620999729, 3.5870941668663874, 5.922969431379129, 3.6945013152797634, 2.279630487681536, 12.123526074071599, 4.167368447909158, 2.498041921583703, 29.467611841264524, 4.087415183388211, 38.43635665598866, 2.838568632986358, 3.498610648725533, 16.974227017036952, 5.264420508600847, 3.678740546389026, 10.67039965558197, 5.4262107522209035, 10.614828016371666, 6.453647739702441, 8.638995100465912, 14.14674754902411, 8.679515967272744, 10.081415562642931, 17.786444877908107, 7.222562815975885, 13.74128436945398, 16.67755391407291, 16.477338199311454, 9.87539550304881, 14.529320343005399, 15.303791430073327, 14.330921626214831, 7.8794413525869125, 11.689805528505413, 10.855240075183595, 11.606862783415409, 10.580087608204773, 10.18241132746365, 8.112964303951642, 8.9607660026915, 8.684378866647236, 9.336373088676499, 8.496557614925646, 8.642199144938605, 8.52358937213626, 3.822148174628239, 3.2852721433405536, 3.2766884700890495, 15.548021300312612, 2.2260614078607825, 2.620283338684569, 2.5382902722452005, 6.610894779981293, 1.6799520917528277, 1.6495326406738027, 1.6306809043762602, 2.038627540407134, 1.6019011260429412, 1.577928787623625, 1.570413037503092, 1.5629694346977616, 1.1439331848563477, 1.1644662393300549, 1.1602234057322525, 1.126860772790869, 1.1070581920253428, 1.1108297107858112, 2.036912720160841, 1.0933582740641716, 1.1102222446784014, 1.1011186821595258, 3.7936629859265, 1.0666161216379393, 1.0932678399047195, 1.0752308682380702, 5.820018482316608, 3.03659334864013, 2.999297615525418, 4.476417174038836, 2.535173222496502, 1.643755426550699, 3.7333932617957126, 1.5653938702205143, 14.741858343783194, 4.89569165288639, 10.111215639983739, 2.730487005429994, 15.45638706670663, 19.322407666544713, 3.271749879213946, 8.730341742878508, 4.936025573733975, 12.80888404608877, 20.834194795775872, 9.79644990455763, 4.762826014404895, 11.553225886198014, 8.626202165125349, 6.77018862291841, 13.487268821353263, 10.28518067518382, 5.3513095202879795, 11.370543740929795, 10.765093758098505, 9.500607624146351, 5.811343089111916, 9.99249973297216, 7.115977989613629, 5.610778124559432, 6.503649867489033, 5.791270420228785, 6.060932797241513, 6.351975923965088, 5.980586118248473, 5.78561178486136, 5.6140983297184635, 5.623534912815037, 2.503726931489251, 4.450407949926379, 2.8267682429590693, 3.50048810700728, 2.0987101307617366, 4.201076310203138, 2.068858228572395, 2.0601462730630993, 1.710956466227123, 1.7029177249426204, 1.7041092072611028, 1.681408384743126, 1.2999355029193633, 1.4385061594427033, 1.6086112679928182, 1.290171346605986, 1.2852233920573513, 1.277506443286503, 1.5816369194623716, 1.2677732519131188, 1.5595470169957895, 1.2287299840847048, 1.2136448367691277, 1.214406088568411, 1.2163198432911264, 0.895347232675127, 0.8938294648909124, 0.8883255985960471, 0.8919398749645054, 0.8946340676061861, 2.09298465264143, 1.4197682420881668, 4.231601183754998, 1.155299361091478, 1.65484799495949, 2.4937945930508127, 3.4595451704680693, 4.396981649617841, 2.0149385535532987, 2.3945875396958947, 3.7318824248637297, 6.121669548842722, 2.849765357451883, 11.426872074580068, 7.5235133407646435, 1.8800249171587216, 4.838999732170141, 3.486239620227205, 5.594459751932101, 3.4127451244557965, 7.100026135477906, 5.45072365769335, 7.393171100962157, 5.534393111315379, 6.244978011452406, 5.590343722104616, 5.057645237791283, 4.500589124523632, 6.09754603912098, 6.043413495318323, 5.9712970000921795, 4.50845591931782, 4.545751793081521, 5.184295485297485, 4.704893127113582, 5.135734687795405, 5.3289194840116485, 4.932278760267856, 5.032136927380591, 4.7062390698386185, 4.65099518826805, 4.430605445791763, 4.2519399277916134, 1.3113042454215842, 1.0610883067742103, 1.0332187047163417, 1.027721003695378, 0.7324958238127587, 0.7075755860346472, 0.7010064650537603, 0.6810207986626595, 0.6912096763446761, 0.9039279698489994, 0.6765254249052183, 6.078852252700165, 1.3197824749105418, 1.0291927264452885, 0.9473943421836699, 0.39534161428824605, 0.3931492498832171, 0.39296477117591233, 0.3913906172956733, 0.39260611123047806, 0.3908179451389658, 0.3901319102277612, 3.296794487780651, 0.38353083991436027, 0.38539160165366443, 0.3881739415873581, 0.38723210063104335, 0.38601588194767494, 0.3842239109262035, 0.3814123092692527, 1.0458563870034907, 1.6344073015748406, 29.628639296693787, 1.0565367650030866, 0.7293608635049945, 0.8884486088395083, 2.0746758679385016, 0.688740699571189, 3.0131307989638803, 3.662793478753275, 0.9012413873192775, 0.6913951515812559, 2.611148524971944, 2.9410465820750904, 1.4119710961634433, 5.882922276506991, 4.246119680929302, 2.217861784246632, 5.326018232715806, 6.057783811954978, 3.0301672218666513, 3.2341933642643137, 2.9887736908197216, 3.03482445613664, 3.0265828570537128, 2.472598583642602, 2.254656785657228, 3.0769093973132877, 2.9561095146390532, 2.5006439372271547, 3.123204644479009, 3.3539537159154253, 2.1709360058305385, 2.3058351470619414, 3.139736400798628, 2.38021367632038, 2.5252735508312445, 2.2414465520047986, 2.533239987042841, 2.4001457113177707, 0.001306059195342835, 0.0017521110664652907, 0.0012975961532381665, 0.0012770734690022143, 0.0012572738315722596, 0.002550402571517954, 0.0012525634641084354, 0.0012272334443783734, 0.001222348605672787, 0.0012120310648248962, 0.0012071839688777319, 0.0012021116032592306, 0.0012034544383812027, 0.0011986973078770694, 0.0011990213258974852, 0.0011732583326368457, 0.0011276509566005752, 0.0011274193964695015, 0.001125256665199166, 0.0011173183423868996, 0.0011083555054529376, 0.0011084004881744532, 0.0010989734627870678, 0.0014625375858747659, 0.0007606597791793625, 0.0007606597791793625, 0.0007606597791793625, 0.0007606597791793625, 0.0007606597791793625, 0.0007606597791793625, 0.0010689706996636842, 0.0010656580011406717, 0.0010563901362534247, 0.0010524610913641048, 0.0013645248645211502, 0.0010155425018555178, 0.0018743363607862523, 0.011650742308807418, 0.0016566402842850246, 0.0018049270719843347, 0.0016214805310564892, 0.00838157756518845, 0.006944655680866142, 0.0032562398665540457, 0.005538365249577159, 0.00535788032830625, 0.0064758816009823335, 0.0036604142482005186, 0.004926257941005056, 0.0037920892373015025, 0.003931059023314865, 0.005024959289667995, 0.004879639225206162, 0.0042671967419492035, 0.0036424456093057116, 0.0038721895778341857, 0.004122330540091791, 0.004719922790852625, 0.004542861303933683, 0.0032966478808978796, 0.0030105171807902117, 0.004503997182047567, 0.003892559035965978, 0.004469740999950689, 0.003694788168713606, 0.0033293131701208917, 0.003619418966030671, 0.00361846162927145, 0.003767619586300376, 0.0034421830078699665, 0.0035492217081307532, 0.0037653918140501184, 0.003556785451868869, 0.003596163492446707, 0.003540638197787725, 0.0007877831869067373, 0.0007877831869067373, 0.0007877831869067373, 0.0007877831869067373, 0.0007877831869067373, 0.0007877831869067373, 0.0007877831869067373, 0.0007877831869067373, 0.0007877831869067373, 0.0007877831869067373, 0.0007877831869067373, 0.0007877831869067373, 0.0007877831869067373, 0.0007877831869067373, 0.0007877831869067373, 0.0007877831869067373, 0.0007877831869067373, 0.0007877831869067373, 0.0007877831869067373, 0.0007877831869067373, 0.0007877831869067373, 0.0007877831869067373, 0.0007877831869067373, 0.0007877831869067373, 0.0007877831869067373, 0.0007877831869067373, 0.0007877831869067373, 0.0007877831869067373, 0.0007877831869067373, 0.0007877831869067373, 0.005586722436152166, 0.00485539968153581, 0.0043793188902656365, 0.005137980520443251, 0.004362627202600955, 0.0040798479187592485, 0.004879889115720369, 0.004584203789921714, 0.0032314255619750394, 0.0033599789499899895, 0.0037216643073831614, 0.0041164111605233224, 0.0037992061906987136, 0.004205962048228133, 0.003977616257330285, 0.0025250650911952236, 0.0017551579711391925, 0.0033410576053067025, 0.004122957469610847, 0.0042379529857771115, 0.0030566119537155426, 0.0036785284079816783, 0.003835879336774468, 0.003388241449043147, 0.00317023069880676, 0.00324922388873487, 0.0008592770691829186, 0.0026515718377948198, 0.0033031475016323157, 0.0035274401259600893, 0.0017816843143918508, 0.0018784053309057766, 0.0026279412239119024, 0.0026213104095652883, 0.0028946281902552198, 0.0026547583507105835], \"Total\": [114.0, 279.0, 366.0, 334.0, 332.0, 240.0, 177.0, 257.0, 199.0, 179.0, 143.0, 182.0, 372.0, 326.0, 291.0, 317.0, 91.0, 97.0, 240.0, 174.0, 148.0, 192.0, 179.0, 227.0, 269.0, 134.0, 122.0, 102.0, 117.0, 169.0, 35.32792644178615, 29.097162645672206, 27.039243384530277, 25.44717798993791, 23.719572937686586, 26.248395522377848, 26.73224274858494, 14.982686945421793, 14.718049916730044, 19.047052394273177, 20.451409015722742, 17.343903826489203, 15.158883601598188, 19.53170050644693, 21.732498915558992, 13.657065984069984, 18.19623409936611, 20.563245879920462, 38.998578753530126, 12.382281215027385, 13.543378085015194, 16.288358328928684, 15.055099479161434, 13.35843101523511, 12.35698857192172, 13.89215303779867, 31.34234250934517, 13.258795477074347, 17.439471264874324, 11.074784470591172, 77.9701808378942, 58.7986290905984, 16.254360924708013, 32.75894907228023, 24.388464623743438, 19.7074607682875, 37.851527118379934, 27.223999343208906, 46.41234017152072, 25.73468068084585, 214.58464285904932, 187.73053723417968, 61.28789965104414, 51.8240913740581, 61.66254496373304, 46.19937200129534, 67.90699317083566, 89.45152676840307, 131.61398036756827, 50.74647318113068, 103.8016571235425, 190.1700826682272, 183.3473359979989, 133.79573905260116, 46.91632330177121, 372.53324166630927, 317.20449359129793, 334.0034854252292, 143.80543337264226, 227.26710112152432, 66.97845740958601, 218.95470707350992, 158.09551925896798, 197.61762043647764, 223.80267532667563, 291.226518113008, 326.2463425917047, 302.4626332729015, 257.3973521226083, 240.5688906571689, 151.38246977046165, 269.14392610325297, 144.18670569661563, 279.6086987893942, 332.08064037122966, 140.6212463469833, 366.69801515101267, 240.66937821898037, 188.8408822033969, 183.11156093240012, 192.29657772169597, 23.678906704191878, 32.37223998485442, 19.986514664526403, 13.193271430165677, 13.617043224522487, 9.957410666047231, 11.19771128793602, 20.137547766544994, 18.056753979980606, 12.099804581126358, 8.358080028118032, 15.269986978069712, 14.788999347092586, 7.835128369090832, 11.540595320489219, 8.251351720773593, 8.756263567282593, 9.172736916675836, 10.166294881819114, 10.57202948950812, 9.93186629945375, 9.93186629945375, 9.379288250568592, 6.667216318430178, 12.600022505890301, 6.776841530465218, 7.2370874174481115, 9.991845480671424, 8.33843722809036, 8.33843722809036, 12.060568049304559, 12.024699050542335, 39.09742374501517, 14.041283272282769, 14.59171725461176, 36.67498844713317, 21.477253710620474, 13.885825397023577, 19.819428488369653, 88.22546314793905, 28.447258157180034, 17.107744313424707, 102.567052970938, 20.40133365041295, 18.98926865704928, 86.33587228004015, 128.67028052674402, 126.43501153692497, 75.72115314913496, 366.69801515101267, 199.7368456378876, 81.34878719038261, 302.4626332729015, 84.00226056374451, 183.11156093240012, 66.84278274305119, 279.6086987893942, 117.7051835706822, 69.33895644131054, 326.2463425917047, 269.14392610325297, 114.05169151569665, 223.80267532667563, 174.00365865959503, 291.226518113008, 332.08064037122966, 134.51844516656303, 97.88945390809874, 151.15430765543624, 114.03313113812719, 179.02414175916962, 240.66937821898037, 334.0034854252292, 257.3973521226083, 179.250061993316, 188.8408822033969, 317.20449359129793, 161.23427579331425, 20.50739569186746, 19.703822054167155, 18.325181041656915, 16.946307340994245, 15.567663879997957, 8.806525888421438, 7.3405237973415005, 6.340421887183736, 6.579175386513264, 5.973245882833661, 5.973245882833661, 36.59680325280363, 5.202045493241988, 7.570988302930758, 5.119019372883351, 7.170607341312243, 5.378726630656941, 5.676204288096298, 9.378918622517332, 4.881213995755155, 4.581342007992656, 4.581342007992656, 4.581342007992656, 4.581342007992656, 4.581342007992656, 5.653680696129966, 8.178576755133372, 4.3119607357029555, 5.0869289011036285, 4.296423618330826, 8.800677754531183, 37.17252751677326, 7.052202403124376, 21.196326401629126, 8.570304881330026, 9.72213019636461, 8.56677474507234, 6.662475672714514, 20.535456583269614, 26.034410422249575, 23.277948915563, 12.739580937665568, 63.97877503704154, 11.229498557167965, 21.5936600346255, 80.8071363848707, 68.94049293072375, 23.63563314033811, 18.64794988286556, 39.03849420026115, 182.65936580710712, 240.5688906571689, 332.08064037122966, 26.11868201102651, 372.53324166630927, 137.35130926125976, 72.25659291465703, 122.5803434969387, 73.7832565355309, 79.31249301268238, 177.56897339822862, 87.73571723297292, 192.29657772169597, 157.16941443082305, 94.36516880547629, 179.250061993316, 152.28656463780354, 102.9151934628517, 366.69801515101267, 326.2463425917047, 104.93253748768353, 169.6610176511285, 269.14392610325297, 155.77628412234301, 117.04481382882568, 240.66937821898037, 257.3973521226083, 188.8408822033969, 302.4626332729015, 179.02414175916962, 291.226518113008, 148.2305179543939, 317.20449359129793, 218.95470707350992, 199.7368456378876, 334.0034854252292, 7.755015291446745, 6.89715397684059, 4.745253911188303, 2.9833553233059087, 4.025394968440356, 3.186283696720544, 3.181628847248196, 2.7806629233666458, 3.1616429719028925, 3.174511020338197, 2.535453195855265, 6.819760097588197, 3.4388864798278957, 2.9891969445974294, 2.0508116199085196, 2.0508116199085196, 2.0508116199085196, 2.0890979049532006, 1.9194347008937271, 3.17927215735252, 16.482413228270616, 1.89329708571687, 1.915809726465908, 1.8912782042127743, 1.9283446544201812, 1.9116571852990283, 1.9214356686367395, 1.9237306374319676, 1.9056541192420369, 1.8965380484185428, 5.552267297786994, 20.02785938413944, 2.6772055313604275, 5.6686445115046205, 9.926519228873156, 6.063536580205381, 3.603705099264203, 25.408707458315632, 7.549613837163244, 4.210937612332759, 91.17290621264176, 8.472254502363683, 177.56897339822862, 5.246360033019485, 7.215385128892054, 88.12769068882098, 13.971125020891689, 7.90131557664484, 51.41739494094905, 15.80639186484738, 63.5480848439228, 24.800860446223194, 45.49653531864786, 126.14500142488616, 46.356327526143694, 66.02810620990732, 279.6086987893942, 38.221199393973585, 179.250061993316, 326.2463425917047, 334.0034854252292, 89.15839882678728, 257.3973521226083, 317.20449359129793, 291.226518113008, 53.08358250196446, 182.65936580710712, 179.02414175916962, 240.66937821898037, 169.6610176511285, 152.28656463780354, 68.15622968025531, 112.79660052759439, 122.5803434969387, 227.26710112152432, 107.07203217227445, 269.14392610325297, 366.69801515101267, 4.675193340390577, 4.092763296917242, 4.100161756799036, 19.643573765510638, 2.956540551262884, 3.557932685470183, 3.473460251091929, 9.319361217631934, 2.38620535064895, 2.350252893179636, 2.3463260258220218, 2.9950223142413512, 2.4019124684759534, 2.384527197410692, 2.3883089843590537, 2.4135948848758235, 1.776408672630613, 1.809927681030997, 1.8095810948737743, 1.7728893477464622, 1.7710959768787662, 1.779052231401947, 3.2695415803468717, 1.7717782069306554, 1.8085934719376386, 1.8211348428783856, 6.293219834845814, 1.7805162840088147, 1.8266914672192247, 1.8053173436628829, 11.264725500987591, 5.770159292727103, 5.72601885882981, 9.224597605375363, 4.9065508268720635, 2.948532942916769, 8.404914126670649, 2.863426504262732, 65.02087783178483, 14.669470890312525, 50.16732495909986, 6.734825941826618, 97.88945390809874, 143.5685493761141, 8.980823558093569, 46.55330370954394, 18.029442376430374, 102.9151934628517, 366.69801515101267, 89.15839882678728, 21.402900303568316, 148.2305179543939, 79.31249301268238, 57.6930227509751, 332.08064037122966, 182.65936580710712, 33.41225963347519, 279.6086987893942, 240.66937821898037, 192.29657772169597, 43.121466112591996, 334.0034854252292, 122.35552490854224, 44.658430450963955, 103.55656812326937, 93.42456637915667, 144.18670569661563, 227.26710112152432, 183.3473359979989, 179.250061993316, 155.77628412234301, 317.20449359129793, 3.194396830544841, 5.727583252219846, 3.9005904883996796, 4.860586803359369, 2.94336995366826, 5.929108827413202, 2.9597967969799, 2.968716885405289, 2.4977073522618563, 2.498574951155483, 2.5081805372521835, 2.4948967413496996, 2.025691824512213, 2.2577439705780327, 2.535726619372888, 2.034644110473421, 2.0459189582721202, 2.040518530419264, 2.532740998658918, 2.036360599227844, 2.5215345137319556, 2.05410896564651, 2.0387432646739043, 2.0587789073500367, 2.0673066211907596, 1.5689629045879556, 1.5769762470067452, 1.5705266089420493, 1.584694891194666, 1.589665661629734, 3.8029172168762946, 2.5905763804498707, 8.381091091274408, 2.0819323107330896, 3.127005988093509, 5.01901006819502, 7.516261182119238, 10.050300576196246, 4.657647245128028, 6.593015620934098, 18.64794988286556, 57.39274510434853, 11.316012274056073, 240.66937821898037, 113.46127286630913, 4.908139113072, 51.64961930494786, 24.195785529858036, 106.77574953166864, 25.94938533616702, 257.3973521226083, 112.79660052759439, 366.69801515101267, 155.77628412234301, 269.14392610325297, 182.65936580710712, 128.67028052674402, 88.22546314793905, 317.20449359129793, 334.0034854252292, 326.2463425917047, 100.61265865398632, 106.29423331089123, 227.26710112152432, 137.35130926125976, 279.6086987893942, 372.53324166630927, 223.80267532667563, 332.08064037122966, 197.61762043647764, 291.226518113008, 192.29657772169597, 179.250061993316, 2.0522653523035843, 1.7728369329334035, 1.8253577177724427, 1.8266698714035494, 1.4247884477261115, 1.3831127512481525, 1.3777041157958783, 1.3522516365104404, 1.4533910114490574, 1.9031355355350363, 1.469933653071417, 13.555716008711384, 3.111589863686147, 2.6440442781501328, 2.4524494554305654, 1.03452695217351, 1.0315784911676469, 1.0329775921632274, 1.0295210269234103, 1.0329107701990623, 1.0282724213139054, 1.0292898537657067, 8.72664762589605, 1.0178451840841898, 1.0242091777063385, 1.0318008460269725, 1.0322395675135136, 1.0290056373107628, 1.0248269305087423, 1.0197543793642116, 2.848394435499265, 4.601158914751261, 114.05169151569665, 3.7365385961747073, 2.5549861717401128, 3.5493485773661453, 13.149355532798921, 2.5612429225363726, 29.756144883621122, 54.633513991342454, 4.515893999494893, 2.820597168616402, 30.550265040738942, 38.83699152633723, 10.613365300582908, 179.250061993316, 97.88945390809874, 27.474719611862433, 199.7368456378876, 279.6086987893942, 57.820606958484944, 81.23889041146825, 66.02810620990732, 74.19250871831146, 74.17794829578067, 45.724912702505996, 44.278454937479346, 134.51844516656303, 117.7051835706822, 70.29404759309539, 174.00365865959503, 257.3973521226083, 47.3810237096193, 64.50169481176454, 334.0034854252292, 77.97867870195047, 122.35552490854224, 64.3825784771304, 240.66937821898037, 240.5688906571689, 1.0026733714947258, 1.3522516365104404, 1.0035021010039495, 1.006983765614094, 1.006706730270864, 2.0522653523035843, 1.0096762392225032, 1.0106012439506735, 1.0126212220941686, 1.009659791805971, 1.0110463203910531, 1.0126655232017077, 1.0138271449958527, 1.013853621741863, 1.0142583276988997, 1.0176188277251599, 1.018541333332478, 1.0196690589566408, 1.020387860320403, 1.0178451840841898, 1.0196955970990804, 1.0197543793642116, 1.019939759214132, 1.3777041157958783, 0.7224962626051139, 0.7224962626051139, 0.7224962626051139, 0.7224962626051139, 0.7224962626051139, 0.7224962626051139, 1.020513947171852, 1.0242091777063385, 1.0248269305087423, 1.0274186923899906, 1.3831127512481525, 1.0290056373107628, 3.0836268169927976, 114.05169151569665, 2.5612429225363726, 3.111589863686147, 2.820597168616402, 279.6086987893942, 257.3973521226083, 30.550265040738942, 199.7368456378876, 179.250061993316, 366.69801515101267, 57.820606958484944, 240.66937821898037, 88.22546314793905, 112.74805759821342, 326.2463425917047, 302.4626332729015, 174.00365865959503, 102.9151934628517, 134.51844516656303, 182.65936580710712, 332.08064037122966, 291.226518113008, 70.29404759309539, 47.3810237096193, 334.0034854252292, 179.02414175916962, 372.53324166630927, 148.2305179543939, 87.73571723297292, 143.5685493761141, 155.77628412234301, 227.26710112152432, 128.67028052674402, 169.6610176511285, 317.20449359129793, 192.29657772169597, 269.14392610325297, 218.95470707350992, 0.7224962626051139, 0.7224962626051139, 0.7224962626051139, 0.7224962626051139, 0.7224962626051139, 0.7224962626051139, 0.7224962626051139, 0.7224962626051139, 0.7224962626051139, 0.7224962626051139, 0.7224962626051139, 0.7224962626051139, 0.7224962626051139, 0.7224962626051139, 0.7224962626051139, 0.7224962626051139, 0.7224962626051139, 0.7224962626051139, 0.7224962626051139, 0.7224962626051139, 0.7224962626051139, 0.7224962626051139, 0.7224962626051139, 0.7224962626051139, 0.7224962626051139, 0.7224962626051139, 0.7224962626051139, 0.7224962626051139, 0.7224962626051139, 0.7224962626051139, 114.05169151569665, 182.65936580710712, 143.5685493761141, 279.6086987893942, 179.02414175916962, 179.250061993316, 366.69801515101267, 332.08064037122966, 97.88945390809874, 117.7051835706822, 174.00365865959503, 257.3973521226083, 199.7368456378876, 291.226518113008, 240.66937821898037, 46.55330370954394, 13.555716008711384, 148.2305179543939, 334.0034854252292, 372.53324166630927, 113.46127286630913, 269.14392610325297, 326.2463425917047, 218.95470707350992, 169.6610176511285, 192.29657772169597, 1.020513947171852, 93.42456637915667, 240.5688906571689, 317.20449359129793, 20.02785938413944, 25.408707458315632, 120.01403753482423, 122.5803434969387, 302.4626332729015, 139.88297674478432], \"Category\": [\"Default\", \"Default\", \"Default\", \"Default\", \"Default\", \"Default\", \"Default\", \"Default\", \"Default\", \"Default\", \"Default\", \"Default\", \"Default\", \"Default\", \"Default\", \"Default\", \"Default\", \"Default\", \"Default\", \"Default\", \"Default\", \"Default\", \"Default\", \"Default\", \"Default\", \"Default\", \"Default\", \"Default\", \"Default\", \"Default\", \"Topic1\", \"Topic1\", \"Topic1\", \"Topic1\", \"Topic1\", \"Topic1\", \"Topic1\", \"Topic1\", \"Topic1\", \"Topic1\", \"Topic1\", \"Topic1\", \"Topic1\", \"Topic1\", \"Topic1\", \"Topic1\", \"Topic1\", \"Topic1\", \"Topic1\", \"Topic1\", \"Topic1\", \"Topic1\", \"Topic1\", \"Topic1\", \"Topic1\", \"Topic1\", \"Topic1\", \"Topic1\", \"Topic1\", \"Topic1\", \"Topic1\", \"Topic1\", \"Topic1\", \"Topic1\", \"Topic1\", \"Topic1\", \"Topic1\", \"Topic1\", \"Topic1\", \"Topic1\", \"Topic1\", \"Topic1\", \"Topic1\", \"Topic1\", \"Topic1\", \"Topic1\", \"Topic1\", \"Topic1\", \"Topic1\", \"Topic1\", \"Topic1\", \"Topic1\", \"Topic1\", \"Topic1\", \"Topic1\", \"Topic1\", \"Topic1\", \"Topic1\", \"Topic1\", \"Topic1\", \"Topic1\", \"Topic1\", \"Topic1\", \"Topic1\", \"Topic1\", \"Topic1\", \"Topic1\", \"Topic1\", \"Topic1\", \"Topic1\", \"Topic1\", \"Topic1\", \"Topic1\", \"Topic1\", \"Topic1\", \"Topic1\", \"Topic1\", \"Topic1\", \"Topic1\", \"Topic1\", \"Topic1\", \"Topic2\", \"Topic2\", \"Topic2\", \"Topic2\", \"Topic2\", \"Topic2\", \"Topic2\", \"Topic2\", \"Topic2\", \"Topic2\", \"Topic2\", \"Topic2\", \"Topic2\", \"Topic2\", \"Topic2\", \"Topic2\", \"Topic2\", \"Topic2\", \"Topic2\", \"Topic2\", \"Topic2\", \"Topic2\", \"Topic2\", \"Topic2\", \"Topic2\", \"Topic2\", \"Topic2\", \"Topic2\", \"Topic2\", \"Topic2\", \"Topic2\", \"Topic2\", \"Topic2\", \"Topic2\", \"Topic2\", \"Topic2\", \"Topic2\", \"Topic2\", \"Topic2\", \"Topic2\", \"Topic2\", \"Topic2\", \"Topic2\", \"Topic2\", \"Topic2\", \"Topic2\", \"Topic2\", \"Topic2\", \"Topic2\", \"Topic2\", \"Topic2\", \"Topic2\", \"Topic2\", \"Topic2\", \"Topic2\", \"Topic2\", \"Topic2\", \"Topic2\", \"Topic2\", \"Topic2\", \"Topic2\", \"Topic2\", \"Topic2\", \"Topic2\", \"Topic2\", \"Topic2\", \"Topic2\", \"Topic2\", \"Topic2\", \"Topic2\", \"Topic2\", \"Topic2\", \"Topic2\", \"Topic2\", \"Topic2\", \"Topic2\", \"Topic2\", \"Topic2\", \"Topic3\", \"Topic3\", \"Topic3\", \"Topic3\", \"Topic3\", \"Topic3\", \"Topic3\", \"Topic3\", \"Topic3\", \"Topic3\", \"Topic3\", \"Topic3\", \"Topic3\", \"Topic3\", \"Topic3\", \"Topic3\", \"Topic3\", \"Topic3\", \"Topic3\", \"Topic3\", \"Topic3\", \"Topic3\", \"Topic3\", \"Topic3\", \"Topic3\", \"Topic3\", \"Topic3\", \"Topic3\", \"Topic3\", \"Topic3\", \"Topic3\", \"Topic3\", \"Topic3\", \"Topic3\", \"Topic3\", \"Topic3\", \"Topic3\", \"Topic3\", \"Topic3\", \"Topic3\", \"Topic3\", \"Topic3\", \"Topic3\", \"Topic3\", \"Topic3\", \"Topic3\", \"Topic3\", \"Topic3\", \"Topic3\", \"Topic3\", \"Topic3\", \"Topic3\", \"Topic3\", \"Topic3\", \"Topic3\", \"Topic3\", \"Topic3\", \"Topic3\", \"Topic3\", \"Topic3\", \"Topic3\", \"Topic3\", \"Topic3\", \"Topic3\", \"Topic3\", \"Topic3\", \"Topic3\", \"Topic3\", \"Topic3\", \"Topic3\", \"Topic3\", \"Topic3\", \"Topic3\", \"Topic3\", \"Topic3\", \"Topic3\", \"Topic3\", \"Topic3\", \"Topic3\", \"Topic3\", \"Topic3\", \"Topic3\", \"Topic3\", \"Topic3\", \"Topic3\", \"Topic3\", \"Topic4\", \"Topic4\", \"Topic4\", \"Topic4\", \"Topic4\", \"Topic4\", \"Topic4\", \"Topic4\", \"Topic4\", \"Topic4\", \"Topic4\", \"Topic4\", \"Topic4\", \"Topic4\", \"Topic4\", \"Topic4\", \"Topic4\", \"Topic4\", \"Topic4\", \"Topic4\", \"Topic4\", \"Topic4\", \"Topic4\", \"Topic4\", \"Topic4\", \"Topic4\", \"Topic4\", \"Topic4\", \"Topic4\", \"Topic4\", \"Topic4\", \"Topic4\", \"Topic4\", \"Topic4\", \"Topic4\", \"Topic4\", \"Topic4\", \"Topic4\", \"Topic4\", \"Topic4\", \"Topic4\", \"Topic4\", \"Topic4\", \"Topic4\", \"Topic4\", \"Topic4\", \"Topic4\", \"Topic4\", \"Topic4\", \"Topic4\", \"Topic4\", \"Topic4\", \"Topic4\", \"Topic4\", \"Topic4\", \"Topic4\", \"Topic4\", \"Topic4\", \"Topic4\", \"Topic4\", \"Topic4\", \"Topic4\", \"Topic4\", \"Topic4\", \"Topic4\", \"Topic4\", \"Topic4\", \"Topic4\", \"Topic4\", \"Topic4\", \"Topic4\", \"Topic4\", \"Topic4\", \"Topic4\", \"Topic4\", \"Topic4\", \"Topic4\", \"Topic4\", \"Topic5\", \"Topic5\", \"Topic5\", \"Topic5\", \"Topic5\", \"Topic5\", \"Topic5\", \"Topic5\", \"Topic5\", \"Topic5\", \"Topic5\", \"Topic5\", \"Topic5\", \"Topic5\", \"Topic5\", \"Topic5\", \"Topic5\", \"Topic5\", \"Topic5\", \"Topic5\", \"Topic5\", \"Topic5\", \"Topic5\", \"Topic5\", \"Topic5\", \"Topic5\", \"Topic5\", \"Topic5\", \"Topic5\", \"Topic5\", \"Topic5\", \"Topic5\", \"Topic5\", \"Topic5\", \"Topic5\", \"Topic5\", \"Topic5\", \"Topic5\", \"Topic5\", \"Topic5\", \"Topic5\", \"Topic5\", \"Topic5\", \"Topic5\", \"Topic5\", \"Topic5\", \"Topic5\", \"Topic5\", \"Topic5\", \"Topic5\", \"Topic5\", \"Topic5\", \"Topic5\", \"Topic5\", \"Topic5\", \"Topic5\", \"Topic5\", \"Topic5\", \"Topic5\", \"Topic5\", \"Topic5\", \"Topic5\", \"Topic5\", \"Topic5\", \"Topic5\", \"Topic5\", \"Topic5\", \"Topic5\", \"Topic5\", \"Topic5\", \"Topic5\", \"Topic5\", \"Topic6\", \"Topic6\", \"Topic6\", \"Topic6\", \"Topic6\", \"Topic6\", \"Topic6\", \"Topic6\", \"Topic6\", \"Topic6\", \"Topic6\", \"Topic6\", \"Topic6\", \"Topic6\", \"Topic6\", \"Topic6\", \"Topic6\", \"Topic6\", \"Topic6\", \"Topic6\", \"Topic6\", \"Topic6\", \"Topic6\", \"Topic6\", \"Topic6\", \"Topic6\", \"Topic6\", \"Topic6\", \"Topic6\", \"Topic6\", \"Topic6\", \"Topic6\", \"Topic6\", \"Topic6\", \"Topic6\", \"Topic6\", \"Topic6\", \"Topic6\", \"Topic6\", \"Topic6\", \"Topic6\", \"Topic6\", \"Topic6\", \"Topic6\", \"Topic6\", \"Topic6\", \"Topic6\", \"Topic6\", \"Topic6\", \"Topic6\", \"Topic6\", \"Topic6\", \"Topic6\", \"Topic6\", \"Topic6\", \"Topic6\", \"Topic6\", \"Topic6\", \"Topic6\", \"Topic6\", \"Topic6\", \"Topic6\", \"Topic6\", \"Topic6\", \"Topic6\", \"Topic6\", \"Topic6\", \"Topic6\", \"Topic6\", \"Topic6\", \"Topic6\", \"Topic6\", \"Topic6\", \"Topic7\", \"Topic7\", \"Topic7\", \"Topic7\", \"Topic7\", \"Topic7\", \"Topic7\", \"Topic7\", \"Topic7\", \"Topic7\", \"Topic7\", \"Topic7\", \"Topic7\", \"Topic7\", \"Topic7\", \"Topic7\", \"Topic7\", \"Topic7\", \"Topic7\", \"Topic7\", \"Topic7\", \"Topic7\", \"Topic7\", \"Topic7\", \"Topic7\", \"Topic7\", \"Topic7\", \"Topic7\", \"Topic7\", \"Topic7\", \"Topic7\", \"Topic7\", \"Topic7\", \"Topic7\", \"Topic7\", \"Topic7\", \"Topic7\", \"Topic7\", \"Topic7\", \"Topic7\", \"Topic7\", \"Topic7\", \"Topic7\", \"Topic7\", \"Topic7\", \"Topic7\", \"Topic7\", \"Topic7\", \"Topic7\", \"Topic7\", \"Topic7\", \"Topic7\", \"Topic7\", \"Topic7\", \"Topic7\", \"Topic7\", \"Topic7\", \"Topic7\", \"Topic7\", \"Topic7\", \"Topic7\", \"Topic7\", \"Topic7\", \"Topic7\", \"Topic7\", \"Topic7\", \"Topic7\", \"Topic7\", \"Topic7\", \"Topic7\", \"Topic8\", \"Topic8\", \"Topic8\", \"Topic8\", \"Topic8\", \"Topic8\", \"Topic8\", \"Topic8\", \"Topic8\", \"Topic8\", \"Topic8\", \"Topic8\", \"Topic8\", \"Topic8\", \"Topic8\", \"Topic8\", \"Topic8\", \"Topic8\", \"Topic8\", \"Topic8\", \"Topic8\", \"Topic8\", \"Topic8\", \"Topic8\", \"Topic8\", \"Topic8\", \"Topic8\", \"Topic8\", \"Topic8\", \"Topic8\", \"Topic8\", \"Topic8\", \"Topic8\", \"Topic8\", \"Topic8\", \"Topic8\", \"Topic8\", \"Topic8\", \"Topic8\", \"Topic8\", \"Topic8\", \"Topic8\", \"Topic8\", \"Topic8\", \"Topic8\", \"Topic8\", \"Topic8\", \"Topic8\", \"Topic8\", \"Topic8\", \"Topic8\", \"Topic8\", \"Topic8\", \"Topic8\", \"Topic8\", \"Topic8\", \"Topic8\", \"Topic8\", \"Topic8\", \"Topic8\", \"Topic8\", \"Topic8\", \"Topic8\", \"Topic8\", \"Topic8\", \"Topic8\", \"Topic8\", \"Topic8\", \"Topic8\", \"Topic8\", \"Topic8\", \"Topic8\", \"Topic8\", \"Topic8\", \"Topic8\", \"Topic9\", \"Topic9\", \"Topic9\", \"Topic9\", \"Topic9\", \"Topic9\", \"Topic9\", \"Topic9\", \"Topic9\", \"Topic9\", \"Topic9\", \"Topic9\", \"Topic9\", \"Topic9\", \"Topic9\", \"Topic9\", \"Topic9\", \"Topic9\", \"Topic9\", \"Topic9\", \"Topic9\", \"Topic9\", \"Topic9\", \"Topic9\", \"Topic9\", \"Topic9\", \"Topic9\", \"Topic9\", \"Topic9\", \"Topic9\", \"Topic9\", \"Topic9\", \"Topic9\", \"Topic9\", \"Topic9\", \"Topic9\", \"Topic9\", \"Topic9\", \"Topic9\", \"Topic9\", \"Topic9\", \"Topic9\", \"Topic9\", \"Topic9\", \"Topic9\", \"Topic9\", \"Topic9\", \"Topic9\", \"Topic9\", \"Topic9\", \"Topic9\", \"Topic9\", \"Topic9\", \"Topic9\", \"Topic9\", \"Topic9\", \"Topic9\", \"Topic9\", \"Topic9\", \"Topic9\", \"Topic9\", \"Topic9\", \"Topic9\", \"Topic9\", \"Topic9\", \"Topic9\"], \"logprob\": [30.0, 29.0, 28.0, 27.0, 26.0, 25.0, 24.0, 23.0, 22.0, 21.0, 20.0, 19.0, 18.0, 17.0, 16.0, 15.0, 14.0, 13.0, 12.0, 11.0, 10.0, 9.0, 8.0, 7.0, 6.0, 5.0, 4.0, 3.0, 2.0, 1.0, -6.9397, -7.1362, -7.2119, -7.2733, -7.3458, -7.2447, -7.2341, -7.8185, -7.8365, -7.5795, -7.5103, -7.6768, -7.8118, -7.559, -7.4525, -7.9179, -7.6311, -7.5093, -6.8698, -8.0172, -7.928, -7.7442, -7.8232, -7.9451, -8.0234, -7.9072, -7.0943, -7.9549, -7.6815, -8.1358, -6.2098, -6.5027, -7.7563, -7.079, -7.3742, -7.5758, -6.9649, -7.2761, -6.7822, -7.3295, -5.3879, -5.5175, -6.5413, -6.7003, -6.5467, -6.8166, -6.483, -6.2484, -5.9212, -6.7432, -6.1332, -5.631, -5.6773, -5.9501, -6.8208, -5.1072, -5.242, -5.2175, -5.9158, -5.5836, -6.5381, -5.682, -5.9356, -5.7871, -5.706, -5.5233, -5.4866, -5.5676, -5.6896, -5.7575, -6.0434, -5.7135, -6.1063, -5.749, -5.6606, -6.139, -5.7204, -5.9264, -6.035, -6.1015, -6.0991, -6.7157, -6.416, -6.9018, -7.3182, -7.2962, -7.6126, -7.4956, -6.9112, -7.0258, -7.4271, -7.7982, -7.1962, -7.2285, -7.8686, -7.4816, -7.8174, -7.759, -7.7137, -7.611, -7.5731, -7.636, -7.636, -7.6954, -8.0394, -7.4031, -8.0239, -7.9584, -7.6361, -7.8178, -7.8178, -7.4493, -7.4601, -6.3171, -7.3112, -7.2777, -6.3931, -6.9238, -7.3295, -7.0146, -5.6836, -6.7016, -7.1575, -5.596, -7.0042, -7.0729, -5.8492, -5.5682, -5.6176, -6.04, -4.844, -5.3479, -6.0538, -5.1747, -6.0871, -5.5689, -6.2856, -5.3688, -5.9337, -6.2732, -5.3202, -5.4498, -5.9867, -5.6215, -5.7784, -5.5017, -5.4516, -5.9368, -6.1055, -5.8931, -6.0338, -5.8427, -5.7165, -5.6466, -5.7448, -5.8936, -5.897, -5.7878, -6.0309, -6.4605, -6.5191, -6.5924, -6.6716, -6.7575, -7.3348, -7.5321, -7.6881, -7.6554, -7.7535, -7.7535, -5.9449, -7.8964, -7.5275, -7.9233, -7.5882, -7.8786, -7.8256, -7.3236, -7.9821, -8.0469, -8.0469, -8.0469, -8.0469, -8.0469, -7.8389, -7.472, -8.117, -7.9522, -8.1263, -7.4133, -5.9884, -7.6364, -6.6011, -7.4542, -7.3366, -7.4636, -7.6983, -6.6748, -6.4633, -6.5737, -7.1156, -5.716, -7.2336, -6.6819, -5.6086, -5.7919, -6.6875, -6.8765, -6.3228, -5.1864, -4.9912, -4.7709, -6.6322, -4.794, -5.5612, -5.9957, -5.649, -5.9863, -5.9573, -5.4777, -5.9168, -5.4396, -5.5904, -5.8943, -5.5698, -5.6666, -5.8748, -5.2808, -5.3738, -5.8814, -5.6835, -5.4936, -5.7225, -5.8459, -5.5838, -5.6107, -5.7104, -5.5814, -5.7299, -5.6003, -5.7944, -5.6869, -5.7646, -5.7938, -5.7951, -6.2466, -6.3901, -6.7765, -7.3213, -7.0411, -7.2801, -7.2817, -7.4175, -7.2953, -7.2941, -7.5376, -6.5675, -7.2632, -7.4051, -7.8158, -7.8158, -7.8158, -7.8061, -7.9023, -7.4, -5.7584, -7.9288, -7.9171, -7.9322, -7.9169, -7.9272, -7.9261, -7.9266, -7.9363, -7.9432, -6.8775, -5.6139, -7.6085, -6.8939, -6.3924, -6.8644, -7.3472, -5.6761, -6.7439, -7.2557, -4.7879, -6.7633, -4.5222, -7.1279, -6.9188, -5.3395, -6.5102, -6.8686, -5.8037, -6.48, -5.809, -6.3066, -6.0149, -5.5217, -6.0102, -5.8605, -5.2928, -6.194, -5.5508, -5.3571, -5.3692, -5.8812, -5.495, -5.4431, -5.5088, -6.1069, -5.7125, -5.7866, -5.7196, -5.8122, -5.8505, -6.0777, -5.9783, -6.0097, -5.9373, -6.0315, -6.0145, -6.0284, -6.4648, -6.6162, -6.6188, -5.0617, -7.0054, -6.8424, -6.8742, -5.9169, -7.2869, -7.3052, -7.3166, -7.0934, -7.3345, -7.3495, -7.3543, -7.3591, -7.6712, -7.6534, -7.657, -7.6862, -7.7039, -7.7005, -7.0942, -7.7164, -7.7011, -7.7093, -6.4723, -7.7412, -7.7165, -7.7331, -6.0443, -6.6949, -6.7073, -6.3068, -6.8754, -7.3087, -6.4883, -7.3575, -5.115, -6.2173, -5.492, -6.8012, -5.0676, -4.8444, -6.6203, -5.6388, -6.2091, -5.2555, -4.769, -5.5236, -6.2448, -5.3587, -5.6508, -5.8931, -5.2039, -5.4749, -6.1283, -5.3746, -5.4293, -5.5543, -6.0458, -5.5038, -5.8433, -6.081, -5.9333, -6.0493, -6.0038, -5.9569, -6.0171, -6.0503, -6.0804, -6.0787, -6.7253, -6.1501, -6.604, -6.3902, -6.9018, -6.2077, -6.9161, -6.9203, -7.106, -7.1107, -7.11, -7.1235, -7.3808, -7.2795, -7.1677, -7.3883, -7.3922, -7.3982, -7.1846, -7.4058, -7.1987, -7.4371, -7.4495, -7.4488, -7.4473, -7.7536, -7.7553, -7.7615, -7.7574, -7.7544, -6.9045, -7.2926, -6.2005, -7.4987, -7.1394, -6.7293, -6.4019, -6.1622, -6.9425, -6.7699, -6.3262, -5.8313, -6.5958, -5.2071, -5.6251, -7.0118, -6.0664, -6.3943, -5.9213, -6.4156, -5.683, -5.9473, -5.6425, -5.9321, -5.8113, -5.922, -6.0222, -6.1389, -5.8352, -5.8441, -5.8561, -6.1371, -6.1289, -5.9975, -6.0945, -6.0069, -5.9699, -6.0473, -6.0272, -6.0942, -6.106, -6.1545, -6.1957, -6.6736, -6.8854, -6.912, -6.9173, -7.256, -7.2906, -7.2999, -7.3288, -7.314, -7.0457, -7.3354, -5.1398, -6.6672, -6.9159, -6.9987, -7.8727, -7.8782, -7.8787, -7.8827, -7.8796, -7.8842, -7.8859, -5.7517, -7.903, -7.8982, -7.891, -7.8934, -7.8965, -7.9012, -7.9085, -6.8998, -6.4534, -3.5559, -6.8897, -7.2602, -7.0629, -6.2149, -7.3175, -5.8417, -5.6464, -7.0486, -7.3137, -5.9849, -5.8659, -6.5997, -5.1726, -5.4987, -6.1481, -5.2721, -5.1433, -5.836, -5.7709, -5.8498, -5.8345, -5.8372, -6.0394, -6.1317, -5.8207, -5.8608, -6.0281, -5.8058, -5.7345, -6.1695, -6.1092, -5.8005, -6.0775, -6.0183, -6.1375, -6.0152, -6.0691, -8.7395, -8.4457, -8.746, -8.762, -8.7776, -8.0703, -8.7813, -8.8018, -8.8058, -8.8142, -8.8182, -8.8225, -8.8213, -8.8253, -8.825, -8.8467, -8.8864, -8.8866, -8.8885, -8.8956, -8.9037, -8.9036, -8.9122, -8.6264, -9.2801, -9.2801, -9.2801, -9.2801, -9.2801, -9.2801, -8.9398, -8.9429, -8.9517, -8.9554, -8.6957, -8.9911, -8.3783, -6.5512, -8.5017, -8.416, -8.5232, -6.8805, -7.0686, -7.826, -7.2948, -7.328, -7.1384, -7.709, -7.412, -7.6736, -7.6376, -7.3921, -7.4215, -7.5556, -7.7139, -7.6527, -7.5901, -7.4547, -7.493, -7.8136, -7.9044, -7.5016, -7.6475, -7.5092, -7.6996, -7.8038, -7.7202, -7.7205, -7.6801, -7.7704, -7.7398, -7.6807, -7.7377, -7.7267, -7.7422, -9.2451, -9.2451, -9.2451, -9.2451, -9.2451, -9.2451, -9.2451, -9.2451, -9.2451, -9.2451, -9.2451, -9.2451, -9.2451, -9.2451, -9.2451, -9.2451, -9.2451, -9.2451, -9.2451, -9.2451, -9.2451, -9.2451, -9.2451, -9.2451, -9.2451, -9.2451, -9.2451, -9.2451, -9.2451, -9.2451, -7.2861, -7.4264, -7.5296, -7.3699, -7.5334, -7.6005, -7.4214, -7.4839, -7.8336, -7.7946, -7.6924, -7.5915, -7.6717, -7.57, -7.6258, -8.0803, -8.444, -7.8002, -7.59, -7.5624, -7.8892, -7.704, -7.6621, -7.7862, -7.8527, -7.8281, -9.1582, -8.0314, -7.8116, -7.746, -8.429, -8.3761, -8.0403, -8.0428, -7.9437, -8.0302], \"loglift\": [30.0, 29.0, 28.0, 27.0, 26.0, 25.0, 24.0, 23.0, 22.0, 21.0, 20.0, 19.0, 18.0, 17.0, 16.0, 15.0, 14.0, 13.0, 12.0, 11.0, 10.0, 9.0, 8.0, 7.0, 6.0, 5.0, 4.0, 3.0, 2.0, 1.0, 0.737, 0.7345, 0.7322, 0.7314, 0.7293, 0.729, 0.7214, 0.7159, 0.7158, 0.7149, 0.713, 0.7112, 0.7109, 0.7103, 0.71, 0.7092, 0.709, 0.7085, 0.708, 0.7079, 0.7074, 0.7067, 0.7064, 0.7041, 0.7037, 0.7028, 0.702, 0.7018, 0.7011, 0.7009, 0.6752, 0.6645, 0.6967, 0.6731, 0.673, 0.6845, 0.6428, 0.6612, 0.6216, 0.664, 0.4847, 0.4888, 0.5844, 0.5932, 0.5729, 0.5918, 0.5402, 0.4992, 0.4403, 0.5713, 0.4657, 0.3624, 0.3526, 0.3949, 0.5721, 0.2138, 0.2398, 0.2126, 0.3571, 0.2316, 0.4989, 0.1704, 0.2425, 0.1679, 0.1246, 0.044, -0.033, -0.0382, 0.0011, 0.0008, 0.1781, -0.0674, 0.164, -0.141, -0.2246, 0.1563, -0.3836, -0.1685, -0.0346, -0.0703, -0.1168, 1.361, 1.3481, 1.3444, 1.3434, 1.3338, 1.3305, 1.33, 1.3276, 1.322, 1.3211, 1.3199, 1.3192, 1.319, 1.3141, 1.3139, 1.3136, 1.3126, 1.3114, 1.3112, 1.31, 1.3096, 1.3096, 1.3074, 1.3047, 1.3046, 1.3039, 1.3037, 1.3034, 1.3027, 1.3027, 1.3021, 1.2943, 1.2581, 1.2881, 1.2832, 1.2461, 1.2505, 1.2809, 1.2401, 1.0778, 1.1917, 1.2443, 1.0148, 1.2215, 1.2246, 0.9339, 0.8159, 0.784, 0.8743, 0.4928, 0.5964, 0.7888, 0.3547, 0.7234, 0.4623, 0.7534, 0.2391, 0.5394, 0.7291, 0.1335, 0.1962, 0.518, 0.209, 0.3038, 0.0656, -0.0157, 0.4028, 0.552, 0.3299, 0.471, 0.2111, 0.0414, -0.2164, -0.0541, 0.1589, 0.1035, -0.306, 0.1275, 1.76, 1.7414, 1.7406, 1.7397, 1.7386, 1.7311, 1.7158, 1.7063, 1.7021, 1.7006, 1.7006, 1.6964, 1.6959, 1.6895, 1.6851, 1.6831, 1.6802, 1.6794, 1.6793, 1.6739, 1.6724, 1.6724, 1.6724, 1.6724, 1.6724, 1.6701, 1.6678, 1.663, 1.6624, 1.6573, 1.6532, 1.6374, 1.6516, 1.5864, 1.6388, 1.6303, 1.6299, 1.6466, 1.5443, 1.5186, 1.5201, 1.581, 1.3668, 1.5892, 1.487, 1.2407, 1.2162, 1.3911, 1.4391, 1.2539, 0.8473, 0.7672, 0.665, 1.3465, 0.527, 0.7576, 0.9654, 0.7836, 0.9539, 0.9106, 0.5843, 0.8502, 0.5427, 0.5936, 0.7998, 0.4828, 0.549, 0.7326, 0.056, 0.0799, 0.7066, 0.424, 0.1525, 0.4704, 0.6329, 0.1741, 0.08, 0.2901, -0.052, 0.3239, -0.0331, 0.4482, -0.2051, 0.0878, 0.1505, -0.3649, 2.9464, 2.9201, 2.9076, 2.827, 2.8076, 2.8024, 2.8022, 2.8011, 2.7949, 2.792, 2.7734, 2.754, 2.743, 2.7413, 2.7073, 2.7073, 2.7073, 2.6985, 2.687, 2.6846, 2.6807, 2.6742, 2.6741, 2.6719, 2.6677, 2.6662, 2.6622, 2.6604, 2.6602, 2.6581, 2.6496, 2.6303, 2.648, 2.6125, 2.5538, 2.5747, 2.6122, 2.3302, 2.4759, 2.5479, 1.9407, 2.3412, 1.5398, 2.4559, 2.3463, 1.423, 2.0941, 2.3057, 1.4976, 2.0009, 1.2806, 1.7239, 1.4088, 0.8822, 1.3947, 1.1907, 0.3152, 1.4039, 0.5017, 0.0965, 0.061, 0.8698, 0.1957, 0.0387, 0.0584, 1.1625, 0.3212, 0.2673, 0.0383, 0.2953, 0.365, 0.9418, 0.5374, 0.4229, -0.1221, 0.5363, -0.3685, -0.6916, 3.2342, 3.2159, 3.2115, 3.2019, 3.1519, 3.1298, 3.122, 3.0923, 3.0847, 3.0817, 3.0718, 3.051, 3.0306, 3.0228, 3.0164, 3.0012, 2.9956, 2.9947, 2.9912, 2.9825, 2.9658, 2.9647, 2.9625, 2.953, 2.9477, 2.9325, 2.9295, 2.9233, 2.9223, 2.9175, 2.7753, 2.7937, 2.789, 2.7126, 2.7754, 2.8514, 2.6242, 2.8318, 1.9517, 2.3383, 1.834, 2.5329, 1.5899, 1.4301, 2.4259, 1.7619, 2.1402, 1.3519, 0.5677, 1.2273, 1.933, 0.8839, 1.2171, 1.2931, 0.232, 0.5588, 1.6041, 0.2333, 0.3286, 0.428, 1.4315, -0.0736, 0.5911, 1.3613, 0.6679, 0.6549, 0.2664, -0.1417, 0.0128, 0.0023, 0.1125, -0.5969, 3.3546, 3.3459, 3.2762, 3.27, 3.26, 3.2537, 3.2401, 3.2329, 3.2199, 3.2149, 3.2117, 3.2036, 3.1546, 3.1475, 3.1431, 3.1427, 3.1333, 3.1299, 3.1274, 3.1243, 3.1178, 3.0844, 3.0795, 3.0704, 3.0678, 3.0373, 3.0305, 3.0284, 3.0235, 3.0234, 3.0011, 2.9969, 2.9148, 3.0093, 2.9619, 2.8988, 2.8223, 2.7716, 2.7603, 2.5854, 1.9894, 1.3602, 2.2193, 0.5508, 0.8848, 2.6386, 1.2305, 1.6609, 0.6493, 1.5696, 0.0077, 0.5684, -0.3057, 0.2608, -0.1652, 0.1117, 0.3619, 0.6226, -0.3534, -0.4139, -0.4024, 0.4929, 0.4462, -0.1823, 0.2243, -0.3989, -0.6489, -0.2167, -0.5913, -0.1392, -0.5388, -0.1723, -0.1432, 3.8487, 3.7834, 3.7276, 3.7215, 3.6313, 3.6264, 3.621, 3.6107, 3.5535, 3.5522, 3.5207, 3.4947, 3.439, 3.3531, 3.3455, 3.3347, 3.332, 3.3302, 3.3295, 3.3293, 3.3293, 3.3265, 3.3232, 3.3206, 3.3193, 3.3191, 3.3162, 3.3162, 3.3156, 3.3132, 3.2948, 3.2616, 2.9488, 3.0335, 3.043, 2.9116, 2.4501, 2.9833, 2.0066, 1.5942, 2.6851, 2.8907, 1.8371, 1.7161, 2.2795, 0.8799, 1.1588, 1.7799, 0.6723, 0.4646, 1.3479, 1.0731, 1.2015, 1.1002, 1.0976, 1.3793, 1.3192, 0.5189, 0.6124, 0.9605, 0.2765, -0.0438, 1.2136, 0.9654, -0.3703, 0.8074, 0.4161, 0.9389, -0.2573, -0.3108, 2.4991, 2.4938, 2.4918, 2.4724, 2.4571, 2.4521, 2.4504, 2.429, 2.423, 2.4175, 2.4121, 2.4063, 2.4063, 2.4023, 2.4021, 2.3771, 2.3366, 2.3352, 2.3326, 2.328, 2.3182, 2.3182, 2.3094, 2.2946, 2.2863, 2.2863, 2.2863, 2.2863, 2.2863, 2.2863, 2.2812, 2.2745, 2.2651, 2.2589, 2.2213, 2.2216, 1.7369, -0.0465, 1.7991, 1.6902, 1.6812, -1.2726, -1.3779, -0.004, -1.3505, -1.2754, -1.8017, -0.525, -1.654, -0.9122, -1.1215, -1.9384, -1.8921, -1.4733, -1.1065, -1.3131, -1.5564, -2.0188, -1.9257, -0.825, -0.5213, -2.0714, -1.5937, -2.1882, -1.457, -1.0368, -1.4457, -1.5276, -1.8649, -1.3864, -1.6323, -2.1989, -1.7554, -2.0806, -1.8898, 2.3213, 2.3213, 2.3213, 2.3213, 2.3213, 2.3213, 2.3213, 2.3213, 2.3213, 2.3213, 2.3213, 2.3213, 2.3213, 2.3213, 2.3213, 2.3213, 2.3213, 2.3213, 2.3213, 2.3213, 2.3213, 2.3213, 2.3213, 2.3213, 2.3213, 2.3213, 2.3213, 2.3213, 2.3213, 2.3213, -0.7815, -1.3927, -1.2551, -1.7619, -1.4796, -1.5479, -2.0846, -2.048, -1.1761, -1.3214, -1.6101, -1.9008, -1.7274, -2.0028, -1.8679, -0.6795, 0.1906, -1.5577, -2.1598, -2.2414, -1.3794, -2.0579, -2.2085, -1.9338, -1.7452, -1.8458, 2.0628, -1.3272, -2.0533, -2.2642, -0.1848, -0.3699, -1.5866, -1.6103, -2.4143, -1.7296]}, \"token.table\": {\"Topic\": [5, 1, 2, 3, 4, 5, 6, 1, 2, 3, 4, 3, 4, 1, 3, 1, 6, 2, 6, 1, 2, 3, 4, 1, 5, 2, 5, 1, 6, 6, 1, 5, 1, 2, 3, 4, 1, 6, 1, 2, 2, 1, 3, 3, 4, 4, 5, 6, 1, 2, 7, 1, 1, 2, 3, 4, 5, 6, 1, 3, 5, 6, 7, 1, 2, 3, 6, 1, 2, 4, 1, 2, 3, 4, 5, 6, 7, 5, 1, 2, 3, 4, 4, 2, 5, 5, 2, 7, 1, 3, 1, 2, 3, 4, 1, 3, 1, 2, 3, 4, 5, 6, 7, 2, 1, 2, 1, 2, 3, 5, 6, 7, 6, 3, 1, 2, 3, 4, 5, 6, 1, 3, 5, 6, 5, 1, 2, 3, 4, 5, 6, 7, 1, 2, 3, 4, 5, 6, 7, 1, 4, 5, 1, 2, 3, 4, 5, 6, 7, 2, 1, 2, 3, 4, 5, 6, 7, 1, 2, 7, 1, 2, 3, 4, 5, 6, 1, 2, 3, 4, 5, 6, 7, 2, 3, 3, 1, 2, 3, 6, 3, 1, 1, 3, 7, 2, 3, 5, 7, 1, 2, 3, 4, 6, 7, 1, 6, 1, 2, 3, 4, 5, 6, 7, 1, 2, 3, 4, 5, 6, 7, 2, 3, 5, 1, 4, 1, 2, 3, 6, 1, 2, 3, 5, 6, 1, 2, 3, 4, 5, 6, 7, 1, 2, 3, 4, 5, 6, 1, 2, 3, 4, 5, 6, 5, 6, 5, 4, 5, 1, 2, 3, 4, 5, 6, 7, 4, 4, 1, 2, 4, 2, 3, 1, 2, 3, 4, 5, 1, 2, 6, 1, 2, 3, 4, 3, 3, 1, 2, 3, 4, 5, 6, 7, 1, 2, 3, 4, 5, 6, 5, 7, 4, 3, 3, 3, 2, 3, 4, 6, 7, 3, 5, 1, 1, 3, 4, 5, 6, 1, 2, 3, 4, 5, 6, 2, 1, 2, 3, 4, 5, 6, 7, 1, 2, 3, 4, 5, 6, 7, 1, 2, 4, 1, 2, 5, 6, 3, 1, 2, 3, 7, 1, 2, 3, 4, 5, 6, 7, 1, 2, 3, 4, 5, 6, 7, 1, 2, 3, 4, 5, 6, 2, 3, 6, 1, 2, 3, 4, 5, 6, 7, 3, 6, 7, 1, 2, 3, 4, 7, 1, 2, 3, 4, 5, 6, 7, 1, 2, 3, 4, 5, 6, 7, 1, 2, 3, 4, 5, 6, 7, 4, 1, 2, 3, 4, 5, 1, 2, 3, 4, 5, 6, 7, 2, 6, 7, 5, 6, 1, 5, 6, 1, 2, 3, 4, 5, 6, 7, 1, 2, 3, 4, 6, 1, 2, 3, 4, 5, 6, 7, 1, 2, 3, 4, 5, 6, 1, 2, 3, 4, 5, 6, 1, 2, 3, 4, 5, 6, 1, 2, 3, 1, 2, 3, 4, 5, 6, 7, 1, 2, 3, 4, 5, 6, 4, 1, 2, 1, 2, 3, 4, 6, 1, 1, 2, 1, 2, 3, 4, 5, 6, 7, 1, 4, 4, 1, 2, 3, 4, 5, 6, 7, 5, 1, 3, 5, 1, 2, 3, 4, 5, 6, 1, 2, 3, 4, 5, 6, 7, 2, 1, 2, 3, 4, 5, 6, 1, 2, 3, 4, 5, 6, 7, 2, 1, 2, 3, 4, 5, 6, 7, 1, 2, 3, 4, 5, 6, 7, 2, 1, 2, 3, 4, 5, 6, 7, 6, 2, 1, 2, 3, 4, 5, 6, 7, 4, 6, 7, 1, 1, 2, 3, 4, 5, 6, 7, 6, 1, 2, 3, 6, 2, 1, 2, 3, 4, 5, 6, 2, 3, 7, 3, 1, 4, 6, 1, 1, 1, 2, 2, 5, 1, 2, 3, 4, 6, 1, 1, 2, 3, 4, 5, 6, 7, 3, 1, 2, 3, 4, 5, 7, 1, 2, 4, 1, 1, 2, 3, 4, 5, 6, 6, 2, 1, 2, 3, 4, 5, 6, 7, 1, 2, 3, 4, 5, 6, 6, 1, 2, 3, 4, 5, 6, 7, 4, 1, 2, 3, 4, 5, 6, 1, 2, 1, 1, 2, 3, 4, 5, 6, 7, 4, 1, 5, 5, 3, 1, 2, 3, 4, 5, 6, 5, 1, 4, 2, 1, 2, 3, 4, 5, 6, 6, 4, 2, 1, 2, 3, 4, 5, 6, 2, 2, 3, 1, 2, 3, 4, 6, 7, 1, 2, 1, 7, 1, 2, 4, 1, 2, 3, 4, 5, 6, 7, 1, 2, 3, 4, 4, 6, 1, 2, 3, 4, 5, 6, 7, 1, 2, 3, 4, 5, 6, 4, 6, 1, 2, 3, 4, 5, 6, 7, 1, 3, 5, 6, 1, 1, 2, 3, 2, 1, 2, 3, 7, 7, 1, 2, 3, 4, 5, 6, 7, 1, 2, 3, 4, 5, 6, 5, 6, 2, 3, 5, 1, 2, 3, 4, 5, 6, 5, 1, 2, 3, 4, 5, 6, 7, 1, 2, 3, 4, 2, 3, 6, 3, 4, 1, 3, 5, 3, 1, 3, 4, 1, 2, 3, 4, 5, 7, 2, 4, 1, 2, 3, 4, 5, 6, 7, 1, 7, 5, 4, 1, 2, 1, 2, 3, 4, 5, 6, 5, 1, 2, 3, 6, 1, 2, 5, 1, 2, 3, 4, 5, 7, 1, 2, 1, 2, 3, 4, 5, 6, 7, 1, 2, 3, 4, 5, 6, 6, 1, 6, 4, 6, 5, 1, 2, 3, 4, 5, 6, 7, 4, 1, 2, 3, 4, 5, 6, 2, 2, 7, 3, 3, 1, 2, 3, 4, 5, 6, 7, 1, 2, 3, 4, 5, 6, 6, 3, 2, 3, 3, 1, 2, 1, 4, 7, 1, 4, 1, 2, 3, 4, 7, 2, 1, 2, 3, 4, 5, 6, 7, 1, 1, 2, 3, 4, 5, 6, 7, 1, 2, 3, 6, 1, 2, 3, 6, 1, 2, 3, 4, 5, 2, 5, 4, 6, 1, 2, 3, 1, 2, 3, 5, 6, 1, 2, 2, 3, 2, 1, 1, 1, 6, 1, 2, 3, 4, 6, 2, 6, 1, 1, 2, 3, 6, 1, 2, 3, 4, 5, 6, 7, 1, 2, 3, 4, 5, 6, 1, 2, 3, 7, 3, 3, 1, 2, 3, 4, 5, 6, 4, 5, 6, 1, 2, 3, 4, 5, 6, 7, 6, 1, 2, 3, 6, 7, 1, 2, 3, 4, 5, 6, 7, 1, 2, 3, 4, 5, 6, 1, 2, 3, 4, 5, 6, 1, 2, 3, 4, 5, 6, 1, 2, 3, 4, 5, 6, 6, 2, 3, 1, 2, 3, 4, 5, 6, 7, 4, 1, 2, 3, 4, 5, 6, 1, 2, 3, 4, 5, 6, 1, 2, 3, 4, 5, 6, 1, 2, 3, 4, 5, 6, 7, 1, 2, 1, 2, 3, 4, 5, 6, 7, 6, 1, 2, 3, 4, 1, 2, 3, 4, 5, 6, 7, 1, 2, 3, 4, 5, 6, 7, 1, 2, 3, 4, 5, 6, 7, 1, 6, 7, 4, 1, 3, 4, 1, 1, 2, 3, 4, 5, 6, 7, 5, 1, 3, 1, 2, 3, 4, 5, 6, 7, 1, 2, 3, 4, 5, 6, 1, 1, 2, 3, 5, 7, 1, 2, 3, 4, 5, 6, 7, 1, 2, 3, 4, 5, 6, 7, 1, 1, 2, 3, 4, 5, 6, 7, 1, 2, 3, 4, 5, 6, 7, 1, 2, 3, 4, 6, 3, 1, 4, 1, 2, 3, 5, 6, 1, 2, 3, 4, 6, 1, 2, 3, 4, 3, 2, 5, 7, 1, 2, 3, 4, 5, 6, 4, 5, 2, 6, 6, 1, 4, 4, 1, 2, 3, 1, 3, 6, 1, 1, 2, 3, 5, 1, 2, 5, 1, 2, 3, 4, 5, 6, 1, 1, 3, 2, 1, 2, 3, 5, 1, 2, 1, 4, 1, 2, 3, 4, 5, 6, 7, 1, 2, 3, 4, 5, 6, 7, 3, 2, 3, 5, 6, 4, 1, 2, 3, 4, 5, 6, 1, 2, 3, 4, 5, 6, 7, 7, 1, 2, 3, 4, 5, 6, 7, 5, 1, 2, 3, 4, 5, 6, 7, 1, 2, 3, 4, 5, 6, 7, 1, 2, 3, 4, 5, 6, 7], \"Freq\": [0.5646221396551968, 0.3327889945084332, 0.055464832418072194, 0.277324162090361, 0.055464832418072194, 0.277324162090361, 0.6341249602827548, 0.06067072740809587, 0.1820121822242876, 0.06067072740809587, 0.6673780014890546, 0.8529768006295777, 0.7888136145717158, 0.06423571370170995, 0.9635357055256494, 0.38601448216182044, 0.38601448216182044, 0.971328629624961, 0.48682909072706376, 0.13245710596182605, 0.13245710596182605, 0.13245710596182605, 0.5298284238473042, 0.30585327497009784, 0.6117065499401957, 0.34661088169972454, 0.5199163225495869, 0.20573647595571284, 0.8229459038228514, 0.4910721609813038, 0.9824272070516138, 0.5640509946495591, 0.8276437231428543, 0.0985290146598636, 0.01970580293197272, 0.01970580293197272, 0.2629560263795059, 0.5259120527590118, 0.913359676907992, 0.05074220427266622, 0.9095545455513537, 0.9487525233634516, 0.0256419600909041, 0.7849551762283026, 0.07849551762283026, 0.33915171353343365, 0.6783034270668673, 0.8016363831226264, 0.44288019165722264, 0.22144009582861132, 0.22144009582861132, 0.9512129717732623, 0.29010526542212867, 0.04351578981331931, 0.5512000043020445, 0.014505263271106435, 0.04351578981331931, 0.04351578981331931, 0.05090723368044964, 0.10181446736089927, 0.8145157388871942, 0.05090723368044964, 0.7395073320676874, 0.8441673189606672, 0.08658126348314536, 0.04329063174157268, 0.02164531587078634, 0.9518882031589797, 0.916831168232584, 0.632582495169043, 0.26295178382464124, 0.22143308111548735, 0.42902659466125675, 0.013839567569717959, 0.027679135139435918, 0.027679135139435918, 0.013839567569717959, 0.8326698105152132, 0.07682140549995925, 0.038410702749979625, 0.7298033522496129, 0.07682140549995925, 0.8429475165846968, 0.20380915948597278, 0.6114274784579183, 0.837412584844727, 0.39043543710789846, 0.39043543710789846, 0.929917468787114, 0.8370658261983415, 0.7763690298510475, 0.13437156285883514, 0.029860347301963366, 0.04479052095294505, 0.9748001955908213, 0.9463092688087759, 0.3134391215593544, 0.2507512972474835, 0.2507512972474835, 0.020895941437290292, 0.13234096243617186, 0.027861255249720388, 0.006965313812430097, 0.8930396348737454, 0.09312177557463981, 0.8846568679590783, 0.15209870894518948, 0.4562961268355684, 0.07604935447259474, 0.07604935447259474, 0.07604935447259474, 0.15209870894518948, 0.4887779136885019, 0.9752579167295887, 0.4554098614481744, 0.2753641022709892, 0.21711400371366454, 0.021181854020845322, 0.010590927010422661, 0.01588639051563399, 0.2045063535305251, 0.3408439225508752, 0.3408439225508752, 0.06816878451017504, 0.8509722531579221, 0.7112977799973954, 0.14225955599947906, 0.07112977799973953, 0.014225955599947908, 0.014225955599947908, 0.014225955599947908, 0.04267786679984372, 0.4986159488538261, 0.150525569465306, 0.20697265801479575, 0.047039240457908124, 0.0376313923663265, 0.047039240457908124, 0.009407848091581624, 0.23747680257034817, 0.47495360514069634, 0.5491081585257328, 0.40771263731628976, 0.3147255445950307, 0.13590421243876327, 0.06437567957625628, 0.03934069307437884, 0.017882133215626744, 0.021458559858752092, 0.9506409856303087, 0.3949050932711669, 0.24165834065847527, 0.2475524465281942, 0.06483516456690801, 0.029470529348594548, 0.017682317609156728, 0.005894105869718909, 0.5634836805699523, 0.2817418402849762, 0.2817418402849762, 0.43370273287666766, 0.08131926241437519, 0.4201495224742718, 0.02710642080479173, 0.02710642080479173, 0.013553210402395864, 0.32663363925591404, 0.12952713280837969, 0.2928439524363367, 0.21400134985732297, 0.011263228939859104, 0.016894843409788658, 0.005631614469929552, 0.8909163858620758, 0.06853202968169814, 0.8167737433996245, 0.8099313109275041, 0.16198626218550083, 0.01472602383504553, 0.01472602383504553, 0.9119683923154681, 0.9779277302910667, 0.26762737069643894, 0.26762737069643894, 0.26762737069643894, 0.14848193682178223, 0.4454458104653467, 0.4454458104653467, 0.5478378239309389, 0.4758983653169392, 0.16473404953278664, 0.25625296593989033, 0.018303783281420738, 0.018303783281420738, 0.07321513312568295, 0.31979471859268355, 0.6395894371853671, 0.3695247497820686, 0.09724335520580754, 0.21393538145277657, 0.21393538145277657, 0.03889734208232301, 0.03889734208232301, 0.019448671041161505, 0.4806075265226345, 0.2945659033525824, 0.09302081158502604, 0.062013874390017355, 0.031006937195008678, 0.015503468597504339, 0.031006937195008678, 0.11897801511460768, 0.356934045343823, 0.4759120604584307, 0.37968360722960764, 0.5062448096394768, 0.767056879086064, 0.22372492306676867, 0.005326783882542111, 0.005326783882542111, 0.1389296670962445, 0.0463098890320815, 0.740958224513304, 0.0463098890320815, 0.0463098890320815, 0.4109383104750065, 0.26150619757500415, 0.19612964818125309, 0.07471605645000118, 0.03735802822500059, 0.009339507056250147, 0.009339507056250147, 0.4840306731477706, 0.19361226925910824, 0.11616736155546493, 0.05808368077773247, 0.038722453851821645, 0.09680613462955412, 0.38587182230048656, 0.16017320925680575, 0.3494688201966671, 0.02912240168305559, 0.036403002103819485, 0.036403002103819485, 0.7330011003225291, 0.7931678067891813, 0.5644047297163411, 0.6703861200762921, 0.7316784502526741, 0.5958301468563589, 0.18284734665433236, 0.13240669930141308, 0.04728810689336182, 0.018915242757344727, 0.018915242757344727, 0.0031525404595574543, 0.8699240324555502, 0.4876118266019026, 0.9183073979994167, 0.07346459183995334, 0.9026416759900556, 0.9258413029570992, 0.07121856176593071, 0.30771573927436535, 0.08791878264981867, 0.395634521924184, 0.197817260962092, 0.021979695662454668, 0.3579486211673935, 0.11931620705579785, 0.4772648282231914, 0.10906615569261821, 0.8725292455409457, 0.027266538923154553, 0.5281791260040757, 0.8731066122157131, 0.9005661400869928, 0.4279487079313762, 0.2790969834335062, 0.2170754315593937, 0.037212931124467497, 0.018606465562233748, 0.012404310374822498, 0.006202155187411249, 0.38907874362904554, 0.08978740237593359, 0.2693622071278008, 0.029929134125311195, 0.14964567062655598, 0.029929134125311195, 0.6984638847976841, 0.5254486510961321, 0.7470476123600776, 0.8808703397947847, 0.9536104225334945, 0.8507980425153122, 0.04869626326276608, 0.7791402122042573, 0.04869626326276608, 0.14608878978829826, 0.7018585823010765, 0.3492828174877383, 0.5239242262316075, 0.9357800741633611, 0.09986089684571331, 0.14979134526856996, 0.6490958294971365, 0.049930448422856655, 0.049930448422856655, 0.25959433086125905, 0.5191886617225181, 0.11537525816055959, 0.043265721810209844, 0.028843814540139897, 0.043265721810209844, 0.9091055914372479, 0.22253973861149187, 0.31791391230213123, 0.3603024339424154, 0.03179139123021313, 0.042388521640284164, 0.021194260820142082, 0.010597130410071041, 0.43842713342425976, 0.3009542187064834, 0.1894896932596377, 0.03343935763405371, 0.011146452544684571, 0.022292905089369142, 0.0037154841815615234, 0.09803280678954619, 0.8332788577111426, 0.049016403394773096, 0.13304487108283886, 0.2660897421656777, 0.13304487108283886, 0.39913461324851657, 0.8558946390771932, 0.09422082173550343, 0.2826624652065103, 0.37688328694201373, 0.09422082173550343, 0.21043089919185407, 0.4120938442507142, 0.07891158719694528, 0.01753590826598784, 0.00876795413299392, 0.00876795413299392, 0.2630386239898176, 0.34991865603109407, 0.34991865603109407, 0.15308941201360365, 0.04373983200388676, 0.02186991600194338, 0.02186991600194338, 0.04373983200388676, 0.5475701716510342, 0.320008541873981, 0.10666951395799366, 0.00711130093053291, 0.00711130093053291, 0.00711130093053291, 0.11362761231487342, 0.9090208985189874, 0.6373636987055613, 0.36307952302567426, 0.3072211348678782, 0.22901939144696376, 0.06144422697357564, 0.016757516447338812, 0.022343355263118415, 0.011171677631559207, 0.3913915507882904, 0.3913915507882904, 0.3913915507882904, 0.14753923722765577, 0.14753923722765577, 0.07376961861382789, 0.14753923722765577, 0.4426177116829673, 0.2594230809574511, 0.24212820889362102, 0.34589744127660144, 0.034589744127660145, 0.05188461619149022, 0.034589744127660145, 0.05188461619149022, 0.5808322621334719, 0.19760272835468634, 0.11377126784057698, 0.0479036917223482, 0.029939807326467626, 0.017963884395880574, 0.008981942197940287, 0.31906363046938596, 0.40360185734588994, 0.17453053290633078, 0.024543356189952768, 0.05726783110988979, 0.01908927703662993, 0.0027270395766614184, 0.6276904978858233, 0.8312671849656141, 0.06394362961273956, 0.042629086408493035, 0.021314543204246517, 0.6677746574674875, 0.45294851306934725, 0.35376270728773834, 0.1553910957245206, 0.013224774104214519, 0.013224774104214519, 0.009918580578160889, 0.0033061935260536297, 0.32137911608162567, 0.32137911608162567, 0.32137911608162567, 0.8381508320128787, 0.4914864446575475, 0.9726090966761984, 0.8387406955021347, 0.7896583192118722, 0.46661208263867127, 0.31662962750481266, 0.15831481375240633, 0.03332943447419081, 0.008332358618547702, 0.016664717237095405, 0.008332358618547702, 0.8833857514721525, 0.043091987876690364, 0.021545993938345182, 0.021545993938345182, 0.021545993938345182, 0.5129607306234016, 0.26930438357728587, 0.08976812785909528, 0.02564803653117008, 0.05129607306234016, 0.02564803653117008, 0.02564803653117008, 0.6675686568200501, 0.27119976683314534, 0.03476920087604428, 0.01390768035041771, 0.006953840175208855, 0.006953840175208855, 0.611720563184171, 0.12411721571852745, 0.09752066949312871, 0.07978963867619622, 0.02659654622539874, 0.04432757704233123, 0.2305416790368875, 0.1280787105760486, 0.5635463265346139, 0.025615742115209724, 0.025615742115209724, 0.025615742115209724, 0.04717798646104738, 0.14153395938314214, 0.8020257698378055, 0.18314443583640402, 0.07849047250131602, 0.44477934417412407, 0.18314443583640402, 0.05232698166754401, 0.026163490833772004, 0.026163490833772004, 0.15630183594809904, 0.12504146875847924, 0.640837527387206, 0.04689055078442971, 0.015630183594809905, 0.015630183594809905, 0.7452684826011877, 0.07201588464552851, 0.864190615746342, 0.2632424274454912, 0.6824803674512735, 0.038998878140072774, 0.009749719535018193, 0.009749719535018193, 0.9209031197060225, 0.10091108334297484, 0.8577442084152862, 0.3147223090848603, 0.11015280817970112, 0.3461945399933464, 0.1730972699966732, 0.03147223090848603, 0.015736115454243017, 0.015736115454243017, 0.18010660264835898, 0.7204264105934359, 0.5204441742821924, 0.4168586226779019, 0.26607997192206506, 0.21286397753765204, 0.05321599438441301, 0.017738664794804338, 0.026607997192206505, 0.017738664794804338, 0.5539192339287334, 0.059009905808856275, 0.9441584929417004, 0.8636920486010772, 0.47317133898906794, 0.2800401802180198, 0.1448483690782861, 0.019313115877104815, 0.06759590556986685, 0.02896967381565722, 0.6654037231352603, 0.1527156085884204, 0.0927201909286838, 0.027270644390789356, 0.032724773268947224, 0.021816515512631484, 0.005454128878157871, 0.8721497272483826, 0.5722147510647615, 0.22008259656336981, 0.058688692416898613, 0.11737738483379723, 0.014672173104224653, 0.014672173104224653, 0.5548361730957958, 0.29822444303899026, 0.06241906947327703, 0.02774180865478979, 0.041612712982184684, 0.013870904327394896, 0.006935452163697448, 0.9435111077211282, 0.43920690240315624, 0.22717598400163255, 0.06058026240043535, 0.15145065600108837, 0.04543519680032651, 0.030290131200217674, 0.04543519680032651, 0.17097965365380016, 0.559569775594255, 0.17097965365380016, 0.023315407316427294, 0.031087209755236392, 0.03885901219404549, 0.007771802438809098, 0.954685961236337, 0.7713674935772348, 0.12297162941086351, 0.06707543422410737, 0.011179239037351229, 0.011179239037351229, 0.011179239037351229, 0.6880460881638326, 0.7887285580078113, 0.8852782753818348, 0.3907963805119123, 0.33332632455427813, 0.17815717346866589, 0.040229039170343914, 0.02873502797881708, 0.017241016787290248, 0.017241016787290248, 0.4876118266019026, 0.4837211808589886, 0.7258452584518233, 0.9235508608644499, 0.1503652682455042, 0.19332677345850538, 0.3651727943105102, 0.0429615052130012, 0.19332677345850538, 0.0429615052130012, 0.0429615052130012, 0.8004562757163184, 0.2538539993565905, 0.042308999892765084, 0.6769439982842413, 0.7973907660535009, 0.8853682018425642, 0.18552244905383453, 0.1623321429221052, 0.41742551037112763, 0.06957091839518795, 0.1391418367903759, 0.023190306131729316, 0.9038494345410691, 0.37820849229485504, 0.37820849229485504, 0.9084172466373107, 0.21470067340243848, 0.21470067340243848, 0.42940134680487696, 0.9696633265878367, 0.9727775619807691, 0.9571715959346392, 0.03190571986448797, 0.15890117082243962, 0.6356046832897585, 0.38388597505458266, 0.26323609718028523, 0.01096817071584522, 0.31807695075951137, 0.01096817071584522, 0.934259248763579, 0.19678293388999704, 0.11806976033399823, 0.15742634711199763, 0.4722790413359929, 0.03935658677799941, 0.03935658677799941, 0.03935658677799941, 0.8370658261983415, 0.3440910006457058, 0.5236167401130306, 0.07480239144471866, 0.014960478288943731, 0.014960478288943731, 0.014960478288943731, 0.9907176425334074, 0.8934122927219202, 0.6286088340347455, 0.9450281139254917, 0.42305183775399885, 0.19389875897058279, 0.23796665873662434, 0.06169505967245816, 0.00881357995320831, 0.07050863962566647, 0.49007151128126764, 0.9672399400791387, 0.2720686718633715, 0.21376824217836335, 0.3400858398292144, 0.029150214842504095, 0.12631759765085107, 0.019433476561669397, 0.009716738280834698, 0.3526075027428254, 0.26683811018375975, 0.3335476377296997, 0.028589797519688546, 0.019059865013125697, 0.009529932506562849, 0.6757220637716576, 0.04613902641796508, 0.38449188681637564, 0.32297318492575555, 0.015379675472655025, 0.23069513208982537, 0.015379675472655025, 0.5474442950283266, 0.5219725039420793, 0.41605365546453754, 0.11421080738242208, 0.3589482517733265, 0.07342123331727134, 0.024473744439090447, 0.016315829626060298, 0.17576386351097284, 0.808513772150475, 0.9804812226327928, 0.11334596207482307, 0.7254141572788676, 0.056672981037411536, 0.022669192414964612, 0.022669192414964612, 0.056672981037411536, 0.011334596207482306, 0.5198232957057455, 0.5567418141172557, 0.33404508847035336, 0.6764662839296087, 0.7863290558537559, 0.5261628739048005, 0.3946221554286004, 0.04384690615873338, 0.026308143695240028, 0.008769381231746675, 0.008769381231746675, 0.8523964606748593, 0.95987868893534, 0.4876118266019026, 0.9594123912151981, 0.5274700515731735, 0.07535286451045335, 0.16954394514852003, 0.1507057290209067, 0.037676432255226676, 0.037676432255226676, 0.8007343206916752, 0.6690760217772638, 0.9061740994736304, 0.3545946428592235, 0.24952956349352765, 0.2823624007953076, 0.0656656746035599, 0.019699702381067972, 0.019699702381067972, 0.9120631760486843, 0.9594123912151981, 0.8194682723352257, 0.36134955527675505, 0.5194399857103353, 0.02258434720479719, 0.02258434720479719, 0.02258434720479719, 0.04516869440959438, 0.8490259806470114, 0.13507231510293363, 0.7090697041935511, 0.35453485209677554, 0.8982464536679232, 0.052838026686348426, 0.026419013343174213, 0.6009025457855354, 0.15813224889093036, 0.15180695893529314, 0.05060231964509772, 0.02530115982254886, 0.01265057991127443, 0.006325289955637215, 0.1007402471040716, 0.1007402471040716, 0.2014804942081432, 0.6044414826244296, 0.520986725692924, 0.4857248131064025, 0.3143446947498402, 0.42479012804032457, 0.14442864353371035, 0.059470617925645446, 0.016991605121612983, 0.008495802560806492, 0.025487407682419475, 0.2899921453272464, 0.0882584790126402, 0.4034673326292123, 0.05043341657865154, 0.11347518730196596, 0.05043341657865154, 0.7192529461926044, 0.6290630942954347, 0.47182295898961757, 0.2073161486469532, 0.20016731593498927, 0.050041828983747316, 0.03574416355981951, 0.02859533084785561, 0.007148832711963903, 0.1989990234458185, 0.1989990234458185, 0.09949951172290925, 0.397998046891637, 0.9726082560497584, 0.10230853127528615, 0.8696225158399323, 0.025577132818821537, 0.9695381157803769, 0.05464958199174904, 0.05464958199174904, 0.9017181028638591, 0.48726642433325723, 0.723006854717793, 0.2849466646931847, 0.1937637319913656, 0.3875274639827312, 0.04559146635090955, 0.022795733175454774, 0.04559146635090955, 0.011397866587727387, 0.15314708446281178, 0.11486031334710885, 0.6125883378512471, 0.038286771115702944, 0.038286771115702944, 0.038286771115702944, 0.5525082634408717, 0.6736917251464213, 0.9061740994736304, 0.10730349180027832, 0.7511244426019482, 0.44253967958503604, 0.24963776797104598, 0.09077737017128945, 0.19290191161399006, 0.011347171271411181, 0.011347171271411181, 0.8286394757183526, 0.4700903059110065, 0.23310263103025117, 0.17871201712319257, 0.05827565775756279, 0.023310263103025117, 0.027195306953529303, 0.011655131551512559, 0.8484545937464524, 0.09789860697074451, 0.03263286899024817, 0.016316434495124085, 0.053625197744596995, 0.6971275706797609, 0.21450079097838798, 0.8014605419985703, 0.08905117133317447, 0.8937355891545506, 0.03885806909367612, 0.5526140844601132, 0.8367492060863538, 0.23606467433692155, 0.11803233716846077, 0.4721293486738431, 0.36048106327973234, 0.28323512114836114, 0.23173782639411367, 0.025748647377123738, 0.025748647377123738, 0.07724594213137122, 0.146632723980078, 0.7331636199003901, 0.36928126231232955, 0.34466251149150756, 0.14771250492493182, 0.04923750164164394, 0.02461875082082197, 0.012309375410410986, 0.036928126231232955, 0.3510749731628094, 0.3510749731628094, 0.5529158517467437, 0.6300182885447755, 0.05538093951485925, 0.9414759717526073, 0.5614916980075955, 0.24441403325036506, 0.11229833960151908, 0.05284627745953839, 0.013211569364884598, 0.013211569364884598, 0.5620970437792991, 0.49595413983116127, 0.16531804661038707, 0.16531804661038707, 0.12398853495779032, 0.9157802936170873, 0.030526009787236245, 0.030526009787236245, 0.1265310905297685, 0.1265310905297685, 0.253062181059537, 0.31632772632442124, 0.06326554526488425, 0.06326554526488425, 0.0676178270436257, 0.9466495786107599, 0.33942962478843575, 0.12591744145377454, 0.3832269957288791, 0.06569605641066498, 0.05474671367555415, 0.03284802820533249, 0.005474671367555415, 0.3963692531231435, 0.182329856436646, 0.2774584771862004, 0.11098339087448018, 0.00792738506246287, 0.01585477012492574, 0.4904982482725452, 0.4074864126555292, 0.4074864126555292, 0.5815836061270895, 0.4429200179611055, 0.547437822941332, 0.48167202422295263, 0.22478027797071123, 0.11774205036561064, 0.06422293656306036, 0.06422293656306036, 0.03211146828153018, 0.02140764552102012, 0.47867550756191185, 0.3837138411709303, 0.34401930587738583, 0.19847267646772257, 0.0330787794112871, 0.006615755882257419, 0.01984726764677226, 0.873014313653621, 0.40775560033894137, 0.40775560033894137, 0.8731066122157131, 0.9767495756093786, 0.15323407579822035, 0.429055412235017, 0.17366528590464972, 0.02043121010642938, 0.15323407579822035, 0.02043121010642938, 0.04086242021285876, 0.43144056199707687, 0.12943216859912307, 0.17257622479883075, 0.1941482528986846, 0.06471608429956154, 0.021572028099853844, 0.9391444329376935, 0.9276522318211466, 0.9458921780273303, 0.8731066122157131, 0.8731066122157131, 0.9622931397458647, 0.9007345056936594, 0.2173365490146432, 0.2173365490146432, 0.4346730980292864, 0.4157782220088728, 0.4157782220088728, 0.6873917451124036, 0.13093176097379117, 0.03273294024344779, 0.03273294024344779, 0.09819882073034339, 0.9595610839078755, 0.5795733389102553, 0.12130604767889065, 0.21565519587358337, 0.01347844974209896, 0.01347844974209896, 0.01347844974209896, 0.040435349226296886, 0.9801714867696647, 0.26485581877499087, 0.33320570749111755, 0.30757449922257, 0.034174944358063335, 0.025631208268547503, 0.017087472179031667, 0.017087472179031667, 0.17674070613950713, 0.17674070613950713, 0.35348141227901425, 0.26511105920926065, 0.235127747993769, 0.173252024837514, 0.569256653037546, 0.012375144631251, 0.5780655042628436, 0.05979987975132865, 0.13953305275310018, 0.019933293250442883, 0.19933293250442882, 0.899925803129292, 0.5616348521949543, 0.5549843688398243, 0.27749218441991214, 0.05845305971841564, 0.8767958957762346, 0.05845305971841564, 0.5821969052080466, 0.24631407528032737, 0.02239218866184794, 0.13435313197108767, 0.02239218866184794, 0.9020658060853022, 0.04100299118569555, 0.95761059520452, 0.03089066436143613, 0.913631703583211, 0.9029521095019739, 0.9905367350104854, 0.6067026426115582, 0.3033513213057791, 0.25092063723037816, 0.5942857197561587, 0.10565079462331711, 0.03961904798374392, 0.013206349327914639, 0.1686594105637774, 0.6746376422551096, 0.9731681800934313, 0.026901587457263235, 0.08070476237178971, 0.8339492111751603, 0.026901587457263235, 0.3817536650962618, 0.26086500448244554, 0.29904037099207176, 0.01908768325481309, 0.01908768325481309, 0.012725122169875393, 0.006362561084937697, 0.3571332461610925, 0.5118909861642326, 0.08333109077092157, 0.011904441538703082, 0.011904441538703082, 0.011904441538703082, 0.11459154108990625, 0.34377462326971875, 0.11459154108990625, 0.34377462326971875, 0.8731066122157131, 0.9611603755667907, 0.6730816866883852, 0.21559647776737337, 0.06835985880428912, 0.010516901354506019, 0.015775352031759025, 0.010516901354506019, 0.6290748010907826, 0.8555795897129316, 0.48032301283026835, 0.3710437011150555, 0.2428649680025818, 0.2563574662249475, 0.013492498222365656, 0.08095498933419394, 0.02698499644473131, 0.006746249111182828, 0.6310362995151214, 0.32757386161328383, 0.5459564360221397, 0.036397095734809315, 0.036397095734809315, 0.07279419146961863, 0.44294290616027937, 0.19258387224359974, 0.2631979587329196, 0.019258387224359973, 0.03851677444871995, 0.03851677444871995, 0.006419462408119991, 0.5566305259472472, 0.2024111003444535, 0.1619288802755628, 0.03542194256027936, 0.02024111003444535, 0.025301387543056688, 0.5896145959478204, 0.18920468377430058, 0.1276031588245283, 0.03960098032485361, 0.026400653549902404, 0.022000544624918673, 0.3853655826699862, 0.07707311653399725, 0.308292466135989, 0.07707311653399725, 0.03853655826699862, 0.11560967480099588, 0.7514330903905135, 0.10597133326020063, 0.048168787845545735, 0.057802545414654884, 0.028901272707327442, 0.009633757569109147, 0.7691143197220965, 0.1167300448252367, 0.8171103137766569, 0.6950894001447796, 0.23917054628637577, 0.03737039785724621, 0.014948159142898486, 0.007474079571449243, 0.007474079571449243, 0.007474079571449243, 0.5231063433811102, 0.7294057951282499, 0.09877370142361716, 0.12156763252137497, 0.02279393109775781, 0.007597977032585935, 0.01519595406517187, 0.41602404446209734, 0.1820105194521676, 0.2808162300119157, 0.04160240444620973, 0.05200300555776217, 0.020801202223104866, 0.7642671806095834, 0.14912530353357725, 0.055921988825091466, 0.013980497206272867, 0.009320331470848578, 0.013980497206272867, 0.4331639297826249, 0.31057036474980654, 0.12259356503281836, 0.024518713006563674, 0.05721033034864857, 0.032691617342084894, 0.024518713006563674, 0.08316216445807001, 0.9147838090387701, 0.285375489023883, 0.450592877406131, 0.19025032601592198, 0.025032937633673945, 0.010013175053469579, 0.010013175053469579, 0.025032937633673945, 0.6983748334779273, 0.0429591113730569, 0.0429591113730569, 0.7303048933419672, 0.1718364454922276, 0.4044328629901784, 0.3370273858251487, 0.14829204976306543, 0.026962190866011895, 0.026962190866011895, 0.013481095433005947, 0.04044328629901784, 0.3165824379804335, 0.23216045451898454, 0.29547694211507125, 0.04221099173072446, 0.0633164875960867, 0.02110549586536223, 0.04221099173072446, 0.31404781118150266, 0.10094393930834014, 0.31404781118150266, 0.11215993256482239, 0.11215993256482239, 0.044863973025928955, 0.011215993256482239, 0.3984849547670378, 0.3984849547670378, 0.6803028136069313, 0.5287429410292602, 0.9691267539164398, 0.9245820651037426, 0.5185794965167584, 0.9228292683718325, 0.3975642879845039, 0.2385385727907023, 0.2285994655910897, 0.039756428798450386, 0.049695535998062985, 0.049695535998062985, 0.009939107199612596, 0.5629335272942232, 0.05075157485948318, 0.9135283474706972, 0.3122248398574254, 0.37169623792550643, 0.26762129130636464, 0.014867849517020257, 0.007433924758510129, 0.014867849517020257, 0.022301774275530387, 0.4589056992333927, 0.30905894030004, 0.12175049163334908, 0.028096267300003634, 0.028096267300003634, 0.05619253460000727, 0.9711103907036953, 0.1344260157236211, 0.6385235746872001, 0.03360650393090527, 0.06721300786181054, 0.10081951179271581, 0.2789399314230889, 0.2900975286800125, 0.26778233416616537, 0.0781031807984649, 0.03347279177077067, 0.022315194513847114, 0.03347279177077067, 0.36399548851243135, 0.24266365900828757, 0.1733311850059197, 0.05199935550177591, 0.12133182950414378, 0.03466623700118394, 0.01733311850059197, 0.9662947681071976, 0.4368921306368736, 0.39320291757318626, 0.11468418429217933, 0.021844606531843683, 0.010922303265921841, 0.021844606531843683, 0.005461151632960921, 0.4038359539954674, 0.29511088945822617, 0.17085367284423622, 0.06212860830699499, 0.015532152076748747, 0.015532152076748747, 0.031064304153497493, 0.32431478666456093, 0.6254642314245104, 0.011582670952305748, 0.011582670952305748, 0.011582670952305748, 0.8843796225390973, 0.1649202551633866, 0.6596810206535464, 0.9183887589759184, 0.03401439848058957, 0.017007199240294785, 0.017007199240294785, 0.017007199240294785, 0.6446807855719134, 0.13939044012365698, 0.08711902507728561, 0.017423805015457122, 0.10454283009274272, 0.14315239445708952, 0.07157619722854476, 0.3578809861427238, 0.3578809861427238, 0.9295880499859713, 0.3242934568117474, 0.3242934568117474, 0.3242934568117474, 0.29264046050404524, 0.5378257111966237, 0.1423656294344004, 0.01581840327048893, 0.007909201635244466, 0.007909201635244466, 0.705636063768318, 0.1764090159420795, 0.953157068116803, 0.6794932446420614, 0.4936585061455734, 0.3812166887923096, 0.5718250331884643, 0.5272765293761785, 0.9234299475294708, 0.06412707968954659, 0.012825415937909318, 0.1028581164623705, 0.822864931698964, 0.6367291036690095, 0.9344118348730452, 0.8270823079066192, 0.11352110108522225, 0.0324346003100635, 0.01621730015503175, 0.35509076538521206, 0.08877269134630301, 0.5326361480778181, 0.3764145957447677, 0.24391665804260948, 0.319199577191563, 0.006022633531916283, 0.03914711795745584, 0.015056583829790708, 0.9615653674272243, 0.054569720087719396, 0.9276852414912298, 0.9571576214975942, 0.2803358383629752, 0.4205037575444628, 0.04672263972716253, 0.23361319863581265, 0.1579839673755064, 0.8425811593360343, 0.6854600886474022, 0.24192709011084781, 0.28273316412416233, 0.5408808357157888, 0.08604922386387549, 0.049170985065071705, 0.012292746266267926, 0.012292746266267926, 0.012292746266267926, 0.582498353782813, 0.10737296843922821, 0.27648539373101266, 0.008052972632942116, 0.01073729684392282, 0.013421621054903526, 0.002684324210980705, 0.9310068920890097, 0.21681162534770718, 0.21681162534770718, 0.43362325069541435, 0.10840581267385359, 0.5247541985204243, 0.5317183980321082, 0.30383908458977615, 0.12064198946946994, 0.01340466549660777, 0.00446822183220259, 0.02234110916101295, 0.3947323947193704, 0.25761482602737856, 0.19528865844010956, 0.049860934069815205, 0.045705856230663935, 0.045705856230663935, 0.012465233517453801, 0.5640676711001061, 0.45364493230571196, 0.2819954984603074, 0.1777797707684547, 0.052107863845926375, 0.015325842307625404, 0.018391010769150486, 0.003065168461525081, 0.8431862728182976, 0.4697199196925034, 0.1371748438040054, 0.3533291431315291, 0.0166272537944249, 0.004156813448606225, 0.00831362689721245, 0.00831362689721245, 0.4910267132490663, 0.26439899944180495, 0.15795264901718217, 0.04807254535305544, 0.0171687661975198, 0.0171687661975198, 0.006867506479007921, 0.557192862535907, 0.19638764827085248, 0.17811902982705224, 0.03653723688760046, 0.01826861844380023, 0.009134309221900115, 0.004567154610950057], \"Term\": [\"aashish\", \"accident\", \"accident\", \"accident\", \"accident\", \"accident\", \"actual\", \"addiction\", \"addiction\", \"addiction\", \"addiction\", \"african\", \"agenda\", \"akhil\", \"akhil\", \"aligarh\", \"aligarh\", \"alumnus\", \"ambaji\", \"ambition\", \"ambition\", \"ambition\", \"ambition\", \"ambulance\", \"ambulance\", \"american\", \"american\", \"antibiotic\", \"antibiotic\", \"anushasan\", \"aparna\", \"arrear\", \"art\", \"art\", \"art\", \"art\", \"asha\", \"asha\", \"attack\", \"attack\", \"aurobindo\", \"ayushman\", \"ayushman\", \"bachao\", \"bachao\", \"bachchan\", \"bachchan\", \"bacteria\", \"ball\", \"ball\", \"ball\", \"bamboo\", \"bank\", \"bank\", \"bank\", \"bank\", \"bank\", \"bank\", \"barack\", \"barack\", \"barack\", \"barack\", \"batsman\", \"battle\", \"battle\", \"battle\", \"battle\", \"beacon\", \"bee\", \"beema\", \"benefit\", \"benefit\", \"benefit\", \"benefit\", \"benefit\", \"benefit\", \"benefit\", \"benjamin\", \"beti\", \"beti\", \"beti\", \"beti\", \"bilal\", \"biography\", \"biography\", \"biswal\", \"bother\", \"bother\", \"bottle\", \"brahmaputra\", \"brave\", \"brave\", \"brave\", \"brave\", \"bravery\", \"bread\", \"brother\", \"brother\", \"brother\", \"brother\", \"brother\", \"brother\", \"brother\", \"brown\", \"buddha\", \"buddha\", \"burden\", \"burden\", \"burden\", \"burden\", \"burden\", \"burden\", \"burning\", \"cadet\", \"campaign\", \"campaign\", \"campaign\", \"campaign\", \"campaign\", \"campaign\", \"cashless\", \"cashless\", \"cashless\", \"cashless\", \"chai\", \"challenge\", \"challenge\", \"challenge\", \"challenge\", \"challenge\", \"challenge\", \"challenge\", \"change\", \"change\", \"change\", \"change\", \"change\", \"change\", \"change\", \"charkha\", \"charkha\", \"chicago\", \"child\", \"child\", \"child\", \"child\", \"child\", \"child\", \"child\", \"cigarette\", \"citizen\", \"citizen\", \"citizen\", \"citizen\", \"citizen\", \"citizen\", \"citizen\", \"classroom\", \"classroom\", \"classroom\", \"clean\", \"clean\", \"clean\", \"clean\", \"clean\", \"clean\", \"cleanliness\", \"cleanliness\", \"cleanliness\", \"cleanliness\", \"cleanliness\", \"cleanliness\", \"cleanliness\", \"coast\", \"coast\", \"coin\", \"collective\", \"collective\", \"collective\", \"collective\", \"combat\", \"commentary\", \"comparison\", \"comparison\", \"comparison\", \"compensation\", \"compensation\", \"compensation\", \"compete\", \"competition\", \"competition\", \"competition\", \"competition\", \"competition\", \"competition\", \"complication\", \"complication\", \"concern\", \"concern\", \"concern\", \"concern\", \"concern\", \"concern\", \"concern\", \"confidence\", \"confidence\", \"confidence\", \"confidence\", \"confidence\", \"confidence\", \"confidence\", \"consent\", \"consent\", \"consent\", \"constructive\", \"constructive\", \"corona\", \"corona\", \"corona\", \"corona\", \"corruption\", \"corruption\", \"corruption\", \"corruption\", \"corruption\", \"country\", \"country\", \"country\", \"country\", \"country\", \"country\", \"country\", \"crop\", \"crop\", \"crop\", \"crop\", \"crop\", \"crop\", \"crore\", \"crore\", \"crore\", \"crore\", \"crore\", \"crore\", \"cub\", \"cut\", \"dakshaa\", \"dar\", \"dashami\", \"day\", \"day\", \"day\", \"day\", \"day\", \"day\", \"day\", \"dayal\", \"dayalji\", \"deed\", \"deed\", \"deen\", \"deepawali\", \"deepawali\", \"department\", \"department\", \"department\", \"department\", \"department\", \"depression\", \"depression\", \"depression\", \"dev\", \"dev\", \"dev\", \"devendra\", \"dhaarchulaa\", \"dhyan\", \"different\", \"different\", \"different\", \"different\", \"different\", \"different\", \"different\", \"difficulty\", \"difficulty\", \"difficulty\", \"difficulty\", \"difficulty\", \"difficulty\", \"disabled\", \"disappointed\", \"distressed\", \"divas\", \"diver\", \"divyaang\", \"donation\", \"donation\", \"donation\", \"donation\", \"drag\", \"drawback\", \"drawback\", \"driver\", \"drug\", \"drug\", \"drug\", \"drug\", \"drug\", \"duty\", \"duty\", \"duty\", \"duty\", \"duty\", \"duty\", \"eclipse\", \"education\", \"education\", \"education\", \"education\", \"education\", \"education\", \"education\", \"effort\", \"effort\", \"effort\", \"effort\", \"effort\", \"effort\", \"effort\", \"elder\", \"elder\", \"elder\", \"enterprise\", \"enterprise\", \"enterprise\", \"enterprise\", \"essay\", \"everyday\", \"everyday\", \"everyday\", \"everyday\", \"exam\", \"exam\", \"exam\", \"exam\", \"exam\", \"exam\", \"exam\", \"examination\", \"examination\", \"examination\", \"examination\", \"examination\", \"examination\", \"examination\", \"example\", \"example\", \"example\", \"example\", \"example\", \"example\", \"exchange\", \"exchange\", \"exertion\", \"experience\", \"experience\", \"experience\", \"experience\", \"experience\", \"experience\", \"experience\", \"external\", \"external\", \"external\", \"failure\", \"failure\", \"failure\", \"failure\", \"failure\", \"faith\", \"faith\", \"faith\", \"faith\", \"faith\", \"faith\", \"faith\", \"family\", \"family\", \"family\", \"family\", \"family\", \"family\", \"family\", \"farmer\", \"farmer\", \"farmer\", \"farmer\", \"farmer\", \"farmer\", \"farmer\", \"fasal\", \"father\", \"father\", \"father\", \"father\", \"fence\", \"festival\", \"festival\", \"festival\", \"festival\", \"festival\", \"festival\", \"festival\", \"finish\", \"finish\", \"finish\", \"flock\", \"flutter\", \"football\", \"franklin\", \"fraud\", \"free\", \"free\", \"free\", \"free\", \"free\", \"free\", \"free\", \"fruit\", \"fruit\", \"fruit\", \"fruit\", \"fruit\", \"future\", \"future\", \"future\", \"future\", \"future\", \"future\", \"future\", \"game\", \"game\", \"game\", \"game\", \"game\", \"game\", \"gandhi\", \"gandhi\", \"gandhi\", \"gandhi\", \"gandhi\", \"gandhi\", \"ganesh\", \"ganesh\", \"ganesh\", \"ganesh\", \"ganesh\", \"ganesh\", \"ganga\", \"ganga\", \"ganga\", \"girl\", \"girl\", \"girl\", \"girl\", \"girl\", \"girl\", \"girl\", \"gold\", \"gold\", \"gold\", \"gold\", \"gold\", \"gold\", \"grief\", \"guard\", \"guard\", \"guru\", \"guru\", \"guru\", \"guru\", \"guru\", \"gurudev\", \"gurudwara\", \"gurudwara\", \"habit\", \"habit\", \"habit\", \"habit\", \"habit\", \"habit\", \"habit\", \"haj\", \"haj\", \"haji\", \"happy\", \"happy\", \"happy\", \"happy\", \"happy\", \"happy\", \"happy\", \"harda\", \"hari\", \"hari\", \"harivansh\", \"health\", \"health\", \"health\", \"health\", \"health\", \"health\", \"heart\", \"heart\", \"heart\", \"heart\", \"heart\", \"heart\", \"heart\", \"himayat\", \"history\", \"history\", \"history\", \"history\", \"history\", \"history\", \"home\", \"home\", \"home\", \"home\", \"home\", \"home\", \"home\", \"honey\", \"hour\", \"hour\", \"hour\", \"hour\", \"hour\", \"hour\", \"hour\", \"house\", \"house\", \"house\", \"house\", \"house\", \"house\", \"house\", \"hue\", \"human\", \"human\", \"human\", \"human\", \"human\", \"human\", \"husbandry\", \"illiterate\", \"imparted\", \"important\", \"important\", \"important\", \"important\", \"important\", \"important\", \"important\", \"incredibleindia\", \"informed\", \"irritated\", \"ismail\", \"issue\", \"issue\", \"issue\", \"issue\", \"issue\", \"issue\", \"issue\", \"jamuna\", \"jan\", \"jan\", \"jan\", \"jehan\", \"jitendra\", \"job\", \"job\", \"job\", \"job\", \"job\", \"job\", \"jona\", \"joyful\", \"joyful\", \"junior\", \"kalamji\", \"kalamji\", \"kalamji\", \"kaniga\", \"kargil\", \"karnataka\", \"karnataka\", \"khaadi\", \"khaadi\", \"khadi\", \"khadi\", \"khadi\", \"khadi\", \"khadi\", \"khelo\", \"kid\", \"kid\", \"kid\", \"kid\", \"kid\", \"kid\", \"kid\", \"kiso\", \"knowledge\", \"knowledge\", \"knowledge\", \"knowledge\", \"knowledge\", \"knowledge\", \"kritika\", \"kutch\", \"laaw\", \"lake\", \"lakh\", \"lakh\", \"lakh\", \"lakh\", \"lakh\", \"lakh\", \"lakhwind\", \"lakshadweep\", \"land\", \"land\", \"land\", \"land\", \"land\", \"land\", \"land\", \"language\", \"language\", \"language\", \"language\", \"language\", \"language\", \"lantern\", \"law\", \"law\", \"law\", \"law\", \"law\", \"law\", \"lecture\", \"leg\", \"letter\", \"letter\", \"letter\", \"letter\", \"letter\", \"letter\", \"library\", \"library\", \"lifestyle\", \"light\", \"light\", \"light\", \"light\", \"light\", \"light\", \"light\", \"lijiyedass\", \"lion\", \"lion\", \"lioness\", \"literacy\", \"local\", \"local\", \"local\", \"local\", \"local\", \"local\", \"lopn\", \"magh\", \"mahadik\", \"maharishi\", \"mahatma\", \"mahatma\", \"mahatma\", \"mahatma\", \"mahatma\", \"mahatma\", \"malaria\", \"male\", \"mallakhambh\", \"man\", \"man\", \"man\", \"man\", \"man\", \"man\", \"manufacturing\", \"manzoor\", \"maoist\", \"mark\", \"mark\", \"mark\", \"mark\", \"mark\", \"mark\", \"mask\", \"mask\", \"mastery\", \"mastery\", \"medical\", \"medical\", \"medical\", \"medium\", \"medium\", \"medium\", \"medium\", \"medium\", \"medium\", \"medium\", \"menace\", \"menace\", \"menace\", \"menace\", \"metropolitan\", \"mhatre\", \"mind\", \"mind\", \"mind\", \"mind\", \"mind\", \"mind\", \"mind\", \"money\", \"money\", \"money\", \"money\", \"money\", \"money\", \"monthly\", \"mosquito\", \"mother\", \"mother\", \"mother\", \"mother\", \"mother\", \"mother\", \"mother\", \"mudra\", \"mudra\", \"mudra\", \"mudra\", \"namo\", \"nanak\", \"nanak\", \"nanak\", \"narasimha\", \"ncc\", \"ncc\", \"ncc\", \"nervous\", \"nervousness\", \"news\", \"news\", \"news\", \"news\", \"news\", \"news\", \"news\", \"newspaper\", \"newspaper\", \"newspaper\", \"newspaper\", \"newspaper\", \"newspaper\", \"nominate\", \"noor\", \"oaxaca\", \"obama\", \"obama\", \"october\", \"october\", \"october\", \"october\", \"october\", \"october\", \"omprakash\", \"opportunity\", \"opportunity\", \"opportunity\", \"opportunity\", \"opportunity\", \"opportunity\", \"opportunity\", \"order\", \"order\", \"order\", \"order\", \"organ\", \"organ\", \"organ\", \"padhao\", \"padhao\", \"padma\", \"padma\", \"pal\", \"panchayati\", \"pandit\", \"pandit\", \"pandit\", \"paper\", \"paper\", \"paper\", \"paper\", \"paper\", \"paper\", \"paralympic\", \"paralympic\", \"parent\", \"parent\", \"parent\", \"parent\", \"parent\", \"parent\", \"parent\", \"pass\", \"pass\", \"passer\", \"pawan\", \"pencil\", \"pencil\", \"person\", \"person\", \"person\", \"person\", \"person\", \"person\", \"pesa\", \"plant\", \"plant\", \"plant\", \"plant\", \"plastic\", \"plastic\", \"plastic\", \"pleasure\", \"pleasure\", \"pleasure\", \"pleasure\", \"pleasure\", \"pleasure\", \"pon\", \"pon\", \"poor\", \"poor\", \"poor\", \"poor\", \"poor\", \"poor\", \"poor\", \"power\", \"power\", \"power\", \"power\", \"power\", \"power\", \"pregnancy\", \"pregnant\", \"pregnant\", \"premium\", \"preparedness\", \"presidency\", \"problem\", \"problem\", \"problem\", \"problem\", \"problem\", \"problem\", \"problem\", \"processing\", \"programme\", \"programme\", \"programme\", \"programme\", \"programme\", \"programme\", \"prosperity\", \"psychological\", \"psychological\", \"pushkaram\", \"quarter\", \"question\", \"question\", \"question\", \"question\", \"question\", \"question\", \"question\", \"radio\", \"radio\", \"radio\", \"radio\", \"radio\", \"radio\", \"rajguru\", \"rajpath\", \"raman\", \"rang\", \"ranglo\", \"ravida\", \"reddy\", \"relative\", \"relative\", \"relative\", \"residence\", \"residence\", \"resolution\", \"resolution\", \"resolution\", \"resolution\", \"resolution\", \"restoration\", \"result\", \"result\", \"result\", \"result\", \"result\", \"result\", \"result\", \"rice\", \"right\", \"right\", \"right\", \"right\", \"right\", \"right\", \"right\", \"rio\", \"rio\", \"rio\", \"rio\", \"river\", \"river\", \"river\", \"river\", \"road\", \"road\", \"road\", \"road\", \"road\", \"rock\", \"ru\", \"saarc\", \"saarc\", \"sabha\", \"sabha\", \"sabha\", \"safety\", \"safety\", \"safety\", \"safety\", \"safety\", \"saffron\", \"saffron\", \"sahib\", \"sahib\", \"salon\", \"sanskar\", \"sant\", \"sapling\", \"sapling\", \"sardar\", \"sardar\", \"sardar\", \"sardar\", \"sardar\", \"satyagraha\", \"satyagraha\", \"savarkar\", \"scheme\", \"scheme\", \"scheme\", \"scheme\", \"school\", \"school\", \"school\", \"school\", \"school\", \"school\", \"school\", \"science\", \"science\", \"science\", \"science\", \"science\", \"science\", \"score\", \"score\", \"score\", \"score\", \"scuba\", \"seep\", \"service\", \"service\", \"service\", \"service\", \"service\", \"service\", \"sewak\", \"sheep\", \"shilpi\", \"sister\", \"sister\", \"sister\", \"sister\", \"sister\", \"sister\", \"sister\", \"skin\", \"sleep\", \"sleep\", \"sleep\", \"sleep\", \"sleep\", \"small\", \"small\", \"small\", \"small\", \"small\", \"small\", \"small\", \"social\", \"social\", \"social\", \"social\", \"social\", \"social\", \"society\", \"society\", \"society\", \"society\", \"society\", \"society\", \"soil\", \"soil\", \"soil\", \"soil\", \"soil\", \"soil\", \"soldier\", \"soldier\", \"soldier\", \"soldier\", \"soldier\", \"soldier\", \"sonal\", \"sort\", \"sort\", \"spirit\", \"spirit\", \"spirit\", \"spirit\", \"spirit\", \"spirit\", \"spirit\", \"sponsor\", \"sport\", \"sport\", \"sport\", \"sport\", \"sport\", \"sport\", \"state\", \"state\", \"state\", \"state\", \"state\", \"state\", \"story\", \"story\", \"story\", \"story\", \"story\", \"story\", \"strength\", \"strength\", \"strength\", \"strength\", \"strength\", \"strength\", \"strength\", \"stubble\", \"stubble\", \"student\", \"student\", \"student\", \"student\", \"student\", \"student\", \"student\", \"stump\", \"subsidy\", \"subsidy\", \"subsidy\", \"subsidy\", \"success\", \"success\", \"success\", \"success\", \"success\", \"success\", \"success\", \"successful\", \"successful\", \"successful\", \"successful\", \"successful\", \"successful\", \"successful\", \"suggestion\", \"suggestion\", \"suggestion\", \"suggestion\", \"suggestion\", \"suggestion\", \"suggestion\", \"sukhdev\", \"sukhdev\", \"suraksha\", \"swachchhata\", \"swamiji\", \"swaraj\", \"tadan\", \"tagore\", \"talk\", \"talk\", \"talk\", \"talk\", \"talk\", \"talk\", \"talk\", \"tann\", \"tarannum\", \"tarannum\", \"teacher\", \"teacher\", \"teacher\", \"teacher\", \"teacher\", \"teacher\", \"teacher\", \"technology\", \"technology\", \"technology\", \"technology\", \"technology\", \"technology\", \"tenali\", \"test\", \"test\", \"test\", \"test\", \"test\", \"thing\", \"thing\", \"thing\", \"thing\", \"thing\", \"thing\", \"thing\", \"thought\", \"thought\", \"thought\", \"thought\", \"thought\", \"thought\", \"thought\", \"tiger\", \"time\", \"time\", \"time\", \"time\", \"time\", \"time\", \"time\", \"topic\", \"topic\", \"topic\", \"topic\", \"topic\", \"topic\", \"topic\", \"toy\", \"toy\", \"toy\", \"toy\", \"toy\", \"transplant\", \"trap\", \"trap\", \"treatment\", \"treatment\", \"treatment\", \"treatment\", \"treatment\", \"tree\", \"tree\", \"tree\", \"tree\", \"tree\", \"tremendous\", \"tremendous\", \"tremendous\", \"tremendous\", \"tripathi\", \"undue\", \"undue\", \"undue\", \"unity\", \"unity\", \"unity\", \"unity\", \"unity\", \"unity\", \"upadhyay\", \"upadhyay\", \"valmiki\", \"van\", \"varma\", \"varsh\", \"varsh\", \"varun\", \"vegetable\", \"vegetable\", \"vegetable\", \"verdict\", \"verdict\", \"vertical\", \"vicinity\", \"video\", \"video\", \"video\", \"video\", \"vijay\", \"vijay\", \"vijay\", \"village\", \"village\", \"village\", \"village\", \"village\", \"village\", \"vinayak\", \"vinole\", \"vinole\", \"virendra\", \"virus\", \"virus\", \"virus\", \"virus\", \"vocal\", \"vocal\", \"voter\", \"voter\", \"waste\", \"waste\", \"waste\", \"waste\", \"waste\", \"waste\", \"waste\", \"water\", \"water\", \"water\", \"water\", \"water\", \"water\", \"water\", \"waterfall\", \"white\", \"white\", \"white\", \"white\", \"window\", \"woman\", \"woman\", \"woman\", \"woman\", \"woman\", \"woman\", \"work\", \"work\", \"work\", \"work\", \"work\", \"work\", \"work\", \"xii\", \"year\", \"year\", \"year\", \"year\", \"year\", \"year\", \"year\", \"yeswecan\", \"yoga\", \"yoga\", \"yoga\", \"yoga\", \"yoga\", \"yoga\", \"yoga\", \"young\", \"young\", \"young\", \"young\", \"young\", \"young\", \"young\", \"youth\", \"youth\", \"youth\", \"youth\", \"youth\", \"youth\", \"youth\"]}, \"R\": 30, \"lambda.step\": 0.01, \"plot.opts\": {\"xlab\": \"PC1\", \"ylab\": \"PC2\"}, \"topic.order\": [7, 2, 6, 1, 5, 4, 8, 3, 9]};\n",
       "\n",
       "function LDAvis_load_lib(url, callback){\n",
       "  var s = document.createElement('script');\n",
       "  s.src = url;\n",
       "  s.async = true;\n",
       "  s.onreadystatechange = s.onload = callback;\n",
       "  s.onerror = function(){console.warn(\"failed to load library \" + url);};\n",
       "  document.getElementsByTagName(\"head\")[0].appendChild(s);\n",
       "}\n",
       "\n",
       "if(typeof(LDAvis) !== \"undefined\"){\n",
       "   // already loaded: just create the visualization\n",
       "   !function(LDAvis){\n",
       "       new LDAvis(\"#\" + \"ldavis_el1108416228532165121538443938\", ldavis_el1108416228532165121538443938_data);\n",
       "   }(LDAvis);\n",
       "}else if(typeof define === \"function\" && define.amd){\n",
       "   // require.js is available: use it to load d3/LDAvis\n",
       "   require.config({paths: {d3: \"https://d3js.org/d3.v5\"}});\n",
       "   require([\"d3\"], function(d3){\n",
       "      window.d3 = d3;\n",
       "      LDAvis_load_lib(\"https://cdn.jsdelivr.net/gh/bmabey/pyLDAvis@3.3.1/pyLDAvis/js/ldavis.v3.0.0.js\", function(){\n",
       "        new LDAvis(\"#\" + \"ldavis_el1108416228532165121538443938\", ldavis_el1108416228532165121538443938_data);\n",
       "      });\n",
       "    });\n",
       "}else{\n",
       "    // require.js not available: dynamically load d3 & LDAvis\n",
       "    LDAvis_load_lib(\"https://d3js.org/d3.v5.js\", function(){\n",
       "         LDAvis_load_lib(\"https://cdn.jsdelivr.net/gh/bmabey/pyLDAvis@3.3.1/pyLDAvis/js/ldavis.v3.0.0.js\", function(){\n",
       "                 new LDAvis(\"#\" + \"ldavis_el1108416228532165121538443938\", ldavis_el1108416228532165121538443938_data);\n",
       "            })\n",
       "         });\n",
       "}\n",
       "</script>"
      ],
      "text/plain": [
       "PreparedData(topic_coordinates=              x         y  topics  cluster       Freq\n",
       "topic                                                \n",
       "6     -0.100750 -0.082683       1        1  46.933646\n",
       "1     -0.123442 -0.029355       2        1  24.706687\n",
       "5     -0.100506  0.096387       3        1  16.377809\n",
       "0     -0.006918  0.009412       4        1   4.641546\n",
       "4      0.020019  0.040298       5        1   3.220346\n",
       "3     -0.001680 -0.006840       6        1   2.737182\n",
       "7      0.075981 -0.004590       7        1   1.361381\n",
       "2      0.112468 -0.012469       8        1   0.010701\n",
       "8      0.124830 -0.010161       9        1   0.010701, topic_info=         Term        Freq       Total Category  logprob  loglift\n",
       "625      exam  114.000000  114.000000  Default  30.0000  30.0000\n",
       "27      child  279.000000  279.000000  Default  29.0000  29.0000\n",
       "74     farmer  366.000000  366.000000  Default  28.0000  28.0000\n",
       "73     family  334.000000  334.000000  Default  27.0000  27.0000\n",
       "242   village  332.000000  332.000000  Default  26.0000  26.0000\n",
       "..        ...         ...         ...      ...      ...      ...\n",
       "392       kid    0.001878   25.408707   Topic9  -8.3761  -0.3699\n",
       "642      free    0.002628  120.014038   Topic9  -8.0403  -1.5866\n",
       "124    letter    0.002621  122.580343   Topic9  -8.0428  -1.6103\n",
       "75   festival    0.002895  302.462633   Topic9  -7.9437  -2.4143\n",
       "140    mother    0.002655  139.882977   Topic9  -8.0302  -1.7296\n",
       "\n",
       "[709 rows x 6 columns], token_table=      Topic      Freq      Term\n",
       "term                           \n",
       "4334      5  0.564622   aashish\n",
       "1852      1  0.332789  accident\n",
       "1852      2  0.055465  accident\n",
       "1852      3  0.277324  accident\n",
       "1852      4  0.055465  accident\n",
       "...     ...       ...       ...\n",
       "253       3  0.178119     youth\n",
       "253       4  0.036537     youth\n",
       "253       5  0.018269     youth\n",
       "253       6  0.009134     youth\n",
       "253       7  0.004567     youth\n",
       "\n",
       "[1332 rows x 3 columns], R=30, lambda_step=0.01, plot_opts={'xlab': 'PC1', 'ylab': 'PC2'}, topic_order=[7, 2, 6, 1, 5, 4, 8, 3, 9])"
      ]
     },
     "execution_count": 15,
     "metadata": {},
     "output_type": "execute_result"
    }
   ],
   "source": [
    "pyLDAvis.enable_notebook()\n",
    "LDAvis2 = gensimvis.prepare(lda_model2, corpus, id2word)\n",
    "pyLDAvis.save_html(LDAvis2, 'HTML/gensim_lda2_viz.html')\n",
    "LDAvis2"
   ]
  },
  {
   "cell_type": "code",
   "execution_count": 16,
   "metadata": {},
   "outputs": [
    {
     "name": "stdout",
     "output_type": "stream",
     "text": [
      "\n",
      "Perplexity for k = 9 :  -8.30072288706841\n",
      "\n",
      "Coherence Score for k = 9 :  0.27739725453034025\n"
     ]
    }
   ],
   "source": [
    "print('\\nPerplexity for k = 9 : ', lda_model2.log_perplexity(corpus,total_docs=74))  # a measure of how good the model is. lower the better.\n",
    "\n",
    "# Compute Coherence Score\n",
    "coherence_model_lda2 = CoherenceModel(model=lda_model2, texts=data_lemma, dictionary=id2word , coherence='c_v')\n",
    "coherence_lda2 = coherence_model_lda2.get_coherence()\n",
    "print('\\nCoherence Score for k = 9 : ', coherence_lda2)"
   ]
  },
  {
   "cell_type": "markdown",
   "metadata": {},
   "source": [
    "## Mallet - LDA"
   ]
  },
  {
   "cell_type": "code",
   "execution_count": 20,
   "metadata": {},
   "outputs": [
    {
     "name": "stdout",
     "output_type": "stream",
     "text": [
      "Round: 2\n",
      "Round: 3\n",
      "Round: 4\n",
      "Round: 5\n",
      "Round: 6\n",
      "Round: 7\n",
      "Round: 8\n",
      "Round: 9\n",
      "Round: 10\n",
      "Round: 11\n",
      "Round: 12\n",
      "Round: 13\n",
      "Round: 14\n",
      "Round: 15\n",
      "Round: 16\n",
      "Round: 17\n",
      "Round: 18\n",
      "Round: 19\n",
      "Round: 20\n",
      "Round: 21\n",
      "Round: 22\n",
      "Round: 23\n",
      "Round: 24\n"
     ]
    },
    {
     "data": {
      "application/vnd.plotly.v1+json": {
       "config": {
        "plotlyServerURL": "https://plot.ly"
       },
       "data": [
        {
         "mode": "lines+markers",
         "name": "Coherence score",
         "type": "scatter",
         "x": [
          2,
          3,
          4,
          5,
          6,
          7,
          8,
          9,
          10,
          11,
          12,
          13,
          14,
          15,
          16,
          17,
          18,
          19,
          20,
          21,
          22,
          23,
          24
         ],
         "xaxis": "x",
         "y": [
          0.33248804414631467,
          0.33183768535320957,
          0.32770637417061266,
          0.3345326294291948,
          0.333631901630623,
          0.33585603735541314,
          0.33065111168361466,
          0.3298411865241866,
          0.3337911955660469,
          0.32797464156553136,
          0.32878796499096974,
          0.3251392642692752,
          0.33207853036521084,
          0.3282791507048797,
          0.33779257503717935,
          0.33678284083053606,
          0.32689148081750746,
          0.3317771307562605,
          0.33096013560505744,
          0.3285975123926345,
          0.33569500200279245,
          0.33569072518262577,
          0.3253771262731677
         ],
         "yaxis": "y"
        }
       ],
       "layout": {
        "annotations": [
         {
          "font": {
           "size": 16
          },
          "showarrow": false,
          "text": "C",
          "x": 0.5,
          "xanchor": "center",
          "xref": "paper",
          "y": 1,
          "yanchor": "bottom",
          "yref": "paper"
         }
        ],
        "height": 600,
        "template": {
         "data": {
          "bar": [
           {
            "error_x": {
             "color": "#2a3f5f"
            },
            "error_y": {
             "color": "#2a3f5f"
            },
            "marker": {
             "line": {
              "color": "#E5ECF6",
              "width": 0.5
             }
            },
            "type": "bar"
           }
          ],
          "barpolar": [
           {
            "marker": {
             "line": {
              "color": "#E5ECF6",
              "width": 0.5
             }
            },
            "type": "barpolar"
           }
          ],
          "carpet": [
           {
            "aaxis": {
             "endlinecolor": "#2a3f5f",
             "gridcolor": "white",
             "linecolor": "white",
             "minorgridcolor": "white",
             "startlinecolor": "#2a3f5f"
            },
            "baxis": {
             "endlinecolor": "#2a3f5f",
             "gridcolor": "white",
             "linecolor": "white",
             "minorgridcolor": "white",
             "startlinecolor": "#2a3f5f"
            },
            "type": "carpet"
           }
          ],
          "choropleth": [
           {
            "colorbar": {
             "outlinewidth": 0,
             "ticks": ""
            },
            "type": "choropleth"
           }
          ],
          "contour": [
           {
            "colorbar": {
             "outlinewidth": 0,
             "ticks": ""
            },
            "colorscale": [
             [
              0,
              "#0d0887"
             ],
             [
              0.1111111111111111,
              "#46039f"
             ],
             [
              0.2222222222222222,
              "#7201a8"
             ],
             [
              0.3333333333333333,
              "#9c179e"
             ],
             [
              0.4444444444444444,
              "#bd3786"
             ],
             [
              0.5555555555555556,
              "#d8576b"
             ],
             [
              0.6666666666666666,
              "#ed7953"
             ],
             [
              0.7777777777777778,
              "#fb9f3a"
             ],
             [
              0.8888888888888888,
              "#fdca26"
             ],
             [
              1,
              "#f0f921"
             ]
            ],
            "type": "contour"
           }
          ],
          "contourcarpet": [
           {
            "colorbar": {
             "outlinewidth": 0,
             "ticks": ""
            },
            "type": "contourcarpet"
           }
          ],
          "heatmap": [
           {
            "colorbar": {
             "outlinewidth": 0,
             "ticks": ""
            },
            "colorscale": [
             [
              0,
              "#0d0887"
             ],
             [
              0.1111111111111111,
              "#46039f"
             ],
             [
              0.2222222222222222,
              "#7201a8"
             ],
             [
              0.3333333333333333,
              "#9c179e"
             ],
             [
              0.4444444444444444,
              "#bd3786"
             ],
             [
              0.5555555555555556,
              "#d8576b"
             ],
             [
              0.6666666666666666,
              "#ed7953"
             ],
             [
              0.7777777777777778,
              "#fb9f3a"
             ],
             [
              0.8888888888888888,
              "#fdca26"
             ],
             [
              1,
              "#f0f921"
             ]
            ],
            "type": "heatmap"
           }
          ],
          "heatmapgl": [
           {
            "colorbar": {
             "outlinewidth": 0,
             "ticks": ""
            },
            "colorscale": [
             [
              0,
              "#0d0887"
             ],
             [
              0.1111111111111111,
              "#46039f"
             ],
             [
              0.2222222222222222,
              "#7201a8"
             ],
             [
              0.3333333333333333,
              "#9c179e"
             ],
             [
              0.4444444444444444,
              "#bd3786"
             ],
             [
              0.5555555555555556,
              "#d8576b"
             ],
             [
              0.6666666666666666,
              "#ed7953"
             ],
             [
              0.7777777777777778,
              "#fb9f3a"
             ],
             [
              0.8888888888888888,
              "#fdca26"
             ],
             [
              1,
              "#f0f921"
             ]
            ],
            "type": "heatmapgl"
           }
          ],
          "histogram": [
           {
            "marker": {
             "colorbar": {
              "outlinewidth": 0,
              "ticks": ""
             }
            },
            "type": "histogram"
           }
          ],
          "histogram2d": [
           {
            "colorbar": {
             "outlinewidth": 0,
             "ticks": ""
            },
            "colorscale": [
             [
              0,
              "#0d0887"
             ],
             [
              0.1111111111111111,
              "#46039f"
             ],
             [
              0.2222222222222222,
              "#7201a8"
             ],
             [
              0.3333333333333333,
              "#9c179e"
             ],
             [
              0.4444444444444444,
              "#bd3786"
             ],
             [
              0.5555555555555556,
              "#d8576b"
             ],
             [
              0.6666666666666666,
              "#ed7953"
             ],
             [
              0.7777777777777778,
              "#fb9f3a"
             ],
             [
              0.8888888888888888,
              "#fdca26"
             ],
             [
              1,
              "#f0f921"
             ]
            ],
            "type": "histogram2d"
           }
          ],
          "histogram2dcontour": [
           {
            "colorbar": {
             "outlinewidth": 0,
             "ticks": ""
            },
            "colorscale": [
             [
              0,
              "#0d0887"
             ],
             [
              0.1111111111111111,
              "#46039f"
             ],
             [
              0.2222222222222222,
              "#7201a8"
             ],
             [
              0.3333333333333333,
              "#9c179e"
             ],
             [
              0.4444444444444444,
              "#bd3786"
             ],
             [
              0.5555555555555556,
              "#d8576b"
             ],
             [
              0.6666666666666666,
              "#ed7953"
             ],
             [
              0.7777777777777778,
              "#fb9f3a"
             ],
             [
              0.8888888888888888,
              "#fdca26"
             ],
             [
              1,
              "#f0f921"
             ]
            ],
            "type": "histogram2dcontour"
           }
          ],
          "mesh3d": [
           {
            "colorbar": {
             "outlinewidth": 0,
             "ticks": ""
            },
            "type": "mesh3d"
           }
          ],
          "parcoords": [
           {
            "line": {
             "colorbar": {
              "outlinewidth": 0,
              "ticks": ""
             }
            },
            "type": "parcoords"
           }
          ],
          "pie": [
           {
            "automargin": true,
            "type": "pie"
           }
          ],
          "scatter": [
           {
            "marker": {
             "colorbar": {
              "outlinewidth": 0,
              "ticks": ""
             }
            },
            "type": "scatter"
           }
          ],
          "scatter3d": [
           {
            "line": {
             "colorbar": {
              "outlinewidth": 0,
              "ticks": ""
             }
            },
            "marker": {
             "colorbar": {
              "outlinewidth": 0,
              "ticks": ""
             }
            },
            "type": "scatter3d"
           }
          ],
          "scattercarpet": [
           {
            "marker": {
             "colorbar": {
              "outlinewidth": 0,
              "ticks": ""
             }
            },
            "type": "scattercarpet"
           }
          ],
          "scattergeo": [
           {
            "marker": {
             "colorbar": {
              "outlinewidth": 0,
              "ticks": ""
             }
            },
            "type": "scattergeo"
           }
          ],
          "scattergl": [
           {
            "marker": {
             "colorbar": {
              "outlinewidth": 0,
              "ticks": ""
             }
            },
            "type": "scattergl"
           }
          ],
          "scattermapbox": [
           {
            "marker": {
             "colorbar": {
              "outlinewidth": 0,
              "ticks": ""
             }
            },
            "type": "scattermapbox"
           }
          ],
          "scatterpolar": [
           {
            "marker": {
             "colorbar": {
              "outlinewidth": 0,
              "ticks": ""
             }
            },
            "type": "scatterpolar"
           }
          ],
          "scatterpolargl": [
           {
            "marker": {
             "colorbar": {
              "outlinewidth": 0,
              "ticks": ""
             }
            },
            "type": "scatterpolargl"
           }
          ],
          "scatterternary": [
           {
            "marker": {
             "colorbar": {
              "outlinewidth": 0,
              "ticks": ""
             }
            },
            "type": "scatterternary"
           }
          ],
          "surface": [
           {
            "colorbar": {
             "outlinewidth": 0,
             "ticks": ""
            },
            "colorscale": [
             [
              0,
              "#0d0887"
             ],
             [
              0.1111111111111111,
              "#46039f"
             ],
             [
              0.2222222222222222,
              "#7201a8"
             ],
             [
              0.3333333333333333,
              "#9c179e"
             ],
             [
              0.4444444444444444,
              "#bd3786"
             ],
             [
              0.5555555555555556,
              "#d8576b"
             ],
             [
              0.6666666666666666,
              "#ed7953"
             ],
             [
              0.7777777777777778,
              "#fb9f3a"
             ],
             [
              0.8888888888888888,
              "#fdca26"
             ],
             [
              1,
              "#f0f921"
             ]
            ],
            "type": "surface"
           }
          ],
          "table": [
           {
            "cells": {
             "fill": {
              "color": "#EBF0F8"
             },
             "line": {
              "color": "white"
             }
            },
            "header": {
             "fill": {
              "color": "#C8D4E3"
             },
             "line": {
              "color": "white"
             }
            },
            "type": "table"
           }
          ]
         },
         "layout": {
          "annotationdefaults": {
           "arrowcolor": "#2a3f5f",
           "arrowhead": 0,
           "arrowwidth": 1
          },
          "autotypenumbers": "strict",
          "coloraxis": {
           "colorbar": {
            "outlinewidth": 0,
            "ticks": ""
           }
          },
          "colorscale": {
           "diverging": [
            [
             0,
             "#8e0152"
            ],
            [
             0.1,
             "#c51b7d"
            ],
            [
             0.2,
             "#de77ae"
            ],
            [
             0.3,
             "#f1b6da"
            ],
            [
             0.4,
             "#fde0ef"
            ],
            [
             0.5,
             "#f7f7f7"
            ],
            [
             0.6,
             "#e6f5d0"
            ],
            [
             0.7,
             "#b8e186"
            ],
            [
             0.8,
             "#7fbc41"
            ],
            [
             0.9,
             "#4d9221"
            ],
            [
             1,
             "#276419"
            ]
           ],
           "sequential": [
            [
             0,
             "#0d0887"
            ],
            [
             0.1111111111111111,
             "#46039f"
            ],
            [
             0.2222222222222222,
             "#7201a8"
            ],
            [
             0.3333333333333333,
             "#9c179e"
            ],
            [
             0.4444444444444444,
             "#bd3786"
            ],
            [
             0.5555555555555556,
             "#d8576b"
            ],
            [
             0.6666666666666666,
             "#ed7953"
            ],
            [
             0.7777777777777778,
             "#fb9f3a"
            ],
            [
             0.8888888888888888,
             "#fdca26"
            ],
            [
             1,
             "#f0f921"
            ]
           ],
           "sequentialminus": [
            [
             0,
             "#0d0887"
            ],
            [
             0.1111111111111111,
             "#46039f"
            ],
            [
             0.2222222222222222,
             "#7201a8"
            ],
            [
             0.3333333333333333,
             "#9c179e"
            ],
            [
             0.4444444444444444,
             "#bd3786"
            ],
            [
             0.5555555555555556,
             "#d8576b"
            ],
            [
             0.6666666666666666,
             "#ed7953"
            ],
            [
             0.7777777777777778,
             "#fb9f3a"
            ],
            [
             0.8888888888888888,
             "#fdca26"
            ],
            [
             1,
             "#f0f921"
            ]
           ]
          },
          "colorway": [
           "#636efa",
           "#EF553B",
           "#00cc96",
           "#ab63fa",
           "#FFA15A",
           "#19d3f3",
           "#FF6692",
           "#B6E880",
           "#FF97FF",
           "#FECB52"
          ],
          "font": {
           "color": "#2a3f5f"
          },
          "geo": {
           "bgcolor": "white",
           "lakecolor": "white",
           "landcolor": "#E5ECF6",
           "showlakes": true,
           "showland": true,
           "subunitcolor": "white"
          },
          "hoverlabel": {
           "align": "left"
          },
          "hovermode": "closest",
          "mapbox": {
           "style": "light"
          },
          "paper_bgcolor": "white",
          "plot_bgcolor": "#E5ECF6",
          "polar": {
           "angularaxis": {
            "gridcolor": "white",
            "linecolor": "white",
            "ticks": ""
           },
           "bgcolor": "#E5ECF6",
           "radialaxis": {
            "gridcolor": "white",
            "linecolor": "white",
            "ticks": ""
           }
          },
          "scene": {
           "xaxis": {
            "backgroundcolor": "#E5ECF6",
            "gridcolor": "white",
            "gridwidth": 2,
            "linecolor": "white",
            "showbackground": true,
            "ticks": "",
            "zerolinecolor": "white"
           },
           "yaxis": {
            "backgroundcolor": "#E5ECF6",
            "gridcolor": "white",
            "gridwidth": 2,
            "linecolor": "white",
            "showbackground": true,
            "ticks": "",
            "zerolinecolor": "white"
           },
           "zaxis": {
            "backgroundcolor": "#E5ECF6",
            "gridcolor": "white",
            "gridwidth": 2,
            "linecolor": "white",
            "showbackground": true,
            "ticks": "",
            "zerolinecolor": "white"
           }
          },
          "shapedefaults": {
           "line": {
            "color": "#2a3f5f"
           }
          },
          "ternary": {
           "aaxis": {
            "gridcolor": "white",
            "linecolor": "white",
            "ticks": ""
           },
           "baxis": {
            "gridcolor": "white",
            "linecolor": "white",
            "ticks": ""
           },
           "bgcolor": "#E5ECF6",
           "caxis": {
            "gridcolor": "white",
            "linecolor": "white",
            "ticks": ""
           }
          },
          "title": {
           "x": 0.05
          },
          "xaxis": {
           "automargin": true,
           "gridcolor": "white",
           "linecolor": "white",
           "ticks": "",
           "title": {
            "standoff": 15
           },
           "zerolinecolor": "white",
           "zerolinewidth": 2
          },
          "yaxis": {
           "automargin": true,
           "gridcolor": "white",
           "linecolor": "white",
           "ticks": "",
           "title": {
            "standoff": 15
           },
           "zerolinecolor": "white",
           "zerolinewidth": 2
          }
         }
        },
        "title": {
         "text": "Mallet LDA - Number of Topics vs. Coherence"
        },
        "width": 1000,
        "xaxis": {
         "anchor": "y",
         "domain": [
          0,
          1
         ],
         "dtick": 1,
         "tick0": 1,
         "tickmode": "linear"
        },
        "xaxis2": {
         "dtick": 1,
         "tick0": 1,
         "tickmode": "linear"
        },
        "yaxis": {
         "anchor": "x",
         "domain": [
          0,
          1
         ]
        }
       }
      },
      "text/html": [
       "<div>                            <div id=\"4197e28f-b484-48fe-92da-8d5b1b70a7be\" class=\"plotly-graph-div\" style=\"height:600px; width:1000px;\"></div>            <script type=\"text/javascript\">                require([\"plotly\"], function(Plotly) {                    window.PLOTLYENV=window.PLOTLYENV || {};                                    if (document.getElementById(\"4197e28f-b484-48fe-92da-8d5b1b70a7be\")) {                    Plotly.newPlot(                        \"4197e28f-b484-48fe-92da-8d5b1b70a7be\",                        [{\"mode\": \"lines+markers\", \"name\": \"Coherence score\", \"type\": \"scatter\", \"x\": [2, 3, 4, 5, 6, 7, 8, 9, 10, 11, 12, 13, 14, 15, 16, 17, 18, 19, 20, 21, 22, 23, 24], \"xaxis\": \"x\", \"y\": [0.33248804414631467, 0.33183768535320957, 0.32770637417061266, 0.3345326294291948, 0.333631901630623, 0.33585603735541314, 0.33065111168361466, 0.3298411865241866, 0.3337911955660469, 0.32797464156553136, 0.32878796499096974, 0.3251392642692752, 0.33207853036521084, 0.3282791507048797, 0.33779257503717935, 0.33678284083053606, 0.32689148081750746, 0.3317771307562605, 0.33096013560505744, 0.3285975123926345, 0.33569500200279245, 0.33569072518262577, 0.3253771262731677], \"yaxis\": \"y\"}],                        {\"annotations\": [{\"font\": {\"size\": 16}, \"showarrow\": false, \"text\": \"C\", \"x\": 0.5, \"xanchor\": \"center\", \"xref\": \"paper\", \"y\": 1.0, \"yanchor\": \"bottom\", \"yref\": \"paper\"}], \"height\": 600, \"template\": {\"data\": {\"bar\": [{\"error_x\": {\"color\": \"#2a3f5f\"}, \"error_y\": {\"color\": \"#2a3f5f\"}, \"marker\": {\"line\": {\"color\": \"#E5ECF6\", \"width\": 0.5}}, \"type\": \"bar\"}], \"barpolar\": [{\"marker\": {\"line\": {\"color\": \"#E5ECF6\", \"width\": 0.5}}, \"type\": \"barpolar\"}], \"carpet\": [{\"aaxis\": {\"endlinecolor\": \"#2a3f5f\", \"gridcolor\": \"white\", \"linecolor\": \"white\", \"minorgridcolor\": \"white\", \"startlinecolor\": \"#2a3f5f\"}, \"baxis\": {\"endlinecolor\": \"#2a3f5f\", \"gridcolor\": \"white\", \"linecolor\": \"white\", \"minorgridcolor\": \"white\", \"startlinecolor\": \"#2a3f5f\"}, \"type\": \"carpet\"}], \"choropleth\": [{\"colorbar\": {\"outlinewidth\": 0, \"ticks\": \"\"}, \"type\": \"choropleth\"}], \"contour\": [{\"colorbar\": {\"outlinewidth\": 0, \"ticks\": \"\"}, \"colorscale\": [[0.0, \"#0d0887\"], [0.1111111111111111, \"#46039f\"], [0.2222222222222222, \"#7201a8\"], [0.3333333333333333, \"#9c179e\"], [0.4444444444444444, \"#bd3786\"], [0.5555555555555556, \"#d8576b\"], [0.6666666666666666, \"#ed7953\"], [0.7777777777777778, \"#fb9f3a\"], [0.8888888888888888, \"#fdca26\"], [1.0, \"#f0f921\"]], \"type\": \"contour\"}], \"contourcarpet\": [{\"colorbar\": {\"outlinewidth\": 0, \"ticks\": \"\"}, \"type\": \"contourcarpet\"}], \"heatmap\": [{\"colorbar\": {\"outlinewidth\": 0, \"ticks\": \"\"}, \"colorscale\": [[0.0, \"#0d0887\"], [0.1111111111111111, \"#46039f\"], [0.2222222222222222, \"#7201a8\"], [0.3333333333333333, \"#9c179e\"], [0.4444444444444444, \"#bd3786\"], [0.5555555555555556, \"#d8576b\"], [0.6666666666666666, \"#ed7953\"], [0.7777777777777778, \"#fb9f3a\"], [0.8888888888888888, \"#fdca26\"], [1.0, \"#f0f921\"]], \"type\": \"heatmap\"}], \"heatmapgl\": [{\"colorbar\": {\"outlinewidth\": 0, \"ticks\": \"\"}, \"colorscale\": [[0.0, \"#0d0887\"], [0.1111111111111111, \"#46039f\"], [0.2222222222222222, \"#7201a8\"], [0.3333333333333333, \"#9c179e\"], [0.4444444444444444, \"#bd3786\"], [0.5555555555555556, \"#d8576b\"], [0.6666666666666666, \"#ed7953\"], [0.7777777777777778, \"#fb9f3a\"], [0.8888888888888888, \"#fdca26\"], [1.0, \"#f0f921\"]], \"type\": \"heatmapgl\"}], \"histogram\": [{\"marker\": {\"colorbar\": {\"outlinewidth\": 0, \"ticks\": \"\"}}, \"type\": \"histogram\"}], \"histogram2d\": [{\"colorbar\": {\"outlinewidth\": 0, \"ticks\": \"\"}, \"colorscale\": [[0.0, \"#0d0887\"], [0.1111111111111111, \"#46039f\"], [0.2222222222222222, \"#7201a8\"], [0.3333333333333333, \"#9c179e\"], [0.4444444444444444, \"#bd3786\"], [0.5555555555555556, \"#d8576b\"], [0.6666666666666666, \"#ed7953\"], [0.7777777777777778, \"#fb9f3a\"], [0.8888888888888888, \"#fdca26\"], [1.0, \"#f0f921\"]], \"type\": \"histogram2d\"}], \"histogram2dcontour\": [{\"colorbar\": {\"outlinewidth\": 0, \"ticks\": \"\"}, \"colorscale\": [[0.0, \"#0d0887\"], [0.1111111111111111, \"#46039f\"], [0.2222222222222222, \"#7201a8\"], [0.3333333333333333, \"#9c179e\"], [0.4444444444444444, \"#bd3786\"], [0.5555555555555556, \"#d8576b\"], [0.6666666666666666, \"#ed7953\"], [0.7777777777777778, \"#fb9f3a\"], [0.8888888888888888, \"#fdca26\"], [1.0, \"#f0f921\"]], \"type\": \"histogram2dcontour\"}], \"mesh3d\": [{\"colorbar\": {\"outlinewidth\": 0, \"ticks\": \"\"}, \"type\": \"mesh3d\"}], \"parcoords\": [{\"line\": {\"colorbar\": {\"outlinewidth\": 0, \"ticks\": \"\"}}, \"type\": \"parcoords\"}], \"pie\": [{\"automargin\": true, \"type\": \"pie\"}], \"scatter\": [{\"marker\": {\"colorbar\": {\"outlinewidth\": 0, \"ticks\": \"\"}}, \"type\": \"scatter\"}], \"scatter3d\": [{\"line\": {\"colorbar\": {\"outlinewidth\": 0, \"ticks\": \"\"}}, \"marker\": {\"colorbar\": {\"outlinewidth\": 0, \"ticks\": \"\"}}, \"type\": \"scatter3d\"}], \"scattercarpet\": [{\"marker\": {\"colorbar\": {\"outlinewidth\": 0, \"ticks\": \"\"}}, \"type\": \"scattercarpet\"}], \"scattergeo\": [{\"marker\": {\"colorbar\": {\"outlinewidth\": 0, \"ticks\": \"\"}}, \"type\": \"scattergeo\"}], \"scattergl\": [{\"marker\": {\"colorbar\": {\"outlinewidth\": 0, \"ticks\": \"\"}}, \"type\": \"scattergl\"}], \"scattermapbox\": [{\"marker\": {\"colorbar\": {\"outlinewidth\": 0, \"ticks\": \"\"}}, \"type\": \"scattermapbox\"}], \"scatterpolar\": [{\"marker\": {\"colorbar\": {\"outlinewidth\": 0, \"ticks\": \"\"}}, \"type\": \"scatterpolar\"}], \"scatterpolargl\": [{\"marker\": {\"colorbar\": {\"outlinewidth\": 0, \"ticks\": \"\"}}, \"type\": \"scatterpolargl\"}], \"scatterternary\": [{\"marker\": {\"colorbar\": {\"outlinewidth\": 0, \"ticks\": \"\"}}, \"type\": \"scatterternary\"}], \"surface\": [{\"colorbar\": {\"outlinewidth\": 0, \"ticks\": \"\"}, \"colorscale\": [[0.0, \"#0d0887\"], [0.1111111111111111, \"#46039f\"], [0.2222222222222222, \"#7201a8\"], [0.3333333333333333, \"#9c179e\"], [0.4444444444444444, \"#bd3786\"], [0.5555555555555556, \"#d8576b\"], [0.6666666666666666, \"#ed7953\"], [0.7777777777777778, \"#fb9f3a\"], [0.8888888888888888, \"#fdca26\"], [1.0, \"#f0f921\"]], \"type\": \"surface\"}], \"table\": [{\"cells\": {\"fill\": {\"color\": \"#EBF0F8\"}, \"line\": {\"color\": \"white\"}}, \"header\": {\"fill\": {\"color\": \"#C8D4E3\"}, \"line\": {\"color\": \"white\"}}, \"type\": \"table\"}]}, \"layout\": {\"annotationdefaults\": {\"arrowcolor\": \"#2a3f5f\", \"arrowhead\": 0, \"arrowwidth\": 1}, \"autotypenumbers\": \"strict\", \"coloraxis\": {\"colorbar\": {\"outlinewidth\": 0, \"ticks\": \"\"}}, \"colorscale\": {\"diverging\": [[0, \"#8e0152\"], [0.1, \"#c51b7d\"], [0.2, \"#de77ae\"], [0.3, \"#f1b6da\"], [0.4, \"#fde0ef\"], [0.5, \"#f7f7f7\"], [0.6, \"#e6f5d0\"], [0.7, \"#b8e186\"], [0.8, \"#7fbc41\"], [0.9, \"#4d9221\"], [1, \"#276419\"]], \"sequential\": [[0.0, \"#0d0887\"], [0.1111111111111111, \"#46039f\"], [0.2222222222222222, \"#7201a8\"], [0.3333333333333333, \"#9c179e\"], [0.4444444444444444, \"#bd3786\"], [0.5555555555555556, \"#d8576b\"], [0.6666666666666666, \"#ed7953\"], [0.7777777777777778, \"#fb9f3a\"], [0.8888888888888888, \"#fdca26\"], [1.0, \"#f0f921\"]], \"sequentialminus\": [[0.0, \"#0d0887\"], [0.1111111111111111, \"#46039f\"], [0.2222222222222222, \"#7201a8\"], [0.3333333333333333, \"#9c179e\"], [0.4444444444444444, \"#bd3786\"], [0.5555555555555556, \"#d8576b\"], [0.6666666666666666, \"#ed7953\"], [0.7777777777777778, \"#fb9f3a\"], [0.8888888888888888, \"#fdca26\"], [1.0, \"#f0f921\"]]}, \"colorway\": [\"#636efa\", \"#EF553B\", \"#00cc96\", \"#ab63fa\", \"#FFA15A\", \"#19d3f3\", \"#FF6692\", \"#B6E880\", \"#FF97FF\", \"#FECB52\"], \"font\": {\"color\": \"#2a3f5f\"}, \"geo\": {\"bgcolor\": \"white\", \"lakecolor\": \"white\", \"landcolor\": \"#E5ECF6\", \"showlakes\": true, \"showland\": true, \"subunitcolor\": \"white\"}, \"hoverlabel\": {\"align\": \"left\"}, \"hovermode\": \"closest\", \"mapbox\": {\"style\": \"light\"}, \"paper_bgcolor\": \"white\", \"plot_bgcolor\": \"#E5ECF6\", \"polar\": {\"angularaxis\": {\"gridcolor\": \"white\", \"linecolor\": \"white\", \"ticks\": \"\"}, \"bgcolor\": \"#E5ECF6\", \"radialaxis\": {\"gridcolor\": \"white\", \"linecolor\": \"white\", \"ticks\": \"\"}}, \"scene\": {\"xaxis\": {\"backgroundcolor\": \"#E5ECF6\", \"gridcolor\": \"white\", \"gridwidth\": 2, \"linecolor\": \"white\", \"showbackground\": true, \"ticks\": \"\", \"zerolinecolor\": \"white\"}, \"yaxis\": {\"backgroundcolor\": \"#E5ECF6\", \"gridcolor\": \"white\", \"gridwidth\": 2, \"linecolor\": \"white\", \"showbackground\": true, \"ticks\": \"\", \"zerolinecolor\": \"white\"}, \"zaxis\": {\"backgroundcolor\": \"#E5ECF6\", \"gridcolor\": \"white\", \"gridwidth\": 2, \"linecolor\": \"white\", \"showbackground\": true, \"ticks\": \"\", \"zerolinecolor\": \"white\"}}, \"shapedefaults\": {\"line\": {\"color\": \"#2a3f5f\"}}, \"ternary\": {\"aaxis\": {\"gridcolor\": \"white\", \"linecolor\": \"white\", \"ticks\": \"\"}, \"baxis\": {\"gridcolor\": \"white\", \"linecolor\": \"white\", \"ticks\": \"\"}, \"bgcolor\": \"#E5ECF6\", \"caxis\": {\"gridcolor\": \"white\", \"linecolor\": \"white\", \"ticks\": \"\"}}, \"title\": {\"x\": 0.05}, \"xaxis\": {\"automargin\": true, \"gridcolor\": \"white\", \"linecolor\": \"white\", \"ticks\": \"\", \"title\": {\"standoff\": 15}, \"zerolinecolor\": \"white\", \"zerolinewidth\": 2}, \"yaxis\": {\"automargin\": true, \"gridcolor\": \"white\", \"linecolor\": \"white\", \"ticks\": \"\", \"title\": {\"standoff\": 15}, \"zerolinecolor\": \"white\", \"zerolinewidth\": 2}}}, \"title\": {\"text\": \"Mallet LDA - Number of Topics vs. Coherence\"}, \"width\": 1000, \"xaxis\": {\"anchor\": \"y\", \"domain\": [0.0, 1.0], \"dtick\": 1, \"tick0\": 1, \"tickmode\": \"linear\"}, \"xaxis2\": {\"dtick\": 1, \"tick0\": 1, \"tickmode\": \"linear\"}, \"yaxis\": {\"anchor\": \"x\", \"domain\": [0.0, 1.0]}},                        {\"responsive\": true}                    ).then(function(){\n",
       "                            \n",
       "var gd = document.getElementById('4197e28f-b484-48fe-92da-8d5b1b70a7be');\n",
       "var x = new MutationObserver(function (mutations, observer) {{\n",
       "        var display = window.getComputedStyle(gd).display;\n",
       "        if (!display || display === 'none') {{\n",
       "            console.log([gd, 'removed!']);\n",
       "            Plotly.purge(gd);\n",
       "            observer.disconnect();\n",
       "        }}\n",
       "}});\n",
       "\n",
       "// Listen for the removal of the full notebook cells\n",
       "var notebookContainer = gd.closest('#notebook-container');\n",
       "if (notebookContainer) {{\n",
       "    x.observe(notebookContainer, {childList: true});\n",
       "}}\n",
       "\n",
       "// Listen for the clearing of the current output cell\n",
       "var outputEl = gd.closest('.output');\n",
       "if (outputEl) {{\n",
       "    x.observe(outputEl, {childList: true});\n",
       "}}\n",
       "\n",
       "                        })                };                });            </script>        </div>"
      ]
     },
     "metadata": {},
     "output_type": "display_data"
    }
   ],
   "source": [
    "mallet_coherence = []\n",
    "for k in range(2,25):\n",
    "    print('Round: '+str(k))\n",
    "    sample_ldamodel_mallet = gensim.models.wrappers.LdaMallet(\n",
    "       mallet_path, corpus=corpus, id2word=id2word)\n",
    "    \n",
    "    cm = gensim.models.coherencemodel.CoherenceModel(model=sample_ldamodel_mallet, texts=data_lemma, dictionary=id2word, coherence='c_v')\n",
    "    mallet_coherence.append((k,cm.get_coherence()))\n",
    "    \n",
    "    \n",
    "x_val = [x[0] for x in mallet_coherence]\n",
    "y_val = [x[1] for x in mallet_coherence]"
   ]
  },
  {
   "cell_type": "code",
   "execution_count": 138,
   "metadata": {},
   "outputs": [
    {
     "data": {
      "application/vnd.plotly.v1+json": {
       "config": {
        "plotlyServerURL": "https://plot.ly"
       },
       "data": [
        {
         "mode": "lines+markers",
         "name": "Coherence score",
         "type": "scatter",
         "x": [
          2,
          3,
          4,
          5,
          6,
          7,
          8,
          9,
          10,
          11,
          12,
          13,
          14,
          15,
          16,
          17,
          18,
          19,
          20,
          21,
          22,
          23,
          24
         ],
         "xaxis": "x",
         "y": [
          0.33248804414631467,
          0.33183768535320957,
          0.32770637417061266,
          0.3345326294291948,
          0.333631901630623,
          0.33585603735541314,
          0.33065111168361466,
          0.3298411865241866,
          0.3337911955660469,
          0.32797464156553136,
          0.32878796499096974,
          0.3251392642692752,
          0.33207853036521084,
          0.3282791507048797,
          0.33779257503717935,
          0.33678284083053606,
          0.32689148081750746,
          0.3317771307562605,
          0.33096013560505744,
          0.3285975123926345,
          0.33569500200279245,
          0.33569072518262577,
          0.3253771262731677
         ],
         "yaxis": "y"
        }
       ],
       "layout": {
        "annotations": [
         {
          "font": {
           "size": 16
          },
          "showarrow": false,
          "text": "C",
          "x": 0.5,
          "xanchor": "center",
          "xref": "paper",
          "y": 1,
          "yanchor": "bottom",
          "yref": "paper"
         }
        ],
        "height": 600,
        "template": {
         "data": {
          "bar": [
           {
            "error_x": {
             "color": "#2a3f5f"
            },
            "error_y": {
             "color": "#2a3f5f"
            },
            "marker": {
             "line": {
              "color": "#E5ECF6",
              "width": 0.5
             }
            },
            "type": "bar"
           }
          ],
          "barpolar": [
           {
            "marker": {
             "line": {
              "color": "#E5ECF6",
              "width": 0.5
             }
            },
            "type": "barpolar"
           }
          ],
          "carpet": [
           {
            "aaxis": {
             "endlinecolor": "#2a3f5f",
             "gridcolor": "white",
             "linecolor": "white",
             "minorgridcolor": "white",
             "startlinecolor": "#2a3f5f"
            },
            "baxis": {
             "endlinecolor": "#2a3f5f",
             "gridcolor": "white",
             "linecolor": "white",
             "minorgridcolor": "white",
             "startlinecolor": "#2a3f5f"
            },
            "type": "carpet"
           }
          ],
          "choropleth": [
           {
            "colorbar": {
             "outlinewidth": 0,
             "ticks": ""
            },
            "type": "choropleth"
           }
          ],
          "contour": [
           {
            "colorbar": {
             "outlinewidth": 0,
             "ticks": ""
            },
            "colorscale": [
             [
              0,
              "#0d0887"
             ],
             [
              0.1111111111111111,
              "#46039f"
             ],
             [
              0.2222222222222222,
              "#7201a8"
             ],
             [
              0.3333333333333333,
              "#9c179e"
             ],
             [
              0.4444444444444444,
              "#bd3786"
             ],
             [
              0.5555555555555556,
              "#d8576b"
             ],
             [
              0.6666666666666666,
              "#ed7953"
             ],
             [
              0.7777777777777778,
              "#fb9f3a"
             ],
             [
              0.8888888888888888,
              "#fdca26"
             ],
             [
              1,
              "#f0f921"
             ]
            ],
            "type": "contour"
           }
          ],
          "contourcarpet": [
           {
            "colorbar": {
             "outlinewidth": 0,
             "ticks": ""
            },
            "type": "contourcarpet"
           }
          ],
          "heatmap": [
           {
            "colorbar": {
             "outlinewidth": 0,
             "ticks": ""
            },
            "colorscale": [
             [
              0,
              "#0d0887"
             ],
             [
              0.1111111111111111,
              "#46039f"
             ],
             [
              0.2222222222222222,
              "#7201a8"
             ],
             [
              0.3333333333333333,
              "#9c179e"
             ],
             [
              0.4444444444444444,
              "#bd3786"
             ],
             [
              0.5555555555555556,
              "#d8576b"
             ],
             [
              0.6666666666666666,
              "#ed7953"
             ],
             [
              0.7777777777777778,
              "#fb9f3a"
             ],
             [
              0.8888888888888888,
              "#fdca26"
             ],
             [
              1,
              "#f0f921"
             ]
            ],
            "type": "heatmap"
           }
          ],
          "heatmapgl": [
           {
            "colorbar": {
             "outlinewidth": 0,
             "ticks": ""
            },
            "colorscale": [
             [
              0,
              "#0d0887"
             ],
             [
              0.1111111111111111,
              "#46039f"
             ],
             [
              0.2222222222222222,
              "#7201a8"
             ],
             [
              0.3333333333333333,
              "#9c179e"
             ],
             [
              0.4444444444444444,
              "#bd3786"
             ],
             [
              0.5555555555555556,
              "#d8576b"
             ],
             [
              0.6666666666666666,
              "#ed7953"
             ],
             [
              0.7777777777777778,
              "#fb9f3a"
             ],
             [
              0.8888888888888888,
              "#fdca26"
             ],
             [
              1,
              "#f0f921"
             ]
            ],
            "type": "heatmapgl"
           }
          ],
          "histogram": [
           {
            "marker": {
             "colorbar": {
              "outlinewidth": 0,
              "ticks": ""
             }
            },
            "type": "histogram"
           }
          ],
          "histogram2d": [
           {
            "colorbar": {
             "outlinewidth": 0,
             "ticks": ""
            },
            "colorscale": [
             [
              0,
              "#0d0887"
             ],
             [
              0.1111111111111111,
              "#46039f"
             ],
             [
              0.2222222222222222,
              "#7201a8"
             ],
             [
              0.3333333333333333,
              "#9c179e"
             ],
             [
              0.4444444444444444,
              "#bd3786"
             ],
             [
              0.5555555555555556,
              "#d8576b"
             ],
             [
              0.6666666666666666,
              "#ed7953"
             ],
             [
              0.7777777777777778,
              "#fb9f3a"
             ],
             [
              0.8888888888888888,
              "#fdca26"
             ],
             [
              1,
              "#f0f921"
             ]
            ],
            "type": "histogram2d"
           }
          ],
          "histogram2dcontour": [
           {
            "colorbar": {
             "outlinewidth": 0,
             "ticks": ""
            },
            "colorscale": [
             [
              0,
              "#0d0887"
             ],
             [
              0.1111111111111111,
              "#46039f"
             ],
             [
              0.2222222222222222,
              "#7201a8"
             ],
             [
              0.3333333333333333,
              "#9c179e"
             ],
             [
              0.4444444444444444,
              "#bd3786"
             ],
             [
              0.5555555555555556,
              "#d8576b"
             ],
             [
              0.6666666666666666,
              "#ed7953"
             ],
             [
              0.7777777777777778,
              "#fb9f3a"
             ],
             [
              0.8888888888888888,
              "#fdca26"
             ],
             [
              1,
              "#f0f921"
             ]
            ],
            "type": "histogram2dcontour"
           }
          ],
          "mesh3d": [
           {
            "colorbar": {
             "outlinewidth": 0,
             "ticks": ""
            },
            "type": "mesh3d"
           }
          ],
          "parcoords": [
           {
            "line": {
             "colorbar": {
              "outlinewidth": 0,
              "ticks": ""
             }
            },
            "type": "parcoords"
           }
          ],
          "pie": [
           {
            "automargin": true,
            "type": "pie"
           }
          ],
          "scatter": [
           {
            "marker": {
             "colorbar": {
              "outlinewidth": 0,
              "ticks": ""
             }
            },
            "type": "scatter"
           }
          ],
          "scatter3d": [
           {
            "line": {
             "colorbar": {
              "outlinewidth": 0,
              "ticks": ""
             }
            },
            "marker": {
             "colorbar": {
              "outlinewidth": 0,
              "ticks": ""
             }
            },
            "type": "scatter3d"
           }
          ],
          "scattercarpet": [
           {
            "marker": {
             "colorbar": {
              "outlinewidth": 0,
              "ticks": ""
             }
            },
            "type": "scattercarpet"
           }
          ],
          "scattergeo": [
           {
            "marker": {
             "colorbar": {
              "outlinewidth": 0,
              "ticks": ""
             }
            },
            "type": "scattergeo"
           }
          ],
          "scattergl": [
           {
            "marker": {
             "colorbar": {
              "outlinewidth": 0,
              "ticks": ""
             }
            },
            "type": "scattergl"
           }
          ],
          "scattermapbox": [
           {
            "marker": {
             "colorbar": {
              "outlinewidth": 0,
              "ticks": ""
             }
            },
            "type": "scattermapbox"
           }
          ],
          "scatterpolar": [
           {
            "marker": {
             "colorbar": {
              "outlinewidth": 0,
              "ticks": ""
             }
            },
            "type": "scatterpolar"
           }
          ],
          "scatterpolargl": [
           {
            "marker": {
             "colorbar": {
              "outlinewidth": 0,
              "ticks": ""
             }
            },
            "type": "scatterpolargl"
           }
          ],
          "scatterternary": [
           {
            "marker": {
             "colorbar": {
              "outlinewidth": 0,
              "ticks": ""
             }
            },
            "type": "scatterternary"
           }
          ],
          "surface": [
           {
            "colorbar": {
             "outlinewidth": 0,
             "ticks": ""
            },
            "colorscale": [
             [
              0,
              "#0d0887"
             ],
             [
              0.1111111111111111,
              "#46039f"
             ],
             [
              0.2222222222222222,
              "#7201a8"
             ],
             [
              0.3333333333333333,
              "#9c179e"
             ],
             [
              0.4444444444444444,
              "#bd3786"
             ],
             [
              0.5555555555555556,
              "#d8576b"
             ],
             [
              0.6666666666666666,
              "#ed7953"
             ],
             [
              0.7777777777777778,
              "#fb9f3a"
             ],
             [
              0.8888888888888888,
              "#fdca26"
             ],
             [
              1,
              "#f0f921"
             ]
            ],
            "type": "surface"
           }
          ],
          "table": [
           {
            "cells": {
             "fill": {
              "color": "#EBF0F8"
             },
             "line": {
              "color": "white"
             }
            },
            "header": {
             "fill": {
              "color": "#C8D4E3"
             },
             "line": {
              "color": "white"
             }
            },
            "type": "table"
           }
          ]
         },
         "layout": {
          "annotationdefaults": {
           "arrowcolor": "#2a3f5f",
           "arrowhead": 0,
           "arrowwidth": 1
          },
          "autotypenumbers": "strict",
          "coloraxis": {
           "colorbar": {
            "outlinewidth": 0,
            "ticks": ""
           }
          },
          "colorscale": {
           "diverging": [
            [
             0,
             "#8e0152"
            ],
            [
             0.1,
             "#c51b7d"
            ],
            [
             0.2,
             "#de77ae"
            ],
            [
             0.3,
             "#f1b6da"
            ],
            [
             0.4,
             "#fde0ef"
            ],
            [
             0.5,
             "#f7f7f7"
            ],
            [
             0.6,
             "#e6f5d0"
            ],
            [
             0.7,
             "#b8e186"
            ],
            [
             0.8,
             "#7fbc41"
            ],
            [
             0.9,
             "#4d9221"
            ],
            [
             1,
             "#276419"
            ]
           ],
           "sequential": [
            [
             0,
             "#0d0887"
            ],
            [
             0.1111111111111111,
             "#46039f"
            ],
            [
             0.2222222222222222,
             "#7201a8"
            ],
            [
             0.3333333333333333,
             "#9c179e"
            ],
            [
             0.4444444444444444,
             "#bd3786"
            ],
            [
             0.5555555555555556,
             "#d8576b"
            ],
            [
             0.6666666666666666,
             "#ed7953"
            ],
            [
             0.7777777777777778,
             "#fb9f3a"
            ],
            [
             0.8888888888888888,
             "#fdca26"
            ],
            [
             1,
             "#f0f921"
            ]
           ],
           "sequentialminus": [
            [
             0,
             "#0d0887"
            ],
            [
             0.1111111111111111,
             "#46039f"
            ],
            [
             0.2222222222222222,
             "#7201a8"
            ],
            [
             0.3333333333333333,
             "#9c179e"
            ],
            [
             0.4444444444444444,
             "#bd3786"
            ],
            [
             0.5555555555555556,
             "#d8576b"
            ],
            [
             0.6666666666666666,
             "#ed7953"
            ],
            [
             0.7777777777777778,
             "#fb9f3a"
            ],
            [
             0.8888888888888888,
             "#fdca26"
            ],
            [
             1,
             "#f0f921"
            ]
           ]
          },
          "colorway": [
           "#636efa",
           "#EF553B",
           "#00cc96",
           "#ab63fa",
           "#FFA15A",
           "#19d3f3",
           "#FF6692",
           "#B6E880",
           "#FF97FF",
           "#FECB52"
          ],
          "font": {
           "color": "#2a3f5f"
          },
          "geo": {
           "bgcolor": "white",
           "lakecolor": "white",
           "landcolor": "#E5ECF6",
           "showlakes": true,
           "showland": true,
           "subunitcolor": "white"
          },
          "hoverlabel": {
           "align": "left"
          },
          "hovermode": "closest",
          "mapbox": {
           "style": "light"
          },
          "paper_bgcolor": "white",
          "plot_bgcolor": "#E5ECF6",
          "polar": {
           "angularaxis": {
            "gridcolor": "white",
            "linecolor": "white",
            "ticks": ""
           },
           "bgcolor": "#E5ECF6",
           "radialaxis": {
            "gridcolor": "white",
            "linecolor": "white",
            "ticks": ""
           }
          },
          "scene": {
           "xaxis": {
            "backgroundcolor": "#E5ECF6",
            "gridcolor": "white",
            "gridwidth": 2,
            "linecolor": "white",
            "showbackground": true,
            "ticks": "",
            "zerolinecolor": "white"
           },
           "yaxis": {
            "backgroundcolor": "#E5ECF6",
            "gridcolor": "white",
            "gridwidth": 2,
            "linecolor": "white",
            "showbackground": true,
            "ticks": "",
            "zerolinecolor": "white"
           },
           "zaxis": {
            "backgroundcolor": "#E5ECF6",
            "gridcolor": "white",
            "gridwidth": 2,
            "linecolor": "white",
            "showbackground": true,
            "ticks": "",
            "zerolinecolor": "white"
           }
          },
          "shapedefaults": {
           "line": {
            "color": "#2a3f5f"
           }
          },
          "ternary": {
           "aaxis": {
            "gridcolor": "white",
            "linecolor": "white",
            "ticks": ""
           },
           "baxis": {
            "gridcolor": "white",
            "linecolor": "white",
            "ticks": ""
           },
           "bgcolor": "#E5ECF6",
           "caxis": {
            "gridcolor": "white",
            "linecolor": "white",
            "ticks": ""
           }
          },
          "title": {
           "x": 0.05
          },
          "xaxis": {
           "automargin": true,
           "gridcolor": "white",
           "linecolor": "white",
           "ticks": "",
           "title": {
            "standoff": 15
           },
           "zerolinecolor": "white",
           "zerolinewidth": 2
          },
          "yaxis": {
           "automargin": true,
           "gridcolor": "white",
           "linecolor": "white",
           "ticks": "",
           "title": {
            "standoff": 15
           },
           "zerolinecolor": "white",
           "zerolinewidth": 2
          }
         }
        },
        "title": {
         "text": "Mallet LDA - Number of Topics vs. Coherence"
        },
        "width": 1000,
        "xaxis": {
         "anchor": "y",
         "domain": [
          0,
          1
         ],
         "dtick": 1,
         "tick0": 1,
         "tickmode": "linear"
        },
        "xaxis2": {
         "dtick": 1,
         "tick0": 1,
         "tickmode": "linear"
        },
        "yaxis": {
         "anchor": "x",
         "domain": [
          0,
          1
         ]
        }
       }
      },
      "text/html": [
       "<div>                            <div id=\"340346eb-acbb-4eb1-b90d-dabe0fd00b53\" class=\"plotly-graph-div\" style=\"height:600px; width:1000px;\"></div>            <script type=\"text/javascript\">                require([\"plotly\"], function(Plotly) {                    window.PLOTLYENV=window.PLOTLYENV || {};                                    if (document.getElementById(\"340346eb-acbb-4eb1-b90d-dabe0fd00b53\")) {                    Plotly.newPlot(                        \"340346eb-acbb-4eb1-b90d-dabe0fd00b53\",                        [{\"mode\": \"lines+markers\", \"name\": \"Coherence score\", \"type\": \"scatter\", \"x\": [2, 3, 4, 5, 6, 7, 8, 9, 10, 11, 12, 13, 14, 15, 16, 17, 18, 19, 20, 21, 22, 23, 24], \"xaxis\": \"x\", \"y\": [0.33248804414631467, 0.33183768535320957, 0.32770637417061266, 0.3345326294291948, 0.333631901630623, 0.33585603735541314, 0.33065111168361466, 0.3298411865241866, 0.3337911955660469, 0.32797464156553136, 0.32878796499096974, 0.3251392642692752, 0.33207853036521084, 0.3282791507048797, 0.33779257503717935, 0.33678284083053606, 0.32689148081750746, 0.3317771307562605, 0.33096013560505744, 0.3285975123926345, 0.33569500200279245, 0.33569072518262577, 0.3253771262731677], \"yaxis\": \"y\"}],                        {\"annotations\": [{\"font\": {\"size\": 16}, \"showarrow\": false, \"text\": \"C\", \"x\": 0.5, \"xanchor\": \"center\", \"xref\": \"paper\", \"y\": 1.0, \"yanchor\": \"bottom\", \"yref\": \"paper\"}], \"height\": 600, \"template\": {\"data\": {\"bar\": [{\"error_x\": {\"color\": \"#2a3f5f\"}, \"error_y\": {\"color\": \"#2a3f5f\"}, \"marker\": {\"line\": {\"color\": \"#E5ECF6\", \"width\": 0.5}}, \"type\": \"bar\"}], \"barpolar\": [{\"marker\": {\"line\": {\"color\": \"#E5ECF6\", \"width\": 0.5}}, \"type\": \"barpolar\"}], \"carpet\": [{\"aaxis\": {\"endlinecolor\": \"#2a3f5f\", \"gridcolor\": \"white\", \"linecolor\": \"white\", \"minorgridcolor\": \"white\", \"startlinecolor\": \"#2a3f5f\"}, \"baxis\": {\"endlinecolor\": \"#2a3f5f\", \"gridcolor\": \"white\", \"linecolor\": \"white\", \"minorgridcolor\": \"white\", \"startlinecolor\": \"#2a3f5f\"}, \"type\": \"carpet\"}], \"choropleth\": [{\"colorbar\": {\"outlinewidth\": 0, \"ticks\": \"\"}, \"type\": \"choropleth\"}], \"contour\": [{\"colorbar\": {\"outlinewidth\": 0, \"ticks\": \"\"}, \"colorscale\": [[0.0, \"#0d0887\"], [0.1111111111111111, \"#46039f\"], [0.2222222222222222, \"#7201a8\"], [0.3333333333333333, \"#9c179e\"], [0.4444444444444444, \"#bd3786\"], [0.5555555555555556, \"#d8576b\"], [0.6666666666666666, \"#ed7953\"], [0.7777777777777778, \"#fb9f3a\"], [0.8888888888888888, \"#fdca26\"], [1.0, \"#f0f921\"]], \"type\": \"contour\"}], \"contourcarpet\": [{\"colorbar\": {\"outlinewidth\": 0, \"ticks\": \"\"}, \"type\": \"contourcarpet\"}], \"heatmap\": [{\"colorbar\": {\"outlinewidth\": 0, \"ticks\": \"\"}, \"colorscale\": [[0.0, \"#0d0887\"], [0.1111111111111111, \"#46039f\"], [0.2222222222222222, \"#7201a8\"], [0.3333333333333333, \"#9c179e\"], [0.4444444444444444, \"#bd3786\"], [0.5555555555555556, \"#d8576b\"], [0.6666666666666666, \"#ed7953\"], [0.7777777777777778, \"#fb9f3a\"], [0.8888888888888888, \"#fdca26\"], [1.0, \"#f0f921\"]], \"type\": \"heatmap\"}], \"heatmapgl\": [{\"colorbar\": {\"outlinewidth\": 0, \"ticks\": \"\"}, \"colorscale\": [[0.0, \"#0d0887\"], [0.1111111111111111, \"#46039f\"], [0.2222222222222222, \"#7201a8\"], [0.3333333333333333, \"#9c179e\"], [0.4444444444444444, \"#bd3786\"], [0.5555555555555556, \"#d8576b\"], [0.6666666666666666, \"#ed7953\"], [0.7777777777777778, \"#fb9f3a\"], [0.8888888888888888, \"#fdca26\"], [1.0, \"#f0f921\"]], \"type\": \"heatmapgl\"}], \"histogram\": [{\"marker\": {\"colorbar\": {\"outlinewidth\": 0, \"ticks\": \"\"}}, \"type\": \"histogram\"}], \"histogram2d\": [{\"colorbar\": {\"outlinewidth\": 0, \"ticks\": \"\"}, \"colorscale\": [[0.0, \"#0d0887\"], [0.1111111111111111, \"#46039f\"], [0.2222222222222222, \"#7201a8\"], [0.3333333333333333, \"#9c179e\"], [0.4444444444444444, \"#bd3786\"], [0.5555555555555556, \"#d8576b\"], [0.6666666666666666, \"#ed7953\"], [0.7777777777777778, \"#fb9f3a\"], [0.8888888888888888, \"#fdca26\"], [1.0, \"#f0f921\"]], \"type\": \"histogram2d\"}], \"histogram2dcontour\": [{\"colorbar\": {\"outlinewidth\": 0, \"ticks\": \"\"}, \"colorscale\": [[0.0, \"#0d0887\"], [0.1111111111111111, \"#46039f\"], [0.2222222222222222, \"#7201a8\"], [0.3333333333333333, \"#9c179e\"], [0.4444444444444444, \"#bd3786\"], [0.5555555555555556, \"#d8576b\"], [0.6666666666666666, \"#ed7953\"], [0.7777777777777778, \"#fb9f3a\"], [0.8888888888888888, \"#fdca26\"], [1.0, \"#f0f921\"]], \"type\": \"histogram2dcontour\"}], \"mesh3d\": [{\"colorbar\": {\"outlinewidth\": 0, \"ticks\": \"\"}, \"type\": \"mesh3d\"}], \"parcoords\": [{\"line\": {\"colorbar\": {\"outlinewidth\": 0, \"ticks\": \"\"}}, \"type\": \"parcoords\"}], \"pie\": [{\"automargin\": true, \"type\": \"pie\"}], \"scatter\": [{\"marker\": {\"colorbar\": {\"outlinewidth\": 0, \"ticks\": \"\"}}, \"type\": \"scatter\"}], \"scatter3d\": [{\"line\": {\"colorbar\": {\"outlinewidth\": 0, \"ticks\": \"\"}}, \"marker\": {\"colorbar\": {\"outlinewidth\": 0, \"ticks\": \"\"}}, \"type\": \"scatter3d\"}], \"scattercarpet\": [{\"marker\": {\"colorbar\": {\"outlinewidth\": 0, \"ticks\": \"\"}}, \"type\": \"scattercarpet\"}], \"scattergeo\": [{\"marker\": {\"colorbar\": {\"outlinewidth\": 0, \"ticks\": \"\"}}, \"type\": \"scattergeo\"}], \"scattergl\": [{\"marker\": {\"colorbar\": {\"outlinewidth\": 0, \"ticks\": \"\"}}, \"type\": \"scattergl\"}], \"scattermapbox\": [{\"marker\": {\"colorbar\": {\"outlinewidth\": 0, \"ticks\": \"\"}}, \"type\": \"scattermapbox\"}], \"scatterpolar\": [{\"marker\": {\"colorbar\": {\"outlinewidth\": 0, \"ticks\": \"\"}}, \"type\": \"scatterpolar\"}], \"scatterpolargl\": [{\"marker\": {\"colorbar\": {\"outlinewidth\": 0, \"ticks\": \"\"}}, \"type\": \"scatterpolargl\"}], \"scatterternary\": [{\"marker\": {\"colorbar\": {\"outlinewidth\": 0, \"ticks\": \"\"}}, \"type\": \"scatterternary\"}], \"surface\": [{\"colorbar\": {\"outlinewidth\": 0, \"ticks\": \"\"}, \"colorscale\": [[0.0, \"#0d0887\"], [0.1111111111111111, \"#46039f\"], [0.2222222222222222, \"#7201a8\"], [0.3333333333333333, \"#9c179e\"], [0.4444444444444444, \"#bd3786\"], [0.5555555555555556, \"#d8576b\"], [0.6666666666666666, \"#ed7953\"], [0.7777777777777778, \"#fb9f3a\"], [0.8888888888888888, \"#fdca26\"], [1.0, \"#f0f921\"]], \"type\": \"surface\"}], \"table\": [{\"cells\": {\"fill\": {\"color\": \"#EBF0F8\"}, \"line\": {\"color\": \"white\"}}, \"header\": {\"fill\": {\"color\": \"#C8D4E3\"}, \"line\": {\"color\": \"white\"}}, \"type\": \"table\"}]}, \"layout\": {\"annotationdefaults\": {\"arrowcolor\": \"#2a3f5f\", \"arrowhead\": 0, \"arrowwidth\": 1}, \"autotypenumbers\": \"strict\", \"coloraxis\": {\"colorbar\": {\"outlinewidth\": 0, \"ticks\": \"\"}}, \"colorscale\": {\"diverging\": [[0, \"#8e0152\"], [0.1, \"#c51b7d\"], [0.2, \"#de77ae\"], [0.3, \"#f1b6da\"], [0.4, \"#fde0ef\"], [0.5, \"#f7f7f7\"], [0.6, \"#e6f5d0\"], [0.7, \"#b8e186\"], [0.8, \"#7fbc41\"], [0.9, \"#4d9221\"], [1, \"#276419\"]], \"sequential\": [[0.0, \"#0d0887\"], [0.1111111111111111, \"#46039f\"], [0.2222222222222222, \"#7201a8\"], [0.3333333333333333, \"#9c179e\"], [0.4444444444444444, \"#bd3786\"], [0.5555555555555556, \"#d8576b\"], [0.6666666666666666, \"#ed7953\"], [0.7777777777777778, \"#fb9f3a\"], [0.8888888888888888, \"#fdca26\"], [1.0, \"#f0f921\"]], \"sequentialminus\": [[0.0, \"#0d0887\"], [0.1111111111111111, \"#46039f\"], [0.2222222222222222, \"#7201a8\"], [0.3333333333333333, \"#9c179e\"], [0.4444444444444444, \"#bd3786\"], [0.5555555555555556, \"#d8576b\"], [0.6666666666666666, \"#ed7953\"], [0.7777777777777778, \"#fb9f3a\"], [0.8888888888888888, \"#fdca26\"], [1.0, \"#f0f921\"]]}, \"colorway\": [\"#636efa\", \"#EF553B\", \"#00cc96\", \"#ab63fa\", \"#FFA15A\", \"#19d3f3\", \"#FF6692\", \"#B6E880\", \"#FF97FF\", \"#FECB52\"], \"font\": {\"color\": \"#2a3f5f\"}, \"geo\": {\"bgcolor\": \"white\", \"lakecolor\": \"white\", \"landcolor\": \"#E5ECF6\", \"showlakes\": true, \"showland\": true, \"subunitcolor\": \"white\"}, \"hoverlabel\": {\"align\": \"left\"}, \"hovermode\": \"closest\", \"mapbox\": {\"style\": \"light\"}, \"paper_bgcolor\": \"white\", \"plot_bgcolor\": \"#E5ECF6\", \"polar\": {\"angularaxis\": {\"gridcolor\": \"white\", \"linecolor\": \"white\", \"ticks\": \"\"}, \"bgcolor\": \"#E5ECF6\", \"radialaxis\": {\"gridcolor\": \"white\", \"linecolor\": \"white\", \"ticks\": \"\"}}, \"scene\": {\"xaxis\": {\"backgroundcolor\": \"#E5ECF6\", \"gridcolor\": \"white\", \"gridwidth\": 2, \"linecolor\": \"white\", \"showbackground\": true, \"ticks\": \"\", \"zerolinecolor\": \"white\"}, \"yaxis\": {\"backgroundcolor\": \"#E5ECF6\", \"gridcolor\": \"white\", \"gridwidth\": 2, \"linecolor\": \"white\", \"showbackground\": true, \"ticks\": \"\", \"zerolinecolor\": \"white\"}, \"zaxis\": {\"backgroundcolor\": \"#E5ECF6\", \"gridcolor\": \"white\", \"gridwidth\": 2, \"linecolor\": \"white\", \"showbackground\": true, \"ticks\": \"\", \"zerolinecolor\": \"white\"}}, \"shapedefaults\": {\"line\": {\"color\": \"#2a3f5f\"}}, \"ternary\": {\"aaxis\": {\"gridcolor\": \"white\", \"linecolor\": \"white\", \"ticks\": \"\"}, \"baxis\": {\"gridcolor\": \"white\", \"linecolor\": \"white\", \"ticks\": \"\"}, \"bgcolor\": \"#E5ECF6\", \"caxis\": {\"gridcolor\": \"white\", \"linecolor\": \"white\", \"ticks\": \"\"}}, \"title\": {\"x\": 0.05}, \"xaxis\": {\"automargin\": true, \"gridcolor\": \"white\", \"linecolor\": \"white\", \"ticks\": \"\", \"title\": {\"standoff\": 15}, \"zerolinecolor\": \"white\", \"zerolinewidth\": 2}, \"yaxis\": {\"automargin\": true, \"gridcolor\": \"white\", \"linecolor\": \"white\", \"ticks\": \"\", \"title\": {\"standoff\": 15}, \"zerolinecolor\": \"white\", \"zerolinewidth\": 2}}}, \"title\": {\"text\": \"Mallet LDA - Number of Topics vs. Coherence\"}, \"width\": 1000, \"xaxis\": {\"anchor\": \"y\", \"domain\": [0.0, 1.0], \"dtick\": 1, \"tick0\": 1, \"tickmode\": \"linear\"}, \"xaxis2\": {\"dtick\": 1, \"tick0\": 1, \"tickmode\": \"linear\"}, \"yaxis\": {\"anchor\": \"x\", \"domain\": [0.0, 1.0]}},                        {\"responsive\": true}                    ).then(function(){\n",
       "                            \n",
       "var gd = document.getElementById('340346eb-acbb-4eb1-b90d-dabe0fd00b53');\n",
       "var x = new MutationObserver(function (mutations, observer) {{\n",
       "        var display = window.getComputedStyle(gd).display;\n",
       "        if (!display || display === 'none') {{\n",
       "            console.log([gd, 'removed!']);\n",
       "            Plotly.purge(gd);\n",
       "            observer.disconnect();\n",
       "        }}\n",
       "}});\n",
       "\n",
       "// Listen for the removal of the full notebook cells\n",
       "var notebookContainer = gd.closest('#notebook-container');\n",
       "if (notebookContainer) {{\n",
       "    x.observe(notebookContainer, {childList: true});\n",
       "}}\n",
       "\n",
       "// Listen for the clearing of the current output cell\n",
       "var outputEl = gd.closest('.output');\n",
       "if (outputEl) {{\n",
       "    x.observe(outputEl, {childList: true});\n",
       "}}\n",
       "\n",
       "                        })                };                });            </script>        </div>"
      ]
     },
     "metadata": {},
     "output_type": "display_data"
    }
   ],
   "source": [
    "fig = make_subplots( rows=1, cols=1, subplot_titles=(\"Coherence score\"))\n",
    "fig.add_trace(go.Scatter(name=\"Coherence score\", x=x_val, y=y_val, mode='lines+markers'), row=1, col=1)\n",
    "fig.update_layout(height=600, width=1000, title_text=\"Mallet LDA - Number of Topics vs. Coherence\", xaxis1 = dict(\n",
    "        tickmode = 'linear', tick0 = 1, dtick = 1), xaxis2 = dict(tickmode = 'linear', tick0 = 1, dtick = 1))\n",
    "fig.write_html(\"Images/Mallet_topics.html\")\n",
    "fig.show()"
   ]
  },
  {
   "cell_type": "code",
   "execution_count": 24,
   "metadata": {},
   "outputs": [
    {
     "name": "stdout",
     "output_type": "stream",
     "text": [
      "[(0,\n",
      "  [('poor', 0.01511268228015908),\n",
      "   ('village', 0.012284577993813522),\n",
      "   ('work', 0.011842686699072028),\n",
      "   ('small', 0.011135660627485638),\n",
      "   ('crore', 0.010870525850640743),\n",
      "   ('campaign', 0.01042863455589925),\n",
      "   ('lakh', 0.009544851966416261),\n",
      "   ('money', 0.009279717189571365),\n",
      "   ('state', 0.009102960671674768),\n",
      "   ('day', 0.008484312859036678)]),\n",
      " (1,\n",
      "  [('water', 0.035202322627472325),\n",
      "   ('yoga', 0.020322990382870623),\n",
      "   ('exam', 0.01651242968608238),\n",
      "   ('child', 0.010524405733986572),\n",
      "   ('student', 0.00998003992015968),\n",
      "   ('thing', 0.009889312284521865),\n",
      "   ('mind', 0.00943567410633279),\n",
      "   ('experience', 0.008891308292505897),\n",
      "   ('success', 0.008619125385592452),\n",
      "   ('family', 0.008619125385592452)]),\n",
      " (2,\n",
      "  [('farmer', 0.0427262313860252),\n",
      "   ('village', 0.022909507445589918),\n",
      "   ('sister', 0.013974799541809852),\n",
      "   ('land', 0.0138602520045819),\n",
      "   ('brother', 0.012829324169530355),\n",
      "   ('field', 0.01122565864833906),\n",
      "   ('work', 0.010194730813287515),\n",
      "   ('law', 0.009163802978235968),\n",
      "   ('opportunity', 0.007903780068728522),\n",
      "   ('year', 0.007674684994272623)]),\n",
      " (3,\n",
      "  [('family', 0.015179182834969185),\n",
      "   ('corona', 0.015179182834969185),\n",
      "   ('story', 0.012782469755763524),\n",
      "   ('day', 0.010271627482309975),\n",
      "   ('service', 0.00981511070531842),\n",
      "   ('doctor', 0.009700981511070532),\n",
      "   ('home', 0.009472723122574755),\n",
      "   ('local', 0.00913033553983109),\n",
      "   ('period', 0.007760785208856425),\n",
      "   ('crisis', 0.007304268431864871)]),\n",
      " (4,\n",
      "  [('woman', 0.016505087733354698),\n",
      "   ('festival', 0.015303260956654114),\n",
      "   ('cleanliness', 0.014582164890633763),\n",
      "   ('gandhi', 0.010736319205191892),\n",
      "   ('unity', 0.009694735998718052),\n",
      "   ('force', 0.008653152792244212),\n",
      "   ('service', 0.008172422081563976),\n",
      "   ('day', 0.008092300296450606),\n",
      "   ('october', 0.008092300296450606),\n",
      "   ('khadi', 0.007771813155997115)]),\n",
      " (5,\n",
      "  [('youth', 0.012232150602932246),\n",
      "   ('effort', 0.011971892079465602),\n",
      "   ('programme', 0.01049709377982129),\n",
      "   ('medium', 0.010236835256354646),\n",
      "   ('book', 0.009456059685954714),\n",
      "   ('family', 0.009022295480176976),\n",
      "   ('school', 0.008935542639021427),\n",
      "   ('year', 0.008935542639021427),\n",
      "   ('experience', 0.008935542639021427),\n",
      "   ('language', 0.008501778433243689)]),\n",
      " (6,\n",
      "  [('game', 0.014219443323920935),\n",
      "   ('sport', 0.014017749092375959),\n",
      "   ('resolve', 0.010488100040338847),\n",
      "   ('festival', 0.010185558693021379),\n",
      "   ('teacher', 0.008773699072206535),\n",
      "   ('young', 0.008471157724889069),\n",
      "   ('youth', 0.00826946349334409),\n",
      "   ('medal', 0.0081686163775716),\n",
      "   ('student', 0.007664380798709157),\n",
      "   ('child', 0.007260992335619202)])]\n"
     ]
    }
   ],
   "source": [
    "lda_mallet = gensim.models.wrappers.LdaMallet(\n",
    "    mallet_path, corpus = corpus, num_topics = 7, id2word = id2word)\n",
    "pprint(lda_mallet.show_topics(formatted=False))"
   ]
  },
  {
   "cell_type": "code",
   "execution_count": 25,
   "metadata": {},
   "outputs": [
    {
     "data": {
      "text/html": [
       "\n",
       "<link rel=\"stylesheet\" type=\"text/css\" href=\"https://cdn.jsdelivr.net/gh/bmabey/pyLDAvis@3.3.1/pyLDAvis/js/ldavis.v1.0.0.css\">\n",
       "\n",
       "\n",
       "<div id=\"ldavis_el1108416228512188968297483069\"></div>\n",
       "<script type=\"text/javascript\">\n",
       "\n",
       "var ldavis_el1108416228512188968297483069_data = {\"mdsDat\": {\"x\": [-0.23154323424732498, 0.08723243985067025, 0.051358083350108545, 0.040695828257016765, -0.08493870374709862, -0.18761334180735106, 0.3248089283439795], \"y\": [-0.1737161651893224, 0.1860253817929082, -0.17412605197916187, 0.15779046865028784, -0.1501354828255597, 0.22784790869070845, -0.07368605913986036], \"topics\": [1, 2, 3, 4, 5, 6, 7], \"cluster\": [1, 1, 1, 1, 1, 1, 1], \"Freq\": [16.76222032759793, 15.553887969212413, 15.260121926737128, 14.95036995536488, 13.502269816061371, 12.033457330809002, 11.937672674217263]}, \"tinfo\": {\"Term\": [\"farmer\", \"water\", \"village\", \"yoga\", \"exam\", \"woman\", \"festival\", \"poor\", \"corona\", \"game\", \"cleanliness\", \"youth\", \"sport\", \"land\", \"family\", \"work\", \"story\", \"campaign\", \"sister\", \"brother\", \"service\", \"experience\", \"gandhi\", \"medium\", \"programme\", \"field\", \"student\", \"book\", \"state\", \"unity\", \"emphasize\", \"fabric\", \"inclination\", \"lamp\", \"meter\", \"municipal\", \"pal\", \"soul\", \"stake\", \"swami\", \"vow\", \"brush\", \"chair\", \"threat\", \"unhealthy\", \"deithis\", \"determination\", \"relevant\", \"residence\", \"sarij\", \"total\", \"vigilante\", \"belief\", \"dimensional\", \"labour\", \"mumbaihis\", \"secure\", \"upadhyay\", \"wonderful\", \"exhibition\", \"gandhi\", \"force\", \"october\", \"sardar\", \"history\", \"mahatma\", \"patel\", \"inspiring\", \"holy\", \"dev\", \"sanitation\", \"south\", \"khadi\", \"armed\", \"darkness\", \"fort\", \"sun\", \"pleasant\", \"voter\", \"equal\", \"martyr\", \"saint\", \"prakash\", \"jayanti\", \"unity\", \"transformation\", \"woman\", \"dedicated\", \"bapu\", \"cleanliness\", \"diversity\", \"contribution\", \"waste\", \"divyang\", \"anniversary\", \"soldier\", \"festival\", \"birth\", \"brave\", \"mission\", \"power\", \"man\", \"service\", \"human\", \"guru\", \"path\", \"role\", \"campaign\", \"movement\", \"person\", \"social\", \"day\", \"society\", \"young\", \"dirt\", \"listening\", \"narrate\", \"access\", \"boy\", \"climb\", \"drive\", \"excitement\", \"hrd\", \"imagine\", \"litter\", \"sickness\", \"tough\", \"vice\", \"bullet\", \"difference\", \"divinity\", \"frank\", \"intoxication\", \"kinship\", \"regional\", \"restriction\", \"rid\", \"spell\", \"spending\", \"trigger\", \"victim\", \"arjun\", \"biography\", \"civil\", \"book\", \"language\", \"public\", \"gold\", \"president\", \"radio\", \"girl\", \"constitution\", \"north\", \"plan\", \"mr\", \"travel\", \"kumbh\", \"kid\", \"channel\", \"east\", \"meeting\", \"barack\", \"official\", \"effective\", \"drug\", \"ncc\", \"republic\", \"tv\", \"camp\", \"curiosity\", \"donation\", \"organ\", \"jai\", \"voice\", \"conversation\", \"episode\", \"program\", \"programme\", \"medium\", \"narendra\", \"letter\", \"dream\", \"youth\", \"school\", \"chance\", \"delhi\", \"effort\", \"experience\", \"progress\", \"state\", \"visit\", \"question\", \"year\", \"family\", \"social\", \"country\", \"heart\", \"child\", \"thing\", \"number\", \"story\", \"opportunity\", \"society\", \"avail\", \"stand\", \"businessman\", \"central\", \"estimate\", \"government\", \"hearing\", \"mindset\", \"picture\", \"rupee\", \"soil\", \"bachao\", \"beti\", \"padhao\", \"party\", \"addition\", \"scheme\", \"storage\", \"abdul\", \"note\", \"australia\", \"bank\", \"earthen\", \"chhattisgarh\", \"compliment\", \"satellite\", \"banking\", \"corruption\", \"guest\", \"sum\", \"money\", \"pradhan\", \"business\", \"railway\", \"difficulty\", \"gift\", \"welfare\", \"yojana\", \"half\", \"end\", \"newspaper\", \"payment\", \"narendramodiapp\", \"subsidy\", \"mantri\", \"gas\", \"trader\", \"race\", \"facility\", \"news\", \"card\", \"lakh\", \"department\", \"poor\", \"crore\", \"small\", \"technology\", \"tree\", \"suggestion\", \"aware\", \"campaign\", \"work\", \"account\", \"village\", \"development\", \"state\", \"citizen\", \"toilet\", \"day\", \"opportunity\", \"task\", \"attention\", \"young\", \"brother\", \"benefit\", \"power\", \"society\", \"adapt\", \"advice\", \"bath\", \"confirm\", \"contented\", \"continued\", \"convenient\", \"khaadi\", \"lioness\", \"listen\", \"moral\", \"nominate\", \"nominating\", \"route\", \"sheet\", \"telling\", \"verify\", \"wrong\", \"agree\", \"asset\", \"expectation\", \"fetch\", \"margnew\", \"opinion\", \"parikh\", \"ramp\", \"siachin\", \"wrapper\", \"affinity\", \"boarding\", \"water\", \"exam\", \"success\", \"result\", \"examination\", \"conservation\", \"class\", \"mark\", \"body\", \"test\", \"type\", \"sleep\", \"april\", \"impact\", \"stress\", \"yesterday\", \"target\", \"answer\", \"drop\", \"pleasure\", \"pressure\", \"response\", \"tension\", \"clear\", \"pain\", \"pond\", \"burden\", \"election\", \"scientist\", \"yoga\", \"democracy\", \"parent\", \"problem\", \"mind\", \"simple\", \"responsibility\", \"thinking\", \"positive\", \"confidence\", \"future\", \"student\", \"thing\", \"strength\", \"reason\", \"experience\", \"child\", \"important\", \"family\", \"question\", \"atmosphere\", \"word\", \"teacher\", \"number\", \"citizen\", \"occasion\", \"day\", \"auspicious\", \"regular\", \"contestant\", \"player\", \"devastation\", \"grim\", \"statement\", \"ludhiana\", \"physician\", \"fun\", \"oneself\", \"whim\", \"myth\", \"plug\", \"amrut\", \"aquifer\", \"bacterial\", \"boil\", \"drink\", \"isaid\", \"joshi\", \"keshla\", \"scooter\", \"suchitra\", \"tripura\", \"jack\", \"catalytic\", \"gulshan\", \"narayan\", \"photography\", \"game\", \"medal\", \"singh\", \"fit\", \"toy\", \"temple\", \"ganesh\", \"forest\", \"cup\", \"performance\", \"kashmir\", \"hockey\", \"plastic\", \"sanskrit\", \"flood\", \"glory\", \"buddha\", \"idol\", \"football\", \"lok\", \"childhood\", \"gst\", \"holiday\", \"hundred\", \"ability\", \"feat\", \"beauty\", \"cigarette\", \"sant\", \"sport\", \"lord\", \"august\", \"resolve\", \"british\", \"community\", \"september\", \"struggle\", \"teacher\", \"food\", \"sense\", \"team\", \"record\", \"daughter\", \"festival\", \"youth\", \"place\", \"student\", \"young\", \"mother\", \"nature\", \"movement\", \"child\", \"spirit\", \"pradesh\", \"society\", \"environment\", \"year\", \"bearing\", \"evidence\", \"exception\", \"hopeless\", \"towel\", \"doctor\", \"facilitate\", \"gupta\", \"mustering\", \"risk\", \"train\", \"addicted\", \"avenue\", \"bare\", \"brilliant\", \"careless\", \"cinema\", \"circumstance\", \"continuous\", \"dubai\", \"exuding\", \"intervention\", \"medical\", \"pearl\", \"phase\", \"procure\", \"spare\", \"tender\", \"treat\", \"convener\", \"corona\", \"period\", \"crisis\", \"vegetable\", \"battle\", \"hospital\", \"mask\", \"fruit\", \"pandemic\", \"patient\", \"daily\", \"west\", \"ayushman\", \"underprivileged\", \"king\", \"bengal\", \"deed\", \"lockdown\", \"kritika\", \"bhagat\", \"quarantine\", \"namaste\", \"virus\", \"shri\", \"namo\", \"staff\", \"treatment\", \"local\", \"warrior\", \"product\", \"story\", \"traditional\", \"fight\", \"home\", \"family\", \"service\", \"video\", \"health\", \"challenge\", \"day\", \"sector\", \"time\", \"spirit\", \"innovation\", \"hand\", \"nature\", \"member\", \"medium\", \"person\", \"free\", \"heart\", \"yoga\", \"company\", \"swachh\", \"fund\", \"industrialist\", \"interact\", \"lot\", \"reform\", \"law\", \"doubt\", \"flower\", \"primary\", \"agency\", \"amendment\", \"betterment\", \"compensation\", \"consent\", \"conspiracy\", \"farming\", \"lie\", \"manufacturing\", \"market\", \"mistake\", \"model\", \"opposition\", \"ordinance\", \"production\", \"satisfied\", \"sell\", \"span\", \"supporter\", \"farmer\", \"land\", \"road\", \"safety\", \"art\", \"disaster\", \"villager\", \"agricultural\", \"cost\", \"price\", \"session\", \"project\", \"listener\", \"act\", \"fair\", \"sahib\", \"jharkhand\", \"museum\", \"library\", \"exemplary\", \"engineer\", \"alumnus\", \"dr\", \"electricity\", \"crop\", \"painting\", \"sister\", \"field\", \"village\", \"brother\", \"house\", \"light\", \"culture\", \"pride\", \"work\", \"area\", \"early\", \"opportunity\", \"science\", \"year\", \"effort\", \"important\", \"tradition\", \"high\", \"time\", \"technology\", \"child\", \"development\"], \"Freq\": [388.0, 403.0, 351.0, 271.0, 188.0, 241.0, 327.0, 228.0, 139.0, 146.0, 228.0, 230.0, 147.0, 126.0, 372.0, 273.0, 183.0, 219.0, 174.0, 177.0, 194.0, 207.0, 137.0, 164.0, 160.0, 140.0, 223.0, 112.0, 230.0, 129.0, 2.0471907451136997, 16.377525960909598, 8.188762980454799, 25.589884313921246, 8.188762980454799, 16.377525960909598, 2.0471907451136997, 23.542693568807547, 4.094381490227399, 26.613479686478094, 8.188762980454799, 1.0235953725568498, 4.094381490227399, 4.094381490227399, 1.0235953725568498, 1.0235953725568498, 33.77864729437604, 16.377525960909598, 8.188762980454799, 1.0235953725568498, 13.306739843239047, 1.0235953725568498, 32.755051921819195, 1.0235953725568498, 33.77864729437604, 1.0235953725568498, 8.188762980454799, 8.188762980454799, 25.589884313921246, 13.306739843239047, 137.16177992261788, 110.5483002361398, 103.38313262824184, 87.00560666733223, 72.67527145153633, 68.58088996130894, 64.48650847108155, 44.01460101994454, 42.991005647387695, 39.920219529717144, 37.87302878460344, 35.825838039489746, 99.28875113801443, 30.707861176705496, 28.660670431591797, 28.660670431591797, 27.63707505903495, 27.63707505903495, 27.63707505903495, 26.613479686478094, 25.589884313921246, 25.589884313921246, 24.566288941364398, 24.566288941364398, 123.85504007937884, 40.943814902274, 210.86064674671107, 38.896624157160296, 50.156173255285644, 186.29435780534666, 56.29774549062674, 71.65167607897949, 75.74605756920688, 35.825838039489746, 95.19436964778704, 88.02920203988909, 195.50671615835833, 94.17077427523019, 52.20336400039934, 76.76965294176374, 89.05279741244594, 98.26515576545759, 104.40672800079868, 66.53369921619525, 63.46291309852469, 65.51010384363839, 67.55729458875209, 98.26515576545759, 81.887629804548, 83.9348205496617, 88.02920203988909, 103.38313262824184, 87.00560666733223, 92.12358353011649, 6.170496011771459, 12.340992023542919, 12.340992023542919, 6.170496011771459, 24.681984047085837, 3.0852480058857297, 23.653568045123926, 12.340992023542919, 6.170496011771459, 18.511488035314375, 9.255744017657188, 3.0852480058857297, 6.170496011771459, 12.340992023542919, 6.170496011771459, 9.255744017657188, 3.0852480058857297, 3.0852480058857297, 3.0852480058857297, 3.0852480058857297, 12.340992023542919, 6.170496011771459, 6.170496011771459, 3.0852480058857297, 9.255744017657188, 3.0852480058857297, 9.255744017657188, 3.0852480058857297, 6.170496011771459, 9.255744017657188, 112.09734421384816, 100.78476819226717, 83.3016961589147, 73.0175361392956, 57.59129610986695, 56.562880107905045, 49.363968094171675, 48.33555209220977, 44.22188808436213, 41.13664007847639, 39.079808074552574, 39.079808074552574, 38.051392072590666, 34.966144066704935, 34.966144066704935, 34.966144066704935, 33.93772806474303, 32.90931206278111, 30.852480058857296, 29.824064056895384, 29.824064056895384, 29.824064056895384, 28.795648054933476, 27.767232052971565, 27.767232052971565, 26.738816051009657, 26.738816051009657, 26.738816051009657, 25.710400049047745, 42.165056080438305, 35.99456006866684, 61.70496011771459, 55.53446410594313, 124.4383362373911, 121.35308823150537, 31.880896060819204, 99.75635219030525, 62.7333761196765, 145.0066562766293, 105.92684820207671, 58.61971211182886, 61.70496011771459, 141.92140827074354, 105.92684820207671, 51.42080009809549, 94.6142721804957, 58.61971211182886, 65.81862412556222, 105.92684820207671, 106.95526420403863, 84.33011216087661, 62.7333761196765, 76.10278414518133, 86.38694416480043, 76.10278414518133, 67.87545612948605, 65.81862412556222, 64.79020812360032, 57.59129610986695, 13.362660968613842, 15.418454963785203, 7.195278983099761, 30.836909927570407, 7.195278983099761, 48.31115888652697, 13.362660968613842, 14.390557966199522, 57.562231864798086, 86.34334779719713, 30.836909927570407, 15.418454963785203, 30.836909927570407, 13.362660968613842, 26.725321937227683, 15.418454963785203, 44.19957089618424, 7.195278983099761, 14.390557966199522, 28.781115932399043, 7.195278983099761, 86.34334779719713, 13.362660968613842, 7.195278983099761, 7.195278983099761, 38.032188910670165, 15.418454963785203, 26.725321937227683, 14.390557966199522, 7.195278983099761, 107.92918474649642, 47.28326188894128, 47.28326188894128, 42.143776901012885, 41.115879903427206, 40.08798290584152, 35.97639491549881, 35.97639491549881, 34.94849791791313, 33.920600920327445, 32.89270392274177, 32.89270392274177, 30.836909927570407, 28.781115932399043, 27.75321893481336, 26.725321937227683, 26.725321937227683, 25.697424939642005, 57.562231864798086, 96.62231777305394, 38.032188910670165, 111.01287573925345, 51.39484987928401, 175.7703865871513, 126.43133070303865, 129.5150216957957, 90.45493578753985, 53.450643874455366, 85.31545079961145, 66.8133048430692, 121.29184571511026, 137.73819767648112, 50.36695288169833, 142.87768266440955, 74.00858382616897, 105.87339075132506, 93.53862678029688, 50.36695288169833, 98.6781117682253, 81.20386280926873, 51.39484987928401, 52.42274687686969, 70.92489283341193, 58.590128862383764, 51.39484987928401, 51.39484987928401, 50.36695288169833, 4.135211019844275, 11.371830304571755, 2.0676055099221373, 2.0676055099221373, 1.0338027549610687, 2.0676055099221373, 4.135211019844275, 8.27042203968855, 4.135211019844275, 21.709857854182445, 8.27042203968855, 2.0676055099221373, 1.0338027549610687, 13.439435814493894, 11.371830304571755, 4.135211019844275, 1.0338027549610687, 27.912674383948854, 1.0338027549610687, 8.27042203968855, 43.41971570836489, 1.0338027549610687, 1.0338027549610687, 16.5408440793771, 1.0338027549610687, 1.0338027549610687, 2.0676055099221373, 1.0338027549610687, 1.0338027549610687, 1.0338027549610687, 401.1154689248946, 188.15210140291452, 98.21126172130154, 87.87323417169084, 62.028165297664124, 60.99436254270306, 59.960559787741985, 52.72394050301451, 50.656334993092365, 43.41971570836489, 39.28450468852061, 35.149293668676336, 34.11549091371527, 31.014082648832062, 29.980279893870993, 28.946477138909927, 26.87887162898779, 26.87887162898779, 26.87887162898779, 24.811266119065653, 24.811266119065653, 23.77746336410458, 23.77746336410458, 23.77746336410458, 22.74366060914351, 21.709857854182445, 20.676055099221376, 53.75774325797558, 63.0619680526252, 231.57181711127942, 70.29858733735267, 85.80562866176871, 92.00844519153512, 107.51548651595115, 46.521123973248095, 52.72394050301451, 35.149293668676336, 67.19717907246947, 59.960559787741985, 66.1633763175084, 113.71830304571756, 112.68450029075649, 85.80562866176871, 50.656334993092365, 101.31266998618473, 119.92111957548397, 92.00844519153512, 98.21126172130154, 64.09577080758626, 51.69013774805344, 56.85915152285878, 58.92675703278093, 58.92675703278093, 56.85915152285878, 53.75774325797558, 53.75774325797558, 19.718324858529385, 8.302452572012372, 1.0378065715015465, 65.38181400459743, 4.151226286006186, 1.0378065715015465, 8.302452572012372, 1.0378065715015465, 1.0378065715015465, 8.302452572012372, 1.0378065715015465, 1.0378065715015465, 4.151226286006186, 1.0378065715015465, 1.0378065715015465, 1.0378065715015465, 1.0378065715015465, 1.0378065715015465, 4.151226286006186, 1.0378065715015465, 4.151226286006186, 1.0378065715015465, 1.0378065715015465, 1.0378065715015465, 8.302452572012372, 1.0378065715015465, 1.0378065715015465, 1.0378065715015465, 8.302452572012372, 1.0378065715015465, 146.33072658171807, 84.06233229162527, 70.57084686210517, 64.3440074330959, 57.07936143258507, 48.776908860572696, 47.73910228907115, 38.39884314555722, 37.36103657405568, 36.32323000255413, 35.285423431052585, 33.20981028804949, 31.1341971450464, 31.1341971450464, 29.058584002043307, 29.058584002043307, 28.02077743054176, 26.982970859040215, 25.945164287538667, 25.945164287538667, 24.90735771603712, 24.90735771603712, 23.869551144535574, 22.831744573034026, 21.79393800153248, 21.79393800153248, 20.756131430030933, 20.756131430030933, 20.756131430030933, 144.255113438715, 51.89032857507733, 59.15497457558816, 107.93188343616086, 35.285423431052585, 62.2683942900928, 39.43664971705877, 34.24761685955104, 90.28917172063456, 63.30620086159435, 56.04155486108352, 58.117168004086615, 46.7012957175696, 73.68426657660982, 104.8184637216562, 85.10013886312683, 60.192781147089704, 78.87329943411754, 87.17575200612993, 62.2683942900928, 55.00374828958197, 60.192781147089704, 74.72207314811136, 57.07936143258507, 48.776908860572696, 65.38181400459743, 50.852522003575785, 58.117168004086615, 9.420540807263697, 4.186907025450532, 4.186907025450532, 1.046726756362633, 3.140180269087899, 88.97177429082382, 5.2336337818131655, 17.794354858164763, 1.046726756362633, 13.60744783271423, 23.027988639977927, 1.046726756362633, 12.560721076351596, 4.186907025450532, 11.513994319988964, 5.2336337818131655, 4.186907025450532, 27.21489566542846, 10.467267563626331, 3.140180269087899, 1.046726756362633, 4.186907025450532, 36.635436472692156, 4.186907025450532, 15.700901345439496, 2.093453512725266, 9.420540807263697, 6.280360538175798, 4.186907025450532, 1.046726756362633, 139.2146585962302, 71.17741943265905, 66.99051240720851, 57.569971599944814, 42.915797010867955, 38.728889985417425, 37.68216322905479, 36.635436472692156, 35.588709716329525, 35.588709716329525, 35.588709716329525, 30.35507593451636, 30.35507593451636, 29.308349178153726, 25.121442152703192, 25.121442152703192, 23.027988639977927, 21.981261883615293, 21.981261883615293, 20.934535127252662, 20.934535127252662, 19.887808370890028, 19.887808370890028, 19.887808370890028, 19.887808370890028, 18.841081614527393, 54.42979133085692, 83.73814050901065, 29.308349178153726, 43.962523767230586, 117.2333967126149, 34.541982959966894, 40.82234349814269, 86.87832077809854, 139.2146585962302, 90.01850104718645, 39.775616741780055, 58.61669835630745, 43.962523767230586, 94.20540807263697, 39.775616741780055, 61.75687862539535, 53.383064574494284, 39.775616741780055, 49.196157549043754, 43.962523767230586, 40.82234349814269, 42.915797010867955, 42.915797010867955, 40.82234349814269, 40.82234349814269, 39.775616741780055, 26.055030370508106, 10.422012148203244, 11.464213363023568, 5.211006074101622, 11.464213363023568, 17.717420651945513, 31.26603644460973, 83.37609718562595, 9.379810933382918, 9.379810933382918, 10.422012148203244, 5.211006074101622, 9.379810933382918, 10.422012148203244, 9.379810933382918, 11.464213363023568, 5.211006074101622, 38.561444948352, 5.211006074101622, 9.379810933382918, 40.645847377992645, 9.379810933382918, 10.422012148203244, 5.211006074101622, 11.464213363023568, 27.09723158532843, 5.211006074101622, 10.422012148203244, 18.759621866765837, 5.211006074101622, 388.741053127981, 126.10634699325924, 58.36326802993816, 51.067859526195896, 44.81465223727395, 36.47704251871135, 34.3926400890707, 34.3926400890707, 34.3926400890707, 30.223835229789405, 29.18163401496908, 29.18163401496908, 27.09723158532843, 25.012829155687786, 23.970627940867463, 23.970627940867463, 21.88622551122681, 20.844024296406488, 19.801823081586164, 17.717420651945513, 17.717420651945513, 17.717420651945513, 35.43484130389103, 29.18163401496908, 56.278865600297515, 25.012829155687786, 127.14854820807957, 102.13571905239179, 208.44024296406485, 116.72653605987632, 69.82748139296173, 53.15226195583654, 54.19446317065686, 57.32106681511784, 92.75590811900886, 53.15226195583654, 33.35043887425038, 71.91188382260238, 45.85685345209427, 69.82748139296173, 60.44767045957881, 53.15226195583654, 43.77245102245362, 39.60364616317233, 42.7302498076333, 38.561444948352, 39.60364616317233, 37.519243733531674], \"Total\": [388.0, 403.0, 351.0, 271.0, 188.0, 241.0, 327.0, 228.0, 139.0, 146.0, 228.0, 230.0, 147.0, 126.0, 372.0, 273.0, 183.0, 219.0, 174.0, 177.0, 194.0, 207.0, 137.0, 164.0, 160.0, 140.0, 223.0, 112.0, 230.0, 129.0, 2.0471907451136997, 16.377525960909598, 8.188762980454799, 25.589884313921246, 8.188762980454799, 16.377525960909598, 2.0471907451136997, 23.542693568807547, 4.094381490227399, 26.613479686478094, 8.188762980454799, 1.0235953725568498, 4.094381490227399, 4.094381490227399, 1.0235953725568498, 1.0235953725568498, 33.77864729437604, 16.377525960909598, 8.188762980454799, 1.0235953725568498, 13.306739843239047, 1.0235953725568498, 32.755051921819195, 1.0235953725568498, 33.77864729437604, 1.0235953725568498, 8.188762980454799, 8.188762980454799, 25.589884313921246, 13.306739843239047, 137.16177992261788, 110.5483002361398, 103.38313262824184, 87.00560666733223, 72.67527145153633, 68.58088996130894, 64.48650847108155, 44.01460101994454, 42.991005647387695, 39.920219529717144, 37.87302878460344, 35.825838039489746, 100.31716713997635, 30.707861176705496, 28.660670431591797, 28.660670431591797, 27.63707505903495, 27.63707505903495, 27.63707505903495, 26.613479686478094, 25.589884313921246, 25.589884313921246, 24.566288941364398, 24.566288941364398, 129.088673861192, 41.99054165863663, 241.08448197650048, 39.94335091352293, 53.296353524373544, 228.44404046373495, 63.62483278516517, 85.01433704759333, 94.36251479158707, 37.919291552215014, 125.00338257777176, 114.19737094895491, 327.4224114653429, 130.147169190729, 64.76408507675093, 112.9640584834116, 140.44764729172994, 173.3182447292516, 194.4252290479851, 95.84204839434898, 94.72894954313442, 100.65939751231473, 106.90475814056806, 219.55700148056786, 157.49886591542293, 170.26101445662763, 220.31250092650293, 350.02439572707965, 260.34566966349496, 333.69830062454616, 6.170496011771459, 12.340992023542919, 12.340992023542919, 6.170496011771459, 24.681984047085837, 3.0852480058857297, 23.653568045123926, 12.340992023542919, 6.170496011771459, 18.511488035314375, 9.255744017657188, 3.0852480058857297, 6.170496011771459, 12.340992023542919, 6.170496011771459, 9.255744017657188, 3.0852480058857297, 3.0852480058857297, 3.0852480058857297, 3.0852480058857297, 12.340992023542919, 6.170496011771459, 6.170496011771459, 3.0852480058857297, 9.255744017657188, 3.0852480058857297, 9.255744017657188, 3.0852480058857297, 6.170496011771459, 9.255744017657188, 112.09734421384816, 100.78476819226717, 83.3016961589147, 73.0175361392956, 57.59129610986695, 56.562880107905045, 49.363968094171675, 48.33555209220977, 44.22188808436213, 41.13664007847639, 39.079808074552574, 39.079808074552574, 38.051392072590666, 34.966144066704935, 34.966144066704935, 34.966144066704935, 33.93772806474303, 32.90931206278111, 30.852480058857296, 29.824064056895384, 29.824064056895384, 29.824064056895384, 28.795648054933476, 27.767232052971565, 27.767232052971565, 26.738816051009657, 26.738816051009657, 26.738816051009657, 25.710400049047745, 43.18865145299515, 37.02836282362791, 69.03204741225302, 61.67603634128423, 160.91537875610246, 164.26888524237333, 32.90449143337605, 138.8164380985611, 77.21953869053303, 230.10679513975612, 166.17236506899175, 75.2246172558536, 82.54898441412108, 275.32774520556865, 207.23951818826146, 68.02570524212024, 230.71149816161017, 93.90513554288145, 129.9143949331485, 353.2809130105424, 372.0740771073958, 220.31250092650293, 119.42435513500156, 203.1725308806091, 320.6337830515681, 222.70358373123645, 166.90019866031432, 183.05202083817713, 291.61612639134484, 260.34566966349496, 13.362660968613842, 15.418454963785203, 7.195278983099761, 30.836909927570407, 7.195278983099761, 48.31115888652697, 13.362660968613842, 14.390557966199522, 57.562231864798086, 86.34334779719713, 30.836909927570407, 15.418454963785203, 30.836909927570407, 13.362660968613842, 26.725321937227683, 15.418454963785203, 44.19957089618424, 7.195278983099761, 14.390557966199522, 28.781115932399043, 7.195278983099761, 86.34334779719713, 13.362660968613842, 7.195278983099761, 7.195278983099761, 38.032188910670165, 15.418454963785203, 26.725321937227683, 14.390557966199522, 7.195278983099761, 107.92918474649642, 47.28326188894128, 47.28326188894128, 42.143776901012885, 41.115879903427206, 40.08798290584152, 35.97639491549881, 35.97639491549881, 34.94849791791313, 33.920600920327445, 32.89270392274177, 32.89270392274177, 30.836909927570407, 28.781115932399043, 27.75321893481336, 26.725321937227683, 26.725321937227683, 25.697424939642005, 59.64663429443873, 104.9247703450663, 39.07439012549049, 131.85690003565992, 55.53006089912829, 228.9973459601075, 159.65192559063206, 175.4940647695323, 129.01638073589186, 64.86651616097238, 123.56615273317101, 92.86833521357731, 219.55700148056786, 273.6875778778902, 63.97440071441256, 351.3179256284744, 124.05192712725079, 230.71149816161017, 202.601142303555, 68.79166958772163, 350.02439572707965, 291.61612639134484, 81.3064948665478, 89.70207350910857, 333.69830062454616, 177.41011843498535, 86.34593928432469, 140.44764729172994, 260.34566966349496, 4.135211019844275, 11.371830304571755, 2.0676055099221373, 2.0676055099221373, 1.0338027549610687, 2.0676055099221373, 4.135211019844275, 8.27042203968855, 4.135211019844275, 21.709857854182445, 8.27042203968855, 2.0676055099221373, 1.0338027549610687, 13.439435814493894, 11.371830304571755, 4.135211019844275, 1.0338027549610687, 27.912674383948854, 1.0338027549610687, 8.27042203968855, 43.41971570836489, 1.0338027549610687, 1.0338027549610687, 16.5408440793771, 1.0338027549610687, 1.0338027549610687, 2.0676055099221373, 1.0338027549610687, 1.0338027549610687, 1.0338027549610687, 403.1910820678977, 188.15210140291452, 98.21126172130154, 87.87323417169084, 62.028165297664124, 60.99436254270306, 59.960559787741985, 52.72394050301451, 50.656334993092365, 43.41971570836489, 39.28450468852061, 35.149293668676336, 34.11549091371527, 31.014082648832062, 29.980279893870993, 28.946477138909927, 26.87887162898779, 26.87887162898779, 26.87887162898779, 24.811266119065653, 24.811266119065653, 23.77746336410458, 23.77746336410458, 23.77746336410458, 22.74366060914351, 21.709857854182445, 20.676055099221376, 54.7999444727959, 67.17355604296792, 271.34743385305944, 76.46908334912413, 101.37272723429192, 115.97907313240258, 142.46398443386428, 52.801484511423894, 63.10200621802998, 38.23454167456207, 90.85074711759339, 79.54781961080849, 92.89860782865195, 223.85763892444484, 222.70358373123645, 150.31074297511373, 67.03386095400197, 207.23951818826146, 320.6337830515681, 198.63159219249997, 372.0740771073958, 129.9143949331485, 72.16204519919043, 108.32130725952952, 149.21592875341548, 166.90019866031432, 202.601142303555, 137.83718268978907, 350.02439572707965, 19.718324858529385, 8.302452572012372, 1.0378065715015465, 65.38181400459743, 4.151226286006186, 1.0378065715015465, 8.302452572012372, 1.0378065715015465, 1.0378065715015465, 8.302452572012372, 1.0378065715015465, 1.0378065715015465, 4.151226286006186, 1.0378065715015465, 1.0378065715015465, 1.0378065715015465, 1.0378065715015465, 1.0378065715015465, 4.151226286006186, 1.0378065715015465, 4.151226286006186, 1.0378065715015465, 1.0378065715015465, 1.0378065715015465, 8.302452572012372, 1.0378065715015465, 1.0378065715015465, 1.0378065715015465, 8.302452572012372, 1.0378065715015465, 146.33072658171807, 84.06233229162527, 70.57084686210517, 64.3440074330959, 57.07936143258507, 48.776908860572696, 47.73910228907115, 38.39884314555722, 37.36103657405568, 36.32323000255413, 35.285423431052585, 33.20981028804949, 31.1341971450464, 31.1341971450464, 29.058584002043307, 29.058584002043307, 28.02077743054176, 26.982970859040215, 25.945164287538667, 25.945164287538667, 24.90735771603712, 24.90735771603712, 23.869551144535574, 22.831744573034026, 21.79393800153248, 21.79393800153248, 20.756131430030933, 20.756131430030933, 20.756131430030933, 147.33880443147203, 52.91822557266301, 62.238665568345205, 128.86641856341353, 37.33261417616629, 73.57526126353528, 44.57613470498717, 37.37422050401201, 149.21592875341548, 94.23725958304952, 83.80463487904524, 93.07916003578171, 66.3435480618299, 159.11722136703636, 327.4224114653429, 230.10679513975612, 118.04042781856677, 223.85763892444484, 333.69830062454616, 152.50414683568977, 118.54482503123702, 157.49886591542293, 320.6337830515681, 140.14669181122798, 88.9298550975435, 260.34566966349496, 108.99963428963835, 353.2809130105424, 9.420540807263697, 4.186907025450532, 4.186907025450532, 1.046726756362633, 3.140180269087899, 88.97177429082382, 5.2336337818131655, 17.794354858164763, 1.046726756362633, 13.60744783271423, 23.027988639977927, 1.046726756362633, 12.560721076351596, 4.186907025450532, 11.513994319988964, 5.2336337818131655, 4.186907025450532, 27.21489566542846, 10.467267563626331, 3.140180269087899, 1.046726756362633, 4.186907025450532, 36.635436472692156, 4.186907025450532, 15.700901345439496, 2.093453512725266, 9.420540807263697, 6.280360538175798, 4.186907025450532, 1.046726756362633, 139.2146585962302, 71.17741943265905, 66.99051240720851, 57.569971599944814, 42.915797010867955, 38.728889985417425, 37.68216322905479, 36.635436472692156, 35.588709716329525, 35.588709716329525, 35.588709716329525, 30.35507593451636, 30.35507593451636, 29.308349178153726, 25.121442152703192, 25.121442152703192, 23.027988639977927, 21.981261883615293, 21.981261883615293, 20.934535127252662, 20.934535127252662, 19.887808370890028, 19.887808370890028, 19.887808370890028, 19.887808370890028, 18.841081614527393, 56.51419376049757, 97.10754853451547, 31.375954688075865, 51.16490305965549, 183.05202083817713, 40.795190248888844, 52.129210471585175, 147.43376587742017, 372.0740771073958, 194.4252290479851, 56.3805218858048, 118.45781945011603, 69.81159645779779, 350.02439572707965, 60.32065181840717, 189.01091253006996, 140.14669181122798, 68.5567326741791, 131.9082830520112, 118.54482503123702, 80.93004857028095, 164.26888524237333, 170.26101445662763, 132.25917527504154, 203.1725308806091, 271.34743385305944, 26.055030370508106, 10.422012148203244, 11.464213363023568, 5.211006074101622, 11.464213363023568, 17.717420651945513, 31.26603644460973, 83.37609718562595, 9.379810933382918, 9.379810933382918, 10.422012148203244, 5.211006074101622, 9.379810933382918, 10.422012148203244, 9.379810933382918, 11.464213363023568, 5.211006074101622, 38.561444948352, 5.211006074101622, 9.379810933382918, 40.645847377992645, 9.379810933382918, 10.422012148203244, 5.211006074101622, 11.464213363023568, 27.09723158532843, 5.211006074101622, 10.422012148203244, 18.759621866765837, 5.211006074101622, 388.741053127981, 126.10634699325924, 58.36326802993816, 51.067859526195896, 44.81465223727395, 36.47704251871135, 34.3926400890707, 34.3926400890707, 34.3926400890707, 30.223835229789405, 29.18163401496908, 29.18163401496908, 27.09723158532843, 25.012829155687786, 23.970627940867463, 23.970627940867463, 21.88622551122681, 20.844024296406488, 19.801823081586164, 17.717420651945513, 17.717420651945513, 17.717420651945513, 36.48156806025366, 30.209531012554763, 61.42826016214178, 26.036424528244638, 174.52595889090563, 140.16790796306196, 351.3179256284744, 177.41011843498535, 121.24828149105721, 83.13254184970754, 88.4420800302079, 101.54295489947997, 273.6875778778902, 119.7918421490237, 42.6906980177643, 291.61612639134484, 95.47938569022557, 353.2809130105424, 275.32774520556865, 198.63159219249997, 104.70460356320623, 83.82034420377215, 189.01091253006996, 129.01638073589186, 320.6337830515681, 124.05192712725079], \"Category\": [\"Default\", \"Default\", \"Default\", \"Default\", \"Default\", \"Default\", \"Default\", \"Default\", \"Default\", \"Default\", \"Default\", \"Default\", \"Default\", \"Default\", \"Default\", \"Default\", \"Default\", \"Default\", \"Default\", \"Default\", \"Default\", \"Default\", \"Default\", \"Default\", \"Default\", \"Default\", \"Default\", \"Default\", \"Default\", \"Default\", \"Topic1\", \"Topic1\", \"Topic1\", \"Topic1\", \"Topic1\", \"Topic1\", \"Topic1\", \"Topic1\", \"Topic1\", \"Topic1\", \"Topic1\", \"Topic1\", \"Topic1\", \"Topic1\", \"Topic1\", \"Topic1\", \"Topic1\", \"Topic1\", \"Topic1\", \"Topic1\", \"Topic1\", \"Topic1\", \"Topic1\", \"Topic1\", \"Topic1\", \"Topic1\", \"Topic1\", \"Topic1\", \"Topic1\", \"Topic1\", \"Topic1\", \"Topic1\", \"Topic1\", \"Topic1\", \"Topic1\", \"Topic1\", \"Topic1\", \"Topic1\", \"Topic1\", \"Topic1\", \"Topic1\", \"Topic1\", \"Topic1\", \"Topic1\", \"Topic1\", \"Topic1\", \"Topic1\", \"Topic1\", \"Topic1\", \"Topic1\", \"Topic1\", \"Topic1\", \"Topic1\", \"Topic1\", \"Topic1\", \"Topic1\", \"Topic1\", \"Topic1\", \"Topic1\", \"Topic1\", \"Topic1\", \"Topic1\", \"Topic1\", \"Topic1\", \"Topic1\", \"Topic1\", \"Topic1\", \"Topic1\", \"Topic1\", \"Topic1\", \"Topic1\", \"Topic1\", \"Topic1\", \"Topic1\", \"Topic1\", \"Topic1\", \"Topic1\", \"Topic1\", \"Topic1\", \"Topic1\", \"Topic1\", \"Topic1\", \"Topic1\", \"Topic1\", \"Topic2\", \"Topic2\", \"Topic2\", \"Topic2\", \"Topic2\", \"Topic2\", \"Topic2\", \"Topic2\", \"Topic2\", \"Topic2\", \"Topic2\", \"Topic2\", \"Topic2\", \"Topic2\", \"Topic2\", \"Topic2\", \"Topic2\", \"Topic2\", \"Topic2\", \"Topic2\", \"Topic2\", \"Topic2\", \"Topic2\", \"Topic2\", \"Topic2\", \"Topic2\", \"Topic2\", \"Topic2\", \"Topic2\", \"Topic2\", \"Topic2\", \"Topic2\", \"Topic2\", \"Topic2\", \"Topic2\", \"Topic2\", \"Topic2\", \"Topic2\", \"Topic2\", \"Topic2\", \"Topic2\", \"Topic2\", \"Topic2\", \"Topic2\", \"Topic2\", \"Topic2\", \"Topic2\", \"Topic2\", \"Topic2\", \"Topic2\", \"Topic2\", \"Topic2\", \"Topic2\", \"Topic2\", \"Topic2\", \"Topic2\", \"Topic2\", \"Topic2\", \"Topic2\", \"Topic2\", \"Topic2\", \"Topic2\", \"Topic2\", \"Topic2\", \"Topic2\", \"Topic2\", \"Topic2\", \"Topic2\", \"Topic2\", \"Topic2\", \"Topic2\", \"Topic2\", \"Topic2\", \"Topic2\", \"Topic2\", \"Topic2\", \"Topic2\", \"Topic2\", \"Topic2\", \"Topic2\", \"Topic2\", \"Topic2\", \"Topic2\", \"Topic2\", \"Topic2\", \"Topic2\", \"Topic2\", \"Topic2\", \"Topic2\", \"Topic3\", \"Topic3\", \"Topic3\", \"Topic3\", \"Topic3\", \"Topic3\", \"Topic3\", \"Topic3\", \"Topic3\", \"Topic3\", \"Topic3\", \"Topic3\", \"Topic3\", \"Topic3\", \"Topic3\", \"Topic3\", \"Topic3\", \"Topic3\", \"Topic3\", \"Topic3\", \"Topic3\", \"Topic3\", \"Topic3\", \"Topic3\", \"Topic3\", \"Topic3\", \"Topic3\", \"Topic3\", \"Topic3\", \"Topic3\", \"Topic3\", \"Topic3\", \"Topic3\", \"Topic3\", \"Topic3\", \"Topic3\", \"Topic3\", \"Topic3\", \"Topic3\", \"Topic3\", \"Topic3\", \"Topic3\", \"Topic3\", \"Topic3\", \"Topic3\", \"Topic3\", \"Topic3\", \"Topic3\", \"Topic3\", \"Topic3\", \"Topic3\", \"Topic3\", \"Topic3\", \"Topic3\", \"Topic3\", \"Topic3\", \"Topic3\", \"Topic3\", \"Topic3\", \"Topic3\", \"Topic3\", \"Topic3\", \"Topic3\", \"Topic3\", \"Topic3\", \"Topic3\", \"Topic3\", \"Topic3\", \"Topic3\", \"Topic3\", \"Topic3\", \"Topic3\", \"Topic3\", \"Topic3\", \"Topic3\", \"Topic3\", \"Topic3\", \"Topic4\", \"Topic4\", \"Topic4\", \"Topic4\", \"Topic4\", \"Topic4\", \"Topic4\", \"Topic4\", \"Topic4\", \"Topic4\", \"Topic4\", \"Topic4\", \"Topic4\", \"Topic4\", \"Topic4\", \"Topic4\", \"Topic4\", \"Topic4\", \"Topic4\", \"Topic4\", \"Topic4\", \"Topic4\", \"Topic4\", \"Topic4\", \"Topic4\", \"Topic4\", \"Topic4\", \"Topic4\", \"Topic4\", \"Topic4\", \"Topic4\", \"Topic4\", \"Topic4\", \"Topic4\", \"Topic4\", \"Topic4\", \"Topic4\", \"Topic4\", \"Topic4\", \"Topic4\", \"Topic4\", \"Topic4\", \"Topic4\", \"Topic4\", \"Topic4\", \"Topic4\", \"Topic4\", \"Topic4\", \"Topic4\", \"Topic4\", \"Topic4\", \"Topic4\", \"Topic4\", \"Topic4\", \"Topic4\", \"Topic4\", \"Topic4\", \"Topic4\", \"Topic4\", \"Topic4\", \"Topic4\", \"Topic4\", \"Topic4\", \"Topic4\", \"Topic4\", \"Topic4\", \"Topic4\", \"Topic4\", \"Topic4\", \"Topic4\", \"Topic4\", \"Topic4\", \"Topic4\", \"Topic4\", \"Topic4\", \"Topic4\", \"Topic4\", \"Topic4\", \"Topic4\", \"Topic4\", \"Topic4\", \"Topic4\", \"Topic4\", \"Topic4\", \"Topic4\", \"Topic4\", \"Topic5\", \"Topic5\", \"Topic5\", \"Topic5\", \"Topic5\", \"Topic5\", \"Topic5\", \"Topic5\", \"Topic5\", \"Topic5\", \"Topic5\", \"Topic5\", \"Topic5\", \"Topic5\", \"Topic5\", \"Topic5\", \"Topic5\", \"Topic5\", \"Topic5\", \"Topic5\", \"Topic5\", \"Topic5\", \"Topic5\", \"Topic5\", \"Topic5\", \"Topic5\", \"Topic5\", \"Topic5\", \"Topic5\", \"Topic5\", \"Topic5\", \"Topic5\", \"Topic5\", \"Topic5\", \"Topic5\", \"Topic5\", \"Topic5\", \"Topic5\", \"Topic5\", \"Topic5\", \"Topic5\", \"Topic5\", \"Topic5\", \"Topic5\", \"Topic5\", \"Topic5\", \"Topic5\", \"Topic5\", \"Topic5\", \"Topic5\", \"Topic5\", \"Topic5\", \"Topic5\", \"Topic5\", \"Topic5\", \"Topic5\", \"Topic5\", \"Topic5\", \"Topic5\", \"Topic5\", \"Topic5\", \"Topic5\", \"Topic5\", \"Topic5\", \"Topic5\", \"Topic5\", \"Topic5\", \"Topic5\", \"Topic5\", \"Topic5\", \"Topic5\", \"Topic5\", \"Topic5\", \"Topic5\", \"Topic5\", \"Topic5\", \"Topic5\", \"Topic5\", \"Topic5\", \"Topic5\", \"Topic5\", \"Topic5\", \"Topic5\", \"Topic5\", \"Topic5\", \"Topic5\", \"Topic5\", \"Topic6\", \"Topic6\", \"Topic6\", \"Topic6\", \"Topic6\", \"Topic6\", \"Topic6\", \"Topic6\", \"Topic6\", \"Topic6\", \"Topic6\", \"Topic6\", \"Topic6\", \"Topic6\", \"Topic6\", \"Topic6\", \"Topic6\", \"Topic6\", \"Topic6\", \"Topic6\", \"Topic6\", \"Topic6\", \"Topic6\", \"Topic6\", \"Topic6\", \"Topic6\", \"Topic6\", \"Topic6\", \"Topic6\", \"Topic6\", \"Topic6\", \"Topic6\", \"Topic6\", \"Topic6\", \"Topic6\", \"Topic6\", \"Topic6\", \"Topic6\", \"Topic6\", \"Topic6\", \"Topic6\", \"Topic6\", \"Topic6\", \"Topic6\", \"Topic6\", \"Topic6\", \"Topic6\", \"Topic6\", \"Topic6\", \"Topic6\", \"Topic6\", \"Topic6\", \"Topic6\", \"Topic6\", \"Topic6\", \"Topic6\", \"Topic6\", \"Topic6\", \"Topic6\", \"Topic6\", \"Topic6\", \"Topic6\", \"Topic6\", \"Topic6\", \"Topic6\", \"Topic6\", \"Topic6\", \"Topic6\", \"Topic6\", \"Topic6\", \"Topic6\", \"Topic6\", \"Topic6\", \"Topic6\", \"Topic6\", \"Topic6\", \"Topic6\", \"Topic6\", \"Topic6\", \"Topic6\", \"Topic6\", \"Topic6\", \"Topic7\", \"Topic7\", \"Topic7\", \"Topic7\", \"Topic7\", \"Topic7\", \"Topic7\", \"Topic7\", \"Topic7\", \"Topic7\", \"Topic7\", \"Topic7\", \"Topic7\", \"Topic7\", \"Topic7\", \"Topic7\", \"Topic7\", \"Topic7\", \"Topic7\", \"Topic7\", \"Topic7\", \"Topic7\", \"Topic7\", \"Topic7\", \"Topic7\", \"Topic7\", \"Topic7\", \"Topic7\", \"Topic7\", \"Topic7\", \"Topic7\", \"Topic7\", \"Topic7\", \"Topic7\", \"Topic7\", \"Topic7\", \"Topic7\", \"Topic7\", \"Topic7\", \"Topic7\", \"Topic7\", \"Topic7\", \"Topic7\", \"Topic7\", \"Topic7\", \"Topic7\", \"Topic7\", \"Topic7\", \"Topic7\", \"Topic7\", \"Topic7\", \"Topic7\", \"Topic7\", \"Topic7\", \"Topic7\", \"Topic7\", \"Topic7\", \"Topic7\", \"Topic7\", \"Topic7\", \"Topic7\", \"Topic7\", \"Topic7\", \"Topic7\", \"Topic7\", \"Topic7\", \"Topic7\", \"Topic7\", \"Topic7\", \"Topic7\", \"Topic7\", \"Topic7\", \"Topic7\", \"Topic7\", \"Topic7\", \"Topic7\", \"Topic7\", \"Topic7\"], \"logprob\": [30.0, 29.0, 28.0, 27.0, 26.0, 25.0, 24.0, 23.0, 22.0, 21.0, 20.0, 19.0, 18.0, 17.0, 16.0, 15.0, 14.0, 13.0, 12.0, 11.0, 10.0, 9.0, 8.0, 7.0, 6.0, 5.0, 4.0, 3.0, 2.0, 1.0, -8.7388, -6.6594, -7.3525, -6.2131, -7.3525, -6.6594, -8.7388, -6.2965, -8.0457, -6.1739, -7.3525, -9.432, -8.0457, -8.0457, -9.432, -9.432, -5.9355, -6.6594, -7.3525, -9.432, -6.867, -9.432, -5.9662, -9.432, -5.9355, -9.432, -7.3525, -7.3525, -6.2131, -6.867, -4.5341, -4.7498, -4.8168, -4.9893, -5.1693, -5.2273, -5.2888, -5.6708, -5.6943, -5.7684, -5.821, -5.8766, -4.8573, -6.0308, -6.0998, -6.0998, -6.1361, -6.1361, -6.1361, -6.1739, -6.2131, -6.2131, -6.2539, -6.2539, -4.6362, -5.7431, -4.1041, -5.7944, -5.5401, -4.228, -5.4246, -5.1835, -5.1279, -5.8766, -4.8994, -4.9776, -4.1797, -4.9102, -5.5001, -5.1145, -4.9661, -4.8676, -4.807, -5.2576, -5.3048, -5.2731, -5.2423, -4.8676, -5.0499, -5.0252, -4.9776, -4.8168, -4.9893, -4.9322, -7.5607, -6.8675, -6.8675, -7.5607, -6.1744, -8.2538, -6.217, -6.8675, -7.5607, -6.4621, -7.1552, -8.2538, -7.5607, -6.8675, -7.5607, -7.1552, -8.2538, -8.2538, -8.2538, -8.2538, -6.8675, -7.5607, -7.5607, -8.2538, -7.1552, -8.2538, -7.1552, -8.2538, -7.5607, -7.1552, -4.6611, -4.7675, -4.958, -5.0898, -5.3271, -5.3451, -5.4812, -5.5023, -5.5912, -5.6636, -5.7149, -5.7149, -5.7415, -5.8261, -5.8261, -5.8261, -5.8559, -5.8867, -5.9513, -5.9852, -5.9852, -5.9852, -6.0202, -6.0566, -6.0566, -6.0944, -6.0944, -6.0944, -6.1336, -5.6389, -5.7971, -5.2581, -5.3635, -4.5567, -4.5818, -5.9185, -4.7777, -5.2416, -4.4037, -4.7177, -5.3094, -5.2581, -4.4252, -4.7177, -5.4404, -4.8307, -5.3094, -5.1936, -4.7177, -4.7081, -4.9457, -5.2416, -5.0484, -4.9216, -5.0484, -5.1628, -5.1936, -5.2093, -5.3271, -6.7689, -6.6258, -7.388, -5.9327, -7.388, -5.4837, -6.7689, -6.6948, -5.3085, -4.9031, -5.9327, -6.6258, -5.9327, -6.7689, -6.0758, -6.6258, -5.5727, -7.388, -6.6948, -6.0017, -7.388, -4.9031, -6.7689, -7.388, -7.388, -5.723, -6.6258, -6.0758, -6.6948, -7.388, -4.6799, -5.5052, -5.5052, -5.6203, -5.645, -5.6703, -5.7785, -5.7785, -5.8075, -5.8374, -5.8681, -5.8681, -5.9327, -6.0017, -6.038, -6.0758, -6.0758, -6.115, -5.3085, -4.7906, -5.723, -4.6518, -5.4219, -4.1922, -4.5217, -4.4976, -4.8565, -5.3826, -4.915, -5.1595, -4.5632, -4.436, -5.4421, -4.3994, -5.0572, -4.6992, -4.823, -5.4421, -4.7695, -4.9644, -5.4219, -5.4021, -5.0998, -5.2908, -5.4219, -5.4219, -5.4421, -7.9214, -6.9098, -8.6145, -8.6145, -9.3076, -8.6145, -7.9214, -7.2282, -7.9214, -6.2631, -7.2282, -8.6145, -9.3076, -6.7427, -6.9098, -7.9214, -9.3076, -6.0118, -9.3076, -7.2282, -5.57, -9.3076, -9.3076, -6.5351, -9.3076, -9.3076, -8.6145, -9.3076, -9.3076, -9.3076, -3.3466, -4.1036, -4.7538, -4.865, -5.2133, -5.2301, -5.2472, -5.3758, -5.4158, -5.57, -5.6701, -5.7813, -5.8111, -5.9065, -5.9404, -5.9754, -6.0496, -6.0496, -6.0496, -6.1296, -6.1296, -6.1722, -6.1722, -6.1722, -6.2166, -6.2631, -6.3119, -5.3564, -5.1968, -3.896, -5.0881, -4.8888, -4.819, -4.6633, -5.501, -5.3758, -5.7813, -5.1333, -5.2472, -5.1488, -4.6072, -4.6163, -4.8888, -5.4158, -4.7227, -4.5541, -4.819, -4.7538, -5.1805, -5.3956, -5.3003, -5.2646, -5.2646, -5.3003, -5.3564, -5.3564, -6.2575, -7.1225, -9.2019, -5.0588, -7.8156, -9.2019, -7.1225, -9.2019, -9.2019, -7.1225, -9.2019, -9.2019, -7.8156, -9.2019, -9.2019, -9.2019, -9.2019, -9.2019, -7.8156, -9.2019, -7.8156, -9.2019, -9.2019, -9.2019, -7.1225, -9.2019, -9.2019, -9.2019, -7.1225, -9.2019, -4.2531, -4.8075, -4.9824, -5.0748, -5.1946, -5.3518, -5.3733, -5.591, -5.6184, -5.6466, -5.6755, -5.7362, -5.8007, -5.8007, -5.8697, -5.8697, -5.9061, -5.9438, -5.983, -5.983, -6.0239, -6.0239, -6.0664, -6.1109, -6.1574, -6.1574, -6.2062, -6.2062, -6.2062, -4.2674, -5.2899, -5.1589, -4.5575, -5.6755, -5.1076, -5.5643, -5.7054, -4.736, -5.091, -5.2129, -5.1766, -5.3952, -4.9392, -4.5868, -4.7952, -5.1415, -4.8712, -4.7711, -5.1076, -5.2316, -5.1415, -4.9252, -5.1946, -5.3518, -5.0588, -5.3101, -5.1766, -6.881, -7.6919, -7.6919, -9.0782, -7.9796, -4.6355, -7.4687, -6.245, -9.0782, -6.5132, -5.9871, -9.0782, -6.5933, -7.6919, -6.6803, -7.4687, -7.6919, -5.8201, -6.7756, -7.9796, -9.0782, -7.6919, -5.5228, -7.6919, -6.3701, -8.385, -6.881, -7.2864, -7.6919, -9.0782, -4.1878, -4.8587, -4.9193, -5.0708, -5.3646, -5.4673, -5.4947, -5.5228, -5.5518, -5.5518, -5.5518, -5.7109, -5.7109, -5.746, -5.9001, -5.9001, -5.9871, -6.0337, -6.0337, -6.0824, -6.0824, -6.1337, -6.1337, -6.1337, -6.1337, -6.1878, -5.1269, -4.6962, -5.746, -5.3405, -4.3597, -5.5817, -5.4146, -4.6593, -4.1878, -4.6238, -5.4406, -5.0528, -5.3405, -4.5784, -5.4406, -5.0006, -5.1464, -5.4406, -5.228, -5.3405, -5.4146, -5.3646, -5.3646, -5.4146, -5.4146, -5.4406, -5.8556, -6.7719, -6.6766, -7.4651, -6.6766, -6.2413, -5.6733, -4.6925, -6.8773, -6.8773, -6.7719, -7.4651, -6.8773, -6.7719, -6.8773, -6.6766, -7.4651, -5.4636, -7.4651, -6.8773, -5.411, -6.8773, -6.7719, -7.4651, -6.6766, -5.8164, -7.4651, -6.7719, -6.1841, -7.4651, -3.1529, -4.2787, -5.0492, -5.1827, -5.3133, -5.5192, -5.578, -5.578, -5.578, -5.7072, -5.7423, -5.7423, -5.8164, -5.8965, -5.939, -5.939, -6.03, -6.0788, -6.1301, -6.2413, -6.2413, -6.2413, -5.5482, -5.7423, -5.0855, -5.8965, -4.2705, -4.4896, -3.7762, -4.356, -4.8698, -5.1427, -5.1233, -5.0672, -4.5859, -5.1427, -5.6088, -4.8404, -5.2903, -4.8698, -5.0141, -5.1427, -5.3369, -5.4369, -5.3609, -5.4636, -5.4369, -5.491], \"loglift\": [30.0, 29.0, 28.0, 27.0, 26.0, 25.0, 24.0, 23.0, 22.0, 21.0, 20.0, 19.0, 18.0, 17.0, 16.0, 15.0, 14.0, 13.0, 12.0, 11.0, 10.0, 9.0, 8.0, 7.0, 6.0, 5.0, 4.0, 3.0, 2.0, 1.0, 1.786, 1.786, 1.786, 1.786, 1.786, 1.786, 1.786, 1.786, 1.786, 1.786, 1.786, 1.786, 1.786, 1.786, 1.786, 1.786, 1.786, 1.786, 1.786, 1.786, 1.786, 1.786, 1.786, 1.786, 1.786, 1.786, 1.786, 1.786, 1.786, 1.786, 1.786, 1.786, 1.786, 1.786, 1.786, 1.786, 1.786, 1.786, 1.786, 1.786, 1.786, 1.786, 1.7757, 1.786, 1.786, 1.786, 1.786, 1.786, 1.786, 1.786, 1.786, 1.786, 1.786, 1.786, 1.7447, 1.7608, 1.6521, 1.7595, 1.7253, 1.5821, 1.6637, 1.615, 1.5663, 1.7293, 1.5136, 1.5258, 1.2704, 1.4625, 1.5704, 1.3998, 1.3304, 1.2186, 1.1643, 1.421, 1.3855, 1.3565, 1.3271, 0.9821, 1.132, 1.0788, 0.8687, 0.5665, 0.69, 0.4989, 1.8609, 1.8609, 1.8609, 1.8609, 1.8609, 1.8609, 1.8609, 1.8609, 1.8609, 1.8609, 1.8609, 1.8609, 1.8609, 1.8609, 1.8609, 1.8609, 1.8609, 1.8609, 1.8609, 1.8609, 1.8609, 1.8609, 1.8609, 1.8609, 1.8609, 1.8609, 1.8609, 1.8609, 1.8609, 1.8609, 1.8609, 1.8609, 1.8609, 1.8609, 1.8609, 1.8609, 1.8609, 1.8609, 1.8609, 1.8609, 1.8609, 1.8609, 1.8609, 1.8609, 1.8609, 1.8609, 1.8609, 1.8609, 1.8609, 1.8609, 1.8609, 1.8609, 1.8609, 1.8609, 1.8609, 1.8609, 1.8609, 1.8609, 1.8609, 1.8369, 1.8325, 1.7487, 1.756, 1.6038, 1.5581, 1.8293, 1.5304, 1.6531, 1.3991, 1.4106, 1.6115, 1.5698, 1.1982, 1.1897, 1.581, 0.9695, 1.3896, 1.1809, 0.6563, 0.6142, 0.9006, 1.2171, 0.8789, 0.5494, 0.7871, 0.9611, 0.838, 0.3566, 0.3522, 1.8799, 1.8799, 1.8799, 1.8799, 1.8799, 1.8799, 1.8799, 1.8799, 1.8799, 1.8799, 1.8799, 1.8799, 1.8799, 1.8799, 1.8799, 1.8799, 1.8799, 1.8799, 1.8799, 1.8799, 1.8799, 1.8799, 1.8799, 1.8799, 1.8799, 1.8799, 1.8799, 1.8799, 1.8799, 1.8799, 1.8799, 1.8799, 1.8799, 1.8799, 1.8799, 1.8799, 1.8799, 1.8799, 1.8799, 1.8799, 1.8799, 1.8799, 1.8799, 1.8799, 1.8799, 1.8799, 1.8799, 1.8799, 1.8444, 1.7975, 1.8529, 1.7079, 1.8025, 1.6154, 1.6466, 1.5761, 1.5248, 1.6864, 1.5095, 1.5506, 1.2865, 1.1933, 1.6408, 0.9802, 1.3634, 1.101, 1.1071, 1.5682, 0.6138, 0.6015, 1.4212, 1.3428, 0.3313, 0.772, 1.3611, 0.8746, 0.2373, 1.9004, 1.9004, 1.9004, 1.9004, 1.9004, 1.9004, 1.9004, 1.9004, 1.9004, 1.9004, 1.9004, 1.9004, 1.9004, 1.9004, 1.9004, 1.9004, 1.9004, 1.9004, 1.9004, 1.9004, 1.9004, 1.9004, 1.9004, 1.9004, 1.9004, 1.9004, 1.9004, 1.9004, 1.9004, 1.9004, 1.8953, 1.9004, 1.9004, 1.9004, 1.9004, 1.9004, 1.9004, 1.9004, 1.9004, 1.9004, 1.9004, 1.9004, 1.9004, 1.9004, 1.9004, 1.9004, 1.9004, 1.9004, 1.9004, 1.9004, 1.9004, 1.9004, 1.9004, 1.9004, 1.9004, 1.9004, 1.9004, 1.8812, 1.8373, 1.7419, 1.8163, 1.7337, 1.6689, 1.619, 1.7738, 1.7208, 1.8163, 1.5988, 1.6178, 1.5611, 1.2231, 1.2192, 1.3398, 1.6203, 1.1848, 0.917, 1.1309, 0.5685, 1.1939, 1.5668, 1.2559, 0.9713, 0.8593, 0.6298, 0.9588, 0.0269, 2.0023, 2.0023, 2.0023, 2.0023, 2.0023, 2.0023, 2.0023, 2.0023, 2.0023, 2.0023, 2.0023, 2.0023, 2.0023, 2.0023, 2.0023, 2.0023, 2.0023, 2.0023, 2.0023, 2.0023, 2.0023, 2.0023, 2.0023, 2.0023, 2.0023, 2.0023, 2.0023, 2.0023, 2.0023, 2.0023, 2.0023, 2.0023, 2.0023, 2.0023, 2.0023, 2.0023, 2.0023, 2.0023, 2.0023, 2.0023, 2.0023, 2.0023, 2.0023, 2.0023, 2.0023, 2.0023, 2.0023, 2.0023, 2.0023, 2.0023, 2.0023, 2.0023, 2.0023, 2.0023, 2.0023, 2.0023, 2.0023, 2.0023, 2.0023, 1.9812, 1.9827, 1.9515, 1.825, 1.9459, 1.8355, 1.8798, 1.9149, 1.4999, 1.6045, 1.5999, 1.5313, 1.6512, 1.2325, 0.8633, 1.0076, 1.3288, 0.9591, 0.66, 1.1066, 1.2344, 1.0404, 0.5458, 1.1041, 1.4017, 0.6205, 1.2399, 0.1975, 2.1175, 2.1175, 2.1175, 2.1175, 2.1175, 2.1175, 2.1175, 2.1175, 2.1175, 2.1175, 2.1175, 2.1175, 2.1175, 2.1175, 2.1175, 2.1175, 2.1175, 2.1175, 2.1175, 2.1175, 2.1175, 2.1175, 2.1175, 2.1175, 2.1175, 2.1175, 2.1175, 2.1175, 2.1175, 2.1175, 2.1175, 2.1175, 2.1175, 2.1175, 2.1175, 2.1175, 2.1175, 2.1175, 2.1175, 2.1175, 2.1175, 2.1175, 2.1175, 2.1175, 2.1175, 2.1175, 2.1175, 2.1175, 2.1175, 2.1175, 2.1175, 2.1175, 2.1175, 2.1175, 2.1175, 2.1175, 2.0799, 1.9694, 2.0493, 1.9658, 1.6719, 1.9511, 1.873, 1.5886, 1.1344, 1.3474, 1.7686, 1.4139, 1.655, 0.805, 1.7011, 0.9989, 1.1523, 1.5731, 1.1312, 1.1255, 1.4331, 0.7752, 0.7394, 0.9419, 0.5127, 0.1973, 2.1255, 2.1255, 2.1255, 2.1255, 2.1255, 2.1255, 2.1255, 2.1255, 2.1255, 2.1255, 2.1255, 2.1255, 2.1255, 2.1255, 2.1255, 2.1255, 2.1255, 2.1255, 2.1255, 2.1255, 2.1255, 2.1255, 2.1255, 2.1255, 2.1255, 2.1255, 2.1255, 2.1255, 2.1255, 2.1255, 2.1255, 2.1255, 2.1255, 2.1255, 2.1255, 2.1255, 2.1255, 2.1255, 2.1255, 2.1255, 2.1255, 2.1255, 2.1255, 2.1255, 2.1255, 2.1255, 2.1255, 2.1255, 2.1255, 2.1255, 2.1255, 2.1255, 2.0964, 2.0909, 2.0379, 2.0854, 1.8088, 1.8089, 1.6034, 1.7068, 1.5737, 1.6782, 1.6357, 1.5537, 1.0435, 1.3129, 1.8786, 0.7255, 1.3921, 0.5042, 0.6093, 0.8072, 1.2533, 1.3757, 0.6386, 0.9178, 0.0341, 0.9296]}, \"token.table\": {\"Topic\": [3, 5, 2, 3, 6, 7, 4, 6, 3, 4, 4, 7, 4, 7, 7, 7, 5, 1, 3, 4, 4, 5, 3, 4, 5, 6, 7, 2, 1, 7, 4, 1, 4, 2, 3, 6, 3, 5, 5, 3, 3, 6, 3, 7, 6, 3, 5, 3, 3, 1, 6, 2, 6, 4, 6, 6, 5, 1, 1, 3, 7, 6, 3, 7, 6, 2, 1, 3, 4, 4, 5, 2, 2, 1, 6, 6, 1, 5, 3, 6, 7, 1, 5, 2, 4, 3, 3, 2, 1, 3, 3, 7, 6, 5, 3, 1, 4, 5, 6, 2, 5, 2, 3, 2, 4, 5, 7, 5, 5, 6, 6, 1, 3, 4, 2, 4, 1, 3, 4, 4, 2, 3, 5, 7, 7, 3, 3, 4, 7, 4, 7, 4, 7, 2, 4, 5, 4, 6, 1, 3, 6, 4, 2, 4, 6, 3, 7, 1, 2, 6, 6, 3, 5, 7, 2, 3, 6, 5, 7, 5, 2, 6, 1, 2, 3, 5, 6, 1, 3, 4, 6, 1, 6, 6, 1, 2, 7, 2, 4, 3, 4, 1, 1, 5, 2, 3, 6, 7, 2, 3, 1, 2, 7, 1, 6, 2, 1, 6, 6, 2, 7, 6, 7, 2, 4, 6, 5, 2, 4, 2, 6, 5, 7, 3, 2, 2, 2, 5, 6, 7, 4, 7, 3, 7, 1, 3, 7, 2, 4, 5, 6, 2, 6, 1, 3, 6, 4, 4, 6, 2, 7, 1, 4, 2, 4, 6, 1, 6, 3, 7, 7, 1, 2, 4, 6, 7, 7, 7, 5, 1, 5, 7, 4, 3, 7, 3, 6, 5, 5, 7, 3, 5, 6, 5, 1, 5, 1, 2, 1, 4, 6, 6, 5, 7, 3, 4, 5, 5, 1, 5, 3, 3, 2, 5, 2, 3, 5, 5, 3, 5, 6, 1, 7, 3, 3, 4, 5, 6, 2, 6, 7, 3, 1, 2, 4, 6, 2, 3, 7, 1, 5, 5, 1, 1, 4, 6, 6, 6, 2, 7, 2, 1, 6, 5, 5, 2, 4, 2, 3, 4, 7, 1, 7, 3, 6, 1, 7, 6, 2, 5, 5, 2, 1, 7, 5, 5, 5, 4, 1, 2, 2, 6, 2, 6, 2, 1, 3, 7, 1, 7, 2, 7, 2, 3, 7, 7, 4, 7, 4, 4, 7, 2, 2, 2, 6, 6, 5, 3, 5, 7, 5, 1, 1, 2, 3, 3, 7, 4, 4, 7, 1, 6, 5, 6, 2, 6, 2, 2, 3, 6, 1, 3, 4, 3, 1, 3, 5, 7, 7, 3, 4, 2, 3, 4, 5, 6, 1, 3, 5, 2, 1, 1, 7, 6, 5, 6, 6, 5, 1, 2, 3, 2, 1, 5, 6, 7, 2, 3, 5, 3, 4, 4, 2, 3, 1, 2, 3, 4, 7, 1, 2, 4, 1, 2, 5, 4, 2, 3, 4, 6, 7, 7, 7, 2, 3, 4, 1, 7, 1, 6, 4, 5, 4, 3, 1, 1, 4, 6, 3, 6, 5, 6, 1, 3, 4, 6, 7, 6, 5, 5, 3, 2, 5, 6, 2, 5, 5, 1, 4, 5, 4, 1, 3, 2, 4, 1, 3, 3, 4, 5, 3, 1, 2, 4, 7, 2, 7, 7, 4, 7, 6, 1, 6, 7, 7, 1, 2, 2, 7, 2, 5, 7, 2, 6, 2, 4, 3, 2, 3, 4, 1, 4, 4, 5, 7, 2, 5, 1, 2, 1, 5, 6, 4, 4, 5, 2, 4, 2, 6, 7, 1, 3, 5, 4, 3, 7, 7, 1, 1, 5, 5, 1, 1, 3, 7, 3, 2, 5, 7, 4, 7, 3, 4, 5, 1, 3, 6, 1, 7, 2, 3, 5, 3, 5, 1, 6, 7, 4, 6, 4, 2, 4, 6, 5, 3, 6, 7, 4, 3, 6, 7, 1, 2, 5, 6, 1, 2, 3, 5, 3, 1, 6, 1, 1, 7, 6, 2, 2, 1, 5, 6, 3, 5, 6, 1, 3, 2, 3, 7, 5, 3, 2, 6, 1, 4, 7, 4, 5, 7, 4, 5, 7, 3, 4, 5, 3, 4, 3, 1, 7, 7, 1, 4, 1, 3, 5, 4, 5, 2, 3, 5, 3, 7, 4, 5, 6, 4, 4, 1, 2, 3, 4, 2, 4, 1, 3, 4, 6, 7, 1, 3, 1, 2, 6, 5, 3, 1, 5, 7, 6, 7, 6, 1, 6, 2, 6, 6, 7, 3, 5, 2, 5, 2, 4, 6, 1, 1, 6, 1, 6, 4, 2, 2, 5, 6, 1, 3, 7, 7, 6, 2, 5, 1, 2, 1, 1, 4, 6, 1, 4, 5, 4, 5, 3, 6, 5, 1, 7, 1, 2, 4, 7, 2, 3, 7, 4, 4, 1, 2, 3, 5, 6, 7, 4, 4, 6, 3, 1, 2, 3, 4, 5, 2, 5], \"Freq\": [0.9728601234839634, 1.0094550144380987, 0.9723691561511094, 0.7815626163221828, 0.21883753257021119, 0.9994870969769979, 0.9673025102720474, 0.9553591650556368, 0.9728601234839633, 0.9673025102720474, 0.9673025102720474, 0.9595076130979181, 0.9673025102720474, 0.9885836013736126, 1.0159492373977956, 0.9595076130979182, 0.9635706956000035, 0.7599794344836633, 0.23999350562642002, 1.0045064529748182, 0.9966147075530184, 0.9635706956000035, 0.033391255433102965, 0.016695627716551482, 0.24208660188999648, 0.25878222960654795, 0.44243413448861424, 0.9723691561511094, 1.009513486517782, 1.00413587417224, 0.9673025102720474, 0.27715400727340217, 0.7206004189108456, 0.2564043293566065, 0.5796967446323277, 0.16722021479778684, 0.04820154758468681, 0.9479637691655073, 1.0142849427368457, 0.9728601234839634, 0.9728601234839634, 1.034972428810273, 0.7214515027744853, 0.2799662548080092, 0.9883025845403138, 0.9728601234839633, 0.9635706956000035, 0.9960234597573911, 0.9728601234839633, 0.9381504867332799, 0.056289029203996796, 1.0027556922808318, 0.9553591650556368, 0.9673025102720474, 1.0019620511559117, 0.9553591650556368, 1.0117492303800035, 1.0074781770691572, 0.31269565452398296, 0.59064734743419, 0.09265056430340236, 0.9951657969329549, 1.005288794266762, 0.9595076130979181, 1.0031271233084185, 0.9723691561511094, 0.7222592745159461, 0.2766099349210006, 0.9673025102720474, 1.006784245385192, 0.9635706956000035, 0.999131609990131, 1.0128845376574056, 0.8029141450601146, 0.20072853626502865, 1.0422099982425128, 0.05357246054515064, 0.9375180595401362, 0.3325627676733751, 0.011273314158419496, 0.6594888782675405, 0.9769485353397889, 0.9992584991407443, 0.9723691561511094, 1.0156676357856496, 0.9940092566031801, 0.9728601234839634, 1.0083828286011505, 0.44635333575856656, 0.551109730885577, 0.9725039822236509, 0.025592210058517126, 0.9553591650556367, 0.9635706956000035, 1.005288794266762, 0.9769485353397889, 0.3581066938515422, 0.014324267754061688, 0.6302677811787143, 0.7843177160919209, 0.22598985039936703, 1.0009682489790832, 0.9728601234839634, 0.2682187733978377, 0.3742587535783782, 0.23391172098648635, 0.1247529178594594, 1.0037194745833369, 1.0117492303800035, 0.9553591650556368, 0.9921037483270073, 0.25666192899390955, 0.46396579471975957, 0.28134096062793934, 0.9723691561511095, 1.0006577692469456, 0.8142037744667151, 0.17947502555449096, 0.004377439647670511, 1.0093591411534406, 0.9723691561511094, 0.14950677457467246, 0.8426745476026993, 0.9978879176218349, 0.9595076130979182, 0.9728601234839634, 0.18856582208523398, 0.7542632883409359, 0.05028421922272906, 0.9673025102720474, 0.9595076130979181, 1.0000924258744897, 0.9595076130979181, 0.993057861601133, 0.9673025102720474, 0.9635706956000035, 0.9673025102720474, 0.9553591650556367, 0.846915973239813, 0.15291538405718846, 0.9553591650556368, 0.9673025102720474, 0.9722276993847617, 0.027006324982910047, 0.9984580747573947, 1.010277820541039, 0.9885836013736126, 0.32656655299426157, 0.5275305856061149, 0.15072302445888994, 1.0001416259176197, 0.06511660902395537, 0.016279152255988843, 0.9116325263353753, 0.09395439450233702, 0.789216913819631, 0.11274527340280442, 0.38443238770941507, 0.6105690863620121, 0.9903365482555591, 1.009767969849229, 1.011556763000086, 1.011839554459067, 0.2890950432944754, 0.21367894504374266, 0.46506593921285166, 0.03142337427113863, 0.2942652033897402, 0.2828374285008182, 0.15427496100044633, 0.2685527098896658, 0.9763827798132091, 0.025035455892646385, 0.9987845816490748, 0.9769485353397889, 0.7510692038192307, 0.25439440774522326, 0.07846308255856349, 0.9154026298499075, 0.9184214671156717, 0.07203305624436641, 1.0065530364106916, 1.0019984977843988, 0.9635706956000035, 0.016122280776407667, 0.5965243887270836, 0.08061140388203833, 0.3063233347517456, 0.9723691561511095, 0.9971816265710625, 0.9769485353397889, 0.9723691561511094, 0.9869221163292873, 0.8801594840978036, 0.11001993551222546, 0.9723691561511094, 0.9493848256744949, 0.05274360142636083, 1.000317243411196, 1.009767969849229, 0.9595076130979182, 0.027411102459970492, 0.9593885860989673, 0.8158556897429857, 0.16835117407394945, 0.012950090313380727, 0.9635706956000035, 1.0146460759837663, 1.0045064529748182, 1.0058991270528719, 0.9553591650556368, 0.21081875953995768, 0.7730021183131782, 0.9728601234839634, 1.0009682489790832, 1.0058991270528719, 0.5157489663599947, 0.13075325907718174, 0.1343852940515479, 0.21792209846196955, 0.9854024583329092, 0.01824819367283165, 0.03310213586514834, 0.9599619400893018, 0.9769485353397889, 1.0023407332865077, 1.0159492373977956, 0.07339474166254602, 0.23853291040327457, 0.4678914780987309, 0.22018422498763807, 0.8981335817803826, 0.10140217858810771, 1.014523479006704, 0.9728601234839634, 0.9553591650556368, 0.9991916040172796, 0.9995459272811156, 0.9553591650556368, 0.9723691561511094, 1.0159492373977956, 0.976948535339789, 0.9903335224213817, 0.5114854585972691, 0.4873587860219262, 0.9553591650556368, 0.9769485353397889, 0.9553591650556367, 0.972393508637716, 0.03353081064267986, 1.001225335406523, 0.06719092121213265, 0.28757714278792773, 0.26338841115156, 0.37358152193945754, 0.008062910545455918, 1.0006661166088207, 1.0113728894815894, 1.0094550144380987, 0.5986151012779596, 0.3206866613989069, 0.08246228435971892, 0.9673025102720474, 0.2711034255431281, 0.7276986685631333, 0.21101413009114975, 0.7865072121579219, 0.9946536212645196, 0.9979839347285749, 0.9595076130979182, 0.275899364169081, 0.6685253824096963, 0.05305757003251558, 1.0021135234240035, 1.0040859946547829, 0.9896131468324361, 1.011839554459067, 0.9723691561511094, 0.4309719902718643, 0.257071011741112, 0.309997396511341, 1.0099511173445304, 0.9635706956000035, 0.9595076130979181, 0.27987502297080746, 0.7104519813874344, 0.010764423960415673, 0.9977398692028405, 0.9988205174742618, 1.0054650736695687, 1.010277820541039, 0.9978052548553472, 0.9926268469042575, 0.9979839347285749, 0.9997598366060703, 0.9935592750474519, 0.9635706956000035, 1.0037194745833369, 0.9728601234839634, 0.9635706956000035, 1.011556763000086, 0.6650554060172833, 0.3272494855005679, 1.0014736565276092, 0.15162050128507878, 0.24259280205612604, 0.23501177699187212, 0.371470228148443, 0.3798820559832272, 0.49806758451134236, 0.12662735199440908, 0.9728601234839634, 0.2903935868902984, 0.3740663153163166, 0.13289198044132303, 0.20179893326274978, 0.4056294485899988, 0.11930277899705848, 0.4772111159882339, 1.004468212391614, 0.9936822798375037, 1.0054650736695687, 1.000209214752641, 0.2984390973000216, 0.11530601486591743, 0.5900954878432245, 0.9553591650556368, 1.00700020100459, 0.42062451832574266, 0.5773277702510193, 0.9723691561511094, 0.699066861804995, 0.3025811789902217, 1.0073693635818217, 1.0006311069692342, 1.0263896648261712, 0.9995459272811156, 0.20137783500841483, 0.06544779637773482, 0.46316902051935416, 0.2668256313861497, 0.9769485353397889, 0.9595076130979181, 0.4230073235523727, 0.5834583773136175, 0.999668268719784, 0.9595076130979181, 0.9553591650556368, 0.9723691561511094, 0.9635706956000035, 0.9635706956000035, 1.0112639223971538, 1.01765472431228, 1.0051984518168666, 0.9635706956000035, 0.9919110101764741, 0.9635706956000035, 0.9673025102720474, 0.9868699727321999, 0.009968383562951514, 1.0009682489790832, 0.9951657969329549, 0.9723691561511094, 1.0008524586297147, 0.9986494036146529, 1.0065530364106916, 0.8418217019358161, 0.15926356523110033, 1.0160264767533804, 0.9991566880193198, 1.002135558890429, 0.99548914858909, 0.7203757809215575, 0.2809465545594074, 1.0100080137872822, 0.9595076130979181, 0.3608695143020644, 0.637536141933647, 0.9673025102720474, 1.013364534570716, 0.9964117520632227, 0.9723691561511094, 0.9723691561511095, 0.13387218806557905, 0.8650202921160492, 1.0008524586297147, 1.0021135234240035, 0.01889708109405296, 0.9826482168907539, 1.0159492373977956, 0.9635706956000035, 1.0061111781857528, 0.5654338361958968, 0.19040118973943462, 0.2423287869410986, 1.0088919799092955, 0.9595076130979182, 0.9673025102720474, 1.0052359420474217, 1.0087131317183242, 1.0160264767533804, 1.0084346742253945, 0.9992584991407444, 1.0099511173445304, 0.7365971944197983, 0.2617659451243911, 1.0018348881556884, 0.481897647276608, 0.012356349930169435, 0.5066103471369469, 0.9769485353397889, 0.24567612747239964, 0.7580863362005474, 0.9728601234839634, 0.6816327337540479, 0.11508085115328082, 0.20360458280965069, 0.9595076130979182, 0.9595076130979181, 1.0006561270120766, 0.9673025102720474, 0.07212918617781301, 0.14425837235562602, 0.12458677612531338, 0.40654632209312785, 0.2557307509940643, 0.5206386695129227, 0.09523878100846146, 0.38095512403384585, 0.997957818155086, 0.9769485353397889, 0.9769485353397889, 1.007482993752814, 0.9553591650556368, 0.9635706956000035, 1.0056412263743544, 1.0056412263743544, 0.9635706956000035, 0.03039098786938457, 0.9725116118203062, 1.005288794266762, 0.9723691561511094, 0.10122753141554643, 0.4639595189879211, 0.37116761519033686, 0.059049393325735416, 1.0058991270528719, 0.9244718828642264, 0.07624510374137951, 1.0032620023428371, 0.9673025102720474, 0.9673025102720474, 0.99498239234067, 1.007605127894105, 0.005991604611779176, 0.407429113600984, 0.22768097524760872, 0.35350467209497144, 0.005991604611779176, 0.38451163151875867, 0.2249030297562551, 0.39176656796250886, 0.9962940508910718, 1.0047814613561463, 0.9635706956000035, 1.0277589171640504, 0.22289576644595743, 0.27776241664803925, 0.1680291162438756, 0.08572914094075286, 0.24689992590936824, 0.9595076130979181, 0.9595076130979181, 1.009767969849229, 0.9728601234839634, 1.011270806193504, 0.03840773140394863, 0.9601932850987158, 0.9769485353397889, 1.011556763000086, 0.8483544079980943, 0.15783337823220359, 0.9673025102720474, 1.010277820541039, 0.9924556549483569, 0.6556764855653494, 0.3477072271937459, 1.011556763000086, 1.0032620023428371, 0.9553591650556368, 0.9911012869028607, 0.9975073635139736, 0.4933601521644768, 0.017620005434445602, 0.22906007064779282, 0.2525534112270536, 0.0058733351448152, 1.0190497760593458, 0.9635706956000035, 0.9635706956000035, 1.007605127894105, 0.3642819735124381, 0.5083004281568904, 0.1270751070392226, 0.9966783850548873, 0.9956897187866702, 0.9941602414920672, 1.0131318144264476, 1.0076067815333825, 0.9635706956000035, 1.013364534570716, 0.23144373039691415, 0.768567859431262, 0.26416953917765157, 0.7374732968709439, 0.6336880803359719, 0.36312463030488273, 0.3260997104762073, 0.1236929936289062, 0.550996062528764, 0.9940092566031801, 1.01765472431228, 1.0070966260136491, 1.0076067815333825, 0.9925940825150877, 0.4333141579694697, 0.5613387955513585, 0.9595076130979181, 0.7932465531516372, 0.2069338834308619, 0.9553591650556368, 0.09772323802060708, 0.8599644945813422, 0.03908929520824283, 0.9964117520632227, 0.0972825161266689, 0.9079701505155764, 0.7705913565163051, 0.2237200712466692, 0.7497165934330036, 0.24990553114433453, 0.9937757421371295, 0.9963782711178035, 1.0031271233084185, 0.5080268436300871, 0.49263209079281167, 1.011774528423322, 1.0077280345566042, 0.9965884191786942, 0.9673025102720474, 0.23868534159145416, 0.7608095263227601, 0.30146111542543197, 0.7084336212497652, 0.9914912002011821, 0.9723691561511094, 0.9635706956000035, 0.9769485353397889, 1.0070966260136491, 0.9769485353397889, 0.8380771437894393, 0.16295944462572431, 1.0093591411534406, 0.8399099042409913, 0.1584735668379229, 0.9723691561511094, 1.0014425988698843, 0.9723691561511094, 1.0288483315983779, 0.9937757421371295, 0.6360802005705625, 0.08418708536963326, 0.28062361789877754, 0.9673025102720473, 0.9960234597573911, 0.998671189142731, 1.001225335406523, 1.0160264767533804, 1.003352549808432, 0.9956897187866702, 1.0117492303800035, 0.9999355597007252, 0.9769485353397889, 0.9991536403348813, 0.9595076130979181, 0.9954847775184743, 0.6378918658104837, 0.28885669395191715, 0.07823202127864423, 0.523673247775395, 0.4817793879533634, 0.05954724203437107, 0.9378690620413443, 0.9635706956000035, 0.04973421058232885, 0.2818271932998635, 0.6631228077643847, 0.9769485353397889, 0.9595076130979181, 0.23865028502141783, 0.09546011400856713, 0.6682207980599699, 0.11216764380965048, 0.8749076217152738, 0.5349100037543599, 0.4629028878643499, 0.9937757421371295, 0.9673025102720474, 1.0056412263743544, 0.9673025102720474, 0.9723691561511094, 0.8901264885806627, 0.11363316875497823, 1.0060811674647094, 0.24065187933592025, 0.028649033254276222, 0.7276854446586161, 0.9957525841035781, 0.7407657926820637, 0.159549555346906, 0.10256757129443958, 0.39943262243369987, 0.381276594141259, 0.10439716268153519, 0.11347517682775564, 0.33417110456436727, 0.22278073637624488, 0.19205235894503866, 0.2496680666285503, 1.005288794266762, 0.7705956736896782, 0.2276759944992231, 1.0194245586154318, 1.0048613506352113, 1.012813591603358, 0.9553591650556368, 0.9723691561511094, 0.9723691561511095, 0.21406142101740658, 0.4067166999330725, 0.3781751771307516, 0.020361234853071678, 0.9773392729474405, 1.0084346742253945, 0.9769485353397889, 0.9728601234839633, 0.41176968099549954, 0.45944827563708374, 0.13003253084068406, 0.9635706956000035, 0.9728601234839634, 0.3605532443607698, 0.6391625695486374, 0.4191317184190263, 0.5721480600640676, 0.006652884419349624, 1.0006577692469456, 0.9097179698062252, 0.08026923262996105, 0.5092522218483535, 0.3529028554914029, 0.1384808673447277, 1.007605127894105, 0.9978489053332698, 0.9635706956000035, 0.6878906409229165, 0.3075275806478921, 0.9728601234839634, 1.0131318144264476, 0.9595076130979181, 0.9595076130979181, 1.014523479006704, 1.0045064529748182, 0.15988882587224448, 0.6272561630372668, 0.20908538767908894, 0.3954001459019804, 0.6031527649352244, 0.2900756731111518, 0.08594834758848942, 0.6231255200165483, 0.697585837446782, 0.3022871962269389, 0.9673025102720474, 1.0045737039234077, 0.9553591650556368, 1.0093591411534406, 0.9903335224213817, 0.00449027349827842, 0.34126078586915987, 0.14817902544318784, 0.5074009053054614, 0.07846308255856349, 0.9154026298499075, 0.9769485353397889, 0.22750009205505042, 0.21691869242458298, 0.3280233885444913, 0.22750009205505042, 0.26165958913159965, 0.7268321920322213, 0.976948535339789, 0.9723691561511094, 0.9553591650556368, 0.9986096299854581, 1.010277820541039, 0.20056424727612945, 0.37247645922709754, 0.4202298514356998, 0.8579442769225304, 0.14707616175814806, 0.9987845816490748, 0.9764103624409214, 0.023814886888802962, 0.997957818155086, 0.9553591650556368, 0.9555121714882369, 0.03538933968474951, 0.817062532978887, 0.16957901627863692, 0.9723691561511094, 0.9635706956000035, 1.0083828286011505, 0.9927578394897327, 0.9894791352361951, 0.9769485353397889, 0.9605800128780948, 0.03873306503540705, 0.9769485353397889, 1.0074696649677624, 0.9673025102720474, 0.9723691561511094, 0.9723691561511095, 0.3015225725372396, 0.7094648765582108, 0.9769485353397889, 0.4070387235270918, 0.5920563251303154, 0.9885836013736126, 1.0056412263743544, 0.6282936461239423, 0.3727165697345421, 0.023154230714713588, 0.9724776900179707, 1.0131318144264476, 0.9769485353397889, 0.06374308032641572, 0.9242746647330281, 0.8054045631134007, 0.18015628385431331, 0.021194856924036862, 0.9945656484844357, 0.004960427174485964, 1.0006561270120766, 0.9883025845403138, 0.9635706956000035, 0.8752118687612879, 0.12443770645895087, 1.0160264767533804, 0.44312611446791067, 0.5262122609306439, 0.027695382154244417, 0.15711345152531947, 0.5042245653603277, 0.33980351143848164, 0.9673025102720474, 1.0031285291710121, 0.16134469171930338, 0.3000445144253712, 0.11039373643952337, 0.16417530034595781, 0.06510399841305224, 0.19814260386581117, 1.0018490284960488, 0.8549924232032099, 0.14741248675917412, 1.0006561270120766, 0.2756981375925912, 0.14983594434379957, 0.2127670409681954, 0.09889172326690772, 0.2607145431582113, 0.6301421907681335, 0.369393698036492], \"Term\": [\"abdul\", \"ability\", \"access\", \"account\", \"account\", \"act\", \"adapt\", \"addicted\", \"addition\", \"advice\", \"affinity\", \"agency\", \"agree\", \"agricultural\", \"alumnus\", \"amendment\", \"amrut\", \"anniversary\", \"anniversary\", \"answer\", \"april\", \"aquifer\", \"area\", \"area\", \"area\", \"area\", \"area\", \"arjun\", \"armed\", \"art\", \"asset\", \"atmosphere\", \"atmosphere\", \"attention\", \"attention\", \"attention\", \"august\", \"august\", \"auspicious\", \"australia\", \"avail\", \"avenue\", \"aware\", \"aware\", \"ayushman\", \"bachao\", \"bacterial\", \"bank\", \"banking\", \"bapu\", \"bapu\", \"barack\", \"bare\", \"bath\", \"battle\", \"bearing\", \"beauty\", \"belief\", \"benefit\", \"benefit\", \"benefit\", \"bengal\", \"beti\", \"betterment\", \"bhagat\", \"biography\", \"birth\", \"birth\", \"boarding\", \"body\", \"boil\", \"book\", \"boy\", \"brave\", \"brave\", \"brilliant\", \"british\", \"british\", \"brother\", \"brother\", \"brother\", \"brush\", \"buddha\", \"bullet\", \"burden\", \"business\", \"businessman\", \"camp\", \"campaign\", \"campaign\", \"card\", \"card\", \"careless\", \"catalytic\", \"central\", \"chair\", \"challenge\", \"challenge\", \"challenge\", \"chance\", \"chance\", \"channel\", \"chhattisgarh\", \"child\", \"child\", \"child\", \"child\", \"childhood\", \"cigarette\", \"cinema\", \"circumstance\", \"citizen\", \"citizen\", \"citizen\", \"civil\", \"class\", \"cleanliness\", \"cleanliness\", \"cleanliness\", \"clear\", \"climb\", \"community\", \"community\", \"company\", \"compensation\", \"compliment\", \"confidence\", \"confidence\", \"confidence\", \"confirm\", \"consent\", \"conservation\", \"conspiracy\", \"constitution\", \"contented\", \"contestant\", \"continued\", \"continuous\", \"contribution\", \"contribution\", \"convener\", \"convenient\", \"conversation\", \"conversation\", \"corona\", \"corruption\", \"cost\", \"country\", \"country\", \"country\", \"crisis\", \"crop\", \"crop\", \"crop\", \"crore\", \"crore\", \"crore\", \"culture\", \"culture\", \"cup\", \"curiosity\", \"daily\", \"darkness\", \"daughter\", \"daughter\", \"daughter\", \"daughter\", \"day\", \"day\", \"day\", \"day\", \"dedicated\", \"dedicated\", \"deed\", \"deithis\", \"delhi\", \"delhi\", \"democracy\", \"democracy\", \"department\", \"department\", \"determination\", \"dev\", \"devastation\", \"development\", \"development\", \"development\", \"development\", \"difference\", \"difficulty\", \"dimensional\", \"dirt\", \"disaster\", \"diversity\", \"diversity\", \"divinity\", \"divyang\", \"divyang\", \"doctor\", \"donation\", \"doubt\", \"dr\", \"dr\", \"dream\", \"dream\", \"dream\", \"drink\", \"drive\", \"drop\", \"drug\", \"dubai\", \"early\", \"early\", \"earthen\", \"east\", \"effective\", \"effort\", \"effort\", \"effort\", \"effort\", \"election\", \"election\", \"electricity\", \"electricity\", \"emphasize\", \"end\", \"engineer\", \"environment\", \"environment\", \"environment\", \"environment\", \"episode\", \"episode\", \"equal\", \"estimate\", \"evidence\", \"exam\", \"examination\", \"exception\", \"excitement\", \"exemplary\", \"exhibition\", \"expectation\", \"experience\", \"experience\", \"exuding\", \"fabric\", \"facilitate\", \"facility\", \"facility\", \"fair\", \"family\", \"family\", \"family\", \"family\", \"family\", \"farmer\", \"farming\", \"feat\", \"festival\", \"festival\", \"festival\", \"fetch\", \"field\", \"field\", \"fight\", \"fight\", \"fit\", \"flood\", \"flower\", \"food\", \"food\", \"food\", \"football\", \"force\", \"forest\", \"fort\", \"frank\", \"free\", \"free\", \"free\", \"fruit\", \"fun\", \"fund\", \"future\", \"future\", \"future\", \"game\", \"gandhi\", \"ganesh\", \"gas\", \"gift\", \"girl\", \"glory\", \"gold\", \"government\", \"grim\", \"gst\", \"guest\", \"gulshan\", \"gupta\", \"guru\", \"guru\", \"half\", \"hand\", \"hand\", \"hand\", \"hand\", \"health\", \"health\", \"health\", \"hearing\", \"heart\", \"heart\", \"heart\", \"heart\", \"high\", \"high\", \"high\", \"history\", \"hockey\", \"holiday\", \"holy\", \"home\", \"home\", \"home\", \"hopeless\", \"hospital\", \"house\", \"house\", \"hrd\", \"human\", \"human\", \"hundred\", \"idol\", \"imagine\", \"impact\", \"important\", \"important\", \"important\", \"important\", \"inclination\", \"industrialist\", \"innovation\", \"innovation\", \"inspiring\", \"interact\", \"intervention\", \"intoxication\", \"isaid\", \"jack\", \"jai\", \"jayanti\", \"jharkhand\", \"joshi\", \"kashmir\", \"keshla\", \"khaadi\", \"khadi\", \"khadi\", \"kid\", \"king\", \"kinship\", \"kritika\", \"kumbh\", \"labour\", \"lakh\", \"lakh\", \"lamp\", \"land\", \"language\", \"law\", \"letter\", \"letter\", \"library\", \"lie\", \"light\", \"light\", \"lioness\", \"listen\", \"listener\", \"listening\", \"litter\", \"local\", \"local\", \"lockdown\", \"lok\", \"lord\", \"lord\", \"lot\", \"ludhiana\", \"mahatma\", \"man\", \"man\", \"man\", \"mantri\", \"manufacturing\", \"margnew\", \"mark\", \"market\", \"martyr\", \"mask\", \"medal\", \"medical\", \"medium\", \"medium\", \"meeting\", \"member\", \"member\", \"member\", \"meter\", \"mind\", \"mind\", \"mindset\", \"mission\", \"mission\", \"mission\", \"mistake\", \"model\", \"money\", \"moral\", \"mother\", \"mother\", \"mother\", \"mother\", \"mother\", \"movement\", \"movement\", \"movement\", \"mr\", \"mumbaihis\", \"municipal\", \"museum\", \"mustering\", \"myth\", \"namaste\", \"namo\", \"narayan\", \"narendra\", \"narendra\", \"narendramodiapp\", \"narrate\", \"nature\", \"nature\", \"nature\", \"nature\", \"ncc\", \"news\", \"news\", \"newspaper\", \"nominate\", \"nominating\", \"north\", \"note\", \"number\", \"number\", \"number\", \"number\", \"number\", \"occasion\", \"occasion\", \"occasion\", \"october\", \"official\", \"oneself\", \"opinion\", \"opportunity\", \"opportunity\", \"opportunity\", \"opportunity\", \"opportunity\", \"opposition\", \"ordinance\", \"organ\", \"padhao\", \"pain\", \"painting\", \"painting\", \"pal\", \"pandemic\", \"parent\", \"parent\", \"parikh\", \"party\", \"patel\", \"path\", \"path\", \"patient\", \"payment\", \"pearl\", \"performance\", \"period\", \"person\", \"person\", \"person\", \"person\", \"person\", \"phase\", \"photography\", \"physician\", \"picture\", \"place\", \"place\", \"place\", \"plan\", \"plastic\", \"player\", \"pleasant\", \"pleasure\", \"plug\", \"pond\", \"poor\", \"poor\", \"positive\", \"positive\", \"power\", \"power\", \"pradesh\", \"pradesh\", \"pradesh\", \"pradhan\", \"prakash\", \"president\", \"pressure\", \"price\", \"pride\", \"pride\", \"primary\", \"problem\", \"problem\", \"procure\", \"product\", \"product\", \"product\", \"production\", \"program\", \"program\", \"programme\", \"programme\", \"progress\", \"progress\", \"project\", \"public\", \"quarantine\", \"question\", \"question\", \"race\", \"radio\", \"railway\", \"ramp\", \"reason\", \"reason\", \"record\", \"record\", \"reform\", \"regional\", \"regular\", \"relevant\", \"republic\", \"residence\", \"resolve\", \"resolve\", \"response\", \"responsibility\", \"responsibility\", \"restriction\", \"result\", \"rid\", \"risk\", \"road\", \"role\", \"role\", \"role\", \"route\", \"rupee\", \"safety\", \"sahib\", \"saint\", \"sanitation\", \"sanskrit\", \"sant\", \"sardar\", \"sarij\", \"satellite\", \"satisfied\", \"scheme\", \"school\", \"school\", \"school\", \"science\", \"science\", \"scientist\", \"scientist\", \"scooter\", \"sector\", \"sector\", \"sector\", \"secure\", \"sell\", \"sense\", \"sense\", \"sense\", \"september\", \"september\", \"service\", \"service\", \"session\", \"sheet\", \"shri\", \"siachin\", \"sickness\", \"simple\", \"simple\", \"singh\", \"sister\", \"sister\", \"sister\", \"sleep\", \"small\", \"small\", \"small\", \"social\", \"social\", \"social\", \"social\", \"society\", \"society\", \"society\", \"society\", \"soil\", \"soldier\", \"soldier\", \"soul\", \"south\", \"span\", \"spare\", \"spell\", \"spending\", \"spirit\", \"spirit\", \"spirit\", \"sport\", \"sport\", \"staff\", \"stake\", \"stand\", \"state\", \"state\", \"state\", \"statement\", \"storage\", \"story\", \"story\", \"strength\", \"strength\", \"strength\", \"stress\", \"struggle\", \"struggle\", \"student\", \"student\", \"student\", \"subsidy\", \"success\", \"suchitra\", \"suggestion\", \"suggestion\", \"sum\", \"sun\", \"supporter\", \"swachh\", \"swami\", \"target\", \"task\", \"task\", \"task\", \"teacher\", \"teacher\", \"team\", \"team\", \"team\", \"technology\", \"technology\", \"telling\", \"temple\", \"tender\", \"tension\", \"test\", \"thing\", \"thing\", \"thing\", \"thing\", \"thinking\", \"thinking\", \"threat\", \"time\", \"time\", \"time\", \"time\", \"toilet\", \"toilet\", \"total\", \"tough\", \"towel\", \"toy\", \"trader\", \"tradition\", \"tradition\", \"tradition\", \"traditional\", \"traditional\", \"train\", \"transformation\", \"transformation\", \"travel\", \"treat\", \"treatment\", \"treatment\", \"tree\", \"tree\", \"trigger\", \"tripura\", \"tv\", \"type\", \"underprivileged\", \"unhealthy\", \"unity\", \"unity\", \"upadhyay\", \"vegetable\", \"verify\", \"vice\", \"victim\", \"video\", \"video\", \"vigilante\", \"village\", \"village\", \"villager\", \"virus\", \"visit\", \"visit\", \"voice\", \"voice\", \"voter\", \"vow\", \"warrior\", \"warrior\", \"waste\", \"waste\", \"waste\", \"water\", \"water\", \"welfare\", \"west\", \"whim\", \"woman\", \"woman\", \"wonderful\", \"word\", \"word\", \"word\", \"work\", \"work\", \"work\", \"wrapper\", \"wrong\", \"year\", \"year\", \"year\", \"year\", \"year\", \"year\", \"yesterday\", \"yoga\", \"yoga\", \"yojana\", \"young\", \"young\", \"young\", \"young\", \"young\", \"youth\", \"youth\"]}, \"R\": 30, \"lambda.step\": 0.01, \"plot.opts\": {\"xlab\": \"PC1\", \"ylab\": \"PC2\"}, \"topic.order\": [5, 6, 1, 2, 7, 4, 3]};\n",
       "\n",
       "function LDAvis_load_lib(url, callback){\n",
       "  var s = document.createElement('script');\n",
       "  s.src = url;\n",
       "  s.async = true;\n",
       "  s.onreadystatechange = s.onload = callback;\n",
       "  s.onerror = function(){console.warn(\"failed to load library \" + url);};\n",
       "  document.getElementsByTagName(\"head\")[0].appendChild(s);\n",
       "}\n",
       "\n",
       "if(typeof(LDAvis) !== \"undefined\"){\n",
       "   // already loaded: just create the visualization\n",
       "   !function(LDAvis){\n",
       "       new LDAvis(\"#\" + \"ldavis_el1108416228512188968297483069\", ldavis_el1108416228512188968297483069_data);\n",
       "   }(LDAvis);\n",
       "}else if(typeof define === \"function\" && define.amd){\n",
       "   // require.js is available: use it to load d3/LDAvis\n",
       "   require.config({paths: {d3: \"https://d3js.org/d3.v5\"}});\n",
       "   require([\"d3\"], function(d3){\n",
       "      window.d3 = d3;\n",
       "      LDAvis_load_lib(\"https://cdn.jsdelivr.net/gh/bmabey/pyLDAvis@3.3.1/pyLDAvis/js/ldavis.v3.0.0.js\", function(){\n",
       "        new LDAvis(\"#\" + \"ldavis_el1108416228512188968297483069\", ldavis_el1108416228512188968297483069_data);\n",
       "      });\n",
       "    });\n",
       "}else{\n",
       "    // require.js not available: dynamically load d3 & LDAvis\n",
       "    LDAvis_load_lib(\"https://d3js.org/d3.v5.js\", function(){\n",
       "         LDAvis_load_lib(\"https://cdn.jsdelivr.net/gh/bmabey/pyLDAvis@3.3.1/pyLDAvis/js/ldavis.v3.0.0.js\", function(){\n",
       "                 new LDAvis(\"#\" + \"ldavis_el1108416228512188968297483069\", ldavis_el1108416228512188968297483069_data);\n",
       "            })\n",
       "         });\n",
       "}\n",
       "</script>"
      ],
      "text/plain": [
       "PreparedData(topic_coordinates=              x         y  topics  cluster       Freq\n",
       "topic                                                \n",
       "4     -0.231543 -0.173716       1        1  16.762220\n",
       "5      0.087232  0.186025       2        1  15.553888\n",
       "0      0.051358 -0.174126       3        1  15.260122\n",
       "1      0.040696  0.157790       4        1  14.950370\n",
       "6     -0.084939 -0.150135       5        1  13.502270\n",
       "3     -0.187613  0.227848       6        1  12.033457\n",
       "2      0.324809 -0.073686       7        1  11.937673, topic_info=             Term        Freq       Total Category  logprob  loglift\n",
       "74         farmer  388.000000  388.000000  Default  30.0000  30.0000\n",
       "247         water  403.000000  403.000000  Default  29.0000  29.0000\n",
       "242       village  351.000000  351.000000  Default  28.0000  28.0000\n",
       "835          yoga  271.000000  271.000000  Default  27.0000  27.0000\n",
       "625          exam  188.000000  188.000000  Default  26.0000  26.0000\n",
       "...           ...         ...         ...      ...      ...      ...\n",
       "368          high   39.603646   83.820344   Topic7  -5.4369   1.3757\n",
       "490          time   42.730250  189.010913   Topic7  -5.3609   0.6386\n",
       "1082   technology   38.561445  129.016381   Topic7  -5.4636   0.9178\n",
       "27          child   39.603646  320.633783   Topic7  -5.4369   0.0341\n",
       "52    development   37.519244  124.051927   Topic7  -5.4910   0.9296\n",
       "\n",
       "[613 rows x 6 columns], token_table=      Topic      Freq     Term\n",
       "term                          \n",
       "1522      3  0.972860    abdul\n",
       "2495      5  1.009455  ability\n",
       "256       2  0.972369   access\n",
       "1672      3  0.781563  account\n",
       "1672      6  0.218838  account\n",
       "...     ...       ...      ...\n",
       "525       3  0.212767    young\n",
       "525       4  0.098892    young\n",
       "525       5  0.260715    young\n",
       "253       2  0.630142    youth\n",
       "253       5  0.369394    youth\n",
       "\n",
       "[784 rows x 3 columns], R=30, lambda_step=0.01, plot_opts={'xlab': 'PC1', 'ylab': 'PC2'}, topic_order=[5, 6, 1, 2, 7, 4, 3])"
      ]
     },
     "execution_count": 25,
     "metadata": {},
     "output_type": "execute_result"
    }
   ],
   "source": [
    "mallet_lda_model = gensim.models.wrappers.ldamallet.malletmodel2ldamodel(lda_mallet)\n",
    "\n",
    "pyLDAvis.enable_notebook()\n",
    "mallet_LDAvis = gensimvis.prepare(mallet_lda_model, corpus, id2word)\n",
    "pyLDAvis.save_html(mallet_LDAvis, 'HTML/mallet_lda.html')\n",
    "mallet_LDAvis"
   ]
  },
  {
   "cell_type": "code",
   "execution_count": 26,
   "metadata": {},
   "outputs": [
    {
     "name": "stdout",
     "output_type": "stream",
     "text": [
      "[5, 6, 1, 2, 7, 4, 3]\n"
     ]
    }
   ],
   "source": [
    "print(mallet_LDAvis.topic_order)"
   ]
  },
  {
   "cell_type": "code",
   "execution_count": 91,
   "metadata": {},
   "outputs": [],
   "source": [
    "topic_list = {\n",
    "    '2' : 'Youth',\n",
    "    '3' : 'Economics',\n",
    "    '5' : 'Sports & Culture',\n",
    "    '6' : 'Health',\n",
    "    '7' : 'Agriculture & Development'\n",
    "}"
   ]
  },
  {
   "cell_type": "code",
   "execution_count": 59,
   "metadata": {},
   "outputs": [],
   "source": [
    "topics_docs = list()\n",
    "for m in mallet_lda_model[corpus]:\n",
    "    topics_docs.append(m)\n",
    "\n",
    "topics_docs_dict = dict()\n",
    "for i in range(len(df)):\n",
    "    topics_docs_dict[df.loc[i][\"Speech_date\"]] = [doc for (topic, doc) in topics_docs[i]]\n",
    "\n",
    "topics_docs_df = pd.DataFrame(data=topics_docs_dict)\n"
   ]
  },
  {
   "cell_type": "code",
   "execution_count": 101,
   "metadata": {},
   "outputs": [
    {
     "data": {
      "text/html": [
       "<div>\n",
       "<style scoped>\n",
       "    .dataframe tbody tr th:only-of-type {\n",
       "        vertical-align: middle;\n",
       "    }\n",
       "\n",
       "    .dataframe tbody tr th {\n",
       "        vertical-align: top;\n",
       "    }\n",
       "\n",
       "    .dataframe thead th {\n",
       "        text-align: right;\n",
       "    }\n",
       "</style>\n",
       "<table border=\"1\" class=\"dataframe\">\n",
       "  <thead>\n",
       "    <tr style=\"text-align: right;\">\n",
       "      <th></th>\n",
       "      <th>03 Oct, 2014</th>\n",
       "      <th>02 Nov, 2014</th>\n",
       "      <th>14 Dec, 2014</th>\n",
       "      <th>27 Jan, 2015</th>\n",
       "      <th>22 Feb, 2015</th>\n",
       "      <th>22 Mar, 2015</th>\n",
       "      <th>31 May, 2015</th>\n",
       "      <th>28 Jun, 2015</th>\n",
       "      <th>26 Jul, 2015</th>\n",
       "      <th>30 Aug, 2015</th>\n",
       "      <th>...</th>\n",
       "      <th>28 Jun, 2020</th>\n",
       "      <th>26 Jul, 2020</th>\n",
       "      <th>30 Aug, 2020</th>\n",
       "      <th>27 Sep, 2020</th>\n",
       "      <th>25 Oct, 2020</th>\n",
       "      <th>29 Nov, 2020</th>\n",
       "      <th>27 Dec, 2020</th>\n",
       "      <th>31 Jan, 2021</th>\n",
       "      <th>28 Feb, 2021</th>\n",
       "      <th>28 Mar, 2021</th>\n",
       "    </tr>\n",
       "  </thead>\n",
       "  <tbody>\n",
       "    <tr>\n",
       "      <th>Youth</th>\n",
       "      <td>0.354254</td>\n",
       "      <td>0.132445</td>\n",
       "      <td>0.162066</td>\n",
       "      <td>0.114928</td>\n",
       "      <td>0.705507</td>\n",
       "      <td>0.091072</td>\n",
       "      <td>0.339607</td>\n",
       "      <td>0.201228</td>\n",
       "      <td>0.122877</td>\n",
       "      <td>0.070983</td>\n",
       "      <td>...</td>\n",
       "      <td>0.136387</td>\n",
       "      <td>0.097952</td>\n",
       "      <td>0.073718</td>\n",
       "      <td>0.041276</td>\n",
       "      <td>0.054828</td>\n",
       "      <td>0.058134</td>\n",
       "      <td>0.042764</td>\n",
       "      <td>0.090704</td>\n",
       "      <td>0.342614</td>\n",
       "      <td>0.058511</td>\n",
       "    </tr>\n",
       "    <tr>\n",
       "      <th>Economics</th>\n",
       "      <td>0.059421</td>\n",
       "      <td>0.078340</td>\n",
       "      <td>0.024663</td>\n",
       "      <td>0.030977</td>\n",
       "      <td>0.047900</td>\n",
       "      <td>0.674032</td>\n",
       "      <td>0.180472</td>\n",
       "      <td>0.055952</td>\n",
       "      <td>0.216888</td>\n",
       "      <td>0.274004</td>\n",
       "      <td>...</td>\n",
       "      <td>0.087237</td>\n",
       "      <td>0.077116</td>\n",
       "      <td>0.138549</td>\n",
       "      <td>0.184946</td>\n",
       "      <td>0.316077</td>\n",
       "      <td>0.500546</td>\n",
       "      <td>0.083693</td>\n",
       "      <td>0.257736</td>\n",
       "      <td>0.127786</td>\n",
       "      <td>0.422243</td>\n",
       "    </tr>\n",
       "    <tr>\n",
       "      <th>Sports &amp; Culture</th>\n",
       "      <td>0.187285</td>\n",
       "      <td>0.097504</td>\n",
       "      <td>0.063032</td>\n",
       "      <td>0.080320</td>\n",
       "      <td>0.032122</td>\n",
       "      <td>0.016527</td>\n",
       "      <td>0.078049</td>\n",
       "      <td>0.077849</td>\n",
       "      <td>0.065473</td>\n",
       "      <td>0.083550</td>\n",
       "      <td>...</td>\n",
       "      <td>0.104356</td>\n",
       "      <td>0.104015</td>\n",
       "      <td>0.069828</td>\n",
       "      <td>0.103100</td>\n",
       "      <td>0.232979</td>\n",
       "      <td>0.093027</td>\n",
       "      <td>0.098966</td>\n",
       "      <td>0.152429</td>\n",
       "      <td>0.076761</td>\n",
       "      <td>0.125492</td>\n",
       "    </tr>\n",
       "    <tr>\n",
       "      <th>Health</th>\n",
       "      <td>0.141324</td>\n",
       "      <td>0.360338</td>\n",
       "      <td>0.540309</td>\n",
       "      <td>0.624644</td>\n",
       "      <td>0.090234</td>\n",
       "      <td>0.042680</td>\n",
       "      <td>0.230060</td>\n",
       "      <td>0.174801</td>\n",
       "      <td>0.155198</td>\n",
       "      <td>0.138296</td>\n",
       "      <td>...</td>\n",
       "      <td>0.065446</td>\n",
       "      <td>0.084575</td>\n",
       "      <td>0.041306</td>\n",
       "      <td>0.094758</td>\n",
       "      <td>0.082350</td>\n",
       "      <td>0.086765</td>\n",
       "      <td>0.182988</td>\n",
       "      <td>0.103440</td>\n",
       "      <td>0.102873</td>\n",
       "      <td>0.125668</td>\n",
       "    </tr>\n",
       "    <tr>\n",
       "      <th>Agriculture &amp; Development</th>\n",
       "      <td>0.041553</td>\n",
       "      <td>0.054868</td>\n",
       "      <td>0.055848</td>\n",
       "      <td>0.029622</td>\n",
       "      <td>0.047161</td>\n",
       "      <td>0.022654</td>\n",
       "      <td>0.043607</td>\n",
       "      <td>0.060026</td>\n",
       "      <td>0.045738</td>\n",
       "      <td>0.046929</td>\n",
       "      <td>...</td>\n",
       "      <td>0.184152</td>\n",
       "      <td>0.107968</td>\n",
       "      <td>0.453451</td>\n",
       "      <td>0.105250</td>\n",
       "      <td>0.073434</td>\n",
       "      <td>0.074810</td>\n",
       "      <td>0.271332</td>\n",
       "      <td>0.057317</td>\n",
       "      <td>0.134494</td>\n",
       "      <td>0.116126</td>\n",
       "    </tr>\n",
       "  </tbody>\n",
       "</table>\n",
       "<p>5 rows × 73 columns</p>\n",
       "</div>"
      ],
      "text/plain": [
       "                           03 Oct, 2014  02 Nov, 2014  14 Dec, 2014  \\\n",
       "Youth                          0.354254      0.132445      0.162066   \n",
       "Economics                      0.059421      0.078340      0.024663   \n",
       "Sports & Culture               0.187285      0.097504      0.063032   \n",
       "Health                         0.141324      0.360338      0.540309   \n",
       "Agriculture & Development      0.041553      0.054868      0.055848   \n",
       "\n",
       "                           27 Jan, 2015  22 Feb, 2015  22 Mar, 2015  \\\n",
       "Youth                          0.114928      0.705507      0.091072   \n",
       "Economics                      0.030977      0.047900      0.674032   \n",
       "Sports & Culture               0.080320      0.032122      0.016527   \n",
       "Health                         0.624644      0.090234      0.042680   \n",
       "Agriculture & Development      0.029622      0.047161      0.022654   \n",
       "\n",
       "                           31 May, 2015  28 Jun, 2015  26 Jul, 2015  \\\n",
       "Youth                          0.339607      0.201228      0.122877   \n",
       "Economics                      0.180472      0.055952      0.216888   \n",
       "Sports & Culture               0.078049      0.077849      0.065473   \n",
       "Health                         0.230060      0.174801      0.155198   \n",
       "Agriculture & Development      0.043607      0.060026      0.045738   \n",
       "\n",
       "                           30 Aug, 2015  ...  28 Jun, 2020  26 Jul, 2020  \\\n",
       "Youth                          0.070983  ...      0.136387      0.097952   \n",
       "Economics                      0.274004  ...      0.087237      0.077116   \n",
       "Sports & Culture               0.083550  ...      0.104356      0.104015   \n",
       "Health                         0.138296  ...      0.065446      0.084575   \n",
       "Agriculture & Development      0.046929  ...      0.184152      0.107968   \n",
       "\n",
       "                           30 Aug, 2020  27 Sep, 2020  25 Oct, 2020  \\\n",
       "Youth                          0.073718      0.041276      0.054828   \n",
       "Economics                      0.138549      0.184946      0.316077   \n",
       "Sports & Culture               0.069828      0.103100      0.232979   \n",
       "Health                         0.041306      0.094758      0.082350   \n",
       "Agriculture & Development      0.453451      0.105250      0.073434   \n",
       "\n",
       "                           29 Nov, 2020  27 Dec, 2020  31 Jan, 2021  \\\n",
       "Youth                          0.058134      0.042764      0.090704   \n",
       "Economics                      0.500546      0.083693      0.257736   \n",
       "Sports & Culture               0.093027      0.098966      0.152429   \n",
       "Health                         0.086765      0.182988      0.103440   \n",
       "Agriculture & Development      0.074810      0.271332      0.057317   \n",
       "\n",
       "                           28 Feb, 2021  28 Mar, 2021  \n",
       "Youth                          0.342614      0.058511  \n",
       "Economics                      0.127786      0.422243  \n",
       "Sports & Culture               0.076761      0.125492  \n",
       "Health                         0.102873      0.125668  \n",
       "Agriculture & Development      0.134494      0.116126  \n",
       "\n",
       "[5 rows x 73 columns]"
      ]
     },
     "execution_count": 101,
     "metadata": {},
     "output_type": "execute_result"
    }
   ],
   "source": [
    "topics_docs_df = topics_docs_df.rename(index={1 : 'Youth',\n",
    "    2 : 'Economics',\n",
    "    4 : 'Sports & Culture',\n",
    "    5 : 'Health',\n",
    "    6 : 'Agriculture & Development'})\n",
    "\n",
    "topics_docs_df = topics_docs_df.drop([0,3])\n",
    "topics_docs_df"
   ]
  },
  {
   "cell_type": "code",
   "execution_count": 102,
   "metadata": {},
   "outputs": [
    {
     "data": {
      "text/html": [
       "<div>\n",
       "<style scoped>\n",
       "    .dataframe tbody tr th:only-of-type {\n",
       "        vertical-align: middle;\n",
       "    }\n",
       "\n",
       "    .dataframe tbody tr th {\n",
       "        vertical-align: top;\n",
       "    }\n",
       "\n",
       "    .dataframe thead th {\n",
       "        text-align: right;\n",
       "    }\n",
       "</style>\n",
       "<table border=\"1\" class=\"dataframe\">\n",
       "  <thead>\n",
       "    <tr style=\"text-align: right;\">\n",
       "      <th></th>\n",
       "      <th>Youth</th>\n",
       "      <th>Economics</th>\n",
       "      <th>Sports &amp; Culture</th>\n",
       "      <th>Health</th>\n",
       "      <th>Agriculture &amp; Development</th>\n",
       "    </tr>\n",
       "  </thead>\n",
       "  <tbody>\n",
       "    <tr>\n",
       "      <th>03 Oct, 2014</th>\n",
       "      <td>0.354254</td>\n",
       "      <td>0.059421</td>\n",
       "      <td>0.187285</td>\n",
       "      <td>0.141324</td>\n",
       "      <td>0.041553</td>\n",
       "    </tr>\n",
       "    <tr>\n",
       "      <th>02 Nov, 2014</th>\n",
       "      <td>0.132445</td>\n",
       "      <td>0.078340</td>\n",
       "      <td>0.097504</td>\n",
       "      <td>0.360338</td>\n",
       "      <td>0.054868</td>\n",
       "    </tr>\n",
       "    <tr>\n",
       "      <th>14 Dec, 2014</th>\n",
       "      <td>0.162066</td>\n",
       "      <td>0.024663</td>\n",
       "      <td>0.063032</td>\n",
       "      <td>0.540309</td>\n",
       "      <td>0.055848</td>\n",
       "    </tr>\n",
       "    <tr>\n",
       "      <th>27 Jan, 2015</th>\n",
       "      <td>0.114928</td>\n",
       "      <td>0.030977</td>\n",
       "      <td>0.080320</td>\n",
       "      <td>0.624644</td>\n",
       "      <td>0.029622</td>\n",
       "    </tr>\n",
       "    <tr>\n",
       "      <th>22 Feb, 2015</th>\n",
       "      <td>0.705507</td>\n",
       "      <td>0.047900</td>\n",
       "      <td>0.032122</td>\n",
       "      <td>0.090234</td>\n",
       "      <td>0.047161</td>\n",
       "    </tr>\n",
       "    <tr>\n",
       "      <th>...</th>\n",
       "      <td>...</td>\n",
       "      <td>...</td>\n",
       "      <td>...</td>\n",
       "      <td>...</td>\n",
       "      <td>...</td>\n",
       "    </tr>\n",
       "    <tr>\n",
       "      <th>29 Nov, 2020</th>\n",
       "      <td>0.058134</td>\n",
       "      <td>0.500546</td>\n",
       "      <td>0.093027</td>\n",
       "      <td>0.086765</td>\n",
       "      <td>0.074810</td>\n",
       "    </tr>\n",
       "    <tr>\n",
       "      <th>27 Dec, 2020</th>\n",
       "      <td>0.042764</td>\n",
       "      <td>0.083693</td>\n",
       "      <td>0.098966</td>\n",
       "      <td>0.182988</td>\n",
       "      <td>0.271332</td>\n",
       "    </tr>\n",
       "    <tr>\n",
       "      <th>31 Jan, 2021</th>\n",
       "      <td>0.090704</td>\n",
       "      <td>0.257736</td>\n",
       "      <td>0.152429</td>\n",
       "      <td>0.103440</td>\n",
       "      <td>0.057317</td>\n",
       "    </tr>\n",
       "    <tr>\n",
       "      <th>28 Feb, 2021</th>\n",
       "      <td>0.342614</td>\n",
       "      <td>0.127786</td>\n",
       "      <td>0.076761</td>\n",
       "      <td>0.102873</td>\n",
       "      <td>0.134494</td>\n",
       "    </tr>\n",
       "    <tr>\n",
       "      <th>28 Mar, 2021</th>\n",
       "      <td>0.058511</td>\n",
       "      <td>0.422243</td>\n",
       "      <td>0.125492</td>\n",
       "      <td>0.125668</td>\n",
       "      <td>0.116126</td>\n",
       "    </tr>\n",
       "  </tbody>\n",
       "</table>\n",
       "<p>73 rows × 5 columns</p>\n",
       "</div>"
      ],
      "text/plain": [
       "                 Youth  Economics  Sports & Culture    Health  \\\n",
       "03 Oct, 2014  0.354254   0.059421          0.187285  0.141324   \n",
       "02 Nov, 2014  0.132445   0.078340          0.097504  0.360338   \n",
       "14 Dec, 2014  0.162066   0.024663          0.063032  0.540309   \n",
       "27 Jan, 2015  0.114928   0.030977          0.080320  0.624644   \n",
       "22 Feb, 2015  0.705507   0.047900          0.032122  0.090234   \n",
       "...                ...        ...               ...       ...   \n",
       "29 Nov, 2020  0.058134   0.500546          0.093027  0.086765   \n",
       "27 Dec, 2020  0.042764   0.083693          0.098966  0.182988   \n",
       "31 Jan, 2021  0.090704   0.257736          0.152429  0.103440   \n",
       "28 Feb, 2021  0.342614   0.127786          0.076761  0.102873   \n",
       "28 Mar, 2021  0.058511   0.422243          0.125492  0.125668   \n",
       "\n",
       "              Agriculture & Development  \n",
       "03 Oct, 2014                   0.041553  \n",
       "02 Nov, 2014                   0.054868  \n",
       "14 Dec, 2014                   0.055848  \n",
       "27 Jan, 2015                   0.029622  \n",
       "22 Feb, 2015                   0.047161  \n",
       "...                                 ...  \n",
       "29 Nov, 2020                   0.074810  \n",
       "27 Dec, 2020                   0.271332  \n",
       "31 Jan, 2021                   0.057317  \n",
       "28 Feb, 2021                   0.134494  \n",
       "28 Mar, 2021                   0.116126  \n",
       "\n",
       "[73 rows x 5 columns]"
      ]
     },
     "execution_count": 102,
     "metadata": {},
     "output_type": "execute_result"
    }
   ],
   "source": [
    "docs_topics_df = topics_docs_df.transpose()\n",
    "docs_topics_df"
   ]
  },
  {
   "cell_type": "code",
   "execution_count": 103,
   "metadata": {},
   "outputs": [],
   "source": [
    "def get_dominant_topic(df, col) :\n",
    "    return [df[col].idxmax(), df[col].max()]"
   ]
  },
  {
   "cell_type": "code",
   "execution_count": 104,
   "metadata": {},
   "outputs": [
    {
     "data": {
      "text/plain": [
       "[['Youth', 0.3542541341690118],\n",
       " ['Health', 0.36033813405921955],\n",
       " ['Health', 0.5403085672932568],\n",
       " ['Health', 0.6246444492483673],\n",
       " ['Youth', 0.7055070170721602],\n",
       " ['Economics', 0.674032011190757],\n",
       " ['Youth', 0.3396068775303148],\n",
       " ['Youth', 0.20122768619251538],\n",
       " ['Economics', 0.21688833929019316],\n",
       " ['Economics', 0.2740044936720676],\n",
       " ['Sports & Culture', 0.3270500859094061],\n",
       " ['Health', 0.44715594112513957],\n",
       " ['Health', 0.2068602910233063],\n",
       " ['Health', 0.19531876722459846],\n",
       " ['Health', 0.2248132930415512],\n",
       " ['Youth', 0.7403249229164351],\n",
       " ['Agriculture & Development', 0.27920122110643764],\n",
       " ['Youth', 0.29636167916289624],\n",
       " ['Youth', 0.3649281092226516],\n",
       " ['Youth', 0.390464344094767],\n",
       " ['Sports & Culture', 0.13539535041154815],\n",
       " ['Agriculture & Development', 0.3649552230127056],\n",
       " ['Sports & Culture', 0.3865518789945233],\n",
       " ['Sports & Culture', 0.4771967884414365],\n",
       " ['Youth', 0.11313752063150313],\n",
       " ['Agriculture & Development', 0.11047480735323756],\n",
       " ['Youth', 0.5970968514084787],\n",
       " ['Economics', 0.16576527000845886],\n",
       " ['Agriculture & Development', 0.21831525236432342],\n",
       " ['Youth', 0.2380147191877816],\n",
       " ['Health', 0.300027835855126],\n",
       " ['Sports & Culture', 0.18113334977133727],\n",
       " ['Agriculture & Development', 0.35513419176302846],\n",
       " ['Sports & Culture', 0.28407851514934873],\n",
       " ['Sports & Culture', 0.4165285668052941],\n",
       " ['Sports & Culture', 0.5216211766283637],\n",
       " ['Sports & Culture', 0.39156079600061716],\n",
       " ['Sports & Culture', 0.42900684401452066],\n",
       " ['Economics', 0.3533755441521179],\n",
       " ['Economics', 0.26049739693666957],\n",
       " ['Agriculture & Development', 0.3639216955955511],\n",
       " ['Agriculture & Development', 0.4087299186995824],\n",
       " ['Economics', 0.2323518723785125],\n",
       " ['Agriculture & Development', 0.41066530814281504],\n",
       " ['Agriculture & Development', 0.2688349554864029],\n",
       " ['Sports & Culture', 0.5456185209886832],\n",
       " ['Agriculture & Development', 0.3849664026944295],\n",
       " ['Health', 0.458048399223231],\n",
       " ['Sports & Culture', 0.3247524933131101],\n",
       " ['Sports & Culture', 0.34844812882502035],\n",
       " ['Sports & Culture', 0.31604822102950497],\n",
       " ['Youth', 0.35612767291591924],\n",
       " ['Agriculture & Development', 0.2505639892312299],\n",
       " ['Agriculture & Development', 0.279696470272767],\n",
       " ['Agriculture & Development', 0.28675840521581547],\n",
       " ['Sports & Culture', 0.42497328636169507],\n",
       " ['Health', 0.5042951427046115],\n",
       " ['Health', 0.38969116699900885],\n",
       " ['Agriculture & Development', 0.35690842972576087],\n",
       " ['Economics', 0.4488595363630878],\n",
       " ['Youth', 0.13546993849665842],\n",
       " ['Youth', 0.11973936930913108],\n",
       " ['Youth', 0.1035044541002454],\n",
       " ['Agriculture & Development', 0.18415166212187825],\n",
       " ['Agriculture & Development', 0.10796814822505268],\n",
       " ['Agriculture & Development', 0.45345073274531117],\n",
       " ['Economics', 0.18494600693976157],\n",
       " ['Economics', 0.31607709798853006],\n",
       " ['Economics', 0.5005457254785736],\n",
       " ['Agriculture & Development', 0.2713321999782619],\n",
       " ['Economics', 0.25773624782678173],\n",
       " ['Youth', 0.34261435593039546],\n",
       " ['Economics', 0.42224333950551723]]"
      ]
     },
     "execution_count": 104,
     "metadata": {},
     "output_type": "execute_result"
    }
   ],
   "source": [
    "topics = []\n",
    "for date in list(topics_docs_df.columns):\n",
    "    topic = get_dominant_topic(topics_docs_df, date)\n",
    "    topics.append(topic)\n",
    "    \n",
    "topics"
   ]
  },
  {
   "cell_type": "code",
   "execution_count": 152,
   "metadata": {},
   "outputs": [],
   "source": [
    "# list(topics_docs_df.columns)\n",
    "monthly_topics = pd.DataFrame()\n",
    "monthly_topics['Dates'] = list(topics_docs_df.columns)\n",
    "monthly_topics['Topic'] = topics\n",
    "monthly_topics.to_csv('monthly_topics.csv')"
   ]
  },
  {
   "cell_type": "code",
   "execution_count": 137,
   "metadata": {},
   "outputs": [],
   "source": [
    "import dataframe_image as dfi\n",
    "\n",
    "styled_docs_topics_df = docs_topics_df.style.background_gradient()\n",
    "styled_docs_topics_df\n",
    "dfi.export(styled_docs_topics_df, 'Images/docs_topics_monthly.png')"
   ]
  },
  {
   "cell_type": "code",
   "execution_count": 144,
   "metadata": {},
   "outputs": [
    {
     "data": {
      "text/html": [
       "<style  type=\"text/css\" >\n",
       "#T_c403e80b_bc85_11eb_9dee_00f48dae8040row0_col0{\n",
       "            background-color:  #03446a;\n",
       "            color:  #f1f1f1;\n",
       "            background-color:  #03446a;\n",
       "            color:  #f1f1f1;\n",
       "        }#T_c403e80b_bc85_11eb_9dee_00f48dae8040row0_col1,#T_c403e80b_bc85_11eb_9dee_00f48dae8040row1_col2,#T_c403e80b_bc85_11eb_9dee_00f48dae8040row1_col4,#T_c403e80b_bc85_11eb_9dee_00f48dae8040row6_col0,#T_c403e80b_bc85_11eb_9dee_00f48dae8040row6_col3{\n",
       "            background-color:  #fff7fb;\n",
       "            color:  #000000;\n",
       "            background-color:  #fff7fb;\n",
       "            color:  #000000;\n",
       "        }#T_c403e80b_bc85_11eb_9dee_00f48dae8040row0_col2,#T_c403e80b_bc85_11eb_9dee_00f48dae8040row2_col3{\n",
       "            background-color:  #eee9f3;\n",
       "            color:  #000000;\n",
       "            background-color:  #eee9f3;\n",
       "            color:  #000000;\n",
       "        }#T_c403e80b_bc85_11eb_9dee_00f48dae8040row0_col3,#T_c403e80b_bc85_11eb_9dee_00f48dae8040row2_col0,#T_c403e80b_bc85_11eb_9dee_00f48dae8040row3_col2,#T_c403e80b_bc85_11eb_9dee_00f48dae8040row4_col4,#T_c403e80b_bc85_11eb_9dee_00f48dae8040row7_col1{\n",
       "            background-color:  #023858;\n",
       "            color:  #f1f1f1;\n",
       "            background-color:  #023858;\n",
       "            color:  #f1f1f1;\n",
       "        }#T_c403e80b_bc85_11eb_9dee_00f48dae8040row0_col4{\n",
       "            background-color:  #faf2f8;\n",
       "            color:  #000000;\n",
       "            background-color:  #faf2f8;\n",
       "            color:  #000000;\n",
       "        }#T_c403e80b_bc85_11eb_9dee_00f48dae8040row1_col0,#T_c403e80b_bc85_11eb_9dee_00f48dae8040row5_col4{\n",
       "            background-color:  #1c7fb8;\n",
       "            color:  #000000;\n",
       "            background-color:  #1c7fb8;\n",
       "            color:  #000000;\n",
       "        }#T_c403e80b_bc85_11eb_9dee_00f48dae8040row1_col1{\n",
       "            background-color:  #6ba5cd;\n",
       "            color:  #000000;\n",
       "            background-color:  #6ba5cd;\n",
       "            color:  #000000;\n",
       "        }#T_c403e80b_bc85_11eb_9dee_00f48dae8040row1_col3{\n",
       "            background-color:  #5c9fc9;\n",
       "            color:  #000000;\n",
       "            background-color:  #5c9fc9;\n",
       "            color:  #000000;\n",
       "        }#T_c403e80b_bc85_11eb_9dee_00f48dae8040row2_col1{\n",
       "            background-color:  #f0eaf4;\n",
       "            color:  #000000;\n",
       "            background-color:  #f0eaf4;\n",
       "            color:  #000000;\n",
       "        }#T_c403e80b_bc85_11eb_9dee_00f48dae8040row2_col2{\n",
       "            background-color:  #d0d1e6;\n",
       "            color:  #000000;\n",
       "            background-color:  #d0d1e6;\n",
       "            color:  #000000;\n",
       "        }#T_c403e80b_bc85_11eb_9dee_00f48dae8040row2_col4{\n",
       "            background-color:  #a1bbda;\n",
       "            color:  #000000;\n",
       "            background-color:  #a1bbda;\n",
       "            color:  #000000;\n",
       "        }#T_c403e80b_bc85_11eb_9dee_00f48dae8040row3_col0{\n",
       "            background-color:  #3f93c2;\n",
       "            color:  #000000;\n",
       "            background-color:  #3f93c2;\n",
       "            color:  #000000;\n",
       "        }#T_c403e80b_bc85_11eb_9dee_00f48dae8040row3_col1{\n",
       "            background-color:  #faf3f9;\n",
       "            color:  #000000;\n",
       "            background-color:  #faf3f9;\n",
       "            color:  #000000;\n",
       "        }#T_c403e80b_bc85_11eb_9dee_00f48dae8040row3_col3{\n",
       "            background-color:  #dbdaeb;\n",
       "            color:  #000000;\n",
       "            background-color:  #dbdaeb;\n",
       "            color:  #000000;\n",
       "        }#T_c403e80b_bc85_11eb_9dee_00f48dae8040row3_col4,#T_c403e80b_bc85_11eb_9dee_00f48dae8040row7_col0{\n",
       "            background-color:  #5a9ec9;\n",
       "            color:  #000000;\n",
       "            background-color:  #5a9ec9;\n",
       "            color:  #000000;\n",
       "        }#T_c403e80b_bc85_11eb_9dee_00f48dae8040row4_col0{\n",
       "            background-color:  #fdf5fa;\n",
       "            color:  #000000;\n",
       "            background-color:  #fdf5fa;\n",
       "            color:  #000000;\n",
       "        }#T_c403e80b_bc85_11eb_9dee_00f48dae8040row4_col1{\n",
       "            background-color:  #abbfdc;\n",
       "            color:  #000000;\n",
       "            background-color:  #abbfdc;\n",
       "            color:  #000000;\n",
       "        }#T_c403e80b_bc85_11eb_9dee_00f48dae8040row4_col2{\n",
       "            background-color:  #045687;\n",
       "            color:  #f1f1f1;\n",
       "            background-color:  #045687;\n",
       "            color:  #f1f1f1;\n",
       "        }#T_c403e80b_bc85_11eb_9dee_00f48dae8040row4_col3{\n",
       "            background-color:  #d2d2e7;\n",
       "            color:  #000000;\n",
       "            background-color:  #d2d2e7;\n",
       "            color:  #000000;\n",
       "        }#T_c403e80b_bc85_11eb_9dee_00f48dae8040row5_col0{\n",
       "            background-color:  #a5bddb;\n",
       "            color:  #000000;\n",
       "            background-color:  #a5bddb;\n",
       "            color:  #000000;\n",
       "        }#T_c403e80b_bc85_11eb_9dee_00f48dae8040row5_col1{\n",
       "            background-color:  #e4e1ef;\n",
       "            color:  #000000;\n",
       "            background-color:  #e4e1ef;\n",
       "            color:  #000000;\n",
       "        }#T_c403e80b_bc85_11eb_9dee_00f48dae8040row5_col2{\n",
       "            background-color:  #045b8e;\n",
       "            color:  #f1f1f1;\n",
       "            background-color:  #045b8e;\n",
       "            color:  #f1f1f1;\n",
       "        }#T_c403e80b_bc85_11eb_9dee_00f48dae8040row5_col3{\n",
       "            background-color:  #65a3cb;\n",
       "            color:  #000000;\n",
       "            background-color:  #65a3cb;\n",
       "            color:  #000000;\n",
       "        }#T_c403e80b_bc85_11eb_9dee_00f48dae8040row6_col1{\n",
       "            background-color:  #5ea0ca;\n",
       "            color:  #000000;\n",
       "            background-color:  #5ea0ca;\n",
       "            color:  #000000;\n",
       "        }#T_c403e80b_bc85_11eb_9dee_00f48dae8040row6_col2{\n",
       "            background-color:  #fcf4fa;\n",
       "            color:  #000000;\n",
       "            background-color:  #fcf4fa;\n",
       "            color:  #000000;\n",
       "        }#T_c403e80b_bc85_11eb_9dee_00f48dae8040row6_col4{\n",
       "            background-color:  #308cbe;\n",
       "            color:  #000000;\n",
       "            background-color:  #308cbe;\n",
       "            color:  #000000;\n",
       "        }#T_c403e80b_bc85_11eb_9dee_00f48dae8040row7_col2{\n",
       "            background-color:  #ece7f2;\n",
       "            color:  #000000;\n",
       "            background-color:  #ece7f2;\n",
       "            color:  #000000;\n",
       "        }#T_c403e80b_bc85_11eb_9dee_00f48dae8040row7_col3{\n",
       "            background-color:  #f2ecf5;\n",
       "            color:  #000000;\n",
       "            background-color:  #f2ecf5;\n",
       "            color:  #000000;\n",
       "        }#T_c403e80b_bc85_11eb_9dee_00f48dae8040row7_col4{\n",
       "            background-color:  #b3c3de;\n",
       "            color:  #000000;\n",
       "            background-color:  #b3c3de;\n",
       "            color:  #000000;\n",
       "        }</style><table id=\"T_c403e80b_bc85_11eb_9dee_00f48dae8040\" ><thead>    <tr>        <th class=\"blank level0\" ></th>        <th class=\"col_heading level0 col0\" >Youth</th>        <th class=\"col_heading level0 col1\" >Economics</th>        <th class=\"col_heading level0 col2\" >Sports & Culture</th>        <th class=\"col_heading level0 col3\" >Health</th>        <th class=\"col_heading level0 col4\" >Agriculture & Development</th>    </tr>    <tr>        <th class=\"index_name level0\" >Years</th>        <th class=\"blank\" ></th>        <th class=\"blank\" ></th>        <th class=\"blank\" ></th>        <th class=\"blank\" ></th>        <th class=\"blank\" ></th>    </tr></thead><tbody>\n",
       "                <tr>\n",
       "                        <th id=\"T_c403e80b_bc85_11eb_9dee_00f48dae8040level0_row0\" class=\"row_heading level0 row0\" >2014</th>\n",
       "                        <td id=\"T_c403e80b_bc85_11eb_9dee_00f48dae8040row0_col0\" class=\"data row0 col0\" >0.216255</td>\n",
       "                        <td id=\"T_c403e80b_bc85_11eb_9dee_00f48dae8040row0_col1\" class=\"data row0 col1\" >0.054142</td>\n",
       "                        <td id=\"T_c403e80b_bc85_11eb_9dee_00f48dae8040row0_col2\" class=\"data row0 col2\" >0.115940</td>\n",
       "                        <td id=\"T_c403e80b_bc85_11eb_9dee_00f48dae8040row0_col3\" class=\"data row0 col3\" >0.347324</td>\n",
       "                        <td id=\"T_c403e80b_bc85_11eb_9dee_00f48dae8040row0_col4\" class=\"data row0 col4\" >0.050757</td>\n",
       "            </tr>\n",
       "            <tr>\n",
       "                        <th id=\"T_c403e80b_bc85_11eb_9dee_00f48dae8040level0_row1\" class=\"row_heading level0 row1\" >2015</th>\n",
       "                        <td id=\"T_c403e80b_bc85_11eb_9dee_00f48dae8040row1_col0\" class=\"data row1 col0\" >0.181398</td>\n",
       "                        <td id=\"T_c403e80b_bc85_11eb_9dee_00f48dae8040row1_col1\" class=\"data row1 col1\" >0.165705</td>\n",
       "                        <td id=\"T_c403e80b_bc85_11eb_9dee_00f48dae8040row1_col2\" class=\"data row1 col2\" >0.099454</td>\n",
       "                        <td id=\"T_c403e80b_bc85_11eb_9dee_00f48dae8040row1_col3\" class=\"data row1 col3\" >0.231220</td>\n",
       "                        <td id=\"T_c403e80b_bc85_11eb_9dee_00f48dae8040row1_col4\" class=\"data row1 col4\" >0.044330</td>\n",
       "            </tr>\n",
       "            <tr>\n",
       "                        <th id=\"T_c403e80b_bc85_11eb_9dee_00f48dae8040level0_row2\" class=\"row_heading level0 row2\" >2016</th>\n",
       "                        <td id=\"T_c403e80b_bc85_11eb_9dee_00f48dae8040row2_col0\" class=\"data row2 col0\" >0.222154</td>\n",
       "                        <td id=\"T_c403e80b_bc85_11eb_9dee_00f48dae8040row2_col1\" class=\"data row2 col1\" >0.076440</td>\n",
       "                        <td id=\"T_c403e80b_bc85_11eb_9dee_00f48dae8040row2_col2\" class=\"data row2 col2\" >0.137429</td>\n",
       "                        <td id=\"T_c403e80b_bc85_11eb_9dee_00f48dae8040row2_col3\" class=\"data row2 col3\" >0.117450</td>\n",
       "                        <td id=\"T_c403e80b_bc85_11eb_9dee_00f48dae8040row2_col4\" class=\"data row2 col4\" >0.111553</td>\n",
       "            </tr>\n",
       "            <tr>\n",
       "                        <th id=\"T_c403e80b_bc85_11eb_9dee_00f48dae8040level0_row3\" class=\"row_heading level0 row3\" >2017</th>\n",
       "                        <td id=\"T_c403e80b_bc85_11eb_9dee_00f48dae8040row3_col0\" class=\"data row3 col0\" >0.170859</td>\n",
       "                        <td id=\"T_c403e80b_bc85_11eb_9dee_00f48dae8040row3_col1\" class=\"data row3 col1\" >0.061502</td>\n",
       "                        <td id=\"T_c403e80b_bc85_11eb_9dee_00f48dae8040row3_col2\" class=\"data row3 col2\" >0.249478</td>\n",
       "                        <td id=\"T_c403e80b_bc85_11eb_9dee_00f48dae8040row3_col3\" class=\"data row3 col3\" >0.141073</td>\n",
       "                        <td id=\"T_c403e80b_bc85_11eb_9dee_00f48dae8040row3_col4\" class=\"data row3 col4\" >0.139577</td>\n",
       "            </tr>\n",
       "            <tr>\n",
       "                        <th id=\"T_c403e80b_bc85_11eb_9dee_00f48dae8040level0_row4\" class=\"row_heading level0 row4\" >2018</th>\n",
       "                        <td id=\"T_c403e80b_bc85_11eb_9dee_00f48dae8040row4_col0\" class=\"data row4 col0\" >0.093335</td>\n",
       "                        <td id=\"T_c403e80b_bc85_11eb_9dee_00f48dae8040row4_col1\" class=\"data row4 col1\" >0.132226</td>\n",
       "                        <td id=\"T_c403e80b_bc85_11eb_9dee_00f48dae8040row4_col2\" class=\"data row4 col2\" >0.232885</td>\n",
       "                        <td id=\"T_c403e80b_bc85_11eb_9dee_00f48dae8040row4_col3\" class=\"data row4 col3\" >0.152117</td>\n",
       "                        <td id=\"T_c403e80b_bc85_11eb_9dee_00f48dae8040row4_col4\" class=\"data row4 col4\" >0.216483</td>\n",
       "            </tr>\n",
       "            <tr>\n",
       "                        <th id=\"T_c403e80b_bc85_11eb_9dee_00f48dae8040level0_row5\" class=\"row_heading level0 row5\" >2019</th>\n",
       "                        <td id=\"T_c403e80b_bc85_11eb_9dee_00f48dae8040row5_col0\" class=\"data row5 col0\" >0.140934</td>\n",
       "                        <td id=\"T_c403e80b_bc85_11eb_9dee_00f48dae8040row5_col1\" class=\"data row5 col1\" >0.088616</td>\n",
       "                        <td id=\"T_c403e80b_bc85_11eb_9dee_00f48dae8040row5_col2\" class=\"data row5 col2\" >0.229725</td>\n",
       "                        <td id=\"T_c403e80b_bc85_11eb_9dee_00f48dae8040row5_col3\" class=\"data row5 col3\" >0.226141</td>\n",
       "                        <td id=\"T_c403e80b_bc85_11eb_9dee_00f48dae8040row5_col4\" class=\"data row5 col4\" >0.162747</td>\n",
       "            </tr>\n",
       "            <tr>\n",
       "                        <th id=\"T_c403e80b_bc85_11eb_9dee_00f48dae8040level0_row6\" class=\"row_heading level0 row6\" >2020</th>\n",
       "                        <td id=\"T_c403e80b_bc85_11eb_9dee_00f48dae8040row6_col0\" class=\"data row6 col0\" >0.091588</td>\n",
       "                        <td id=\"T_c403e80b_bc85_11eb_9dee_00f48dae8040row6_col1\" class=\"data row6 col1\" >0.171056</td>\n",
       "                        <td id=\"T_c403e80b_bc85_11eb_9dee_00f48dae8040row6_col2\" class=\"data row6 col2\" >0.102937</td>\n",
       "                        <td id=\"T_c403e80b_bc85_11eb_9dee_00f48dae8040row6_col3\" class=\"data row6 col3\" >0.089174</td>\n",
       "                        <td id=\"T_c403e80b_bc85_11eb_9dee_00f48dae8040row6_col4\" class=\"data row6 col4\" >0.154333</td>\n",
       "            </tr>\n",
       "            <tr>\n",
       "                        <th id=\"T_c403e80b_bc85_11eb_9dee_00f48dae8040level0_row7\" class=\"row_heading level0 row7\" >2021</th>\n",
       "                        <td id=\"T_c403e80b_bc85_11eb_9dee_00f48dae8040row7_col0\" class=\"data row7 col0\" >0.163943</td>\n",
       "                        <td id=\"T_c403e80b_bc85_11eb_9dee_00f48dae8040row7_col1\" class=\"data row7 col1\" >0.269255</td>\n",
       "                        <td id=\"T_c403e80b_bc85_11eb_9dee_00f48dae8040row7_col2\" class=\"data row7 col2\" >0.118227</td>\n",
       "                        <td id=\"T_c403e80b_bc85_11eb_9dee_00f48dae8040row7_col3\" class=\"data row7 col3\" >0.110660</td>\n",
       "                        <td id=\"T_c403e80b_bc85_11eb_9dee_00f48dae8040row7_col4\" class=\"data row7 col4\" >0.102646</td>\n",
       "            </tr>\n",
       "    </tbody></table>"
      ],
      "text/plain": [
       "<pandas.io.formats.style.Styler at 0x179dc532640>"
      ]
     },
     "execution_count": 144,
     "metadata": {},
     "output_type": "execute_result"
    }
   ],
   "source": [
    "years = []\n",
    "for i in range(len(docs_topics_df)) :\n",
    "    years.append(docs_topics_df.index[i][-4:])\n",
    "    \n",
    "docs_topics_df['Years'] = years\n",
    "grouped_docs_topics_df = docs_topics_df.groupby(['Years']).mean()\n",
    "styled_grouped_docs_topics_df = grouped_docs_topics_df.style.background_gradient()\n",
    "dfi.export(styled_grouped_docs_topics_df, 'Images/docs_topics_yearly.png')\n",
    "styled_grouped_docs_topics_df"
   ]
  },
  {
   "cell_type": "code",
   "execution_count": 142,
   "metadata": {},
   "outputs": [
    {
     "data": {
      "application/vnd.plotly.v1+json": {
       "config": {
        "plotlyServerURL": "https://plot.ly"
       },
       "data": [
        {
         "hovertemplate": "variable=Youth<br>Years=%{x}<br>value=%{y}<extra></extra>",
         "legendgroup": "Youth",
         "line": {
          "color": "#636efa",
          "dash": "solid"
         },
         "mode": "markers+lines",
         "name": "Youth",
         "orientation": "v",
         "showlegend": true,
         "type": "scatter",
         "x": [
          "2014",
          "2015",
          "2016",
          "2017",
          "2018",
          "2019",
          "2020",
          "2021"
         ],
         "xaxis": "x",
         "y": [
          0.21625514617849217,
          0.18139760059834753,
          0.22215370610702248,
          0.17085876988619997,
          0.09333460361238412,
          0.1409344713937857,
          0.09158774744025998,
          0.16394304683121413
         ],
         "yaxis": "y"
        },
        {
         "hovertemplate": "variable=Economics<br>Years=%{x}<br>value=%{y}<extra></extra>",
         "legendgroup": "Economics",
         "line": {
          "color": "#EF553B",
          "dash": "solid"
         },
         "mode": "markers+lines",
         "name": "Economics",
         "orientation": "v",
         "showlegend": true,
         "type": "scatter",
         "x": [
          "2014",
          "2015",
          "2016",
          "2017",
          "2018",
          "2019",
          "2020",
          "2021"
         ],
         "xaxis": "x",
         "y": [
          0.05414150196964516,
          0.16570466731614583,
          0.07644022962676396,
          0.061501785398103734,
          0.13222633446397702,
          0.08861621507359368,
          0.17105609645794292,
          0.2692553044884885
         ],
         "yaxis": "y"
        },
        {
         "hovertemplate": "variable=Sports & Culture<br>Years=%{x}<br>value=%{y}<extra></extra>",
         "legendgroup": "Sports & Culture",
         "line": {
          "color": "#00cc96",
          "dash": "solid"
         },
         "mode": "markers+lines",
         "name": "Sports & Culture",
         "orientation": "v",
         "showlegend": true,
         "type": "scatter",
         "x": [
          "2014",
          "2015",
          "2016",
          "2017",
          "2018",
          "2019",
          "2020",
          "2021"
         ],
         "xaxis": "x",
         "y": [
          0.11594019555484443,
          0.0994543181871196,
          0.13742911542753067,
          0.24947803568715193,
          0.23288459959148833,
          0.2297251853353656,
          0.10293716491630779,
          0.11822728604966433
         ],
         "yaxis": "y"
        },
        {
         "hovertemplate": "variable=Health<br>Years=%{x}<br>value=%{y}<extra></extra>",
         "legendgroup": "Health",
         "line": {
          "color": "#ab63fa",
          "dash": "solid"
         },
         "mode": "markers+lines",
         "name": "Health",
         "orientation": "v",
         "showlegend": true,
         "type": "scatter",
         "x": [
          "2014",
          "2015",
          "2016",
          "2017",
          "2018",
          "2019",
          "2020",
          "2021"
         ],
         "xaxis": "x",
         "y": [
          0.347323662578968,
          0.23121952268476614,
          0.11745017666006612,
          0.14107274885863685,
          0.15211704085506014,
          0.22614130637067198,
          0.08917426603640018,
          0.11065990133687252
         ],
         "yaxis": "y"
        },
        {
         "hovertemplate": "variable=Agriculture & Development<br>Years=%{x}<br>value=%{y}<extra></extra>",
         "legendgroup": "Agriculture & Development",
         "line": {
          "color": "#FFA15A",
          "dash": "solid"
         },
         "mode": "markers+lines",
         "name": "Agriculture & Development",
         "orientation": "v",
         "showlegend": true,
         "type": "scatter",
         "x": [
          "2014",
          "2015",
          "2016",
          "2017",
          "2018",
          "2019",
          "2020",
          "2021"
         ],
         "xaxis": "x",
         "y": [
          0.050756550374769616,
          0.04432974403842903,
          0.11155281276342231,
          0.13957703230934368,
          0.21648279921341726,
          0.1627472063162558,
          0.15433264854654258,
          0.10264583664647908
         ],
         "yaxis": "y"
        }
       ],
       "layout": {
        "legend": {
         "title": {
          "text": "Mallet LDA Identified Topics"
         },
         "tracegroupgap": 0
        },
        "margin": {
         "t": 60
        },
        "template": {
         "data": {
          "bar": [
           {
            "error_x": {
             "color": "#2a3f5f"
            },
            "error_y": {
             "color": "#2a3f5f"
            },
            "marker": {
             "line": {
              "color": "#E5ECF6",
              "width": 0.5
             }
            },
            "type": "bar"
           }
          ],
          "barpolar": [
           {
            "marker": {
             "line": {
              "color": "#E5ECF6",
              "width": 0.5
             }
            },
            "type": "barpolar"
           }
          ],
          "carpet": [
           {
            "aaxis": {
             "endlinecolor": "#2a3f5f",
             "gridcolor": "white",
             "linecolor": "white",
             "minorgridcolor": "white",
             "startlinecolor": "#2a3f5f"
            },
            "baxis": {
             "endlinecolor": "#2a3f5f",
             "gridcolor": "white",
             "linecolor": "white",
             "minorgridcolor": "white",
             "startlinecolor": "#2a3f5f"
            },
            "type": "carpet"
           }
          ],
          "choropleth": [
           {
            "colorbar": {
             "outlinewidth": 0,
             "ticks": ""
            },
            "type": "choropleth"
           }
          ],
          "contour": [
           {
            "colorbar": {
             "outlinewidth": 0,
             "ticks": ""
            },
            "colorscale": [
             [
              0,
              "#0d0887"
             ],
             [
              0.1111111111111111,
              "#46039f"
             ],
             [
              0.2222222222222222,
              "#7201a8"
             ],
             [
              0.3333333333333333,
              "#9c179e"
             ],
             [
              0.4444444444444444,
              "#bd3786"
             ],
             [
              0.5555555555555556,
              "#d8576b"
             ],
             [
              0.6666666666666666,
              "#ed7953"
             ],
             [
              0.7777777777777778,
              "#fb9f3a"
             ],
             [
              0.8888888888888888,
              "#fdca26"
             ],
             [
              1,
              "#f0f921"
             ]
            ],
            "type": "contour"
           }
          ],
          "contourcarpet": [
           {
            "colorbar": {
             "outlinewidth": 0,
             "ticks": ""
            },
            "type": "contourcarpet"
           }
          ],
          "heatmap": [
           {
            "colorbar": {
             "outlinewidth": 0,
             "ticks": ""
            },
            "colorscale": [
             [
              0,
              "#0d0887"
             ],
             [
              0.1111111111111111,
              "#46039f"
             ],
             [
              0.2222222222222222,
              "#7201a8"
             ],
             [
              0.3333333333333333,
              "#9c179e"
             ],
             [
              0.4444444444444444,
              "#bd3786"
             ],
             [
              0.5555555555555556,
              "#d8576b"
             ],
             [
              0.6666666666666666,
              "#ed7953"
             ],
             [
              0.7777777777777778,
              "#fb9f3a"
             ],
             [
              0.8888888888888888,
              "#fdca26"
             ],
             [
              1,
              "#f0f921"
             ]
            ],
            "type": "heatmap"
           }
          ],
          "heatmapgl": [
           {
            "colorbar": {
             "outlinewidth": 0,
             "ticks": ""
            },
            "colorscale": [
             [
              0,
              "#0d0887"
             ],
             [
              0.1111111111111111,
              "#46039f"
             ],
             [
              0.2222222222222222,
              "#7201a8"
             ],
             [
              0.3333333333333333,
              "#9c179e"
             ],
             [
              0.4444444444444444,
              "#bd3786"
             ],
             [
              0.5555555555555556,
              "#d8576b"
             ],
             [
              0.6666666666666666,
              "#ed7953"
             ],
             [
              0.7777777777777778,
              "#fb9f3a"
             ],
             [
              0.8888888888888888,
              "#fdca26"
             ],
             [
              1,
              "#f0f921"
             ]
            ],
            "type": "heatmapgl"
           }
          ],
          "histogram": [
           {
            "marker": {
             "colorbar": {
              "outlinewidth": 0,
              "ticks": ""
             }
            },
            "type": "histogram"
           }
          ],
          "histogram2d": [
           {
            "colorbar": {
             "outlinewidth": 0,
             "ticks": ""
            },
            "colorscale": [
             [
              0,
              "#0d0887"
             ],
             [
              0.1111111111111111,
              "#46039f"
             ],
             [
              0.2222222222222222,
              "#7201a8"
             ],
             [
              0.3333333333333333,
              "#9c179e"
             ],
             [
              0.4444444444444444,
              "#bd3786"
             ],
             [
              0.5555555555555556,
              "#d8576b"
             ],
             [
              0.6666666666666666,
              "#ed7953"
             ],
             [
              0.7777777777777778,
              "#fb9f3a"
             ],
             [
              0.8888888888888888,
              "#fdca26"
             ],
             [
              1,
              "#f0f921"
             ]
            ],
            "type": "histogram2d"
           }
          ],
          "histogram2dcontour": [
           {
            "colorbar": {
             "outlinewidth": 0,
             "ticks": ""
            },
            "colorscale": [
             [
              0,
              "#0d0887"
             ],
             [
              0.1111111111111111,
              "#46039f"
             ],
             [
              0.2222222222222222,
              "#7201a8"
             ],
             [
              0.3333333333333333,
              "#9c179e"
             ],
             [
              0.4444444444444444,
              "#bd3786"
             ],
             [
              0.5555555555555556,
              "#d8576b"
             ],
             [
              0.6666666666666666,
              "#ed7953"
             ],
             [
              0.7777777777777778,
              "#fb9f3a"
             ],
             [
              0.8888888888888888,
              "#fdca26"
             ],
             [
              1,
              "#f0f921"
             ]
            ],
            "type": "histogram2dcontour"
           }
          ],
          "mesh3d": [
           {
            "colorbar": {
             "outlinewidth": 0,
             "ticks": ""
            },
            "type": "mesh3d"
           }
          ],
          "parcoords": [
           {
            "line": {
             "colorbar": {
              "outlinewidth": 0,
              "ticks": ""
             }
            },
            "type": "parcoords"
           }
          ],
          "pie": [
           {
            "automargin": true,
            "type": "pie"
           }
          ],
          "scatter": [
           {
            "marker": {
             "colorbar": {
              "outlinewidth": 0,
              "ticks": ""
             }
            },
            "type": "scatter"
           }
          ],
          "scatter3d": [
           {
            "line": {
             "colorbar": {
              "outlinewidth": 0,
              "ticks": ""
             }
            },
            "marker": {
             "colorbar": {
              "outlinewidth": 0,
              "ticks": ""
             }
            },
            "type": "scatter3d"
           }
          ],
          "scattercarpet": [
           {
            "marker": {
             "colorbar": {
              "outlinewidth": 0,
              "ticks": ""
             }
            },
            "type": "scattercarpet"
           }
          ],
          "scattergeo": [
           {
            "marker": {
             "colorbar": {
              "outlinewidth": 0,
              "ticks": ""
             }
            },
            "type": "scattergeo"
           }
          ],
          "scattergl": [
           {
            "marker": {
             "colorbar": {
              "outlinewidth": 0,
              "ticks": ""
             }
            },
            "type": "scattergl"
           }
          ],
          "scattermapbox": [
           {
            "marker": {
             "colorbar": {
              "outlinewidth": 0,
              "ticks": ""
             }
            },
            "type": "scattermapbox"
           }
          ],
          "scatterpolar": [
           {
            "marker": {
             "colorbar": {
              "outlinewidth": 0,
              "ticks": ""
             }
            },
            "type": "scatterpolar"
           }
          ],
          "scatterpolargl": [
           {
            "marker": {
             "colorbar": {
              "outlinewidth": 0,
              "ticks": ""
             }
            },
            "type": "scatterpolargl"
           }
          ],
          "scatterternary": [
           {
            "marker": {
             "colorbar": {
              "outlinewidth": 0,
              "ticks": ""
             }
            },
            "type": "scatterternary"
           }
          ],
          "surface": [
           {
            "colorbar": {
             "outlinewidth": 0,
             "ticks": ""
            },
            "colorscale": [
             [
              0,
              "#0d0887"
             ],
             [
              0.1111111111111111,
              "#46039f"
             ],
             [
              0.2222222222222222,
              "#7201a8"
             ],
             [
              0.3333333333333333,
              "#9c179e"
             ],
             [
              0.4444444444444444,
              "#bd3786"
             ],
             [
              0.5555555555555556,
              "#d8576b"
             ],
             [
              0.6666666666666666,
              "#ed7953"
             ],
             [
              0.7777777777777778,
              "#fb9f3a"
             ],
             [
              0.8888888888888888,
              "#fdca26"
             ],
             [
              1,
              "#f0f921"
             ]
            ],
            "type": "surface"
           }
          ],
          "table": [
           {
            "cells": {
             "fill": {
              "color": "#EBF0F8"
             },
             "line": {
              "color": "white"
             }
            },
            "header": {
             "fill": {
              "color": "#C8D4E3"
             },
             "line": {
              "color": "white"
             }
            },
            "type": "table"
           }
          ]
         },
         "layout": {
          "annotationdefaults": {
           "arrowcolor": "#2a3f5f",
           "arrowhead": 0,
           "arrowwidth": 1
          },
          "autotypenumbers": "strict",
          "coloraxis": {
           "colorbar": {
            "outlinewidth": 0,
            "ticks": ""
           }
          },
          "colorscale": {
           "diverging": [
            [
             0,
             "#8e0152"
            ],
            [
             0.1,
             "#c51b7d"
            ],
            [
             0.2,
             "#de77ae"
            ],
            [
             0.3,
             "#f1b6da"
            ],
            [
             0.4,
             "#fde0ef"
            ],
            [
             0.5,
             "#f7f7f7"
            ],
            [
             0.6,
             "#e6f5d0"
            ],
            [
             0.7,
             "#b8e186"
            ],
            [
             0.8,
             "#7fbc41"
            ],
            [
             0.9,
             "#4d9221"
            ],
            [
             1,
             "#276419"
            ]
           ],
           "sequential": [
            [
             0,
             "#0d0887"
            ],
            [
             0.1111111111111111,
             "#46039f"
            ],
            [
             0.2222222222222222,
             "#7201a8"
            ],
            [
             0.3333333333333333,
             "#9c179e"
            ],
            [
             0.4444444444444444,
             "#bd3786"
            ],
            [
             0.5555555555555556,
             "#d8576b"
            ],
            [
             0.6666666666666666,
             "#ed7953"
            ],
            [
             0.7777777777777778,
             "#fb9f3a"
            ],
            [
             0.8888888888888888,
             "#fdca26"
            ],
            [
             1,
             "#f0f921"
            ]
           ],
           "sequentialminus": [
            [
             0,
             "#0d0887"
            ],
            [
             0.1111111111111111,
             "#46039f"
            ],
            [
             0.2222222222222222,
             "#7201a8"
            ],
            [
             0.3333333333333333,
             "#9c179e"
            ],
            [
             0.4444444444444444,
             "#bd3786"
            ],
            [
             0.5555555555555556,
             "#d8576b"
            ],
            [
             0.6666666666666666,
             "#ed7953"
            ],
            [
             0.7777777777777778,
             "#fb9f3a"
            ],
            [
             0.8888888888888888,
             "#fdca26"
            ],
            [
             1,
             "#f0f921"
            ]
           ]
          },
          "colorway": [
           "#636efa",
           "#EF553B",
           "#00cc96",
           "#ab63fa",
           "#FFA15A",
           "#19d3f3",
           "#FF6692",
           "#B6E880",
           "#FF97FF",
           "#FECB52"
          ],
          "font": {
           "color": "#2a3f5f"
          },
          "geo": {
           "bgcolor": "white",
           "lakecolor": "white",
           "landcolor": "#E5ECF6",
           "showlakes": true,
           "showland": true,
           "subunitcolor": "white"
          },
          "hoverlabel": {
           "align": "left"
          },
          "hovermode": "closest",
          "mapbox": {
           "style": "light"
          },
          "paper_bgcolor": "white",
          "plot_bgcolor": "#E5ECF6",
          "polar": {
           "angularaxis": {
            "gridcolor": "white",
            "linecolor": "white",
            "ticks": ""
           },
           "bgcolor": "#E5ECF6",
           "radialaxis": {
            "gridcolor": "white",
            "linecolor": "white",
            "ticks": ""
           }
          },
          "scene": {
           "xaxis": {
            "backgroundcolor": "#E5ECF6",
            "gridcolor": "white",
            "gridwidth": 2,
            "linecolor": "white",
            "showbackground": true,
            "ticks": "",
            "zerolinecolor": "white"
           },
           "yaxis": {
            "backgroundcolor": "#E5ECF6",
            "gridcolor": "white",
            "gridwidth": 2,
            "linecolor": "white",
            "showbackground": true,
            "ticks": "",
            "zerolinecolor": "white"
           },
           "zaxis": {
            "backgroundcolor": "#E5ECF6",
            "gridcolor": "white",
            "gridwidth": 2,
            "linecolor": "white",
            "showbackground": true,
            "ticks": "",
            "zerolinecolor": "white"
           }
          },
          "shapedefaults": {
           "line": {
            "color": "#2a3f5f"
           }
          },
          "ternary": {
           "aaxis": {
            "gridcolor": "white",
            "linecolor": "white",
            "ticks": ""
           },
           "baxis": {
            "gridcolor": "white",
            "linecolor": "white",
            "ticks": ""
           },
           "bgcolor": "#E5ECF6",
           "caxis": {
            "gridcolor": "white",
            "linecolor": "white",
            "ticks": ""
           }
          },
          "title": {
           "x": 0.05
          },
          "xaxis": {
           "automargin": true,
           "gridcolor": "white",
           "linecolor": "white",
           "ticks": "",
           "title": {
            "standoff": 15
           },
           "zerolinecolor": "white",
           "zerolinewidth": 2
          },
          "yaxis": {
           "automargin": true,
           "gridcolor": "white",
           "linecolor": "white",
           "ticks": "",
           "title": {
            "standoff": 15
           },
           "zerolinecolor": "white",
           "zerolinewidth": 2
          }
         }
        },
        "title": {
         "text": "Variation of topics over the years"
        },
        "xaxis": {
         "anchor": "y",
         "domain": [
          0,
          1
         ],
         "title": {
          "text": "Years"
         }
        },
        "yaxis": {
         "anchor": "x",
         "domain": [
          0,
          1
         ],
         "title": {
          "text": "Count"
         }
        }
       }
      },
      "text/html": [
       "<div>                            <div id=\"5c4335d1-6b09-499a-a328-7e02804fba28\" class=\"plotly-graph-div\" style=\"height:525px; width:100%;\"></div>            <script type=\"text/javascript\">                require([\"plotly\"], function(Plotly) {                    window.PLOTLYENV=window.PLOTLYENV || {};                                    if (document.getElementById(\"5c4335d1-6b09-499a-a328-7e02804fba28\")) {                    Plotly.newPlot(                        \"5c4335d1-6b09-499a-a328-7e02804fba28\",                        [{\"hovertemplate\": \"variable=Youth<br>Years=%{x}<br>value=%{y}<extra></extra>\", \"legendgroup\": \"Youth\", \"line\": {\"color\": \"#636efa\", \"dash\": \"solid\"}, \"mode\": \"markers+lines\", \"name\": \"Youth\", \"orientation\": \"v\", \"showlegend\": true, \"type\": \"scatter\", \"x\": [\"2014\", \"2015\", \"2016\", \"2017\", \"2018\", \"2019\", \"2020\", \"2021\"], \"xaxis\": \"x\", \"y\": [0.21625514617849217, 0.18139760059834753, 0.22215370610702248, 0.17085876988619997, 0.09333460361238412, 0.1409344713937857, 0.09158774744025998, 0.16394304683121413], \"yaxis\": \"y\"}, {\"hovertemplate\": \"variable=Economics<br>Years=%{x}<br>value=%{y}<extra></extra>\", \"legendgroup\": \"Economics\", \"line\": {\"color\": \"#EF553B\", \"dash\": \"solid\"}, \"mode\": \"markers+lines\", \"name\": \"Economics\", \"orientation\": \"v\", \"showlegend\": true, \"type\": \"scatter\", \"x\": [\"2014\", \"2015\", \"2016\", \"2017\", \"2018\", \"2019\", \"2020\", \"2021\"], \"xaxis\": \"x\", \"y\": [0.05414150196964516, 0.16570466731614583, 0.07644022962676396, 0.061501785398103734, 0.13222633446397702, 0.08861621507359368, 0.17105609645794292, 0.2692553044884885], \"yaxis\": \"y\"}, {\"hovertemplate\": \"variable=Sports & Culture<br>Years=%{x}<br>value=%{y}<extra></extra>\", \"legendgroup\": \"Sports & Culture\", \"line\": {\"color\": \"#00cc96\", \"dash\": \"solid\"}, \"mode\": \"markers+lines\", \"name\": \"Sports & Culture\", \"orientation\": \"v\", \"showlegend\": true, \"type\": \"scatter\", \"x\": [\"2014\", \"2015\", \"2016\", \"2017\", \"2018\", \"2019\", \"2020\", \"2021\"], \"xaxis\": \"x\", \"y\": [0.11594019555484443, 0.0994543181871196, 0.13742911542753067, 0.24947803568715193, 0.23288459959148833, 0.2297251853353656, 0.10293716491630779, 0.11822728604966433], \"yaxis\": \"y\"}, {\"hovertemplate\": \"variable=Health<br>Years=%{x}<br>value=%{y}<extra></extra>\", \"legendgroup\": \"Health\", \"line\": {\"color\": \"#ab63fa\", \"dash\": \"solid\"}, \"mode\": \"markers+lines\", \"name\": \"Health\", \"orientation\": \"v\", \"showlegend\": true, \"type\": \"scatter\", \"x\": [\"2014\", \"2015\", \"2016\", \"2017\", \"2018\", \"2019\", \"2020\", \"2021\"], \"xaxis\": \"x\", \"y\": [0.347323662578968, 0.23121952268476614, 0.11745017666006612, 0.14107274885863685, 0.15211704085506014, 0.22614130637067198, 0.08917426603640018, 0.11065990133687252], \"yaxis\": \"y\"}, {\"hovertemplate\": \"variable=Agriculture & Development<br>Years=%{x}<br>value=%{y}<extra></extra>\", \"legendgroup\": \"Agriculture & Development\", \"line\": {\"color\": \"#FFA15A\", \"dash\": \"solid\"}, \"mode\": \"markers+lines\", \"name\": \"Agriculture & Development\", \"orientation\": \"v\", \"showlegend\": true, \"type\": \"scatter\", \"x\": [\"2014\", \"2015\", \"2016\", \"2017\", \"2018\", \"2019\", \"2020\", \"2021\"], \"xaxis\": \"x\", \"y\": [0.050756550374769616, 0.04432974403842903, 0.11155281276342231, 0.13957703230934368, 0.21648279921341726, 0.1627472063162558, 0.15433264854654258, 0.10264583664647908], \"yaxis\": \"y\"}],                        {\"legend\": {\"title\": {\"text\": \"Mallet LDA Identified Topics\"}, \"tracegroupgap\": 0}, \"margin\": {\"t\": 60}, \"template\": {\"data\": {\"bar\": [{\"error_x\": {\"color\": \"#2a3f5f\"}, \"error_y\": {\"color\": \"#2a3f5f\"}, \"marker\": {\"line\": {\"color\": \"#E5ECF6\", \"width\": 0.5}}, \"type\": \"bar\"}], \"barpolar\": [{\"marker\": {\"line\": {\"color\": \"#E5ECF6\", \"width\": 0.5}}, \"type\": \"barpolar\"}], \"carpet\": [{\"aaxis\": {\"endlinecolor\": \"#2a3f5f\", \"gridcolor\": \"white\", \"linecolor\": \"white\", \"minorgridcolor\": \"white\", \"startlinecolor\": \"#2a3f5f\"}, \"baxis\": {\"endlinecolor\": \"#2a3f5f\", \"gridcolor\": \"white\", \"linecolor\": \"white\", \"minorgridcolor\": \"white\", \"startlinecolor\": \"#2a3f5f\"}, \"type\": \"carpet\"}], \"choropleth\": [{\"colorbar\": {\"outlinewidth\": 0, \"ticks\": \"\"}, \"type\": \"choropleth\"}], \"contour\": [{\"colorbar\": {\"outlinewidth\": 0, \"ticks\": \"\"}, \"colorscale\": [[0.0, \"#0d0887\"], [0.1111111111111111, \"#46039f\"], [0.2222222222222222, \"#7201a8\"], [0.3333333333333333, \"#9c179e\"], [0.4444444444444444, \"#bd3786\"], [0.5555555555555556, \"#d8576b\"], [0.6666666666666666, \"#ed7953\"], [0.7777777777777778, \"#fb9f3a\"], [0.8888888888888888, \"#fdca26\"], [1.0, \"#f0f921\"]], \"type\": \"contour\"}], \"contourcarpet\": [{\"colorbar\": {\"outlinewidth\": 0, \"ticks\": \"\"}, \"type\": \"contourcarpet\"}], \"heatmap\": [{\"colorbar\": {\"outlinewidth\": 0, \"ticks\": \"\"}, \"colorscale\": [[0.0, \"#0d0887\"], [0.1111111111111111, \"#46039f\"], [0.2222222222222222, \"#7201a8\"], [0.3333333333333333, \"#9c179e\"], [0.4444444444444444, \"#bd3786\"], [0.5555555555555556, \"#d8576b\"], [0.6666666666666666, \"#ed7953\"], [0.7777777777777778, \"#fb9f3a\"], [0.8888888888888888, \"#fdca26\"], [1.0, \"#f0f921\"]], \"type\": \"heatmap\"}], \"heatmapgl\": [{\"colorbar\": {\"outlinewidth\": 0, \"ticks\": \"\"}, \"colorscale\": [[0.0, \"#0d0887\"], [0.1111111111111111, \"#46039f\"], [0.2222222222222222, \"#7201a8\"], [0.3333333333333333, \"#9c179e\"], [0.4444444444444444, \"#bd3786\"], [0.5555555555555556, \"#d8576b\"], [0.6666666666666666, \"#ed7953\"], [0.7777777777777778, \"#fb9f3a\"], [0.8888888888888888, \"#fdca26\"], [1.0, \"#f0f921\"]], \"type\": \"heatmapgl\"}], \"histogram\": [{\"marker\": {\"colorbar\": {\"outlinewidth\": 0, \"ticks\": \"\"}}, \"type\": \"histogram\"}], \"histogram2d\": [{\"colorbar\": {\"outlinewidth\": 0, \"ticks\": \"\"}, \"colorscale\": [[0.0, \"#0d0887\"], [0.1111111111111111, \"#46039f\"], [0.2222222222222222, \"#7201a8\"], [0.3333333333333333, \"#9c179e\"], [0.4444444444444444, \"#bd3786\"], [0.5555555555555556, \"#d8576b\"], [0.6666666666666666, \"#ed7953\"], [0.7777777777777778, \"#fb9f3a\"], [0.8888888888888888, \"#fdca26\"], [1.0, \"#f0f921\"]], \"type\": \"histogram2d\"}], \"histogram2dcontour\": [{\"colorbar\": {\"outlinewidth\": 0, \"ticks\": \"\"}, \"colorscale\": [[0.0, \"#0d0887\"], [0.1111111111111111, \"#46039f\"], [0.2222222222222222, \"#7201a8\"], [0.3333333333333333, \"#9c179e\"], [0.4444444444444444, \"#bd3786\"], [0.5555555555555556, \"#d8576b\"], [0.6666666666666666, \"#ed7953\"], [0.7777777777777778, \"#fb9f3a\"], [0.8888888888888888, \"#fdca26\"], [1.0, \"#f0f921\"]], \"type\": \"histogram2dcontour\"}], \"mesh3d\": [{\"colorbar\": {\"outlinewidth\": 0, \"ticks\": \"\"}, \"type\": \"mesh3d\"}], \"parcoords\": [{\"line\": {\"colorbar\": {\"outlinewidth\": 0, \"ticks\": \"\"}}, \"type\": \"parcoords\"}], \"pie\": [{\"automargin\": true, \"type\": \"pie\"}], \"scatter\": [{\"marker\": {\"colorbar\": {\"outlinewidth\": 0, \"ticks\": \"\"}}, \"type\": \"scatter\"}], \"scatter3d\": [{\"line\": {\"colorbar\": {\"outlinewidth\": 0, \"ticks\": \"\"}}, \"marker\": {\"colorbar\": {\"outlinewidth\": 0, \"ticks\": \"\"}}, \"type\": \"scatter3d\"}], \"scattercarpet\": [{\"marker\": {\"colorbar\": {\"outlinewidth\": 0, \"ticks\": \"\"}}, \"type\": \"scattercarpet\"}], \"scattergeo\": [{\"marker\": {\"colorbar\": {\"outlinewidth\": 0, \"ticks\": \"\"}}, \"type\": \"scattergeo\"}], \"scattergl\": [{\"marker\": {\"colorbar\": {\"outlinewidth\": 0, \"ticks\": \"\"}}, \"type\": \"scattergl\"}], \"scattermapbox\": [{\"marker\": {\"colorbar\": {\"outlinewidth\": 0, \"ticks\": \"\"}}, \"type\": \"scattermapbox\"}], \"scatterpolar\": [{\"marker\": {\"colorbar\": {\"outlinewidth\": 0, \"ticks\": \"\"}}, \"type\": \"scatterpolar\"}], \"scatterpolargl\": [{\"marker\": {\"colorbar\": {\"outlinewidth\": 0, \"ticks\": \"\"}}, \"type\": \"scatterpolargl\"}], \"scatterternary\": [{\"marker\": {\"colorbar\": {\"outlinewidth\": 0, \"ticks\": \"\"}}, \"type\": \"scatterternary\"}], \"surface\": [{\"colorbar\": {\"outlinewidth\": 0, \"ticks\": \"\"}, \"colorscale\": [[0.0, \"#0d0887\"], [0.1111111111111111, \"#46039f\"], [0.2222222222222222, \"#7201a8\"], [0.3333333333333333, \"#9c179e\"], [0.4444444444444444, \"#bd3786\"], [0.5555555555555556, \"#d8576b\"], [0.6666666666666666, \"#ed7953\"], [0.7777777777777778, \"#fb9f3a\"], [0.8888888888888888, \"#fdca26\"], [1.0, \"#f0f921\"]], \"type\": \"surface\"}], \"table\": [{\"cells\": {\"fill\": {\"color\": \"#EBF0F8\"}, \"line\": {\"color\": \"white\"}}, \"header\": {\"fill\": {\"color\": \"#C8D4E3\"}, \"line\": {\"color\": \"white\"}}, \"type\": \"table\"}]}, \"layout\": {\"annotationdefaults\": {\"arrowcolor\": \"#2a3f5f\", \"arrowhead\": 0, \"arrowwidth\": 1}, \"autotypenumbers\": \"strict\", \"coloraxis\": {\"colorbar\": {\"outlinewidth\": 0, \"ticks\": \"\"}}, \"colorscale\": {\"diverging\": [[0, \"#8e0152\"], [0.1, \"#c51b7d\"], [0.2, \"#de77ae\"], [0.3, \"#f1b6da\"], [0.4, \"#fde0ef\"], [0.5, \"#f7f7f7\"], [0.6, \"#e6f5d0\"], [0.7, \"#b8e186\"], [0.8, \"#7fbc41\"], [0.9, \"#4d9221\"], [1, \"#276419\"]], \"sequential\": [[0.0, \"#0d0887\"], [0.1111111111111111, \"#46039f\"], [0.2222222222222222, \"#7201a8\"], [0.3333333333333333, \"#9c179e\"], [0.4444444444444444, \"#bd3786\"], [0.5555555555555556, \"#d8576b\"], [0.6666666666666666, \"#ed7953\"], [0.7777777777777778, \"#fb9f3a\"], [0.8888888888888888, \"#fdca26\"], [1.0, \"#f0f921\"]], \"sequentialminus\": [[0.0, \"#0d0887\"], [0.1111111111111111, \"#46039f\"], [0.2222222222222222, \"#7201a8\"], [0.3333333333333333, \"#9c179e\"], [0.4444444444444444, \"#bd3786\"], [0.5555555555555556, \"#d8576b\"], [0.6666666666666666, \"#ed7953\"], [0.7777777777777778, \"#fb9f3a\"], [0.8888888888888888, \"#fdca26\"], [1.0, \"#f0f921\"]]}, \"colorway\": [\"#636efa\", \"#EF553B\", \"#00cc96\", \"#ab63fa\", \"#FFA15A\", \"#19d3f3\", \"#FF6692\", \"#B6E880\", \"#FF97FF\", \"#FECB52\"], \"font\": {\"color\": \"#2a3f5f\"}, \"geo\": {\"bgcolor\": \"white\", \"lakecolor\": \"white\", \"landcolor\": \"#E5ECF6\", \"showlakes\": true, \"showland\": true, \"subunitcolor\": \"white\"}, \"hoverlabel\": {\"align\": \"left\"}, \"hovermode\": \"closest\", \"mapbox\": {\"style\": \"light\"}, \"paper_bgcolor\": \"white\", \"plot_bgcolor\": \"#E5ECF6\", \"polar\": {\"angularaxis\": {\"gridcolor\": \"white\", \"linecolor\": \"white\", \"ticks\": \"\"}, \"bgcolor\": \"#E5ECF6\", \"radialaxis\": {\"gridcolor\": \"white\", \"linecolor\": \"white\", \"ticks\": \"\"}}, \"scene\": {\"xaxis\": {\"backgroundcolor\": \"#E5ECF6\", \"gridcolor\": \"white\", \"gridwidth\": 2, \"linecolor\": \"white\", \"showbackground\": true, \"ticks\": \"\", \"zerolinecolor\": \"white\"}, \"yaxis\": {\"backgroundcolor\": \"#E5ECF6\", \"gridcolor\": \"white\", \"gridwidth\": 2, \"linecolor\": \"white\", \"showbackground\": true, \"ticks\": \"\", \"zerolinecolor\": \"white\"}, \"zaxis\": {\"backgroundcolor\": \"#E5ECF6\", \"gridcolor\": \"white\", \"gridwidth\": 2, \"linecolor\": \"white\", \"showbackground\": true, \"ticks\": \"\", \"zerolinecolor\": \"white\"}}, \"shapedefaults\": {\"line\": {\"color\": \"#2a3f5f\"}}, \"ternary\": {\"aaxis\": {\"gridcolor\": \"white\", \"linecolor\": \"white\", \"ticks\": \"\"}, \"baxis\": {\"gridcolor\": \"white\", \"linecolor\": \"white\", \"ticks\": \"\"}, \"bgcolor\": \"#E5ECF6\", \"caxis\": {\"gridcolor\": \"white\", \"linecolor\": \"white\", \"ticks\": \"\"}}, \"title\": {\"x\": 0.05}, \"xaxis\": {\"automargin\": true, \"gridcolor\": \"white\", \"linecolor\": \"white\", \"ticks\": \"\", \"title\": {\"standoff\": 15}, \"zerolinecolor\": \"white\", \"zerolinewidth\": 2}, \"yaxis\": {\"automargin\": true, \"gridcolor\": \"white\", \"linecolor\": \"white\", \"ticks\": \"\", \"title\": {\"standoff\": 15}, \"zerolinecolor\": \"white\", \"zerolinewidth\": 2}}}, \"title\": {\"text\": \"Variation of topics over the years\"}, \"xaxis\": {\"anchor\": \"y\", \"domain\": [0.0, 1.0], \"title\": {\"text\": \"Years\"}}, \"yaxis\": {\"anchor\": \"x\", \"domain\": [0.0, 1.0], \"title\": {\"text\": \"Count\"}}},                        {\"responsive\": true}                    ).then(function(){\n",
       "                            \n",
       "var gd = document.getElementById('5c4335d1-6b09-499a-a328-7e02804fba28');\n",
       "var x = new MutationObserver(function (mutations, observer) {{\n",
       "        var display = window.getComputedStyle(gd).display;\n",
       "        if (!display || display === 'none') {{\n",
       "            console.log([gd, 'removed!']);\n",
       "            Plotly.purge(gd);\n",
       "            observer.disconnect();\n",
       "        }}\n",
       "}});\n",
       "\n",
       "// Listen for the removal of the full notebook cells\n",
       "var notebookContainer = gd.closest('#notebook-container');\n",
       "if (notebookContainer) {{\n",
       "    x.observe(notebookContainer, {childList: true});\n",
       "}}\n",
       "\n",
       "// Listen for the clearing of the current output cell\n",
       "var outputEl = gd.closest('.output');\n",
       "if (outputEl) {{\n",
       "    x.observe(outputEl, {childList: true});\n",
       "}}\n",
       "\n",
       "                        })                };                });            </script>        </div>"
      ]
     },
     "metadata": {},
     "output_type": "display_data"
    }
   ],
   "source": [
    "import plotly.express as px \n",
    "\n",
    "fig = px.line(grouped_docs_topics_df, x=grouped_docs_topics_df.index, y=grouped_docs_topics_df.columns[0:])\n",
    "fig.update_traces(mode='markers+lines')\n",
    "fig.update_layout(title=\"Variation of topics over the years\", yaxis_title=\"Count\", legend_title=\"Mallet LDA Identified Topics\")\n",
    "fig.write_html(\"Images/Mallet_all_topics.html\")\n",
    "fig.show()"
   ]
  },
  {
   "cell_type": "code",
   "execution_count": null,
   "metadata": {},
   "outputs": [],
   "source": []
  }
 ],
 "metadata": {
  "kernelspec": {
   "display_name": "Python 3",
   "language": "python",
   "name": "python3"
  },
  "language_info": {
   "codemirror_mode": {
    "name": "ipython",
    "version": 3
   },
   "file_extension": ".py",
   "mimetype": "text/x-python",
   "name": "python",
   "nbconvert_exporter": "python",
   "pygments_lexer": "ipython3",
   "version": "3.8.5"
  }
 },
 "nbformat": 4,
 "nbformat_minor": 4
}
