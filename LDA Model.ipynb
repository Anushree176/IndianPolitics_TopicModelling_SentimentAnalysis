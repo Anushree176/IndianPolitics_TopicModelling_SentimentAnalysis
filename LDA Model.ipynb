{
 "cells": [
  {
   "cell_type": "code",
   "execution_count": null,
   "metadata": {},
   "outputs": [],
   "source": [
    "def lemma(comment):\n",
    "    \"\"\"\n",
    "    Lemmatize comments using spacy lemmatizer.\n",
    "    :param comment: a comment\n",
    "    :return: lemmatized comment\n",
    "    \"\"\"\n",
    "    lemmatized = nlp(comment)\n",
    "    lemmatized_final = ' '.join([word.lemma_ for word in lemmatized if word.lemma_ != '\\'s'])\n",
    "    return lemmatized_final\n",
    "\n",
    "def punc_n(comment):\n",
    "    \"\"\"\n",
    "    Removes punctuations from comments.\n",
    "    :param comment: a comment\n",
    "    :return: comment without punctuations\n",
    "    \"\"\"\n",
    "    regex = re.compile('[' + re.escape('!\"#%&\\'()*+,-./:;<=>?@[\\\\]^_`{|}~')+'0-9\\\\r\\\\t\\\\n]')\n",
    "    nopunct = regex.sub(\" \", comment)\n",
    "    nopunct_words = nopunct.split(' ')\n",
    "    filter_words = [word.strip() for word in nopunct_words if word != '']\n",
    "    words = ' '.join(filter_words)\n",
    "    return words"
   ]
  },
  {
   "cell_type": "code",
   "execution_count": null,
   "metadata": {},
   "outputs": [],
   "source": [
    "import spacy\n",
    "import nltk\n",
    "from nltk.corpus import stopwords\n",
    "from nltk.tokenize import word_tokenize\n",
    "import re\n",
    "nlp = spacy.load('en_core_web_sm', disable=['parser','ner'])\n",
    "\n",
    "df['Speech'] = df['Speech'].map(lambda x: x.lower())\n",
    "df['Speech'] = df['Speech'].astype(str).map(lemma)\n",
    "df['Speech'] = df['Speech'].map(punc_n)\n",
    "df['Speech']"
   ]
  },
  {
   "cell_type": "code",
   "execution_count": null,
   "metadata": {},
   "outputs": [],
   "source": [
    "def r_stopwords(speech) :\n",
    "    modified_stop_words = set(stopwords.words('english'))\n",
    "    modified_stop_words.update(['time', 'new', 'mr.', 'mrs.', 'ki', 'th', 'today', 'way', 'am', 'address', 'own', 'true', 'mann', 'baat',\n",
    "                       'people', 'countryman', 'hindi', 'year', 'new', 'day', 'life', 'friend', 'friends', 'month', 'world', \n",
    "                       'many', 'dr.', 'pm', 'modi', 'ji', 'pe', 'cook', 'brinjal', 'st', 'nd', 'rd', 'sir', 'dear', 'morning',\n",
    "                       'sunday', 'version', 'speech', 'sundays', 'authoritative', 'rendering', 'english', 'original', 'bag',\n",
    "                       'suggestion', 'next', 'step', 'numerous', 'dear', 'fellow'])\n",
    "    doc = nlp(speech)\n",
    "    output= [[token,token.pos_] for token in doc] #if token not in modified_stop_words]\n",
    "#     r = ' '.join(output)  i for i in tokens if not i in stop_words\n",
    "#     final = [word[0] for word in output if not word[0] in stop_words]\n",
    "#     final = [words for words in output if not words[0] in modified_stop_words]\n",
    "    final = []\n",
    "    for i in output :\n",
    "        if not i[0] in modified_stop_words :\n",
    "#             print(i[0])\n",
    "            final.append(i)\n",
    "    return final"
   ]
  },
  {
   "cell_type": "code",
   "execution_count": null,
   "metadata": {},
   "outputs": [],
   "source": [
    "r_stopwords(df['Speech'][0])"
   ]
  },
  {
   "cell_type": "code",
   "execution_count": null,
   "metadata": {},
   "outputs": [],
   "source": [
    "modified_stop_words = set(stopwords.words('english'))\n",
    "print(len(modified_stop_words))\n",
    "modified_stop_words.update(['time', 'new', 'mr.', 'mrs.', 'ki', 'th', 'today', 'way', 'am', 'address', 'own', 'true', 'mann', 'baat',\n",
    "                       'people', 'countryman', 'hindi', 'year', 'new', 'day', 'life', 'friend', 'friends', 'month', 'world', \n",
    "                       'many', 'dr.', 'pm', 'modi', 'ji', 'pe', 'cook', 'brinjal', 'st', 'nd', 'rd', 'sir', 'dear', 'morning',\n",
    "                       'sunday', 'version', 'speech', 'sundays', 'authoritative', 'rendering', 'english', 'original', 'bag',\n",
    "                       'suggestion', 'next', 'step', 'numerous', 'dear', 'fellow','government', 'india', 'country', 'bharat',\n",
    "                       'indian', 'message', 'event', 'nation', 'national', 'january', 'december', 'march', 'rt', 'ak', 'usman',\n",
    "                    'usman-', 'kaniga-', 'decision', 'scheme', 'self', 'thing', 'region', 'reliant'])\n",
    "print(len(modified_stop_words))"
   ]
  },
  {
   "cell_type": "code",
   "execution_count": null,
   "metadata": {},
   "outputs": [],
   "source": []
  },
  {
   "cell_type": "code",
   "execution_count": 1,
   "metadata": {},
   "outputs": [
    {
     "data": {
      "text/html": [
       "<div>\n",
       "<style scoped>\n",
       "    .dataframe tbody tr th:only-of-type {\n",
       "        vertical-align: middle;\n",
       "    }\n",
       "\n",
       "    .dataframe tbody tr th {\n",
       "        vertical-align: top;\n",
       "    }\n",
       "\n",
       "    .dataframe thead th {\n",
       "        text-align: right;\n",
       "    }\n",
       "</style>\n",
       "<table border=\"1\" class=\"dataframe\">\n",
       "  <thead>\n",
       "    <tr style=\"text-align: right;\">\n",
       "      <th></th>\n",
       "      <th>Speech_date</th>\n",
       "      <th>Speech</th>\n",
       "    </tr>\n",
       "  </thead>\n",
       "  <tbody>\n",
       "    <tr>\n",
       "      <th>0</th>\n",
       "      <td>03 Oct, 2014</td>\n",
       "      <td>My Dear Countrymen,Today is the holy festival ...</td>\n",
       "    </tr>\n",
       "    <tr>\n",
       "      <th>1</th>\n",
       "      <td>02 Nov, 2014</td>\n",
       "      <td>My dear fellow countrymen, I am with you again...</td>\n",
       "    </tr>\n",
       "    <tr>\n",
       "      <th>2</th>\n",
       "      <td>14 Dec, 2014</td>\n",
       "      <td>My Dear Fellow Countrymen,Today I have this gr...</td>\n",
       "    </tr>\n",
       "    <tr>\n",
       "      <th>3</th>\n",
       "      <td>27 Jan, 2015</td>\n",
       "      <td>Today, Shri Barack Obama, President of the Uni...</td>\n",
       "    </tr>\n",
       "    <tr>\n",
       "      <th>4</th>\n",
       "      <td>22 Feb, 2015</td>\n",
       "      <td>Hello, my young friends. Today probably the en...</td>\n",
       "    </tr>\n",
       "    <tr>\n",
       "      <th>...</th>\n",
       "      <td>...</td>\n",
       "      <td>...</td>\n",
       "    </tr>\n",
       "    <tr>\n",
       "      <th>68</th>\n",
       "      <td>29 Nov, 2020</td>\n",
       "      <td>My dear countrymen,Namaskar! I want to share a...</td>\n",
       "    </tr>\n",
       "    <tr>\n",
       "      <th>69</th>\n",
       "      <td>27 Dec, 2020</td>\n",
       "      <td>My dear countrymen,Namaskar. Today is the 27th...</td>\n",
       "    </tr>\n",
       "    <tr>\n",
       "      <th>70</th>\n",
       "      <td>31 Jan, 2021</td>\n",
       "      <td>My dear countrymen,Namaskar. When I express Ma...</td>\n",
       "    </tr>\n",
       "    <tr>\n",
       "      <th>71</th>\n",
       "      <td>28 Feb, 2021</td>\n",
       "      <td>My dear countrymen,Namaskar. Yesterday was the...</td>\n",
       "    </tr>\n",
       "    <tr>\n",
       "      <th>72</th>\n",
       "      <td>28 Mar, 2021</td>\n",
       "      <td>My dear countrymen, Namaskar. This time when I...</td>\n",
       "    </tr>\n",
       "  </tbody>\n",
       "</table>\n",
       "<p>73 rows × 2 columns</p>\n",
       "</div>"
      ],
      "text/plain": [
       "     Speech_date                                             Speech\n",
       "0   03 Oct, 2014  My Dear Countrymen,Today is the holy festival ...\n",
       "1   02 Nov, 2014  My dear fellow countrymen, I am with you again...\n",
       "2   14 Dec, 2014  My Dear Fellow Countrymen,Today I have this gr...\n",
       "3   27 Jan, 2015  Today, Shri Barack Obama, President of the Uni...\n",
       "4   22 Feb, 2015  Hello, my young friends. Today probably the en...\n",
       "..           ...                                                ...\n",
       "68  29 Nov, 2020  My dear countrymen,Namaskar! I want to share a...\n",
       "69  27 Dec, 2020  My dear countrymen,Namaskar. Today is the 27th...\n",
       "70  31 Jan, 2021  My dear countrymen,Namaskar. When I express Ma...\n",
       "71  28 Feb, 2021  My dear countrymen,Namaskar. Yesterday was the...\n",
       "72  28 Mar, 2021  My dear countrymen, Namaskar. This time when I...\n",
       "\n",
       "[73 rows x 2 columns]"
      ]
     },
     "execution_count": 1,
     "metadata": {},
     "output_type": "execute_result"
    }
   ],
   "source": [
    "import pandas as pd\n",
    "from pprint import pprint\n",
    "import gensim\n",
    "import gensim.corpora as corpora\n",
    "from gensim.utils import simple_preprocess\n",
    "from gensim.models import CoherenceModel\n",
    "import gensim.test.utils \n",
    "import spacy\n",
    "import en_core_web_sm\n",
    "import nltk \n",
    "#nltk.download('stopwords') - if needed\n",
    "# from nltk.corpus import stopwords\n",
    "from gensim.parsing.preprocessing import STOPWORDS\n",
    "import tqdm\n",
    "\n",
    "df = pd.read_csv('Datasets/mann_ki_baat.csv')\n",
    "df = df.drop(['Unnamed: 0'], axis=1)\n",
    "df"
   ]
  },
  {
   "cell_type": "code",
   "execution_count": 2,
   "metadata": {},
   "outputs": [],
   "source": [
    "bigram = gensim.models.Phrases(df['Speech'], min_count = 5,\n",
    "                               threshold = 100)\n",
    "bigram_mod = gensim.models.phrases.Phraser(bigram)"
   ]
  },
  {
   "cell_type": "code",
   "execution_count": 3,
   "metadata": {},
   "outputs": [],
   "source": [
    "all_stopwords_gensim = STOPWORDS.union(set(['time', 'new', 'mr.', 'mrs.', 'ki', 'th', 'today', 'way', 'am', 'address', 'own',\n",
    "                                            'true', 'mann', 'baat', 'people', 'countryman', 'hindi', 'year', 'new', 'day',\n",
    "                                            'life', 'friend', 'friends', 'month', 'world', 'many', 'dr.', 'pm', 'modi', 'ji', \n",
    "                                            'pe', 'cook', 'brinjal', 'st', 'nd', 'rd', 'sir', 'dear', 'morning', 'sunday',\n",
    "                                            'version', 'speech', 'sundays', 'authoritative', 'rendering', 'english', 'original',\n",
    "                                            'bag', 'suggestion', 'next', 'step', 'numerous', 'dear', 'fellow','government', \n",
    "                                            'india', 'country', 'bharat', 'indian', 'message', 'event', 'nation', 'national',\n",
    "                                            'january', 'december', 'march', 'june', 'rt', 'ak', 'usman', 'usman-', 'kaniga-', \n",
    "                                            'decision', 'scheme', 'self', 'thing', 'region', 'reliant', 'countrymen','greetings',\n",
    "                                            'like', 'share', 'ii', 'prime', 'minister']))"
   ]
  },
  {
   "cell_type": "code",
   "execution_count": 4,
   "metadata": {},
   "outputs": [],
   "source": [
    "def remove_stopwords(texts):\n",
    "    return[[word for word in simple_preprocess(str(doc)) if word not in all_stopwords_gensim]\n",
    "            for doc in texts]\n",
    "\n",
    "def make_bigrams(texts):\n",
    "    return [bigram_mod[doc] for doc in texts]#Turn words into lemmas\n",
    "\n",
    "def lemmatization(texts, allowed_postags=['NOUN', 'ADJ']):\n",
    "    \"\"\"https://spacy.io/api/annotation\"\"\"\n",
    "    texts_out = []\n",
    "    for sent in texts:\n",
    "        doc = nlp(\" \".join(sent))\n",
    "        texts_out.append([token.lemma_ for token in doc if token.pos_ in allowed_postags])\n",
    "    return texts_out"
   ]
  },
  {
   "cell_type": "code",
   "execution_count": 5,
   "metadata": {},
   "outputs": [],
   "source": [
    "data_words_nostops = remove_stopwords(df['Speech'])\n",
    "\n",
    "data_words_bigram = make_bigrams(data_words_nostops)\n",
    "\n",
    "nlp = en_core_web_sm.load(disable = ['parser', 'ner'])\n",
    "data_lemma = lemmatization(data_words_bigram, allowed_postags=['NOUN', 'ADJ'])"
   ]
  },
  {
   "cell_type": "code",
   "execution_count": null,
   "metadata": {},
   "outputs": [],
   "source": [
    "# data_words_nostops"
   ]
  },
  {
   "cell_type": "code",
   "execution_count": 6,
   "metadata": {},
   "outputs": [],
   "source": [
    "id2word = corpora.Dictionary(data_lemma)\n",
    "#corpus\n",
    "texts = data_lemma\n",
    "#term document matrix\n",
    "corpus = [id2word.doc2bow(text) for text in texts]"
   ]
  },
  {
   "cell_type": "code",
   "execution_count": null,
   "metadata": {},
   "outputs": [],
   "source": [
    "lda_model = gensim.models.LdaMulticore(corpus = corpus,\n",
    "                                       id2word = id2word,\n",
    "                                       num_topics = 10,\n",
    "                                       random_state = 42,\n",
    "                                       chunksize = 5,\n",
    "                                       passes = 1000,\n",
    "                                       per_word_topics=True,\n",
    "                                       minimum_probability = 0)"
   ]
  },
  {
   "cell_type": "code",
   "execution_count": null,
   "metadata": {},
   "outputs": [],
   "source": [
    "lda_model.save(\"model/lda_putin.pkl\")#load model back into your workspace from working directory\n",
    "lda_model = gensim.models.LdaModel.load(\"model/lda_putin.pkl\")"
   ]
  },
  {
   "cell_type": "code",
   "execution_count": 7,
   "metadata": {},
   "outputs": [],
   "source": [
    "import pyLDAvis\n",
    "import pyLDAvis.gensim_models as gensimvis\n",
    "%matplotlib inline\n",
    "\n",
    "pyLDAvis.enable_notebook()\n",
    "LDAvis_prepared = gensimvis.prepare(lda_model, corpus, id2word)\n",
    "LDAvis_prepared"
   ]
  },
  {
   "cell_type": "code",
   "execution_count": null,
   "metadata": {},
   "outputs": [],
   "source": [
    "lda_model.print_topics()"
   ]
  },
  {
   "cell_type": "code",
   "execution_count": null,
   "metadata": {},
   "outputs": [],
   "source": [
    "print('\\nPerplexity: ', lda_model.log_perplexity(corpus,total_docs=74))  # a measure of how good the model is. lower the better.\n",
    "\n",
    "# Compute Coherence Score\n",
    "from gensim.models.coherencemodel import CoherenceModel\n",
    "coherence_model_lda = CoherenceModel(model=lda_model, texts=data_lemma, dictionary=id2word , coherence='c_v')\n",
    "coherence_lda = coherence_model_lda.get_coherence()\n",
    "print('\\nCoherence Score: ', coherence_lda)"
   ]
  },
  {
   "cell_type": "code",
   "execution_count": null,
   "metadata": {},
   "outputs": [],
   "source": []
  },
  {
   "cell_type": "code",
   "execution_count": null,
   "metadata": {},
   "outputs": [],
   "source": []
  },
  {
   "cell_type": "code",
   "execution_count": null,
   "metadata": {},
   "outputs": [],
   "source": [
    "def compute_coherence_values(dictionary, corpus, texts, limit, start=2, step=3):\n",
    "    \"\"\"\n",
    "    Compute c_v coherence for various number of topics\n",
    "\n",
    "    Parameters:\n",
    "    ----------\n",
    "    dictionary : Gensim dictionary\n",
    "    corpus : Gensim corpus\n",
    "    texts : List of input texts\n",
    "    limit : Max num of topics\n",
    "\n",
    "    Returns:\n",
    "    -------\n",
    "    model_list : List of LDA topic models\n",
    "    coherence_values : Coherence values corresponding to the LDA model with respective number of topics\n",
    "    \"\"\"\n",
    "    coherence_values = []\n",
    "    model_list = []\n",
    "    for num_topics in range(start, limit, step):\n",
    "        model = gensim.models.ldamodel.LdaModel(corpus=corpus, num_topics=num_topics, id2word=dictionary)\n",
    "        model_list.append(model)\n",
    "        coherencemodel = CoherenceModel(model=model, texts=texts, dictionary=dictionary, coherence='c_v')\n",
    "        coherence_values.append(coherencemodel.get_coherence())\n",
    "\n",
    "    return model_list, coherence_values\n",
    "# Can take a long time to run.\n",
    "model_list, coherence_values = compute_coherence_values(dictionary=id2word, corpus=corpus, texts=data_lemma, start=2, limit=16, step=1)\n"
   ]
  },
  {
   "cell_type": "code",
   "execution_count": null,
   "metadata": {},
   "outputs": [],
   "source": [
    "import matplotlib.pyplot as plt\n",
    "limit = 16\n",
    "start = 2\n",
    "step = 1\n",
    "x = range(start, limit, step)\n",
    "plt.plot(x, coherence_values)\n",
    "plt.xlabel(\"Num Topics\")\n",
    "plt.ylabel(\"Coherence score\")\n",
    "plt.legend((\"coherence_values\"), loc='best')\n",
    "plt.show()"
   ]
  },
  {
   "cell_type": "code",
   "execution_count": null,
   "metadata": {},
   "outputs": [],
   "source": []
  },
  {
   "cell_type": "code",
   "execution_count": 8,
   "metadata": {},
   "outputs": [
    {
     "name": "stderr",
     "output_type": "stream",
     "text": [
      "C:\\Users\\anush\\anaconda3\\envs\\nlp\\lib\\site-packages\\ipykernel\\ipkernel.py:287: DeprecationWarning: `should_run_async` will not call `transform_cell` automatically in the future. Please pass the result to `transformed_cell` argument and any exception that happen during thetransform in `preprocessing_exc_tuple` in IPython 7.17 and above.\n",
      "  and should_run_async(code)\n"
     ]
    }
   ],
   "source": [
    "import os\n",
    "from gensim.models.wrappers import LdaMallet\n",
    "os.environ.update({'MALLET_HOME':r'C:/new_mallet/mallet-2.0.8/'}) \n",
    "#You should update this path as per the path of Mallet directory on your system.\n",
    "mallet_path = 'C:\\\\new_mallet\\\\mallet-2.0.8\\\\bin\\\\mallet' \n",
    "#You should update this path as per the path of Mallet directory on your system."
   ]
  },
  {
   "cell_type": "code",
   "execution_count": 13,
   "metadata": {},
   "outputs": [
    {
     "name": "stderr",
     "output_type": "stream",
     "text": [
      "C:\\Users\\anush\\anaconda3\\envs\\nlp\\lib\\site-packages\\ipykernel\\ipkernel.py:287: DeprecationWarning: `should_run_async` will not call `transform_cell` automatically in the future. Please pass the result to `transformed_cell` argument and any exception that happen during thetransform in `preprocessing_exc_tuple` in IPython 7.17 and above.\n",
      "  and should_run_async(code)\n"
     ]
    },
    {
     "name": "stdout",
     "output_type": "stream",
     "text": [
      "[(0,\n",
      "  [('water', 0.023139907440370238),\n",
      "   ('good', 0.014358609232229739),\n",
      "   ('village', 0.010739290376171828),\n",
      "   ('state', 0.009967960128159488),\n",
      "   ('effort', 0.008721965112139551),\n",
      "   ('poor', 0.008603298920137652),\n",
      "   ('work', 0.008543965824136704),\n",
      "   ('small', 0.008009967960128159),\n",
      "   ('lot', 0.00795063486412721),\n",
      "   ('lakh', 0.007594636288121515)]),\n",
      " (1,\n",
      "  [('family', 0.013994205042845693),\n",
      "   ('minister', 0.011713211269342211),\n",
      "   ('child', 0.011404968867517415),\n",
      "   ('exam', 0.01115837494605758),\n",
      "   ('thing', 0.010973429504962703),\n",
      "   ('great', 0.010295296220948153),\n",
      "   ('student', 0.009987053819123359),\n",
      "   ('prime', 0.009617162936933604),\n",
      "   ('good', 0.009432217495838727),\n",
      "   ('experience', 0.00801430244744467)]),\n",
      " (2,\n",
      "  [('corona', 0.010558907589711019),\n",
      "   ('family', 0.010479517307081613),\n",
      "   ('game', 0.009606224198158146),\n",
      "   ('service', 0.009050492219752302),\n",
      "   ('home', 0.00825658939345824),\n",
      "   ('entire', 0.007621467132422992),\n",
      "   ('day', 0.007145125436646554),\n",
      "   ('hand', 0.006906954588758336),\n",
      "   ('doctor', 0.0067481740234995235),\n",
      "   ('health', 0.006351222610352493)]),\n",
      " (3,\n",
      "  [('festival', 0.015195888821351606),\n",
      "   ('cleanliness', 0.012322484389677847),\n",
      "   ('society', 0.011383102171630657),\n",
      "   ('young', 0.011162071061501907),\n",
      "   ('woman', 0.008564955517489087),\n",
      "   ('movement', 0.008343924407360336),\n",
      "   ('year', 0.00801237774216721),\n",
      "   ('gandhi', 0.0073492844117809585),\n",
      "   ('place', 0.007183511079184395),\n",
      "   ('man', 0.0069624799690556445)]),\n",
      " (4,\n",
      "  [('farmer', 0.02874915938130464),\n",
      "   ('village', 0.0132817753866846),\n",
      "   ('story', 0.011852723604572965),\n",
      "   ('brother', 0.010591795561533288),\n",
      "   ('land', 0.010171486213853395),\n",
      "   ('programme', 0.00832212508406187),\n",
      "   ('law', 0.006724949562878279),\n",
      "   ('woman', 0.006724949562878279),\n",
      "   ('house', 0.0066408876933423),\n",
      "   ('sister', 0.0066408876933423)])]\n"
     ]
    }
   ],
   "source": [
    "ldamallet = gensim.models.wrappers.LdaMallet(\n",
    "   mallet_path, corpus=corpus, num_topics=5, id2word=id2word\n",
    ")\n",
    "pprint(ldamallet.show_topics(formatted=False))"
   ]
  },
  {
   "cell_type": "code",
   "execution_count": 14,
   "metadata": {},
   "outputs": [
    {
     "name": "stderr",
     "output_type": "stream",
     "text": [
      "C:\\Users\\anush\\anaconda3\\envs\\nlp\\lib\\site-packages\\ipykernel\\ipkernel.py:287: DeprecationWarning: `should_run_async` will not call `transform_cell` automatically in the future. Please pass the result to `transformed_cell` argument and any exception that happen during thetransform in `preprocessing_exc_tuple` in IPython 7.17 and above.\n",
      "  and should_run_async(code)\n"
     ]
    }
   ],
   "source": [
    "mallet_lda_model = gensim.models.wrappers.ldamallet.malletmodel2ldamodel(ldamallet)"
   ]
  },
  {
   "cell_type": "code",
   "execution_count": 15,
   "metadata": {},
   "outputs": [
    {
     "name": "stderr",
     "output_type": "stream",
     "text": [
      "C:\\Users\\anush\\anaconda3\\envs\\nlp\\lib\\site-packages\\ipykernel\\ipkernel.py:287: DeprecationWarning: `should_run_async` will not call `transform_cell` automatically in the future. Please pass the result to `transformed_cell` argument and any exception that happen during thetransform in `preprocessing_exc_tuple` in IPython 7.17 and above.\n",
      "  and should_run_async(code)\n",
      "C:\\Users\\anush\\anaconda3\\envs\\nlp\\lib\\site-packages\\pyLDAvis\\_prepare.py:235: RuntimeWarning: divide by zero encountered in log\n",
      "  log_1 = np.log(pd.eval(\"topic_given_term.T / topic_proportion\"))\n",
      "C:\\Users\\anush\\anaconda3\\envs\\nlp\\lib\\site-packages\\pyLDAvis\\_prepare.py:258: RuntimeWarning: divide by zero encountered in log\n",
      "  log_lift = np.log(pd.eval(\"topic_term_dists / term_proportion\")).astype(\"float64\")\n",
      "C:\\Users\\anush\\anaconda3\\envs\\nlp\\lib\\site-packages\\pyLDAvis\\_prepare.py:259: RuntimeWarning: divide by zero encountered in log\n",
      "  log_ttd = np.log(pd.eval(\"topic_term_dists\")).astype(\"float64\")\n"
     ]
    },
    {
     "data": {
      "text/html": [
       "\n",
       "<link rel=\"stylesheet\" type=\"text/css\" href=\"https://cdn.jsdelivr.net/gh/bmabey/pyLDAvis@3.3.1/pyLDAvis/js/ldavis.v1.0.0.css\">\n",
       "\n",
       "\n",
       "<div id=\"ldavis_el2097620086779857445009381882\"></div>\n",
       "<script type=\"text/javascript\">\n",
       "\n",
       "var ldavis_el2097620086779857445009381882_data = {\"mdsDat\": {\"x\": [-0.14027152964201522, -0.027106938074049708, -0.06915308815154979, -0.1465125858370468, 0.38304414170466133], \"y\": [-0.2819200951880175, -0.14415012050423423, 0.19370217421280306, 0.22483888630977295, 0.00752915516967549], \"topics\": [1, 2, 3, 4, 5], \"cluster\": [1, 1, 1, 1, 1], \"Freq\": [23.769521027363684, 22.130529279685817, 21.39098140084481, 16.837108236035583, 15.871860056070092]}, \"tinfo\": {\"Term\": [\"farmer\", \"water\", \"family\", \"village\", \"festival\", \"cleanliness\", \"minister\", \"exam\", \"good\", \"society\", \"prime\", \"corona\", \"story\", \"thing\", \"land\", \"student\", \"brother\", \"woman\", \"movement\", \"game\", \"service\", \"question\", \"lot\", \"lakh\", \"gandhi\", \"issue\", \"experience\", \"home\", \"campaign\", \"thought\", \"gandhi\", \"october\", \"odd\", \"plastic\", \"registration\", \"reply\", \"soul\", \"article\", \"diwali\", \"drive\", \"gold\", \"khadi\", \"provision\", \"sale\", \"title\", \"awe\", \"birthday\", \"despair\", \"entry\", \"fulfillment\", \"mandela\", \"memorable\", \"spectator\", \"africa\", \"meal\", \"position\", \"religious\", \"republic\", \"shopping\", \"single\", \"cleanliness\", \"force\", \"freedom\", \"sardar\", \"medal\", \"sense\", \"peace\", \"episode\", \"mahatma\", \"fit\", \"patel\", \"august\", \"million\", \"personality\", \"air\", \"bapu\", \"lord\", \"tribute\", \"award\", \"event\", \"statue\", \"movement\", \"nanak\", \"dedicated\", \"dev\", \"history\", \"mantra\", \"festival\", \"unity\", \"society\", \"man\", \"young\", \"woman\", \"role\", \"mission\", \"resolve\", \"birth\", \"anniversary\", \"special\", \"place\", \"year\", \"daughter\", \"great\", \"social\", \"campaign\", \"spirit\", \"day\", \"black\", \"fund\", \"interact\", \"pradhan\", \"flow\", \"participate\", \"short\", \"theme\", \"card\", \"enterprise\", \"low\", \"priority\", \"learning\", \"real\", \"yojna\", \"andhra\", \"dhan\", \"accident\", \"raksha\", \"uttar\", \"asia\", \"business\", \"kumar\", \"prize\", \"stump\", \"final\", \"holiday\", \"april\", \"bangladesh\", \"spot\", \"water\", \"lakh\", \"money\", \"rupee\", \"bank\", \"mobile\", \"crop\", \"conservation\", \"facility\", \"picture\", \"department\", \"rain\", \"participation\", \"government\", \"scheme\", \"railway\", \"ambedkar\", \"plan\", \"gift\", \"experiment\", \"news\", \"congratulate\", \"welfare\", \"method\", \"yojana\", \"station\", \"account\", \"responsibility\", \"ministry\", \"development\", \"small\", \"state\", \"crore\", \"poor\", \"season\", \"good\", \"power\", \"village\", \"big\", \"effort\", \"education\", \"work\", \"suggestion\", \"lot\", \"campaign\", \"citizen\", \"technology\", \"place\", \"day\", \"opportunity\", \"entire\", \"happy\", \"experience\", \"sport\", \"dustbin\", \"intention\", \"lion\", \"mar\", \"telling\", \"thought\", \"concrete\", \"feeling\", \"nice\", \"vidyalaya\", \"ambition\", \"apt\", \"brain\", \"celebrity\", \"conviction\", \"grief\", \"hash\", \"interaction\", \"masse\", \"sportsman\", \"worried\", \"ble\", \"broad\", \"burden\", \"gap\", \"hashtag\", \"hospitality\", \"milk\", \"page\", \"politician\", \"minister\", \"exam\", \"prime\", \"question\", \"habit\", \"democracy\", \"examination\", \"president\", \"issue\", \"study\", \"mark\", \"girl\", \"constitution\", \"officer\", \"paper\", \"minute\", \"goal\", \"travel\", \"satellite\", \"conversation\", \"parent\", \"sleep\", \"kid\", \"channel\", \"desire\", \"barack\", \"god\", \"action\", \"process\", \"topic\", \"faith\", \"radio\", \"thing\", \"voice\", \"matter\", \"mind\", \"election\", \"student\", \"hour\", \"future\", \"family\", \"book\", \"language\", \"child\", \"experience\", \"problem\", \"medium\", \"teacher\", \"great\", \"important\", \"yoga\", \"word\", \"good\", \"lot\", \"mother\", \"number\", \"opportunity\", \"heart\", \"abolish\", \"bed\", \"brand\", \"capable\", \"category\", \"cover\", \"distance\", \"scale\", \"towel\", \"traveller\", \"triumph\", \"video\", \"doctor\", \"gupta\", \"sheer\", \"train\", \"advance\", \"avenue\", \"brilliant\", \"careless\", \"childhood\", \"circumstance\", \"core\", \"cricketer\", \"dubai\", \"fall\", \"fight\", \"foster\", \"manifold\", \"medical\", \"corona\", \"crisis\", \"collective\", \"sector\", \"treatment\", \"toy\", \"digital\", \"battle\", \"shriman\", \"online\", \"hospital\", \"mask\", \"pandemic\", \"patient\", \"personnel\", \"daily\", \"payment\", \"sake\", \"basis\", \"tax\", \"warrior\", \"percent\", \"witness\", \"karnataka\", \"hardship\", \"traditional\", \"game\", \"height\", \"home\", \"innovation\", \"son\", \"hand\", \"disease\", \"health\", \"service\", \"namaskar\", \"nature\", \"local\", \"family\", \"app\", \"entire\", \"time\", \"heart\", \"day\", \"person\", \"social\", \"yoga\", \"good\", \"child\", \"spirit\", \"medium\", \"company\", \"america\", \"dimension\", \"guide\", \"consent\", \"farm\", \"ordinance\", \"writer\", \"corn\", \"inquisitiveness\", \"hundred\", \"painting\", \"disaster\", \"joint\", \"stone\", \"prasad\", \"rice\", \"popularity\", \"gita\", \"amrit\", \"sentence\", \"pencil\", \"auspicious\", \"craft\", \"participant\", \"realization\", \"road\", \"assure\", \"carpet\", \"close\", \"land\", \"law\", \"vegetable\", \"space\", \"safety\", \"temple\", \"art\", \"tamil\", \"market\", \"farming\", \"dr\", \"villager\", \"cost\", \"sanskrit\", \"electricity\", \"price\", \"session\", \"listener\", \"king\", \"act\", \"sahib\", \"farmer\", \"agricultural\", \"story\", \"website\", \"brother\", \"bhai\", \"gujarat\", \"parliament\", \"culture\", \"programme\", \"house\", \"form\", \"village\", \"area\", \"subject\", \"field\", \"pride\", \"sister\", \"science\", \"tradition\", \"woman\", \"light\", \"effort\", \"work\", \"large\", \"year\", \"opportunity\", \"youth\", \"time\", \"student\"], \"Freq\": [388.0, 400.0, 371.0, 350.0, 327.0, 228.0, 195.0, 186.0, 489.0, 259.0, 160.0, 138.0, 184.0, 222.0, 126.0, 223.0, 179.0, 242.0, 157.0, 146.0, 195.0, 129.0, 252.0, 131.0, 136.0, 127.0, 207.0, 146.0, 220.0, 114.0, 136.50894899960602, 103.66469059368578, 10.263830751850076, 30.79149225555023, 5.131915375925038, 7.184681526295053, 23.606810729255177, 7.184681526295053, 31.817875330735237, 21.55404457888516, 72.87319833813554, 100.58554136813075, 14.369363052590106, 19.501278428515143, 5.131915375925038, 7.184681526295053, 14.369363052590106, 7.184681526295053, 7.184681526295053, 5.131915375925038, 14.369363052590106, 15.395746127775116, 5.131915375925038, 28.738726105180213, 5.131915375925038, 14.369363052590106, 14.369363052590106, 28.738726105180213, 10.263830751850076, 57.477452210360426, 228.88342576625672, 110.84937211998083, 105.71745674405578, 87.24256139072564, 83.13702908998562, 83.13702908998562, 81.08426293961561, 68.76766603739551, 67.7412829622105, 63.635750661470475, 62.609367586285465, 61.58298451110046, 55.424686059990414, 55.424686059990414, 54.398302984805404, 53.371919909620395, 52.34553683443539, 52.34553683443539, 47.21362145851035, 45.16085530814034, 43.10808915777032, 154.98384435293616, 41.055323007400304, 40.0289399322153, 40.0289399322153, 71.84681526295054, 68.76766603739551, 282.2553456758771, 119.06043672146089, 211.43491348811156, 129.32426747331095, 207.32938118737155, 159.0893766536762, 86.21617831554065, 89.29532754109567, 94.4272429170207, 94.4272429170207, 90.32171061628068, 94.4272429170207, 133.429799774051, 148.82554590182613, 93.40085984183571, 128.29788439812597, 100.58554136813075, 95.45362599220572, 80.0578798644306, 84.16341216517064, 23.60001533210555, 11.286963854485263, 11.286963854485263, 47.2000306642111, 11.286963854485263, 23.60001533210555, 38.99132967913091, 22.573927708970526, 38.99132967913091, 11.286963854485263, 19.495664839565453, 22.573927708970526, 11.286963854485263, 23.60001533210555, 11.286963854485263, 23.60001533210555, 23.60001533210555, 23.60001533210555, 11.286963854485263, 22.573927708970526, 19.495664839565453, 47.2000306642111, 19.495664839565453, 23.60001533210555, 11.286963854485263, 11.286963854485263, 23.60001533210555, 33.86089156345579, 11.286963854485263, 11.286963854485263, 400.1741730226593, 131.33921576128307, 107.73920042917752, 87.21744796647704, 86.19136034334201, 65.66960788064154, 60.53916976496641, 60.53916976496641, 59.51308214183139, 57.46090689556134, 55.40873164929129, 55.40873164929129, 55.40873164929129, 48.226118287346125, 44.121767794806026, 42.06959254853598, 41.04350492540096, 40.01741730226593, 40.01741730226593, 40.01741730226593, 104.66093755977244, 37.96524205599589, 35.913066809725834, 35.913066809725834, 35.913066809725834, 34.886979186590814, 62.591345011236456, 59.51308214183139, 51.3043811567512, 104.66093755977244, 138.5218291232282, 172.38272068668402, 124.1566023993379, 148.78270535457844, 66.69569550377655, 248.3132047986758, 99.53049944409732, 185.7218597874393, 125.18269002247291, 150.8348806008485, 76.95657173512679, 147.75661773144344, 88.24353558961205, 137.4957415000932, 125.18269002247291, 115.9479014142577, 85.16527272020699, 121.07833952993282, 113.89572616798766, 96.45223657469225, 87.21744796647704, 71.82613361945167, 73.87830886572172, 68.7478707500466, 5.152508632598537, 10.305017265197074, 10.305017265197074, 5.152508632598537, 5.152508632598537, 114.38569164368752, 5.152508632598537, 41.2200690607883, 20.61003453039415, 5.152508632598537, 10.305017265197074, 5.152508632598537, 10.305017265197074, 5.152508632598537, 5.152508632598537, 5.152508632598537, 5.152508632598537, 10.305017265197074, 20.61003453039415, 5.152508632598537, 5.152508632598537, 10.305017265197074, 5.152508632598537, 20.61003453039415, 10.305017265197074, 10.305017265197074, 5.152508632598537, 20.61003453039415, 10.305017265197074, 5.152508632598537, 195.79532803874443, 186.52081250006705, 160.75826933707435, 129.84321754148314, 83.4706398480963, 76.25712776245835, 61.83010359118245, 57.70809668510362, 126.751712361924, 54.6165915055445, 52.55558805250508, 49.46408287294596, 48.433581146426256, 45.34207596686713, 45.34207596686713, 40.18956733426859, 39.159065607748886, 39.159065607748886, 38.12856388122918, 37.09806215470947, 99.95866747241162, 36.067560428189765, 35.03705870167005, 35.03705870167005, 34.006556975150346, 32.976055248630644, 31.94555352211093, 30.915051795591225, 51.52508632598538, 71.10461912985981, 70.0741174033401, 54.6165915055445, 183.42930732050795, 42.25057078730801, 92.74515538677367, 119.53820027628606, 51.52508632598538, 166.9412796961926, 71.10461912985981, 78.31813121549777, 233.92389191997358, 89.65365020721454, 82.4401381215766, 190.64281940614586, 133.96522444756198, 87.59264675417514, 106.14167783152986, 97.89766401937221, 172.09378832879113, 109.233183011089, 127.78221408844372, 78.31813121549777, 157.66676415751525, 113.35518991716782, 84.50114157461601, 86.56214502765543, 90.68415193373426, 84.50114157461601, 3.133659064774766, 5.222765107957944, 11.490083237507475, 17.757401367057007, 18.801954388648596, 11.490083237507475, 25.06927251819813, 29.247484604564487, 3.133659064774766, 6.267318129549532, 5.222765107957944, 56.40586316594579, 88.78700683528504, 17.757401367057007, 25.06927251819813, 22.98016647501495, 15.668295323873831, 12.534636259099065, 11.490083237507475, 5.222765107957944, 25.06927251819813, 27.158378561381305, 30.292037626156073, 5.222765107957944, 3.133659064774766, 6.267318129549532, 52.22765107957944, 6.267318129549532, 5.222765107957944, 36.5593557557056, 138.9255518716813, 66.85139338186168, 65.80684036027009, 60.58407525231215, 56.40586316594579, 56.40586316594579, 43.87122690684672, 42.82667388525514, 42.82667388525514, 41.78212086366355, 38.64846179888878, 37.60390877729719, 35.514802734114014, 35.514802734114014, 35.514802734114014, 34.470249712522424, 33.42569669093084, 33.42569669093084, 32.38114366933925, 32.38114366933925, 31.336590647747663, 31.336590647747663, 30.292037626156073, 30.292037626156073, 30.292037626156073, 39.69301482048037, 126.39091561258225, 54.31675712276261, 108.63351424552522, 58.494969209128975, 64.7622873386785, 90.87611287846822, 45.9603329500299, 83.5642417273271, 119.0790444614411, 63.71773431708691, 75.20781755459439, 63.71773431708691, 137.8809988500897, 64.7622873386785, 100.27709007279252, 76.25237057618598, 77.29692359777756, 94.00977194324298, 68.94049942504485, 73.1187115114112, 76.25237057618598, 83.5642417273271, 66.85139338186168, 59.53952223072055, 57.45041618753738, 26.065287328125876, 26.065287328125876, 11.468726424375387, 11.468726424375387, 11.468726424375387, 28.150510314375946, 11.468726424375387, 11.468726424375387, 11.468726424375387, 11.468726424375387, 22.937452848750773, 26.065287328125876, 36.49140225937623, 11.468726424375387, 36.49140225937623, 26.065287328125876, 11.468726424375387, 11.468726424375387, 11.468726424375387, 11.468726424375387, 11.468726424375387, 11.468726424375387, 19.809618369375666, 5.213057465625176, 12.511337917500423, 5.213057465625176, 58.38624361500197, 10.426114931250352, 3.127834479375106, 55.258409135626856, 126.15599066812925, 83.40891945000281, 57.34363212187693, 53.1731861493768, 51.087963163126716, 49.00274017687666, 44.83229420437651, 42.74707121812644, 40.66184823187637, 38.5766252456263, 35.44879076625119, 34.40617927312616, 34.40617927312616, 31.278344793751053, 30.235733300626016, 30.235733300626016, 29.193121807500987, 27.107898821250917, 25.022675835000847, 25.022675835000847, 23.98006434187581, 356.573130648762, 33.36356778000113, 147.00822053062996, 36.49140225937623, 131.36904813375443, 30.235733300626016, 64.64191257375218, 33.36356778000113, 66.72713556000225, 103.21853781937848, 82.36630795687778, 53.1731861493768, 164.73261591375555, 74.0254160118775, 49.00274017687666, 76.11063899812757, 62.556689587502106, 82.36630795687778, 58.38624361500197, 58.38624361500197, 83.40891945000281, 52.13057465625175, 79.23847347750267, 79.23847347750267, 56.30102062875189, 72.98280451875246, 68.81235854625233, 58.38624361500197, 56.30102062875189, 56.30102062875189], \"Total\": [388.0, 400.0, 371.0, 350.0, 327.0, 228.0, 195.0, 186.0, 489.0, 259.0, 160.0, 138.0, 184.0, 222.0, 126.0, 223.0, 179.0, 242.0, 157.0, 146.0, 195.0, 129.0, 252.0, 131.0, 136.0, 127.0, 207.0, 146.0, 220.0, 114.0, 136.50894899960602, 103.66469059368578, 10.263830751850076, 30.79149225555023, 5.131915375925038, 7.184681526295053, 23.606810729255177, 7.184681526295053, 31.817875330735237, 21.55404457888516, 72.87319833813554, 100.58554136813075, 14.369363052590106, 19.501278428515143, 5.131915375925038, 7.184681526295053, 14.369363052590106, 7.184681526295053, 7.184681526295053, 5.131915375925038, 14.369363052590106, 15.395746127775116, 5.131915375925038, 28.738726105180213, 5.131915375925038, 14.369363052590106, 14.369363052590106, 28.738726105180213, 10.263830751850076, 57.477452210360426, 228.88342576625672, 110.84937211998083, 105.71745674405578, 87.24256139072564, 83.13702908998562, 83.13702908998562, 81.08426293961561, 68.76766603739551, 67.7412829622105, 63.635750661470475, 62.609367586285465, 61.58298451110046, 55.424686059990414, 55.424686059990414, 54.398302984805404, 53.371919909620395, 52.34553683443539, 52.34553683443539, 47.21362145851035, 45.16085530814034, 43.10808915777032, 157.07295039611932, 41.055323007400304, 40.0289399322153, 40.0289399322153, 72.87731698947024, 69.8122190589871, 327.0876398802536, 129.50596693737677, 259.6610317754577, 173.446035268117, 332.81766081612614, 242.49829610367902, 106.82621284593479, 113.21123793147798, 126.80838658635996, 130.34030972674654, 125.2086898028715, 138.78906089176206, 275.39919973581556, 352.8439854259594, 158.80021264502125, 448.68019604533146, 221.05299837366317, 220.63631601467864, 139.59740209515115, 349.77700696150487, 23.60001533210555, 11.286963854485263, 11.286963854485263, 47.2000306642111, 11.286963854485263, 23.60001533210555, 38.99132967913091, 22.573927708970526, 38.99132967913091, 11.286963854485263, 19.495664839565453, 22.573927708970526, 11.286963854485263, 23.60001533210555, 11.286963854485263, 23.60001533210555, 23.60001533210555, 23.60001533210555, 11.286963854485263, 22.573927708970526, 19.495664839565453, 47.2000306642111, 19.495664839565453, 23.60001533210555, 11.286963854485263, 11.286963854485263, 23.60001533210555, 33.86089156345579, 11.286963854485263, 11.286963854485263, 400.1741730226593, 131.33921576128307, 107.73920042917752, 87.21744796647704, 86.19136034334201, 65.66960788064154, 60.53916976496641, 60.53916976496641, 59.51308214183139, 57.46090689556134, 55.40873164929129, 55.40873164929129, 55.40873164929129, 48.226118287346125, 44.121767794806026, 42.06959254853598, 41.04350492540096, 40.01741730226593, 40.01741730226593, 40.01741730226593, 105.69143928629214, 37.96524205599589, 35.913066809725834, 35.913066809725834, 35.913066809725834, 34.886979186590814, 63.63395650436149, 61.57408559487081, 53.38960414300127, 123.45318430608826, 175.04484498612064, 229.07702965327624, 159.6714051334519, 228.94960489744852, 79.23033176287561, 489.54421068351814, 140.58582245149762, 350.45447570119484, 201.27507173154328, 275.2342093864915, 99.62760971856035, 275.4286723553724, 123.2805942912821, 252.9361544035111, 220.63631601467864, 202.40562422014736, 128.95495543145847, 275.39919973581556, 349.77700696150487, 292.50810281038446, 298.339491573934, 130.56473203107498, 207.8435333132837, 144.70021831373717, 5.152508632598537, 10.305017265197074, 10.305017265197074, 5.152508632598537, 5.152508632598537, 114.38569164368752, 5.152508632598537, 41.2200690607883, 20.61003453039415, 5.152508632598537, 10.305017265197074, 5.152508632598537, 10.305017265197074, 5.152508632598537, 5.152508632598537, 5.152508632598537, 5.152508632598537, 10.305017265197074, 20.61003453039415, 5.152508632598537, 5.152508632598537, 10.305017265197074, 5.152508632598537, 20.61003453039415, 10.305017265197074, 10.305017265197074, 5.152508632598537, 20.61003453039415, 10.305017265197074, 5.152508632598537, 195.79532803874443, 186.52081250006705, 160.75826933707435, 129.84321754148314, 83.4706398480963, 76.25712776245835, 61.83010359118245, 57.70809668510362, 127.79432385504904, 54.6165915055445, 52.55558805250508, 49.46408287294596, 48.433581146426256, 45.34207596686713, 45.34207596686713, 40.18956733426859, 39.159065607748886, 39.159065607748886, 38.12856388122918, 37.09806215470947, 100.98475509554665, 36.067560428189765, 35.03705870167005, 35.03705870167005, 34.006556975150346, 32.976055248630644, 31.94555352211093, 30.915051795591225, 52.56963934757697, 74.23827819463457, 73.15326662889512, 56.66935765591452, 222.42063699963884, 43.293182280433044, 106.29910479739914, 142.51836675130102, 54.6042355515404, 223.2423003249445, 81.55014934577571, 92.94187351778001, 371.80489077006325, 112.5911030559653, 101.20714499782723, 320.0964895250934, 207.8435333132837, 116.84013135873963, 163.59209401906725, 148.1759575529884, 448.68019604533146, 198.69940146786467, 270.73028016840624, 108.61016884165385, 489.54421068351814, 252.9361544035111, 150.71658683224734, 167.01007638193755, 292.50810281038446, 203.8797712549789, 3.133659064774766, 5.222765107957944, 11.490083237507475, 17.757401367057007, 18.801954388648596, 11.490083237507475, 25.06927251819813, 29.247484604564487, 3.133659064774766, 6.267318129549532, 5.222765107957944, 56.40586316594579, 88.78700683528504, 17.757401367057007, 25.06927251819813, 22.98016647501495, 15.668295323873831, 12.534636259099065, 11.490083237507475, 5.222765107957944, 25.06927251819813, 27.158378561381305, 30.292037626156073, 5.222765107957944, 3.133659064774766, 6.267318129549532, 52.22765107957944, 6.267318129549532, 5.222765107957944, 36.5593557557056, 138.9255518716813, 66.85139338186168, 65.80684036027009, 60.58407525231215, 56.40586316594579, 56.40586316594579, 43.87122690684672, 42.82667388525514, 42.82667388525514, 41.78212086366355, 38.64846179888878, 37.60390877729719, 35.514802734114014, 35.514802734114014, 35.514802734114014, 34.470249712522424, 33.42569669093084, 33.42569669093084, 32.38114366933925, 32.38114366933925, 31.336590647747663, 31.336590647747663, 30.292037626156073, 30.292037626156073, 30.292037626156073, 40.72351654700008, 146.91266807528274, 58.48720309526275, 146.7620781267544, 68.75584544047922, 79.35884824242899, 132.09618193925652, 52.11685868884005, 118.64973949541847, 195.03139202513165, 84.23948677978738, 118.31590671236471, 97.08130209708804, 371.80489077006325, 111.9623180028896, 298.339491573934, 189.22686751218708, 203.8797712549789, 349.77700696150487, 170.67186475706688, 221.05299837366317, 270.73028016840624, 489.54421068351814, 320.0964895250934, 139.59740209515115, 163.59209401906725, 26.065287328125876, 26.065287328125876, 11.468726424375387, 11.468726424375387, 11.468726424375387, 28.150510314375946, 11.468726424375387, 11.468726424375387, 11.468726424375387, 11.468726424375387, 22.937452848750773, 26.065287328125876, 36.49140225937623, 11.468726424375387, 36.49140225937623, 26.065287328125876, 11.468726424375387, 11.468726424375387, 11.468726424375387, 11.468726424375387, 11.468726424375387, 11.468726424375387, 19.809618369375666, 5.213057465625176, 12.511337917500423, 5.213057465625176, 58.38624361500197, 10.426114931250352, 3.127834479375106, 55.258409135626856, 126.15599066812925, 83.40891945000281, 57.34363212187693, 53.1731861493768, 51.087963163126716, 49.00274017687666, 44.83229420437651, 42.74707121812644, 40.66184823187637, 38.5766252456263, 35.44879076625119, 34.40617927312616, 34.40617927312616, 31.278344793751053, 30.235733300626016, 30.235733300626016, 29.193121807500987, 27.107898821250917, 25.022675835000847, 25.022675835000847, 23.98006434187581, 388.3818469659477, 34.408120801592716, 184.61212930792715, 38.543577505646276, 179.4184871269675, 31.262116375811026, 80.03765870152729, 35.416333930371145, 88.4992194957664, 161.7117368311245, 121.52537356462666, 67.6002103206527, 350.45447570119484, 119.9857489619074, 65.49076780119198, 139.72807163249905, 101.71575519525099, 174.2429547257418, 95.47989166632676, 103.54709892314231, 242.49829610367902, 83.14266664404704, 275.2342093864915, 275.4286723553724, 109.25931295616132, 352.8439854259594, 292.50810281038446, 229.9256983390832, 189.22686751218708, 223.2423003249445], \"Category\": [\"Default\", \"Default\", \"Default\", \"Default\", \"Default\", \"Default\", \"Default\", \"Default\", \"Default\", \"Default\", \"Default\", \"Default\", \"Default\", \"Default\", \"Default\", \"Default\", \"Default\", \"Default\", \"Default\", \"Default\", \"Default\", \"Default\", \"Default\", \"Default\", \"Default\", \"Default\", \"Default\", \"Default\", \"Default\", \"Default\", \"Topic1\", \"Topic1\", \"Topic1\", \"Topic1\", \"Topic1\", \"Topic1\", \"Topic1\", \"Topic1\", \"Topic1\", \"Topic1\", \"Topic1\", \"Topic1\", \"Topic1\", \"Topic1\", \"Topic1\", \"Topic1\", \"Topic1\", \"Topic1\", \"Topic1\", \"Topic1\", \"Topic1\", \"Topic1\", \"Topic1\", \"Topic1\", \"Topic1\", \"Topic1\", \"Topic1\", \"Topic1\", \"Topic1\", \"Topic1\", \"Topic1\", \"Topic1\", \"Topic1\", \"Topic1\", \"Topic1\", \"Topic1\", \"Topic1\", \"Topic1\", \"Topic1\", \"Topic1\", \"Topic1\", \"Topic1\", \"Topic1\", \"Topic1\", \"Topic1\", \"Topic1\", \"Topic1\", \"Topic1\", \"Topic1\", \"Topic1\", \"Topic1\", \"Topic1\", \"Topic1\", \"Topic1\", \"Topic1\", \"Topic1\", \"Topic1\", \"Topic1\", \"Topic1\", \"Topic1\", \"Topic1\", \"Topic1\", \"Topic1\", \"Topic1\", \"Topic1\", \"Topic1\", \"Topic1\", \"Topic1\", \"Topic1\", \"Topic1\", \"Topic1\", \"Topic1\", \"Topic1\", \"Topic1\", \"Topic1\", \"Topic1\", \"Topic1\", \"Topic2\", \"Topic2\", \"Topic2\", \"Topic2\", \"Topic2\", \"Topic2\", \"Topic2\", \"Topic2\", \"Topic2\", \"Topic2\", \"Topic2\", \"Topic2\", \"Topic2\", \"Topic2\", \"Topic2\", \"Topic2\", \"Topic2\", \"Topic2\", \"Topic2\", \"Topic2\", \"Topic2\", \"Topic2\", \"Topic2\", \"Topic2\", \"Topic2\", \"Topic2\", \"Topic2\", \"Topic2\", \"Topic2\", \"Topic2\", \"Topic2\", \"Topic2\", \"Topic2\", \"Topic2\", \"Topic2\", \"Topic2\", \"Topic2\", \"Topic2\", \"Topic2\", \"Topic2\", \"Topic2\", \"Topic2\", \"Topic2\", \"Topic2\", \"Topic2\", \"Topic2\", \"Topic2\", \"Topic2\", \"Topic2\", \"Topic2\", \"Topic2\", \"Topic2\", \"Topic2\", \"Topic2\", \"Topic2\", \"Topic2\", \"Topic2\", \"Topic2\", \"Topic2\", \"Topic2\", \"Topic2\", \"Topic2\", \"Topic2\", \"Topic2\", \"Topic2\", \"Topic2\", \"Topic2\", \"Topic2\", \"Topic2\", \"Topic2\", \"Topic2\", \"Topic2\", \"Topic2\", \"Topic2\", \"Topic2\", \"Topic2\", \"Topic2\", \"Topic2\", \"Topic2\", \"Topic2\", \"Topic2\", \"Topic2\", \"Topic2\", \"Topic2\", \"Topic3\", \"Topic3\", \"Topic3\", \"Topic3\", \"Topic3\", \"Topic3\", \"Topic3\", \"Topic3\", \"Topic3\", \"Topic3\", \"Topic3\", \"Topic3\", \"Topic3\", \"Topic3\", \"Topic3\", \"Topic3\", \"Topic3\", \"Topic3\", \"Topic3\", \"Topic3\", \"Topic3\", \"Topic3\", \"Topic3\", \"Topic3\", \"Topic3\", \"Topic3\", \"Topic3\", \"Topic3\", \"Topic3\", \"Topic3\", \"Topic3\", \"Topic3\", \"Topic3\", \"Topic3\", \"Topic3\", \"Topic3\", \"Topic3\", \"Topic3\", \"Topic3\", \"Topic3\", \"Topic3\", \"Topic3\", \"Topic3\", \"Topic3\", \"Topic3\", \"Topic3\", \"Topic3\", \"Topic3\", \"Topic3\", \"Topic3\", \"Topic3\", \"Topic3\", \"Topic3\", \"Topic3\", \"Topic3\", \"Topic3\", \"Topic3\", \"Topic3\", \"Topic3\", \"Topic3\", \"Topic3\", \"Topic3\", \"Topic3\", \"Topic3\", \"Topic3\", \"Topic3\", \"Topic3\", \"Topic3\", \"Topic3\", \"Topic3\", \"Topic3\", \"Topic3\", \"Topic3\", \"Topic3\", \"Topic3\", \"Topic3\", \"Topic3\", \"Topic3\", \"Topic3\", \"Topic3\", \"Topic3\", \"Topic3\", \"Topic3\", \"Topic3\", \"Topic3\", \"Topic3\", \"Topic3\", \"Topic3\", \"Topic4\", \"Topic4\", \"Topic4\", \"Topic4\", \"Topic4\", \"Topic4\", \"Topic4\", \"Topic4\", \"Topic4\", \"Topic4\", \"Topic4\", \"Topic4\", \"Topic4\", \"Topic4\", \"Topic4\", \"Topic4\", \"Topic4\", \"Topic4\", \"Topic4\", \"Topic4\", \"Topic4\", \"Topic4\", \"Topic4\", \"Topic4\", \"Topic4\", \"Topic4\", \"Topic4\", \"Topic4\", \"Topic4\", \"Topic4\", \"Topic4\", \"Topic4\", \"Topic4\", \"Topic4\", \"Topic4\", \"Topic4\", \"Topic4\", \"Topic4\", \"Topic4\", \"Topic4\", \"Topic4\", \"Topic4\", \"Topic4\", \"Topic4\", \"Topic4\", \"Topic4\", \"Topic4\", \"Topic4\", \"Topic4\", \"Topic4\", \"Topic4\", \"Topic4\", \"Topic4\", \"Topic4\", \"Topic4\", \"Topic4\", \"Topic4\", \"Topic4\", \"Topic4\", \"Topic4\", \"Topic4\", \"Topic4\", \"Topic4\", \"Topic4\", \"Topic4\", \"Topic4\", \"Topic4\", \"Topic4\", \"Topic4\", \"Topic4\", \"Topic4\", \"Topic4\", \"Topic4\", \"Topic4\", \"Topic4\", \"Topic4\", \"Topic4\", \"Topic4\", \"Topic4\", \"Topic4\", \"Topic4\", \"Topic5\", \"Topic5\", \"Topic5\", \"Topic5\", \"Topic5\", \"Topic5\", \"Topic5\", \"Topic5\", \"Topic5\", \"Topic5\", \"Topic5\", \"Topic5\", \"Topic5\", \"Topic5\", \"Topic5\", \"Topic5\", \"Topic5\", \"Topic5\", \"Topic5\", \"Topic5\", \"Topic5\", \"Topic5\", \"Topic5\", \"Topic5\", \"Topic5\", \"Topic5\", \"Topic5\", \"Topic5\", \"Topic5\", \"Topic5\", \"Topic5\", \"Topic5\", \"Topic5\", \"Topic5\", \"Topic5\", \"Topic5\", \"Topic5\", \"Topic5\", \"Topic5\", \"Topic5\", \"Topic5\", \"Topic5\", \"Topic5\", \"Topic5\", \"Topic5\", \"Topic5\", \"Topic5\", \"Topic5\", \"Topic5\", \"Topic5\", \"Topic5\", \"Topic5\", \"Topic5\", \"Topic5\", \"Topic5\", \"Topic5\", \"Topic5\", \"Topic5\", \"Topic5\", \"Topic5\", \"Topic5\", \"Topic5\", \"Topic5\", \"Topic5\", \"Topic5\", \"Topic5\", \"Topic5\", \"Topic5\", \"Topic5\", \"Topic5\", \"Topic5\", \"Topic5\", \"Topic5\", \"Topic5\", \"Topic5\", \"Topic5\", \"Topic5\", \"Topic5\", \"Topic5\", \"Topic5\", \"Topic5\"], \"logprob\": [30.0, 29.0, 28.0, 27.0, 26.0, 25.0, 24.0, 23.0, 22.0, 21.0, 20.0, 19.0, 18.0, 17.0, 16.0, 15.0, 14.0, 13.0, 12.0, 11.0, 10.0, 9.0, 8.0, 7.0, 6.0, 5.0, 4.0, 3.0, 2.0, 1.0, -4.9132, -5.1884, -7.5009, -6.4023, -8.1941, -7.8576, -6.668, -7.8576, -6.3695, -6.759, -5.5408, -5.2185, -7.1644, -6.8591, -8.1941, -7.8576, -7.1644, -7.8576, -7.8576, -8.1941, -7.1644, -7.0955, -8.1941, -6.4713, -8.1941, -7.1644, -7.1644, -6.4713, -7.5009, -5.7781, -4.3963, -5.1214, -5.1688, -5.3609, -5.4091, -5.4091, -5.4341, -5.5988, -5.6138, -5.6764, -5.6926, -5.7092, -5.8145, -5.8145, -5.8332, -5.8523, -5.8717, -5.8717, -5.9749, -6.0193, -6.0658, -4.7862, -6.1146, -6.1399, -6.1399, -5.555, -5.5988, -4.1867, -5.0499, -4.4756, -4.9672, -4.4952, -4.7601, -5.3727, -5.3376, -5.2817, -5.2817, -5.3262, -5.2817, -4.936, -4.8268, -5.2926, -4.9752, -5.2185, -5.2709, -5.4468, -5.3968, -6.5968, -7.3344, -7.3344, -5.9037, -7.3344, -6.5968, -6.0948, -6.6413, -6.0948, -7.3344, -6.7879, -6.6413, -7.3344, -6.5968, -7.3344, -6.5968, -6.5968, -6.5968, -7.3344, -6.6413, -6.7879, -5.9037, -6.7879, -6.5968, -7.3344, -7.3344, -6.5968, -6.2358, -7.3344, -7.3344, -3.7662, -4.8803, -5.0784, -5.2897, -5.3015, -5.5735, -5.6548, -5.6548, -5.6719, -5.707, -5.7434, -5.7434, -5.7434, -5.8822, -5.9711, -6.0188, -6.0435, -6.0688, -6.0688, -6.0688, -5.1074, -6.1214, -6.177, -6.177, -6.177, -6.206, -5.6215, -5.6719, -5.8203, -5.1074, -4.8271, -4.6084, -4.9366, -4.7556, -5.558, -4.2434, -5.1576, -4.5338, -4.9283, -4.7419, -5.4149, -4.7625, -5.278, -4.8345, -4.9283, -5.005, -5.3135, -4.9617, -5.0228, -5.189, -5.2897, -5.4838, -5.4557, -5.5277, -8.0846, -7.3915, -7.3915, -8.0846, -8.0846, -4.9845, -8.0846, -6.0052, -6.6983, -8.0846, -7.3915, -8.0846, -7.3915, -8.0846, -8.0846, -8.0846, -8.0846, -7.3915, -6.6983, -8.0846, -8.0846, -7.3915, -8.0846, -6.6983, -7.3915, -7.3915, -8.0846, -6.6983, -7.3915, -8.0846, -4.447, -4.4956, -4.6442, -4.8578, -5.2996, -5.39, -5.5997, -5.6687, -4.8819, -5.7238, -5.7622, -5.8229, -5.8439, -5.9099, -5.9099, -6.0305, -6.0565, -6.0565, -6.0831, -6.1105, -5.1194, -6.1387, -6.1677, -6.1677, -6.1976, -6.2283, -6.2601, -6.2929, -5.782, -5.46, -5.4746, -5.7238, -4.5123, -5.9805, -5.1943, -4.9405, -5.782, -4.6065, -5.46, -5.3633, -4.2691, -5.2282, -5.312, -4.4737, -4.8265, -5.2514, -5.0593, -5.1402, -4.5761, -5.0306, -4.8738, -5.3633, -4.6636, -4.9936, -5.2873, -5.2632, -5.2167, -5.2873, -8.3425, -7.8317, -7.0432, -6.6079, -6.5508, -7.0432, -6.2631, -6.1089, -8.3425, -7.6494, -7.8317, -5.4522, -4.9985, -6.6079, -6.2631, -6.3501, -6.7331, -6.9562, -7.0432, -7.8317, -6.2631, -6.183, -6.0738, -7.8317, -8.3425, -7.6494, -5.5291, -7.6494, -7.8317, -5.8858, -4.5508, -5.2823, -5.298, -5.3807, -5.4522, -5.4522, -5.7035, -5.7276, -5.7276, -5.7523, -5.8302, -5.8576, -5.9148, -5.9148, -5.9148, -5.9446, -5.9754, -5.9754, -6.0071, -6.0071, -6.0399, -6.0399, -6.0738, -6.0738, -6.0738, -5.8035, -4.6453, -5.4899, -4.7967, -5.4158, -5.314, -4.9752, -5.6569, -5.0591, -4.7049, -5.3303, -5.1645, -5.3303, -4.5583, -5.314, -4.8768, -5.1507, -5.1371, -4.9413, -5.2515, -5.1926, -5.1507, -5.0591, -5.2823, -5.3981, -5.4338, -6.1651, -6.1651, -6.9861, -6.9861, -6.9861, -6.0881, -6.9861, -6.9861, -6.9861, -6.9861, -6.2929, -6.1651, -5.8286, -6.9861, -5.8286, -6.1651, -6.9861, -6.9861, -6.9861, -6.9861, -6.9861, -6.9861, -6.4395, -7.7745, -6.8991, -7.7745, -5.3586, -7.0814, -8.2853, -5.4137, -4.5882, -5.0019, -5.3766, -5.4521, -5.4921, -5.5338, -5.6228, -5.6704, -5.7204, -5.773, -5.8576, -5.8874, -5.8874, -5.9828, -6.0167, -6.0167, -6.0518, -6.1259, -6.2059, -6.2059, -6.2485, -3.5491, -5.9182, -4.4352, -5.8286, -4.5477, -6.0167, -5.2568, -5.9182, -5.2251, -4.7888, -5.0145, -5.4521, -4.3214, -5.1213, -5.5338, -5.0935, -5.2896, -5.0145, -5.3586, -5.3586, -5.0019, -5.4719, -5.0532, -5.0532, -5.395, -5.1355, -5.1943, -5.3586, -5.395, -5.395], \"loglift\": [30.0, 29.0, 28.0, 27.0, 26.0, 25.0, 24.0, 23.0, 22.0, 21.0, 20.0, 19.0, 18.0, 17.0, 16.0, 15.0, 14.0, 13.0, 12.0, 11.0, 10.0, 9.0, 8.0, 7.0, 6.0, 5.0, 4.0, 3.0, 2.0, 1.0, 1.4368, 1.4368, 1.4368, 1.4368, 1.4368, 1.4368, 1.4368, 1.4368, 1.4368, 1.4368, 1.4368, 1.4368, 1.4368, 1.4368, 1.4368, 1.4368, 1.4368, 1.4368, 1.4368, 1.4368, 1.4368, 1.4368, 1.4368, 1.4368, 1.4368, 1.4368, 1.4368, 1.4368, 1.4368, 1.4368, 1.4368, 1.4368, 1.4368, 1.4368, 1.4368, 1.4368, 1.4368, 1.4368, 1.4368, 1.4368, 1.4368, 1.4368, 1.4368, 1.4368, 1.4368, 1.4368, 1.4368, 1.4368, 1.4368, 1.4368, 1.4368, 1.4234, 1.4368, 1.4368, 1.4368, 1.4225, 1.4217, 1.2894, 1.3527, 1.2313, 1.1432, 0.9635, 1.0152, 1.2224, 1.1995, 1.1419, 1.1144, 1.1102, 1.0516, 0.7121, 0.5735, 0.906, 0.1848, 0.6494, 0.5989, 0.8808, 0.0122, 1.5082, 1.5082, 1.5082, 1.5082, 1.5082, 1.5082, 1.5082, 1.5082, 1.5082, 1.5082, 1.5082, 1.5082, 1.5082, 1.5082, 1.5082, 1.5082, 1.5082, 1.5082, 1.5082, 1.5082, 1.5082, 1.5082, 1.5082, 1.5082, 1.5082, 1.5082, 1.5082, 1.5082, 1.5082, 1.5082, 1.5082, 1.5082, 1.5082, 1.5082, 1.5082, 1.5082, 1.5082, 1.5082, 1.5082, 1.5082, 1.5082, 1.5082, 1.5082, 1.5082, 1.5082, 1.5082, 1.5082, 1.5082, 1.5082, 1.5082, 1.4984, 1.5082, 1.5082, 1.5082, 1.5082, 1.5082, 1.4917, 1.4742, 1.4684, 1.3431, 1.2742, 1.2239, 1.2566, 1.0772, 1.336, 0.8294, 1.1629, 0.8732, 1.0333, 0.9068, 1.25, 0.8854, 1.1738, 0.8987, 0.9415, 0.9511, 1.0933, 0.6864, 0.3862, 0.3988, 0.2784, 0.9106, 0.4738, 0.764, 1.5422, 1.5422, 1.5422, 1.5422, 1.5422, 1.5422, 1.5422, 1.5422, 1.5422, 1.5422, 1.5422, 1.5422, 1.5422, 1.5422, 1.5422, 1.5422, 1.5422, 1.5422, 1.5422, 1.5422, 1.5422, 1.5422, 1.5422, 1.5422, 1.5422, 1.5422, 1.5422, 1.5422, 1.5422, 1.5422, 1.5422, 1.5422, 1.5422, 1.5422, 1.5422, 1.5422, 1.5422, 1.5422, 1.534, 1.5422, 1.5422, 1.5422, 1.5422, 1.5422, 1.5422, 1.5422, 1.5422, 1.5422, 1.5422, 1.5422, 1.532, 1.5422, 1.5422, 1.5422, 1.5422, 1.5422, 1.5422, 1.5422, 1.5221, 1.4991, 1.4992, 1.5053, 1.3495, 1.5178, 1.4058, 1.3664, 1.4842, 1.2516, 1.4051, 1.371, 1.0788, 1.3144, 1.3371, 1.024, 1.103, 1.2541, 1.1096, 1.1277, 0.5839, 0.9439, 0.7914, 1.2152, 0.4092, 0.7396, 0.9636, 0.885, 0.3711, 0.6614, 1.7816, 1.7816, 1.7816, 1.7816, 1.7816, 1.7816, 1.7816, 1.7816, 1.7816, 1.7816, 1.7816, 1.7816, 1.7816, 1.7816, 1.7816, 1.7816, 1.7816, 1.7816, 1.7816, 1.7816, 1.7816, 1.7816, 1.7816, 1.7816, 1.7816, 1.7816, 1.7816, 1.7816, 1.7816, 1.7816, 1.7816, 1.7816, 1.7816, 1.7816, 1.7816, 1.7816, 1.7816, 1.7816, 1.7816, 1.7816, 1.7816, 1.7816, 1.7816, 1.7816, 1.7816, 1.7816, 1.7816, 1.7816, 1.7816, 1.7816, 1.7816, 1.7816, 1.7816, 1.7816, 1.7816, 1.756, 1.6311, 1.7076, 1.4808, 1.62, 1.5783, 1.4076, 1.6559, 1.431, 1.2882, 1.5024, 1.3285, 1.3605, 0.7896, 1.2341, 0.6913, 0.8727, 0.8117, 0.4677, 0.8751, 0.6753, 0.5145, 0.0137, 0.2154, 0.9295, 0.7351, 1.8406, 1.8406, 1.8406, 1.8406, 1.8406, 1.8406, 1.8406, 1.8406, 1.8406, 1.8406, 1.8406, 1.8406, 1.8406, 1.8406, 1.8406, 1.8406, 1.8406, 1.8406, 1.8406, 1.8406, 1.8406, 1.8406, 1.8406, 1.8406, 1.8406, 1.8406, 1.8406, 1.8406, 1.8406, 1.8406, 1.8406, 1.8406, 1.8406, 1.8406, 1.8406, 1.8406, 1.8406, 1.8406, 1.8406, 1.8406, 1.8406, 1.8406, 1.8406, 1.8406, 1.8406, 1.8406, 1.8406, 1.8406, 1.8406, 1.8406, 1.8406, 1.7552, 1.8098, 1.6129, 1.7859, 1.5289, 1.8072, 1.627, 1.7809, 1.5582, 1.3917, 1.4517, 1.6006, 1.0857, 1.3577, 1.5506, 1.2331, 1.3545, 1.0913, 1.3488, 1.2677, 0.7734, 1.3738, 0.5955, 0.5948, 1.1776, 0.2648, 0.3935, 0.4699, 0.6284, 0.4631]}, \"token.table\": {\"Topic\": [4, 2, 2, 5, 5, 3, 4, 1, 4, 5, 1, 2, 3, 5, 5, 2, 1, 2, 2, 4, 2, 3, 4, 5, 5, 1, 2, 5, 1, 5, 4, 1, 1, 2, 2, 1, 3, 4, 4, 4, 1, 5, 1, 2, 3, 1, 2, 1, 2, 3, 3, 5, 3, 4, 4, 3, 4, 5, 3, 2, 1, 2, 4, 2, 4, 5, 4, 3, 3, 1, 2, 3, 4, 4, 4, 1, 2, 3, 4, 1, 5, 4, 5, 3, 2, 5, 2, 3, 3, 3, 4, 5, 4, 5, 4, 5, 4, 4, 2, 2, 4, 1, 4, 5, 4, 1, 3, 4, 1, 2, 3, 4, 1, 3, 2, 3, 1, 1, 2, 4, 5, 2, 4, 5, 5, 2, 4, 4, 1, 4, 5, 1, 4, 3, 2, 3, 1, 2, 5, 1, 3, 5, 2, 2, 3, 4, 5, 1, 1, 1, 3, 3, 2, 3, 2, 2, 1, 3, 4, 3, 4, 5, 2, 5, 5, 3, 1, 5, 2, 5, 4, 2, 1, 2, 1, 3, 5, 4, 1, 1, 2, 3, 4, 2, 4, 1, 3, 2, 3, 5, 3, 3, 1, 2, 3, 4, 2, 1, 2, 3, 4, 5, 3, 5, 1, 5, 4, 3, 3, 4, 2, 3, 4, 3, 3, 3, 4, 5, 1, 3, 4, 4, 5, 1, 3, 2, 3, 4, 4, 3, 3, 4, 3, 5, 5, 2, 3, 4, 5, 2, 4, 5, 3, 2, 3, 3, 5, 5, 4, 1, 3, 5, 2, 2, 5, 3, 5, 2, 4, 5, 5, 2, 1, 2, 3, 4, 5, 3, 5, 4, 5, 1, 2, 3, 5, 2, 1, 1, 2, 1, 4, 1, 4, 3, 3, 5, 4, 3, 3, 5, 1, 1, 4, 3, 4, 1, 2, 3, 1, 3, 4, 3, 2, 5, 3, 1, 2, 4, 5, 2, 2, 1, 3, 4, 1, 4, 2, 4, 1, 1, 4, 2, 3, 3, 2, 3, 5, 1, 1, 3, 4, 2, 3, 4, 5, 5, 3, 5, 4, 3, 2, 3, 1, 5, 5, 2, 2, 1, 4, 4, 1, 5, 4, 1, 3, 4, 1, 4, 2, 1, 2, 4, 2, 1, 3, 1, 2, 4, 5, 1, 1, 2, 2, 5, 3, 5, 3, 5, 3, 2, 2, 3, 4, 3, 4, 1, 2, 5, 1, 3, 1, 3, 2, 2, 2, 2, 5, 1, 1, 1, 1, 1, 4, 2, 3, 5, 5, 1, 3, 2, 5, 5, 4, 1, 5, 1, 3, 4, 2, 2, 3, 5, 2, 4, 4, 1, 5, 1, 4, 5, 4, 1, 2, 4, 1, 1, 2, 4, 5, 3, 1, 2, 4, 1, 2, 4, 5, 1, 2, 4, 5, 1, 5, 1, 2, 4, 1, 1, 4, 1, 2, 3, 2, 1, 2, 3, 4, 2, 1, 5, 4, 5, 3, 5, 3, 2, 3, 5, 2, 3, 5, 4, 2, 3, 2, 5, 3, 5, 2, 2, 3, 3, 1, 3, 4, 5, 1, 3, 4, 4, 4, 1, 5, 3, 4, 4, 3, 4, 4, 1, 4, 1, 4, 2, 5, 4, 3, 2, 5, 5, 3, 5, 4, 2, 2, 5, 2, 4, 1, 5, 3, 4, 2, 3, 5, 3, 5, 1, 2, 3, 4, 5, 2, 3, 4, 2, 2, 1, 2, 3, 5, 1, 2, 3, 5], \"Freq\": [0.9573472857091513, 1.0169484918660332, 0.9900374495130121, 0.015714880151000192, 0.9990937885640061, 1.0027477943420715, 1.0211704380897613, 1.009091352687783, 0.02906290656692042, 0.9590759167083738, 0.9926780255458215, 0.9989400289892388, 0.9704010912987789, 0.9974952385023039, 0.959130037021446, 1.0169484918660332, 0.7187999502406419, 0.27953331398247183, 0.419784091990548, 0.5805524676465026, 1.004108233130351, 0.9704010912987789, 0.3833788628898245, 0.6167399098662394, 1.0037407364177924, 0.9742950991468249, 0.9745756380382818, 0.959130037021446, 1.006771602451719, 1.0096105652857326, 1.037126226184914, 0.9954754273891471, 0.9742950991468249, 0.9745756380382818, 0.9977798198963361, 0.9930315433611869, 1.0007261254018656, 0.9882294562158981, 1.0040471533047197, 0.9573472857091513, 0.03198759763986252, 0.9596279291958754, 0.20370133095610068, 0.6210406431588436, 0.1738913800844762, 0.7211890181714882, 0.27620004951248484, 0.9742950991468249, 1.0169484918660332, 0.9704010912987789, 0.7993526802492021, 0.20427901828590722, 0.9704010912987789, 0.9573472857091514, 0.9573472857091514, 0.9704010912987789, 0.2675309594268971, 0.7301365767692399, 1.018921145863718, 0.9957620649521576, 0.430572816460912, 0.5665431795538316, 1.0136618319273367, 1.0002223653550788, 0.9573472857091513, 0.9591300370214458, 1.0105332460263265, 0.9704010912987789, 0.9989422998663903, 0.11871420413381653, 0.07810145008803719, 0.5966950786726042, 0.2093118862359397, 0.9972367559470326, 0.9941683351595033, 0.1976229670203918, 0.5731066043591363, 0.2075041153714114, 0.019762296702039182, 1.000509317061089, 0.9953236233241421, 1.0029352516953014, 0.9974952385023039, 0.9704010912987789, 1.0009155201474245, 0.959130037021446, 1.0076121003446643, 0.9910479230285402, 0.9973566771681895, 0.9704010912987789, 0.9903592610784324, 0.959130037021446, 1.0005358850644512, 0.9881945835978533, 0.9573472857091514, 0.959130037021446, 0.9573472857091513, 1.0022229397267677, 1.0076121003446643, 0.776594906873663, 0.22546303747945054, 0.10169581213572781, 0.14689395086271795, 0.7570688236770848, 0.9863578095185197, 0.5856415331627439, 0.18891662360088515, 0.22669994832106216, 0.24015300699638248, 0.3259219380665191, 0.16581993340226409, 0.268742650686428, 0.9992770247659741, 0.9966281478203676, 0.9926233350389908, 0.9998071849744996, 0.9742950991468249, 0.9992770247659741, 0.8505248413816879, 0.11340331218422506, 0.04050118292293752, 1.0169484918660332, 1.0029352516953014, 0.959130037021446, 0.9865337523649158, 0.11512589497810234, 0.8826318614987847, 0.9972367559470326, 1.0057239733128513, 1.0023989226836996, 0.987339743992665, 1.0206901038681022, 0.9573472857091513, 0.9704010912987789, 0.7728781230174903, 0.23085969908314646, 0.16349711796475763, 0.5486236625039644, 0.2870282737603523, 0.054940792956772184, 0.9523070779173846, 0.9922034865739097, 0.9745756380382818, 0.291614092190808, 0.2044650531452792, 0.3351886117135725, 0.16759430585678625, 0.9742950991468249, 1.0033785349422524, 0.9964381695819798, 1.002569083275534, 1.0027477943420715, 0.35603705739768865, 0.6447157525850038, 0.9995647569623404, 1.0081816945223605, 0.0410097886020447, 0.9568950673810429, 0.9573472857091513, 0.6293623505472217, 0.371162411861182, 0.994653371725944, 0.08239314028187747, 0.9191984712696956, 1.01097490388747, 0.9946611185812485, 0.86215425353046, 0.13757780641443512, 0.4580325145281285, 0.5439136110021526, 0.9956411771375173, 0.9745756380382818, 1.0057239733128513, 0.9745756380382818, 1.0013588519009033, 0.20709994737579723, 0.7840212293512323, 0.9573472857091513, 1.0026726263064412, 0.9742950991468249, 0.9745756380382818, 0.8392342121775542, 0.16139119464952967, 0.1429420639834744, 0.8576523839008463, 1.0035972073918422, 0.9704010912987789, 0.9995647569623404, 0.9906177807008368, 0.959130037021446, 0.995937962122431, 1.001704352308417, 1.001740031517158, 0.5065936734370406, 0.32274919517359846, 0.171588179712546, 0.9953112899114367, 0.28528114485148304, 0.12258174192837161, 0.3833465383941803, 0.10475167037515391, 0.10252291143100171, 0.9704010912987789, 0.959130037021446, 0.18741177894692423, 0.812117708770005, 1.0136618319273367, 0.9943616120715885, 0.3103799019630526, 0.6888919775277509, 0.5514506013987275, 0.45188313170173505, 0.9903592610784324, 0.9704010912987789, 0.9704010912987789, 0.2612732242972774, 0.7079661561603645, 0.0337126741028745, 0.20600376261690714, 0.416912376724693, 0.3776735647976631, 0.9232788908036159, 0.06839102894841599, 0.9879617276580448, 0.013721690661917288, 1.0169484918660332, 0.25892247156094667, 0.7426986684248207, 1.0090957876393758, 0.9704010912987789, 0.8706299199889546, 0.1226239323928105, 0.32092063456410586, 0.6747562060065815, 1.0027268568860572, 0.0805236446703019, 0.5485673293164317, 0.1811782005081793, 0.19124365609196703, 0.14544217929305853, 0.8435646398997395, 0.959130037021446, 0.9704010912987789, 0.9745756380382818, 0.9704010912987789, 0.9937843573087799, 0.007825073679596693, 0.959130037021446, 0.9903592610784324, 1.0041204593247888, 0.9989422998663903, 0.9990937885640061, 0.9745756380382818, 0.997417254554804, 0.998763509625638, 0.8102194761225645, 0.18773378105278934, 0.1555931438706831, 0.32949136349085834, 0.5125421209857797, 0.9950974134097501, 0.9745756380382818, 0.060137594833302076, 0.024055037933320828, 0.16838526553324581, 0.10824767069994373, 0.6254309862663415, 0.9704010912987789, 0.996019653829963, 0.6592412608557264, 0.33992127512873394, 0.9933989246202919, 0.5416386610410894, 0.4467530561871759, 0.007907133737826123, 0.9745756380382818, 1.003819193060365, 0.7437471822321493, 0.2536812094435238, 0.9742950991468249, 0.9573472857091513, 0.9883656604827183, 0.014324140006995919, 0.9704010912987789, 1.0084560360555939, 1.0083161927661355, 1.0105332460263265, 1.018921145863718, 0.8748897761392574, 0.1317038372682753, 0.9742950991468249, 0.9983517682615612, 1.0120528448925314, 0.6479530727667396, 0.34842759573305815, 0.9742950991468248, 1.0024206562679472, 1.018921145863718, 0.9923376009828772, 0.841996738633721, 0.16138270823812986, 1.0010453362871614, 0.9552421453322478, 0.03746047628753913, 0.9952831705628503, 0.7861410371103615, 0.03533218144316232, 0.00883304536079058, 0.167827861855021, 1.005031126726978, 1.002420656267947, 0.23885891232442263, 0.563972431877109, 0.19904909360368553, 0.986802626480934, 0.012732937115883018, 0.2492892680471409, 0.759738721667477, 0.9986524766254955, 0.36343380357584876, 0.6338961690276431, 0.993457944267187, 0.009461504231116068, 1.018921145863718, 0.3233337842233344, 0.5209266523598166, 0.15567922944086474, 1.0032345575373245, 0.9742950991468249, 0.9924556615555694, 1.0052146499946089, 0.3281960365461434, 0.31110249297603176, 0.1264922224188261, 0.23589090126754056, 0.959130037021446, 0.9704010912987789, 0.9974952385023039, 1.0136618319273367, 0.9924556615555694, 0.009902484776576927, 0.9902484776576927, 0.05647111877621267, 0.9317734598075091, 1.0390575401065663, 1.0169484918660332, 0.9926233350389908, 1.0062392007581962, 1.0136618319273367, 0.9872643883875623, 0.9989607978594026, 0.959130037021446, 0.9892588618994563, 0.4218621511078249, 0.17577589629492704, 0.40428456147833214, 0.9923376009828772, 1.0136618319273367, 0.9919787744318226, 0.48293531763194664, 0.43936220626665823, 0.07625294488925473, 0.9995647569623404, 1.006771602451719, 0.9704010912987789, 0.3232152334709038, 0.65079824036709, 0.0262066405516949, 0.959130037021446, 0.9742950991468249, 0.2916368043736777, 0.7113092789601896, 0.9957620649521576, 0.9974952385023039, 1.0050582731308781, 0.9922034865739097, 0.38342142694744374, 0.6193730742997168, 1.001503690378868, 1.0188745306763856, 1.0169484918660332, 0.7531658769691858, 0.24820239127393623, 0.9891641001413257, 0.01902238654117934, 0.1360445471127095, 0.22880219287137507, 0.6369358342095036, 0.9742950991468249, 1.001207475149534, 0.03529244167798084, 0.9705421461444731, 0.9983457755514107, 0.9926233350389908, 0.9745756380382818, 1.0169484918660332, 0.959130037021446, 0.9742950991468249, 0.9742950991468249, 0.9742950991468249, 1.009091352687783, 0.741275892947218, 0.2523492401522444, 0.9744359079040561, 0.0324811969301352, 0.959130037021446, 0.9933846812007833, 0.8050458563389264, 0.1965809649199704, 0.9975068295215355, 0.9982782017978317, 1.0008313429789, 0.9872643883875623, 1.0255737885756053, 0.9911010382554942, 0.9972196897149855, 0.9966281478203676, 0.9915382601987638, 0.9972401877601024, 0.01047340945352867, 0.3770427403270321, 0.6074577483046628, 0.8456357370876707, 0.16407857585283162, 1.006865248763073, 0.9983517682615612, 0.959130037021446, 0.38968085707046934, 0.6101581840971823, 0.9933846812007833, 0.9972367559470326, 0.9742950991468249, 1.0002223653550788, 1.0040471533047197, 0.9916932259173039, 0.017217338885936573, 0.3271294388327949, 0.17791250182134458, 0.4706072628822663, 0.9981268367644582, 0.011425643526712144, 0.7940822251064941, 0.19423593995410646, 0.45690400375964046, 0.17190447666204295, 0.33023754727181936, 0.040714218156799646, 0.8125978648288766, 0.18485638631178236, 0.8190643064959192, 0.18901483996059676, 1.0166557556314693, 0.9967429796497379, 0.677286807735576, 0.22336054297662614, 0.10087250327976664, 0.9742950991468249, 0.5730765673237321, 0.4298074254927991, 0.5252238102033666, 0.4768479329477934, 0.9704010912987789, 0.9745756380382818, 0.05674946990397243, 0.750839140267943, 0.1658830658731502, 0.02182671919383555, 1.003239627392349, 0.9974926015074634, 0.9865337523649158, 0.20583696283908415, 0.7962640404564572, 0.7480661136214778, 0.2508485171425315, 1.0070200004043932, 0.9745756380382818, 0.24430924445061689, 0.7481970611300142, 0.7138187523015778, 0.2839051855744912, 1.0059168680956627, 0.9882294562158981, 0.33743665858963506, 0.6613758508356847, 0.6591448906760221, 0.3412044139969997, 0.9704010912987789, 0.999944081150018, 1.0188745306763856, 0.1753434417151828, 0.8227653803558577, 0.9966281478203677, 0.005284661809114371, 0.29594106131040476, 0.4016342974926922, 0.29594106131040476, 0.9742950991468249, 0.9563799393872713, 0.04041041997411005, 0.9573472857091513, 0.992804592587268, 0.4345848456208434, 0.5601315788001981, 0.024555836155403566, 0.9822334462161427, 1.0008630714232036, 0.995937962122431, 0.9573472857091513, 0.992804592587268, 0.9933989246202919, 0.9573472857091513, 0.9188765800848622, 0.07721651933486237, 1.0188745306763856, 0.994007492913135, 0.992804592587268, 0.9704010912987789, 0.5307394052475668, 0.47081721433251894, 0.9881945835978533, 0.9701296552409474, 0.02309832512478446, 0.9892588618994563, 0.9995647569623404, 0.05188931929598436, 0.9340077473277185, 1.0024206562679472, 0.9903592610784324, 0.6556747101102116, 0.34227044615816077, 0.7181647983046471, 0.276217230117172, 0.5373442014382682, 0.17427379506105997, 0.2868256210379945, 0.9704010912987789, 0.959130037021446, 0.42228295267701565, 0.1813832816867718, 0.09919398217245334, 0.0906916408433859, 0.2068903056739741, 0.2474787820495108, 0.47279528510951313, 0.28072220053377345, 1.0024206562679472, 0.9745756380382818, 0.6219621864188348, 0.1892928393448628, 0.18027889461415503, 0.009013944730707752, 0.2957477154194261, 0.2870492532012077, 0.1652707821461499, 0.25225540432833404], \"Term\": [\"abolish\", \"accident\", \"account\", \"account\", \"act\", \"action\", \"advance\", \"africa\", \"agricultural\", \"agricultural\", \"air\", \"ambedkar\", \"ambition\", \"america\", \"amrit\", \"andhra\", \"anniversary\", \"anniversary\", \"app\", \"app\", \"april\", \"apt\", \"area\", \"area\", \"art\", \"article\", \"asia\", \"assure\", \"august\", \"auspicious\", \"avenue\", \"award\", \"awe\", \"bangladesh\", \"bank\", \"bapu\", \"barack\", \"basis\", \"battle\", \"bed\", \"bhai\", \"bhai\", \"big\", \"big\", \"big\", \"birth\", \"birth\", \"birthday\", \"black\", \"ble\", \"book\", \"book\", \"brain\", \"brand\", \"brilliant\", \"broad\", \"brother\", \"brother\", \"burden\", \"business\", \"campaign\", \"campaign\", \"capable\", \"card\", \"careless\", \"carpet\", \"category\", \"celebrity\", \"channel\", \"child\", \"child\", \"child\", \"child\", \"childhood\", \"circumstance\", \"citizen\", \"citizen\", \"citizen\", \"citizen\", \"cleanliness\", \"close\", \"collective\", \"company\", \"concrete\", \"congratulate\", \"consent\", \"conservation\", \"constitution\", \"conversation\", \"conviction\", \"core\", \"corn\", \"corona\", \"cost\", \"cover\", \"craft\", \"cricketer\", \"crisis\", \"crop\", \"crore\", \"crore\", \"culture\", \"culture\", \"culture\", \"daily\", \"daughter\", \"daughter\", \"daughter\", \"day\", \"day\", \"day\", \"day\", \"dedicated\", \"democracy\", \"department\", \"desire\", \"despair\", \"dev\", \"development\", \"development\", \"development\", \"dhan\", \"digital\", \"dimension\", \"disaster\", \"disease\", \"disease\", \"distance\", \"diwali\", \"doctor\", \"dr\", \"drive\", \"dubai\", \"dustbin\", \"education\", \"education\", \"effort\", \"effort\", \"effort\", \"election\", \"election\", \"electricity\", \"enterprise\", \"entire\", \"entire\", \"entire\", \"entire\", \"entry\", \"episode\", \"event\", \"exam\", \"examination\", \"experience\", \"experience\", \"experiment\", \"facility\", \"faith\", \"faith\", \"fall\", \"family\", \"family\", \"farm\", \"farmer\", \"farmer\", \"farming\", \"feeling\", \"festival\", \"festival\", \"field\", \"field\", \"fight\", \"final\", \"fit\", \"flow\", \"force\", \"form\", \"form\", \"foster\", \"freedom\", \"fulfillment\", \"fund\", \"future\", \"future\", \"game\", \"game\", \"gandhi\", \"gap\", \"gift\", \"girl\", \"gita\", \"goal\", \"god\", \"gold\", \"good\", \"good\", \"good\", \"government\", \"great\", \"great\", \"great\", \"great\", \"great\", \"grief\", \"guide\", \"gujarat\", \"gujarat\", \"gupta\", \"habit\", \"hand\", \"hand\", \"happy\", \"happy\", \"hardship\", \"hash\", \"hashtag\", \"health\", \"health\", \"health\", \"heart\", \"heart\", \"heart\", \"height\", \"height\", \"history\", \"history\", \"holiday\", \"home\", \"home\", \"hospital\", \"hospitality\", \"hour\", \"hour\", \"house\", \"house\", \"hundred\", \"important\", \"important\", \"important\", \"important\", \"innovation\", \"innovation\", \"inquisitiveness\", \"intention\", \"interact\", \"interaction\", \"issue\", \"issue\", \"joint\", \"karnataka\", \"khadi\", \"kid\", \"king\", \"kumar\", \"lakh\", \"land\", \"language\", \"language\", \"large\", \"large\", \"large\", \"law\", \"learning\", \"light\", \"light\", \"light\", \"light\", \"light\", \"lion\", \"listener\", \"local\", \"local\", \"lord\", \"lot\", \"lot\", \"lot\", \"low\", \"mahatma\", \"man\", \"man\", \"mandela\", \"manifold\", \"mantra\", \"mantra\", \"mar\", \"mark\", \"market\", \"mask\", \"masse\", \"matter\", \"matter\", \"meal\", \"medal\", \"medical\", \"medium\", \"medium\", \"memorable\", \"method\", \"milk\", \"million\", \"mind\", \"mind\", \"minister\", \"ministry\", \"ministry\", \"minute\", \"mission\", \"mission\", \"mission\", \"mission\", \"mobile\", \"money\", \"mother\", \"mother\", \"mother\", \"movement\", \"movement\", \"namaskar\", \"namaskar\", \"nanak\", \"nature\", \"nature\", \"news\", \"news\", \"nice\", \"number\", \"number\", \"number\", \"october\", \"odd\", \"officer\", \"online\", \"opportunity\", \"opportunity\", \"opportunity\", \"opportunity\", \"ordinance\", \"page\", \"painting\", \"pandemic\", \"paper\", \"parent\", \"parent\", \"parliament\", \"parliament\", \"participant\", \"participate\", \"participation\", \"patel\", \"patient\", \"payment\", \"peace\", \"pencil\", \"percent\", \"person\", \"person\", \"person\", \"personality\", \"personnel\", \"picture\", \"place\", \"place\", \"place\", \"plan\", \"plastic\", \"politician\", \"poor\", \"poor\", \"poor\", \"popularity\", \"position\", \"power\", \"power\", \"pradhan\", \"prasad\", \"president\", \"price\", \"pride\", \"pride\", \"prime\", \"priority\", \"prize\", \"problem\", \"problem\", \"process\", \"process\", \"programme\", \"programme\", \"programme\", \"provision\", \"question\", \"radio\", \"radio\", \"railway\", \"rain\", \"raksha\", \"real\", \"realization\", \"registration\", \"religious\", \"reply\", \"republic\", \"resolve\", \"resolve\", \"responsibility\", \"responsibility\", \"rice\", \"road\", \"role\", \"role\", \"rupee\", \"safety\", \"sahib\", \"sake\", \"sale\", \"sanskrit\", \"sardar\", \"satellite\", \"scale\", \"scheme\", \"science\", \"science\", \"science\", \"season\", \"season\", \"sector\", \"sense\", \"sentence\", \"service\", \"service\", \"session\", \"sheer\", \"shopping\", \"short\", \"shriman\", \"single\", \"sister\", \"sister\", \"sister\", \"sister\", \"sleep\", \"small\", \"small\", \"small\", \"social\", \"social\", \"social\", \"social\", \"society\", \"society\", \"son\", \"son\", \"soul\", \"space\", \"special\", \"special\", \"special\", \"spectator\", \"spirit\", \"spirit\", \"sport\", \"sport\", \"sportsman\", \"spot\", \"state\", \"state\", \"state\", \"state\", \"station\", \"statue\", \"stone\", \"story\", \"story\", \"student\", \"student\", \"study\", \"stump\", \"subject\", \"subject\", \"suggestion\", \"suggestion\", \"tamil\", \"tax\", \"teacher\", \"teacher\", \"technology\", \"technology\", \"telling\", \"temple\", \"theme\", \"thing\", \"thing\", \"thought\", \"time\", \"time\", \"time\", \"time\", \"title\", \"topic\", \"topic\", \"towel\", \"toy\", \"tradition\", \"tradition\", \"traditional\", \"traditional\", \"train\", \"travel\", \"traveller\", \"treatment\", \"tribute\", \"triumph\", \"unity\", \"unity\", \"uttar\", \"vegetable\", \"video\", \"vidyalaya\", \"village\", \"village\", \"villager\", \"voice\", \"voice\", \"warrior\", \"water\", \"website\", \"website\", \"welfare\", \"witness\", \"woman\", \"woman\", \"word\", \"word\", \"work\", \"work\", \"work\", \"worried\", \"writer\", \"year\", \"year\", \"year\", \"year\", \"year\", \"yoga\", \"yoga\", \"yoga\", \"yojana\", \"yojna\", \"young\", \"young\", \"young\", \"young\", \"youth\", \"youth\", \"youth\", \"youth\"]}, \"R\": 30, \"lambda.step\": 0.01, \"plot.opts\": {\"xlab\": \"PC1\", \"ylab\": \"PC2\"}, \"topic.order\": [4, 1, 2, 3, 5]};\n",
       "\n",
       "function LDAvis_load_lib(url, callback){\n",
       "  var s = document.createElement('script');\n",
       "  s.src = url;\n",
       "  s.async = true;\n",
       "  s.onreadystatechange = s.onload = callback;\n",
       "  s.onerror = function(){console.warn(\"failed to load library \" + url);};\n",
       "  document.getElementsByTagName(\"head\")[0].appendChild(s);\n",
       "}\n",
       "\n",
       "if(typeof(LDAvis) !== \"undefined\"){\n",
       "   // already loaded: just create the visualization\n",
       "   !function(LDAvis){\n",
       "       new LDAvis(\"#\" + \"ldavis_el2097620086779857445009381882\", ldavis_el2097620086779857445009381882_data);\n",
       "   }(LDAvis);\n",
       "}else if(typeof define === \"function\" && define.amd){\n",
       "   // require.js is available: use it to load d3/LDAvis\n",
       "   require.config({paths: {d3: \"https://d3js.org/d3.v5\"}});\n",
       "   require([\"d3\"], function(d3){\n",
       "      window.d3 = d3;\n",
       "      LDAvis_load_lib(\"https://cdn.jsdelivr.net/gh/bmabey/pyLDAvis@3.3.1/pyLDAvis/js/ldavis.v3.0.0.js\", function(){\n",
       "        new LDAvis(\"#\" + \"ldavis_el2097620086779857445009381882\", ldavis_el2097620086779857445009381882_data);\n",
       "      });\n",
       "    });\n",
       "}else{\n",
       "    // require.js not available: dynamically load d3 & LDAvis\n",
       "    LDAvis_load_lib(\"https://d3js.org/d3.v5.js\", function(){\n",
       "         LDAvis_load_lib(\"https://cdn.jsdelivr.net/gh/bmabey/pyLDAvis@3.3.1/pyLDAvis/js/ldavis.v3.0.0.js\", function(){\n",
       "                 new LDAvis(\"#\" + \"ldavis_el2097620086779857445009381882\", ldavis_el2097620086779857445009381882_data);\n",
       "            })\n",
       "         });\n",
       "}\n",
       "</script>"
      ],
      "text/plain": [
       "PreparedData(topic_coordinates=              x         y  topics  cluster       Freq\n",
       "topic                                                \n",
       "3     -0.140272 -0.281920       1        1  23.769521\n",
       "0     -0.027107 -0.144150       2        1  22.130529\n",
       "1     -0.069153  0.193702       3        1  21.390981\n",
       "2     -0.146513  0.224839       4        1  16.837108\n",
       "4      0.383044  0.007529       5        1  15.871860, topic_info=            Term        Freq       Total Category  logprob  loglift\n",
       "75        farmer  388.000000  388.000000  Default  30.0000  30.0000\n",
       "251        water  400.000000  400.000000  Default  29.0000  29.0000\n",
       "74        family  371.000000  371.000000  Default  28.0000  28.0000\n",
       "246      village  350.000000  350.000000  Default  27.0000  27.0000\n",
       "76      festival  327.000000  327.000000  Default  26.0000  26.0000\n",
       "..           ...         ...         ...      ...      ...      ...\n",
       "530         year   72.982805  352.843985   Topic5  -5.1355   0.2648\n",
       "431  opportunity   68.812359  292.508103   Topic5  -5.1943   0.3935\n",
       "257        youth   58.386244  229.925698   Topic5  -5.3586   0.4699\n",
       "496         time   56.301021  189.226868   Topic5  -5.3950   0.6284\n",
       "220      student   56.301021  223.242300   Topic5  -5.3950   0.4631\n",
       "\n",
       "[441 rows x 6 columns], token_table=      Topic      Freq      Term\n",
       "term                           \n",
       "0         4  0.957347   abolish\n",
       "1850      2  1.016948  accident\n",
       "1670      2  0.990037   account\n",
       "1670      5  0.015715   account\n",
       "1301      5  0.999094       act\n",
       "...     ...       ...       ...\n",
       "531       5  0.009014     young\n",
       "257       1  0.295748     youth\n",
       "257       2  0.287049     youth\n",
       "257       3  0.165271     youth\n",
       "257       5  0.252255     youth\n",
       "\n",
       "[555 rows x 3 columns], R=30, lambda_step=0.01, plot_opts={'xlab': 'PC1', 'ylab': 'PC2'}, topic_order=[4, 1, 2, 3, 5])"
      ]
     },
     "execution_count": 15,
     "metadata": {},
     "output_type": "execute_result"
    }
   ],
   "source": [
    "pyLDAvis.enable_notebook()\n",
    "vis = gensimvis.prepare(mallet_lda_model, corpus, id2word)\n",
    "vis"
   ]
  },
  {
   "cell_type": "code",
   "execution_count": 16,
   "metadata": {},
   "outputs": [
    {
     "name": "stdout",
     "output_type": "stream",
     "text": [
      "[4, 1, 2, 3, 5]\n"
     ]
    },
    {
     "name": "stderr",
     "output_type": "stream",
     "text": [
      "C:\\Users\\anush\\anaconda3\\envs\\nlp\\lib\\site-packages\\ipykernel\\ipkernel.py:287: DeprecationWarning: `should_run_async` will not call `transform_cell` automatically in the future. Please pass the result to `transformed_cell` argument and any exception that happen during thetransform in `preprocessing_exc_tuple` in IPython 7.17 and above.\n",
      "  and should_run_async(code)\n"
     ]
    }
   ],
   "source": [
    "print(vis.topic_order)"
   ]
  },
  {
   "cell_type": "code",
   "execution_count": 12,
   "metadata": {},
   "outputs": [
    {
     "name": "stdout",
     "output_type": "stream",
     "text": [
      "[2, 7, 9, 4, 8, 5, 3, 6, 1]\n"
     ]
    },
    {
     "name": "stderr",
     "output_type": "stream",
     "text": [
      "C:\\Users\\anush\\anaconda3\\envs\\nlp\\lib\\site-packages\\ipykernel\\ipkernel.py:287: DeprecationWarning: `should_run_async` will not call `transform_cell` automatically in the future. Please pass the result to `transformed_cell` argument and any exception that happen during thetransform in `preprocessing_exc_tuple` in IPython 7.17 and above.\n",
      "  and should_run_async(code)\n"
     ]
    }
   ],
   "source": [
    "print(vis.topic_order)"
   ]
  },
  {
   "cell_type": "code",
   "execution_count": null,
   "metadata": {},
   "outputs": [],
   "source": [
    "ldamallet = gensim.models.wrappers.LdaMallet(\n",
    "   mallet_path, corpus=corpus, num_topics=10, id2word=id2word\n",
    ")\n",
    "pprint(ldamallet.show_topics(formatted=False))"
   ]
  },
  {
   "cell_type": "code",
   "execution_count": null,
   "metadata": {},
   "outputs": [],
   "source": [
    "coherence = []\n",
    "for k in range(2,16):\n",
    "    print('Round: '+str(k))\n",
    "#     Lda = gensim.models.ldamodel.LdaModel\n",
    "#     ldamodel = Lda(doc_term_matrix, num_topics=k, id2word = dictionary, passes=40,\\\n",
    "#                    iterations=200, chunksize = 10000, eval_every = None)\n",
    "    ldamallet = gensim.models.wrappers.LdaMallet(\n",
    "       mallet_path, corpus=corpus, id2word=id2word)\n",
    "    \n",
    "    cm = gensim.models.coherencemodel.CoherenceModel(model=ldamallet, texts=data_lemma,\\\n",
    "                                                     dictionary=id2word, coherence='c_v')\n",
    "    coherence.append((k,cm.get_coherence()))"
   ]
  },
  {
   "cell_type": "code",
   "execution_count": null,
   "metadata": {},
   "outputs": [],
   "source": [
    "x_val = [x[0] for x in coherence]\n",
    "y_val = [x[1] for x in coherence]"
   ]
  },
  {
   "cell_type": "code",
   "execution_count": null,
   "metadata": {},
   "outputs": [],
   "source": [
    "plt.figure(figsize=(12, 6))\n",
    "plt.plot(x_val,y_val)\n",
    "plt.scatter(x_val,y_val)\n",
    "plt.title('Number of Topics vs. Coherence')\n",
    "plt.xlabel('Number of Topics')\n",
    "plt.ylabel('Coherence')\n",
    "plt.xticks(x_val)\n",
    "plt.savefig('Images/no_of_topics.png')\n",
    "plt.show()"
   ]
  },
  {
   "cell_type": "code",
   "execution_count": null,
   "metadata": {},
   "outputs": [],
   "source": []
  },
  {
   "cell_type": "code",
   "execution_count": null,
   "metadata": {},
   "outputs": [],
   "source": [
    "weights_output = pd.DataFrame(columns = ['topic', 'prob_weight', 'doc_id'])\n",
    "weights_output"
   ]
  }
 ],
 "metadata": {
  "language_info": {
   "codemirror_mode": {
    "name": "ipython",
    "version": 3
   },
   "file_extension": ".py",
   "mimetype": "text/x-python",
   "name": "python",
   "nbconvert_exporter": "python",
   "pygments_lexer": "ipython3",
   "version": "3.8.5"
  }
 },
 "nbformat": 4,
 "nbformat_minor": 4
}
