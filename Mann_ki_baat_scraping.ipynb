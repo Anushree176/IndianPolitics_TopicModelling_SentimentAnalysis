{
 "cells": [
  {
   "cell_type": "code",
   "execution_count": 1,
   "metadata": {},
   "outputs": [],
   "source": [
    "#pip install selenium\n",
    "\n",
    "import os\n",
    "from selenium import webdriver\n",
    "from selenium.webdriver.common.keys import Keys\n",
    "import time"
   ]
  },
  {
   "cell_type": "code",
   "execution_count": 2,
   "metadata": {},
   "outputs": [],
   "source": [
    "chromedriver = \"C:/Users/anush/Downloads/chromedriver_win32/chromedriver\"\n",
    "os.environ[\"webdriver.chrome.driver\"] = chromedriver\n",
    "driver = webdriver.Chrome(chromedriver)\n",
    "driver.get(\"https://www.pmindia.gov.in/en/mann-ki-baat/\")\n",
    "\n",
    "ScrollNumber = 30\n",
    "for i in range(1,ScrollNumber):\n",
    "    driver.execute_script(\"window.scrollTo(1,50000)\")\n",
    "    time.sleep(5)"
   ]
  },
  {
   "cell_type": "code",
   "execution_count": 3,
   "metadata": {},
   "outputs": [],
   "source": [
    "file = open('DS.html', 'w', encoding='utf-8')\n",
    "file.write(driver.page_source)\n",
    "file.close()\n",
    "\n",
    "driver.close()"
   ]
  },
  {
   "cell_type": "code",
   "execution_count": 4,
   "metadata": {},
   "outputs": [
    {
     "data": {
      "text/plain": [
       "74"
      ]
     },
     "execution_count": 4,
     "metadata": {},
     "output_type": "execute_result"
    }
   ],
   "source": [
    "import urllib.request\n",
    "import requests\n",
    "from bs4 import BeautifulSoup\n",
    "\n",
    "with open('DS.html', 'r', encoding='utf-8') as f:\n",
    "    page = f.read()\n",
    "\n",
    "parser = BeautifulSoup(page, 'html.parser')\n",
    "\n",
    "links = []\n",
    "for i in parser.find_all('div', attrs={'class' : 'mkb-news-wrapper'}):\n",
    "    links.append(i.a['href'])\n",
    "\n",
    "len(links)"
   ]
  },
  {
   "cell_type": "code",
   "execution_count": 5,
   "metadata": {},
   "outputs": [],
   "source": [
    "def save_html(html, path):\n",
    "    with open(path, 'wb') as f:\n",
    "        f.write(html)\n",
    "        \n",
    "def open_html(path):\n",
    "    with open(path, 'rb') as f:\n",
    "        return f.read()"
   ]
  },
  {
   "cell_type": "code",
   "execution_count": 6,
   "metadata": {},
   "outputs": [],
   "source": [
    "for i in range(len(links)) :\n",
    "    speech_response =  requests.get(links[i])\n",
    "    speech_content = speech_response.content\n",
    "#     file = open('All_speech/speech'+str(i)+'.html', 'w', encoding='utf-8')\n",
    "#     file.write(speech_response.content)\n",
    "#     file.close()\n",
    "\n",
    "#     with open('All_speech/speech'+str(i)+'.html', \"w\", encoding='utf-8') as f:\n",
    "#       f.write(speech_response.content)\n",
    "    \n",
    "    save_html(speech_response.content, 'All_speech/speech'+str(len(links)-i)+'.html')\n",
    "    file.close()\n",
    "    \n",
    "    time.sleep(10)\n",
    "    speech_parser = BeautifulSoup(speech_content, 'html.parser')\n",
    "\n",
    "    content = speech_parser.select(\".content-block\")\n",
    "    #print(content)\n",
    "   "
   ]
  },
  {
   "cell_type": "code",
   "execution_count": 33,
   "metadata": {},
   "outputs": [],
   "source": [
    "speech_date = []\n",
    "speech = []\n",
    "\n",
    "for i in range(len(links)) :\n",
    "    html = open_html('All_speech/speech'+str(i+1)+'.html')\n",
    "    parser = BeautifulSoup(html, 'html.parser')\n",
    "    speech_text = parser.select('.left-container')\n",
    "    for s in speech_text : \n",
    "        date = s.select(\".share_date .date\")[0].text\n",
    "        speech_date.append(date)\n",
    "        speech_ = parser.select(\".news-bg\")[0].text\n",
    "        speech.append(speech_)"
   ]
  },
  {
   "cell_type": "code",
   "execution_count": 40,
   "metadata": {},
   "outputs": [],
   "source": [
    "# print(speech_date)\n",
    "# print(\"\\n\")\n",
    "# print(speech)"
   ]
  },
  {
   "cell_type": "code",
   "execution_count": 35,
   "metadata": {},
   "outputs": [
    {
     "data": {
      "text/html": [
       "<div>\n",
       "<style scoped>\n",
       "    .dataframe tbody tr th:only-of-type {\n",
       "        vertical-align: middle;\n",
       "    }\n",
       "\n",
       "    .dataframe tbody tr th {\n",
       "        vertical-align: top;\n",
       "    }\n",
       "\n",
       "    .dataframe thead th {\n",
       "        text-align: right;\n",
       "    }\n",
       "</style>\n",
       "<table border=\"1\" class=\"dataframe\">\n",
       "  <thead>\n",
       "    <tr style=\"text-align: right;\">\n",
       "      <th></th>\n",
       "      <th>Speech_date</th>\n",
       "      <th>Speech</th>\n",
       "    </tr>\n",
       "  </thead>\n",
       "  <tbody>\n",
       "    <tr>\n",
       "      <th>0</th>\n",
       "      <td>03 Oct, 2014</td>\n",
       "      <td>My Dear Countrymen,\\nToday is the holy festiva...</td>\n",
       "    </tr>\n",
       "    <tr>\n",
       "      <th>1</th>\n",
       "      <td>02 Nov, 2014</td>\n",
       "      <td>My dear fellow countrymen, \\nI am with you aga...</td>\n",
       "    </tr>\n",
       "    <tr>\n",
       "      <th>2</th>\n",
       "      <td>14 Dec, 2014</td>\n",
       "      <td>\\nMy Dear Fellow Countrymen,\\nToday I have thi...</td>\n",
       "    </tr>\n",
       "    <tr>\n",
       "      <th>3</th>\n",
       "      <td>27 Jan, 2015</td>\n",
       "      <td>\\n\\n\\n(Hon’ble Shri Narendra Modi):\\nToday, Sh...</td>\n",
       "    </tr>\n",
       "    <tr>\n",
       "      <th>4</th>\n",
       "      <td>22 Feb, 2015</td>\n",
       "      <td>Hello, my young friends. Today probably the en...</td>\n",
       "    </tr>\n",
       "    <tr>\n",
       "      <th>...</th>\n",
       "      <td>...</td>\n",
       "      <td>...</td>\n",
       "    </tr>\n",
       "    <tr>\n",
       "      <th>68</th>\n",
       "      <td>29 Nov, 2020</td>\n",
       "      <td>My dear countrymen,\\nNamaskar! I want to share...</td>\n",
       "    </tr>\n",
       "    <tr>\n",
       "      <th>69</th>\n",
       "      <td>27 Dec, 2020</td>\n",
       "      <td>My dear countrymen,\\nNamaskar. Today is the 27...</td>\n",
       "    </tr>\n",
       "    <tr>\n",
       "      <th>70</th>\n",
       "      <td>31 Jan, 2021</td>\n",
       "      <td>My dear countrymen,\\nNamaskar. When I express ...</td>\n",
       "    </tr>\n",
       "    <tr>\n",
       "      <th>71</th>\n",
       "      <td>28 Feb, 2021</td>\n",
       "      <td>My dear countrymen,\\nNamaskar. Yesterday was t...</td>\n",
       "    </tr>\n",
       "    <tr>\n",
       "      <th>72</th>\n",
       "      <td>28 Mar, 2021</td>\n",
       "      <td>My dear countrymen, Namaskar. This time when I...</td>\n",
       "    </tr>\n",
       "  </tbody>\n",
       "</table>\n",
       "<p>73 rows × 2 columns</p>\n",
       "</div>"
      ],
      "text/plain": [
       "     Speech_date                                             Speech\n",
       "0   03 Oct, 2014  My Dear Countrymen,\\nToday is the holy festiva...\n",
       "1   02 Nov, 2014  My dear fellow countrymen, \\nI am with you aga...\n",
       "2   14 Dec, 2014  \\nMy Dear Fellow Countrymen,\\nToday I have thi...\n",
       "3   27 Jan, 2015  \\n\\n\\n(Hon’ble Shri Narendra Modi):\\nToday, Sh...\n",
       "4   22 Feb, 2015  Hello, my young friends. Today probably the en...\n",
       "..           ...                                                ...\n",
       "68  29 Nov, 2020  My dear countrymen,\\nNamaskar! I want to share...\n",
       "69  27 Dec, 2020  My dear countrymen,\\nNamaskar. Today is the 27...\n",
       "70  31 Jan, 2021  My dear countrymen,\\nNamaskar. When I express ...\n",
       "71  28 Feb, 2021  My dear countrymen,\\nNamaskar. Yesterday was t...\n",
       "72  28 Mar, 2021  My dear countrymen, Namaskar. This time when I...\n",
       "\n",
       "[73 rows x 2 columns]"
      ]
     },
     "execution_count": 35,
     "metadata": {},
     "output_type": "execute_result"
    }
   ],
   "source": [
    "import pandas as pd\n",
    "\n",
    "col1 = speech_date\n",
    "col2 = speech\n",
    "mann_ki_baat = pd.DataFrame(\n",
    "    {'Speech_date': col1,\n",
    "     'Speech': col2\n",
    "    })\n",
    "mann_ki_baat"
   ]
  },
  {
   "cell_type": "code",
   "execution_count": 37,
   "metadata": {},
   "outputs": [
    {
     "data": {
      "text/html": [
       "<div>\n",
       "<style scoped>\n",
       "    .dataframe tbody tr th:only-of-type {\n",
       "        vertical-align: middle;\n",
       "    }\n",
       "\n",
       "    .dataframe tbody tr th {\n",
       "        vertical-align: top;\n",
       "    }\n",
       "\n",
       "    .dataframe thead th {\n",
       "        text-align: right;\n",
       "    }\n",
       "</style>\n",
       "<table border=\"1\" class=\"dataframe\">\n",
       "  <thead>\n",
       "    <tr style=\"text-align: right;\">\n",
       "      <th></th>\n",
       "      <th>Speech_date</th>\n",
       "      <th>Speech</th>\n",
       "    </tr>\n",
       "  </thead>\n",
       "  <tbody>\n",
       "    <tr>\n",
       "      <th>0</th>\n",
       "      <td>03 Oct, 2014</td>\n",
       "      <td>My Dear Countrymen,Today is the holy festival ...</td>\n",
       "    </tr>\n",
       "    <tr>\n",
       "      <th>1</th>\n",
       "      <td>02 Nov, 2014</td>\n",
       "      <td>My dear fellow countrymen, I am with you again...</td>\n",
       "    </tr>\n",
       "    <tr>\n",
       "      <th>2</th>\n",
       "      <td>14 Dec, 2014</td>\n",
       "      <td>My Dear Fellow Countrymen,Today I have this gr...</td>\n",
       "    </tr>\n",
       "    <tr>\n",
       "      <th>3</th>\n",
       "      <td>27 Jan, 2015</td>\n",
       "      <td>Today, Shri Barack Obama, President of the Uni...</td>\n",
       "    </tr>\n",
       "    <tr>\n",
       "      <th>4</th>\n",
       "      <td>22 Feb, 2015</td>\n",
       "      <td>Hello, my young friends. Today probably the en...</td>\n",
       "    </tr>\n",
       "    <tr>\n",
       "      <th>...</th>\n",
       "      <td>...</td>\n",
       "      <td>...</td>\n",
       "    </tr>\n",
       "    <tr>\n",
       "      <th>68</th>\n",
       "      <td>29 Nov, 2020</td>\n",
       "      <td>My dear countrymen,Namaskar! I want to share a...</td>\n",
       "    </tr>\n",
       "    <tr>\n",
       "      <th>69</th>\n",
       "      <td>27 Dec, 2020</td>\n",
       "      <td>My dear countrymen,Namaskar. Today is the 27th...</td>\n",
       "    </tr>\n",
       "    <tr>\n",
       "      <th>70</th>\n",
       "      <td>31 Jan, 2021</td>\n",
       "      <td>My dear countrymen,Namaskar. When I express Ma...</td>\n",
       "    </tr>\n",
       "    <tr>\n",
       "      <th>71</th>\n",
       "      <td>28 Feb, 2021</td>\n",
       "      <td>My dear countrymen,Namaskar. Yesterday was the...</td>\n",
       "    </tr>\n",
       "    <tr>\n",
       "      <th>72</th>\n",
       "      <td>28 Mar, 2021</td>\n",
       "      <td>My dear countrymen, Namaskar. This time when I...</td>\n",
       "    </tr>\n",
       "  </tbody>\n",
       "</table>\n",
       "<p>73 rows × 2 columns</p>\n",
       "</div>"
      ],
      "text/plain": [
       "     Speech_date                                             Speech\n",
       "0   03 Oct, 2014  My Dear Countrymen,Today is the holy festival ...\n",
       "1   02 Nov, 2014  My dear fellow countrymen, I am with you again...\n",
       "2   14 Dec, 2014  My Dear Fellow Countrymen,Today I have this gr...\n",
       "3   27 Jan, 2015  Today, Shri Barack Obama, President of the Uni...\n",
       "4   22 Feb, 2015  Hello, my young friends. Today probably the en...\n",
       "..           ...                                                ...\n",
       "68  29 Nov, 2020  My dear countrymen,Namaskar! I want to share a...\n",
       "69  27 Dec, 2020  My dear countrymen,Namaskar. Today is the 27th...\n",
       "70  31 Jan, 2021  My dear countrymen,Namaskar. When I express Ma...\n",
       "71  28 Feb, 2021  My dear countrymen,Namaskar. Yesterday was the...\n",
       "72  28 Mar, 2021  My dear countrymen, Namaskar. This time when I...\n",
       "\n",
       "[73 rows x 2 columns]"
      ]
     },
     "execution_count": 37,
     "metadata": {},
     "output_type": "execute_result"
    }
   ],
   "source": [
    "cleaned = []\n",
    "for date in mann_ki_baat['Speech_date']:\n",
    "    clean = str(date).replace('\\\\n', '')\n",
    "    clean = clean.replace(\"\\'\", '')\n",
    "    cleaned.append(clean)\n",
    "    \n",
    "mann_ki_baat['Speech_date'] = cleaned\n",
    "\n",
    "cleaned = []\n",
    "for sp in mann_ki_baat['Speech']:\n",
    "    clean = str(sp).replace('\\n', '').replace(\"\\'\", '')\n",
    "    clean = clean.replace('(Hon’ble Shri Narendra Modi):', '').replace('\\\\xa0', ' ')\n",
    "    cleaned.append(clean)\n",
    "    \n",
    "mann_ki_baat['Speech'] = cleaned\n",
    "mann_ki_baat"
   ]
  },
  {
   "cell_type": "code",
   "execution_count": 39,
   "metadata": {},
   "outputs": [],
   "source": [
    "mann_ki_baat.to_csv(\"mann_ki_baat.csv\")"
   ]
  },
  {
   "cell_type": "code",
   "execution_count": 60,
   "metadata": {},
   "outputs": [],
   "source": [
    "import nltk\n",
    "from nltk.tokenize import word_tokenize\n",
    "from nltk.tokenize import sent_tokenize"
   ]
  },
  {
   "cell_type": "code",
   "execution_count": 61,
   "metadata": {},
   "outputs": [
    {
     "name": "stdout",
     "output_type": "stream",
     "text": [
      "['My Dear Countrymen,Today is the holy festival of Vijay Dashami.', 'My heartiest greetings on this occasion of Vijay Dashami to one and all.Through the medium of radio, I would like to share few heartfelt thoughts with you today.', 'And, I hope that not only today, this series of conversation may be carried out regularly in future.', 'I will try my best, if possible, to take out time twice a month or even once to speak with you.', 'In future, I have also decided that whenever I will speak to you, it would be on Sundays and time would be morning 11.', 'In that way, it would be convenient for you too and I will feel contented with the fact that I am successful in sharing my thoughts with you.We are celebrating the festival of Vijay Dashami today, which symbolises the triumph of Good over Evil.', 'But one gentleman named Ganesh Venkatadari, a native of Mumbai, sent me a mail and has written to me that we must take a vow to eliminate ten bad habits from within ourselves on this occasion of Vijay Dashami.', 'I express my gratitude to him for this recommendation.', 'We all, as individuals, must be thinking to put an end to all our bad habits and win over them, although, with respect to our nation, I believe we all should come together and take a vow in eliminating all the dirt from our country.', 'On this occasion of Vijay Dashami, we must take a vow to eliminate dirt and filth and we can do so on this occasion.Yesterday, on 2nd October on the eve of Mahatma Gandhi’s birth anniversary, more than 1.25 crore countrymen have started the ‘Swachh Bharat’ movement.', 'I had shared one thought yesterday which is that I will nominate nine people and they need to upload their videos of cleaning the nation on social media websites, and nominating nine more people to do the same.', 'I want you all to join me, clean the nation, and nominate nine more people to clean the nation, and those nine people must do the same.', 'Eventually, the entire nation will have this atmosphere.', 'I strongly believe that you all will join hands with me to carry this movement forward.Whenever, we think of Mahatma Gandhi, naturally we are reminded of Khaadi.', 'You may be wearing variety of clothes with different fabrics and company brands in your family.', 'But is it not possible to include Khaadi too?', 'I am not telling you to use only Khaadi products.', 'I am just insisting to use, at least one Khaadi product, like handkerchief, or a bath towel, a bed sheet, a pillow cover, a curtain or anything of that kind.', 'If you have an inclination for all kinds of fabrics and clothes in your family, you can also buy Khaadi products on a regular basis.', 'I am saying this as when you buy Khaadi products, it helps poor people to light lamps on Diwali.', 'Also, you can avail a special discount on Khaadi products from 2nd October for a month.', 'It is a very small thing, but has very big impact which binds you with the poor.', 'How you see this as a success.', 'When I speak of 1.25 crore countrymen and infer the outcome, we might assume that government will take care of everything and as individuals we stand nowhere.', 'We have seen that if we intend to progress then we need to identify our potential, understand our strengths and I can swear that we form the incomparable souls of this world.', 'You all know that our own scientists have been successful in reaching Mars, bearing least expenses.', 'We do not lack in our strengths, but have forgotten our strong points.', 'We have forgotten ourselves.', 'We have become hopeless.', 'My dear Brothers and Sisters I cannot let this happen.', 'I always remember one of the sayings by Swami Vivekananda ji as he always used to emphasize on one thought and possibly, he might have shared this thought with many others.Vivekananda ii used to say, once a lioness was carrying her two cubs on the way and came upon a flock of sheep from a distance.', 'She got a desire to prey upon them and started running towards the flock.', 'Seeing her running, one of the cub too, joined her.', 'The other cub was left behind and the lioness moved on, post preying upon the flock.', 'One of the cub went with the lioness but the other cub was left behind, and was brought up by a mother sheep.', 'He grew among the sheep, started speaking their language and adapted their ways of life.', 'He used to sit, laugh and enjoy with them.', 'The cub who went with the lioness, was a grown-up now.', 'Once, he happened to meet his brother and was shocked to see him.', 'He thought in his mind,” He is a lion and is playing with sheep, talking like sheep.', 'What is wrong with him?', 'He felt that his ego was at stake and went to talk to his brother.', 'He said,” What are you doing, brother?', 'You are a lion.” He gets a reply from his brother, “No, I am a sheep.', 'I grew up with them.', 'They have brought me up.', 'Listen to my voice and the way I talk.” He said, “Come, I will show you, who you really are.” He took his brother to a well and told him to look in the water his own reflection, and asked him, if both of them had similar faces.', '“I am a lion, you, too, are a lion.” His brother’s self-esteem got awakened; he attained self-realization through this and even a lion brought up among sheep started roaring like a lion.', 'His inner entity was awakened.', 'Swami Vivekananda ji used to say the same.', 'My countrymen, 125 crore Indians have indefinite strengths and capabilities.', 'We need to understand ourselves.', 'We need to identify our inner strengths and like Swami ji always used to say, we need to carry our self-respect, identify ourselves and move forward in life and be successful, which in turn, make our nation a winning and successful country.', 'I believe, all our countrymen with a population of 125 crores are efficient, strong and can stand against any odds with confidence.These days, I have been getting many letters through social media websites, like Facebook, from my friends.', 'One of them, Mr. Gautam Pal, has addressed an issue regarding the specially-abled children.', 'He has suggested forming separate Municipality, Municipal Corporation or councils for them.', 'We need to plan something for them for enhancing their moral support.', 'I liked his suggestion and I have experienced this during my day as Chief Minister of Gujarat.', 'A Special Olympics was held in Athens in 2011.', 'After the Olympics I had called all the participants and winners of specially-abled category from Gujarat to my home.', 'I spent two hours with them, and it was the most emotional and inspiring incident of my life.', 'As I believe, a specially-abled child is not only the responsibility of the parents in a family, it is the responsibility of the entire society.', 'God has chosen this family to support a specially-abled child, but a child is a responsibility of the entire nation.', 'After this incident, I got so emotionally attached with them, I started organizing separate Olympics for them in Gujarat.', 'Thousands of children with their parents used to come and attend, I, too, used to attend the Olympics.', 'There was an atmosphere of trust and, this is the reason, I liked the suggestion given by Mr. Gautam Pal and I felt like sharing this thought with you.It reminds me of another story.', 'Once, a traveller was sitting at the corner of a road, and was asking everyone the way to a specific place.', 'He continued asking the route from many people.', 'A man, sitting beside him was observing him.', 'The traveller stood up and started asking passers-by again.', 'He stood up and said,” The way to your destination is here.” The traveller, then, said,” Brother, you were sitting next to me for so long, saw me asking everyone the route.', 'If you knew the route, why didn’t you tell me before?” The man answered,” I was waiting to verify if you really intend to reach your destination or you are asking people just for your knowledge.', 'But, when you stood up, I was assured that you truly wish to reach your destination, and decided to confirm the address”.My countrymen, till the time we do not decide to walk, stand on our own, we will also not the get the guidance from others in our journey.', 'We will not get the people to hold our hand and help us in walking.', 'We need to take the initiative in walking and I trust all my 125 crore Indians, who are capable of walking on their own and will keep moving.For the past few days, I have been getting very interesting suggestions from people.', 'I am aware, when to adapt to these suggestions.', 'But, I want everyone to actively participate in these suggestions as we all belong to our nation, the nation does not only belong to any Government.', 'We are the citizens of our Nation and we all need to unite without any exceptions.', 'Some of you have suggested simplifying the registration process for Small Scale Industries.', 'I will definitely put this under Government’s notice.', 'Some of you have written to me to incorporate skills development courses in the school curriculum from 5th standard.', 'This will help the students to learn various skills and crafts.', 'I loved this effective suggestion given by them.', 'They have also suggested that even the adults should learn skills development courses along with their studies.', 'One of the suggestions given was to keep a dustbin at every 100 meters and a cleaning system should be established.Some of you have written to me, to abolish the use of plastic bags.', 'I am receiving numerous suggestions from people.', 'I have always been telling you, to write to me and narrate a true incident, which is positive and inspiring to me and our Countrymen, along with the evidence.', 'If you do this, I can promise this to you, that I will share all those heartfelt thoughts or suggestions with all our Countrymen, through “Mann ki Baat”.I have only one intention in speaking with you all,” Come, let us serve our Mother India.', 'Let us all take our nation to the new heights.', 'Let us all take a step forward.', 'If you take one step, our nation takes 125 crore steps to move forward, and for this purpose, on this auspicious occasion of Vijay Dashami, we all need to defeat all of our inner evils and decide to start doing something good for the nation.', 'Today is the fortunate beginning for me.', 'I will be sharing my heartfelt thoughts with one and all.', 'Today, I have shared all the thoughts coming directly from my heart.', 'I will meet you all next at 11 am on Sundays, but I trust our journey shall never end and will continue receiving love and suggestions from you.After listening to my thoughts, please do not hesitate in sharing your thoughts or advice to me, I will appreciate that your suggestions keep coming.', 'I am glad to talk with you through this simple medium of Radio, which serves each and every corner of the nation.', 'I can reach the poorest homes, as mine, my nation’s strength lies within the hut of Poor, within the villages; my nation’s strength lies with the Mothers, Sisters and Youths; my nation’s strength lies with the farmers.', 'Nation will only progress, if you believe in it.', 'I am expressing my trust towards the nation.', 'I believe in your strength, hence, I believe in our nation’s future.I would once again, like to thank one and all for taking out time and listening to me.', 'Thank you all.', '(The original speech was in Hindi, this is the English rendering.', 'Original speech remains the authoritative version)']\n"
     ]
    }
   ],
   "source": [
    "tokenized_sent=sent_tokenize(mann_ki_baat['Speech'][0])\n",
    "print(tokenized_sent)"
   ]
  },
  {
   "cell_type": "code",
   "execution_count": 62,
   "metadata": {},
   "outputs": [
    {
     "name": "stdout",
     "output_type": "stream",
     "text": [
      "['My', 'Dear', 'Countrymen', ',', 'Today', 'is', 'the', 'holy', 'festival', 'of', 'Vijay', 'Dashami', '.', 'My', 'heartiest', 'greetings', 'on', 'this', 'occasion', 'of', 'Vijay', 'Dashami', 'to', 'one', 'and', 'all.Through', 'the', 'medium', 'of', 'radio', ',', 'I', 'would', 'like', 'to', 'share', 'few', 'heartfelt', 'thoughts', 'with', 'you', 'today', '.', 'And', ',', 'I', 'hope', 'that', 'not', 'only', 'today', ',', 'this', 'series', 'of', 'conversation', 'may', 'be', 'carried', 'out', 'regularly', 'in', 'future', '.', 'I', 'will', 'try', 'my', 'best', ',', 'if', 'possible', ',', 'to', 'take', 'out', 'time', 'twice', 'a', 'month', 'or', 'even', 'once', 'to', 'speak', 'with', 'you', '.', 'In', 'future', ',', 'I', 'have', 'also', 'decided', 'that', 'whenever', 'I', 'will', 'speak', 'to', 'you', ',', 'it', 'would', 'be', 'on', 'Sundays', 'and', 'time', 'would', 'be', 'morning', '11', '.', 'In', 'that', 'way', ',', 'it', 'would', 'be', 'convenient', 'for', 'you', 'too', 'and', 'I', 'will', 'feel', 'contented', 'with', 'the', 'fact', 'that', 'I', 'am', 'successful', 'in', 'sharing', 'my', 'thoughts', 'with', 'you.We', 'are', 'celebrating', 'the', 'festival', 'of', 'Vijay', 'Dashami', 'today', ',', 'which', 'symbolises', 'the', 'triumph', 'of', 'Good', 'over', 'Evil', '.', 'But', 'one', 'gentleman', 'named', 'Ganesh', 'Venkatadari', ',', 'a', 'native', 'of', 'Mumbai', ',', 'sent', 'me', 'a', 'mail', 'and', 'has', 'written', 'to', 'me', 'that', 'we', 'must', 'take', 'a', 'vow', 'to', 'eliminate', 'ten', 'bad', 'habits', 'from', 'within', 'ourselves', 'on', 'this', 'occasion', 'of', 'Vijay', 'Dashami', '.', 'I', 'express', 'my', 'gratitude', 'to', 'him', 'for', 'this', 'recommendation', '.', 'We', 'all', ',', 'as', 'individuals', ',', 'must', 'be', 'thinking', 'to', 'put', 'an', 'end', 'to', 'all', 'our', 'bad', 'habits', 'and', 'win', 'over', 'them', ',', 'although', ',', 'with', 'respect', 'to', 'our', 'nation', ',', 'I', 'believe', 'we', 'all', 'should', 'come', 'together', 'and', 'take', 'a', 'vow', 'in', 'eliminating', 'all', 'the', 'dirt', 'from', 'our', 'country', '.', 'On', 'this', 'occasion', 'of', 'Vijay', 'Dashami', ',', 'we', 'must', 'take', 'a', 'vow', 'to', 'eliminate', 'dirt', 'and', 'filth', 'and', 'we', 'can', 'do', 'so', 'on', 'this', 'occasion.Yesterday', ',', 'on', '2nd', 'October', 'on', 'the', 'eve', 'of', 'Mahatma', 'Gandhi', '’', 's', 'birth', 'anniversary', ',', 'more', 'than', '1.25', 'crore', 'countrymen', 'have', 'started', 'the', '‘', 'Swachh', 'Bharat', '’', 'movement', '.', 'I', 'had', 'shared', 'one', 'thought', 'yesterday', 'which', 'is', 'that', 'I', 'will', 'nominate', 'nine', 'people', 'and', 'they', 'need', 'to', 'upload', 'their', 'videos', 'of', 'cleaning', 'the', 'nation', 'on', 'social', 'media', 'websites', ',', 'and', 'nominating', 'nine', 'more', 'people', 'to', 'do', 'the', 'same', '.', 'I', 'want', 'you', 'all', 'to', 'join', 'me', ',', 'clean', 'the', 'nation', ',', 'and', 'nominate', 'nine', 'more', 'people', 'to', 'clean', 'the', 'nation', ',', 'and', 'those', 'nine', 'people', 'must', 'do', 'the', 'same', '.', 'Eventually', ',', 'the', 'entire', 'nation', 'will', 'have', 'this', 'atmosphere', '.', 'I', 'strongly', 'believe', 'that', 'you', 'all', 'will', 'join', 'hands', 'with', 'me', 'to', 'carry', 'this', 'movement', 'forward.Whenever', ',', 'we', 'think', 'of', 'Mahatma', 'Gandhi', ',', 'naturally', 'we', 'are', 'reminded', 'of', 'Khaadi', '.', 'You', 'may', 'be', 'wearing', 'variety', 'of', 'clothes', 'with', 'different', 'fabrics', 'and', 'company', 'brands', 'in', 'your', 'family', '.', 'But', 'is', 'it', 'not', 'possible', 'to', 'include', 'Khaadi', 'too', '?', 'I', 'am', 'not', 'telling', 'you', 'to', 'use', 'only', 'Khaadi', 'products', '.', 'I', 'am', 'just', 'insisting', 'to', 'use', ',', 'at', 'least', 'one', 'Khaadi', 'product', ',', 'like', 'handkerchief', ',', 'or', 'a', 'bath', 'towel', ',', 'a', 'bed', 'sheet', ',', 'a', 'pillow', 'cover', ',', 'a', 'curtain', 'or', 'anything', 'of', 'that', 'kind', '.', 'If', 'you', 'have', 'an', 'inclination', 'for', 'all', 'kinds', 'of', 'fabrics', 'and', 'clothes', 'in', 'your', 'family', ',', 'you', 'can', 'also', 'buy', 'Khaadi', 'products', 'on', 'a', 'regular', 'basis', '.', 'I', 'am', 'saying', 'this', 'as', 'when', 'you', 'buy', 'Khaadi', 'products', ',', 'it', 'helps', 'poor', 'people', 'to', 'light', 'lamps', 'on', 'Diwali', '.', 'Also', ',', 'you', 'can', 'avail', 'a', 'special', 'discount', 'on', 'Khaadi', 'products', 'from', '2nd', 'October', 'for', 'a', 'month', '.', 'It', 'is', 'a', 'very', 'small', 'thing', ',', 'but', 'has', 'very', 'big', 'impact', 'which', 'binds', 'you', 'with', 'the', 'poor', '.', 'How', 'you', 'see', 'this', 'as', 'a', 'success', '.', 'When', 'I', 'speak', 'of', '1.25', 'crore', 'countrymen', 'and', 'infer', 'the', 'outcome', ',', 'we', 'might', 'assume', 'that', 'government', 'will', 'take', 'care', 'of', 'everything', 'and', 'as', 'individuals', 'we', 'stand', 'nowhere', '.', 'We', 'have', 'seen', 'that', 'if', 'we', 'intend', 'to', 'progress', 'then', 'we', 'need', 'to', 'identify', 'our', 'potential', ',', 'understand', 'our', 'strengths', 'and', 'I', 'can', 'swear', 'that', 'we', 'form', 'the', 'incomparable', 'souls', 'of', 'this', 'world', '.', 'You', 'all', 'know', 'that', 'our', 'own', 'scientists', 'have', 'been', 'successful', 'in', 'reaching', 'Mars', ',', 'bearing', 'least', 'expenses', '.', 'We', 'do', 'not', 'lack', 'in', 'our', 'strengths', ',', 'but', 'have', 'forgotten', 'our', 'strong', 'points', '.', 'We', 'have', 'forgotten', 'ourselves', '.', 'We', 'have', 'become', 'hopeless', '.', 'My', 'dear', 'Brothers', 'and', 'Sisters', 'I', 'can', 'not', 'let', 'this', 'happen', '.', 'I', 'always', 'remember', 'one', 'of', 'the', 'sayings', 'by', 'Swami', 'Vivekananda', 'ji', 'as', 'he', 'always', 'used', 'to', 'emphasize', 'on', 'one', 'thought', 'and', 'possibly', ',', 'he', 'might', 'have', 'shared', 'this', 'thought', 'with', 'many', 'others.Vivekananda', 'ii', 'used', 'to', 'say', ',', 'once', 'a', 'lioness', 'was', 'carrying', 'her', 'two', 'cubs', 'on', 'the', 'way', 'and', 'came', 'upon', 'a', 'flock', 'of', 'sheep', 'from', 'a', 'distance', '.', 'She', 'got', 'a', 'desire', 'to', 'prey', 'upon', 'them', 'and', 'started', 'running', 'towards', 'the', 'flock', '.', 'Seeing', 'her', 'running', ',', 'one', 'of', 'the', 'cub', 'too', ',', 'joined', 'her', '.', 'The', 'other', 'cub', 'was', 'left', 'behind', 'and', 'the', 'lioness', 'moved', 'on', ',', 'post', 'preying', 'upon', 'the', 'flock', '.', 'One', 'of', 'the', 'cub', 'went', 'with', 'the', 'lioness', 'but', 'the', 'other', 'cub', 'was', 'left', 'behind', ',', 'and', 'was', 'brought', 'up', 'by', 'a', 'mother', 'sheep', '.', 'He', 'grew', 'among', 'the', 'sheep', ',', 'started', 'speaking', 'their', 'language', 'and', 'adapted', 'their', 'ways', 'of', 'life', '.', 'He', 'used', 'to', 'sit', ',', 'laugh', 'and', 'enjoy', 'with', 'them', '.', 'The', 'cub', 'who', 'went', 'with', 'the', 'lioness', ',', 'was', 'a', 'grown-up', 'now', '.', 'Once', ',', 'he', 'happened', 'to', 'meet', 'his', 'brother', 'and', 'was', 'shocked', 'to', 'see', 'him', '.', 'He', 'thought', 'in', 'his', 'mind', ',', '”', 'He', 'is', 'a', 'lion', 'and', 'is', 'playing', 'with', 'sheep', ',', 'talking', 'like', 'sheep', '.', 'What', 'is', 'wrong', 'with', 'him', '?', 'He', 'felt', 'that', 'his', 'ego', 'was', 'at', 'stake', 'and', 'went', 'to', 'talk', 'to', 'his', 'brother', '.', 'He', 'said', ',', '”', 'What', 'are', 'you', 'doing', ',', 'brother', '?', 'You', 'are', 'a', 'lion.', '”', 'He', 'gets', 'a', 'reply', 'from', 'his', 'brother', ',', '“', 'No', ',', 'I', 'am', 'a', 'sheep', '.', 'I', 'grew', 'up', 'with', 'them', '.', 'They', 'have', 'brought', 'me', 'up', '.', 'Listen', 'to', 'my', 'voice', 'and', 'the', 'way', 'I', 'talk.', '”', 'He', 'said', ',', '“', 'Come', ',', 'I', 'will', 'show', 'you', ',', 'who', 'you', 'really', 'are.', '”', 'He', 'took', 'his', 'brother', 'to', 'a', 'well', 'and', 'told', 'him', 'to', 'look', 'in', 'the', 'water', 'his', 'own', 'reflection', ',', 'and', 'asked', 'him', ',', 'if', 'both', 'of', 'them', 'had', 'similar', 'faces', '.', '“', 'I', 'am', 'a', 'lion', ',', 'you', ',', 'too', ',', 'are', 'a', 'lion.', '”', 'His', 'brother', '’', 's', 'self-esteem', 'got', 'awakened', ';', 'he', 'attained', 'self-realization', 'through', 'this', 'and', 'even', 'a', 'lion', 'brought', 'up', 'among', 'sheep', 'started', 'roaring', 'like', 'a', 'lion', '.', 'His', 'inner', 'entity', 'was', 'awakened', '.', 'Swami', 'Vivekananda', 'ji', 'used', 'to', 'say', 'the', 'same', '.', 'My', 'countrymen', ',', '125', 'crore', 'Indians', 'have', 'indefinite', 'strengths', 'and', 'capabilities', '.', 'We', 'need', 'to', 'understand', 'ourselves', '.', 'We', 'need', 'to', 'identify', 'our', 'inner', 'strengths', 'and', 'like', 'Swami', 'ji', 'always', 'used', 'to', 'say', ',', 'we', 'need', 'to', 'carry', 'our', 'self-respect', ',', 'identify', 'ourselves', 'and', 'move', 'forward', 'in', 'life', 'and', 'be', 'successful', ',', 'which', 'in', 'turn', ',', 'make', 'our', 'nation', 'a', 'winning', 'and', 'successful', 'country', '.', 'I', 'believe', ',', 'all', 'our', 'countrymen', 'with', 'a', 'population', 'of', '125', 'crores', 'are', 'efficient', ',', 'strong', 'and', 'can', 'stand', 'against', 'any', 'odds', 'with', 'confidence.These', 'days', ',', 'I', 'have', 'been', 'getting', 'many', 'letters', 'through', 'social', 'media', 'websites', ',', 'like', 'Facebook', ',', 'from', 'my', 'friends', '.', 'One', 'of', 'them', ',', 'Mr.', 'Gautam', 'Pal', ',', 'has', 'addressed', 'an', 'issue', 'regarding', 'the', 'specially-abled', 'children', '.', 'He', 'has', 'suggested', 'forming', 'separate', 'Municipality', ',', 'Municipal', 'Corporation', 'or', 'councils', 'for', 'them', '.', 'We', 'need', 'to', 'plan', 'something', 'for', 'them', 'for', 'enhancing', 'their', 'moral', 'support', '.', 'I', 'liked', 'his', 'suggestion', 'and', 'I', 'have', 'experienced', 'this', 'during', 'my', 'day', 'as', 'Chief', 'Minister', 'of', 'Gujarat', '.', 'A', 'Special', 'Olympics', 'was', 'held', 'in', 'Athens', 'in', '2011', '.', 'After', 'the', 'Olympics', 'I', 'had', 'called', 'all', 'the', 'participants', 'and', 'winners', 'of', 'specially-abled', 'category', 'from', 'Gujarat', 'to', 'my', 'home', '.', 'I', 'spent', 'two', 'hours', 'with', 'them', ',', 'and', 'it', 'was', 'the', 'most', 'emotional', 'and', 'inspiring', 'incident', 'of', 'my', 'life', '.', 'As', 'I', 'believe', ',', 'a', 'specially-abled', 'child', 'is', 'not', 'only', 'the', 'responsibility', 'of', 'the', 'parents', 'in', 'a', 'family', ',', 'it', 'is', 'the', 'responsibility', 'of', 'the', 'entire', 'society', '.', 'God', 'has', 'chosen', 'this', 'family', 'to', 'support', 'a', 'specially-abled', 'child', ',', 'but', 'a', 'child', 'is', 'a', 'responsibility', 'of', 'the', 'entire', 'nation', '.', 'After', 'this', 'incident', ',', 'I', 'got', 'so', 'emotionally', 'attached', 'with', 'them', ',', 'I', 'started', 'organizing', 'separate', 'Olympics', 'for', 'them', 'in', 'Gujarat', '.', 'Thousands', 'of', 'children', 'with', 'their', 'parents', 'used', 'to', 'come', 'and', 'attend', ',', 'I', ',', 'too', ',', 'used', 'to', 'attend', 'the', 'Olympics', '.', 'There', 'was', 'an', 'atmosphere', 'of', 'trust', 'and', ',', 'this', 'is', 'the', 'reason', ',', 'I', 'liked', 'the', 'suggestion', 'given', 'by', 'Mr.', 'Gautam', 'Pal', 'and', 'I', 'felt', 'like', 'sharing', 'this', 'thought', 'with', 'you.It', 'reminds', 'me', 'of', 'another', 'story', '.', 'Once', ',', 'a', 'traveller', 'was', 'sitting', 'at', 'the', 'corner', 'of', 'a', 'road', ',', 'and', 'was', 'asking', 'everyone', 'the', 'way', 'to', 'a', 'specific', 'place', '.', 'He', 'continued', 'asking', 'the', 'route', 'from', 'many', 'people', '.', 'A', 'man', ',', 'sitting', 'beside', 'him', 'was', 'observing', 'him', '.', 'The', 'traveller', 'stood', 'up', 'and', 'started', 'asking', 'passers-by', 'again', '.', 'He', 'stood', 'up', 'and', 'said', ',', '”', 'The', 'way', 'to', 'your', 'destination', 'is', 'here.', '”', 'The', 'traveller', ',', 'then', ',', 'said', ',', '”', 'Brother', ',', 'you', 'were', 'sitting', 'next', 'to', 'me', 'for', 'so', 'long', ',', 'saw', 'me', 'asking', 'everyone', 'the', 'route', '.', 'If', 'you', 'knew', 'the', 'route', ',', 'why', 'didn', '’', 't', 'you', 'tell', 'me', 'before', '?', '”', 'The', 'man', 'answered', ',', '”', 'I', 'was', 'waiting', 'to', 'verify', 'if', 'you', 'really', 'intend', 'to', 'reach', 'your', 'destination', 'or', 'you', 'are', 'asking', 'people', 'just', 'for', 'your', 'knowledge', '.', 'But', ',', 'when', 'you', 'stood', 'up', ',', 'I', 'was', 'assured', 'that', 'you', 'truly', 'wish', 'to', 'reach', 'your', 'destination', ',', 'and', 'decided', 'to', 'confirm', 'the', 'address', '”', '.My', 'countrymen', ',', 'till', 'the', 'time', 'we', 'do', 'not', 'decide', 'to', 'walk', ',', 'stand', 'on', 'our', 'own', ',', 'we', 'will', 'also', 'not', 'the', 'get', 'the', 'guidance', 'from', 'others', 'in', 'our', 'journey', '.', 'We', 'will', 'not', 'get', 'the', 'people', 'to', 'hold', 'our', 'hand', 'and', 'help', 'us', 'in', 'walking', '.', 'We', 'need', 'to', 'take', 'the', 'initiative', 'in', 'walking', 'and', 'I', 'trust', 'all', 'my', '125', 'crore', 'Indians', ',', 'who', 'are', 'capable', 'of', 'walking', 'on', 'their', 'own', 'and', 'will', 'keep', 'moving.For', 'the', 'past', 'few', 'days', ',', 'I', 'have', 'been', 'getting', 'very', 'interesting', 'suggestions', 'from', 'people', '.', 'I', 'am', 'aware', ',', 'when', 'to', 'adapt', 'to', 'these', 'suggestions', '.', 'But', ',', 'I', 'want', 'everyone', 'to', 'actively', 'participate', 'in', 'these', 'suggestions', 'as', 'we', 'all', 'belong', 'to', 'our', 'nation', ',', 'the', 'nation', 'does', 'not', 'only', 'belong', 'to', 'any', 'Government', '.', 'We', 'are', 'the', 'citizens', 'of', 'our', 'Nation', 'and', 'we', 'all', 'need', 'to', 'unite', 'without', 'any', 'exceptions', '.', 'Some', 'of', 'you', 'have', 'suggested', 'simplifying', 'the', 'registration', 'process', 'for', 'Small', 'Scale', 'Industries', '.', 'I', 'will', 'definitely', 'put', 'this', 'under', 'Government', '’', 's', 'notice', '.', 'Some', 'of', 'you', 'have', 'written', 'to', 'me', 'to', 'incorporate', 'skills', 'development', 'courses', 'in', 'the', 'school', 'curriculum', 'from', '5th', 'standard', '.', 'This', 'will', 'help', 'the', 'students', 'to', 'learn', 'various', 'skills', 'and', 'crafts', '.', 'I', 'loved', 'this', 'effective', 'suggestion', 'given', 'by', 'them', '.', 'They', 'have', 'also', 'suggested', 'that', 'even', 'the', 'adults', 'should', 'learn', 'skills', 'development', 'courses', 'along', 'with', 'their', 'studies', '.', 'One', 'of', 'the', 'suggestions', 'given', 'was', 'to', 'keep', 'a', 'dustbin', 'at', 'every', '100', 'meters', 'and', 'a', 'cleaning', 'system', 'should', 'be', 'established.Some', 'of', 'you', 'have', 'written', 'to', 'me', ',', 'to', 'abolish', 'the', 'use', 'of', 'plastic', 'bags', '.', 'I', 'am', 'receiving', 'numerous', 'suggestions', 'from', 'people', '.', 'I', 'have', 'always', 'been', 'telling', 'you', ',', 'to', 'write', 'to', 'me', 'and', 'narrate', 'a', 'true', 'incident', ',', 'which', 'is', 'positive', 'and', 'inspiring', 'to', 'me', 'and', 'our', 'Countrymen', ',', 'along', 'with', 'the', 'evidence', '.', 'If', 'you', 'do', 'this', ',', 'I', 'can', 'promise', 'this', 'to', 'you', ',', 'that', 'I', 'will', 'share', 'all', 'those', 'heartfelt', 'thoughts', 'or', 'suggestions', 'with', 'all', 'our', 'Countrymen', ',', 'through', '“', 'Mann', 'ki', 'Baat', '”', '.I', 'have', 'only', 'one', 'intention', 'in', 'speaking', 'with', 'you', 'all', ',', '”', 'Come', ',', 'let', 'us', 'serve', 'our', 'Mother', 'India', '.', 'Let', 'us', 'all', 'take', 'our', 'nation', 'to', 'the', 'new', 'heights', '.', 'Let', 'us', 'all', 'take', 'a', 'step', 'forward', '.', 'If', 'you', 'take', 'one', 'step', ',', 'our', 'nation', 'takes', '125', 'crore', 'steps', 'to', 'move', 'forward', ',', 'and', 'for', 'this', 'purpose', ',', 'on', 'this', 'auspicious', 'occasion', 'of', 'Vijay', 'Dashami', ',', 'we', 'all', 'need', 'to', 'defeat', 'all', 'of', 'our', 'inner', 'evils', 'and', 'decide', 'to', 'start', 'doing', 'something', 'good', 'for', 'the', 'nation', '.', 'Today', 'is', 'the', 'fortunate', 'beginning', 'for', 'me', '.', 'I', 'will', 'be', 'sharing', 'my', 'heartfelt', 'thoughts', 'with', 'one', 'and', 'all', '.', 'Today', ',', 'I', 'have', 'shared', 'all', 'the', 'thoughts', 'coming', 'directly', 'from', 'my', 'heart', '.', 'I', 'will', 'meet', 'you', 'all', 'next', 'at', '11', 'am', 'on', 'Sundays', ',', 'but', 'I', 'trust', 'our', 'journey', 'shall', 'never', 'end', 'and', 'will', 'continue', 'receiving', 'love', 'and', 'suggestions', 'from', 'you.After', 'listening', 'to', 'my', 'thoughts', ',', 'please', 'do', 'not', 'hesitate', 'in', 'sharing', 'your', 'thoughts', 'or', 'advice', 'to', 'me', ',', 'I', 'will', 'appreciate', 'that', 'your', 'suggestions', 'keep', 'coming', '.', 'I', 'am', 'glad', 'to', 'talk', 'with', 'you', 'through', 'this', 'simple', 'medium', 'of', 'Radio', ',', 'which', 'serves', 'each', 'and', 'every', 'corner', 'of', 'the', 'nation', '.', 'I', 'can', 'reach', 'the', 'poorest', 'homes', ',', 'as', 'mine', ',', 'my', 'nation', '’', 's', 'strength', 'lies', 'within', 'the', 'hut', 'of', 'Poor', ',', 'within', 'the', 'villages', ';', 'my', 'nation', '’', 's', 'strength', 'lies', 'with', 'the', 'Mothers', ',', 'Sisters', 'and', 'Youths', ';', 'my', 'nation', '’', 's', 'strength', 'lies', 'with', 'the', 'farmers', '.', 'Nation', 'will', 'only', 'progress', ',', 'if', 'you', 'believe', 'in', 'it', '.', 'I', 'am', 'expressing', 'my', 'trust', 'towards', 'the', 'nation', '.', 'I', 'believe', 'in', 'your', 'strength', ',', 'hence', ',', 'I', 'believe', 'in', 'our', 'nation', '’', 's', 'future.I', 'would', 'once', 'again', ',', 'like', 'to', 'thank', 'one', 'and', 'all', 'for', 'taking', 'out', 'time', 'and', 'listening', 'to', 'me', '.', 'Thank', 'you', 'all', '.', '(', 'The', 'original', 'speech', 'was', 'in', 'Hindi', ',', 'this', 'is', 'the', 'English', 'rendering', '.', 'Original', 'speech', 'remains', 'the', 'authoritative', 'version', ')']\n"
     ]
    }
   ],
   "source": [
    "tokenized_word=word_tokenize(mann_ki_baat['Speech'][0])\n",
    "print(tokenized_word)"
   ]
  },
  {
   "cell_type": "code",
   "execution_count": 99,
   "metadata": {},
   "outputs": [],
   "source": [
    "tokenized_word_newww = []\n",
    "for word in tokenized_word:\n",
    "    word = str(word).lower()\n",
    "    word = word.replace(\".\",\"\")\n",
    "    word = word.replace(\",\",\"\")\n",
    "    word = word.replace(\":\",\"\")\n",
    "    word = word.replace(\"\\\"\",\"\")\n",
    "    word = word.replace(\"”\",'')\n",
    "    word = word.replace(\"’\",'')\n",
    "    word = word.replace(\"*\",'')\n",
    "    if word in stop_words :\n",
    "        pass\n",
    "    else :\n",
    "        tokenized_word_newww.append(word)"
   ]
  },
  {
   "cell_type": "code",
   "execution_count": 100,
   "metadata": {},
   "outputs": [
    {
     "name": "stdout",
     "output_type": "stream",
     "text": [
      "<FreqDist with 540 samples and 1224 outcomes>\n"
     ]
    }
   ],
   "source": [
    "from nltk.probability import FreqDist\n",
    "fdist = FreqDist(tokenized_word_newww)\n",
    "print(fdist)"
   ]
  },
  {
   "cell_type": "code",
   "execution_count": 101,
   "metadata": {},
   "outputs": [
    {
     "data": {
      "text/plain": [
       "[('', 260),\n",
       " ('nation', 20),\n",
       " ('one', 14),\n",
       " ('people', 10),\n",
       " ('take', 9),\n",
       " ('need', 9),\n",
       " ('countrymen', 8),\n",
       " ('like', 8),\n",
       " ('suggestions', 8),\n",
       " ('thoughts', 7),\n",
       " ('believe', 7),\n",
       " ('khaadi', 7),\n",
       " ('used', 7),\n",
       " ('sheep', 7),\n",
       " ('brother', 7),\n",
       " ('today', 6),\n",
       " ('vijay', 6),\n",
       " ('dashami', 6),\n",
       " ('125', 6),\n",
       " ('started', 6)]"
      ]
     },
     "execution_count": 101,
     "metadata": {},
     "output_type": "execute_result"
    }
   ],
   "source": [
    "fdist.most_common(20)"
   ]
  },
  {
   "cell_type": "code",
   "execution_count": 102,
   "metadata": {},
   "outputs": [
    {
     "data": {
      "image/png": "[encoded data removed]",
      "text/plain": [
       "<Figure size 432x288 with 1 Axes>"
      ]
     },
     "metadata": {
      "needs_background": "light"
     },
     "output_type": "display_data"
    }
   ],
   "source": [
    "import matplotlib.pyplot as plt\n",
    "fdist.plot(30,cumulative=False)\n",
    "plt.show()"
   ]
  },
  {
   "cell_type": "code",
   "execution_count": 103,
   "metadata": {},
   "outputs": [
    {
     "name": "stdout",
     "output_type": "stream",
     "text": [
      "{'having', 'has', 'them', 'yours', 's', 'll', 'myself', 'through', 'mustn', \"weren't\", 'o', 'when', 'aren', 'who', \"you've\", \"you'd\", 'some', 'a', \"don't\", 'nor', 'y', 'and', 'didn', 'to', 'same', 're', 'of', \"it's\", 'their', 'in', \"aren't\", 'they', 'were', 'can', 'she', 'for', 'ourselves', 'wouldn', \"didn't\", 'needn', \"hasn't\", 'yourselves', 'don', 'once', 'your', 'm', \"mightn't\", 'below', 'wasn', 'itself', 'my', 'by', 'than', 'what', 'again', \"should've\", 'haven', 'as', 'during', 'more', 'about', \"mustn't\", 'before', 'had', 'not', 'now', 'couldn', 'this', \"won't\", 'very', 'd', \"shouldn't\", 'be', 'each', \"she's\", 'have', 'ma', \"shan't\", 'i', 'mightn', 'into', 've', 'then', 'being', 'under', 'we', 'its', 'our', 'if', 'why', 'those', 'against', \"isn't\", 'off', 'he', 'himself', 'ain', 'until', 'over', 'isn', 'herself', 'just', 'so', 'between', 'how', 'themselves', 'shouldn', 'no', \"couldn't\", \"wouldn't\", \"you'll\", 'there', 'the', 'am', 'further', 'any', 'few', 'here', 'hasn', 'all', 'his', 'out', 'with', 'her', 'or', \"you're\", 'hers', 'been', 'theirs', 'won', 'will', 'you', 'both', 'hadn', \"that'll\", \"doesn't\", \"needn't\", 'but', \"wasn't\", 'other', 'after', 'from', 'ours', 'it', 'me', 'such', 'weren', 'doesn', 'where', 'most', 'an', 'do', 'is', 'because', 'up', 'did', 'while', 'too', 'yourself', 'doing', 't', 'at', 'only', 'which', 'that', \"haven't\", 'above', 'should', 'these', 'was', \"hadn't\", 'whom', 'does', 'down', 'him', 'on', 'are', 'shan', 'own'}\n"
     ]
    }
   ],
   "source": [
    "#nltk.download('stopwords')\n",
    "from nltk.corpus import stopwords\n",
    "\n",
    "stop_words=set(stopwords.words(\"english\"))\n",
    "print(stop_words)"
   ]
  },
  {
   "cell_type": "code",
   "execution_count": 67,
   "metadata": {},
   "outputs": [
    {
     "name": "stdout",
     "output_type": "stream",
     "text": [
      "Tokenized Sentence: ['My Dear Countrymen,Today is the holy festival of Vijay Dashami.', 'My heartiest greetings on this occasion of Vijay Dashami to one and all.Through the medium of radio, I would like to share few heartfelt thoughts with you today.', 'And, I hope that not only today, this series of conversation may be carried out regularly in future.', 'I will try my best, if possible, to take out time twice a month or even once to speak with you.', 'In future, I have also decided that whenever I will speak to you, it would be on Sundays and time would be morning 11.', 'In that way, it would be convenient for you too and I will feel contented with the fact that I am successful in sharing my thoughts with you.We are celebrating the festival of Vijay Dashami today, which symbolises the triumph of Good over Evil.', 'But one gentleman named Ganesh Venkatadari, a native of Mumbai, sent me a mail and has written to me that we must take a vow to eliminate ten bad habits from within ourselves on this occasion of Vijay Dashami.', 'I express my gratitude to him for this recommendation.', 'We all, as individuals, must be thinking to put an end to all our bad habits and win over them, although, with respect to our nation, I believe we all should come together and take a vow in eliminating all the dirt from our country.', 'On this occasion of Vijay Dashami, we must take a vow to eliminate dirt and filth and we can do so on this occasion.Yesterday, on 2nd October on the eve of Mahatma Gandhi’s birth anniversary, more than 1.25 crore countrymen have started the ‘Swachh Bharat’ movement.', 'I had shared one thought yesterday which is that I will nominate nine people and they need to upload their videos of cleaning the nation on social media websites, and nominating nine more people to do the same.', 'I want you all to join me, clean the nation, and nominate nine more people to clean the nation, and those nine people must do the same.', 'Eventually, the entire nation will have this atmosphere.', 'I strongly believe that you all will join hands with me to carry this movement forward.Whenever, we think of Mahatma Gandhi, naturally we are reminded of Khaadi.', 'You may be wearing variety of clothes with different fabrics and company brands in your family.', 'But is it not possible to include Khaadi too?', 'I am not telling you to use only Khaadi products.', 'I am just insisting to use, at least one Khaadi product, like handkerchief, or a bath towel, a bed sheet, a pillow cover, a curtain or anything of that kind.', 'If you have an inclination for all kinds of fabrics and clothes in your family, you can also buy Khaadi products on a regular basis.', 'I am saying this as when you buy Khaadi products, it helps poor people to light lamps on Diwali.', 'Also, you can avail a special discount on Khaadi products from 2nd October for a month.', 'It is a very small thing, but has very big impact which binds you with the poor.', 'How you see this as a success.', 'When I speak of 1.25 crore countrymen and infer the outcome, we might assume that government will take care of everything and as individuals we stand nowhere.', 'We have seen that if we intend to progress then we need to identify our potential, understand our strengths and I can swear that we form the incomparable souls of this world.', 'You all know that our own scientists have been successful in reaching Mars, bearing least expenses.', 'We do not lack in our strengths, but have forgotten our strong points.', 'We have forgotten ourselves.', 'We have become hopeless.', 'My dear Brothers and Sisters I cannot let this happen.', 'I always remember one of the sayings by Swami Vivekananda ji as he always used to emphasize on one thought and possibly, he might have shared this thought with many others.Vivekananda ii used to say, once a lioness was carrying her two cubs on the way and came upon a flock of sheep from a distance.', 'She got a desire to prey upon them and started running towards the flock.', 'Seeing her running, one of the cub too, joined her.', 'The other cub was left behind and the lioness moved on, post preying upon the flock.', 'One of the cub went with the lioness but the other cub was left behind, and was brought up by a mother sheep.', 'He grew among the sheep, started speaking their language and adapted their ways of life.', 'He used to sit, laugh and enjoy with them.', 'The cub who went with the lioness, was a grown-up now.', 'Once, he happened to meet his brother and was shocked to see him.', 'He thought in his mind,” He is a lion and is playing with sheep, talking like sheep.', 'What is wrong with him?', 'He felt that his ego was at stake and went to talk to his brother.', 'He said,” What are you doing, brother?', 'You are a lion.” He gets a reply from his brother, “No, I am a sheep.', 'I grew up with them.', 'They have brought me up.', 'Listen to my voice and the way I talk.” He said, “Come, I will show you, who you really are.” He took his brother to a well and told him to look in the water his own reflection, and asked him, if both of them had similar faces.', '“I am a lion, you, too, are a lion.” His brother’s self-esteem got awakened; he attained self-realization through this and even a lion brought up among sheep started roaring like a lion.', 'His inner entity was awakened.', 'Swami Vivekananda ji used to say the same.', 'My countrymen, 125 crore Indians have indefinite strengths and capabilities.', 'We need to understand ourselves.', 'We need to identify our inner strengths and like Swami ji always used to say, we need to carry our self-respect, identify ourselves and move forward in life and be successful, which in turn, make our nation a winning and successful country.', 'I believe, all our countrymen with a population of 125 crores are efficient, strong and can stand against any odds with confidence.These days, I have been getting many letters through social media websites, like Facebook, from my friends.', 'One of them, Mr. Gautam Pal, has addressed an issue regarding the specially-abled children.', 'He has suggested forming separate Municipality, Municipal Corporation or councils for them.', 'We need to plan something for them for enhancing their moral support.', 'I liked his suggestion and I have experienced this during my day as Chief Minister of Gujarat.', 'A Special Olympics was held in Athens in 2011.', 'After the Olympics I had called all the participants and winners of specially-abled category from Gujarat to my home.', 'I spent two hours with them, and it was the most emotional and inspiring incident of my life.', 'As I believe, a specially-abled child is not only the responsibility of the parents in a family, it is the responsibility of the entire society.', 'God has chosen this family to support a specially-abled child, but a child is a responsibility of the entire nation.', 'After this incident, I got so emotionally attached with them, I started organizing separate Olympics for them in Gujarat.', 'Thousands of children with their parents used to come and attend, I, too, used to attend the Olympics.', 'There was an atmosphere of trust and, this is the reason, I liked the suggestion given by Mr. Gautam Pal and I felt like sharing this thought with you.It reminds me of another story.', 'Once, a traveller was sitting at the corner of a road, and was asking everyone the way to a specific place.', 'He continued asking the route from many people.', 'A man, sitting beside him was observing him.', 'The traveller stood up and started asking passers-by again.', 'He stood up and said,” The way to your destination is here.” The traveller, then, said,” Brother, you were sitting next to me for so long, saw me asking everyone the route.', 'If you knew the route, why didn’t you tell me before?” The man answered,” I was waiting to verify if you really intend to reach your destination or you are asking people just for your knowledge.', 'But, when you stood up, I was assured that you truly wish to reach your destination, and decided to confirm the address”.My countrymen, till the time we do not decide to walk, stand on our own, we will also not the get the guidance from others in our journey.', 'We will not get the people to hold our hand and help us in walking.', 'We need to take the initiative in walking and I trust all my 125 crore Indians, who are capable of walking on their own and will keep moving.For the past few days, I have been getting very interesting suggestions from people.', 'I am aware, when to adapt to these suggestions.', 'But, I want everyone to actively participate in these suggestions as we all belong to our nation, the nation does not only belong to any Government.', 'We are the citizens of our Nation and we all need to unite without any exceptions.', 'Some of you have suggested simplifying the registration process for Small Scale Industries.', 'I will definitely put this under Government’s notice.', 'Some of you have written to me to incorporate skills development courses in the school curriculum from 5th standard.', 'This will help the students to learn various skills and crafts.', 'I loved this effective suggestion given by them.', 'They have also suggested that even the adults should learn skills development courses along with their studies.', 'One of the suggestions given was to keep a dustbin at every 100 meters and a cleaning system should be established.Some of you have written to me, to abolish the use of plastic bags.', 'I am receiving numerous suggestions from people.', 'I have always been telling you, to write to me and narrate a true incident, which is positive and inspiring to me and our Countrymen, along with the evidence.', 'If you do this, I can promise this to you, that I will share all those heartfelt thoughts or suggestions with all our Countrymen, through “Mann ki Baat”.I have only one intention in speaking with you all,” Come, let us serve our Mother India.', 'Let us all take our nation to the new heights.', 'Let us all take a step forward.', 'If you take one step, our nation takes 125 crore steps to move forward, and for this purpose, on this auspicious occasion of Vijay Dashami, we all need to defeat all of our inner evils and decide to start doing something good for the nation.', 'Today is the fortunate beginning for me.', 'I will be sharing my heartfelt thoughts with one and all.', 'Today, I have shared all the thoughts coming directly from my heart.', 'I will meet you all next at 11 am on Sundays, but I trust our journey shall never end and will continue receiving love and suggestions from you.After listening to my thoughts, please do not hesitate in sharing your thoughts or advice to me, I will appreciate that your suggestions keep coming.', 'I am glad to talk with you through this simple medium of Radio, which serves each and every corner of the nation.', 'I can reach the poorest homes, as mine, my nation’s strength lies within the hut of Poor, within the villages; my nation’s strength lies with the Mothers, Sisters and Youths; my nation’s strength lies with the farmers.', 'Nation will only progress, if you believe in it.', 'I am expressing my trust towards the nation.', 'I believe in your strength, hence, I believe in our nation’s future.I would once again, like to thank one and all for taking out time and listening to me.', 'Thank you all.', '(The original speech was in Hindi, this is the English rendering.', 'Original speech remains the authoritative version)']\n",
      "\n",
      "\n",
      "Filterd Sentence: ['My Dear Countrymen,Today is the holy festival of Vijay Dashami.', 'My heartiest greetings on this occasion of Vijay Dashami to one and all.Through the medium of radio, I would like to share few heartfelt thoughts with you today.', 'And, I hope that not only today, this series of conversation may be carried out regularly in future.', 'I will try my best, if possible, to take out time twice a month or even once to speak with you.', 'In future, I have also decided that whenever I will speak to you, it would be on Sundays and time would be morning 11.', 'In that way, it would be convenient for you too and I will feel contented with the fact that I am successful in sharing my thoughts with you.We are celebrating the festival of Vijay Dashami today, which symbolises the triumph of Good over Evil.', 'But one gentleman named Ganesh Venkatadari, a native of Mumbai, sent me a mail and has written to me that we must take a vow to eliminate ten bad habits from within ourselves on this occasion of Vijay Dashami.', 'I express my gratitude to him for this recommendation.', 'We all, as individuals, must be thinking to put an end to all our bad habits and win over them, although, with respect to our nation, I believe we all should come together and take a vow in eliminating all the dirt from our country.', 'On this occasion of Vijay Dashami, we must take a vow to eliminate dirt and filth and we can do so on this occasion.Yesterday, on 2nd October on the eve of Mahatma Gandhi’s birth anniversary, more than 1.25 crore countrymen have started the ‘Swachh Bharat’ movement.', 'I had shared one thought yesterday which is that I will nominate nine people and they need to upload their videos of cleaning the nation on social media websites, and nominating nine more people to do the same.', 'I want you all to join me, clean the nation, and nominate nine more people to clean the nation, and those nine people must do the same.', 'Eventually, the entire nation will have this atmosphere.', 'I strongly believe that you all will join hands with me to carry this movement forward.Whenever, we think of Mahatma Gandhi, naturally we are reminded of Khaadi.', 'You may be wearing variety of clothes with different fabrics and company brands in your family.', 'But is it not possible to include Khaadi too?', 'I am not telling you to use only Khaadi products.', 'I am just insisting to use, at least one Khaadi product, like handkerchief, or a bath towel, a bed sheet, a pillow cover, a curtain or anything of that kind.', 'If you have an inclination for all kinds of fabrics and clothes in your family, you can also buy Khaadi products on a regular basis.', 'I am saying this as when you buy Khaadi products, it helps poor people to light lamps on Diwali.', 'Also, you can avail a special discount on Khaadi products from 2nd October for a month.', 'It is a very small thing, but has very big impact which binds you with the poor.', 'How you see this as a success.', 'When I speak of 1.25 crore countrymen and infer the outcome, we might assume that government will take care of everything and as individuals we stand nowhere.', 'We have seen that if we intend to progress then we need to identify our potential, understand our strengths and I can swear that we form the incomparable souls of this world.', 'You all know that our own scientists have been successful in reaching Mars, bearing least expenses.', 'We do not lack in our strengths, but have forgotten our strong points.', 'We have forgotten ourselves.', 'We have become hopeless.', 'My dear Brothers and Sisters I cannot let this happen.', 'I always remember one of the sayings by Swami Vivekananda ji as he always used to emphasize on one thought and possibly, he might have shared this thought with many others.Vivekananda ii used to say, once a lioness was carrying her two cubs on the way and came upon a flock of sheep from a distance.', 'She got a desire to prey upon them and started running towards the flock.', 'Seeing her running, one of the cub too, joined her.', 'The other cub was left behind and the lioness moved on, post preying upon the flock.', 'One of the cub went with the lioness but the other cub was left behind, and was brought up by a mother sheep.', 'He grew among the sheep, started speaking their language and adapted their ways of life.', 'He used to sit, laugh and enjoy with them.', 'The cub who went with the lioness, was a grown-up now.', 'Once, he happened to meet his brother and was shocked to see him.', 'He thought in his mind,” He is a lion and is playing with sheep, talking like sheep.', 'What is wrong with him?', 'He felt that his ego was at stake and went to talk to his brother.', 'He said,” What are you doing, brother?', 'You are a lion.” He gets a reply from his brother, “No, I am a sheep.', 'I grew up with them.', 'They have brought me up.', 'Listen to my voice and the way I talk.” He said, “Come, I will show you, who you really are.” He took his brother to a well and told him to look in the water his own reflection, and asked him, if both of them had similar faces.', '“I am a lion, you, too, are a lion.” His brother’s self-esteem got awakened; he attained self-realization through this and even a lion brought up among sheep started roaring like a lion.', 'His inner entity was awakened.', 'Swami Vivekananda ji used to say the same.', 'My countrymen, 125 crore Indians have indefinite strengths and capabilities.', 'We need to understand ourselves.', 'We need to identify our inner strengths and like Swami ji always used to say, we need to carry our self-respect, identify ourselves and move forward in life and be successful, which in turn, make our nation a winning and successful country.', 'I believe, all our countrymen with a population of 125 crores are efficient, strong and can stand against any odds with confidence.These days, I have been getting many letters through social media websites, like Facebook, from my friends.', 'One of them, Mr. Gautam Pal, has addressed an issue regarding the specially-abled children.', 'He has suggested forming separate Municipality, Municipal Corporation or councils for them.', 'We need to plan something for them for enhancing their moral support.', 'I liked his suggestion and I have experienced this during my day as Chief Minister of Gujarat.', 'A Special Olympics was held in Athens in 2011.', 'After the Olympics I had called all the participants and winners of specially-abled category from Gujarat to my home.', 'I spent two hours with them, and it was the most emotional and inspiring incident of my life.', 'As I believe, a specially-abled child is not only the responsibility of the parents in a family, it is the responsibility of the entire society.', 'God has chosen this family to support a specially-abled child, but a child is a responsibility of the entire nation.', 'After this incident, I got so emotionally attached with them, I started organizing separate Olympics for them in Gujarat.', 'Thousands of children with their parents used to come and attend, I, too, used to attend the Olympics.', 'There was an atmosphere of trust and, this is the reason, I liked the suggestion given by Mr. Gautam Pal and I felt like sharing this thought with you.It reminds me of another story.', 'Once, a traveller was sitting at the corner of a road, and was asking everyone the way to a specific place.', 'He continued asking the route from many people.', 'A man, sitting beside him was observing him.', 'The traveller stood up and started asking passers-by again.', 'He stood up and said,” The way to your destination is here.” The traveller, then, said,” Brother, you were sitting next to me for so long, saw me asking everyone the route.', 'If you knew the route, why didn’t you tell me before?” The man answered,” I was waiting to verify if you really intend to reach your destination or you are asking people just for your knowledge.', 'But, when you stood up, I was assured that you truly wish to reach your destination, and decided to confirm the address”.My countrymen, till the time we do not decide to walk, stand on our own, we will also not the get the guidance from others in our journey.', 'We will not get the people to hold our hand and help us in walking.', 'We need to take the initiative in walking and I trust all my 125 crore Indians, who are capable of walking on their own and will keep moving.For the past few days, I have been getting very interesting suggestions from people.', 'I am aware, when to adapt to these suggestions.', 'But, I want everyone to actively participate in these suggestions as we all belong to our nation, the nation does not only belong to any Government.', 'We are the citizens of our Nation and we all need to unite without any exceptions.', 'Some of you have suggested simplifying the registration process for Small Scale Industries.', 'I will definitely put this under Government’s notice.', 'Some of you have written to me to incorporate skills development courses in the school curriculum from 5th standard.', 'This will help the students to learn various skills and crafts.', 'I loved this effective suggestion given by them.', 'They have also suggested that even the adults should learn skills development courses along with their studies.', 'One of the suggestions given was to keep a dustbin at every 100 meters and a cleaning system should be established.Some of you have written to me, to abolish the use of plastic bags.', 'I am receiving numerous suggestions from people.', 'I have always been telling you, to write to me and narrate a true incident, which is positive and inspiring to me and our Countrymen, along with the evidence.', 'If you do this, I can promise this to you, that I will share all those heartfelt thoughts or suggestions with all our Countrymen, through “Mann ki Baat”.I have only one intention in speaking with you all,” Come, let us serve our Mother India.', 'Let us all take our nation to the new heights.', 'Let us all take a step forward.', 'If you take one step, our nation takes 125 crore steps to move forward, and for this purpose, on this auspicious occasion of Vijay Dashami, we all need to defeat all of our inner evils and decide to start doing something good for the nation.', 'Today is the fortunate beginning for me.', 'I will be sharing my heartfelt thoughts with one and all.', 'Today, I have shared all the thoughts coming directly from my heart.', 'I will meet you all next at 11 am on Sundays, but I trust our journey shall never end and will continue receiving love and suggestions from you.After listening to my thoughts, please do not hesitate in sharing your thoughts or advice to me, I will appreciate that your suggestions keep coming.', 'I am glad to talk with you through this simple medium of Radio, which serves each and every corner of the nation.', 'I can reach the poorest homes, as mine, my nation’s strength lies within the hut of Poor, within the villages; my nation’s strength lies with the Mothers, Sisters and Youths; my nation’s strength lies with the farmers.', 'Nation will only progress, if you believe in it.', 'I am expressing my trust towards the nation.', 'I believe in your strength, hence, I believe in our nation’s future.I would once again, like to thank one and all for taking out time and listening to me.', 'Thank you all.', '(The original speech was in Hindi, this is the English rendering.', 'Original speech remains the authoritative version)']\n"
     ]
    }
   ],
   "source": [
    "filtered_sent=[]\n",
    "for w in tokenized_sent:\n",
    "    if w not in stop_words:\n",
    "        filtered_sent.append(w)\n",
    "print(\"Tokenized Sentence:\",tokenized_sent)\n",
    "print(\"\\n\\nFilterd Sentence:\",filtered_sent)"
   ]
  },
  {
   "cell_type": "code",
   "execution_count": null,
   "metadata": {},
   "outputs": [],
   "source": []
  },
  {
   "cell_type": "code",
   "execution_count": null,
   "metadata": {},
   "outputs": [],
   "source": []
  }
 ],
 "metadata": {
  "kernelspec": {
   "display_name": "Python 3",
   "language": "python",
   "name": "python3"
  },
  "language_info": {
   "codemirror_mode": {
    "name": "ipython",
    "version": 3
   },
   "file_extension": ".py",
   "mimetype": "text/x-python",
   "name": "python",
   "nbconvert_exporter": "python",
   "pygments_lexer": "ipython3",
   "version": "3.8.5"
  }
 },
 "nbformat": 4,
 "nbformat_minor": 4
}
