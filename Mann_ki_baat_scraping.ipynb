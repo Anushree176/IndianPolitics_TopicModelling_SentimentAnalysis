{
 "cells": [
  {
   "cell_type": "code",
   "execution_count": null,
   "metadata": {},
   "outputs": [],
   "source": [
    "#pip install selenium\n",
    "\n",
    "import os\n",
    "from selenium import webdriver\n",
    "from selenium.webdriver.common.keys import Keys\n",
    "import time"
   ]
  },
  {
   "cell_type": "code",
   "execution_count": null,
   "metadata": {},
   "outputs": [],
   "source": [
    "chromedriver = \"C:/Users/anush/Downloads/chromedriver_win32/chromedriver\"\n",
    "os.environ[\"webdriver.chrome.driver\"] = chromedriver\n",
    "driver = webdriver.Chrome(chromedriver)\n",
    "driver.get(\"https://www.pmindia.gov.in/en/mann-ki-baat/\")\n",
    "\n",
    "ScrollNumber = 30\n",
    "for i in range(1,ScrollNumber):\n",
    "    driver.execute_script(\"window.scrollTo(1,50000)\")\n",
    "    time.sleep(5)"
   ]
  },
  {
   "cell_type": "code",
   "execution_count": null,
   "metadata": {},
   "outputs": [],
   "source": [
    "file = open('DS.html', 'w', encoding='utf-8')\n",
    "file.write(driver.page_source)\n",
    "file.close()\n",
    "\n",
    "driver.close()"
   ]
  },
  {
   "cell_type": "code",
   "execution_count": null,
   "metadata": {},
   "outputs": [],
   "source": [
    "def save_html(html, path):\n",
    "    with open(path, 'wb') as f:\n",
    "        f.write(html)\n",
    "        \n",
    "def open_html(path):\n",
    "    with open(path, 'rb') as f:\n",
    "        return f.read()"
   ]
  },
  {
   "cell_type": "code",
   "execution_count": null,
   "metadata": {},
   "outputs": [],
   "source": [
    "import urllib.request\n",
    "import requests\n",
    "from bs4 import BeautifulSoup\n",
    "\n",
    "with open('DS.html', 'r', encoding='utf-8') as f:\n",
    "    page = f.read()\n",
    "\n",
    "parser = BeautifulSoup(page, 'html.parser')\n",
    "\n",
    "links = []\n",
    "for i in parser.find_all('div', attrs={'class' : 'mkb-news-wrapper'}):\n",
    "    links.append(i.a['href'])\n",
    "\n",
    "len(links)"
   ]
  },
  {
   "cell_type": "code",
   "execution_count": null,
   "metadata": {},
   "outputs": [],
   "source": [
    "for i in range(len(links)) :\n",
    "    speech_response =  requests.get(links[i])\n",
    "    speech_content = speech_response.content\n",
    "#     file = open('All_speech/speech'+str(i)+'.html', 'w', encoding='utf-8')\n",
    "#     file.write(speech_response.content)\n",
    "#     file.close()\n",
    "\n",
    "#     with open('All_speech/speech'+str(i)+'.html', \"w\", encoding='utf-8') as f:\n",
    "#       f.write(speech_response.content)\n",
    "    \n",
    "    save_html(speech_response.content, 'All_speech/speech'+str(len(links)-i)+'.html')\n",
    "    file.close()\n",
    "    \n",
    "    time.sleep(10)\n",
    "    speech_parser = BeautifulSoup(speech_content, 'html.parser')\n",
    "\n",
    "    content = speech_parser.select(\".content-block\")\n",
    "    #print(content)\n",
    "   "
   ]
  },
  {
   "cell_type": "code",
   "execution_count": null,
   "metadata": {},
   "outputs": [],
   "source": [
    "speech_date = []\n",
    "speech = []\n",
    "\n",
    "for i in range(len(links)) :\n",
    "    html = open_html('All_speech/speech'+str(i+1)+'.html')\n",
    "    parser = BeautifulSoup(html, 'html.parser')\n",
    "    speech_text = parser.select('.left-container')\n",
    "    for s in speech_text : \n",
    "        date = s.select(\".share_date .date\")[0].text\n",
    "        speech_date.append(date)\n",
    "        speech_ = parser.select(\".news-bg\")[0].text\n",
    "        speech.append(speech_)"
   ]
  },
  {
   "cell_type": "code",
   "execution_count": null,
   "metadata": {},
   "outputs": [],
   "source": [
    "# print(speech_date)\n",
    "# print(\"\\n\")\n",
    "# print(speech)"
   ]
  },
  {
   "cell_type": "code",
   "execution_count": null,
   "metadata": {},
   "outputs": [],
   "source": [
    "import pandas as pd\n",
    "\n",
    "col1 = speech_date\n",
    "col2 = speech\n",
    "mann_ki_baat = pd.DataFrame(\n",
    "    {'Speech_date': col1,\n",
    "     'Speech': col2\n",
    "    })\n",
    "mann_ki_baat"
   ]
  },
  {
   "cell_type": "code",
   "execution_count": null,
   "metadata": {},
   "outputs": [],
   "source": [
    "cleaned = []\n",
    "for date in mann_ki_baat['Speech_date']:\n",
    "    clean = str(date).replace('\\\\n', '')\n",
    "    clean = clean.replace(\"\\'\", '')\n",
    "    cleaned.append(clean)\n",
    "    \n",
    "mann_ki_baat['Speech_date'] = cleaned\n",
    "\n",
    "cleaned = []\n",
    "for sp in mann_ki_baat['Speech']:\n",
    "    clean = str(sp).replace('\\n', '').replace(\"\\'\", '')\n",
    "    clean = clean.replace('(Hon’ble Shri Narendra Modi):', '').replace('\\\\xa0', ' ')\n",
    "    cleaned.append(clean)\n",
    "    \n",
    "mann_ki_baat['Speech'] = cleaned\n",
    "mann_ki_baat"
   ]
  },
  {
   "cell_type": "code",
   "execution_count": null,
   "metadata": {},
   "outputs": [],
   "source": [
    "mann_ki_baat.to_csv(\"mann_ki_baat.csv\")"
   ]
  },
  {
   "cell_type": "code",
   "execution_count": null,
   "metadata": {},
   "outputs": [],
   "source": []
  },
  {
   "cell_type": "code",
   "execution_count": null,
   "metadata": {},
   "outputs": [],
   "source": []
  },
  {
   "cell_type": "markdown",
   "metadata": {},
   "source": [
    "# LDA\n",
    "---"
   ]
  },
  {
   "cell_type": "code",
   "execution_count": 1,
   "metadata": {},
   "outputs": [
    {
     "data": {
      "text/html": [
       "<div>\n",
       "<style scoped>\n",
       "    .dataframe tbody tr th:only-of-type {\n",
       "        vertical-align: middle;\n",
       "    }\n",
       "\n",
       "    .dataframe tbody tr th {\n",
       "        vertical-align: top;\n",
       "    }\n",
       "\n",
       "    .dataframe thead th {\n",
       "        text-align: right;\n",
       "    }\n",
       "</style>\n",
       "<table border=\"1\" class=\"dataframe\">\n",
       "  <thead>\n",
       "    <tr style=\"text-align: right;\">\n",
       "      <th></th>\n",
       "      <th>Speech_date</th>\n",
       "      <th>Speech</th>\n",
       "    </tr>\n",
       "  </thead>\n",
       "  <tbody>\n",
       "    <tr>\n",
       "      <th>0</th>\n",
       "      <td>03 Oct, 2014</td>\n",
       "      <td>My Dear Countrymen,Today is the holy festival ...</td>\n",
       "    </tr>\n",
       "    <tr>\n",
       "      <th>1</th>\n",
       "      <td>02 Nov, 2014</td>\n",
       "      <td>My dear fellow countrymen, I am with you again...</td>\n",
       "    </tr>\n",
       "    <tr>\n",
       "      <th>2</th>\n",
       "      <td>14 Dec, 2014</td>\n",
       "      <td>My Dear Fellow Countrymen,Today I have this gr...</td>\n",
       "    </tr>\n",
       "    <tr>\n",
       "      <th>3</th>\n",
       "      <td>27 Jan, 2015</td>\n",
       "      <td>Today, Shri Barack Obama, President of the Uni...</td>\n",
       "    </tr>\n",
       "    <tr>\n",
       "      <th>4</th>\n",
       "      <td>22 Feb, 2015</td>\n",
       "      <td>Hello, my young friends. Today probably the en...</td>\n",
       "    </tr>\n",
       "    <tr>\n",
       "      <th>...</th>\n",
       "      <td>...</td>\n",
       "      <td>...</td>\n",
       "    </tr>\n",
       "    <tr>\n",
       "      <th>68</th>\n",
       "      <td>29 Nov, 2020</td>\n",
       "      <td>My dear countrymen,Namaskar! I want to share a...</td>\n",
       "    </tr>\n",
       "    <tr>\n",
       "      <th>69</th>\n",
       "      <td>27 Dec, 2020</td>\n",
       "      <td>My dear countrymen,Namaskar. Today is the 27th...</td>\n",
       "    </tr>\n",
       "    <tr>\n",
       "      <th>70</th>\n",
       "      <td>31 Jan, 2021</td>\n",
       "      <td>My dear countrymen,Namaskar. When I express Ma...</td>\n",
       "    </tr>\n",
       "    <tr>\n",
       "      <th>71</th>\n",
       "      <td>28 Feb, 2021</td>\n",
       "      <td>My dear countrymen,Namaskar. Yesterday was the...</td>\n",
       "    </tr>\n",
       "    <tr>\n",
       "      <th>72</th>\n",
       "      <td>28 Mar, 2021</td>\n",
       "      <td>My dear countrymen, Namaskar. This time when I...</td>\n",
       "    </tr>\n",
       "  </tbody>\n",
       "</table>\n",
       "<p>73 rows × 2 columns</p>\n",
       "</div>"
      ],
      "text/plain": [
       "     Speech_date                                             Speech\n",
       "0   03 Oct, 2014  My Dear Countrymen,Today is the holy festival ...\n",
       "1   02 Nov, 2014  My dear fellow countrymen, I am with you again...\n",
       "2   14 Dec, 2014  My Dear Fellow Countrymen,Today I have this gr...\n",
       "3   27 Jan, 2015  Today, Shri Barack Obama, President of the Uni...\n",
       "4   22 Feb, 2015  Hello, my young friends. Today probably the en...\n",
       "..           ...                                                ...\n",
       "68  29 Nov, 2020  My dear countrymen,Namaskar! I want to share a...\n",
       "69  27 Dec, 2020  My dear countrymen,Namaskar. Today is the 27th...\n",
       "70  31 Jan, 2021  My dear countrymen,Namaskar. When I express Ma...\n",
       "71  28 Feb, 2021  My dear countrymen,Namaskar. Yesterday was the...\n",
       "72  28 Mar, 2021  My dear countrymen, Namaskar. This time when I...\n",
       "\n",
       "[73 rows x 2 columns]"
      ]
     },
     "execution_count": 1,
     "metadata": {},
     "output_type": "execute_result"
    }
   ],
   "source": [
    "import pandas as pd\n",
    "import re\n",
    "import string\n",
    "import spacy\n",
    "import nltk\n",
    "from nltk.tokenize import word_tokenize\n",
    "from nltk.corpus import stopwords\n",
    "from nltk.stem import WordNetLemmatizer\n",
    "from nltk.tokenize import word_tokenize\n",
    "import gensim\n",
    "from gensim import corpora\n",
    "\n",
    "all_speeches = pd.read_csv('mann_ki_baat.csv', encoding='UTF-8')\n",
    "all_speeches = all_speeches.drop(['Unnamed: 0'], axis= 1)\n",
    "all_speeches"
   ]
  },
  {
   "cell_type": "code",
   "execution_count": null,
   "metadata": {},
   "outputs": [],
   "source": [
    "def preprocess(text):\n",
    "    input_str = text.lower()\n",
    "    input_str = re.sub(r'\\d+', '', input_str)\n",
    "    input_str = input_str.translate(str.maketrans(string.punctuation, ' '*len(string.punctuation)))\n",
    "    result = input_str.strip()\n",
    "    stop_words = set(stopwords.words('english'))\n",
    "    tokens = word_tokenize(result)\n",
    "    result = [i for i in tokens if not i in stop_words]\n",
    "    \n",
    "    remove = ['’','‘','“', '”', 'th', 'nd', 'st','ji','ii']\n",
    "    final = []\n",
    "    for word in result :\n",
    "        if word not in remove :\n",
    "            final.append(word)\n",
    "        else :\n",
    "            pass\n",
    "    return result"
   ]
  },
  {
   "cell_type": "code",
   "execution_count": null,
   "metadata": {},
   "outputs": [],
   "source": [
    "all_speeches['Preprocessed'] = all_speeches['Speech'].apply(preprocess)"
   ]
  },
  {
   "cell_type": "code",
   "execution_count": null,
   "metadata": {},
   "outputs": [],
   "source": [
    "all_speeches\n"
   ]
  },
  {
   "cell_type": "code",
   "execution_count": null,
   "metadata": {},
   "outputs": [],
   "source": [
    "# from nltk.stem import WordNetLemmatizer\n",
    "# # nltk.download('wordnet')\n",
    "# from nltk.tokenize import word_tokenize\n",
    "# lemmatizer=WordNetLemmatizer()\n",
    "# lema_words = []\n",
    "\n",
    "# for word in result3:\n",
    "#     lema_words.append(lemmatizer.lemmatize(word))"
   ]
  },
  {
   "cell_type": "code",
   "execution_count": 20,
   "metadata": {},
   "outputs": [
    {
     "name": "stderr",
     "output_type": "stream",
     "text": [
      "C:\\Users\\anush\\anaconda3\\envs\\nlp\\lib\\site-packages\\ipykernel\\ipkernel.py:287: DeprecationWarning: `should_run_async` will not call `transform_cell` automatically in the future. Please pass the result to `transformed_cell` argument and any exception that happen during thetransform in `preprocessing_exc_tuple` in IPython 7.17 and above.\n",
      "  and should_run_async(code)\n"
     ]
    }
   ],
   "source": [
    "nlp = spacy.load('en_core_web_sm', disable=['parser','ner'])\n",
    "\n",
    "def lemmatization(text, allowed_postags=['PROPN', 'NOUN', 'ADJ']):\n",
    "    output = []\n",
    "    for sent in text :\n",
    "        doc = nlp(sent)\n",
    "#         output.append([token.lemma_ for token in doc if token.pos_ in allowed_postags])\n",
    "#         output.append([token for token in doc])\n",
    "        output.append([token.lemma_ for token in doc if token.pos_ in allowed_postags])\n",
    "    return output"
   ]
  },
  {
   "cell_type": "code",
   "execution_count": 21,
   "metadata": {},
   "outputs": [
    {
     "name": "stdout",
     "output_type": "stream",
     "text": [
      "['My Dear Countrymen,Today is the holy festival of Vijay Dashami.', 'My heartiest greetings on this occasion of Vijay Dashami to one and all.Through the medium of radio, I would like to share few heartfelt thoughts with you today.', 'And, I hope that not only today, this series of conversation may be carried out regularly in future.', 'I will try my best, if possible, to take out time twice a month or even once to speak with you.', 'In future, I have also decided that whenever I will speak to you, it would be on Sundays and time would be morning 11.', 'In that way, it would be convenient for you too and I will feel contented with the fact that I am successful in sharing my thoughts with you.We are celebrating the festival of Vijay Dashami today, which symbolises the triumph of Good over Evil.', 'But one gentleman named Ganesh Venkatadari, a native of Mumbai, sent me a mail and has written to me that we must take a vow to eliminate ten bad habits from within ourselves on this occasion of Vijay Dashami.', 'I express my gratitude to him for this recommendation.', 'We all, as individuals, must be thinking to put an end to all our bad habits and win over them, although, with respect to our nation, I believe we all should come together and take a vow in eliminating all the dirt from our country.', 'On this occasion of Vijay Dashami, we must take a vow to eliminate dirt and filth and we can do so on this occasion.Yesterday, on 2nd October on the eve of Mahatma Gandhi’s birth anniversary, more than 1.25 crore countrymen have started the ‘Swachh Bharat’ movement.', 'I had shared one thought yesterday which is that I will nominate nine people and they need to upload their videos of cleaning the nation on social media websites, and nominating nine more people to do the same.', 'I want you all to join me, clean the nation, and nominate nine more people to clean the nation, and those nine people must do the same.', 'Eventually, the entire nation will have this atmosphere.', 'I strongly believe that you all will join hands with me to carry this movement forward.Whenever, we think of Mahatma Gandhi, naturally we are reminded of Khaadi.', 'You may be wearing variety of clothes with different fabrics and company brands in your family.', 'But is it not possible to include Khaadi too?', 'I am not telling you to use only Khaadi products.', 'I am just insisting to use, at least one Khaadi product, like handkerchief, or a bath towel, a bed sheet, a pillow cover, a curtain or anything of that kind.', 'If you have an inclination for all kinds of fabrics and clothes in your family, you can also buy Khaadi products on a regular basis.', 'I am saying this as when you buy Khaadi products, it helps poor people to light lamps on Diwali.', 'Also, you can avail a special discount on Khaadi products from 2nd October for a month.', 'It is a very small thing, but has very big impact which binds you with the poor.', 'How you see this as a success.', 'When I speak of 1.25 crore countrymen and infer the outcome, we might assume that government will take care of everything and as individuals we stand nowhere.', 'We have seen that if we intend to progress then we need to identify our potential, understand our strengths and I can swear that we form the incomparable souls of this world.', 'You all know that our own scientists have been successful in reaching Mars, bearing least expenses.', 'We do not lack in our strengths, but have forgotten our strong points.', 'We have forgotten ourselves.', 'We have become hopeless.', 'My dear Brothers and Sisters I cannot let this happen.', 'I always remember one of the sayings by Swami Vivekananda ji as he always used to emphasize on one thought and possibly, he might have shared this thought with many others.Vivekananda ii used to say, once a lioness was carrying her two cubs on the way and came upon a flock of sheep from a distance.', 'She got a desire to prey upon them and started running towards the flock.', 'Seeing her running, one of the cub too, joined her.', 'The other cub was left behind and the lioness moved on, post preying upon the flock.', 'One of the cub went with the lioness but the other cub was left behind, and was brought up by a mother sheep.', 'He grew among the sheep, started speaking their language and adapted their ways of life.', 'He used to sit, laugh and enjoy with them.', 'The cub who went with the lioness, was a grown-up now.', 'Once, he happened to meet his brother and was shocked to see him.', 'He thought in his mind,” He is a lion and is playing with sheep, talking like sheep.', 'What is wrong with him?', 'He felt that his ego was at stake and went to talk to his brother.', 'He said,” What are you doing, brother?', 'You are a lion.” He gets a reply from his brother, “No, I am a sheep.', 'I grew up with them.', 'They have brought me up.', 'Listen to my voice and the way I talk.” He said, “Come, I will show you, who you really are.” He took his brother to a well and told him to look in the water his own reflection, and asked him, if both of them had similar faces.', '“I am a lion, you, too, are a lion.” His brother’s self-esteem got awakened; he attained self-realization through this and even a lion brought up among sheep started roaring like a lion.', 'His inner entity was awakened.', 'Swami Vivekananda ji used to say the same.', 'My countrymen, 125 crore Indians have indefinite strengths and capabilities.', 'We need to understand ourselves.', 'We need to identify our inner strengths and like Swami ji always used to say, we need to carry our self-respect, identify ourselves and move forward in life and be successful, which in turn, make our nation a winning and successful country.', 'I believe, all our countrymen with a population of 125 crores are efficient, strong and can stand against any odds with confidence.These days, I have been getting many letters through social media websites, like Facebook, from my friends.', 'One of them, Mr. Gautam Pal, has addressed an issue regarding the specially-abled children.', 'He has suggested forming separate Municipality, Municipal Corporation or councils for them.', 'We need to plan something for them for enhancing their moral support.', 'I liked his suggestion and I have experienced this during my day as Chief Minister of Gujarat.', 'A Special Olympics was held in Athens in 2011.', 'After the Olympics I had called all the participants and winners of specially-abled category from Gujarat to my home.', 'I spent two hours with them, and it was the most emotional and inspiring incident of my life.', 'As I believe, a specially-abled child is not only the responsibility of the parents in a family, it is the responsibility of the entire society.', 'God has chosen this family to support a specially-abled child, but a child is a responsibility of the entire nation.', 'After this incident, I got so emotionally attached with them, I started organizing separate Olympics for them in Gujarat.', 'Thousands of children with their parents used to come and attend, I, too, used to attend the Olympics.', 'There was an atmosphere of trust and, this is the reason, I liked the suggestion given by Mr. Gautam Pal and I felt like sharing this thought with you.It reminds me of another story.', 'Once, a traveller was sitting at the corner of a road, and was asking everyone the way to a specific place.', 'He continued asking the route from many people.', 'A man, sitting beside him was observing him.', 'The traveller stood up and started asking passers-by again.', 'He stood up and said,” The way to your destination is here.” The traveller, then, said,” Brother, you were sitting next to me for so long, saw me asking everyone the route.', 'If you knew the route, why didn’t you tell me before?” The man answered,” I was waiting to verify if you really intend to reach your destination or you are asking people just for your knowledge.', 'But, when you stood up, I was assured that you truly wish to reach your destination, and decided to confirm the address”.My countrymen, till the time we do not decide to walk, stand on our own, we will also not the get the guidance from others in our journey.', 'We will not get the people to hold our hand and help us in walking.', 'We need to take the initiative in walking and I trust all my 125 crore Indians, who are capable of walking on their own and will keep moving.For the past few days, I have been getting very interesting suggestions from people.', 'I am aware, when to adapt to these suggestions.', 'But, I want everyone to actively participate in these suggestions as we all belong to our nation, the nation does not only belong to any Government.', 'We are the citizens of our Nation and we all need to unite without any exceptions.', 'Some of you have suggested simplifying the registration process for Small Scale Industries.', 'I will definitely put this under Government’s notice.', 'Some of you have written to me to incorporate skills development courses in the school curriculum from 5th standard.', 'This will help the students to learn various skills and crafts.', 'I loved this effective suggestion given by them.', 'They have also suggested that even the adults should learn skills development courses along with their studies.', 'One of the suggestions given was to keep a dustbin at every 100 meters and a cleaning system should be established.Some of you have written to me, to abolish the use of plastic bags.', 'I am receiving numerous suggestions from people.', 'I have always been telling you, to write to me and narrate a true incident, which is positive and inspiring to me and our Countrymen, along with the evidence.', 'If you do this, I can promise this to you, that I will share all those heartfelt thoughts or suggestions with all our Countrymen, through “Mann ki Baat”.I have only one intention in speaking with you all,” Come, let us serve our Mother India.', 'Let us all take our nation to the new heights.', 'Let us all take a step forward.', 'If you take one step, our nation takes 125 crore steps to move forward, and for this purpose, on this auspicious occasion of Vijay Dashami, we all need to defeat all of our inner evils and decide to start doing something good for the nation.', 'Today is the fortunate beginning for me.', 'I will be sharing my heartfelt thoughts with one and all.', 'Today, I have shared all the thoughts coming directly from my heart.', 'I will meet you all next at 11 am on Sundays, but I trust our journey shall never end and will continue receiving love and suggestions from you.After listening to my thoughts, please do not hesitate in sharing your thoughts or advice to me, I will appreciate that your suggestions keep coming.', 'I am glad to talk with you through this simple medium of Radio, which serves each and every corner of the nation.', 'I can reach the poorest homes, as mine, my nation’s strength lies within the hut of Poor, within the villages; my nation’s strength lies with the Mothers, Sisters and Youths; my nation’s strength lies with the farmers.', 'Nation will only progress, if you believe in it.', 'I am expressing my trust towards the nation.', 'I believe in your strength, hence, I believe in our nation’s future.I would once again, like to thank one and all for taking out time and listening to me.', 'Thank you all.', '(The original speech was in Hindi, this is the English rendering.', 'Original speech remains the authoritative version)']\n"
     ]
    },
    {
     "name": "stderr",
     "output_type": "stream",
     "text": [
      "C:\\Users\\anush\\anaconda3\\envs\\nlp\\lib\\site-packages\\ipykernel\\ipkernel.py:287: DeprecationWarning: `should_run_async` will not call `transform_cell` automatically in the future. Please pass the result to `transformed_cell` argument and any exception that happen during thetransform in `preprocessing_exc_tuple` in IPython 7.17 and above.\n",
      "  and should_run_async(code)\n"
     ]
    }
   ],
   "source": [
    "from nltk.tokenize import sent_tokenize\n",
    "\n",
    "tokenized_sent=sent_tokenize(all_speeches['Speech'][0])\n",
    "print(tokenized_sent)"
   ]
  },
  {
   "cell_type": "code",
   "execution_count": 22,
   "metadata": {},
   "outputs": [
    {
     "name": "stderr",
     "output_type": "stream",
     "text": [
      "C:\\Users\\anush\\anaconda3\\envs\\nlp\\lib\\site-packages\\ipykernel\\ipkernel.py:287: DeprecationWarning: `should_run_async` will not call `transform_cell` automatically in the future. Please pass the result to `transformed_cell` argument and any exception that happen during thetransform in `preprocessing_exc_tuple` in IPython 7.17 and above.\n",
      "  and should_run_async(code)\n"
     ]
    },
    {
     "name": "stdout",
     "output_type": "stream",
     "text": [
      "[['Dear', 'Countrymen', 'today', 'holy', 'festival', 'Vijay', 'Dashami'], ['heartiest', 'greeting', 'occasion', 'Vijay', 'Dashami', 'medium', 'radio', 'few', 'heartfelt', 'thought', 'today'], ['today', 'series', 'conversation', 'future'], ['good', 'possible', 'time', 'month'], ['future', 'Sundays', 'time', 'morning'], ['way', 'convenient', 'fact', 'successful', 'thought', 'festival', 'Vijay', 'Dashami', 'today', 'triumph', 'good', 'Evil'], ['gentleman', 'Ganesh', 'Venkatadari', 'native', 'Mumbai', 'mail', 'vow', 'bad', 'habit', 'occasion', 'Vijay', 'Dashami'], ['gratitude', 'recommendation'], ['individual', 'end', 'bad', 'habit', 'respect', 'nation', 'vow', 'dirt', 'country'], ['occasion', 'Vijay', 'Dashami', 'vow', 'dirt', 'filth', 'occasion', 'yesterday', '2nd', 'October', 'eve', 'Mahatma', 'Gandhi', 'birth', 'anniversary', 'more', 'crore', 'countryman', 'Swachh', 'Bharat', 'movement'], ['thought', 'yesterday', 'people', 'video', 'nation', 'social', 'medium', 'website', 'more', 'people', 'same'], ['nation', 'more', 'people', 'nation', 'people', 'same'], ['entire', 'nation', 'atmosphere'], ['hand', 'movement', 'Mahatma', 'Gandhi', 'Khaadi'], ['variety', 'clothe', 'different', 'fabric', 'company', 'brand', 'family'], ['possible', 'Khaadi'], ['only', 'Khaadi', 'product'], ['least', 'Khaadi', 'product', 'handkerchief', 'bath', 'towel', 'bed', 'sheet', 'pillow', 'cover', 'curtain', 'kind'], ['inclination', 'kind', 'fabric', 'clothe', 'family', 'Khaadi', 'product', 'regular', 'basis'], ['Khaadi', 'product', 'poor', 'people', 'lamp', 'Diwali'], ['special', 'discount', 'khaadi', 'product', '2nd', 'October', 'month'], ['small', 'thing', 'big', 'impact', 'poor'], ['success'], ['crore', 'countryman', 'outcome', 'government', 'care', 'individual'], ['potential', 'strength', 'incomparable', 'soul', 'world'], ['own', 'scientist', 'successful', 'Mars', 'least', 'expense'], ['strength', 'strong', 'point'], [], ['hopeless'], ['dear', 'Brothers', 'Sisters'], ['saying', 'Swami', 'Vivekananda', 'ji', 'thought', 'thought', 'many', 'other', 'Vivekananda', 'ii', 'lioness', 'cub', 'way', 'flock', 'sheep', 'distance'], ['desire', 'flock'], ['cub'], ['other', 'cub', 'lioness', 'post', 'flock'], ['cub', 'lioness', 'other', 'cub', 'mother', 'sheep'], ['sheep', 'language', 'way', 'life'], [], ['cub', 'lioness', 'grown', 'up'], ['brother', 'shocked'], ['mind', 'lion', 'sheep', 'sheep'], ['wrong'], ['ego', 'stake', 'brother'], ['brother'], ['lion', 'reply', 'brother', 'sheep'], [], [], ['voice', 'way', 'brother', 'well', 'water', 'own', 'reflection', 'similar', 'face'], ['lion', 'lion', 'brother', 'self', 'esteem', 'self', 'realization', 'lion', 'sheep', 'lion'], ['inner', 'entity'], ['Swami', 'Vivekananda', 'ji', 'same'], ['countryman', 'crore', 'Indians', 'indefinite', 'strength', 'capability'], [], ['inner', 'strength', 'Swami', 'ji', 'self', 'respect', 'life', 'successful', 'turn', 'nation', 'successful', 'country'], ['countryman', 'population', 'crore', 'efficient', 'strong', 'odd', 'confidence', 'day', 'many', 'letter', 'social', 'medium', 'website', 'Facebook', 'friend'], ['Mr.', 'Gautam', 'Pal', 'issue', 'child'], ['separate', 'Municipality', 'Municipal', 'Corporation', 'council'], ['moral', 'support'], ['suggestion', 'day', 'Chief', 'Minister', 'Gujarat'], ['Special', 'Olympics', 'Athens'], ['Olympics', 'participant', 'winner', 'category', 'Gujarat', 'home'], ['hour', 'emotional', 'inspiring', 'incident', 'life'], ['child', 'responsibility', 'parent', 'family', 'responsibility', 'entire', 'society'], ['God', 'family', 'child', 'child', 'responsibility', 'entire', 'nation'], ['incident', 'separate', 'Olympics', 'Gujarat'], ['thousand', 'child', 'parent', 'Olympics'], ['atmosphere', 'trust', 'reason', 'suggestion', 'Mr.', 'Gautam', 'Pal', 'thought', 'story'], ['traveller', 'corner', 'road', 'way', 'specific', 'place'], ['route', 'many', 'people'], ['man'], ['traveller', 'passer'], ['way', 'destination', 'traveller', 'brother', 'route'], ['route', 'man', 'destination', 'people', 'knowledge'], ['destination', 'address”', 'countryman', 'time', 'own', 'guidance', 'other', 'journey'], ['people', 'hand'], ['initiative', 'crore', 'Indians', 'capable', 'own', 'past', 'few', 'day', 'interesting', 'suggestion', 'people'], ['aware', 'suggestion'], ['suggestion', 'nation', 'nation', 'Government'], ['citizen', 'Nation', 'exception'], ['registration', 'process', 'Small', 'Scale', 'Industries'], ['Government', 'notice'], ['skill', 'development', 'course', 'school', 'curriculum', '5th', 'standard'], ['student', 'various', 'skill', 'craft'], ['effective', 'suggestion'], ['adult', 'skill', 'development', 'course', 'study'], ['suggestion', 'dustbin', 'meter', 'system', 'use', 'plastic', 'bag'], ['numerous', 'suggestion', 'people'], ['true', 'incident', 'positive', 'inspiring', 'countryman', 'evidence'], ['heartfelt', 'thought', 'suggestion', 'countryman', 'Mann', 'ki', 'intention', 'Mother', 'India'], ['nation', 'new', 'height'], ['step'], ['step', 'nation', 'crore', 'step', 'purpose', 'auspicious', 'occasion', 'Vijay', 'Dashami', 'inner', 'evil', 'good', 'nation'], ['today', 'fortunate', 'beginning'], ['heartfelt', 'thought'], ['today', 'thought', 'heart'], ['am', 'Sundays', 'journey', 'love', 'suggestion', 'thought', 'thought', 'advice', 'suggestion'], ['glad', 'simple', 'medium', 'Radio', 'corner', 'nation'], ['poor', 'home', 'nation', 'strength', 'hut', 'Poor', 'village', 'nation', 'strength', 'Mothers', 'Sisters', 'Youths', 'nation', 'strength', 'farmer'], ['nation'], ['trust', 'nation'], ['strength', 'nation', 'future', 'time'], [], ['original', 'speech', 'Hindi', 'english', 'rendering'], ['original', 'speech', 'authoritative', 'version']]\n"
     ]
    }
   ],
   "source": [
    "# for i in range(len(all_speeches)) :\n",
    "tokenized = lemmatization(tokenized_sent)\n",
    "print(tokenized)"
   ]
  },
  {
   "cell_type": "code",
   "execution_count": 24,
   "metadata": {},
   "outputs": [
    {
     "name": "stdout",
     "output_type": "stream",
     "text": [
      "[['Dear', 'Countrymen', 'today', 'holy', 'festival', 'Vijay', 'Dashami'], ['heartiest', 'greeting', 'occasion', 'Vijay', 'Dashami', 'medium', 'radio', 'heartfelt', 'thought', 'today'], ['today', 'series', 'conversation', 'future'], ['good', 'possible', 'time', 'month'], ['future', 'Sundays', 'time', 'morning'], ['way', 'convenient', 'fact', 'successful', 'thought', 'festival', 'Vijay', 'Dashami', 'today', 'triumph', 'good', 'Evil'], ['gentleman', 'Ganesh', 'Venkatadari', 'native', 'Mumbai', 'mail', 'vow', 'bad', 'habit', 'occasion', 'Vijay', 'Dashami'], ['gratitude', 'recommendation'], ['individual', 'end', 'bad', 'habit', 'respect', 'nation', 'vow', 'dirt', 'country'], ['occasion', 'Vijay', 'Dashami', 'vow', 'dirt', 'filth', 'occasion', 'yesterday', '2nd', 'October', 'eve', 'Mahatma', 'Gandhi', 'birth', 'anniversary', 'crore', 'countryman', 'Swachh', 'Bharat', 'movement'], ['thought', 'yesterday', 'people', 'video', 'nation', 'social', 'medium', 'website', 'people'], ['nation', 'people', 'nation', 'people'], ['entire', 'nation', 'atmosphere'], ['hand', 'movement', 'Mahatma', 'Gandhi', 'Khaadi'], ['variety', 'clothe', 'different', 'fabric', 'company', 'brand', 'family'], ['possible', 'Khaadi'], ['Khaadi', 'product'], ['least', 'Khaadi', 'product', 'handkerchief', 'bath', 'towel', 'bed', 'sheet', 'pillow', 'cover', 'curtain', 'kind'], ['inclination', 'kind', 'fabric', 'clothe', 'family', 'Khaadi', 'product', 'regular', 'basis'], ['Khaadi', 'product', 'poor', 'people', 'lamp', 'Diwali'], ['special', 'discount', 'khaadi', 'product', '2nd', 'October', 'month'], ['small', 'thing', 'big', 'impact', 'poor'], ['success'], ['crore', 'countryman', 'outcome', 'government', 'care', 'individual'], ['potential', 'strength', 'incomparable', 'soul', 'world'], ['scientist', 'successful', 'Mars', 'least', 'expense'], ['strength', 'strong', 'point'], [], ['hopeless'], ['dear', 'Brothers', 'Sisters'], ['saying', 'Swami', 'Vivekananda', 'ji', 'thought', 'thought', 'many', 'Vivekananda', 'ii', 'lioness', 'cub', 'way', 'flock', 'sheep', 'distance'], ['desire', 'flock'], ['cub'], ['cub', 'lioness', 'post', 'flock'], ['cub', 'lioness', 'cub', 'mother', 'sheep'], ['sheep', 'language', 'way', 'life'], [], ['cub', 'lioness', 'grown'], ['brother', 'shocked'], ['mind', 'lion', 'sheep', 'sheep'], ['wrong'], ['ego', 'stake', 'brother'], ['brother'], ['lion', 'reply', 'brother', 'sheep'], [], [], ['voice', 'way', 'brother', 'well', 'water', 'reflection', 'similar', 'face'], ['lion', 'lion', 'brother', 'self', 'esteem', 'self', 'realization', 'lion', 'sheep', 'lion'], ['inner', 'entity'], ['Swami', 'Vivekananda', 'ji'], ['countryman', 'crore', 'Indians', 'indefinite', 'strength', 'capability'], [], ['inner', 'strength', 'Swami', 'ji', 'self', 'respect', 'life', 'successful', 'turn', 'nation', 'successful', 'country'], ['countryman', 'population', 'crore', 'efficient', 'strong', 'odd', 'confidence', 'day', 'many', 'letter', 'social', 'medium', 'website', 'Facebook', 'friend'], ['Mr.', 'Gautam', 'Pal', 'issue', 'child'], ['separate', 'Municipality', 'Municipal', 'Corporation', 'council'], ['moral', 'support'], ['suggestion', 'day', 'Chief', 'Minister', 'Gujarat'], ['Special', 'Olympics', 'Athens'], ['Olympics', 'participant', 'winner', 'category', 'Gujarat', 'home'], ['hour', 'emotional', 'inspiring', 'incident', 'life'], ['child', 'responsibility', 'parent', 'family', 'responsibility', 'entire', 'society'], ['God', 'family', 'child', 'child', 'responsibility', 'entire', 'nation'], ['incident', 'separate', 'Olympics', 'Gujarat'], ['thousand', 'child', 'parent', 'Olympics'], ['atmosphere', 'trust', 'reason', 'suggestion', 'Mr.', 'Gautam', 'Pal', 'thought', 'story'], ['traveller', 'corner', 'road', 'way', 'specific', 'place'], ['route', 'many', 'people'], ['man'], ['traveller', 'passer'], ['way', 'destination', 'traveller', 'brother', 'route'], ['route', 'man', 'destination', 'people', 'knowledge'], ['destination', 'address”', 'countryman', 'time', 'guidance', 'journey'], ['people', 'hand'], ['initiative', 'crore', 'Indians', 'capable', 'past', 'day', 'interesting', 'suggestion', 'people'], ['aware', 'suggestion'], ['suggestion', 'nation', 'nation', 'Government'], ['citizen', 'Nation', 'exception'], ['registration', 'process', 'Small', 'Scale', 'Industries'], ['Government', 'notice'], ['skill', 'development', 'course', 'school', 'curriculum', '5th', 'standard'], ['student', 'various', 'skill', 'craft'], ['effective', 'suggestion'], ['adult', 'skill', 'development', 'course', 'study'], ['suggestion', 'dustbin', 'meter', 'system', 'use', 'plastic', 'bag'], ['numerous', 'suggestion', 'people'], ['true', 'incident', 'positive', 'inspiring', 'countryman', 'evidence'], ['heartfelt', 'thought', 'suggestion', 'countryman', 'Mann', 'ki', 'intention', 'Mother', 'India'], ['nation', 'new', 'height'], ['step'], ['step', 'nation', 'crore', 'step', 'purpose', 'auspicious', 'occasion', 'Vijay', 'Dashami', 'inner', 'evil', 'good', 'nation'], ['today', 'fortunate', 'beginning'], ['heartfelt', 'thought'], ['today', 'thought', 'heart'], ['Sundays', 'journey', 'love', 'suggestion', 'thought', 'thought', 'advice', 'suggestion'], ['glad', 'simple', 'medium', 'Radio', 'corner', 'nation'], ['poor', 'home', 'nation', 'strength', 'hut', 'Poor', 'village', 'nation', 'strength', 'Mothers', 'Sisters', 'Youths', 'nation', 'strength', 'farmer'], ['nation'], ['trust', 'nation'], ['strength', 'nation', 'future', 'time'], [], ['original', 'speech', 'Hindi', 'english', 'rendering'], ['original', 'speech', 'authoritative', 'version']]\n"
     ]
    },
    {
     "name": "stderr",
     "output_type": "stream",
     "text": [
      "C:\\Users\\anush\\anaconda3\\envs\\nlp\\lib\\site-packages\\ipykernel\\ipkernel.py:287: DeprecationWarning: `should_run_async` will not call `transform_cell` automatically in the future. Please pass the result to `transformed_cell` argument and any exception that happen during thetransform in `preprocessing_exc_tuple` in IPython 7.17 and above.\n",
      "  and should_run_async(code)\n"
     ]
    }
   ],
   "source": [
    "stop_words = set(stopwords.words('english'))\n",
    "result = []\n",
    "for i in range(len(tokenized)) :\n",
    "    tokens = tokenized[i]\n",
    "    result.append([i for i in tokens if not i in stop_words])\n",
    "print(result)"
   ]
  },
  {
   "cell_type": "code",
   "execution_count": 25,
   "metadata": {},
   "outputs": [
    {
     "name": "stderr",
     "output_type": "stream",
     "text": [
      "C:\\Users\\anush\\anaconda3\\envs\\nlp\\lib\\site-packages\\ipykernel\\ipkernel.py:287: DeprecationWarning: `should_run_async` will not call `transform_cell` automatically in the future. Please pass the result to `transformed_cell` argument and any exception that happen during thetransform in `preprocessing_exc_tuple` in IPython 7.17 and above.\n",
      "  and should_run_async(code)\n"
     ]
    }
   ],
   "source": [
    "dictionary = corpora.Dictionary(tokenized)\n",
    "doc_term_matrix = [dictionary.doc2bow(rev) for rev in tokenized]"
   ]
  },
  {
   "cell_type": "code",
   "execution_count": 52,
   "metadata": {},
   "outputs": [
    {
     "name": "stderr",
     "output_type": "stream",
     "text": [
      "C:\\Users\\anush\\anaconda3\\envs\\nlp\\lib\\site-packages\\ipykernel\\ipkernel.py:287: DeprecationWarning: `should_run_async` will not call `transform_cell` automatically in the future. Please pass the result to `transformed_cell` argument and any exception that happen during thetransform in `preprocessing_exc_tuple` in IPython 7.17 and above.\n",
      "  and should_run_async(code)\n"
     ]
    }
   ],
   "source": [
    "LDA = gensim.models.ldamodel.LdaModel\n",
    "\n",
    "lda_model = LDA(corpus=doc_term_matrix, id2word=dictionary, num_topics=5, \n",
    "                random_state=100, chunksize=1, passes=50, iterations=10)"
   ]
  },
  {
   "cell_type": "code",
   "execution_count": 53,
   "metadata": {},
   "outputs": [
    {
     "name": "stderr",
     "output_type": "stream",
     "text": [
      "C:\\Users\\anush\\anaconda3\\envs\\nlp\\lib\\site-packages\\ipykernel\\ipkernel.py:287: DeprecationWarning: `should_run_async` will not call `transform_cell` automatically in the future. Please pass the result to `transformed_cell` argument and any exception that happen during thetransform in `preprocessing_exc_tuple` in IPython 7.17 and above.\n",
      "  and should_run_async(code)\n"
     ]
    },
    {
     "data": {
      "text/plain": [
       "[(0,\n",
       "  '0.145*\"strength\" + 0.035*\"home\" + 0.031*\"skill\" + 0.030*\"medium\" + 0.021*\"development\" + 0.021*\"course\" + 0.020*\"inner\" + 0.018*\"hut\" + 0.018*\"village\" + 0.018*\"Youths\"'),\n",
       " (1,\n",
       "  '0.153*\"suggestion\" + 0.044*\"countryman\" + 0.037*\"people\" + 0.033*\"crore\" + 0.017*\"numerous\" + 0.017*\"advice\" + 0.017*\"am\" + 0.017*\"love\" + 0.016*\"Sundays\" + 0.013*\"effective\"'),\n",
       " (2,\n",
       "  '0.091*\"speech\" + 0.091*\"original\" + 0.050*\"step\" + 0.047*\"version\" + 0.047*\"authoritative\" + 0.044*\"english\" + 0.044*\"rendering\" + 0.044*\"Hindi\" + 0.028*\"corner\" + 0.014*\"Dashami\"'),\n",
       " (3,\n",
       "  '0.296*\"nation\" + 0.039*\"trust\" + 0.022*\"Sisters\" + 0.022*\"poor\" + 0.017*\"height\" + 0.017*\"new\" + 0.016*\"farmer\" + 0.016*\"village\" + 0.016*\"Youths\" + 0.016*\"hut\"'),\n",
       " (4,\n",
       "  '0.125*\"thought\" + 0.049*\"today\" + 0.047*\"time\" + 0.035*\"heartfelt\" + 0.030*\"journey\" + 0.027*\"heart\" + 0.023*\"fortunate\" + 0.023*\"beginning\" + 0.019*\"incident\" + 0.018*\"future\"')]"
      ]
     },
     "execution_count": 53,
     "metadata": {},
     "output_type": "execute_result"
    }
   ],
   "source": [
    "lda_model.print_topics()"
   ]
  },
  {
   "cell_type": "code",
   "execution_count": 54,
   "metadata": {},
   "outputs": [
    {
     "name": "stderr",
     "output_type": "stream",
     "text": [
      "C:\\Users\\anush\\anaconda3\\envs\\nlp\\lib\\site-packages\\ipykernel\\ipkernel.py:287: DeprecationWarning: `should_run_async` will not call `transform_cell` automatically in the future. Please pass the result to `transformed_cell` argument and any exception that happen during thetransform in `preprocessing_exc_tuple` in IPython 7.17 and above.\n",
      "  and should_run_async(code)\n"
     ]
    },
    {
     "data": {
      "text/html": [
       "\n",
       "<link rel=\"stylesheet\" type=\"text/css\" href=\"https://cdn.jsdelivr.net/gh/bmabey/pyLDAvis@3.3.1/pyLDAvis/js/ldavis.v1.0.0.css\">\n",
       "\n",
       "\n",
       "<div id=\"ldavis_el1708819191722266247643742410\"></div>\n",
       "<script type=\"text/javascript\">\n",
       "\n",
       "var ldavis_el1708819191722266247643742410_data = {\"mdsDat\": {\"x\": [-0.1629615854303979, -0.11187077122533227, 0.03255843400471504, 0.14417407154961356, 0.0980998511014013], \"y\": [-0.06084058414378154, -0.008951519735603266, 0.2158450170576404, -0.0784798557473632, -0.06757305743089216], \"topics\": [1, 2, 3, 4, 5], \"cluster\": [1, 1, 1, 1, 1], \"Freq\": [26.41060419934401, 26.011923815468087, 17.68887422968495, 16.16446982222281, 13.724127933280142]}, \"tinfo\": {\"Term\": [\"nation\", \"suggestion\", \"thought\", \"strength\", \"speech\", \"original\", \"today\", \"step\", \"version\", \"authoritative\", \"time\", \"countryman\", \"Hindi\", \"english\", \"rendering\", \"trust\", \"people\", \"home\", \"crore\", \"skill\", \"heartfelt\", \"medium\", \"corner\", \"journey\", \"heart\", \"Sisters\", \"poor\", \"Poor\", \"Mothers\", \"Youths\", \"thought\", \"today\", \"time\", \"heart\", \"beginning\", \"fortunate\", \"incident\", \"inspiring\", \"journey\", \"heartfelt\", \"own\", \"evidence\", \"positive\", \"true\", \"way\", \"other\", \"destination\", \"many\", \"lion\", \"life\", \"address\\u201d\", \"guidance\", \"future\", \"Sundays\", \"India\", \"Mann\", \"Mother\", \"intention\", \"ki\", \"advice\", \"am\", \"love\", \"route\", \"suggestion\", \"countryman\", \"people\", \"crore\", \"numerous\", \"effective\", \"day\", \"Indians\", \"aware\", \"hand\", \"Gujarat\", \"few\", \"capable\", \"initiative\", \"interesting\", \"past\", \"bag\", \"dustbin\", \"meter\", \"plastic\", \"system\", \"use\", \"advice\", \"am\", \"love\", \"route\", \"Chief\", \"Minister\", \"knowledge\", \"Sundays\", \"India\", \"Mann\", \"Mother\", \"intention\", \"ki\", \"heartfelt\", \"original\", \"speech\", \"step\", \"authoritative\", \"version\", \"Hindi\", \"english\", \"rendering\", \"corner\", \"Dashami\", \"Vijay\", \"occasion\", \"traveller\", \"man\", \"good\", \"brother\", \"auspicious\", \"evil\", \"purpose\", \"passer\", \"separate\", \"Industries\", \"Scale\", \"Small\", \"process\", \"registration\", \"place\", \"road\", \"specific\", \"destination\", \"Radio\", \"glad\", \"simple\", \"bag\", \"dustbin\", \"meter\", \"plastic\", \"system\", \"use\", \"nation\", \"trust\", \"height\", \"new\", \"Government\", \"Sisters\", \"child\", \"poor\", \"notice\", \"responsibility\", \"Mothers\", \"Poor\", \"Youths\", \"farmer\", \"hut\", \"village\", \"entire\", \"parent\", \"Gautam\", \"Mr.\", \"Pal\", \"Radio\", \"glad\", \"simple\", \"atmosphere\", \"God\", \"family\", \"society\", \"thousand\", \"reason\", \"auspicious\", \"evil\", \"purpose\", \"future\", \"good\", \"occasion\", \"strength\", \"skill\", \"home\", \"medium\", \"course\", \"development\", \"inner\", \"adult\", \"study\", \"craft\", \"student\", \"various\", \"5th\", \"curriculum\", \"school\", \"standard\", \"Olympics\", \"Nation\", \"citizen\", \"exception\", \"Mothers\", \"Poor\", \"Youths\", \"farmer\", \"hut\", \"village\", \"poor\", \"Sisters\", \"Radio\", \"glad\", \"future\", \"simple\"], \"Freq\": [26.0, 21.0, 18.0, 11.0, 9.0, 9.0, 7.0, 5.0, 5.0, 5.0, 7.0, 6.0, 4.0, 4.0, 4.0, 4.0, 5.0, 3.0, 5.0, 2.0, 6.0, 3.0, 3.0, 5.0, 4.0, 3.0, 3.0, 3.0, 3.0, 3.0, 17.54178078654365, 6.8435215229859905, 6.676620637898967, 3.7518237961981042, 3.205047302809094, 3.205047302809094, 2.6991682596086326, 2.4105682443750873, 4.263697296954556, 4.870594565513193, 1.6029569398793642, 1.9457035933660616, 1.9457035933660616, 1.9457035933660616, 1.1886542352121654, 0.8660786351133395, 1.0886973371907158, 0.6640435609564369, 0.5756531053964075, 0.5495420341013111, 0.6705057865239692, 0.6705057865239692, 2.4896713810714153, 2.433139099739216, 1.4419794556604784, 1.4419794556604784, 1.4419794556604784, 1.4419794556604784, 1.4419794556604784, 2.3156771506837974, 2.3156771506837974, 2.3156771506837974, 0.9318020072485695, 21.177090042492296, 6.052754523216554, 5.164516393107751, 4.521877358197935, 2.3378720722099864, 1.85752812452239, 1.3803341048750464, 1.158104777087631, 1.117983125512982, 1.0020310398484187, 0.9959503035828062, 1.01719207800125, 0.991513482416373, 0.991513482416373, 0.991513482416373, 0.991513482416373, 1.2403658677132574, 1.2403658677132574, 1.2403658677132574, 1.2403658677132574, 1.2403658677132574, 1.2403658677132574, 2.2953093716662463, 2.2953093716662463, 2.2953093716662463, 1.0783914546573825, 0.4187083005102091, 0.4187083005102091, 0.5564303658865409, 2.162339669028324, 1.2747437911053054, 1.2747437911053054, 1.2747437911053054, 1.2747437911053054, 1.2747437911053054, 1.1578186430217488, 8.543446856291892, 8.543446856291892, 4.748398118519011, 4.472456862412302, 4.472456862412302, 4.133131480061976, 4.133131480061976, 4.133131480061976, 2.664700066948532, 1.3347641023834946, 1.3347641023834946, 1.3223153988758027, 0.8295277446505571, 0.6711571674631226, 1.1857308869902392, 0.5888431514342897, 1.0648564819330484, 1.0648564819330484, 1.0648564819330484, 0.3750397814363014, 0.3534907063496126, 0.4571953942238638, 0.4571953942238638, 0.4571953942238638, 0.4571953942238638, 0.4571953942238638, 0.27385251092747354, 0.27385251092747354, 0.27385251092747354, 0.558941422507539, 0.8217413999593719, 0.8217413999593719, 0.8217413999593719, 0.5326321719686588, 0.5326321719686588, 0.5326321719686588, 0.5326321719686588, 0.5326321719686588, 0.5326321719686588, 25.5156511823512, 3.368776837919681, 1.4359903417259874, 1.4359903417259874, 1.1387996818702735, 1.8794695230025447, 0.7959684919364749, 1.8536336528741133, 0.7235282535517181, 0.49686142938928457, 1.4054091011462437, 1.4054091011462437, 1.4054091011462437, 1.4054091011462437, 1.4054091011462437, 1.4054091011462437, 0.3927415504229575, 0.39182124223237025, 0.3737764776176615, 0.3737764776176615, 0.3737764776176615, 1.1058105308767077, 1.1058105308767077, 1.1058105308767077, 0.2848131586151743, 0.25373517467862533, 0.27275444933951587, 0.22488462221630398, 0.21123995701719595, 0.23049102384736664, 0.5604890318035104, 0.5604890318035104, 0.5604890318035104, 1.06086599916343, 0.4764818526441684, 0.38189126971238824, 10.610415396688573, 2.245393147940362, 2.5845003192802287, 2.2018653462605102, 1.549709695843735, 1.549709695843735, 1.4512323807550258, 0.9119374614534967, 0.9119374614534967, 0.7850434813101341, 0.7850434813101341, 0.7850434813101341, 0.7262402915200276, 0.7262402915200276, 0.7262402915200276, 0.7262402915200276, 0.623995615533921, 0.5906734787111305, 0.5906734787111305, 0.5906734787111305, 1.334136536483404, 1.334136536483404, 1.334136536483404, 1.334136536483404, 1.334136536483404, 1.334136536483404, 0.9266371859184893, 0.9032673538229695, 0.7513886177129696, 0.7513886177129696, 1.128694852902064, 0.7513886177129696], \"Total\": [26.0, 21.0, 18.0, 11.0, 9.0, 9.0, 7.0, 5.0, 5.0, 5.0, 7.0, 6.0, 4.0, 4.0, 4.0, 4.0, 5.0, 3.0, 5.0, 2.0, 6.0, 3.0, 3.0, 5.0, 4.0, 3.0, 3.0, 3.0, 3.0, 3.0, 18.087574284717075, 7.378633315355131, 7.294766619500806, 4.299592234395005, 3.7463069536304054, 3.7463069536304054, 3.227318817370964, 2.9393081080074617, 5.339293852593694, 6.342633905178527, 2.137464737217748, 2.746502711202042, 2.746502711202042, 2.746502711202042, 1.717181396215514, 1.3933059173138347, 2.0707558755432975, 1.264595263664656, 1.1019316629652134, 1.0760507218845667, 1.3454548527818613, 1.3454548527818613, 5.022376795959925, 4.909630104422958, 3.0316556679235953, 3.0316556679235953, 3.0316556679235953, 3.0316556679235953, 3.0316556679235953, 4.925496504404495, 4.925496504404495, 4.925496504404495, 2.3224231902426498, 21.676226843158243, 6.594800474322381, 5.663198312621056, 5.068330095348929, 2.8457969497375575, 2.3659471096225544, 1.893061660074346, 1.663754876925583, 1.6229883907222977, 1.4978738479699987, 1.491383722996616, 1.555758198779247, 1.5493110836750263, 1.5493110836750263, 1.5493110836750263, 1.5493110836750263, 2.1988831743997364, 2.1988831743997364, 2.1988831743997364, 2.1988831743997364, 2.1988831743997364, 2.1988831743997364, 4.925496504404495, 4.925496504404495, 4.925496504404495, 2.3224231902426498, 0.9135519049867655, 0.9135519049867655, 1.2149808546872245, 4.909630104422958, 3.0316556679235953, 3.0316556679235953, 3.0316556679235953, 3.0316556679235953, 3.0316556679235953, 6.342633905178527, 9.16754464658072, 9.16754464658072, 5.394540850164384, 5.113654264887212, 5.113654264887212, 4.758013679496983, 4.758013679496983, 4.758013679496983, 3.387420501084377, 2.360488502575374, 2.360488502575374, 2.361677324711028, 1.5360491462898724, 1.2873382212323372, 2.3717820384598025, 1.1949246066077415, 2.381764535568896, 2.381764535568896, 2.381764535568896, 0.9843578052172981, 0.959945298643333, 1.276304401055201, 1.276304401055201, 1.276304401055201, 1.276304401055201, 1.276304401055201, 0.9550850212038767, 0.9550850212038767, 0.9550850212038767, 2.0707558755432975, 3.087306496889792, 3.087306496889792, 3.087306496889792, 2.1988831743997364, 2.1988831743997364, 2.1988831743997364, 2.1988831743997364, 2.1988831743997364, 2.1988831743997364, 26.129390542522156, 4.063682486271077, 2.05141623603973, 2.05141623603973, 1.909165342002655, 3.2934358141232254, 1.402689142113252, 3.291176885396808, 1.3393623222054365, 1.134160059328089, 3.2514365920256916, 3.2514365920256916, 3.2514365920256916, 3.2514365920256916, 3.2514365920256916, 3.2514365920256916, 1.0011154140776397, 1.0244896341583816, 0.9808196993485843, 0.9808196993485843, 0.9808196993485843, 3.087306496889792, 3.087306496889792, 3.087306496889792, 0.9205867431861611, 0.8608445070912596, 0.9970883877528277, 0.8477227601285722, 0.8838479069712983, 0.9658049341817563, 2.381764535568896, 2.381764535568896, 2.381764535568896, 5.022376795959925, 2.3717820384598025, 2.361677324711028, 11.40429793272752, 2.868086917020798, 3.304314759907248, 3.062758543086922, 2.172794805232821, 2.172794805232821, 2.3309654286569184, 1.5327607392694826, 1.5327607392694826, 1.405797623084543, 1.405797623084543, 1.405797623084543, 1.349812374407249, 1.349812374407249, 1.349812374407249, 1.349812374407249, 1.2386545610056907, 1.207260050022919, 1.207260050022919, 1.207260050022919, 3.2514365920256916, 3.2514365920256916, 3.2514365920256916, 3.2514365920256916, 3.2514365920256916, 3.2514365920256916, 3.291176885396808, 3.2934358141232254, 3.087306496889792, 3.087306496889792, 5.022376795959925, 3.087306496889792], \"Category\": [\"Default\", \"Default\", \"Default\", \"Default\", \"Default\", \"Default\", \"Default\", \"Default\", \"Default\", \"Default\", \"Default\", \"Default\", \"Default\", \"Default\", \"Default\", \"Default\", \"Default\", \"Default\", \"Default\", \"Default\", \"Default\", \"Default\", \"Default\", \"Default\", \"Default\", \"Default\", \"Default\", \"Default\", \"Default\", \"Default\", \"Topic1\", \"Topic1\", \"Topic1\", \"Topic1\", \"Topic1\", \"Topic1\", \"Topic1\", \"Topic1\", \"Topic1\", \"Topic1\", \"Topic1\", \"Topic1\", \"Topic1\", \"Topic1\", \"Topic1\", \"Topic1\", \"Topic1\", \"Topic1\", \"Topic1\", \"Topic1\", \"Topic1\", \"Topic1\", \"Topic1\", \"Topic1\", \"Topic1\", \"Topic1\", \"Topic1\", \"Topic1\", \"Topic1\", \"Topic1\", \"Topic1\", \"Topic1\", \"Topic1\", \"Topic2\", \"Topic2\", \"Topic2\", \"Topic2\", \"Topic2\", \"Topic2\", \"Topic2\", \"Topic2\", \"Topic2\", \"Topic2\", \"Topic2\", \"Topic2\", \"Topic2\", \"Topic2\", \"Topic2\", \"Topic2\", \"Topic2\", \"Topic2\", \"Topic2\", \"Topic2\", \"Topic2\", \"Topic2\", \"Topic2\", \"Topic2\", \"Topic2\", \"Topic2\", \"Topic2\", \"Topic2\", \"Topic2\", \"Topic2\", \"Topic2\", \"Topic2\", \"Topic2\", \"Topic2\", \"Topic2\", \"Topic2\", \"Topic3\", \"Topic3\", \"Topic3\", \"Topic3\", \"Topic3\", \"Topic3\", \"Topic3\", \"Topic3\", \"Topic3\", \"Topic3\", \"Topic3\", \"Topic3\", \"Topic3\", \"Topic3\", \"Topic3\", \"Topic3\", \"Topic3\", \"Topic3\", \"Topic3\", \"Topic3\", \"Topic3\", \"Topic3\", \"Topic3\", \"Topic3\", \"Topic3\", \"Topic3\", \"Topic3\", \"Topic3\", \"Topic3\", \"Topic3\", \"Topic3\", \"Topic3\", \"Topic3\", \"Topic3\", \"Topic3\", \"Topic3\", \"Topic3\", \"Topic3\", \"Topic3\", \"Topic4\", \"Topic4\", \"Topic4\", \"Topic4\", \"Topic4\", \"Topic4\", \"Topic4\", \"Topic4\", \"Topic4\", \"Topic4\", \"Topic4\", \"Topic4\", \"Topic4\", \"Topic4\", \"Topic4\", \"Topic4\", \"Topic4\", \"Topic4\", \"Topic4\", \"Topic4\", \"Topic4\", \"Topic4\", \"Topic4\", \"Topic4\", \"Topic4\", \"Topic4\", \"Topic4\", \"Topic4\", \"Topic4\", \"Topic4\", \"Topic4\", \"Topic4\", \"Topic4\", \"Topic4\", \"Topic4\", \"Topic4\", \"Topic5\", \"Topic5\", \"Topic5\", \"Topic5\", \"Topic5\", \"Topic5\", \"Topic5\", \"Topic5\", \"Topic5\", \"Topic5\", \"Topic5\", \"Topic5\", \"Topic5\", \"Topic5\", \"Topic5\", \"Topic5\", \"Topic5\", \"Topic5\", \"Topic5\", \"Topic5\", \"Topic5\", \"Topic5\", \"Topic5\", \"Topic5\", \"Topic5\", \"Topic5\", \"Topic5\", \"Topic5\", \"Topic5\", \"Topic5\", \"Topic5\", \"Topic5\"], \"logprob\": [30.0, 29.0, 28.0, 27.0, 26.0, 25.0, 24.0, 23.0, 22.0, 21.0, 20.0, 19.0, 18.0, 17.0, 16.0, 15.0, 14.0, 13.0, 12.0, 11.0, 10.0, 9.0, 8.0, 7.0, 6.0, 5.0, 4.0, 3.0, 2.0, 1.0, -2.0825, -3.0238, -3.0485, -3.6249, -3.7824, -3.7824, -3.9542, -4.0673, -3.497, -3.3639, -4.4753, -4.2815, -4.2815, -4.2815, -4.7743, -5.0909, -4.8621, -5.3565, -5.4994, -5.5458, -5.3468, -5.3468, -4.035, -4.0579, -4.5811, -4.5811, -4.5811, -4.5811, -4.5811, -4.1074, -4.1074, -4.1074, -5.0178, -1.879, -3.1314, -3.2901, -3.423, -4.0827, -4.3127, -4.6096, -4.7851, -4.8204, -4.9299, -4.936, -4.9149, -4.9404, -4.9404, -4.9404, -4.9404, -4.7165, -4.7165, -4.7165, -4.7165, -4.7165, -4.7165, -4.101, -4.101, -4.101, -4.8564, -5.8025, -5.8025, -5.5181, -4.1607, -4.6892, -4.6892, -4.6892, -4.6892, -4.6892, -4.7854, -2.4011, -2.4011, -2.9885, -3.0483, -3.0483, -3.1273, -3.1273, -3.1273, -3.5662, -4.2575, -4.2575, -4.2669, -4.7332, -4.945, -4.3759, -5.0759, -4.4834, -4.4834, -4.4834, -5.527, -5.5862, -5.3289, -5.3289, -5.3289, -5.3289, -5.3289, -5.8415, -5.8415, -5.8415, -5.128, -4.7426, -4.7426, -4.7426, -5.1762, -5.1762, -5.1762, -5.1762, -5.1762, -5.1762, -1.2169, -3.2416, -4.0943, -4.0943, -4.3262, -3.8252, -4.6844, -3.839, -4.7798, -5.1556, -4.1158, -4.1158, -4.1158, -4.1158, -4.1158, -4.1158, -5.3908, -5.3931, -5.4403, -5.4403, -5.4403, -4.3556, -4.3556, -4.3556, -5.7121, -5.8276, -5.7554, -5.9483, -6.0109, -5.9237, -5.0351, -5.0351, -5.0351, -4.3971, -5.1975, -5.4188, -1.9307, -3.4836, -3.343, -3.5032, -3.8544, -3.8544, -3.9201, -4.3847, -4.3847, -4.5345, -4.5345, -4.5345, -4.6124, -4.6124, -4.6124, -4.6124, -4.7641, -4.819, -4.819, -4.819, -4.0042, -4.0042, -4.0042, -4.0042, -4.0042, -4.0042, -4.3687, -4.3942, -4.5783, -4.5783, -4.1714, -4.5783], \"loglift\": [30.0, 29.0, 28.0, 27.0, 26.0, 25.0, 24.0, 23.0, 22.0, 21.0, 20.0, 19.0, 18.0, 17.0, 16.0, 15.0, 14.0, 13.0, 12.0, 11.0, 10.0, 9.0, 8.0, 7.0, 6.0, 5.0, 4.0, 3.0, 2.0, 1.0, 1.3008, 1.2561, 1.2429, 1.1951, 1.1754, 1.1754, 1.1527, 1.1331, 1.1064, 1.0673, 1.0436, 0.9867, 0.9867, 0.9867, 0.9635, 0.8559, 0.6885, 0.6872, 0.6821, 0.6594, 0.6349, 0.6349, 0.6297, 0.6294, 0.5883, 0.5883, 0.5883, 0.5883, 0.5883, 0.5767, 0.5767, 0.5767, 0.4182, 1.3233, 1.2608, 1.2544, 1.2325, 1.15, 1.1047, 1.0307, 0.9843, 0.9739, 0.9446, 0.9429, 0.9217, 0.9003, 0.9003, 0.9003, 0.9003, 0.7741, 0.7741, 0.7741, 0.7741, 0.7741, 0.7741, 0.5831, 0.5831, 0.5831, 0.5795, 0.5664, 0.5664, 0.5657, 0.5266, 0.4803, 0.4803, 0.4803, 0.4803, 0.4803, -0.3541, 1.6617, 1.6617, 1.6047, 1.5983, 1.5983, 1.5914, 1.5914, 1.5914, 1.4923, 1.1621, 1.1621, 1.1522, 1.1161, 1.0809, 1.039, 1.0246, 0.9272, 0.9272, 0.9272, 0.7673, 0.7332, 0.7056, 0.7056, 0.7056, 0.7056, 0.7056, 0.483, 0.483, 0.483, 0.4226, 0.4086, 0.4086, 0.4086, 0.3144, 0.3144, 0.3144, 0.3144, 0.3144, 0.3144, 1.7986, 1.6348, 1.4657, 1.4657, 1.3057, 1.2614, 1.2558, 1.2483, 1.2065, 0.997, 0.9836, 0.9836, 0.9836, 0.9836, 0.9836, 0.9836, 0.8866, 0.8612, 0.8576, 0.8576, 0.8576, 0.7956, 0.7956, 0.7956, 0.6492, 0.6007, 0.5261, 0.4954, 0.3911, 0.3896, 0.3756, 0.3756, 0.3756, 0.2675, 0.2174, 0.0004, 1.9139, 1.7413, 1.7403, 1.656, 1.6481, 1.6481, 1.5121, 1.4668, 1.4668, 1.4034, 1.4034, 1.4034, 1.3662, 1.3662, 1.3662, 1.3662, 1.3004, 1.2712, 1.2712, 1.2712, 1.0952, 1.0952, 1.0952, 1.0952, 1.0952, 1.0952, 0.7186, 0.6923, 0.5729, 0.5729, 0.4932, 0.5729]}, \"token.table\": {\"Topic\": [5, 3, 4, 2, 3, 1, 2, 2, 1, 2, 1, 2, 4, 5, 5, 5, 4, 5, 3, 4, 5, 4, 5, 1, 2, 3, 4, 5, 1, 5, 1, 2, 1, 2, 3, 4, 3, 2, 2, 3, 1, 3, 2, 4, 5, 3, 2, 5, 5, 2, 5, 2, 1, 3, 5, 2, 3, 2, 3, 1, 3, 4, 5, 4, 5, 2, 1, 1, 4, 5, 3, 4, 5, 3, 1, 2, 1, 1, 2, 4, 5, 4, 5, 1, 2, 5, 1, 1, 2, 2, 1, 2, 1, 2, 2, 1, 1, 1, 2, 3, 1, 5, 2, 3, 4, 4, 4, 2, 3, 3, 1, 1, 2, 2, 2, 3, 4, 5, 1, 3, 4, 3, 1, 2, 5, 3, 4, 5, 5, 3, 5, 3, 5, 5, 5, 2, 2, 3, 1, 1, 1, 3, 1, 4, 2, 3, 5, 3, 4, 5, 1], \"Freq\": [0.7408437046216411, 0.4236411229747426, 0.523789101970095, 0.6705182473030578, 0.8406869482609137, 0.3298527634851447, 0.3298527634851447, 0.6010500788721225, 0.3298527634851447, 0.3298527634851447, 0.3298527634851447, 0.3298527634851447, 0.3075563590729554, 0.3075563590729554, 0.8283219510005452, 0.8073275887250422, 0.3075563590729554, 0.3075563590729554, 0.323906939919123, 0.323906939919123, 0.323906939919123, 0.6072685526231935, 0.30363427631159673, 0.4073626642867152, 0.4073626642867152, 0.4236411229747426, 0.3075563590729554, 0.3075563590729554, 0.7432430734724401, 0.6524175459221394, 0.4060504353645471, 0.4060504353645471, 0.4060504353645471, 0.4060504353645471, 0.4198567847770666, 0.4198567847770666, 0.7822194839150364, 0.6161473524496119, 0.4547763208352284, 0.4547763208352284, 0.8007886265413496, 0.8368728825820142, 0.6454481675997314, 0.7129163333320084, 0.8283219510005452, 0.885629640323557, 0.9098076618635689, 0.9204734819796729, 0.7113399422356693, 0.9865182231497444, 0.7408437046216411, 0.5282448116141801, 0.48291544735452374, 0.48291544735452374, 0.9204734819796729, 0.4547763208352284, 0.4547763208352284, 0.8453274343563264, 0.8406869482609137, 0.728198807830295, 0.4198567847770666, 0.4198567847770666, 0.8283219510005452, 0.3075563590729554, 0.3075563590729554, 0.6427734083514183, 0.8007886265413496, 0.39821783216441065, 0.19910891608220532, 0.19910891608220532, 0.323906939919123, 0.323906939919123, 0.323906939919123, 0.4216239029491024, 0.7432430734724401, 0.6676129644397325, 0.9303207797245543, 0.7883160331731718, 0.15766320663463437, 0.48746811223962294, 0.9079038221177845, 0.3075563590729554, 0.3075563590729554, 0.9295641892745686, 0.6454481675997314, 0.42900679165207145, 0.680432240006233, 0.3298527634851447, 0.3298527634851447, 0.6454481675997314, 0.7491627377011477, 0.18729068442528693, 0.3298527634851447, 0.3298527634851447, 0.8230582367961942, 0.9293242220484054, 0.9074972919001864, 0.4060504353645471, 0.4060504353645471, 0.7767966362738182, 0.790766839583213, 0.653006096257337, 0.4547763208352284, 0.4547763208352284, 0.9950480841751135, 0.48746811223962294, 0.7466239593431061, 0.7027908298884227, 0.42342787032617113, 0.9817241526450367, 0.7177174714996601, 0.9356879508586979, 0.6454481675997314, 0.8828933270545999, 0.4547763208352284, 0.4547763208352284, 0.6076853568321247, 0.30384267841606233, 0.728198807830295, 0.4198567847770666, 0.4198567847770666, 0.8406869482609137, 0.4305847462259963, 0.4305847462259963, 0.7408437046216411, 0.323906939919123, 0.323906939919123, 0.323906939919123, 0.6973289366270266, 0.9817241526450367, 0.7408437046216411, 0.9268629414211662, 0.9645486346364834, 0.7113399422356693, 0.6524175459221394, 0.9688032955158115, 0.4547763208352284, 0.4547763208352284, 0.9951583178961112, 0.9595920425044416, 0.9486851698447752, 0.6510208364200913, 0.728198807830295, 0.7382466543917572, 0.4547763208352284, 0.4547763208352284, 0.7113399422356693, 0.7822194839150364, 0.3075563590729554, 0.3075563590729554, 0.5823496586929571], \"Term\": [\"5th\", \"Dashami\", \"Government\", \"Gujarat\", \"Hindi\", \"India\", \"India\", \"Indians\", \"Mann\", \"Mann\", \"Mother\", \"Mother\", \"Mothers\", \"Mothers\", \"Nation\", \"Olympics\", \"Poor\", \"Poor\", \"Radio\", \"Radio\", \"Radio\", \"Sisters\", \"Sisters\", \"Sundays\", \"Sundays\", \"Vijay\", \"Youths\", \"Youths\", \"address\\u201d\", \"adult\", \"advice\", \"advice\", \"am\", \"am\", \"auspicious\", \"auspicious\", \"authoritative\", \"aware\", \"bag\", \"bag\", \"beginning\", \"brother\", \"capable\", \"child\", \"citizen\", \"corner\", \"countryman\", \"course\", \"craft\", \"crore\", \"curriculum\", \"day\", \"destination\", \"destination\", \"development\", \"dustbin\", \"dustbin\", \"effective\", \"english\", \"evidence\", \"evil\", \"evil\", \"exception\", \"farmer\", \"farmer\", \"few\", \"fortunate\", \"future\", \"future\", \"future\", \"glad\", \"glad\", \"glad\", \"good\", \"guidance\", \"hand\", \"heart\", \"heartfelt\", \"heartfelt\", \"height\", \"home\", \"hut\", \"hut\", \"incident\", \"initiative\", \"inner\", \"inspiring\", \"intention\", \"intention\", \"interesting\", \"journey\", \"journey\", \"ki\", \"ki\", \"knowledge\", \"life\", \"lion\", \"love\", \"love\", \"man\", \"many\", \"medium\", \"meter\", \"meter\", \"nation\", \"new\", \"notice\", \"numerous\", \"occasion\", \"original\", \"other\", \"own\", \"past\", \"people\", \"plastic\", \"plastic\", \"poor\", \"poor\", \"positive\", \"purpose\", \"purpose\", \"rendering\", \"route\", \"route\", \"school\", \"simple\", \"simple\", \"simple\", \"skill\", \"speech\", \"standard\", \"step\", \"strength\", \"student\", \"study\", \"suggestion\", \"system\", \"system\", \"thought\", \"time\", \"today\", \"traveller\", \"true\", \"trust\", \"use\", \"use\", \"various\", \"version\", \"village\", \"village\", \"way\"]}, \"R\": 30, \"lambda.step\": 0.01, \"plot.opts\": {\"xlab\": \"PC1\", \"ylab\": \"PC2\"}, \"topic.order\": [5, 2, 3, 4, 1]};\n",
       "\n",
       "function LDAvis_load_lib(url, callback){\n",
       "  var s = document.createElement('script');\n",
       "  s.src = url;\n",
       "  s.async = true;\n",
       "  s.onreadystatechange = s.onload = callback;\n",
       "  s.onerror = function(){console.warn(\"failed to load library \" + url);};\n",
       "  document.getElementsByTagName(\"head\")[0].appendChild(s);\n",
       "}\n",
       "\n",
       "if(typeof(LDAvis) !== \"undefined\"){\n",
       "   // already loaded: just create the visualization\n",
       "   !function(LDAvis){\n",
       "       new LDAvis(\"#\" + \"ldavis_el1708819191722266247643742410\", ldavis_el1708819191722266247643742410_data);\n",
       "   }(LDAvis);\n",
       "}else if(typeof define === \"function\" && define.amd){\n",
       "   // require.js is available: use it to load d3/LDAvis\n",
       "   require.config({paths: {d3: \"https://d3js.org/d3.v5\"}});\n",
       "   require([\"d3\"], function(d3){\n",
       "      window.d3 = d3;\n",
       "      LDAvis_load_lib(\"https://cdn.jsdelivr.net/gh/bmabey/pyLDAvis@3.3.1/pyLDAvis/js/ldavis.v3.0.0.js\", function(){\n",
       "        new LDAvis(\"#\" + \"ldavis_el1708819191722266247643742410\", ldavis_el1708819191722266247643742410_data);\n",
       "      });\n",
       "    });\n",
       "}else{\n",
       "    // require.js not available: dynamically load d3 & LDAvis\n",
       "    LDAvis_load_lib(\"https://d3js.org/d3.v5.js\", function(){\n",
       "         LDAvis_load_lib(\"https://cdn.jsdelivr.net/gh/bmabey/pyLDAvis@3.3.1/pyLDAvis/js/ldavis.v3.0.0.js\", function(){\n",
       "                 new LDAvis(\"#\" + \"ldavis_el1708819191722266247643742410\", ldavis_el1708819191722266247643742410_data);\n",
       "            })\n",
       "         });\n",
       "}\n",
       "</script>"
      ],
      "text/plain": [
       "PreparedData(topic_coordinates=              x         y  topics  cluster       Freq\n",
       "topic                                                \n",
       "4     -0.162962 -0.060841       1        1  26.410604\n",
       "1     -0.111871 -0.008952       2        1  26.011924\n",
       "2      0.032558  0.215845       3        1  17.688874\n",
       "3      0.144174 -0.078480       4        1  16.164470\n",
       "0      0.098100 -0.067573       5        1  13.724128, topic_info=           Term       Freq      Total Category  logprob  loglift\n",
       "45       nation  26.000000  26.000000  Default  30.0000  30.0000\n",
       "187  suggestion  21.000000  21.000000  Default  29.0000  29.0000\n",
       "14      thought  18.000000  18.000000  Default  28.0000  28.0000\n",
       "110    strength  11.000000  11.000000  Default  27.0000  27.0000\n",
       "288      speech   9.000000   9.000000  Default  26.0000  26.0000\n",
       "..          ...        ...        ...      ...      ...      ...\n",
       "120     Sisters   0.903267   3.293436   Topic5  -4.3942   0.6923\n",
       "275       Radio   0.751389   3.087306   Topic5  -4.5783   0.5729\n",
       "276        glad   0.751389   3.087306   Topic5  -4.5783   0.5729\n",
       "16       future   1.128695   5.022377   Topic5  -4.1714   0.4932\n",
       "277      simple   0.751389   3.087306   Topic5  -4.5783   0.5729\n",
       "\n",
       "[206 rows x 6 columns], token_table=      Topic      Freq        Term\n",
       "term                             \n",
       "235       5  0.740844         5th\n",
       "1         3  0.423641     Dashami\n",
       "225       4  0.523789  Government\n",
       "185       2  0.670518     Gujarat\n",
       "284       3  0.840687       Hindi\n",
       "...     ...       ...         ...\n",
       "244       5  0.711340     various\n",
       "290       3  0.782219     version\n",
       "283       4  0.307556     village\n",
       "283       5  0.307556     village\n",
       "29        1  0.582350         way\n",
       "\n",
       "[151 rows x 3 columns], R=30, lambda_step=0.01, plot_opts={'xlab': 'PC1', 'ylab': 'PC2'}, topic_order=[5, 2, 3, 4, 1])"
      ]
     },
     "execution_count": 54,
     "metadata": {},
     "output_type": "execute_result"
    }
   ],
   "source": [
    "import pyLDAvis\n",
    "import pyLDAvis.gensim_models as gensimvis\n",
    "import matplotlib.pyplot as plt\n",
    "import seaborn as sns\n",
    "%matplotlib inline\n",
    "\n",
    "pyLDAvis.enable_notebook()\n",
    "vis = gensimvis.prepare(lda_model, doc_term_matrix, dictionary)\n",
    "vis"
   ]
  },
  {
   "cell_type": "markdown",
   "metadata": {},
   "source": [
    "# Sentiment Analysis\n",
    "---"
   ]
  },
  {
   "cell_type": "code",
   "execution_count": null,
   "metadata": {},
   "outputs": [],
   "source": []
  }
 ],
 "metadata": {
  "kernelspec": {
   "display_name": "Python 3",
   "language": "python",
   "name": "python3"
  },
  "language_info": {
   "codemirror_mode": {
    "name": "ipython",
    "version": 3
   },
   "file_extension": ".py",
   "mimetype": "text/x-python",
   "name": "python",
   "nbconvert_exporter": "python",
   "pygments_lexer": "ipython3",
   "version": "3.8.5"
  }
 },
 "nbformat": 4,
 "nbformat_minor": 4
}
