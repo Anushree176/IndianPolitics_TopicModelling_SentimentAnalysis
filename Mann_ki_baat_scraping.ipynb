{
 "cells": [
  {
   "cell_type": "code",
   "execution_count": null,
   "metadata": {},
   "outputs": [],
   "source": [
    "#pip install selenium\n",
    "\n",
    "import os\n",
    "from selenium import webdriver\n",
    "from selenium.webdriver.common.keys import Keys\n",
    "import time"
   ]
  },
  {
   "cell_type": "code",
   "execution_count": null,
   "metadata": {},
   "outputs": [],
   "source": [
    "chromedriver = \"C:/Users/anush/Downloads/chromedriver_win32/chromedriver\"\n",
    "os.environ[\"webdriver.chrome.driver\"] = chromedriver\n",
    "driver = webdriver.Chrome(chromedriver)\n",
    "driver.get(\"https://www.pmindia.gov.in/en/mann-ki-baat/\")\n",
    "\n",
    "ScrollNumber = 30\n",
    "for i in range(1,ScrollNumber):\n",
    "    driver.execute_script(\"window.scrollTo(1,50000)\")\n",
    "    time.sleep(5)"
   ]
  },
  {
   "cell_type": "code",
   "execution_count": null,
   "metadata": {},
   "outputs": [],
   "source": [
    "file = open('DS.html', 'w', encoding='utf-8')\n",
    "file.write(driver.page_source)\n",
    "file.close()\n",
    "\n",
    "driver.close()"
   ]
  },
  {
   "cell_type": "code",
   "execution_count": null,
   "metadata": {},
   "outputs": [],
   "source": [
    "def save_html(html, path):\n",
    "    with open(path, 'wb') as f:\n",
    "        f.write(html)\n",
    "        \n",
    "def open_html(path):\n",
    "    with open(path, 'rb') as f:\n",
    "        return f.read()"
   ]
  },
  {
   "cell_type": "code",
   "execution_count": null,
   "metadata": {},
   "outputs": [],
   "source": [
    "import urllib.request\n",
    "import requests\n",
    "from bs4 import BeautifulSoup\n",
    "\n",
    "with open('DS.html', 'r', encoding='utf-8') as f:\n",
    "    page = f.read()\n",
    "\n",
    "parser = BeautifulSoup(page, 'html.parser')\n",
    "\n",
    "links = []\n",
    "for i in parser.find_all('div', attrs={'class' : 'mkb-news-wrapper'}):\n",
    "    links.append(i.a['href'])\n",
    "\n",
    "len(links)"
   ]
  },
  {
   "cell_type": "code",
   "execution_count": null,
   "metadata": {},
   "outputs": [],
   "source": [
    "for i in range(len(links)) :\n",
    "    speech_response =  requests.get(links[i])\n",
    "    speech_content = speech_response.content\n",
    "#     file = open('All_speech/speech'+str(i)+'.html', 'w', encoding='utf-8')\n",
    "#     file.write(speech_response.content)\n",
    "#     file.close()\n",
    "\n",
    "#     with open('All_speech/speech'+str(i)+'.html', \"w\", encoding='utf-8') as f:\n",
    "#       f.write(speech_response.content)\n",
    "    \n",
    "    save_html(speech_response.content, 'All_speech/speech'+str(len(links)-i)+'.html')\n",
    "    file.close()\n",
    "    \n",
    "    time.sleep(10)\n",
    "    speech_parser = BeautifulSoup(speech_content, 'html.parser')\n",
    "\n",
    "    content = speech_parser.select(\".content-block\")\n",
    "    #print(content)\n",
    "   "
   ]
  },
  {
   "cell_type": "code",
   "execution_count": null,
   "metadata": {},
   "outputs": [],
   "source": [
    "speech_date = []\n",
    "speech = []\n",
    "\n",
    "for i in range(len(links)) :\n",
    "    html = open_html('All_speech/speech'+str(i+1)+'.html')\n",
    "    parser = BeautifulSoup(html, 'html.parser')\n",
    "    speech_text = parser.select('.left-container')\n",
    "    for s in speech_text : \n",
    "        date = s.select(\".share_date .date\")[0].text\n",
    "        speech_date.append(date)\n",
    "        speech_ = parser.select(\".news-bg\")[0].text\n",
    "        speech.append(speech_)"
   ]
  },
  {
   "cell_type": "code",
   "execution_count": null,
   "metadata": {},
   "outputs": [],
   "source": [
    "import pandas as pd\n",
    "\n",
    "col1 = speech_date\n",
    "col2 = speech\n",
    "mann_ki_baat = pd.DataFrame(\n",
    "    {'Speech_date': col1,\n",
    "     'Speech': col2\n",
    "    })\n",
    "mann_ki_baat"
   ]
  },
  {
   "cell_type": "code",
   "execution_count": null,
   "metadata": {},
   "outputs": [],
   "source": [
    "cleaned = []\n",
    "for date in mann_ki_baat['Speech_date']:\n",
    "    clean = str(date).replace('\\\\n', '')\n",
    "    clean = clean.replace(\"\\'\", '')\n",
    "    cleaned.append(clean)\n",
    "    \n",
    "mann_ki_baat['Speech_date'] = cleaned\n",
    "\n",
    "cleaned = []\n",
    "for sp in mann_ki_baat['Speech']:\n",
    "    clean = str(sp).replace('\\n', '').replace(\"\\'\", '')\n",
    "    clean = clean.replace('(Hon’ble Shri Narendra Modi):', '').replace('\\\\xa0', ' ')\n",
    "    cleaned.append(clean)\n",
    "    \n",
    "mann_ki_baat['Speech'] = cleaned\n",
    "mann_ki_baat"
   ]
  },
  {
   "cell_type": "code",
   "execution_count": null,
   "metadata": {},
   "outputs": [],
   "source": [
    "mann_ki_baat.to_csv(\"mann_ki_baat.csv\")"
   ]
  },
  {
   "cell_type": "code",
   "execution_count": null,
   "metadata": {},
   "outputs": [],
   "source": []
  },
  {
   "cell_type": "markdown",
   "metadata": {},
   "source": [
    "# LDA\n",
    "---\n",
    "### Topic modelling\n",
    "Topic Modeling is a process to automatically identify topics present in a text object and to derive hidden patterns exhibited by a text corpus. Topic Models are very useful for multiple purposes, including:\n",
    "\n",
    "- Document clustering\n",
    "- Organizing large blocks of textual data\n",
    "- Information retrieval from unstructured text\n",
    "- Feature selection\n",
    "\n",
    "Topic Modelling is different from rule-based text mining approaches that use regular expressions or dictionary based keyword searching techniques. It is an unsupervised approach used for finding and observing the bunch of words (called “topics”) in large clusters of texts.\n",
    "\n",
    "### LDA - Latent Dirichlet Allocation\n",
    "There are many approaches for obtaining topics from a text such as – Term Frequency and Inverse Document Frequency. NonNegative Matrix Factorization techniques. Latent Dirichlet Allocation is the most popular topic modeling technique."
   ]
  },
  {
   "cell_type": "code",
   "execution_count": 1,
   "metadata": {},
   "outputs": [
    {
     "data": {
      "text/html": [
       "<div>\n",
       "<style scoped>\n",
       "    .dataframe tbody tr th:only-of-type {\n",
       "        vertical-align: middle;\n",
       "    }\n",
       "\n",
       "    .dataframe tbody tr th {\n",
       "        vertical-align: top;\n",
       "    }\n",
       "\n",
       "    .dataframe thead th {\n",
       "        text-align: right;\n",
       "    }\n",
       "</style>\n",
       "<table border=\"1\" class=\"dataframe\">\n",
       "  <thead>\n",
       "    <tr style=\"text-align: right;\">\n",
       "      <th></th>\n",
       "      <th>Speech_date</th>\n",
       "      <th>Speech</th>\n",
       "    </tr>\n",
       "  </thead>\n",
       "  <tbody>\n",
       "    <tr>\n",
       "      <th>0</th>\n",
       "      <td>03 Oct, 2014</td>\n",
       "      <td>My Dear Countrymen,Today is the holy festival ...</td>\n",
       "    </tr>\n",
       "    <tr>\n",
       "      <th>1</th>\n",
       "      <td>02 Nov, 2014</td>\n",
       "      <td>My dear fellow countrymen, I am with you again...</td>\n",
       "    </tr>\n",
       "    <tr>\n",
       "      <th>2</th>\n",
       "      <td>14 Dec, 2014</td>\n",
       "      <td>My Dear Fellow Countrymen,Today I have this gr...</td>\n",
       "    </tr>\n",
       "    <tr>\n",
       "      <th>3</th>\n",
       "      <td>27 Jan, 2015</td>\n",
       "      <td>Today, Shri Barack Obama, President of the Uni...</td>\n",
       "    </tr>\n",
       "    <tr>\n",
       "      <th>4</th>\n",
       "      <td>22 Feb, 2015</td>\n",
       "      <td>Hello, my young friends. Today probably the en...</td>\n",
       "    </tr>\n",
       "    <tr>\n",
       "      <th>...</th>\n",
       "      <td>...</td>\n",
       "      <td>...</td>\n",
       "    </tr>\n",
       "    <tr>\n",
       "      <th>68</th>\n",
       "      <td>29 Nov, 2020</td>\n",
       "      <td>My dear countrymen,Namaskar! I want to share a...</td>\n",
       "    </tr>\n",
       "    <tr>\n",
       "      <th>69</th>\n",
       "      <td>27 Dec, 2020</td>\n",
       "      <td>My dear countrymen,Namaskar. Today is the 27th...</td>\n",
       "    </tr>\n",
       "    <tr>\n",
       "      <th>70</th>\n",
       "      <td>31 Jan, 2021</td>\n",
       "      <td>My dear countrymen,Namaskar. When I express Ma...</td>\n",
       "    </tr>\n",
       "    <tr>\n",
       "      <th>71</th>\n",
       "      <td>28 Feb, 2021</td>\n",
       "      <td>My dear countrymen,Namaskar. Yesterday was the...</td>\n",
       "    </tr>\n",
       "    <tr>\n",
       "      <th>72</th>\n",
       "      <td>28 Mar, 2021</td>\n",
       "      <td>My dear countrymen, Namaskar. This time when I...</td>\n",
       "    </tr>\n",
       "  </tbody>\n",
       "</table>\n",
       "<p>73 rows × 2 columns</p>\n",
       "</div>"
      ],
      "text/plain": [
       "     Speech_date                                             Speech\n",
       "0   03 Oct, 2014  My Dear Countrymen,Today is the holy festival ...\n",
       "1   02 Nov, 2014  My dear fellow countrymen, I am with you again...\n",
       "2   14 Dec, 2014  My Dear Fellow Countrymen,Today I have this gr...\n",
       "3   27 Jan, 2015  Today, Shri Barack Obama, President of the Uni...\n",
       "4   22 Feb, 2015  Hello, my young friends. Today probably the en...\n",
       "..           ...                                                ...\n",
       "68  29 Nov, 2020  My dear countrymen,Namaskar! I want to share a...\n",
       "69  27 Dec, 2020  My dear countrymen,Namaskar. Today is the 27th...\n",
       "70  31 Jan, 2021  My dear countrymen,Namaskar. When I express Ma...\n",
       "71  28 Feb, 2021  My dear countrymen,Namaskar. Yesterday was the...\n",
       "72  28 Mar, 2021  My dear countrymen, Namaskar. This time when I...\n",
       "\n",
       "[73 rows x 2 columns]"
      ]
     },
     "execution_count": 1,
     "metadata": {},
     "output_type": "execute_result"
    }
   ],
   "source": [
    "import pandas as pd\n",
    "import re\n",
    "import string\n",
    "import spacy\n",
    "import nltk\n",
    "from nltk.tokenize import word_tokenize\n",
    "from nltk.corpus import stopwords\n",
    "from nltk.stem import WordNetLemmatizer\n",
    "from nltk.tokenize import word_tokenize\n",
    "import gensim\n",
    "from gensim import corpora\n",
    "\n",
    "all_speeches = pd.read_csv('mann_ki_baat.csv', encoding='UTF-8')\n",
    "all_speeches = all_speeches.drop(['Unnamed: 0'], axis= 1)\n",
    "all_speeches"
   ]
  },
  {
   "cell_type": "code",
   "execution_count": null,
   "metadata": {},
   "outputs": [],
   "source": [
    "# from nltk.stem import WordNetLemmatizer\n",
    "# # nltk.download('wordnet')\n",
    "# from nltk.tokenize import word_tokenize\n",
    "# lemmatizer=WordNetLemmatizer()\n",
    "# lema_words = []\n",
    "\n",
    "# for word in result3:\n",
    "#     lema_words.append(lemmatizer.lemmatize(word))"
   ]
  },
  {
   "cell_type": "code",
   "execution_count": 20,
   "metadata": {},
   "outputs": [
    {
     "name": "stderr",
     "output_type": "stream",
     "text": [
      "C:\\Users\\anush\\anaconda3\\envs\\nlp\\lib\\site-packages\\ipykernel\\ipkernel.py:287: DeprecationWarning: `should_run_async` will not call `transform_cell` automatically in the future. Please pass the result to `transformed_cell` argument and any exception that happen during thetransform in `preprocessing_exc_tuple` in IPython 7.17 and above.\n",
      "  and should_run_async(code)\n"
     ]
    }
   ],
   "source": [
    "nlp = spacy.load('en_core_web_sm', disable=['parser','ner'])\n",
    "\n",
    "def lemmatization(text, allowed_postags=['PROPN', 'NOUN', 'ADJ']):\n",
    "    output = []\n",
    "    for sent in text :\n",
    "        doc = nlp(sent)\n",
    "#         output.append([token.lemma_ for token in doc if token.pos_ in allowed_postags])\n",
    "#         output.append([token for token in doc])\n",
    "        output.append([token.lemma_ for token in doc if token.pos_ in allowed_postags])\n",
    "    return output"
   ]
  },
  {
   "cell_type": "code",
   "execution_count": 21,
   "metadata": {},
   "outputs": [
    {
     "name": "stdout",
     "output_type": "stream",
     "text": [
      "['My Dear Countrymen,Today is the holy festival of Vijay Dashami.', 'My heartiest greetings on this occasion of Vijay Dashami to one and all.Through the medium of radio, I would like to share few heartfelt thoughts with you today.', 'And, I hope that not only today, this series of conversation may be carried out regularly in future.', 'I will try my best, if possible, to take out time twice a month or even once to speak with you.', 'In future, I have also decided that whenever I will speak to you, it would be on Sundays and time would be morning 11.', 'In that way, it would be convenient for you too and I will feel contented with the fact that I am successful in sharing my thoughts with you.We are celebrating the festival of Vijay Dashami today, which symbolises the triumph of Good over Evil.', 'But one gentleman named Ganesh Venkatadari, a native of Mumbai, sent me a mail and has written to me that we must take a vow to eliminate ten bad habits from within ourselves on this occasion of Vijay Dashami.', 'I express my gratitude to him for this recommendation.', 'We all, as individuals, must be thinking to put an end to all our bad habits and win over them, although, with respect to our nation, I believe we all should come together and take a vow in eliminating all the dirt from our country.', 'On this occasion of Vijay Dashami, we must take a vow to eliminate dirt and filth and we can do so on this occasion.Yesterday, on 2nd October on the eve of Mahatma Gandhi’s birth anniversary, more than 1.25 crore countrymen have started the ‘Swachh Bharat’ movement.', 'I had shared one thought yesterday which is that I will nominate nine people and they need to upload their videos of cleaning the nation on social media websites, and nominating nine more people to do the same.', 'I want you all to join me, clean the nation, and nominate nine more people to clean the nation, and those nine people must do the same.', 'Eventually, the entire nation will have this atmosphere.', 'I strongly believe that you all will join hands with me to carry this movement forward.Whenever, we think of Mahatma Gandhi, naturally we are reminded of Khaadi.', 'You may be wearing variety of clothes with different fabrics and company brands in your family.', 'But is it not possible to include Khaadi too?', 'I am not telling you to use only Khaadi products.', 'I am just insisting to use, at least one Khaadi product, like handkerchief, or a bath towel, a bed sheet, a pillow cover, a curtain or anything of that kind.', 'If you have an inclination for all kinds of fabrics and clothes in your family, you can also buy Khaadi products on a regular basis.', 'I am saying this as when you buy Khaadi products, it helps poor people to light lamps on Diwali.', 'Also, you can avail a special discount on Khaadi products from 2nd October for a month.', 'It is a very small thing, but has very big impact which binds you with the poor.', 'How you see this as a success.', 'When I speak of 1.25 crore countrymen and infer the outcome, we might assume that government will take care of everything and as individuals we stand nowhere.', 'We have seen that if we intend to progress then we need to identify our potential, understand our strengths and I can swear that we form the incomparable souls of this world.', 'You all know that our own scientists have been successful in reaching Mars, bearing least expenses.', 'We do not lack in our strengths, but have forgotten our strong points.', 'We have forgotten ourselves.', 'We have become hopeless.', 'My dear Brothers and Sisters I cannot let this happen.', 'I always remember one of the sayings by Swami Vivekananda ji as he always used to emphasize on one thought and possibly, he might have shared this thought with many others.Vivekananda ii used to say, once a lioness was carrying her two cubs on the way and came upon a flock of sheep from a distance.', 'She got a desire to prey upon them and started running towards the flock.', 'Seeing her running, one of the cub too, joined her.', 'The other cub was left behind and the lioness moved on, post preying upon the flock.', 'One of the cub went with the lioness but the other cub was left behind, and was brought up by a mother sheep.', 'He grew among the sheep, started speaking their language and adapted their ways of life.', 'He used to sit, laugh and enjoy with them.', 'The cub who went with the lioness, was a grown-up now.', 'Once, he happened to meet his brother and was shocked to see him.', 'He thought in his mind,” He is a lion and is playing with sheep, talking like sheep.', 'What is wrong with him?', 'He felt that his ego was at stake and went to talk to his brother.', 'He said,” What are you doing, brother?', 'You are a lion.” He gets a reply from his brother, “No, I am a sheep.', 'I grew up with them.', 'They have brought me up.', 'Listen to my voice and the way I talk.” He said, “Come, I will show you, who you really are.” He took his brother to a well and told him to look in the water his own reflection, and asked him, if both of them had similar faces.', '“I am a lion, you, too, are a lion.” His brother’s self-esteem got awakened; he attained self-realization through this and even a lion brought up among sheep started roaring like a lion.', 'His inner entity was awakened.', 'Swami Vivekananda ji used to say the same.', 'My countrymen, 125 crore Indians have indefinite strengths and capabilities.', 'We need to understand ourselves.', 'We need to identify our inner strengths and like Swami ji always used to say, we need to carry our self-respect, identify ourselves and move forward in life and be successful, which in turn, make our nation a winning and successful country.', 'I believe, all our countrymen with a population of 125 crores are efficient, strong and can stand against any odds with confidence.These days, I have been getting many letters through social media websites, like Facebook, from my friends.', 'One of them, Mr. Gautam Pal, has addressed an issue regarding the specially-abled children.', 'He has suggested forming separate Municipality, Municipal Corporation or councils for them.', 'We need to plan something for them for enhancing their moral support.', 'I liked his suggestion and I have experienced this during my day as Chief Minister of Gujarat.', 'A Special Olympics was held in Athens in 2011.', 'After the Olympics I had called all the participants and winners of specially-abled category from Gujarat to my home.', 'I spent two hours with them, and it was the most emotional and inspiring incident of my life.', 'As I believe, a specially-abled child is not only the responsibility of the parents in a family, it is the responsibility of the entire society.', 'God has chosen this family to support a specially-abled child, but a child is a responsibility of the entire nation.', 'After this incident, I got so emotionally attached with them, I started organizing separate Olympics for them in Gujarat.', 'Thousands of children with their parents used to come and attend, I, too, used to attend the Olympics.', 'There was an atmosphere of trust and, this is the reason, I liked the suggestion given by Mr. Gautam Pal and I felt like sharing this thought with you.It reminds me of another story.', 'Once, a traveller was sitting at the corner of a road, and was asking everyone the way to a specific place.', 'He continued asking the route from many people.', 'A man, sitting beside him was observing him.', 'The traveller stood up and started asking passers-by again.', 'He stood up and said,” The way to your destination is here.” The traveller, then, said,” Brother, you were sitting next to me for so long, saw me asking everyone the route.', 'If you knew the route, why didn’t you tell me before?” The man answered,” I was waiting to verify if you really intend to reach your destination or you are asking people just for your knowledge.', 'But, when you stood up, I was assured that you truly wish to reach your destination, and decided to confirm the address”.My countrymen, till the time we do not decide to walk, stand on our own, we will also not the get the guidance from others in our journey.', 'We will not get the people to hold our hand and help us in walking.', 'We need to take the initiative in walking and I trust all my 125 crore Indians, who are capable of walking on their own and will keep moving.For the past few days, I have been getting very interesting suggestions from people.', 'I am aware, when to adapt to these suggestions.', 'But, I want everyone to actively participate in these suggestions as we all belong to our nation, the nation does not only belong to any Government.', 'We are the citizens of our Nation and we all need to unite without any exceptions.', 'Some of you have suggested simplifying the registration process for Small Scale Industries.', 'I will definitely put this under Government’s notice.', 'Some of you have written to me to incorporate skills development courses in the school curriculum from 5th standard.', 'This will help the students to learn various skills and crafts.', 'I loved this effective suggestion given by them.', 'They have also suggested that even the adults should learn skills development courses along with their studies.', 'One of the suggestions given was to keep a dustbin at every 100 meters and a cleaning system should be established.Some of you have written to me, to abolish the use of plastic bags.', 'I am receiving numerous suggestions from people.', 'I have always been telling you, to write to me and narrate a true incident, which is positive and inspiring to me and our Countrymen, along with the evidence.', 'If you do this, I can promise this to you, that I will share all those heartfelt thoughts or suggestions with all our Countrymen, through “Mann ki Baat”.I have only one intention in speaking with you all,” Come, let us serve our Mother India.', 'Let us all take our nation to the new heights.', 'Let us all take a step forward.', 'If you take one step, our nation takes 125 crore steps to move forward, and for this purpose, on this auspicious occasion of Vijay Dashami, we all need to defeat all of our inner evils and decide to start doing something good for the nation.', 'Today is the fortunate beginning for me.', 'I will be sharing my heartfelt thoughts with one and all.', 'Today, I have shared all the thoughts coming directly from my heart.', 'I will meet you all next at 11 am on Sundays, but I trust our journey shall never end and will continue receiving love and suggestions from you.After listening to my thoughts, please do not hesitate in sharing your thoughts or advice to me, I will appreciate that your suggestions keep coming.', 'I am glad to talk with you through this simple medium of Radio, which serves each and every corner of the nation.', 'I can reach the poorest homes, as mine, my nation’s strength lies within the hut of Poor, within the villages; my nation’s strength lies with the Mothers, Sisters and Youths; my nation’s strength lies with the farmers.', 'Nation will only progress, if you believe in it.', 'I am expressing my trust towards the nation.', 'I believe in your strength, hence, I believe in our nation’s future.I would once again, like to thank one and all for taking out time and listening to me.', 'Thank you all.', '(The original speech was in Hindi, this is the English rendering.', 'Original speech remains the authoritative version)']\n"
     ]
    },
    {
     "name": "stderr",
     "output_type": "stream",
     "text": [
      "C:\\Users\\anush\\anaconda3\\envs\\nlp\\lib\\site-packages\\ipykernel\\ipkernel.py:287: DeprecationWarning: `should_run_async` will not call `transform_cell` automatically in the future. Please pass the result to `transformed_cell` argument and any exception that happen during thetransform in `preprocessing_exc_tuple` in IPython 7.17 and above.\n",
      "  and should_run_async(code)\n"
     ]
    }
   ],
   "source": [
    "from nltk.tokenize import sent_tokenize\n",
    "\n",
    "tokenized_sent=sent_tokenize(all_speeches['Speech'][0])\n",
    "print(tokenized_sent)"
   ]
  },
  {
   "cell_type": "code",
   "execution_count": 22,
   "metadata": {},
   "outputs": [
    {
     "name": "stderr",
     "output_type": "stream",
     "text": [
      "C:\\Users\\anush\\anaconda3\\envs\\nlp\\lib\\site-packages\\ipykernel\\ipkernel.py:287: DeprecationWarning: `should_run_async` will not call `transform_cell` automatically in the future. Please pass the result to `transformed_cell` argument and any exception that happen during thetransform in `preprocessing_exc_tuple` in IPython 7.17 and above.\n",
      "  and should_run_async(code)\n"
     ]
    },
    {
     "name": "stdout",
     "output_type": "stream",
     "text": [
      "[['Dear', 'Countrymen', 'today', 'holy', 'festival', 'Vijay', 'Dashami'], ['heartiest', 'greeting', 'occasion', 'Vijay', 'Dashami', 'medium', 'radio', 'few', 'heartfelt', 'thought', 'today'], ['today', 'series', 'conversation', 'future'], ['good', 'possible', 'time', 'month'], ['future', 'Sundays', 'time', 'morning'], ['way', 'convenient', 'fact', 'successful', 'thought', 'festival', 'Vijay', 'Dashami', 'today', 'triumph', 'good', 'Evil'], ['gentleman', 'Ganesh', 'Venkatadari', 'native', 'Mumbai', 'mail', 'vow', 'bad', 'habit', 'occasion', 'Vijay', 'Dashami'], ['gratitude', 'recommendation'], ['individual', 'end', 'bad', 'habit', 'respect', 'nation', 'vow', 'dirt', 'country'], ['occasion', 'Vijay', 'Dashami', 'vow', 'dirt', 'filth', 'occasion', 'yesterday', '2nd', 'October', 'eve', 'Mahatma', 'Gandhi', 'birth', 'anniversary', 'more', 'crore', 'countryman', 'Swachh', 'Bharat', 'movement'], ['thought', 'yesterday', 'people', 'video', 'nation', 'social', 'medium', 'website', 'more', 'people', 'same'], ['nation', 'more', 'people', 'nation', 'people', 'same'], ['entire', 'nation', 'atmosphere'], ['hand', 'movement', 'Mahatma', 'Gandhi', 'Khaadi'], ['variety', 'clothe', 'different', 'fabric', 'company', 'brand', 'family'], ['possible', 'Khaadi'], ['only', 'Khaadi', 'product'], ['least', 'Khaadi', 'product', 'handkerchief', 'bath', 'towel', 'bed', 'sheet', 'pillow', 'cover', 'curtain', 'kind'], ['inclination', 'kind', 'fabric', 'clothe', 'family', 'Khaadi', 'product', 'regular', 'basis'], ['Khaadi', 'product', 'poor', 'people', 'lamp', 'Diwali'], ['special', 'discount', 'khaadi', 'product', '2nd', 'October', 'month'], ['small', 'thing', 'big', 'impact', 'poor'], ['success'], ['crore', 'countryman', 'outcome', 'government', 'care', 'individual'], ['potential', 'strength', 'incomparable', 'soul', 'world'], ['own', 'scientist', 'successful', 'Mars', 'least', 'expense'], ['strength', 'strong', 'point'], [], ['hopeless'], ['dear', 'Brothers', 'Sisters'], ['saying', 'Swami', 'Vivekananda', 'ji', 'thought', 'thought', 'many', 'other', 'Vivekananda', 'ii', 'lioness', 'cub', 'way', 'flock', 'sheep', 'distance'], ['desire', 'flock'], ['cub'], ['other', 'cub', 'lioness', 'post', 'flock'], ['cub', 'lioness', 'other', 'cub', 'mother', 'sheep'], ['sheep', 'language', 'way', 'life'], [], ['cub', 'lioness', 'grown', 'up'], ['brother', 'shocked'], ['mind', 'lion', 'sheep', 'sheep'], ['wrong'], ['ego', 'stake', 'brother'], ['brother'], ['lion', 'reply', 'brother', 'sheep'], [], [], ['voice', 'way', 'brother', 'well', 'water', 'own', 'reflection', 'similar', 'face'], ['lion', 'lion', 'brother', 'self', 'esteem', 'self', 'realization', 'lion', 'sheep', 'lion'], ['inner', 'entity'], ['Swami', 'Vivekananda', 'ji', 'same'], ['countryman', 'crore', 'Indians', 'indefinite', 'strength', 'capability'], [], ['inner', 'strength', 'Swami', 'ji', 'self', 'respect', 'life', 'successful', 'turn', 'nation', 'successful', 'country'], ['countryman', 'population', 'crore', 'efficient', 'strong', 'odd', 'confidence', 'day', 'many', 'letter', 'social', 'medium', 'website', 'Facebook', 'friend'], ['Mr.', 'Gautam', 'Pal', 'issue', 'child'], ['separate', 'Municipality', 'Municipal', 'Corporation', 'council'], ['moral', 'support'], ['suggestion', 'day', 'Chief', 'Minister', 'Gujarat'], ['Special', 'Olympics', 'Athens'], ['Olympics', 'participant', 'winner', 'category', 'Gujarat', 'home'], ['hour', 'emotional', 'inspiring', 'incident', 'life'], ['child', 'responsibility', 'parent', 'family', 'responsibility', 'entire', 'society'], ['God', 'family', 'child', 'child', 'responsibility', 'entire', 'nation'], ['incident', 'separate', 'Olympics', 'Gujarat'], ['thousand', 'child', 'parent', 'Olympics'], ['atmosphere', 'trust', 'reason', 'suggestion', 'Mr.', 'Gautam', 'Pal', 'thought', 'story'], ['traveller', 'corner', 'road', 'way', 'specific', 'place'], ['route', 'many', 'people'], ['man'], ['traveller', 'passer'], ['way', 'destination', 'traveller', 'brother', 'route'], ['route', 'man', 'destination', 'people', 'knowledge'], ['destination', 'address”', 'countryman', 'time', 'own', 'guidance', 'other', 'journey'], ['people', 'hand'], ['initiative', 'crore', 'Indians', 'capable', 'own', 'past', 'few', 'day', 'interesting', 'suggestion', 'people'], ['aware', 'suggestion'], ['suggestion', 'nation', 'nation', 'Government'], ['citizen', 'Nation', 'exception'], ['registration', 'process', 'Small', 'Scale', 'Industries'], ['Government', 'notice'], ['skill', 'development', 'course', 'school', 'curriculum', '5th', 'standard'], ['student', 'various', 'skill', 'craft'], ['effective', 'suggestion'], ['adult', 'skill', 'development', 'course', 'study'], ['suggestion', 'dustbin', 'meter', 'system', 'use', 'plastic', 'bag'], ['numerous', 'suggestion', 'people'], ['true', 'incident', 'positive', 'inspiring', 'countryman', 'evidence'], ['heartfelt', 'thought', 'suggestion', 'countryman', 'Mann', 'ki', 'intention', 'Mother', 'India'], ['nation', 'new', 'height'], ['step'], ['step', 'nation', 'crore', 'step', 'purpose', 'auspicious', 'occasion', 'Vijay', 'Dashami', 'inner', 'evil', 'good', 'nation'], ['today', 'fortunate', 'beginning'], ['heartfelt', 'thought'], ['today', 'thought', 'heart'], ['am', 'Sundays', 'journey', 'love', 'suggestion', 'thought', 'thought', 'advice', 'suggestion'], ['glad', 'simple', 'medium', 'Radio', 'corner', 'nation'], ['poor', 'home', 'nation', 'strength', 'hut', 'Poor', 'village', 'nation', 'strength', 'Mothers', 'Sisters', 'Youths', 'nation', 'strength', 'farmer'], ['nation'], ['trust', 'nation'], ['strength', 'nation', 'future', 'time'], [], ['original', 'speech', 'Hindi', 'english', 'rendering'], ['original', 'speech', 'authoritative', 'version']]\n"
     ]
    }
   ],
   "source": [
    "# for i in range(len(all_speeches)) :\n",
    "tokenized = lemmatization(tokenized_sent)\n",
    "print(tokenized)"
   ]
  },
  {
   "cell_type": "code",
   "execution_count": 24,
   "metadata": {},
   "outputs": [
    {
     "name": "stdout",
     "output_type": "stream",
     "text": [
      "[['Dear', 'Countrymen', 'today', 'holy', 'festival', 'Vijay', 'Dashami'], ['heartiest', 'greeting', 'occasion', 'Vijay', 'Dashami', 'medium', 'radio', 'heartfelt', 'thought', 'today'], ['today', 'series', 'conversation', 'future'], ['good', 'possible', 'time', 'month'], ['future', 'Sundays', 'time', 'morning'], ['way', 'convenient', 'fact', 'successful', 'thought', 'festival', 'Vijay', 'Dashami', 'today', 'triumph', 'good', 'Evil'], ['gentleman', 'Ganesh', 'Venkatadari', 'native', 'Mumbai', 'mail', 'vow', 'bad', 'habit', 'occasion', 'Vijay', 'Dashami'], ['gratitude', 'recommendation'], ['individual', 'end', 'bad', 'habit', 'respect', 'nation', 'vow', 'dirt', 'country'], ['occasion', 'Vijay', 'Dashami', 'vow', 'dirt', 'filth', 'occasion', 'yesterday', '2nd', 'October', 'eve', 'Mahatma', 'Gandhi', 'birth', 'anniversary', 'crore', 'countryman', 'Swachh', 'Bharat', 'movement'], ['thought', 'yesterday', 'people', 'video', 'nation', 'social', 'medium', 'website', 'people'], ['nation', 'people', 'nation', 'people'], ['entire', 'nation', 'atmosphere'], ['hand', 'movement', 'Mahatma', 'Gandhi', 'Khaadi'], ['variety', 'clothe', 'different', 'fabric', 'company', 'brand', 'family'], ['possible', 'Khaadi'], ['Khaadi', 'product'], ['least', 'Khaadi', 'product', 'handkerchief', 'bath', 'towel', 'bed', 'sheet', 'pillow', 'cover', 'curtain', 'kind'], ['inclination', 'kind', 'fabric', 'clothe', 'family', 'Khaadi', 'product', 'regular', 'basis'], ['Khaadi', 'product', 'poor', 'people', 'lamp', 'Diwali'], ['special', 'discount', 'khaadi', 'product', '2nd', 'October', 'month'], ['small', 'thing', 'big', 'impact', 'poor'], ['success'], ['crore', 'countryman', 'outcome', 'government', 'care', 'individual'], ['potential', 'strength', 'incomparable', 'soul', 'world'], ['scientist', 'successful', 'Mars', 'least', 'expense'], ['strength', 'strong', 'point'], [], ['hopeless'], ['dear', 'Brothers', 'Sisters'], ['saying', 'Swami', 'Vivekananda', 'ji', 'thought', 'thought', 'many', 'Vivekananda', 'ii', 'lioness', 'cub', 'way', 'flock', 'sheep', 'distance'], ['desire', 'flock'], ['cub'], ['cub', 'lioness', 'post', 'flock'], ['cub', 'lioness', 'cub', 'mother', 'sheep'], ['sheep', 'language', 'way', 'life'], [], ['cub', 'lioness', 'grown'], ['brother', 'shocked'], ['mind', 'lion', 'sheep', 'sheep'], ['wrong'], ['ego', 'stake', 'brother'], ['brother'], ['lion', 'reply', 'brother', 'sheep'], [], [], ['voice', 'way', 'brother', 'well', 'water', 'reflection', 'similar', 'face'], ['lion', 'lion', 'brother', 'self', 'esteem', 'self', 'realization', 'lion', 'sheep', 'lion'], ['inner', 'entity'], ['Swami', 'Vivekananda', 'ji'], ['countryman', 'crore', 'Indians', 'indefinite', 'strength', 'capability'], [], ['inner', 'strength', 'Swami', 'ji', 'self', 'respect', 'life', 'successful', 'turn', 'nation', 'successful', 'country'], ['countryman', 'population', 'crore', 'efficient', 'strong', 'odd', 'confidence', 'day', 'many', 'letter', 'social', 'medium', 'website', 'Facebook', 'friend'], ['Mr.', 'Gautam', 'Pal', 'issue', 'child'], ['separate', 'Municipality', 'Municipal', 'Corporation', 'council'], ['moral', 'support'], ['suggestion', 'day', 'Chief', 'Minister', 'Gujarat'], ['Special', 'Olympics', 'Athens'], ['Olympics', 'participant', 'winner', 'category', 'Gujarat', 'home'], ['hour', 'emotional', 'inspiring', 'incident', 'life'], ['child', 'responsibility', 'parent', 'family', 'responsibility', 'entire', 'society'], ['God', 'family', 'child', 'child', 'responsibility', 'entire', 'nation'], ['incident', 'separate', 'Olympics', 'Gujarat'], ['thousand', 'child', 'parent', 'Olympics'], ['atmosphere', 'trust', 'reason', 'suggestion', 'Mr.', 'Gautam', 'Pal', 'thought', 'story'], ['traveller', 'corner', 'road', 'way', 'specific', 'place'], ['route', 'many', 'people'], ['man'], ['traveller', 'passer'], ['way', 'destination', 'traveller', 'brother', 'route'], ['route', 'man', 'destination', 'people', 'knowledge'], ['destination', 'address”', 'countryman', 'time', 'guidance', 'journey'], ['people', 'hand'], ['initiative', 'crore', 'Indians', 'capable', 'past', 'day', 'interesting', 'suggestion', 'people'], ['aware', 'suggestion'], ['suggestion', 'nation', 'nation', 'Government'], ['citizen', 'Nation', 'exception'], ['registration', 'process', 'Small', 'Scale', 'Industries'], ['Government', 'notice'], ['skill', 'development', 'course', 'school', 'curriculum', '5th', 'standard'], ['student', 'various', 'skill', 'craft'], ['effective', 'suggestion'], ['adult', 'skill', 'development', 'course', 'study'], ['suggestion', 'dustbin', 'meter', 'system', 'use', 'plastic', 'bag'], ['numerous', 'suggestion', 'people'], ['true', 'incident', 'positive', 'inspiring', 'countryman', 'evidence'], ['heartfelt', 'thought', 'suggestion', 'countryman', 'Mann', 'ki', 'intention', 'Mother', 'India'], ['nation', 'new', 'height'], ['step'], ['step', 'nation', 'crore', 'step', 'purpose', 'auspicious', 'occasion', 'Vijay', 'Dashami', 'inner', 'evil', 'good', 'nation'], ['today', 'fortunate', 'beginning'], ['heartfelt', 'thought'], ['today', 'thought', 'heart'], ['Sundays', 'journey', 'love', 'suggestion', 'thought', 'thought', 'advice', 'suggestion'], ['glad', 'simple', 'medium', 'Radio', 'corner', 'nation'], ['poor', 'home', 'nation', 'strength', 'hut', 'Poor', 'village', 'nation', 'strength', 'Mothers', 'Sisters', 'Youths', 'nation', 'strength', 'farmer'], ['nation'], ['trust', 'nation'], ['strength', 'nation', 'future', 'time'], [], ['original', 'speech', 'Hindi', 'english', 'rendering'], ['original', 'speech', 'authoritative', 'version']]\n"
     ]
    },
    {
     "name": "stderr",
     "output_type": "stream",
     "text": [
      "C:\\Users\\anush\\anaconda3\\envs\\nlp\\lib\\site-packages\\ipykernel\\ipkernel.py:287: DeprecationWarning: `should_run_async` will not call `transform_cell` automatically in the future. Please pass the result to `transformed_cell` argument and any exception that happen during thetransform in `preprocessing_exc_tuple` in IPython 7.17 and above.\n",
      "  and should_run_async(code)\n"
     ]
    }
   ],
   "source": [
    "stop_words = set(stopwords.words('english'))\n",
    "result = []\n",
    "for i in range(len(tokenized)) :\n",
    "    tokens = tokenized[i]\n",
    "    result.append([i for i in tokens if not i in stop_words])\n",
    "print(result)\n"
   ]
  },
  {
   "cell_type": "code",
   "execution_count": 25,
   "metadata": {},
   "outputs": [
    {
     "name": "stderr",
     "output_type": "stream",
     "text": [
      "C:\\Users\\anush\\anaconda3\\envs\\nlp\\lib\\site-packages\\ipykernel\\ipkernel.py:287: DeprecationWarning: `should_run_async` will not call `transform_cell` automatically in the future. Please pass the result to `transformed_cell` argument and any exception that happen during thetransform in `preprocessing_exc_tuple` in IPython 7.17 and above.\n",
      "  and should_run_async(code)\n"
     ]
    }
   ],
   "source": [
    "dictionary = corpora.Dictionary(tokenized)\n",
    "doc_term_matrix = [dictionary.doc2bow(rev) for rev in tokenized]"
   ]
  },
  {
   "cell_type": "code",
   "execution_count": 52,
   "metadata": {},
   "outputs": [
    {
     "name": "stderr",
     "output_type": "stream",
     "text": [
      "C:\\Users\\anush\\anaconda3\\envs\\nlp\\lib\\site-packages\\ipykernel\\ipkernel.py:287: DeprecationWarning: `should_run_async` will not call `transform_cell` automatically in the future. Please pass the result to `transformed_cell` argument and any exception that happen during thetransform in `preprocessing_exc_tuple` in IPython 7.17 and above.\n",
      "  and should_run_async(code)\n"
     ]
    }
   ],
   "source": [
    "LDA = gensim.models.ldamodel.LdaModel\n",
    "\n",
    "lda_model = LDA(corpus=doc_term_matrix, id2word=dictionary, num_topics=5, \n",
    "                random_state=100, chunksize=1, passes=50, iterations=10)"
   ]
  },
  {
   "cell_type": "code",
   "execution_count": 53,
   "metadata": {},
   "outputs": [
    {
     "name": "stderr",
     "output_type": "stream",
     "text": [
      "C:\\Users\\anush\\anaconda3\\envs\\nlp\\lib\\site-packages\\ipykernel\\ipkernel.py:287: DeprecationWarning: `should_run_async` will not call `transform_cell` automatically in the future. Please pass the result to `transformed_cell` argument and any exception that happen during thetransform in `preprocessing_exc_tuple` in IPython 7.17 and above.\n",
      "  and should_run_async(code)\n"
     ]
    },
    {
     "data": {
      "text/plain": [
       "[(0,\n",
       "  '0.145*\"strength\" + 0.035*\"home\" + 0.031*\"skill\" + 0.030*\"medium\" + 0.021*\"development\" + 0.021*\"course\" + 0.020*\"inner\" + 0.018*\"hut\" + 0.018*\"village\" + 0.018*\"Youths\"'),\n",
       " (1,\n",
       "  '0.153*\"suggestion\" + 0.044*\"countryman\" + 0.037*\"people\" + 0.033*\"crore\" + 0.017*\"numerous\" + 0.017*\"advice\" + 0.017*\"am\" + 0.017*\"love\" + 0.016*\"Sundays\" + 0.013*\"effective\"'),\n",
       " (2,\n",
       "  '0.091*\"speech\" + 0.091*\"original\" + 0.050*\"step\" + 0.047*\"version\" + 0.047*\"authoritative\" + 0.044*\"english\" + 0.044*\"rendering\" + 0.044*\"Hindi\" + 0.028*\"corner\" + 0.014*\"Dashami\"'),\n",
       " (3,\n",
       "  '0.296*\"nation\" + 0.039*\"trust\" + 0.022*\"Sisters\" + 0.022*\"poor\" + 0.017*\"height\" + 0.017*\"new\" + 0.016*\"farmer\" + 0.016*\"village\" + 0.016*\"Youths\" + 0.016*\"hut\"'),\n",
       " (4,\n",
       "  '0.125*\"thought\" + 0.049*\"today\" + 0.047*\"time\" + 0.035*\"heartfelt\" + 0.030*\"journey\" + 0.027*\"heart\" + 0.023*\"fortunate\" + 0.023*\"beginning\" + 0.019*\"incident\" + 0.018*\"future\"')]"
      ]
     },
     "execution_count": 53,
     "metadata": {},
     "output_type": "execute_result"
    }
   ],
   "source": [
    "lda_model.print_topics()"
   ]
  },
  {
   "cell_type": "code",
   "execution_count": 54,
   "metadata": {},
   "outputs": [
    {
     "name": "stderr",
     "output_type": "stream",
     "text": [
      "C:\\Users\\anush\\anaconda3\\envs\\nlp\\lib\\site-packages\\ipykernel\\ipkernel.py:287: DeprecationWarning: `should_run_async` will not call `transform_cell` automatically in the future. Please pass the result to `transformed_cell` argument and any exception that happen during thetransform in `preprocessing_exc_tuple` in IPython 7.17 and above.\n",
      "  and should_run_async(code)\n"
     ]
    },
    {
     "data": {
      "text/html": [
       "\n",
       "<link rel=\"stylesheet\" type=\"text/css\" href=\"https://cdn.jsdelivr.net/gh/bmabey/pyLDAvis@3.3.1/pyLDAvis/js/ldavis.v1.0.0.css\">\n",
       "\n",
       "\n",
       "<div id=\"ldavis_el1708819191722266247643742410\"></div>\n",
       "<script type=\"text/javascript\">\n",
       "\n",
       "var ldavis_el1708819191722266247643742410_data = {\"mdsDat\": {\"x\": [-0.1629615854303979, -0.11187077122533227, 0.03255843400471504, 0.14417407154961356, 0.0980998511014013], \"y\": [-0.06084058414378154, -0.008951519735603266, 0.2158450170576404, -0.0784798557473632, -0.06757305743089216], \"topics\": [1, 2, 3, 4, 5], \"cluster\": [1, 1, 1, 1, 1], \"Freq\": [26.41060419934401, 26.011923815468087, 17.68887422968495, 16.16446982222281, 13.724127933280142]}, \"tinfo\": {\"Term\": [\"nation\", \"suggestion\", \"thought\", \"strength\", \"speech\", \"original\", \"today\", \"step\", \"version\", \"authoritative\", \"time\", \"countryman\", \"Hindi\", \"english\", \"rendering\", \"trust\", \"people\", \"home\", \"crore\", \"skill\", \"heartfelt\", \"medium\", \"corner\", \"journey\", \"heart\", \"Sisters\", \"poor\", \"Poor\", \"Mothers\", \"Youths\", \"thought\", \"today\", \"time\", \"heart\", \"beginning\", \"fortunate\", \"incident\", \"inspiring\", \"journey\", \"heartfelt\", \"own\", \"evidence\", \"positive\", \"true\", \"way\", \"other\", \"destination\", \"many\", \"lion\", \"life\", \"address\\u201d\", \"guidance\", \"future\", \"Sundays\", \"India\", \"Mann\", \"Mother\", \"intention\", \"ki\", \"advice\", \"am\", \"love\", \"route\", \"suggestion\", \"countryman\", \"people\", \"crore\", \"numerous\", \"effective\", \"day\", \"Indians\", \"aware\", \"hand\", \"Gujarat\", \"few\", \"capable\", \"initiative\", \"interesting\", \"past\", \"bag\", \"dustbin\", \"meter\", \"plastic\", \"system\", \"use\", \"advice\", \"am\", \"love\", \"route\", \"Chief\", \"Minister\", \"knowledge\", \"Sundays\", \"India\", \"Mann\", \"Mother\", \"intention\", \"ki\", \"heartfelt\", \"original\", \"speech\", \"step\", \"authoritative\", \"version\", \"Hindi\", \"english\", \"rendering\", \"corner\", \"Dashami\", \"Vijay\", \"occasion\", \"traveller\", \"man\", \"good\", \"brother\", \"auspicious\", \"evil\", \"purpose\", \"passer\", \"separate\", \"Industries\", \"Scale\", \"Small\", \"process\", \"registration\", \"place\", \"road\", \"specific\", \"destination\", \"Radio\", \"glad\", \"simple\", \"bag\", \"dustbin\", \"meter\", \"plastic\", \"system\", \"use\", \"nation\", \"trust\", \"height\", \"new\", \"Government\", \"Sisters\", \"child\", \"poor\", \"notice\", \"responsibility\", \"Mothers\", \"Poor\", \"Youths\", \"farmer\", \"hut\", \"village\", \"entire\", \"parent\", \"Gautam\", \"Mr.\", \"Pal\", \"Radio\", \"glad\", \"simple\", \"atmosphere\", \"God\", \"family\", \"society\", \"thousand\", \"reason\", \"auspicious\", \"evil\", \"purpose\", \"future\", \"good\", \"occasion\", \"strength\", \"skill\", \"home\", \"medium\", \"course\", \"development\", \"inner\", \"adult\", \"study\", \"craft\", \"student\", \"various\", \"5th\", \"curriculum\", \"school\", \"standard\", \"Olympics\", \"Nation\", \"citizen\", \"exception\", \"Mothers\", \"Poor\", \"Youths\", \"farmer\", \"hut\", \"village\", \"poor\", \"Sisters\", \"Radio\", \"glad\", \"future\", \"simple\"], \"Freq\": [26.0, 21.0, 18.0, 11.0, 9.0, 9.0, 7.0, 5.0, 5.0, 5.0, 7.0, 6.0, 4.0, 4.0, 4.0, 4.0, 5.0, 3.0, 5.0, 2.0, 6.0, 3.0, 3.0, 5.0, 4.0, 3.0, 3.0, 3.0, 3.0, 3.0, 17.54178078654365, 6.8435215229859905, 6.676620637898967, 3.7518237961981042, 3.205047302809094, 3.205047302809094, 2.6991682596086326, 2.4105682443750873, 4.263697296954556, 4.870594565513193, 1.6029569398793642, 1.9457035933660616, 1.9457035933660616, 1.9457035933660616, 1.1886542352121654, 0.8660786351133395, 1.0886973371907158, 0.6640435609564369, 0.5756531053964075, 0.5495420341013111, 0.6705057865239692, 0.6705057865239692, 2.4896713810714153, 2.433139099739216, 1.4419794556604784, 1.4419794556604784, 1.4419794556604784, 1.4419794556604784, 1.4419794556604784, 2.3156771506837974, 2.3156771506837974, 2.3156771506837974, 0.9318020072485695, 21.177090042492296, 6.052754523216554, 5.164516393107751, 4.521877358197935, 2.3378720722099864, 1.85752812452239, 1.3803341048750464, 1.158104777087631, 1.117983125512982, 1.0020310398484187, 0.9959503035828062, 1.01719207800125, 0.991513482416373, 0.991513482416373, 0.991513482416373, 0.991513482416373, 1.2403658677132574, 1.2403658677132574, 1.2403658677132574, 1.2403658677132574, 1.2403658677132574, 1.2403658677132574, 2.2953093716662463, 2.2953093716662463, 2.2953093716662463, 1.0783914546573825, 0.4187083005102091, 0.4187083005102091, 0.5564303658865409, 2.162339669028324, 1.2747437911053054, 1.2747437911053054, 1.2747437911053054, 1.2747437911053054, 1.2747437911053054, 1.1578186430217488, 8.543446856291892, 8.543446856291892, 4.748398118519011, 4.472456862412302, 4.472456862412302, 4.133131480061976, 4.133131480061976, 4.133131480061976, 2.664700066948532, 1.3347641023834946, 1.3347641023834946, 1.3223153988758027, 0.8295277446505571, 0.6711571674631226, 1.1857308869902392, 0.5888431514342897, 1.0648564819330484, 1.0648564819330484, 1.0648564819330484, 0.3750397814363014, 0.3534907063496126, 0.4571953942238638, 0.4571953942238638, 0.4571953942238638, 0.4571953942238638, 0.4571953942238638, 0.27385251092747354, 0.27385251092747354, 0.27385251092747354, 0.558941422507539, 0.8217413999593719, 0.8217413999593719, 0.8217413999593719, 0.5326321719686588, 0.5326321719686588, 0.5326321719686588, 0.5326321719686588, 0.5326321719686588, 0.5326321719686588, 25.5156511823512, 3.368776837919681, 1.4359903417259874, 1.4359903417259874, 1.1387996818702735, 1.8794695230025447, 0.7959684919364749, 1.8536336528741133, 0.7235282535517181, 0.49686142938928457, 1.4054091011462437, 1.4054091011462437, 1.4054091011462437, 1.4054091011462437, 1.4054091011462437, 1.4054091011462437, 0.3927415504229575, 0.39182124223237025, 0.3737764776176615, 0.3737764776176615, 0.3737764776176615, 1.1058105308767077, 1.1058105308767077, 1.1058105308767077, 0.2848131586151743, 0.25373517467862533, 0.27275444933951587, 0.22488462221630398, 0.21123995701719595, 0.23049102384736664, 0.5604890318035104, 0.5604890318035104, 0.5604890318035104, 1.06086599916343, 0.4764818526441684, 0.38189126971238824, 10.610415396688573, 2.245393147940362, 2.5845003192802287, 2.2018653462605102, 1.549709695843735, 1.549709695843735, 1.4512323807550258, 0.9119374614534967, 0.9119374614534967, 0.7850434813101341, 0.7850434813101341, 0.7850434813101341, 0.7262402915200276, 0.7262402915200276, 0.7262402915200276, 0.7262402915200276, 0.623995615533921, 0.5906734787111305, 0.5906734787111305, 0.5906734787111305, 1.334136536483404, 1.334136536483404, 1.334136536483404, 1.334136536483404, 1.334136536483404, 1.334136536483404, 0.9266371859184893, 0.9032673538229695, 0.7513886177129696, 0.7513886177129696, 1.128694852902064, 0.7513886177129696], \"Total\": [26.0, 21.0, 18.0, 11.0, 9.0, 9.0, 7.0, 5.0, 5.0, 5.0, 7.0, 6.0, 4.0, 4.0, 4.0, 4.0, 5.0, 3.0, 5.0, 2.0, 6.0, 3.0, 3.0, 5.0, 4.0, 3.0, 3.0, 3.0, 3.0, 3.0, 18.087574284717075, 7.378633315355131, 7.294766619500806, 4.299592234395005, 3.7463069536304054, 3.7463069536304054, 3.227318817370964, 2.9393081080074617, 5.339293852593694, 6.342633905178527, 2.137464737217748, 2.746502711202042, 2.746502711202042, 2.746502711202042, 1.717181396215514, 1.3933059173138347, 2.0707558755432975, 1.264595263664656, 1.1019316629652134, 1.0760507218845667, 1.3454548527818613, 1.3454548527818613, 5.022376795959925, 4.909630104422958, 3.0316556679235953, 3.0316556679235953, 3.0316556679235953, 3.0316556679235953, 3.0316556679235953, 4.925496504404495, 4.925496504404495, 4.925496504404495, 2.3224231902426498, 21.676226843158243, 6.594800474322381, 5.663198312621056, 5.068330095348929, 2.8457969497375575, 2.3659471096225544, 1.893061660074346, 1.663754876925583, 1.6229883907222977, 1.4978738479699987, 1.491383722996616, 1.555758198779247, 1.5493110836750263, 1.5493110836750263, 1.5493110836750263, 1.5493110836750263, 2.1988831743997364, 2.1988831743997364, 2.1988831743997364, 2.1988831743997364, 2.1988831743997364, 2.1988831743997364, 4.925496504404495, 4.925496504404495, 4.925496504404495, 2.3224231902426498, 0.9135519049867655, 0.9135519049867655, 1.2149808546872245, 4.909630104422958, 3.0316556679235953, 3.0316556679235953, 3.0316556679235953, 3.0316556679235953, 3.0316556679235953, 6.342633905178527, 9.16754464658072, 9.16754464658072, 5.394540850164384, 5.113654264887212, 5.113654264887212, 4.758013679496983, 4.758013679496983, 4.758013679496983, 3.387420501084377, 2.360488502575374, 2.360488502575374, 2.361677324711028, 1.5360491462898724, 1.2873382212323372, 2.3717820384598025, 1.1949246066077415, 2.381764535568896, 2.381764535568896, 2.381764535568896, 0.9843578052172981, 0.959945298643333, 1.276304401055201, 1.276304401055201, 1.276304401055201, 1.276304401055201, 1.276304401055201, 0.9550850212038767, 0.9550850212038767, 0.9550850212038767, 2.0707558755432975, 3.087306496889792, 3.087306496889792, 3.087306496889792, 2.1988831743997364, 2.1988831743997364, 2.1988831743997364, 2.1988831743997364, 2.1988831743997364, 2.1988831743997364, 26.129390542522156, 4.063682486271077, 2.05141623603973, 2.05141623603973, 1.909165342002655, 3.2934358141232254, 1.402689142113252, 3.291176885396808, 1.3393623222054365, 1.134160059328089, 3.2514365920256916, 3.2514365920256916, 3.2514365920256916, 3.2514365920256916, 3.2514365920256916, 3.2514365920256916, 1.0011154140776397, 1.0244896341583816, 0.9808196993485843, 0.9808196993485843, 0.9808196993485843, 3.087306496889792, 3.087306496889792, 3.087306496889792, 0.9205867431861611, 0.8608445070912596, 0.9970883877528277, 0.8477227601285722, 0.8838479069712983, 0.9658049341817563, 2.381764535568896, 2.381764535568896, 2.381764535568896, 5.022376795959925, 2.3717820384598025, 2.361677324711028, 11.40429793272752, 2.868086917020798, 3.304314759907248, 3.062758543086922, 2.172794805232821, 2.172794805232821, 2.3309654286569184, 1.5327607392694826, 1.5327607392694826, 1.405797623084543, 1.405797623084543, 1.405797623084543, 1.349812374407249, 1.349812374407249, 1.349812374407249, 1.349812374407249, 1.2386545610056907, 1.207260050022919, 1.207260050022919, 1.207260050022919, 3.2514365920256916, 3.2514365920256916, 3.2514365920256916, 3.2514365920256916, 3.2514365920256916, 3.2514365920256916, 3.291176885396808, 3.2934358141232254, 3.087306496889792, 3.087306496889792, 5.022376795959925, 3.087306496889792], \"Category\": [\"Default\", \"Default\", \"Default\", \"Default\", \"Default\", \"Default\", \"Default\", \"Default\", \"Default\", \"Default\", \"Default\", \"Default\", \"Default\", \"Default\", \"Default\", \"Default\", \"Default\", \"Default\", \"Default\", \"Default\", \"Default\", \"Default\", \"Default\", \"Default\", \"Default\", \"Default\", \"Default\", \"Default\", \"Default\", \"Default\", \"Topic1\", \"Topic1\", \"Topic1\", \"Topic1\", \"Topic1\", \"Topic1\", \"Topic1\", \"Topic1\", \"Topic1\", \"Topic1\", \"Topic1\", \"Topic1\", \"Topic1\", \"Topic1\", \"Topic1\", \"Topic1\", \"Topic1\", \"Topic1\", \"Topic1\", \"Topic1\", \"Topic1\", \"Topic1\", \"Topic1\", \"Topic1\", \"Topic1\", \"Topic1\", \"Topic1\", \"Topic1\", \"Topic1\", \"Topic1\", \"Topic1\", \"Topic1\", \"Topic1\", \"Topic2\", \"Topic2\", \"Topic2\", \"Topic2\", \"Topic2\", \"Topic2\", \"Topic2\", \"Topic2\", \"Topic2\", \"Topic2\", \"Topic2\", \"Topic2\", \"Topic2\", \"Topic2\", \"Topic2\", \"Topic2\", \"Topic2\", \"Topic2\", \"Topic2\", \"Topic2\", \"Topic2\", \"Topic2\", \"Topic2\", \"Topic2\", \"Topic2\", \"Topic2\", \"Topic2\", \"Topic2\", \"Topic2\", \"Topic2\", \"Topic2\", \"Topic2\", \"Topic2\", \"Topic2\", \"Topic2\", \"Topic2\", \"Topic3\", \"Topic3\", \"Topic3\", \"Topic3\", \"Topic3\", \"Topic3\", \"Topic3\", \"Topic3\", \"Topic3\", \"Topic3\", \"Topic3\", \"Topic3\", \"Topic3\", \"Topic3\", \"Topic3\", \"Topic3\", \"Topic3\", \"Topic3\", \"Topic3\", \"Topic3\", \"Topic3\", \"Topic3\", \"Topic3\", \"Topic3\", \"Topic3\", \"Topic3\", \"Topic3\", \"Topic3\", \"Topic3\", \"Topic3\", \"Topic3\", \"Topic3\", \"Topic3\", \"Topic3\", \"Topic3\", \"Topic3\", \"Topic3\", \"Topic3\", \"Topic3\", \"Topic4\", \"Topic4\", \"Topic4\", \"Topic4\", \"Topic4\", \"Topic4\", \"Topic4\", \"Topic4\", \"Topic4\", \"Topic4\", \"Topic4\", \"Topic4\", \"Topic4\", \"Topic4\", \"Topic4\", \"Topic4\", \"Topic4\", \"Topic4\", \"Topic4\", \"Topic4\", \"Topic4\", \"Topic4\", \"Topic4\", \"Topic4\", \"Topic4\", \"Topic4\", \"Topic4\", \"Topic4\", \"Topic4\", \"Topic4\", \"Topic4\", \"Topic4\", \"Topic4\", \"Topic4\", \"Topic4\", \"Topic4\", \"Topic5\", \"Topic5\", \"Topic5\", \"Topic5\", \"Topic5\", \"Topic5\", \"Topic5\", \"Topic5\", \"Topic5\", \"Topic5\", \"Topic5\", \"Topic5\", \"Topic5\", \"Topic5\", \"Topic5\", \"Topic5\", \"Topic5\", \"Topic5\", \"Topic5\", \"Topic5\", \"Topic5\", \"Topic5\", \"Topic5\", \"Topic5\", \"Topic5\", \"Topic5\", \"Topic5\", \"Topic5\", \"Topic5\", \"Topic5\", \"Topic5\", \"Topic5\"], \"logprob\": [30.0, 29.0, 28.0, 27.0, 26.0, 25.0, 24.0, 23.0, 22.0, 21.0, 20.0, 19.0, 18.0, 17.0, 16.0, 15.0, 14.0, 13.0, 12.0, 11.0, 10.0, 9.0, 8.0, 7.0, 6.0, 5.0, 4.0, 3.0, 2.0, 1.0, -2.0825, -3.0238, -3.0485, -3.6249, -3.7824, -3.7824, -3.9542, -4.0673, -3.497, -3.3639, -4.4753, -4.2815, -4.2815, -4.2815, -4.7743, -5.0909, -4.8621, -5.3565, -5.4994, -5.5458, -5.3468, -5.3468, -4.035, -4.0579, -4.5811, -4.5811, -4.5811, -4.5811, -4.5811, -4.1074, -4.1074, -4.1074, -5.0178, -1.879, -3.1314, -3.2901, -3.423, -4.0827, -4.3127, -4.6096, -4.7851, -4.8204, -4.9299, -4.936, -4.9149, -4.9404, -4.9404, -4.9404, -4.9404, -4.7165, -4.7165, -4.7165, -4.7165, -4.7165, -4.7165, -4.101, -4.101, -4.101, -4.8564, -5.8025, -5.8025, -5.5181, -4.1607, -4.6892, -4.6892, -4.6892, -4.6892, -4.6892, -4.7854, -2.4011, -2.4011, -2.9885, -3.0483, -3.0483, -3.1273, -3.1273, -3.1273, -3.5662, -4.2575, -4.2575, -4.2669, -4.7332, -4.945, -4.3759, -5.0759, -4.4834, -4.4834, -4.4834, -5.527, -5.5862, -5.3289, -5.3289, -5.3289, -5.3289, -5.3289, -5.8415, -5.8415, -5.8415, -5.128, -4.7426, -4.7426, -4.7426, -5.1762, -5.1762, -5.1762, -5.1762, -5.1762, -5.1762, -1.2169, -3.2416, -4.0943, -4.0943, -4.3262, -3.8252, -4.6844, -3.839, -4.7798, -5.1556, -4.1158, -4.1158, -4.1158, -4.1158, -4.1158, -4.1158, -5.3908, -5.3931, -5.4403, -5.4403, -5.4403, -4.3556, -4.3556, -4.3556, -5.7121, -5.8276, -5.7554, -5.9483, -6.0109, -5.9237, -5.0351, -5.0351, -5.0351, -4.3971, -5.1975, -5.4188, -1.9307, -3.4836, -3.343, -3.5032, -3.8544, -3.8544, -3.9201, -4.3847, -4.3847, -4.5345, -4.5345, -4.5345, -4.6124, -4.6124, -4.6124, -4.6124, -4.7641, -4.819, -4.819, -4.819, -4.0042, -4.0042, -4.0042, -4.0042, -4.0042, -4.0042, -4.3687, -4.3942, -4.5783, -4.5783, -4.1714, -4.5783], \"loglift\": [30.0, 29.0, 28.0, 27.0, 26.0, 25.0, 24.0, 23.0, 22.0, 21.0, 20.0, 19.0, 18.0, 17.0, 16.0, 15.0, 14.0, 13.0, 12.0, 11.0, 10.0, 9.0, 8.0, 7.0, 6.0, 5.0, 4.0, 3.0, 2.0, 1.0, 1.3008, 1.2561, 1.2429, 1.1951, 1.1754, 1.1754, 1.1527, 1.1331, 1.1064, 1.0673, 1.0436, 0.9867, 0.9867, 0.9867, 0.9635, 0.8559, 0.6885, 0.6872, 0.6821, 0.6594, 0.6349, 0.6349, 0.6297, 0.6294, 0.5883, 0.5883, 0.5883, 0.5883, 0.5883, 0.5767, 0.5767, 0.5767, 0.4182, 1.3233, 1.2608, 1.2544, 1.2325, 1.15, 1.1047, 1.0307, 0.9843, 0.9739, 0.9446, 0.9429, 0.9217, 0.9003, 0.9003, 0.9003, 0.9003, 0.7741, 0.7741, 0.7741, 0.7741, 0.7741, 0.7741, 0.5831, 0.5831, 0.5831, 0.5795, 0.5664, 0.5664, 0.5657, 0.5266, 0.4803, 0.4803, 0.4803, 0.4803, 0.4803, -0.3541, 1.6617, 1.6617, 1.6047, 1.5983, 1.5983, 1.5914, 1.5914, 1.5914, 1.4923, 1.1621, 1.1621, 1.1522, 1.1161, 1.0809, 1.039, 1.0246, 0.9272, 0.9272, 0.9272, 0.7673, 0.7332, 0.7056, 0.7056, 0.7056, 0.7056, 0.7056, 0.483, 0.483, 0.483, 0.4226, 0.4086, 0.4086, 0.4086, 0.3144, 0.3144, 0.3144, 0.3144, 0.3144, 0.3144, 1.7986, 1.6348, 1.4657, 1.4657, 1.3057, 1.2614, 1.2558, 1.2483, 1.2065, 0.997, 0.9836, 0.9836, 0.9836, 0.9836, 0.9836, 0.9836, 0.8866, 0.8612, 0.8576, 0.8576, 0.8576, 0.7956, 0.7956, 0.7956, 0.6492, 0.6007, 0.5261, 0.4954, 0.3911, 0.3896, 0.3756, 0.3756, 0.3756, 0.2675, 0.2174, 0.0004, 1.9139, 1.7413, 1.7403, 1.656, 1.6481, 1.6481, 1.5121, 1.4668, 1.4668, 1.4034, 1.4034, 1.4034, 1.3662, 1.3662, 1.3662, 1.3662, 1.3004, 1.2712, 1.2712, 1.2712, 1.0952, 1.0952, 1.0952, 1.0952, 1.0952, 1.0952, 0.7186, 0.6923, 0.5729, 0.5729, 0.4932, 0.5729]}, \"token.table\": {\"Topic\": [5, 3, 4, 2, 3, 1, 2, 2, 1, 2, 1, 2, 4, 5, 5, 5, 4, 5, 3, 4, 5, 4, 5, 1, 2, 3, 4, 5, 1, 5, 1, 2, 1, 2, 3, 4, 3, 2, 2, 3, 1, 3, 2, 4, 5, 3, 2, 5, 5, 2, 5, 2, 1, 3, 5, 2, 3, 2, 3, 1, 3, 4, 5, 4, 5, 2, 1, 1, 4, 5, 3, 4, 5, 3, 1, 2, 1, 1, 2, 4, 5, 4, 5, 1, 2, 5, 1, 1, 2, 2, 1, 2, 1, 2, 2, 1, 1, 1, 2, 3, 1, 5, 2, 3, 4, 4, 4, 2, 3, 3, 1, 1, 2, 2, 2, 3, 4, 5, 1, 3, 4, 3, 1, 2, 5, 3, 4, 5, 5, 3, 5, 3, 5, 5, 5, 2, 2, 3, 1, 1, 1, 3, 1, 4, 2, 3, 5, 3, 4, 5, 1], \"Freq\": [0.7408437046216411, 0.4236411229747426, 0.523789101970095, 0.6705182473030578, 0.8406869482609137, 0.3298527634851447, 0.3298527634851447, 0.6010500788721225, 0.3298527634851447, 0.3298527634851447, 0.3298527634851447, 0.3298527634851447, 0.3075563590729554, 0.3075563590729554, 0.8283219510005452, 0.8073275887250422, 0.3075563590729554, 0.3075563590729554, 0.323906939919123, 0.323906939919123, 0.323906939919123, 0.6072685526231935, 0.30363427631159673, 0.4073626642867152, 0.4073626642867152, 0.4236411229747426, 0.3075563590729554, 0.3075563590729554, 0.7432430734724401, 0.6524175459221394, 0.4060504353645471, 0.4060504353645471, 0.4060504353645471, 0.4060504353645471, 0.4198567847770666, 0.4198567847770666, 0.7822194839150364, 0.6161473524496119, 0.4547763208352284, 0.4547763208352284, 0.8007886265413496, 0.8368728825820142, 0.6454481675997314, 0.7129163333320084, 0.8283219510005452, 0.885629640323557, 0.9098076618635689, 0.9204734819796729, 0.7113399422356693, 0.9865182231497444, 0.7408437046216411, 0.5282448116141801, 0.48291544735452374, 0.48291544735452374, 0.9204734819796729, 0.4547763208352284, 0.4547763208352284, 0.8453274343563264, 0.8406869482609137, 0.728198807830295, 0.4198567847770666, 0.4198567847770666, 0.8283219510005452, 0.3075563590729554, 0.3075563590729554, 0.6427734083514183, 0.8007886265413496, 0.39821783216441065, 0.19910891608220532, 0.19910891608220532, 0.323906939919123, 0.323906939919123, 0.323906939919123, 0.4216239029491024, 0.7432430734724401, 0.6676129644397325, 0.9303207797245543, 0.7883160331731718, 0.15766320663463437, 0.48746811223962294, 0.9079038221177845, 0.3075563590729554, 0.3075563590729554, 0.9295641892745686, 0.6454481675997314, 0.42900679165207145, 0.680432240006233, 0.3298527634851447, 0.3298527634851447, 0.6454481675997314, 0.7491627377011477, 0.18729068442528693, 0.3298527634851447, 0.3298527634851447, 0.8230582367961942, 0.9293242220484054, 0.9074972919001864, 0.4060504353645471, 0.4060504353645471, 0.7767966362738182, 0.790766839583213, 0.653006096257337, 0.4547763208352284, 0.4547763208352284, 0.9950480841751135, 0.48746811223962294, 0.7466239593431061, 0.7027908298884227, 0.42342787032617113, 0.9817241526450367, 0.7177174714996601, 0.9356879508586979, 0.6454481675997314, 0.8828933270545999, 0.4547763208352284, 0.4547763208352284, 0.6076853568321247, 0.30384267841606233, 0.728198807830295, 0.4198567847770666, 0.4198567847770666, 0.8406869482609137, 0.4305847462259963, 0.4305847462259963, 0.7408437046216411, 0.323906939919123, 0.323906939919123, 0.323906939919123, 0.6973289366270266, 0.9817241526450367, 0.7408437046216411, 0.9268629414211662, 0.9645486346364834, 0.7113399422356693, 0.6524175459221394, 0.9688032955158115, 0.4547763208352284, 0.4547763208352284, 0.9951583178961112, 0.9595920425044416, 0.9486851698447752, 0.6510208364200913, 0.728198807830295, 0.7382466543917572, 0.4547763208352284, 0.4547763208352284, 0.7113399422356693, 0.7822194839150364, 0.3075563590729554, 0.3075563590729554, 0.5823496586929571], \"Term\": [\"5th\", \"Dashami\", \"Government\", \"Gujarat\", \"Hindi\", \"India\", \"India\", \"Indians\", \"Mann\", \"Mann\", \"Mother\", \"Mother\", \"Mothers\", \"Mothers\", \"Nation\", \"Olympics\", \"Poor\", \"Poor\", \"Radio\", \"Radio\", \"Radio\", \"Sisters\", \"Sisters\", \"Sundays\", \"Sundays\", \"Vijay\", \"Youths\", \"Youths\", \"address\\u201d\", \"adult\", \"advice\", \"advice\", \"am\", \"am\", \"auspicious\", \"auspicious\", \"authoritative\", \"aware\", \"bag\", \"bag\", \"beginning\", \"brother\", \"capable\", \"child\", \"citizen\", \"corner\", \"countryman\", \"course\", \"craft\", \"crore\", \"curriculum\", \"day\", \"destination\", \"destination\", \"development\", \"dustbin\", \"dustbin\", \"effective\", \"english\", \"evidence\", \"evil\", \"evil\", \"exception\", \"farmer\", \"farmer\", \"few\", \"fortunate\", \"future\", \"future\", \"future\", \"glad\", \"glad\", \"glad\", \"good\", \"guidance\", \"hand\", \"heart\", \"heartfelt\", \"heartfelt\", \"height\", \"home\", \"hut\", \"hut\", \"incident\", \"initiative\", \"inner\", \"inspiring\", \"intention\", \"intention\", \"interesting\", \"journey\", \"journey\", \"ki\", \"ki\", \"knowledge\", \"life\", \"lion\", \"love\", \"love\", \"man\", \"many\", \"medium\", \"meter\", \"meter\", \"nation\", \"new\", \"notice\", \"numerous\", \"occasion\", \"original\", \"other\", \"own\", \"past\", \"people\", \"plastic\", \"plastic\", \"poor\", \"poor\", \"positive\", \"purpose\", \"purpose\", \"rendering\", \"route\", \"route\", \"school\", \"simple\", \"simple\", \"simple\", \"skill\", \"speech\", \"standard\", \"step\", \"strength\", \"student\", \"study\", \"suggestion\", \"system\", \"system\", \"thought\", \"time\", \"today\", \"traveller\", \"true\", \"trust\", \"use\", \"use\", \"various\", \"version\", \"village\", \"village\", \"way\"]}, \"R\": 30, \"lambda.step\": 0.01, \"plot.opts\": {\"xlab\": \"PC1\", \"ylab\": \"PC2\"}, \"topic.order\": [5, 2, 3, 4, 1]};\n",
       "\n",
       "function LDAvis_load_lib(url, callback){\n",
       "  var s = document.createElement('script');\n",
       "  s.src = url;\n",
       "  s.async = true;\n",
       "  s.onreadystatechange = s.onload = callback;\n",
       "  s.onerror = function(){console.warn(\"failed to load library \" + url);};\n",
       "  document.getElementsByTagName(\"head\")[0].appendChild(s);\n",
       "}\n",
       "\n",
       "if(typeof(LDAvis) !== \"undefined\"){\n",
       "   // already loaded: just create the visualization\n",
       "   !function(LDAvis){\n",
       "       new LDAvis(\"#\" + \"ldavis_el1708819191722266247643742410\", ldavis_el1708819191722266247643742410_data);\n",
       "   }(LDAvis);\n",
       "}else if(typeof define === \"function\" && define.amd){\n",
       "   // require.js is available: use it to load d3/LDAvis\n",
       "   require.config({paths: {d3: \"https://d3js.org/d3.v5\"}});\n",
       "   require([\"d3\"], function(d3){\n",
       "      window.d3 = d3;\n",
       "      LDAvis_load_lib(\"https://cdn.jsdelivr.net/gh/bmabey/pyLDAvis@3.3.1/pyLDAvis/js/ldavis.v3.0.0.js\", function(){\n",
       "        new LDAvis(\"#\" + \"ldavis_el1708819191722266247643742410\", ldavis_el1708819191722266247643742410_data);\n",
       "      });\n",
       "    });\n",
       "}else{\n",
       "    // require.js not available: dynamically load d3 & LDAvis\n",
       "    LDAvis_load_lib(\"https://d3js.org/d3.v5.js\", function(){\n",
       "         LDAvis_load_lib(\"https://cdn.jsdelivr.net/gh/bmabey/pyLDAvis@3.3.1/pyLDAvis/js/ldavis.v3.0.0.js\", function(){\n",
       "                 new LDAvis(\"#\" + \"ldavis_el1708819191722266247643742410\", ldavis_el1708819191722266247643742410_data);\n",
       "            })\n",
       "         });\n",
       "}\n",
       "</script>"
      ],
      "text/plain": [
       "PreparedData(topic_coordinates=              x         y  topics  cluster       Freq\n",
       "topic                                                \n",
       "4     -0.162962 -0.060841       1        1  26.410604\n",
       "1     -0.111871 -0.008952       2        1  26.011924\n",
       "2      0.032558  0.215845       3        1  17.688874\n",
       "3      0.144174 -0.078480       4        1  16.164470\n",
       "0      0.098100 -0.067573       5        1  13.724128, topic_info=           Term       Freq      Total Category  logprob  loglift\n",
       "45       nation  26.000000  26.000000  Default  30.0000  30.0000\n",
       "187  suggestion  21.000000  21.000000  Default  29.0000  29.0000\n",
       "14      thought  18.000000  18.000000  Default  28.0000  28.0000\n",
       "110    strength  11.000000  11.000000  Default  27.0000  27.0000\n",
       "288      speech   9.000000   9.000000  Default  26.0000  26.0000\n",
       "..          ...        ...        ...      ...      ...      ...\n",
       "120     Sisters   0.903267   3.293436   Topic5  -4.3942   0.6923\n",
       "275       Radio   0.751389   3.087306   Topic5  -4.5783   0.5729\n",
       "276        glad   0.751389   3.087306   Topic5  -4.5783   0.5729\n",
       "16       future   1.128695   5.022377   Topic5  -4.1714   0.4932\n",
       "277      simple   0.751389   3.087306   Topic5  -4.5783   0.5729\n",
       "\n",
       "[206 rows x 6 columns], token_table=      Topic      Freq        Term\n",
       "term                             \n",
       "235       5  0.740844         5th\n",
       "1         3  0.423641     Dashami\n",
       "225       4  0.523789  Government\n",
       "185       2  0.670518     Gujarat\n",
       "284       3  0.840687       Hindi\n",
       "...     ...       ...         ...\n",
       "244       5  0.711340     various\n",
       "290       3  0.782219     version\n",
       "283       4  0.307556     village\n",
       "283       5  0.307556     village\n",
       "29        1  0.582350         way\n",
       "\n",
       "[151 rows x 3 columns], R=30, lambda_step=0.01, plot_opts={'xlab': 'PC1', 'ylab': 'PC2'}, topic_order=[5, 2, 3, 4, 1])"
      ]
     },
     "execution_count": 54,
     "metadata": {},
     "output_type": "execute_result"
    }
   ],
   "source": [
    "import pyLDAvis\n",
    "import pyLDAvis.gensim_models as gensimvis\n",
    "import matplotlib.pyplot as plt\n",
    "import seaborn as sns\n",
    "%matplotlib inline\n",
    "\n",
    "pyLDAvis.enable_notebook()\n",
    "vis = gensimvis.prepare(lda_model, doc_term_matrix, dictionary)\n",
    "vis"
   ]
  },
  {
   "cell_type": "markdown",
   "metadata": {},
   "source": [
    "# LDA for all Speeches \n",
    "---\n",
    "Get an overall idea of the topics discussed in Mann Ki Baat"
   ]
  },
  {
   "cell_type": "code",
   "execution_count": 2,
   "metadata": {},
   "outputs": [],
   "source": [
    "from nltk.tokenize import sent_tokenize\n",
    "\n",
    "# for i in range(len(all_speeches)) :\n",
    "all_speeches['Tokenized_sent'] = all_speeches['Speech'].apply(sent_tokenize)"
   ]
  },
  {
   "cell_type": "code",
   "execution_count": 3,
   "metadata": {},
   "outputs": [
    {
     "data": {
      "text/html": [
       "<div>\n",
       "<style scoped>\n",
       "    .dataframe tbody tr th:only-of-type {\n",
       "        vertical-align: middle;\n",
       "    }\n",
       "\n",
       "    .dataframe tbody tr th {\n",
       "        vertical-align: top;\n",
       "    }\n",
       "\n",
       "    .dataframe thead th {\n",
       "        text-align: right;\n",
       "    }\n",
       "</style>\n",
       "<table border=\"1\" class=\"dataframe\">\n",
       "  <thead>\n",
       "    <tr style=\"text-align: right;\">\n",
       "      <th></th>\n",
       "      <th>Speech_date</th>\n",
       "      <th>Speech</th>\n",
       "      <th>Tokenized_sent</th>\n",
       "    </tr>\n",
       "  </thead>\n",
       "  <tbody>\n",
       "    <tr>\n",
       "      <th>0</th>\n",
       "      <td>03 Oct, 2014</td>\n",
       "      <td>My Dear Countrymen,Today is the holy festival ...</td>\n",
       "      <td>[My Dear Countrymen,Today is the holy festival...</td>\n",
       "    </tr>\n",
       "    <tr>\n",
       "      <th>1</th>\n",
       "      <td>02 Nov, 2014</td>\n",
       "      <td>My dear fellow countrymen, I am with you again...</td>\n",
       "      <td>[My dear fellow countrymen, I am with you agai...</td>\n",
       "    </tr>\n",
       "    <tr>\n",
       "      <th>2</th>\n",
       "      <td>14 Dec, 2014</td>\n",
       "      <td>My Dear Fellow Countrymen,Today I have this gr...</td>\n",
       "      <td>[My Dear Fellow Countrymen,Today I have this g...</td>\n",
       "    </tr>\n",
       "    <tr>\n",
       "      <th>3</th>\n",
       "      <td>27 Jan, 2015</td>\n",
       "      <td>Today, Shri Barack Obama, President of the Uni...</td>\n",
       "      <td>[Today, Shri Barack Obama, President of the Un...</td>\n",
       "    </tr>\n",
       "    <tr>\n",
       "      <th>4</th>\n",
       "      <td>22 Feb, 2015</td>\n",
       "      <td>Hello, my young friends. Today probably the en...</td>\n",
       "      <td>[Hello, my young friends., Today probably the ...</td>\n",
       "    </tr>\n",
       "    <tr>\n",
       "      <th>...</th>\n",
       "      <td>...</td>\n",
       "      <td>...</td>\n",
       "      <td>...</td>\n",
       "    </tr>\n",
       "    <tr>\n",
       "      <th>68</th>\n",
       "      <td>29 Nov, 2020</td>\n",
       "      <td>My dear countrymen,Namaskar! I want to share a...</td>\n",
       "      <td>[My dear countrymen,Namaskar!, I want to share...</td>\n",
       "    </tr>\n",
       "    <tr>\n",
       "      <th>69</th>\n",
       "      <td>27 Dec, 2020</td>\n",
       "      <td>My dear countrymen,Namaskar. Today is the 27th...</td>\n",
       "      <td>[My dear countrymen,Namaskar., Today is the 27...</td>\n",
       "    </tr>\n",
       "    <tr>\n",
       "      <th>70</th>\n",
       "      <td>31 Jan, 2021</td>\n",
       "      <td>My dear countrymen,Namaskar. When I express Ma...</td>\n",
       "      <td>[My dear countrymen,Namaskar., When I express ...</td>\n",
       "    </tr>\n",
       "    <tr>\n",
       "      <th>71</th>\n",
       "      <td>28 Feb, 2021</td>\n",
       "      <td>My dear countrymen,Namaskar. Yesterday was the...</td>\n",
       "      <td>[My dear countrymen,Namaskar., Yesterday was t...</td>\n",
       "    </tr>\n",
       "    <tr>\n",
       "      <th>72</th>\n",
       "      <td>28 Mar, 2021</td>\n",
       "      <td>My dear countrymen, Namaskar. This time when I...</td>\n",
       "      <td>[My dear countrymen, Namaskar., This time when...</td>\n",
       "    </tr>\n",
       "  </tbody>\n",
       "</table>\n",
       "<p>73 rows × 3 columns</p>\n",
       "</div>"
      ],
      "text/plain": [
       "     Speech_date                                             Speech  \\\n",
       "0   03 Oct, 2014  My Dear Countrymen,Today is the holy festival ...   \n",
       "1   02 Nov, 2014  My dear fellow countrymen, I am with you again...   \n",
       "2   14 Dec, 2014  My Dear Fellow Countrymen,Today I have this gr...   \n",
       "3   27 Jan, 2015  Today, Shri Barack Obama, President of the Uni...   \n",
       "4   22 Feb, 2015  Hello, my young friends. Today probably the en...   \n",
       "..           ...                                                ...   \n",
       "68  29 Nov, 2020  My dear countrymen,Namaskar! I want to share a...   \n",
       "69  27 Dec, 2020  My dear countrymen,Namaskar. Today is the 27th...   \n",
       "70  31 Jan, 2021  My dear countrymen,Namaskar. When I express Ma...   \n",
       "71  28 Feb, 2021  My dear countrymen,Namaskar. Yesterday was the...   \n",
       "72  28 Mar, 2021  My dear countrymen, Namaskar. This time when I...   \n",
       "\n",
       "                                       Tokenized_sent  \n",
       "0   [My Dear Countrymen,Today is the holy festival...  \n",
       "1   [My dear fellow countrymen, I am with you agai...  \n",
       "2   [My Dear Fellow Countrymen,Today I have this g...  \n",
       "3   [Today, Shri Barack Obama, President of the Un...  \n",
       "4   [Hello, my young friends., Today probably the ...  \n",
       "..                                                ...  \n",
       "68  [My dear countrymen,Namaskar!, I want to share...  \n",
       "69  [My dear countrymen,Namaskar., Today is the 27...  \n",
       "70  [My dear countrymen,Namaskar., When I express ...  \n",
       "71  [My dear countrymen,Namaskar., Yesterday was t...  \n",
       "72  [My dear countrymen, Namaskar., This time when...  \n",
       "\n",
       "[73 rows x 3 columns]"
      ]
     },
     "execution_count": 3,
     "metadata": {},
     "output_type": "execute_result"
    }
   ],
   "source": [
    "all_speeches"
   ]
  },
  {
   "cell_type": "code",
   "execution_count": 4,
   "metadata": {},
   "outputs": [],
   "source": [
    "nlp = spacy.load('en_core_web_sm', disable=['parser','ner'])\n",
    "\n",
    "import itertools\n",
    "\n",
    "def lemmatization(text, allowed_postags=['PROPN', 'NOUN', 'ADJ']):\n",
    "    output = []\n",
    "    for sent in text :\n",
    "        doc = nlp(sent)\n",
    "#         output.append([token.lemma_ for token in doc if token.pos_ in allowed_postags])\n",
    "#         output.append([token for token in doc])\n",
    "        output.append([token.lemma_ for token in doc if token.pos_ in allowed_postags])\n",
    "    \n",
    "    final = list(itertools.chain(*output))\n",
    "    return final"
   ]
  },
  {
   "cell_type": "code",
   "execution_count": 5,
   "metadata": {},
   "outputs": [],
   "source": [
    "# for i in range(len(all_speeches)) :\n",
    "stop_words = set(stopwords.words('english'))\n",
    "final_tokenzied = []\n",
    "for i in range(len(all_speeches)) :\n",
    "    tokens = lemmatization(all_speeches['Tokenized_sent'][i])\n",
    "    final_tokenzied.append([i for i in tokens if not i in stop_words])"
   ]
  },
  {
   "cell_type": "code",
   "execution_count": 6,
   "metadata": {},
   "outputs": [],
   "source": [
    "# final = list(itertools.chain(*final_tokenzied))\n",
    "# final"
   ]
  },
  {
   "cell_type": "code",
   "execution_count": 7,
   "metadata": {},
   "outputs": [],
   "source": [
    "dictionary_all = corpora.Dictionary(final_tokenzied)\n",
    "doc_term_matrix_all = [dictionary_all.doc2bow(rev) for rev in final_tokenzied]"
   ]
  },
  {
   "cell_type": "code",
   "execution_count": 9,
   "metadata": {},
   "outputs": [],
   "source": [
    "LDA = gensim.models.ldamodel.LdaModel\n",
    "\n",
    "lda_model_all = LDA(corpus=doc_term_matrix_all, id2word=dictionary_all, num_topics=5, \n",
    "                random_state=100, chunksize=2, passes=50, iterations=100)\n",
    "lda_model_all.save('lda.model')"
   ]
  },
  {
   "cell_type": "code",
   "execution_count": 10,
   "metadata": {},
   "outputs": [
    {
     "data": {
      "text/plain": [
       "[(0,\n",
       "  '0.011*\"Ravidas\" + 0.008*\"commentary\" + 0.008*\"cook\" + 0.008*\"brinjal\" + 0.006*\"king\" + 0.006*\"storytelling\" + 0.005*\"Ismail\" + 0.005*\"Nayak\" + 0.005*\"Magh\" + 0.005*\"specie\"'),\n",
       " (1,\n",
       "  '0.021*\"country\" + 0.020*\"India\" + 0.017*\"people\" + 0.015*\"many\" + 0.014*\"time\" + 0.012*\"countryman\" + 0.012*\"year\" + 0.012*\"new\" + 0.010*\"day\" + 0.010*\"life\"'),\n",
       " (2,\n",
       "  '0.024*\"farmer\" + 0.020*\"water\" + 0.017*\"Corona\" + 0.015*\"friend\" + 0.013*\"light\" + 0.008*\"Sir\" + 0.008*\"sir\" + 0.007*\"village\" + 0.007*\"sister\" + 0.006*\"period\"'),\n",
       " (3,\n",
       "  '0.012*\"Guru\" + 0.008*\"Nanak\" + 0.008*\"khadi\" + 0.007*\"Sardar\" + 0.007*\"Dev\" + 0.007*\"dog\" + 0.006*\"ji-\" + 0.006*\"Patel\" + 0.005*\"Unity\" + 0.005*\"cigarette\"'),\n",
       " (4,\n",
       "  '0.017*\"woman\" + 0.011*\"yoga\" + 0.011*\"spirit\" + 0.010*\"nature\" + 0.009*\"Modi\" + 0.008*\"book\" + 0.008*\"duty\" + 0.008*\"crisis\" + 0.007*\"scheme\" + 0.006*\"-\"')]"
      ]
     },
     "execution_count": 10,
     "metadata": {},
     "output_type": "execute_result"
    }
   ],
   "source": [
    "lda_model_all.print_topics()"
   ]
  },
  {
   "cell_type": "code",
   "execution_count": 39,
   "metadata": {},
   "outputs": [
    {
     "name": "stderr",
     "output_type": "stream",
     "text": [
      "C:\\Users\\anush\\anaconda3\\envs\\nlp\\lib\\site-packages\\ipykernel\\ipkernel.py:287: DeprecationWarning: `should_run_async` will not call `transform_cell` automatically in the future. Please pass the result to `transformed_cell` argument and any exception that happen during thetransform in `preprocessing_exc_tuple` in IPython 7.17 and above.\n",
      "  and should_run_async(code)\n"
     ]
    },
    {
     "data": {
      "text/html": [
       "\n",
       "<link rel=\"stylesheet\" type=\"text/css\" href=\"https://cdn.jsdelivr.net/gh/bmabey/pyLDAvis@3.3.1/pyLDAvis/js/ldavis.v1.0.0.css\">\n",
       "\n",
       "\n",
       "<div id=\"ldavis_el2147212881111038883172541792\"></div>\n",
       "<script type=\"text/javascript\">\n",
       "\n",
       "var ldavis_el2147212881111038883172541792_data = {\"mdsDat\": {\"x\": [0.36680526715845324, -0.08806598521335605, -0.15595070028726268, -0.06587617955263893, -0.05691240210519563], \"y\": [0.028706618999463893, -0.2591409543922949, 0.20257058737546021, 0.01945884086214882, 0.00840490715522208], \"topics\": [1, 2, 3, 4, 5], \"cluster\": [1, 1, 1, 1, 1], \"Freq\": [67.07080806375687, 14.61030433597252, 13.547862039545375, 3.0546014768546863, 1.7164240838705311]}, \"tinfo\": {\"Term\": [\"farmer\", \"water\", \"friend\", \"country\", \"India\", \"Corona\", \"woman\", \"people\", \"many\", \"light\", \"Guru\", \"time\", \"yoga\", \"spirit\", \"countryman\", \"year\", \"new\", \"nature\", \"village\", \"day\", \"Modi\", \"life\", \"Sir\", \"ji\", \"book\", \"dear\", \"today\", \"duty\", \"sir\", \"crisis\", \"country\", \"India\", \"people\", \"many\", \"time\", \"countryman\", \"year\", \"new\", \"day\", \"life\", \"ji\", \"dear\", \"today\", \"world\", \"way\", \"great\", \"Mann\", \"Baat\", \"festival\", \"family\", \"Ki\", \"effort\", \"place\", \"story\", \"month\", \"young\", \"child\", \"opportunity\", \"lot\", \"house\", \"work\", \"good\", \"friend\", \"farmer\", \"water\", \"Corona\", \"light\", \"Sir\", \"sir\", \"sister\", \"period\", \"farming\", \"unique\", \"income\", \"National\", \"mask\", \"conservation\", \"market\", \"difficult\", \"bird\", \"vaccine\", \"fruit\", \"app\", \"Ayushman\", \"lockdown\", \"crop\", \"corona\", \"Jai\", \"Ram\", \"animal\", \"percent\", \"agricultural\", \"Fit\", \"exam\", \"pandemic\", \"land\", \"friend\", \"Bharat\", \"village\", \"district\", \"brother\", \"good\", \"woman\", \"yoga\", \"spirit\", \"nature\", \"Modi\", \"book\", \"duty\", \"crisis\", \"scheme\", \"-\", \"contribution\", \"question\", \"situation\", \"member\", \"natural\", \"sector\", \"New\", \"Kashmir\", \"January\", \"community\", \"brave\", \"awareness\", \"Dr.\", \"century\", \"innovative\", \"fight\", \"several\", \"pm\", \"certain\", \"Assam\", \"free\", \"doctor\", \"Nanak\", \"khadi\", \"Dev\", \"dog\", \"cigarette\", \"ji-\", \"stubble\", \"Statue\", \"Kaniga-\", \"Kritika\", \"Sikh\", \"Nutrition\", \"Kashmiri\", \"Pon\", \"leopard\", \"breed\", \"wood\", \"Mantra\", \"Manzoor\", \"Valmiki\", \"pencil\", \"Aurobindo\", \"Jonas\", \"Dragon\", \"Lakshmi\", \"Usman\", \"Usman-\", \"Brown\", \"Mallakhambh\", \"Oaxaca\", \"simplicity\", \"related\", \"Virendra\", \"Sardar\", \"Guru\", \"Unity\", \"Patel\", \"31st\", \"Diwali\", \"Ravidas\", \"commentary\", \"brinjal\", \"cook\", \"Ismail\", \"Nayak\", \"storytelling\", \"Bose\", \"Election\", \"Tenali\", \"Magh\", \"Pariksha\", \"Pe\", \"Azad\", \"Amma\", \"Mali\", \"Reddy\", \"Kamya\", \"storyteller\", \"Haat\", \"Hunar\", \"discovery\", \"Kaziranga\", \"Savarkar\", \"Salman\", \"polling\", \"Producer\", \"Rajmata\", \"crown\", \"gourd\", \"potato\", \"specie\", \"Chia\", \"king\", \"Rama\"], \"Freq\": [336.0, 281.0, 670.0, 1352.0, 1261.0, 235.0, 215.0, 1093.0, 971.0, 182.0, 115.0, 889.0, 145.0, 144.0, 747.0, 743.0, 738.0, 129.0, 326.0, 657.0, 115.0, 624.0, 116.0, 597.0, 108.0, 569.0, 563.0, 102.0, 105.0, 98.0, 1352.1324501272902, 1260.863997820824, 1093.3930638976885, 971.4146197245243, 889.4454844775773, 746.5433679578109, 743.0705275597696, 737.8219819781473, 656.6444570811801, 624.0286061306856, 597.3831175753935, 569.1374524909392, 562.9197976853276, 491.15296695836213, 462.8679273339115, 382.4833859702751, 377.19815251173424, 375.60985700373857, 330.99074171674965, 324.76714640055485, 316.4138929661794, 318.39115758422247, 296.81943225143317, 288.29091882894653, 255.67703809804243, 253.67786225000896, 249.7817380840538, 249.38584335362793, 248.1533963702923, 236.70189800045654, 238.48826028091304, 360.7341319116644, 463.353855129257, 336.06110726879416, 281.3414045757416, 234.75977753700846, 181.52546983854913, 115.57545632097329, 104.96150775189614, 95.46217441855505, 88.19740380387154, 76.22903193600675, 68.949370045647, 68.06989390530501, 64.51692006458252, 68.6537294529203, 56.77170747575624, 59.85223771311402, 52.917364127953, 52.191414438736764, 55.94744610474476, 50.4938935472726, 48.10531992332428, 47.118743647441896, 49.642252387512315, 40.78486634199641, 44.96677548686366, 39.91570679941003, 40.179952161147725, 39.26159288416555, 38.6278910712563, 38.306502877638756, 37.253650670886444, 66.84609765707813, 56.81076943775934, 47.08074163213539, 206.64792327157298, 74.88952592385724, 102.83652271289803, 56.099350122123255, 51.11141329052232, 58.48625254177079, 214.8059058374286, 144.5107345965019, 143.68912867678722, 129.06013426517416, 115.03536897221223, 108.26673174679621, 101.94343657462151, 98.02846531279295, 86.9799351438961, 82.00450276557814, 78.65685179024231, 75.27351001641843, 74.71505363831857, 74.45932083637942, 70.76974610225558, 71.02637735477332, 69.00105870517487, 68.45124313029065, 67.8971825271693, 65.69503794993733, 66.47342779383446, 63.39147699497754, 59.06323052673308, 58.61628452816354, 59.66855708166143, 58.597670320538484, 57.90190175065446, 66.24900810501386, 53.91031496498919, 55.10512760726215, 80.42910284028915, 67.62234709816305, 24.64451016533603, 24.45288856121657, 20.699252648506263, 19.328747462276887, 14.573601601352262, 16.48186433855738, 12.610705783665681, 11.958367633215078, 11.360952145083504, 11.360952145083504, 8.973151401644657, 8.434757586349757, 10.745500330904715, 11.201520349264646, 11.67437078245151, 11.740224139484262, 7.54128613525179, 8.846911394475157, 9.75385587848519, 9.75385587848519, 9.75385587848519, 12.214231540482244, 12.214231540482244, 5.894201743825771, 6.25374478594566, 7.497718343859255, 7.497718343859255, 8.299420902771114, 8.299420902771114, 8.299420902771114, 7.193656054876802, 7.133192590778447, 8.898374029673985, 21.780343220485232, 35.731706868023934, 15.094267026215949, 16.113158682379886, 9.691164129730643, 9.15315438424378, 17.633369499443933, 12.755724231206369, 12.32761971404764, 12.32761971404764, 8.956912094139494, 8.837781838601359, 9.21974105750289, 6.996532948285834, 6.008072531183427, 7.141305761954244, 8.836195126057815, 5.32719141320546, 5.32719141320546, 5.088351450292752, 5.8615861901990955, 6.098320722312572, 5.250534557108661, 5.202116524226023, 5.051080130324337, 4.541188106398401, 4.541188106398401, 3.905396897472573, 6.188561655969803, 3.565617723358203, 3.8781282836615416, 3.1754419003343397, 3.9971015486230295, 3.9971015486230295, 3.9971015486230295, 3.9971015486230295, 3.9971015486230295, 8.724535482923777, 4.844649745142629, 9.593555865029018, 6.637736523953506], \"Total\": [336.0, 281.0, 670.0, 1352.0, 1261.0, 235.0, 215.0, 1093.0, 971.0, 182.0, 115.0, 889.0, 145.0, 144.0, 747.0, 743.0, 738.0, 129.0, 326.0, 657.0, 115.0, 624.0, 116.0, 597.0, 108.0, 569.0, 563.0, 102.0, 105.0, 98.0, 1352.6589225644698, 1261.3883010832865, 1093.9175815367546, 971.9426140263608, 889.9716342236787, 747.0678428327732, 743.5950129245269, 738.3480492601761, 657.1699821944613, 624.5535201538979, 597.9200822217467, 569.6623780571733, 563.4461657651414, 491.677245520034, 463.393814350295, 383.0067716141682, 377.7205521500506, 376.13219329029357, 331.5150562981274, 325.29360452687735, 316.93586271833334, 318.91770730320394, 297.34414719107787, 288.8251797376631, 256.2014724816366, 254.2000880441265, 250.3067515152223, 249.91110553513892, 248.68179648564492, 237.23677154650267, 239.14226960811115, 419.5783449462421, 670.365101938347, 336.61877790328225, 281.8883529652011, 235.35479481539878, 182.13068985144744, 116.1309755893934, 105.56017292306807, 96.01149275563728, 88.75923646196674, 76.806130044561, 69.5136579863205, 68.64759918078254, 65.07232102570036, 69.27923893087622, 57.31952658575307, 60.43591664813729, 53.46783182549157, 52.74544249078094, 56.550267694931144, 51.06957252274268, 48.66762736543732, 47.686137033060874, 50.26645351909156, 41.33170859615833, 45.585390854895486, 40.4652486480919, 40.73776404641739, 39.81855140363055, 39.1804948650063, 38.86296077679742, 37.818748067620916, 68.52803293945983, 58.696139497673684, 54.323495901879305, 670.365101938347, 142.33466049993882, 326.7327225291421, 89.18652893708007, 97.4560595920652, 419.5783449462421, 215.34421429251378, 145.04216233169925, 144.22709548707292, 129.6013657161853, 115.583621771817, 108.80607272426919, 102.5047203160183, 98.58675275816776, 87.51206665301494, 82.5392799560716, 79.19604916217581, 75.8145499473896, 75.25938928967177, 75.00355926599744, 71.30866102791421, 71.57340493360876, 69.53552064222201, 68.98728158962359, 68.43144806761353, 66.23327665949323, 67.02084104648817, 63.9284858294816, 59.601784663373024, 59.15186419392924, 60.21732374811261, 59.15065083905594, 58.45171738829075, 66.90399693809057, 54.44484613346623, 55.66753889440507, 105.36835547106377, 102.10294887770833, 25.24670877045017, 25.064783777328316, 21.305627162712614, 20.1072292882632, 15.232459562448433, 17.234461990816435, 13.261702780904752, 12.621008059300632, 12.136401184115282, 12.136401184115282, 9.596832552477467, 9.056382621707696, 11.582100183112322, 12.075389139495485, 12.616295712103957, 12.700617013787275, 8.158525169580285, 9.641075921881647, 10.646189865171685, 10.646189865171685, 10.646189865171685, 13.464132931104201, 13.464132931104201, 6.509573313074176, 6.920273976945343, 8.310922972613156, 8.310922972613156, 9.2165084407733, 9.2165084407733, 9.2165084407733, 8.03689647713795, 7.970892891782154, 10.269659038663983, 48.76994685713672, 115.59738431353588, 33.152020848976264, 42.61904480595263, 15.748311543320717, 34.51797316505935, 18.279097971229085, 13.426416412854191, 13.093327634380607, 13.093327634380607, 9.606592986725268, 9.506315908221712, 10.001607261594216, 7.746879448121465, 6.661425341577298, 7.941792845954044, 9.834495607979628, 5.984821912721239, 5.984821912721239, 5.736193486746374, 6.612485229776395, 6.912686443848266, 6.008370007469408, 5.959679938031248, 5.884520707086287, 5.30734058113403, 5.30734058113403, 4.57161207801395, 7.261973431007301, 4.2303346082417, 4.655696831125982, 3.854203845947967, 4.857917433738939, 4.857917433738939, 4.857917433738939, 4.857917433738939, 4.857917433738939, 10.764574971532149, 5.982603941444804, 35.35110023390618, 15.963770888337471], \"Category\": [\"Default\", \"Default\", \"Default\", \"Default\", \"Default\", \"Default\", \"Default\", \"Default\", \"Default\", \"Default\", \"Default\", \"Default\", \"Default\", \"Default\", \"Default\", \"Default\", \"Default\", \"Default\", \"Default\", \"Default\", \"Default\", \"Default\", \"Default\", \"Default\", \"Default\", \"Default\", \"Default\", \"Default\", \"Default\", \"Default\", \"Topic1\", \"Topic1\", \"Topic1\", \"Topic1\", \"Topic1\", \"Topic1\", \"Topic1\", \"Topic1\", \"Topic1\", \"Topic1\", \"Topic1\", \"Topic1\", \"Topic1\", \"Topic1\", \"Topic1\", \"Topic1\", \"Topic1\", \"Topic1\", \"Topic1\", \"Topic1\", \"Topic1\", \"Topic1\", \"Topic1\", \"Topic1\", \"Topic1\", \"Topic1\", \"Topic1\", \"Topic1\", \"Topic1\", \"Topic1\", \"Topic1\", \"Topic1\", \"Topic1\", \"Topic2\", \"Topic2\", \"Topic2\", \"Topic2\", \"Topic2\", \"Topic2\", \"Topic2\", \"Topic2\", \"Topic2\", \"Topic2\", \"Topic2\", \"Topic2\", \"Topic2\", \"Topic2\", \"Topic2\", \"Topic2\", \"Topic2\", \"Topic2\", \"Topic2\", \"Topic2\", \"Topic2\", \"Topic2\", \"Topic2\", \"Topic2\", \"Topic2\", \"Topic2\", \"Topic2\", \"Topic2\", \"Topic2\", \"Topic2\", \"Topic2\", \"Topic2\", \"Topic2\", \"Topic2\", \"Topic2\", \"Topic2\", \"Topic2\", \"Topic2\", \"Topic2\", \"Topic3\", \"Topic3\", \"Topic3\", \"Topic3\", \"Topic3\", \"Topic3\", \"Topic3\", \"Topic3\", \"Topic3\", \"Topic3\", \"Topic3\", \"Topic3\", \"Topic3\", \"Topic3\", \"Topic3\", \"Topic3\", \"Topic3\", \"Topic3\", \"Topic3\", \"Topic3\", \"Topic3\", \"Topic3\", \"Topic3\", \"Topic3\", \"Topic3\", \"Topic3\", \"Topic3\", \"Topic3\", \"Topic3\", \"Topic3\", \"Topic3\", \"Topic3\", \"Topic4\", \"Topic4\", \"Topic4\", \"Topic4\", \"Topic4\", \"Topic4\", \"Topic4\", \"Topic4\", \"Topic4\", \"Topic4\", \"Topic4\", \"Topic4\", \"Topic4\", \"Topic4\", \"Topic4\", \"Topic4\", \"Topic4\", \"Topic4\", \"Topic4\", \"Topic4\", \"Topic4\", \"Topic4\", \"Topic4\", \"Topic4\", \"Topic4\", \"Topic4\", \"Topic4\", \"Topic4\", \"Topic4\", \"Topic4\", \"Topic4\", \"Topic4\", \"Topic4\", \"Topic4\", \"Topic4\", \"Topic4\", \"Topic4\", \"Topic4\", \"Topic4\", \"Topic5\", \"Topic5\", \"Topic5\", \"Topic5\", \"Topic5\", \"Topic5\", \"Topic5\", \"Topic5\", \"Topic5\", \"Topic5\", \"Topic5\", \"Topic5\", \"Topic5\", \"Topic5\", \"Topic5\", \"Topic5\", \"Topic5\", \"Topic5\", \"Topic5\", \"Topic5\", \"Topic5\", \"Topic5\", \"Topic5\", \"Topic5\", \"Topic5\", \"Topic5\", \"Topic5\", \"Topic5\", \"Topic5\", \"Topic5\", \"Topic5\", \"Topic5\", \"Topic5\", \"Topic5\", \"Topic5\"], \"logprob\": [30.0, 29.0, 28.0, 27.0, 26.0, 25.0, 24.0, 23.0, 22.0, 21.0, 20.0, 19.0, 18.0, 17.0, 16.0, 15.0, 14.0, 13.0, 12.0, 11.0, 10.0, 9.0, 8.0, 7.0, 6.0, 5.0, 4.0, 3.0, 2.0, 1.0, -3.8589, -3.9287, -4.0713, -4.1895, -4.2777, -4.4528, -4.4575, -4.4646, -4.5812, -4.6321, -4.6757, -4.7242, -4.7352, -4.8715, -4.9309, -5.1216, -5.1355, -5.1397, -5.2662, -5.2852, -5.3112, -5.305, -5.3752, -5.4043, -5.5244, -5.5322, -5.5477, -5.5493, -5.5543, -5.6015, -5.594, -5.1802, -4.9298, -3.727, -3.9047, -4.0857, -4.3429, -4.7944, -4.8907, -4.9855, -5.0647, -5.2105, -5.3109, -5.3237, -5.3773, -5.3152, -5.5052, -5.4524, -5.5755, -5.5894, -5.5199, -5.6224, -5.6709, -5.6916, -5.6394, -5.836, -5.7384, -5.8575, -5.8509, -5.874, -5.8903, -5.8987, -5.9265, -5.3419, -5.5045, -5.6924, -4.2133, -5.2283, -4.9111, -5.5172, -5.6103, -5.4755, -4.099, -4.4954, -4.5011, -4.6085, -4.7235, -4.7842, -4.8444, -4.8835, -5.0031, -5.062, -5.1037, -5.1476, -5.1551, -5.1585, -5.2093, -5.2057, -5.2347, -5.2427, -5.2508, -5.2838, -5.272, -5.3194, -5.3902, -5.3978, -5.38, -5.3981, -5.41, -5.2754, -5.4815, -5.4595, -5.0814, -5.2548, -4.7746, -4.7824, -4.9491, -5.0176, -5.3, -5.1769, -5.4447, -5.4978, -5.549, -5.549, -5.785, -5.8468, -5.6047, -5.5631, -5.5218, -5.5162, -5.9588, -5.7991, -5.7015, -5.7015, -5.7015, -5.4766, -5.4766, -6.2052, -6.146, -5.9646, -5.9646, -5.863, -5.863, -5.863, -6.006, -6.0144, -5.7933, -4.8982, -4.4032, -5.2649, -5.1996, -5.708, -5.7651, -4.533, -4.8568, -4.8909, -4.8909, -5.2104, -5.2238, -5.1814, -5.4574, -5.6097, -5.4369, -5.2239, -5.73, -5.73, -5.7758, -5.6344, -5.5948, -5.7445, -5.7537, -5.7832, -5.8896, -5.8896, -6.0404, -5.5801, -6.1315, -6.0474, -6.2473, -6.0172, -6.0172, -6.0172, -6.0172, -6.0172, -5.2367, -5.8249, -5.1417, -5.51], \"loglift\": [30.0, 29.0, 28.0, 27.0, 26.0, 25.0, 24.0, 23.0, 22.0, 21.0, 20.0, 19.0, 18.0, 17.0, 16.0, 15.0, 14.0, 13.0, 12.0, 11.0, 10.0, 9.0, 8.0, 7.0, 6.0, 5.0, 4.0, 3.0, 2.0, 1.0, 0.399, 0.399, 0.3989, 0.3989, 0.3988, 0.3987, 0.3987, 0.3987, 0.3986, 0.3986, 0.3985, 0.3985, 0.3985, 0.3984, 0.3983, 0.3981, 0.398, 0.398, 0.3978, 0.3978, 0.3978, 0.3978, 0.3977, 0.3976, 0.3974, 0.3974, 0.3973, 0.3973, 0.3973, 0.3972, 0.3967, 0.2483, 0.0301, 1.9218, 1.9215, 1.9209, 1.9201, 1.9186, 1.9178, 1.9177, 1.9171, 1.9159, 1.9153, 1.915, 1.9149, 1.9144, 1.9138, 1.9137, 1.9131, 1.9129, 1.9127, 1.9121, 1.9118, 1.9115, 1.9109, 1.9101, 1.9098, 1.9098, 1.9097, 1.9094, 1.9092, 1.909, 1.9084, 1.8986, 1.8908, 1.7804, 0.7466, 1.2813, 0.7674, 1.4598, 1.278, -0.047, 1.9964, 1.9953, 1.9952, 1.9948, 1.9942, 1.994, 1.9935, 1.9933, 1.9928, 1.9924, 1.9921, 1.9918, 1.9917, 1.9917, 1.9914, 1.9913, 1.9912, 1.9911, 1.9911, 1.9908, 1.9907, 1.9905, 1.9899, 1.9898, 1.9898, 1.9895, 1.9895, 1.9891, 1.9891, 1.9888, 1.7289, 1.5869, 3.4644, 3.4638, 3.4596, 3.449, 3.4443, 3.4439, 3.4382, 3.4346, 3.4225, 3.4225, 3.4213, 3.4174, 3.4135, 3.4134, 3.4109, 3.4099, 3.4099, 3.4026, 3.401, 3.401, 3.401, 3.3911, 3.3911, 3.3892, 3.3872, 3.3855, 3.3855, 3.3837, 3.3837, 3.3837, 3.3777, 3.3775, 3.3452, 2.6824, 2.3144, 2.7017, 2.5159, 3.003, 2.1611, 4.029, 4.0137, 4.0047, 4.0047, 3.9949, 3.992, 3.9835, 3.9631, 3.9617, 3.9587, 3.9579, 3.9485, 3.9485, 3.9451, 3.9444, 3.9396, 3.9301, 3.929, 3.9122, 3.909, 3.909, 3.9074, 3.905, 3.894, 3.8822, 3.8712, 3.8699, 3.8699, 3.8699, 3.8699, 3.8699, 3.8548, 3.8539, 2.7607, 3.1874]}, \"token.table\": {\"Topic\": [3, 1, 4, 5, 3, 4, 2, 5, 1, 1, 2, 5, 4, 5, 2, 4, 1, 4, 3, 4, 5, 2, 1, 4, 5, 5, 1, 5, 2, 3, 4, 5, 4, 3, 4, 5, 1, 4, 4, 5, 5, 4, 1, 4, 4, 3, 4, 2, 5, 3, 4, 4, 5, 1, 4, 5, 4, 5, 5, 2, 1, 5, 5, 5, 5, 1, 4, 5, 4, 2, 4, 5, 1, 4, 4, 4, 4, 4, 2, 2, 2, 3, 2, 3, 3, 4, 5, 1, 2, 3, 3, 1, 4, 5, 3, 2, 3, 5, 2, 1, 1, 3, 2, 5, 1, 1, 2, 5, 2, 3, 1, 3, 4, 3, 1, 2, 3, 1, 2, 2, 1, 3, 2, 3, 1, 2, 2, 1, 2, 5, 1, 1, 2, 3, 1, 4, 4, 1, 5, 2, 3, 4, 1, 2, 2, 1, 1, 2, 2, 3, 1, 3, 3, 1, 1, 2, 3, 4, 1, 2, 2, 1, 3, 5, 5, 3, 4, 3, 3, 3, 4, 2, 2, 3, 4, 5, 3, 1, 5, 5, 4, 1, 1, 2, 2, 1, 2, 2, 1, 3, 4, 1, 1, 1, 3, 1], \"Freq\": [0.9934663840494052, 0.38099322479715364, 0.6349887079952561, 0.9073744275422592, 0.9880084712264483, 0.8912567977012593, 0.9856113940916377, 0.8716581843957376, 0.9996485456638604, 0.47072160614054226, 0.5269271710528458, 0.9035896384959785, 0.8680076681325938, 0.835756478105167, 0.9984925107828074, 0.9856550966381549, 0.7242603695313758, 0.26073373303129527, 0.989903244227134, 0.9217193987122441, 0.9007081356224154, 0.97835073582666, 0.6834064669294554, 0.3114257317653214, 0.9420914153829638, 0.9420914153829638, 0.9996921637191711, 0.9368565955106583, 0.988502513548404, 0.9936951784625799, 0.8912567977012593, 0.8389712286548943, 0.9063642370686741, 0.9856889332805354, 0.9497413963003813, 0.8262216953839427, 0.9970471542402727, 0.9063642370686741, 0.8670176961185057, 0.915146069382295, 0.8679693558702517, 0.8680076681325938, 0.9980923671059224, 0.9335057697837806, 0.939303180447152, 0.9949506533635953, 0.9902280818979887, 0.9988886054076387, 0.9467389982502249, 0.9922986031128264, 0.8833549038469731, 0.8680076681325938, 0.8354467472744814, 0.6100559061888821, 0.3754190191931582, 0.8354467472744814, 0.9109437280179928, 0.8233981031088388, 0.8233981031088388, 0.981889922933012, 0.5637765702698139, 0.43849288798763303, 0.9847313050311137, 0.8321724517272012, 0.8591624723624022, 0.5536196313498539, 0.4510974773961773, 0.9455516809963559, 0.937809423138951, 0.9988721735202114, 0.9507956847517421, 0.8814130682804397, 0.5429533264955051, 0.4524611054129209, 0.8422650556462841, 0.8422650556462841, 0.939303180447152, 0.8763679462108844, 0.9777947752937898, 0.9794429637750228, 0.986281900277895, 0.9854761798682643, 0.9858671677479769, 0.9925916568433465, 0.9847683044475661, 0.9448359860763683, 0.9164973439212095, 0.4720075918577903, 0.523312764885811, 0.9974326389201977, 0.9918294170145007, 0.9987744976379367, 0.9847391971404604, 0.9682404895139444, 0.9964779538132696, 0.9944255194558344, 0.9975245083024995, 0.9164973439212095, 0.98715836710145, 0.9995128686518989, 0.9999091878556625, 0.9940483610449463, 0.9919744765598885, 0.8233981031088388, 0.9997413421198976, 0.9988372445106304, 0.9912502188789236, 0.874964877102548, 0.6278975162213933, 0.37001103634474963, 0.33299723831407446, 0.6659944766281489, 0.9449337712128493, 0.9950761261094878, 0.9971224322695527, 0.9777020749915621, 0.014592568283456151, 0.9990974168480675, 0.9981617843569617, 0.9895043527893762, 0.998446356241316, 0.9974530992149884, 0.23726288493574804, 0.7592412317943937, 0.690668411379478, 0.30878695713942106, 0.979056560102077, 0.8603875875582965, 0.13823401683762104, 0.8233981031088388, 0.9973713999626554, 0.999001961015743, 0.9905663244088538, 0.9963910095204219, 0.9984611953183979, 0.9283724672418419, 0.9575187327851024, 0.7071915678602227, 0.2828766271440891, 0.8651873230856273, 0.12885768641700832, 0.9511508190543847, 0.9991137346343648, 0.9992824391564429, 0.9946991780713083, 0.9972583578883536, 0.9990301752256175, 0.9927871260615566, 0.9959693706919207, 0.9866198447671216, 0.9992136170035049, 0.9956714791237857, 0.9953598813341038, 0.9995286108488742, 0.996354281522672, 0.9711030484766224, 0.017036895587309166, 0.939303180447152, 0.9991611968284982, 0.9953932469299281, 0.9914461131907993, 0.9988425963842608, 0.9864881475029499, 0.7783708698111503, 0.8233981031088388, 0.9892560208039902, 0.8781952153963671, 0.9941486166125492, 0.9919885754472538, 0.9922719569505541, 0.8709829745738864, 0.9946933307557546, 0.9894648783535563, 0.996553396298854, 0.09289730459814592, 0.8360757413833133, 0.9984254311833294, 0.9971429785366615, 0.8496868732195768, 0.8998553697023928, 0.9802662761163995, 0.9989082413570111, 0.9992081483693558, 0.9926106897378127, 0.990269406010602, 0.6855756542108232, 0.3152423767130125, 0.99684856449067, 0.9991501519051411, 0.9984015623839969, 0.9805693840142384, 0.9952234725798036, 0.9986225811216509, 0.9991998158753287, 0.999709309823975, 0.9992128718535622], \"Term\": [\"-\", \"31st\", \"31st\", \"Amma\", \"Assam\", \"Aurobindo\", \"Ayushman\", \"Azad\", \"Baat\", \"Bharat\", \"Bharat\", \"Bose\", \"Brown\", \"Chia\", \"Corona\", \"Dev\", \"Diwali\", \"Diwali\", \"Dr.\", \"Dragon\", \"Election\", \"Fit\", \"Guru\", \"Guru\", \"Haat\", \"Hunar\", \"India\", \"Ismail\", \"Jai\", \"January\", \"Jonas\", \"Kamya\", \"Kaniga-\", \"Kashmir\", \"Kashmiri\", \"Kaziranga\", \"Ki\", \"Kritika\", \"Lakshmi\", \"Magh\", \"Mali\", \"Mallakhambh\", \"Mann\", \"Mantra\", \"Manzoor\", \"Modi\", \"Nanak\", \"National\", \"Nayak\", \"New\", \"Nutrition\", \"Oaxaca\", \"Pariksha\", \"Patel\", \"Patel\", \"Pe\", \"Pon\", \"Producer\", \"Rajmata\", \"Ram\", \"Rama\", \"Rama\", \"Ravidas\", \"Reddy\", \"Salman\", \"Sardar\", \"Sardar\", \"Savarkar\", \"Sikh\", \"Sir\", \"Statue\", \"Tenali\", \"Unity\", \"Unity\", \"Usman\", \"Usman-\", \"Valmiki\", \"Virendra\", \"agricultural\", \"animal\", \"app\", \"awareness\", \"bird\", \"book\", \"brave\", \"breed\", \"brinjal\", \"brother\", \"brother\", \"century\", \"certain\", \"child\", \"cigarette\", \"commentary\", \"community\", \"conservation\", \"contribution\", \"cook\", \"corona\", \"country\", \"countryman\", \"crisis\", \"crop\", \"crown\", \"day\", \"dear\", \"difficult\", \"discovery\", \"district\", \"district\", \"doctor\", \"doctor\", \"dog\", \"duty\", \"effort\", \"exam\", \"exam\", \"family\", \"farmer\", \"farming\", \"festival\", \"fight\", \"free\", \"free\", \"friend\", \"friend\", \"fruit\", \"good\", \"good\", \"gourd\", \"great\", \"house\", \"income\", \"innovative\", \"ji\", \"ji-\", \"khadi\", \"king\", \"king\", \"land\", \"land\", \"leopard\", \"life\", \"light\", \"lockdown\", \"lot\", \"many\", \"market\", \"mask\", \"member\", \"month\", \"natural\", \"nature\", \"new\", \"opportunity\", \"pandemic\", \"pandemic\", \"pencil\", \"people\", \"percent\", \"period\", \"place\", \"pm\", \"polling\", \"potato\", \"question\", \"related\", \"scheme\", \"sector\", \"several\", \"simplicity\", \"sir\", \"sister\", \"situation\", \"specie\", \"specie\", \"spirit\", \"story\", \"storyteller\", \"storytelling\", \"stubble\", \"time\", \"today\", \"unique\", \"vaccine\", \"village\", \"village\", \"water\", \"way\", \"woman\", \"wood\", \"work\", \"world\", \"year\", \"yoga\", \"young\"]}, \"R\": 30, \"lambda.step\": 0.01, \"plot.opts\": {\"xlab\": \"PC1\", \"ylab\": \"PC2\"}, \"topic.order\": [2, 3, 5, 4, 1]};\n",
       "\n",
       "function LDAvis_load_lib(url, callback){\n",
       "  var s = document.createElement('script');\n",
       "  s.src = url;\n",
       "  s.async = true;\n",
       "  s.onreadystatechange = s.onload = callback;\n",
       "  s.onerror = function(){console.warn(\"failed to load library \" + url);};\n",
       "  document.getElementsByTagName(\"head\")[0].appendChild(s);\n",
       "}\n",
       "\n",
       "if(typeof(LDAvis) !== \"undefined\"){\n",
       "   // already loaded: just create the visualization\n",
       "   !function(LDAvis){\n",
       "       new LDAvis(\"#\" + \"ldavis_el2147212881111038883172541792\", ldavis_el2147212881111038883172541792_data);\n",
       "   }(LDAvis);\n",
       "}else if(typeof define === \"function\" && define.amd){\n",
       "   // require.js is available: use it to load d3/LDAvis\n",
       "   require.config({paths: {d3: \"https://d3js.org/d3.v5\"}});\n",
       "   require([\"d3\"], function(d3){\n",
       "      window.d3 = d3;\n",
       "      LDAvis_load_lib(\"https://cdn.jsdelivr.net/gh/bmabey/pyLDAvis@3.3.1/pyLDAvis/js/ldavis.v3.0.0.js\", function(){\n",
       "        new LDAvis(\"#\" + \"ldavis_el2147212881111038883172541792\", ldavis_el2147212881111038883172541792_data);\n",
       "      });\n",
       "    });\n",
       "}else{\n",
       "    // require.js not available: dynamically load d3 & LDAvis\n",
       "    LDAvis_load_lib(\"https://d3js.org/d3.v5.js\", function(){\n",
       "         LDAvis_load_lib(\"https://cdn.jsdelivr.net/gh/bmabey/pyLDAvis@3.3.1/pyLDAvis/js/ldavis.v3.0.0.js\", function(){\n",
       "                 new LDAvis(\"#\" + \"ldavis_el2147212881111038883172541792\", ldavis_el2147212881111038883172541792_data);\n",
       "            })\n",
       "         });\n",
       "}\n",
       "</script>"
      ],
      "text/plain": [
       "PreparedData(topic_coordinates=              x         y  topics  cluster       Freq\n",
       "topic                                                \n",
       "1      0.366805  0.028707       1        1  67.070808\n",
       "2     -0.088066 -0.259141       2        1  14.610304\n",
       "4     -0.155951  0.202571       3        1  13.547862\n",
       "3     -0.065876  0.019459       4        1   3.054601\n",
       "0     -0.056912  0.008405       5        1   1.716424, topic_info=          Term         Freq        Total Category  logprob  loglift\n",
       "119     farmer   336.000000   336.000000  Default  30.0000  30.0000\n",
       "275      water   281.000000   281.000000  Default  29.0000  29.0000\n",
       "124     friend   670.000000   670.000000  Default  28.0000  28.0000\n",
       "82     country  1352.000000  1352.000000  Default  27.0000  27.0000\n",
       "20       India  1261.000000  1261.000000  Default  26.0000  26.0000\n",
       "...        ...          ...          ...      ...      ...      ...\n",
       "10453   potato     3.997102     4.857917   Topic5  -6.0172   3.8699\n",
       "8926    specie     8.724535    10.764575   Topic5  -5.2367   3.8548\n",
       "10978     Chia     4.844650     5.982604   Topic5  -5.8249   3.8539\n",
       "3748      king     9.593556    35.351100   Topic5  -5.1417   2.7607\n",
       "10362     Rama     6.637737    15.963771   Topic5  -5.5100   3.1874\n",
       "\n",
       "[208 rows x 6 columns], token_table=      Topic      Freq   Term\n",
       "term                        \n",
       "559       3  0.993466      -\n",
       "2069      1  0.380993   31st\n",
       "2069      4  0.634989   31st\n",
       "9356      5  0.907374   Amma\n",
       "563       3  0.988008  Assam\n",
       "...     ...       ...    ...\n",
       "871       1  0.995223   work\n",
       "280       1  0.998623  world\n",
       "553       1  0.999200   year\n",
       "875       3  0.999709   yoga\n",
       "554       1  0.999213  young\n",
       "\n",
       "[196 rows x 3 columns], R=30, lambda_step=0.01, plot_opts={'xlab': 'PC1', 'ylab': 'PC2'}, topic_order=[2, 3, 5, 4, 1])"
      ]
     },
     "execution_count": 39,
     "metadata": {},
     "output_type": "execute_result"
    }
   ],
   "source": [
    "import pyLDAvis\n",
    "import pyLDAvis.gensim_models as gensimvis\n",
    "import matplotlib.pyplot as plt\n",
    "import seaborn as sns\n",
    "%matplotlib inline\n",
    "\n",
    "pyLDAvis.enable_notebook()\n",
    "vis = gensimvis.prepare(lda_model_all, doc_term_matrix_all, dictionary_all)\n",
    "vis"
   ]
  },
  {
   "cell_type": "markdown",
   "metadata": {},
   "source": [
    "# Sentiment Analysis\n",
    "---"
   ]
  },
  {
   "cell_type": "code",
   "execution_count": null,
   "metadata": {},
   "outputs": [],
   "source": [
    "def preprocess(text):\n",
    "    input_str = text.lower()\n",
    "    input_str = re.sub(r'\\d+', '', input_str)\n",
    "    input_str = input_str.translate(str.maketrans(string.punctuation, ' '*len(string.punctuation)))\n",
    "    result = input_str.strip()\n",
    "    stop_words = set(stopwords.words('english'))\n",
    "    tokens = word_tokenize(result)\n",
    "    result = [i for i in tokens if not i in stop_words]\n",
    "    \n",
    "    remove = ['’','‘','“', '”', 'th', 'nd', 'st','ji','ii']\n",
    "    final = []\n",
    "    for word in result :\n",
    "        if word not in remove :\n",
    "            final.append(word)\n",
    "        else :\n",
    "            pass\n",
    "    return result"
   ]
  },
  {
   "cell_type": "code",
   "execution_count": null,
   "metadata": {},
   "outputs": [],
   "source": [
    "all_speeches['Preprocessed'] = all_speeches['Speech'].apply(preprocess)"
   ]
  },
  {
   "cell_type": "code",
   "execution_count": null,
   "metadata": {},
   "outputs": [],
   "source": [
    "all_speeches\n"
   ]
  },
  {
   "cell_type": "code",
   "execution_count": null,
   "metadata": {},
   "outputs": [],
   "source": []
  },
  {
   "cell_type": "code",
   "execution_count": null,
   "metadata": {},
   "outputs": [],
   "source": []
  },
  {
   "cell_type": "code",
   "execution_count": 40,
   "metadata": {},
   "outputs": [
    {
     "name": "stderr",
     "output_type": "stream",
     "text": [
      "C:\\Users\\anush\\anaconda3\\envs\\nlp\\lib\\site-packages\\ipykernel\\ipkernel.py:287: DeprecationWarning: `should_run_async` will not call `transform_cell` automatically in the future. Please pass the result to `transformed_cell` argument and any exception that happen during thetransform in `preprocessing_exc_tuple` in IPython 7.17 and above.\n",
      "  and should_run_async(code)\n",
      "[nltk_data] Downloading package stopwords to\n",
      "[nltk_data]     C:\\Users\\anush\\AppData\\Roaming\\nltk_data...\n",
      "[nltk_data]   Package stopwords is already up-to-date!\n",
      "[nltk_data] Downloading package punkt to\n",
      "[nltk_data]     C:\\Users\\anush\\AppData\\Roaming\\nltk_data...\n",
      "[nltk_data]   Package punkt is already up-to-date!\n",
      "[nltk_data] Downloading package wordnet to\n",
      "[nltk_data]     C:\\Users\\anush\\AppData\\Roaming\\nltk_data...\n",
      "[nltk_data]   Package wordnet is already up-to-date!\n"
     ]
    }
   ],
   "source": [
    "import text2emotion as te"
   ]
  },
  {
   "cell_type": "code",
   "execution_count": 42,
   "metadata": {},
   "outputs": [
    {
     "name": "stderr",
     "output_type": "stream",
     "text": [
      "C:\\Users\\anush\\anaconda3\\envs\\nlp\\lib\\site-packages\\ipykernel\\ipkernel.py:287: DeprecationWarning: `should_run_async` will not call `transform_cell` automatically in the future. Please pass the result to `transformed_cell` argument and any exception that happen during thetransform in `preprocessing_exc_tuple` in IPython 7.17 and above.\n",
      "  and should_run_async(code)\n"
     ]
    }
   ],
   "source": [
    "text = all_speeches['Speech'][0]"
   ]
  },
  {
   "cell_type": "code",
   "execution_count": 47,
   "metadata": {},
   "outputs": [
    {
     "name": "stderr",
     "output_type": "stream",
     "text": [
      "C:\\Users\\anush\\anaconda3\\envs\\nlp\\lib\\site-packages\\ipykernel\\ipkernel.py:287: DeprecationWarning: `should_run_async` will not call `transform_cell` automatically in the future. Please pass the result to `transformed_cell` argument and any exception that happen during thetransform in `preprocessing_exc_tuple` in IPython 7.17 and above.\n",
      "  and should_run_async(code)\n"
     ]
    },
    {
     "data": {
      "text/plain": [
       "{'Happy': 0.13, 'Angry': 0.04, 'Surprise': 0.26, 'Sad': 0.22, 'Fear': 0.35}"
      ]
     },
     "execution_count": 47,
     "metadata": {},
     "output_type": "execute_result"
    }
   ],
   "source": [
    "te.get_emotion(all_speeches['Speech'][0])"
   ]
  },
  {
   "cell_type": "code",
   "execution_count": 53,
   "metadata": {},
   "outputs": [
    {
     "name": "stdout",
     "output_type": "stream",
     "text": [
      "60    29 Mar, 2020\n",
      "61    26 Apr, 2020\n",
      "62    31 May, 2020\n",
      "63    28 Jun, 2020\n",
      "64    26 Jul, 2020\n",
      "65    30 Aug, 2020\n",
      "66    27 Sep, 2020\n",
      "67    25 Oct, 2020\n",
      "68    29 Nov, 2020\n",
      "69    27 Dec, 2020\n",
      "70    31 Jan, 2021\n",
      "71    28 Feb, 2021\n",
      "72    28 Mar, 2021\n",
      "Name: Speech_date, dtype: object\n"
     ]
    },
    {
     "name": "stderr",
     "output_type": "stream",
     "text": [
      "C:\\Users\\anush\\anaconda3\\envs\\nlp\\lib\\site-packages\\ipykernel\\ipkernel.py:287: DeprecationWarning: `should_run_async` will not call `transform_cell` automatically in the future. Please pass the result to `transformed_cell` argument and any exception that happen during thetransform in `preprocessing_exc_tuple` in IPython 7.17 and above.\n",
      "  and should_run_async(code)\n"
     ]
    }
   ],
   "source": [
    "print(all_speeches['Speech_date'][60:])"
   ]
  }
 ],
 "metadata": {
  "kernelspec": {
   "display_name": "Python 3",
   "language": "python",
   "name": "python3"
  },
  "language_info": {
   "codemirror_mode": {
    "name": "ipython",
    "version": 3
   },
   "file_extension": ".py",
   "mimetype": "text/x-python",
   "name": "python",
   "nbconvert_exporter": "python",
   "pygments_lexer": "ipython3",
   "version": "3.8.5"
  }
 },
 "nbformat": 4,
 "nbformat_minor": 4
}
