{
 "cells": [
  {
   "cell_type": "code",
   "execution_count": 1,
   "metadata": {},
   "outputs": [
    {
     "data": {
      "text/html": [
       "<div>\n",
       "<style scoped>\n",
       "    .dataframe tbody tr th:only-of-type {\n",
       "        vertical-align: middle;\n",
       "    }\n",
       "\n",
       "    .dataframe tbody tr th {\n",
       "        vertical-align: top;\n",
       "    }\n",
       "\n",
       "    .dataframe thead th {\n",
       "        text-align: right;\n",
       "    }\n",
       "</style>\n",
       "<table border=\"1\" class=\"dataframe\">\n",
       "  <thead>\n",
       "    <tr style=\"text-align: right;\">\n",
       "      <th></th>\n",
       "      <th>Unnamed: 0</th>\n",
       "      <th>Text</th>\n",
       "      <th>Date</th>\n",
       "      <th>Year</th>\n",
       "      <th>hashtag</th>\n",
       "      <th>Cleaned</th>\n",
       "    </tr>\n",
       "  </thead>\n",
       "  <tbody>\n",
       "    <tr>\n",
       "      <th>0</th>\n",
       "      <td>0</td>\n",
       "      <td>No violation by @narendramodi :Election Commis...</td>\n",
       "      <td>2014-10-11</td>\n",
       "      <td>2014</td>\n",
       "      <td>['MannKiBaat']</td>\n",
       "      <td>['violation', 'election', 'commission']</td>\n",
       "    </tr>\n",
       "    <tr>\n",
       "      <th>1</th>\n",
       "      <td>1</td>\n",
       "      <td>#PMModi's #MannKiBaat radio show: #ElectionCom...</td>\n",
       "      <td>2014-10-10</td>\n",
       "      <td>2014</td>\n",
       "      <td>['PMModi', 'MannKiBaat', 'ElectionCommission']</td>\n",
       "      <td>['radio', 'show', 'say', 'broadcast', 'violate...</td>\n",
       "    </tr>\n",
       "    <tr>\n",
       "      <th>2</th>\n",
       "      <td>2</td>\n",
       "      <td>#MannKiBaat #Sobtian #FanGal\\nDil Humko Kabhi ...</td>\n",
       "      <td>2014-10-10</td>\n",
       "      <td>2014</td>\n",
       "      <td>['MannKiBaat', 'Sobtian', 'FanGal', 'BarunSobti']</td>\n",
       "      <td>['humko', 'kabhi', 'samjhata', 'haihum', 'dilk...</td>\n",
       "    </tr>\n",
       "    <tr>\n",
       "      <th>3</th>\n",
       "      <td>3</td>\n",
       "      <td>#Congress lodges complaint with #EC against #M...</td>\n",
       "      <td>2014-10-06</td>\n",
       "      <td>2014</td>\n",
       "      <td>['Congress', 'EC', 'Modi', 'MannKiBaat']</td>\n",
       "      <td>['lodge', 'complaint', 'program']</td>\n",
       "    </tr>\n",
       "    <tr>\n",
       "      <th>4</th>\n",
       "      <td>4</td>\n",
       "      <td>#Congress lodges complaint with EC against PM ...</td>\n",
       "      <td>2014-10-06</td>\n",
       "      <td>2014</td>\n",
       "      <td>['Congress', 'NarendraModi', 'MannKiBaat']</td>\n",
       "      <td>['lodge', 'complaint', 'program', 'india', 'ra...</td>\n",
       "    </tr>\n",
       "    <tr>\n",
       "      <th>...</th>\n",
       "      <td>...</td>\n",
       "      <td>...</td>\n",
       "      <td>...</td>\n",
       "      <td>...</td>\n",
       "      <td>...</td>\n",
       "      <td>...</td>\n",
       "    </tr>\n",
       "    <tr>\n",
       "      <th>12118</th>\n",
       "      <td>12118</td>\n",
       "      <td>#MannKiBaat\\nWorld’s largest vaccination progr...</td>\n",
       "      <td>2021-03-30</td>\n",
       "      <td>2021</td>\n",
       "      <td>['MannKiBaat']</td>\n",
       "      <td>['largest', 'vaccination', 'programmevia']</td>\n",
       "    </tr>\n",
       "    <tr>\n",
       "      <th>12119</th>\n",
       "      <td>12119</td>\n",
       "      <td>#MannKiBaat\\nSacrifices that inspire us toward...</td>\n",
       "      <td>2021-03-30</td>\n",
       "      <td>2021</td>\n",
       "      <td>['MannKiBaat']</td>\n",
       "      <td>['inspire', 'towards', 'dutiesvia']</td>\n",
       "    </tr>\n",
       "    <tr>\n",
       "      <th>12120</th>\n",
       "      <td>12120</td>\n",
       "      <td>#MannKiBaat\\nNari Shakti leading from the fron...</td>\n",
       "      <td>2021-03-30</td>\n",
       "      <td>2021</td>\n",
       "      <td>['MannKiBaat']</td>\n",
       "      <td>['shakti', 'leading', 'frontvia']</td>\n",
       "    </tr>\n",
       "    <tr>\n",
       "      <th>12121</th>\n",
       "      <td>12121</td>\n",
       "      <td>#MannKiBaat\\n75th episode at the start of 75 y...</td>\n",
       "      <td>2021-03-30</td>\n",
       "      <td>2021</td>\n",
       "      <td>['MannKiBaat']</td>\n",
       "      <td>['episode', 'start', 'year', 'independencevia']</td>\n",
       "    </tr>\n",
       "    <tr>\n",
       "      <th>12122</th>\n",
       "      <td>12122</td>\n",
       "      <td>#MannKiBaat\\nIndia’s Nari Shakti excels at spo...</td>\n",
       "      <td>2021-03-30</td>\n",
       "      <td>2021</td>\n",
       "      <td>['MannKiBaat']</td>\n",
       "      <td>['nari', 'shakti', 'excels', 'sportsvia']</td>\n",
       "    </tr>\n",
       "  </tbody>\n",
       "</table>\n",
       "<p>12123 rows × 6 columns</p>\n",
       "</div>"
      ],
      "text/plain": [
       "       Unnamed: 0                                               Text  \\\n",
       "0               0  No violation by @narendramodi :Election Commis...   \n",
       "1               1  #PMModi's #MannKiBaat radio show: #ElectionCom...   \n",
       "2               2  #MannKiBaat #Sobtian #FanGal\\nDil Humko Kabhi ...   \n",
       "3               3  #Congress lodges complaint with #EC against #M...   \n",
       "4               4  #Congress lodges complaint with EC against PM ...   \n",
       "...           ...                                                ...   \n",
       "12118       12118  #MannKiBaat\\nWorld’s largest vaccination progr...   \n",
       "12119       12119  #MannKiBaat\\nSacrifices that inspire us toward...   \n",
       "12120       12120  #MannKiBaat\\nNari Shakti leading from the fron...   \n",
       "12121       12121  #MannKiBaat\\n75th episode at the start of 75 y...   \n",
       "12122       12122  #MannKiBaat\\nIndia’s Nari Shakti excels at spo...   \n",
       "\n",
       "             Date  Year                                            hashtag  \\\n",
       "0      2014-10-11  2014                                     ['MannKiBaat']   \n",
       "1      2014-10-10  2014     ['PMModi', 'MannKiBaat', 'ElectionCommission']   \n",
       "2      2014-10-10  2014  ['MannKiBaat', 'Sobtian', 'FanGal', 'BarunSobti']   \n",
       "3      2014-10-06  2014           ['Congress', 'EC', 'Modi', 'MannKiBaat']   \n",
       "4      2014-10-06  2014         ['Congress', 'NarendraModi', 'MannKiBaat']   \n",
       "...           ...   ...                                                ...   \n",
       "12118  2021-03-30  2021                                     ['MannKiBaat']   \n",
       "12119  2021-03-30  2021                                     ['MannKiBaat']   \n",
       "12120  2021-03-30  2021                                     ['MannKiBaat']   \n",
       "12121  2021-03-30  2021                                     ['MannKiBaat']   \n",
       "12122  2021-03-30  2021                                     ['MannKiBaat']   \n",
       "\n",
       "                                                 Cleaned  \n",
       "0                ['violation', 'election', 'commission']  \n",
       "1      ['radio', 'show', 'say', 'broadcast', 'violate...  \n",
       "2      ['humko', 'kabhi', 'samjhata', 'haihum', 'dilk...  \n",
       "3                      ['lodge', 'complaint', 'program']  \n",
       "4      ['lodge', 'complaint', 'program', 'india', 'ra...  \n",
       "...                                                  ...  \n",
       "12118         ['largest', 'vaccination', 'programmevia']  \n",
       "12119                ['inspire', 'towards', 'dutiesvia']  \n",
       "12120                  ['shakti', 'leading', 'frontvia']  \n",
       "12121    ['episode', 'start', 'year', 'independencevia']  \n",
       "12122          ['nari', 'shakti', 'excels', 'sportsvia']  \n",
       "\n",
       "[12123 rows x 6 columns]"
      ]
     },
     "execution_count": 1,
     "metadata": {},
     "output_type": "execute_result"
    }
   ],
   "source": [
    "import pandas as pd\n",
    "\n",
    "df = pd.read_csv('Datasets/cleaned_tweets.csv')\n",
    "df"
   ]
  },
  {
   "cell_type": "code",
   "execution_count": 7,
   "metadata": {},
   "outputs": [
    {
     "data": {
      "text/plain": [
       "\"['violation', 'elect\""
      ]
     },
     "execution_count": 7,
     "metadata": {},
     "output_type": "execute_result"
    }
   ],
   "source": [
    "df['Cleaned'][0][:20]"
   ]
  },
  {
   "cell_type": "code",
   "execution_count": 6,
   "metadata": {},
   "outputs": [
    {
     "data": {
      "text/plain": [
       "[]                                                                                              1969\n",
       "['took', 'quiz']                                                                                 267\n",
       "['october']                                                                                       55\n",
       "['mynt']                                                                                          47\n",
       "['yahi', 'loktantra', 'jisme', 'janta', 'anyay', 'khilaf', 'aawaj', 'nahi', 'utha', 'sakti']      42\n",
       "                                                                                                ... \n",
       "['scope', 'festival', 'tourism', 'india']                                                          1\n",
       "['saveour', 'familiesour', 'societyour', 'nationour', 'civilization']                              1\n",
       "['healing', 'himalaya', 'volunteer']                                                               1\n",
       "['modivanibharat', 'narendramodi']                                                                 1\n",
       "['father', 'sister', 'part', 'campaign']                                                           1\n",
       "Name: Cleaned, Length: 6826, dtype: int64"
      ]
     },
     "execution_count": 6,
     "metadata": {},
     "output_type": "execute_result"
    }
   ],
   "source": [
    "df[\"Cleaned\"].value_counts()"
   ]
  },
  {
   "cell_type": "code",
   "execution_count": 9,
   "metadata": {},
   "outputs": [
    {
     "data": {
      "text/plain": [
       "'10'"
      ]
     },
     "execution_count": 9,
     "metadata": {},
     "output_type": "execute_result"
    }
   ],
   "source": [
    "df['Date'][0][5:7]"
   ]
  },
  {
   "cell_type": "code",
   "execution_count": null,
   "metadata": {},
   "outputs": [],
   "source": []
  }
 ],
 "metadata": {
  "kernelspec": {
   "display_name": "Python 3",
   "language": "python",
   "name": "python3"
  },
  "language_info": {
   "codemirror_mode": {
    "name": "ipython",
    "version": 3
   },
   "file_extension": ".py",
   "mimetype": "text/x-python",
   "name": "python",
   "nbconvert_exporter": "python",
   "pygments_lexer": "ipython3",
   "version": "3.8.5"
  }
 },
 "nbformat": 4,
 "nbformat_minor": 4
}
