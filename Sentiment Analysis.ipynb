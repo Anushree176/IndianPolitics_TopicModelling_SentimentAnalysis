{
 "cells": [
  {
   "cell_type": "markdown",
   "metadata": {},
   "source": [
    "#"
   ]
  },
  {
   "cell_type": "code",
   "execution_count": 1,
   "metadata": {},
   "outputs": [
    {
     "name": "stderr",
     "output_type": "stream",
     "text": [
      "[nltk_data] Downloading package punkt to\n",
      "[nltk_data]     C:\\Users\\anush\\AppData\\Roaming\\nltk_data...\n",
      "[nltk_data]   Package punkt is already up-to-date!\n",
      "[nltk_data] Downloading package wordnet to\n",
      "[nltk_data]     C:\\Users\\anush\\AppData\\Roaming\\nltk_data...\n",
      "[nltk_data]   Package wordnet is already up-to-date!\n",
      "[nltk_data] Downloading package universal_tagset to\n",
      "[nltk_data]     C:\\Users\\anush\\AppData\\Roaming\\nltk_data...\n",
      "[nltk_data]   Package universal_tagset is already up-to-date!\n",
      "[nltk_data] Downloading package averaged_perceptron_tagger to\n",
      "[nltk_data]     C:\\Users\\anush\\AppData\\Roaming\\nltk_data...\n",
      "[nltk_data]   Package averaged_perceptron_tagger is already up-to-\n",
      "[nltk_data]       date!\n",
      "[nltk_data] Downloading package sentiwordnet to\n",
      "[nltk_data]     C:\\Users\\anush\\AppData\\Roaming\\nltk_data...\n",
      "[nltk_data]   Package sentiwordnet is already up-to-date!\n"
     ]
    }
   ],
   "source": [
    "import pandas as pd\n",
    "import nltk\n",
    "nltk.download('punkt')\n",
    "nltk.download('wordnet')\n",
    "from nltk.tag.mapping import map_tag\n",
    "nltk.download('universal_tagset')\n",
    "from nltk import pos_tag\n",
    "nltk.download('averaged_perceptron_tagger')\n",
    "nltk.download('sentiwordnet')\n",
    "from nltk.corpus import sentiwordnet as swn\n",
    "from nltk.stem import WordNetLemmatizer\n",
    "from nltk.stem import PorterStemmer"
   ]
  },
  {
   "cell_type": "code",
   "execution_count": 2,
   "metadata": {},
   "outputs": [
    {
     "data": {
      "text/html": [
       "<div>\n",
       "<style scoped>\n",
       "    .dataframe tbody tr th:only-of-type {\n",
       "        vertical-align: middle;\n",
       "    }\n",
       "\n",
       "    .dataframe tbody tr th {\n",
       "        vertical-align: top;\n",
       "    }\n",
       "\n",
       "    .dataframe thead th {\n",
       "        text-align: right;\n",
       "    }\n",
       "</style>\n",
       "<table border=\"1\" class=\"dataframe\">\n",
       "  <thead>\n",
       "    <tr style=\"text-align: right;\">\n",
       "      <th></th>\n",
       "      <th>Text</th>\n",
       "      <th>Date</th>\n",
       "      <th>Year</th>\n",
       "      <th>hashtag</th>\n",
       "      <th>Cleaned</th>\n",
       "    </tr>\n",
       "  </thead>\n",
       "  <tbody>\n",
       "    <tr>\n",
       "      <th>0</th>\n",
       "      <td>No violation by @narendramodi :Election Commis...</td>\n",
       "      <td>2014-10-11</td>\n",
       "      <td>2014</td>\n",
       "      <td>['MannKiBaat']</td>\n",
       "      <td>violation election commission</td>\n",
       "    </tr>\n",
       "    <tr>\n",
       "      <th>1</th>\n",
       "      <td>#PMModi's #MannKiBaat radio show: #ElectionCom...</td>\n",
       "      <td>2014-10-10</td>\n",
       "      <td>2014</td>\n",
       "      <td>['PMModi', 'MannKiBaat', 'ElectionCommission']</td>\n",
       "      <td>radio show says broadcast violate model code c...</td>\n",
       "    </tr>\n",
       "    <tr>\n",
       "      <th>2</th>\n",
       "      <td>#MannKiBaat #Sobtian #FanGal\\nDil Humko Kabhi ...</td>\n",
       "      <td>2014-10-10</td>\n",
       "      <td>2014</td>\n",
       "      <td>['MannKiBaat', 'Sobtian', 'FanGal', 'BarunSobti']</td>\n",
       "      <td>humko kabhi samjhata haihum dilko kabhi samjhate</td>\n",
       "    </tr>\n",
       "    <tr>\n",
       "      <th>3</th>\n",
       "      <td>#Congress lodges complaint with #EC against #M...</td>\n",
       "      <td>2014-10-06</td>\n",
       "      <td>2014</td>\n",
       "      <td>['Congress', 'EC', 'Modi', 'MannKiBaat']</td>\n",
       "      <td>lodges complaint with against program</td>\n",
       "    </tr>\n",
       "    <tr>\n",
       "      <th>4</th>\n",
       "      <td>#Congress lodges complaint with EC against PM ...</td>\n",
       "      <td>2014-10-06</td>\n",
       "      <td>2014</td>\n",
       "      <td>['Congress', 'NarendraModi', 'MannKiBaat']</td>\n",
       "      <td>lodges complaint with against program india radio</td>\n",
       "    </tr>\n",
       "    <tr>\n",
       "      <th>...</th>\n",
       "      <td>...</td>\n",
       "      <td>...</td>\n",
       "      <td>...</td>\n",
       "      <td>...</td>\n",
       "      <td>...</td>\n",
       "    </tr>\n",
       "    <tr>\n",
       "      <th>10326</th>\n",
       "      <td>#MannKiBaat\\nWorld’s largest vaccination progr...</td>\n",
       "      <td>2021-03-30</td>\n",
       "      <td>2021</td>\n",
       "      <td>['MannKiBaat']</td>\n",
       "      <td>largest vaccination programmevia namo</td>\n",
       "    </tr>\n",
       "    <tr>\n",
       "      <th>10327</th>\n",
       "      <td>#MannKiBaat\\nSacrifices that inspire us toward...</td>\n",
       "      <td>2021-03-30</td>\n",
       "      <td>2021</td>\n",
       "      <td>['MannKiBaat']</td>\n",
       "      <td>that inspire towards dutiesvia namo</td>\n",
       "    </tr>\n",
       "    <tr>\n",
       "      <th>10328</th>\n",
       "      <td>#MannKiBaat\\nNari Shakti leading from the fron...</td>\n",
       "      <td>2021-03-30</td>\n",
       "      <td>2021</td>\n",
       "      <td>['MannKiBaat']</td>\n",
       "      <td>shakti leading from frontvia namo</td>\n",
       "    </tr>\n",
       "    <tr>\n",
       "      <th>10329</th>\n",
       "      <td>#MannKiBaat\\n75th episode at the start of 75 y...</td>\n",
       "      <td>2021-03-30</td>\n",
       "      <td>2021</td>\n",
       "      <td>['MannKiBaat']</td>\n",
       "      <td>episode start years independencevia namo</td>\n",
       "    </tr>\n",
       "    <tr>\n",
       "      <th>10330</th>\n",
       "      <td>#MannKiBaat\\nIndia’s Nari Shakti excels at spo...</td>\n",
       "      <td>2021-03-30</td>\n",
       "      <td>2021</td>\n",
       "      <td>['MannKiBaat']</td>\n",
       "      <td>nari shakti excels sportsvia namo</td>\n",
       "    </tr>\n",
       "  </tbody>\n",
       "</table>\n",
       "<p>10331 rows × 5 columns</p>\n",
       "</div>"
      ],
      "text/plain": [
       "                                                    Text        Date  Year  \\\n",
       "0      No violation by @narendramodi :Election Commis...  2014-10-11  2014   \n",
       "1      #PMModi's #MannKiBaat radio show: #ElectionCom...  2014-10-10  2014   \n",
       "2      #MannKiBaat #Sobtian #FanGal\\nDil Humko Kabhi ...  2014-10-10  2014   \n",
       "3      #Congress lodges complaint with #EC against #M...  2014-10-06  2014   \n",
       "4      #Congress lodges complaint with EC against PM ...  2014-10-06  2014   \n",
       "...                                                  ...         ...   ...   \n",
       "10326  #MannKiBaat\\nWorld’s largest vaccination progr...  2021-03-30  2021   \n",
       "10327  #MannKiBaat\\nSacrifices that inspire us toward...  2021-03-30  2021   \n",
       "10328  #MannKiBaat\\nNari Shakti leading from the fron...  2021-03-30  2021   \n",
       "10329  #MannKiBaat\\n75th episode at the start of 75 y...  2021-03-30  2021   \n",
       "10330  #MannKiBaat\\nIndia’s Nari Shakti excels at spo...  2021-03-30  2021   \n",
       "\n",
       "                                                 hashtag  \\\n",
       "0                                         ['MannKiBaat']   \n",
       "1         ['PMModi', 'MannKiBaat', 'ElectionCommission']   \n",
       "2      ['MannKiBaat', 'Sobtian', 'FanGal', 'BarunSobti']   \n",
       "3               ['Congress', 'EC', 'Modi', 'MannKiBaat']   \n",
       "4             ['Congress', 'NarendraModi', 'MannKiBaat']   \n",
       "...                                                  ...   \n",
       "10326                                     ['MannKiBaat']   \n",
       "10327                                     ['MannKiBaat']   \n",
       "10328                                     ['MannKiBaat']   \n",
       "10329                                     ['MannKiBaat']   \n",
       "10330                                     ['MannKiBaat']   \n",
       "\n",
       "                                                 Cleaned  \n",
       "0                          violation election commission  \n",
       "1      radio show says broadcast violate model code c...  \n",
       "2       humko kabhi samjhata haihum dilko kabhi samjhate  \n",
       "3                  lodges complaint with against program  \n",
       "4      lodges complaint with against program india radio  \n",
       "...                                                  ...  \n",
       "10326              largest vaccination programmevia namo  \n",
       "10327                that inspire towards dutiesvia namo  \n",
       "10328                  shakti leading from frontvia namo  \n",
       "10329           episode start years independencevia namo  \n",
       "10330                  nari shakti excels sportsvia namo  \n",
       "\n",
       "[10331 rows x 5 columns]"
      ]
     },
     "execution_count": 2,
     "metadata": {},
     "output_type": "execute_result"
    }
   ],
   "source": [
    "tweets = pd.read_csv(\"Datasets/processed_tweets.csv\")\n",
    "tweets = tweets.drop(['Unnamed: 0'], axis= 1)\n",
    "tweets"
   ]
  },
  {
   "cell_type": "code",
   "execution_count": 3,
   "metadata": {},
   "outputs": [
    {
     "data": {
      "text/html": [
       "<div>\n",
       "<style scoped>\n",
       "    .dataframe tbody tr th:only-of-type {\n",
       "        vertical-align: middle;\n",
       "    }\n",
       "\n",
       "    .dataframe tbody tr th {\n",
       "        vertical-align: top;\n",
       "    }\n",
       "\n",
       "    .dataframe thead th {\n",
       "        text-align: right;\n",
       "    }\n",
       "</style>\n",
       "<table border=\"1\" class=\"dataframe\">\n",
       "  <thead>\n",
       "    <tr style=\"text-align: right;\">\n",
       "      <th></th>\n",
       "      <th>Text</th>\n",
       "      <th>Date</th>\n",
       "      <th>Year</th>\n",
       "      <th>hashtag</th>\n",
       "      <th>Cleaned</th>\n",
       "      <th>label</th>\n",
       "      <th>positive</th>\n",
       "      <th>negative</th>\n",
       "    </tr>\n",
       "  </thead>\n",
       "  <tbody>\n",
       "    <tr>\n",
       "      <th>0</th>\n",
       "      <td>No violation by @narendramodi :Election Commis...</td>\n",
       "      <td>2014-10-11</td>\n",
       "      <td>2014</td>\n",
       "      <td>['MannKiBaat']</td>\n",
       "      <td>violation election commission</td>\n",
       "      <td>0</td>\n",
       "      <td>0.000</td>\n",
       "      <td>0.00</td>\n",
       "    </tr>\n",
       "    <tr>\n",
       "      <th>1</th>\n",
       "      <td>#PMModi's #MannKiBaat radio show: #ElectionCom...</td>\n",
       "      <td>2014-10-10</td>\n",
       "      <td>2014</td>\n",
       "      <td>['PMModi', 'MannKiBaat', 'ElectionCommission']</td>\n",
       "      <td>radio show says broadcast violate model code c...</td>\n",
       "      <td>1</td>\n",
       "      <td>0.250</td>\n",
       "      <td>0.00</td>\n",
       "    </tr>\n",
       "    <tr>\n",
       "      <th>2</th>\n",
       "      <td>#MannKiBaat #Sobtian #FanGal\\nDil Humko Kabhi ...</td>\n",
       "      <td>2014-10-10</td>\n",
       "      <td>2014</td>\n",
       "      <td>['MannKiBaat', 'Sobtian', 'FanGal', 'BarunSobti']</td>\n",
       "      <td>humko kabhi samjhata haihum dilko kabhi samjhate</td>\n",
       "      <td>0</td>\n",
       "      <td>0.000</td>\n",
       "      <td>0.00</td>\n",
       "    </tr>\n",
       "    <tr>\n",
       "      <th>3</th>\n",
       "      <td>#Congress lodges complaint with #EC against #M...</td>\n",
       "      <td>2014-10-06</td>\n",
       "      <td>2014</td>\n",
       "      <td>['Congress', 'EC', 'Modi', 'MannKiBaat']</td>\n",
       "      <td>lodges complaint with against program</td>\n",
       "      <td>0</td>\n",
       "      <td>0.000</td>\n",
       "      <td>0.00</td>\n",
       "    </tr>\n",
       "    <tr>\n",
       "      <th>4</th>\n",
       "      <td>#Congress lodges complaint with EC against PM ...</td>\n",
       "      <td>2014-10-06</td>\n",
       "      <td>2014</td>\n",
       "      <td>['Congress', 'NarendraModi', 'MannKiBaat']</td>\n",
       "      <td>lodges complaint with against program india radio</td>\n",
       "      <td>0</td>\n",
       "      <td>0.000</td>\n",
       "      <td>0.00</td>\n",
       "    </tr>\n",
       "    <tr>\n",
       "      <th>...</th>\n",
       "      <td>...</td>\n",
       "      <td>...</td>\n",
       "      <td>...</td>\n",
       "      <td>...</td>\n",
       "      <td>...</td>\n",
       "      <td>...</td>\n",
       "      <td>...</td>\n",
       "      <td>...</td>\n",
       "    </tr>\n",
       "    <tr>\n",
       "      <th>10326</th>\n",
       "      <td>#MannKiBaat\\nWorld’s largest vaccination progr...</td>\n",
       "      <td>2021-03-30</td>\n",
       "      <td>2021</td>\n",
       "      <td>['MannKiBaat']</td>\n",
       "      <td>largest vaccination programmevia namo</td>\n",
       "      <td>1</td>\n",
       "      <td>0.375</td>\n",
       "      <td>0.25</td>\n",
       "    </tr>\n",
       "    <tr>\n",
       "      <th>10327</th>\n",
       "      <td>#MannKiBaat\\nSacrifices that inspire us toward...</td>\n",
       "      <td>2021-03-30</td>\n",
       "      <td>2021</td>\n",
       "      <td>['MannKiBaat']</td>\n",
       "      <td>that inspire towards dutiesvia namo</td>\n",
       "      <td>0</td>\n",
       "      <td>0.000</td>\n",
       "      <td>0.00</td>\n",
       "    </tr>\n",
       "    <tr>\n",
       "      <th>10328</th>\n",
       "      <td>#MannKiBaat\\nNari Shakti leading from the fron...</td>\n",
       "      <td>2021-03-30</td>\n",
       "      <td>2021</td>\n",
       "      <td>['MannKiBaat']</td>\n",
       "      <td>shakti leading from frontvia namo</td>\n",
       "      <td>0</td>\n",
       "      <td>0.000</td>\n",
       "      <td>0.00</td>\n",
       "    </tr>\n",
       "    <tr>\n",
       "      <th>10329</th>\n",
       "      <td>#MannKiBaat\\n75th episode at the start of 75 y...</td>\n",
       "      <td>2021-03-30</td>\n",
       "      <td>2021</td>\n",
       "      <td>['MannKiBaat']</td>\n",
       "      <td>episode start years independencevia namo</td>\n",
       "      <td>0</td>\n",
       "      <td>0.000</td>\n",
       "      <td>0.00</td>\n",
       "    </tr>\n",
       "    <tr>\n",
       "      <th>10330</th>\n",
       "      <td>#MannKiBaat\\nIndia’s Nari Shakti excels at spo...</td>\n",
       "      <td>2021-03-30</td>\n",
       "      <td>2021</td>\n",
       "      <td>['MannKiBaat']</td>\n",
       "      <td>nari shakti excels sportsvia namo</td>\n",
       "      <td>0</td>\n",
       "      <td>0.000</td>\n",
       "      <td>0.00</td>\n",
       "    </tr>\n",
       "  </tbody>\n",
       "</table>\n",
       "<p>10331 rows × 8 columns</p>\n",
       "</div>"
      ],
      "text/plain": [
       "                                                    Text        Date  Year  \\\n",
       "0      No violation by @narendramodi :Election Commis...  2014-10-11  2014   \n",
       "1      #PMModi's #MannKiBaat radio show: #ElectionCom...  2014-10-10  2014   \n",
       "2      #MannKiBaat #Sobtian #FanGal\\nDil Humko Kabhi ...  2014-10-10  2014   \n",
       "3      #Congress lodges complaint with #EC against #M...  2014-10-06  2014   \n",
       "4      #Congress lodges complaint with EC against PM ...  2014-10-06  2014   \n",
       "...                                                  ...         ...   ...   \n",
       "10326  #MannKiBaat\\nWorld’s largest vaccination progr...  2021-03-30  2021   \n",
       "10327  #MannKiBaat\\nSacrifices that inspire us toward...  2021-03-30  2021   \n",
       "10328  #MannKiBaat\\nNari Shakti leading from the fron...  2021-03-30  2021   \n",
       "10329  #MannKiBaat\\n75th episode at the start of 75 y...  2021-03-30  2021   \n",
       "10330  #MannKiBaat\\nIndia’s Nari Shakti excels at spo...  2021-03-30  2021   \n",
       "\n",
       "                                                 hashtag  \\\n",
       "0                                         ['MannKiBaat']   \n",
       "1         ['PMModi', 'MannKiBaat', 'ElectionCommission']   \n",
       "2      ['MannKiBaat', 'Sobtian', 'FanGal', 'BarunSobti']   \n",
       "3               ['Congress', 'EC', 'Modi', 'MannKiBaat']   \n",
       "4             ['Congress', 'NarendraModi', 'MannKiBaat']   \n",
       "...                                                  ...   \n",
       "10326                                     ['MannKiBaat']   \n",
       "10327                                     ['MannKiBaat']   \n",
       "10328                                     ['MannKiBaat']   \n",
       "10329                                     ['MannKiBaat']   \n",
       "10330                                     ['MannKiBaat']   \n",
       "\n",
       "                                                 Cleaned  label  positive  \\\n",
       "0                          violation election commission      0     0.000   \n",
       "1      radio show says broadcast violate model code c...      1     0.250   \n",
       "2       humko kabhi samjhata haihum dilko kabhi samjhate      0     0.000   \n",
       "3                  lodges complaint with against program      0     0.000   \n",
       "4      lodges complaint with against program india radio      0     0.000   \n",
       "...                                                  ...    ...       ...   \n",
       "10326              largest vaccination programmevia namo      1     0.375   \n",
       "10327                that inspire towards dutiesvia namo      0     0.000   \n",
       "10328                  shakti leading from frontvia namo      0     0.000   \n",
       "10329           episode start years independencevia namo      0     0.000   \n",
       "10330                  nari shakti excels sportsvia namo      0     0.000   \n",
       "\n",
       "       negative  \n",
       "0          0.00  \n",
       "1          0.00  \n",
       "2          0.00  \n",
       "3          0.00  \n",
       "4          0.00  \n",
       "...         ...  \n",
       "10326      0.25  \n",
       "10327      0.00  \n",
       "10328      0.00  \n",
       "10329      0.00  \n",
       "10330      0.00  \n",
       "\n",
       "[10331 rows x 8 columns]"
      ]
     },
     "execution_count": 3,
     "metadata": {},
     "output_type": "execute_result"
    }
   ],
   "source": [
    "pstem = PorterStemmer()\n",
    "lem = WordNetLemmatizer()\n",
    "label=list()\n",
    "pos=[]\n",
    "neg=[]\n",
    "neu=[]\n",
    "for i in range(len(tweets.index)):\n",
    "  positive_score=0\n",
    "  negative_score=0\n",
    "  \n",
    "  \n",
    "  text = tweets.loc[i]['Cleaned']\n",
    "  tokens = nltk.word_tokenize(text)\n",
    "  tagged_sent = pos_tag(tokens)\n",
    "  store_it = [(word, map_tag('en-ptb', 'universal', tag)) for word, tag in tagged_sent]\n",
    "  for word,tag in store_it:\n",
    "    if(tag=='NOUN'):\n",
    "        tag='n'\n",
    "    elif(tag=='VERB'):\n",
    "        tag='v'\n",
    "    elif(tag=='ADJ'):\n",
    "        tag='a'\n",
    "    elif(tag=='ADV'):\n",
    "        tag = 'r'\n",
    "    else:\n",
    "        tag='nothing'\n",
    "\n",
    "    if(tag!='nothing'):\n",
    "      concat=word+'.'+tag+'.01'\n",
    "      #print(swn.senti_synset(concat))\n",
    "      try:\n",
    "        check=swn.senti_synset(concat)\n",
    "        positive_score+=check.pos_score()\n",
    "        negative_score+=check.neg_score()\n",
    "      \n",
    "      except Exception as e:\n",
    "        wor = lem.lemmatize(word)\n",
    "        concat = wor+'.'+tag+'.01'\n",
    "        # Checking if there's a possiblity of lemmatized word be accepted into SWN corpus\n",
    "        try:\n",
    "            positive_score+=swn.senti_synset(concat).pos_score()\n",
    "            negative_score+=swn.senti_synset(concat).neg_score()\n",
    "            \n",
    "        except Exception as e:\n",
    "            wor = pstem.stem(word)\n",
    "            concat = wor+'.'+tag+'.01'\n",
    "            # Checking if there's a possiblity of lemmatized word be accepted\n",
    "            try:\n",
    "                positive_score+=swn.senti_synset(concat).pos_score()\n",
    "                negative_score+=swn.senti_synset(concat).neg_score()\n",
    "                \n",
    "            except:\n",
    "                \n",
    "                continue\n",
    "    #check=swn.senti_synset(concat)\n",
    "    #if check.PosScore>check.NegScore:\n",
    "      #positive_score+=1\n",
    "    #elif check.NegScore>check.PosScore\n",
    "  if positive_score>negative_score:\n",
    "    label.append(1)\n",
    "  elif negative_score>positive_score:\n",
    "    label.append(-1)\n",
    "  else:\n",
    "    label.append(0)\n",
    "  pos.append(positive_score)\n",
    "  neg.append(negative_score)\n",
    "  \n",
    "  #print(label)\n",
    "tweets['label']=label\n",
    "tweets['positive']=pos\n",
    "tweets['negative']=neg  \n",
    "   \n",
    "tweets"
   ]
  },
  {
   "cell_type": "code",
   "execution_count": 4,
   "metadata": {},
   "outputs": [
    {
     "data": {
      "text/plain": [
       " 0    4475\n",
       " 1    4114\n",
       "-1    1742\n",
       "Name: label, dtype: int64"
      ]
     },
     "execution_count": 4,
     "metadata": {},
     "output_type": "execute_result"
    }
   ],
   "source": [
    "tweets['label'].value_counts()"
   ]
  },
  {
   "cell_type": "code",
   "execution_count": 188,
   "metadata": {
    "scrolled": true
   },
   "outputs": [
    {
     "name": "stdout",
     "output_type": "stream",
     "text": [
      "Month  label\n",
      "14-10  -1        15\n",
      "        0        43\n",
      "        1        51\n",
      "14-11  -1        62\n",
      "        0       181\n",
      "               ... \n",
      "21-02   0        86\n",
      "        1        36\n",
      "21-03  -1        28\n",
      "        0        70\n",
      "        1        85\n",
      "Name: label, Length: 204, dtype: int64\n",
      "Year  label\n",
      "2014  -1       158\n",
      "       0       361\n",
      "       1       387\n",
      "2015  -1       202\n",
      "       0       668\n",
      "       1       528\n",
      "2016  -1       300\n",
      "       0       676\n",
      "       1       665\n",
      "2017  -1       217\n",
      "       0       634\n",
      "       1       416\n",
      "2018  -1       181\n",
      "       0       681\n",
      "       1       657\n",
      "2019  -1       229\n",
      "       0       565\n",
      "       1       554\n",
      "2020  -1       376\n",
      "       0       677\n",
      "       1       704\n",
      "2021  -1        79\n",
      "       0       213\n",
      "       1       203\n",
      "Name: label, dtype: int64\n"
     ]
    }
   ],
   "source": [
    "months = []\n",
    "for i in range(len(tweets)):\n",
    "    months.append(tweets[\"Date\"][i][2:7])    \n",
    "tweets['Month'] = months\n",
    "\n",
    "month_group = tweets.groupby('Month')['label'].value_counts(sort=False)\n",
    "print(month_group)\n",
    "\n",
    "year_group = tweets.groupby('Year')['label'].value_counts(sort=False)\n",
    "print(year_group)"
   ]
  },
  {
   "cell_type": "code",
   "execution_count": 205,
   "metadata": {},
   "outputs": [],
   "source": [
    "cols = ['Year', 'Negative', 'Neutral', 'Positive']\n",
    "calculated = pd.DataFrame(columns=cols)\n",
    "year = []\n",
    "# month = []\n",
    "negative = []\n",
    "neutral = []\n",
    "positive = []\n",
    "\n",
    "for i in range(0, len(year_group), 3) :\n",
    "    year.append(year_group.index[i][0])\n",
    "#     month.append(month_group.index[i][0][0:])\n",
    "    negative.append(year_group.iloc[i])\n",
    "    neutral.append(year_group.iloc[i+1])\n",
    "    positive.append(year_group.iloc[i+2])\n",
    "    \n",
    "calculated['Year'] = year\n",
    "# calculated['Month'] = month\n",
    "calculated['Negative'] = negative\n",
    "calculated['Neutral'] = neutral\n",
    "calculated['Positive'] = positive"
   ]
  },
  {
   "cell_type": "code",
   "execution_count": 206,
   "metadata": {},
   "outputs": [],
   "source": [
    "calculated['Sum'] = calculated.iloc[:, 1:].sum(axis=1)\n",
    "calculated['% Negative'] = calculated['Negative']/calculated['Sum']*100\n",
    "calculated['% Neutral'] = calculated['Neutral']/calculated['Sum']*100\n",
    "calculated['% Positive'] = calculated['Positive']/calculated['Sum']*100"
   ]
  },
  {
   "cell_type": "code",
   "execution_count": 207,
   "metadata": {},
   "outputs": [
    {
     "data": {
      "text/html": [
       "<div>\n",
       "<style scoped>\n",
       "    .dataframe tbody tr th:only-of-type {\n",
       "        vertical-align: middle;\n",
       "    }\n",
       "\n",
       "    .dataframe tbody tr th {\n",
       "        vertical-align: top;\n",
       "    }\n",
       "\n",
       "    .dataframe thead th {\n",
       "        text-align: right;\n",
       "    }\n",
       "</style>\n",
       "<table border=\"1\" class=\"dataframe\">\n",
       "  <thead>\n",
       "    <tr style=\"text-align: right;\">\n",
       "      <th></th>\n",
       "      <th>Year</th>\n",
       "      <th>Negative</th>\n",
       "      <th>Neutral</th>\n",
       "      <th>Positive</th>\n",
       "      <th>Sum</th>\n",
       "      <th>% Negative</th>\n",
       "      <th>% Neutral</th>\n",
       "      <th>% Positive</th>\n",
       "    </tr>\n",
       "  </thead>\n",
       "  <tbody>\n",
       "    <tr>\n",
       "      <th>0</th>\n",
       "      <td>2014</td>\n",
       "      <td>158</td>\n",
       "      <td>361</td>\n",
       "      <td>387</td>\n",
       "      <td>906</td>\n",
       "      <td>17.439294</td>\n",
       "      <td>39.845475</td>\n",
       "      <td>42.715232</td>\n",
       "    </tr>\n",
       "    <tr>\n",
       "      <th>1</th>\n",
       "      <td>2015</td>\n",
       "      <td>202</td>\n",
       "      <td>668</td>\n",
       "      <td>528</td>\n",
       "      <td>1398</td>\n",
       "      <td>14.449213</td>\n",
       "      <td>47.782546</td>\n",
       "      <td>37.768240</td>\n",
       "    </tr>\n",
       "    <tr>\n",
       "      <th>2</th>\n",
       "      <td>2016</td>\n",
       "      <td>300</td>\n",
       "      <td>676</td>\n",
       "      <td>665</td>\n",
       "      <td>1641</td>\n",
       "      <td>18.281536</td>\n",
       "      <td>41.194394</td>\n",
       "      <td>40.524071</td>\n",
       "    </tr>\n",
       "    <tr>\n",
       "      <th>3</th>\n",
       "      <td>2017</td>\n",
       "      <td>217</td>\n",
       "      <td>634</td>\n",
       "      <td>416</td>\n",
       "      <td>1267</td>\n",
       "      <td>17.127072</td>\n",
       "      <td>50.039463</td>\n",
       "      <td>32.833465</td>\n",
       "    </tr>\n",
       "    <tr>\n",
       "      <th>4</th>\n",
       "      <td>2018</td>\n",
       "      <td>181</td>\n",
       "      <td>681</td>\n",
       "      <td>657</td>\n",
       "      <td>1519</td>\n",
       "      <td>11.915734</td>\n",
       "      <td>44.832126</td>\n",
       "      <td>43.252140</td>\n",
       "    </tr>\n",
       "    <tr>\n",
       "      <th>5</th>\n",
       "      <td>2019</td>\n",
       "      <td>229</td>\n",
       "      <td>565</td>\n",
       "      <td>554</td>\n",
       "      <td>1348</td>\n",
       "      <td>16.988131</td>\n",
       "      <td>41.913947</td>\n",
       "      <td>41.097923</td>\n",
       "    </tr>\n",
       "    <tr>\n",
       "      <th>6</th>\n",
       "      <td>2020</td>\n",
       "      <td>376</td>\n",
       "      <td>677</td>\n",
       "      <td>704</td>\n",
       "      <td>1757</td>\n",
       "      <td>21.400114</td>\n",
       "      <td>38.531588</td>\n",
       "      <td>40.068298</td>\n",
       "    </tr>\n",
       "    <tr>\n",
       "      <th>7</th>\n",
       "      <td>2021</td>\n",
       "      <td>79</td>\n",
       "      <td>213</td>\n",
       "      <td>203</td>\n",
       "      <td>495</td>\n",
       "      <td>15.959596</td>\n",
       "      <td>43.030303</td>\n",
       "      <td>41.010101</td>\n",
       "    </tr>\n",
       "  </tbody>\n",
       "</table>\n",
       "</div>"
      ],
      "text/plain": [
       "   Year  Negative  Neutral  Positive   Sum  % Negative  % Neutral  % Positive\n",
       "0  2014       158      361       387   906   17.439294  39.845475   42.715232\n",
       "1  2015       202      668       528  1398   14.449213  47.782546   37.768240\n",
       "2  2016       300      676       665  1641   18.281536  41.194394   40.524071\n",
       "3  2017       217      634       416  1267   17.127072  50.039463   32.833465\n",
       "4  2018       181      681       657  1519   11.915734  44.832126   43.252140\n",
       "5  2019       229      565       554  1348   16.988131  41.913947   41.097923\n",
       "6  2020       376      677       704  1757   21.400114  38.531588   40.068298\n",
       "7  2021        79      213       203   495   15.959596  43.030303   41.010101"
      ]
     },
     "execution_count": 207,
     "metadata": {},
     "output_type": "execute_result"
    }
   ],
   "source": [
    "calculated"
   ]
  },
  {
   "cell_type": "code",
   "execution_count": 214,
   "metadata": {
    "scrolled": true
   },
   "outputs": [
    {
     "data": {
      "application/vnd.plotly.v1+json": {
       "config": {
        "plotlyServerURL": "https://plot.ly"
       },
       "data": [
        {
         "marker": {
          "color": "rgba(255,0,0, 0.7)"
         },
         "name": "Negative reviews",
         "type": "bar",
         "x": [
          2014,
          2015,
          2016,
          2017,
          2018,
          2019,
          2020,
          2021
         ],
         "y": [
          17.439293598233995,
          14.449213161659513,
          18.281535648994517,
          17.12707182320442,
          11.915734035549704,
          16.988130563798222,
          21.400113830392716,
          15.95959595959596
         ]
        },
        {
         "marker": {
          "color": "rgba(0,0,255, 0.7)"
         },
         "name": "Neutral reviews",
         "type": "bar",
         "x": [
          2014,
          2015,
          2016,
          2017,
          2018,
          2019,
          2020,
          2021
         ],
         "y": [
          39.845474613686534,
          47.78254649499284,
          41.19439366240098,
          50.0394632991318,
          44.83212639894668,
          41.91394658753709,
          38.53158793397837,
          43.03030303030303
         ]
        },
        {
         "marker": {
          "color": "rgba(0,255,0, 0.7)"
         },
         "name": "Positive reviews",
         "type": "bar",
         "x": [
          2014,
          2015,
          2016,
          2017,
          2018,
          2019,
          2020,
          2021
         ],
         "y": [
          42.71523178807947,
          37.76824034334764,
          40.52407068860451,
          32.83346487766377,
          43.252139565503626,
          41.09792284866469,
          40.068298235628916,
          41.01010101010101
         ]
        }
       ],
       "layout": {
        "barmode": "relative",
        "template": {
         "data": {
          "bar": [
           {
            "error_x": {
             "color": "#2a3f5f"
            },
            "error_y": {
             "color": "#2a3f5f"
            },
            "marker": {
             "line": {
              "color": "#E5ECF6",
              "width": 0.5
             }
            },
            "type": "bar"
           }
          ],
          "barpolar": [
           {
            "marker": {
             "line": {
              "color": "#E5ECF6",
              "width": 0.5
             }
            },
            "type": "barpolar"
           }
          ],
          "carpet": [
           {
            "aaxis": {
             "endlinecolor": "#2a3f5f",
             "gridcolor": "white",
             "linecolor": "white",
             "minorgridcolor": "white",
             "startlinecolor": "#2a3f5f"
            },
            "baxis": {
             "endlinecolor": "#2a3f5f",
             "gridcolor": "white",
             "linecolor": "white",
             "minorgridcolor": "white",
             "startlinecolor": "#2a3f5f"
            },
            "type": "carpet"
           }
          ],
          "choropleth": [
           {
            "colorbar": {
             "outlinewidth": 0,
             "ticks": ""
            },
            "type": "choropleth"
           }
          ],
          "contour": [
           {
            "colorbar": {
             "outlinewidth": 0,
             "ticks": ""
            },
            "colorscale": [
             [
              0,
              "#0d0887"
             ],
             [
              0.1111111111111111,
              "#46039f"
             ],
             [
              0.2222222222222222,
              "#7201a8"
             ],
             [
              0.3333333333333333,
              "#9c179e"
             ],
             [
              0.4444444444444444,
              "#bd3786"
             ],
             [
              0.5555555555555556,
              "#d8576b"
             ],
             [
              0.6666666666666666,
              "#ed7953"
             ],
             [
              0.7777777777777778,
              "#fb9f3a"
             ],
             [
              0.8888888888888888,
              "#fdca26"
             ],
             [
              1,
              "#f0f921"
             ]
            ],
            "type": "contour"
           }
          ],
          "contourcarpet": [
           {
            "colorbar": {
             "outlinewidth": 0,
             "ticks": ""
            },
            "type": "contourcarpet"
           }
          ],
          "heatmap": [
           {
            "colorbar": {
             "outlinewidth": 0,
             "ticks": ""
            },
            "colorscale": [
             [
              0,
              "#0d0887"
             ],
             [
              0.1111111111111111,
              "#46039f"
             ],
             [
              0.2222222222222222,
              "#7201a8"
             ],
             [
              0.3333333333333333,
              "#9c179e"
             ],
             [
              0.4444444444444444,
              "#bd3786"
             ],
             [
              0.5555555555555556,
              "#d8576b"
             ],
             [
              0.6666666666666666,
              "#ed7953"
             ],
             [
              0.7777777777777778,
              "#fb9f3a"
             ],
             [
              0.8888888888888888,
              "#fdca26"
             ],
             [
              1,
              "#f0f921"
             ]
            ],
            "type": "heatmap"
           }
          ],
          "heatmapgl": [
           {
            "colorbar": {
             "outlinewidth": 0,
             "ticks": ""
            },
            "colorscale": [
             [
              0,
              "#0d0887"
             ],
             [
              0.1111111111111111,
              "#46039f"
             ],
             [
              0.2222222222222222,
              "#7201a8"
             ],
             [
              0.3333333333333333,
              "#9c179e"
             ],
             [
              0.4444444444444444,
              "#bd3786"
             ],
             [
              0.5555555555555556,
              "#d8576b"
             ],
             [
              0.6666666666666666,
              "#ed7953"
             ],
             [
              0.7777777777777778,
              "#fb9f3a"
             ],
             [
              0.8888888888888888,
              "#fdca26"
             ],
             [
              1,
              "#f0f921"
             ]
            ],
            "type": "heatmapgl"
           }
          ],
          "histogram": [
           {
            "marker": {
             "colorbar": {
              "outlinewidth": 0,
              "ticks": ""
             }
            },
            "type": "histogram"
           }
          ],
          "histogram2d": [
           {
            "colorbar": {
             "outlinewidth": 0,
             "ticks": ""
            },
            "colorscale": [
             [
              0,
              "#0d0887"
             ],
             [
              0.1111111111111111,
              "#46039f"
             ],
             [
              0.2222222222222222,
              "#7201a8"
             ],
             [
              0.3333333333333333,
              "#9c179e"
             ],
             [
              0.4444444444444444,
              "#bd3786"
             ],
             [
              0.5555555555555556,
              "#d8576b"
             ],
             [
              0.6666666666666666,
              "#ed7953"
             ],
             [
              0.7777777777777778,
              "#fb9f3a"
             ],
             [
              0.8888888888888888,
              "#fdca26"
             ],
             [
              1,
              "#f0f921"
             ]
            ],
            "type": "histogram2d"
           }
          ],
          "histogram2dcontour": [
           {
            "colorbar": {
             "outlinewidth": 0,
             "ticks": ""
            },
            "colorscale": [
             [
              0,
              "#0d0887"
             ],
             [
              0.1111111111111111,
              "#46039f"
             ],
             [
              0.2222222222222222,
              "#7201a8"
             ],
             [
              0.3333333333333333,
              "#9c179e"
             ],
             [
              0.4444444444444444,
              "#bd3786"
             ],
             [
              0.5555555555555556,
              "#d8576b"
             ],
             [
              0.6666666666666666,
              "#ed7953"
             ],
             [
              0.7777777777777778,
              "#fb9f3a"
             ],
             [
              0.8888888888888888,
              "#fdca26"
             ],
             [
              1,
              "#f0f921"
             ]
            ],
            "type": "histogram2dcontour"
           }
          ],
          "mesh3d": [
           {
            "colorbar": {
             "outlinewidth": 0,
             "ticks": ""
            },
            "type": "mesh3d"
           }
          ],
          "parcoords": [
           {
            "line": {
             "colorbar": {
              "outlinewidth": 0,
              "ticks": ""
             }
            },
            "type": "parcoords"
           }
          ],
          "pie": [
           {
            "automargin": true,
            "type": "pie"
           }
          ],
          "scatter": [
           {
            "marker": {
             "colorbar": {
              "outlinewidth": 0,
              "ticks": ""
             }
            },
            "type": "scatter"
           }
          ],
          "scatter3d": [
           {
            "line": {
             "colorbar": {
              "outlinewidth": 0,
              "ticks": ""
             }
            },
            "marker": {
             "colorbar": {
              "outlinewidth": 0,
              "ticks": ""
             }
            },
            "type": "scatter3d"
           }
          ],
          "scattercarpet": [
           {
            "marker": {
             "colorbar": {
              "outlinewidth": 0,
              "ticks": ""
             }
            },
            "type": "scattercarpet"
           }
          ],
          "scattergeo": [
           {
            "marker": {
             "colorbar": {
              "outlinewidth": 0,
              "ticks": ""
             }
            },
            "type": "scattergeo"
           }
          ],
          "scattergl": [
           {
            "marker": {
             "colorbar": {
              "outlinewidth": 0,
              "ticks": ""
             }
            },
            "type": "scattergl"
           }
          ],
          "scattermapbox": [
           {
            "marker": {
             "colorbar": {
              "outlinewidth": 0,
              "ticks": ""
             }
            },
            "type": "scattermapbox"
           }
          ],
          "scatterpolar": [
           {
            "marker": {
             "colorbar": {
              "outlinewidth": 0,
              "ticks": ""
             }
            },
            "type": "scatterpolar"
           }
          ],
          "scatterpolargl": [
           {
            "marker": {
             "colorbar": {
              "outlinewidth": 0,
              "ticks": ""
             }
            },
            "type": "scatterpolargl"
           }
          ],
          "scatterternary": [
           {
            "marker": {
             "colorbar": {
              "outlinewidth": 0,
              "ticks": ""
             }
            },
            "type": "scatterternary"
           }
          ],
          "surface": [
           {
            "colorbar": {
             "outlinewidth": 0,
             "ticks": ""
            },
            "colorscale": [
             [
              0,
              "#0d0887"
             ],
             [
              0.1111111111111111,
              "#46039f"
             ],
             [
              0.2222222222222222,
              "#7201a8"
             ],
             [
              0.3333333333333333,
              "#9c179e"
             ],
             [
              0.4444444444444444,
              "#bd3786"
             ],
             [
              0.5555555555555556,
              "#d8576b"
             ],
             [
              0.6666666666666666,
              "#ed7953"
             ],
             [
              0.7777777777777778,
              "#fb9f3a"
             ],
             [
              0.8888888888888888,
              "#fdca26"
             ],
             [
              1,
              "#f0f921"
             ]
            ],
            "type": "surface"
           }
          ],
          "table": [
           {
            "cells": {
             "fill": {
              "color": "#EBF0F8"
             },
             "line": {
              "color": "white"
             }
            },
            "header": {
             "fill": {
              "color": "#C8D4E3"
             },
             "line": {
              "color": "white"
             }
            },
            "type": "table"
           }
          ]
         },
         "layout": {
          "annotationdefaults": {
           "arrowcolor": "#2a3f5f",
           "arrowhead": 0,
           "arrowwidth": 1
          },
          "autotypenumbers": "strict",
          "coloraxis": {
           "colorbar": {
            "outlinewidth": 0,
            "ticks": ""
           }
          },
          "colorscale": {
           "diverging": [
            [
             0,
             "#8e0152"
            ],
            [
             0.1,
             "#c51b7d"
            ],
            [
             0.2,
             "#de77ae"
            ],
            [
             0.3,
             "#f1b6da"
            ],
            [
             0.4,
             "#fde0ef"
            ],
            [
             0.5,
             "#f7f7f7"
            ],
            [
             0.6,
             "#e6f5d0"
            ],
            [
             0.7,
             "#b8e186"
            ],
            [
             0.8,
             "#7fbc41"
            ],
            [
             0.9,
             "#4d9221"
            ],
            [
             1,
             "#276419"
            ]
           ],
           "sequential": [
            [
             0,
             "#0d0887"
            ],
            [
             0.1111111111111111,
             "#46039f"
            ],
            [
             0.2222222222222222,
             "#7201a8"
            ],
            [
             0.3333333333333333,
             "#9c179e"
            ],
            [
             0.4444444444444444,
             "#bd3786"
            ],
            [
             0.5555555555555556,
             "#d8576b"
            ],
            [
             0.6666666666666666,
             "#ed7953"
            ],
            [
             0.7777777777777778,
             "#fb9f3a"
            ],
            [
             0.8888888888888888,
             "#fdca26"
            ],
            [
             1,
             "#f0f921"
            ]
           ],
           "sequentialminus": [
            [
             0,
             "#0d0887"
            ],
            [
             0.1111111111111111,
             "#46039f"
            ],
            [
             0.2222222222222222,
             "#7201a8"
            ],
            [
             0.3333333333333333,
             "#9c179e"
            ],
            [
             0.4444444444444444,
             "#bd3786"
            ],
            [
             0.5555555555555556,
             "#d8576b"
            ],
            [
             0.6666666666666666,
             "#ed7953"
            ],
            [
             0.7777777777777778,
             "#fb9f3a"
            ],
            [
             0.8888888888888888,
             "#fdca26"
            ],
            [
             1,
             "#f0f921"
            ]
           ]
          },
          "colorway": [
           "#636efa",
           "#EF553B",
           "#00cc96",
           "#ab63fa",
           "#FFA15A",
           "#19d3f3",
           "#FF6692",
           "#B6E880",
           "#FF97FF",
           "#FECB52"
          ],
          "font": {
           "color": "#2a3f5f"
          },
          "geo": {
           "bgcolor": "white",
           "lakecolor": "white",
           "landcolor": "#E5ECF6",
           "showlakes": true,
           "showland": true,
           "subunitcolor": "white"
          },
          "hoverlabel": {
           "align": "left"
          },
          "hovermode": "closest",
          "mapbox": {
           "style": "light"
          },
          "paper_bgcolor": "white",
          "plot_bgcolor": "#E5ECF6",
          "polar": {
           "angularaxis": {
            "gridcolor": "white",
            "linecolor": "white",
            "ticks": ""
           },
           "bgcolor": "#E5ECF6",
           "radialaxis": {
            "gridcolor": "white",
            "linecolor": "white",
            "ticks": ""
           }
          },
          "scene": {
           "xaxis": {
            "backgroundcolor": "#E5ECF6",
            "gridcolor": "white",
            "gridwidth": 2,
            "linecolor": "white",
            "showbackground": true,
            "ticks": "",
            "zerolinecolor": "white"
           },
           "yaxis": {
            "backgroundcolor": "#E5ECF6",
            "gridcolor": "white",
            "gridwidth": 2,
            "linecolor": "white",
            "showbackground": true,
            "ticks": "",
            "zerolinecolor": "white"
           },
           "zaxis": {
            "backgroundcolor": "#E5ECF6",
            "gridcolor": "white",
            "gridwidth": 2,
            "linecolor": "white",
            "showbackground": true,
            "ticks": "",
            "zerolinecolor": "white"
           }
          },
          "shapedefaults": {
           "line": {
            "color": "#2a3f5f"
           }
          },
          "ternary": {
           "aaxis": {
            "gridcolor": "white",
            "linecolor": "white",
            "ticks": ""
           },
           "baxis": {
            "gridcolor": "white",
            "linecolor": "white",
            "ticks": ""
           },
           "bgcolor": "#E5ECF6",
           "caxis": {
            "gridcolor": "white",
            "linecolor": "white",
            "ticks": ""
           }
          },
          "title": {
           "x": 0.05
          },
          "xaxis": {
           "automargin": true,
           "gridcolor": "white",
           "linecolor": "white",
           "ticks": "",
           "title": {
            "standoff": 15
           },
           "zerolinecolor": "white",
           "zerolinewidth": 2
          },
          "yaxis": {
           "automargin": true,
           "gridcolor": "white",
           "linecolor": "white",
           "ticks": "",
           "title": {
            "standoff": 15
           },
           "zerolinecolor": "white",
           "zerolinewidth": 2
          }
         }
        },
        "yaxis": {
         "ticktext": [
          "0%",
          "20%",
          "40%",
          "60%",
          "80%",
          "100%"
         ],
         "tickvals": [
          0,
          20,
          40,
          60,
          80,
          100
         ],
         "title": {
          "text": "Reviews %"
         }
        }
       }
      },
      "text/html": [
       "<div>                            <div id=\"4d02b899-3ad7-41ff-b01c-1c38f1c44643\" class=\"plotly-graph-div\" style=\"height:525px; width:100%;\"></div>            <script type=\"text/javascript\">                require([\"plotly\"], function(Plotly) {                    window.PLOTLYENV=window.PLOTLYENV || {};                                    if (document.getElementById(\"4d02b899-3ad7-41ff-b01c-1c38f1c44643\")) {                    Plotly.newPlot(                        \"4d02b899-3ad7-41ff-b01c-1c38f1c44643\",                        [{\"marker\": {\"color\": \"rgba(255,0,0, 0.7)\"}, \"name\": \"Negative reviews\", \"type\": \"bar\", \"x\": [2014, 2015, 2016, 2017, 2018, 2019, 2020, 2021], \"y\": [17.439293598233995, 14.449213161659513, 18.281535648994517, 17.12707182320442, 11.915734035549704, 16.988130563798222, 21.400113830392716, 15.95959595959596]}, {\"marker\": {\"color\": \"rgba(0,0,255, 0.7)\"}, \"name\": \"Neutral reviews\", \"type\": \"bar\", \"x\": [2014, 2015, 2016, 2017, 2018, 2019, 2020, 2021], \"y\": [39.845474613686534, 47.78254649499284, 41.19439366240098, 50.0394632991318, 44.83212639894668, 41.91394658753709, 38.53158793397837, 43.03030303030303]}, {\"marker\": {\"color\": \"rgba(0,255,0, 0.7)\"}, \"name\": \"Positive reviews\", \"type\": \"bar\", \"x\": [2014, 2015, 2016, 2017, 2018, 2019, 2020, 2021], \"y\": [42.71523178807947, 37.76824034334764, 40.52407068860451, 32.83346487766377, 43.252139565503626, 41.09792284866469, 40.068298235628916, 41.01010101010101]}],                        {\"barmode\": \"relative\", \"template\": {\"data\": {\"bar\": [{\"error_x\": {\"color\": \"#2a3f5f\"}, \"error_y\": {\"color\": \"#2a3f5f\"}, \"marker\": {\"line\": {\"color\": \"#E5ECF6\", \"width\": 0.5}}, \"type\": \"bar\"}], \"barpolar\": [{\"marker\": {\"line\": {\"color\": \"#E5ECF6\", \"width\": 0.5}}, \"type\": \"barpolar\"}], \"carpet\": [{\"aaxis\": {\"endlinecolor\": \"#2a3f5f\", \"gridcolor\": \"white\", \"linecolor\": \"white\", \"minorgridcolor\": \"white\", \"startlinecolor\": \"#2a3f5f\"}, \"baxis\": {\"endlinecolor\": \"#2a3f5f\", \"gridcolor\": \"white\", \"linecolor\": \"white\", \"minorgridcolor\": \"white\", \"startlinecolor\": \"#2a3f5f\"}, \"type\": \"carpet\"}], \"choropleth\": [{\"colorbar\": {\"outlinewidth\": 0, \"ticks\": \"\"}, \"type\": \"choropleth\"}], \"contour\": [{\"colorbar\": {\"outlinewidth\": 0, \"ticks\": \"\"}, \"colorscale\": [[0.0, \"#0d0887\"], [0.1111111111111111, \"#46039f\"], [0.2222222222222222, \"#7201a8\"], [0.3333333333333333, \"#9c179e\"], [0.4444444444444444, \"#bd3786\"], [0.5555555555555556, \"#d8576b\"], [0.6666666666666666, \"#ed7953\"], [0.7777777777777778, \"#fb9f3a\"], [0.8888888888888888, \"#fdca26\"], [1.0, \"#f0f921\"]], \"type\": \"contour\"}], \"contourcarpet\": [{\"colorbar\": {\"outlinewidth\": 0, \"ticks\": \"\"}, \"type\": \"contourcarpet\"}], \"heatmap\": [{\"colorbar\": {\"outlinewidth\": 0, \"ticks\": \"\"}, \"colorscale\": [[0.0, \"#0d0887\"], [0.1111111111111111, \"#46039f\"], [0.2222222222222222, \"#7201a8\"], [0.3333333333333333, \"#9c179e\"], [0.4444444444444444, \"#bd3786\"], [0.5555555555555556, \"#d8576b\"], [0.6666666666666666, \"#ed7953\"], [0.7777777777777778, \"#fb9f3a\"], [0.8888888888888888, \"#fdca26\"], [1.0, \"#f0f921\"]], \"type\": \"heatmap\"}], \"heatmapgl\": [{\"colorbar\": {\"outlinewidth\": 0, \"ticks\": \"\"}, \"colorscale\": [[0.0, \"#0d0887\"], [0.1111111111111111, \"#46039f\"], [0.2222222222222222, \"#7201a8\"], [0.3333333333333333, \"#9c179e\"], [0.4444444444444444, \"#bd3786\"], [0.5555555555555556, \"#d8576b\"], [0.6666666666666666, \"#ed7953\"], [0.7777777777777778, \"#fb9f3a\"], [0.8888888888888888, \"#fdca26\"], [1.0, \"#f0f921\"]], \"type\": \"heatmapgl\"}], \"histogram\": [{\"marker\": {\"colorbar\": {\"outlinewidth\": 0, \"ticks\": \"\"}}, \"type\": \"histogram\"}], \"histogram2d\": [{\"colorbar\": {\"outlinewidth\": 0, \"ticks\": \"\"}, \"colorscale\": [[0.0, \"#0d0887\"], [0.1111111111111111, \"#46039f\"], [0.2222222222222222, \"#7201a8\"], [0.3333333333333333, \"#9c179e\"], [0.4444444444444444, \"#bd3786\"], [0.5555555555555556, \"#d8576b\"], [0.6666666666666666, \"#ed7953\"], [0.7777777777777778, \"#fb9f3a\"], [0.8888888888888888, \"#fdca26\"], [1.0, \"#f0f921\"]], \"type\": \"histogram2d\"}], \"histogram2dcontour\": [{\"colorbar\": {\"outlinewidth\": 0, \"ticks\": \"\"}, \"colorscale\": [[0.0, \"#0d0887\"], [0.1111111111111111, \"#46039f\"], [0.2222222222222222, \"#7201a8\"], [0.3333333333333333, \"#9c179e\"], [0.4444444444444444, \"#bd3786\"], [0.5555555555555556, \"#d8576b\"], [0.6666666666666666, \"#ed7953\"], [0.7777777777777778, \"#fb9f3a\"], [0.8888888888888888, \"#fdca26\"], [1.0, \"#f0f921\"]], \"type\": \"histogram2dcontour\"}], \"mesh3d\": [{\"colorbar\": {\"outlinewidth\": 0, \"ticks\": \"\"}, \"type\": \"mesh3d\"}], \"parcoords\": [{\"line\": {\"colorbar\": {\"outlinewidth\": 0, \"ticks\": \"\"}}, \"type\": \"parcoords\"}], \"pie\": [{\"automargin\": true, \"type\": \"pie\"}], \"scatter\": [{\"marker\": {\"colorbar\": {\"outlinewidth\": 0, \"ticks\": \"\"}}, \"type\": \"scatter\"}], \"scatter3d\": [{\"line\": {\"colorbar\": {\"outlinewidth\": 0, \"ticks\": \"\"}}, \"marker\": {\"colorbar\": {\"outlinewidth\": 0, \"ticks\": \"\"}}, \"type\": \"scatter3d\"}], \"scattercarpet\": [{\"marker\": {\"colorbar\": {\"outlinewidth\": 0, \"ticks\": \"\"}}, \"type\": \"scattercarpet\"}], \"scattergeo\": [{\"marker\": {\"colorbar\": {\"outlinewidth\": 0, \"ticks\": \"\"}}, \"type\": \"scattergeo\"}], \"scattergl\": [{\"marker\": {\"colorbar\": {\"outlinewidth\": 0, \"ticks\": \"\"}}, \"type\": \"scattergl\"}], \"scattermapbox\": [{\"marker\": {\"colorbar\": {\"outlinewidth\": 0, \"ticks\": \"\"}}, \"type\": \"scattermapbox\"}], \"scatterpolar\": [{\"marker\": {\"colorbar\": {\"outlinewidth\": 0, \"ticks\": \"\"}}, \"type\": \"scatterpolar\"}], \"scatterpolargl\": [{\"marker\": {\"colorbar\": {\"outlinewidth\": 0, \"ticks\": \"\"}}, \"type\": \"scatterpolargl\"}], \"scatterternary\": [{\"marker\": {\"colorbar\": {\"outlinewidth\": 0, \"ticks\": \"\"}}, \"type\": \"scatterternary\"}], \"surface\": [{\"colorbar\": {\"outlinewidth\": 0, \"ticks\": \"\"}, \"colorscale\": [[0.0, \"#0d0887\"], [0.1111111111111111, \"#46039f\"], [0.2222222222222222, \"#7201a8\"], [0.3333333333333333, \"#9c179e\"], [0.4444444444444444, \"#bd3786\"], [0.5555555555555556, \"#d8576b\"], [0.6666666666666666, \"#ed7953\"], [0.7777777777777778, \"#fb9f3a\"], [0.8888888888888888, \"#fdca26\"], [1.0, \"#f0f921\"]], \"type\": \"surface\"}], \"table\": [{\"cells\": {\"fill\": {\"color\": \"#EBF0F8\"}, \"line\": {\"color\": \"white\"}}, \"header\": {\"fill\": {\"color\": \"#C8D4E3\"}, \"line\": {\"color\": \"white\"}}, \"type\": \"table\"}]}, \"layout\": {\"annotationdefaults\": {\"arrowcolor\": \"#2a3f5f\", \"arrowhead\": 0, \"arrowwidth\": 1}, \"autotypenumbers\": \"strict\", \"coloraxis\": {\"colorbar\": {\"outlinewidth\": 0, \"ticks\": \"\"}}, \"colorscale\": {\"diverging\": [[0, \"#8e0152\"], [0.1, \"#c51b7d\"], [0.2, \"#de77ae\"], [0.3, \"#f1b6da\"], [0.4, \"#fde0ef\"], [0.5, \"#f7f7f7\"], [0.6, \"#e6f5d0\"], [0.7, \"#b8e186\"], [0.8, \"#7fbc41\"], [0.9, \"#4d9221\"], [1, \"#276419\"]], \"sequential\": [[0.0, \"#0d0887\"], [0.1111111111111111, \"#46039f\"], [0.2222222222222222, \"#7201a8\"], [0.3333333333333333, \"#9c179e\"], [0.4444444444444444, \"#bd3786\"], [0.5555555555555556, \"#d8576b\"], [0.6666666666666666, \"#ed7953\"], [0.7777777777777778, \"#fb9f3a\"], [0.8888888888888888, \"#fdca26\"], [1.0, \"#f0f921\"]], \"sequentialminus\": [[0.0, \"#0d0887\"], [0.1111111111111111, \"#46039f\"], [0.2222222222222222, \"#7201a8\"], [0.3333333333333333, \"#9c179e\"], [0.4444444444444444, \"#bd3786\"], [0.5555555555555556, \"#d8576b\"], [0.6666666666666666, \"#ed7953\"], [0.7777777777777778, \"#fb9f3a\"], [0.8888888888888888, \"#fdca26\"], [1.0, \"#f0f921\"]]}, \"colorway\": [\"#636efa\", \"#EF553B\", \"#00cc96\", \"#ab63fa\", \"#FFA15A\", \"#19d3f3\", \"#FF6692\", \"#B6E880\", \"#FF97FF\", \"#FECB52\"], \"font\": {\"color\": \"#2a3f5f\"}, \"geo\": {\"bgcolor\": \"white\", \"lakecolor\": \"white\", \"landcolor\": \"#E5ECF6\", \"showlakes\": true, \"showland\": true, \"subunitcolor\": \"white\"}, \"hoverlabel\": {\"align\": \"left\"}, \"hovermode\": \"closest\", \"mapbox\": {\"style\": \"light\"}, \"paper_bgcolor\": \"white\", \"plot_bgcolor\": \"#E5ECF6\", \"polar\": {\"angularaxis\": {\"gridcolor\": \"white\", \"linecolor\": \"white\", \"ticks\": \"\"}, \"bgcolor\": \"#E5ECF6\", \"radialaxis\": {\"gridcolor\": \"white\", \"linecolor\": \"white\", \"ticks\": \"\"}}, \"scene\": {\"xaxis\": {\"backgroundcolor\": \"#E5ECF6\", \"gridcolor\": \"white\", \"gridwidth\": 2, \"linecolor\": \"white\", \"showbackground\": true, \"ticks\": \"\", \"zerolinecolor\": \"white\"}, \"yaxis\": {\"backgroundcolor\": \"#E5ECF6\", \"gridcolor\": \"white\", \"gridwidth\": 2, \"linecolor\": \"white\", \"showbackground\": true, \"ticks\": \"\", \"zerolinecolor\": \"white\"}, \"zaxis\": {\"backgroundcolor\": \"#E5ECF6\", \"gridcolor\": \"white\", \"gridwidth\": 2, \"linecolor\": \"white\", \"showbackground\": true, \"ticks\": \"\", \"zerolinecolor\": \"white\"}}, \"shapedefaults\": {\"line\": {\"color\": \"#2a3f5f\"}}, \"ternary\": {\"aaxis\": {\"gridcolor\": \"white\", \"linecolor\": \"white\", \"ticks\": \"\"}, \"baxis\": {\"gridcolor\": \"white\", \"linecolor\": \"white\", \"ticks\": \"\"}, \"bgcolor\": \"#E5ECF6\", \"caxis\": {\"gridcolor\": \"white\", \"linecolor\": \"white\", \"ticks\": \"\"}}, \"title\": {\"x\": 0.05}, \"xaxis\": {\"automargin\": true, \"gridcolor\": \"white\", \"linecolor\": \"white\", \"ticks\": \"\", \"title\": {\"standoff\": 15}, \"zerolinecolor\": \"white\", \"zerolinewidth\": 2}, \"yaxis\": {\"automargin\": true, \"gridcolor\": \"white\", \"linecolor\": \"white\", \"ticks\": \"\", \"title\": {\"standoff\": 15}, \"zerolinecolor\": \"white\", \"zerolinewidth\": 2}}}, \"yaxis\": {\"ticktext\": [\"0%\", \"20%\", \"40%\", \"60%\", \"80%\", \"100%\"], \"tickvals\": [0, 20, 40, 60, 80, 100], \"title\": {\"text\": \"Reviews %\"}}},                        {\"responsive\": true}                    ).then(function(){\n",
       "                            \n",
       "var gd = document.getElementById('4d02b899-3ad7-41ff-b01c-1c38f1c44643');\n",
       "var x = new MutationObserver(function (mutations, observer) {{\n",
       "        var display = window.getComputedStyle(gd).display;\n",
       "        if (!display || display === 'none') {{\n",
       "            console.log([gd, 'removed!']);\n",
       "            Plotly.purge(gd);\n",
       "            observer.disconnect();\n",
       "        }}\n",
       "}});\n",
       "\n",
       "// Listen for the removal of the full notebook cells\n",
       "var notebookContainer = gd.closest('#notebook-container');\n",
       "if (notebookContainer) {{\n",
       "    x.observe(notebookContainer, {childList: true});\n",
       "}}\n",
       "\n",
       "// Listen for the clearing of the current output cell\n",
       "var outputEl = gd.closest('.output');\n",
       "if (outputEl) {{\n",
       "    x.observe(outputEl, {childList: true});\n",
       "}}\n",
       "\n",
       "                        })                };                });            </script>        </div>"
      ]
     },
     "metadata": {},
     "output_type": "display_data"
    }
   ],
   "source": [
    "import plotly\n",
    "import plotly.graph_objects as go\n",
    "x = list(calculated['Year'])\n",
    "fig = go.Figure()\n",
    "fig.add_bar(x=x, y=list(calculated['% Negative']), name='Negative reviews', marker=dict(\n",
    "        color='rgba(255,0,0, 0.7)'))\n",
    "fig.add_bar(x=x, y=list(calculated['% Neutral']), name='Neutral reviews', marker=dict(\n",
    "        color='rgba(0,0,255, 0.7)'))\n",
    "fig.add_bar(x=x, y=list(calculated['% Positive']), name='Positive reviews', marker=dict(\n",
    "        color='rgba(0,255,0, 0.7)'))\n",
    "fig.update_layout(barmode=\"relative\", yaxis=dict(\n",
    "        title_text=\"Reviews %\",\n",
    "        ticktext=[\"0%\", \"20%\", \"40%\", \"60%\",\"80%\",\"100%\"],\n",
    "        tickvals=[0, 20, 40, 60, 80, 100],\n",
    "    ))\n",
    "fig.show()"
   ]
  },
  {
   "cell_type": "code",
   "execution_count": null,
   "metadata": {},
   "outputs": [],
   "source": []
  },
  {
   "cell_type": "code",
   "execution_count": null,
   "metadata": {},
   "outputs": [],
   "source": []
  }
 ],
 "metadata": {
  "kernelspec": {
   "display_name": "Python 3",
   "language": "python",
   "name": "python3"
  },
  "language_info": {
   "codemirror_mode": {
    "name": "ipython",
    "version": 3
   },
   "file_extension": ".py",
   "mimetype": "text/x-python",
   "name": "python",
   "nbconvert_exporter": "python",
   "pygments_lexer": "ipython3",
   "version": "3.8.5"
  }
 },
 "nbformat": 4,
 "nbformat_minor": 4
}
