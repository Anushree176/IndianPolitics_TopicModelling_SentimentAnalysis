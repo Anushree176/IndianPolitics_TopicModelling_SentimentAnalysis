{
 "cells": [
  {
   "cell_type": "code",
   "execution_count": null,
   "metadata": {},
   "outputs": [],
   "source": [
    "# !pip install git+https://github.com/JustAnotherArchivist/snscrape.git\n",
    "import snscrape.modules.twitter as sntwitter\n",
    "import pandas as pd"
   ]
  },
  {
   "cell_type": "code",
   "execution_count": null,
   "metadata": {},
   "outputs": [],
   "source": [
    "tweets_list2 = []\n",
    "\n",
    "for i,tweet in enumerate(sntwitter.TwitterSearchScraper('#mannkibaat since:2021-03-28 until:2021-03-31').get_items()):\n",
    "    if i>200:\n",
    "        break\n",
    "    tweets_list2.append([tweet.date, tweet.id, tweet.content, tweet.user.username])\n",
    "    \n",
    "tweets_df2 = pd.DataFrame(tweets_list2, columns=['Datetime', 'Tweet Id', 'Text', 'Username'])"
   ]
  },
  {
   "cell_type": "code",
   "execution_count": null,
   "metadata": {
    "scrolled": true
   },
   "outputs": [],
   "source": [
    "tweets_df2"
   ]
  },
  {
   "cell_type": "code",
   "execution_count": null,
   "metadata": {},
   "outputs": [],
   "source": [
    "twitter_tweets.append(tweets_df2)"
   ]
  },
  {
   "cell_type": "code",
   "execution_count": null,
   "metadata": {},
   "outputs": [],
   "source": [
    "merged = pd.concat(twitter_tweets, ignore_index=True)\n",
    "merged.to_csv(\"twitter_all_tweets.csv\")"
   ]
  },
  {
   "cell_type": "markdown",
   "metadata": {},
   "source": [
    "# Preprocessing\n",
    "---"
   ]
  },
  {
   "cell_type": "code",
   "execution_count": 1,
   "metadata": {},
   "outputs": [],
   "source": [
    "import pandas as pd\n",
    "\n",
    "df = pd.read_csv('twitter_all_tweets.csv')"
   ]
  },
  {
   "cell_type": "code",
   "execution_count": 2,
   "metadata": {},
   "outputs": [
    {
     "data": {
      "text/html": [
       "<div>\n",
       "<style scoped>\n",
       "    .dataframe tbody tr th:only-of-type {\n",
       "        vertical-align: middle;\n",
       "    }\n",
       "\n",
       "    .dataframe tbody tr th {\n",
       "        vertical-align: top;\n",
       "    }\n",
       "\n",
       "    .dataframe thead th {\n",
       "        text-align: right;\n",
       "    }\n",
       "</style>\n",
       "<table border=\"1\" class=\"dataframe\">\n",
       "  <thead>\n",
       "    <tr style=\"text-align: right;\">\n",
       "      <th></th>\n",
       "      <th>Unnamed: 0</th>\n",
       "      <th>Datetime</th>\n",
       "      <th>Tweet Id</th>\n",
       "      <th>Text</th>\n",
       "      <th>Username</th>\n",
       "    </tr>\n",
       "  </thead>\n",
       "  <tbody>\n",
       "    <tr>\n",
       "      <th>0</th>\n",
       "      <td>0</td>\n",
       "      <td>2014-10-11 06:03:11+00:00</td>\n",
       "      <td>520816862917976064</td>\n",
       "      <td>No violation by @narendramodi :Election Commis...</td>\n",
       "      <td>fpjindia</td>\n",
       "    </tr>\n",
       "    <tr>\n",
       "      <th>1</th>\n",
       "      <td>1</td>\n",
       "      <td>2014-10-10 13:09:42+00:00</td>\n",
       "      <td>520561814623748096</td>\n",
       "      <td>#PMModi's #MannKiBaat radio show: #ElectionCom...</td>\n",
       "      <td>raghvendra_rao</td>\n",
       "    </tr>\n",
       "    <tr>\n",
       "      <th>2</th>\n",
       "      <td>2</td>\n",
       "      <td>2014-10-10 06:17:07+00:00</td>\n",
       "      <td>520457982346145792</td>\n",
       "      <td>#MannKiBaat #Sobtian #FanGal\\nDil Humko Kabhi ...</td>\n",
       "      <td>BSI_Love_You</td>\n",
       "    </tr>\n",
       "    <tr>\n",
       "      <th>3</th>\n",
       "      <td>3</td>\n",
       "      <td>2014-10-06 15:33:52+00:00</td>\n",
       "      <td>519148543693422592</td>\n",
       "      <td>भारत के वीर सपूतों कर लो कुछ तूफानी,\\nखुद को आ...</td>\n",
       "      <td>drunkenalpha</td>\n",
       "    </tr>\n",
       "    <tr>\n",
       "      <th>4</th>\n",
       "      <td>4</td>\n",
       "      <td>2014-10-06 14:49:35+00:00</td>\n",
       "      <td>519137397892599808</td>\n",
       "      <td>#Congress lodges complaint with #EC against #M...</td>\n",
       "      <td>nnis_sports</td>\n",
       "    </tr>\n",
       "    <tr>\n",
       "      <th>...</th>\n",
       "      <td>...</td>\n",
       "      <td>...</td>\n",
       "      <td>...</td>\n",
       "      <td>...</td>\n",
       "      <td>...</td>\n",
       "    </tr>\n",
       "    <tr>\n",
       "      <th>15188</th>\n",
       "      <td>15188</td>\n",
       "      <td>2021-03-30 10:33:34+00:00</td>\n",
       "      <td>1376845048239714306</td>\n",
       "      <td>#MannKiBaat\\nWorld’s largest vaccination progr...</td>\n",
       "      <td>GshankarSriva12</td>\n",
       "    </tr>\n",
       "    <tr>\n",
       "      <th>15189</th>\n",
       "      <td>15189</td>\n",
       "      <td>2021-03-30 10:33:30+00:00</td>\n",
       "      <td>1376845028677443584</td>\n",
       "      <td>#MannKiBaat\\nSacrifices that inspire us toward...</td>\n",
       "      <td>GshankarSriva12</td>\n",
       "    </tr>\n",
       "    <tr>\n",
       "      <th>15190</th>\n",
       "      <td>15190</td>\n",
       "      <td>2021-03-30 10:33:29+00:00</td>\n",
       "      <td>1376845027150688260</td>\n",
       "      <td>#MannKiBaat\\nNari Shakti leading from the fron...</td>\n",
       "      <td>GshankarSriva12</td>\n",
       "    </tr>\n",
       "    <tr>\n",
       "      <th>15191</th>\n",
       "      <td>15191</td>\n",
       "      <td>2021-03-30 10:33:29+00:00</td>\n",
       "      <td>1376845025091280899</td>\n",
       "      <td>#MannKiBaat\\n75th episode at the start of 75 y...</td>\n",
       "      <td>GshankarSriva12</td>\n",
       "    </tr>\n",
       "    <tr>\n",
       "      <th>15192</th>\n",
       "      <td>15192</td>\n",
       "      <td>2021-03-30 10:33:27+00:00</td>\n",
       "      <td>1376845016576913409</td>\n",
       "      <td>#MannKiBaat\\nIndia’s Nari Shakti excels at spo...</td>\n",
       "      <td>GshankarSriva12</td>\n",
       "    </tr>\n",
       "  </tbody>\n",
       "</table>\n",
       "<p>15193 rows × 5 columns</p>\n",
       "</div>"
      ],
      "text/plain": [
       "       Unnamed: 0                   Datetime             Tweet Id  \\\n",
       "0               0  2014-10-11 06:03:11+00:00   520816862917976064   \n",
       "1               1  2014-10-10 13:09:42+00:00   520561814623748096   \n",
       "2               2  2014-10-10 06:17:07+00:00   520457982346145792   \n",
       "3               3  2014-10-06 15:33:52+00:00   519148543693422592   \n",
       "4               4  2014-10-06 14:49:35+00:00   519137397892599808   \n",
       "...           ...                        ...                  ...   \n",
       "15188       15188  2021-03-30 10:33:34+00:00  1376845048239714306   \n",
       "15189       15189  2021-03-30 10:33:30+00:00  1376845028677443584   \n",
       "15190       15190  2021-03-30 10:33:29+00:00  1376845027150688260   \n",
       "15191       15191  2021-03-30 10:33:29+00:00  1376845025091280899   \n",
       "15192       15192  2021-03-30 10:33:27+00:00  1376845016576913409   \n",
       "\n",
       "                                                    Text         Username  \n",
       "0      No violation by @narendramodi :Election Commis...         fpjindia  \n",
       "1      #PMModi's #MannKiBaat radio show: #ElectionCom...   raghvendra_rao  \n",
       "2      #MannKiBaat #Sobtian #FanGal\\nDil Humko Kabhi ...     BSI_Love_You  \n",
       "3      भारत के वीर सपूतों कर लो कुछ तूफानी,\\nखुद को आ...     drunkenalpha  \n",
       "4      #Congress lodges complaint with #EC against #M...      nnis_sports  \n",
       "...                                                  ...              ...  \n",
       "15188  #MannKiBaat\\nWorld’s largest vaccination progr...  GshankarSriva12  \n",
       "15189  #MannKiBaat\\nSacrifices that inspire us toward...  GshankarSriva12  \n",
       "15190  #MannKiBaat\\nNari Shakti leading from the fron...  GshankarSriva12  \n",
       "15191  #MannKiBaat\\n75th episode at the start of 75 y...  GshankarSriva12  \n",
       "15192  #MannKiBaat\\nIndia’s Nari Shakti excels at spo...  GshankarSriva12  \n",
       "\n",
       "[15193 rows x 5 columns]"
      ]
     },
     "execution_count": 2,
     "metadata": {},
     "output_type": "execute_result"
    }
   ],
   "source": [
    "df"
   ]
  },
  {
   "cell_type": "code",
   "execution_count": 3,
   "metadata": {},
   "outputs": [],
   "source": [
    "def get_date(text) :\n",
    "    return text[:10]\n",
    "def get_year(text):\n",
    "    return text[:4]\n",
    "\n",
    "df['Date'] = df['Datetime'].apply(get_date)\n",
    "df['Year'] = df['Datetime'].apply(get_year)\n",
    "\n",
    "df = df.drop(['Unnamed: 0', 'Datetime','Tweet Id','Username'], axis=1)"
   ]
  },
  {
   "cell_type": "code",
   "execution_count": 20,
   "metadata": {},
   "outputs": [],
   "source": [
    "import re\n",
    "\n",
    "df['hashtag'] = df['Text'].apply(lambda x: re.findall(r\"#(\\w+)\", x))"
   ]
  },
  {
   "cell_type": "code",
   "execution_count": 4,
   "metadata": {},
   "outputs": [],
   "source": [
    "import preprocessor as pp\n",
    "\n",
    "def clean_tweets(text) :\n",
    "#     pp.set_options(pp.OPT.URL, pp.OPT.EMOJI, pp.OPT.MENTION, pp.OPT.SMILEY, pp.OPT.NUMBER)\n",
    "    text = pp.clean(text)\n",
    "    return text"
   ]
  },
  {
   "cell_type": "code",
   "execution_count": 5,
   "metadata": {},
   "outputs": [],
   "source": [
    "df['Cleaned'] = df['Text'].apply(clean_tweets)"
   ]
  },
  {
   "cell_type": "code",
   "execution_count": 21,
   "metadata": {},
   "outputs": [
    {
     "data": {
      "text/html": [
       "<div>\n",
       "<style scoped>\n",
       "    .dataframe tbody tr th:only-of-type {\n",
       "        vertical-align: middle;\n",
       "    }\n",
       "\n",
       "    .dataframe tbody tr th {\n",
       "        vertical-align: top;\n",
       "    }\n",
       "\n",
       "    .dataframe thead th {\n",
       "        text-align: right;\n",
       "    }\n",
       "</style>\n",
       "<table border=\"1\" class=\"dataframe\">\n",
       "  <thead>\n",
       "    <tr style=\"text-align: right;\">\n",
       "      <th></th>\n",
       "      <th>Text</th>\n",
       "      <th>Date</th>\n",
       "      <th>Year</th>\n",
       "      <th>Cleaned</th>\n",
       "      <th>hashtag</th>\n",
       "    </tr>\n",
       "  </thead>\n",
       "  <tbody>\n",
       "    <tr>\n",
       "      <th>0</th>\n",
       "      <td>No violation by @narendramodi :Election Commis...</td>\n",
       "      <td>2014-10-11</td>\n",
       "      <td>2014</td>\n",
       "      <td>No violation by :Election Commission</td>\n",
       "      <td>[MannKiBaat]</td>\n",
       "    </tr>\n",
       "    <tr>\n",
       "      <th>1</th>\n",
       "      <td>#PMModi's #MannKiBaat radio show: #ElectionCom...</td>\n",
       "      <td>2014-10-10</td>\n",
       "      <td>2014</td>\n",
       "      <td>'s radio show: says broadcast did not violate ...</td>\n",
       "      <td>[PMModi, MannKiBaat, ElectionCommission]</td>\n",
       "    </tr>\n",
       "    <tr>\n",
       "      <th>2</th>\n",
       "      <td>#MannKiBaat #Sobtian #FanGal\\nDil Humko Kabhi ...</td>\n",
       "      <td>2014-10-10</td>\n",
       "      <td>2014</td>\n",
       "      <td>Humko Kabhi Samjhata Hai.Hum DilKo Kabhi Samjh...</td>\n",
       "      <td>[MannKiBaat, Sobtian, FanGal, BarunSobti]</td>\n",
       "    </tr>\n",
       "    <tr>\n",
       "      <th>3</th>\n",
       "      <td>भारत के वीर सपूतों कर लो कुछ तूफानी,\\nखुद को आ...</td>\n",
       "      <td>2014-10-06</td>\n",
       "      <td>2014</td>\n",
       "      <td>,</td>\n",
       "      <td>[MannKiBaat]</td>\n",
       "    </tr>\n",
       "    <tr>\n",
       "      <th>4</th>\n",
       "      <td>#Congress lodges complaint with #EC against #M...</td>\n",
       "      <td>2014-10-06</td>\n",
       "      <td>2014</td>\n",
       "      <td>lodges complaint with against 's program</td>\n",
       "      <td>[Congress, EC, Modi, MannKiBaat]</td>\n",
       "    </tr>\n",
       "    <tr>\n",
       "      <th>...</th>\n",
       "      <td>...</td>\n",
       "      <td>...</td>\n",
       "      <td>...</td>\n",
       "      <td>...</td>\n",
       "      <td>...</td>\n",
       "    </tr>\n",
       "    <tr>\n",
       "      <th>15188</th>\n",
       "      <td>#MannKiBaat\\nWorld’s largest vaccination progr...</td>\n",
       "      <td>2021-03-30</td>\n",
       "      <td>2021</td>\n",
       "      <td>largest vaccination programmevia NaMo App</td>\n",
       "      <td>[MannKiBaat]</td>\n",
       "    </tr>\n",
       "    <tr>\n",
       "      <th>15189</th>\n",
       "      <td>#MannKiBaat\\nSacrifices that inspire us toward...</td>\n",
       "      <td>2021-03-30</td>\n",
       "      <td>2021</td>\n",
       "      <td>that inspire us towards our dutiesvia NaMo App</td>\n",
       "      <td>[MannKiBaat]</td>\n",
       "    </tr>\n",
       "    <tr>\n",
       "      <th>15190</th>\n",
       "      <td>#MannKiBaat\\nNari Shakti leading from the fron...</td>\n",
       "      <td>2021-03-30</td>\n",
       "      <td>2021</td>\n",
       "      <td>Shakti leading from the frontvia NaMo App</td>\n",
       "      <td>[MannKiBaat]</td>\n",
       "    </tr>\n",
       "    <tr>\n",
       "      <th>15191</th>\n",
       "      <td>#MannKiBaat\\n75th episode at the start of 75 y...</td>\n",
       "      <td>2021-03-30</td>\n",
       "      <td>2021</td>\n",
       "      <td>episode at the start of years of independencev...</td>\n",
       "      <td>[MannKiBaat]</td>\n",
       "    </tr>\n",
       "    <tr>\n",
       "      <th>15192</th>\n",
       "      <td>#MannKiBaat\\nIndia’s Nari Shakti excels at spo...</td>\n",
       "      <td>2021-03-30</td>\n",
       "      <td>2021</td>\n",
       "      <td>Nari Shakti excels at sportsvia NaMo App</td>\n",
       "      <td>[MannKiBaat]</td>\n",
       "    </tr>\n",
       "  </tbody>\n",
       "</table>\n",
       "<p>15193 rows × 5 columns</p>\n",
       "</div>"
      ],
      "text/plain": [
       "                                                    Text        Date  Year  \\\n",
       "0      No violation by @narendramodi :Election Commis...  2014-10-11  2014   \n",
       "1      #PMModi's #MannKiBaat radio show: #ElectionCom...  2014-10-10  2014   \n",
       "2      #MannKiBaat #Sobtian #FanGal\\nDil Humko Kabhi ...  2014-10-10  2014   \n",
       "3      भारत के वीर सपूतों कर लो कुछ तूफानी,\\nखुद को आ...  2014-10-06  2014   \n",
       "4      #Congress lodges complaint with #EC against #M...  2014-10-06  2014   \n",
       "...                                                  ...         ...   ...   \n",
       "15188  #MannKiBaat\\nWorld’s largest vaccination progr...  2021-03-30  2021   \n",
       "15189  #MannKiBaat\\nSacrifices that inspire us toward...  2021-03-30  2021   \n",
       "15190  #MannKiBaat\\nNari Shakti leading from the fron...  2021-03-30  2021   \n",
       "15191  #MannKiBaat\\n75th episode at the start of 75 y...  2021-03-30  2021   \n",
       "15192  #MannKiBaat\\nIndia’s Nari Shakti excels at spo...  2021-03-30  2021   \n",
       "\n",
       "                                                 Cleaned  \\\n",
       "0                   No violation by :Election Commission   \n",
       "1      's radio show: says broadcast did not violate ...   \n",
       "2      Humko Kabhi Samjhata Hai.Hum DilKo Kabhi Samjh...   \n",
       "3                                                      ,   \n",
       "4               lodges complaint with against 's program   \n",
       "...                                                  ...   \n",
       "15188          largest vaccination programmevia NaMo App   \n",
       "15189     that inspire us towards our dutiesvia NaMo App   \n",
       "15190          Shakti leading from the frontvia NaMo App   \n",
       "15191  episode at the start of years of independencev...   \n",
       "15192           Nari Shakti excels at sportsvia NaMo App   \n",
       "\n",
       "                                         hashtag  \n",
       "0                                   [MannKiBaat]  \n",
       "1       [PMModi, MannKiBaat, ElectionCommission]  \n",
       "2      [MannKiBaat, Sobtian, FanGal, BarunSobti]  \n",
       "3                                   [MannKiBaat]  \n",
       "4               [Congress, EC, Modi, MannKiBaat]  \n",
       "...                                          ...  \n",
       "15188                               [MannKiBaat]  \n",
       "15189                               [MannKiBaat]  \n",
       "15190                               [MannKiBaat]  \n",
       "15191                               [MannKiBaat]  \n",
       "15192                               [MannKiBaat]  \n",
       "\n",
       "[15193 rows x 5 columns]"
      ]
     },
     "execution_count": 21,
     "metadata": {},
     "output_type": "execute_result"
    }
   ],
   "source": [
    "df"
   ]
  },
  {
   "cell_type": "code",
   "execution_count": 22,
   "metadata": {},
   "outputs": [
    {
     "data": {
      "text/plain": [
       "'No violation by :Election Commission'"
      ]
     },
     "execution_count": 22,
     "metadata": {},
     "output_type": "execute_result"
    }
   ],
   "source": [
    "pp.tokenize(df['Cleaned'][0])"
   ]
  },
  {
   "cell_type": "code",
   "execution_count": 23,
   "metadata": {},
   "outputs": [
    {
     "name": "stderr",
     "output_type": "stream",
     "text": [
      "[nltk_data] Downloading package wordnet to\n",
      "[nltk_data]     C:\\Users\\anush\\AppData\\Roaming\\nltk_data...\n",
      "[nltk_data]   Package wordnet is already up-to-date!\n",
      "[nltk_data] Downloading package stopwords to\n",
      "[nltk_data]     C:\\Users\\anush\\AppData\\Roaming\\nltk_data...\n",
      "[nltk_data]   Package stopwords is already up-to-date!\n"
     ]
    }
   ],
   "source": [
    "import nltk\n",
    "from nltk import word_tokenize, FreqDist\n",
    "from nltk.corpus import stopwords\n",
    "from nltk.stem import WordNetLemmatizer\n",
    "nltk.download\n",
    "nltk.download('wordnet')\n",
    "nltk.download('stopwords')\n",
    "from nltk.tokenize import TweetTokenizer"
   ]
  },
  {
   "cell_type": "code",
   "execution_count": 27,
   "metadata": {},
   "outputs": [
    {
     "data": {
      "text/plain": [
       "'If inch chati was PM of India,GOI would hav givn strong answers to PAK,but current PM is busy with no KamKiBaat'"
      ]
     },
     "execution_count": 27,
     "metadata": {},
     "output_type": "execute_result"
    }
   ],
   "source": [
    "df['Cleaned'][6435].replace('\\d+', '')\n",
    "# lower_text = data.str.lower()"
   ]
  },
  {
   "cell_type": "code",
   "execution_count": 29,
   "metadata": {},
   "outputs": [
    {
     "name": "stdout",
     "output_type": "stream",
     "text": [
      "['No', 'violation', 'by', ':', 'Election', 'Commission']\n"
     ]
    }
   ],
   "source": [
    "from nltk.tokenize import word_tokenize\n",
    "\n",
    "tokenized_word=word_tokenize(df['Cleaned'][0])\n",
    "print(tokenized_word)"
   ]
  },
  {
   "cell_type": "code",
   "execution_count": null,
   "metadata": {},
   "outputs": [],
   "source": []
  }
 ],
 "metadata": {
  "kernelspec": {
   "display_name": "Python 3",
   "language": "python",
   "name": "python3"
  },
  "language_info": {
   "codemirror_mode": {
    "name": "ipython",
    "version": 3
   },
   "file_extension": ".py",
   "mimetype": "text/x-python",
   "name": "python",
   "nbconvert_exporter": "python",
   "pygments_lexer": "ipython3",
   "version": "3.8.5"
  }
 },
 "nbformat": 4,
 "nbformat_minor": 4
}
