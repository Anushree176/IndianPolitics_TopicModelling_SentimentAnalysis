{
 "cells": [
  {
   "cell_type": "markdown",
   "metadata": {},
   "source": [
    "# Extracting Twitter tweets with snscrape library\n",
    "---"
   ]
  },
  {
   "cell_type": "code",
   "execution_count": null,
   "metadata": {},
   "outputs": [],
   "source": [
    "!pip install git+https://github.com/JustAnotherArchivist/snscrape.git\n",
    "import snscrape.modules.twitter as sntwitter\n",
    "import pandas as pd"
   ]
  },
  {
   "cell_type": "code",
   "execution_count": null,
   "metadata": {},
   "outputs": [],
   "source": [
    "tweets_list2 = []\n",
    "\n",
    "for i,tweet in enumerate(sntwitter.TwitterSearchScraper('#mannkibaat since:2021-03-28 until:2021-03-31').get_items()):\n",
    "    if i>200:\n",
    "        break\n",
    "    tweets_list2.append([tweet.date, tweet.id, tweet.content, tweet.user.username])\n",
    "    \n",
    "tweets_df2 = pd.DataFrame(tweets_list2, columns=['Datetime', 'Tweet Id', 'Text', 'Username'])"
   ]
  },
  {
   "cell_type": "code",
   "execution_count": null,
   "metadata": {},
   "outputs": [],
   "source": [
    "twitter_tweets.append(tweets_df2)\n",
    "\n",
    "merged = pd.concat(twitter_tweets, ignore_index=True)\n",
    "merged.to_csv(\"twitter_all_tweets.csv\")"
   ]
  },
  {
   "cell_type": "markdown",
   "metadata": {},
   "source": [
    "# Preprocessing of the tweets\n",
    "---"
   ]
  },
  {
   "cell_type": "code",
   "execution_count": 2,
   "metadata": {},
   "outputs": [],
   "source": [
    "import pandas as pd\n",
    "import re\n",
    "import preprocessor as pp\n",
    "\n",
    "df = pd.read_csv('Datasets/twitter_all_tweets.csv')"
   ]
  },
  {
   "cell_type": "code",
   "execution_count": 3,
   "metadata": {},
   "outputs": [
    {
     "data": {
      "text/html": [
       "<div>\n",
       "<style scoped>\n",
       "    .dataframe tbody tr th:only-of-type {\n",
       "        vertical-align: middle;\n",
       "    }\n",
       "\n",
       "    .dataframe tbody tr th {\n",
       "        vertical-align: top;\n",
       "    }\n",
       "\n",
       "    .dataframe thead th {\n",
       "        text-align: right;\n",
       "    }\n",
       "</style>\n",
       "<table border=\"1\" class=\"dataframe\">\n",
       "  <thead>\n",
       "    <tr style=\"text-align: right;\">\n",
       "      <th></th>\n",
       "      <th>Unnamed: 0</th>\n",
       "      <th>Datetime</th>\n",
       "      <th>Tweet Id</th>\n",
       "      <th>Text</th>\n",
       "      <th>Username</th>\n",
       "    </tr>\n",
       "  </thead>\n",
       "  <tbody>\n",
       "    <tr>\n",
       "      <th>0</th>\n",
       "      <td>0</td>\n",
       "      <td>2014-10-11 06:03:11+00:00</td>\n",
       "      <td>520816862917976064</td>\n",
       "      <td>No violation by @narendramodi :Election Commis...</td>\n",
       "      <td>fpjindia</td>\n",
       "    </tr>\n",
       "    <tr>\n",
       "      <th>1</th>\n",
       "      <td>1</td>\n",
       "      <td>2014-10-10 13:09:42+00:00</td>\n",
       "      <td>520561814623748096</td>\n",
       "      <td>#PMModi's #MannKiBaat radio show: #ElectionCom...</td>\n",
       "      <td>raghvendra_rao</td>\n",
       "    </tr>\n",
       "    <tr>\n",
       "      <th>2</th>\n",
       "      <td>2</td>\n",
       "      <td>2014-10-10 06:17:07+00:00</td>\n",
       "      <td>520457982346145792</td>\n",
       "      <td>#MannKiBaat #Sobtian #FanGal\\nDil Humko Kabhi ...</td>\n",
       "      <td>BSI_Love_You</td>\n",
       "    </tr>\n",
       "    <tr>\n",
       "      <th>3</th>\n",
       "      <td>3</td>\n",
       "      <td>2014-10-06 15:33:52+00:00</td>\n",
       "      <td>519148543693422592</td>\n",
       "      <td>भारत के वीर सपूतों कर लो कुछ तूफानी,\\nखुद को आ...</td>\n",
       "      <td>drunkenalpha</td>\n",
       "    </tr>\n",
       "    <tr>\n",
       "      <th>4</th>\n",
       "      <td>4</td>\n",
       "      <td>2014-10-06 14:49:35+00:00</td>\n",
       "      <td>519137397892599808</td>\n",
       "      <td>#Congress lodges complaint with #EC against #M...</td>\n",
       "      <td>nnis_sports</td>\n",
       "    </tr>\n",
       "    <tr>\n",
       "      <th>...</th>\n",
       "      <td>...</td>\n",
       "      <td>...</td>\n",
       "      <td>...</td>\n",
       "      <td>...</td>\n",
       "      <td>...</td>\n",
       "    </tr>\n",
       "    <tr>\n",
       "      <th>15188</th>\n",
       "      <td>15188</td>\n",
       "      <td>2021-03-30 10:33:34+00:00</td>\n",
       "      <td>1376845048239714306</td>\n",
       "      <td>#MannKiBaat\\nWorld’s largest vaccination progr...</td>\n",
       "      <td>GshankarSriva12</td>\n",
       "    </tr>\n",
       "    <tr>\n",
       "      <th>15189</th>\n",
       "      <td>15189</td>\n",
       "      <td>2021-03-30 10:33:30+00:00</td>\n",
       "      <td>1376845028677443584</td>\n",
       "      <td>#MannKiBaat\\nSacrifices that inspire us toward...</td>\n",
       "      <td>GshankarSriva12</td>\n",
       "    </tr>\n",
       "    <tr>\n",
       "      <th>15190</th>\n",
       "      <td>15190</td>\n",
       "      <td>2021-03-30 10:33:29+00:00</td>\n",
       "      <td>1376845027150688260</td>\n",
       "      <td>#MannKiBaat\\nNari Shakti leading from the fron...</td>\n",
       "      <td>GshankarSriva12</td>\n",
       "    </tr>\n",
       "    <tr>\n",
       "      <th>15191</th>\n",
       "      <td>15191</td>\n",
       "      <td>2021-03-30 10:33:29+00:00</td>\n",
       "      <td>1376845025091280899</td>\n",
       "      <td>#MannKiBaat\\n75th episode at the start of 75 y...</td>\n",
       "      <td>GshankarSriva12</td>\n",
       "    </tr>\n",
       "    <tr>\n",
       "      <th>15192</th>\n",
       "      <td>15192</td>\n",
       "      <td>2021-03-30 10:33:27+00:00</td>\n",
       "      <td>1376845016576913409</td>\n",
       "      <td>#MannKiBaat\\nIndia’s Nari Shakti excels at spo...</td>\n",
       "      <td>GshankarSriva12</td>\n",
       "    </tr>\n",
       "  </tbody>\n",
       "</table>\n",
       "<p>15193 rows × 5 columns</p>\n",
       "</div>"
      ],
      "text/plain": [
       "       Unnamed: 0                   Datetime             Tweet Id  \\\n",
       "0               0  2014-10-11 06:03:11+00:00   520816862917976064   \n",
       "1               1  2014-10-10 13:09:42+00:00   520561814623748096   \n",
       "2               2  2014-10-10 06:17:07+00:00   520457982346145792   \n",
       "3               3  2014-10-06 15:33:52+00:00   519148543693422592   \n",
       "4               4  2014-10-06 14:49:35+00:00   519137397892599808   \n",
       "...           ...                        ...                  ...   \n",
       "15188       15188  2021-03-30 10:33:34+00:00  1376845048239714306   \n",
       "15189       15189  2021-03-30 10:33:30+00:00  1376845028677443584   \n",
       "15190       15190  2021-03-30 10:33:29+00:00  1376845027150688260   \n",
       "15191       15191  2021-03-30 10:33:29+00:00  1376845025091280899   \n",
       "15192       15192  2021-03-30 10:33:27+00:00  1376845016576913409   \n",
       "\n",
       "                                                    Text         Username  \n",
       "0      No violation by @narendramodi :Election Commis...         fpjindia  \n",
       "1      #PMModi's #MannKiBaat radio show: #ElectionCom...   raghvendra_rao  \n",
       "2      #MannKiBaat #Sobtian #FanGal\\nDil Humko Kabhi ...     BSI_Love_You  \n",
       "3      भारत के वीर सपूतों कर लो कुछ तूफानी,\\nखुद को आ...     drunkenalpha  \n",
       "4      #Congress lodges complaint with #EC against #M...      nnis_sports  \n",
       "...                                                  ...              ...  \n",
       "15188  #MannKiBaat\\nWorld’s largest vaccination progr...  GshankarSriva12  \n",
       "15189  #MannKiBaat\\nSacrifices that inspire us toward...  GshankarSriva12  \n",
       "15190  #MannKiBaat\\nNari Shakti leading from the fron...  GshankarSriva12  \n",
       "15191  #MannKiBaat\\n75th episode at the start of 75 y...  GshankarSriva12  \n",
       "15192  #MannKiBaat\\nIndia’s Nari Shakti excels at spo...  GshankarSriva12  \n",
       "\n",
       "[15193 rows x 5 columns]"
      ]
     },
     "execution_count": 3,
     "metadata": {},
     "output_type": "execute_result"
    }
   ],
   "source": [
    "df"
   ]
  },
  {
   "cell_type": "code",
   "execution_count": 4,
   "metadata": {},
   "outputs": [],
   "source": [
    "def get_date(text) :\n",
    "    return text[:10]\n",
    "def get_year(text):\n",
    "    return text[:4]\n",
    "\n",
    "df['Date'] = df['Datetime'].apply(get_date)\n",
    "df['Year'] = df['Datetime'].apply(get_year)\n",
    "\n",
    "df = df.drop(['Unnamed: 0', 'Datetime','Tweet Id','Username'], axis=1)"
   ]
  },
  {
   "cell_type": "code",
   "execution_count": 5,
   "metadata": {},
   "outputs": [],
   "source": [
    "df['hashtag'] = df['Text'].apply(lambda x: re.findall(r\"#(\\w+)\", x))"
   ]
  },
  {
   "cell_type": "code",
   "execution_count": 6,
   "metadata": {},
   "outputs": [],
   "source": [
    "def clean_tweets(text) :\n",
    "#     pp.set_options(pp.OPT.URL, pp.OPT.EMOJI, pp.OPT.MENTION, pp.OPT.SMILEY, pp.OPT.NUMBER)\n",
    "    text = pp.clean(text)\n",
    "    return text"
   ]
  },
  {
   "cell_type": "code",
   "execution_count": 7,
   "metadata": {},
   "outputs": [],
   "source": [
    "df['Cleaned'] = df['Text'].apply(clean_tweets)"
   ]
  },
  {
   "cell_type": "code",
   "execution_count": 8,
   "metadata": {},
   "outputs": [],
   "source": [
    "delete = list(df[df['Cleaned'] == ''].index)\n",
    "new_df = df.drop(delete)\n",
    "new_df = new_df.reset_index(drop=True)\n",
    "\n",
    "new_df['Cleaned'] = new_df['Cleaned'].apply(lambda x: ' '.join([w for w in x.split() if len(w)> 3]))"
   ]
  },
  {
   "cell_type": "code",
   "execution_count": 9,
   "metadata": {},
   "outputs": [],
   "source": [
    "new_df['Cleaned'] = new_df['Cleaned'].astype(str).str.replace('\\d+', '')\n",
    "new_df['Cleaned'] = new_df['Cleaned'].str.lower()"
   ]
  },
  {
   "cell_type": "code",
   "execution_count": 10,
   "metadata": {},
   "outputs": [],
   "source": [
    "def remove_punctuation(words):\n",
    "    new_words = []\n",
    "    for word in words:\n",
    "        new_word = re.sub(r'[^\\w\\s]', '', (word))\n",
    "        new_words.append(new_word)\n",
    "    return new_words"
   ]
  },
  {
   "cell_type": "code",
   "execution_count": 11,
   "metadata": {},
   "outputs": [
    {
     "data": {
      "text/plain": [
       "0                            violation election commission\n",
       "1        radio show says broadcast violate model code c...\n",
       "2         humko kabhi samjhata haihum dilko kabhi samjhate\n",
       "3                                                         \n",
       "4                    lodges complaint with against program\n",
       "                               ...                        \n",
       "13210                largest vaccination programmevia namo\n",
       "13211                  that inspire towards dutiesvia namo\n",
       "13212                    shakti leading from frontvia namo\n",
       "13213             episode start years independencevia namo\n",
       "13214                    nari shakti excels sportsvia namo\n",
       "Name: Cleaned, Length: 13215, dtype: object"
      ]
     },
     "execution_count": 11,
     "metadata": {},
     "output_type": "execute_result"
    }
   ],
   "source": [
    "new_df['Cleaned'] = remove_punctuation(new_df['Cleaned'][0:])\n",
    "new_df['Cleaned'] = new_df['Cleaned'].apply(lambda x: ' '.join([w for w in x.split() if len(w)> 3]))\n",
    "new_df['Cleaned']"
   ]
  },
  {
   "cell_type": "code",
   "execution_count": 12,
   "metadata": {},
   "outputs": [
    {
     "data": {
      "text/html": [
       "<div>\n",
       "<style scoped>\n",
       "    .dataframe tbody tr th:only-of-type {\n",
       "        vertical-align: middle;\n",
       "    }\n",
       "\n",
       "    .dataframe tbody tr th {\n",
       "        vertical-align: top;\n",
       "    }\n",
       "\n",
       "    .dataframe thead th {\n",
       "        text-align: right;\n",
       "    }\n",
       "</style>\n",
       "<table border=\"1\" class=\"dataframe\">\n",
       "  <thead>\n",
       "    <tr style=\"text-align: right;\">\n",
       "      <th></th>\n",
       "      <th>Text</th>\n",
       "      <th>Date</th>\n",
       "      <th>Year</th>\n",
       "      <th>hashtag</th>\n",
       "      <th>Cleaned</th>\n",
       "    </tr>\n",
       "  </thead>\n",
       "  <tbody>\n",
       "    <tr>\n",
       "      <th>0</th>\n",
       "      <td>No violation by @narendramodi :Election Commis...</td>\n",
       "      <td>2014-10-11</td>\n",
       "      <td>2014</td>\n",
       "      <td>[MannKiBaat]</td>\n",
       "      <td>violation election commission</td>\n",
       "    </tr>\n",
       "    <tr>\n",
       "      <th>1</th>\n",
       "      <td>#PMModi's #MannKiBaat radio show: #ElectionCom...</td>\n",
       "      <td>2014-10-10</td>\n",
       "      <td>2014</td>\n",
       "      <td>[PMModi, MannKiBaat, ElectionCommission]</td>\n",
       "      <td>radio show says broadcast violate model code c...</td>\n",
       "    </tr>\n",
       "    <tr>\n",
       "      <th>2</th>\n",
       "      <td>#MannKiBaat #Sobtian #FanGal\\nDil Humko Kabhi ...</td>\n",
       "      <td>2014-10-10</td>\n",
       "      <td>2014</td>\n",
       "      <td>[MannKiBaat, Sobtian, FanGal, BarunSobti]</td>\n",
       "      <td>humko kabhi samjhata haihum dilko kabhi samjhate</td>\n",
       "    </tr>\n",
       "    <tr>\n",
       "      <th>3</th>\n",
       "      <td>भारत के वीर सपूतों कर लो कुछ तूफानी,\\nखुद को आ...</td>\n",
       "      <td>2014-10-06</td>\n",
       "      <td>2014</td>\n",
       "      <td>[MannKiBaat]</td>\n",
       "      <td></td>\n",
       "    </tr>\n",
       "    <tr>\n",
       "      <th>4</th>\n",
       "      <td>#Congress lodges complaint with #EC against #M...</td>\n",
       "      <td>2014-10-06</td>\n",
       "      <td>2014</td>\n",
       "      <td>[Congress, EC, Modi, MannKiBaat]</td>\n",
       "      <td>lodges complaint with against program</td>\n",
       "    </tr>\n",
       "    <tr>\n",
       "      <th>...</th>\n",
       "      <td>...</td>\n",
       "      <td>...</td>\n",
       "      <td>...</td>\n",
       "      <td>...</td>\n",
       "      <td>...</td>\n",
       "    </tr>\n",
       "    <tr>\n",
       "      <th>13210</th>\n",
       "      <td>#MannKiBaat\\nWorld’s largest vaccination progr...</td>\n",
       "      <td>2021-03-30</td>\n",
       "      <td>2021</td>\n",
       "      <td>[MannKiBaat]</td>\n",
       "      <td>largest vaccination programmevia namo</td>\n",
       "    </tr>\n",
       "    <tr>\n",
       "      <th>13211</th>\n",
       "      <td>#MannKiBaat\\nSacrifices that inspire us toward...</td>\n",
       "      <td>2021-03-30</td>\n",
       "      <td>2021</td>\n",
       "      <td>[MannKiBaat]</td>\n",
       "      <td>that inspire towards dutiesvia namo</td>\n",
       "    </tr>\n",
       "    <tr>\n",
       "      <th>13212</th>\n",
       "      <td>#MannKiBaat\\nNari Shakti leading from the fron...</td>\n",
       "      <td>2021-03-30</td>\n",
       "      <td>2021</td>\n",
       "      <td>[MannKiBaat]</td>\n",
       "      <td>shakti leading from frontvia namo</td>\n",
       "    </tr>\n",
       "    <tr>\n",
       "      <th>13213</th>\n",
       "      <td>#MannKiBaat\\n75th episode at the start of 75 y...</td>\n",
       "      <td>2021-03-30</td>\n",
       "      <td>2021</td>\n",
       "      <td>[MannKiBaat]</td>\n",
       "      <td>episode start years independencevia namo</td>\n",
       "    </tr>\n",
       "    <tr>\n",
       "      <th>13214</th>\n",
       "      <td>#MannKiBaat\\nIndia’s Nari Shakti excels at spo...</td>\n",
       "      <td>2021-03-30</td>\n",
       "      <td>2021</td>\n",
       "      <td>[MannKiBaat]</td>\n",
       "      <td>nari shakti excels sportsvia namo</td>\n",
       "    </tr>\n",
       "  </tbody>\n",
       "</table>\n",
       "<p>13215 rows × 5 columns</p>\n",
       "</div>"
      ],
      "text/plain": [
       "                                                    Text        Date  Year  \\\n",
       "0      No violation by @narendramodi :Election Commis...  2014-10-11  2014   \n",
       "1      #PMModi's #MannKiBaat radio show: #ElectionCom...  2014-10-10  2014   \n",
       "2      #MannKiBaat #Sobtian #FanGal\\nDil Humko Kabhi ...  2014-10-10  2014   \n",
       "3      भारत के वीर सपूतों कर लो कुछ तूफानी,\\nखुद को आ...  2014-10-06  2014   \n",
       "4      #Congress lodges complaint with #EC against #M...  2014-10-06  2014   \n",
       "...                                                  ...         ...   ...   \n",
       "13210  #MannKiBaat\\nWorld’s largest vaccination progr...  2021-03-30  2021   \n",
       "13211  #MannKiBaat\\nSacrifices that inspire us toward...  2021-03-30  2021   \n",
       "13212  #MannKiBaat\\nNari Shakti leading from the fron...  2021-03-30  2021   \n",
       "13213  #MannKiBaat\\n75th episode at the start of 75 y...  2021-03-30  2021   \n",
       "13214  #MannKiBaat\\nIndia’s Nari Shakti excels at spo...  2021-03-30  2021   \n",
       "\n",
       "                                         hashtag  \\\n",
       "0                                   [MannKiBaat]   \n",
       "1       [PMModi, MannKiBaat, ElectionCommission]   \n",
       "2      [MannKiBaat, Sobtian, FanGal, BarunSobti]   \n",
       "3                                   [MannKiBaat]   \n",
       "4               [Congress, EC, Modi, MannKiBaat]   \n",
       "...                                          ...   \n",
       "13210                               [MannKiBaat]   \n",
       "13211                               [MannKiBaat]   \n",
       "13212                               [MannKiBaat]   \n",
       "13213                               [MannKiBaat]   \n",
       "13214                               [MannKiBaat]   \n",
       "\n",
       "                                                 Cleaned  \n",
       "0                          violation election commission  \n",
       "1      radio show says broadcast violate model code c...  \n",
       "2       humko kabhi samjhata haihum dilko kabhi samjhate  \n",
       "3                                                         \n",
       "4                  lodges complaint with against program  \n",
       "...                                                  ...  \n",
       "13210              largest vaccination programmevia namo  \n",
       "13211                that inspire towards dutiesvia namo  \n",
       "13212                  shakti leading from frontvia namo  \n",
       "13213           episode start years independencevia namo  \n",
       "13214                  nari shakti excels sportsvia namo  \n",
       "\n",
       "[13215 rows x 5 columns]"
      ]
     },
     "execution_count": 12,
     "metadata": {},
     "output_type": "execute_result"
    }
   ],
   "source": [
    "new_df"
   ]
  },
  {
   "cell_type": "code",
   "execution_count": 16,
   "metadata": {},
   "outputs": [
    {
     "data": {
      "text/plain": [
       "(10331, 5)"
      ]
     },
     "execution_count": 16,
     "metadata": {},
     "output_type": "execute_result"
    }
   ],
   "source": [
    "del_twt = list(new_df[new_df['Cleaned'] == ''].index)\n",
    "new_df = new_df.drop(del_twt)\n",
    "new_df.shape"
   ]
  },
  {
   "cell_type": "code",
   "execution_count": 17,
   "metadata": {},
   "outputs": [],
   "source": [
    "new_df.to_csv('Datasets/processed_tweets.csv')"
   ]
  },
  {
   "cell_type": "code",
   "execution_count": 21,
   "metadata": {},
   "outputs": [
    {
     "data": {
      "image/png": "[encoded data removed]",
      "text/plain": [
       "<Figure size 432x288 with 1 Axes>"
      ]
     },
     "metadata": {
      "needs_background": "light"
     },
     "output_type": "display_data"
    },
    {
     "data": {
      "text/plain": [
       "<wordcloud.wordcloud.WordCloud at 0x1f108e67970>"
      ]
     },
     "execution_count": 21,
     "metadata": {},
     "output_type": "execute_result"
    }
   ],
   "source": [
    "import matplotlib.pyplot as plt\n",
    "from wordcloud import WordCloud, STOPWORDS, ImageColorGenerator\n",
    "\n",
    "text = \" \".join(review for review in new_df.Cleaned)\n",
    "\n",
    "stopwords = set(STOPWORDS)\n",
    "stopwords.update([\"narendra\", \"modi\", \"mann\", \"baat\", \"namo\", \"prime\", \"minister\", \"narendra modi\"])\n",
    "\n",
    "wordcloud = WordCloud(stopwords=stopwords, width=1000, height=400).generate(text)\n",
    "\n",
    "# max_font_size=50, max_words=100, background_color=\"white\"\n",
    "plt.imshow(wordcloud, interpolation='bilinear')\n",
    "plt.axis(\"off\")\n",
    "plt.show()\n",
    "wordcloud.to_file(\"cleaned.png\")"
   ]
  },
  {
   "cell_type": "code",
   "execution_count": 22,
   "metadata": {},
   "outputs": [],
   "source": [
    "import nltk\n",
    "from nltk import word_tokenize, FreqDist\n",
    "from nltk.corpus import stopwords\n",
    "from nltk.stem import WordNetLemmatizer\n",
    "nltk.download\n",
    "# nltk.download('wordnet')\n",
    "# nltk.download('stopwords')\n",
    "from nltk.tokenize import TweetTokenizer"
   ]
  },
  {
   "cell_type": "code",
   "execution_count": 23,
   "metadata": {},
   "outputs": [],
   "source": [
    "lemmatizer = nltk.stem.WordNetLemmatizer()\n",
    "w_tokenizer = TweetTokenizer()\n",
    "\n",
    "def lemmatize_text(text):\n",
    "    return [(lemmatizer.lemmatize(w)) for w in w_tokenizer.tokenize((text))]"
   ]
  },
  {
   "cell_type": "code",
   "execution_count": 24,
   "metadata": {},
   "outputs": [],
   "source": [
    "new_df['Cleaned'] = new_df['Cleaned'].apply(lemmatize_text)"
   ]
  },
  {
   "cell_type": "code",
   "execution_count": 29,
   "metadata": {},
   "outputs": [
    {
     "data": {
      "text/plain": [
       "0                        [violation, election, commission]\n",
       "1        [radio, show, say, broadcast, violate, model, ...\n",
       "2        [humko, kabhi, samjhata, haihum, dilko, kabhi,...\n",
       "3                              [lodge, complaint, program]\n",
       "4                [lodge, complaint, program, india, radio]\n",
       "                               ...                        \n",
       "12118                 [largest, vaccination, programmevia]\n",
       "12119                        [inspire, towards, dutiesvia]\n",
       "12120                          [shakti, leading, frontvia]\n",
       "12121              [episode, start, year, independencevia]\n",
       "12122                    [nari, shakti, excels, sportsvia]\n",
       "Name: Cleaned, Length: 12123, dtype: object"
      ]
     },
     "execution_count": 29,
     "metadata": {},
     "output_type": "execute_result"
    }
   ],
   "source": [
    "stop_words = set(stopwords.words('english'))\n",
    "stop_words.update([\"narendra\", \"modi\", \"mann\", \"baat\", \"namo\", \"prime\", \"minister\", \"narendra modi\"])\n",
    "\n",
    "new_df['Cleaned'] = new_df['Cleaned'].apply(lambda x: [item for item in x if item not in stop_words])\n",
    "new_df['Cleaned']"
   ]
  },
  {
   "cell_type": "code",
   "execution_count": 30,
   "metadata": {
    "scrolled": true
   },
   "outputs": [
    {
     "data": {
      "text/html": [
       "<div>\n",
       "<style scoped>\n",
       "    .dataframe tbody tr th:only-of-type {\n",
       "        vertical-align: middle;\n",
       "    }\n",
       "\n",
       "    .dataframe tbody tr th {\n",
       "        vertical-align: top;\n",
       "    }\n",
       "\n",
       "    .dataframe thead th {\n",
       "        text-align: right;\n",
       "    }\n",
       "</style>\n",
       "<table border=\"1\" class=\"dataframe\">\n",
       "  <thead>\n",
       "    <tr style=\"text-align: right;\">\n",
       "      <th></th>\n",
       "      <th>Text</th>\n",
       "      <th>Date</th>\n",
       "      <th>Year</th>\n",
       "      <th>hashtag</th>\n",
       "      <th>Cleaned</th>\n",
       "    </tr>\n",
       "  </thead>\n",
       "  <tbody>\n",
       "    <tr>\n",
       "      <th>0</th>\n",
       "      <td>No violation by @narendramodi :Election Commis...</td>\n",
       "      <td>2014-10-11</td>\n",
       "      <td>2014</td>\n",
       "      <td>[MannKiBaat]</td>\n",
       "      <td>[violation, election, commission]</td>\n",
       "    </tr>\n",
       "    <tr>\n",
       "      <th>1</th>\n",
       "      <td>#PMModi's #MannKiBaat radio show: #ElectionCom...</td>\n",
       "      <td>2014-10-10</td>\n",
       "      <td>2014</td>\n",
       "      <td>[PMModi, MannKiBaat, ElectionCommission]</td>\n",
       "      <td>[radio, show, say, broadcast, violate, model, ...</td>\n",
       "    </tr>\n",
       "    <tr>\n",
       "      <th>2</th>\n",
       "      <td>#MannKiBaat #Sobtian #FanGal\\nDil Humko Kabhi ...</td>\n",
       "      <td>2014-10-10</td>\n",
       "      <td>2014</td>\n",
       "      <td>[MannKiBaat, Sobtian, FanGal, BarunSobti]</td>\n",
       "      <td>[humko, kabhi, samjhata, haihum, dilko, kabhi,...</td>\n",
       "    </tr>\n",
       "    <tr>\n",
       "      <th>3</th>\n",
       "      <td>#Congress lodges complaint with #EC against #M...</td>\n",
       "      <td>2014-10-06</td>\n",
       "      <td>2014</td>\n",
       "      <td>[Congress, EC, Modi, MannKiBaat]</td>\n",
       "      <td>[lodge, complaint, program]</td>\n",
       "    </tr>\n",
       "    <tr>\n",
       "      <th>4</th>\n",
       "      <td>#Congress lodges complaint with EC against PM ...</td>\n",
       "      <td>2014-10-06</td>\n",
       "      <td>2014</td>\n",
       "      <td>[Congress, NarendraModi, MannKiBaat]</td>\n",
       "      <td>[lodge, complaint, program, india, radio]</td>\n",
       "    </tr>\n",
       "    <tr>\n",
       "      <th>...</th>\n",
       "      <td>...</td>\n",
       "      <td>...</td>\n",
       "      <td>...</td>\n",
       "      <td>...</td>\n",
       "      <td>...</td>\n",
       "    </tr>\n",
       "    <tr>\n",
       "      <th>12118</th>\n",
       "      <td>#MannKiBaat\\nWorld’s largest vaccination progr...</td>\n",
       "      <td>2021-03-30</td>\n",
       "      <td>2021</td>\n",
       "      <td>[MannKiBaat]</td>\n",
       "      <td>[largest, vaccination, programmevia]</td>\n",
       "    </tr>\n",
       "    <tr>\n",
       "      <th>12119</th>\n",
       "      <td>#MannKiBaat\\nSacrifices that inspire us toward...</td>\n",
       "      <td>2021-03-30</td>\n",
       "      <td>2021</td>\n",
       "      <td>[MannKiBaat]</td>\n",
       "      <td>[inspire, towards, dutiesvia]</td>\n",
       "    </tr>\n",
       "    <tr>\n",
       "      <th>12120</th>\n",
       "      <td>#MannKiBaat\\nNari Shakti leading from the fron...</td>\n",
       "      <td>2021-03-30</td>\n",
       "      <td>2021</td>\n",
       "      <td>[MannKiBaat]</td>\n",
       "      <td>[shakti, leading, frontvia]</td>\n",
       "    </tr>\n",
       "    <tr>\n",
       "      <th>12121</th>\n",
       "      <td>#MannKiBaat\\n75th episode at the start of 75 y...</td>\n",
       "      <td>2021-03-30</td>\n",
       "      <td>2021</td>\n",
       "      <td>[MannKiBaat]</td>\n",
       "      <td>[episode, start, year, independencevia]</td>\n",
       "    </tr>\n",
       "    <tr>\n",
       "      <th>12122</th>\n",
       "      <td>#MannKiBaat\\nIndia’s Nari Shakti excels at spo...</td>\n",
       "      <td>2021-03-30</td>\n",
       "      <td>2021</td>\n",
       "      <td>[MannKiBaat]</td>\n",
       "      <td>[nari, shakti, excels, sportsvia]</td>\n",
       "    </tr>\n",
       "  </tbody>\n",
       "</table>\n",
       "<p>12123 rows × 5 columns</p>\n",
       "</div>"
      ],
      "text/plain": [
       "                                                    Text        Date  Year  \\\n",
       "0      No violation by @narendramodi :Election Commis...  2014-10-11  2014   \n",
       "1      #PMModi's #MannKiBaat radio show: #ElectionCom...  2014-10-10  2014   \n",
       "2      #MannKiBaat #Sobtian #FanGal\\nDil Humko Kabhi ...  2014-10-10  2014   \n",
       "3      #Congress lodges complaint with #EC against #M...  2014-10-06  2014   \n",
       "4      #Congress lodges complaint with EC against PM ...  2014-10-06  2014   \n",
       "...                                                  ...         ...   ...   \n",
       "12118  #MannKiBaat\\nWorld’s largest vaccination progr...  2021-03-30  2021   \n",
       "12119  #MannKiBaat\\nSacrifices that inspire us toward...  2021-03-30  2021   \n",
       "12120  #MannKiBaat\\nNari Shakti leading from the fron...  2021-03-30  2021   \n",
       "12121  #MannKiBaat\\n75th episode at the start of 75 y...  2021-03-30  2021   \n",
       "12122  #MannKiBaat\\nIndia’s Nari Shakti excels at spo...  2021-03-30  2021   \n",
       "\n",
       "                                         hashtag  \\\n",
       "0                                   [MannKiBaat]   \n",
       "1       [PMModi, MannKiBaat, ElectionCommission]   \n",
       "2      [MannKiBaat, Sobtian, FanGal, BarunSobti]   \n",
       "3               [Congress, EC, Modi, MannKiBaat]   \n",
       "4           [Congress, NarendraModi, MannKiBaat]   \n",
       "...                                          ...   \n",
       "12118                               [MannKiBaat]   \n",
       "12119                               [MannKiBaat]   \n",
       "12120                               [MannKiBaat]   \n",
       "12121                               [MannKiBaat]   \n",
       "12122                               [MannKiBaat]   \n",
       "\n",
       "                                                 Cleaned  \n",
       "0                      [violation, election, commission]  \n",
       "1      [radio, show, say, broadcast, violate, model, ...  \n",
       "2      [humko, kabhi, samjhata, haihum, dilko, kabhi,...  \n",
       "3                            [lodge, complaint, program]  \n",
       "4              [lodge, complaint, program, india, radio]  \n",
       "...                                                  ...  \n",
       "12118               [largest, vaccination, programmevia]  \n",
       "12119                      [inspire, towards, dutiesvia]  \n",
       "12120                        [shakti, leading, frontvia]  \n",
       "12121            [episode, start, year, independencevia]  \n",
       "12122                  [nari, shakti, excels, sportsvia]  \n",
       "\n",
       "[12123 rows x 5 columns]"
      ]
     },
     "execution_count": 30,
     "metadata": {},
     "output_type": "execute_result"
    }
   ],
   "source": [
    "new_df"
   ]
  },
  {
   "cell_type": "code",
   "execution_count": null,
   "metadata": {},
   "outputs": [],
   "source": [
    "new_df.to_csv('cleaned_tweets.csv')"
   ]
  }
 ],
 "metadata": {
  "kernelspec": {
   "display_name": "Python 3",
   "language": "python",
   "name": "python3"
  },
  "language_info": {
   "codemirror_mode": {
    "name": "ipython",
    "version": 3
   },
   "file_extension": ".py",
   "mimetype": "text/x-python",
   "name": "python",
   "nbconvert_exporter": "python",
   "pygments_lexer": "ipython3",
   "version": "3.8.5"
  }
 },
 "nbformat": 4,
 "nbformat_minor": 4
}
